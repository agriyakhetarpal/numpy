{
    "nbformat": 4,
    "nbformat_minor": 5,
    "metadata": {
        "kernelspec": {
            "display_name": "Python",
            "language": "python",
            "name": "python"
        },
        "language_info": {
            "name": "python"
        }
    },
    "cells": [
        {
            "id": "7961a84f",
            "cell_type": "markdown",
            "source": "<div class='alert alert-warning'>\n\nNumPy's interactive examples are experimental and may not always work as expected, with high load times especially on low-resource platforms, , and the version of NumPy might not be in sync with the one you are browsing the documentation for. If you encounter any issues, please report them on the [NumPy issue tracker](https://github.com/numpy/numpy/issues).\n\n</div>",
            "metadata": {}
        },
        {
            "id": "941a31ae",
            "cell_type": "code",
            "metadata": {},
            "execution_count": null,
            "source": "import numpy as np",
            "outputs": []
        },
        {
            "id": "6fcdaf94",
            "cell_type": "code",
            "metadata": {},
            "execution_count": null,
            "source": "np.isscalar(3.1)",
            "outputs": [
                {
                    "output_type": "execute_result",
                    "metadata": {},
                    "data": {
                        "text/plain": "True"
                    },
                    "execution_count": null
                }
            ]
        },
        {
            "id": "449a49fc",
            "cell_type": "code",
            "metadata": {},
            "execution_count": null,
            "source": "np.isscalar(np.array(3.1))",
            "outputs": [
                {
                    "output_type": "execute_result",
                    "metadata": {},
                    "data": {
                        "text/plain": "False"
                    },
                    "execution_count": null
                }
            ]
        },
        {
            "id": "d0ca5adb",
            "cell_type": "code",
            "metadata": {},
            "execution_count": null,
            "source": "np.isscalar([3.1])",
            "outputs": [
                {
                    "output_type": "execute_result",
                    "metadata": {},
                    "data": {
                        "text/plain": "False"
                    },
                    "execution_count": null
                }
            ]
        },
        {
            "id": "63a77592",
            "cell_type": "code",
            "metadata": {},
            "execution_count": null,
            "source": "np.isscalar(False)",
            "outputs": [
                {
                    "output_type": "execute_result",
                    "metadata": {},
                    "data": {
                        "text/plain": "True"
                    },
                    "execution_count": null
                }
            ]
        },
        {
            "id": "424e0dc7",
            "cell_type": "code",
            "metadata": {},
            "execution_count": null,
            "source": "np.isscalar('numpy')",
            "outputs": [
                {
                    "output_type": "execute_result",
                    "metadata": {},
                    "data": {
                        "text/plain": "True"
                    },
                    "execution_count": null
                }
            ]
        },
        {
            "id": "8ac2f4aa",
            "cell_type": "markdown",
            "source": "NumPy supports PEP 3141 numbers:\n",
            "metadata": {}
        },
        {
            "id": "9b8de49e",
            "cell_type": "code",
            "metadata": {},
            "execution_count": null,
            "source": "from fractions import Fraction\nnp.isscalar(Fraction(5, 17))",
            "outputs": [
                {
                    "output_type": "execute_result",
                    "metadata": {},
                    "data": {
                        "text/plain": "True"
                    },
                    "execution_count": null
                }
            ]
        },
        {
            "id": "e6791b58",
            "cell_type": "code",
            "metadata": {},
            "execution_count": null,
            "source": "from numbers import Number\nnp.isscalar(Number())",
            "outputs": [
                {
                    "output_type": "execute_result",
                    "metadata": {},
                    "data": {
                        "text/plain": "True"
                    },
                    "execution_count": null
                }
            ]
        }
    ]
}