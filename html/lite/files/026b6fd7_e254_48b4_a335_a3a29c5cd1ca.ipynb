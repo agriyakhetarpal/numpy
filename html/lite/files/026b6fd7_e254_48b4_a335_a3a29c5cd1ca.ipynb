{
    "nbformat": 4,
    "nbformat_minor": 5,
    "metadata": {
        "kernelspec": {
            "display_name": "Python",
            "language": "python",
            "name": "python"
        },
        "language_info": {
            "name": "python"
        }
    },
    "cells": [
        {
            "id": "7329f52b",
            "cell_type": "markdown",
            "source": "<div class='alert alert-warning'>\n\nNumPy's interactive examples are experimental and may not always work as expected, with high load times especially on low-resource platforms, , and the version of NumPy might not be in sync with the one you are browsing the documentation for. If you encounter any issues, please report them on the [NumPy issue tracker](https://github.com/numpy/numpy/issues).\n\n</div>",
            "metadata": {}
        },
        {
            "id": "b9d2b495",
            "cell_type": "code",
            "metadata": {},
            "execution_count": null,
            "source": "import numpy as np\na = np.arange(10).reshape(2, 5)\na",
            "outputs": [
                {
                    "output_type": "execute_result",
                    "metadata": {},
                    "data": {
                        "text/plain": "array([[0, 1, 2, 3, 4],\n       [5, 6, 7, 8, 9]])"
                    },
                    "execution_count": null
                }
            ]
        },
        {
            "id": "f38aeb5a",
            "cell_type": "code",
            "metadata": {},
            "execution_count": null,
            "source": "ixgrid = np.ix_([0, 1], [2, 4])\nixgrid",
            "outputs": [
                {
                    "output_type": "execute_result",
                    "metadata": {},
                    "data": {
                        "text/plain": "(array([[0],\n       [1]]), array([[2, 4]]))"
                    },
                    "execution_count": null
                }
            ]
        },
        {
            "id": "6d8e1955",
            "cell_type": "code",
            "metadata": {},
            "execution_count": null,
            "source": "ixgrid[0].shape, ixgrid[1].shape",
            "outputs": [
                {
                    "output_type": "execute_result",
                    "metadata": {},
                    "data": {
                        "text/plain": "((2, 1), (1, 2))"
                    },
                    "execution_count": null
                }
            ]
        },
        {
            "id": "87dca03a",
            "cell_type": "code",
            "metadata": {},
            "execution_count": null,
            "source": "a[ixgrid]",
            "outputs": [
                {
                    "output_type": "execute_result",
                    "metadata": {},
                    "data": {
                        "text/plain": "array([[2, 4],\n       [7, 9]])"
                    },
                    "execution_count": null
                }
            ]
        },
        {
            "id": "99f0ba9d",
            "cell_type": "code",
            "metadata": {},
            "execution_count": null,
            "source": "ixgrid = np.ix_([True, True], [2, 4])\na[ixgrid]",
            "outputs": [
                {
                    "output_type": "execute_result",
                    "metadata": {},
                    "data": {
                        "text/plain": "array([[2, 4],\n       [7, 9]])"
                    },
                    "execution_count": null
                }
            ]
        },
        {
            "id": "cb550c61",
            "cell_type": "code",
            "metadata": {},
            "execution_count": null,
            "source": "ixgrid = np.ix_([True, True], [False, False, True, False, True])\na[ixgrid]",
            "outputs": [
                {
                    "output_type": "execute_result",
                    "metadata": {},
                    "data": {
                        "text/plain": "array([[2, 4],\n       [7, 9]])"
                    },
                    "execution_count": null
                }
            ]
        }
    ]
}