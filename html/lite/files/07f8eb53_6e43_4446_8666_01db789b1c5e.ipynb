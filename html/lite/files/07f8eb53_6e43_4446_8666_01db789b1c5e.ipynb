{
    "nbformat": 4,
    "nbformat_minor": 5,
    "metadata": {
        "kernelspec": {
            "display_name": "Python",
            "language": "python",
            "name": "python"
        },
        "language_info": {
            "name": "python"
        }
    },
    "cells": [
        {
            "id": "d85c2044",
            "cell_type": "markdown",
            "source": "<div class='alert alert-warning'>\n\nNumPy's interactive examples are experimental and may not always work as expected, with high load times especially on low-resource platforms, , and the version of NumPy might not be in sync with the one you are browsing the documentation for. If you encounter any issues, please report them on the [NumPy issue tracker](https://github.com/numpy/numpy/issues).\n\n</div>",
            "metadata": {}
        },
        {
            "id": "3badccc6",
            "cell_type": "code",
            "metadata": {},
            "execution_count": null,
            "source": "import numpy as np",
            "outputs": []
        },
        {
            "id": "6d977bc8",
            "cell_type": "code",
            "metadata": {},
            "execution_count": null,
            "source": "def square(a, out=None):\n    it = np.nditer([a, out],\n            flags = ['external_loop', 'buffered'],\n            op_flags = [['readonly'],\n                        ['writeonly', 'allocate', 'no_broadcast']])\n    with it:\n        for x, y in it:\n            y[...] = x*x\n        return it.operands[1]\n",
            "outputs": []
        },
        {
            "id": "cbcc597d",
            "cell_type": "code",
            "metadata": {},
            "execution_count": null,
            "source": "square([1,2,3])",
            "outputs": [
                {
                    "output_type": "execute_result",
                    "metadata": {},
                    "data": {
                        "text/plain": "array([1, 4, 9])"
                    },
                    "execution_count": null
                }
            ]
        },
        {
            "id": "fa2086ad",
            "cell_type": "code",
            "metadata": {},
            "execution_count": null,
            "source": "b = np.zeros((3,))\nsquare([1,2,3], out=b)",
            "outputs": [
                {
                    "output_type": "execute_result",
                    "metadata": {},
                    "data": {
                        "text/plain": "array([1.,  4.,  9.])"
                    },
                    "execution_count": null
                }
            ]
        },
        {
            "id": "a5e1e9f2",
            "cell_type": "code",
            "metadata": {},
            "execution_count": null,
            "source": "b",
            "outputs": [
                {
                    "output_type": "execute_result",
                    "metadata": {},
                    "data": {
                        "text/plain": "array([1.,  4.,  9.])"
                    },
                    "execution_count": null
                }
            ]
        },
        {
            "id": "20a7a9e3",
            "cell_type": "code",
            "metadata": {},
            "execution_count": null,
            "source": "square(np.arange(6).reshape(2,3), out=b)",
            "outputs": [
                {
                    "output_type": "execute_result",
                    "metadata": {},
                    "data": {
                        "text/plain": "Traceback (most recent call last):\n  ...\nValueError: non-broadcastable output operand with shape (3,) doesn't\nmatch the broadcast shape (2,3)"
                    },
                    "execution_count": null
                }
            ]
        }
    ]
}