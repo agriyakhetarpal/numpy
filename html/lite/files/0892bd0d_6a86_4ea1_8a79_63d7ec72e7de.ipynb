{
    "nbformat": 4,
    "nbformat_minor": 5,
    "metadata": {
        "kernelspec": {
            "display_name": "Python",
            "language": "python",
            "name": "python"
        },
        "language_info": {
            "name": "python"
        }
    },
    "cells": [
        {
            "id": "545ee875",
            "cell_type": "markdown",
            "source": "<div class='alert alert-warning'>\n\nNumPy's interactive examples are experimental and may not always work as expected, with high load times especially on low-resource platforms, , and the version of NumPy might not be in sync with the one you are browsing the documentation for. If you encounter any issues, please report them on the [NumPy issue tracker](https://github.com/numpy/numpy/issues).\n\n</div>",
            "metadata": {}
        },
        {
            "id": "799663c0",
            "cell_type": "code",
            "metadata": {},
            "execution_count": null,
            "source": "import numpy as np\nnp.remainder([4, 7], [2, 3])",
            "outputs": [
                {
                    "output_type": "execute_result",
                    "metadata": {},
                    "data": {
                        "text/plain": "array([0, 1])"
                    },
                    "execution_count": null
                }
            ]
        },
        {
            "id": "c49583f6",
            "cell_type": "code",
            "metadata": {},
            "execution_count": null,
            "source": "np.remainder(np.arange(7), 5)",
            "outputs": [
                {
                    "output_type": "execute_result",
                    "metadata": {},
                    "data": {
                        "text/plain": "array([0, 1, 2, 3, 4, 0, 1])"
                    },
                    "execution_count": null
                }
            ]
        },
        {
            "id": "d36860f3",
            "cell_type": "markdown",
            "source": "The ``%`` operator can be used as a shorthand for ``np.remainder`` on\nndarrays.\n",
            "metadata": {}
        },
        {
            "id": "5d4fc64c",
            "cell_type": "code",
            "metadata": {},
            "execution_count": null,
            "source": "x1 = np.arange(7)\nx1 % 5",
            "outputs": [
                {
                    "output_type": "execute_result",
                    "metadata": {},
                    "data": {
                        "text/plain": "array([0, 1, 2, 3, 4, 0, 1])"
                    },
                    "execution_count": null
                }
            ]
        }
    ]
}