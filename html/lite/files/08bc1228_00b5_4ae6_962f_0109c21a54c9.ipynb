{
    "nbformat": 4,
    "nbformat_minor": 5,
    "metadata": {
        "kernelspec": {
            "display_name": "Python",
            "language": "python",
            "name": "python"
        },
        "language_info": {
            "name": "python"
        }
    },
    "cells": [
        {
            "id": "be9b49c4",
            "cell_type": "markdown",
            "source": "<div class='alert alert-warning'>\n\nNumPy's interactive examples are experimental and may not always work as expected, with high load times especially on low-resource platforms, , and the version of NumPy might not be in sync with the one you are browsing the documentation for. If you encounter any issues, please report them on the [NumPy issue tracker](https://github.com/numpy/numpy/issues).\n\n</div>",
            "metadata": {}
        },
        {
            "id": "141534d9",
            "cell_type": "code",
            "metadata": {},
            "execution_count": null,
            "source": "import numpy as np\nolderr = np.seterr(all='ignore')  # Set error handling to known state.",
            "outputs": []
        },
        {
            "id": "89a9f84d",
            "cell_type": "code",
            "metadata": {},
            "execution_count": null,
            "source": "np.arange(3) / 0.",
            "outputs": [
                {
                    "output_type": "execute_result",
                    "metadata": {},
                    "data": {
                        "text/plain": "array([nan, inf, inf])"
                    },
                    "execution_count": null
                }
            ]
        },
        {
            "id": "a9de117c",
            "cell_type": "code",
            "metadata": {},
            "execution_count": null,
            "source": "with np.errstate(divide='ignore'):\n    np.arange(3) / 0.",
            "outputs": [
                {
                    "output_type": "execute_result",
                    "metadata": {},
                    "data": {
                        "text/plain": "array([nan, inf, inf])"
                    },
                    "execution_count": null
                }
            ]
        },
        {
            "id": "8008f030",
            "cell_type": "code",
            "metadata": {},
            "execution_count": null,
            "source": "np.sqrt(-1)",
            "outputs": [
                {
                    "output_type": "execute_result",
                    "metadata": {},
                    "data": {
                        "text/plain": "np.float64(nan)"
                    },
                    "execution_count": null
                }
            ]
        },
        {
            "id": "9664fd6d",
            "cell_type": "code",
            "metadata": {},
            "execution_count": null,
            "source": "with np.errstate(invalid='raise'):\n    np.sqrt(-1)",
            "outputs": [
                {
                    "output_type": "execute_result",
                    "metadata": {},
                    "data": {
                        "text/plain": "Traceback (most recent call last):\n  File \"<stdin>\", line 2, in <module>\nFloatingPointError: invalid value encountered in sqrt"
                    },
                    "execution_count": null
                }
            ]
        },
        {
            "id": "f65b4308",
            "cell_type": "markdown",
            "source": "Outside the context the error handling behavior has not changed:\n",
            "metadata": {}
        },
        {
            "id": "8e07186e",
            "cell_type": "code",
            "metadata": {},
            "execution_count": null,
            "source": "np.geterr()",
            "outputs": [
                {
                    "output_type": "execute_result",
                    "metadata": {},
                    "data": {
                        "text/plain": "{'divide': 'ignore', 'over': 'ignore', 'under': 'ignore', 'invalid': 'ignore'}"
                    },
                    "execution_count": null
                }
            ]
        },
        {
            "id": "601f7fae",
            "cell_type": "code",
            "metadata": {},
            "execution_count": null,
            "source": "olderr = np.seterr(**olderr)  # restore original state",
            "outputs": []
        }
    ]
}