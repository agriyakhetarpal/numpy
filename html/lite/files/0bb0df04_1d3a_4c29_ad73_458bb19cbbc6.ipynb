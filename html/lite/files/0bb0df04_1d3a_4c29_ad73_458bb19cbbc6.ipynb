{
    "nbformat": 4,
    "nbformat_minor": 5,
    "metadata": {
        "kernelspec": {
            "display_name": "Python",
            "language": "python",
            "name": "python"
        },
        "language_info": {
            "name": "python"
        }
    },
    "cells": [
        {
            "id": "ecc7cfc2",
            "cell_type": "markdown",
            "source": "<div class='alert alert-warning'>\n\nNumPy's interactive examples are experimental and may not always work as expected, with high load times especially on low-resource platforms, , and the version of NumPy might not be in sync with the one you are browsing the documentation for. If you encounter any issues, please report them on the [NumPy issue tracker](https://github.com/numpy/numpy/issues).\n\n</div>",
            "metadata": {}
        },
        {
            "id": "31a52784",
            "cell_type": "markdown",
            "source": "Ordinary inner product for vectors:\n",
            "metadata": {}
        },
        {
            "id": "4cef355e",
            "cell_type": "code",
            "metadata": {},
            "execution_count": null,
            "source": "import numpy as np\na = np.array([1,2,3])\nb = np.array([0,1,0])\nnp.inner(a, b)",
            "outputs": [
                {
                    "output_type": "execute_result",
                    "metadata": {},
                    "data": {
                        "text/plain": "2"
                    },
                    "execution_count": null
                }
            ]
        },
        {
            "id": "8f39f183",
            "cell_type": "markdown",
            "source": "Some multidimensional examples:\n",
            "metadata": {}
        },
        {
            "id": "d0e119ef",
            "cell_type": "code",
            "metadata": {},
            "execution_count": null,
            "source": "a = np.arange(24).reshape((2,3,4))\nb = np.arange(4)\nc = np.inner(a, b)\nc.shape",
            "outputs": [
                {
                    "output_type": "execute_result",
                    "metadata": {},
                    "data": {
                        "text/plain": "(2, 3)"
                    },
                    "execution_count": null
                }
            ]
        },
        {
            "id": "9e777679",
            "cell_type": "code",
            "metadata": {},
            "execution_count": null,
            "source": "c",
            "outputs": [
                {
                    "output_type": "execute_result",
                    "metadata": {},
                    "data": {
                        "text/plain": "array([[ 14,  38,  62],\n       [ 86, 110, 134]])"
                    },
                    "execution_count": null
                }
            ]
        },
        {
            "id": "07dbb979",
            "cell_type": "code",
            "metadata": {},
            "execution_count": null,
            "source": "a = np.arange(2).reshape((1,1,2))\nb = np.arange(6).reshape((3,2))\nc = np.inner(a, b)\nc.shape",
            "outputs": [
                {
                    "output_type": "execute_result",
                    "metadata": {},
                    "data": {
                        "text/plain": "(1, 1, 3)"
                    },
                    "execution_count": null
                }
            ]
        },
        {
            "id": "e6c9a596",
            "cell_type": "code",
            "metadata": {},
            "execution_count": null,
            "source": "c",
            "outputs": [
                {
                    "output_type": "execute_result",
                    "metadata": {},
                    "data": {
                        "text/plain": "array([[[1, 3, 5]]])"
                    },
                    "execution_count": null
                }
            ]
        },
        {
            "id": "1d8ac574",
            "cell_type": "markdown",
            "source": "An example where `b` is a scalar:\n",
            "metadata": {}
        },
        {
            "id": "7e97d1f3",
            "cell_type": "code",
            "metadata": {},
            "execution_count": null,
            "source": "np.inner(np.eye(2), 7)",
            "outputs": [
                {
                    "output_type": "execute_result",
                    "metadata": {},
                    "data": {
                        "text/plain": "array([[7., 0.],\n       [0., 7.]])"
                    },
                    "execution_count": null
                }
            ]
        }
    ]
}