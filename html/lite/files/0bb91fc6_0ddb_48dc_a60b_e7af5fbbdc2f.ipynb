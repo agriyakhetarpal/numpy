{
    "nbformat": 4,
    "nbformat_minor": 5,
    "metadata": {
        "kernelspec": {
            "display_name": "Python",
            "language": "python",
            "name": "python"
        },
        "language_info": {
            "name": "python"
        }
    },
    "cells": [
        {
            "id": "71e45530",
            "cell_type": "markdown",
            "source": "<div class='alert alert-warning'>\n\nNumPy's interactive examples are experimental and may not always work as expected, with high load times especially on low-resource platforms, , and the version of NumPy might not be in sync with the one you are browsing the documentation for. If you encounter any issues, please report them on the [NumPy issue tracker](https://github.com/numpy/numpy/issues).\n\n</div>",
            "metadata": {}
        },
        {
            "id": "14b74ba7",
            "cell_type": "code",
            "metadata": {},
            "execution_count": null,
            "source": "import numpy as np\nnp.full((2, 2), np.inf)",
            "outputs": [
                {
                    "output_type": "execute_result",
                    "metadata": {},
                    "data": {
                        "text/plain": "array([[inf, inf],\n       [inf, inf]])"
                    },
                    "execution_count": null
                }
            ]
        },
        {
            "id": "b3285737",
            "cell_type": "code",
            "metadata": {},
            "execution_count": null,
            "source": "np.full((2, 2), 10)",
            "outputs": [
                {
                    "output_type": "execute_result",
                    "metadata": {},
                    "data": {
                        "text/plain": "array([[10, 10],\n       [10, 10]])"
                    },
                    "execution_count": null
                }
            ]
        },
        {
            "id": "762adc92",
            "cell_type": "code",
            "metadata": {},
            "execution_count": null,
            "source": "np.full((2, 2), [1, 2])",
            "outputs": [
                {
                    "output_type": "execute_result",
                    "metadata": {},
                    "data": {
                        "text/plain": "array([[1, 2],\n       [1, 2]])"
                    },
                    "execution_count": null
                }
            ]
        }
    ]
}