{
    "nbformat": 4,
    "nbformat_minor": 5,
    "metadata": {
        "kernelspec": {
            "display_name": "Python",
            "language": "python",
            "name": "python"
        },
        "language_info": {
            "name": "python"
        }
    },
    "cells": [
        {
            "id": "45529f36",
            "cell_type": "markdown",
            "source": "<div class='alert alert-warning'>\n\nNumPy's interactive examples are experimental and may not always work as expected, with high load times especially on low-resource platforms, , and the version of NumPy might not be in sync with the one you are browsing the documentation for. If you encounter any issues, please report them on the [NumPy issue tracker](https://github.com/numpy/numpy/issues).\n\n</div>",
            "metadata": {}
        },
        {
            "id": "0ad97dda",
            "cell_type": "code",
            "metadata": {},
            "execution_count": null,
            "source": "import numpy as np\na = np.arange(4).reshape((2,2))\na",
            "outputs": [
                {
                    "output_type": "execute_result",
                    "metadata": {},
                    "data": {
                        "text/plain": "array([[0, 1],\n       [2, 3]])"
                    },
                    "execution_count": null
                }
            ]
        },
        {
            "id": "681711d6",
            "cell_type": "code",
            "metadata": {},
            "execution_count": null,
            "source": "np.min(a)           # Minimum of the flattened array",
            "outputs": [
                {
                    "output_type": "execute_result",
                    "metadata": {},
                    "data": {
                        "text/plain": "0"
                    },
                    "execution_count": null
                }
            ]
        },
        {
            "id": "1be01aff",
            "cell_type": "code",
            "metadata": {},
            "execution_count": null,
            "source": "np.min(a, axis=0)   # Minima along the first axis",
            "outputs": [
                {
                    "output_type": "execute_result",
                    "metadata": {},
                    "data": {
                        "text/plain": "array([0, 1])"
                    },
                    "execution_count": null
                }
            ]
        },
        {
            "id": "644a0842",
            "cell_type": "code",
            "metadata": {},
            "execution_count": null,
            "source": "np.min(a, axis=1)   # Minima along the second axis",
            "outputs": [
                {
                    "output_type": "execute_result",
                    "metadata": {},
                    "data": {
                        "text/plain": "array([0, 2])"
                    },
                    "execution_count": null
                }
            ]
        },
        {
            "id": "942a89ac",
            "cell_type": "code",
            "metadata": {},
            "execution_count": null,
            "source": "np.min(a, where=[False, True], initial=10, axis=0)",
            "outputs": [
                {
                    "output_type": "execute_result",
                    "metadata": {},
                    "data": {
                        "text/plain": "array([10,  1])"
                    },
                    "execution_count": null
                }
            ]
        },
        {
            "id": "43795d4e",
            "cell_type": "code",
            "metadata": {},
            "execution_count": null,
            "source": "b = np.arange(5, dtype=float)\nb[2] = np.nan\nnp.min(b)",
            "outputs": [
                {
                    "output_type": "execute_result",
                    "metadata": {},
                    "data": {
                        "text/plain": "np.float64(nan)"
                    },
                    "execution_count": null
                }
            ]
        },
        {
            "id": "0500f865",
            "cell_type": "code",
            "metadata": {},
            "execution_count": null,
            "source": "np.min(b, where=~np.isnan(b), initial=10)",
            "outputs": [
                {
                    "output_type": "execute_result",
                    "metadata": {},
                    "data": {
                        "text/plain": "0.0"
                    },
                    "execution_count": null
                }
            ]
        },
        {
            "id": "5e429489",
            "cell_type": "code",
            "metadata": {},
            "execution_count": null,
            "source": "np.nanmin(b)",
            "outputs": [
                {
                    "output_type": "execute_result",
                    "metadata": {},
                    "data": {
                        "text/plain": "0.0"
                    },
                    "execution_count": null
                }
            ]
        },
        {
            "id": "00b84106",
            "cell_type": "code",
            "metadata": {},
            "execution_count": null,
            "source": "np.min([[-50], [10]], axis=-1, initial=0)",
            "outputs": [
                {
                    "output_type": "execute_result",
                    "metadata": {},
                    "data": {
                        "text/plain": "array([-50,   0])"
                    },
                    "execution_count": null
                }
            ]
        },
        {
            "id": "e3499a63",
            "cell_type": "markdown",
            "source": "Notice that the initial value is used as one of the elements for which the\nminimum is determined, unlike for the default argument Python's max\nfunction, which is only used for empty iterables.\n\nNotice that this isn't the same as Python's ``default`` argument.\n",
            "metadata": {}
        },
        {
            "id": "3b3644b1",
            "cell_type": "code",
            "metadata": {},
            "execution_count": null,
            "source": "np.min([6], initial=5)",
            "outputs": [
                {
                    "output_type": "execute_result",
                    "metadata": {},
                    "data": {
                        "text/plain": "5"
                    },
                    "execution_count": null
                }
            ]
        },
        {
            "id": "cb53430c",
            "cell_type": "code",
            "metadata": {},
            "execution_count": null,
            "source": "min([6], default=5)",
            "outputs": [
                {
                    "output_type": "execute_result",
                    "metadata": {},
                    "data": {
                        "text/plain": "6"
                    },
                    "execution_count": null
                }
            ]
        }
    ]
}