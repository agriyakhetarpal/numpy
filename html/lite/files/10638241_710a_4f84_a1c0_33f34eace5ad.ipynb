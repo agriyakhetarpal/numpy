{
    "nbformat": 4,
    "nbformat_minor": 5,
    "metadata": {
        "kernelspec": {
            "display_name": "Python",
            "language": "python",
            "name": "python"
        },
        "language_info": {
            "name": "python"
        }
    },
    "cells": [
        {
            "id": "79dec903",
            "cell_type": "markdown",
            "source": "<div class='alert alert-warning'>\n\nNumPy's interactive examples are experimental and may not always work as expected, with high load times especially on low-resource platforms, , and the version of NumPy might not be in sync with the one you are browsing the documentation for. If you encounter any issues, please report them on the [NumPy issue tracker](https://github.com/numpy/numpy/issues).\n\n</div>",
            "metadata": {}
        },
        {
            "id": "18a1eeb8",
            "cell_type": "code",
            "metadata": {},
            "execution_count": null,
            "source": "import numpy as np\narr = np.arange(12).reshape((3, 4))\narr",
            "outputs": [
                {
                    "output_type": "execute_result",
                    "metadata": {},
                    "data": {
                        "text/plain": "array([[ 0,  1,  2,  3],\n       [ 4,  5,  6,  7],\n       [ 8,  9, 10, 11]])"
                    },
                    "execution_count": null
                }
            ]
        },
        {
            "id": "014ed9dc",
            "cell_type": "code",
            "metadata": {},
            "execution_count": null,
            "source": "condition = np.mod(arr, 3)==0\ncondition",
            "outputs": [
                {
                    "output_type": "execute_result",
                    "metadata": {},
                    "data": {
                        "text/plain": "array([[ True, False, False,  True],\n       [False, False,  True, False],\n       [False,  True, False, False]])"
                    },
                    "execution_count": null
                }
            ]
        },
        {
            "id": "5fdf0607",
            "cell_type": "code",
            "metadata": {},
            "execution_count": null,
            "source": "np.extract(condition, arr)",
            "outputs": [
                {
                    "output_type": "execute_result",
                    "metadata": {},
                    "data": {
                        "text/plain": "array([0, 3, 6, 9])"
                    },
                    "execution_count": null
                }
            ]
        },
        {
            "id": "4d569f8c",
            "cell_type": "markdown",
            "source": "If `condition` is boolean:\n",
            "metadata": {}
        },
        {
            "id": "6970ac9c",
            "cell_type": "code",
            "metadata": {},
            "execution_count": null,
            "source": "arr[condition]",
            "outputs": [
                {
                    "output_type": "execute_result",
                    "metadata": {},
                    "data": {
                        "text/plain": "array([0, 3, 6, 9])"
                    },
                    "execution_count": null
                }
            ]
        }
    ]
}