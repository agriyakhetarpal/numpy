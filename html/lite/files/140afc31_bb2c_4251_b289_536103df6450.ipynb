{
    "nbformat": 4,
    "nbformat_minor": 5,
    "metadata": {
        "kernelspec": {
            "display_name": "Python",
            "language": "python",
            "name": "python"
        },
        "language_info": {
            "name": "python"
        }
    },
    "cells": [
        {
            "id": "6ae3092a",
            "cell_type": "markdown",
            "source": "<div class='alert alert-warning'>\n\nNumPy's interactive examples are experimental and may not always work as expected, with high load times especially on low-resource platforms, , and the version of NumPy might not be in sync with the one you are browsing the documentation for. If you encounter any issues, please report them on the [NumPy issue tracker](https://github.com/numpy/numpy/issues).\n\n</div>",
            "metadata": {}
        },
        {
            "id": "972db6e7",
            "cell_type": "markdown",
            "source": "By default, calculate the product of all elements:\n",
            "metadata": {}
        },
        {
            "id": "260dbdd2",
            "cell_type": "code",
            "metadata": {},
            "execution_count": null,
            "source": "import numpy as np\nnp.prod([1.,2.])",
            "outputs": [
                {
                    "output_type": "execute_result",
                    "metadata": {},
                    "data": {
                        "text/plain": "2.0"
                    },
                    "execution_count": null
                }
            ]
        },
        {
            "id": "1f6f996a",
            "cell_type": "markdown",
            "source": "Even when the input array is two-dimensional:\n",
            "metadata": {}
        },
        {
            "id": "c1a522ae",
            "cell_type": "code",
            "metadata": {},
            "execution_count": null,
            "source": "a = np.array([[1., 2.], [3., 4.]])\nnp.prod(a)",
            "outputs": [
                {
                    "output_type": "execute_result",
                    "metadata": {},
                    "data": {
                        "text/plain": "24.0"
                    },
                    "execution_count": null
                }
            ]
        },
        {
            "id": "8df0018d",
            "cell_type": "markdown",
            "source": "But we can also specify the axis over which to multiply:\n",
            "metadata": {}
        },
        {
            "id": "ef48d3ab",
            "cell_type": "code",
            "metadata": {},
            "execution_count": null,
            "source": "np.prod(a, axis=1)",
            "outputs": [
                {
                    "output_type": "execute_result",
                    "metadata": {},
                    "data": {
                        "text/plain": "array([  2.,  12.])"
                    },
                    "execution_count": null
                }
            ]
        },
        {
            "id": "6a0eb33b",
            "cell_type": "code",
            "metadata": {},
            "execution_count": null,
            "source": "np.prod(a, axis=0)",
            "outputs": [
                {
                    "output_type": "execute_result",
                    "metadata": {},
                    "data": {
                        "text/plain": "array([3., 8.])"
                    },
                    "execution_count": null
                }
            ]
        },
        {
            "id": "e9e0030d",
            "cell_type": "markdown",
            "source": "Or select specific elements to include:\n",
            "metadata": {}
        },
        {
            "id": "dfa4885a",
            "cell_type": "code",
            "metadata": {},
            "execution_count": null,
            "source": "np.prod([1., np.nan, 3.], where=[True, False, True])",
            "outputs": [
                {
                    "output_type": "execute_result",
                    "metadata": {},
                    "data": {
                        "text/plain": "3.0"
                    },
                    "execution_count": null
                }
            ]
        },
        {
            "id": "b5675ea4",
            "cell_type": "markdown",
            "source": "If the type of `x` is unsigned, then the output type is\nthe unsigned platform integer:\n",
            "metadata": {}
        },
        {
            "id": "1b437779",
            "cell_type": "code",
            "metadata": {},
            "execution_count": null,
            "source": "x = np.array([1, 2, 3], dtype=np.uint8)\nnp.prod(x).dtype == np.uint",
            "outputs": [
                {
                    "output_type": "execute_result",
                    "metadata": {},
                    "data": {
                        "text/plain": "True"
                    },
                    "execution_count": null
                }
            ]
        },
        {
            "id": "336f9619",
            "cell_type": "markdown",
            "source": "If `x` is of a signed integer type, then the output type\nis the default platform integer:\n",
            "metadata": {}
        },
        {
            "id": "108e62bf",
            "cell_type": "code",
            "metadata": {},
            "execution_count": null,
            "source": "x = np.array([1, 2, 3], dtype=np.int8)\nnp.prod(x).dtype == int",
            "outputs": [
                {
                    "output_type": "execute_result",
                    "metadata": {},
                    "data": {
                        "text/plain": "True"
                    },
                    "execution_count": null
                }
            ]
        },
        {
            "id": "29c0cebd",
            "cell_type": "markdown",
            "source": "You can also start the product with a value other than one:\n",
            "metadata": {}
        },
        {
            "id": "e9542c48",
            "cell_type": "code",
            "metadata": {},
            "execution_count": null,
            "source": "np.prod([1, 2], initial=5)",
            "outputs": [
                {
                    "output_type": "execute_result",
                    "metadata": {},
                    "data": {
                        "text/plain": "10"
                    },
                    "execution_count": null
                }
            ]
        }
    ]
}