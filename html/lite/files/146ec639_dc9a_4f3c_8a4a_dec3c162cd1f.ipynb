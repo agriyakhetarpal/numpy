{
    "nbformat": 4,
    "nbformat_minor": 5,
    "metadata": {
        "kernelspec": {
            "display_name": "Python",
            "language": "python",
            "name": "python"
        },
        "language_info": {
            "name": "python"
        }
    },
    "cells": [
        {
            "id": "b2be4ac6",
            "cell_type": "markdown",
            "source": "<div class='alert alert-warning'>\n\nNumPy's interactive examples are experimental and may not always work as expected, with high load times especially on low-resource platforms, , and the version of NumPy might not be in sync with the one you are browsing the documentation for. If you encounter any issues, please report them on the [NumPy issue tracker](https://github.com/numpy/numpy/issues).\n\n</div>",
            "metadata": {}
        },
        {
            "id": "cbb5bf6b",
            "cell_type": "markdown",
            "source": "Draw 10,000 values from the geometric distribution, with the \nprobability of an individual success equal to ``p = 0.35``:\n",
            "metadata": {}
        },
        {
            "id": "048b5705",
            "cell_type": "code",
            "metadata": {},
            "execution_count": null,
            "source": "p, size = 0.35, 10000\nrng = np.random.default_rng()\nsample = rng.geometric(p=p, size=size)",
            "outputs": []
        },
        {
            "id": "ee9741a8",
            "cell_type": "markdown",
            "source": "What proportion of trials succeeded after a single run?\n",
            "metadata": {}
        },
        {
            "id": "2497dbbc",
            "cell_type": "code",
            "metadata": {},
            "execution_count": null,
            "source": "(sample == 1).sum()/size",
            "outputs": [
                {
                    "output_type": "execute_result",
                    "metadata": {},
                    "data": {
                        "text/plain": "0.34889999999999999  # may vary"
                    },
                    "execution_count": null
                }
            ]
        },
        {
            "id": "9df65dd9",
            "cell_type": "markdown",
            "source": "The geometric distribution with ``p=0.35`` looks as follows:\n",
            "metadata": {}
        },
        {
            "id": "30fbd90b",
            "cell_type": "code",
            "metadata": {},
            "execution_count": null,
            "source": "import matplotlib.pyplot as plt\ncount, bins, _ = plt.hist(sample, bins=30, density=True)\nplt.plot(bins, (1-p)**(bins-1)*p)\nplt.xlim([0, 25])\nplt.show()",
            "outputs": []
        }
    ]
}