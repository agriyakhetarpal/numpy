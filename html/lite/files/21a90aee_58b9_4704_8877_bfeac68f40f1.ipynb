{
    "nbformat": 4,
    "nbformat_minor": 5,
    "metadata": {
        "kernelspec": {
            "display_name": "Python",
            "language": "python",
            "name": "python"
        },
        "language_info": {
            "name": "python"
        }
    },
    "cells": [
        {
            "id": "3a2fe7ee",
            "cell_type": "markdown",
            "source": "<div class='alert alert-warning'>\n\nNumPy's interactive examples are experimental and may not always work as expected, with high load times especially on low-resource platforms, , and the version of NumPy might not be in sync with the one you are browsing the documentation for. If you encounter any issues, please report them on the [NumPy issue tracker](https://github.com/numpy/numpy/issues).\n\n</div>",
            "metadata": {}
        },
        {
            "id": "2d4fea87",
            "cell_type": "markdown",
            "source": "`issubdtype` can be used to check the type of arrays:\n",
            "metadata": {}
        },
        {
            "id": "96887708",
            "cell_type": "code",
            "metadata": {},
            "execution_count": null,
            "source": "ints = np.array([1, 2, 3], dtype=np.int32)\nnp.issubdtype(ints.dtype, np.integer)",
            "outputs": [
                {
                    "output_type": "execute_result",
                    "metadata": {},
                    "data": {
                        "text/plain": "True"
                    },
                    "execution_count": null
                }
            ]
        },
        {
            "id": "538c5978",
            "cell_type": "code",
            "metadata": {},
            "execution_count": null,
            "source": "np.issubdtype(ints.dtype, np.floating)",
            "outputs": [
                {
                    "output_type": "execute_result",
                    "metadata": {},
                    "data": {
                        "text/plain": "False"
                    },
                    "execution_count": null
                }
            ]
        },
        {
            "id": "d89d1672",
            "cell_type": "code",
            "metadata": {},
            "execution_count": null,
            "source": "floats = np.array([1, 2, 3], dtype=np.float32)\nnp.issubdtype(floats.dtype, np.integer)",
            "outputs": [
                {
                    "output_type": "execute_result",
                    "metadata": {},
                    "data": {
                        "text/plain": "False"
                    },
                    "execution_count": null
                }
            ]
        },
        {
            "id": "9bdc2af9",
            "cell_type": "code",
            "metadata": {},
            "execution_count": null,
            "source": "np.issubdtype(floats.dtype, np.floating)",
            "outputs": [
                {
                    "output_type": "execute_result",
                    "metadata": {},
                    "data": {
                        "text/plain": "True"
                    },
                    "execution_count": null
                }
            ]
        },
        {
            "id": "ddb6f45d",
            "cell_type": "markdown",
            "source": "Similar types of different sizes are not subdtypes of each other:\n",
            "metadata": {}
        },
        {
            "id": "650d5fc3",
            "cell_type": "code",
            "metadata": {},
            "execution_count": null,
            "source": "np.issubdtype(np.float64, np.float32)",
            "outputs": [
                {
                    "output_type": "execute_result",
                    "metadata": {},
                    "data": {
                        "text/plain": "False"
                    },
                    "execution_count": null
                }
            ]
        },
        {
            "id": "3ca5e786",
            "cell_type": "code",
            "metadata": {},
            "execution_count": null,
            "source": "np.issubdtype(np.float32, np.float64)",
            "outputs": [
                {
                    "output_type": "execute_result",
                    "metadata": {},
                    "data": {
                        "text/plain": "False"
                    },
                    "execution_count": null
                }
            ]
        },
        {
            "id": "69d19429",
            "cell_type": "markdown",
            "source": "but both are subtypes of `floating`:\n",
            "metadata": {}
        },
        {
            "id": "03516f17",
            "cell_type": "code",
            "metadata": {},
            "execution_count": null,
            "source": "np.issubdtype(np.float64, np.floating)",
            "outputs": [
                {
                    "output_type": "execute_result",
                    "metadata": {},
                    "data": {
                        "text/plain": "True"
                    },
                    "execution_count": null
                }
            ]
        },
        {
            "id": "2ef19aed",
            "cell_type": "code",
            "metadata": {},
            "execution_count": null,
            "source": "np.issubdtype(np.float32, np.floating)",
            "outputs": [
                {
                    "output_type": "execute_result",
                    "metadata": {},
                    "data": {
                        "text/plain": "True"
                    },
                    "execution_count": null
                }
            ]
        },
        {
            "id": "4f878b56",
            "cell_type": "markdown",
            "source": "For convenience, dtype-like objects are allowed too:\n",
            "metadata": {}
        },
        {
            "id": "04ed2e23",
            "cell_type": "code",
            "metadata": {},
            "execution_count": null,
            "source": "np.issubdtype('S1', np.bytes_)",
            "outputs": [
                {
                    "output_type": "execute_result",
                    "metadata": {},
                    "data": {
                        "text/plain": "True"
                    },
                    "execution_count": null
                }
            ]
        },
        {
            "id": "2a7ed284",
            "cell_type": "code",
            "metadata": {},
            "execution_count": null,
            "source": "np.issubdtype('i4', np.signedinteger)",
            "outputs": [
                {
                    "output_type": "execute_result",
                    "metadata": {},
                    "data": {
                        "text/plain": "True"
                    },
                    "execution_count": null
                }
            ]
        }
    ]
}