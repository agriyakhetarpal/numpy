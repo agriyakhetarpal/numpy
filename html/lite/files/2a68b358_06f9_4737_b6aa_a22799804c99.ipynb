{
    "nbformat": 4,
    "nbformat_minor": 5,
    "metadata": {
        "kernelspec": {
            "display_name": "Python",
            "language": "python",
            "name": "python"
        },
        "language_info": {
            "name": "python"
        }
    },
    "cells": [
        {
            "id": "b4ba8a47",
            "cell_type": "markdown",
            "source": "<div class='alert alert-warning'>\n\nNumPy's interactive examples are experimental and may not always work as expected, with high load times especially on low-resource platforms, , and the version of NumPy might not be in sync with the one you are browsing the documentation for. If you encounter any issues, please report them on the [NumPy issue tracker](https://github.com/numpy/numpy/issues).\n\n</div>",
            "metadata": {}
        },
        {
            "id": "af828222",
            "cell_type": "code",
            "metadata": {},
            "execution_count": null,
            "source": "import numpy as np\nimport numpy.ma as ma\nm = ma.masked_equal([0, 1, 0, 2, 3], 0)\nm",
            "outputs": [
                {
                    "output_type": "execute_result",
                    "metadata": {},
                    "data": {
                        "text/plain": "masked_array(data=[--, 1, --, 2, 3],\n             mask=[ True, False,  True, False, False],\n       fill_value=0)"
                    },
                    "execution_count": null
                }
            ]
        },
        {
            "id": "253c0162",
            "cell_type": "code",
            "metadata": {},
            "execution_count": null,
            "source": "ma.is_mask(m)",
            "outputs": [
                {
                    "output_type": "execute_result",
                    "metadata": {},
                    "data": {
                        "text/plain": "False"
                    },
                    "execution_count": null
                }
            ]
        },
        {
            "id": "378126e4",
            "cell_type": "code",
            "metadata": {},
            "execution_count": null,
            "source": "ma.is_mask(m.mask)",
            "outputs": [
                {
                    "output_type": "execute_result",
                    "metadata": {},
                    "data": {
                        "text/plain": "True"
                    },
                    "execution_count": null
                }
            ]
        },
        {
            "id": "16f69a8e",
            "cell_type": "markdown",
            "source": "Input must be an ndarray (or have similar attributes)\nfor it to be considered a valid mask.\n",
            "metadata": {}
        },
        {
            "id": "22a69d43",
            "cell_type": "code",
            "metadata": {},
            "execution_count": null,
            "source": "m = [False, True, False]\nma.is_mask(m)",
            "outputs": [
                {
                    "output_type": "execute_result",
                    "metadata": {},
                    "data": {
                        "text/plain": "False"
                    },
                    "execution_count": null
                }
            ]
        },
        {
            "id": "0221f8cc",
            "cell_type": "code",
            "metadata": {},
            "execution_count": null,
            "source": "m = np.array([False, True, False])\nm",
            "outputs": [
                {
                    "output_type": "execute_result",
                    "metadata": {},
                    "data": {
                        "text/plain": "array([False,  True, False])"
                    },
                    "execution_count": null
                }
            ]
        },
        {
            "id": "2060510c",
            "cell_type": "code",
            "metadata": {},
            "execution_count": null,
            "source": "ma.is_mask(m)",
            "outputs": [
                {
                    "output_type": "execute_result",
                    "metadata": {},
                    "data": {
                        "text/plain": "True"
                    },
                    "execution_count": null
                }
            ]
        },
        {
            "id": "063615b2",
            "cell_type": "markdown",
            "source": "Arrays with complex dtypes don't return True.\n",
            "metadata": {}
        },
        {
            "id": "6ae9424d",
            "cell_type": "code",
            "metadata": {},
            "execution_count": null,
            "source": "dtype = np.dtype({'names':['monty', 'pithon'],\n                  'formats':[bool, bool]})\ndtype",
            "outputs": [
                {
                    "output_type": "execute_result",
                    "metadata": {},
                    "data": {
                        "text/plain": "dtype([('monty', '|b1'), ('pithon', '|b1')])"
                    },
                    "execution_count": null
                }
            ]
        },
        {
            "id": "f6cb4b93",
            "cell_type": "code",
            "metadata": {},
            "execution_count": null,
            "source": "m = np.array([(True, False), (False, True), (True, False)],\n             dtype=dtype)\nm",
            "outputs": [
                {
                    "output_type": "execute_result",
                    "metadata": {},
                    "data": {
                        "text/plain": "array([( True, False), (False,  True), ( True, False)],\n      dtype=[('monty', '?'), ('pithon', '?')])"
                    },
                    "execution_count": null
                }
            ]
        },
        {
            "id": "fbb230bb",
            "cell_type": "code",
            "metadata": {},
            "execution_count": null,
            "source": "ma.is_mask(m)",
            "outputs": [
                {
                    "output_type": "execute_result",
                    "metadata": {},
                    "data": {
                        "text/plain": "False"
                    },
                    "execution_count": null
                }
            ]
        }
    ]
}