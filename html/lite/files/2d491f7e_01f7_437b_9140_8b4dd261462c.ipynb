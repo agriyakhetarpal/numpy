{
    "nbformat": 4,
    "nbformat_minor": 5,
    "metadata": {
        "kernelspec": {
            "display_name": "Python",
            "language": "python",
            "name": "python"
        },
        "language_info": {
            "name": "python"
        }
    },
    "cells": [
        {
            "id": "b1bf2098",
            "cell_type": "markdown",
            "source": "<div class='alert alert-warning'>\n\nNumPy's interactive examples are experimental and may not always work as expected, with high load times especially on low-resource platforms, , and the version of NumPy might not be in sync with the one you are browsing the documentation for. If you encounter any issues, please report them on the [NumPy issue tracker](https://github.com/numpy/numpy/issues).\n\n</div>",
            "metadata": {}
        },
        {
            "id": "9293c73b",
            "cell_type": "code",
            "metadata": {},
            "execution_count": null,
            "source": "import numpy as np\nnp.logspace(2.0, 3.0, num=4)",
            "outputs": [
                {
                    "output_type": "execute_result",
                    "metadata": {},
                    "data": {
                        "text/plain": "array([ 100.        ,  215.443469  ,  464.15888336, 1000.        ])"
                    },
                    "execution_count": null
                }
            ]
        },
        {
            "id": "a3356dd9",
            "cell_type": "code",
            "metadata": {},
            "execution_count": null,
            "source": "np.logspace(2.0, 3.0, num=4, endpoint=False)",
            "outputs": [
                {
                    "output_type": "execute_result",
                    "metadata": {},
                    "data": {
                        "text/plain": "array([100.        ,  177.827941  ,  316.22776602,  562.34132519])"
                    },
                    "execution_count": null
                }
            ]
        },
        {
            "id": "7277c306",
            "cell_type": "code",
            "metadata": {},
            "execution_count": null,
            "source": "np.logspace(2.0, 3.0, num=4, base=2.0)",
            "outputs": [
                {
                    "output_type": "execute_result",
                    "metadata": {},
                    "data": {
                        "text/plain": "array([4.        ,  5.0396842 ,  6.34960421,  8.        ])"
                    },
                    "execution_count": null
                }
            ]
        },
        {
            "id": "ad8e4960",
            "cell_type": "code",
            "metadata": {},
            "execution_count": null,
            "source": "np.logspace(2.0, 3.0, num=4, base=[2.0, 3.0], axis=-1)",
            "outputs": [
                {
                    "output_type": "execute_result",
                    "metadata": {},
                    "data": {
                        "text/plain": "array([[ 4.        ,  5.0396842 ,  6.34960421,  8.        ],\n       [ 9.        , 12.98024613, 18.72075441, 27.        ]])"
                    },
                    "execution_count": null
                }
            ]
        },
        {
            "id": "1c6acfc8",
            "cell_type": "markdown",
            "source": "Graphical illustration:\n",
            "metadata": {}
        },
        {
            "id": "91b7c4fd",
            "cell_type": "code",
            "metadata": {},
            "execution_count": null,
            "source": "import matplotlib.pyplot as plt\nN = 10\nx1 = np.logspace(0.1, 1, N, endpoint=True)\nx2 = np.logspace(0.1, 1, N, endpoint=False)\ny = np.zeros(N)\nplt.plot(x1, y, 'o')",
            "outputs": [
                {
                    "output_type": "execute_result",
                    "metadata": {},
                    "data": {
                        "text/plain": "[<matplotlib.lines.Line2D object at 0x...>]"
                    },
                    "execution_count": null
                }
            ]
        },
        {
            "id": "46133c9e",
            "cell_type": "code",
            "metadata": {},
            "execution_count": null,
            "source": "plt.plot(x2, y + 0.5, 'o')",
            "outputs": [
                {
                    "output_type": "execute_result",
                    "metadata": {},
                    "data": {
                        "text/plain": "[<matplotlib.lines.Line2D object at 0x...>]"
                    },
                    "execution_count": null
                }
            ]
        },
        {
            "id": "5386bed0",
            "cell_type": "code",
            "metadata": {},
            "execution_count": null,
            "source": "plt.ylim([-0.5, 1])",
            "outputs": [
                {
                    "output_type": "execute_result",
                    "metadata": {},
                    "data": {
                        "text/plain": "(-0.5, 1)"
                    },
                    "execution_count": null
                }
            ]
        },
        {
            "id": "ca7a6b0c",
            "cell_type": "code",
            "metadata": {},
            "execution_count": null,
            "source": "plt.show()",
            "outputs": []
        }
    ]
}