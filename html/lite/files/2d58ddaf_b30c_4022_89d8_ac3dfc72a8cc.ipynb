{
    "nbformat": 4,
    "nbformat_minor": 5,
    "metadata": {
        "kernelspec": {
            "display_name": "Python",
            "language": "python",
            "name": "python"
        },
        "language_info": {
            "name": "python"
        }
    },
    "cells": [
        {
            "id": "f551edb3",
            "cell_type": "markdown",
            "source": "<div class='alert alert-warning'>\n\nNumPy's interactive examples are experimental and may not always work as expected, with high load times especially on low-resource platforms, , and the version of NumPy might not be in sync with the one you are browsing the documentation for. If you encounter any issues, please report them on the [NumPy issue tracker](https://github.com/numpy/numpy/issues).\n\n</div>",
            "metadata": {}
        },
        {
            "id": "e8892063",
            "cell_type": "code",
            "metadata": {},
            "execution_count": null,
            "source": "import numpy as np",
            "outputs": []
        },
        {
            "id": "457d938f",
            "cell_type": "markdown",
            "source": "Create an array with negative values masked:\n",
            "metadata": {}
        },
        {
            "id": "940f9108",
            "cell_type": "code",
            "metadata": {},
            "execution_count": null,
            "source": "import numpy as np\nx = np.array([[11.2, -3.973, 18], [0.801, -1.41, 12], [7, 33, -12]])\nmasked_x = np.ma.masked_array(x, mask=x < 0)\nmasked_x",
            "outputs": [
                {
                    "output_type": "execute_result",
                    "metadata": {},
                    "data": {
                        "text/plain": "masked_array(\n  data=[[11.2, --, 18.0],\n        [0.801, --, 12.0],\n        [7.0, 33.0, --]],\n  mask=[[False,  True, False],\n        [False,  True, False],\n        [False, False,  True]],\n  fill_value=1e+20)"
                    },
                    "execution_count": null
                }
            ]
        },
        {
            "id": "d12f9dc1",
            "cell_type": "markdown",
            "source": "Isolate the main diagonal from the masked array:\n",
            "metadata": {}
        },
        {
            "id": "72f304ba",
            "cell_type": "code",
            "metadata": {},
            "execution_count": null,
            "source": "np.ma.diag(masked_x)",
            "outputs": [
                {
                    "output_type": "execute_result",
                    "metadata": {},
                    "data": {
                        "text/plain": "masked_array(data=[11.2, --, --],\n             mask=[False,  True,  True],\n       fill_value=1e+20)"
                    },
                    "execution_count": null
                }
            ]
        },
        {
            "id": "2212f2dd",
            "cell_type": "markdown",
            "source": "Isolate the first diagonal below the main diagonal:\n",
            "metadata": {}
        },
        {
            "id": "51a8d7ae",
            "cell_type": "code",
            "metadata": {},
            "execution_count": null,
            "source": "np.ma.diag(masked_x, -1)",
            "outputs": [
                {
                    "output_type": "execute_result",
                    "metadata": {},
                    "data": {
                        "text/plain": "masked_array(data=[0.801, 33.0],\n             mask=[False, False],\n       fill_value=1e+20)"
                    },
                    "execution_count": null
                }
            ]
        }
    ]
}