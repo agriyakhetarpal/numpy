{
    "nbformat": 4,
    "nbformat_minor": 5,
    "metadata": {
        "kernelspec": {
            "display_name": "Python",
            "language": "python",
            "name": "python"
        },
        "language_info": {
            "name": "python"
        }
    },
    "cells": [
        {
            "id": "6135f5c6",
            "cell_type": "markdown",
            "source": "<div class='alert alert-warning'>\n\nNumPy's interactive examples are experimental and may not always work as expected, with high load times especially on low-resource platforms, , and the version of NumPy might not be in sync with the one you are browsing the documentation for. If you encounter any issues, please report them on the [NumPy issue tracker](https://github.com/numpy/numpy/issues).\n\n</div>",
            "metadata": {}
        },
        {
            "id": "2a279c68",
            "cell_type": "code",
            "metadata": {},
            "execution_count": null,
            "source": "c = np.matrix([[1], [2]])\nc",
            "outputs": [
                {
                    "output_type": "execute_result",
                    "metadata": {},
                    "data": {
                        "text/plain": "matrix([[1],\n        [2]])"
                    },
                    "execution_count": null
                }
            ]
        },
        {
            "id": "dc6d38fb",
            "cell_type": "code",
            "metadata": {},
            "execution_count": null,
            "source": "c.squeeze()",
            "outputs": [
                {
                    "output_type": "execute_result",
                    "metadata": {},
                    "data": {
                        "text/plain": "matrix([[1, 2]])"
                    },
                    "execution_count": null
                }
            ]
        },
        {
            "id": "69b355b1",
            "cell_type": "code",
            "metadata": {},
            "execution_count": null,
            "source": "r = c.T\nr",
            "outputs": [
                {
                    "output_type": "execute_result",
                    "metadata": {},
                    "data": {
                        "text/plain": "matrix([[1, 2]])"
                    },
                    "execution_count": null
                }
            ]
        },
        {
            "id": "6397ea79",
            "cell_type": "code",
            "metadata": {},
            "execution_count": null,
            "source": "r.squeeze()",
            "outputs": [
                {
                    "output_type": "execute_result",
                    "metadata": {},
                    "data": {
                        "text/plain": "matrix([[1, 2]])"
                    },
                    "execution_count": null
                }
            ]
        },
        {
            "id": "7e2253a7",
            "cell_type": "code",
            "metadata": {},
            "execution_count": null,
            "source": "m = np.matrix([[1, 2], [3, 4]])\nm.squeeze()",
            "outputs": [
                {
                    "output_type": "execute_result",
                    "metadata": {},
                    "data": {
                        "text/plain": "matrix([[1, 2],\n        [3, 4]])"
                    },
                    "execution_count": null
                }
            ]
        }
    ]
}