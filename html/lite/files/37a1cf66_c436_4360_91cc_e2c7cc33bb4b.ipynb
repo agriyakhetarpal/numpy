{
    "nbformat": 4,
    "nbformat_minor": 5,
    "metadata": {
        "kernelspec": {
            "display_name": "Python",
            "language": "python",
            "name": "python"
        },
        "language_info": {
            "name": "python"
        }
    },
    "cells": [
        {
            "id": "92252b0d",
            "cell_type": "markdown",
            "source": "<div class='alert alert-warning'>\n\nNumPy's interactive examples are experimental and may not always work as expected, with high load times especially on low-resource platforms, , and the version of NumPy might not be in sync with the one you are browsing the documentation for. If you encounter any issues, please report them on the [NumPy issue tracker](https://github.com/numpy/numpy/issues).\n\n</div>",
            "metadata": {}
        },
        {
            "id": "0eb10e80",
            "cell_type": "code",
            "metadata": {},
            "execution_count": null,
            "source": "import numpy as np",
            "outputs": []
        },
        {
            "id": "d78191e6",
            "cell_type": "markdown",
            "source": "For this sample array\n",
            "metadata": {}
        },
        {
            "id": "b9005717",
            "cell_type": "code",
            "metadata": {},
            "execution_count": null,
            "source": "a = np.array([[10, 30, 20], [60, 40, 50]])",
            "outputs": []
        },
        {
            "id": "c86e097f",
            "cell_type": "markdown",
            "source": "We can sort either by using sort directly, or argsort and this function\n",
            "metadata": {}
        },
        {
            "id": "1e388788",
            "cell_type": "code",
            "metadata": {},
            "execution_count": null,
            "source": "np.sort(a, axis=1)",
            "outputs": [
                {
                    "output_type": "execute_result",
                    "metadata": {},
                    "data": {
                        "text/plain": "array([[10, 20, 30],\n       [40, 50, 60]])"
                    },
                    "execution_count": null
                }
            ]
        },
        {
            "id": "97d61f27",
            "cell_type": "code",
            "metadata": {},
            "execution_count": null,
            "source": "ai = np.argsort(a, axis=1)\nai",
            "outputs": [
                {
                    "output_type": "execute_result",
                    "metadata": {},
                    "data": {
                        "text/plain": "array([[0, 2, 1],\n       [1, 2, 0]])"
                    },
                    "execution_count": null
                }
            ]
        },
        {
            "id": "42da3b85",
            "cell_type": "code",
            "metadata": {},
            "execution_count": null,
            "source": "np.take_along_axis(a, ai, axis=1)",
            "outputs": [
                {
                    "output_type": "execute_result",
                    "metadata": {},
                    "data": {
                        "text/plain": "array([[10, 20, 30],\n       [40, 50, 60]])"
                    },
                    "execution_count": null
                }
            ]
        },
        {
            "id": "04f888f4",
            "cell_type": "markdown",
            "source": "The same works for max and min, if you maintain the trivial dimension\nwith ``keepdims``:\n",
            "metadata": {}
        },
        {
            "id": "ced1c3e6",
            "cell_type": "code",
            "metadata": {},
            "execution_count": null,
            "source": "np.max(a, axis=1, keepdims=True)",
            "outputs": [
                {
                    "output_type": "execute_result",
                    "metadata": {},
                    "data": {
                        "text/plain": "array([[30],\n       [60]])"
                    },
                    "execution_count": null
                }
            ]
        },
        {
            "id": "b60bc700",
            "cell_type": "code",
            "metadata": {},
            "execution_count": null,
            "source": "ai = np.argmax(a, axis=1, keepdims=True)\nai",
            "outputs": [
                {
                    "output_type": "execute_result",
                    "metadata": {},
                    "data": {
                        "text/plain": "array([[1],\n       [0]])"
                    },
                    "execution_count": null
                }
            ]
        },
        {
            "id": "402f694e",
            "cell_type": "code",
            "metadata": {},
            "execution_count": null,
            "source": "np.take_along_axis(a, ai, axis=1)",
            "outputs": [
                {
                    "output_type": "execute_result",
                    "metadata": {},
                    "data": {
                        "text/plain": "array([[30],\n       [60]])"
                    },
                    "execution_count": null
                }
            ]
        },
        {
            "id": "0d369f07",
            "cell_type": "markdown",
            "source": "If we want to get the max and min at the same time, we can stack the\nindices first\n",
            "metadata": {}
        },
        {
            "id": "578c5b80",
            "cell_type": "code",
            "metadata": {},
            "execution_count": null,
            "source": "ai_min = np.argmin(a, axis=1, keepdims=True)\nai_max = np.argmax(a, axis=1, keepdims=True)\nai = np.concatenate([ai_min, ai_max], axis=1)\nai",
            "outputs": [
                {
                    "output_type": "execute_result",
                    "metadata": {},
                    "data": {
                        "text/plain": "array([[0, 1],\n       [1, 0]])"
                    },
                    "execution_count": null
                }
            ]
        },
        {
            "id": "d9227780",
            "cell_type": "code",
            "metadata": {},
            "execution_count": null,
            "source": "np.take_along_axis(a, ai, axis=1)",
            "outputs": [
                {
                    "output_type": "execute_result",
                    "metadata": {},
                    "data": {
                        "text/plain": "array([[10, 30],\n       [40, 60]])"
                    },
                    "execution_count": null
                }
            ]
        }
    ]
}