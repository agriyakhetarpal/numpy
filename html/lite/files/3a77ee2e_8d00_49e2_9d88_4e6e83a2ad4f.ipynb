{
    "nbformat": 4,
    "nbformat_minor": 5,
    "metadata": {
        "kernelspec": {
            "display_name": "Python",
            "language": "python",
            "name": "python"
        },
        "language_info": {
            "name": "python"
        }
    },
    "cells": [
        {
            "id": "5ca6f938",
            "cell_type": "markdown",
            "source": "<div class='alert alert-warning'>\n\nNumPy's interactive examples are experimental and may not always work as expected, with high load times especially on low-resource platforms, , and the version of NumPy might not be in sync with the one you are browsing the documentation for. If you encounter any issues, please report them on the [NumPy issue tracker](https://github.com/numpy/numpy/issues).\n\n</div>",
            "metadata": {}
        },
        {
            "id": "d296434a",
            "cell_type": "markdown",
            "source": "Starting with a C-contiguous array:\n",
            "metadata": {}
        },
        {
            "id": "ce582783",
            "cell_type": "code",
            "metadata": {},
            "execution_count": null,
            "source": "import numpy as np\nx = np.ones((2, 3), order='C')\nx.flags['C_CONTIGUOUS']",
            "outputs": [
                {
                    "output_type": "execute_result",
                    "metadata": {},
                    "data": {
                        "text/plain": "True"
                    },
                    "execution_count": null
                }
            ]
        },
        {
            "id": "e07dd5f0",
            "cell_type": "markdown",
            "source": "Calling ``asfortranarray`` makes a Fortran-contiguous copy:\n",
            "metadata": {}
        },
        {
            "id": "df0c3acd",
            "cell_type": "code",
            "metadata": {},
            "execution_count": null,
            "source": "y = np.asfortranarray(x)\ny.flags['F_CONTIGUOUS']",
            "outputs": [
                {
                    "output_type": "execute_result",
                    "metadata": {},
                    "data": {
                        "text/plain": "True"
                    },
                    "execution_count": null
                }
            ]
        },
        {
            "id": "fb65c7f3",
            "cell_type": "code",
            "metadata": {},
            "execution_count": null,
            "source": "np.may_share_memory(x, y)",
            "outputs": [
                {
                    "output_type": "execute_result",
                    "metadata": {},
                    "data": {
                        "text/plain": "False"
                    },
                    "execution_count": null
                }
            ]
        },
        {
            "id": "185a1d1a",
            "cell_type": "markdown",
            "source": "Now, starting with a Fortran-contiguous array:\n",
            "metadata": {}
        },
        {
            "id": "af2b3a0e",
            "cell_type": "code",
            "metadata": {},
            "execution_count": null,
            "source": "x = np.ones((2, 3), order='F')\nx.flags['F_CONTIGUOUS']",
            "outputs": [
                {
                    "output_type": "execute_result",
                    "metadata": {},
                    "data": {
                        "text/plain": "True"
                    },
                    "execution_count": null
                }
            ]
        },
        {
            "id": "a6598c3d",
            "cell_type": "markdown",
            "source": "Then, calling ``asfortranarray`` returns the same object:\n",
            "metadata": {}
        },
        {
            "id": "828ef3c6",
            "cell_type": "code",
            "metadata": {},
            "execution_count": null,
            "source": "y = np.asfortranarray(x)\nx is y",
            "outputs": [
                {
                    "output_type": "execute_result",
                    "metadata": {},
                    "data": {
                        "text/plain": "True"
                    },
                    "execution_count": null
                }
            ]
        },
        {
            "id": "7c4d750a",
            "cell_type": "markdown",
            "source": "Note: This function returns an array with at least one-dimension (1-d)\nso it will not preserve 0-d arrays.",
            "metadata": {}
        }
    ]
}