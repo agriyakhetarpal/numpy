{
    "nbformat": 4,
    "nbformat_minor": 5,
    "metadata": {
        "kernelspec": {
            "display_name": "Python",
            "language": "python",
            "name": "python"
        },
        "language_info": {
            "name": "python"
        }
    },
    "cells": [
        {
            "id": "11f6e31b",
            "cell_type": "markdown",
            "source": "<div class='alert alert-warning'>\n\nNumPy's interactive examples are experimental and may not always work as expected, with high load times especially on low-resource platforms, , and the version of NumPy might not be in sync with the one you are browsing the documentation for. If you encounter any issues, please report them on the [NumPy issue tracker](https://github.com/numpy/numpy/issues).\n\n</div>",
            "metadata": {}
        },
        {
            "id": "765558d6",
            "cell_type": "code",
            "metadata": {},
            "execution_count": null,
            "source": "import numpy as np\nx = np.array([-1.2, 1.2])\nnp.absolute(x)",
            "outputs": [
                {
                    "output_type": "execute_result",
                    "metadata": {},
                    "data": {
                        "text/plain": "array([ 1.2,  1.2])"
                    },
                    "execution_count": null
                }
            ]
        },
        {
            "id": "a3863e75",
            "cell_type": "code",
            "metadata": {},
            "execution_count": null,
            "source": "np.absolute(1.2 + 1j)",
            "outputs": [
                {
                    "output_type": "execute_result",
                    "metadata": {},
                    "data": {
                        "text/plain": "1.5620499351813308"
                    },
                    "execution_count": null
                }
            ]
        },
        {
            "id": "fd966763",
            "cell_type": "markdown",
            "source": "Plot the function over ``[-10, 10]``:\n",
            "metadata": {}
        },
        {
            "id": "1fbfbab8",
            "cell_type": "code",
            "metadata": {},
            "execution_count": null,
            "source": "import matplotlib.pyplot as plt",
            "outputs": []
        },
        {
            "id": "f18f38a2",
            "cell_type": "code",
            "metadata": {},
            "execution_count": null,
            "source": "x = np.linspace(start=-10, stop=10, num=101)\nplt.plot(x, np.absolute(x))\nplt.show()",
            "outputs": []
        },
        {
            "id": "0c15a4a4",
            "cell_type": "markdown",
            "source": "Plot the function over the complex plane:\n",
            "metadata": {}
        },
        {
            "id": "8d658954",
            "cell_type": "code",
            "metadata": {},
            "execution_count": null,
            "source": "xx = x + 1j * x[:, np.newaxis]\nplt.imshow(np.abs(xx), extent=[-10, 10, -10, 10], cmap='gray')\nplt.show()",
            "outputs": []
        },
        {
            "id": "a406881b",
            "cell_type": "markdown",
            "source": "The `abs` function can be used as a shorthand for ``np.absolute`` on\nndarrays.\n",
            "metadata": {}
        },
        {
            "id": "75c430e0",
            "cell_type": "code",
            "metadata": {},
            "execution_count": null,
            "source": "x = np.array([-1.2, 1.2])\nabs(x)",
            "outputs": [
                {
                    "output_type": "execute_result",
                    "metadata": {},
                    "data": {
                        "text/plain": "array([1.2, 1.2])"
                    },
                    "execution_count": null
                }
            ]
        }
    ]
}