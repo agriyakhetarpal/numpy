{
    "nbformat": 4,
    "nbformat_minor": 5,
    "metadata": {
        "kernelspec": {
            "display_name": "Python",
            "language": "python",
            "name": "python"
        },
        "language_info": {
            "name": "python"
        }
    },
    "cells": [
        {
            "id": "1d4c1878",
            "cell_type": "markdown",
            "source": "<div class='alert alert-warning'>\n\nNumPy's interactive examples are experimental and may not always work as expected, with high load times especially on low-resource platforms, , and the version of NumPy might not be in sync with the one you are browsing the documentation for. If you encounter any issues, please report them on the [NumPy issue tracker](https://github.com/numpy/numpy/issues).\n\n</div>",
            "metadata": {}
        },
        {
            "id": "fda60deb",
            "cell_type": "code",
            "metadata": {},
            "execution_count": null,
            "source": "import numpy as np\na = [4, 3, 5, 7, 6, 8]\nindices = [0, 1, 4]\nnp.take(a, indices)",
            "outputs": [
                {
                    "output_type": "execute_result",
                    "metadata": {},
                    "data": {
                        "text/plain": "array([4, 3, 6])"
                    },
                    "execution_count": null
                }
            ]
        },
        {
            "id": "ee54870e",
            "cell_type": "markdown",
            "source": "In this example if `a` is an ndarray, \"fancy\" indexing can be used.\n",
            "metadata": {}
        },
        {
            "id": "12c7c94e",
            "cell_type": "code",
            "metadata": {},
            "execution_count": null,
            "source": "a = np.array(a)\na[indices]",
            "outputs": [
                {
                    "output_type": "execute_result",
                    "metadata": {},
                    "data": {
                        "text/plain": "array([4, 3, 6])"
                    },
                    "execution_count": null
                }
            ]
        },
        {
            "id": "336d9a08",
            "cell_type": "markdown",
            "source": "If `indices` is not one dimensional, the output also has these dimensions.\n",
            "metadata": {}
        },
        {
            "id": "931b3b6e",
            "cell_type": "code",
            "metadata": {},
            "execution_count": null,
            "source": "np.take(a, [[0, 1], [2, 3]])",
            "outputs": [
                {
                    "output_type": "execute_result",
                    "metadata": {},
                    "data": {
                        "text/plain": "array([[4, 3],\n       [5, 7]])"
                    },
                    "execution_count": null
                }
            ]
        }
    ]
}