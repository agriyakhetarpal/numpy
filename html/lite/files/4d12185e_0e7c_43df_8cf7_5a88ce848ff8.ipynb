{
    "nbformat": 4,
    "nbformat_minor": 5,
    "metadata": {
        "kernelspec": {
            "display_name": "Python",
            "language": "python",
            "name": "python"
        },
        "language_info": {
            "name": "python"
        }
    },
    "cells": [
        {
            "id": "a3247da5",
            "cell_type": "markdown",
            "source": "<div class='alert alert-warning'>\n\nNumPy's interactive examples are experimental and may not always work as expected, with high load times especially on low-resource platforms, , and the version of NumPy might not be in sync with the one you are browsing the documentation for. If you encounter any issues, please report them on the [NumPy issue tracker](https://github.com/numpy/numpy/issues).\n\n</div>",
            "metadata": {}
        },
        {
            "id": "5d5f1041",
            "cell_type": "code",
            "metadata": {},
            "execution_count": null,
            "source": "import numpy as np\ndt = np.dtype(float, metadata={\"key\": \"value\"})\ndt.metadata[\"key\"]",
            "outputs": [
                {
                    "output_type": "execute_result",
                    "metadata": {},
                    "data": {
                        "text/plain": "'value'"
                    },
                    "execution_count": null
                }
            ]
        },
        {
            "id": "49e1c693",
            "cell_type": "code",
            "metadata": {},
            "execution_count": null,
            "source": "arr = np.array([1, 2, 3], dtype=dt)\narr.dtype.metadata",
            "outputs": [
                {
                    "output_type": "execute_result",
                    "metadata": {},
                    "data": {
                        "text/plain": "mappingproxy({'key': 'value'})"
                    },
                    "execution_count": null
                }
            ]
        },
        {
            "id": "6216ad3e",
            "cell_type": "markdown",
            "source": "Adding arrays with identical datatypes currently preserves the metadata:\n",
            "metadata": {}
        },
        {
            "id": "bec1d9de",
            "cell_type": "code",
            "metadata": {},
            "execution_count": null,
            "source": "(arr + arr).dtype.metadata",
            "outputs": [
                {
                    "output_type": "execute_result",
                    "metadata": {},
                    "data": {
                        "text/plain": "mappingproxy({'key': 'value'})"
                    },
                    "execution_count": null
                }
            ]
        },
        {
            "id": "4f09dc4d",
            "cell_type": "markdown",
            "source": "But if the arrays have different dtype metadata, the metadata may be\ndropped:\n",
            "metadata": {}
        },
        {
            "id": "51506503",
            "cell_type": "code",
            "metadata": {},
            "execution_count": null,
            "source": "dt2 = np.dtype(float, metadata={\"key2\": \"value2\"})\narr2 = np.array([3, 2, 1], dtype=dt2)\n(arr + arr2).dtype.metadata is None",
            "outputs": [
                {
                    "output_type": "execute_result",
                    "metadata": {},
                    "data": {
                        "text/plain": "True  # The metadata field is cleared so None is returned"
                    },
                    "execution_count": null
                }
            ]
        }
    ]
}