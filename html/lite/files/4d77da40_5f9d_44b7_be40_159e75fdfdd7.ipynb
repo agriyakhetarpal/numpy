{
    "nbformat": 4,
    "nbformat_minor": 5,
    "metadata": {
        "kernelspec": {
            "display_name": "Python",
            "language": "python",
            "name": "python"
        },
        "language_info": {
            "name": "python"
        }
    },
    "cells": [
        {
            "id": "5c1171fb",
            "cell_type": "markdown",
            "source": "<div class='alert alert-warning'>\n\nNumPy's interactive examples are experimental and may not always work as expected, with high load times especially on low-resource platforms, , and the version of NumPy might not be in sync with the one you are browsing the documentation for. If you encounter any issues, please report them on the [NumPy issue tracker](https://github.com/numpy/numpy/issues).\n\n</div>",
            "metadata": {}
        },
        {
            "id": "3ef3dbe1",
            "cell_type": "markdown",
            "source": "np.array allows to specify whether the array is written in C-contiguous\norder (last index varies the fastest), or FORTRAN-contiguous order in\nmemory (first index varies the fastest).\n",
            "metadata": {}
        },
        {
            "id": "a0412c12",
            "cell_type": "code",
            "metadata": {},
            "execution_count": null,
            "source": "import numpy as np\na = np.array([[1, 2, 3], [4, 5, 6]], order='C')\na",
            "outputs": [
                {
                    "output_type": "execute_result",
                    "metadata": {},
                    "data": {
                        "text/plain": "array([[1, 2, 3],\n       [4, 5, 6]])"
                    },
                    "execution_count": null
                }
            ]
        },
        {
            "id": "706918e8",
            "cell_type": "code",
            "metadata": {},
            "execution_count": null,
            "source": "np.isfortran(a)",
            "outputs": [
                {
                    "output_type": "execute_result",
                    "metadata": {},
                    "data": {
                        "text/plain": "False"
                    },
                    "execution_count": null
                }
            ]
        },
        {
            "id": "f175e145",
            "cell_type": "code",
            "metadata": {},
            "execution_count": null,
            "source": "b = np.array([[1, 2, 3], [4, 5, 6]], order='F')\nb",
            "outputs": [
                {
                    "output_type": "execute_result",
                    "metadata": {},
                    "data": {
                        "text/plain": "array([[1, 2, 3],\n       [4, 5, 6]])"
                    },
                    "execution_count": null
                }
            ]
        },
        {
            "id": "14948433",
            "cell_type": "code",
            "metadata": {},
            "execution_count": null,
            "source": "np.isfortran(b)",
            "outputs": [
                {
                    "output_type": "execute_result",
                    "metadata": {},
                    "data": {
                        "text/plain": "True"
                    },
                    "execution_count": null
                }
            ]
        },
        {
            "id": "c2dd91f4",
            "cell_type": "markdown",
            "source": "The transpose of a C-ordered array is a FORTRAN-ordered array.\n",
            "metadata": {}
        },
        {
            "id": "189bcc5c",
            "cell_type": "code",
            "metadata": {},
            "execution_count": null,
            "source": "a = np.array([[1, 2, 3], [4, 5, 6]], order='C')\na",
            "outputs": [
                {
                    "output_type": "execute_result",
                    "metadata": {},
                    "data": {
                        "text/plain": "array([[1, 2, 3],\n       [4, 5, 6]])"
                    },
                    "execution_count": null
                }
            ]
        },
        {
            "id": "ef1f66c7",
            "cell_type": "code",
            "metadata": {},
            "execution_count": null,
            "source": "np.isfortran(a)",
            "outputs": [
                {
                    "output_type": "execute_result",
                    "metadata": {},
                    "data": {
                        "text/plain": "False"
                    },
                    "execution_count": null
                }
            ]
        },
        {
            "id": "ae8efc57",
            "cell_type": "code",
            "metadata": {},
            "execution_count": null,
            "source": "b = a.T\nb",
            "outputs": [
                {
                    "output_type": "execute_result",
                    "metadata": {},
                    "data": {
                        "text/plain": "array([[1, 4],\n       [2, 5],\n       [3, 6]])"
                    },
                    "execution_count": null
                }
            ]
        },
        {
            "id": "1d4bd08b",
            "cell_type": "code",
            "metadata": {},
            "execution_count": null,
            "source": "np.isfortran(b)",
            "outputs": [
                {
                    "output_type": "execute_result",
                    "metadata": {},
                    "data": {
                        "text/plain": "True"
                    },
                    "execution_count": null
                }
            ]
        },
        {
            "id": "bcb9f0d1",
            "cell_type": "markdown",
            "source": "C-ordered arrays evaluate as False even if they are also FORTRAN-ordered.\n",
            "metadata": {}
        },
        {
            "id": "a32120eb",
            "cell_type": "code",
            "metadata": {},
            "execution_count": null,
            "source": "np.isfortran(np.array([1, 2], order='F'))",
            "outputs": [
                {
                    "output_type": "execute_result",
                    "metadata": {},
                    "data": {
                        "text/plain": "False"
                    },
                    "execution_count": null
                }
            ]
        }
    ]
}