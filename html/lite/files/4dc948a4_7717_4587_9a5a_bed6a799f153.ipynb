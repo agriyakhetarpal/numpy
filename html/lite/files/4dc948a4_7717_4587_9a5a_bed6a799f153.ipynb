{
    "nbformat": 4,
    "nbformat_minor": 5,
    "metadata": {
        "kernelspec": {
            "display_name": "Python",
            "language": "python",
            "name": "python"
        },
        "language_info": {
            "name": "python"
        }
    },
    "cells": [
        {
            "id": "b239ec92",
            "cell_type": "markdown",
            "source": "<div class='alert alert-warning'>\n\nNumPy's interactive examples are experimental and may not always work as expected, with high load times especially on low-resource platforms, , and the version of NumPy might not be in sync with the one you are browsing the documentation for. If you encounter any issues, please report them on the [NumPy issue tracker](https://github.com/numpy/numpy/issues).\n\n</div>",
            "metadata": {}
        },
        {
            "id": "7701a1c3",
            "cell_type": "markdown",
            "source": "One dimensional array:\n",
            "metadata": {}
        },
        {
            "id": "217e4447",
            "cell_type": "code",
            "metadata": {},
            "execution_count": null,
            "source": "import numpy as np\nx = np.array([3, 4, 2, 1])\nx[np.argpartition(x, 3)]",
            "outputs": [
                {
                    "output_type": "execute_result",
                    "metadata": {},
                    "data": {
                        "text/plain": "array([2, 1, 3, 4]) # may vary"
                    },
                    "execution_count": null
                }
            ]
        },
        {
            "id": "d247e4b2",
            "cell_type": "code",
            "metadata": {},
            "execution_count": null,
            "source": "x[np.argpartition(x, (1, 3))]",
            "outputs": [
                {
                    "output_type": "execute_result",
                    "metadata": {},
                    "data": {
                        "text/plain": "array([1, 2, 3, 4]) # may vary"
                    },
                    "execution_count": null
                }
            ]
        },
        {
            "id": "2e73a876",
            "cell_type": "code",
            "metadata": {},
            "execution_count": null,
            "source": "x = [3, 4, 2, 1]\nnp.array(x)[np.argpartition(x, 3)]",
            "outputs": [
                {
                    "output_type": "execute_result",
                    "metadata": {},
                    "data": {
                        "text/plain": "array([2, 1, 3, 4]) # may vary"
                    },
                    "execution_count": null
                }
            ]
        },
        {
            "id": "702f02c6",
            "cell_type": "markdown",
            "source": "Multi-dimensional array:\n",
            "metadata": {}
        },
        {
            "id": "a4056a64",
            "cell_type": "code",
            "metadata": {},
            "execution_count": null,
            "source": "x = np.array([[3, 4, 2], [1, 3, 1]])\nindex_array = np.argpartition(x, kth=1, axis=-1)\n# below is the same as np.partition(x, kth=1)\nnp.take_along_axis(x, index_array, axis=-1)",
            "outputs": [
                {
                    "output_type": "execute_result",
                    "metadata": {},
                    "data": {
                        "text/plain": "array([[2, 3, 4],\n       [1, 1, 3]])"
                    },
                    "execution_count": null
                }
            ]
        }
    ]
}