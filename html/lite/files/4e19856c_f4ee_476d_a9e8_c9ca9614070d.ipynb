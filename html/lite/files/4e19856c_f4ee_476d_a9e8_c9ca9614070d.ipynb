{
    "nbformat": 4,
    "nbformat_minor": 5,
    "metadata": {
        "kernelspec": {
            "display_name": "Python",
            "language": "python",
            "name": "python"
        },
        "language_info": {
            "name": "python"
        }
    },
    "cells": [
        {
            "id": "0d82cc92",
            "cell_type": "markdown",
            "source": "<div class='alert alert-warning'>\n\nNumPy's interactive examples are experimental and may not always work as expected, with high load times especially on low-resource platforms, , and the version of NumPy might not be in sync with the one you are browsing the documentation for. If you encounter any issues, please report them on the [NumPy issue tracker](https://github.com/numpy/numpy/issues).\n\n</div>",
            "metadata": {}
        },
        {
            "id": "e47ad0f2",
            "cell_type": "code",
            "metadata": {},
            "execution_count": null,
            "source": "import numpy as np\nnp.fmin([2, 3, 4], [1, 5, 2])",
            "outputs": [
                {
                    "output_type": "execute_result",
                    "metadata": {},
                    "data": {
                        "text/plain": "array([1, 3, 2])"
                    },
                    "execution_count": null
                }
            ]
        },
        {
            "id": "c17654bb",
            "cell_type": "code",
            "metadata": {},
            "execution_count": null,
            "source": "np.fmin(np.eye(2), [0.5, 2])",
            "outputs": [
                {
                    "output_type": "execute_result",
                    "metadata": {},
                    "data": {
                        "text/plain": "array([[ 0.5,  0. ],\n       [ 0. ,  1. ]])"
                    },
                    "execution_count": null
                }
            ]
        },
        {
            "id": "5e26275e",
            "cell_type": "code",
            "metadata": {},
            "execution_count": null,
            "source": "np.fmin([np.nan, 0, np.nan],[0, np.nan, np.nan])",
            "outputs": [
                {
                    "output_type": "execute_result",
                    "metadata": {},
                    "data": {
                        "text/plain": "array([ 0.,  0., nan])"
                    },
                    "execution_count": null
                }
            ]
        }
    ]
}