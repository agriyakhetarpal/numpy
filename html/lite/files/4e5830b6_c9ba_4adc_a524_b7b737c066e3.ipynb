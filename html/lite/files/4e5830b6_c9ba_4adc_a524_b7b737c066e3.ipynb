{
    "nbformat": 4,
    "nbformat_minor": 5,
    "metadata": {
        "kernelspec": {
            "display_name": "Python",
            "language": "python",
            "name": "python"
        },
        "language_info": {
            "name": "python"
        }
    },
    "cells": [
        {
            "id": "dce60137",
            "cell_type": "markdown",
            "source": "<div class='alert alert-warning'>\n\nNumPy's interactive examples are experimental and may not always work as expected, with high load times especially on low-resource platforms, , and the version of NumPy might not be in sync with the one you are browsing the documentation for. If you encounter any issues, please report them on the [NumPy issue tracker](https://github.com/numpy/numpy/issues).\n\n</div>",
            "metadata": {}
        },
        {
            "id": "50606d0b",
            "cell_type": "code",
            "metadata": {},
            "execution_count": null,
            "source": "import numpy as np\nnp.atleast_2d(3.0)",
            "outputs": [
                {
                    "output_type": "execute_result",
                    "metadata": {},
                    "data": {
                        "text/plain": "array([[3.]])"
                    },
                    "execution_count": null
                }
            ]
        },
        {
            "id": "e217bd79",
            "cell_type": "code",
            "metadata": {},
            "execution_count": null,
            "source": "x = np.arange(3.0)\nnp.atleast_2d(x)",
            "outputs": [
                {
                    "output_type": "execute_result",
                    "metadata": {},
                    "data": {
                        "text/plain": "array([[0., 1., 2.]])"
                    },
                    "execution_count": null
                }
            ]
        },
        {
            "id": "c1e3c9c7",
            "cell_type": "code",
            "metadata": {},
            "execution_count": null,
            "source": "np.atleast_2d(x).base is x",
            "outputs": [
                {
                    "output_type": "execute_result",
                    "metadata": {},
                    "data": {
                        "text/plain": "True"
                    },
                    "execution_count": null
                }
            ]
        },
        {
            "id": "5591a3d0",
            "cell_type": "code",
            "metadata": {},
            "execution_count": null,
            "source": "np.atleast_2d(1, [1, 2], [[1, 2]])",
            "outputs": [
                {
                    "output_type": "execute_result",
                    "metadata": {},
                    "data": {
                        "text/plain": "(array([[1]]), array([[1, 2]]), array([[1, 2]]))"
                    },
                    "execution_count": null
                }
            ]
        }
    ]
}