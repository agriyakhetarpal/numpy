{
    "nbformat": 4,
    "nbformat_minor": 5,
    "metadata": {
        "kernelspec": {
            "display_name": "Python",
            "language": "python",
            "name": "python"
        },
        "language_info": {
            "name": "python"
        }
    },
    "cells": [
        {
            "id": "4a4db0b6",
            "cell_type": "markdown",
            "source": "<div class='alert alert-warning'>\n\nNumPy's interactive examples are experimental and may not always work as expected, with high load times especially on low-resource platforms, , and the version of NumPy might not be in sync with the one you are browsing the documentation for. If you encounter any issues, please report them on the [NumPy issue tracker](https://github.com/numpy/numpy/issues).\n\n</div>",
            "metadata": {}
        },
        {
            "id": "9c6255f4",
            "cell_type": "markdown",
            "source": "Draw samples from the distribution:\n",
            "metadata": {}
        },
        {
            "id": "d40f3de5",
            "cell_type": "code",
            "metadata": {},
            "execution_count": null,
            "source": "import numpy as np\ns = np.random.poisson(5, 10000)",
            "outputs": []
        },
        {
            "id": "0c33a7f4",
            "cell_type": "markdown",
            "source": "Display histogram of the sample:\n",
            "metadata": {}
        },
        {
            "id": "37693cd2",
            "cell_type": "code",
            "metadata": {},
            "execution_count": null,
            "source": "import matplotlib.pyplot as plt\ncount, bins, ignored = plt.hist(s, 14, density=True)\nplt.show()",
            "outputs": []
        },
        {
            "id": "715081b6",
            "cell_type": "markdown",
            "source": "Draw each 100 values for lambda 100 and 500:\n",
            "metadata": {}
        },
        {
            "id": "75acb22a",
            "cell_type": "code",
            "metadata": {},
            "execution_count": null,
            "source": "s = np.random.poisson(lam=(100., 500.), size=(100, 2))",
            "outputs": []
        }
    ]
}