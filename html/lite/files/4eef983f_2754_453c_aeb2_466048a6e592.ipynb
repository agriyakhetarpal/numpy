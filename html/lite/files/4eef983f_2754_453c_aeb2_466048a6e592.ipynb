{
    "nbformat": 4,
    "nbformat_minor": 5,
    "metadata": {
        "kernelspec": {
            "display_name": "Python",
            "language": "python",
            "name": "python"
        },
        "language_info": {
            "name": "python"
        }
    },
    "cells": [
        {
            "id": "078c5cd7",
            "cell_type": "markdown",
            "source": "<div class='alert alert-warning'>\n\nNumPy's interactive examples are experimental and may not always work as expected, with high load times especially on low-resource platforms, , and the version of NumPy might not be in sync with the one you are browsing the documentation for. If you encounter any issues, please report them on the [NumPy issue tracker](https://github.com/numpy/numpy/issues).\n\n</div>",
            "metadata": {}
        },
        {
            "id": "76e21ed1",
            "cell_type": "code",
            "metadata": {},
            "execution_count": null,
            "source": "import numpy as np\na = np.array([\"a\", \"b\", \"c\"])\nnp.strings.multiply(a, 3)",
            "outputs": [
                {
                    "output_type": "execute_result",
                    "metadata": {},
                    "data": {
                        "text/plain": "array(['aaa', 'bbb', 'ccc'], dtype='<U3')"
                    },
                    "execution_count": null
                }
            ]
        },
        {
            "id": "91043a73",
            "cell_type": "code",
            "metadata": {},
            "execution_count": null,
            "source": "i = np.array([1, 2, 3])\nnp.strings.multiply(a, i)",
            "outputs": [
                {
                    "output_type": "execute_result",
                    "metadata": {},
                    "data": {
                        "text/plain": "array(['a', 'bb', 'ccc'], dtype='<U3')"
                    },
                    "execution_count": null
                }
            ]
        },
        {
            "id": "f9d19a87",
            "cell_type": "code",
            "metadata": {},
            "execution_count": null,
            "source": "np.strings.multiply(np.array(['a']), i)",
            "outputs": [
                {
                    "output_type": "execute_result",
                    "metadata": {},
                    "data": {
                        "text/plain": "array(['a', 'aa', 'aaa'], dtype='<U3')"
                    },
                    "execution_count": null
                }
            ]
        },
        {
            "id": "4a501662",
            "cell_type": "code",
            "metadata": {},
            "execution_count": null,
            "source": "a = np.array(['a', 'b', 'c', 'd', 'e', 'f']).reshape((2, 3))\nnp.strings.multiply(a, 3)",
            "outputs": [
                {
                    "output_type": "execute_result",
                    "metadata": {},
                    "data": {
                        "text/plain": "array([['aaa', 'bbb', 'ccc'],\n       ['ddd', 'eee', 'fff']], dtype='<U3')"
                    },
                    "execution_count": null
                }
            ]
        },
        {
            "id": "49f1a88e",
            "cell_type": "code",
            "metadata": {},
            "execution_count": null,
            "source": "np.strings.multiply(a, i)",
            "outputs": [
                {
                    "output_type": "execute_result",
                    "metadata": {},
                    "data": {
                        "text/plain": "array([['a', 'bb', 'ccc'],\n       ['d', 'ee', 'fff']], dtype='<U3')"
                    },
                    "execution_count": null
                }
            ]
        }
    ]
}