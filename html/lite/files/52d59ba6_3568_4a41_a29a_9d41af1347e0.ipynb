{
    "nbformat": 4,
    "nbformat_minor": 5,
    "metadata": {
        "kernelspec": {
            "display_name": "Python",
            "language": "python",
            "name": "python"
        },
        "language_info": {
            "name": "python"
        }
    },
    "cells": [
        {
            "id": "ded004b7",
            "cell_type": "markdown",
            "source": "<div class='alert alert-warning'>\n\nNumPy's interactive examples are experimental and may not always work as expected, with high load times especially on low-resource platforms, , and the version of NumPy might not be in sync with the one you are browsing the documentation for. If you encounter any issues, please report them on the [NumPy issue tracker](https://github.com/numpy/numpy/issues).\n\n</div>",
            "metadata": {}
        },
        {
            "id": "d502af58",
            "cell_type": "code",
            "metadata": {},
            "execution_count": null,
            "source": "import numpy as np\nrng = np.random.default_rng()\na = rng.normal(size=(9, 6)) + 1j*rng.normal(size=(9, 6))\nb = rng.normal(size=(2, 7, 8, 3)) + 1j*rng.normal(size=(2, 7, 8, 3))",
            "outputs": []
        },
        {
            "id": "840ffb95",
            "cell_type": "markdown",
            "source": "Reconstruction based on full SVD, 2D case:\n",
            "metadata": {}
        },
        {
            "id": "e8fd343d",
            "cell_type": "code",
            "metadata": {},
            "execution_count": null,
            "source": "U, S, Vh = np.linalg.svd(a, full_matrices=True)\nU.shape, S.shape, Vh.shape",
            "outputs": [
                {
                    "output_type": "execute_result",
                    "metadata": {},
                    "data": {
                        "text/plain": "((9, 9), (6,), (6, 6))"
                    },
                    "execution_count": null
                }
            ]
        },
        {
            "id": "b5ef050e",
            "cell_type": "code",
            "metadata": {},
            "execution_count": null,
            "source": "np.allclose(a, np.dot(U[:, :6] * S, Vh))",
            "outputs": [
                {
                    "output_type": "execute_result",
                    "metadata": {},
                    "data": {
                        "text/plain": "True"
                    },
                    "execution_count": null
                }
            ]
        },
        {
            "id": "c622b15a",
            "cell_type": "code",
            "metadata": {},
            "execution_count": null,
            "source": "smat = np.zeros((9, 6), dtype=complex)\nsmat[:6, :6] = np.diag(S)\nnp.allclose(a, np.dot(U, np.dot(smat, Vh)))",
            "outputs": [
                {
                    "output_type": "execute_result",
                    "metadata": {},
                    "data": {
                        "text/plain": "True"
                    },
                    "execution_count": null
                }
            ]
        },
        {
            "id": "82270bf8",
            "cell_type": "markdown",
            "source": "Reconstruction based on reduced SVD, 2D case:\n",
            "metadata": {}
        },
        {
            "id": "b42c3f2c",
            "cell_type": "code",
            "metadata": {},
            "execution_count": null,
            "source": "U, S, Vh = np.linalg.svd(a, full_matrices=False)\nU.shape, S.shape, Vh.shape",
            "outputs": [
                {
                    "output_type": "execute_result",
                    "metadata": {},
                    "data": {
                        "text/plain": "((9, 6), (6,), (6, 6))"
                    },
                    "execution_count": null
                }
            ]
        },
        {
            "id": "a4f923ed",
            "cell_type": "code",
            "metadata": {},
            "execution_count": null,
            "source": "np.allclose(a, np.dot(U * S, Vh))",
            "outputs": [
                {
                    "output_type": "execute_result",
                    "metadata": {},
                    "data": {
                        "text/plain": "True"
                    },
                    "execution_count": null
                }
            ]
        },
        {
            "id": "beb75954",
            "cell_type": "code",
            "metadata": {},
            "execution_count": null,
            "source": "smat = np.diag(S)\nnp.allclose(a, np.dot(U, np.dot(smat, Vh)))",
            "outputs": [
                {
                    "output_type": "execute_result",
                    "metadata": {},
                    "data": {
                        "text/plain": "True"
                    },
                    "execution_count": null
                }
            ]
        },
        {
            "id": "dfe9f8b7",
            "cell_type": "markdown",
            "source": "Reconstruction based on full SVD, 4D case:\n",
            "metadata": {}
        },
        {
            "id": "3a0f6a07",
            "cell_type": "code",
            "metadata": {},
            "execution_count": null,
            "source": "U, S, Vh = np.linalg.svd(b, full_matrices=True)\nU.shape, S.shape, Vh.shape",
            "outputs": [
                {
                    "output_type": "execute_result",
                    "metadata": {},
                    "data": {
                        "text/plain": "((2, 7, 8, 8), (2, 7, 3), (2, 7, 3, 3))"
                    },
                    "execution_count": null
                }
            ]
        },
        {
            "id": "f181cd69",
            "cell_type": "code",
            "metadata": {},
            "execution_count": null,
            "source": "np.allclose(b, np.matmul(U[..., :3] * S[..., None, :], Vh))",
            "outputs": [
                {
                    "output_type": "execute_result",
                    "metadata": {},
                    "data": {
                        "text/plain": "True"
                    },
                    "execution_count": null
                }
            ]
        },
        {
            "id": "43c35e9b",
            "cell_type": "code",
            "metadata": {},
            "execution_count": null,
            "source": "np.allclose(b, np.matmul(U[..., :3], S[..., None] * Vh))",
            "outputs": [
                {
                    "output_type": "execute_result",
                    "metadata": {},
                    "data": {
                        "text/plain": "True"
                    },
                    "execution_count": null
                }
            ]
        },
        {
            "id": "e14188fe",
            "cell_type": "markdown",
            "source": "Reconstruction based on reduced SVD, 4D case:\n",
            "metadata": {}
        },
        {
            "id": "5f93af04",
            "cell_type": "code",
            "metadata": {},
            "execution_count": null,
            "source": "U, S, Vh = np.linalg.svd(b, full_matrices=False)\nU.shape, S.shape, Vh.shape",
            "outputs": [
                {
                    "output_type": "execute_result",
                    "metadata": {},
                    "data": {
                        "text/plain": "((2, 7, 8, 3), (2, 7, 3), (2, 7, 3, 3))"
                    },
                    "execution_count": null
                }
            ]
        },
        {
            "id": "bcf07cfb",
            "cell_type": "code",
            "metadata": {},
            "execution_count": null,
            "source": "np.allclose(b, np.matmul(U * S[..., None, :], Vh))",
            "outputs": [
                {
                    "output_type": "execute_result",
                    "metadata": {},
                    "data": {
                        "text/plain": "True"
                    },
                    "execution_count": null
                }
            ]
        },
        {
            "id": "665f65fc",
            "cell_type": "code",
            "metadata": {},
            "execution_count": null,
            "source": "np.allclose(b, np.matmul(U, S[..., None] * Vh))",
            "outputs": [
                {
                    "output_type": "execute_result",
                    "metadata": {},
                    "data": {
                        "text/plain": "True"
                    },
                    "execution_count": null
                }
            ]
        }
    ]
}