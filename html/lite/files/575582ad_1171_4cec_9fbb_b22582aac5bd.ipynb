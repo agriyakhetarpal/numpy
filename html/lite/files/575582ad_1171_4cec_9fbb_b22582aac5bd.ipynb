{
    "nbformat": 4,
    "nbformat_minor": 5,
    "metadata": {
        "kernelspec": {
            "display_name": "Python",
            "language": "python",
            "name": "python"
        },
        "language_info": {
            "name": "python"
        }
    },
    "cells": [
        {
            "id": "7a1713ee",
            "cell_type": "markdown",
            "source": "<div class='alert alert-warning'>\n\nNumPy's interactive examples are experimental and may not always work as expected, with high load times especially on low-resource platforms, , and the version of NumPy might not be in sync with the one you are browsing the documentation for. If you encounter any issues, please report them on the [NumPy issue tracker](https://github.com/numpy/numpy/issues).\n\n</div>",
            "metadata": {}
        },
        {
            "id": "a7a0d74c",
            "cell_type": "markdown",
            "source": "Draw ten thousand values from the geometric distribution,\nwith the probability of an individual success equal to 0.35:\n",
            "metadata": {}
        },
        {
            "id": "d6138438",
            "cell_type": "code",
            "metadata": {},
            "execution_count": null,
            "source": "z = np.random.geometric(p=0.35, size=10000)",
            "outputs": []
        },
        {
            "id": "eb950b2e",
            "cell_type": "markdown",
            "source": "How many trials succeeded after a single run?\n",
            "metadata": {}
        },
        {
            "id": "44c0e7a4",
            "cell_type": "code",
            "metadata": {},
            "execution_count": null,
            "source": "(z == 1).sum() / 10000.",
            "outputs": [
                {
                    "output_type": "execute_result",
                    "metadata": {},
                    "data": {
                        "text/plain": "0.34889999999999999 #random"
                    },
                    "execution_count": null
                }
            ]
        }
    ]
}