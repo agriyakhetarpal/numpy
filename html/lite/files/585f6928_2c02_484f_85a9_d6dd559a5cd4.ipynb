{
    "nbformat": 4,
    "nbformat_minor": 5,
    "metadata": {
        "kernelspec": {
            "display_name": "Python",
            "language": "python",
            "name": "python"
        },
        "language_info": {
            "name": "python"
        }
    },
    "cells": [
        {
            "id": "13279bb5",
            "cell_type": "markdown",
            "source": "<div class='alert alert-warning'>\n\nNumPy's interactive examples are experimental and may not always work as expected, with high load times especially on low-resource platforms, , and the version of NumPy might not be in sync with the one you are browsing the documentation for. If you encounter any issues, please report them on the [NumPy issue tracker](https://github.com/numpy/numpy/issues).\n\n</div>",
            "metadata": {}
        },
        {
            "id": "424362c5",
            "cell_type": "code",
            "metadata": {},
            "execution_count": null,
            "source": "from numpy.polynomial.laguerre import lagint\nlagint([1,2,3])",
            "outputs": [
                {
                    "output_type": "execute_result",
                    "metadata": {},
                    "data": {
                        "text/plain": "array([ 1.,  1.,  1., -3.])"
                    },
                    "execution_count": null
                }
            ]
        },
        {
            "id": "588b6d76",
            "cell_type": "code",
            "metadata": {},
            "execution_count": null,
            "source": "lagint([1,2,3], m=2)",
            "outputs": [
                {
                    "output_type": "execute_result",
                    "metadata": {},
                    "data": {
                        "text/plain": "array([ 1.,  0.,  0., -4.,  3.])"
                    },
                    "execution_count": null
                }
            ]
        },
        {
            "id": "bc81a307",
            "cell_type": "code",
            "metadata": {},
            "execution_count": null,
            "source": "lagint([1,2,3], k=1)",
            "outputs": [
                {
                    "output_type": "execute_result",
                    "metadata": {},
                    "data": {
                        "text/plain": "array([ 2.,  1.,  1., -3.])"
                    },
                    "execution_count": null
                }
            ]
        },
        {
            "id": "23c0ce33",
            "cell_type": "code",
            "metadata": {},
            "execution_count": null,
            "source": "lagint([1,2,3], lbnd=-1)",
            "outputs": [
                {
                    "output_type": "execute_result",
                    "metadata": {},
                    "data": {
                        "text/plain": "array([11.5,  1. ,  1. , -3. ])"
                    },
                    "execution_count": null
                }
            ]
        },
        {
            "id": "7a069888",
            "cell_type": "code",
            "metadata": {},
            "execution_count": null,
            "source": "lagint([1,2], m=2, k=[1,2], lbnd=-1)",
            "outputs": [
                {
                    "output_type": "execute_result",
                    "metadata": {},
                    "data": {
                        "text/plain": "array([ 11.16666667,  -5.        ,  -3.        ,   2.        ]) # may vary"
                    },
                    "execution_count": null
                }
            ]
        }
    ]
}