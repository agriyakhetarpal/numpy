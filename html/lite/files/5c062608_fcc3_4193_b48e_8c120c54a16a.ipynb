{
    "nbformat": 4,
    "nbformat_minor": 5,
    "metadata": {
        "kernelspec": {
            "display_name": "Python",
            "language": "python",
            "name": "python"
        },
        "language_info": {
            "name": "python"
        }
    },
    "cells": [
        {
            "id": "f4434cf5",
            "cell_type": "markdown",
            "source": "<div class='alert alert-warning'>\n\nNumPy's interactive examples are experimental and may not always work as expected, with high load times especially on low-resource platforms, , and the version of NumPy might not be in sync with the one you are browsing the documentation for. If you encounter any issues, please report them on the [NumPy issue tracker](https://github.com/numpy/numpy/issues).\n\n</div>",
            "metadata": {}
        },
        {
            "id": "870f0441",
            "cell_type": "code",
            "metadata": {},
            "execution_count": null,
            "source": "import numpy as np\na = np.zeros((3, 3), int)\nnp.fill_diagonal(a, 5)\na",
            "outputs": [
                {
                    "output_type": "execute_result",
                    "metadata": {},
                    "data": {
                        "text/plain": "array([[5, 0, 0],\n       [0, 5, 0],\n       [0, 0, 5]])"
                    },
                    "execution_count": null
                }
            ]
        },
        {
            "id": "fc779dfa",
            "cell_type": "markdown",
            "source": "The same function can operate on a 4-D array:\n",
            "metadata": {}
        },
        {
            "id": "34743b17",
            "cell_type": "code",
            "metadata": {},
            "execution_count": null,
            "source": "a = np.zeros((3, 3, 3, 3), int)\nnp.fill_diagonal(a, 4)",
            "outputs": []
        },
        {
            "id": "83058d8e",
            "cell_type": "markdown",
            "source": "We only show a few blocks for clarity:\n",
            "metadata": {}
        },
        {
            "id": "ad2964d9",
            "cell_type": "code",
            "metadata": {},
            "execution_count": null,
            "source": "a[0, 0]",
            "outputs": [
                {
                    "output_type": "execute_result",
                    "metadata": {},
                    "data": {
                        "text/plain": "array([[4, 0, 0],\n       [0, 0, 0],\n       [0, 0, 0]])"
                    },
                    "execution_count": null
                }
            ]
        },
        {
            "id": "0eb0c6dc",
            "cell_type": "code",
            "metadata": {},
            "execution_count": null,
            "source": "a[1, 1]",
            "outputs": [
                {
                    "output_type": "execute_result",
                    "metadata": {},
                    "data": {
                        "text/plain": "array([[0, 0, 0],\n       [0, 4, 0],\n       [0, 0, 0]])"
                    },
                    "execution_count": null
                }
            ]
        },
        {
            "id": "f5dd3f01",
            "cell_type": "code",
            "metadata": {},
            "execution_count": null,
            "source": "a[2, 2]",
            "outputs": [
                {
                    "output_type": "execute_result",
                    "metadata": {},
                    "data": {
                        "text/plain": "array([[0, 0, 0],\n       [0, 0, 0],\n       [0, 0, 4]])"
                    },
                    "execution_count": null
                }
            ]
        },
        {
            "id": "2480abd2",
            "cell_type": "markdown",
            "source": "The wrap option affects only tall matrices:\n",
            "metadata": {}
        },
        {
            "id": "9f12111b",
            "cell_type": "code",
            "metadata": {},
            "execution_count": null,
            "source": "# tall matrices no wrap\na = np.zeros((5, 3), int)\nnp.fill_diagonal(a, 4)\na",
            "outputs": [
                {
                    "output_type": "execute_result",
                    "metadata": {},
                    "data": {
                        "text/plain": "array([[4, 0, 0],\n       [0, 4, 0],\n       [0, 0, 4],\n       [0, 0, 0],\n       [0, 0, 0]])"
                    },
                    "execution_count": null
                }
            ]
        },
        {
            "id": "16e8a7ec",
            "cell_type": "code",
            "metadata": {},
            "execution_count": null,
            "source": "# tall matrices wrap\na = np.zeros((5, 3), int)\nnp.fill_diagonal(a, 4, wrap=True)\na",
            "outputs": [
                {
                    "output_type": "execute_result",
                    "metadata": {},
                    "data": {
                        "text/plain": "array([[4, 0, 0],\n       [0, 4, 0],\n       [0, 0, 4],\n       [0, 0, 0],\n       [4, 0, 0]])"
                    },
                    "execution_count": null
                }
            ]
        },
        {
            "id": "5cede87b",
            "cell_type": "code",
            "metadata": {},
            "execution_count": null,
            "source": "# wide matrices\na = np.zeros((3, 5), int)\nnp.fill_diagonal(a, 4, wrap=True)\na",
            "outputs": [
                {
                    "output_type": "execute_result",
                    "metadata": {},
                    "data": {
                        "text/plain": "array([[4, 0, 0, 0, 0],\n       [0, 4, 0, 0, 0],\n       [0, 0, 4, 0, 0]])"
                    },
                    "execution_count": null
                }
            ]
        },
        {
            "id": "e297567c",
            "cell_type": "markdown",
            "source": "The anti-diagonal can be filled by reversing the order of elements\nusing either `numpy.flipud` or `numpy.fliplr`.\n",
            "metadata": {}
        },
        {
            "id": "b101ca17",
            "cell_type": "code",
            "metadata": {},
            "execution_count": null,
            "source": "a = np.zeros((3, 3), int);\nnp.fill_diagonal(np.fliplr(a), [1,2,3])  # Horizontal flip\na",
            "outputs": [
                {
                    "output_type": "execute_result",
                    "metadata": {},
                    "data": {
                        "text/plain": "array([[0, 0, 1],\n       [0, 2, 0],\n       [3, 0, 0]])"
                    },
                    "execution_count": null
                }
            ]
        },
        {
            "id": "97d4b373",
            "cell_type": "code",
            "metadata": {},
            "execution_count": null,
            "source": "np.fill_diagonal(np.flipud(a), [1,2,3])  # Vertical flip\na",
            "outputs": [
                {
                    "output_type": "execute_result",
                    "metadata": {},
                    "data": {
                        "text/plain": "array([[0, 0, 3],\n       [0, 2, 0],\n       [1, 0, 0]])"
                    },
                    "execution_count": null
                }
            ]
        },
        {
            "id": "53c32d76",
            "cell_type": "markdown",
            "source": "Note that the order in which the diagonal is filled varies depending\non the flip function.",
            "metadata": {}
        }
    ]
}