{
    "nbformat": 4,
    "nbformat_minor": 5,
    "metadata": {
        "kernelspec": {
            "display_name": "Python",
            "language": "python",
            "name": "python"
        },
        "language_info": {
            "name": "python"
        }
    },
    "cells": [
        {
            "id": "806c507c",
            "cell_type": "markdown",
            "source": "<div class='alert alert-warning'>\n\nNumPy's interactive examples are experimental and may not always work as expected, with high load times especially on low-resource platforms, , and the version of NumPy might not be in sync with the one you are browsing the documentation for. If you encounter any issues, please report them on the [NumPy issue tracker](https://github.com/numpy/numpy/issues).\n\n</div>",
            "metadata": {}
        },
        {
            "id": "5363d6d5",
            "cell_type": "code",
            "metadata": {},
            "execution_count": null,
            "source": "import numpy as np\ndata = np.arange(12, dtype='float32')\ndata.resize((3,4))",
            "outputs": []
        },
        {
            "id": "590f0a28",
            "cell_type": "markdown",
            "source": "This example uses a temporary file so that doctest doesn't write\nfiles to your directory. You would use a 'normal' filename.\n",
            "metadata": {}
        },
        {
            "id": "e5acc27b",
            "cell_type": "code",
            "metadata": {},
            "execution_count": null,
            "source": "from tempfile import mkdtemp\nimport os.path as path\nfilename = path.join(mkdtemp(), 'newfile.dat')",
            "outputs": []
        },
        {
            "id": "28d78b0b",
            "cell_type": "markdown",
            "source": "Create a memmap with dtype and shape that matches our data:\n",
            "metadata": {}
        },
        {
            "id": "5c86df21",
            "cell_type": "code",
            "metadata": {},
            "execution_count": null,
            "source": "fp = np.memmap(filename, dtype='float32', mode='w+', shape=(3,4))\nfp",
            "outputs": [
                {
                    "output_type": "execute_result",
                    "metadata": {},
                    "data": {
                        "text/plain": "memmap([[0., 0., 0., 0.],\n        [0., 0., 0., 0.],\n        [0., 0., 0., 0.]], dtype=float32)"
                    },
                    "execution_count": null
                }
            ]
        },
        {
            "id": "fe574435",
            "cell_type": "markdown",
            "source": "Write data to memmap array:\n",
            "metadata": {}
        },
        {
            "id": "fc73ba1b",
            "cell_type": "code",
            "metadata": {},
            "execution_count": null,
            "source": "fp[:] = data[:]\nfp",
            "outputs": [
                {
                    "output_type": "execute_result",
                    "metadata": {},
                    "data": {
                        "text/plain": "memmap([[  0.,   1.,   2.,   3.],\n        [  4.,   5.,   6.,   7.],\n        [  8.,   9.,  10.,  11.]], dtype=float32)"
                    },
                    "execution_count": null
                }
            ]
        },
        {
            "id": "3c9757e1",
            "cell_type": "code",
            "metadata": {},
            "execution_count": null,
            "source": "fp.filename == path.abspath(filename)",
            "outputs": [
                {
                    "output_type": "execute_result",
                    "metadata": {},
                    "data": {
                        "text/plain": "True"
                    },
                    "execution_count": null
                }
            ]
        },
        {
            "id": "f3e9440f",
            "cell_type": "markdown",
            "source": "Flushes memory changes to disk in order to read them back\n",
            "metadata": {}
        },
        {
            "id": "ade15857",
            "cell_type": "code",
            "metadata": {},
            "execution_count": null,
            "source": "fp.flush()",
            "outputs": []
        },
        {
            "id": "7dac8611",
            "cell_type": "markdown",
            "source": "Load the memmap and verify data was stored:\n",
            "metadata": {}
        },
        {
            "id": "2c298afa",
            "cell_type": "code",
            "metadata": {},
            "execution_count": null,
            "source": "newfp = np.memmap(filename, dtype='float32', mode='r', shape=(3,4))\nnewfp",
            "outputs": [
                {
                    "output_type": "execute_result",
                    "metadata": {},
                    "data": {
                        "text/plain": "memmap([[  0.,   1.,   2.,   3.],\n        [  4.,   5.,   6.,   7.],\n        [  8.,   9.,  10.,  11.]], dtype=float32)"
                    },
                    "execution_count": null
                }
            ]
        },
        {
            "id": "1dcfe33b",
            "cell_type": "markdown",
            "source": "Read-only memmap:\n",
            "metadata": {}
        },
        {
            "id": "7b0a1cd9",
            "cell_type": "code",
            "metadata": {},
            "execution_count": null,
            "source": "fpr = np.memmap(filename, dtype='float32', mode='r', shape=(3,4))\nfpr.flags.writeable",
            "outputs": [
                {
                    "output_type": "execute_result",
                    "metadata": {},
                    "data": {
                        "text/plain": "False"
                    },
                    "execution_count": null
                }
            ]
        },
        {
            "id": "f463ff7e",
            "cell_type": "markdown",
            "source": "Copy-on-write memmap:\n",
            "metadata": {}
        },
        {
            "id": "41a8551a",
            "cell_type": "code",
            "metadata": {},
            "execution_count": null,
            "source": "fpc = np.memmap(filename, dtype='float32', mode='c', shape=(3,4))\nfpc.flags.writeable",
            "outputs": [
                {
                    "output_type": "execute_result",
                    "metadata": {},
                    "data": {
                        "text/plain": "True"
                    },
                    "execution_count": null
                }
            ]
        },
        {
            "id": "026dce9b",
            "cell_type": "markdown",
            "source": "It's possible to assign to copy-on-write array, but values are only\nwritten into the memory copy of the array, and not written to disk:\n",
            "metadata": {}
        },
        {
            "id": "e2f1f853",
            "cell_type": "code",
            "metadata": {},
            "execution_count": null,
            "source": "fpc",
            "outputs": [
                {
                    "output_type": "execute_result",
                    "metadata": {},
                    "data": {
                        "text/plain": "memmap([[  0.,   1.,   2.,   3.],\n        [  4.,   5.,   6.,   7.],\n        [  8.,   9.,  10.,  11.]], dtype=float32)"
                    },
                    "execution_count": null
                }
            ]
        },
        {
            "id": "28be3409",
            "cell_type": "code",
            "metadata": {},
            "execution_count": null,
            "source": "fpc[0,:] = 0\nfpc",
            "outputs": [
                {
                    "output_type": "execute_result",
                    "metadata": {},
                    "data": {
                        "text/plain": "memmap([[  0.,   0.,   0.,   0.],\n        [  4.,   5.,   6.,   7.],\n        [  8.,   9.,  10.,  11.]], dtype=float32)"
                    },
                    "execution_count": null
                }
            ]
        },
        {
            "id": "7e282a84",
            "cell_type": "markdown",
            "source": "File on disk is unchanged:\n",
            "metadata": {}
        },
        {
            "id": "aa425633",
            "cell_type": "code",
            "metadata": {},
            "execution_count": null,
            "source": "fpr",
            "outputs": [
                {
                    "output_type": "execute_result",
                    "metadata": {},
                    "data": {
                        "text/plain": "memmap([[  0.,   1.,   2.,   3.],\n        [  4.,   5.,   6.,   7.],\n        [  8.,   9.,  10.,  11.]], dtype=float32)"
                    },
                    "execution_count": null
                }
            ]
        },
        {
            "id": "f93ab0cf",
            "cell_type": "markdown",
            "source": "Offset into a memmap:\n",
            "metadata": {}
        },
        {
            "id": "5c76fd20",
            "cell_type": "code",
            "metadata": {},
            "execution_count": null,
            "source": "fpo = np.memmap(filename, dtype='float32', mode='r', offset=16)\nfpo",
            "outputs": [
                {
                    "output_type": "execute_result",
                    "metadata": {},
                    "data": {
                        "text/plain": "memmap([  4.,   5.,   6.,   7.,   8.,   9.,  10.,  11.], dtype=float32)"
                    },
                    "execution_count": null
                }
            ]
        }
    ]
}