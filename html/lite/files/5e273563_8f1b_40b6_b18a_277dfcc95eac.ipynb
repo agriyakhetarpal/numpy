{
    "nbformat": 4,
    "nbformat_minor": 5,
    "metadata": {
        "kernelspec": {
            "display_name": "Python",
            "language": "python",
            "name": "python"
        },
        "language_info": {
            "name": "python"
        }
    },
    "cells": [
        {
            "id": "85d42e29",
            "cell_type": "markdown",
            "source": "<div class='alert alert-warning'>\n\nNumPy's interactive examples are experimental and may not always work as expected, with high load times especially on low-resource platforms, , and the version of NumPy might not be in sync with the one you are browsing the documentation for. If you encounter any issues, please report them on the [NumPy issue tracker](https://github.com/numpy/numpy/issues).\n\n</div>",
            "metadata": {}
        },
        {
            "id": "e19a7314",
            "cell_type": "code",
            "metadata": {},
            "execution_count": null,
            "source": "import numpy as np\nnp.copysign(1.3, -1)",
            "outputs": [
                {
                    "output_type": "execute_result",
                    "metadata": {},
                    "data": {
                        "text/plain": "-1.3"
                    },
                    "execution_count": null
                }
            ]
        },
        {
            "id": "9b53ef24",
            "cell_type": "code",
            "metadata": {},
            "execution_count": null,
            "source": "1/np.copysign(0, 1)",
            "outputs": [
                {
                    "output_type": "execute_result",
                    "metadata": {},
                    "data": {
                        "text/plain": "inf"
                    },
                    "execution_count": null
                }
            ]
        },
        {
            "id": "c906a138",
            "cell_type": "code",
            "metadata": {},
            "execution_count": null,
            "source": "1/np.copysign(0, -1)",
            "outputs": [
                {
                    "output_type": "execute_result",
                    "metadata": {},
                    "data": {
                        "text/plain": "-inf"
                    },
                    "execution_count": null
                }
            ]
        },
        {
            "id": "5ca6aed7",
            "cell_type": "code",
            "metadata": {},
            "execution_count": null,
            "source": "np.copysign([-1, 0, 1], -1.1)",
            "outputs": [
                {
                    "output_type": "execute_result",
                    "metadata": {},
                    "data": {
                        "text/plain": "array([-1., -0., -1.])"
                    },
                    "execution_count": null
                }
            ]
        },
        {
            "id": "5ca18932",
            "cell_type": "code",
            "metadata": {},
            "execution_count": null,
            "source": "np.copysign([-1, 0, 1], np.arange(3)-1)",
            "outputs": [
                {
                    "output_type": "execute_result",
                    "metadata": {},
                    "data": {
                        "text/plain": "array([-1.,  0.,  1.])"
                    },
                    "execution_count": null
                }
            ]
        }
    ]
}