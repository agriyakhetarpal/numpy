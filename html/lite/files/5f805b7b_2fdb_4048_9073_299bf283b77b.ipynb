{
    "nbformat": 4,
    "nbformat_minor": 5,
    "metadata": {
        "kernelspec": {
            "display_name": "Python",
            "language": "python",
            "name": "python"
        },
        "language_info": {
            "name": "python"
        }
    },
    "cells": [
        {
            "id": "f8048e4e",
            "cell_type": "markdown",
            "source": "<div class='alert alert-warning'>\n\nNumPy's interactive examples are experimental and may not always work as expected, with high load times especially on low-resource platforms, , and the version of NumPy might not be in sync with the one you are browsing the documentation for. If you encounter any issues, please report them on the [NumPy issue tracker](https://github.com/numpy/numpy/issues).\n\n</div>",
            "metadata": {}
        },
        {
            "id": "d970bf2c",
            "cell_type": "code",
            "metadata": {},
            "execution_count": null,
            "source": "import numpy as np",
            "outputs": []
        },
        {
            "id": "3b5dd7cf",
            "cell_type": "markdown",
            "source": "The number 13 is represented by ``00001101``.  Likewise, 17 is\nrepresented by ``00010001``.  The bit-wise AND of 13 and 17 is\ntherefore ``000000001``, or 1:\n",
            "metadata": {}
        },
        {
            "id": "9c0b9c14",
            "cell_type": "code",
            "metadata": {},
            "execution_count": null,
            "source": "np.bitwise_and(13, 17)",
            "outputs": [
                {
                    "output_type": "execute_result",
                    "metadata": {},
                    "data": {
                        "text/plain": "1"
                    },
                    "execution_count": null
                }
            ]
        },
        {
            "id": "d382d080",
            "cell_type": "code",
            "metadata": {},
            "execution_count": null,
            "source": "np.bitwise_and(14, 13)",
            "outputs": [
                {
                    "output_type": "execute_result",
                    "metadata": {},
                    "data": {
                        "text/plain": "12"
                    },
                    "execution_count": null
                }
            ]
        },
        {
            "id": "ef48cbed",
            "cell_type": "code",
            "metadata": {},
            "execution_count": null,
            "source": "np.binary_repr(12)",
            "outputs": [
                {
                    "output_type": "execute_result",
                    "metadata": {},
                    "data": {
                        "text/plain": "'1100'"
                    },
                    "execution_count": null
                }
            ]
        },
        {
            "id": "15e794c5",
            "cell_type": "code",
            "metadata": {},
            "execution_count": null,
            "source": "np.bitwise_and([14,3], 13)",
            "outputs": [
                {
                    "output_type": "execute_result",
                    "metadata": {},
                    "data": {
                        "text/plain": "array([12,  1])"
                    },
                    "execution_count": null
                }
            ]
        },
        {
            "id": "6c0e86e0",
            "cell_type": "code",
            "metadata": {},
            "execution_count": null,
            "source": "np.bitwise_and([11,7], [4,25])",
            "outputs": [
                {
                    "output_type": "execute_result",
                    "metadata": {},
                    "data": {
                        "text/plain": "array([0, 1])"
                    },
                    "execution_count": null
                }
            ]
        },
        {
            "id": "3790f629",
            "cell_type": "code",
            "metadata": {},
            "execution_count": null,
            "source": "np.bitwise_and(np.array([2,5,255]), np.array([3,14,16]))",
            "outputs": [
                {
                    "output_type": "execute_result",
                    "metadata": {},
                    "data": {
                        "text/plain": "array([ 2,  4, 16])"
                    },
                    "execution_count": null
                }
            ]
        },
        {
            "id": "66940975",
            "cell_type": "code",
            "metadata": {},
            "execution_count": null,
            "source": "np.bitwise_and([True, True], [False, True])",
            "outputs": [
                {
                    "output_type": "execute_result",
                    "metadata": {},
                    "data": {
                        "text/plain": "array([False,  True])"
                    },
                    "execution_count": null
                }
            ]
        },
        {
            "id": "a7257b03",
            "cell_type": "markdown",
            "source": "The ``&`` operator can be used as a shorthand for ``np.bitwise_and`` on\nndarrays.\n",
            "metadata": {}
        },
        {
            "id": "21f2fe70",
            "cell_type": "code",
            "metadata": {},
            "execution_count": null,
            "source": "x1 = np.array([2, 5, 255])\nx2 = np.array([3, 14, 16])\nx1 & x2",
            "outputs": [
                {
                    "output_type": "execute_result",
                    "metadata": {},
                    "data": {
                        "text/plain": "array([ 2,  4, 16])"
                    },
                    "execution_count": null
                }
            ]
        }
    ]
}