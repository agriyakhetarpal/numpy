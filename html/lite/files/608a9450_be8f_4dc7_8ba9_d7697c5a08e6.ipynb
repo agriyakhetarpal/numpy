{
    "nbformat": 4,
    "nbformat_minor": 5,
    "metadata": {
        "kernelspec": {
            "display_name": "Python",
            "language": "python",
            "name": "python"
        },
        "language_info": {
            "name": "python"
        }
    },
    "cells": [
        {
            "id": "a558ad90",
            "cell_type": "markdown",
            "source": "<div class='alert alert-warning'>\n\nNumPy's interactive examples are experimental and may not always work as expected, with high load times especially on low-resource platforms, , and the version of NumPy might not be in sync with the one you are browsing the documentation for. If you encounter any issues, please report them on the [NumPy issue tracker](https://github.com/numpy/numpy/issues).\n\n</div>",
            "metadata": {}
        },
        {
            "id": "c29f3ccb",
            "cell_type": "code",
            "metadata": {},
            "execution_count": null,
            "source": "import numpy as np",
            "outputs": []
        },
        {
            "id": "31a9a832",
            "cell_type": "markdown",
            "source": "Compute two different sets of indices to access 4x4 arrays, one for the\nlower triangular part starting at the main diagonal, and one starting two\ndiagonals further right:\n",
            "metadata": {}
        },
        {
            "id": "70338750",
            "cell_type": "code",
            "metadata": {},
            "execution_count": null,
            "source": "il1 = np.tril_indices(4)\nil2 = np.tril_indices(4, 2)",
            "outputs": []
        },
        {
            "id": "43c75514",
            "cell_type": "markdown",
            "source": "Here is how they can be used with a sample array:\n",
            "metadata": {}
        },
        {
            "id": "646902a9",
            "cell_type": "code",
            "metadata": {},
            "execution_count": null,
            "source": "a = np.arange(16).reshape(4, 4)\na",
            "outputs": [
                {
                    "output_type": "execute_result",
                    "metadata": {},
                    "data": {
                        "text/plain": "array([[ 0,  1,  2,  3],\n       [ 4,  5,  6,  7],\n       [ 8,  9, 10, 11],\n       [12, 13, 14, 15]])"
                    },
                    "execution_count": null
                }
            ]
        },
        {
            "id": "b0f3f155",
            "cell_type": "markdown",
            "source": "Both for indexing:\n",
            "metadata": {}
        },
        {
            "id": "12079bcd",
            "cell_type": "code",
            "metadata": {},
            "execution_count": null,
            "source": "a[il1]",
            "outputs": [
                {
                    "output_type": "execute_result",
                    "metadata": {},
                    "data": {
                        "text/plain": "array([ 0,  4,  5, ..., 13, 14, 15])"
                    },
                    "execution_count": null
                }
            ]
        },
        {
            "id": "32e3375d",
            "cell_type": "markdown",
            "source": "And for assigning values:\n",
            "metadata": {}
        },
        {
            "id": "5c8d272d",
            "cell_type": "code",
            "metadata": {},
            "execution_count": null,
            "source": "a[il1] = -1\na",
            "outputs": [
                {
                    "output_type": "execute_result",
                    "metadata": {},
                    "data": {
                        "text/plain": "array([[-1,  1,  2,  3],\n       [-1, -1,  6,  7],\n       [-1, -1, -1, 11],\n       [-1, -1, -1, -1]])"
                    },
                    "execution_count": null
                }
            ]
        },
        {
            "id": "f5710332",
            "cell_type": "markdown",
            "source": "These cover almost the whole array (two diagonals right of the main one):\n",
            "metadata": {}
        },
        {
            "id": "999a619a",
            "cell_type": "code",
            "metadata": {},
            "execution_count": null,
            "source": "a[il2] = -10\na",
            "outputs": [
                {
                    "output_type": "execute_result",
                    "metadata": {},
                    "data": {
                        "text/plain": "array([[-10, -10, -10,   3],\n       [-10, -10, -10, -10],\n       [-10, -10, -10, -10],\n       [-10, -10, -10, -10]])"
                    },
                    "execution_count": null
                }
            ]
        }
    ]
}