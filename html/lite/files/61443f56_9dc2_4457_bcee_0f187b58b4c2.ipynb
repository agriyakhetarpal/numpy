{
    "nbformat": 4,
    "nbformat_minor": 5,
    "metadata": {
        "kernelspec": {
            "display_name": "Python",
            "language": "python",
            "name": "python"
        },
        "language_info": {
            "name": "python"
        }
    },
    "cells": [
        {
            "id": "6792faac",
            "cell_type": "markdown",
            "source": "<div class='alert alert-warning'>\n\nNumPy's interactive examples are experimental and may not always work as expected, with high load times especially on low-resource platforms, , and the version of NumPy might not be in sync with the one you are browsing the documentation for. If you encounter any issues, please report them on the [NumPy issue tracker](https://github.com/numpy/numpy/issues).\n\n</div>",
            "metadata": {}
        },
        {
            "id": "44bafc55",
            "cell_type": "markdown",
            "source": "The determinant of a 2-D array ``[[a, b], [c, d]]`` is ``ad - bc``:\n",
            "metadata": {}
        },
        {
            "id": "ea425df7",
            "cell_type": "code",
            "metadata": {},
            "execution_count": null,
            "source": "import numpy as np\na = np.array([[1, 2], [3, 4]])\n(sign, logabsdet) = np.linalg.slogdet(a)\n(sign, logabsdet)",
            "outputs": [
                {
                    "output_type": "execute_result",
                    "metadata": {},
                    "data": {
                        "text/plain": "(-1, 0.69314718055994529) # may vary"
                    },
                    "execution_count": null
                }
            ]
        },
        {
            "id": "e6fe6f02",
            "cell_type": "code",
            "metadata": {},
            "execution_count": null,
            "source": "sign * np.exp(logabsdet)",
            "outputs": [
                {
                    "output_type": "execute_result",
                    "metadata": {},
                    "data": {
                        "text/plain": "-2.0"
                    },
                    "execution_count": null
                }
            ]
        },
        {
            "id": "7753ab84",
            "cell_type": "markdown",
            "source": "Computing log-determinants for a stack of matrices:\n",
            "metadata": {}
        },
        {
            "id": "b933b3ac",
            "cell_type": "code",
            "metadata": {},
            "execution_count": null,
            "source": "a = np.array([ [[1, 2], [3, 4]], [[1, 2], [2, 1]], [[1, 3], [3, 1]] ])\na.shape",
            "outputs": [
                {
                    "output_type": "execute_result",
                    "metadata": {},
                    "data": {
                        "text/plain": "(3, 2, 2)"
                    },
                    "execution_count": null
                }
            ]
        },
        {
            "id": "c815c23c",
            "cell_type": "code",
            "metadata": {},
            "execution_count": null,
            "source": "sign, logabsdet = np.linalg.slogdet(a)\n(sign, logabsdet)",
            "outputs": [
                {
                    "output_type": "execute_result",
                    "metadata": {},
                    "data": {
                        "text/plain": "(array([-1., -1., -1.]), array([ 0.69314718,  1.09861229,  2.07944154]))"
                    },
                    "execution_count": null
                }
            ]
        },
        {
            "id": "0bf314ed",
            "cell_type": "code",
            "metadata": {},
            "execution_count": null,
            "source": "sign * np.exp(logabsdet)",
            "outputs": [
                {
                    "output_type": "execute_result",
                    "metadata": {},
                    "data": {
                        "text/plain": "array([-2., -3., -8.])"
                    },
                    "execution_count": null
                }
            ]
        },
        {
            "id": "9b2162f5",
            "cell_type": "markdown",
            "source": "This routine succeeds where ordinary `det` does not:\n",
            "metadata": {}
        },
        {
            "id": "de6d6c90",
            "cell_type": "code",
            "metadata": {},
            "execution_count": null,
            "source": "np.linalg.det(np.eye(500) * 0.1)",
            "outputs": [
                {
                    "output_type": "execute_result",
                    "metadata": {},
                    "data": {
                        "text/plain": "0.0"
                    },
                    "execution_count": null
                }
            ]
        },
        {
            "id": "55c5405e",
            "cell_type": "code",
            "metadata": {},
            "execution_count": null,
            "source": "np.linalg.slogdet(np.eye(500) * 0.1)",
            "outputs": [
                {
                    "output_type": "execute_result",
                    "metadata": {},
                    "data": {
                        "text/plain": "(1, -1151.2925464970228)"
                    },
                    "execution_count": null
                }
            ]
        }
    ]
}