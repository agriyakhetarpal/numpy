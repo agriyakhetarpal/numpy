{
    "nbformat": 4,
    "nbformat_minor": 5,
    "metadata": {
        "kernelspec": {
            "display_name": "Python",
            "language": "python",
            "name": "python"
        },
        "language_info": {
            "name": "python"
        }
    },
    "cells": [
        {
            "id": "a563ca30",
            "cell_type": "markdown",
            "source": "<div class='alert alert-warning'>\n\nNumPy's interactive examples are experimental and may not always work as expected, with high load times especially on low-resource platforms, , and the version of NumPy might not be in sync with the one you are browsing the documentation for. If you encounter any issues, please report them on the [NumPy issue tracker](https://github.com/numpy/numpy/issues).\n\n</div>",
            "metadata": {}
        },
        {
            "id": "46dcb87a",
            "cell_type": "code",
            "metadata": {},
            "execution_count": null,
            "source": "import numpy as np\nnp.arange(3)",
            "outputs": [
                {
                    "output_type": "execute_result",
                    "metadata": {},
                    "data": {
                        "text/plain": "array([0, 1, 2])"
                    },
                    "execution_count": null
                }
            ]
        },
        {
            "id": "d9221fd2",
            "cell_type": "code",
            "metadata": {},
            "execution_count": null,
            "source": "np.arange(3.0)",
            "outputs": [
                {
                    "output_type": "execute_result",
                    "metadata": {},
                    "data": {
                        "text/plain": "array([ 0.,  1.,  2.])"
                    },
                    "execution_count": null
                }
            ]
        },
        {
            "id": "8ad66b90",
            "cell_type": "code",
            "metadata": {},
            "execution_count": null,
            "source": "np.arange(3,7)",
            "outputs": [
                {
                    "output_type": "execute_result",
                    "metadata": {},
                    "data": {
                        "text/plain": "array([3, 4, 5, 6])"
                    },
                    "execution_count": null
                }
            ]
        },
        {
            "id": "c7e532a3",
            "cell_type": "code",
            "metadata": {},
            "execution_count": null,
            "source": "np.arange(3,7,2)",
            "outputs": [
                {
                    "output_type": "execute_result",
                    "metadata": {},
                    "data": {
                        "text/plain": "array([3, 5])"
                    },
                    "execution_count": null
                }
            ]
        }
    ]
}