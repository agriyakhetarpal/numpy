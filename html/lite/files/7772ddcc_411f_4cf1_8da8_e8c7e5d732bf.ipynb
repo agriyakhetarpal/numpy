{
    "nbformat": 4,
    "nbformat_minor": 5,
    "metadata": {
        "kernelspec": {
            "display_name": "Python",
            "language": "python",
            "name": "python"
        },
        "language_info": {
            "name": "python"
        }
    },
    "cells": [
        {
            "id": "7c064cd7",
            "cell_type": "markdown",
            "source": "<div class='alert alert-warning'>\n\nNumPy's interactive examples are experimental and may not always work as expected, with high load times especially on low-resource platforms, , and the version of NumPy might not be in sync with the one you are browsing the documentation for. If you encounter any issues, please report them on the [NumPy issue tracker](https://github.com/numpy/numpy/issues).\n\n</div>",
            "metadata": {}
        },
        {
            "id": "89055278",
            "cell_type": "code",
            "metadata": {},
            "execution_count": null,
            "source": "import numpy as np\nfrom numpy.lib.stride_tricks import sliding_window_view\nx = np.arange(6)\nx.shape",
            "outputs": [
                {
                    "output_type": "execute_result",
                    "metadata": {},
                    "data": {
                        "text/plain": "(6,)"
                    },
                    "execution_count": null
                }
            ]
        },
        {
            "id": "05618a3b",
            "cell_type": "code",
            "metadata": {},
            "execution_count": null,
            "source": "v = sliding_window_view(x, 3)\nv.shape",
            "outputs": [
                {
                    "output_type": "execute_result",
                    "metadata": {},
                    "data": {
                        "text/plain": "(4, 3)"
                    },
                    "execution_count": null
                }
            ]
        },
        {
            "id": "f00c7118",
            "cell_type": "code",
            "metadata": {},
            "execution_count": null,
            "source": "v",
            "outputs": [
                {
                    "output_type": "execute_result",
                    "metadata": {},
                    "data": {
                        "text/plain": "array([[0, 1, 2],\n       [1, 2, 3],\n       [2, 3, 4],\n       [3, 4, 5]])"
                    },
                    "execution_count": null
                }
            ]
        },
        {
            "id": "1777af32",
            "cell_type": "markdown",
            "source": "This also works in more dimensions, e.g.\n",
            "metadata": {}
        },
        {
            "id": "95849185",
            "cell_type": "code",
            "metadata": {},
            "execution_count": null,
            "source": "i, j = np.ogrid[:3, :4]\nx = 10*i + j\nx.shape",
            "outputs": [
                {
                    "output_type": "execute_result",
                    "metadata": {},
                    "data": {
                        "text/plain": "(3, 4)"
                    },
                    "execution_count": null
                }
            ]
        },
        {
            "id": "3e87e8d8",
            "cell_type": "code",
            "metadata": {},
            "execution_count": null,
            "source": "x",
            "outputs": [
                {
                    "output_type": "execute_result",
                    "metadata": {},
                    "data": {
                        "text/plain": "array([[ 0,  1,  2,  3],\n       [10, 11, 12, 13],\n       [20, 21, 22, 23]])"
                    },
                    "execution_count": null
                }
            ]
        },
        {
            "id": "3180394d",
            "cell_type": "code",
            "metadata": {},
            "execution_count": null,
            "source": "shape = (2,2)\nv = sliding_window_view(x, shape)\nv.shape",
            "outputs": [
                {
                    "output_type": "execute_result",
                    "metadata": {},
                    "data": {
                        "text/plain": "(2, 3, 2, 2)"
                    },
                    "execution_count": null
                }
            ]
        },
        {
            "id": "f4e70cea",
            "cell_type": "code",
            "metadata": {},
            "execution_count": null,
            "source": "v",
            "outputs": [
                {
                    "output_type": "execute_result",
                    "metadata": {},
                    "data": {
                        "text/plain": "array([[[[ 0,  1],\n         [10, 11]],\n        [[ 1,  2],\n         [11, 12]],\n        [[ 2,  3],\n         [12, 13]]],\n       [[[10, 11],\n         [20, 21]],\n        [[11, 12],\n         [21, 22]],\n        [[12, 13],\n         [22, 23]]]])"
                    },
                    "execution_count": null
                }
            ]
        },
        {
            "id": "471fa36a",
            "cell_type": "markdown",
            "source": "The axis can be specified explicitly:\n",
            "metadata": {}
        },
        {
            "id": "024fcd4f",
            "cell_type": "code",
            "metadata": {},
            "execution_count": null,
            "source": "v = sliding_window_view(x, 3, 0)\nv.shape",
            "outputs": [
                {
                    "output_type": "execute_result",
                    "metadata": {},
                    "data": {
                        "text/plain": "(1, 4, 3)"
                    },
                    "execution_count": null
                }
            ]
        },
        {
            "id": "5b05a74b",
            "cell_type": "code",
            "metadata": {},
            "execution_count": null,
            "source": "v",
            "outputs": [
                {
                    "output_type": "execute_result",
                    "metadata": {},
                    "data": {
                        "text/plain": "array([[[ 0, 10, 20],\n        [ 1, 11, 21],\n        [ 2, 12, 22],\n        [ 3, 13, 23]]])"
                    },
                    "execution_count": null
                }
            ]
        },
        {
            "id": "67b4abd9",
            "cell_type": "markdown",
            "source": "The same axis can be used several times. In that case, every use reduces\nthe corresponding original dimension:\n",
            "metadata": {}
        },
        {
            "id": "955ce993",
            "cell_type": "code",
            "metadata": {},
            "execution_count": null,
            "source": "v = sliding_window_view(x, (2, 3), (1, 1))\nv.shape",
            "outputs": [
                {
                    "output_type": "execute_result",
                    "metadata": {},
                    "data": {
                        "text/plain": "(3, 1, 2, 3)"
                    },
                    "execution_count": null
                }
            ]
        },
        {
            "id": "a8c6d85c",
            "cell_type": "code",
            "metadata": {},
            "execution_count": null,
            "source": "v",
            "outputs": [
                {
                    "output_type": "execute_result",
                    "metadata": {},
                    "data": {
                        "text/plain": "array([[[[ 0,  1,  2],\n         [ 1,  2,  3]]],\n       [[[10, 11, 12],\n         [11, 12, 13]]],\n       [[[20, 21, 22],\n         [21, 22, 23]]]])"
                    },
                    "execution_count": null
                }
            ]
        },
        {
            "id": "94cbd7c7",
            "cell_type": "markdown",
            "source": "Combining with stepped slicing (`::step`), this can be used to take sliding\nviews which skip elements:\n",
            "metadata": {}
        },
        {
            "id": "942afb49",
            "cell_type": "code",
            "metadata": {},
            "execution_count": null,
            "source": "x = np.arange(7)\nsliding_window_view(x, 5)[:, ::2]",
            "outputs": [
                {
                    "output_type": "execute_result",
                    "metadata": {},
                    "data": {
                        "text/plain": "array([[0, 2, 4],\n       [1, 3, 5],\n       [2, 4, 6]])"
                    },
                    "execution_count": null
                }
            ]
        },
        {
            "id": "b330a63f",
            "cell_type": "markdown",
            "source": "or views which move by multiple elements\n",
            "metadata": {}
        },
        {
            "id": "82246fae",
            "cell_type": "code",
            "metadata": {},
            "execution_count": null,
            "source": "x = np.arange(7)\nsliding_window_view(x, 3)[::2, :]",
            "outputs": [
                {
                    "output_type": "execute_result",
                    "metadata": {},
                    "data": {
                        "text/plain": "array([[0, 1, 2],\n       [2, 3, 4],\n       [4, 5, 6]])"
                    },
                    "execution_count": null
                }
            ]
        },
        {
            "id": "92d46705",
            "cell_type": "markdown",
            "source": "A common application of `sliding_window_view` is the calculation of running\nstatistics. The simplest example is the\n[moving average](https://en.wikipedia.org/wiki/Moving_average):\n",
            "metadata": {}
        },
        {
            "id": "18c9cb07",
            "cell_type": "code",
            "metadata": {},
            "execution_count": null,
            "source": "x = np.arange(6)\nx.shape",
            "outputs": [
                {
                    "output_type": "execute_result",
                    "metadata": {},
                    "data": {
                        "text/plain": "(6,)"
                    },
                    "execution_count": null
                }
            ]
        },
        {
            "id": "e51ae4cf",
            "cell_type": "code",
            "metadata": {},
            "execution_count": null,
            "source": "v = sliding_window_view(x, 3)\nv.shape",
            "outputs": [
                {
                    "output_type": "execute_result",
                    "metadata": {},
                    "data": {
                        "text/plain": "(4, 3)"
                    },
                    "execution_count": null
                }
            ]
        },
        {
            "id": "754de7c7",
            "cell_type": "code",
            "metadata": {},
            "execution_count": null,
            "source": "v",
            "outputs": [
                {
                    "output_type": "execute_result",
                    "metadata": {},
                    "data": {
                        "text/plain": "array([[0, 1, 2],\n       [1, 2, 3],\n       [2, 3, 4],\n       [3, 4, 5]])"
                    },
                    "execution_count": null
                }
            ]
        },
        {
            "id": "881cfe3e",
            "cell_type": "code",
            "metadata": {},
            "execution_count": null,
            "source": "moving_average = v.mean(axis=-1)\nmoving_average",
            "outputs": [
                {
                    "output_type": "execute_result",
                    "metadata": {},
                    "data": {
                        "text/plain": "array([1., 2., 3., 4.])"
                    },
                    "execution_count": null
                }
            ]
        },
        {
            "id": "e948f395",
            "cell_type": "markdown",
            "source": "Note that a sliding window approach is often **not** optimal (see Notes).",
            "metadata": {}
        }
    ]
}