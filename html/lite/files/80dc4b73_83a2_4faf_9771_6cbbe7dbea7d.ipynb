{
    "nbformat": 4,
    "nbformat_minor": 5,
    "metadata": {
        "kernelspec": {
            "display_name": "Python",
            "language": "python",
            "name": "python"
        },
        "language_info": {
            "name": "python"
        }
    },
    "cells": [
        {
            "id": "1f9d8c01",
            "cell_type": "markdown",
            "source": "<div class='alert alert-warning'>\n\nNumPy's interactive examples are experimental and may not always work as expected, with high load times especially on low-resource platforms, , and the version of NumPy might not be in sync with the one you are browsing the documentation for. If you encounter any issues, please report them on the [NumPy issue tracker](https://github.com/numpy/numpy/issues).\n\n</div>",
            "metadata": {}
        },
        {
            "id": "a1c8ffa2",
            "cell_type": "markdown",
            "source": "Draw samples from the distribution:\n",
            "metadata": {}
        },
        {
            "id": "380911f5",
            "cell_type": "code",
            "metadata": {},
            "execution_count": null,
            "source": "rng = np.random.default_rng()\nlam, size = 5, 10000\ns = rng.poisson(lam=lam, size=size)",
            "outputs": []
        },
        {
            "id": "ac16f8f1",
            "cell_type": "markdown",
            "source": "Verify the mean and variance, which should be approximately ``lam``:\n",
            "metadata": {}
        },
        {
            "id": "45df1333",
            "cell_type": "code",
            "metadata": {},
            "execution_count": null,
            "source": "s.mean(), s.var()",
            "outputs": [
                {
                    "output_type": "execute_result",
                    "metadata": {},
                    "data": {
                        "text/plain": "(4.9917 5.1088311)  # may vary"
                    },
                    "execution_count": null
                }
            ]
        },
        {
            "id": "2c526254",
            "cell_type": "markdown",
            "source": "Display the histogram and probability mass function:\n",
            "metadata": {}
        },
        {
            "id": "71f5b2b7",
            "cell_type": "code",
            "metadata": {},
            "execution_count": null,
            "source": "import matplotlib.pyplot as plt\nfrom scipy import stats\nx = np.arange(0, 21)\npmf = stats.poisson.pmf(x, mu=lam)\nplt.hist(s, bins=x, density=True, width=0.5)\nplt.stem(x, pmf, 'C1-')\nplt.show()",
            "outputs": []
        },
        {
            "id": "a266381e",
            "cell_type": "markdown",
            "source": "Draw each 100 values for lambda 100 and 500:\n",
            "metadata": {}
        },
        {
            "id": "57d45fd9",
            "cell_type": "code",
            "metadata": {},
            "execution_count": null,
            "source": "s = rng.poisson(lam=(100., 500.), size=(100, 2))",
            "outputs": []
        }
    ]
}