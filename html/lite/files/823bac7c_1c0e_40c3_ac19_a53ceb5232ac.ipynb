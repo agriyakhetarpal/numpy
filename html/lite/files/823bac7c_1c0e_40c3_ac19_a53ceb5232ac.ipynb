{
    "nbformat": 4,
    "nbformat_minor": 5,
    "metadata": {
        "kernelspec": {
            "display_name": "Python",
            "language": "python",
            "name": "python"
        },
        "language_info": {
            "name": "python"
        }
    },
    "cells": [
        {
            "id": "77330176",
            "cell_type": "markdown",
            "source": "<div class='alert alert-warning'>\n\nNumPy's interactive examples are experimental and may not always work as expected, with high load times especially on low-resource platforms, , and the version of NumPy might not be in sync with the one you are browsing the documentation for. If you encounter any issues, please report them on the [NumPy issue tracker](https://github.com/numpy/numpy/issues).\n\n</div>",
            "metadata": {}
        },
        {
            "id": "c4156471",
            "cell_type": "code",
            "metadata": {},
            "execution_count": null,
            "source": "import numpy as np\na = np.arange(10)\na",
            "outputs": [
                {
                    "output_type": "execute_result",
                    "metadata": {},
                    "data": {
                        "text/plain": "array([0, 1, 2, 3, 4, 5, 6, 7, 8, 9])"
                    },
                    "execution_count": null
                }
            ]
        },
        {
            "id": "05687946",
            "cell_type": "code",
            "metadata": {},
            "execution_count": null,
            "source": "np.clip(a, 1, 8)",
            "outputs": [
                {
                    "output_type": "execute_result",
                    "metadata": {},
                    "data": {
                        "text/plain": "array([1, 1, 2, 3, 4, 5, 6, 7, 8, 8])"
                    },
                    "execution_count": null
                }
            ]
        },
        {
            "id": "efa8e51e",
            "cell_type": "code",
            "metadata": {},
            "execution_count": null,
            "source": "np.clip(a, 8, 1)",
            "outputs": [
                {
                    "output_type": "execute_result",
                    "metadata": {},
                    "data": {
                        "text/plain": "array([1, 1, 1, 1, 1, 1, 1, 1, 1, 1])"
                    },
                    "execution_count": null
                }
            ]
        },
        {
            "id": "62654094",
            "cell_type": "code",
            "metadata": {},
            "execution_count": null,
            "source": "np.clip(a, 3, 6, out=a)",
            "outputs": [
                {
                    "output_type": "execute_result",
                    "metadata": {},
                    "data": {
                        "text/plain": "array([3, 3, 3, 3, 4, 5, 6, 6, 6, 6])"
                    },
                    "execution_count": null
                }
            ]
        },
        {
            "id": "7078a206",
            "cell_type": "code",
            "metadata": {},
            "execution_count": null,
            "source": "a",
            "outputs": [
                {
                    "output_type": "execute_result",
                    "metadata": {},
                    "data": {
                        "text/plain": "array([3, 3, 3, 3, 4, 5, 6, 6, 6, 6])"
                    },
                    "execution_count": null
                }
            ]
        },
        {
            "id": "48e27af2",
            "cell_type": "code",
            "metadata": {},
            "execution_count": null,
            "source": "a = np.arange(10)\na",
            "outputs": [
                {
                    "output_type": "execute_result",
                    "metadata": {},
                    "data": {
                        "text/plain": "array([0, 1, 2, 3, 4, 5, 6, 7, 8, 9])"
                    },
                    "execution_count": null
                }
            ]
        },
        {
            "id": "180a4ef7",
            "cell_type": "code",
            "metadata": {},
            "execution_count": null,
            "source": "np.clip(a, [3, 4, 1, 1, 1, 4, 4, 4, 4, 4], 8)",
            "outputs": [
                {
                    "output_type": "execute_result",
                    "metadata": {},
                    "data": {
                        "text/plain": "array([3, 4, 2, 3, 4, 5, 6, 7, 8, 8])"
                    },
                    "execution_count": null
                }
            ]
        }
    ]
}