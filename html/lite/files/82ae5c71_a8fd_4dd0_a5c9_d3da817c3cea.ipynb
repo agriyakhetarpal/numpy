{
    "nbformat": 4,
    "nbformat_minor": 5,
    "metadata": {
        "kernelspec": {
            "display_name": "Python",
            "language": "python",
            "name": "python"
        },
        "language_info": {
            "name": "python"
        }
    },
    "cells": [
        {
            "id": "01afb1a7",
            "cell_type": "markdown",
            "source": "<div class='alert alert-warning'>\n\nNumPy's interactive examples are experimental and may not always work as expected, with high load times especially on low-resource platforms, , and the version of NumPy might not be in sync with the one you are browsing the documentation for. If you encounter any issues, please report them on the [NumPy issue tracker](https://github.com/numpy/numpy/issues).\n\n</div>",
            "metadata": {}
        },
        {
            "id": "49618325",
            "cell_type": "code",
            "metadata": {},
            "execution_count": null,
            "source": "x = np.matrix(np.arange(12).reshape((3, 4)))\nx",
            "outputs": [
                {
                    "output_type": "execute_result",
                    "metadata": {},
                    "data": {
                        "text/plain": "matrix([[ 0,  1,  2,  3],\n        [ 4,  5,  6,  7],\n        [ 8,  9, 10, 11]])"
                    },
                    "execution_count": null
                }
            ]
        },
        {
            "id": "517089c1",
            "cell_type": "code",
            "metadata": {},
            "execution_count": null,
            "source": "x.std()",
            "outputs": [
                {
                    "output_type": "execute_result",
                    "metadata": {},
                    "data": {
                        "text/plain": "3.4520525295346629 # may vary"
                    },
                    "execution_count": null
                }
            ]
        },
        {
            "id": "5f3248a0",
            "cell_type": "code",
            "metadata": {},
            "execution_count": null,
            "source": "x.std(0)",
            "outputs": [
                {
                    "output_type": "execute_result",
                    "metadata": {},
                    "data": {
                        "text/plain": "matrix([[ 3.26598632,  3.26598632,  3.26598632,  3.26598632]]) # may vary"
                    },
                    "execution_count": null
                }
            ]
        },
        {
            "id": "0dcecb04",
            "cell_type": "code",
            "metadata": {},
            "execution_count": null,
            "source": "x.std(1)",
            "outputs": [
                {
                    "output_type": "execute_result",
                    "metadata": {},
                    "data": {
                        "text/plain": "matrix([[ 1.11803399],\n        [ 1.11803399],\n        [ 1.11803399]])"
                    },
                    "execution_count": null
                }
            ]
        }
    ]
}