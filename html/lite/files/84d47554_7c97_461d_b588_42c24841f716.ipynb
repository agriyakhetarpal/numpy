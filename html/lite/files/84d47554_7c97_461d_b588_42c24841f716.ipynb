{
    "nbformat": 4,
    "nbformat_minor": 5,
    "metadata": {
        "kernelspec": {
            "display_name": "Python",
            "language": "python",
            "name": "python"
        },
        "language_info": {
            "name": "python"
        }
    },
    "cells": [
        {
            "id": "ecf39ace",
            "cell_type": "markdown",
            "source": "<div class='alert alert-warning'>\n\nNumPy's interactive examples are experimental and may not always work as expected, with high load times especially on low-resource platforms, , and the version of NumPy might not be in sync with the one you are browsing the documentation for. If you encounter any issues, please report them on the [NumPy issue tracker](https://github.com/numpy/numpy/issues).\n\n</div>",
            "metadata": {}
        },
        {
            "id": "3fc38959",
            "cell_type": "markdown",
            "source": "This API requires passing dtypes, define them for convenience:\n",
            "metadata": {}
        },
        {
            "id": "e2b3b7be",
            "cell_type": "code",
            "metadata": {},
            "execution_count": null,
            "source": "import numpy as np\nint32 = np.dtype(\"int32\")\nfloat32 = np.dtype(\"float32\")",
            "outputs": []
        },
        {
            "id": "b13fda88",
            "cell_type": "markdown",
            "source": "The typical ufunc call does not pass an output dtype.  `numpy.add` has two\ninputs and one output, so leave the output as ``None`` (not provided):\n",
            "metadata": {}
        },
        {
            "id": "0ca84338",
            "cell_type": "code",
            "metadata": {},
            "execution_count": null,
            "source": "np.add.resolve_dtypes((int32, float32, None))",
            "outputs": [
                {
                    "output_type": "execute_result",
                    "metadata": {},
                    "data": {
                        "text/plain": "(dtype('float64'), dtype('float64'), dtype('float64'))"
                    },
                    "execution_count": null
                }
            ]
        },
        {
            "id": "dfc965a5",
            "cell_type": "markdown",
            "source": "The loop found uses \"float64\" for all operands (including the output), the\nfirst input would be cast.\n\n``resolve_dtypes`` supports \"weak\" handling for Python scalars by passing\n``int``, ``float``, or ``complex``:\n",
            "metadata": {}
        },
        {
            "id": "716126a2",
            "cell_type": "code",
            "metadata": {},
            "execution_count": null,
            "source": "np.add.resolve_dtypes((float32, float, None))",
            "outputs": [
                {
                    "output_type": "execute_result",
                    "metadata": {},
                    "data": {
                        "text/plain": "(dtype('float32'), dtype('float32'), dtype('float32'))"
                    },
                    "execution_count": null
                }
            ]
        },
        {
            "id": "f2864429",
            "cell_type": "markdown",
            "source": "Where the Python ``float`` behaves samilar to a Python value ``0.0``\nin a ufunc call.  (See :ref:`NEP 50 <NEP50>` for details.)",
            "metadata": {}
        }
    ]
}