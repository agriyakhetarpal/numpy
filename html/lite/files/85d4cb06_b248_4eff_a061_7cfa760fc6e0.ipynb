{
    "nbformat": 4,
    "nbformat_minor": 5,
    "metadata": {
        "kernelspec": {
            "display_name": "Python",
            "language": "python",
            "name": "python"
        },
        "language_info": {
            "name": "python"
        }
    },
    "cells": [
        {
            "id": "efae43b9",
            "cell_type": "markdown",
            "source": "<div class='alert alert-warning'>\n\nNumPy's interactive examples are experimental and may not always work as expected, with high load times especially on low-resource platforms, , and the version of NumPy might not be in sync with the one you are browsing the documentation for. If you encounter any issues, please report them on the [NumPy issue tracker](https://github.com/numpy/numpy/issues).\n\n</div>",
            "metadata": {}
        },
        {
            "id": "d411d5f9",
            "cell_type": "markdown",
            "source": "Starting from a seeded default generator:\n",
            "metadata": {}
        },
        {
            "id": "a9e83c2f",
            "cell_type": "code",
            "metadata": {},
            "execution_count": null,
            "source": "# High quality entropy created with: f\"0x{secrets.randbits(128):x}\"\nentropy = 0x3034c61a9ae04ff8cb62ab8ec2c4b501\nrng = np.random.default_rng(entropy)",
            "outputs": []
        },
        {
            "id": "3f135a84",
            "cell_type": "markdown",
            "source": "Create two new generators for example for parallel execution:\n",
            "metadata": {}
        },
        {
            "id": "3b2f3761",
            "cell_type": "code",
            "metadata": {},
            "execution_count": null,
            "source": "child_rng1, child_rng2 = rng.spawn(2)",
            "outputs": []
        },
        {
            "id": "91e3757f",
            "cell_type": "markdown",
            "source": "Drawn numbers from each are independent but derived from the initial\nseeding entropy:\n",
            "metadata": {}
        },
        {
            "id": "029e81bd",
            "cell_type": "code",
            "metadata": {},
            "execution_count": null,
            "source": "rng.uniform(), child_rng1.uniform(), child_rng2.uniform()",
            "outputs": [
                {
                    "output_type": "execute_result",
                    "metadata": {},
                    "data": {
                        "text/plain": "(0.19029263503854454, 0.9475673279178444, 0.4702687338396767)"
                    },
                    "execution_count": null
                }
            ]
        },
        {
            "id": "91fee67a",
            "cell_type": "markdown",
            "source": "It is safe to spawn additional children from the original ``rng`` or\nthe children:\n",
            "metadata": {}
        },
        {
            "id": "d9b7e794",
            "cell_type": "code",
            "metadata": {},
            "execution_count": null,
            "source": "more_child_rngs = rng.spawn(20)\nnested_spawn = child_rng1.spawn(20)",
            "outputs": []
        }
    ]
}