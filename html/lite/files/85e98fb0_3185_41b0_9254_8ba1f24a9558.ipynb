{
    "nbformat": 4,
    "nbformat_minor": 5,
    "metadata": {
        "kernelspec": {
            "display_name": "Python",
            "language": "python",
            "name": "python"
        },
        "language_info": {
            "name": "python"
        }
    },
    "cells": [
        {
            "id": "174db46c",
            "cell_type": "markdown",
            "source": "<div class='alert alert-warning'>\n\nNumPy's interactive examples are experimental and may not always work as expected, with high load times especially on low-resource platforms, , and the version of NumPy might not be in sync with the one you are browsing the documentation for. If you encounter any issues, please report them on the [NumPy issue tracker](https://github.com/numpy/numpy/issues).\n\n</div>",
            "metadata": {}
        },
        {
            "id": "cc81a988",
            "cell_type": "markdown",
            "source": "Callback upon error:\n",
            "metadata": {}
        },
        {
            "id": "d0db885b",
            "cell_type": "code",
            "metadata": {},
            "execution_count": null,
            "source": "def err_handler(type, flag):\n    print(\"Floating point error (%s), with flag %s\" % (type, flag))\n",
            "outputs": []
        },
        {
            "id": "88b53e8f",
            "cell_type": "code",
            "metadata": {},
            "execution_count": null,
            "source": "import numpy as np",
            "outputs": []
        },
        {
            "id": "9f55de98",
            "cell_type": "code",
            "metadata": {},
            "execution_count": null,
            "source": "orig_handler = np.seterrcall(err_handler)\norig_err = np.seterr(all='call')",
            "outputs": []
        },
        {
            "id": "43d5bf65",
            "cell_type": "code",
            "metadata": {},
            "execution_count": null,
            "source": "np.array([1, 2, 3]) / 0.0",
            "outputs": [
                {
                    "output_type": "execute_result",
                    "metadata": {},
                    "data": {
                        "text/plain": "Floating point error (divide by zero), with flag 1\narray([inf, inf, inf])"
                    },
                    "execution_count": null
                }
            ]
        },
        {
            "id": "1a870913",
            "cell_type": "code",
            "metadata": {},
            "execution_count": null,
            "source": "np.seterrcall(orig_handler)",
            "outputs": [
                {
                    "output_type": "execute_result",
                    "metadata": {},
                    "data": {
                        "text/plain": "<function err_handler at 0x...>"
                    },
                    "execution_count": null
                }
            ]
        },
        {
            "id": "6ca56561",
            "cell_type": "code",
            "metadata": {},
            "execution_count": null,
            "source": "np.seterr(**orig_err)",
            "outputs": [
                {
                    "output_type": "execute_result",
                    "metadata": {},
                    "data": {
                        "text/plain": "{'divide': 'call', 'over': 'call', 'under': 'call', 'invalid': 'call'}"
                    },
                    "execution_count": null
                }
            ]
        },
        {
            "id": "1631a87c",
            "cell_type": "markdown",
            "source": "Log error message:\n",
            "metadata": {}
        },
        {
            "id": "65242ea1",
            "cell_type": "code",
            "metadata": {},
            "execution_count": null,
            "source": "class Log:\n    def write(self, msg):\n        print(\"LOG: %s\" % msg)\n",
            "outputs": []
        },
        {
            "id": "bb2b685a",
            "cell_type": "code",
            "metadata": {},
            "execution_count": null,
            "source": "log = Log()\nsaved_handler = np.seterrcall(log)\nsave_err = np.seterr(all='log')",
            "outputs": []
        },
        {
            "id": "a0f58d9e",
            "cell_type": "code",
            "metadata": {},
            "execution_count": null,
            "source": "np.array([1, 2, 3]) / 0.0",
            "outputs": [
                {
                    "output_type": "execute_result",
                    "metadata": {},
                    "data": {
                        "text/plain": "LOG: Warning: divide by zero encountered in divide\narray([inf, inf, inf])"
                    },
                    "execution_count": null
                }
            ]
        },
        {
            "id": "243480f8",
            "cell_type": "code",
            "metadata": {},
            "execution_count": null,
            "source": "np.seterrcall(orig_handler)",
            "outputs": [
                {
                    "output_type": "execute_result",
                    "metadata": {},
                    "data": {
                        "text/plain": "<numpy.Log object at 0x...>"
                    },
                    "execution_count": null
                }
            ]
        },
        {
            "id": "b10431e0",
            "cell_type": "code",
            "metadata": {},
            "execution_count": null,
            "source": "np.seterr(**orig_err)",
            "outputs": [
                {
                    "output_type": "execute_result",
                    "metadata": {},
                    "data": {
                        "text/plain": "{'divide': 'log', 'over': 'log', 'under': 'log', 'invalid': 'log'}"
                    },
                    "execution_count": null
                }
            ]
        }
    ]
}