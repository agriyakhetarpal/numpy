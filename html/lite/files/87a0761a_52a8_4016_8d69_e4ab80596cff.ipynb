{
    "nbformat": 4,
    "nbformat_minor": 5,
    "metadata": {
        "kernelspec": {
            "display_name": "Python",
            "language": "python",
            "name": "python"
        },
        "language_info": {
            "name": "python"
        }
    },
    "cells": [
        {
            "id": "6be05aab",
            "cell_type": "markdown",
            "source": "<div class='alert alert-warning'>\n\nNumPy's interactive examples are experimental and may not always work as expected, with high load times especially on low-resource platforms, , and the version of NumPy might not be in sync with the one you are browsing the documentation for. If you encounter any issues, please report them on the [NumPy issue tracker](https://github.com/numpy/numpy/issues).\n\n</div>",
            "metadata": {}
        },
        {
            "id": "db53bf5d",
            "cell_type": "code",
            "metadata": {},
            "execution_count": null,
            "source": "import numpy as np\nnp.intersect1d([1, 3, 4, 3], [3, 1, 2, 1])",
            "outputs": [
                {
                    "output_type": "execute_result",
                    "metadata": {},
                    "data": {
                        "text/plain": "array([1, 3])"
                    },
                    "execution_count": null
                }
            ]
        },
        {
            "id": "f187f2c2",
            "cell_type": "markdown",
            "source": "To intersect more than two arrays, use functools.reduce:\n",
            "metadata": {}
        },
        {
            "id": "49708704",
            "cell_type": "code",
            "metadata": {},
            "execution_count": null,
            "source": "from functools import reduce\nreduce(np.intersect1d, ([1, 3, 4, 3], [3, 1, 2, 1], [6, 3, 4, 2]))",
            "outputs": [
                {
                    "output_type": "execute_result",
                    "metadata": {},
                    "data": {
                        "text/plain": "array([3])"
                    },
                    "execution_count": null
                }
            ]
        },
        {
            "id": "5db545eb",
            "cell_type": "markdown",
            "source": "To return the indices of the values common to the input arrays\nalong with the intersected values:\n",
            "metadata": {}
        },
        {
            "id": "c746c08f",
            "cell_type": "code",
            "metadata": {},
            "execution_count": null,
            "source": "x = np.array([1, 1, 2, 3, 4])\ny = np.array([2, 1, 4, 6])\nxy, x_ind, y_ind = np.intersect1d(x, y, return_indices=True)\nx_ind, y_ind",
            "outputs": [
                {
                    "output_type": "execute_result",
                    "metadata": {},
                    "data": {
                        "text/plain": "(array([0, 2, 4]), array([1, 0, 2]))"
                    },
                    "execution_count": null
                }
            ]
        },
        {
            "id": "75b5f22f",
            "cell_type": "code",
            "metadata": {},
            "execution_count": null,
            "source": "xy, x[x_ind], y[y_ind]",
            "outputs": [
                {
                    "output_type": "execute_result",
                    "metadata": {},
                    "data": {
                        "text/plain": "(array([1, 2, 4]), array([1, 2, 4]), array([1, 2, 4]))"
                    },
                    "execution_count": null
                }
            ]
        }
    ]
}