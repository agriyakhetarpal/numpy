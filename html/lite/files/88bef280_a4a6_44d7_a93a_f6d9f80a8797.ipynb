{
    "nbformat": 4,
    "nbformat_minor": 5,
    "metadata": {
        "kernelspec": {
            "display_name": "Python",
            "language": "python",
            "name": "python"
        },
        "language_info": {
            "name": "python"
        }
    },
    "cells": [
        {
            "id": "87d4c542",
            "cell_type": "markdown",
            "source": "<div class='alert alert-warning'>\n\nNumPy's interactive examples are experimental and may not always work as expected, with high load times especially on low-resource platforms, , and the version of NumPy might not be in sync with the one you are browsing the documentation for. If you encounter any issues, please report them on the [NumPy issue tracker](https://github.com/numpy/numpy/issues).\n\n</div>",
            "metadata": {}
        },
        {
            "id": "2e90511a",
            "cell_type": "code",
            "metadata": {},
            "execution_count": null,
            "source": "import numpy as np\na = np.array([[10, 7, 4], [3, 2, 1]])\na",
            "outputs": [
                {
                    "output_type": "execute_result",
                    "metadata": {},
                    "data": {
                        "text/plain": "array([[10,  7,  4],\n       [ 3,  2,  1]])"
                    },
                    "execution_count": null
                }
            ]
        },
        {
            "id": "30a32bff",
            "cell_type": "code",
            "metadata": {},
            "execution_count": null,
            "source": "np.median(a)",
            "outputs": [
                {
                    "output_type": "execute_result",
                    "metadata": {},
                    "data": {
                        "text/plain": "np.float64(3.5)"
                    },
                    "execution_count": null
                }
            ]
        },
        {
            "id": "0055e624",
            "cell_type": "code",
            "metadata": {},
            "execution_count": null,
            "source": "np.median(a, axis=0)",
            "outputs": [
                {
                    "output_type": "execute_result",
                    "metadata": {},
                    "data": {
                        "text/plain": "array([6.5, 4.5, 2.5])"
                    },
                    "execution_count": null
                }
            ]
        },
        {
            "id": "a9df740a",
            "cell_type": "code",
            "metadata": {},
            "execution_count": null,
            "source": "np.median(a, axis=1)",
            "outputs": [
                {
                    "output_type": "execute_result",
                    "metadata": {},
                    "data": {
                        "text/plain": "array([7.,  2.])"
                    },
                    "execution_count": null
                }
            ]
        },
        {
            "id": "1c0dce4d",
            "cell_type": "code",
            "metadata": {},
            "execution_count": null,
            "source": "np.median(a, axis=(0, 1))",
            "outputs": [
                {
                    "output_type": "execute_result",
                    "metadata": {},
                    "data": {
                        "text/plain": "np.float64(3.5)"
                    },
                    "execution_count": null
                }
            ]
        },
        {
            "id": "f3fae494",
            "cell_type": "code",
            "metadata": {},
            "execution_count": null,
            "source": "m = np.median(a, axis=0)\nout = np.zeros_like(m)\nnp.median(a, axis=0, out=m)",
            "outputs": [
                {
                    "output_type": "execute_result",
                    "metadata": {},
                    "data": {
                        "text/plain": "array([6.5,  4.5,  2.5])"
                    },
                    "execution_count": null
                }
            ]
        },
        {
            "id": "4be5cb9d",
            "cell_type": "code",
            "metadata": {},
            "execution_count": null,
            "source": "m",
            "outputs": [
                {
                    "output_type": "execute_result",
                    "metadata": {},
                    "data": {
                        "text/plain": "array([6.5,  4.5,  2.5])"
                    },
                    "execution_count": null
                }
            ]
        },
        {
            "id": "3575b216",
            "cell_type": "code",
            "metadata": {},
            "execution_count": null,
            "source": "b = a.copy()\nnp.median(b, axis=1, overwrite_input=True)",
            "outputs": [
                {
                    "output_type": "execute_result",
                    "metadata": {},
                    "data": {
                        "text/plain": "array([7.,  2.])"
                    },
                    "execution_count": null
                }
            ]
        },
        {
            "id": "fd9bb5c3",
            "cell_type": "code",
            "metadata": {},
            "execution_count": null,
            "source": "assert not np.all(a==b)\nb = a.copy()\nnp.median(b, axis=None, overwrite_input=True)",
            "outputs": [
                {
                    "output_type": "execute_result",
                    "metadata": {},
                    "data": {
                        "text/plain": "np.float64(3.5)"
                    },
                    "execution_count": null
                }
            ]
        },
        {
            "id": "714d64ea",
            "cell_type": "code",
            "metadata": {},
            "execution_count": null,
            "source": "assert not np.all(a==b)",
            "outputs": []
        }
    ]
}