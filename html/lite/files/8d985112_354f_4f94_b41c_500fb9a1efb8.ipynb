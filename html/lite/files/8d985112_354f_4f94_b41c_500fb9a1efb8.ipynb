{
    "nbformat": 4,
    "nbformat_minor": 5,
    "metadata": {
        "kernelspec": {
            "display_name": "Python",
            "language": "python",
            "name": "python"
        },
        "language_info": {
            "name": "python"
        }
    },
    "cells": [
        {
            "id": "d12e8eb1",
            "cell_type": "markdown",
            "source": "<div class='alert alert-warning'>\n\nNumPy's interactive examples are experimental and may not always work as expected, with high load times especially on low-resource platforms, , and the version of NumPy might not be in sync with the one you are browsing the documentation for. If you encounter any issues, please report them on the [NumPy issue tracker](https://github.com/numpy/numpy/issues).\n\n</div>",
            "metadata": {}
        },
        {
            "id": "e8fc6e0e",
            "cell_type": "code",
            "metadata": {},
            "execution_count": null,
            "source": "import numpy as np\nA = np.array([[1,-2j],[2j,5]])\nA",
            "outputs": [
                {
                    "output_type": "execute_result",
                    "metadata": {},
                    "data": {
                        "text/plain": "array([[ 1.+0.j, -0.-2.j],\n       [ 0.+2.j,  5.+0.j]])"
                    },
                    "execution_count": null
                }
            ]
        },
        {
            "id": "71a760e7",
            "cell_type": "code",
            "metadata": {},
            "execution_count": null,
            "source": "L = np.linalg.cholesky(A)\nL",
            "outputs": [
                {
                    "output_type": "execute_result",
                    "metadata": {},
                    "data": {
                        "text/plain": "array([[1.+0.j, 0.+0.j],\n       [0.+2.j, 1.+0.j]])"
                    },
                    "execution_count": null
                }
            ]
        },
        {
            "id": "807110c0",
            "cell_type": "code",
            "metadata": {},
            "execution_count": null,
            "source": "np.dot(L, L.T.conj()) # verify that L * L.H = A",
            "outputs": [
                {
                    "output_type": "execute_result",
                    "metadata": {},
                    "data": {
                        "text/plain": "array([[1.+0.j, 0.-2.j],\n       [0.+2.j, 5.+0.j]])"
                    },
                    "execution_count": null
                }
            ]
        },
        {
            "id": "2908aa5d",
            "cell_type": "code",
            "metadata": {},
            "execution_count": null,
            "source": "A = [[1,-2j],[2j,5]] # what happens if A is only array_like?\nnp.linalg.cholesky(A) # an ndarray object is returned",
            "outputs": [
                {
                    "output_type": "execute_result",
                    "metadata": {},
                    "data": {
                        "text/plain": "array([[1.+0.j, 0.+0.j],\n       [0.+2.j, 1.+0.j]])"
                    },
                    "execution_count": null
                }
            ]
        },
        {
            "id": "20ac0f79",
            "cell_type": "code",
            "metadata": {},
            "execution_count": null,
            "source": "# But a matrix object is returned if A is a matrix object\nnp.linalg.cholesky(np.matrix(A))",
            "outputs": [
                {
                    "output_type": "execute_result",
                    "metadata": {},
                    "data": {
                        "text/plain": "matrix([[ 1.+0.j,  0.+0.j],\n        [ 0.+2.j,  1.+0.j]])"
                    },
                    "execution_count": null
                }
            ]
        },
        {
            "id": "2d23447b",
            "cell_type": "code",
            "metadata": {},
            "execution_count": null,
            "source": "# The upper-triangular Cholesky factor can also be obtained.\nnp.linalg.cholesky(A, upper=True)",
            "outputs": [
                {
                    "output_type": "execute_result",
                    "metadata": {},
                    "data": {
                        "text/plain": "array([[1.-0.j, 0.-2.j],\n       [0.-0.j, 1.-0.j]])"
                    },
                    "execution_count": null
                }
            ]
        }
    ]
}