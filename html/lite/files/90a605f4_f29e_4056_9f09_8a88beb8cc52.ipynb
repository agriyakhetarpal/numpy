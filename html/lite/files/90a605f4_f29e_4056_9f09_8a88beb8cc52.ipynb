{
    "nbformat": 4,
    "nbformat_minor": 5,
    "metadata": {
        "kernelspec": {
            "display_name": "Python",
            "language": "python",
            "name": "python"
        },
        "language_info": {
            "name": "python"
        }
    },
    "cells": [
        {
            "id": "34b5f5c8",
            "cell_type": "markdown",
            "source": "<div class='alert alert-warning'>\n\nNumPy's interactive examples are experimental and may not always work as expected, with high load times especially on low-resource platforms, , and the version of NumPy might not be in sync with the one you are browsing the documentation for. If you encounter any issues, please report them on the [NumPy issue tracker](https://github.com/numpy/numpy/issues).\n\n</div>",
            "metadata": {}
        },
        {
            "id": "4dc362ac",
            "cell_type": "markdown",
            "source": "For 2-D arrays it is the matrix product:\n",
            "metadata": {}
        },
        {
            "id": "1273c101",
            "cell_type": "code",
            "metadata": {},
            "execution_count": null,
            "source": "import numpy as np\na = np.array([[1, 0],\n              [0, 1]])\nb = np.array([[4, 1],\n              [2, 2]])\nnp.matmul(a, b)",
            "outputs": [
                {
                    "output_type": "execute_result",
                    "metadata": {},
                    "data": {
                        "text/plain": "array([[4, 1],\n       [2, 2]])"
                    },
                    "execution_count": null
                }
            ]
        },
        {
            "id": "9d13cae2",
            "cell_type": "markdown",
            "source": "For 2-D mixed with 1-D, the result is the usual.\n",
            "metadata": {}
        },
        {
            "id": "537b6dec",
            "cell_type": "code",
            "metadata": {},
            "execution_count": null,
            "source": "a = np.array([[1, 0],\n              [0, 1]])\nb = np.array([1, 2])\nnp.matmul(a, b)",
            "outputs": [
                {
                    "output_type": "execute_result",
                    "metadata": {},
                    "data": {
                        "text/plain": "array([1, 2])"
                    },
                    "execution_count": null
                }
            ]
        },
        {
            "id": "17a0c1ad",
            "cell_type": "code",
            "metadata": {},
            "execution_count": null,
            "source": "np.matmul(b, a)",
            "outputs": [
                {
                    "output_type": "execute_result",
                    "metadata": {},
                    "data": {
                        "text/plain": "array([1, 2])"
                    },
                    "execution_count": null
                }
            ]
        },
        {
            "id": "3afa00c4",
            "cell_type": "markdown",
            "source": "Broadcasting is conventional for stacks of arrays\n",
            "metadata": {}
        },
        {
            "id": "5b22e607",
            "cell_type": "code",
            "metadata": {},
            "execution_count": null,
            "source": "a = np.arange(2 * 2 * 4).reshape((2, 2, 4))\nb = np.arange(2 * 2 * 4).reshape((2, 4, 2))\nnp.matmul(a,b).shape",
            "outputs": [
                {
                    "output_type": "execute_result",
                    "metadata": {},
                    "data": {
                        "text/plain": "(2, 2, 2)"
                    },
                    "execution_count": null
                }
            ]
        },
        {
            "id": "6fe3ea16",
            "cell_type": "code",
            "metadata": {},
            "execution_count": null,
            "source": "np.matmul(a, b)[0, 1, 1]",
            "outputs": [
                {
                    "output_type": "execute_result",
                    "metadata": {},
                    "data": {
                        "text/plain": "98"
                    },
                    "execution_count": null
                }
            ]
        },
        {
            "id": "46f44d2c",
            "cell_type": "code",
            "metadata": {},
            "execution_count": null,
            "source": "sum(a[0, 1, :] * b[0 , :, 1])",
            "outputs": [
                {
                    "output_type": "execute_result",
                    "metadata": {},
                    "data": {
                        "text/plain": "98"
                    },
                    "execution_count": null
                }
            ]
        },
        {
            "id": "1108a480",
            "cell_type": "markdown",
            "source": "Vector, vector returns the scalar inner product, but neither argument\nis complex-conjugated:\n",
            "metadata": {}
        },
        {
            "id": "468c8590",
            "cell_type": "code",
            "metadata": {},
            "execution_count": null,
            "source": "np.matmul([2j, 3j], [2j, 3j])",
            "outputs": [
                {
                    "output_type": "execute_result",
                    "metadata": {},
                    "data": {
                        "text/plain": "(-13+0j)"
                    },
                    "execution_count": null
                }
            ]
        },
        {
            "id": "7d8bcc7f",
            "cell_type": "markdown",
            "source": "Scalar multiplication raises an error.\n",
            "metadata": {}
        },
        {
            "id": "26dcb79d",
            "cell_type": "code",
            "metadata": {},
            "execution_count": null,
            "source": "np.matmul([1,2], 3)\n",
            "outputs": [
                {
                    "output_type": "execute_result",
                    "metadata": {},
                    "data": {
                        "text/plain": "Traceback (most recent call last):\nValueError: matmul: Input operand 1 does not have enough dimensions ..."
                    },
                    "execution_count": null
                }
            ]
        },
        {
            "id": "35e6c7c4",
            "cell_type": "markdown",
            "source": "The ``@`` operator can be used as a shorthand for ``np.matmul`` on\nndarrays.\n",
            "metadata": {}
        },
        {
            "id": "75f2b7d3",
            "cell_type": "code",
            "metadata": {},
            "execution_count": null,
            "source": "x1 = np.array([2j, 3j])\nx2 = np.array([2j, 3j])\nx1 @ x2",
            "outputs": [
                {
                    "output_type": "execute_result",
                    "metadata": {},
                    "data": {
                        "text/plain": "(-13+0j)"
                    },
                    "execution_count": null
                }
            ]
        },
        {
            "id": "309172f3",
            "cell_type": "markdown",
            "source": ".. versionadded:: 1.10.0",
            "metadata": {}
        }
    ]
}