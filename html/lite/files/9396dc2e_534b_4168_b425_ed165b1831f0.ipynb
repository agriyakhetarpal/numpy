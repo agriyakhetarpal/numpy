{
    "nbformat": 4,
    "nbformat_minor": 5,
    "metadata": {
        "kernelspec": {
            "display_name": "Python",
            "language": "python",
            "name": "python"
        },
        "language_info": {
            "name": "python"
        }
    },
    "cells": [
        {
            "id": "27af9aec",
            "cell_type": "markdown",
            "source": "<div class='alert alert-warning'>\n\nNumPy's interactive examples are experimental and may not always work as expected, with high load times especially on low-resource platforms, , and the version of NumPy might not be in sync with the one you are browsing the documentation for. If you encounter any issues, please report them on the [NumPy issue tracker](https://github.com/numpy/numpy/issues).\n\n</div>",
            "metadata": {}
        },
        {
            "id": "836e4bf1",
            "cell_type": "code",
            "metadata": {},
            "execution_count": null,
            "source": "import numpy as np",
            "outputs": []
        },
        {
            "id": "2b26c19e",
            "cell_type": "markdown",
            "source": "Create an array x, with a reference y and a copy z:\n",
            "metadata": {}
        },
        {
            "id": "7a63c209",
            "cell_type": "code",
            "metadata": {},
            "execution_count": null,
            "source": "x = np.array([1, 2, 3])\ny = x\nz = np.copy(x)",
            "outputs": []
        },
        {
            "id": "9d63ce72",
            "cell_type": "markdown",
            "source": "Note that, when we modify x, y changes, but not z:\n",
            "metadata": {}
        },
        {
            "id": "6443ef18",
            "cell_type": "code",
            "metadata": {},
            "execution_count": null,
            "source": "x[0] = 10\nx[0] == y[0]",
            "outputs": [
                {
                    "output_type": "execute_result",
                    "metadata": {},
                    "data": {
                        "text/plain": "True"
                    },
                    "execution_count": null
                }
            ]
        },
        {
            "id": "fccabe07",
            "cell_type": "code",
            "metadata": {},
            "execution_count": null,
            "source": "x[0] == z[0]",
            "outputs": [
                {
                    "output_type": "execute_result",
                    "metadata": {},
                    "data": {
                        "text/plain": "False"
                    },
                    "execution_count": null
                }
            ]
        },
        {
            "id": "d8ebacd4",
            "cell_type": "markdown",
            "source": "Note that, np.copy clears previously set WRITEABLE=False flag.\n",
            "metadata": {}
        },
        {
            "id": "dc03ab78",
            "cell_type": "code",
            "metadata": {},
            "execution_count": null,
            "source": "a = np.array([1, 2, 3])\na.flags[\"WRITEABLE\"] = False\nb = np.copy(a)\nb.flags[\"WRITEABLE\"]",
            "outputs": [
                {
                    "output_type": "execute_result",
                    "metadata": {},
                    "data": {
                        "text/plain": "True"
                    },
                    "execution_count": null
                }
            ]
        },
        {
            "id": "2ea07468",
            "cell_type": "code",
            "metadata": {},
            "execution_count": null,
            "source": "b[0] = 3\nb",
            "outputs": [
                {
                    "output_type": "execute_result",
                    "metadata": {},
                    "data": {
                        "text/plain": "array([3, 2, 3])"
                    },
                    "execution_count": null
                }
            ]
        }
    ]
}