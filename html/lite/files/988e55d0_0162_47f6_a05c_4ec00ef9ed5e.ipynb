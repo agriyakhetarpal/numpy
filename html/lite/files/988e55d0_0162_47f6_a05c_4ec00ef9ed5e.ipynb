{
    "nbformat": 4,
    "nbformat_minor": 5,
    "metadata": {
        "kernelspec": {
            "display_name": "Python",
            "language": "python",
            "name": "python"
        },
        "language_info": {
            "name": "python"
        }
    },
    "cells": [
        {
            "id": "b7b1b899",
            "cell_type": "markdown",
            "source": "<div class='alert alert-warning'>\n\nNumPy's interactive examples are experimental and may not always work as expected, with high load times especially on low-resource platforms, , and the version of NumPy might not be in sync with the one you are browsing the documentation for. If you encounter any issues, please report them on the [NumPy issue tracker](https://github.com/numpy/numpy/issues).\n\n</div>",
            "metadata": {}
        },
        {
            "id": "92addc93",
            "cell_type": "code",
            "metadata": {},
            "execution_count": null,
            "source": "import numpy as np\nx = np.array([1, 2])\nx.shape",
            "outputs": [
                {
                    "output_type": "execute_result",
                    "metadata": {},
                    "data": {
                        "text/plain": "(2,)"
                    },
                    "execution_count": null
                }
            ]
        },
        {
            "id": "b9661db3",
            "cell_type": "markdown",
            "source": "The following is equivalent to ``x[np.newaxis, :]`` or ``x[np.newaxis]``:\n",
            "metadata": {}
        },
        {
            "id": "7c6472d7",
            "cell_type": "code",
            "metadata": {},
            "execution_count": null,
            "source": "y = np.expand_dims(x, axis=0)\ny",
            "outputs": [
                {
                    "output_type": "execute_result",
                    "metadata": {},
                    "data": {
                        "text/plain": "array([[1, 2]])"
                    },
                    "execution_count": null
                }
            ]
        },
        {
            "id": "c489a1fa",
            "cell_type": "code",
            "metadata": {},
            "execution_count": null,
            "source": "y.shape",
            "outputs": [
                {
                    "output_type": "execute_result",
                    "metadata": {},
                    "data": {
                        "text/plain": "(1, 2)"
                    },
                    "execution_count": null
                }
            ]
        },
        {
            "id": "fa8abe43",
            "cell_type": "markdown",
            "source": "The following is equivalent to ``x[:, np.newaxis]``:\n",
            "metadata": {}
        },
        {
            "id": "c0549cca",
            "cell_type": "code",
            "metadata": {},
            "execution_count": null,
            "source": "y = np.expand_dims(x, axis=1)\ny",
            "outputs": [
                {
                    "output_type": "execute_result",
                    "metadata": {},
                    "data": {
                        "text/plain": "array([[1],\n       [2]])"
                    },
                    "execution_count": null
                }
            ]
        },
        {
            "id": "46a0e435",
            "cell_type": "code",
            "metadata": {},
            "execution_count": null,
            "source": "y.shape",
            "outputs": [
                {
                    "output_type": "execute_result",
                    "metadata": {},
                    "data": {
                        "text/plain": "(2, 1)"
                    },
                    "execution_count": null
                }
            ]
        },
        {
            "id": "fd38706e",
            "cell_type": "markdown",
            "source": "``axis`` may also be a tuple:\n",
            "metadata": {}
        },
        {
            "id": "56b527e7",
            "cell_type": "code",
            "metadata": {},
            "execution_count": null,
            "source": "y = np.expand_dims(x, axis=(0, 1))\ny",
            "outputs": [
                {
                    "output_type": "execute_result",
                    "metadata": {},
                    "data": {
                        "text/plain": "array([[[1, 2]]])"
                    },
                    "execution_count": null
                }
            ]
        },
        {
            "id": "b4aed76b",
            "cell_type": "code",
            "metadata": {},
            "execution_count": null,
            "source": "y = np.expand_dims(x, axis=(2, 0))\ny",
            "outputs": [
                {
                    "output_type": "execute_result",
                    "metadata": {},
                    "data": {
                        "text/plain": "array([[[1],\n        [2]]])"
                    },
                    "execution_count": null
                }
            ]
        },
        {
            "id": "761fd2ec",
            "cell_type": "markdown",
            "source": "Note that some examples may use ``None`` instead of ``np.newaxis``.  These\nare the same objects:\n",
            "metadata": {}
        },
        {
            "id": "d0a68440",
            "cell_type": "code",
            "metadata": {},
            "execution_count": null,
            "source": "np.newaxis is None",
            "outputs": [
                {
                    "output_type": "execute_result",
                    "metadata": {},
                    "data": {
                        "text/plain": "True"
                    },
                    "execution_count": null
                }
            ]
        }
    ]
}