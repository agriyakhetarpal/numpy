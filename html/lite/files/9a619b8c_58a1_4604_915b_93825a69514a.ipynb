{
    "nbformat": 4,
    "nbformat_minor": 5,
    "metadata": {
        "kernelspec": {
            "display_name": "Python",
            "language": "python",
            "name": "python"
        },
        "language_info": {
            "name": "python"
        }
    },
    "cells": [
        {
            "id": "4e0f4518",
            "cell_type": "markdown",
            "source": "<div class='alert alert-warning'>\n\nNumPy's interactive examples are experimental and may not always work as expected, with high load times especially on low-resource platforms, , and the version of NumPy might not be in sync with the one you are browsing the documentation for. If you encounter any issues, please report them on the [NumPy issue tracker](https://github.com/numpy/numpy/issues).\n\n</div>",
            "metadata": {}
        },
        {
            "id": "32180bca",
            "cell_type": "code",
            "metadata": {},
            "execution_count": null,
            "source": "import numpy as np\nnp.any([[True, False], [True, True]])",
            "outputs": [
                {
                    "output_type": "execute_result",
                    "metadata": {},
                    "data": {
                        "text/plain": "True"
                    },
                    "execution_count": null
                }
            ]
        },
        {
            "id": "b8835429",
            "cell_type": "code",
            "metadata": {},
            "execution_count": null,
            "source": "np.any([[True,  False, True ],\n        [False, False, False]], axis=0)",
            "outputs": [
                {
                    "output_type": "execute_result",
                    "metadata": {},
                    "data": {
                        "text/plain": "array([ True, False, True])"
                    },
                    "execution_count": null
                }
            ]
        },
        {
            "id": "f4c3cdf5",
            "cell_type": "code",
            "metadata": {},
            "execution_count": null,
            "source": "np.any([-1, 0, 5])",
            "outputs": [
                {
                    "output_type": "execute_result",
                    "metadata": {},
                    "data": {
                        "text/plain": "True"
                    },
                    "execution_count": null
                }
            ]
        },
        {
            "id": "2aba30d2",
            "cell_type": "code",
            "metadata": {},
            "execution_count": null,
            "source": "np.any([[np.nan], [np.inf]], axis=1, keepdims=True)",
            "outputs": [
                {
                    "output_type": "execute_result",
                    "metadata": {},
                    "data": {
                        "text/plain": "array([[ True],\n       [ True]])"
                    },
                    "execution_count": null
                }
            ]
        },
        {
            "id": "cb3c39f4",
            "cell_type": "code",
            "metadata": {},
            "execution_count": null,
            "source": "np.any([[True, False], [False, False]], where=[[False], [True]])",
            "outputs": [
                {
                    "output_type": "execute_result",
                    "metadata": {},
                    "data": {
                        "text/plain": "False"
                    },
                    "execution_count": null
                }
            ]
        },
        {
            "id": "a0eb931b",
            "cell_type": "code",
            "metadata": {},
            "execution_count": null,
            "source": "a = np.array([[1, 0, 0],\n              [0, 0, 1],\n              [0, 0, 0]])\nnp.any(a, axis=0)",
            "outputs": [
                {
                    "output_type": "execute_result",
                    "metadata": {},
                    "data": {
                        "text/plain": "array([ True, False,  True])"
                    },
                    "execution_count": null
                }
            ]
        },
        {
            "id": "8b9e6802",
            "cell_type": "code",
            "metadata": {},
            "execution_count": null,
            "source": "np.any(a, axis=1)",
            "outputs": [
                {
                    "output_type": "execute_result",
                    "metadata": {},
                    "data": {
                        "text/plain": "array([ True,  True, False])"
                    },
                    "execution_count": null
                }
            ]
        },
        {
            "id": "5a47547e",
            "cell_type": "code",
            "metadata": {},
            "execution_count": null,
            "source": "o=np.array(False)\nz=np.any([-1, 4, 5], out=o)\nz, o",
            "outputs": [
                {
                    "output_type": "execute_result",
                    "metadata": {},
                    "data": {
                        "text/plain": "(array(True), array(True))"
                    },
                    "execution_count": null
                }
            ]
        },
        {
            "id": "e5b24bbc",
            "cell_type": "code",
            "metadata": {},
            "execution_count": null,
            "source": "# Check now that z is a reference to o\nz is o",
            "outputs": [
                {
                    "output_type": "execute_result",
                    "metadata": {},
                    "data": {
                        "text/plain": "True"
                    },
                    "execution_count": null
                }
            ]
        },
        {
            "id": "1ca8af26",
            "cell_type": "code",
            "metadata": {},
            "execution_count": null,
            "source": "id(z), id(o) # identity of z and o              # doctest: +SKIP",
            "outputs": [
                {
                    "output_type": "execute_result",
                    "metadata": {},
                    "data": {
                        "text/plain": "(191614240, 191614240)"
                    },
                    "execution_count": null
                }
            ]
        }
    ]
}