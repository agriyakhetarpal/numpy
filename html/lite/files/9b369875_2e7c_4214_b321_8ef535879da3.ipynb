{
    "nbformat": 4,
    "nbformat_minor": 5,
    "metadata": {
        "kernelspec": {
            "display_name": "Python",
            "language": "python",
            "name": "python"
        },
        "language_info": {
            "name": "python"
        }
    },
    "cells": [
        {
            "id": "2f976b67",
            "cell_type": "markdown",
            "source": "<div class='alert alert-warning'>\n\nNumPy's interactive examples are experimental and may not always work as expected, with high load times especially on low-resource platforms, , and the version of NumPy might not be in sync with the one you are browsing the documentation for. If you encounter any issues, please report them on the [NumPy issue tracker](https://github.com/numpy/numpy/issues).\n\n</div>",
            "metadata": {}
        },
        {
            "id": "85226f75",
            "cell_type": "code",
            "metadata": {},
            "execution_count": null,
            "source": "import numpy as np\nx = np.zeros((3, 4, 5))\nnp.moveaxis(x, 0, -1).shape",
            "outputs": [
                {
                    "output_type": "execute_result",
                    "metadata": {},
                    "data": {
                        "text/plain": "(4, 5, 3)"
                    },
                    "execution_count": null
                }
            ]
        },
        {
            "id": "88d4a2e3",
            "cell_type": "code",
            "metadata": {},
            "execution_count": null,
            "source": "np.moveaxis(x, -1, 0).shape",
            "outputs": [
                {
                    "output_type": "execute_result",
                    "metadata": {},
                    "data": {
                        "text/plain": "(5, 3, 4)"
                    },
                    "execution_count": null
                }
            ]
        },
        {
            "id": "b485be9c",
            "cell_type": "markdown",
            "source": "These all achieve the same result:\n",
            "metadata": {}
        },
        {
            "id": "94a57b21",
            "cell_type": "code",
            "metadata": {},
            "execution_count": null,
            "source": "np.transpose(x).shape",
            "outputs": [
                {
                    "output_type": "execute_result",
                    "metadata": {},
                    "data": {
                        "text/plain": "(5, 4, 3)"
                    },
                    "execution_count": null
                }
            ]
        },
        {
            "id": "19ea8d04",
            "cell_type": "code",
            "metadata": {},
            "execution_count": null,
            "source": "np.swapaxes(x, 0, -1).shape",
            "outputs": [
                {
                    "output_type": "execute_result",
                    "metadata": {},
                    "data": {
                        "text/plain": "(5, 4, 3)"
                    },
                    "execution_count": null
                }
            ]
        },
        {
            "id": "109a1af7",
            "cell_type": "code",
            "metadata": {},
            "execution_count": null,
            "source": "np.moveaxis(x, [0, 1], [-1, -2]).shape",
            "outputs": [
                {
                    "output_type": "execute_result",
                    "metadata": {},
                    "data": {
                        "text/plain": "(5, 4, 3)"
                    },
                    "execution_count": null
                }
            ]
        },
        {
            "id": "90af0c3f",
            "cell_type": "code",
            "metadata": {},
            "execution_count": null,
            "source": "np.moveaxis(x, [0, 1, 2], [-1, -2, -3]).shape",
            "outputs": [
                {
                    "output_type": "execute_result",
                    "metadata": {},
                    "data": {
                        "text/plain": "(5, 4, 3)"
                    },
                    "execution_count": null
                }
            ]
        }
    ]
}