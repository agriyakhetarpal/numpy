{
    "nbformat": 4,
    "nbformat_minor": 5,
    "metadata": {
        "kernelspec": {
            "display_name": "Python",
            "language": "python",
            "name": "python"
        },
        "language_info": {
            "name": "python"
        }
    },
    "cells": [
        {
            "id": "7d0c9aec",
            "cell_type": "markdown",
            "source": "<div class='alert alert-warning'>\n\nNumPy's interactive examples are experimental and may not always work as expected, with high load times especially on low-resource platforms, , and the version of NumPy might not be in sync with the one you are browsing the documentation for. If you encounter any issues, please report them on the [NumPy issue tracker](https://github.com/numpy/numpy/issues).\n\n</div>",
            "metadata": {}
        },
        {
            "id": "d095e8f8",
            "cell_type": "code",
            "metadata": {},
            "execution_count": null,
            "source": "import numpy as np",
            "outputs": []
        },
        {
            "id": "32e0fce7",
            "cell_type": "code",
            "metadata": {},
            "execution_count": null,
            "source": "np.busday_offset('2011-06-25', 2)",
            "outputs": [
                {
                    "output_type": "execute_result",
                    "metadata": {},
                    "data": {
                        "text/plain": "Traceback (most recent call last):\n  File \"<stdin>\", line 1, in <module>\nValueError: Non-business day date in busday_offset"
                    },
                    "execution_count": null
                }
            ]
        },
        {
            "id": "eb1beb04",
            "cell_type": "code",
            "metadata": {},
            "execution_count": null,
            "source": "np.busday_offset('2011-06-25', 0, roll='forward')",
            "outputs": [
                {
                    "output_type": "execute_result",
                    "metadata": {},
                    "data": {
                        "text/plain": "np.datetime64('2011-06-27')"
                    },
                    "execution_count": null
                }
            ]
        },
        {
            "id": "33f20839",
            "cell_type": "code",
            "metadata": {},
            "execution_count": null,
            "source": "np.busday_offset('2011-06-25', 2, roll='forward')",
            "outputs": [
                {
                    "output_type": "execute_result",
                    "metadata": {},
                    "data": {
                        "text/plain": "np.datetime64('2011-06-29')"
                    },
                    "execution_count": null
                }
            ]
        },
        {
            "id": "40a9ee06",
            "cell_type": "code",
            "metadata": {},
            "execution_count": null,
            "source": "np.busday_offset('2011-06-25', 0, roll='backward')",
            "outputs": [
                {
                    "output_type": "execute_result",
                    "metadata": {},
                    "data": {
                        "text/plain": "np.datetime64('2011-06-24')"
                    },
                    "execution_count": null
                }
            ]
        },
        {
            "id": "9531ead5",
            "cell_type": "code",
            "metadata": {},
            "execution_count": null,
            "source": "np.busday_offset('2011-06-25', 2, roll='backward')",
            "outputs": [
                {
                    "output_type": "execute_result",
                    "metadata": {},
                    "data": {
                        "text/plain": "np.datetime64('2011-06-28')"
                    },
                    "execution_count": null
                }
            ]
        }
    ]
}