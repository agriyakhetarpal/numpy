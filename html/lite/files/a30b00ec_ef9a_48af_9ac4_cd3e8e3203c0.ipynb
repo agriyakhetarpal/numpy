{
    "nbformat": 4,
    "nbformat_minor": 5,
    "metadata": {
        "kernelspec": {
            "display_name": "Python",
            "language": "python",
            "name": "python"
        },
        "language_info": {
            "name": "python"
        }
    },
    "cells": [
        {
            "id": "806b9396",
            "cell_type": "markdown",
            "source": "<div class='alert alert-warning'>\n\nNumPy's interactive examples are experimental and may not always work as expected, with high load times especially on low-resource platforms, , and the version of NumPy might not be in sync with the one you are browsing the documentation for. If you encounter any issues, please report them on the [NumPy issue tracker](https://github.com/numpy/numpy/issues).\n\n</div>",
            "metadata": {}
        },
        {
            "id": "c34b6b02",
            "cell_type": "code",
            "metadata": {},
            "execution_count": null,
            "source": "import numpy as np\nnp.count_nonzero(np.eye(4))",
            "outputs": [
                {
                    "output_type": "execute_result",
                    "metadata": {},
                    "data": {
                        "text/plain": "4"
                    },
                    "execution_count": null
                }
            ]
        },
        {
            "id": "953bec7e",
            "cell_type": "code",
            "metadata": {},
            "execution_count": null,
            "source": "a = np.array([[0, 1, 7, 0],\n              [3, 0, 2, 19]])\nnp.count_nonzero(a)",
            "outputs": [
                {
                    "output_type": "execute_result",
                    "metadata": {},
                    "data": {
                        "text/plain": "5"
                    },
                    "execution_count": null
                }
            ]
        },
        {
            "id": "d2caff70",
            "cell_type": "code",
            "metadata": {},
            "execution_count": null,
            "source": "np.count_nonzero(a, axis=0)",
            "outputs": [
                {
                    "output_type": "execute_result",
                    "metadata": {},
                    "data": {
                        "text/plain": "array([1, 1, 2, 1])"
                    },
                    "execution_count": null
                }
            ]
        },
        {
            "id": "785b351b",
            "cell_type": "code",
            "metadata": {},
            "execution_count": null,
            "source": "np.count_nonzero(a, axis=1)",
            "outputs": [
                {
                    "output_type": "execute_result",
                    "metadata": {},
                    "data": {
                        "text/plain": "array([2, 3])"
                    },
                    "execution_count": null
                }
            ]
        },
        {
            "id": "54263d0d",
            "cell_type": "code",
            "metadata": {},
            "execution_count": null,
            "source": "np.count_nonzero(a, axis=1, keepdims=True)",
            "outputs": [
                {
                    "output_type": "execute_result",
                    "metadata": {},
                    "data": {
                        "text/plain": "array([[2],\n       [3]])"
                    },
                    "execution_count": null
                }
            ]
        }
    ]
}