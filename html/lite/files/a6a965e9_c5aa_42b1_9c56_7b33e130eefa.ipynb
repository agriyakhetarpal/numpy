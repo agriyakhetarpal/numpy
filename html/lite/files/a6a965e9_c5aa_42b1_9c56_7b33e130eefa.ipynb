{
    "nbformat": 4,
    "nbformat_minor": 5,
    "metadata": {
        "kernelspec": {
            "display_name": "Python",
            "language": "python",
            "name": "python"
        },
        "language_info": {
            "name": "python"
        }
    },
    "cells": [
        {
            "id": "7f6d7355",
            "cell_type": "markdown",
            "source": "<div class='alert alert-warning'>\n\nNumPy's interactive examples are experimental and may not always work as expected, with high load times especially on low-resource platforms, , and the version of NumPy might not be in sync with the one you are browsing the documentation for. If you encounter any issues, please report them on the [NumPy issue tracker](https://github.com/numpy/numpy/issues).\n\n</div>",
            "metadata": {}
        },
        {
            "id": "09c8556f",
            "cell_type": "code",
            "metadata": {},
            "execution_count": null,
            "source": "import numpy as np\na = np.array([[1, 2], [3, 4]])\nnp.mean(a)",
            "outputs": [
                {
                    "output_type": "execute_result",
                    "metadata": {},
                    "data": {
                        "text/plain": "2.5"
                    },
                    "execution_count": null
                }
            ]
        },
        {
            "id": "58d0b5a3",
            "cell_type": "code",
            "metadata": {},
            "execution_count": null,
            "source": "np.mean(a, axis=0)",
            "outputs": [
                {
                    "output_type": "execute_result",
                    "metadata": {},
                    "data": {
                        "text/plain": "array([2., 3.])"
                    },
                    "execution_count": null
                }
            ]
        },
        {
            "id": "ee9b6b83",
            "cell_type": "code",
            "metadata": {},
            "execution_count": null,
            "source": "np.mean(a, axis=1)",
            "outputs": [
                {
                    "output_type": "execute_result",
                    "metadata": {},
                    "data": {
                        "text/plain": "array([1.5, 3.5])"
                    },
                    "execution_count": null
                }
            ]
        },
        {
            "id": "d4533b1a",
            "cell_type": "markdown",
            "source": "In single precision, `mean` can be inaccurate:\n",
            "metadata": {}
        },
        {
            "id": "e2e1599e",
            "cell_type": "code",
            "metadata": {},
            "execution_count": null,
            "source": "a = np.zeros((2, 512*512), dtype=np.float32)\na[0, :] = 1.0\na[1, :] = 0.1\nnp.mean(a)",
            "outputs": [
                {
                    "output_type": "execute_result",
                    "metadata": {},
                    "data": {
                        "text/plain": "0.54999924"
                    },
                    "execution_count": null
                }
            ]
        },
        {
            "id": "988bc829",
            "cell_type": "markdown",
            "source": "Computing the mean in float64 is more accurate:\n",
            "metadata": {}
        },
        {
            "id": "cc41534c",
            "cell_type": "code",
            "metadata": {},
            "execution_count": null,
            "source": "np.mean(a, dtype=np.float64)",
            "outputs": [
                {
                    "output_type": "execute_result",
                    "metadata": {},
                    "data": {
                        "text/plain": "0.55000000074505806 # may vary"
                    },
                    "execution_count": null
                }
            ]
        },
        {
            "id": "fcfb9dc6",
            "cell_type": "markdown",
            "source": "Specifying a where argument:\n",
            "metadata": {}
        },
        {
            "id": "b6406e1c",
            "cell_type": "code",
            "metadata": {},
            "execution_count": null,
            "source": "a = np.array([[5, 9, 13], [14, 10, 12], [11, 15, 19]])\nnp.mean(a)",
            "outputs": [
                {
                    "output_type": "execute_result",
                    "metadata": {},
                    "data": {
                        "text/plain": "12.0"
                    },
                    "execution_count": null
                }
            ]
        },
        {
            "id": "18747bbd",
            "cell_type": "code",
            "metadata": {},
            "execution_count": null,
            "source": "np.mean(a, where=[[True], [False], [False]])",
            "outputs": [
                {
                    "output_type": "execute_result",
                    "metadata": {},
                    "data": {
                        "text/plain": "9.0"
                    },
                    "execution_count": null
                }
            ]
        }
    ]
}