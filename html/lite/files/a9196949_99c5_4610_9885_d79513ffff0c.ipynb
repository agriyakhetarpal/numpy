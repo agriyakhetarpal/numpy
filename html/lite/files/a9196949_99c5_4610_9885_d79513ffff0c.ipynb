{
    "nbformat": 4,
    "nbformat_minor": 5,
    "metadata": {
        "kernelspec": {
            "display_name": "Python",
            "language": "python",
            "name": "python"
        },
        "language_info": {
            "name": "python"
        }
    },
    "cells": [
        {
            "id": "90fad92a",
            "cell_type": "markdown",
            "source": "<div class='alert alert-warning'>\n\nNumPy's interactive examples are experimental and may not always work as expected, with high load times especially on low-resource platforms, , and the version of NumPy might not be in sync with the one you are browsing the documentation for. If you encounter any issues, please report them on the [NumPy issue tracker](https://github.com/numpy/numpy/issues).\n\n</div>",
            "metadata": {}
        },
        {
            "id": "5ff46583",
            "cell_type": "code",
            "metadata": {},
            "execution_count": null,
            "source": "import numpy as np\nnp.remainder([4, 7], [2, 3])",
            "outputs": [
                {
                    "output_type": "execute_result",
                    "metadata": {},
                    "data": {
                        "text/plain": "array([0, 1])"
                    },
                    "execution_count": null
                }
            ]
        },
        {
            "id": "fdccd0b8",
            "cell_type": "code",
            "metadata": {},
            "execution_count": null,
            "source": "np.remainder(np.arange(7), 5)",
            "outputs": [
                {
                    "output_type": "execute_result",
                    "metadata": {},
                    "data": {
                        "text/plain": "array([0, 1, 2, 3, 4, 0, 1])"
                    },
                    "execution_count": null
                }
            ]
        },
        {
            "id": "12e9c95a",
            "cell_type": "markdown",
            "source": "The ``%`` operator can be used as a shorthand for ``np.remainder`` on\nndarrays.\n",
            "metadata": {}
        },
        {
            "id": "7f97bebd",
            "cell_type": "code",
            "metadata": {},
            "execution_count": null,
            "source": "x1 = np.arange(7)\nx1 % 5",
            "outputs": [
                {
                    "output_type": "execute_result",
                    "metadata": {},
                    "data": {
                        "text/plain": "array([0, 1, 2, 3, 4, 0, 1])"
                    },
                    "execution_count": null
                }
            ]
        }
    ]
}