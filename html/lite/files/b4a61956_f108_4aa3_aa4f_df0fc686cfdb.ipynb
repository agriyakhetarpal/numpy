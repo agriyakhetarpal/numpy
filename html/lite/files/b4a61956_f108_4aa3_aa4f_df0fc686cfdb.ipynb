{
    "nbformat": 4,
    "nbformat_minor": 5,
    "metadata": {
        "kernelspec": {
            "display_name": "Python",
            "language": "python",
            "name": "python"
        },
        "language_info": {
            "name": "python"
        }
    },
    "cells": [
        {
            "id": "397e8ff1",
            "cell_type": "markdown",
            "source": "<div class='alert alert-warning'>\n\nNumPy's interactive examples are experimental and may not always work as expected, with high load times especially on low-resource platforms, , and the version of NumPy might not be in sync with the one you are browsing the documentation for. If you encounter any issues, please report them on the [NumPy issue tracker](https://github.com/numpy/numpy/issues).\n\n</div>",
            "metadata": {}
        },
        {
            "id": "ebdde7d5",
            "cell_type": "code",
            "metadata": {},
            "execution_count": null,
            "source": "import numpy as np",
            "outputs": []
        },
        {
            "id": "33a4efaf",
            "cell_type": "markdown",
            "source": "Use the trapezoidal rule on evenly spaced points:\n",
            "metadata": {}
        },
        {
            "id": "08a88ab0",
            "cell_type": "code",
            "metadata": {},
            "execution_count": null,
            "source": "np.trapezoid([1, 2, 3])",
            "outputs": [
                {
                    "output_type": "execute_result",
                    "metadata": {},
                    "data": {
                        "text/plain": "4.0"
                    },
                    "execution_count": null
                }
            ]
        },
        {
            "id": "5f076b3e",
            "cell_type": "markdown",
            "source": "The spacing between sample points can be selected by either the\n``x`` or ``dx`` arguments:\n",
            "metadata": {}
        },
        {
            "id": "b74f5320",
            "cell_type": "code",
            "metadata": {},
            "execution_count": null,
            "source": "np.trapezoid([1, 2, 3], x=[4, 6, 8])",
            "outputs": [
                {
                    "output_type": "execute_result",
                    "metadata": {},
                    "data": {
                        "text/plain": "8.0"
                    },
                    "execution_count": null
                }
            ]
        },
        {
            "id": "b7c2e576",
            "cell_type": "code",
            "metadata": {},
            "execution_count": null,
            "source": "np.trapezoid([1, 2, 3], dx=2)",
            "outputs": [
                {
                    "output_type": "execute_result",
                    "metadata": {},
                    "data": {
                        "text/plain": "8.0"
                    },
                    "execution_count": null
                }
            ]
        },
        {
            "id": "6f3855c9",
            "cell_type": "markdown",
            "source": "Using a decreasing ``x`` corresponds to integrating in reverse:\n",
            "metadata": {}
        },
        {
            "id": "3316cd06",
            "cell_type": "code",
            "metadata": {},
            "execution_count": null,
            "source": "np.trapezoid([1, 2, 3], x=[8, 6, 4])",
            "outputs": [
                {
                    "output_type": "execute_result",
                    "metadata": {},
                    "data": {
                        "text/plain": "-8.0"
                    },
                    "execution_count": null
                }
            ]
        },
        {
            "id": "26bbb409",
            "cell_type": "markdown",
            "source": "More generally ``x`` is used to integrate along a parametric curve. We can\nestimate the integral $\\int_0^1 x^2 = 1/3$ using:\n",
            "metadata": {}
        },
        {
            "id": "c8edc86f",
            "cell_type": "code",
            "metadata": {},
            "execution_count": null,
            "source": "x = np.linspace(0, 1, num=50)\ny = x**2\nnp.trapezoid(y, x)",
            "outputs": [
                {
                    "output_type": "execute_result",
                    "metadata": {},
                    "data": {
                        "text/plain": "0.33340274885464394"
                    },
                    "execution_count": null
                }
            ]
        },
        {
            "id": "587bb8f8",
            "cell_type": "markdown",
            "source": "Or estimate the area of a circle, noting we repeat the sample which closes\nthe curve:\n",
            "metadata": {}
        },
        {
            "id": "3087d8f9",
            "cell_type": "code",
            "metadata": {},
            "execution_count": null,
            "source": "theta = np.linspace(0, 2 * np.pi, num=1000, endpoint=True)\nnp.trapezoid(np.cos(theta), x=np.sin(theta))",
            "outputs": [
                {
                    "output_type": "execute_result",
                    "metadata": {},
                    "data": {
                        "text/plain": "3.141571941375841"
                    },
                    "execution_count": null
                }
            ]
        },
        {
            "id": "311b7800",
            "cell_type": "markdown",
            "source": "``np.trapezoid`` can be applied along a specified axis to do multiple\ncomputations in one call:\n",
            "metadata": {}
        },
        {
            "id": "99cf0175",
            "cell_type": "code",
            "metadata": {},
            "execution_count": null,
            "source": "a = np.arange(6).reshape(2, 3)\na",
            "outputs": [
                {
                    "output_type": "execute_result",
                    "metadata": {},
                    "data": {
                        "text/plain": "array([[0, 1, 2],\n       [3, 4, 5]])"
                    },
                    "execution_count": null
                }
            ]
        },
        {
            "id": "e79599f4",
            "cell_type": "code",
            "metadata": {},
            "execution_count": null,
            "source": "np.trapezoid(a, axis=0)",
            "outputs": [
                {
                    "output_type": "execute_result",
                    "metadata": {},
                    "data": {
                        "text/plain": "array([1.5, 2.5, 3.5])"
                    },
                    "execution_count": null
                }
            ]
        },
        {
            "id": "8d6597b5",
            "cell_type": "code",
            "metadata": {},
            "execution_count": null,
            "source": "np.trapezoid(a, axis=1)",
            "outputs": [
                {
                    "output_type": "execute_result",
                    "metadata": {},
                    "data": {
                        "text/plain": "array([2.,  8.])"
                    },
                    "execution_count": null
                }
            ]
        }
    ]
}