{
    "nbformat": 4,
    "nbformat_minor": 5,
    "metadata": {
        "kernelspec": {
            "display_name": "Python",
            "language": "python",
            "name": "python"
        },
        "language_info": {
            "name": "python"
        }
    },
    "cells": [
        {
            "id": "fb64fa06",
            "cell_type": "markdown",
            "source": "<div class='alert alert-warning'>\n\nNumPy's interactive examples are experimental and may not always work as expected, with high load times especially on low-resource platforms, , and the version of NumPy might not be in sync with the one you are browsing the documentation for. If you encounter any issues, please report them on the [NumPy issue tracker](https://github.com/numpy/numpy/issues).\n\n</div>",
            "metadata": {}
        },
        {
            "id": "a3f431dc",
            "cell_type": "code",
            "metadata": {},
            "execution_count": null,
            "source": "import numpy as np\nnp.add.ntypes",
            "outputs": [
                {
                    "output_type": "execute_result",
                    "metadata": {},
                    "data": {
                        "text/plain": "18"
                    },
                    "execution_count": null
                }
            ]
        },
        {
            "id": "f316637a",
            "cell_type": "code",
            "metadata": {},
            "execution_count": null,
            "source": "np.multiply.ntypes",
            "outputs": [
                {
                    "output_type": "execute_result",
                    "metadata": {},
                    "data": {
                        "text/plain": "18"
                    },
                    "execution_count": null
                }
            ]
        },
        {
            "id": "76f25a1a",
            "cell_type": "code",
            "metadata": {},
            "execution_count": null,
            "source": "np.power.ntypes",
            "outputs": [
                {
                    "output_type": "execute_result",
                    "metadata": {},
                    "data": {
                        "text/plain": "17"
                    },
                    "execution_count": null
                }
            ]
        },
        {
            "id": "0e5f9e81",
            "cell_type": "code",
            "metadata": {},
            "execution_count": null,
            "source": "np.exp.ntypes",
            "outputs": [
                {
                    "output_type": "execute_result",
                    "metadata": {},
                    "data": {
                        "text/plain": "7"
                    },
                    "execution_count": null
                }
            ]
        },
        {
            "id": "669f203a",
            "cell_type": "code",
            "metadata": {},
            "execution_count": null,
            "source": "np.remainder.ntypes",
            "outputs": [
                {
                    "output_type": "execute_result",
                    "metadata": {},
                    "data": {
                        "text/plain": "14"
                    },
                    "execution_count": null
                }
            ]
        }
    ]
}