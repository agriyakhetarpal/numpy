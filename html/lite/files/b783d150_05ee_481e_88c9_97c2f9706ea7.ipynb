{
    "nbformat": 4,
    "nbformat_minor": 5,
    "metadata": {
        "kernelspec": {
            "display_name": "Python",
            "language": "python",
            "name": "python"
        },
        "language_info": {
            "name": "python"
        }
    },
    "cells": [
        {
            "id": "56a28019",
            "cell_type": "markdown",
            "source": "<div class='alert alert-warning'>\n\nNumPy's interactive examples are experimental and may not always work as expected, with high load times especially on low-resource platforms, , and the version of NumPy might not be in sync with the one you are browsing the documentation for. If you encounter any issues, please report them on the [NumPy issue tracker](https://github.com/numpy/numpy/issues).\n\n</div>",
            "metadata": {}
        },
        {
            "id": "94447628",
            "cell_type": "code",
            "metadata": {},
            "execution_count": null,
            "source": "import numpy as np\nnp.newaxis is None",
            "outputs": [
                {
                    "output_type": "execute_result",
                    "metadata": {},
                    "data": {
                        "text/plain": "True"
                    },
                    "execution_count": null
                }
            ]
        },
        {
            "id": "7168ea27",
            "cell_type": "code",
            "metadata": {},
            "execution_count": null,
            "source": "x = np.arange(3)\nx",
            "outputs": [
                {
                    "output_type": "execute_result",
                    "metadata": {},
                    "data": {
                        "text/plain": "array([0, 1, 2])"
                    },
                    "execution_count": null
                }
            ]
        },
        {
            "id": "2f00aa11",
            "cell_type": "code",
            "metadata": {},
            "execution_count": null,
            "source": "x[:, np.newaxis]",
            "outputs": [
                {
                    "output_type": "execute_result",
                    "metadata": {},
                    "data": {
                        "text/plain": "array([[0],\n[1],\n[2]])"
                    },
                    "execution_count": null
                }
            ]
        },
        {
            "id": "351dd5f9",
            "cell_type": "code",
            "metadata": {},
            "execution_count": null,
            "source": "x[:, np.newaxis, np.newaxis]",
            "outputs": [
                {
                    "output_type": "execute_result",
                    "metadata": {},
                    "data": {
                        "text/plain": "array([[[0]],\n[[1]],\n[[2]]])"
                    },
                    "execution_count": null
                }
            ]
        },
        {
            "id": "50d6b28f",
            "cell_type": "code",
            "metadata": {},
            "execution_count": null,
            "source": "x[:, np.newaxis] * x",
            "outputs": [
                {
                    "output_type": "execute_result",
                    "metadata": {},
                    "data": {
                        "text/plain": "array([[0, 0, 0],\n    [0, 1, 2],\n    [0, 2, 4]])"
                    },
                    "execution_count": null
                }
            ]
        },
        {
            "id": "537a7861",
            "cell_type": "markdown",
            "source": "Outer product, same as ``outer(x, y)``:\n",
            "metadata": {}
        },
        {
            "id": "d5d53bda",
            "cell_type": "code",
            "metadata": {},
            "execution_count": null,
            "source": "y = np.arange(3, 6)\nx[:, np.newaxis] * y",
            "outputs": [
                {
                    "output_type": "execute_result",
                    "metadata": {},
                    "data": {
                        "text/plain": "array([[ 0,  0,  0],\n    [ 3,  4,  5],\n    [ 6,  8, 10]])"
                    },
                    "execution_count": null
                }
            ]
        },
        {
            "id": "f68d78a7",
            "cell_type": "markdown",
            "source": "``x[np.newaxis, :]`` is equivalent to ``x[np.newaxis]`` and ``x[None]``:\n",
            "metadata": {}
        },
        {
            "id": "f1a75a00",
            "cell_type": "code",
            "metadata": {},
            "execution_count": null,
            "source": "x[np.newaxis, :].shape",
            "outputs": [
                {
                    "output_type": "execute_result",
                    "metadata": {},
                    "data": {
                        "text/plain": "(1, 3)"
                    },
                    "execution_count": null
                }
            ]
        },
        {
            "id": "855cd51b",
            "cell_type": "code",
            "metadata": {},
            "execution_count": null,
            "source": "x[np.newaxis].shape",
            "outputs": [
                {
                    "output_type": "execute_result",
                    "metadata": {},
                    "data": {
                        "text/plain": "(1, 3)"
                    },
                    "execution_count": null
                }
            ]
        },
        {
            "id": "0d3d3860",
            "cell_type": "code",
            "metadata": {},
            "execution_count": null,
            "source": "x[None].shape",
            "outputs": [
                {
                    "output_type": "execute_result",
                    "metadata": {},
                    "data": {
                        "text/plain": "(1, 3)"
                    },
                    "execution_count": null
                }
            ]
        },
        {
            "id": "4281f46e",
            "cell_type": "code",
            "metadata": {},
            "execution_count": null,
            "source": "x[:, np.newaxis].shape",
            "outputs": [
                {
                    "output_type": "execute_result",
                    "metadata": {},
                    "data": {
                        "text/plain": "(3, 1)"
                    },
                    "execution_count": null
                }
            ]
        }
    ]
}