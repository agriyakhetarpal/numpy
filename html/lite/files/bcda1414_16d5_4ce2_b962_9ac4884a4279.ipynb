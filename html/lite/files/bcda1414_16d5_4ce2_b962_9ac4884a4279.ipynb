{
    "nbformat": 4,
    "nbformat_minor": 5,
    "metadata": {
        "kernelspec": {
            "display_name": "Python",
            "language": "python",
            "name": "python"
        },
        "language_info": {
            "name": "python"
        }
    },
    "cells": [
        {
            "id": "6ab8e6b7",
            "cell_type": "markdown",
            "source": "<div class='alert alert-warning'>\n\nNumPy's interactive examples are experimental and may not always work as expected, with high load times especially on low-resource platforms, , and the version of NumPy might not be in sync with the one you are browsing the documentation for. If you encounter any issues, please report them on the [NumPy issue tracker](https://github.com/numpy/numpy/issues).\n\n</div>",
            "metadata": {}
        },
        {
            "id": "6fb68974",
            "cell_type": "code",
            "metadata": {},
            "execution_count": null,
            "source": "import numpy as np\na = np.array([[1,2,3], [4,5,6]])\na",
            "outputs": [
                {
                    "output_type": "execute_result",
                    "metadata": {},
                    "data": {
                        "text/plain": "array([[1, 2, 3],\n       [4, 5, 6]])"
                    },
                    "execution_count": null
                }
            ]
        },
        {
            "id": "9fa1da70",
            "cell_type": "code",
            "metadata": {},
            "execution_count": null,
            "source": "np.cumsum(a)",
            "outputs": [
                {
                    "output_type": "execute_result",
                    "metadata": {},
                    "data": {
                        "text/plain": "array([ 1,  3,  6, 10, 15, 21])"
                    },
                    "execution_count": null
                }
            ]
        },
        {
            "id": "51caaedb",
            "cell_type": "code",
            "metadata": {},
            "execution_count": null,
            "source": "np.cumsum(a, dtype=float)     # specifies type of output value(s)",
            "outputs": [
                {
                    "output_type": "execute_result",
                    "metadata": {},
                    "data": {
                        "text/plain": "array([  1.,   3.,   6.,  10.,  15.,  21.])"
                    },
                    "execution_count": null
                }
            ]
        },
        {
            "id": "3ebc43b2",
            "cell_type": "code",
            "metadata": {},
            "execution_count": null,
            "source": "np.cumsum(a,axis=0)      # sum over rows for each of the 3 columns",
            "outputs": [
                {
                    "output_type": "execute_result",
                    "metadata": {},
                    "data": {
                        "text/plain": "array([[1, 2, 3],\n       [5, 7, 9]])"
                    },
                    "execution_count": null
                }
            ]
        },
        {
            "id": "2dd4b300",
            "cell_type": "code",
            "metadata": {},
            "execution_count": null,
            "source": "np.cumsum(a,axis=1)      # sum over columns for each of the 2 rows",
            "outputs": [
                {
                    "output_type": "execute_result",
                    "metadata": {},
                    "data": {
                        "text/plain": "array([[ 1,  3,  6],\n       [ 4,  9, 15]])"
                    },
                    "execution_count": null
                }
            ]
        },
        {
            "id": "44545294",
            "cell_type": "markdown",
            "source": "``cumsum(b)[-1]`` may not be equal to ``sum(b)``\n",
            "metadata": {}
        },
        {
            "id": "083cbd35",
            "cell_type": "code",
            "metadata": {},
            "execution_count": null,
            "source": "b = np.array([1, 2e-9, 3e-9] * 1000000)\nb.cumsum()[-1]",
            "outputs": [
                {
                    "output_type": "execute_result",
                    "metadata": {},
                    "data": {
                        "text/plain": "1000000.0050045159"
                    },
                    "execution_count": null
                }
            ]
        },
        {
            "id": "0ddd3192",
            "cell_type": "code",
            "metadata": {},
            "execution_count": null,
            "source": "b.sum()",
            "outputs": [
                {
                    "output_type": "execute_result",
                    "metadata": {},
                    "data": {
                        "text/plain": "1000000.0050000029"
                    },
                    "execution_count": null
                }
            ]
        }
    ]
}