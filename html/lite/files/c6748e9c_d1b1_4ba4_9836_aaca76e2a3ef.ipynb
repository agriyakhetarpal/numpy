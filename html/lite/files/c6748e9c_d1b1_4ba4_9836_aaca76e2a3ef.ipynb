{
    "nbformat": 4,
    "nbformat_minor": 5,
    "metadata": {
        "kernelspec": {
            "display_name": "Python",
            "language": "python",
            "name": "python"
        },
        "language_info": {
            "name": "python"
        }
    },
    "cells": [
        {
            "id": "aa4c532d",
            "cell_type": "markdown",
            "source": "<div class='alert alert-warning'>\n\nNumPy's interactive examples are experimental and may not always work as expected, with high load times especially on low-resource platforms, , and the version of NumPy might not be in sync with the one you are browsing the documentation for. If you encounter any issues, please report them on the [NumPy issue tracker](https://github.com/numpy/numpy/issues).\n\n</div>",
            "metadata": {}
        },
        {
            "id": "e6dff82b",
            "cell_type": "code",
            "metadata": {},
            "execution_count": null,
            "source": "import numpy as np\na = np.array([1+2j,3+4j])\nb = np.array([5+6j,7+8j])\nnp.vdot(a, b)",
            "outputs": [
                {
                    "output_type": "execute_result",
                    "metadata": {},
                    "data": {
                        "text/plain": "(70-8j)"
                    },
                    "execution_count": null
                }
            ]
        },
        {
            "id": "3a0c2d35",
            "cell_type": "code",
            "metadata": {},
            "execution_count": null,
            "source": "np.vdot(b, a)",
            "outputs": [
                {
                    "output_type": "execute_result",
                    "metadata": {},
                    "data": {
                        "text/plain": "(70+8j)"
                    },
                    "execution_count": null
                }
            ]
        },
        {
            "id": "80b51391",
            "cell_type": "markdown",
            "source": "Note that higher-dimensional arrays are flattened!\n",
            "metadata": {}
        },
        {
            "id": "94a3bd7b",
            "cell_type": "code",
            "metadata": {},
            "execution_count": null,
            "source": "a = np.array([[1, 4], [5, 6]])\nb = np.array([[4, 1], [2, 2]])\nnp.vdot(a, b)",
            "outputs": [
                {
                    "output_type": "execute_result",
                    "metadata": {},
                    "data": {
                        "text/plain": "30"
                    },
                    "execution_count": null
                }
            ]
        },
        {
            "id": "1f33d995",
            "cell_type": "code",
            "metadata": {},
            "execution_count": null,
            "source": "np.vdot(b, a)",
            "outputs": [
                {
                    "output_type": "execute_result",
                    "metadata": {},
                    "data": {
                        "text/plain": "30"
                    },
                    "execution_count": null
                }
            ]
        },
        {
            "id": "1c7d584e",
            "cell_type": "code",
            "metadata": {},
            "execution_count": null,
            "source": "1*4 + 4*1 + 5*2 + 6*2",
            "outputs": [
                {
                    "output_type": "execute_result",
                    "metadata": {},
                    "data": {
                        "text/plain": "30"
                    },
                    "execution_count": null
                }
            ]
        }
    ]
}