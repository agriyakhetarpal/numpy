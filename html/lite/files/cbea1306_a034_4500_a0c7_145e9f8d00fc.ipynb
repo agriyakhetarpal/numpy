{
    "nbformat": 4,
    "nbformat_minor": 5,
    "metadata": {
        "kernelspec": {
            "display_name": "Python",
            "language": "python",
            "name": "python"
        },
        "language_info": {
            "name": "python"
        }
    },
    "cells": [
        {
            "id": "5db8a55f",
            "cell_type": "markdown",
            "source": "<div class='alert alert-warning'>\n\nNumPy's interactive examples are experimental and may not always work as expected, with high load times especially on low-resource platforms, , and the version of NumPy might not be in sync with the one you are browsing the documentation for. If you encounter any issues, please report them on the [NumPy issue tracker](https://github.com/numpy/numpy/issues).\n\n</div>",
            "metadata": {}
        },
        {
            "id": "40edb692",
            "cell_type": "code",
            "metadata": {},
            "execution_count": null,
            "source": "import numpy as np\nnp.set_printoptions(precision=4)",
            "outputs": []
        },
        {
            "id": "06c18644",
            "cell_type": "code",
            "metadata": {},
            "execution_count": null,
            "source": "np.emath.power(2, 2)",
            "outputs": [
                {
                    "output_type": "execute_result",
                    "metadata": {},
                    "data": {
                        "text/plain": "4"
                    },
                    "execution_count": null
                }
            ]
        },
        {
            "id": "223baf40",
            "cell_type": "code",
            "metadata": {},
            "execution_count": null,
            "source": "np.emath.power([2, 4], 2)",
            "outputs": [
                {
                    "output_type": "execute_result",
                    "metadata": {},
                    "data": {
                        "text/plain": "array([ 4, 16])"
                    },
                    "execution_count": null
                }
            ]
        },
        {
            "id": "a69bf334",
            "cell_type": "code",
            "metadata": {},
            "execution_count": null,
            "source": "np.emath.power([2, 4], -2)",
            "outputs": [
                {
                    "output_type": "execute_result",
                    "metadata": {},
                    "data": {
                        "text/plain": "array([0.25  ,  0.0625])"
                    },
                    "execution_count": null
                }
            ]
        },
        {
            "id": "a6ce7d0c",
            "cell_type": "code",
            "metadata": {},
            "execution_count": null,
            "source": "np.emath.power([-2, 4], 2)",
            "outputs": [
                {
                    "output_type": "execute_result",
                    "metadata": {},
                    "data": {
                        "text/plain": "array([ 4.-0.j, 16.+0.j])"
                    },
                    "execution_count": null
                }
            ]
        },
        {
            "id": "4da72748",
            "cell_type": "code",
            "metadata": {},
            "execution_count": null,
            "source": "np.emath.power([2, 4], [2, 4])",
            "outputs": [
                {
                    "output_type": "execute_result",
                    "metadata": {},
                    "data": {
                        "text/plain": "array([ 4, 256])"
                    },
                    "execution_count": null
                }
            ]
        }
    ]
}