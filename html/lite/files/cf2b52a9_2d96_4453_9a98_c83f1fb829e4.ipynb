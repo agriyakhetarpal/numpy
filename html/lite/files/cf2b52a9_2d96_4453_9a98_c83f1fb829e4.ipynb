{
    "nbformat": 4,
    "nbformat_minor": 5,
    "metadata": {
        "kernelspec": {
            "display_name": "Python",
            "language": "python",
            "name": "python"
        },
        "language_info": {
            "name": "python"
        }
    },
    "cells": [
        {
            "id": "999c5618",
            "cell_type": "markdown",
            "source": "<div class='alert alert-warning'>\n\nNumPy's interactive examples are experimental and may not always work as expected, with high load times especially on low-resource platforms, , and the version of NumPy might not be in sync with the one you are browsing the documentation for. If you encounter any issues, please report them on the [NumPy issue tracker](https://github.com/numpy/numpy/issues).\n\n</div>",
            "metadata": {}
        },
        {
            "id": "c0f0b3b2",
            "cell_type": "code",
            "metadata": {},
            "execution_count": null,
            "source": "import numpy as np",
            "outputs": []
        },
        {
            "id": "df369ea1",
            "cell_type": "markdown",
            "source": "Construct the polynomial $x^2 + 2x + 3$:\n",
            "metadata": {}
        },
        {
            "id": "8bf0da92",
            "cell_type": "code",
            "metadata": {},
            "execution_count": null,
            "source": "p = np.poly1d([1, 2, 3])\nprint(np.poly1d(p))",
            "outputs": [
                {
                    "output_type": "execute_result",
                    "metadata": {},
                    "data": {
                        "text/plain": "   2\n1 x + 2 x + 3"
                    },
                    "execution_count": null
                }
            ]
        },
        {
            "id": "f27493bf",
            "cell_type": "markdown",
            "source": "Evaluate the polynomial at $x = 0.5$:\n",
            "metadata": {}
        },
        {
            "id": "cf78feed",
            "cell_type": "code",
            "metadata": {},
            "execution_count": null,
            "source": "p(0.5)",
            "outputs": [
                {
                    "output_type": "execute_result",
                    "metadata": {},
                    "data": {
                        "text/plain": "4.25"
                    },
                    "execution_count": null
                }
            ]
        },
        {
            "id": "486d9804",
            "cell_type": "markdown",
            "source": "Find the roots:\n",
            "metadata": {}
        },
        {
            "id": "8c18d76e",
            "cell_type": "code",
            "metadata": {},
            "execution_count": null,
            "source": "p.r",
            "outputs": [
                {
                    "output_type": "execute_result",
                    "metadata": {},
                    "data": {
                        "text/plain": "array([-1.+1.41421356j, -1.-1.41421356j])"
                    },
                    "execution_count": null
                }
            ]
        },
        {
            "id": "8ecd75b8",
            "cell_type": "code",
            "metadata": {},
            "execution_count": null,
            "source": "p(p.r)",
            "outputs": [
                {
                    "output_type": "execute_result",
                    "metadata": {},
                    "data": {
                        "text/plain": "array([ -4.44089210e-16+0.j,  -4.44089210e-16+0.j]) # may vary"
                    },
                    "execution_count": null
                }
            ]
        },
        {
            "id": "c6a0cba4",
            "cell_type": "markdown",
            "source": "These numbers in the previous line represent (0, 0) to machine precision\n\nShow the coefficients:\n",
            "metadata": {}
        },
        {
            "id": "fbe5bc86",
            "cell_type": "code",
            "metadata": {},
            "execution_count": null,
            "source": "p.c",
            "outputs": [
                {
                    "output_type": "execute_result",
                    "metadata": {},
                    "data": {
                        "text/plain": "array([1, 2, 3])"
                    },
                    "execution_count": null
                }
            ]
        },
        {
            "id": "4dd8cc7e",
            "cell_type": "markdown",
            "source": "Display the order (the leading zero-coefficients are removed):\n",
            "metadata": {}
        },
        {
            "id": "f5abb8dc",
            "cell_type": "code",
            "metadata": {},
            "execution_count": null,
            "source": "p.order",
            "outputs": [
                {
                    "output_type": "execute_result",
                    "metadata": {},
                    "data": {
                        "text/plain": "2"
                    },
                    "execution_count": null
                }
            ]
        },
        {
            "id": "e3eea88c",
            "cell_type": "markdown",
            "source": "Show the coefficient of the k-th power in the polynomial\n(which is equivalent to ``p.c[-(i+1)]``):\n",
            "metadata": {}
        },
        {
            "id": "22789001",
            "cell_type": "code",
            "metadata": {},
            "execution_count": null,
            "source": "p[1]",
            "outputs": [
                {
                    "output_type": "execute_result",
                    "metadata": {},
                    "data": {
                        "text/plain": "2"
                    },
                    "execution_count": null
                }
            ]
        },
        {
            "id": "7db7cabb",
            "cell_type": "markdown",
            "source": "Polynomials can be added, subtracted, multiplied, and divided\n(returns quotient and remainder):\n",
            "metadata": {}
        },
        {
            "id": "b8e661e2",
            "cell_type": "code",
            "metadata": {},
            "execution_count": null,
            "source": "p * p",
            "outputs": [
                {
                    "output_type": "execute_result",
                    "metadata": {},
                    "data": {
                        "text/plain": "poly1d([ 1,  4, 10, 12,  9])"
                    },
                    "execution_count": null
                }
            ]
        },
        {
            "id": "0a03de4e",
            "cell_type": "code",
            "metadata": {},
            "execution_count": null,
            "source": "(p**3 + 4) / p",
            "outputs": [
                {
                    "output_type": "execute_result",
                    "metadata": {},
                    "data": {
                        "text/plain": "(poly1d([ 1.,  4., 10., 12.,  9.]), poly1d([4.]))"
                    },
                    "execution_count": null
                }
            ]
        },
        {
            "id": "eea2b6b4",
            "cell_type": "markdown",
            "source": "``asarray(p)`` gives the coefficient array, so polynomials can be\nused in all functions that accept arrays:\n",
            "metadata": {}
        },
        {
            "id": "494b7ad3",
            "cell_type": "code",
            "metadata": {},
            "execution_count": null,
            "source": "p**2 # square of polynomial",
            "outputs": [
                {
                    "output_type": "execute_result",
                    "metadata": {},
                    "data": {
                        "text/plain": "poly1d([ 1,  4, 10, 12,  9])"
                    },
                    "execution_count": null
                }
            ]
        },
        {
            "id": "33284dae",
            "cell_type": "code",
            "metadata": {},
            "execution_count": null,
            "source": "np.square(p) # square of individual coefficients",
            "outputs": [
                {
                    "output_type": "execute_result",
                    "metadata": {},
                    "data": {
                        "text/plain": "array([1, 4, 9])"
                    },
                    "execution_count": null
                }
            ]
        },
        {
            "id": "74f14622",
            "cell_type": "markdown",
            "source": "The variable used in the string representation of `p` can be modified,\nusing the `variable` parameter:\n",
            "metadata": {}
        },
        {
            "id": "69c12f4e",
            "cell_type": "code",
            "metadata": {},
            "execution_count": null,
            "source": "p = np.poly1d([1,2,3], variable='z')\nprint(p)",
            "outputs": [
                {
                    "output_type": "execute_result",
                    "metadata": {},
                    "data": {
                        "text/plain": "   2\n1 z + 2 z + 3"
                    },
                    "execution_count": null
                }
            ]
        },
        {
            "id": "8109eb7b",
            "cell_type": "markdown",
            "source": "Construct a polynomial from its roots:\n",
            "metadata": {}
        },
        {
            "id": "da2db816",
            "cell_type": "code",
            "metadata": {},
            "execution_count": null,
            "source": "np.poly1d([1, 2], True)",
            "outputs": [
                {
                    "output_type": "execute_result",
                    "metadata": {},
                    "data": {
                        "text/plain": "poly1d([ 1., -3.,  2.])"
                    },
                    "execution_count": null
                }
            ]
        },
        {
            "id": "d2d7de5d",
            "cell_type": "markdown",
            "source": "This is the same polynomial as obtained by:\n",
            "metadata": {}
        },
        {
            "id": "081d2a1d",
            "cell_type": "code",
            "metadata": {},
            "execution_count": null,
            "source": "np.poly1d([1, -1]) * np.poly1d([1, -2])",
            "outputs": [
                {
                    "output_type": "execute_result",
                    "metadata": {},
                    "data": {
                        "text/plain": "poly1d([ 1, -3,  2])"
                    },
                    "execution_count": null
                }
            ]
        }
    ]
}