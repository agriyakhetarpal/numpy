{
    "nbformat": 4,
    "nbformat_minor": 5,
    "metadata": {
        "kernelspec": {
            "display_name": "Python",
            "language": "python",
            "name": "python"
        },
        "language_info": {
            "name": "python"
        }
    },
    "cells": [
        {
            "id": "8486710c",
            "cell_type": "markdown",
            "source": "<div class='alert alert-warning'>\n\nNumPy's interactive examples are experimental and may not always work as expected, with high load times especially on low-resource platforms, , and the version of NumPy might not be in sync with the one you are browsing the documentation for. If you encounter any issues, please report them on the [NumPy issue tracker](https://github.com/numpy/numpy/issues).\n\n</div>",
            "metadata": {}
        },
        {
            "id": "488eb3b4",
            "cell_type": "code",
            "metadata": {},
            "execution_count": null,
            "source": "import numpy as np\nnp.array_repr(np.array([1,2]))",
            "outputs": [
                {
                    "output_type": "execute_result",
                    "metadata": {},
                    "data": {
                        "text/plain": "'array([1, 2])'"
                    },
                    "execution_count": null
                }
            ]
        },
        {
            "id": "b69c0910",
            "cell_type": "code",
            "metadata": {},
            "execution_count": null,
            "source": "np.array_repr(np.ma.array([0.]))",
            "outputs": [
                {
                    "output_type": "execute_result",
                    "metadata": {},
                    "data": {
                        "text/plain": "'MaskedArray([0.])'"
                    },
                    "execution_count": null
                }
            ]
        },
        {
            "id": "c27f209f",
            "cell_type": "code",
            "metadata": {},
            "execution_count": null,
            "source": "np.array_repr(np.array([], np.int32))",
            "outputs": [
                {
                    "output_type": "execute_result",
                    "metadata": {},
                    "data": {
                        "text/plain": "'array([], dtype=int32)'"
                    },
                    "execution_count": null
                }
            ]
        },
        {
            "id": "4542ca1a",
            "cell_type": "code",
            "metadata": {},
            "execution_count": null,
            "source": "x = np.array([1e-6, 4e-7, 2, 3])\nnp.array_repr(x, precision=6, suppress_small=True)",
            "outputs": [
                {
                    "output_type": "execute_result",
                    "metadata": {},
                    "data": {
                        "text/plain": "'array([0.000001,  0.      ,  2.      ,  3.      ])'"
                    },
                    "execution_count": null
                }
            ]
        }
    ]
}