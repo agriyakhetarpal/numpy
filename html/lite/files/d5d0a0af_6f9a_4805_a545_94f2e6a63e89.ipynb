{
    "nbformat": 4,
    "nbformat_minor": 5,
    "metadata": {
        "kernelspec": {
            "display_name": "Python",
            "language": "python",
            "name": "python"
        },
        "language_info": {
            "name": "python"
        }
    },
    "cells": [
        {
            "id": "53008ebb",
            "cell_type": "markdown",
            "source": "<div class='alert alert-warning'>\n\nNumPy's interactive examples are experimental and may not always work as expected, with high load times especially on low-resource platforms, , and the version of NumPy might not be in sync with the one you are browsing the documentation for. If you encounter any issues, please report them on the [NumPy issue tracker](https://github.com/numpy/numpy/issues).\n\n</div>",
            "metadata": {}
        },
        {
            "id": "1c6aa277",
            "cell_type": "code",
            "metadata": {},
            "execution_count": null,
            "source": "import numpy as np",
            "outputs": []
        },
        {
            "id": "d7e652b0",
            "cell_type": "markdown",
            "source": "Data type with fields ``r``, ``g``, ``b``, ``a``, each being\nan 8-bit unsigned integer:\n",
            "metadata": {}
        },
        {
            "id": "244cd5d9",
            "cell_type": "code",
            "metadata": {},
            "execution_count": null,
            "source": "dt = np.dtype({'names': ['r','g','b','a'],\n               'formats': [np.uint8, np.uint8, np.uint8, np.uint8]})",
            "outputs": []
        },
        {
            "id": "de8a3169",
            "cell_type": "markdown",
            "source": "Data type with fields ``r`` and ``b`` (with the given titles),\nboth being 8-bit unsigned integers, the first at byte position\n0 from the start of the field and the second at position 2:\n",
            "metadata": {}
        },
        {
            "id": "93c36280",
            "cell_type": "code",
            "metadata": {},
            "execution_count": null,
            "source": "dt = np.dtype({'names': ['r','b'], 'formats': ['u1', 'u1'],\n               'offsets': [0, 2],\n               'titles': ['Red pixel', 'Blue pixel']})",
            "outputs": []
        }
    ]
}