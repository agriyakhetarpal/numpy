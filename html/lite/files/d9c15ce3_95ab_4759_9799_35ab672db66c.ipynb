{
    "nbformat": 4,
    "nbformat_minor": 5,
    "metadata": {
        "kernelspec": {
            "display_name": "Python",
            "language": "python",
            "name": "python"
        },
        "language_info": {
            "name": "python"
        }
    },
    "cells": [
        {
            "id": "1260b6a9",
            "cell_type": "markdown",
            "source": "<div class='alert alert-warning'>\n\nNumPy's interactive examples are experimental and may not always work as expected, with high load times especially on low-resource platforms, , and the version of NumPy might not be in sync with the one you are browsing the documentation for. If you encounter any issues, please report them on the [NumPy issue tracker](https://github.com/numpy/numpy/issues).\n\n</div>",
            "metadata": {}
        },
        {
            "id": "c944de30",
            "cell_type": "code",
            "metadata": {},
            "execution_count": null,
            "source": "import numpy as np",
            "outputs": []
        },
        {
            "id": "037568cd",
            "cell_type": "markdown",
            "source": "Store data to disk, and load it again:\n",
            "metadata": {}
        },
        {
            "id": "e1b84d4a",
            "cell_type": "code",
            "metadata": {},
            "execution_count": null,
            "source": "np.save('/tmp/123', np.array([[1, 2, 3], [4, 5, 6]]))\nnp.load('/tmp/123.npy')",
            "outputs": [
                {
                    "output_type": "execute_result",
                    "metadata": {},
                    "data": {
                        "text/plain": "array([[1, 2, 3],\n       [4, 5, 6]])"
                    },
                    "execution_count": null
                }
            ]
        },
        {
            "id": "820b875c",
            "cell_type": "markdown",
            "source": "Store compressed data to disk, and load it again:\n",
            "metadata": {}
        },
        {
            "id": "2ec06324",
            "cell_type": "code",
            "metadata": {},
            "execution_count": null,
            "source": "a=np.array([[1, 2, 3], [4, 5, 6]])\nb=np.array([1, 2])\nnp.savez('/tmp/123.npz', a=a, b=b)\ndata = np.load('/tmp/123.npz')\ndata['a']",
            "outputs": [
                {
                    "output_type": "execute_result",
                    "metadata": {},
                    "data": {
                        "text/plain": "array([[1, 2, 3],\n       [4, 5, 6]])"
                    },
                    "execution_count": null
                }
            ]
        },
        {
            "id": "e988659d",
            "cell_type": "code",
            "metadata": {},
            "execution_count": null,
            "source": "data['b']",
            "outputs": [
                {
                    "output_type": "execute_result",
                    "metadata": {},
                    "data": {
                        "text/plain": "array([1, 2])"
                    },
                    "execution_count": null
                }
            ]
        },
        {
            "id": "16417aa9",
            "cell_type": "code",
            "metadata": {},
            "execution_count": null,
            "source": "data.close()",
            "outputs": []
        },
        {
            "id": "ecc126de",
            "cell_type": "markdown",
            "source": "Mem-map the stored array, and then access the second row\ndirectly from disk:\n",
            "metadata": {}
        },
        {
            "id": "6b3487ac",
            "cell_type": "code",
            "metadata": {},
            "execution_count": null,
            "source": "X = np.load('/tmp/123.npy', mmap_mode='r')\nX[1, :]",
            "outputs": [
                {
                    "output_type": "execute_result",
                    "metadata": {},
                    "data": {
                        "text/plain": "memmap([4, 5, 6])"
                    },
                    "execution_count": null
                }
            ]
        }
    ]
}