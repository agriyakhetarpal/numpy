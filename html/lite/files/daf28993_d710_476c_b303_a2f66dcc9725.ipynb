{
    "nbformat": 4,
    "nbformat_minor": 5,
    "metadata": {
        "kernelspec": {
            "display_name": "Python",
            "language": "python",
            "name": "python"
        },
        "language_info": {
            "name": "python"
        }
    },
    "cells": [
        {
            "id": "4e50e2f3",
            "cell_type": "markdown",
            "source": "<div class='alert alert-warning'>\n\nNumPy's interactive examples are experimental and may not always work as expected, with high load times especially on low-resource platforms, , and the version of NumPy might not be in sync with the one you are browsing the documentation for. If you encounter any issues, please report them on the [NumPy issue tracker](https://github.com/numpy/numpy/issues).\n\n</div>",
            "metadata": {}
        },
        {
            "id": "566ffba4",
            "cell_type": "code",
            "metadata": {},
            "execution_count": null,
            "source": "import numpy as np\nnp.sum([0.5, 1.5])",
            "outputs": [
                {
                    "output_type": "execute_result",
                    "metadata": {},
                    "data": {
                        "text/plain": "2.0"
                    },
                    "execution_count": null
                }
            ]
        },
        {
            "id": "eba723a5",
            "cell_type": "code",
            "metadata": {},
            "execution_count": null,
            "source": "np.sum([0.5, 0.7, 0.2, 1.5], dtype=np.int32)",
            "outputs": [
                {
                    "output_type": "execute_result",
                    "metadata": {},
                    "data": {
                        "text/plain": "1"
                    },
                    "execution_count": null
                }
            ]
        },
        {
            "id": "f567ceb3",
            "cell_type": "code",
            "metadata": {},
            "execution_count": null,
            "source": "np.sum([[0, 1], [0, 5]])",
            "outputs": [
                {
                    "output_type": "execute_result",
                    "metadata": {},
                    "data": {
                        "text/plain": "6"
                    },
                    "execution_count": null
                }
            ]
        },
        {
            "id": "fb3d3a2f",
            "cell_type": "code",
            "metadata": {},
            "execution_count": null,
            "source": "np.sum([[0, 1], [0, 5]], axis=0)",
            "outputs": [
                {
                    "output_type": "execute_result",
                    "metadata": {},
                    "data": {
                        "text/plain": "array([0, 6])"
                    },
                    "execution_count": null
                }
            ]
        },
        {
            "id": "18a6f20d",
            "cell_type": "code",
            "metadata": {},
            "execution_count": null,
            "source": "np.sum([[0, 1], [0, 5]], axis=1)",
            "outputs": [
                {
                    "output_type": "execute_result",
                    "metadata": {},
                    "data": {
                        "text/plain": "array([1, 5])"
                    },
                    "execution_count": null
                }
            ]
        },
        {
            "id": "2f53d233",
            "cell_type": "code",
            "metadata": {},
            "execution_count": null,
            "source": "np.sum([[0, 1], [np.nan, 5]], where=[False, True], axis=1)",
            "outputs": [
                {
                    "output_type": "execute_result",
                    "metadata": {},
                    "data": {
                        "text/plain": "array([1., 5.])"
                    },
                    "execution_count": null
                }
            ]
        },
        {
            "id": "3a519b41",
            "cell_type": "markdown",
            "source": "If the accumulator is too small, overflow occurs:\n",
            "metadata": {}
        },
        {
            "id": "09d79ab4",
            "cell_type": "code",
            "metadata": {},
            "execution_count": null,
            "source": "np.ones(128, dtype=np.int8).sum(dtype=np.int8)",
            "outputs": [
                {
                    "output_type": "execute_result",
                    "metadata": {},
                    "data": {
                        "text/plain": "-128"
                    },
                    "execution_count": null
                }
            ]
        },
        {
            "id": "ee288615",
            "cell_type": "markdown",
            "source": "You can also start the sum with a value other than zero:\n",
            "metadata": {}
        },
        {
            "id": "2e79f73f",
            "cell_type": "code",
            "metadata": {},
            "execution_count": null,
            "source": "np.sum([10], initial=5)",
            "outputs": [
                {
                    "output_type": "execute_result",
                    "metadata": {},
                    "data": {
                        "text/plain": "15"
                    },
                    "execution_count": null
                }
            ]
        }
    ]
}