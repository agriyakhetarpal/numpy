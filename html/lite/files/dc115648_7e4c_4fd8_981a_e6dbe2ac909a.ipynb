{
    "nbformat": 4,
    "nbformat_minor": 5,
    "metadata": {
        "kernelspec": {
            "display_name": "Python",
            "language": "python",
            "name": "python"
        },
        "language_info": {
            "name": "python"
        }
    },
    "cells": [
        {
            "id": "a33d47b2",
            "cell_type": "markdown",
            "source": "<div class='alert alert-warning'>\n\nNumPy's interactive examples are experimental and may not always work as expected, with high load times especially on low-resource platforms, , and the version of NumPy might not be in sync with the one you are browsing the documentation for. If you encounter any issues, please report them on the [NumPy issue tracker](https://github.com/numpy/numpy/issues).\n\n</div>",
            "metadata": {}
        },
        {
            "id": "202875e7",
            "cell_type": "code",
            "metadata": {},
            "execution_count": null,
            "source": "import numpy as np",
            "outputs": []
        },
        {
            "id": "90670352",
            "cell_type": "markdown",
            "source": "These are the indices that would allow you to access the upper triangular\npart of any 3x3 array:\n",
            "metadata": {}
        },
        {
            "id": "ab59f20e",
            "cell_type": "code",
            "metadata": {},
            "execution_count": null,
            "source": "iu = np.mask_indices(3, np.triu)",
            "outputs": []
        },
        {
            "id": "9580a045",
            "cell_type": "markdown",
            "source": "For example, if `a` is a 3x3 array:\n",
            "metadata": {}
        },
        {
            "id": "d99d3843",
            "cell_type": "code",
            "metadata": {},
            "execution_count": null,
            "source": "a = np.arange(9).reshape(3, 3)\na",
            "outputs": [
                {
                    "output_type": "execute_result",
                    "metadata": {},
                    "data": {
                        "text/plain": "array([[0, 1, 2],\n       [3, 4, 5],\n       [6, 7, 8]])"
                    },
                    "execution_count": null
                }
            ]
        },
        {
            "id": "52e00bea",
            "cell_type": "code",
            "metadata": {},
            "execution_count": null,
            "source": "a[iu]",
            "outputs": [
                {
                    "output_type": "execute_result",
                    "metadata": {},
                    "data": {
                        "text/plain": "array([0, 1, 2, 4, 5, 8])"
                    },
                    "execution_count": null
                }
            ]
        },
        {
            "id": "a73dbf61",
            "cell_type": "markdown",
            "source": "An offset can be passed also to the masking function.  This gets us the\nindices starting on the first diagonal right of the main one:\n",
            "metadata": {}
        },
        {
            "id": "0542ee79",
            "cell_type": "code",
            "metadata": {},
            "execution_count": null,
            "source": "iu1 = np.mask_indices(3, np.triu, 1)",
            "outputs": []
        },
        {
            "id": "20a8ad8f",
            "cell_type": "markdown",
            "source": "with which we now extract only three elements:\n",
            "metadata": {}
        },
        {
            "id": "5ea57c22",
            "cell_type": "code",
            "metadata": {},
            "execution_count": null,
            "source": "a[iu1]",
            "outputs": [
                {
                    "output_type": "execute_result",
                    "metadata": {},
                    "data": {
                        "text/plain": "array([1, 2, 5])"
                    },
                    "execution_count": null
                }
            ]
        }
    ]
}