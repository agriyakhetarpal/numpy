{
    "nbformat": 4,
    "nbformat_minor": 5,
    "metadata": {
        "kernelspec": {
            "display_name": "Python",
            "language": "python",
            "name": "python"
        },
        "language_info": {
            "name": "python"
        }
    },
    "cells": [
        {
            "id": "cf5b1f13",
            "cell_type": "markdown",
            "source": "<div class='alert alert-warning'>\n\nNumPy's interactive examples are experimental and may not always work as expected, with high load times especially on low-resource platforms, , and the version of NumPy might not be in sync with the one you are browsing the documentation for. If you encounter any issues, please report them on the [NumPy issue tracker](https://github.com/numpy/numpy/issues).\n\n</div>",
            "metadata": {}
        },
        {
            "id": "6d814e7a",
            "cell_type": "code",
            "metadata": {},
            "execution_count": null,
            "source": "import numpy as np\nnp.unique([1, 1, 2, 2, 3, 3])",
            "outputs": [
                {
                    "output_type": "execute_result",
                    "metadata": {},
                    "data": {
                        "text/plain": "array([1, 2, 3])"
                    },
                    "execution_count": null
                }
            ]
        },
        {
            "id": "46868a77",
            "cell_type": "code",
            "metadata": {},
            "execution_count": null,
            "source": "a = np.array([[1, 1], [2, 3]])\nnp.unique(a)",
            "outputs": [
                {
                    "output_type": "execute_result",
                    "metadata": {},
                    "data": {
                        "text/plain": "array([1, 2, 3])"
                    },
                    "execution_count": null
                }
            ]
        },
        {
            "id": "102e83d5",
            "cell_type": "markdown",
            "source": "Return the unique rows of a 2D array\n",
            "metadata": {}
        },
        {
            "id": "e607ae8d",
            "cell_type": "code",
            "metadata": {},
            "execution_count": null,
            "source": "a = np.array([[1, 0, 0], [1, 0, 0], [2, 3, 4]])\nnp.unique(a, axis=0)",
            "outputs": [
                {
                    "output_type": "execute_result",
                    "metadata": {},
                    "data": {
                        "text/plain": "array([[1, 0, 0], [2, 3, 4]])"
                    },
                    "execution_count": null
                }
            ]
        },
        {
            "id": "681469d9",
            "cell_type": "markdown",
            "source": "Return the indices of the original array that give the unique values:\n",
            "metadata": {}
        },
        {
            "id": "d771c39b",
            "cell_type": "code",
            "metadata": {},
            "execution_count": null,
            "source": "a = np.array(['a', 'b', 'b', 'c', 'a'])\nu, indices = np.unique(a, return_index=True)\nu",
            "outputs": [
                {
                    "output_type": "execute_result",
                    "metadata": {},
                    "data": {
                        "text/plain": "array(['a', 'b', 'c'], dtype='<U1')"
                    },
                    "execution_count": null
                }
            ]
        },
        {
            "id": "845eafde",
            "cell_type": "code",
            "metadata": {},
            "execution_count": null,
            "source": "indices",
            "outputs": [
                {
                    "output_type": "execute_result",
                    "metadata": {},
                    "data": {
                        "text/plain": "array([0, 1, 3])"
                    },
                    "execution_count": null
                }
            ]
        },
        {
            "id": "a89fe024",
            "cell_type": "code",
            "metadata": {},
            "execution_count": null,
            "source": "a[indices]",
            "outputs": [
                {
                    "output_type": "execute_result",
                    "metadata": {},
                    "data": {
                        "text/plain": "array(['a', 'b', 'c'], dtype='<U1')"
                    },
                    "execution_count": null
                }
            ]
        },
        {
            "id": "c743f2c5",
            "cell_type": "markdown",
            "source": "Reconstruct the input array from the unique values and inverse:\n",
            "metadata": {}
        },
        {
            "id": "f1b431e1",
            "cell_type": "code",
            "metadata": {},
            "execution_count": null,
            "source": "a = np.array([1, 2, 6, 4, 2, 3, 2])\nu, indices = np.unique(a, return_inverse=True)\nu",
            "outputs": [
                {
                    "output_type": "execute_result",
                    "metadata": {},
                    "data": {
                        "text/plain": "array([1, 2, 3, 4, 6])"
                    },
                    "execution_count": null
                }
            ]
        },
        {
            "id": "f2e642c4",
            "cell_type": "code",
            "metadata": {},
            "execution_count": null,
            "source": "indices",
            "outputs": [
                {
                    "output_type": "execute_result",
                    "metadata": {},
                    "data": {
                        "text/plain": "array([0, 1, 4, 3, 1, 2, 1])"
                    },
                    "execution_count": null
                }
            ]
        },
        {
            "id": "3d5f32be",
            "cell_type": "code",
            "metadata": {},
            "execution_count": null,
            "source": "u[indices]",
            "outputs": [
                {
                    "output_type": "execute_result",
                    "metadata": {},
                    "data": {
                        "text/plain": "array([1, 2, 6, 4, 2, 3, 2])"
                    },
                    "execution_count": null
                }
            ]
        },
        {
            "id": "1ec5ae34",
            "cell_type": "markdown",
            "source": "Reconstruct the input values from the unique values and counts:\n",
            "metadata": {}
        },
        {
            "id": "0941b272",
            "cell_type": "code",
            "metadata": {},
            "execution_count": null,
            "source": "a = np.array([1, 2, 6, 4, 2, 3, 2])\nvalues, counts = np.unique(a, return_counts=True)\nvalues",
            "outputs": [
                {
                    "output_type": "execute_result",
                    "metadata": {},
                    "data": {
                        "text/plain": "array([1, 2, 3, 4, 6])"
                    },
                    "execution_count": null
                }
            ]
        },
        {
            "id": "083107ab",
            "cell_type": "code",
            "metadata": {},
            "execution_count": null,
            "source": "counts",
            "outputs": [
                {
                    "output_type": "execute_result",
                    "metadata": {},
                    "data": {
                        "text/plain": "array([1, 3, 1, 1, 1])"
                    },
                    "execution_count": null
                }
            ]
        },
        {
            "id": "a02dcdc6",
            "cell_type": "code",
            "metadata": {},
            "execution_count": null,
            "source": "np.repeat(values, counts)",
            "outputs": [
                {
                    "output_type": "execute_result",
                    "metadata": {},
                    "data": {
                        "text/plain": "array([1, 2, 2, 2, 3, 4, 6])    # original order not preserved"
                    },
                    "execution_count": null
                }
            ]
        }
    ]
}