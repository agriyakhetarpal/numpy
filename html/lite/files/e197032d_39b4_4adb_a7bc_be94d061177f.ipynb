{
    "nbformat": 4,
    "nbformat_minor": 5,
    "metadata": {
        "kernelspec": {
            "display_name": "Python",
            "language": "python",
            "name": "python"
        },
        "language_info": {
            "name": "python"
        }
    },
    "cells": [
        {
            "id": "5d01ace0",
            "cell_type": "markdown",
            "source": "<div class='alert alert-warning'>\n\nNumPy's interactive examples are experimental and may not always work as expected, with high load times especially on low-resource platforms, , and the version of NumPy might not be in sync with the one you are browsing the documentation for. If you encounter any issues, please report them on the [NumPy issue tracker](https://github.com/numpy/numpy/issues).\n\n</div>",
            "metadata": {}
        },
        {
            "id": "4e0e1c74",
            "cell_type": "markdown",
            "source": "Draw samples from the distribution:\n",
            "metadata": {}
        },
        {
            "id": "66ebe99f",
            "cell_type": "code",
            "metadata": {},
            "execution_count": null,
            "source": "mu, sigma = 0, 0.1 # mean and standard deviation\nrng = np.random.default_rng()\ns = rng.normal(mu, sigma, 1000)",
            "outputs": []
        },
        {
            "id": "8506feeb",
            "cell_type": "markdown",
            "source": "Verify the mean and the variance:\n",
            "metadata": {}
        },
        {
            "id": "c71f7746",
            "cell_type": "code",
            "metadata": {},
            "execution_count": null,
            "source": "abs(mu - np.mean(s))",
            "outputs": [
                {
                    "output_type": "execute_result",
                    "metadata": {},
                    "data": {
                        "text/plain": "0.0  # may vary"
                    },
                    "execution_count": null
                }
            ]
        },
        {
            "id": "3dbe8a60",
            "cell_type": "code",
            "metadata": {},
            "execution_count": null,
            "source": "abs(sigma - np.std(s, ddof=1))",
            "outputs": [
                {
                    "output_type": "execute_result",
                    "metadata": {},
                    "data": {
                        "text/plain": "0.0  # may vary"
                    },
                    "execution_count": null
                }
            ]
        },
        {
            "id": "7cc134aa",
            "cell_type": "markdown",
            "source": "Display the histogram of the samples, along with\nthe probability density function:\n",
            "metadata": {}
        },
        {
            "id": "fd19cf7f",
            "cell_type": "code",
            "metadata": {},
            "execution_count": null,
            "source": "import matplotlib.pyplot as plt\ncount, bins, _ = plt.hist(s, 30, density=True)\nplt.plot(bins, 1/(sigma * np.sqrt(2 * np.pi)) *\n               np.exp( - (bins - mu)**2 / (2 * sigma**2) ),\n         linewidth=2, color='r')\nplt.show()",
            "outputs": []
        },
        {
            "id": "c5b06348",
            "cell_type": "markdown",
            "source": "Two-by-four array of samples from the normal distribution with\nmean 3 and standard deviation 2.5:\n",
            "metadata": {}
        },
        {
            "id": "7f631dc3",
            "cell_type": "code",
            "metadata": {},
            "execution_count": null,
            "source": "rng = np.random.default_rng()\nrng.normal(3, 2.5, size=(2, 4))",
            "outputs": [
                {
                    "output_type": "execute_result",
                    "metadata": {},
                    "data": {
                        "text/plain": "array([[-4.49401501,  4.00950034, -1.81814867,  7.29718677],   # random\n       [ 0.39924804,  4.68456316,  4.99394529,  4.84057254]])  # random"
                    },
                    "execution_count": null
                }
            ]
        }
    ]
}