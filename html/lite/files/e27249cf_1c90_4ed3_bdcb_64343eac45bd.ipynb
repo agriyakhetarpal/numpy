{
    "nbformat": 4,
    "nbformat_minor": 5,
    "metadata": {
        "kernelspec": {
            "display_name": "Python",
            "language": "python",
            "name": "python"
        },
        "language_info": {
            "name": "python"
        }
    },
    "cells": [
        {
            "id": "c310bd93",
            "cell_type": "markdown",
            "source": "<div class='alert alert-warning'>\n\nNumPy's interactive examples are experimental and may not always work as expected, with high load times especially on low-resource platforms, , and the version of NumPy might not be in sync with the one you are browsing the documentation for. If you encounter any issues, please report them on the [NumPy issue tracker](https://github.com/numpy/numpy/issues).\n\n</div>",
            "metadata": {}
        },
        {
            "id": "c933ef09",
            "cell_type": "code",
            "metadata": {},
            "execution_count": null,
            "source": "import numpy as np",
            "outputs": []
        },
        {
            "id": "f59a5312",
            "cell_type": "markdown",
            "source": "The number 13 is represented by ``00001101``. Likewise, 17 is\nrepresented by ``00010001``.  The bit-wise XOR of 13 and 17 is\ntherefore ``00011100``, or 28:\n",
            "metadata": {}
        },
        {
            "id": "a65a162e",
            "cell_type": "code",
            "metadata": {},
            "execution_count": null,
            "source": "np.bitwise_xor(13, 17)",
            "outputs": [
                {
                    "output_type": "execute_result",
                    "metadata": {},
                    "data": {
                        "text/plain": "28"
                    },
                    "execution_count": null
                }
            ]
        },
        {
            "id": "15cba3e1",
            "cell_type": "code",
            "metadata": {},
            "execution_count": null,
            "source": "np.binary_repr(28)",
            "outputs": [
                {
                    "output_type": "execute_result",
                    "metadata": {},
                    "data": {
                        "text/plain": "'11100'"
                    },
                    "execution_count": null
                }
            ]
        },
        {
            "id": "29deb349",
            "cell_type": "code",
            "metadata": {},
            "execution_count": null,
            "source": "np.bitwise_xor(31, 5)",
            "outputs": [
                {
                    "output_type": "execute_result",
                    "metadata": {},
                    "data": {
                        "text/plain": "26"
                    },
                    "execution_count": null
                }
            ]
        },
        {
            "id": "551f1d80",
            "cell_type": "code",
            "metadata": {},
            "execution_count": null,
            "source": "np.bitwise_xor([31,3], 5)",
            "outputs": [
                {
                    "output_type": "execute_result",
                    "metadata": {},
                    "data": {
                        "text/plain": "array([26,  6])"
                    },
                    "execution_count": null
                }
            ]
        },
        {
            "id": "b4ce0d0b",
            "cell_type": "code",
            "metadata": {},
            "execution_count": null,
            "source": "np.bitwise_xor([31,3], [5,6])",
            "outputs": [
                {
                    "output_type": "execute_result",
                    "metadata": {},
                    "data": {
                        "text/plain": "array([26,  5])"
                    },
                    "execution_count": null
                }
            ]
        },
        {
            "id": "5d0183b2",
            "cell_type": "code",
            "metadata": {},
            "execution_count": null,
            "source": "np.bitwise_xor([True, True], [False, True])",
            "outputs": [
                {
                    "output_type": "execute_result",
                    "metadata": {},
                    "data": {
                        "text/plain": "array([ True, False])"
                    },
                    "execution_count": null
                }
            ]
        },
        {
            "id": "a85ea070",
            "cell_type": "markdown",
            "source": "The ``^`` operator can be used as a shorthand for ``np.bitwise_xor`` on\nndarrays.\n",
            "metadata": {}
        },
        {
            "id": "59174c0b",
            "cell_type": "code",
            "metadata": {},
            "execution_count": null,
            "source": "x1 = np.array([True, True])\nx2 = np.array([False, True])\nx1 ^ x2",
            "outputs": [
                {
                    "output_type": "execute_result",
                    "metadata": {},
                    "data": {
                        "text/plain": "array([ True, False])"
                    },
                    "execution_count": null
                }
            ]
        }
    ]
}