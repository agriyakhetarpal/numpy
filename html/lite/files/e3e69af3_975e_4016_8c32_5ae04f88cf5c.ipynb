{
    "nbformat": 4,
    "nbformat_minor": 5,
    "metadata": {
        "kernelspec": {
            "display_name": "Python",
            "language": "python",
            "name": "python"
        },
        "language_info": {
            "name": "python"
        }
    },
    "cells": [
        {
            "id": "390e8a72",
            "cell_type": "markdown",
            "source": "<div class='alert alert-warning'>\n\nNumPy's interactive examples are experimental and may not always work as expected, with high load times especially on low-resource platforms, , and the version of NumPy might not be in sync with the one you are browsing the documentation for. If you encounter any issues, please report them on the [NumPy issue tracker](https://github.com/numpy/numpy/issues).\n\n</div>",
            "metadata": {}
        },
        {
            "id": "8e690266",
            "cell_type": "code",
            "metadata": {},
            "execution_count": null,
            "source": "import numpy as np\nimport numpy.ma as ma\nm = [True, False, True, True]\nma.make_mask(m)",
            "outputs": [
                {
                    "output_type": "execute_result",
                    "metadata": {},
                    "data": {
                        "text/plain": "array([ True, False,  True,  True])"
                    },
                    "execution_count": null
                }
            ]
        },
        {
            "id": "8619c857",
            "cell_type": "code",
            "metadata": {},
            "execution_count": null,
            "source": "m = [1, 0, 1, 1]\nma.make_mask(m)",
            "outputs": [
                {
                    "output_type": "execute_result",
                    "metadata": {},
                    "data": {
                        "text/plain": "array([ True, False,  True,  True])"
                    },
                    "execution_count": null
                }
            ]
        },
        {
            "id": "d520d635",
            "cell_type": "code",
            "metadata": {},
            "execution_count": null,
            "source": "m = [1, 0, 2, -3]\nma.make_mask(m)",
            "outputs": [
                {
                    "output_type": "execute_result",
                    "metadata": {},
                    "data": {
                        "text/plain": "array([ True, False,  True,  True])"
                    },
                    "execution_count": null
                }
            ]
        },
        {
            "id": "28c8dd83",
            "cell_type": "markdown",
            "source": "Effect of the `shrink` parameter.\n",
            "metadata": {}
        },
        {
            "id": "97a5df33",
            "cell_type": "code",
            "metadata": {},
            "execution_count": null,
            "source": "m = np.zeros(4)\nm",
            "outputs": [
                {
                    "output_type": "execute_result",
                    "metadata": {},
                    "data": {
                        "text/plain": "array([0., 0., 0., 0.])"
                    },
                    "execution_count": null
                }
            ]
        },
        {
            "id": "983b06eb",
            "cell_type": "code",
            "metadata": {},
            "execution_count": null,
            "source": "ma.make_mask(m)",
            "outputs": [
                {
                    "output_type": "execute_result",
                    "metadata": {},
                    "data": {
                        "text/plain": "False"
                    },
                    "execution_count": null
                }
            ]
        },
        {
            "id": "e2917c28",
            "cell_type": "code",
            "metadata": {},
            "execution_count": null,
            "source": "ma.make_mask(m, shrink=False)",
            "outputs": [
                {
                    "output_type": "execute_result",
                    "metadata": {},
                    "data": {
                        "text/plain": "array([False, False, False, False])"
                    },
                    "execution_count": null
                }
            ]
        },
        {
            "id": "1ac975bc",
            "cell_type": "markdown",
            "source": "Using a flexible `dtype`.\n",
            "metadata": {}
        },
        {
            "id": "6cd3f062",
            "cell_type": "code",
            "metadata": {},
            "execution_count": null,
            "source": "m = [1, 0, 1, 1]\nn = [0, 1, 0, 0]\narr = []\nfor man, mouse in zip(m, n):\n    arr.append((man, mouse))\narr",
            "outputs": [
                {
                    "output_type": "execute_result",
                    "metadata": {},
                    "data": {
                        "text/plain": "[(1, 0), (0, 1), (1, 0), (1, 0)]"
                    },
                    "execution_count": null
                }
            ]
        },
        {
            "id": "e1b6ba0d",
            "cell_type": "code",
            "metadata": {},
            "execution_count": null,
            "source": "dtype = np.dtype({'names':['man', 'mouse'],\n                  'formats':[np.int64, np.int64]})\narr = np.array(arr, dtype=dtype)\narr",
            "outputs": [
                {
                    "output_type": "execute_result",
                    "metadata": {},
                    "data": {
                        "text/plain": "array([(1, 0), (0, 1), (1, 0), (1, 0)],\n      dtype=[('man', '<i8'), ('mouse', '<i8')])"
                    },
                    "execution_count": null
                }
            ]
        },
        {
            "id": "572e9c56",
            "cell_type": "code",
            "metadata": {},
            "execution_count": null,
            "source": "ma.make_mask(arr, dtype=dtype)",
            "outputs": [
                {
                    "output_type": "execute_result",
                    "metadata": {},
                    "data": {
                        "text/plain": "array([(True, False), (False, True), (True, False), (True, False)],\n      dtype=[('man', '|b1'), ('mouse', '|b1')])"
                    },
                    "execution_count": null
                }
            ]
        }
    ]
}