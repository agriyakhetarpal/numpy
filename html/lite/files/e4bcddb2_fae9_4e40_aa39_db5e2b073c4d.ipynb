{
    "nbformat": 4,
    "nbformat_minor": 5,
    "metadata": {
        "kernelspec": {
            "display_name": "Python",
            "language": "python",
            "name": "python"
        },
        "language_info": {
            "name": "python"
        }
    },
    "cells": [
        {
            "id": "c392966f",
            "cell_type": "markdown",
            "source": "<div class='alert alert-warning'>\n\nNumPy's interactive examples are experimental and may not always work as expected, with high load times especially on low-resource platforms, , and the version of NumPy might not be in sync with the one you are browsing the documentation for. If you encounter any issues, please report them on the [NumPy issue tracker](https://github.com/numpy/numpy/issues).\n\n</div>",
            "metadata": {}
        },
        {
            "id": "c8f8609f",
            "cell_type": "code",
            "metadata": {},
            "execution_count": null,
            "source": "import numpy as np",
            "outputs": []
        },
        {
            "id": "b6b4b0e2",
            "cell_type": "markdown",
            "source": "(We set the printing precision so the example can be auto-tested)\n",
            "metadata": {}
        },
        {
            "id": "9a3962f0",
            "cell_type": "code",
            "metadata": {},
            "execution_count": null,
            "source": "np.set_printoptions(precision=4)",
            "outputs": []
        },
        {
            "id": "0c3f4c07",
            "cell_type": "code",
            "metadata": {},
            "execution_count": null,
            "source": "np.emath.log10(10**1)",
            "outputs": [
                {
                    "output_type": "execute_result",
                    "metadata": {},
                    "data": {
                        "text/plain": "1.0"
                    },
                    "execution_count": null
                }
            ]
        },
        {
            "id": "a866926c",
            "cell_type": "code",
            "metadata": {},
            "execution_count": null,
            "source": "np.emath.log10([-10**1, -10**2, 10**2])",
            "outputs": [
                {
                    "output_type": "execute_result",
                    "metadata": {},
                    "data": {
                        "text/plain": "array([1.+1.3644j, 2.+1.3644j, 2.+0.j    ])"
                    },
                    "execution_count": null
                }
            ]
        }
    ]
}