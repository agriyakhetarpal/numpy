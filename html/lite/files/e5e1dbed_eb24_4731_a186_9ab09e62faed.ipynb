{
    "nbformat": 4,
    "nbformat_minor": 5,
    "metadata": {
        "kernelspec": {
            "display_name": "Python",
            "language": "python",
            "name": "python"
        },
        "language_info": {
            "name": "python"
        }
    },
    "cells": [
        {
            "id": "c390ecb6",
            "cell_type": "markdown",
            "source": "<div class='alert alert-warning'>\n\nNumPy's interactive examples are experimental and may not always work as expected, with high load times especially on low-resource platforms, , and the version of NumPy might not be in sync with the one you are browsing the documentation for. If you encounter any issues, please report them on the [NumPy issue tracker](https://github.com/numpy/numpy/issues).\n\n</div>",
            "metadata": {}
        },
        {
            "id": "43ec06f3",
            "cell_type": "markdown",
            "source": "Create an array with two fields, ``x`` and ``y``:\n",
            "metadata": {}
        },
        {
            "id": "51b5f277",
            "cell_type": "code",
            "metadata": {},
            "execution_count": null,
            "source": "import numpy as np\nx = np.array([(1.0, 2), (3.0, 4)], dtype=[('x', '<f8'), ('y', '<i8')])\nx",
            "outputs": [
                {
                    "output_type": "execute_result",
                    "metadata": {},
                    "data": {
                        "text/plain": "array([(1., 2), (3., 4)], dtype=[('x', '<f8'), ('y', '<i8')])"
                    },
                    "execution_count": null
                }
            ]
        },
        {
            "id": "b23e9042",
            "cell_type": "code",
            "metadata": {},
            "execution_count": null,
            "source": "x['x']",
            "outputs": [
                {
                    "output_type": "execute_result",
                    "metadata": {},
                    "data": {
                        "text/plain": "array([1., 3.])"
                    },
                    "execution_count": null
                }
            ]
        },
        {
            "id": "97fed4f8",
            "cell_type": "markdown",
            "source": "View the array as a record array:\n",
            "metadata": {}
        },
        {
            "id": "29dfc968",
            "cell_type": "code",
            "metadata": {},
            "execution_count": null,
            "source": "x = x.view(np.recarray)",
            "outputs": []
        },
        {
            "id": "f630c202",
            "cell_type": "code",
            "metadata": {},
            "execution_count": null,
            "source": "x.x",
            "outputs": [
                {
                    "output_type": "execute_result",
                    "metadata": {},
                    "data": {
                        "text/plain": "array([1., 3.])"
                    },
                    "execution_count": null
                }
            ]
        },
        {
            "id": "30e9e3f6",
            "cell_type": "code",
            "metadata": {},
            "execution_count": null,
            "source": "x.y",
            "outputs": [
                {
                    "output_type": "execute_result",
                    "metadata": {},
                    "data": {
                        "text/plain": "array([2, 4])"
                    },
                    "execution_count": null
                }
            ]
        },
        {
            "id": "eb12fae7",
            "cell_type": "markdown",
            "source": "Create a new, empty record array:\n",
            "metadata": {}
        },
        {
            "id": "12cebcbb",
            "cell_type": "code",
            "metadata": {},
            "execution_count": null,
            "source": "np.recarray((2,),\ndtype=[('x', int), ('y', float), ('z', int)]) #doctest: +SKIP",
            "outputs": [
                {
                    "output_type": "execute_result",
                    "metadata": {},
                    "data": {
                        "text/plain": "rec.array([(-1073741821, 1.2249118382103472e-301, 24547520),\n       (3471280, 1.2134086255804012e-316, 0)],\n      dtype=[('x', '<i4'), ('y', '<f8'), ('z', '<i4')])"
                    },
                    "execution_count": null
                }
            ]
        }
    ]
}