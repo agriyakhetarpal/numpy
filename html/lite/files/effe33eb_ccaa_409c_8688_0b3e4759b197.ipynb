{
    "nbformat": 4,
    "nbformat_minor": 5,
    "metadata": {
        "kernelspec": {
            "display_name": "Python",
            "language": "python",
            "name": "python"
        },
        "language_info": {
            "name": "python"
        }
    },
    "cells": [
        {
            "id": "f10156f9",
            "cell_type": "markdown",
            "source": "<div class='alert alert-warning'>\n\nNumPy's interactive examples are experimental and may not always work as expected, with high load times especially on low-resource platforms, , and the version of NumPy might not be in sync with the one you are browsing the documentation for. If you encounter any issues, please report them on the [NumPy issue tracker](https://github.com/numpy/numpy/issues).\n\n</div>",
            "metadata": {}
        },
        {
            "id": "7f015798",
            "cell_type": "code",
            "metadata": {},
            "execution_count": null,
            "source": "import numpy as np\na = np.array([0, 1, 2])\nnp.tile(a, 2)",
            "outputs": [
                {
                    "output_type": "execute_result",
                    "metadata": {},
                    "data": {
                        "text/plain": "array([0, 1, 2, 0, 1, 2])"
                    },
                    "execution_count": null
                }
            ]
        },
        {
            "id": "f6e53799",
            "cell_type": "code",
            "metadata": {},
            "execution_count": null,
            "source": "np.tile(a, (2, 2))",
            "outputs": [
                {
                    "output_type": "execute_result",
                    "metadata": {},
                    "data": {
                        "text/plain": "array([[0, 1, 2, 0, 1, 2],\n       [0, 1, 2, 0, 1, 2]])"
                    },
                    "execution_count": null
                }
            ]
        },
        {
            "id": "4bce1cf8",
            "cell_type": "code",
            "metadata": {},
            "execution_count": null,
            "source": "np.tile(a, (2, 1, 2))",
            "outputs": [
                {
                    "output_type": "execute_result",
                    "metadata": {},
                    "data": {
                        "text/plain": "array([[[0, 1, 2, 0, 1, 2]],\n       [[0, 1, 2, 0, 1, 2]]])"
                    },
                    "execution_count": null
                }
            ]
        },
        {
            "id": "fcb12586",
            "cell_type": "code",
            "metadata": {},
            "execution_count": null,
            "source": "b = np.array([[1, 2], [3, 4]])\nnp.tile(b, 2)",
            "outputs": [
                {
                    "output_type": "execute_result",
                    "metadata": {},
                    "data": {
                        "text/plain": "array([[1, 2, 1, 2],\n       [3, 4, 3, 4]])"
                    },
                    "execution_count": null
                }
            ]
        },
        {
            "id": "6a5451ad",
            "cell_type": "code",
            "metadata": {},
            "execution_count": null,
            "source": "np.tile(b, (2, 1))",
            "outputs": [
                {
                    "output_type": "execute_result",
                    "metadata": {},
                    "data": {
                        "text/plain": "array([[1, 2],\n       [3, 4],\n       [1, 2],\n       [3, 4]])"
                    },
                    "execution_count": null
                }
            ]
        },
        {
            "id": "fc5df859",
            "cell_type": "code",
            "metadata": {},
            "execution_count": null,
            "source": "c = np.array([1,2,3,4])\nnp.tile(c,(4,1))",
            "outputs": [
                {
                    "output_type": "execute_result",
                    "metadata": {},
                    "data": {
                        "text/plain": "array([[1, 2, 3, 4],\n       [1, 2, 3, 4],\n       [1, 2, 3, 4],\n       [1, 2, 3, 4]])"
                    },
                    "execution_count": null
                }
            ]
        }
    ]
}