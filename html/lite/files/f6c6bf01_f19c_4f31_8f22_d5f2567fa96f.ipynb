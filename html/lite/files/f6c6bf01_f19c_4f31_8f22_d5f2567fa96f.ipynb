{
    "nbformat": 4,
    "nbformat_minor": 5,
    "metadata": {
        "kernelspec": {
            "display_name": "Python",
            "language": "python",
            "name": "python"
        },
        "language_info": {
            "name": "python"
        }
    },
    "cells": [
        {
            "id": "61a56d7d",
            "cell_type": "markdown",
            "source": "<div class='alert alert-warning'>\n\nNumPy's interactive examples are experimental and may not always work as expected, with high load times especially on low-resource platforms, , and the version of NumPy might not be in sync with the one you are browsing the documentation for. If you encounter any issues, please report them on the [NumPy issue tracker](https://github.com/numpy/numpy/issues).\n\n</div>",
            "metadata": {}
        },
        {
            "id": "a145c03e",
            "cell_type": "code",
            "metadata": {},
            "execution_count": null,
            "source": "import numpy as np\nx = np.array([[1,2,3],[4,5,6]], order='F')",
            "outputs": []
        },
        {
            "id": "f8413903",
            "cell_type": "code",
            "metadata": {},
            "execution_count": null,
            "source": "y = x.copy()",
            "outputs": []
        },
        {
            "id": "eb048e87",
            "cell_type": "code",
            "metadata": {},
            "execution_count": null,
            "source": "x.fill(0)",
            "outputs": []
        },
        {
            "id": "c167bfc3",
            "cell_type": "code",
            "metadata": {},
            "execution_count": null,
            "source": "x",
            "outputs": [
                {
                    "output_type": "execute_result",
                    "metadata": {},
                    "data": {
                        "text/plain": "array([[0, 0, 0],\n       [0, 0, 0]])"
                    },
                    "execution_count": null
                }
            ]
        },
        {
            "id": "d542996b",
            "cell_type": "code",
            "metadata": {},
            "execution_count": null,
            "source": "y",
            "outputs": [
                {
                    "output_type": "execute_result",
                    "metadata": {},
                    "data": {
                        "text/plain": "array([[1, 2, 3],\n       [4, 5, 6]])"
                    },
                    "execution_count": null
                }
            ]
        },
        {
            "id": "7c3971d2",
            "cell_type": "code",
            "metadata": {},
            "execution_count": null,
            "source": "y.flags['C_CONTIGUOUS']",
            "outputs": [
                {
                    "output_type": "execute_result",
                    "metadata": {},
                    "data": {
                        "text/plain": "True"
                    },
                    "execution_count": null
                }
            ]
        },
        {
            "id": "c2bd4dcc",
            "cell_type": "markdown",
            "source": "For arrays containing Python objects (e.g. dtype=object),\nthe copy is a shallow one. The new array will contain the\nsame object which may lead to surprises if that object can\nbe modified (is mutable):\n",
            "metadata": {}
        },
        {
            "id": "e3e2c091",
            "cell_type": "code",
            "metadata": {},
            "execution_count": null,
            "source": "a = np.array([1, 'm', [2, 3, 4]], dtype=object)\nb = a.copy()\nb[2][0] = 10\na",
            "outputs": [
                {
                    "output_type": "execute_result",
                    "metadata": {},
                    "data": {
                        "text/plain": "array([1, 'm', list([10, 3, 4])], dtype=object)"
                    },
                    "execution_count": null
                }
            ]
        },
        {
            "id": "7ef7f783",
            "cell_type": "markdown",
            "source": "To ensure all elements within an ``object`` array are copied,\nuse `copy.deepcopy`:\n",
            "metadata": {}
        },
        {
            "id": "c4af0c0e",
            "cell_type": "code",
            "metadata": {},
            "execution_count": null,
            "source": "import copy\na = np.array([1, 'm', [2, 3, 4]], dtype=object)\nc = copy.deepcopy(a)\nc[2][0] = 10\nc",
            "outputs": [
                {
                    "output_type": "execute_result",
                    "metadata": {},
                    "data": {
                        "text/plain": "array([1, 'm', list([10, 3, 4])], dtype=object)"
                    },
                    "execution_count": null
                }
            ]
        },
        {
            "id": "8192fc38",
            "cell_type": "code",
            "metadata": {},
            "execution_count": null,
            "source": "a",
            "outputs": [
                {
                    "output_type": "execute_result",
                    "metadata": {},
                    "data": {
                        "text/plain": "array([1, 'm', list([2, 3, 4])], dtype=object)"
                    },
                    "execution_count": null
                }
            ]
        }
    ]
}