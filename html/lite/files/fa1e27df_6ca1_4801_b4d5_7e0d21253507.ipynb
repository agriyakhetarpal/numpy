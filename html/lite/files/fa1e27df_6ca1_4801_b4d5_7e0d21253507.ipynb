{
    "nbformat": 4,
    "nbformat_minor": 5,
    "metadata": {
        "kernelspec": {
            "display_name": "Python",
            "language": "python",
            "name": "python"
        },
        "language_info": {
            "name": "python"
        }
    },
    "cells": [
        {
            "id": "1d6c1145",
            "cell_type": "markdown",
            "source": "<div class='alert alert-warning'>\n\nNumPy's interactive examples are experimental and may not always work as expected, with high load times especially on low-resource platforms, , and the version of NumPy might not be in sync with the one you are browsing the documentation for. If you encounter any issues, please report them on the [NumPy issue tracker](https://github.com/numpy/numpy/issues).\n\n</div>",
            "metadata": {}
        },
        {
            "id": "e8b966d3",
            "cell_type": "code",
            "metadata": {},
            "execution_count": null,
            "source": "import numpy as np\nx = np.array([[1,2,3]])\nnp.swapaxes(x,0,1)",
            "outputs": [
                {
                    "output_type": "execute_result",
                    "metadata": {},
                    "data": {
                        "text/plain": "array([[1],\n       [2],\n       [3]])"
                    },
                    "execution_count": null
                }
            ]
        },
        {
            "id": "12fc5bb3",
            "cell_type": "code",
            "metadata": {},
            "execution_count": null,
            "source": "x = np.array([[[0,1],[2,3]],[[4,5],[6,7]]])\nx",
            "outputs": [
                {
                    "output_type": "execute_result",
                    "metadata": {},
                    "data": {
                        "text/plain": "array([[[0, 1],\n        [2, 3]],\n       [[4, 5],\n        [6, 7]]])"
                    },
                    "execution_count": null
                }
            ]
        },
        {
            "id": "fe21c68b",
            "cell_type": "code",
            "metadata": {},
            "execution_count": null,
            "source": "np.swapaxes(x,0,2)",
            "outputs": [
                {
                    "output_type": "execute_result",
                    "metadata": {},
                    "data": {
                        "text/plain": "array([[[0, 4],\n        [2, 6]],\n       [[1, 5],\n        [3, 7]]])"
                    },
                    "execution_count": null
                }
            ]
        }
    ]
}