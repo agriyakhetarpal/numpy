{
    "nbformat": 4,
    "nbformat_minor": 5,
    "metadata": {
        "kernelspec": {
            "display_name": "Python",
            "language": "python",
            "name": "python"
        },
        "language_info": {
            "name": "python"
        }
    },
    "cells": [
        {
            "id": "9a5c5f59",
            "cell_type": "markdown",
            "source": "<div class='alert alert-warning'>\n\nNumPy's interactive examples are experimental and may not always work as expected, with high load times especially on low-resource platforms, , and the version of NumPy might not be in sync with the one you are browsing the documentation for. If you encounter any issues, please report them on the [NumPy issue tracker](https://github.com/numpy/numpy/issues).\n\n</div>",
            "metadata": {}
        },
        {
            "id": "1f075870",
            "cell_type": "markdown",
            "source": "1-D array examples:\n",
            "metadata": {}
        },
        {
            "id": "be7a1baa",
            "cell_type": "code",
            "metadata": {},
            "execution_count": null,
            "source": "import numpy as np\nnp.add.accumulate([2, 3, 5])",
            "outputs": [
                {
                    "output_type": "execute_result",
                    "metadata": {},
                    "data": {
                        "text/plain": "array([ 2,  5, 10])"
                    },
                    "execution_count": null
                }
            ]
        },
        {
            "id": "bce14be4",
            "cell_type": "code",
            "metadata": {},
            "execution_count": null,
            "source": "np.multiply.accumulate([2, 3, 5])",
            "outputs": [
                {
                    "output_type": "execute_result",
                    "metadata": {},
                    "data": {
                        "text/plain": "array([ 2,  6, 30])"
                    },
                    "execution_count": null
                }
            ]
        },
        {
            "id": "f63dcc18",
            "cell_type": "markdown",
            "source": "2-D array examples:\n",
            "metadata": {}
        },
        {
            "id": "4b6b8f70",
            "cell_type": "code",
            "metadata": {},
            "execution_count": null,
            "source": "I = np.eye(2)\nI",
            "outputs": [
                {
                    "output_type": "execute_result",
                    "metadata": {},
                    "data": {
                        "text/plain": "array([[1.,  0.],\n       [0.,  1.]])"
                    },
                    "execution_count": null
                }
            ]
        },
        {
            "id": "8779c488",
            "cell_type": "markdown",
            "source": "Accumulate along axis 0 (rows), down columns:\n",
            "metadata": {}
        },
        {
            "id": "a3d77e14",
            "cell_type": "code",
            "metadata": {},
            "execution_count": null,
            "source": "np.add.accumulate(I, 0)",
            "outputs": [
                {
                    "output_type": "execute_result",
                    "metadata": {},
                    "data": {
                        "text/plain": "array([[1.,  0.],\n       [1.,  1.]])"
                    },
                    "execution_count": null
                }
            ]
        },
        {
            "id": "93ecdb2a",
            "cell_type": "code",
            "metadata": {},
            "execution_count": null,
            "source": "np.add.accumulate(I) # no axis specified = axis zero",
            "outputs": [
                {
                    "output_type": "execute_result",
                    "metadata": {},
                    "data": {
                        "text/plain": "array([[1.,  0.],\n       [1.,  1.]])"
                    },
                    "execution_count": null
                }
            ]
        },
        {
            "id": "68ce8172",
            "cell_type": "markdown",
            "source": "Accumulate along axis 1 (columns), through rows:\n",
            "metadata": {}
        },
        {
            "id": "6efe1da1",
            "cell_type": "code",
            "metadata": {},
            "execution_count": null,
            "source": "np.add.accumulate(I, 1)",
            "outputs": [
                {
                    "output_type": "execute_result",
                    "metadata": {},
                    "data": {
                        "text/plain": "array([[1.,  1.],\n       [0.,  1.]])"
                    },
                    "execution_count": null
                }
            ]
        }
    ]
}