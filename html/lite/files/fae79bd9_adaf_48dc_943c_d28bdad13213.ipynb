{
    "nbformat": 4,
    "nbformat_minor": 5,
    "metadata": {
        "kernelspec": {
            "display_name": "Python",
            "language": "python",
            "name": "python"
        },
        "language_info": {
            "name": "python"
        }
    },
    "cells": [
        {
            "id": "20263952",
            "cell_type": "markdown",
            "source": "<div class='alert alert-warning'>\n\nNumPy's interactive examples are experimental and may not always work as expected, with high load times especially on low-resource platforms, , and the version of NumPy might not be in sync with the one you are browsing the documentation for. If you encounter any issues, please report them on the [NumPy issue tracker](https://github.com/numpy/numpy/issues).\n\n</div>",
            "metadata": {}
        },
        {
            "id": "818f6d01",
            "cell_type": "code",
            "metadata": {},
            "execution_count": null,
            "source": "import numpy as np\nnp.multiply.reduce([2,3,5])",
            "outputs": [
                {
                    "output_type": "execute_result",
                    "metadata": {},
                    "data": {
                        "text/plain": "30"
                    },
                    "execution_count": null
                }
            ]
        },
        {
            "id": "296385dd",
            "cell_type": "markdown",
            "source": "A multi-dimensional array example:\n",
            "metadata": {}
        },
        {
            "id": "9b2c64f3",
            "cell_type": "code",
            "metadata": {},
            "execution_count": null,
            "source": "X = np.arange(8).reshape((2,2,2))\nX",
            "outputs": [
                {
                    "output_type": "execute_result",
                    "metadata": {},
                    "data": {
                        "text/plain": "array([[[0, 1],\n        [2, 3]],\n       [[4, 5],\n        [6, 7]]])"
                    },
                    "execution_count": null
                }
            ]
        },
        {
            "id": "ea21a70c",
            "cell_type": "code",
            "metadata": {},
            "execution_count": null,
            "source": "np.add.reduce(X, 0)",
            "outputs": [
                {
                    "output_type": "execute_result",
                    "metadata": {},
                    "data": {
                        "text/plain": "array([[ 4,  6],\n       [ 8, 10]])"
                    },
                    "execution_count": null
                }
            ]
        },
        {
            "id": "24eb9727",
            "cell_type": "code",
            "metadata": {},
            "execution_count": null,
            "source": "np.add.reduce(X) # confirm: default axis value is 0",
            "outputs": [
                {
                    "output_type": "execute_result",
                    "metadata": {},
                    "data": {
                        "text/plain": "array([[ 4,  6],\n       [ 8, 10]])"
                    },
                    "execution_count": null
                }
            ]
        },
        {
            "id": "bc0a7421",
            "cell_type": "code",
            "metadata": {},
            "execution_count": null,
            "source": "np.add.reduce(X, 1)",
            "outputs": [
                {
                    "output_type": "execute_result",
                    "metadata": {},
                    "data": {
                        "text/plain": "array([[ 2,  4],\n       [10, 12]])"
                    },
                    "execution_count": null
                }
            ]
        },
        {
            "id": "9f8d40c1",
            "cell_type": "code",
            "metadata": {},
            "execution_count": null,
            "source": "np.add.reduce(X, 2)",
            "outputs": [
                {
                    "output_type": "execute_result",
                    "metadata": {},
                    "data": {
                        "text/plain": "array([[ 1,  5],\n       [ 9, 13]])"
                    },
                    "execution_count": null
                }
            ]
        },
        {
            "id": "4474d9fd",
            "cell_type": "markdown",
            "source": "You can use the ``initial`` keyword argument to initialize the reduction\nwith a different value, and ``where`` to select specific elements to include:\n",
            "metadata": {}
        },
        {
            "id": "3ed86625",
            "cell_type": "code",
            "metadata": {},
            "execution_count": null,
            "source": "np.add.reduce([10], initial=5)",
            "outputs": [
                {
                    "output_type": "execute_result",
                    "metadata": {},
                    "data": {
                        "text/plain": "15"
                    },
                    "execution_count": null
                }
            ]
        },
        {
            "id": "7e9508dc",
            "cell_type": "code",
            "metadata": {},
            "execution_count": null,
            "source": "np.add.reduce(np.ones((2, 2, 2)), axis=(0, 2), initial=10)",
            "outputs": [
                {
                    "output_type": "execute_result",
                    "metadata": {},
                    "data": {
                        "text/plain": "array([14., 14.])"
                    },
                    "execution_count": null
                }
            ]
        },
        {
            "id": "af8a9260",
            "cell_type": "code",
            "metadata": {},
            "execution_count": null,
            "source": "a = np.array([10., np.nan, 10])\nnp.add.reduce(a, where=~np.isnan(a))",
            "outputs": [
                {
                    "output_type": "execute_result",
                    "metadata": {},
                    "data": {
                        "text/plain": "20.0"
                    },
                    "execution_count": null
                }
            ]
        },
        {
            "id": "e74879ab",
            "cell_type": "markdown",
            "source": "Allows reductions of empty arrays where they would normally fail, i.e.\nfor ufuncs without an identity.\n",
            "metadata": {}
        },
        {
            "id": "bf968549",
            "cell_type": "code",
            "metadata": {},
            "execution_count": null,
            "source": "np.minimum.reduce([], initial=np.inf)",
            "outputs": [
                {
                    "output_type": "execute_result",
                    "metadata": {},
                    "data": {
                        "text/plain": "inf"
                    },
                    "execution_count": null
                }
            ]
        },
        {
            "id": "c318238a",
            "cell_type": "code",
            "metadata": {},
            "execution_count": null,
            "source": "np.minimum.reduce([[1., 2.], [3., 4.]], initial=10., where=[True, False])",
            "outputs": [
                {
                    "output_type": "execute_result",
                    "metadata": {},
                    "data": {
                        "text/plain": "array([ 1., 10.])"
                    },
                    "execution_count": null
                }
            ]
        },
        {
            "id": "55dcb91e",
            "cell_type": "code",
            "metadata": {},
            "execution_count": null,
            "source": "np.minimum.reduce([])",
            "outputs": [
                {
                    "output_type": "execute_result",
                    "metadata": {},
                    "data": {
                        "text/plain": "Traceback (most recent call last):\n    ...\nValueError: zero-size array to reduction operation minimum which has no identity"
                    },
                    "execution_count": null
                }
            ]
        }
    ]
}