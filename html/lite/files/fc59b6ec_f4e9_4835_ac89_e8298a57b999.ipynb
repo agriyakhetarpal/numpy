{
    "nbformat": 4,
    "nbformat_minor": 5,
    "metadata": {
        "kernelspec": {
            "display_name": "Python",
            "language": "python",
            "name": "python"
        },
        "language_info": {
            "name": "python"
        }
    },
    "cells": [
        {
            "id": "797f6fe5",
            "cell_type": "markdown",
            "source": "<div class='alert alert-warning'>\n\nNumPy's interactive examples are experimental and may not always work as expected, with high load times especially on low-resource platforms, , and the version of NumPy might not be in sync with the one you are browsing the documentation for. If you encounter any issues, please report them on the [NumPy issue tracker](https://github.com/numpy/numpy/issues).\n\n</div>",
            "metadata": {}
        },
        {
            "id": "e161ae39",
            "cell_type": "markdown",
            "source": "Draw samples from the distribution:\n",
            "metadata": {}
        },
        {
            "id": "718d4972",
            "cell_type": "code",
            "metadata": {},
            "execution_count": null,
            "source": "rng = np.random.default_rng()\nmu, sigma = 3., 1. # mean and standard deviation\ns = rng.lognormal(mu, sigma, 1000)",
            "outputs": []
        },
        {
            "id": "ba72f57b",
            "cell_type": "markdown",
            "source": "Display the histogram of the samples, along with\nthe probability density function:\n",
            "metadata": {}
        },
        {
            "id": "ab042cf1",
            "cell_type": "code",
            "metadata": {},
            "execution_count": null,
            "source": "import matplotlib.pyplot as plt\ncount, bins, _ = plt.hist(s, 100, density=True, align='mid')",
            "outputs": []
        },
        {
            "id": "cfd131fe",
            "cell_type": "code",
            "metadata": {},
            "execution_count": null,
            "source": "x = np.linspace(min(bins), max(bins), 10000)\npdf = (np.exp(-(np.log(x) - mu)**2 / (2 * sigma**2))\n       / (x * sigma * np.sqrt(2 * np.pi)))",
            "outputs": []
        },
        {
            "id": "451149cf",
            "cell_type": "code",
            "metadata": {},
            "execution_count": null,
            "source": "plt.plot(x, pdf, linewidth=2, color='r')\nplt.axis('tight')\nplt.show()",
            "outputs": []
        },
        {
            "id": "eec3df71",
            "cell_type": "markdown",
            "source": "Demonstrate that taking the products of random samples from a uniform\ndistribution can be fit well by a log-normal probability density\nfunction.\n",
            "metadata": {}
        },
        {
            "id": "60f76c52",
            "cell_type": "code",
            "metadata": {},
            "execution_count": null,
            "source": "# Generate a thousand samples: each is the product of 100 random\n# values, drawn from a normal distribution.\nrng = rng\nb = []\nfor i in range(1000):\n   a = 10. + rng.standard_normal(100)\n   b.append(np.prod(a))",
            "outputs": []
        },
        {
            "id": "32b21a29",
            "cell_type": "code",
            "metadata": {},
            "execution_count": null,
            "source": "b = np.array(b) / np.min(b) # scale values to be positive\ncount, bins, _ = plt.hist(b, 100, density=True, align='mid')\nsigma = np.std(np.log(b))\nmu = np.mean(np.log(b))",
            "outputs": []
        },
        {
            "id": "81af75b7",
            "cell_type": "code",
            "metadata": {},
            "execution_count": null,
            "source": "x = np.linspace(min(bins), max(bins), 10000)\npdf = (np.exp(-(np.log(x) - mu)**2 / (2 * sigma**2))\n       / (x * sigma * np.sqrt(2 * np.pi)))",
            "outputs": []
        },
        {
            "id": "91ef210e",
            "cell_type": "code",
            "metadata": {},
            "execution_count": null,
            "source": "plt.plot(x, pdf, color='r', linewidth=2)\nplt.show()",
            "outputs": []
        }
    ]
}