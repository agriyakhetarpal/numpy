{
    "nbformat": 4,
    "nbformat_minor": 5,
    "metadata": {
        "kernelspec": {
            "display_name": "Python",
            "language": "python",
            "name": "python"
        },
        "language_info": {
            "name": "python"
        }
    },
    "cells": [
        {
            "id": "a99c9efc",
            "cell_type": "markdown",
            "source": "<div class='alert alert-warning'>\n\nNumPy's interactive examples are experimental and may not always work as expected, with high load times especially on low-resource platforms, , and the version of NumPy might not be in sync with the one you are browsing the documentation for. If you encounter any issues, please report them on the [NumPy issue tracker](https://github.com/numpy/numpy/issues).\n\n</div>",
            "metadata": {}
        },
        {
            "id": "601d36a0",
            "cell_type": "code",
            "metadata": {},
            "execution_count": null,
            "source": "import numpy as np",
            "outputs": []
        },
        {
            "id": "0919d47f",
            "cell_type": "code",
            "metadata": {},
            "execution_count": null,
            "source": "dt = np.dtype('>i4')\ndt.byteorder",
            "outputs": [
                {
                    "output_type": "execute_result",
                    "metadata": {},
                    "data": {
                        "text/plain": "'>'"
                    },
                    "execution_count": null
                }
            ]
        },
        {
            "id": "c88cd080",
            "cell_type": "code",
            "metadata": {},
            "execution_count": null,
            "source": "dt.itemsize",
            "outputs": [
                {
                    "output_type": "execute_result",
                    "metadata": {},
                    "data": {
                        "text/plain": "4"
                    },
                    "execution_count": null
                }
            ]
        },
        {
            "id": "f670cffd",
            "cell_type": "code",
            "metadata": {},
            "execution_count": null,
            "source": "dt.name",
            "outputs": [
                {
                    "output_type": "execute_result",
                    "metadata": {},
                    "data": {
                        "text/plain": "'int32'"
                    },
                    "execution_count": null
                }
            ]
        },
        {
            "id": "30439100",
            "cell_type": "code",
            "metadata": {},
            "execution_count": null,
            "source": "dt.type is np.int32",
            "outputs": [
                {
                    "output_type": "execute_result",
                    "metadata": {},
                    "data": {
                        "text/plain": "True"
                    },
                    "execution_count": null
                }
            ]
        }
    ]
}