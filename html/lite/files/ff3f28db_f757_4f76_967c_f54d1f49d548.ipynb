{
    "nbformat": 4,
    "nbformat_minor": 5,
    "metadata": {
        "kernelspec": {
            "display_name": "Python",
            "language": "python",
            "name": "python"
        },
        "language_info": {
            "name": "python"
        }
    },
    "cells": [
        {
            "id": "30319abc",
            "cell_type": "markdown",
            "source": "<div class='alert alert-warning'>\n\nNumPy's interactive examples are experimental and may not always work as expected, with high load times especially on low-resource platforms, , and the version of NumPy might not be in sync with the one you are browsing the documentation for. If you encounter any issues, please report them on the [NumPy issue tracker](https://github.com/numpy/numpy/issues).\n\n</div>",
            "metadata": {}
        },
        {
            "id": "533550f3",
            "cell_type": "code",
            "metadata": {},
            "execution_count": null,
            "source": "x = np.matrix(np.arange(12).reshape((3, 4)))\nx",
            "outputs": [
                {
                    "output_type": "execute_result",
                    "metadata": {},
                    "data": {
                        "text/plain": "matrix([[ 0,  1,  2,  3],\n        [ 4,  5,  6,  7],\n        [ 8,  9, 10, 11]])"
                    },
                    "execution_count": null
                }
            ]
        },
        {
            "id": "c52a1d74",
            "cell_type": "code",
            "metadata": {},
            "execution_count": null,
            "source": "x.mean()",
            "outputs": [
                {
                    "output_type": "execute_result",
                    "metadata": {},
                    "data": {
                        "text/plain": "5.5"
                    },
                    "execution_count": null
                }
            ]
        },
        {
            "id": "14a9693b",
            "cell_type": "code",
            "metadata": {},
            "execution_count": null,
            "source": "x.mean(0)",
            "outputs": [
                {
                    "output_type": "execute_result",
                    "metadata": {},
                    "data": {
                        "text/plain": "matrix([[4., 5., 6., 7.]])"
                    },
                    "execution_count": null
                }
            ]
        },
        {
            "id": "6ed75c53",
            "cell_type": "code",
            "metadata": {},
            "execution_count": null,
            "source": "x.mean(1)",
            "outputs": [
                {
                    "output_type": "execute_result",
                    "metadata": {},
                    "data": {
                        "text/plain": "matrix([[ 1.5],\n        [ 5.5],\n        [ 9.5]])"
                    },
                    "execution_count": null
                }
            ]
        }
    ]
}