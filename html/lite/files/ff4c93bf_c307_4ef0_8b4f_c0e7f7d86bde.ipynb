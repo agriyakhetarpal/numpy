{
    "nbformat": 4,
    "nbformat_minor": 5,
    "metadata": {
        "kernelspec": {
            "display_name": "Python",
            "language": "python",
            "name": "python"
        },
        "language_info": {
            "name": "python"
        }
    },
    "cells": [
        {
            "id": "62f5d85a",
            "cell_type": "markdown",
            "source": "<div class='alert alert-warning'>\n\nNumPy's interactive examples are experimental and may not always work as expected, with high load times especially on low-resource platforms, , and the version of NumPy might not be in sync with the one you are browsing the documentation for. If you encounter any issues, please report them on the [NumPy issue tracker](https://github.com/numpy/numpy/issues).\n\n</div>",
            "metadata": {}
        },
        {
            "id": "ef0f96a8",
            "cell_type": "markdown",
            "source": "Floating point precision can be set:\n",
            "metadata": {}
        },
        {
            "id": "47300055",
            "cell_type": "code",
            "metadata": {},
            "execution_count": null,
            "source": "import numpy as np\nnp.set_printoptions(precision=4)\nnp.array([1.123456789])",
            "outputs": [
                {
                    "output_type": "execute_result",
                    "metadata": {},
                    "data": {
                        "text/plain": "[1.1235]"
                    },
                    "execution_count": null
                }
            ]
        },
        {
            "id": "3701ca5d",
            "cell_type": "markdown",
            "source": "Long arrays can be summarised:\n",
            "metadata": {}
        },
        {
            "id": "5e0b2e30",
            "cell_type": "code",
            "metadata": {},
            "execution_count": null,
            "source": "np.set_printoptions(threshold=5)\nnp.arange(10)",
            "outputs": [
                {
                    "output_type": "execute_result",
                    "metadata": {},
                    "data": {
                        "text/plain": "array([0, 1, 2, ..., 7, 8, 9])"
                    },
                    "execution_count": null
                }
            ]
        },
        {
            "id": "7ef75b7b",
            "cell_type": "markdown",
            "source": "Small results can be suppressed:\n",
            "metadata": {}
        },
        {
            "id": "072cee18",
            "cell_type": "code",
            "metadata": {},
            "execution_count": null,
            "source": "eps = np.finfo(float).eps\nx = np.arange(4.)\nx**2 - (x + eps)**2",
            "outputs": [
                {
                    "output_type": "execute_result",
                    "metadata": {},
                    "data": {
                        "text/plain": "array([-4.9304e-32, -4.4409e-16,  0.0000e+00,  0.0000e+00])"
                    },
                    "execution_count": null
                }
            ]
        },
        {
            "id": "2d7d48f3",
            "cell_type": "code",
            "metadata": {},
            "execution_count": null,
            "source": "np.set_printoptions(suppress=True)\nx**2 - (x + eps)**2",
            "outputs": [
                {
                    "output_type": "execute_result",
                    "metadata": {},
                    "data": {
                        "text/plain": "array([-0., -0.,  0.,  0.])"
                    },
                    "execution_count": null
                }
            ]
        },
        {
            "id": "f68c896d",
            "cell_type": "markdown",
            "source": "A custom formatter can be used to display array elements as desired:\n",
            "metadata": {}
        },
        {
            "id": "18dadd80",
            "cell_type": "code",
            "metadata": {},
            "execution_count": null,
            "source": "np.set_printoptions(formatter={'all':lambda x: 'int: '+str(-x)})\nx = np.arange(3)\nx",
            "outputs": [
                {
                    "output_type": "execute_result",
                    "metadata": {},
                    "data": {
                        "text/plain": "array([int: 0, int: -1, int: -2])"
                    },
                    "execution_count": null
                }
            ]
        },
        {
            "id": "e58e8722",
            "cell_type": "code",
            "metadata": {},
            "execution_count": null,
            "source": "np.set_printoptions()  # formatter gets reset\nx",
            "outputs": [
                {
                    "output_type": "execute_result",
                    "metadata": {},
                    "data": {
                        "text/plain": "array([0, 1, 2])"
                    },
                    "execution_count": null
                }
            ]
        },
        {
            "id": "55c2c124",
            "cell_type": "markdown",
            "source": "To put back the default options, you can use:\n",
            "metadata": {}
        },
        {
            "id": "3e79fb5a",
            "cell_type": "code",
            "metadata": {},
            "execution_count": null,
            "source": "np.set_printoptions(edgeitems=3, infstr='inf',\nlinewidth=75, nanstr='nan', precision=8,\nsuppress=False, threshold=1000, formatter=None)",
            "outputs": []
        },
        {
            "id": "fce87e27",
            "cell_type": "markdown",
            "source": "Also to temporarily override options, use `printoptions`\nas a context manager:\n",
            "metadata": {}
        },
        {
            "id": "b25a6a4d",
            "cell_type": "code",
            "metadata": {},
            "execution_count": null,
            "source": "with np.printoptions(precision=2, suppress=True, threshold=5):\n    np.linspace(0, 10, 10)",
            "outputs": [
                {
                    "output_type": "execute_result",
                    "metadata": {},
                    "data": {
                        "text/plain": "array([ 0.  ,  1.11,  2.22, ...,  7.78,  8.89, 10.  ])"
                    },
                    "execution_count": null
                }
            ]
        }
    ]
}