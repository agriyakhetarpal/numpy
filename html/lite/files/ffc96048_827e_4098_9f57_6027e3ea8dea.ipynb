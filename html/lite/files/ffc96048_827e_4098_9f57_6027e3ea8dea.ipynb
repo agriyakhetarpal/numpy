{
    "nbformat": 4,
    "nbformat_minor": 5,
    "metadata": {
        "kernelspec": {
            "display_name": "Python",
            "language": "python",
            "name": "python"
        },
        "language_info": {
            "name": "python"
        }
    },
    "cells": [
        {
            "id": "7d89433d",
            "cell_type": "markdown",
            "source": "<div class='alert alert-warning'>\n\nNumPy's interactive examples are experimental and may not always work as expected, with high load times especially on low-resource platforms, , and the version of NumPy might not be in sync with the one you are browsing the documentation for. If you encounter any issues, please report them on the [NumPy issue tracker](https://github.com/numpy/numpy/issues).\n\n</div>",
            "metadata": {}
        },
        {
            "id": "c1a116a2",
            "cell_type": "code",
            "metadata": {},
            "execution_count": null,
            "source": "import numpy as np\nnp.ma.masked_all((3, 3))",
            "outputs": [
                {
                    "output_type": "execute_result",
                    "metadata": {},
                    "data": {
                        "text/plain": "masked_array(\n  data=[[--, --, --],\n        [--, --, --],\n        [--, --, --]],\n  mask=[[ True,  True,  True],\n        [ True,  True,  True],\n        [ True,  True,  True]],\n  fill_value=1e+20,\n  dtype=float64)"
                    },
                    "execution_count": null
                }
            ]
        },
        {
            "id": "c8bd3f2b",
            "cell_type": "markdown",
            "source": "The `dtype` parameter defines the underlying data type.\n",
            "metadata": {}
        },
        {
            "id": "96430f54",
            "cell_type": "code",
            "metadata": {},
            "execution_count": null,
            "source": "a = np.ma.masked_all((3, 3))\na.dtype",
            "outputs": [
                {
                    "output_type": "execute_result",
                    "metadata": {},
                    "data": {
                        "text/plain": "dtype('float64')"
                    },
                    "execution_count": null
                }
            ]
        },
        {
            "id": "650e4a5e",
            "cell_type": "code",
            "metadata": {},
            "execution_count": null,
            "source": "a = np.ma.masked_all((3, 3), dtype=np.int32)\na.dtype",
            "outputs": [
                {
                    "output_type": "execute_result",
                    "metadata": {},
                    "data": {
                        "text/plain": "dtype('int32')"
                    },
                    "execution_count": null
                }
            ]
        }
    ]
}