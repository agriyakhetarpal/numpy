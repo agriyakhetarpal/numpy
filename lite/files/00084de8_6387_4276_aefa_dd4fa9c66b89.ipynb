{
    "nbformat": 4,
    "nbformat_minor": 5,
    "metadata": {
        "kernelspec": {
            "display_name": "Python",
            "language": "python",
            "name": "python"
        },
        "language_info": {
            "name": "python"
        }
    },
    "cells": [
        {
            "id": "65c70804",
            "cell_type": "markdown",
            "source": "<div class='alert alert-warning'>\n\nNumPy's interactive examples are experimental and may not always work as expected, with high load times especially on low-resource platforms, and the version of NumPy might not be in sync with the one you are browsing the documentation for. If you encounter any issues, please report them on the [NumPy issue tracker](https://github.com/numpy/numpy/issues).\n\n</div>",
            "metadata": {}
        },
        {
            "id": "dc9ec2f2",
            "cell_type": "markdown",
            "source": "Basic correlation:\n",
            "metadata": {}
        },
        {
            "id": "f87f1c35",
            "cell_type": "code",
            "metadata": {},
            "execution_count": null,
            "source": "a = np.ma.array([1, 2, 3])\nv = np.ma.array([0, 1, 0])\nnp.ma.correlate(a, v, mode='valid')",
            "outputs": [
                {
                    "output_type": "execute_result",
                    "metadata": {},
                    "data": {
                        "text/plain": "masked_array(data=[2],\n             mask=[False],\n       fill_value=999999)"
                    },
                    "execution_count": null
                }
            ]
        },
        {
            "id": "98856b89",
            "cell_type": "markdown",
            "source": "Correlation with masked elements:\n",
            "metadata": {}
        },
        {
            "id": "b74ac017",
            "cell_type": "code",
            "metadata": {},
            "execution_count": null,
            "source": "a = np.ma.array([1, 2, 3], mask=[False, True, False])\nv = np.ma.array([0, 1, 0])\nnp.ma.correlate(a, v, mode='valid', propagate_mask=True)",
            "outputs": [
                {
                    "output_type": "execute_result",
                    "metadata": {},
                    "data": {
                        "text/plain": "masked_array(data=[--],\n             mask=[ True],\n       fill_value=999999,\n            dtype=int64)"
                    },
                    "execution_count": null
                }
            ]
        },
        {
            "id": "ecab4293",
            "cell_type": "markdown",
            "source": "Correlation with different modes and mixed array types:\n",
            "metadata": {}
        },
        {
            "id": "3e6351e7",
            "cell_type": "code",
            "metadata": {},
            "execution_count": null,
            "source": "a = np.ma.array([1, 2, 3])\nv = np.ma.array([0, 1, 0])\nnp.ma.correlate(a, v, mode='full')",
            "outputs": [
                {
                    "output_type": "execute_result",
                    "metadata": {},
                    "data": {
                        "text/plain": "masked_array(data=[0, 1, 2, 3, 0],\n             mask=[False, False, False, False, False],\n       fill_value=999999)"
                    },
                    "execution_count": null
                }
            ]
        }
    ]
}