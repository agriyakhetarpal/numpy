{
    "nbformat": 4,
    "nbformat_minor": 5,
    "metadata": {
        "kernelspec": {
            "display_name": "Python",
            "language": "python",
            "name": "python"
        },
        "language_info": {
            "name": "python"
        }
    },
    "cells": [
        {
            "id": "890fb12b",
            "cell_type": "markdown",
            "source": "<div class='alert alert-warning'>\n\nNumPy's interactive examples are experimental and may not always work as expected, with high load times especially on low-resource platforms, and the version of NumPy might not be in sync with the one you are browsing the documentation for. If you encounter any issues, please report them on the [NumPy issue tracker](https://github.com/numpy/numpy/issues).\n\n</div>",
            "metadata": {}
        },
        {
            "id": "1b3aa1e1",
            "cell_type": "markdown",
            "source": "The derivative of the polynomial $x^3 + x^2 + x^1 + 1$ is:\n",
            "metadata": {}
        },
        {
            "id": "8093ac25",
            "cell_type": "code",
            "metadata": {},
            "execution_count": null,
            "source": "import numpy as np",
            "outputs": []
        },
        {
            "id": "8f52a2b1",
            "cell_type": "code",
            "metadata": {},
            "execution_count": null,
            "source": "p = np.poly1d([1,1,1,1])\np2 = np.polyder(p)\np2",
            "outputs": [
                {
                    "output_type": "execute_result",
                    "metadata": {},
                    "data": {
                        "text/plain": "poly1d([3, 2, 1])"
                    },
                    "execution_count": null
                }
            ]
        },
        {
            "id": "b4ae05fa",
            "cell_type": "markdown",
            "source": "which evaluates to:\n",
            "metadata": {}
        },
        {
            "id": "8daedb43",
            "cell_type": "code",
            "metadata": {},
            "execution_count": null,
            "source": "p2(2.)",
            "outputs": [
                {
                    "output_type": "execute_result",
                    "metadata": {},
                    "data": {
                        "text/plain": "17.0"
                    },
                    "execution_count": null
                }
            ]
        },
        {
            "id": "6e855566",
            "cell_type": "markdown",
            "source": "We can verify this, approximating the derivative with\n``(f(x + h) - f(x))/h``:\n",
            "metadata": {}
        },
        {
            "id": "a31e539e",
            "cell_type": "code",
            "metadata": {},
            "execution_count": null,
            "source": "(p(2. + 0.001) - p(2.)) / 0.001",
            "outputs": [
                {
                    "output_type": "execute_result",
                    "metadata": {},
                    "data": {
                        "text/plain": "17.007000999997857"
                    },
                    "execution_count": null
                }
            ]
        },
        {
            "id": "e8379adc",
            "cell_type": "markdown",
            "source": "The fourth-order derivative of a 3rd-order polynomial is zero:\n",
            "metadata": {}
        },
        {
            "id": "dd16b418",
            "cell_type": "code",
            "metadata": {},
            "execution_count": null,
            "source": "np.polyder(p, 2)",
            "outputs": [
                {
                    "output_type": "execute_result",
                    "metadata": {},
                    "data": {
                        "text/plain": "poly1d([6, 2])"
                    },
                    "execution_count": null
                }
            ]
        },
        {
            "id": "98c69b02",
            "cell_type": "code",
            "metadata": {},
            "execution_count": null,
            "source": "np.polyder(p, 3)",
            "outputs": [
                {
                    "output_type": "execute_result",
                    "metadata": {},
                    "data": {
                        "text/plain": "poly1d([6])"
                    },
                    "execution_count": null
                }
            ]
        },
        {
            "id": "289c44f4",
            "cell_type": "code",
            "metadata": {},
            "execution_count": null,
            "source": "np.polyder(p, 4)",
            "outputs": [
                {
                    "output_type": "execute_result",
                    "metadata": {},
                    "data": {
                        "text/plain": "poly1d([0])"
                    },
                    "execution_count": null
                }
            ]
        }
    ]
}