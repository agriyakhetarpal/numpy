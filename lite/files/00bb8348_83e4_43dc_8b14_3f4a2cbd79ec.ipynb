{
    "nbformat": 4,
    "nbformat_minor": 5,
    "metadata": {
        "kernelspec": {
            "display_name": "Python",
            "language": "python",
            "name": "python"
        },
        "language_info": {
            "name": "python"
        }
    },
    "cells": [
        {
            "id": "b53113e5",
            "cell_type": "markdown",
            "source": "<div class='alert alert-warning'>\n\nNumPy's interactive examples are experimental and may not always work as expected, with high load times especially on low-resource platforms, and the version of NumPy might not be in sync with the one you are browsing the documentation for. If you encounter any issues, please report them on the [NumPy issue tracker](https://github.com/numpy/numpy/issues).\n\n</div>",
            "metadata": {}
        },
        {
            "id": "67f3b086",
            "cell_type": "code",
            "metadata": {},
            "execution_count": null,
            "source": "import numpy as np\nc = np.array(['aAaAaA', 'abBABba'])\nc",
            "outputs": [
                {
                    "output_type": "execute_result",
                    "metadata": {},
                    "data": {
                        "text/plain": "array(['aAaAaA', 'abBABba'], dtype='<U7')"
                    },
                    "execution_count": null
                }
            ]
        },
        {
            "id": "fb9c8364",
            "cell_type": "code",
            "metadata": {},
            "execution_count": null,
            "source": "np.strings.rstrip(c, 'a')",
            "outputs": [
                {
                    "output_type": "execute_result",
                    "metadata": {},
                    "data": {
                        "text/plain": "array(['aAaAaA', 'abBABb'], dtype='<U7')"
                    },
                    "execution_count": null
                }
            ]
        },
        {
            "id": "f44983fd",
            "cell_type": "code",
            "metadata": {},
            "execution_count": null,
            "source": "np.strings.rstrip(c, 'A')",
            "outputs": [
                {
                    "output_type": "execute_result",
                    "metadata": {},
                    "data": {
                        "text/plain": "array(['aAaAa', 'abBABba'], dtype='<U7')"
                    },
                    "execution_count": null
                }
            ]
        }
    ]
}