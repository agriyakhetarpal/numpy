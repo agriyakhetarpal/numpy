{
    "nbformat": 4,
    "nbformat_minor": 5,
    "metadata": {
        "kernelspec": {
            "display_name": "Python",
            "language": "python",
            "name": "python"
        },
        "language_info": {
            "name": "python"
        }
    },
    "cells": [
        {
            "id": "19e1f5e9",
            "cell_type": "markdown",
            "source": "<div class='alert alert-warning'>\n\nNumPy's interactive examples are experimental and may not always work as expected, with high load times especially on low-resource platforms, , and the version of NumPy might not be in sync with the one you are browsing the documentation for. If you encounter any issues, please report them on the [NumPy issue tracker](https://github.com/numpy/numpy/issues).\n\n</div>",
            "metadata": {}
        },
        {
            "id": "d6fbcbb0",
            "cell_type": "code",
            "metadata": {},
            "execution_count": null,
            "source": "import numpy as np",
            "outputs": []
        },
        {
            "id": "0d4e83d6",
            "cell_type": "markdown",
            "source": "Compute two different sets of indices to access 4x4 arrays, one for the\nupper triangular part starting at the main diagonal, and one starting two\ndiagonals further right:\n",
            "metadata": {}
        },
        {
            "id": "311d11c8",
            "cell_type": "code",
            "metadata": {},
            "execution_count": null,
            "source": "iu1 = np.triu_indices(4)\niu2 = np.triu_indices(4, 2)",
            "outputs": []
        },
        {
            "id": "d1269b2e",
            "cell_type": "markdown",
            "source": "Here is how they can be used with a sample array:\n",
            "metadata": {}
        },
        {
            "id": "e4bfdfa7",
            "cell_type": "code",
            "metadata": {},
            "execution_count": null,
            "source": "a = np.arange(16).reshape(4, 4)\na",
            "outputs": [
                {
                    "output_type": "execute_result",
                    "metadata": {},
                    "data": {
                        "text/plain": "array([[ 0,  1,  2,  3],\n       [ 4,  5,  6,  7],\n       [ 8,  9, 10, 11],\n       [12, 13, 14, 15]])"
                    },
                    "execution_count": null
                }
            ]
        },
        {
            "id": "98161778",
            "cell_type": "markdown",
            "source": "Both for indexing:\n",
            "metadata": {}
        },
        {
            "id": "0813de92",
            "cell_type": "code",
            "metadata": {},
            "execution_count": null,
            "source": "a[iu1]",
            "outputs": [
                {
                    "output_type": "execute_result",
                    "metadata": {},
                    "data": {
                        "text/plain": "array([ 0,  1,  2, ..., 10, 11, 15])"
                    },
                    "execution_count": null
                }
            ]
        },
        {
            "id": "226026ae",
            "cell_type": "markdown",
            "source": "And for assigning values:\n",
            "metadata": {}
        },
        {
            "id": "22115052",
            "cell_type": "code",
            "metadata": {},
            "execution_count": null,
            "source": "a[iu1] = -1\na",
            "outputs": [
                {
                    "output_type": "execute_result",
                    "metadata": {},
                    "data": {
                        "text/plain": "array([[-1, -1, -1, -1],\n       [ 4, -1, -1, -1],\n       [ 8,  9, -1, -1],\n       [12, 13, 14, -1]])"
                    },
                    "execution_count": null
                }
            ]
        },
        {
            "id": "15738731",
            "cell_type": "markdown",
            "source": "These cover only a small part of the whole array (two diagonals right\nof the main one):\n",
            "metadata": {}
        },
        {
            "id": "71169959",
            "cell_type": "code",
            "metadata": {},
            "execution_count": null,
            "source": "a[iu2] = -10\na",
            "outputs": [
                {
                    "output_type": "execute_result",
                    "metadata": {},
                    "data": {
                        "text/plain": "array([[ -1,  -1, -10, -10],\n       [  4,  -1,  -1, -10],\n       [  8,   9,  -1,  -1],\n       [ 12,  13,  14,  -1]])"
                    },
                    "execution_count": null
                }
            ]
        }
    ]
}