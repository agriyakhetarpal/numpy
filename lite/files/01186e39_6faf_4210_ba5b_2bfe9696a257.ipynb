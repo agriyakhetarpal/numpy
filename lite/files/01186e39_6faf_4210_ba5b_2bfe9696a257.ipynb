{
    "nbformat": 4,
    "nbformat_minor": 5,
    "metadata": {
        "kernelspec": {
            "display_name": "Python",
            "language": "python",
            "name": "python"
        },
        "language_info": {
            "name": "python"
        }
    },
    "cells": [
        {
            "id": "d120a4c1",
            "cell_type": "markdown",
            "source": "<div class='alert alert-warning'>\n\nNumPy's interactive examples are experimental and may not always work as expected, with high load times especially on low-resource platforms, and the version of NumPy might not be in sync with the one you are browsing the documentation for. If you encounter any issues, please report them on the [NumPy issue tracker](https://github.com/numpy/numpy/issues).\n\n</div>",
            "metadata": {}
        },
        {
            "id": "e2980078",
            "cell_type": "code",
            "metadata": {},
            "execution_count": null,
            "source": "import numpy as np\narr = np.array([0, 0, 0, 1, 2, 3, 3, 4, 5])\nnp.histogram_bin_edges(arr, bins='auto', range=(0, 1))",
            "outputs": [
                {
                    "output_type": "execute_result",
                    "metadata": {},
                    "data": {
                        "text/plain": "array([0.  , 0.25, 0.5 , 0.75, 1.  ])"
                    },
                    "execution_count": null
                }
            ]
        },
        {
            "id": "8a221deb",
            "cell_type": "code",
            "metadata": {},
            "execution_count": null,
            "source": "np.histogram_bin_edges(arr, bins=2)",
            "outputs": [
                {
                    "output_type": "execute_result",
                    "metadata": {},
                    "data": {
                        "text/plain": "array([0. , 2.5, 5. ])"
                    },
                    "execution_count": null
                }
            ]
        },
        {
            "id": "a469d753",
            "cell_type": "markdown",
            "source": "For consistency with histogram, an array of pre-computed bins is\npassed through unmodified:\n",
            "metadata": {}
        },
        {
            "id": "0e3abf0b",
            "cell_type": "code",
            "metadata": {},
            "execution_count": null,
            "source": "np.histogram_bin_edges(arr, [1, 2])",
            "outputs": [
                {
                    "output_type": "execute_result",
                    "metadata": {},
                    "data": {
                        "text/plain": "array([1, 2])"
                    },
                    "execution_count": null
                }
            ]
        },
        {
            "id": "5d135cd6",
            "cell_type": "markdown",
            "source": "This function allows one set of bins to be computed, and reused across\nmultiple histograms:\n",
            "metadata": {}
        },
        {
            "id": "37ab886f",
            "cell_type": "code",
            "metadata": {},
            "execution_count": null,
            "source": "shared_bins = np.histogram_bin_edges(arr, bins='auto')\nshared_bins",
            "outputs": [
                {
                    "output_type": "execute_result",
                    "metadata": {},
                    "data": {
                        "text/plain": "array([0., 1., 2., 3., 4., 5.])"
                    },
                    "execution_count": null
                }
            ]
        },
        {
            "id": "9189d9a9",
            "cell_type": "code",
            "metadata": {},
            "execution_count": null,
            "source": "group_id = np.array([0, 1, 1, 0, 1, 1, 0, 1, 1])\nhist_0, _ = np.histogram(arr[group_id == 0], bins=shared_bins)\nhist_1, _ = np.histogram(arr[group_id == 1], bins=shared_bins)",
            "outputs": []
        },
        {
            "id": "ed5ec66a",
            "cell_type": "code",
            "metadata": {},
            "execution_count": null,
            "source": "hist_0; hist_1",
            "outputs": [
                {
                    "output_type": "execute_result",
                    "metadata": {},
                    "data": {
                        "text/plain": "array([1, 1, 0, 1, 0])\narray([2, 0, 1, 1, 2])"
                    },
                    "execution_count": null
                }
            ]
        },
        {
            "id": "1c2f49c7",
            "cell_type": "markdown",
            "source": "Which gives more easily comparable results than using separate bins for\neach histogram:\n",
            "metadata": {}
        },
        {
            "id": "dfc3eed1",
            "cell_type": "code",
            "metadata": {},
            "execution_count": null,
            "source": "hist_0, bins_0 = np.histogram(arr[group_id == 0], bins='auto')\nhist_1, bins_1 = np.histogram(arr[group_id == 1], bins='auto')\nhist_0; hist_1",
            "outputs": [
                {
                    "output_type": "execute_result",
                    "metadata": {},
                    "data": {
                        "text/plain": "array([1, 1, 1])\narray([2, 1, 1, 2])"
                    },
                    "execution_count": null
                }
            ]
        },
        {
            "id": "da2f5a79",
            "cell_type": "code",
            "metadata": {},
            "execution_count": null,
            "source": "bins_0; bins_1",
            "outputs": [
                {
                    "output_type": "execute_result",
                    "metadata": {},
                    "data": {
                        "text/plain": "array([0., 1., 2., 3.])\narray([0.  , 1.25, 2.5 , 3.75, 5.  ])"
                    },
                    "execution_count": null
                }
            ]
        }
    ]
}