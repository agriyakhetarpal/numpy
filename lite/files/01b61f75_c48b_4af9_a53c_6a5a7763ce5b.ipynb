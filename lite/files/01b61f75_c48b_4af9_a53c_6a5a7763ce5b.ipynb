{
    "nbformat": 4,
    "nbformat_minor": 5,
    "metadata": {
        "kernelspec": {
            "display_name": "Python",
            "language": "python",
            "name": "python"
        },
        "language_info": {
            "name": "python"
        }
    },
    "cells": [
        {
            "id": "1817e77f",
            "cell_type": "markdown",
            "source": "<div class='alert alert-warning'>\n\nNumPy's interactive examples are experimental and may not always work as expected, with high load times especially on low-resource platforms, , and the version of NumPy might not be in sync with the one you are browsing the documentation for. If you encounter any issues, please report them on the [NumPy issue tracker](https://github.com/numpy/numpy/issues).\n\n</div>",
            "metadata": {}
        },
        {
            "id": "6c6a3057",
            "cell_type": "code",
            "metadata": {},
            "execution_count": null,
            "source": "import numpy as np\nfrom numpy.polynomial import polyutils as pu\npoints = np.arange(4)**2 - 5; points",
            "outputs": [
                {
                    "output_type": "execute_result",
                    "metadata": {},
                    "data": {
                        "text/plain": "array([-5, -4, -1,  4])"
                    },
                    "execution_count": null
                }
            ]
        },
        {
            "id": "a5633de9",
            "cell_type": "code",
            "metadata": {},
            "execution_count": null,
            "source": "pu.getdomain(points)",
            "outputs": [
                {
                    "output_type": "execute_result",
                    "metadata": {},
                    "data": {
                        "text/plain": "array([-5.,  4.])"
                    },
                    "execution_count": null
                }
            ]
        },
        {
            "id": "a9982ac9",
            "cell_type": "code",
            "metadata": {},
            "execution_count": null,
            "source": "c = np.exp(complex(0,1)*np.pi*np.arange(12)/6) # unit circle\npu.getdomain(c)",
            "outputs": [
                {
                    "output_type": "execute_result",
                    "metadata": {},
                    "data": {
                        "text/plain": "array([-1.-1.j,  1.+1.j])"
                    },
                    "execution_count": null
                }
            ]
        }
    ]
}