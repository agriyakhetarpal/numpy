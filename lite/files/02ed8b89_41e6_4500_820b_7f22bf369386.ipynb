{
    "nbformat": 4,
    "nbformat_minor": 5,
    "metadata": {
        "kernelspec": {
            "display_name": "Python",
            "language": "python",
            "name": "python"
        },
        "language_info": {
            "name": "python"
        }
    },
    "cells": [
        {
            "id": "7c495e63",
            "cell_type": "markdown",
            "source": "<div class='alert alert-warning'>\n\nNumPy's interactive examples are experimental and may not always work as expected, with high load times especially on low-resource platforms, , and the version of NumPy might not be in sync with the one you are browsing the documentation for. If you encounter any issues, please report them on the [NumPy issue tracker](https://github.com/numpy/numpy/issues).\n\n</div>",
            "metadata": {}
        },
        {
            "id": "60b1a791",
            "cell_type": "markdown",
            "source": "We expect the arctan of 0 to be 0, and of 1 to be pi/4:\n",
            "metadata": {}
        },
        {
            "id": "c1bf189c",
            "cell_type": "code",
            "metadata": {},
            "execution_count": null,
            "source": "import numpy as np\nnp.arctan([0, 1])",
            "outputs": [
                {
                    "output_type": "execute_result",
                    "metadata": {},
                    "data": {
                        "text/plain": "array([ 0.        ,  0.78539816])"
                    },
                    "execution_count": null
                }
            ]
        },
        {
            "id": "4bdd5673",
            "cell_type": "code",
            "metadata": {},
            "execution_count": null,
            "source": "np.pi/4",
            "outputs": [
                {
                    "output_type": "execute_result",
                    "metadata": {},
                    "data": {
                        "text/plain": "0.78539816339744828"
                    },
                    "execution_count": null
                }
            ]
        },
        {
            "id": "9c7dc197",
            "cell_type": "markdown",
            "source": "Plot arctan:\n",
            "metadata": {}
        },
        {
            "id": "a94ef42e",
            "cell_type": "code",
            "metadata": {},
            "execution_count": null,
            "source": "import matplotlib.pyplot as plt\nx = np.linspace(-10, 10)\nplt.plot(x, np.arctan(x))\nplt.axis('tight')\nplt.show()",
            "outputs": []
        }
    ]
}