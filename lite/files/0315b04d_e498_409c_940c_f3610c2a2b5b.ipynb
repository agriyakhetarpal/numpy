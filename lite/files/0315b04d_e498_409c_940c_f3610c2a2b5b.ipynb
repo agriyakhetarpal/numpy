{
    "nbformat": 4,
    "nbformat_minor": 5,
    "metadata": {
        "kernelspec": {
            "display_name": "Python",
            "language": "python",
            "name": "python"
        },
        "language_info": {
            "name": "python"
        }
    },
    "cells": [
        {
            "id": "7b9d4b25",
            "cell_type": "markdown",
            "source": "<div class='alert alert-warning'>\n\nNumPy's interactive examples are experimental and may not always work as expected, with high load times especially on low-resource platforms, and the version of NumPy might not be in sync with the one you are browsing the documentation for. If you encounter any issues, please report them on the [NumPy issue tracker](https://github.com/numpy/numpy/issues).\n\n</div>",
            "metadata": {}
        },
        {
            "id": "603a83de",
            "cell_type": "markdown",
            "source": "Draw samples from the distribution:\n",
            "metadata": {}
        },
        {
            "id": "42e85737",
            "cell_type": "code",
            "metadata": {},
            "execution_count": null,
            "source": "a = 4.0\nn = 20000\ns = np.random.zipf(a, n)",
            "outputs": []
        },
        {
            "id": "533fdc93",
            "cell_type": "markdown",
            "source": "Display the histogram of the samples, along with\nthe expected histogram based on the probability\ndensity function:\n",
            "metadata": {}
        },
        {
            "id": "a51d72b1",
            "cell_type": "code",
            "metadata": {},
            "execution_count": null,
            "source": "import matplotlib.pyplot as plt\nfrom scipy.special import zeta  # doctest: +SKIP",
            "outputs": []
        },
        {
            "id": "4ac258b7",
            "cell_type": "markdown",
            "source": "`bincount` provides a fast histogram for small integers.\n",
            "metadata": {}
        },
        {
            "id": "a67959dd",
            "cell_type": "code",
            "metadata": {},
            "execution_count": null,
            "source": "count = np.bincount(s)\nk = np.arange(1, s.max() + 1)",
            "outputs": []
        },
        {
            "id": "3185cff0",
            "cell_type": "code",
            "metadata": {},
            "execution_count": null,
            "source": "plt.bar(k, count[1:], alpha=0.5, label='sample count')\nplt.plot(k, n*(k**-a)/zeta(a), 'k.-', alpha=0.5,\n         label='expected count')   # doctest: +SKIP\nplt.semilogy()\nplt.grid(alpha=0.4)\nplt.legend()\nplt.title(f'Zipf sample, a={a}, size={n}')\nplt.show()",
            "outputs": []
        }
    ]
}