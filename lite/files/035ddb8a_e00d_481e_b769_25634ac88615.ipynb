{
    "nbformat": 4,
    "nbformat_minor": 5,
    "metadata": {
        "kernelspec": {
            "display_name": "Python",
            "language": "python",
            "name": "python"
        },
        "language_info": {
            "name": "python"
        }
    },
    "cells": [
        {
            "id": "2e2d2b89",
            "cell_type": "markdown",
            "source": "<div class='alert alert-warning'>\n\nNumPy's interactive examples are experimental and may not always work as expected, with high load times especially on low-resource platforms, , and the version of NumPy might not be in sync with the one you are browsing the documentation for. If you encounter any issues, please report them on the [NumPy issue tracker](https://github.com/numpy/numpy/issues).\n\n</div>",
            "metadata": {}
        },
        {
            "id": "2c4e3be8",
            "cell_type": "markdown",
            "source": "A simple ISO date:\n",
            "metadata": {}
        },
        {
            "id": "534175ab",
            "cell_type": "code",
            "metadata": {},
            "execution_count": null,
            "source": "import numpy as np",
            "outputs": []
        },
        {
            "id": "d9c27e7d",
            "cell_type": "code",
            "metadata": {},
            "execution_count": null,
            "source": "np.datetime64('2005-02-25')",
            "outputs": [
                {
                    "output_type": "execute_result",
                    "metadata": {},
                    "data": {
                        "text/plain": "np.datetime64('2005-02-25')"
                    },
                    "execution_count": null
                }
            ]
        },
        {
            "id": "4dc156a2",
            "cell_type": "markdown",
            "source": "From an integer and a date unit, 1 year since the UNIX epoch:\n",
            "metadata": {}
        },
        {
            "id": "d939c55e",
            "cell_type": "code",
            "metadata": {},
            "execution_count": null,
            "source": "np.datetime64(1, 'Y')",
            "outputs": [
                {
                    "output_type": "execute_result",
                    "metadata": {},
                    "data": {
                        "text/plain": "np.datetime64('1971')"
                    },
                    "execution_count": null
                }
            ]
        },
        {
            "id": "429cc49a",
            "cell_type": "markdown",
            "source": "Using months for the unit:\n",
            "metadata": {}
        },
        {
            "id": "73945359",
            "cell_type": "code",
            "metadata": {},
            "execution_count": null,
            "source": "np.datetime64('2005-02')",
            "outputs": [
                {
                    "output_type": "execute_result",
                    "metadata": {},
                    "data": {
                        "text/plain": "np.datetime64('2005-02')"
                    },
                    "execution_count": null
                }
            ]
        },
        {
            "id": "3d239150",
            "cell_type": "markdown",
            "source": "Specifying just the month, but forcing a 'days' unit:\n",
            "metadata": {}
        },
        {
            "id": "17757f0f",
            "cell_type": "code",
            "metadata": {},
            "execution_count": null,
            "source": "np.datetime64('2005-02', 'D')",
            "outputs": [
                {
                    "output_type": "execute_result",
                    "metadata": {},
                    "data": {
                        "text/plain": "np.datetime64('2005-02-01')"
                    },
                    "execution_count": null
                }
            ]
        },
        {
            "id": "bf9c165e",
            "cell_type": "markdown",
            "source": "From a date and time:\n",
            "metadata": {}
        },
        {
            "id": "61a1b2c5",
            "cell_type": "code",
            "metadata": {},
            "execution_count": null,
            "source": "np.datetime64('2005-02-25T03:30')",
            "outputs": [
                {
                    "output_type": "execute_result",
                    "metadata": {},
                    "data": {
                        "text/plain": "np.datetime64('2005-02-25T03:30')"
                    },
                    "execution_count": null
                }
            ]
        },
        {
            "id": "64841a8f",
            "cell_type": "markdown",
            "source": "NAT (not a time):\n",
            "metadata": {}
        },
        {
            "id": "b6abe995",
            "cell_type": "code",
            "metadata": {},
            "execution_count": null,
            "source": "np.datetime64('nat')",
            "outputs": [
                {
                    "output_type": "execute_result",
                    "metadata": {},
                    "data": {
                        "text/plain": "np.datetime64('NaT')"
                    },
                    "execution_count": null
                }
            ]
        }
    ]
}