{
    "nbformat": 4,
    "nbformat_minor": 5,
    "metadata": {
        "kernelspec": {
            "display_name": "Python",
            "language": "python",
            "name": "python"
        },
        "language_info": {
            "name": "python"
        }
    },
    "cells": [
        {
            "id": "8abb4db7",
            "cell_type": "markdown",
            "source": "<div class='alert alert-warning'>\n\nNumPy's interactive examples are experimental and may not always work as expected, with high load times especially on low-resource platforms, , and the version of NumPy might not be in sync with the one you are browsing the documentation for. If you encounter any issues, please report them on the [NumPy issue tracker](https://github.com/numpy/numpy/issues).\n\n</div>",
            "metadata": {}
        },
        {
            "id": "9d4028cc",
            "cell_type": "markdown",
            "source": "Using array-scalar type:\n",
            "metadata": {}
        },
        {
            "id": "9e76e78f",
            "cell_type": "code",
            "metadata": {},
            "execution_count": null,
            "source": "import numpy as np\nnp.dtype(np.int16)",
            "outputs": [
                {
                    "output_type": "execute_result",
                    "metadata": {},
                    "data": {
                        "text/plain": "dtype('int16')"
                    },
                    "execution_count": null
                }
            ]
        },
        {
            "id": "1c008b27",
            "cell_type": "markdown",
            "source": "Structured type, one field name 'f1', containing int16:\n",
            "metadata": {}
        },
        {
            "id": "cca7bbf7",
            "cell_type": "code",
            "metadata": {},
            "execution_count": null,
            "source": "np.dtype([('f1', np.int16)])",
            "outputs": [
                {
                    "output_type": "execute_result",
                    "metadata": {},
                    "data": {
                        "text/plain": "dtype([('f1', '<i2')])"
                    },
                    "execution_count": null
                }
            ]
        },
        {
            "id": "3ee5d120",
            "cell_type": "markdown",
            "source": "Structured type, one field named 'f1', in itself containing a structured\ntype with one field:\n",
            "metadata": {}
        },
        {
            "id": "f2790e10",
            "cell_type": "code",
            "metadata": {},
            "execution_count": null,
            "source": "np.dtype([('f1', [('f1', np.int16)])])",
            "outputs": [
                {
                    "output_type": "execute_result",
                    "metadata": {},
                    "data": {
                        "text/plain": "dtype([('f1', [('f1', '<i2')])])"
                    },
                    "execution_count": null
                }
            ]
        },
        {
            "id": "e025a5ba",
            "cell_type": "markdown",
            "source": "Structured type, two fields: the first field contains an unsigned int, the\nsecond an int32:\n",
            "metadata": {}
        },
        {
            "id": "3b87c07e",
            "cell_type": "code",
            "metadata": {},
            "execution_count": null,
            "source": "np.dtype([('f1', np.uint64), ('f2', np.int32)])",
            "outputs": [
                {
                    "output_type": "execute_result",
                    "metadata": {},
                    "data": {
                        "text/plain": "dtype([('f1', '<u8'), ('f2', '<i4')])"
                    },
                    "execution_count": null
                }
            ]
        },
        {
            "id": "df804f44",
            "cell_type": "markdown",
            "source": "Using array-protocol type strings:\n",
            "metadata": {}
        },
        {
            "id": "5b67d16c",
            "cell_type": "code",
            "metadata": {},
            "execution_count": null,
            "source": "np.dtype([('a','f8'),('b','S10')])",
            "outputs": [
                {
                    "output_type": "execute_result",
                    "metadata": {},
                    "data": {
                        "text/plain": "dtype([('a', '<f8'), ('b', 'S10')])"
                    },
                    "execution_count": null
                }
            ]
        },
        {
            "id": "50335f8b",
            "cell_type": "markdown",
            "source": "Using comma-separated field formats.  The shape is (2,3):\n",
            "metadata": {}
        },
        {
            "id": "8e8b23c2",
            "cell_type": "code",
            "metadata": {},
            "execution_count": null,
            "source": "np.dtype(\"i4, (2,3)f8\")",
            "outputs": [
                {
                    "output_type": "execute_result",
                    "metadata": {},
                    "data": {
                        "text/plain": "dtype([('f0', '<i4'), ('f1', '<f8', (2, 3))])"
                    },
                    "execution_count": null
                }
            ]
        },
        {
            "id": "00cb29d8",
            "cell_type": "markdown",
            "source": "Using tuples.  ``int`` is a fixed type, 3 the field's shape.  ``void``\nis a flexible type, here of size 10:\n",
            "metadata": {}
        },
        {
            "id": "f08a836c",
            "cell_type": "code",
            "metadata": {},
            "execution_count": null,
            "source": "np.dtype([('hello',(np.int64,3)),('world',np.void,10)])",
            "outputs": [
                {
                    "output_type": "execute_result",
                    "metadata": {},
                    "data": {
                        "text/plain": "dtype([('hello', '<i8', (3,)), ('world', 'V10')])"
                    },
                    "execution_count": null
                }
            ]
        },
        {
            "id": "c6876a33",
            "cell_type": "markdown",
            "source": "Subdivide ``int16`` into 2 ``int8``'s, called x and y.  0 and 1 are\nthe offsets in bytes:\n",
            "metadata": {}
        },
        {
            "id": "48125e6f",
            "cell_type": "code",
            "metadata": {},
            "execution_count": null,
            "source": "np.dtype((np.int16, {'x':(np.int8,0), 'y':(np.int8,1)}))",
            "outputs": [
                {
                    "output_type": "execute_result",
                    "metadata": {},
                    "data": {
                        "text/plain": "dtype((numpy.int16, [('x', 'i1'), ('y', 'i1')]))"
                    },
                    "execution_count": null
                }
            ]
        },
        {
            "id": "ba3d1d6b",
            "cell_type": "markdown",
            "source": "Using dictionaries.  Two fields named 'gender' and 'age':\n",
            "metadata": {}
        },
        {
            "id": "301c45dd",
            "cell_type": "code",
            "metadata": {},
            "execution_count": null,
            "source": "np.dtype({'names':['gender','age'], 'formats':['S1',np.uint8]})",
            "outputs": [
                {
                    "output_type": "execute_result",
                    "metadata": {},
                    "data": {
                        "text/plain": "dtype([('gender', 'S1'), ('age', 'u1')])"
                    },
                    "execution_count": null
                }
            ]
        },
        {
            "id": "05e3d47d",
            "cell_type": "markdown",
            "source": "Offsets in bytes, here 0 and 25:\n",
            "metadata": {}
        },
        {
            "id": "f14c539e",
            "cell_type": "code",
            "metadata": {},
            "execution_count": null,
            "source": "np.dtype({'surname':('S25',0),'age':(np.uint8,25)})",
            "outputs": [
                {
                    "output_type": "execute_result",
                    "metadata": {},
                    "data": {
                        "text/plain": "dtype([('surname', 'S25'), ('age', 'u1')])"
                    },
                    "execution_count": null
                }
            ]
        }
    ]
}