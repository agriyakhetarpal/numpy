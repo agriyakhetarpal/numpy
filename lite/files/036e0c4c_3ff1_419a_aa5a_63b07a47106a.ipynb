{
    "nbformat": 4,
    "nbformat_minor": 5,
    "metadata": {
        "kernelspec": {
            "display_name": "Python",
            "language": "python",
            "name": "python"
        },
        "language_info": {
            "name": "python"
        }
    },
    "cells": [
        {
            "id": "a428eb11",
            "cell_type": "markdown",
            "source": "<div class='alert alert-warning'>\n\nNumPy's interactive examples are experimental and may not always work as expected, with high load times especially on low-resource platforms, and the version of NumPy might not be in sync with the one you are browsing the documentation for. If you encounter any issues, please report them on the [NumPy issue tracker](https://github.com/numpy/numpy/issues).\n\n</div>",
            "metadata": {}
        },
        {
            "id": "c033ba07",
            "cell_type": "markdown",
            "source": "For real, non-negative inputs this works just like `numpy.sqrt`:\n",
            "metadata": {}
        },
        {
            "id": "cac502fe",
            "cell_type": "code",
            "metadata": {},
            "execution_count": null,
            "source": "import numpy as np",
            "outputs": []
        },
        {
            "id": "578744f3",
            "cell_type": "code",
            "metadata": {},
            "execution_count": null,
            "source": "np.emath.sqrt(1)",
            "outputs": [
                {
                    "output_type": "execute_result",
                    "metadata": {},
                    "data": {
                        "text/plain": "1.0"
                    },
                    "execution_count": null
                }
            ]
        },
        {
            "id": "74c62ae8",
            "cell_type": "code",
            "metadata": {},
            "execution_count": null,
            "source": "np.emath.sqrt([1, 4])",
            "outputs": [
                {
                    "output_type": "execute_result",
                    "metadata": {},
                    "data": {
                        "text/plain": "array([1.,  2.])"
                    },
                    "execution_count": null
                }
            ]
        },
        {
            "id": "23600c0a",
            "cell_type": "markdown",
            "source": "But it automatically handles negative inputs:\n",
            "metadata": {}
        },
        {
            "id": "cf8c56e7",
            "cell_type": "code",
            "metadata": {},
            "execution_count": null,
            "source": "np.emath.sqrt(-1)",
            "outputs": [
                {
                    "output_type": "execute_result",
                    "metadata": {},
                    "data": {
                        "text/plain": "1j"
                    },
                    "execution_count": null
                }
            ]
        },
        {
            "id": "3bee1e97",
            "cell_type": "code",
            "metadata": {},
            "execution_count": null,
            "source": "np.emath.sqrt([-1,4])",
            "outputs": [
                {
                    "output_type": "execute_result",
                    "metadata": {},
                    "data": {
                        "text/plain": "array([0.+1.j, 2.+0.j])"
                    },
                    "execution_count": null
                }
            ]
        },
        {
            "id": "3128ab54",
            "cell_type": "markdown",
            "source": "Different results are expected because:\nfloating point 0.0 and -0.0 are distinct.\n\nFor more control, explicitly use complex() as follows:\n",
            "metadata": {}
        },
        {
            "id": "699e5658",
            "cell_type": "code",
            "metadata": {},
            "execution_count": null,
            "source": "np.emath.sqrt(complex(-4.0, 0.0))",
            "outputs": [
                {
                    "output_type": "execute_result",
                    "metadata": {},
                    "data": {
                        "text/plain": "2j"
                    },
                    "execution_count": null
                }
            ]
        },
        {
            "id": "a5b93637",
            "cell_type": "code",
            "metadata": {},
            "execution_count": null,
            "source": "np.emath.sqrt(complex(-4.0, -0.0))",
            "outputs": [
                {
                    "output_type": "execute_result",
                    "metadata": {},
                    "data": {
                        "text/plain": "-2j"
                    },
                    "execution_count": null
                }
            ]
        }
    ]
}