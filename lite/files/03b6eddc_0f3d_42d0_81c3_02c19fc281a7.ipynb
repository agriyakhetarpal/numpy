{
    "nbformat": 4,
    "nbformat_minor": 5,
    "metadata": {
        "kernelspec": {
            "display_name": "Python",
            "language": "python",
            "name": "python"
        },
        "language_info": {
            "name": "python"
        }
    },
    "cells": [
        {
            "id": "150621e5",
            "cell_type": "markdown",
            "source": "<div class='alert alert-warning'>\n\nNumPy's interactive examples are experimental and may not always work as expected, with high load times especially on low-resource platforms, , and the version of NumPy might not be in sync with the one you are browsing the documentation for. If you encounter any issues, please report them on the [NumPy issue tracker](https://github.com/numpy/numpy/issues).\n\n</div>",
            "metadata": {}
        },
        {
            "id": "b171fb39",
            "cell_type": "markdown",
            "source": "Draw samples from the distribution:\n",
            "metadata": {}
        },
        {
            "id": "733ecbbc",
            "cell_type": "code",
            "metadata": {},
            "execution_count": null,
            "source": "shape, scale = 2., 2.  # mean=4, std=2*sqrt(2)\nrng = np.random.default_rng()\ns = rng.gamma(shape, scale, 1000)",
            "outputs": []
        },
        {
            "id": "a181854e",
            "cell_type": "markdown",
            "source": "Display the histogram of the samples, along with\nthe probability density function:\n",
            "metadata": {}
        },
        {
            "id": "94c87c44",
            "cell_type": "code",
            "metadata": {},
            "execution_count": null,
            "source": "import matplotlib.pyplot as plt\nimport scipy.special as sps  # doctest: +SKIP\ncount, bins, _ = plt.hist(s, 50, density=True)\ny = bins**(shape-1)*(np.exp(-bins/scale) /  # doctest: +SKIP\n                     (sps.gamma(shape)*scale**shape))\nplt.plot(bins, y, linewidth=2, color='r')  # doctest: +SKIP\nplt.show()",
            "outputs": []
        }
    ]
}