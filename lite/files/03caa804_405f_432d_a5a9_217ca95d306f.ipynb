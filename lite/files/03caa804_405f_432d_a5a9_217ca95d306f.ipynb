{
    "nbformat": 4,
    "nbformat_minor": 5,
    "metadata": {
        "kernelspec": {
            "display_name": "Python",
            "language": "python",
            "name": "python"
        },
        "language_info": {
            "name": "python"
        }
    },
    "cells": [
        {
            "id": "0bb67f73",
            "cell_type": "markdown",
            "source": "<div class='alert alert-warning'>\n\nNumPy's interactive examples are experimental and may not always work as expected, with high load times especially on low-resource platforms, and the version of NumPy might not be in sync with the one you are browsing the documentation for. If you encounter any issues, please report them on the [NumPy issue tracker](https://github.com/numpy/numpy/issues).\n\n</div>",
            "metadata": {}
        },
        {
            "id": "f7317b25",
            "cell_type": "code",
            "metadata": {},
            "execution_count": null,
            "source": "from numpy.polynomial.hermite import hermint\nhermint([1,2,3]) # integrate once, value 0 at 0.",
            "outputs": [
                {
                    "output_type": "execute_result",
                    "metadata": {},
                    "data": {
                        "text/plain": "array([1. , 0.5, 0.5, 0.5])"
                    },
                    "execution_count": null
                }
            ]
        },
        {
            "id": "40f23d02",
            "cell_type": "code",
            "metadata": {},
            "execution_count": null,
            "source": "hermint([1,2,3], m=2) # integrate twice, value & deriv 0 at 0",
            "outputs": [
                {
                    "output_type": "execute_result",
                    "metadata": {},
                    "data": {
                        "text/plain": "array([-0.5       ,  0.5       ,  0.125     ,  0.08333333,  0.0625    ]) # may vary"
                    },
                    "execution_count": null
                }
            ]
        },
        {
            "id": "6f18f81f",
            "cell_type": "code",
            "metadata": {},
            "execution_count": null,
            "source": "hermint([1,2,3], k=1) # integrate once, value 1 at 0.",
            "outputs": [
                {
                    "output_type": "execute_result",
                    "metadata": {},
                    "data": {
                        "text/plain": "array([2. , 0.5, 0.5, 0.5])"
                    },
                    "execution_count": null
                }
            ]
        },
        {
            "id": "1f670129",
            "cell_type": "code",
            "metadata": {},
            "execution_count": null,
            "source": "hermint([1,2,3], lbnd=-1) # integrate once, value 0 at -1",
            "outputs": [
                {
                    "output_type": "execute_result",
                    "metadata": {},
                    "data": {
                        "text/plain": "array([-2. ,  0.5,  0.5,  0.5])"
                    },
                    "execution_count": null
                }
            ]
        },
        {
            "id": "16a3b022",
            "cell_type": "code",
            "metadata": {},
            "execution_count": null,
            "source": "hermint([1,2,3], m=2, k=[1,2], lbnd=-1)",
            "outputs": [
                {
                    "output_type": "execute_result",
                    "metadata": {},
                    "data": {
                        "text/plain": "array([ 1.66666667, -0.5       ,  0.125     ,  0.08333333,  0.0625    ]) # may vary"
                    },
                    "execution_count": null
                }
            ]
        }
    ]
}