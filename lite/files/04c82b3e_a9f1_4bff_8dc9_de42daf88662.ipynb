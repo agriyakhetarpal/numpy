{
    "nbformat": 4,
    "nbformat_minor": 5,
    "metadata": {
        "kernelspec": {
            "display_name": "Python",
            "language": "python",
            "name": "python"
        },
        "language_info": {
            "name": "python"
        }
    },
    "cells": [
        {
            "id": "891d8983",
            "cell_type": "markdown",
            "source": "<div class='alert alert-warning'>\n\nNumPy's interactive examples are experimental and may not always work as expected, with high load times especially on low-resource platforms, , and the version of NumPy might not be in sync with the one you are browsing the documentation for. If you encounter any issues, please report them on the [NumPy issue tracker](https://github.com/numpy/numpy/issues).\n\n</div>",
            "metadata": {}
        },
        {
            "id": "52084c1e",
            "cell_type": "code",
            "metadata": {},
            "execution_count": null,
            "source": "import numpy as np\nfrom numpy.lib.array_utils import normalize_axis_index\nnormalize_axis_index(0, ndim=3)",
            "outputs": [
                {
                    "output_type": "execute_result",
                    "metadata": {},
                    "data": {
                        "text/plain": "0"
                    },
                    "execution_count": null
                }
            ]
        },
        {
            "id": "88376db7",
            "cell_type": "code",
            "metadata": {},
            "execution_count": null,
            "source": "normalize_axis_index(1, ndim=3)",
            "outputs": [
                {
                    "output_type": "execute_result",
                    "metadata": {},
                    "data": {
                        "text/plain": "1"
                    },
                    "execution_count": null
                }
            ]
        },
        {
            "id": "9c8ff3dd",
            "cell_type": "code",
            "metadata": {},
            "execution_count": null,
            "source": "normalize_axis_index(-1, ndim=3)",
            "outputs": [
                {
                    "output_type": "execute_result",
                    "metadata": {},
                    "data": {
                        "text/plain": "2"
                    },
                    "execution_count": null
                }
            ]
        },
        {
            "id": "c1a3af38",
            "cell_type": "code",
            "metadata": {},
            "execution_count": null,
            "source": "normalize_axis_index(3, ndim=3)\n",
            "outputs": [
                {
                    "output_type": "execute_result",
                    "metadata": {},
                    "data": {
                        "text/plain": "Traceback (most recent call last):\nnumpy.exceptions.AxisError: axis 3 is out of bounds for array ..."
                    },
                    "execution_count": null
                }
            ]
        },
        {
            "id": "7e5fc40e",
            "cell_type": "code",
            "metadata": {},
            "execution_count": null,
            "source": "normalize_axis_index(-4, ndim=3, msg_prefix='axes_arg')\n",
            "outputs": [
                {
                    "output_type": "execute_result",
                    "metadata": {},
                    "data": {
                        "text/plain": "Traceback (most recent call last):\nnumpy.exceptions.AxisError: axes_arg: axis -4 is out of bounds ..."
                    },
                    "execution_count": null
                }
            ]
        }
    ]
}