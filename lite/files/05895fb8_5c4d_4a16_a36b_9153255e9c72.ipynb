{
    "nbformat": 4,
    "nbformat_minor": 5,
    "metadata": {
        "kernelspec": {
            "display_name": "Python",
            "language": "python",
            "name": "python"
        },
        "language_info": {
            "name": "python"
        }
    },
    "cells": [
        {
            "id": "dc0f8bf1",
            "cell_type": "markdown",
            "source": "<div class='alert alert-warning'>\n\nNumPy's interactive examples are experimental and may not always work as expected, with high load times especially on low-resource platforms, and the version of NumPy might not be in sync with the one you are browsing the documentation for. If you encounter any issues, please report them on the [NumPy issue tracker](https://github.com/numpy/numpy/issues).\n\n</div>",
            "metadata": {}
        },
        {
            "id": "438ff4c6",
            "cell_type": "code",
            "metadata": {},
            "execution_count": null,
            "source": "import numpy as np\na = np.array(['hello', 'world'])\nnp.strings.slice(a, 2)",
            "outputs": [
                {
                    "output_type": "execute_result",
                    "metadata": {},
                    "data": {
                        "text/plain": "array(['he', 'wo'], dtype='<U5')"
                    },
                    "execution_count": null
                }
            ]
        },
        {
            "id": "4131e534",
            "cell_type": "code",
            "metadata": {},
            "execution_count": null,
            "source": "np.strings.slice(a, 1, 5, 2)",
            "outputs": [
                {
                    "output_type": "execute_result",
                    "metadata": {},
                    "data": {
                        "text/plain": "array(['el', 'ol'], dtype='<U5')"
                    },
                    "execution_count": null
                }
            ]
        },
        {
            "id": "b3257209",
            "cell_type": "markdown",
            "source": "One can specify different start/stop/step for different array entries:\n",
            "metadata": {}
        },
        {
            "id": "3c788f67",
            "cell_type": "code",
            "metadata": {},
            "execution_count": null,
            "source": "np.strings.slice(a, np.array([1, 2]), np.array([4, 5]))",
            "outputs": [
                {
                    "output_type": "execute_result",
                    "metadata": {},
                    "data": {
                        "text/plain": "array(['ell', 'rld'], dtype='<U5')"
                    },
                    "execution_count": null
                }
            ]
        },
        {
            "id": "4ab83573",
            "cell_type": "markdown",
            "source": "Negative slices have the same meaning as in regular Python:\n",
            "metadata": {}
        },
        {
            "id": "d6ee96e5",
            "cell_type": "code",
            "metadata": {},
            "execution_count": null,
            "source": "b = np.array(['hello world', 'γεια σου κόσμε', '你好世界', '👋 🌍'],\n             dtype=np.dtypes.StringDType())\nnp.strings.slice(b, -2)",
            "outputs": [
                {
                    "output_type": "execute_result",
                    "metadata": {},
                    "data": {
                        "text/plain": "array(['hello wor', 'γεια σου κόσ', '你好', '👋'], dtype=StringDType())"
                    },
                    "execution_count": null
                }
            ]
        },
        {
            "id": "612c859f",
            "cell_type": "code",
            "metadata": {},
            "execution_count": null,
            "source": "np.strings.slice(b, [3, -10, 2, -3], [-1, -2, -1, 3])",
            "outputs": [
                {
                    "output_type": "execute_result",
                    "metadata": {},
                    "data": {
                        "text/plain": "array(['lo worl', ' σου κόσ', '世', '👋 🌍'], dtype=StringDType())"
                    },
                    "execution_count": null
                }
            ]
        },
        {
            "id": "fe5f0a09",
            "cell_type": "code",
            "metadata": {},
            "execution_count": null,
            "source": "np.strings.slice(b, None, None, -1)",
            "outputs": [
                {
                    "output_type": "execute_result",
                    "metadata": {},
                    "data": {
                        "text/plain": "array(['dlrow olleh', 'εμσόκ υοσ αιεγ', '界世好你', '🌍 👋'],\n      dtype=StringDType())"
                    },
                    "execution_count": null
                }
            ]
        }
    ]
}