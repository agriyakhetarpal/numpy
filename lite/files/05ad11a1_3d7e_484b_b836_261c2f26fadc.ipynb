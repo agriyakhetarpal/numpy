{
    "nbformat": 4,
    "nbformat_minor": 5,
    "metadata": {
        "kernelspec": {
            "display_name": "Python",
            "language": "python",
            "name": "python"
        },
        "language_info": {
            "name": "python"
        }
    },
    "cells": [
        {
            "id": "357e79ef",
            "cell_type": "markdown",
            "source": "<div class='alert alert-warning'>\n\nNumPy's interactive examples are experimental and may not always work as expected, with high load times especially on low-resource platforms, and the version of NumPy might not be in sync with the one you are browsing the documentation for. If you encounter any issues, please report them on the [NumPy issue tracker](https://github.com/numpy/numpy/issues).\n\n</div>",
            "metadata": {}
        },
        {
            "id": "16616ebd",
            "cell_type": "code",
            "metadata": {},
            "execution_count": null,
            "source": "import numpy as np\nA = np.arange(8).reshape((2,2,2))\nA",
            "outputs": [
                {
                    "output_type": "execute_result",
                    "metadata": {},
                    "data": {
                        "text/plain": "array([[[0, 1],\n        [2, 3]],\n       [[4, 5],\n        [6, 7]]])"
                    },
                    "execution_count": null
                }
            ]
        },
        {
            "id": "2bf9939a",
            "cell_type": "code",
            "metadata": {},
            "execution_count": null,
            "source": "np.flip(A, 0)",
            "outputs": [
                {
                    "output_type": "execute_result",
                    "metadata": {},
                    "data": {
                        "text/plain": "array([[[4, 5],\n        [6, 7]],\n       [[0, 1],\n        [2, 3]]])"
                    },
                    "execution_count": null
                }
            ]
        },
        {
            "id": "708aefd1",
            "cell_type": "code",
            "metadata": {},
            "execution_count": null,
            "source": "np.flip(A, 1)",
            "outputs": [
                {
                    "output_type": "execute_result",
                    "metadata": {},
                    "data": {
                        "text/plain": "array([[[2, 3],\n        [0, 1]],\n       [[6, 7],\n        [4, 5]]])"
                    },
                    "execution_count": null
                }
            ]
        },
        {
            "id": "b76695a0",
            "cell_type": "code",
            "metadata": {},
            "execution_count": null,
            "source": "np.flip(A)",
            "outputs": [
                {
                    "output_type": "execute_result",
                    "metadata": {},
                    "data": {
                        "text/plain": "array([[[7, 6],\n        [5, 4]],\n       [[3, 2],\n        [1, 0]]])"
                    },
                    "execution_count": null
                }
            ]
        },
        {
            "id": "d474528f",
            "cell_type": "code",
            "metadata": {},
            "execution_count": null,
            "source": "np.flip(A, (0, 2))",
            "outputs": [
                {
                    "output_type": "execute_result",
                    "metadata": {},
                    "data": {
                        "text/plain": "array([[[5, 4],\n        [7, 6]],\n       [[1, 0],\n        [3, 2]]])"
                    },
                    "execution_count": null
                }
            ]
        },
        {
            "id": "d25c7161",
            "cell_type": "code",
            "metadata": {},
            "execution_count": null,
            "source": "rng = np.random.default_rng()\nA = rng.normal(size=(3,4,5))\nnp.all(np.flip(A,2) == A[:,:,::-1,...])",
            "outputs": [
                {
                    "output_type": "execute_result",
                    "metadata": {},
                    "data": {
                        "text/plain": "True"
                    },
                    "execution_count": null
                }
            ]
        }
    ]
}