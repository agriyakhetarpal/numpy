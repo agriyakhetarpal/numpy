{
    "nbformat": 4,
    "nbformat_minor": 5,
    "metadata": {
        "kernelspec": {
            "display_name": "Python",
            "language": "python",
            "name": "python"
        },
        "language_info": {
            "name": "python"
        }
    },
    "cells": [
        {
            "id": "1cfcd951",
            "cell_type": "markdown",
            "source": "<div class='alert alert-warning'>\n\nNumPy's interactive examples are experimental and may not always work as expected, with high load times especially on low-resource platforms, and the version of NumPy might not be in sync with the one you are browsing the documentation for. If you encounter any issues, please report them on the [NumPy issue tracker](https://github.com/numpy/numpy/issues).\n\n</div>",
            "metadata": {}
        },
        {
            "id": "2789a499",
            "cell_type": "markdown",
            "source": "Create an array with two fields, ``x`` and ``y``:\n",
            "metadata": {}
        },
        {
            "id": "6d2e4057",
            "cell_type": "code",
            "metadata": {},
            "execution_count": null,
            "source": "import numpy as np\nx = np.array([(1.0, 2), (3.0, 4)], dtype=[('x', '<f8'), ('y', '<i8')])\nx",
            "outputs": [
                {
                    "output_type": "execute_result",
                    "metadata": {},
                    "data": {
                        "text/plain": "array([(1., 2), (3., 4)], dtype=[('x', '<f8'), ('y', '<i8')])"
                    },
                    "execution_count": null
                }
            ]
        },
        {
            "id": "d7b3ca3c",
            "cell_type": "code",
            "metadata": {},
            "execution_count": null,
            "source": "x['x']",
            "outputs": [
                {
                    "output_type": "execute_result",
                    "metadata": {},
                    "data": {
                        "text/plain": "array([1., 3.])"
                    },
                    "execution_count": null
                }
            ]
        },
        {
            "id": "2a35d3b8",
            "cell_type": "markdown",
            "source": "View the array as a record array:\n",
            "metadata": {}
        },
        {
            "id": "57741c3e",
            "cell_type": "code",
            "metadata": {},
            "execution_count": null,
            "source": "x = x.view(np.recarray)",
            "outputs": []
        },
        {
            "id": "7bdae609",
            "cell_type": "code",
            "metadata": {},
            "execution_count": null,
            "source": "x.x",
            "outputs": [
                {
                    "output_type": "execute_result",
                    "metadata": {},
                    "data": {
                        "text/plain": "array([1., 3.])"
                    },
                    "execution_count": null
                }
            ]
        },
        {
            "id": "105f9c3b",
            "cell_type": "code",
            "metadata": {},
            "execution_count": null,
            "source": "x.y",
            "outputs": [
                {
                    "output_type": "execute_result",
                    "metadata": {},
                    "data": {
                        "text/plain": "array([2, 4])"
                    },
                    "execution_count": null
                }
            ]
        },
        {
            "id": "54a462b9",
            "cell_type": "markdown",
            "source": "Create a new, empty record array:\n",
            "metadata": {}
        },
        {
            "id": "aa5d0857",
            "cell_type": "code",
            "metadata": {},
            "execution_count": null,
            "source": "np.recarray((2,),\ndtype=[('x', int), ('y', float), ('z', int)]) #doctest: +SKIP",
            "outputs": [
                {
                    "output_type": "execute_result",
                    "metadata": {},
                    "data": {
                        "text/plain": "rec.array([(-1073741821, 1.2249118382103472e-301, 24547520),\n       (3471280, 1.2134086255804012e-316, 0)],\n      dtype=[('x', '<i4'), ('y', '<f8'), ('z', '<i4')])"
                    },
                    "execution_count": null
                }
            ]
        }
    ]
}