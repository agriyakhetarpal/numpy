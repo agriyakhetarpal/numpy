{
    "nbformat": 4,
    "nbformat_minor": 5,
    "metadata": {
        "kernelspec": {
            "display_name": "Python",
            "language": "python",
            "name": "python"
        },
        "language_info": {
            "name": "python"
        }
    },
    "cells": [
        {
            "id": "ceba2d41",
            "cell_type": "markdown",
            "source": "<div class='alert alert-warning'>\n\nNumPy's interactive examples are experimental and may not always work as expected, with high load times especially on low-resource platforms, and the version of NumPy might not be in sync with the one you are browsing the documentation for. If you encounter any issues, please report them on the [NumPy issue tracker](https://github.com/numpy/numpy/issues).\n\n</div>",
            "metadata": {}
        },
        {
            "id": "b2c1281f",
            "cell_type": "code",
            "metadata": {},
            "execution_count": null,
            "source": "import numpy as np\na = np.zeros((3, 3), int)\nnp.fill_diagonal(a, 5)\na",
            "outputs": [
                {
                    "output_type": "execute_result",
                    "metadata": {},
                    "data": {
                        "text/plain": "array([[5, 0, 0],\n       [0, 5, 0],\n       [0, 0, 5]])"
                    },
                    "execution_count": null
                }
            ]
        },
        {
            "id": "231b2a43",
            "cell_type": "markdown",
            "source": "The same function can operate on a 4-D array:\n",
            "metadata": {}
        },
        {
            "id": "490b47ca",
            "cell_type": "code",
            "metadata": {},
            "execution_count": null,
            "source": "a = np.zeros((3, 3, 3, 3), int)\nnp.fill_diagonal(a, 4)",
            "outputs": []
        },
        {
            "id": "215fdf4c",
            "cell_type": "markdown",
            "source": "We only show a few blocks for clarity:\n",
            "metadata": {}
        },
        {
            "id": "ebd51017",
            "cell_type": "code",
            "metadata": {},
            "execution_count": null,
            "source": "a[0, 0]",
            "outputs": [
                {
                    "output_type": "execute_result",
                    "metadata": {},
                    "data": {
                        "text/plain": "array([[4, 0, 0],\n       [0, 0, 0],\n       [0, 0, 0]])"
                    },
                    "execution_count": null
                }
            ]
        },
        {
            "id": "aa2e14bc",
            "cell_type": "code",
            "metadata": {},
            "execution_count": null,
            "source": "a[1, 1]",
            "outputs": [
                {
                    "output_type": "execute_result",
                    "metadata": {},
                    "data": {
                        "text/plain": "array([[0, 0, 0],\n       [0, 4, 0],\n       [0, 0, 0]])"
                    },
                    "execution_count": null
                }
            ]
        },
        {
            "id": "0501cc8d",
            "cell_type": "code",
            "metadata": {},
            "execution_count": null,
            "source": "a[2, 2]",
            "outputs": [
                {
                    "output_type": "execute_result",
                    "metadata": {},
                    "data": {
                        "text/plain": "array([[0, 0, 0],\n       [0, 0, 0],\n       [0, 0, 4]])"
                    },
                    "execution_count": null
                }
            ]
        },
        {
            "id": "04067428",
            "cell_type": "markdown",
            "source": "The wrap option affects only tall matrices:\n",
            "metadata": {}
        },
        {
            "id": "fa104000",
            "cell_type": "code",
            "metadata": {},
            "execution_count": null,
            "source": "# tall matrices no wrap\na = np.zeros((5, 3), int)\nnp.fill_diagonal(a, 4)\na",
            "outputs": [
                {
                    "output_type": "execute_result",
                    "metadata": {},
                    "data": {
                        "text/plain": "array([[4, 0, 0],\n       [0, 4, 0],\n       [0, 0, 4],\n       [0, 0, 0],\n       [0, 0, 0]])"
                    },
                    "execution_count": null
                }
            ]
        },
        {
            "id": "76cdd5de",
            "cell_type": "code",
            "metadata": {},
            "execution_count": null,
            "source": "# tall matrices wrap\na = np.zeros((5, 3), int)\nnp.fill_diagonal(a, 4, wrap=True)\na",
            "outputs": [
                {
                    "output_type": "execute_result",
                    "metadata": {},
                    "data": {
                        "text/plain": "array([[4, 0, 0],\n       [0, 4, 0],\n       [0, 0, 4],\n       [0, 0, 0],\n       [4, 0, 0]])"
                    },
                    "execution_count": null
                }
            ]
        },
        {
            "id": "8b035fc0",
            "cell_type": "code",
            "metadata": {},
            "execution_count": null,
            "source": "# wide matrices\na = np.zeros((3, 5), int)\nnp.fill_diagonal(a, 4, wrap=True)\na",
            "outputs": [
                {
                    "output_type": "execute_result",
                    "metadata": {},
                    "data": {
                        "text/plain": "array([[4, 0, 0, 0, 0],\n       [0, 4, 0, 0, 0],\n       [0, 0, 4, 0, 0]])"
                    },
                    "execution_count": null
                }
            ]
        },
        {
            "id": "5de96795",
            "cell_type": "markdown",
            "source": "The anti-diagonal can be filled by reversing the order of elements\nusing either `numpy.flipud` or `numpy.fliplr`.\n",
            "metadata": {}
        },
        {
            "id": "9a461b30",
            "cell_type": "code",
            "metadata": {},
            "execution_count": null,
            "source": "a = np.zeros((3, 3), int);\nnp.fill_diagonal(np.fliplr(a), [1,2,3])  # Horizontal flip\na",
            "outputs": [
                {
                    "output_type": "execute_result",
                    "metadata": {},
                    "data": {
                        "text/plain": "array([[0, 0, 1],\n       [0, 2, 0],\n       [3, 0, 0]])"
                    },
                    "execution_count": null
                }
            ]
        },
        {
            "id": "a9664d67",
            "cell_type": "code",
            "metadata": {},
            "execution_count": null,
            "source": "np.fill_diagonal(np.flipud(a), [1,2,3])  # Vertical flip\na",
            "outputs": [
                {
                    "output_type": "execute_result",
                    "metadata": {},
                    "data": {
                        "text/plain": "array([[0, 0, 3],\n       [0, 2, 0],\n       [1, 0, 0]])"
                    },
                    "execution_count": null
                }
            ]
        },
        {
            "id": "9d4817e7",
            "cell_type": "markdown",
            "source": "Note that the order in which the diagonal is filled varies depending\non the flip function.",
            "metadata": {}
        }
    ]
}