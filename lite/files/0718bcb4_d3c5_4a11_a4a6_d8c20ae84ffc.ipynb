{
    "nbformat": 4,
    "nbformat_minor": 5,
    "metadata": {
        "kernelspec": {
            "display_name": "Python",
            "language": "python",
            "name": "python"
        },
        "language_info": {
            "name": "python"
        }
    },
    "cells": [
        {
            "id": "dc61b13f",
            "cell_type": "markdown",
            "source": "<div class='alert alert-warning'>\n\nNumPy's interactive examples are experimental and may not always work as expected, with high load times especially on low-resource platforms, and the version of NumPy might not be in sync with the one you are browsing the documentation for. If you encounter any issues, please report them on the [NumPy issue tracker](https://github.com/numpy/numpy/issues).\n\n</div>",
            "metadata": {}
        },
        {
            "id": "831269bf",
            "cell_type": "code",
            "metadata": {},
            "execution_count": null,
            "source": "c = np.matrix([[1], [2]])\nc",
            "outputs": [
                {
                    "output_type": "execute_result",
                    "metadata": {},
                    "data": {
                        "text/plain": "matrix([[1],\n        [2]])"
                    },
                    "execution_count": null
                }
            ]
        },
        {
            "id": "3de575f0",
            "cell_type": "code",
            "metadata": {},
            "execution_count": null,
            "source": "c.squeeze()",
            "outputs": [
                {
                    "output_type": "execute_result",
                    "metadata": {},
                    "data": {
                        "text/plain": "matrix([[1, 2]])"
                    },
                    "execution_count": null
                }
            ]
        },
        {
            "id": "3b1e94ea",
            "cell_type": "code",
            "metadata": {},
            "execution_count": null,
            "source": "r = c.T\nr",
            "outputs": [
                {
                    "output_type": "execute_result",
                    "metadata": {},
                    "data": {
                        "text/plain": "matrix([[1, 2]])"
                    },
                    "execution_count": null
                }
            ]
        },
        {
            "id": "b15700d4",
            "cell_type": "code",
            "metadata": {},
            "execution_count": null,
            "source": "r.squeeze()",
            "outputs": [
                {
                    "output_type": "execute_result",
                    "metadata": {},
                    "data": {
                        "text/plain": "matrix([[1, 2]])"
                    },
                    "execution_count": null
                }
            ]
        },
        {
            "id": "0fd63fc4",
            "cell_type": "code",
            "metadata": {},
            "execution_count": null,
            "source": "m = np.matrix([[1, 2], [3, 4]])\nm.squeeze()",
            "outputs": [
                {
                    "output_type": "execute_result",
                    "metadata": {},
                    "data": {
                        "text/plain": "matrix([[1, 2],\n        [3, 4]])"
                    },
                    "execution_count": null
                }
            ]
        }
    ]
}