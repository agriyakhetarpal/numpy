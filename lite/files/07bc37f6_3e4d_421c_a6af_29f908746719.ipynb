{
    "nbformat": 4,
    "nbformat_minor": 5,
    "metadata": {
        "kernelspec": {
            "display_name": "Python",
            "language": "python",
            "name": "python"
        },
        "language_info": {
            "name": "python"
        }
    },
    "cells": [
        {
            "id": "bd3bb078",
            "cell_type": "markdown",
            "source": "<div class='alert alert-warning'>\n\nNumPy's interactive examples are experimental and may not always work as expected, with high load times especially on low-resource platforms, and the version of NumPy might not be in sync with the one you are browsing the documentation for. If you encounter any issues, please report them on the [NumPy issue tracker](https://github.com/numpy/numpy/issues).\n\n</div>",
            "metadata": {}
        },
        {
            "id": "8e2c1e0c",
            "cell_type": "markdown",
            "source": "Make a (*very* coarse) grid for computing a Mandelbrot set:\n",
            "metadata": {}
        },
        {
            "id": "98c3e73c",
            "cell_type": "code",
            "metadata": {},
            "execution_count": null,
            "source": "rl = np.linalg.outer(np.ones((5,)), np.linspace(-2, 2, 5))\nrl",
            "outputs": [
                {
                    "output_type": "execute_result",
                    "metadata": {},
                    "data": {
                        "text/plain": "array([[-2., -1.,  0.,  1.,  2.],\n       [-2., -1.,  0.,  1.,  2.],\n       [-2., -1.,  0.,  1.,  2.],\n       [-2., -1.,  0.,  1.,  2.],\n       [-2., -1.,  0.,  1.,  2.]])"
                    },
                    "execution_count": null
                }
            ]
        },
        {
            "id": "7accbb2b",
            "cell_type": "code",
            "metadata": {},
            "execution_count": null,
            "source": "im = np.linalg.outer(1j*np.linspace(2, -2, 5), np.ones((5,)))\nim",
            "outputs": [
                {
                    "output_type": "execute_result",
                    "metadata": {},
                    "data": {
                        "text/plain": "array([[0.+2.j, 0.+2.j, 0.+2.j, 0.+2.j, 0.+2.j],\n       [0.+1.j, 0.+1.j, 0.+1.j, 0.+1.j, 0.+1.j],\n       [0.+0.j, 0.+0.j, 0.+0.j, 0.+0.j, 0.+0.j],\n       [0.-1.j, 0.-1.j, 0.-1.j, 0.-1.j, 0.-1.j],\n       [0.-2.j, 0.-2.j, 0.-2.j, 0.-2.j, 0.-2.j]])"
                    },
                    "execution_count": null
                }
            ]
        },
        {
            "id": "8179496a",
            "cell_type": "code",
            "metadata": {},
            "execution_count": null,
            "source": "grid = rl + im\ngrid",
            "outputs": [
                {
                    "output_type": "execute_result",
                    "metadata": {},
                    "data": {
                        "text/plain": "array([[-2.+2.j, -1.+2.j,  0.+2.j,  1.+2.j,  2.+2.j],\n       [-2.+1.j, -1.+1.j,  0.+1.j,  1.+1.j,  2.+1.j],\n       [-2.+0.j, -1.+0.j,  0.+0.j,  1.+0.j,  2.+0.j],\n       [-2.-1.j, -1.-1.j,  0.-1.j,  1.-1.j,  2.-1.j],\n       [-2.-2.j, -1.-2.j,  0.-2.j,  1.-2.j,  2.-2.j]])"
                    },
                    "execution_count": null
                }
            ]
        },
        {
            "id": "1390c30c",
            "cell_type": "markdown",
            "source": "An example using a \"vector\" of letters:\n",
            "metadata": {}
        },
        {
            "id": "fceb4b94",
            "cell_type": "code",
            "metadata": {},
            "execution_count": null,
            "source": "x = np.array(['a', 'b', 'c'], dtype=object)\nnp.linalg.outer(x, [1, 2, 3])",
            "outputs": [
                {
                    "output_type": "execute_result",
                    "metadata": {},
                    "data": {
                        "text/plain": "array([['a', 'aa', 'aaa'],\n       ['b', 'bb', 'bbb'],\n       ['c', 'cc', 'ccc']], dtype=object)"
                    },
                    "execution_count": null
                }
            ]
        }
    ]
}