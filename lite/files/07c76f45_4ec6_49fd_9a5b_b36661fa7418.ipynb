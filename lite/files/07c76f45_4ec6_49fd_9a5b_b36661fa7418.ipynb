{
    "nbformat": 4,
    "nbformat_minor": 5,
    "metadata": {
        "kernelspec": {
            "display_name": "Python",
            "language": "python",
            "name": "python"
        },
        "language_info": {
            "name": "python"
        }
    },
    "cells": [
        {
            "id": "7ec1d9ec",
            "cell_type": "markdown",
            "source": "<div class='alert alert-warning'>\n\nNumPy's interactive examples are experimental and may not always work as expected, with high load times especially on low-resource platforms, and the version of NumPy might not be in sync with the one you are browsing the documentation for. If you encounter any issues, please report them on the [NumPy issue tracker](https://github.com/numpy/numpy/issues).\n\n</div>",
            "metadata": {}
        },
        {
            "id": "5d3c5613",
            "cell_type": "markdown",
            "source": "The following example checks that ``a * a+ * a == a`` and\n``a+ * a * a+ == a+``:\n",
            "metadata": {}
        },
        {
            "id": "c9879226",
            "cell_type": "code",
            "metadata": {},
            "execution_count": null,
            "source": "import numpy as np\nrng = np.random.default_rng()\na = rng.normal(size=(9, 6))\nB = np.linalg.pinv(a)\nnp.allclose(a, np.dot(a, np.dot(B, a)))",
            "outputs": [
                {
                    "output_type": "execute_result",
                    "metadata": {},
                    "data": {
                        "text/plain": "True"
                    },
                    "execution_count": null
                }
            ]
        },
        {
            "id": "5f865447",
            "cell_type": "code",
            "metadata": {},
            "execution_count": null,
            "source": "np.allclose(B, np.dot(B, np.dot(a, B)))",
            "outputs": [
                {
                    "output_type": "execute_result",
                    "metadata": {},
                    "data": {
                        "text/plain": "True"
                    },
                    "execution_count": null
                }
            ]
        }
    ]
}