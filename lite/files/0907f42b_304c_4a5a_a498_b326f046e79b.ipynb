{
    "nbformat": 4,
    "nbformat_minor": 5,
    "metadata": {
        "kernelspec": {
            "display_name": "Python",
            "language": "python",
            "name": "python"
        },
        "language_info": {
            "name": "python"
        }
    },
    "cells": [
        {
            "id": "ee8e541a",
            "cell_type": "markdown",
            "source": "<div class='alert alert-warning'>\n\nNumPy's interactive examples are experimental and may not always work as expected, with high load times especially on low-resource platforms, and the version of NumPy might not be in sync with the one you are browsing the documentation for. If you encounter any issues, please report them on the [NumPy issue tracker](https://github.com/numpy/numpy/issues).\n\n</div>",
            "metadata": {}
        },
        {
            "id": "f6c718c0",
            "cell_type": "code",
            "metadata": {},
            "execution_count": null,
            "source": "import numpy as np\nnp.linspace(2.0, 3.0, num=5)",
            "outputs": [
                {
                    "output_type": "execute_result",
                    "metadata": {},
                    "data": {
                        "text/plain": "array([2.  , 2.25, 2.5 , 2.75, 3.  ])"
                    },
                    "execution_count": null
                }
            ]
        },
        {
            "id": "7927f536",
            "cell_type": "code",
            "metadata": {},
            "execution_count": null,
            "source": "np.linspace(2.0, 3.0, num=5, endpoint=False)",
            "outputs": [
                {
                    "output_type": "execute_result",
                    "metadata": {},
                    "data": {
                        "text/plain": "array([2. ,  2.2,  2.4,  2.6,  2.8])"
                    },
                    "execution_count": null
                }
            ]
        },
        {
            "id": "75ef9b31",
            "cell_type": "code",
            "metadata": {},
            "execution_count": null,
            "source": "np.linspace(2.0, 3.0, num=5, retstep=True)",
            "outputs": [
                {
                    "output_type": "execute_result",
                    "metadata": {},
                    "data": {
                        "text/plain": "(array([2.  ,  2.25,  2.5 ,  2.75,  3.  ]), 0.25)"
                    },
                    "execution_count": null
                }
            ]
        },
        {
            "id": "9253715e",
            "cell_type": "markdown",
            "source": "Graphical illustration:\n",
            "metadata": {}
        },
        {
            "id": "f7c459ee",
            "cell_type": "code",
            "metadata": {},
            "execution_count": null,
            "source": "import matplotlib.pyplot as plt\nN = 8\ny = np.zeros(N)\nx1 = np.linspace(0, 10, N, endpoint=True)\nx2 = np.linspace(0, 10, N, endpoint=False)\nplt.plot(x1, y, 'o')",
            "outputs": [
                {
                    "output_type": "execute_result",
                    "metadata": {},
                    "data": {
                        "text/plain": "[<matplotlib.lines.Line2D object at 0x...>]"
                    },
                    "execution_count": null
                }
            ]
        },
        {
            "id": "0a5853e7",
            "cell_type": "code",
            "metadata": {},
            "execution_count": null,
            "source": "plt.plot(x2, y + 0.5, 'o')",
            "outputs": [
                {
                    "output_type": "execute_result",
                    "metadata": {},
                    "data": {
                        "text/plain": "[<matplotlib.lines.Line2D object at 0x...>]"
                    },
                    "execution_count": null
                }
            ]
        },
        {
            "id": "f8c98265",
            "cell_type": "code",
            "metadata": {},
            "execution_count": null,
            "source": "plt.ylim([-0.5, 1])",
            "outputs": [
                {
                    "output_type": "execute_result",
                    "metadata": {},
                    "data": {
                        "text/plain": "(-0.5, 1)"
                    },
                    "execution_count": null
                }
            ]
        },
        {
            "id": "adde0f89",
            "cell_type": "code",
            "metadata": {},
            "execution_count": null,
            "source": "plt.show()",
            "outputs": []
        }
    ]
}