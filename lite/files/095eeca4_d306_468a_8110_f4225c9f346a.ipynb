{
    "nbformat": 4,
    "nbformat_minor": 5,
    "metadata": {
        "kernelspec": {
            "display_name": "Python",
            "language": "python",
            "name": "python"
        },
        "language_info": {
            "name": "python"
        }
    },
    "cells": [
        {
            "id": "3403062a",
            "cell_type": "markdown",
            "source": "<div class='alert alert-warning'>\n\nNumPy's interactive examples are experimental and may not always work as expected, with high load times especially on low-resource platforms, and the version of NumPy might not be in sync with the one you are browsing the documentation for. If you encounter any issues, please report them on the [NumPy issue tracker](https://github.com/numpy/numpy/issues).\n\n</div>",
            "metadata": {}
        },
        {
            "id": "7c0ee85c",
            "cell_type": "code",
            "metadata": {},
            "execution_count": null,
            "source": "import numpy as np",
            "outputs": []
        },
        {
            "id": "b06987bb",
            "cell_type": "markdown",
            "source": "Dimensions as individual arguments\n",
            "metadata": {}
        },
        {
            "id": "0096fd0f",
            "cell_type": "code",
            "metadata": {},
            "execution_count": null,
            "source": "for index in np.ndindex(3, 2, 1):\n    print(index)",
            "outputs": [
                {
                    "output_type": "execute_result",
                    "metadata": {},
                    "data": {
                        "text/plain": "(0, 0, 0)\n(0, 1, 0)\n(1, 0, 0)\n(1, 1, 0)\n(2, 0, 0)\n(2, 1, 0)"
                    },
                    "execution_count": null
                }
            ]
        },
        {
            "id": "18f29b06",
            "cell_type": "markdown",
            "source": "Same dimensions - but in a tuple ``(3, 2, 1)``\n",
            "metadata": {}
        },
        {
            "id": "39ec0090",
            "cell_type": "code",
            "metadata": {},
            "execution_count": null,
            "source": "for index in np.ndindex((3, 2, 1)):\n    print(index)",
            "outputs": [
                {
                    "output_type": "execute_result",
                    "metadata": {},
                    "data": {
                        "text/plain": "(0, 0, 0)\n(0, 1, 0)\n(1, 0, 0)\n(1, 1, 0)\n(2, 0, 0)\n(2, 1, 0)"
                    },
                    "execution_count": null
                }
            ]
        }
    ]
}