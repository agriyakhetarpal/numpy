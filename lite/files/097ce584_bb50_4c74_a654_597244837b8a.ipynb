{
    "nbformat": 4,
    "nbformat_minor": 5,
    "metadata": {
        "kernelspec": {
            "display_name": "Python",
            "language": "python",
            "name": "python"
        },
        "language_info": {
            "name": "python"
        }
    },
    "cells": [
        {
            "id": "341dc29f",
            "cell_type": "markdown",
            "source": "<div class='alert alert-warning'>\n\nNumPy's interactive examples are experimental and may not always work as expected, with high load times especially on low-resource platforms, , and the version of NumPy might not be in sync with the one you are browsing the documentation for. If you encounter any issues, please report them on the [NumPy issue tracker](https://github.com/numpy/numpy/issues).\n\n</div>",
            "metadata": {}
        },
        {
            "id": "fe3c5aa0",
            "cell_type": "code",
            "metadata": {},
            "execution_count": null,
            "source": "import numpy as np\nx = np.ma.array([[1,2,3],[4,5,6],[7,8,9]], mask=[0] + [1,0]*4)\nx",
            "outputs": [
                {
                    "output_type": "execute_result",
                    "metadata": {},
                    "data": {
                        "text/plain": "masked_array(\n  data=[[1, --, 3],\n        [--, 5, --],\n        [7, --, 9]],\n  mask=[[False,  True, False],\n        [ True, False,  True],\n        [False,  True, False]],\n  fill_value=999999)"
                    },
                    "execution_count": null
                }
            ]
        },
        {
            "id": "77713ae1",
            "cell_type": "code",
            "metadata": {},
            "execution_count": null,
            "source": "x.sum()",
            "outputs": [
                {
                    "output_type": "execute_result",
                    "metadata": {},
                    "data": {
                        "text/plain": "25"
                    },
                    "execution_count": null
                }
            ]
        },
        {
            "id": "aad977fa",
            "cell_type": "code",
            "metadata": {},
            "execution_count": null,
            "source": "x.sum(axis=1)",
            "outputs": [
                {
                    "output_type": "execute_result",
                    "metadata": {},
                    "data": {
                        "text/plain": "masked_array(data=[4, 5, 16],\n             mask=[False, False, False],\n       fill_value=999999)"
                    },
                    "execution_count": null
                }
            ]
        },
        {
            "id": "b4c2ef4f",
            "cell_type": "code",
            "metadata": {},
            "execution_count": null,
            "source": "x.sum(axis=0)",
            "outputs": [
                {
                    "output_type": "execute_result",
                    "metadata": {},
                    "data": {
                        "text/plain": "masked_array(data=[8, 5, 12],\n             mask=[False, False, False],\n       fill_value=999999)"
                    },
                    "execution_count": null
                }
            ]
        },
        {
            "id": "86714f05",
            "cell_type": "code",
            "metadata": {},
            "execution_count": null,
            "source": "print(type(x.sum(axis=0, dtype=np.int64)[0]))",
            "outputs": [
                {
                    "output_type": "execute_result",
                    "metadata": {},
                    "data": {
                        "text/plain": "<class 'numpy.int64'>"
                    },
                    "execution_count": null
                }
            ]
        }
    ]
}