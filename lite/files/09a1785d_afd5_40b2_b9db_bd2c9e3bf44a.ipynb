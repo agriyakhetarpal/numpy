{
    "nbformat": 4,
    "nbformat_minor": 5,
    "metadata": {
        "kernelspec": {
            "display_name": "Python",
            "language": "python",
            "name": "python"
        },
        "language_info": {
            "name": "python"
        }
    },
    "cells": [
        {
            "id": "1ad87194",
            "cell_type": "markdown",
            "source": "<div class='alert alert-warning'>\n\nNumPy's interactive examples are experimental and may not always work as expected, with high load times especially on low-resource platforms, , and the version of NumPy might not be in sync with the one you are browsing the documentation for. If you encounter any issues, please report them on the [NumPy issue tracker](https://github.com/numpy/numpy/issues).\n\n</div>",
            "metadata": {}
        },
        {
            "id": "d712adf4",
            "cell_type": "markdown",
            "source": "For real, non-negative inputs this works just like `numpy.sqrt`:\n",
            "metadata": {}
        },
        {
            "id": "53a3300d",
            "cell_type": "code",
            "metadata": {},
            "execution_count": null,
            "source": "import numpy as np",
            "outputs": []
        },
        {
            "id": "e70566df",
            "cell_type": "code",
            "metadata": {},
            "execution_count": null,
            "source": "np.emath.sqrt(1)",
            "outputs": [
                {
                    "output_type": "execute_result",
                    "metadata": {},
                    "data": {
                        "text/plain": "1.0"
                    },
                    "execution_count": null
                }
            ]
        },
        {
            "id": "71892111",
            "cell_type": "code",
            "metadata": {},
            "execution_count": null,
            "source": "np.emath.sqrt([1, 4])",
            "outputs": [
                {
                    "output_type": "execute_result",
                    "metadata": {},
                    "data": {
                        "text/plain": "array([1.,  2.])"
                    },
                    "execution_count": null
                }
            ]
        },
        {
            "id": "9c95997e",
            "cell_type": "markdown",
            "source": "But it automatically handles negative inputs:\n",
            "metadata": {}
        },
        {
            "id": "8cbf838e",
            "cell_type": "code",
            "metadata": {},
            "execution_count": null,
            "source": "np.emath.sqrt(-1)",
            "outputs": [
                {
                    "output_type": "execute_result",
                    "metadata": {},
                    "data": {
                        "text/plain": "1j"
                    },
                    "execution_count": null
                }
            ]
        },
        {
            "id": "f3a2cdbd",
            "cell_type": "code",
            "metadata": {},
            "execution_count": null,
            "source": "np.emath.sqrt([-1,4])",
            "outputs": [
                {
                    "output_type": "execute_result",
                    "metadata": {},
                    "data": {
                        "text/plain": "array([0.+1.j, 2.+0.j])"
                    },
                    "execution_count": null
                }
            ]
        },
        {
            "id": "7dbc1237",
            "cell_type": "markdown",
            "source": "Different results are expected because:\nfloating point 0.0 and -0.0 are distinct.\n\nFor more control, explicitly use complex() as follows:\n",
            "metadata": {}
        },
        {
            "id": "621a8031",
            "cell_type": "code",
            "metadata": {},
            "execution_count": null,
            "source": "np.emath.sqrt(complex(-4.0, 0.0))",
            "outputs": [
                {
                    "output_type": "execute_result",
                    "metadata": {},
                    "data": {
                        "text/plain": "2j"
                    },
                    "execution_count": null
                }
            ]
        },
        {
            "id": "015ad01f",
            "cell_type": "code",
            "metadata": {},
            "execution_count": null,
            "source": "np.emath.sqrt(complex(-4.0, -0.0))",
            "outputs": [
                {
                    "output_type": "execute_result",
                    "metadata": {},
                    "data": {
                        "text/plain": "-2j"
                    },
                    "execution_count": null
                }
            ]
        }
    ]
}