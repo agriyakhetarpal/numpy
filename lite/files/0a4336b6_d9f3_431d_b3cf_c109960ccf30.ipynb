{
    "nbformat": 4,
    "nbformat_minor": 5,
    "metadata": {
        "kernelspec": {
            "display_name": "Python",
            "language": "python",
            "name": "python"
        },
        "language_info": {
            "name": "python"
        }
    },
    "cells": [
        {
            "id": "f8b266a1",
            "cell_type": "markdown",
            "source": "<div class='alert alert-warning'>\n\nNumPy's interactive examples are experimental and may not always work as expected, with high load times especially on low-resource platforms, and the version of NumPy might not be in sync with the one you are browsing the documentation for. If you encounter any issues, please report them on the [NumPy issue tracker](https://github.com/numpy/numpy/issues).\n\n</div>",
            "metadata": {}
        },
        {
            "id": "2e5add6f",
            "cell_type": "markdown",
            "source": "For a 1D array, ``a.tolist()`` is almost the same as ``list(a)``,\nexcept that ``tolist`` changes numpy scalars to Python scalars:\n",
            "metadata": {}
        },
        {
            "id": "b24a187b",
            "cell_type": "code",
            "metadata": {},
            "execution_count": null,
            "source": "import numpy as np\na = np.uint32([1, 2])\na_list = list(a)\na_list",
            "outputs": [
                {
                    "output_type": "execute_result",
                    "metadata": {},
                    "data": {
                        "text/plain": "[np.uint32(1), np.uint32(2)]"
                    },
                    "execution_count": null
                }
            ]
        },
        {
            "id": "668097e1",
            "cell_type": "code",
            "metadata": {},
            "execution_count": null,
            "source": "type(a_list[0])",
            "outputs": [
                {
                    "output_type": "execute_result",
                    "metadata": {},
                    "data": {
                        "text/plain": "<class 'numpy.uint32'>"
                    },
                    "execution_count": null
                }
            ]
        },
        {
            "id": "e909d04b",
            "cell_type": "code",
            "metadata": {},
            "execution_count": null,
            "source": "a_tolist = a.tolist()\na_tolist",
            "outputs": [
                {
                    "output_type": "execute_result",
                    "metadata": {},
                    "data": {
                        "text/plain": "[1, 2]"
                    },
                    "execution_count": null
                }
            ]
        },
        {
            "id": "f065e8eb",
            "cell_type": "code",
            "metadata": {},
            "execution_count": null,
            "source": "type(a_tolist[0])",
            "outputs": [
                {
                    "output_type": "execute_result",
                    "metadata": {},
                    "data": {
                        "text/plain": "<class 'int'>"
                    },
                    "execution_count": null
                }
            ]
        },
        {
            "id": "e4c6a3bd",
            "cell_type": "markdown",
            "source": "Additionally, for a 2D array, ``tolist`` applies recursively:\n",
            "metadata": {}
        },
        {
            "id": "d462ab64",
            "cell_type": "code",
            "metadata": {},
            "execution_count": null,
            "source": "a = np.array([[1, 2], [3, 4]])\nlist(a)",
            "outputs": [
                {
                    "output_type": "execute_result",
                    "metadata": {},
                    "data": {
                        "text/plain": "[array([1, 2]), array([3, 4])]"
                    },
                    "execution_count": null
                }
            ]
        },
        {
            "id": "22e490ca",
            "cell_type": "code",
            "metadata": {},
            "execution_count": null,
            "source": "a.tolist()",
            "outputs": [
                {
                    "output_type": "execute_result",
                    "metadata": {},
                    "data": {
                        "text/plain": "[[1, 2], [3, 4]]"
                    },
                    "execution_count": null
                }
            ]
        },
        {
            "id": "174db373",
            "cell_type": "markdown",
            "source": "The base case for this recursion is a 0D array:\n",
            "metadata": {}
        },
        {
            "id": "d9b735dc",
            "cell_type": "code",
            "metadata": {},
            "execution_count": null,
            "source": "a = np.array(1)\nlist(a)",
            "outputs": [
                {
                    "output_type": "execute_result",
                    "metadata": {},
                    "data": {
                        "text/plain": "Traceback (most recent call last):\n  ...\nTypeError: iteration over a 0-d array"
                    },
                    "execution_count": null
                }
            ]
        },
        {
            "id": "94e896df",
            "cell_type": "code",
            "metadata": {},
            "execution_count": null,
            "source": "a.tolist()",
            "outputs": [
                {
                    "output_type": "execute_result",
                    "metadata": {},
                    "data": {
                        "text/plain": "1"
                    },
                    "execution_count": null
                }
            ]
        }
    ]
}