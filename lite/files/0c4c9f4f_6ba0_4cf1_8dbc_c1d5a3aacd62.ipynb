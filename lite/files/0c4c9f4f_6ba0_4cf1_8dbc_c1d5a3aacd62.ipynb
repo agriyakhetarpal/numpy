{
    "nbformat": 4,
    "nbformat_minor": 5,
    "metadata": {
        "kernelspec": {
            "display_name": "Python",
            "language": "python",
            "name": "python"
        },
        "language_info": {
            "name": "python"
        }
    },
    "cells": [
        {
            "id": "f813b6b8",
            "cell_type": "markdown",
            "source": "<div class='alert alert-warning'>\n\nNumPy's interactive examples are experimental and may not always work as expected, with high load times especially on low-resource platforms, and the version of NumPy might not be in sync with the one you are browsing the documentation for. If you encounter any issues, please report them on the [NumPy issue tracker](https://github.com/numpy/numpy/issues).\n\n</div>",
            "metadata": {}
        },
        {
            "id": "6243d6f3",
            "cell_type": "code",
            "metadata": {},
            "execution_count": null,
            "source": "import numpy as np\nsignal = np.array([1, 2, 3, 4, 3, 2])\nnp.fft.fft(signal)",
            "outputs": [
                {
                    "output_type": "execute_result",
                    "metadata": {},
                    "data": {
                        "text/plain": "array([15.+0.j,  -4.+0.j,   0.+0.j,  -1.-0.j,   0.+0.j,  -4.+0.j]) # may vary"
                    },
                    "execution_count": null
                }
            ]
        },
        {
            "id": "2b42a331",
            "cell_type": "code",
            "metadata": {},
            "execution_count": null,
            "source": "np.fft.hfft(signal[:4]) # Input first half of signal",
            "outputs": [
                {
                    "output_type": "execute_result",
                    "metadata": {},
                    "data": {
                        "text/plain": "array([15.,  -4.,   0.,  -1.,   0.,  -4.])"
                    },
                    "execution_count": null
                }
            ]
        },
        {
            "id": "ddeaf8f7",
            "cell_type": "code",
            "metadata": {},
            "execution_count": null,
            "source": "np.fft.hfft(signal, 6)  # Input entire signal and truncate",
            "outputs": [
                {
                    "output_type": "execute_result",
                    "metadata": {},
                    "data": {
                        "text/plain": "array([15.,  -4.,   0.,  -1.,   0.,  -4.])"
                    },
                    "execution_count": null
                }
            ]
        },
        {
            "id": "2cd065c8",
            "cell_type": "code",
            "metadata": {},
            "execution_count": null,
            "source": "signal = np.array([[1, 1.j], [-1.j, 2]])\nnp.conj(signal.T) - signal   # check Hermitian symmetry",
            "outputs": [
                {
                    "output_type": "execute_result",
                    "metadata": {},
                    "data": {
                        "text/plain": "array([[ 0.-0.j,  -0.+0.j], # may vary\n       [ 0.+0.j,  0.-0.j]])"
                    },
                    "execution_count": null
                }
            ]
        },
        {
            "id": "385b3d6e",
            "cell_type": "code",
            "metadata": {},
            "execution_count": null,
            "source": "freq_spectrum = np.fft.hfft(signal)\nfreq_spectrum",
            "outputs": [
                {
                    "output_type": "execute_result",
                    "metadata": {},
                    "data": {
                        "text/plain": "array([[ 1.,  1.],\n       [ 2., -2.]])"
                    },
                    "execution_count": null
                }
            ]
        }
    ]
}