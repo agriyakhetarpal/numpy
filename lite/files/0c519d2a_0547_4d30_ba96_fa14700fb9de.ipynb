{
    "nbformat": 4,
    "nbformat_minor": 5,
    "metadata": {
        "kernelspec": {
            "display_name": "Python",
            "language": "python",
            "name": "python"
        },
        "language_info": {
            "name": "python"
        }
    },
    "cells": [
        {
            "id": "c74f80d4",
            "cell_type": "markdown",
            "source": "<div class='alert alert-warning'>\n\nNumPy's interactive examples are experimental and may not always work as expected, with high load times especially on low-resource platforms, and the version of NumPy might not be in sync with the one you are browsing the documentation for. If you encounter any issues, please report them on the [NumPy issue tracker](https://github.com/numpy/numpy/issues).\n\n</div>",
            "metadata": {}
        },
        {
            "id": "08aa2dd3",
            "cell_type": "code",
            "metadata": {},
            "execution_count": null,
            "source": "import numpy as np\nx = np.array([1, 2, 3, 4])\nx.shape",
            "outputs": [
                {
                    "output_type": "execute_result",
                    "metadata": {},
                    "data": {
                        "text/plain": "(4,)"
                    },
                    "execution_count": null
                }
            ]
        },
        {
            "id": "bbea2e1b",
            "cell_type": "code",
            "metadata": {},
            "execution_count": null,
            "source": "y = np.zeros((2, 3, 4))\ny.shape",
            "outputs": [
                {
                    "output_type": "execute_result",
                    "metadata": {},
                    "data": {
                        "text/plain": "(2, 3, 4)"
                    },
                    "execution_count": null
                }
            ]
        },
        {
            "id": "dc34d150",
            "cell_type": "code",
            "metadata": {},
            "execution_count": null,
            "source": "y.shape = (3, 8)\ny",
            "outputs": [
                {
                    "output_type": "execute_result",
                    "metadata": {},
                    "data": {
                        "text/plain": "array([[ 0.,  0.,  0.,  0.,  0.,  0.,  0.,  0.],\n       [ 0.,  0.,  0.,  0.,  0.,  0.,  0.,  0.],\n       [ 0.,  0.,  0.,  0.,  0.,  0.,  0.,  0.]])"
                    },
                    "execution_count": null
                }
            ]
        },
        {
            "id": "066d68b8",
            "cell_type": "code",
            "metadata": {},
            "execution_count": null,
            "source": "y.shape = (3, 6)",
            "outputs": [
                {
                    "output_type": "execute_result",
                    "metadata": {},
                    "data": {
                        "text/plain": "Traceback (most recent call last):\n  File \"<stdin>\", line 1, in <module>\nValueError: total size of new array must be unchanged"
                    },
                    "execution_count": null
                }
            ]
        },
        {
            "id": "d1bdaf78",
            "cell_type": "code",
            "metadata": {},
            "execution_count": null,
            "source": "np.zeros((4,2))[::2].shape = (-1,)",
            "outputs": [
                {
                    "output_type": "execute_result",
                    "metadata": {},
                    "data": {
                        "text/plain": "Traceback (most recent call last):\n  File \"<stdin>\", line 1, in <module>\nAttributeError: Incompatible shape for in-place modification. Use\n`.reshape()` to make a copy with the desired shape."
                    },
                    "execution_count": null
                }
            ]
        }
    ]
}