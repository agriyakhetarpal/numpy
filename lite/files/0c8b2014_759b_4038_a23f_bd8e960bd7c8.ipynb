{
    "nbformat": 4,
    "nbformat_minor": 5,
    "metadata": {
        "kernelspec": {
            "display_name": "Python",
            "language": "python",
            "name": "python"
        },
        "language_info": {
            "name": "python"
        }
    },
    "cells": [
        {
            "id": "f10a0585",
            "cell_type": "markdown",
            "source": "<div class='alert alert-warning'>\n\nNumPy's interactive examples are experimental and may not always work as expected, with high load times especially on low-resource platforms, and the version of NumPy might not be in sync with the one you are browsing the documentation for. If you encounter any issues, please report them on the [NumPy issue tracker](https://github.com/numpy/numpy/issues).\n\n</div>",
            "metadata": {}
        },
        {
            "id": "591f5607",
            "cell_type": "code",
            "metadata": {},
            "execution_count": null,
            "source": "import numpy as np",
            "outputs": []
        },
        {
            "id": "2d0396fd",
            "cell_type": "markdown",
            "source": "We've seen that 13 is represented by ``00001101``.\nThe invert or bit-wise NOT of 13 is then:\n",
            "metadata": {}
        },
        {
            "id": "53d2cbe2",
            "cell_type": "code",
            "metadata": {},
            "execution_count": null,
            "source": "x = np.invert(np.array(13, dtype=np.uint8))\nx",
            "outputs": [
                {
                    "output_type": "execute_result",
                    "metadata": {},
                    "data": {
                        "text/plain": "np.uint8(242)"
                    },
                    "execution_count": null
                }
            ]
        },
        {
            "id": "bda0bda9",
            "cell_type": "code",
            "metadata": {},
            "execution_count": null,
            "source": "np.binary_repr(x, width=8)",
            "outputs": [
                {
                    "output_type": "execute_result",
                    "metadata": {},
                    "data": {
                        "text/plain": "'11110010'"
                    },
                    "execution_count": null
                }
            ]
        },
        {
            "id": "0d1c5b74",
            "cell_type": "markdown",
            "source": "The result depends on the bit-width:\n",
            "metadata": {}
        },
        {
            "id": "982d6005",
            "cell_type": "code",
            "metadata": {},
            "execution_count": null,
            "source": "x = np.invert(np.array(13, dtype=np.uint16))\nx",
            "outputs": [
                {
                    "output_type": "execute_result",
                    "metadata": {},
                    "data": {
                        "text/plain": "np.uint16(65522)"
                    },
                    "execution_count": null
                }
            ]
        },
        {
            "id": "601dfd1f",
            "cell_type": "code",
            "metadata": {},
            "execution_count": null,
            "source": "np.binary_repr(x, width=16)",
            "outputs": [
                {
                    "output_type": "execute_result",
                    "metadata": {},
                    "data": {
                        "text/plain": "'1111111111110010'"
                    },
                    "execution_count": null
                }
            ]
        },
        {
            "id": "3c159b16",
            "cell_type": "markdown",
            "source": "When using signed integer types, the result is the bit-wise NOT of\nthe unsigned type, interpreted as a signed integer:\n",
            "metadata": {}
        },
        {
            "id": "538ae2b4",
            "cell_type": "code",
            "metadata": {},
            "execution_count": null,
            "source": "np.invert(np.array([13], dtype=np.int8))",
            "outputs": [
                {
                    "output_type": "execute_result",
                    "metadata": {},
                    "data": {
                        "text/plain": "array([-14], dtype=int8)"
                    },
                    "execution_count": null
                }
            ]
        },
        {
            "id": "8d38fc7b",
            "cell_type": "code",
            "metadata": {},
            "execution_count": null,
            "source": "np.binary_repr(-14, width=8)",
            "outputs": [
                {
                    "output_type": "execute_result",
                    "metadata": {},
                    "data": {
                        "text/plain": "'11110010'"
                    },
                    "execution_count": null
                }
            ]
        },
        {
            "id": "1bf61cbf",
            "cell_type": "markdown",
            "source": "Booleans are accepted as well:\n",
            "metadata": {}
        },
        {
            "id": "9bea480f",
            "cell_type": "code",
            "metadata": {},
            "execution_count": null,
            "source": "np.invert(np.array([True, False]))",
            "outputs": [
                {
                    "output_type": "execute_result",
                    "metadata": {},
                    "data": {
                        "text/plain": "array([False,  True])"
                    },
                    "execution_count": null
                }
            ]
        },
        {
            "id": "1b1e7a4f",
            "cell_type": "markdown",
            "source": "The ``~`` operator can be used as a shorthand for ``np.invert`` on\nndarrays.\n",
            "metadata": {}
        },
        {
            "id": "32992860",
            "cell_type": "code",
            "metadata": {},
            "execution_count": null,
            "source": "x1 = np.array([True, False])\n~x1",
            "outputs": [
                {
                    "output_type": "execute_result",
                    "metadata": {},
                    "data": {
                        "text/plain": "array([False,  True])"
                    },
                    "execution_count": null
                }
            ]
        }
    ]
}