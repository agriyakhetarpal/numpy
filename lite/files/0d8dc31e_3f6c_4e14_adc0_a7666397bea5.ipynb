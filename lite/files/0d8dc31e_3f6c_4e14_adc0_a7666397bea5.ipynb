{
    "nbformat": 4,
    "nbformat_minor": 5,
    "metadata": {
        "kernelspec": {
            "display_name": "Python",
            "language": "python",
            "name": "python"
        },
        "language_info": {
            "name": "python"
        }
    },
    "cells": [
        {
            "id": "06d6f508",
            "cell_type": "markdown",
            "source": "<div class='alert alert-warning'>\n\nNumPy's interactive examples are experimental and may not always work as expected, with high load times especially on low-resource platforms, and the version of NumPy might not be in sync with the one you are browsing the documentation for. If you encounter any issues, please report them on the [NumPy issue tracker](https://github.com/numpy/numpy/issues).\n\n</div>",
            "metadata": {}
        },
        {
            "id": "2f6b4ca4",
            "cell_type": "code",
            "metadata": {},
            "execution_count": null,
            "source": "import numpy as np\na = np.array([1, 2])\na.fill(0)\na",
            "outputs": [
                {
                    "output_type": "execute_result",
                    "metadata": {},
                    "data": {
                        "text/plain": "array([0, 0])"
                    },
                    "execution_count": null
                }
            ]
        },
        {
            "id": "1f22105c",
            "cell_type": "code",
            "metadata": {},
            "execution_count": null,
            "source": "a = np.empty(2)\na.fill(1)\na",
            "outputs": [
                {
                    "output_type": "execute_result",
                    "metadata": {},
                    "data": {
                        "text/plain": "array([1.,  1.])"
                    },
                    "execution_count": null
                }
            ]
        },
        {
            "id": "e5fb84ec",
            "cell_type": "markdown",
            "source": "Fill expects a scalar value and always behaves the same as assigning\nto a single array element.  The following is a rare example where this\ndistinction is important:\n",
            "metadata": {}
        },
        {
            "id": "70d3cd23",
            "cell_type": "code",
            "metadata": {},
            "execution_count": null,
            "source": "a = np.array([None, None], dtype=object)\na[0] = np.array(3)\na",
            "outputs": [
                {
                    "output_type": "execute_result",
                    "metadata": {},
                    "data": {
                        "text/plain": "array([array(3), None], dtype=object)"
                    },
                    "execution_count": null
                }
            ]
        },
        {
            "id": "199e158a",
            "cell_type": "code",
            "metadata": {},
            "execution_count": null,
            "source": "a.fill(np.array(3))\na",
            "outputs": [
                {
                    "output_type": "execute_result",
                    "metadata": {},
                    "data": {
                        "text/plain": "array([array(3), array(3)], dtype=object)"
                    },
                    "execution_count": null
                }
            ]
        },
        {
            "id": "2b716be3",
            "cell_type": "markdown",
            "source": "Where other forms of assignments will unpack the array being assigned:\n",
            "metadata": {}
        },
        {
            "id": "4f340f73",
            "cell_type": "code",
            "metadata": {},
            "execution_count": null,
            "source": "a[...] = np.array(3)\na",
            "outputs": [
                {
                    "output_type": "execute_result",
                    "metadata": {},
                    "data": {
                        "text/plain": "array([3, 3], dtype=object)"
                    },
                    "execution_count": null
                }
            ]
        }
    ]
}