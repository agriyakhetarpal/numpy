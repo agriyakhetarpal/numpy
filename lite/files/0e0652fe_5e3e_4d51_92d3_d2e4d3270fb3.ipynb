{
    "nbformat": 4,
    "nbformat_minor": 5,
    "metadata": {
        "kernelspec": {
            "display_name": "Python",
            "language": "python",
            "name": "python"
        },
        "language_info": {
            "name": "python"
        }
    },
    "cells": [
        {
            "id": "e56ef023",
            "cell_type": "markdown",
            "source": "<div class='alert alert-warning'>\n\nNumPy's interactive examples are experimental and may not always work as expected, with high load times especially on low-resource platforms, and the version of NumPy might not be in sync with the one you are browsing the documentation for. If you encounter any issues, please report them on the [NumPy issue tracker](https://github.com/numpy/numpy/issues).\n\n</div>",
            "metadata": {}
        },
        {
            "id": "a3fb8a9a",
            "cell_type": "markdown",
            "source": "Data-type with fields ``big`` (big-endian 32-bit integer) and\n``little`` (little-endian 32-bit integer):\n",
            "metadata": {}
        },
        {
            "id": "d9482458",
            "cell_type": "code",
            "metadata": {},
            "execution_count": null,
            "source": "import numpy as np",
            "outputs": []
        },
        {
            "id": "1efe55d4",
            "cell_type": "code",
            "metadata": {},
            "execution_count": null,
            "source": "dt = np.dtype([('big', '>i4'), ('little', '<i4')])",
            "outputs": []
        },
        {
            "id": "708d237f",
            "cell_type": "markdown",
            "source": "Data-type with fields ``R``, ``G``, ``B``, ``A``, each being an\nunsigned 8-bit integer:\n",
            "metadata": {}
        },
        {
            "id": "d6415158",
            "cell_type": "code",
            "metadata": {},
            "execution_count": null,
            "source": "dt = np.dtype([('R','u1'), ('G','u1'), ('B','u1'), ('A','u1')])",
            "outputs": []
        }
    ]
}