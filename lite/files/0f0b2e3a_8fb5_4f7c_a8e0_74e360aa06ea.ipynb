{
    "nbformat": 4,
    "nbformat_minor": 5,
    "metadata": {
        "kernelspec": {
            "display_name": "Python",
            "language": "python",
            "name": "python"
        },
        "language_info": {
            "name": "python"
        }
    },
    "cells": [
        {
            "id": "be352704",
            "cell_type": "markdown",
            "source": "<div class='alert alert-warning'>\n\nNumPy's interactive examples are experimental and may not always work as expected, with high load times especially on low-resource platforms, and the version of NumPy might not be in sync with the one you are browsing the documentation for. If you encounter any issues, please report them on the [NumPy issue tracker](https://github.com/numpy/numpy/issues).\n\n</div>",
            "metadata": {}
        },
        {
            "id": "089a5b14",
            "cell_type": "code",
            "metadata": {},
            "execution_count": null,
            "source": "import numpy as np",
            "outputs": []
        },
        {
            "id": "0bfbaae4",
            "cell_type": "code",
            "metadata": {},
            "execution_count": null,
            "source": "from tempfile import TemporaryFile\noutfile = TemporaryFile()",
            "outputs": []
        },
        {
            "id": "e99520a3",
            "cell_type": "code",
            "metadata": {},
            "execution_count": null,
            "source": "x = np.arange(10)\nnp.save(outfile, x)",
            "outputs": []
        },
        {
            "id": "c9a5f97b",
            "cell_type": "code",
            "metadata": {},
            "execution_count": null,
            "source": "_ = outfile.seek(0) # Only needed to simulate closing & reopening file\nnp.load(outfile)",
            "outputs": [
                {
                    "output_type": "execute_result",
                    "metadata": {},
                    "data": {
                        "text/plain": "array([0, 1, 2, 3, 4, 5, 6, 7, 8, 9])"
                    },
                    "execution_count": null
                }
            ]
        },
        {
            "id": "151f6fbe",
            "cell_type": "code",
            "metadata": {},
            "execution_count": null,
            "source": "with open('test.npy', 'wb') as f:\n    np.save(f, np.array([1, 2]))\n    np.save(f, np.array([1, 3]))\nwith open('test.npy', 'rb') as f:\n    a = np.load(f)\n    b = np.load(f)\nprint(a, b)",
            "outputs": [
                {
                    "output_type": "execute_result",
                    "metadata": {},
                    "data": {
                        "text/plain": "# [1 2] [1 3]"
                    },
                    "execution_count": null
                }
            ]
        }
    ]
}