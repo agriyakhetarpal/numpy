{
    "nbformat": 4,
    "nbformat_minor": 5,
    "metadata": {
        "kernelspec": {
            "display_name": "Python",
            "language": "python",
            "name": "python"
        },
        "language_info": {
            "name": "python"
        }
    },
    "cells": [
        {
            "id": "7a7c3bb9",
            "cell_type": "markdown",
            "source": "<div class='alert alert-warning'>\n\nNumPy's interactive examples are experimental and may not always work as expected, with high load times especially on low-resource platforms, and the version of NumPy might not be in sync with the one you are browsing the documentation for. If you encounter any issues, please report them on the [NumPy issue tracker](https://github.com/numpy/numpy/issues).\n\n</div>",
            "metadata": {}
        },
        {
            "id": "c79a9746",
            "cell_type": "code",
            "metadata": {},
            "execution_count": null,
            "source": "import numpy as np\nrng = np.random.default_rng()\na = rng.normal(size=(9, 6)) + 1j*rng.normal(size=(9, 6))\nb = rng.normal(size=(2, 7, 8, 3)) + 1j*rng.normal(size=(2, 7, 8, 3))",
            "outputs": []
        },
        {
            "id": "01f12a86",
            "cell_type": "markdown",
            "source": "Reconstruction based on full SVD, 2D case:\n",
            "metadata": {}
        },
        {
            "id": "c117d6bb",
            "cell_type": "code",
            "metadata": {},
            "execution_count": null,
            "source": "U, S, Vh = np.linalg.svd(a, full_matrices=True)\nU.shape, S.shape, Vh.shape",
            "outputs": [
                {
                    "output_type": "execute_result",
                    "metadata": {},
                    "data": {
                        "text/plain": "((9, 9), (6,), (6, 6))"
                    },
                    "execution_count": null
                }
            ]
        },
        {
            "id": "cf1a581d",
            "cell_type": "code",
            "metadata": {},
            "execution_count": null,
            "source": "np.allclose(a, np.dot(U[:, :6] * S, Vh))",
            "outputs": [
                {
                    "output_type": "execute_result",
                    "metadata": {},
                    "data": {
                        "text/plain": "True"
                    },
                    "execution_count": null
                }
            ]
        },
        {
            "id": "886e2ff4",
            "cell_type": "code",
            "metadata": {},
            "execution_count": null,
            "source": "smat = np.zeros((9, 6), dtype=complex)\nsmat[:6, :6] = np.diag(S)\nnp.allclose(a, np.dot(U, np.dot(smat, Vh)))",
            "outputs": [
                {
                    "output_type": "execute_result",
                    "metadata": {},
                    "data": {
                        "text/plain": "True"
                    },
                    "execution_count": null
                }
            ]
        },
        {
            "id": "ef56a2d1",
            "cell_type": "markdown",
            "source": "Reconstruction based on reduced SVD, 2D case:\n",
            "metadata": {}
        },
        {
            "id": "db629b27",
            "cell_type": "code",
            "metadata": {},
            "execution_count": null,
            "source": "U, S, Vh = np.linalg.svd(a, full_matrices=False)\nU.shape, S.shape, Vh.shape",
            "outputs": [
                {
                    "output_type": "execute_result",
                    "metadata": {},
                    "data": {
                        "text/plain": "((9, 6), (6,), (6, 6))"
                    },
                    "execution_count": null
                }
            ]
        },
        {
            "id": "dcc6cb93",
            "cell_type": "code",
            "metadata": {},
            "execution_count": null,
            "source": "np.allclose(a, np.dot(U * S, Vh))",
            "outputs": [
                {
                    "output_type": "execute_result",
                    "metadata": {},
                    "data": {
                        "text/plain": "True"
                    },
                    "execution_count": null
                }
            ]
        },
        {
            "id": "1570819a",
            "cell_type": "code",
            "metadata": {},
            "execution_count": null,
            "source": "smat = np.diag(S)\nnp.allclose(a, np.dot(U, np.dot(smat, Vh)))",
            "outputs": [
                {
                    "output_type": "execute_result",
                    "metadata": {},
                    "data": {
                        "text/plain": "True"
                    },
                    "execution_count": null
                }
            ]
        },
        {
            "id": "57722c8b",
            "cell_type": "markdown",
            "source": "Reconstruction based on full SVD, 4D case:\n",
            "metadata": {}
        },
        {
            "id": "2d000138",
            "cell_type": "code",
            "metadata": {},
            "execution_count": null,
            "source": "U, S, Vh = np.linalg.svd(b, full_matrices=True)\nU.shape, S.shape, Vh.shape",
            "outputs": [
                {
                    "output_type": "execute_result",
                    "metadata": {},
                    "data": {
                        "text/plain": "((2, 7, 8, 8), (2, 7, 3), (2, 7, 3, 3))"
                    },
                    "execution_count": null
                }
            ]
        },
        {
            "id": "61036dbb",
            "cell_type": "code",
            "metadata": {},
            "execution_count": null,
            "source": "np.allclose(b, np.matmul(U[..., :3] * S[..., None, :], Vh))",
            "outputs": [
                {
                    "output_type": "execute_result",
                    "metadata": {},
                    "data": {
                        "text/plain": "True"
                    },
                    "execution_count": null
                }
            ]
        },
        {
            "id": "add0efe7",
            "cell_type": "code",
            "metadata": {},
            "execution_count": null,
            "source": "np.allclose(b, np.matmul(U[..., :3], S[..., None] * Vh))",
            "outputs": [
                {
                    "output_type": "execute_result",
                    "metadata": {},
                    "data": {
                        "text/plain": "True"
                    },
                    "execution_count": null
                }
            ]
        },
        {
            "id": "0f1f4db3",
            "cell_type": "markdown",
            "source": "Reconstruction based on reduced SVD, 4D case:\n",
            "metadata": {}
        },
        {
            "id": "bce33c0e",
            "cell_type": "code",
            "metadata": {},
            "execution_count": null,
            "source": "U, S, Vh = np.linalg.svd(b, full_matrices=False)\nU.shape, S.shape, Vh.shape",
            "outputs": [
                {
                    "output_type": "execute_result",
                    "metadata": {},
                    "data": {
                        "text/plain": "((2, 7, 8, 3), (2, 7, 3), (2, 7, 3, 3))"
                    },
                    "execution_count": null
                }
            ]
        },
        {
            "id": "d437b035",
            "cell_type": "code",
            "metadata": {},
            "execution_count": null,
            "source": "np.allclose(b, np.matmul(U * S[..., None, :], Vh))",
            "outputs": [
                {
                    "output_type": "execute_result",
                    "metadata": {},
                    "data": {
                        "text/plain": "True"
                    },
                    "execution_count": null
                }
            ]
        },
        {
            "id": "6bc6274b",
            "cell_type": "code",
            "metadata": {},
            "execution_count": null,
            "source": "np.allclose(b, np.matmul(U, S[..., None] * Vh))",
            "outputs": [
                {
                    "output_type": "execute_result",
                    "metadata": {},
                    "data": {
                        "text/plain": "True"
                    },
                    "execution_count": null
                }
            ]
        }
    ]
}