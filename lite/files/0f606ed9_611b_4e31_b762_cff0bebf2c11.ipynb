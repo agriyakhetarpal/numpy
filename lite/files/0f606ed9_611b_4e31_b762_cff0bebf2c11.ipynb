{
    "nbformat": 4,
    "nbformat_minor": 5,
    "metadata": {
        "kernelspec": {
            "display_name": "Python",
            "language": "python",
            "name": "python"
        },
        "language_info": {
            "name": "python"
        }
    },
    "cells": [
        {
            "id": "ed0ab498",
            "cell_type": "markdown",
            "source": "<div class='alert alert-warning'>\n\nNumPy's interactive examples are experimental and may not always work as expected, with high load times especially on low-resource platforms, and the version of NumPy might not be in sync with the one you are browsing the documentation for. If you encounter any issues, please report them on the [NumPy issue tracker](https://github.com/numpy/numpy/issues).\n\n</div>",
            "metadata": {}
        },
        {
            "id": "7e4a6c13",
            "cell_type": "markdown",
            "source": "np.array allows to specify whether the array is written in C-contiguous\norder (last index varies the fastest), or FORTRAN-contiguous order in\nmemory (first index varies the fastest).\n",
            "metadata": {}
        },
        {
            "id": "654f530c",
            "cell_type": "code",
            "metadata": {},
            "execution_count": null,
            "source": "import numpy as np\na = np.array([[1, 2, 3], [4, 5, 6]], order='C')\na",
            "outputs": [
                {
                    "output_type": "execute_result",
                    "metadata": {},
                    "data": {
                        "text/plain": "array([[1, 2, 3],\n       [4, 5, 6]])"
                    },
                    "execution_count": null
                }
            ]
        },
        {
            "id": "bffc924d",
            "cell_type": "code",
            "metadata": {},
            "execution_count": null,
            "source": "np.isfortran(a)",
            "outputs": [
                {
                    "output_type": "execute_result",
                    "metadata": {},
                    "data": {
                        "text/plain": "False"
                    },
                    "execution_count": null
                }
            ]
        },
        {
            "id": "cc774978",
            "cell_type": "code",
            "metadata": {},
            "execution_count": null,
            "source": "b = np.array([[1, 2, 3], [4, 5, 6]], order='F')\nb",
            "outputs": [
                {
                    "output_type": "execute_result",
                    "metadata": {},
                    "data": {
                        "text/plain": "array([[1, 2, 3],\n       [4, 5, 6]])"
                    },
                    "execution_count": null
                }
            ]
        },
        {
            "id": "e7608f3b",
            "cell_type": "code",
            "metadata": {},
            "execution_count": null,
            "source": "np.isfortran(b)",
            "outputs": [
                {
                    "output_type": "execute_result",
                    "metadata": {},
                    "data": {
                        "text/plain": "True"
                    },
                    "execution_count": null
                }
            ]
        },
        {
            "id": "523fcab9",
            "cell_type": "markdown",
            "source": "The transpose of a C-ordered array is a FORTRAN-ordered array.\n",
            "metadata": {}
        },
        {
            "id": "6aeb0eb7",
            "cell_type": "code",
            "metadata": {},
            "execution_count": null,
            "source": "a = np.array([[1, 2, 3], [4, 5, 6]], order='C')\na",
            "outputs": [
                {
                    "output_type": "execute_result",
                    "metadata": {},
                    "data": {
                        "text/plain": "array([[1, 2, 3],\n       [4, 5, 6]])"
                    },
                    "execution_count": null
                }
            ]
        },
        {
            "id": "007324a2",
            "cell_type": "code",
            "metadata": {},
            "execution_count": null,
            "source": "np.isfortran(a)",
            "outputs": [
                {
                    "output_type": "execute_result",
                    "metadata": {},
                    "data": {
                        "text/plain": "False"
                    },
                    "execution_count": null
                }
            ]
        },
        {
            "id": "405d3c0a",
            "cell_type": "code",
            "metadata": {},
            "execution_count": null,
            "source": "b = a.T\nb",
            "outputs": [
                {
                    "output_type": "execute_result",
                    "metadata": {},
                    "data": {
                        "text/plain": "array([[1, 4],\n       [2, 5],\n       [3, 6]])"
                    },
                    "execution_count": null
                }
            ]
        },
        {
            "id": "9aedc618",
            "cell_type": "code",
            "metadata": {},
            "execution_count": null,
            "source": "np.isfortran(b)",
            "outputs": [
                {
                    "output_type": "execute_result",
                    "metadata": {},
                    "data": {
                        "text/plain": "True"
                    },
                    "execution_count": null
                }
            ]
        },
        {
            "id": "40b47ce7",
            "cell_type": "markdown",
            "source": "C-ordered arrays evaluate as False even if they are also FORTRAN-ordered.\n",
            "metadata": {}
        },
        {
            "id": "db6e4466",
            "cell_type": "code",
            "metadata": {},
            "execution_count": null,
            "source": "np.isfortran(np.array([1, 2], order='F'))",
            "outputs": [
                {
                    "output_type": "execute_result",
                    "metadata": {},
                    "data": {
                        "text/plain": "False"
                    },
                    "execution_count": null
                }
            ]
        }
    ]
}