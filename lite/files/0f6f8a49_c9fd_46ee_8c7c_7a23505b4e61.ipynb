{
    "nbformat": 4,
    "nbformat_minor": 5,
    "metadata": {
        "kernelspec": {
            "display_name": "Python",
            "language": "python",
            "name": "python"
        },
        "language_info": {
            "name": "python"
        }
    },
    "cells": [
        {
            "id": "3e63a7d0",
            "cell_type": "markdown",
            "source": "<div class='alert alert-warning'>\n\nNumPy's interactive examples are experimental and may not always work as expected, with high load times especially on low-resource platforms, and the version of NumPy might not be in sync with the one you are browsing the documentation for. If you encounter any issues, please report them on the [NumPy issue tracker](https://github.com/numpy/numpy/issues).\n\n</div>",
            "metadata": {}
        },
        {
            "id": "28128254",
            "cell_type": "markdown",
            "source": "For example suppose the source directory contains fun/foo.dat and\nfun/bar/car.dat:\n",
            "metadata": {}
        },
        {
            "id": "d78ff59f",
            "cell_type": "code",
            "metadata": {},
            "execution_count": null,
            "source": "self.add_data_dir('fun')                       #doctest: +SKIP\nself.add_data_dir(('sun', 'fun'))              #doctest: +SKIP\nself.add_data_dir(('gun', '/full/path/to/fun'))#doctest: +SKIP",
            "outputs": []
        },
        {
            "id": "4b60d023",
            "cell_type": "markdown",
            "source": "Will install data-files to the locations\n```\n\n<package install directory>/\nfun/\nfoo.dat\nbar/\ncar.dat\nsun/\nfoo.dat\nbar/\ncar.dat\ngun/\nfoo.dat\ncar.dat\n```",
            "metadata": {}
        }
    ]
}