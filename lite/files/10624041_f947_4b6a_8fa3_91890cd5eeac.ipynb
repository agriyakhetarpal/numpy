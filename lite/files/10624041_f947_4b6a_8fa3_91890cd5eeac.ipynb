{
    "nbformat": 4,
    "nbformat_minor": 5,
    "metadata": {
        "kernelspec": {
            "display_name": "Python",
            "language": "python",
            "name": "python"
        },
        "language_info": {
            "name": "python"
        }
    },
    "cells": [
        {
            "id": "cd6a8b87",
            "cell_type": "markdown",
            "source": "<div class='alert alert-warning'>\n\nNumPy's interactive examples are experimental and may not always work as expected, with high load times especially on low-resource platforms, , and the version of NumPy might not be in sync with the one you are browsing the documentation for. If you encounter any issues, please report them on the [NumPy issue tracker](https://github.com/numpy/numpy/issues).\n\n</div>",
            "metadata": {}
        },
        {
            "id": "bba3c172",
            "cell_type": "code",
            "metadata": {},
            "execution_count": null,
            "source": "import numpy as np\na = np.array([[1, 2], [3, 4], [5, 6]])\na",
            "outputs": [
                {
                    "output_type": "execute_result",
                    "metadata": {},
                    "data": {
                        "text/plain": "array([[1, 2],\n       [3, 4],\n       [5, 6]])"
                    },
                    "execution_count": null
                }
            ]
        },
        {
            "id": "36f70978",
            "cell_type": "code",
            "metadata": {},
            "execution_count": null,
            "source": "np.compress([0, 1], a, axis=0)",
            "outputs": [
                {
                    "output_type": "execute_result",
                    "metadata": {},
                    "data": {
                        "text/plain": "array([[3, 4]])"
                    },
                    "execution_count": null
                }
            ]
        },
        {
            "id": "2df188f2",
            "cell_type": "code",
            "metadata": {},
            "execution_count": null,
            "source": "np.compress([False, True, True], a, axis=0)",
            "outputs": [
                {
                    "output_type": "execute_result",
                    "metadata": {},
                    "data": {
                        "text/plain": "array([[3, 4],\n       [5, 6]])"
                    },
                    "execution_count": null
                }
            ]
        },
        {
            "id": "d82b9eaa",
            "cell_type": "code",
            "metadata": {},
            "execution_count": null,
            "source": "np.compress([False, True], a, axis=1)",
            "outputs": [
                {
                    "output_type": "execute_result",
                    "metadata": {},
                    "data": {
                        "text/plain": "array([[2],\n       [4],\n       [6]])"
                    },
                    "execution_count": null
                }
            ]
        },
        {
            "id": "c674a41a",
            "cell_type": "markdown",
            "source": "Working on the flattened array does not return slices along an axis but\nselects elements.\n",
            "metadata": {}
        },
        {
            "id": "95f8ad2c",
            "cell_type": "code",
            "metadata": {},
            "execution_count": null,
            "source": "np.compress([False, True], a)",
            "outputs": [
                {
                    "output_type": "execute_result",
                    "metadata": {},
                    "data": {
                        "text/plain": "array([2])"
                    },
                    "execution_count": null
                }
            ]
        }
    ]
}