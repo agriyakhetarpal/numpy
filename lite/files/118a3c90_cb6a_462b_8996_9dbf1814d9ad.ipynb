{
    "nbformat": 4,
    "nbformat_minor": 5,
    "metadata": {
        "kernelspec": {
            "display_name": "Python",
            "language": "python",
            "name": "python"
        },
        "language_info": {
            "name": "python"
        }
    },
    "cells": [
        {
            "id": "cf122dca",
            "cell_type": "markdown",
            "source": "<div class='alert alert-warning'>\n\nNumPy's interactive examples are experimental and may not always work as expected, with high load times especially on low-resource platforms, and the version of NumPy might not be in sync with the one you are browsing the documentation for. If you encounter any issues, please report them on the [NumPy issue tracker](https://github.com/numpy/numpy/issues).\n\n</div>",
            "metadata": {}
        },
        {
            "id": "23026e9c",
            "cell_type": "code",
            "metadata": {},
            "execution_count": null,
            "source": "from numpy import linalg as LA\na = np.arange(9) - 4\na",
            "outputs": [
                {
                    "output_type": "execute_result",
                    "metadata": {},
                    "data": {
                        "text/plain": "array([-4, -3, -2, ...,  2,  3,  4])"
                    },
                    "execution_count": null
                }
            ]
        },
        {
            "id": "f9f3cbf7",
            "cell_type": "code",
            "metadata": {},
            "execution_count": null,
            "source": "b = a.reshape((3, 3))\nb",
            "outputs": [
                {
                    "output_type": "execute_result",
                    "metadata": {},
                    "data": {
                        "text/plain": "array([[-4, -3, -2],\n       [-1,  0,  1],\n       [ 2,  3,  4]])"
                    },
                    "execution_count": null
                }
            ]
        },
        {
            "id": "f7755471",
            "cell_type": "code",
            "metadata": {},
            "execution_count": null,
            "source": "LA.matrix_norm(b)",
            "outputs": [
                {
                    "output_type": "execute_result",
                    "metadata": {},
                    "data": {
                        "text/plain": "7.745966692414834"
                    },
                    "execution_count": null
                }
            ]
        },
        {
            "id": "98b8a34d",
            "cell_type": "code",
            "metadata": {},
            "execution_count": null,
            "source": "LA.matrix_norm(b, ord='fro')",
            "outputs": [
                {
                    "output_type": "execute_result",
                    "metadata": {},
                    "data": {
                        "text/plain": "7.745966692414834"
                    },
                    "execution_count": null
                }
            ]
        },
        {
            "id": "09a777a4",
            "cell_type": "code",
            "metadata": {},
            "execution_count": null,
            "source": "LA.matrix_norm(b, ord=np.inf)",
            "outputs": [
                {
                    "output_type": "execute_result",
                    "metadata": {},
                    "data": {
                        "text/plain": "9.0"
                    },
                    "execution_count": null
                }
            ]
        },
        {
            "id": "8998c31f",
            "cell_type": "code",
            "metadata": {},
            "execution_count": null,
            "source": "LA.matrix_norm(b, ord=-np.inf)",
            "outputs": [
                {
                    "output_type": "execute_result",
                    "metadata": {},
                    "data": {
                        "text/plain": "2.0"
                    },
                    "execution_count": null
                }
            ]
        },
        {
            "id": "8a01597f",
            "cell_type": "code",
            "metadata": {},
            "execution_count": null,
            "source": "LA.matrix_norm(b, ord=1)",
            "outputs": [
                {
                    "output_type": "execute_result",
                    "metadata": {},
                    "data": {
                        "text/plain": "7.0"
                    },
                    "execution_count": null
                }
            ]
        },
        {
            "id": "4eb79eda",
            "cell_type": "code",
            "metadata": {},
            "execution_count": null,
            "source": "LA.matrix_norm(b, ord=-1)",
            "outputs": [
                {
                    "output_type": "execute_result",
                    "metadata": {},
                    "data": {
                        "text/plain": "6.0"
                    },
                    "execution_count": null
                }
            ]
        },
        {
            "id": "02147601",
            "cell_type": "code",
            "metadata": {},
            "execution_count": null,
            "source": "LA.matrix_norm(b, ord=2)",
            "outputs": [
                {
                    "output_type": "execute_result",
                    "metadata": {},
                    "data": {
                        "text/plain": "7.3484692283495345"
                    },
                    "execution_count": null
                }
            ]
        },
        {
            "id": "a706c69f",
            "cell_type": "code",
            "metadata": {},
            "execution_count": null,
            "source": "LA.matrix_norm(b, ord=-2)",
            "outputs": [
                {
                    "output_type": "execute_result",
                    "metadata": {},
                    "data": {
                        "text/plain": "1.8570331885190563e-016 # may vary"
                    },
                    "execution_count": null
                }
            ]
        }
    ]
}