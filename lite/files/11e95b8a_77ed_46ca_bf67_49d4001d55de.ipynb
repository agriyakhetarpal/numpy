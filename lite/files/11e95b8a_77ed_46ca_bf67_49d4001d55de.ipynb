{
    "nbformat": 4,
    "nbformat_minor": 5,
    "metadata": {
        "kernelspec": {
            "display_name": "Python",
            "language": "python",
            "name": "python"
        },
        "language_info": {
            "name": "python"
        }
    },
    "cells": [
        {
            "id": "12b6ab3c",
            "cell_type": "markdown",
            "source": "<div class='alert alert-warning'>\n\nNumPy's interactive examples are experimental and may not always work as expected, with high load times especially on low-resource platforms, , and the version of NumPy might not be in sync with the one you are browsing the documentation for. If you encounter any issues, please report them on the [NumPy issue tracker](https://github.com/numpy/numpy/issues).\n\n</div>",
            "metadata": {}
        },
        {
            "id": "494b024f",
            "cell_type": "code",
            "metadata": {},
            "execution_count": null,
            "source": "import numpy as np\na = [1, 2, 3, 4, 5]\nnp.pad(a, (2, 3), 'constant', constant_values=(4, 6))",
            "outputs": [
                {
                    "output_type": "execute_result",
                    "metadata": {},
                    "data": {
                        "text/plain": "array([4, 4, 1, ..., 6, 6, 6])"
                    },
                    "execution_count": null
                }
            ]
        },
        {
            "id": "823b3b8f",
            "cell_type": "code",
            "metadata": {},
            "execution_count": null,
            "source": "np.pad(a, (2, 3), 'edge')",
            "outputs": [
                {
                    "output_type": "execute_result",
                    "metadata": {},
                    "data": {
                        "text/plain": "array([1, 1, 1, ..., 5, 5, 5])"
                    },
                    "execution_count": null
                }
            ]
        },
        {
            "id": "981e60cd",
            "cell_type": "code",
            "metadata": {},
            "execution_count": null,
            "source": "np.pad(a, (2, 3), 'linear_ramp', end_values=(5, -4))",
            "outputs": [
                {
                    "output_type": "execute_result",
                    "metadata": {},
                    "data": {
                        "text/plain": "array([ 5,  3,  1,  2,  3,  4,  5,  2, -1, -4])"
                    },
                    "execution_count": null
                }
            ]
        },
        {
            "id": "4a774879",
            "cell_type": "code",
            "metadata": {},
            "execution_count": null,
            "source": "np.pad(a, (2,), 'maximum')",
            "outputs": [
                {
                    "output_type": "execute_result",
                    "metadata": {},
                    "data": {
                        "text/plain": "array([5, 5, 1, 2, 3, 4, 5, 5, 5])"
                    },
                    "execution_count": null
                }
            ]
        },
        {
            "id": "180bec03",
            "cell_type": "code",
            "metadata": {},
            "execution_count": null,
            "source": "np.pad(a, (2,), 'mean')",
            "outputs": [
                {
                    "output_type": "execute_result",
                    "metadata": {},
                    "data": {
                        "text/plain": "array([3, 3, 1, 2, 3, 4, 5, 3, 3])"
                    },
                    "execution_count": null
                }
            ]
        },
        {
            "id": "64a32e05",
            "cell_type": "code",
            "metadata": {},
            "execution_count": null,
            "source": "np.pad(a, (2,), 'median')",
            "outputs": [
                {
                    "output_type": "execute_result",
                    "metadata": {},
                    "data": {
                        "text/plain": "array([3, 3, 1, 2, 3, 4, 5, 3, 3])"
                    },
                    "execution_count": null
                }
            ]
        },
        {
            "id": "661941ee",
            "cell_type": "code",
            "metadata": {},
            "execution_count": null,
            "source": "a = [[1, 2], [3, 4]]\nnp.pad(a, ((3, 2), (2, 3)), 'minimum')",
            "outputs": [
                {
                    "output_type": "execute_result",
                    "metadata": {},
                    "data": {
                        "text/plain": "array([[1, 1, 1, 2, 1, 1, 1],\n       [1, 1, 1, 2, 1, 1, 1],\n       [1, 1, 1, 2, 1, 1, 1],\n       [1, 1, 1, 2, 1, 1, 1],\n       [3, 3, 3, 4, 3, 3, 3],\n       [1, 1, 1, 2, 1, 1, 1],\n       [1, 1, 1, 2, 1, 1, 1]])"
                    },
                    "execution_count": null
                }
            ]
        },
        {
            "id": "077e0516",
            "cell_type": "code",
            "metadata": {},
            "execution_count": null,
            "source": "a = [1, 2, 3, 4, 5]\nnp.pad(a, (2, 3), 'reflect')",
            "outputs": [
                {
                    "output_type": "execute_result",
                    "metadata": {},
                    "data": {
                        "text/plain": "array([3, 2, 1, 2, 3, 4, 5, 4, 3, 2])"
                    },
                    "execution_count": null
                }
            ]
        },
        {
            "id": "6c57ee71",
            "cell_type": "code",
            "metadata": {},
            "execution_count": null,
            "source": "np.pad(a, (2, 3), 'reflect', reflect_type='odd')",
            "outputs": [
                {
                    "output_type": "execute_result",
                    "metadata": {},
                    "data": {
                        "text/plain": "array([-1,  0,  1,  2,  3,  4,  5,  6,  7,  8])"
                    },
                    "execution_count": null
                }
            ]
        },
        {
            "id": "bb4c8533",
            "cell_type": "code",
            "metadata": {},
            "execution_count": null,
            "source": "np.pad(a, (2, 3), 'symmetric')",
            "outputs": [
                {
                    "output_type": "execute_result",
                    "metadata": {},
                    "data": {
                        "text/plain": "array([2, 1, 1, 2, 3, 4, 5, 5, 4, 3])"
                    },
                    "execution_count": null
                }
            ]
        },
        {
            "id": "a8ef8727",
            "cell_type": "code",
            "metadata": {},
            "execution_count": null,
            "source": "np.pad(a, (2, 3), 'symmetric', reflect_type='odd')",
            "outputs": [
                {
                    "output_type": "execute_result",
                    "metadata": {},
                    "data": {
                        "text/plain": "array([0, 1, 1, 2, 3, 4, 5, 5, 6, 7])"
                    },
                    "execution_count": null
                }
            ]
        },
        {
            "id": "6ff85824",
            "cell_type": "code",
            "metadata": {},
            "execution_count": null,
            "source": "np.pad(a, (2, 3), 'wrap')",
            "outputs": [
                {
                    "output_type": "execute_result",
                    "metadata": {},
                    "data": {
                        "text/plain": "array([4, 5, 1, 2, 3, 4, 5, 1, 2, 3])"
                    },
                    "execution_count": null
                }
            ]
        },
        {
            "id": "4b025b3c",
            "cell_type": "code",
            "metadata": {},
            "execution_count": null,
            "source": "def pad_with(vector, pad_width, iaxis, kwargs):\n    pad_value = kwargs.get('padder', 10)\n    vector[:pad_width[0]] = pad_value\n    vector[-pad_width[1]:] = pad_value\na = np.arange(6)\na = a.reshape((2, 3))\nnp.pad(a, 2, pad_with)",
            "outputs": [
                {
                    "output_type": "execute_result",
                    "metadata": {},
                    "data": {
                        "text/plain": "array([[10, 10, 10, 10, 10, 10, 10],\n       [10, 10, 10, 10, 10, 10, 10],\n       [10, 10,  0,  1,  2, 10, 10],\n       [10, 10,  3,  4,  5, 10, 10],\n       [10, 10, 10, 10, 10, 10, 10],\n       [10, 10, 10, 10, 10, 10, 10]])"
                    },
                    "execution_count": null
                }
            ]
        },
        {
            "id": "c90a38b5",
            "cell_type": "code",
            "metadata": {},
            "execution_count": null,
            "source": "np.pad(a, 2, pad_with, padder=100)",
            "outputs": [
                {
                    "output_type": "execute_result",
                    "metadata": {},
                    "data": {
                        "text/plain": "array([[100, 100, 100, 100, 100, 100, 100],\n       [100, 100, 100, 100, 100, 100, 100],\n       [100, 100,   0,   1,   2, 100, 100],\n       [100, 100,   3,   4,   5, 100, 100],\n       [100, 100, 100, 100, 100, 100, 100],\n       [100, 100, 100, 100, 100, 100, 100]])"
                    },
                    "execution_count": null
                }
            ]
        }
    ]
}