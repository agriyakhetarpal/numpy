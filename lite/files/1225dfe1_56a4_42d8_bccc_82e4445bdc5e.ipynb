{
    "nbformat": 4,
    "nbformat_minor": 5,
    "metadata": {
        "kernelspec": {
            "display_name": "Python",
            "language": "python",
            "name": "python"
        },
        "language_info": {
            "name": "python"
        }
    },
    "cells": [
        {
            "id": "424fcc38",
            "cell_type": "markdown",
            "source": "<div class='alert alert-warning'>\n\nNumPy's interactive examples are experimental and may not always work as expected, with high load times especially on low-resource platforms, and the version of NumPy might not be in sync with the one you are browsing the documentation for. If you encounter any issues, please report them on the [NumPy issue tracker](https://github.com/numpy/numpy/issues).\n\n</div>",
            "metadata": {}
        },
        {
            "id": "d51c4004",
            "cell_type": "code",
            "metadata": {},
            "execution_count": null,
            "source": "import numpy as np\nnp.nancumprod(1)",
            "outputs": [
                {
                    "output_type": "execute_result",
                    "metadata": {},
                    "data": {
                        "text/plain": "array([1])"
                    },
                    "execution_count": null
                }
            ]
        },
        {
            "id": "49fce8a0",
            "cell_type": "code",
            "metadata": {},
            "execution_count": null,
            "source": "np.nancumprod([1])",
            "outputs": [
                {
                    "output_type": "execute_result",
                    "metadata": {},
                    "data": {
                        "text/plain": "array([1])"
                    },
                    "execution_count": null
                }
            ]
        },
        {
            "id": "91664ec5",
            "cell_type": "code",
            "metadata": {},
            "execution_count": null,
            "source": "np.nancumprod([1, np.nan])",
            "outputs": [
                {
                    "output_type": "execute_result",
                    "metadata": {},
                    "data": {
                        "text/plain": "array([1.,  1.])"
                    },
                    "execution_count": null
                }
            ]
        },
        {
            "id": "7bee1b3b",
            "cell_type": "code",
            "metadata": {},
            "execution_count": null,
            "source": "a = np.array([[1, 2], [3, np.nan]])\nnp.nancumprod(a)",
            "outputs": [
                {
                    "output_type": "execute_result",
                    "metadata": {},
                    "data": {
                        "text/plain": "array([1.,  2.,  6.,  6.])"
                    },
                    "execution_count": null
                }
            ]
        },
        {
            "id": "5da1a78b",
            "cell_type": "code",
            "metadata": {},
            "execution_count": null,
            "source": "np.nancumprod(a, axis=0)",
            "outputs": [
                {
                    "output_type": "execute_result",
                    "metadata": {},
                    "data": {
                        "text/plain": "array([[1.,  2.],\n       [3.,  2.]])"
                    },
                    "execution_count": null
                }
            ]
        },
        {
            "id": "94829e08",
            "cell_type": "code",
            "metadata": {},
            "execution_count": null,
            "source": "np.nancumprod(a, axis=1)",
            "outputs": [
                {
                    "output_type": "execute_result",
                    "metadata": {},
                    "data": {
                        "text/plain": "array([[1.,  2.],\n       [3.,  3.]])"
                    },
                    "execution_count": null
                }
            ]
        }
    ]
}