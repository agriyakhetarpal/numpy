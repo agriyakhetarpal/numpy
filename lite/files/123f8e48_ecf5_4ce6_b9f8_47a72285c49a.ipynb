{
    "nbformat": 4,
    "nbformat_minor": 5,
    "metadata": {
        "kernelspec": {
            "display_name": "Python",
            "language": "python",
            "name": "python"
        },
        "language_info": {
            "name": "python"
        }
    },
    "cells": [
        {
            "id": "546a4b32",
            "cell_type": "markdown",
            "source": "<div class='alert alert-warning'>\n\nNumPy's interactive examples are experimental and may not always work as expected, with high load times especially on low-resource platforms, and the version of NumPy might not be in sync with the one you are browsing the documentation for. If you encounter any issues, please report them on the [NumPy issue tracker](https://github.com/numpy/numpy/issues).\n\n</div>",
            "metadata": {}
        },
        {
            "id": "04544f5c",
            "cell_type": "code",
            "metadata": {},
            "execution_count": null,
            "source": "import numpy as np\nx = np.array([[1], [2], [3]])\ny = np.array([4, 5, 6])\nb = np.broadcast(x, y)\nb.index",
            "outputs": [
                {
                    "output_type": "execute_result",
                    "metadata": {},
                    "data": {
                        "text/plain": "0"
                    },
                    "execution_count": null
                }
            ]
        },
        {
            "id": "c474b563",
            "cell_type": "code",
            "metadata": {},
            "execution_count": null,
            "source": "next(b), next(b), next(b)",
            "outputs": [
                {
                    "output_type": "execute_result",
                    "metadata": {},
                    "data": {
                        "text/plain": "((1, 4), (1, 5), (1, 6))"
                    },
                    "execution_count": null
                }
            ]
        },
        {
            "id": "c2a4d00c",
            "cell_type": "code",
            "metadata": {},
            "execution_count": null,
            "source": "b.index",
            "outputs": [
                {
                    "output_type": "execute_result",
                    "metadata": {},
                    "data": {
                        "text/plain": "3"
                    },
                    "execution_count": null
                }
            ]
        }
    ]
}