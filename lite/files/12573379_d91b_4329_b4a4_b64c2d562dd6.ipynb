{
    "nbformat": 4,
    "nbformat_minor": 5,
    "metadata": {
        "kernelspec": {
            "display_name": "Python",
            "language": "python",
            "name": "python"
        },
        "language_info": {
            "name": "python"
        }
    },
    "cells": [
        {
            "id": "5e42715f",
            "cell_type": "markdown",
            "source": "<div class='alert alert-warning'>\n\nNumPy's interactive examples are experimental and may not always work as expected, with high load times especially on low-resource platforms, and the version of NumPy might not be in sync with the one you are browsing the documentation for. If you encounter any issues, please report them on the [NumPy issue tracker](https://github.com/numpy/numpy/issues).\n\n</div>",
            "metadata": {}
        },
        {
            "id": "aadeb102",
            "cell_type": "markdown",
            "source": "Draw values from the distribution and plot the histogram\n",
            "metadata": {}
        },
        {
            "id": "21c90886",
            "cell_type": "code",
            "metadata": {},
            "execution_count": null,
            "source": "import matplotlib.pyplot as plt\nvalues = plt.hist(np.random.noncentral_chisquare(3, 20, 100000),\n                  bins=200, density=True)\nplt.show()",
            "outputs": []
        },
        {
            "id": "da9286ae",
            "cell_type": "markdown",
            "source": "Draw values from a noncentral chisquare with very small noncentrality,\nand compare to a chisquare.\n",
            "metadata": {}
        },
        {
            "id": "4189a2c4",
            "cell_type": "code",
            "metadata": {},
            "execution_count": null,
            "source": "plt.figure()\nvalues = plt.hist(np.random.noncentral_chisquare(3, .0000001, 100000),\n                  bins=np.arange(0., 25, .1), density=True)\nvalues2 = plt.hist(np.random.chisquare(3, 100000),\n                   bins=np.arange(0., 25, .1), density=True)\nplt.plot(values[1][0:-1], values[0]-values2[0], 'ob')\nplt.show()",
            "outputs": []
        },
        {
            "id": "6835178a",
            "cell_type": "markdown",
            "source": "Demonstrate how large values of non-centrality lead to a more symmetric\ndistribution.\n",
            "metadata": {}
        },
        {
            "id": "2c1c667b",
            "cell_type": "code",
            "metadata": {},
            "execution_count": null,
            "source": "plt.figure()\nvalues = plt.hist(np.random.noncentral_chisquare(3, 20, 100000),\n                  bins=200, density=True)\nplt.show()",
            "outputs": []
        }
    ]
}