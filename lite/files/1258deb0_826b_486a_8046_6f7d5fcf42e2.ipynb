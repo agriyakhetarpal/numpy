{
    "nbformat": 4,
    "nbformat_minor": 5,
    "metadata": {
        "kernelspec": {
            "display_name": "Python",
            "language": "python",
            "name": "python"
        },
        "language_info": {
            "name": "python"
        }
    },
    "cells": [
        {
            "id": "8bf21bfa",
            "cell_type": "markdown",
            "source": "<div class='alert alert-warning'>\n\nNumPy's interactive examples are experimental and may not always work as expected, with high load times especially on low-resource platforms, and the version of NumPy might not be in sync with the one you are browsing the documentation for. If you encounter any issues, please report them on the [NumPy issue tracker](https://github.com/numpy/numpy/issues).\n\n</div>",
            "metadata": {}
        },
        {
            "id": "69d6cb51",
            "cell_type": "code",
            "metadata": {},
            "execution_count": null,
            "source": "import numpy as np\nimport numpy.ma as ma\na = ma.masked_equal([[1,2],[3,4]], 2)\na",
            "outputs": [
                {
                    "output_type": "execute_result",
                    "metadata": {},
                    "data": {
                        "text/plain": "masked_array(\n  data=[[1, --],\n        [3, 4]],\n  mask=[[False,  True],\n        [False, False]],\n  fill_value=2)"
                    },
                    "execution_count": null
                }
            ]
        },
        {
            "id": "d5ed93a4",
            "cell_type": "code",
            "metadata": {},
            "execution_count": null,
            "source": "ma.getmask(a)",
            "outputs": [
                {
                    "output_type": "execute_result",
                    "metadata": {},
                    "data": {
                        "text/plain": "array([[False,  True],\n       [False, False]])"
                    },
                    "execution_count": null
                }
            ]
        },
        {
            "id": "ceaeaa2f",
            "cell_type": "markdown",
            "source": "Equivalently use the `MaskedArray` `mask` attribute.\n",
            "metadata": {}
        },
        {
            "id": "f60e69f0",
            "cell_type": "code",
            "metadata": {},
            "execution_count": null,
            "source": "a.mask",
            "outputs": [
                {
                    "output_type": "execute_result",
                    "metadata": {},
                    "data": {
                        "text/plain": "array([[False,  True],\n       [False, False]])"
                    },
                    "execution_count": null
                }
            ]
        },
        {
            "id": "85e5a289",
            "cell_type": "markdown",
            "source": "Result when mask == `nomask`\n",
            "metadata": {}
        },
        {
            "id": "65255c25",
            "cell_type": "code",
            "metadata": {},
            "execution_count": null,
            "source": "b = ma.masked_array([[1,2],[3,4]])\nb",
            "outputs": [
                {
                    "output_type": "execute_result",
                    "metadata": {},
                    "data": {
                        "text/plain": "masked_array(\n  data=[[1, 2],\n        [3, 4]],\n  mask=False,\n  fill_value=999999)"
                    },
                    "execution_count": null
                }
            ]
        },
        {
            "id": "950b6ac7",
            "cell_type": "code",
            "metadata": {},
            "execution_count": null,
            "source": "ma.nomask",
            "outputs": [
                {
                    "output_type": "execute_result",
                    "metadata": {},
                    "data": {
                        "text/plain": "False"
                    },
                    "execution_count": null
                }
            ]
        },
        {
            "id": "72dc80be",
            "cell_type": "code",
            "metadata": {},
            "execution_count": null,
            "source": "ma.getmask(b) == ma.nomask",
            "outputs": [
                {
                    "output_type": "execute_result",
                    "metadata": {},
                    "data": {
                        "text/plain": "True"
                    },
                    "execution_count": null
                }
            ]
        },
        {
            "id": "e3fddeae",
            "cell_type": "code",
            "metadata": {},
            "execution_count": null,
            "source": "b.mask == ma.nomask",
            "outputs": [
                {
                    "output_type": "execute_result",
                    "metadata": {},
                    "data": {
                        "text/plain": "True"
                    },
                    "execution_count": null
                }
            ]
        }
    ]
}