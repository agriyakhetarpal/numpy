{
    "nbformat": 4,
    "nbformat_minor": 5,
    "metadata": {
        "kernelspec": {
            "display_name": "Python",
            "language": "python",
            "name": "python"
        },
        "language_info": {
            "name": "python"
        }
    },
    "cells": [
        {
            "id": "33c4dfe0",
            "cell_type": "markdown",
            "source": "<div class='alert alert-warning'>\n\nNumPy's interactive examples are experimental and may not always work as expected, with high load times especially on low-resource platforms, , and the version of NumPy might not be in sync with the one you are browsing the documentation for. If you encounter any issues, please report them on the [NumPy issue tracker](https://github.com/numpy/numpy/issues).\n\n</div>",
            "metadata": {}
        },
        {
            "id": "60aaa84b",
            "cell_type": "code",
            "metadata": {},
            "execution_count": null,
            "source": "import numpy as np",
            "outputs": []
        },
        {
            "id": "05de1b65",
            "cell_type": "code",
            "metadata": {},
            "execution_count": null,
            "source": "np.timedelta64(1, 'D')",
            "outputs": [
                {
                    "output_type": "execute_result",
                    "metadata": {},
                    "data": {
                        "text/plain": "np.timedelta64(1,'D')"
                    },
                    "execution_count": null
                }
            ]
        },
        {
            "id": "fe84b83c",
            "cell_type": "code",
            "metadata": {},
            "execution_count": null,
            "source": "np.timedelta64(4, 'h')",
            "outputs": [
                {
                    "output_type": "execute_result",
                    "metadata": {},
                    "data": {
                        "text/plain": "np.timedelta64(4,'h')"
                    },
                    "execution_count": null
                }
            ]
        },
        {
            "id": "1a5279fe",
            "cell_type": "code",
            "metadata": {},
            "execution_count": null,
            "source": "np.timedelta64('nAt')",
            "outputs": [
                {
                    "output_type": "execute_result",
                    "metadata": {},
                    "data": {
                        "text/plain": "np.timedelta64('NaT')"
                    },
                    "execution_count": null
                }
            ]
        }
    ]
}