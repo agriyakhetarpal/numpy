{
    "nbformat": 4,
    "nbformat_minor": 5,
    "metadata": {
        "kernelspec": {
            "display_name": "Python",
            "language": "python",
            "name": "python"
        },
        "language_info": {
            "name": "python"
        }
    },
    "cells": [
        {
            "id": "a7b1660f",
            "cell_type": "markdown",
            "source": "<div class='alert alert-warning'>\n\nNumPy's interactive examples are experimental and may not always work as expected, with high load times especially on low-resource platforms, and the version of NumPy might not be in sync with the one you are browsing the documentation for. If you encounter any issues, please report them on the [NumPy issue tracker](https://github.com/numpy/numpy/issues).\n\n</div>",
            "metadata": {}
        },
        {
            "id": "ea7b6f0b",
            "cell_type": "code",
            "metadata": {},
            "execution_count": null,
            "source": "import numpy as np",
            "outputs": []
        },
        {
            "id": "19646b17",
            "cell_type": "markdown",
            "source": "Create a 4 by 4 array\n",
            "metadata": {}
        },
        {
            "id": "054ffb64",
            "cell_type": "code",
            "metadata": {},
            "execution_count": null,
            "source": "a = np.arange(16).reshape(4, 4)\na",
            "outputs": [
                {
                    "output_type": "execute_result",
                    "metadata": {},
                    "data": {
                        "text/plain": "array([[ 0,  1,  2,  3],\n       [ 4,  5,  6,  7],\n       [ 8,  9, 10, 11],\n       [12, 13, 14, 15]])"
                    },
                    "execution_count": null
                }
            ]
        },
        {
            "id": "262b3595",
            "cell_type": "markdown",
            "source": "Pass the array to get the indices of the lower triangular elements.\n",
            "metadata": {}
        },
        {
            "id": "4b026dba",
            "cell_type": "code",
            "metadata": {},
            "execution_count": null,
            "source": "trili = np.tril_indices_from(a)\ntrili",
            "outputs": [
                {
                    "output_type": "execute_result",
                    "metadata": {},
                    "data": {
                        "text/plain": "(array([0, 1, 1, 2, 2, 2, 3, 3, 3, 3]), array([0, 0, 1, 0, 1, 2, 0, 1, 2, 3]))"
                    },
                    "execution_count": null
                }
            ]
        },
        {
            "id": "41c821ad",
            "cell_type": "code",
            "metadata": {},
            "execution_count": null,
            "source": "a[trili]",
            "outputs": [
                {
                    "output_type": "execute_result",
                    "metadata": {},
                    "data": {
                        "text/plain": "array([ 0,  4,  5,  8,  9, 10, 12, 13, 14, 15])"
                    },
                    "execution_count": null
                }
            ]
        },
        {
            "id": "c842b374",
            "cell_type": "markdown",
            "source": "This is syntactic sugar for tril_indices().\n",
            "metadata": {}
        },
        {
            "id": "7dc241ae",
            "cell_type": "code",
            "metadata": {},
            "execution_count": null,
            "source": "np.tril_indices(a.shape[0])",
            "outputs": [
                {
                    "output_type": "execute_result",
                    "metadata": {},
                    "data": {
                        "text/plain": "(array([0, 1, 1, 2, 2, 2, 3, 3, 3, 3]), array([0, 0, 1, 0, 1, 2, 0, 1, 2, 3]))"
                    },
                    "execution_count": null
                }
            ]
        },
        {
            "id": "1d1ec19d",
            "cell_type": "markdown",
            "source": "Use the `k` parameter to return the indices for the lower triangular array\nup to the k-th diagonal.\n",
            "metadata": {}
        },
        {
            "id": "19a8f9a0",
            "cell_type": "code",
            "metadata": {},
            "execution_count": null,
            "source": "trili1 = np.tril_indices_from(a, k=1)\na[trili1]",
            "outputs": [
                {
                    "output_type": "execute_result",
                    "metadata": {},
                    "data": {
                        "text/plain": "array([ 0,  1,  4,  5,  6,  8,  9, 10, 11, 12, 13, 14, 15])"
                    },
                    "execution_count": null
                }
            ]
        }
    ]
}