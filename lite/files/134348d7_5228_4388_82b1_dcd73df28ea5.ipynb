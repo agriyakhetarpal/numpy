{
    "nbformat": 4,
    "nbformat_minor": 5,
    "metadata": {
        "kernelspec": {
            "display_name": "Python",
            "language": "python",
            "name": "python"
        },
        "language_info": {
            "name": "python"
        }
    },
    "cells": [
        {
            "id": "aef1a0c4",
            "cell_type": "markdown",
            "source": "<div class='alert alert-warning'>\n\nNumPy's interactive examples are experimental and may not always work as expected, with high load times especially on low-resource platforms, , and the version of NumPy might not be in sync with the one you are browsing the documentation for. If you encounter any issues, please report them on the [NumPy issue tracker](https://github.com/numpy/numpy/issues).\n\n</div>",
            "metadata": {}
        },
        {
            "id": "f7a78a9b",
            "cell_type": "code",
            "metadata": {},
            "execution_count": null,
            "source": "import numpy as np\na = np.array([1+2j,3+4j])\nb = np.array([5+6j,7+8j])\nnp.vdot(a, b)",
            "outputs": [
                {
                    "output_type": "execute_result",
                    "metadata": {},
                    "data": {
                        "text/plain": "(70-8j)"
                    },
                    "execution_count": null
                }
            ]
        },
        {
            "id": "7e4cdb44",
            "cell_type": "code",
            "metadata": {},
            "execution_count": null,
            "source": "np.vdot(b, a)",
            "outputs": [
                {
                    "output_type": "execute_result",
                    "metadata": {},
                    "data": {
                        "text/plain": "(70+8j)"
                    },
                    "execution_count": null
                }
            ]
        },
        {
            "id": "6b97a639",
            "cell_type": "markdown",
            "source": "Note that higher-dimensional arrays are flattened!\n",
            "metadata": {}
        },
        {
            "id": "e087bfdb",
            "cell_type": "code",
            "metadata": {},
            "execution_count": null,
            "source": "a = np.array([[1, 4], [5, 6]])\nb = np.array([[4, 1], [2, 2]])\nnp.vdot(a, b)",
            "outputs": [
                {
                    "output_type": "execute_result",
                    "metadata": {},
                    "data": {
                        "text/plain": "30"
                    },
                    "execution_count": null
                }
            ]
        },
        {
            "id": "f70c9460",
            "cell_type": "code",
            "metadata": {},
            "execution_count": null,
            "source": "np.vdot(b, a)",
            "outputs": [
                {
                    "output_type": "execute_result",
                    "metadata": {},
                    "data": {
                        "text/plain": "30"
                    },
                    "execution_count": null
                }
            ]
        },
        {
            "id": "c01723b6",
            "cell_type": "code",
            "metadata": {},
            "execution_count": null,
            "source": "1*4 + 4*1 + 5*2 + 6*2",
            "outputs": [
                {
                    "output_type": "execute_result",
                    "metadata": {},
                    "data": {
                        "text/plain": "30"
                    },
                    "execution_count": null
                }
            ]
        }
    ]
}