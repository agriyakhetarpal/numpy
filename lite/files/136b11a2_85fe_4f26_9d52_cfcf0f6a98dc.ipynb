{
    "nbformat": 4,
    "nbformat_minor": 5,
    "metadata": {
        "kernelspec": {
            "display_name": "Python",
            "language": "python",
            "name": "python"
        },
        "language_info": {
            "name": "python"
        }
    },
    "cells": [
        {
            "id": "517aa619",
            "cell_type": "markdown",
            "source": "<div class='alert alert-warning'>\n\nNumPy's interactive examples are experimental and may not always work as expected, with high load times especially on low-resource platforms, and the version of NumPy might not be in sync with the one you are browsing the documentation for. If you encounter any issues, please report them on the [NumPy issue tracker](https://github.com/numpy/numpy/issues).\n\n</div>",
            "metadata": {}
        },
        {
            "id": "0abccd80",
            "cell_type": "code",
            "metadata": {},
            "execution_count": null,
            "source": "import numpy as np\nfrom numpy.lib.stride_tricks import sliding_window_view\nx = np.arange(6)\nx.shape",
            "outputs": [
                {
                    "output_type": "execute_result",
                    "metadata": {},
                    "data": {
                        "text/plain": "(6,)"
                    },
                    "execution_count": null
                }
            ]
        },
        {
            "id": "1bb9ee99",
            "cell_type": "code",
            "metadata": {},
            "execution_count": null,
            "source": "v = sliding_window_view(x, 3)\nv.shape",
            "outputs": [
                {
                    "output_type": "execute_result",
                    "metadata": {},
                    "data": {
                        "text/plain": "(4, 3)"
                    },
                    "execution_count": null
                }
            ]
        },
        {
            "id": "0e0d7e64",
            "cell_type": "code",
            "metadata": {},
            "execution_count": null,
            "source": "v",
            "outputs": [
                {
                    "output_type": "execute_result",
                    "metadata": {},
                    "data": {
                        "text/plain": "array([[0, 1, 2],\n       [1, 2, 3],\n       [2, 3, 4],\n       [3, 4, 5]])"
                    },
                    "execution_count": null
                }
            ]
        },
        {
            "id": "49c186ca",
            "cell_type": "markdown",
            "source": "This also works in more dimensions, e.g.\n",
            "metadata": {}
        },
        {
            "id": "3246af69",
            "cell_type": "code",
            "metadata": {},
            "execution_count": null,
            "source": "i, j = np.ogrid[:3, :4]\nx = 10*i + j\nx.shape",
            "outputs": [
                {
                    "output_type": "execute_result",
                    "metadata": {},
                    "data": {
                        "text/plain": "(3, 4)"
                    },
                    "execution_count": null
                }
            ]
        },
        {
            "id": "1b49b389",
            "cell_type": "code",
            "metadata": {},
            "execution_count": null,
            "source": "x",
            "outputs": [
                {
                    "output_type": "execute_result",
                    "metadata": {},
                    "data": {
                        "text/plain": "array([[ 0,  1,  2,  3],\n       [10, 11, 12, 13],\n       [20, 21, 22, 23]])"
                    },
                    "execution_count": null
                }
            ]
        },
        {
            "id": "c9b4b373",
            "cell_type": "code",
            "metadata": {},
            "execution_count": null,
            "source": "shape = (2,2)\nv = sliding_window_view(x, shape)\nv.shape",
            "outputs": [
                {
                    "output_type": "execute_result",
                    "metadata": {},
                    "data": {
                        "text/plain": "(2, 3, 2, 2)"
                    },
                    "execution_count": null
                }
            ]
        },
        {
            "id": "873529b4",
            "cell_type": "code",
            "metadata": {},
            "execution_count": null,
            "source": "v",
            "outputs": [
                {
                    "output_type": "execute_result",
                    "metadata": {},
                    "data": {
                        "text/plain": "array([[[[ 0,  1],\n         [10, 11]],\n        [[ 1,  2],\n         [11, 12]],\n        [[ 2,  3],\n         [12, 13]]],\n       [[[10, 11],\n         [20, 21]],\n        [[11, 12],\n         [21, 22]],\n        [[12, 13],\n         [22, 23]]]])"
                    },
                    "execution_count": null
                }
            ]
        },
        {
            "id": "00efa785",
            "cell_type": "markdown",
            "source": "The axis can be specified explicitly:\n",
            "metadata": {}
        },
        {
            "id": "347d20f7",
            "cell_type": "code",
            "metadata": {},
            "execution_count": null,
            "source": "v = sliding_window_view(x, 3, 0)\nv.shape",
            "outputs": [
                {
                    "output_type": "execute_result",
                    "metadata": {},
                    "data": {
                        "text/plain": "(1, 4, 3)"
                    },
                    "execution_count": null
                }
            ]
        },
        {
            "id": "ead7487d",
            "cell_type": "code",
            "metadata": {},
            "execution_count": null,
            "source": "v",
            "outputs": [
                {
                    "output_type": "execute_result",
                    "metadata": {},
                    "data": {
                        "text/plain": "array([[[ 0, 10, 20],\n        [ 1, 11, 21],\n        [ 2, 12, 22],\n        [ 3, 13, 23]]])"
                    },
                    "execution_count": null
                }
            ]
        },
        {
            "id": "d57369b5",
            "cell_type": "markdown",
            "source": "The same axis can be used several times. In that case, every use reduces\nthe corresponding original dimension:\n",
            "metadata": {}
        },
        {
            "id": "529f0330",
            "cell_type": "code",
            "metadata": {},
            "execution_count": null,
            "source": "v = sliding_window_view(x, (2, 3), (1, 1))\nv.shape",
            "outputs": [
                {
                    "output_type": "execute_result",
                    "metadata": {},
                    "data": {
                        "text/plain": "(3, 1, 2, 3)"
                    },
                    "execution_count": null
                }
            ]
        },
        {
            "id": "73ef53e0",
            "cell_type": "code",
            "metadata": {},
            "execution_count": null,
            "source": "v",
            "outputs": [
                {
                    "output_type": "execute_result",
                    "metadata": {},
                    "data": {
                        "text/plain": "array([[[[ 0,  1,  2],\n         [ 1,  2,  3]]],\n       [[[10, 11, 12],\n         [11, 12, 13]]],\n       [[[20, 21, 22],\n         [21, 22, 23]]]])"
                    },
                    "execution_count": null
                }
            ]
        },
        {
            "id": "6554a5f5",
            "cell_type": "markdown",
            "source": "Combining with stepped slicing (`::step`), this can be used to take sliding\nviews which skip elements:\n",
            "metadata": {}
        },
        {
            "id": "5159ebc3",
            "cell_type": "code",
            "metadata": {},
            "execution_count": null,
            "source": "x = np.arange(7)\nsliding_window_view(x, 5)[:, ::2]",
            "outputs": [
                {
                    "output_type": "execute_result",
                    "metadata": {},
                    "data": {
                        "text/plain": "array([[0, 2, 4],\n       [1, 3, 5],\n       [2, 4, 6]])"
                    },
                    "execution_count": null
                }
            ]
        },
        {
            "id": "911c2c88",
            "cell_type": "markdown",
            "source": "or views which move by multiple elements\n",
            "metadata": {}
        },
        {
            "id": "5a29f76e",
            "cell_type": "code",
            "metadata": {},
            "execution_count": null,
            "source": "x = np.arange(7)\nsliding_window_view(x, 3)[::2, :]",
            "outputs": [
                {
                    "output_type": "execute_result",
                    "metadata": {},
                    "data": {
                        "text/plain": "array([[0, 1, 2],\n       [2, 3, 4],\n       [4, 5, 6]])"
                    },
                    "execution_count": null
                }
            ]
        },
        {
            "id": "a70f9366",
            "cell_type": "markdown",
            "source": "A common application of `sliding_window_view` is the calculation of running\nstatistics. The simplest example is the\n[moving average](https://en.wikipedia.org/wiki/Moving_average):\n",
            "metadata": {}
        },
        {
            "id": "70249017",
            "cell_type": "code",
            "metadata": {},
            "execution_count": null,
            "source": "x = np.arange(6)\nx.shape",
            "outputs": [
                {
                    "output_type": "execute_result",
                    "metadata": {},
                    "data": {
                        "text/plain": "(6,)"
                    },
                    "execution_count": null
                }
            ]
        },
        {
            "id": "c142140d",
            "cell_type": "code",
            "metadata": {},
            "execution_count": null,
            "source": "v = sliding_window_view(x, 3)\nv.shape",
            "outputs": [
                {
                    "output_type": "execute_result",
                    "metadata": {},
                    "data": {
                        "text/plain": "(4, 3)"
                    },
                    "execution_count": null
                }
            ]
        },
        {
            "id": "90887d47",
            "cell_type": "code",
            "metadata": {},
            "execution_count": null,
            "source": "v",
            "outputs": [
                {
                    "output_type": "execute_result",
                    "metadata": {},
                    "data": {
                        "text/plain": "array([[0, 1, 2],\n       [1, 2, 3],\n       [2, 3, 4],\n       [3, 4, 5]])"
                    },
                    "execution_count": null
                }
            ]
        },
        {
            "id": "f0b559c6",
            "cell_type": "code",
            "metadata": {},
            "execution_count": null,
            "source": "moving_average = v.mean(axis=-1)\nmoving_average",
            "outputs": [
                {
                    "output_type": "execute_result",
                    "metadata": {},
                    "data": {
                        "text/plain": "array([1., 2., 3., 4.])"
                    },
                    "execution_count": null
                }
            ]
        },
        {
            "id": "5412a714",
            "cell_type": "markdown",
            "source": "Note that a sliding window approach is often **not** optimal (see Notes).",
            "metadata": {}
        }
    ]
}