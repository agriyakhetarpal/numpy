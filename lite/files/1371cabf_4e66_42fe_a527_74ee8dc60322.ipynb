{
    "nbformat": 4,
    "nbformat_minor": 5,
    "metadata": {
        "kernelspec": {
            "display_name": "Python",
            "language": "python",
            "name": "python"
        },
        "language_info": {
            "name": "python"
        }
    },
    "cells": [
        {
            "id": "64777f79",
            "cell_type": "markdown",
            "source": "<div class='alert alert-warning'>\n\nNumPy's interactive examples are experimental and may not always work as expected, with high load times especially on low-resource platforms, and the version of NumPy might not be in sync with the one you are browsing the documentation for. If you encounter any issues, please report them on the [NumPy issue tracker](https://github.com/numpy/numpy/issues).\n\n</div>",
            "metadata": {}
        },
        {
            "id": "19b950c1",
            "cell_type": "code",
            "metadata": {},
            "execution_count": null,
            "source": "from numpy.polynomial.hermite import hermroots, hermfromroots\ncoef = hermfromroots([-1, 0, 1])\ncoef",
            "outputs": [
                {
                    "output_type": "execute_result",
                    "metadata": {},
                    "data": {
                        "text/plain": "array([0.   ,  0.25 ,  0.   ,  0.125])"
                    },
                    "execution_count": null
                }
            ]
        },
        {
            "id": "77a22a87",
            "cell_type": "code",
            "metadata": {},
            "execution_count": null,
            "source": "hermroots(coef)",
            "outputs": [
                {
                    "output_type": "execute_result",
                    "metadata": {},
                    "data": {
                        "text/plain": "array([-1.00000000e+00, -1.38777878e-17,  1.00000000e+00])"
                    },
                    "execution_count": null
                }
            ]
        }
    ]
}