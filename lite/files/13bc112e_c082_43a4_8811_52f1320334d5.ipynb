{
    "nbformat": 4,
    "nbformat_minor": 5,
    "metadata": {
        "kernelspec": {
            "display_name": "Python",
            "language": "python",
            "name": "python"
        },
        "language_info": {
            "name": "python"
        }
    },
    "cells": [
        {
            "id": "e178d564",
            "cell_type": "markdown",
            "source": "<div class='alert alert-warning'>\n\nNumPy's interactive examples are experimental and may not always work as expected, with high load times especially on low-resource platforms, , and the version of NumPy might not be in sync with the one you are browsing the documentation for. If you encounter any issues, please report them on the [NumPy issue tracker](https://github.com/numpy/numpy/issues).\n\n</div>",
            "metadata": {}
        },
        {
            "id": "f0b1b3c3",
            "cell_type": "markdown",
            "source": "A simple ISO date:\n",
            "metadata": {}
        },
        {
            "id": "15483a22",
            "cell_type": "code",
            "metadata": {},
            "execution_count": null,
            "source": "import numpy as np",
            "outputs": []
        },
        {
            "id": "dd89bcf8",
            "cell_type": "code",
            "metadata": {},
            "execution_count": null,
            "source": "np.datetime64('2005-02-25')",
            "outputs": [
                {
                    "output_type": "execute_result",
                    "metadata": {},
                    "data": {
                        "text/plain": "np.datetime64('2005-02-25')"
                    },
                    "execution_count": null
                }
            ]
        },
        {
            "id": "38277e93",
            "cell_type": "markdown",
            "source": "From an integer and a date unit, 1 year since the UNIX epoch:\n",
            "metadata": {}
        },
        {
            "id": "d6940438",
            "cell_type": "code",
            "metadata": {},
            "execution_count": null,
            "source": "np.datetime64(1, 'Y')",
            "outputs": [
                {
                    "output_type": "execute_result",
                    "metadata": {},
                    "data": {
                        "text/plain": "np.datetime64('1971')"
                    },
                    "execution_count": null
                }
            ]
        },
        {
            "id": "76dfb64f",
            "cell_type": "markdown",
            "source": "Using months for the unit:\n",
            "metadata": {}
        },
        {
            "id": "ce710a7c",
            "cell_type": "code",
            "metadata": {},
            "execution_count": null,
            "source": "np.datetime64('2005-02')",
            "outputs": [
                {
                    "output_type": "execute_result",
                    "metadata": {},
                    "data": {
                        "text/plain": "np.datetime64('2005-02')"
                    },
                    "execution_count": null
                }
            ]
        },
        {
            "id": "68bd09e4",
            "cell_type": "markdown",
            "source": "Specifying just the month, but forcing a 'days' unit:\n",
            "metadata": {}
        },
        {
            "id": "cf59f092",
            "cell_type": "code",
            "metadata": {},
            "execution_count": null,
            "source": "np.datetime64('2005-02', 'D')",
            "outputs": [
                {
                    "output_type": "execute_result",
                    "metadata": {},
                    "data": {
                        "text/plain": "np.datetime64('2005-02-01')"
                    },
                    "execution_count": null
                }
            ]
        },
        {
            "id": "15ea4d0c",
            "cell_type": "markdown",
            "source": "From a date and time:\n",
            "metadata": {}
        },
        {
            "id": "c2e99cda",
            "cell_type": "code",
            "metadata": {},
            "execution_count": null,
            "source": "np.datetime64('2005-02-25T03:30')",
            "outputs": [
                {
                    "output_type": "execute_result",
                    "metadata": {},
                    "data": {
                        "text/plain": "np.datetime64('2005-02-25T03:30')"
                    },
                    "execution_count": null
                }
            ]
        },
        {
            "id": "f6d1cf63",
            "cell_type": "markdown",
            "source": "NAT (not a time):\n",
            "metadata": {}
        },
        {
            "id": "27658b7f",
            "cell_type": "code",
            "metadata": {},
            "execution_count": null,
            "source": "np.datetime64('nat')",
            "outputs": [
                {
                    "output_type": "execute_result",
                    "metadata": {},
                    "data": {
                        "text/plain": "np.datetime64('NaT')"
                    },
                    "execution_count": null
                }
            ]
        }
    ]
}