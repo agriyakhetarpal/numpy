{
    "nbformat": 4,
    "nbformat_minor": 5,
    "metadata": {
        "kernelspec": {
            "display_name": "Python",
            "language": "python",
            "name": "python"
        },
        "language_info": {
            "name": "python"
        }
    },
    "cells": [
        {
            "id": "f45e929f",
            "cell_type": "markdown",
            "source": "<div class='alert alert-warning'>\n\nNumPy's interactive examples are experimental and may not always work as expected, with high load times especially on low-resource platforms, and the version of NumPy might not be in sync with the one you are browsing the documentation for. If you encounter any issues, please report them on the [NumPy issue tracker](https://github.com/numpy/numpy/issues).\n\n</div>",
            "metadata": {}
        },
        {
            "id": "d4fb65e8",
            "cell_type": "markdown",
            "source": "The defining property of the antiderivative:\n",
            "metadata": {}
        },
        {
            "id": "34949e9a",
            "cell_type": "code",
            "metadata": {},
            "execution_count": null,
            "source": "import numpy as np",
            "outputs": []
        },
        {
            "id": "1bfa9c4c",
            "cell_type": "code",
            "metadata": {},
            "execution_count": null,
            "source": "p = np.poly1d([1,1,1])\nP = np.polyint(p)\nP",
            "outputs": [
                {
                    "output_type": "execute_result",
                    "metadata": {},
                    "data": {
                        "text/plain": " poly1d([ 0.33333333,  0.5       ,  1.        ,  0.        ]) # may vary"
                    },
                    "execution_count": null
                }
            ]
        },
        {
            "id": "b20fe022",
            "cell_type": "code",
            "metadata": {},
            "execution_count": null,
            "source": "np.polyder(P) == p",
            "outputs": [
                {
                    "output_type": "execute_result",
                    "metadata": {},
                    "data": {
                        "text/plain": "True"
                    },
                    "execution_count": null
                }
            ]
        },
        {
            "id": "e3462295",
            "cell_type": "markdown",
            "source": "The integration constants default to zero, but can be specified:\n",
            "metadata": {}
        },
        {
            "id": "8b641ef1",
            "cell_type": "code",
            "metadata": {},
            "execution_count": null,
            "source": "P = np.polyint(p, 3)\nP(0)",
            "outputs": [
                {
                    "output_type": "execute_result",
                    "metadata": {},
                    "data": {
                        "text/plain": "0.0"
                    },
                    "execution_count": null
                }
            ]
        },
        {
            "id": "d07c2396",
            "cell_type": "code",
            "metadata": {},
            "execution_count": null,
            "source": "np.polyder(P)(0)",
            "outputs": [
                {
                    "output_type": "execute_result",
                    "metadata": {},
                    "data": {
                        "text/plain": "0.0"
                    },
                    "execution_count": null
                }
            ]
        },
        {
            "id": "297a65be",
            "cell_type": "code",
            "metadata": {},
            "execution_count": null,
            "source": "np.polyder(P, 2)(0)",
            "outputs": [
                {
                    "output_type": "execute_result",
                    "metadata": {},
                    "data": {
                        "text/plain": "0.0"
                    },
                    "execution_count": null
                }
            ]
        },
        {
            "id": "2169f92d",
            "cell_type": "code",
            "metadata": {},
            "execution_count": null,
            "source": "P = np.polyint(p, 3, k=[6,5,3])\nP",
            "outputs": [
                {
                    "output_type": "execute_result",
                    "metadata": {},
                    "data": {
                        "text/plain": "poly1d([ 0.01666667,  0.04166667,  0.16666667,  3. ,  5. ,  3. ]) # may vary"
                    },
                    "execution_count": null
                }
            ]
        },
        {
            "id": "4d804106",
            "cell_type": "markdown",
            "source": "Note that 3 = 6 / 2!, and that the constants are given in the order of\nintegrations. Constant of the highest-order polynomial term comes first:\n",
            "metadata": {}
        },
        {
            "id": "1f047f1b",
            "cell_type": "code",
            "metadata": {},
            "execution_count": null,
            "source": "np.polyder(P, 2)(0)",
            "outputs": [
                {
                    "output_type": "execute_result",
                    "metadata": {},
                    "data": {
                        "text/plain": "6.0"
                    },
                    "execution_count": null
                }
            ]
        },
        {
            "id": "5806b0a8",
            "cell_type": "code",
            "metadata": {},
            "execution_count": null,
            "source": "np.polyder(P, 1)(0)",
            "outputs": [
                {
                    "output_type": "execute_result",
                    "metadata": {},
                    "data": {
                        "text/plain": "5.0"
                    },
                    "execution_count": null
                }
            ]
        },
        {
            "id": "320f2c49",
            "cell_type": "code",
            "metadata": {},
            "execution_count": null,
            "source": "P(0)",
            "outputs": [
                {
                    "output_type": "execute_result",
                    "metadata": {},
                    "data": {
                        "text/plain": "3.0"
                    },
                    "execution_count": null
                }
            ]
        }
    ]
}