{
    "nbformat": 4,
    "nbformat_minor": 5,
    "metadata": {
        "kernelspec": {
            "display_name": "Python",
            "language": "python",
            "name": "python"
        },
        "language_info": {
            "name": "python"
        }
    },
    "cells": [
        {
            "id": "08c4331c",
            "cell_type": "markdown",
            "source": "<div class='alert alert-warning'>\n\nNumPy's interactive examples are experimental and may not always work as expected, with high load times especially on low-resource platforms, and the version of NumPy might not be in sync with the one you are browsing the documentation for. If you encounter any issues, please report them on the [NumPy issue tracker](https://github.com/numpy/numpy/issues).\n\n</div>",
            "metadata": {}
        },
        {
            "id": "c26663f9",
            "cell_type": "code",
            "metadata": {},
            "execution_count": null,
            "source": "import numpy as np\na = np.array((0, 0, 0, 1, 2, 3, 0, 2, 1, 0))\nnp.trim_zeros(a)",
            "outputs": [
                {
                    "output_type": "execute_result",
                    "metadata": {},
                    "data": {
                        "text/plain": "array([1, 2, 3, 0, 2, 1])"
                    },
                    "execution_count": null
                }
            ]
        },
        {
            "id": "c072a2f9",
            "cell_type": "code",
            "metadata": {},
            "execution_count": null,
            "source": "np.trim_zeros(a, 'b')",
            "outputs": [
                {
                    "output_type": "execute_result",
                    "metadata": {},
                    "data": {
                        "text/plain": "array([0, 0, 0, ..., 0, 2, 1])"
                    },
                    "execution_count": null
                }
            ]
        },
        {
            "id": "e1785a0b",
            "cell_type": "markdown",
            "source": "The input data type is preserved, list/tuple in means list/tuple out.\n",
            "metadata": {}
        },
        {
            "id": "8c11d344",
            "cell_type": "code",
            "metadata": {},
            "execution_count": null,
            "source": "np.trim_zeros([0, 1, 2, 0])",
            "outputs": [
                {
                    "output_type": "execute_result",
                    "metadata": {},
                    "data": {
                        "text/plain": "[1, 2]"
                    },
                    "execution_count": null
                }
            ]
        }
    ]
}