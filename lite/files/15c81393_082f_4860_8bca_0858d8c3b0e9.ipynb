{
    "nbformat": 4,
    "nbformat_minor": 5,
    "metadata": {
        "kernelspec": {
            "display_name": "Python",
            "language": "python",
            "name": "python"
        },
        "language_info": {
            "name": "python"
        }
    },
    "cells": [
        {
            "id": "9e716b90",
            "cell_type": "markdown",
            "source": "<div class='alert alert-warning'>\n\nNumPy's interactive examples are experimental and may not always work as expected, with high load times especially on low-resource platforms, and the version of NumPy might not be in sync with the one you are browsing the documentation for. If you encounter any issues, please report them on the [NumPy issue tracker](https://github.com/numpy/numpy/issues).\n\n</div>",
            "metadata": {}
        },
        {
            "id": "60662544",
            "cell_type": "code",
            "metadata": {},
            "execution_count": null,
            "source": "import numpy as np\norig_settings = np.seterr(all='ignore')  # seterr to known value\nnp.int16(32000) * np.int16(3)",
            "outputs": [
                {
                    "output_type": "execute_result",
                    "metadata": {},
                    "data": {
                        "text/plain": "30464"
                    },
                    "execution_count": null
                }
            ]
        },
        {
            "id": "a51186cf",
            "cell_type": "code",
            "metadata": {},
            "execution_count": null,
            "source": "np.seterr(over='raise')",
            "outputs": [
                {
                    "output_type": "execute_result",
                    "metadata": {},
                    "data": {
                        "text/plain": "{'divide': 'ignore', 'over': 'ignore', 'under': 'ignore', 'invalid': 'ignore'}"
                    },
                    "execution_count": null
                }
            ]
        },
        {
            "id": "ff2cfe62",
            "cell_type": "code",
            "metadata": {},
            "execution_count": null,
            "source": "old_settings = np.seterr(all='warn', over='raise')\nnp.int16(32000) * np.int16(3)",
            "outputs": [
                {
                    "output_type": "execute_result",
                    "metadata": {},
                    "data": {
                        "text/plain": "Traceback (most recent call last):\n  File \"<stdin>\", line 1, in <module>\nFloatingPointError: overflow encountered in scalar multiply"
                    },
                    "execution_count": null
                }
            ]
        },
        {
            "id": "f9f7bf33",
            "cell_type": "code",
            "metadata": {},
            "execution_count": null,
            "source": "old_settings = np.seterr(all='print')\nnp.geterr()",
            "outputs": [
                {
                    "output_type": "execute_result",
                    "metadata": {},
                    "data": {
                        "text/plain": "{'divide': 'print', 'over': 'print', 'under': 'print', 'invalid': 'print'}"
                    },
                    "execution_count": null
                }
            ]
        },
        {
            "id": "6cabb67a",
            "cell_type": "code",
            "metadata": {},
            "execution_count": null,
            "source": "np.int16(32000) * np.int16(3)",
            "outputs": [
                {
                    "output_type": "execute_result",
                    "metadata": {},
                    "data": {
                        "text/plain": "30464"
                    },
                    "execution_count": null
                }
            ]
        },
        {
            "id": "549946d0",
            "cell_type": "code",
            "metadata": {},
            "execution_count": null,
            "source": "np.seterr(**orig_settings)  # restore original",
            "outputs": [
                {
                    "output_type": "execute_result",
                    "metadata": {},
                    "data": {
                        "text/plain": "{'divide': 'print', 'over': 'print', 'under': 'print', 'invalid': 'print'}"
                    },
                    "execution_count": null
                }
            ]
        }
    ]
}