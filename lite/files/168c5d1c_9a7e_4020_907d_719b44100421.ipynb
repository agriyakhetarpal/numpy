{
    "nbformat": 4,
    "nbformat_minor": 5,
    "metadata": {
        "kernelspec": {
            "display_name": "Python",
            "language": "python",
            "name": "python"
        },
        "language_info": {
            "name": "python"
        }
    },
    "cells": [
        {
            "id": "6600a37e",
            "cell_type": "markdown",
            "source": "<div class='alert alert-warning'>\n\nNumPy's interactive examples are experimental and may not always work as expected, with high load times especially on low-resource platforms, and the version of NumPy might not be in sync with the one you are browsing the documentation for. If you encounter any issues, please report them on the [NumPy issue tracker](https://github.com/numpy/numpy/issues).\n\n</div>",
            "metadata": {}
        },
        {
            "id": "1f7cba9e",
            "cell_type": "code",
            "metadata": {},
            "execution_count": null,
            "source": "m = np.matrix([[1,2], [3,4]])\nm.flatten()",
            "outputs": [
                {
                    "output_type": "execute_result",
                    "metadata": {},
                    "data": {
                        "text/plain": "matrix([[1, 2, 3, 4]])"
                    },
                    "execution_count": null
                }
            ]
        },
        {
            "id": "20d52ab2",
            "cell_type": "code",
            "metadata": {},
            "execution_count": null,
            "source": "m.flatten('F')",
            "outputs": [
                {
                    "output_type": "execute_result",
                    "metadata": {},
                    "data": {
                        "text/plain": "matrix([[1, 3, 2, 4]])"
                    },
                    "execution_count": null
                }
            ]
        }
    ]
}