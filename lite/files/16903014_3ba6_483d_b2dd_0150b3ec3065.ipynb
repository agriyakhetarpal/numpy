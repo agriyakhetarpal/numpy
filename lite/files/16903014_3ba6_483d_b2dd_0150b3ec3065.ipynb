{
    "nbformat": 4,
    "nbformat_minor": 5,
    "metadata": {
        "kernelspec": {
            "display_name": "Python",
            "language": "python",
            "name": "python"
        },
        "language_info": {
            "name": "python"
        }
    },
    "cells": [
        {
            "id": "742b0c16",
            "cell_type": "markdown",
            "source": "<div class='alert alert-warning'>\n\nNumPy's interactive examples are experimental and may not always work as expected, with high load times especially on low-resource platforms, and the version of NumPy might not be in sync with the one you are browsing the documentation for. If you encounter any issues, please report them on the [NumPy issue tracker](https://github.com/numpy/numpy/issues).\n\n</div>",
            "metadata": {}
        },
        {
            "id": "6d2b2f96",
            "cell_type": "markdown",
            "source": "A simple ISO date:\n",
            "metadata": {}
        },
        {
            "id": "62243e27",
            "cell_type": "code",
            "metadata": {},
            "execution_count": null,
            "source": "import numpy as np",
            "outputs": []
        },
        {
            "id": "bfe02ca0",
            "cell_type": "code",
            "metadata": {},
            "execution_count": null,
            "source": "np.datetime64('2005-02-25')",
            "outputs": [
                {
                    "output_type": "execute_result",
                    "metadata": {},
                    "data": {
                        "text/plain": "np.datetime64('2005-02-25')"
                    },
                    "execution_count": null
                }
            ]
        },
        {
            "id": "59db4db5",
            "cell_type": "markdown",
            "source": "From an integer and a date unit, 1 year since the UNIX epoch:\n",
            "metadata": {}
        },
        {
            "id": "623f952b",
            "cell_type": "code",
            "metadata": {},
            "execution_count": null,
            "source": "np.datetime64(1, 'Y')",
            "outputs": [
                {
                    "output_type": "execute_result",
                    "metadata": {},
                    "data": {
                        "text/plain": "np.datetime64('1971')"
                    },
                    "execution_count": null
                }
            ]
        },
        {
            "id": "a3d30635",
            "cell_type": "markdown",
            "source": "Using months for the unit:\n",
            "metadata": {}
        },
        {
            "id": "67be8a56",
            "cell_type": "code",
            "metadata": {},
            "execution_count": null,
            "source": "np.datetime64('2005-02')",
            "outputs": [
                {
                    "output_type": "execute_result",
                    "metadata": {},
                    "data": {
                        "text/plain": "np.datetime64('2005-02')"
                    },
                    "execution_count": null
                }
            ]
        },
        {
            "id": "90ae694f",
            "cell_type": "markdown",
            "source": "Specifying just the month, but forcing a 'days' unit:\n",
            "metadata": {}
        },
        {
            "id": "2dbf9698",
            "cell_type": "code",
            "metadata": {},
            "execution_count": null,
            "source": "np.datetime64('2005-02', 'D')",
            "outputs": [
                {
                    "output_type": "execute_result",
                    "metadata": {},
                    "data": {
                        "text/plain": "np.datetime64('2005-02-01')"
                    },
                    "execution_count": null
                }
            ]
        },
        {
            "id": "eadce0a1",
            "cell_type": "markdown",
            "source": "From a date and time:\n",
            "metadata": {}
        },
        {
            "id": "17bfaead",
            "cell_type": "code",
            "metadata": {},
            "execution_count": null,
            "source": "np.datetime64('2005-02-25T03:30')",
            "outputs": [
                {
                    "output_type": "execute_result",
                    "metadata": {},
                    "data": {
                        "text/plain": "np.datetime64('2005-02-25T03:30')"
                    },
                    "execution_count": null
                }
            ]
        },
        {
            "id": "907a44a3",
            "cell_type": "markdown",
            "source": "NAT (not a time):\n",
            "metadata": {}
        },
        {
            "id": "507c426d",
            "cell_type": "code",
            "metadata": {},
            "execution_count": null,
            "source": "np.datetime64('nat')",
            "outputs": [
                {
                    "output_type": "execute_result",
                    "metadata": {},
                    "data": {
                        "text/plain": "np.datetime64('NaT')"
                    },
                    "execution_count": null
                }
            ]
        }
    ]
}