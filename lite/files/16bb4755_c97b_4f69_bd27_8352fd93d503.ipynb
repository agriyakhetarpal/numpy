{
    "nbformat": 4,
    "nbformat_minor": 5,
    "metadata": {
        "kernelspec": {
            "display_name": "Python",
            "language": "python",
            "name": "python"
        },
        "language_info": {
            "name": "python"
        }
    },
    "cells": [
        {
            "id": "aab0f603",
            "cell_type": "markdown",
            "source": "<div class='alert alert-warning'>\n\nNumPy's interactive examples are experimental and may not always work as expected, with high load times especially on low-resource platforms, , and the version of NumPy might not be in sync with the one you are browsing the documentation for. If you encounter any issues, please report them on the [NumPy issue tracker](https://github.com/numpy/numpy/issues).\n\n</div>",
            "metadata": {}
        },
        {
            "id": "9b525c73",
            "cell_type": "markdown",
            "source": "`multi_dot` allows you to write\n```\n\n```",
            "metadata": {}
        },
        {
            "id": "97d39e51",
            "cell_type": "code",
            "metadata": {},
            "execution_count": null,
            "source": "import numpy as np\nfrom numpy.linalg import multi_dot\n# Prepare some data\nA = np.random.random((10000, 100))\nB = np.random.random((100, 1000))\nC = np.random.random((1000, 5))\nD = np.random.random((5, 333))\n# the actual dot multiplication\n_ = multi_dot([A, B, C, D])",
            "outputs": []
        },
        {
            "id": "355dc902",
            "cell_type": "markdown",
            "source": "instead of\n```\n\n```",
            "metadata": {}
        },
        {
            "id": "52d2cc8a",
            "cell_type": "code",
            "metadata": {},
            "execution_count": null,
            "source": "_ = np.dot(np.dot(np.dot(A, B), C), D)\n# or\n_ = A.dot(B).dot(C).dot(D)",
            "outputs": []
        }
    ]
}