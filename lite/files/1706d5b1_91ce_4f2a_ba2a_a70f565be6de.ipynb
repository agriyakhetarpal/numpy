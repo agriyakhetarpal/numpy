{
    "nbformat": 4,
    "nbformat_minor": 5,
    "metadata": {
        "kernelspec": {
            "display_name": "Python",
            "language": "python",
            "name": "python"
        },
        "language_info": {
            "name": "python"
        }
    },
    "cells": [
        {
            "id": "617cb06f",
            "cell_type": "markdown",
            "source": "<div class='alert alert-warning'>\n\nNumPy's interactive examples are experimental and may not always work as expected, with high load times especially on low-resource platforms, , and the version of NumPy might not be in sync with the one you are browsing the documentation for. If you encounter any issues, please report them on the [NumPy issue tracker](https://github.com/numpy/numpy/issues).\n\n</div>",
            "metadata": {}
        },
        {
            "id": "07592e21",
            "cell_type": "code",
            "metadata": {},
            "execution_count": null,
            "source": "import numpy as np",
            "outputs": []
        },
        {
            "id": "83a9e0d7",
            "cell_type": "code",
            "metadata": {},
            "execution_count": null,
            "source": "(\n  np.datetime64(\"2021-01-01 12:56:23.423\")\n  - np.datetime64(\"2001-01-01\")\n) / np.timedelta64(1, \"s\")",
            "outputs": [
                {
                    "output_type": "execute_result",
                    "metadata": {},
                    "data": {
                        "text/plain": "631198583.423"
                    },
                    "execution_count": null
                }
            ]
        },
        {
            "id": "6b35119f",
            "cell_type": "markdown",
            "source": "However, the correct answer is `631198588.423` SI seconds, because there were\n5 leap seconds between 2001 and 2021.",
            "metadata": {}
        }
    ]
}