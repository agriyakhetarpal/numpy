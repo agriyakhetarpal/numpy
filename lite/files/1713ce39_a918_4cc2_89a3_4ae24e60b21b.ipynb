{
    "nbformat": 4,
    "nbformat_minor": 5,
    "metadata": {
        "kernelspec": {
            "display_name": "Python",
            "language": "python",
            "name": "python"
        },
        "language_info": {
            "name": "python"
        }
    },
    "cells": [
        {
            "id": "364d0e23",
            "cell_type": "markdown",
            "source": "<div class='alert alert-warning'>\n\nNumPy's interactive examples are experimental and may not always work as expected, with high load times especially on low-resource platforms, and the version of NumPy might not be in sync with the one you are browsing the documentation for. If you encounter any issues, please report them on the [NumPy issue tracker](https://github.com/numpy/numpy/issues).\n\n</div>",
            "metadata": {}
        },
        {
            "id": "21552935",
            "cell_type": "code",
            "metadata": {},
            "execution_count": null,
            "source": "import numpy as np\narr = np.array([0, 0, 0, 1, 2, 3, 3, 4, 5])\nnp.histogram_bin_edges(arr, bins='auto', range=(0, 1))",
            "outputs": [
                {
                    "output_type": "execute_result",
                    "metadata": {},
                    "data": {
                        "text/plain": "array([0.  , 0.25, 0.5 , 0.75, 1.  ])"
                    },
                    "execution_count": null
                }
            ]
        },
        {
            "id": "312e1cb1",
            "cell_type": "code",
            "metadata": {},
            "execution_count": null,
            "source": "np.histogram_bin_edges(arr, bins=2)",
            "outputs": [
                {
                    "output_type": "execute_result",
                    "metadata": {},
                    "data": {
                        "text/plain": "array([0. , 2.5, 5. ])"
                    },
                    "execution_count": null
                }
            ]
        },
        {
            "id": "424a6806",
            "cell_type": "markdown",
            "source": "For consistency with histogram, an array of pre-computed bins is\npassed through unmodified:\n",
            "metadata": {}
        },
        {
            "id": "7b0c3fc8",
            "cell_type": "code",
            "metadata": {},
            "execution_count": null,
            "source": "np.histogram_bin_edges(arr, [1, 2])",
            "outputs": [
                {
                    "output_type": "execute_result",
                    "metadata": {},
                    "data": {
                        "text/plain": "array([1, 2])"
                    },
                    "execution_count": null
                }
            ]
        },
        {
            "id": "123d7b73",
            "cell_type": "markdown",
            "source": "This function allows one set of bins to be computed, and reused across\nmultiple histograms:\n",
            "metadata": {}
        },
        {
            "id": "be2e5598",
            "cell_type": "code",
            "metadata": {},
            "execution_count": null,
            "source": "shared_bins = np.histogram_bin_edges(arr, bins='auto')\nshared_bins",
            "outputs": [
                {
                    "output_type": "execute_result",
                    "metadata": {},
                    "data": {
                        "text/plain": "array([0., 1., 2., 3., 4., 5.])"
                    },
                    "execution_count": null
                }
            ]
        },
        {
            "id": "05c8744b",
            "cell_type": "code",
            "metadata": {},
            "execution_count": null,
            "source": "group_id = np.array([0, 1, 1, 0, 1, 1, 0, 1, 1])\nhist_0, _ = np.histogram(arr[group_id == 0], bins=shared_bins)\nhist_1, _ = np.histogram(arr[group_id == 1], bins=shared_bins)",
            "outputs": []
        },
        {
            "id": "5ed22dcd",
            "cell_type": "code",
            "metadata": {},
            "execution_count": null,
            "source": "hist_0; hist_1",
            "outputs": [
                {
                    "output_type": "execute_result",
                    "metadata": {},
                    "data": {
                        "text/plain": "array([1, 1, 0, 1, 0])\narray([2, 0, 1, 1, 2])"
                    },
                    "execution_count": null
                }
            ]
        },
        {
            "id": "b5a1dc4d",
            "cell_type": "markdown",
            "source": "Which gives more easily comparable results than using separate bins for\neach histogram:\n",
            "metadata": {}
        },
        {
            "id": "07941c9a",
            "cell_type": "code",
            "metadata": {},
            "execution_count": null,
            "source": "hist_0, bins_0 = np.histogram(arr[group_id == 0], bins='auto')\nhist_1, bins_1 = np.histogram(arr[group_id == 1], bins='auto')\nhist_0; hist_1",
            "outputs": [
                {
                    "output_type": "execute_result",
                    "metadata": {},
                    "data": {
                        "text/plain": "array([1, 1, 1])\narray([2, 1, 1, 2])"
                    },
                    "execution_count": null
                }
            ]
        },
        {
            "id": "973e5bf6",
            "cell_type": "code",
            "metadata": {},
            "execution_count": null,
            "source": "bins_0; bins_1",
            "outputs": [
                {
                    "output_type": "execute_result",
                    "metadata": {},
                    "data": {
                        "text/plain": "array([0., 1., 2., 3.])\narray([0.  , 1.25, 2.5 , 3.75, 5.  ])"
                    },
                    "execution_count": null
                }
            ]
        }
    ]
}