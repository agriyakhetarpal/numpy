{
    "nbformat": 4,
    "nbformat_minor": 5,
    "metadata": {
        "kernelspec": {
            "display_name": "Python",
            "language": "python",
            "name": "python"
        },
        "language_info": {
            "name": "python"
        }
    },
    "cells": [
        {
            "id": "4f91e2e7",
            "cell_type": "markdown",
            "source": "<div class='alert alert-warning'>\n\nNumPy's interactive examples are experimental and may not always work as expected, with high load times especially on low-resource platforms, , and the version of NumPy might not be in sync with the one you are browsing the documentation for. If you encounter any issues, please report them on the [NumPy issue tracker](https://github.com/numpy/numpy/issues).\n\n</div>",
            "metadata": {}
        },
        {
            "id": "e4f3831e",
            "cell_type": "code",
            "metadata": {},
            "execution_count": null,
            "source": "import numpy as np\na = np.ma.arange(10)\nnp.ma.flatnotmasked_edges(a)",
            "outputs": [
                {
                    "output_type": "execute_result",
                    "metadata": {},
                    "data": {
                        "text/plain": "array([0, 9])"
                    },
                    "execution_count": null
                }
            ]
        },
        {
            "id": "21b336e8",
            "cell_type": "code",
            "metadata": {},
            "execution_count": null,
            "source": "mask = (a < 3) | (a > 8) | (a == 5)\na[mask] = np.ma.masked\nnp.array(a[~a.mask])",
            "outputs": [
                {
                    "output_type": "execute_result",
                    "metadata": {},
                    "data": {
                        "text/plain": "array([3, 4, 6, 7, 8])"
                    },
                    "execution_count": null
                }
            ]
        },
        {
            "id": "60f79ffd",
            "cell_type": "code",
            "metadata": {},
            "execution_count": null,
            "source": "np.ma.flatnotmasked_edges(a)",
            "outputs": [
                {
                    "output_type": "execute_result",
                    "metadata": {},
                    "data": {
                        "text/plain": "array([3, 8])"
                    },
                    "execution_count": null
                }
            ]
        },
        {
            "id": "e7298b0f",
            "cell_type": "code",
            "metadata": {},
            "execution_count": null,
            "source": "a[:] = np.ma.masked\nprint(np.ma.flatnotmasked_edges(a))",
            "outputs": [
                {
                    "output_type": "execute_result",
                    "metadata": {},
                    "data": {
                        "text/plain": "None"
                    },
                    "execution_count": null
                }
            ]
        }
    ]
}