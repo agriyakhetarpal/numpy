{
    "nbformat": 4,
    "nbformat_minor": 5,
    "metadata": {
        "kernelspec": {
            "display_name": "Python",
            "language": "python",
            "name": "python"
        },
        "language_info": {
            "name": "python"
        }
    },
    "cells": [
        {
            "id": "47ca583d",
            "cell_type": "markdown",
            "source": "<div class='alert alert-warning'>\n\nNumPy's interactive examples are experimental and may not always work as expected, with high load times especially on low-resource platforms, , and the version of NumPy might not be in sync with the one you are browsing the documentation for. If you encounter any issues, please report them on the [NumPy issue tracker](https://github.com/numpy/numpy/issues).\n\n</div>",
            "metadata": {}
        },
        {
            "id": "5fbd695d",
            "cell_type": "code",
            "metadata": {},
            "execution_count": null,
            "source": "import numpy as np\nnp.min_scalar_type(10)",
            "outputs": [
                {
                    "output_type": "execute_result",
                    "metadata": {},
                    "data": {
                        "text/plain": "dtype('uint8')"
                    },
                    "execution_count": null
                }
            ]
        },
        {
            "id": "fb69f213",
            "cell_type": "code",
            "metadata": {},
            "execution_count": null,
            "source": "np.min_scalar_type(-260)",
            "outputs": [
                {
                    "output_type": "execute_result",
                    "metadata": {},
                    "data": {
                        "text/plain": "dtype('int16')"
                    },
                    "execution_count": null
                }
            ]
        },
        {
            "id": "b13d5a2b",
            "cell_type": "code",
            "metadata": {},
            "execution_count": null,
            "source": "np.min_scalar_type(3.1)",
            "outputs": [
                {
                    "output_type": "execute_result",
                    "metadata": {},
                    "data": {
                        "text/plain": "dtype('float16')"
                    },
                    "execution_count": null
                }
            ]
        },
        {
            "id": "6e86a38e",
            "cell_type": "code",
            "metadata": {},
            "execution_count": null,
            "source": "np.min_scalar_type(1e50)",
            "outputs": [
                {
                    "output_type": "execute_result",
                    "metadata": {},
                    "data": {
                        "text/plain": "dtype('float64')"
                    },
                    "execution_count": null
                }
            ]
        },
        {
            "id": "1e3b999a",
            "cell_type": "code",
            "metadata": {},
            "execution_count": null,
            "source": "np.min_scalar_type(np.arange(4,dtype='f8'))",
            "outputs": [
                {
                    "output_type": "execute_result",
                    "metadata": {},
                    "data": {
                        "text/plain": "dtype('float64')"
                    },
                    "execution_count": null
                }
            ]
        }
    ]
}