{
    "nbformat": 4,
    "nbformat_minor": 5,
    "metadata": {
        "kernelspec": {
            "display_name": "Python",
            "language": "python",
            "name": "python"
        },
        "language_info": {
            "name": "python"
        }
    },
    "cells": [
        {
            "id": "a3fa9bf8",
            "cell_type": "markdown",
            "source": "<div class='alert alert-warning'>\n\nNumPy's interactive examples are experimental and may not always work as expected, with high load times especially on low-resource platforms, and the version of NumPy might not be in sync with the one you are browsing the documentation for. If you encounter any issues, please report them on the [NumPy issue tracker](https://github.com/numpy/numpy/issues).\n\n</div>",
            "metadata": {}
        },
        {
            "id": "ed0f16b2",
            "cell_type": "code",
            "metadata": {},
            "execution_count": null,
            "source": "from numpy.polynomial.laguerre import lagroots, lagfromroots\ncoef = lagfromroots([0, 1, 2])\ncoef",
            "outputs": [
                {
                    "output_type": "execute_result",
                    "metadata": {},
                    "data": {
                        "text/plain": "array([  2.,  -8.,  12.,  -6.])"
                    },
                    "execution_count": null
                }
            ]
        },
        {
            "id": "174d5497",
            "cell_type": "code",
            "metadata": {},
            "execution_count": null,
            "source": "lagroots(coef)",
            "outputs": [
                {
                    "output_type": "execute_result",
                    "metadata": {},
                    "data": {
                        "text/plain": "array([-4.4408921e-16,  1.0000000e+00,  2.0000000e+00])"
                    },
                    "execution_count": null
                }
            ]
        }
    ]
}