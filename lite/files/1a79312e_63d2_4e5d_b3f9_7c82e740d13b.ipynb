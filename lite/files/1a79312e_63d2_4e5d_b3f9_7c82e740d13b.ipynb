{
    "nbformat": 4,
    "nbformat_minor": 5,
    "metadata": {
        "kernelspec": {
            "display_name": "Python",
            "language": "python",
            "name": "python"
        },
        "language_info": {
            "name": "python"
        }
    },
    "cells": [
        {
            "id": "4489f77c",
            "cell_type": "markdown",
            "source": "<div class='alert alert-warning'>\n\nNumPy's interactive examples are experimental and may not always work as expected, with high load times especially on low-resource platforms, and the version of NumPy might not be in sync with the one you are browsing the documentation for. If you encounter any issues, please report them on the [NumPy issue tracker](https://github.com/numpy/numpy/issues).\n\n</div>",
            "metadata": {}
        },
        {
            "id": "cb2e7f78",
            "cell_type": "markdown",
            "source": "Starting with a Fortran-contiguous array:\n",
            "metadata": {}
        },
        {
            "id": "d0c915a2",
            "cell_type": "code",
            "metadata": {},
            "execution_count": null,
            "source": "import numpy as np\nx = np.ones((2, 3), order='F')\nx.flags['F_CONTIGUOUS']",
            "outputs": [
                {
                    "output_type": "execute_result",
                    "metadata": {},
                    "data": {
                        "text/plain": "True"
                    },
                    "execution_count": null
                }
            ]
        },
        {
            "id": "27902e7f",
            "cell_type": "markdown",
            "source": "Calling ``ascontiguousarray`` makes a C-contiguous copy:\n",
            "metadata": {}
        },
        {
            "id": "6c3cb556",
            "cell_type": "code",
            "metadata": {},
            "execution_count": null,
            "source": "y = np.ascontiguousarray(x)\ny.flags['C_CONTIGUOUS']",
            "outputs": [
                {
                    "output_type": "execute_result",
                    "metadata": {},
                    "data": {
                        "text/plain": "True"
                    },
                    "execution_count": null
                }
            ]
        },
        {
            "id": "ea55d562",
            "cell_type": "code",
            "metadata": {},
            "execution_count": null,
            "source": "np.may_share_memory(x, y)",
            "outputs": [
                {
                    "output_type": "execute_result",
                    "metadata": {},
                    "data": {
                        "text/plain": "False"
                    },
                    "execution_count": null
                }
            ]
        },
        {
            "id": "450df709",
            "cell_type": "markdown",
            "source": "Now, starting with a C-contiguous array:\n",
            "metadata": {}
        },
        {
            "id": "e78e5d07",
            "cell_type": "code",
            "metadata": {},
            "execution_count": null,
            "source": "x = np.ones((2, 3), order='C')\nx.flags['C_CONTIGUOUS']",
            "outputs": [
                {
                    "output_type": "execute_result",
                    "metadata": {},
                    "data": {
                        "text/plain": "True"
                    },
                    "execution_count": null
                }
            ]
        },
        {
            "id": "3d25dcaa",
            "cell_type": "markdown",
            "source": "Then, calling ``ascontiguousarray`` returns the same object:\n",
            "metadata": {}
        },
        {
            "id": "ab685182",
            "cell_type": "code",
            "metadata": {},
            "execution_count": null,
            "source": "y = np.ascontiguousarray(x)\nx is y",
            "outputs": [
                {
                    "output_type": "execute_result",
                    "metadata": {},
                    "data": {
                        "text/plain": "True"
                    },
                    "execution_count": null
                }
            ]
        },
        {
            "id": "c28423f4",
            "cell_type": "markdown",
            "source": "Note: This function returns an array with at least one-dimension (1-d)\nso it will not preserve 0-d arrays.",
            "metadata": {}
        }
    ]
}