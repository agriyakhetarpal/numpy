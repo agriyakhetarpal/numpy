{
    "nbformat": 4,
    "nbformat_minor": 5,
    "metadata": {
        "kernelspec": {
            "display_name": "Python",
            "language": "python",
            "name": "python"
        },
        "language_info": {
            "name": "python"
        }
    },
    "cells": [
        {
            "id": "78c9a22d",
            "cell_type": "markdown",
            "source": "<div class='alert alert-warning'>\n\nNumPy's interactive examples are experimental and may not always work as expected, with high load times especially on low-resource platforms, and the version of NumPy might not be in sync with the one you are browsing the documentation for. If you encounter any issues, please report them on the [NumPy issue tracker](https://github.com/numpy/numpy/issues).\n\n</div>",
            "metadata": {}
        },
        {
            "id": "85b8558c",
            "cell_type": "code",
            "metadata": {},
            "execution_count": null,
            "source": "import numpy as np\nnp.fromfunction(lambda i, j: i, (2, 2), dtype=float)",
            "outputs": [
                {
                    "output_type": "execute_result",
                    "metadata": {},
                    "data": {
                        "text/plain": "array([[0., 0.],\n       [1., 1.]])"
                    },
                    "execution_count": null
                }
            ]
        },
        {
            "id": "08ee14c7",
            "cell_type": "code",
            "metadata": {},
            "execution_count": null,
            "source": "np.fromfunction(lambda i, j: j, (2, 2), dtype=float)",
            "outputs": [
                {
                    "output_type": "execute_result",
                    "metadata": {},
                    "data": {
                        "text/plain": "array([[0., 1.],\n       [0., 1.]])"
                    },
                    "execution_count": null
                }
            ]
        },
        {
            "id": "4a2b5ce1",
            "cell_type": "code",
            "metadata": {},
            "execution_count": null,
            "source": "np.fromfunction(lambda i, j: i == j, (3, 3), dtype=int)",
            "outputs": [
                {
                    "output_type": "execute_result",
                    "metadata": {},
                    "data": {
                        "text/plain": "array([[ True, False, False],\n       [False,  True, False],\n       [False, False,  True]])"
                    },
                    "execution_count": null
                }
            ]
        },
        {
            "id": "8f15c9b1",
            "cell_type": "code",
            "metadata": {},
            "execution_count": null,
            "source": "np.fromfunction(lambda i, j: i + j, (3, 3), dtype=int)",
            "outputs": [
                {
                    "output_type": "execute_result",
                    "metadata": {},
                    "data": {
                        "text/plain": "array([[0, 1, 2],\n       [1, 2, 3],\n       [2, 3, 4]])"
                    },
                    "execution_count": null
                }
            ]
        }
    ]
}