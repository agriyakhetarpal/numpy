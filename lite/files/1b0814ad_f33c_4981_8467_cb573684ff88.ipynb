{
    "nbformat": 4,
    "nbformat_minor": 5,
    "metadata": {
        "kernelspec": {
            "display_name": "Python",
            "language": "python",
            "name": "python"
        },
        "language_info": {
            "name": "python"
        }
    },
    "cells": [
        {
            "id": "24d00577",
            "cell_type": "markdown",
            "source": "<div class='alert alert-warning'>\n\nNumPy's interactive examples are experimental and may not always work as expected, with high load times especially on low-resource platforms, and the version of NumPy might not be in sync with the one you are browsing the documentation for. If you encounter any issues, please report them on the [NumPy issue tracker](https://github.com/numpy/numpy/issues).\n\n</div>",
            "metadata": {}
        },
        {
            "id": "af3d5424",
            "cell_type": "code",
            "metadata": {},
            "execution_count": null,
            "source": "import numpy as np",
            "outputs": []
        },
        {
            "id": "891ebff6",
            "cell_type": "markdown",
            "source": "The number 13 is represented by ``00001101``. Likewise, 17 is\nrepresented by ``00010001``.  The bit-wise XOR of 13 and 17 is\ntherefore ``00011100``, or 28:\n",
            "metadata": {}
        },
        {
            "id": "8ac19e7d",
            "cell_type": "code",
            "metadata": {},
            "execution_count": null,
            "source": "np.bitwise_xor(13, 17)",
            "outputs": [
                {
                    "output_type": "execute_result",
                    "metadata": {},
                    "data": {
                        "text/plain": "28"
                    },
                    "execution_count": null
                }
            ]
        },
        {
            "id": "cd1c8e94",
            "cell_type": "code",
            "metadata": {},
            "execution_count": null,
            "source": "np.binary_repr(28)",
            "outputs": [
                {
                    "output_type": "execute_result",
                    "metadata": {},
                    "data": {
                        "text/plain": "'11100'"
                    },
                    "execution_count": null
                }
            ]
        },
        {
            "id": "69e17852",
            "cell_type": "code",
            "metadata": {},
            "execution_count": null,
            "source": "np.bitwise_xor(31, 5)",
            "outputs": [
                {
                    "output_type": "execute_result",
                    "metadata": {},
                    "data": {
                        "text/plain": "26"
                    },
                    "execution_count": null
                }
            ]
        },
        {
            "id": "0895a46e",
            "cell_type": "code",
            "metadata": {},
            "execution_count": null,
            "source": "np.bitwise_xor([31,3], 5)",
            "outputs": [
                {
                    "output_type": "execute_result",
                    "metadata": {},
                    "data": {
                        "text/plain": "array([26,  6])"
                    },
                    "execution_count": null
                }
            ]
        },
        {
            "id": "41317032",
            "cell_type": "code",
            "metadata": {},
            "execution_count": null,
            "source": "np.bitwise_xor([31,3], [5,6])",
            "outputs": [
                {
                    "output_type": "execute_result",
                    "metadata": {},
                    "data": {
                        "text/plain": "array([26,  5])"
                    },
                    "execution_count": null
                }
            ]
        },
        {
            "id": "22cfe2dc",
            "cell_type": "code",
            "metadata": {},
            "execution_count": null,
            "source": "np.bitwise_xor([True, True], [False, True])",
            "outputs": [
                {
                    "output_type": "execute_result",
                    "metadata": {},
                    "data": {
                        "text/plain": "array([ True, False])"
                    },
                    "execution_count": null
                }
            ]
        },
        {
            "id": "1f45efa5",
            "cell_type": "markdown",
            "source": "The ``^`` operator can be used as a shorthand for ``np.bitwise_xor`` on\nndarrays.\n",
            "metadata": {}
        },
        {
            "id": "8d922044",
            "cell_type": "code",
            "metadata": {},
            "execution_count": null,
            "source": "x1 = np.array([True, True])\nx2 = np.array([False, True])\nx1 ^ x2",
            "outputs": [
                {
                    "output_type": "execute_result",
                    "metadata": {},
                    "data": {
                        "text/plain": "array([ True, False])"
                    },
                    "execution_count": null
                }
            ]
        }
    ]
}