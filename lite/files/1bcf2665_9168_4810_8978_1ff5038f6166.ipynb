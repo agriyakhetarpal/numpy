{
    "nbformat": 4,
    "nbformat_minor": 5,
    "metadata": {
        "kernelspec": {
            "display_name": "Python",
            "language": "python",
            "name": "python"
        },
        "language_info": {
            "name": "python"
        }
    },
    "cells": [
        {
            "id": "51e86b13",
            "cell_type": "markdown",
            "source": "<div class='alert alert-warning'>\n\nNumPy's interactive examples are experimental and may not always work as expected, with high load times especially on low-resource platforms, and the version of NumPy might not be in sync with the one you are browsing the documentation for. If you encounter any issues, please report them on the [NumPy issue tracker](https://github.com/numpy/numpy/issues).\n\n</div>",
            "metadata": {}
        },
        {
            "id": "cdc35b9c",
            "cell_type": "code",
            "metadata": {},
            "execution_count": null,
            "source": "import numpy as np\nnp.ma.default_fill_value(1)",
            "outputs": [
                {
                    "output_type": "execute_result",
                    "metadata": {},
                    "data": {
                        "text/plain": "999999"
                    },
                    "execution_count": null
                }
            ]
        },
        {
            "id": "94a03ae5",
            "cell_type": "code",
            "metadata": {},
            "execution_count": null,
            "source": "np.ma.default_fill_value(np.array([1.1, 2., np.pi]))",
            "outputs": [
                {
                    "output_type": "execute_result",
                    "metadata": {},
                    "data": {
                        "text/plain": "1e+20"
                    },
                    "execution_count": null
                }
            ]
        },
        {
            "id": "01fc0d04",
            "cell_type": "code",
            "metadata": {},
            "execution_count": null,
            "source": "np.ma.default_fill_value(np.dtype(complex))",
            "outputs": [
                {
                    "output_type": "execute_result",
                    "metadata": {},
                    "data": {
                        "text/plain": "(1e+20+0j)"
                    },
                    "execution_count": null
                }
            ]
        }
    ]
}