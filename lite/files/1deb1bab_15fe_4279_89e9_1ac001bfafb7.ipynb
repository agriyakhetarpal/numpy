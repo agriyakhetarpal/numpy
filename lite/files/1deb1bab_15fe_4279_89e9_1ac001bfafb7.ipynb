{
    "nbformat": 4,
    "nbformat_minor": 5,
    "metadata": {
        "kernelspec": {
            "display_name": "Python",
            "language": "python",
            "name": "python"
        },
        "language_info": {
            "name": "python"
        }
    },
    "cells": [
        {
            "id": "5a3d026f",
            "cell_type": "markdown",
            "source": "<div class='alert alert-warning'>\n\nNumPy's interactive examples are experimental and may not always work as expected, with high load times especially on low-resource platforms, and the version of NumPy might not be in sync with the one you are browsing the documentation for. If you encounter any issues, please report them on the [NumPy issue tracker](https://github.com/numpy/numpy/issues).\n\n</div>",
            "metadata": {}
        },
        {
            "id": "75e1a3f7",
            "cell_type": "code",
            "metadata": {},
            "execution_count": null,
            "source": "import numpy as np\nnp.searchsorted([11,12,13,14,15], 13)",
            "outputs": [
                {
                    "output_type": "execute_result",
                    "metadata": {},
                    "data": {
                        "text/plain": "2"
                    },
                    "execution_count": null
                }
            ]
        },
        {
            "id": "ec985168",
            "cell_type": "code",
            "metadata": {},
            "execution_count": null,
            "source": "np.searchsorted([11,12,13,14,15], 13, side='right')",
            "outputs": [
                {
                    "output_type": "execute_result",
                    "metadata": {},
                    "data": {
                        "text/plain": "3"
                    },
                    "execution_count": null
                }
            ]
        },
        {
            "id": "24554d93",
            "cell_type": "code",
            "metadata": {},
            "execution_count": null,
            "source": "np.searchsorted([11,12,13,14,15], [-10, 20, 12, 13])",
            "outputs": [
                {
                    "output_type": "execute_result",
                    "metadata": {},
                    "data": {
                        "text/plain": "array([0, 5, 1, 2])"
                    },
                    "execution_count": null
                }
            ]
        },
        {
            "id": "2eed59d7",
            "cell_type": "markdown",
            "source": "When `sorter` is used, the returned indices refer to the sorted\narray of `a` and not `a` itself:\n",
            "metadata": {}
        },
        {
            "id": "74339342",
            "cell_type": "code",
            "metadata": {},
            "execution_count": null,
            "source": "a = np.array([40, 10, 20, 30])\nsorter = np.argsort(a)\nsorter",
            "outputs": [
                {
                    "output_type": "execute_result",
                    "metadata": {},
                    "data": {
                        "text/plain": "array([1, 2, 3, 0])  # Indices that would sort the array 'a'"
                    },
                    "execution_count": null
                }
            ]
        },
        {
            "id": "5a82ccf0",
            "cell_type": "code",
            "metadata": {},
            "execution_count": null,
            "source": "result = np.searchsorted(a, 25, sorter=sorter)\nresult",
            "outputs": [
                {
                    "output_type": "execute_result",
                    "metadata": {},
                    "data": {
                        "text/plain": "2"
                    },
                    "execution_count": null
                }
            ]
        },
        {
            "id": "0a05ae0b",
            "cell_type": "code",
            "metadata": {},
            "execution_count": null,
            "source": "a[sorter[result]]",
            "outputs": [
                {
                    "output_type": "execute_result",
                    "metadata": {},
                    "data": {
                        "text/plain": "30  # The element at index 2 of the sorted array is 30."
                    },
                    "execution_count": null
                }
            ]
        }
    ]
}