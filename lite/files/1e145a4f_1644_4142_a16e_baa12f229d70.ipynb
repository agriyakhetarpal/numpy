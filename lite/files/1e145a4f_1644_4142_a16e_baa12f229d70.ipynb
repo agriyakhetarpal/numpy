{
    "nbformat": 4,
    "nbformat_minor": 5,
    "metadata": {
        "kernelspec": {
            "display_name": "Python",
            "language": "python",
            "name": "python"
        },
        "language_info": {
            "name": "python"
        }
    },
    "cells": [
        {
            "id": "84249e03",
            "cell_type": "markdown",
            "source": "<div class='alert alert-warning'>\n\nNumPy's interactive examples are experimental and may not always work as expected, with high load times especially on low-resource platforms, and the version of NumPy might not be in sync with the one you are browsing the documentation for. If you encounter any issues, please report them on the [NumPy issue tracker](https://github.com/numpy/numpy/issues).\n\n</div>",
            "metadata": {}
        },
        {
            "id": "b301ece8",
            "cell_type": "markdown",
            "source": "The following assertion passes because each finite element of `x` is\nstrictly less than the corresponding element of `y`, and the NaNs are in\ncorresponding locations.\n",
            "metadata": {}
        },
        {
            "id": "2b7ea55a",
            "cell_type": "code",
            "metadata": {},
            "execution_count": null,
            "source": "x = [1.0, 1.0, np.nan]\ny = [1.1, 2.0, np.nan]\nnp.testing.assert_array_less(x, y)",
            "outputs": []
        },
        {
            "id": "af1caf02",
            "cell_type": "markdown",
            "source": "The following assertion fails because the zeroth element of `x` is no\nlonger strictly less than the zeroth element of `y`.\n",
            "metadata": {}
        },
        {
            "id": "c724eb1d",
            "cell_type": "code",
            "metadata": {},
            "execution_count": null,
            "source": "y[0] = 1\nnp.testing.assert_array_less(x, y)",
            "outputs": [
                {
                    "output_type": "execute_result",
                    "metadata": {},
                    "data": {
                        "text/plain": "Traceback (most recent call last):\n    ...\nAssertionError:\nArrays are not strictly ordered `x < y`\n<BLANKLINE>\nMismatched elements: 1 / 3 (33.3%)\nMax absolute difference among violations: 0.\nMax relative difference among violations: 0.\n x: array([ 1.,  1., nan])\n y: array([ 1.,  2., nan])"
                    },
                    "execution_count": null
                }
            ]
        },
        {
            "id": "bca8e8a3",
            "cell_type": "markdown",
            "source": "Here, `y` is a scalar, so each element of `x` is compared to `y`, and\nthe assertion passes.\n",
            "metadata": {}
        },
        {
            "id": "645e58bd",
            "cell_type": "code",
            "metadata": {},
            "execution_count": null,
            "source": "x = [1.0, 4.0]\ny = 5.0\nnp.testing.assert_array_less(x, y)",
            "outputs": []
        },
        {
            "id": "e693cee9",
            "cell_type": "markdown",
            "source": "However, with ``strict=True``, the assertion will fail because the shapes\ndo not match.\n",
            "metadata": {}
        },
        {
            "id": "32f80a31",
            "cell_type": "code",
            "metadata": {},
            "execution_count": null,
            "source": "np.testing.assert_array_less(x, y, strict=True)",
            "outputs": [
                {
                    "output_type": "execute_result",
                    "metadata": {},
                    "data": {
                        "text/plain": "Traceback (most recent call last):\n    ...\nAssertionError:\nArrays are not strictly ordered `x < y`\n<BLANKLINE>\n(shapes (2,), () mismatch)\n x: array([1., 4.])\n y: array(5.)"
                    },
                    "execution_count": null
                }
            ]
        },
        {
            "id": "495c037a",
            "cell_type": "markdown",
            "source": "With ``strict=True``, the assertion also fails if the dtypes of the two\narrays do not match.\n",
            "metadata": {}
        },
        {
            "id": "0a50b6c7",
            "cell_type": "code",
            "metadata": {},
            "execution_count": null,
            "source": "y = [5, 5]\nnp.testing.assert_array_less(x, y, strict=True)",
            "outputs": [
                {
                    "output_type": "execute_result",
                    "metadata": {},
                    "data": {
                        "text/plain": "Traceback (most recent call last):\n    ...\nAssertionError:\nArrays are not strictly ordered `x < y`\n<BLANKLINE>\n(dtypes float64, int64 mismatch)\n x: array([1., 4.])\n y: array([5, 5])"
                    },
                    "execution_count": null
                }
            ]
        }
    ]
}