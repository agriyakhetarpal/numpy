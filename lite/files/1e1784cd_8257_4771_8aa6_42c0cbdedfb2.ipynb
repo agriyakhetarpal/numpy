{
    "nbformat": 4,
    "nbformat_minor": 5,
    "metadata": {
        "kernelspec": {
            "display_name": "Python",
            "language": "python",
            "name": "python"
        },
        "language_info": {
            "name": "python"
        }
    },
    "cells": [
        {
            "id": "b7e46107",
            "cell_type": "markdown",
            "source": "<div class='alert alert-warning'>\n\nNumPy's interactive examples are experimental and may not always work as expected, with high load times especially on low-resource platforms, and the version of NumPy might not be in sync with the one you are browsing the documentation for. If you encounter any issues, please report them on the [NumPy issue tracker](https://github.com/numpy/numpy/issues).\n\n</div>",
            "metadata": {}
        },
        {
            "id": "4803d779",
            "cell_type": "code",
            "metadata": {},
            "execution_count": null,
            "source": "import numpy as np\nx = np.array([1, 2])\nx.shape",
            "outputs": [
                {
                    "output_type": "execute_result",
                    "metadata": {},
                    "data": {
                        "text/plain": "(2,)"
                    },
                    "execution_count": null
                }
            ]
        },
        {
            "id": "c04aefb5",
            "cell_type": "markdown",
            "source": "The following is equivalent to ``x[np.newaxis, :]`` or ``x[np.newaxis]``:\n",
            "metadata": {}
        },
        {
            "id": "c6fd5c4a",
            "cell_type": "code",
            "metadata": {},
            "execution_count": null,
            "source": "y = np.expand_dims(x, axis=0)\ny",
            "outputs": [
                {
                    "output_type": "execute_result",
                    "metadata": {},
                    "data": {
                        "text/plain": "array([[1, 2]])"
                    },
                    "execution_count": null
                }
            ]
        },
        {
            "id": "cf01bf19",
            "cell_type": "code",
            "metadata": {},
            "execution_count": null,
            "source": "y.shape",
            "outputs": [
                {
                    "output_type": "execute_result",
                    "metadata": {},
                    "data": {
                        "text/plain": "(1, 2)"
                    },
                    "execution_count": null
                }
            ]
        },
        {
            "id": "ae6fe99d",
            "cell_type": "markdown",
            "source": "The following is equivalent to ``x[:, np.newaxis]``:\n",
            "metadata": {}
        },
        {
            "id": "2e52cda7",
            "cell_type": "code",
            "metadata": {},
            "execution_count": null,
            "source": "y = np.expand_dims(x, axis=1)\ny",
            "outputs": [
                {
                    "output_type": "execute_result",
                    "metadata": {},
                    "data": {
                        "text/plain": "array([[1],\n       [2]])"
                    },
                    "execution_count": null
                }
            ]
        },
        {
            "id": "2b388b0b",
            "cell_type": "code",
            "metadata": {},
            "execution_count": null,
            "source": "y.shape",
            "outputs": [
                {
                    "output_type": "execute_result",
                    "metadata": {},
                    "data": {
                        "text/plain": "(2, 1)"
                    },
                    "execution_count": null
                }
            ]
        },
        {
            "id": "9ce047cb",
            "cell_type": "markdown",
            "source": "``axis`` may also be a tuple:\n",
            "metadata": {}
        },
        {
            "id": "bd6ccb99",
            "cell_type": "code",
            "metadata": {},
            "execution_count": null,
            "source": "y = np.expand_dims(x, axis=(0, 1))\ny",
            "outputs": [
                {
                    "output_type": "execute_result",
                    "metadata": {},
                    "data": {
                        "text/plain": "array([[[1, 2]]])"
                    },
                    "execution_count": null
                }
            ]
        },
        {
            "id": "2bbc0d78",
            "cell_type": "code",
            "metadata": {},
            "execution_count": null,
            "source": "y = np.expand_dims(x, axis=(2, 0))\ny",
            "outputs": [
                {
                    "output_type": "execute_result",
                    "metadata": {},
                    "data": {
                        "text/plain": "array([[[1],\n        [2]]])"
                    },
                    "execution_count": null
                }
            ]
        },
        {
            "id": "c8054fd0",
            "cell_type": "markdown",
            "source": "Note that some examples may use ``None`` instead of ``np.newaxis``.  These\nare the same objects:\n",
            "metadata": {}
        },
        {
            "id": "91bf7aaa",
            "cell_type": "code",
            "metadata": {},
            "execution_count": null,
            "source": "np.newaxis is None",
            "outputs": [
                {
                    "output_type": "execute_result",
                    "metadata": {},
                    "data": {
                        "text/plain": "True"
                    },
                    "execution_count": null
                }
            ]
        }
    ]
}