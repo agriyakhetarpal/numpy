{
    "nbformat": 4,
    "nbformat_minor": 5,
    "metadata": {
        "kernelspec": {
            "display_name": "Python",
            "language": "python",
            "name": "python"
        },
        "language_info": {
            "name": "python"
        }
    },
    "cells": [
        {
            "id": "39ba585d",
            "cell_type": "markdown",
            "source": "<div class='alert alert-warning'>\n\nNumPy's interactive examples are experimental and may not always work as expected, with high load times especially on low-resource platforms, and the version of NumPy might not be in sync with the one you are browsing the documentation for. If you encounter any issues, please report them on the [NumPy issue tracker](https://github.com/numpy/numpy/issues).\n\n</div>",
            "metadata": {}
        },
        {
            "id": "8d308e90",
            "cell_type": "code",
            "metadata": {},
            "execution_count": null,
            "source": "import numpy as np\nimport numpy.ma as ma\nm = ma.masked_equal([0, 1, 0, 2, 3], 0)\nm",
            "outputs": [
                {
                    "output_type": "execute_result",
                    "metadata": {},
                    "data": {
                        "text/plain": "masked_array(data=[--, 1, --, 2, 3],\n             mask=[ True, False,  True, False, False],\n       fill_value=0)"
                    },
                    "execution_count": null
                }
            ]
        },
        {
            "id": "baf33b13",
            "cell_type": "code",
            "metadata": {},
            "execution_count": null,
            "source": "ma.is_mask(m)",
            "outputs": [
                {
                    "output_type": "execute_result",
                    "metadata": {},
                    "data": {
                        "text/plain": "False"
                    },
                    "execution_count": null
                }
            ]
        },
        {
            "id": "9d7d3da4",
            "cell_type": "code",
            "metadata": {},
            "execution_count": null,
            "source": "ma.is_mask(m.mask)",
            "outputs": [
                {
                    "output_type": "execute_result",
                    "metadata": {},
                    "data": {
                        "text/plain": "True"
                    },
                    "execution_count": null
                }
            ]
        },
        {
            "id": "15fccc5f",
            "cell_type": "markdown",
            "source": "Input must be an ndarray (or have similar attributes)\nfor it to be considered a valid mask.\n",
            "metadata": {}
        },
        {
            "id": "d93ab45d",
            "cell_type": "code",
            "metadata": {},
            "execution_count": null,
            "source": "m = [False, True, False]\nma.is_mask(m)",
            "outputs": [
                {
                    "output_type": "execute_result",
                    "metadata": {},
                    "data": {
                        "text/plain": "False"
                    },
                    "execution_count": null
                }
            ]
        },
        {
            "id": "288222e1",
            "cell_type": "code",
            "metadata": {},
            "execution_count": null,
            "source": "m = np.array([False, True, False])\nm",
            "outputs": [
                {
                    "output_type": "execute_result",
                    "metadata": {},
                    "data": {
                        "text/plain": "array([False,  True, False])"
                    },
                    "execution_count": null
                }
            ]
        },
        {
            "id": "1ccd5f54",
            "cell_type": "code",
            "metadata": {},
            "execution_count": null,
            "source": "ma.is_mask(m)",
            "outputs": [
                {
                    "output_type": "execute_result",
                    "metadata": {},
                    "data": {
                        "text/plain": "True"
                    },
                    "execution_count": null
                }
            ]
        },
        {
            "id": "767ea311",
            "cell_type": "markdown",
            "source": "Arrays with complex dtypes don't return True.\n",
            "metadata": {}
        },
        {
            "id": "ace354ad",
            "cell_type": "code",
            "metadata": {},
            "execution_count": null,
            "source": "dtype = np.dtype({'names':['monty', 'pithon'],\n                  'formats':[bool, bool]})\ndtype",
            "outputs": [
                {
                    "output_type": "execute_result",
                    "metadata": {},
                    "data": {
                        "text/plain": "dtype([('monty', '|b1'), ('pithon', '|b1')])"
                    },
                    "execution_count": null
                }
            ]
        },
        {
            "id": "eea790c7",
            "cell_type": "code",
            "metadata": {},
            "execution_count": null,
            "source": "m = np.array([(True, False), (False, True), (True, False)],\n             dtype=dtype)\nm",
            "outputs": [
                {
                    "output_type": "execute_result",
                    "metadata": {},
                    "data": {
                        "text/plain": "array([( True, False), (False,  True), ( True, False)],\n      dtype=[('monty', '?'), ('pithon', '?')])"
                    },
                    "execution_count": null
                }
            ]
        },
        {
            "id": "5a872453",
            "cell_type": "code",
            "metadata": {},
            "execution_count": null,
            "source": "ma.is_mask(m)",
            "outputs": [
                {
                    "output_type": "execute_result",
                    "metadata": {},
                    "data": {
                        "text/plain": "False"
                    },
                    "execution_count": null
                }
            ]
        }
    ]
}