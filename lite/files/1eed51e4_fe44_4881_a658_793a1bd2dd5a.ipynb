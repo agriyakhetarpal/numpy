{
    "nbformat": 4,
    "nbformat_minor": 5,
    "metadata": {
        "kernelspec": {
            "display_name": "Python",
            "language": "python",
            "name": "python"
        },
        "language_info": {
            "name": "python"
        }
    },
    "cells": [
        {
            "id": "8da53b6a",
            "cell_type": "markdown",
            "source": "<div class='alert alert-warning'>\n\nNumPy's interactive examples are experimental and may not always work as expected, with high load times especially on low-resource platforms, , and the version of NumPy might not be in sync with the one you are browsing the documentation for. If you encounter any issues, please report them on the [NumPy issue tracker](https://github.com/numpy/numpy/issues).\n\n</div>",
            "metadata": {}
        },
        {
            "id": "56b02409",
            "cell_type": "code",
            "metadata": {},
            "execution_count": null,
            "source": "import numpy as np\nimport ctypes\nx = np.array([[0, 1], [2, 3]], dtype=np.int32)\nx",
            "outputs": [
                {
                    "output_type": "execute_result",
                    "metadata": {},
                    "data": {
                        "text/plain": "array([[0, 1],\n       [2, 3]], dtype=int32)"
                    },
                    "execution_count": null
                }
            ]
        },
        {
            "id": "4cb35ef1",
            "cell_type": "code",
            "metadata": {},
            "execution_count": null,
            "source": "x.ctypes.data",
            "outputs": [
                {
                    "output_type": "execute_result",
                    "metadata": {},
                    "data": {
                        "text/plain": "31962608 # may vary"
                    },
                    "execution_count": null
                }
            ]
        },
        {
            "id": "f0220764",
            "cell_type": "code",
            "metadata": {},
            "execution_count": null,
            "source": "x.ctypes.data_as(ctypes.POINTER(ctypes.c_uint32))",
            "outputs": [
                {
                    "output_type": "execute_result",
                    "metadata": {},
                    "data": {
                        "text/plain": "<__main__.LP_c_uint object at 0x7ff2fc1fc200> # may vary"
                    },
                    "execution_count": null
                }
            ]
        },
        {
            "id": "ec772495",
            "cell_type": "code",
            "metadata": {},
            "execution_count": null,
            "source": "x.ctypes.data_as(ctypes.POINTER(ctypes.c_uint32)).contents",
            "outputs": [
                {
                    "output_type": "execute_result",
                    "metadata": {},
                    "data": {
                        "text/plain": "c_uint(0)"
                    },
                    "execution_count": null
                }
            ]
        },
        {
            "id": "f0d7598a",
            "cell_type": "code",
            "metadata": {},
            "execution_count": null,
            "source": "x.ctypes.data_as(ctypes.POINTER(ctypes.c_uint64)).contents",
            "outputs": [
                {
                    "output_type": "execute_result",
                    "metadata": {},
                    "data": {
                        "text/plain": "c_ulong(4294967296)"
                    },
                    "execution_count": null
                }
            ]
        },
        {
            "id": "d95c6c7c",
            "cell_type": "code",
            "metadata": {},
            "execution_count": null,
            "source": "x.ctypes.shape",
            "outputs": [
                {
                    "output_type": "execute_result",
                    "metadata": {},
                    "data": {
                        "text/plain": "<numpy._core._internal.c_long_Array_2 object at 0x7ff2fc1fce60> # may vary"
                    },
                    "execution_count": null
                }
            ]
        },
        {
            "id": "7c751662",
            "cell_type": "code",
            "metadata": {},
            "execution_count": null,
            "source": "x.ctypes.strides",
            "outputs": [
                {
                    "output_type": "execute_result",
                    "metadata": {},
                    "data": {
                        "text/plain": "<numpy._core._internal.c_long_Array_2 object at 0x7ff2fc1ff320> # may vary"
                    },
                    "execution_count": null
                }
            ]
        }
    ]
}