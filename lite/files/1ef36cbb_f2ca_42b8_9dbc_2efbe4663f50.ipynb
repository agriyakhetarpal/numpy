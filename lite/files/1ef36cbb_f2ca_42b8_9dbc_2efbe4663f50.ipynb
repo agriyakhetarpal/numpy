{
    "nbformat": 4,
    "nbformat_minor": 5,
    "metadata": {
        "kernelspec": {
            "display_name": "Python",
            "language": "python",
            "name": "python"
        },
        "language_info": {
            "name": "python"
        }
    },
    "cells": [
        {
            "id": "14f5ca17",
            "cell_type": "markdown",
            "source": "<div class='alert alert-warning'>\n\nNumPy's interactive examples are experimental and may not always work as expected, with high load times especially on low-resource platforms, and the version of NumPy might not be in sync with the one you are browsing the documentation for. If you encounter any issues, please report them on the [NumPy issue tracker](https://github.com/numpy/numpy/issues).\n\n</div>",
            "metadata": {}
        },
        {
            "id": "892bdf3c",
            "cell_type": "code",
            "metadata": {},
            "execution_count": null,
            "source": "import numpy as np\na = np.arange(10)\na",
            "outputs": [
                {
                    "output_type": "execute_result",
                    "metadata": {},
                    "data": {
                        "text/plain": "array([0, 1, 2, 3, 4, 5, 6, 7, 8, 9])"
                    },
                    "execution_count": null
                }
            ]
        },
        {
            "id": "ae06e401",
            "cell_type": "code",
            "metadata": {},
            "execution_count": null,
            "source": "np.clip(a, 1, 8)",
            "outputs": [
                {
                    "output_type": "execute_result",
                    "metadata": {},
                    "data": {
                        "text/plain": "array([1, 1, 2, 3, 4, 5, 6, 7, 8, 8])"
                    },
                    "execution_count": null
                }
            ]
        },
        {
            "id": "9ae59c6e",
            "cell_type": "code",
            "metadata": {},
            "execution_count": null,
            "source": "np.clip(a, 8, 1)",
            "outputs": [
                {
                    "output_type": "execute_result",
                    "metadata": {},
                    "data": {
                        "text/plain": "array([1, 1, 1, 1, 1, 1, 1, 1, 1, 1])"
                    },
                    "execution_count": null
                }
            ]
        },
        {
            "id": "fb9a6c27",
            "cell_type": "code",
            "metadata": {},
            "execution_count": null,
            "source": "np.clip(a, 3, 6, out=a)",
            "outputs": [
                {
                    "output_type": "execute_result",
                    "metadata": {},
                    "data": {
                        "text/plain": "array([3, 3, 3, 3, 4, 5, 6, 6, 6, 6])"
                    },
                    "execution_count": null
                }
            ]
        },
        {
            "id": "1b03153b",
            "cell_type": "code",
            "metadata": {},
            "execution_count": null,
            "source": "a",
            "outputs": [
                {
                    "output_type": "execute_result",
                    "metadata": {},
                    "data": {
                        "text/plain": "array([3, 3, 3, 3, 4, 5, 6, 6, 6, 6])"
                    },
                    "execution_count": null
                }
            ]
        },
        {
            "id": "4c00ad86",
            "cell_type": "code",
            "metadata": {},
            "execution_count": null,
            "source": "a = np.arange(10)\na",
            "outputs": [
                {
                    "output_type": "execute_result",
                    "metadata": {},
                    "data": {
                        "text/plain": "array([0, 1, 2, 3, 4, 5, 6, 7, 8, 9])"
                    },
                    "execution_count": null
                }
            ]
        },
        {
            "id": "76e85639",
            "cell_type": "code",
            "metadata": {},
            "execution_count": null,
            "source": "np.clip(a, [3, 4, 1, 1, 1, 4, 4, 4, 4, 4], 8)",
            "outputs": [
                {
                    "output_type": "execute_result",
                    "metadata": {},
                    "data": {
                        "text/plain": "array([3, 4, 2, 3, 4, 5, 6, 7, 8, 8])"
                    },
                    "execution_count": null
                }
            ]
        }
    ]
}