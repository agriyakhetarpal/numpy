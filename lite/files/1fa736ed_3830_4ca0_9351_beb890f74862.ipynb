{
    "nbformat": 4,
    "nbformat_minor": 5,
    "metadata": {
        "kernelspec": {
            "display_name": "Python",
            "language": "python",
            "name": "python"
        },
        "language_info": {
            "name": "python"
        }
    },
    "cells": [
        {
            "id": "683dd68e",
            "cell_type": "markdown",
            "source": "<div class='alert alert-warning'>\n\nNumPy's interactive examples are experimental and may not always work as expected, with high load times especially on low-resource platforms, and the version of NumPy might not be in sync with the one you are browsing the documentation for. If you encounter any issues, please report them on the [NumPy issue tracker](https://github.com/numpy/numpy/issues).\n\n</div>",
            "metadata": {}
        },
        {
            "id": "79cab7a3",
            "cell_type": "code",
            "metadata": {},
            "execution_count": null,
            "source": "import numpy as np\na = np.array([1, 2])\na.fill(0)\na",
            "outputs": [
                {
                    "output_type": "execute_result",
                    "metadata": {},
                    "data": {
                        "text/plain": "array([0, 0])"
                    },
                    "execution_count": null
                }
            ]
        },
        {
            "id": "01e8ef36",
            "cell_type": "code",
            "metadata": {},
            "execution_count": null,
            "source": "a = np.empty(2)\na.fill(1)\na",
            "outputs": [
                {
                    "output_type": "execute_result",
                    "metadata": {},
                    "data": {
                        "text/plain": "array([1.,  1.])"
                    },
                    "execution_count": null
                }
            ]
        },
        {
            "id": "832a3ac5",
            "cell_type": "markdown",
            "source": "Fill expects a scalar value and always behaves the same as assigning\nto a single array element.  The following is a rare example where this\ndistinction is important:\n",
            "metadata": {}
        },
        {
            "id": "3b7c4f8e",
            "cell_type": "code",
            "metadata": {},
            "execution_count": null,
            "source": "a = np.array([None, None], dtype=object)\na[0] = np.array(3)\na",
            "outputs": [
                {
                    "output_type": "execute_result",
                    "metadata": {},
                    "data": {
                        "text/plain": "array([array(3), None], dtype=object)"
                    },
                    "execution_count": null
                }
            ]
        },
        {
            "id": "b7c59227",
            "cell_type": "code",
            "metadata": {},
            "execution_count": null,
            "source": "a.fill(np.array(3))\na",
            "outputs": [
                {
                    "output_type": "execute_result",
                    "metadata": {},
                    "data": {
                        "text/plain": "array([array(3), array(3)], dtype=object)"
                    },
                    "execution_count": null
                }
            ]
        },
        {
            "id": "b02990e1",
            "cell_type": "markdown",
            "source": "Where other forms of assignments will unpack the array being assigned:\n",
            "metadata": {}
        },
        {
            "id": "115abe70",
            "cell_type": "code",
            "metadata": {},
            "execution_count": null,
            "source": "a[...] = np.array(3)\na",
            "outputs": [
                {
                    "output_type": "execute_result",
                    "metadata": {},
                    "data": {
                        "text/plain": "array([3, 3], dtype=object)"
                    },
                    "execution_count": null
                }
            ]
        }
    ]
}