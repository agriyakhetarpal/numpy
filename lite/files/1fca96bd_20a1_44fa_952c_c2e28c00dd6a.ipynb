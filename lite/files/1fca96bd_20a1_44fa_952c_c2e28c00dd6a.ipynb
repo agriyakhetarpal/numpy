{
    "nbformat": 4,
    "nbformat_minor": 5,
    "metadata": {
        "kernelspec": {
            "display_name": "Python",
            "language": "python",
            "name": "python"
        },
        "language_info": {
            "name": "python"
        }
    },
    "cells": [
        {
            "id": "c730ad41",
            "cell_type": "markdown",
            "source": "<div class='alert alert-warning'>\n\nNumPy's interactive examples are experimental and may not always work as expected, with high load times especially on low-resource platforms, and the version of NumPy might not be in sync with the one you are browsing the documentation for. If you encounter any issues, please report them on the [NumPy issue tracker](https://github.com/numpy/numpy/issues).\n\n</div>",
            "metadata": {}
        },
        {
            "id": "ffc06288",
            "cell_type": "markdown",
            "source": "For a 1D array, ``a.tolist()`` is almost the same as ``list(a)``,\nexcept that ``tolist`` changes numpy scalars to Python scalars:\n",
            "metadata": {}
        },
        {
            "id": "847f2f99",
            "cell_type": "code",
            "metadata": {},
            "execution_count": null,
            "source": "import numpy as np\na = np.uint32([1, 2])\na_list = list(a)\na_list",
            "outputs": [
                {
                    "output_type": "execute_result",
                    "metadata": {},
                    "data": {
                        "text/plain": "[np.uint32(1), np.uint32(2)]"
                    },
                    "execution_count": null
                }
            ]
        },
        {
            "id": "c14e6b90",
            "cell_type": "code",
            "metadata": {},
            "execution_count": null,
            "source": "type(a_list[0])",
            "outputs": [
                {
                    "output_type": "execute_result",
                    "metadata": {},
                    "data": {
                        "text/plain": "<class 'numpy.uint32'>"
                    },
                    "execution_count": null
                }
            ]
        },
        {
            "id": "73fd47b9",
            "cell_type": "code",
            "metadata": {},
            "execution_count": null,
            "source": "a_tolist = a.tolist()\na_tolist",
            "outputs": [
                {
                    "output_type": "execute_result",
                    "metadata": {},
                    "data": {
                        "text/plain": "[1, 2]"
                    },
                    "execution_count": null
                }
            ]
        },
        {
            "id": "8afa3f3c",
            "cell_type": "code",
            "metadata": {},
            "execution_count": null,
            "source": "type(a_tolist[0])",
            "outputs": [
                {
                    "output_type": "execute_result",
                    "metadata": {},
                    "data": {
                        "text/plain": "<class 'int'>"
                    },
                    "execution_count": null
                }
            ]
        },
        {
            "id": "6b57d8f3",
            "cell_type": "markdown",
            "source": "Additionally, for a 2D array, ``tolist`` applies recursively:\n",
            "metadata": {}
        },
        {
            "id": "ef86cc70",
            "cell_type": "code",
            "metadata": {},
            "execution_count": null,
            "source": "a = np.array([[1, 2], [3, 4]])\nlist(a)",
            "outputs": [
                {
                    "output_type": "execute_result",
                    "metadata": {},
                    "data": {
                        "text/plain": "[array([1, 2]), array([3, 4])]"
                    },
                    "execution_count": null
                }
            ]
        },
        {
            "id": "2e58bfbf",
            "cell_type": "code",
            "metadata": {},
            "execution_count": null,
            "source": "a.tolist()",
            "outputs": [
                {
                    "output_type": "execute_result",
                    "metadata": {},
                    "data": {
                        "text/plain": "[[1, 2], [3, 4]]"
                    },
                    "execution_count": null
                }
            ]
        },
        {
            "id": "1fa11908",
            "cell_type": "markdown",
            "source": "The base case for this recursion is a 0D array:\n",
            "metadata": {}
        },
        {
            "id": "f342cf28",
            "cell_type": "code",
            "metadata": {},
            "execution_count": null,
            "source": "a = np.array(1)\nlist(a)",
            "outputs": [
                {
                    "output_type": "execute_result",
                    "metadata": {},
                    "data": {
                        "text/plain": "Traceback (most recent call last):\n  ...\nTypeError: iteration over a 0-d array"
                    },
                    "execution_count": null
                }
            ]
        },
        {
            "id": "2a05da0a",
            "cell_type": "code",
            "metadata": {},
            "execution_count": null,
            "source": "a.tolist()",
            "outputs": [
                {
                    "output_type": "execute_result",
                    "metadata": {},
                    "data": {
                        "text/plain": "1"
                    },
                    "execution_count": null
                }
            ]
        }
    ]
}