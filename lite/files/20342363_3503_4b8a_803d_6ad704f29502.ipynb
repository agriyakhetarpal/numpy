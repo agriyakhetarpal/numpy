{
    "nbformat": 4,
    "nbformat_minor": 5,
    "metadata": {
        "kernelspec": {
            "display_name": "Python",
            "language": "python",
            "name": "python"
        },
        "language_info": {
            "name": "python"
        }
    },
    "cells": [
        {
            "id": "76cfcb47",
            "cell_type": "markdown",
            "source": "<div class='alert alert-warning'>\n\nNumPy's interactive examples are experimental and may not always work as expected, with high load times especially on low-resource platforms, and the version of NumPy might not be in sync with the one you are browsing the documentation for. If you encounter any issues, please report them on the [NumPy issue tracker](https://github.com/numpy/numpy/issues).\n\n</div>",
            "metadata": {}
        },
        {
            "id": "2a3f65f5",
            "cell_type": "code",
            "metadata": {},
            "execution_count": null,
            "source": "import numpy as np\nnp.random.seed(123)\nx = np.random.randint(9, size=(3, 3))\nx",
            "outputs": [
                {
                    "output_type": "execute_result",
                    "metadata": {},
                    "data": {
                        "text/plain": "array([[2, 2, 6],\n       [1, 3, 6],\n       [1, 0, 1]])"
                    },
                    "execution_count": null
                }
            ]
        },
        {
            "id": "c15c0c4c",
            "cell_type": "code",
            "metadata": {},
            "execution_count": null,
            "source": "x.item(3)",
            "outputs": [
                {
                    "output_type": "execute_result",
                    "metadata": {},
                    "data": {
                        "text/plain": "1"
                    },
                    "execution_count": null
                }
            ]
        },
        {
            "id": "c6717977",
            "cell_type": "code",
            "metadata": {},
            "execution_count": null,
            "source": "x.item(7)",
            "outputs": [
                {
                    "output_type": "execute_result",
                    "metadata": {},
                    "data": {
                        "text/plain": "0"
                    },
                    "execution_count": null
                }
            ]
        },
        {
            "id": "3e80d5fa",
            "cell_type": "code",
            "metadata": {},
            "execution_count": null,
            "source": "x.item((0, 1))",
            "outputs": [
                {
                    "output_type": "execute_result",
                    "metadata": {},
                    "data": {
                        "text/plain": "2"
                    },
                    "execution_count": null
                }
            ]
        },
        {
            "id": "7074eebd",
            "cell_type": "code",
            "metadata": {},
            "execution_count": null,
            "source": "x.item((2, 2))",
            "outputs": [
                {
                    "output_type": "execute_result",
                    "metadata": {},
                    "data": {
                        "text/plain": "1"
                    },
                    "execution_count": null
                }
            ]
        },
        {
            "id": "ae3373e1",
            "cell_type": "markdown",
            "source": "For an array with object dtype, elements are returned as-is.\n",
            "metadata": {}
        },
        {
            "id": "a14f3f5c",
            "cell_type": "code",
            "metadata": {},
            "execution_count": null,
            "source": "a = np.array([np.int64(1)], dtype=object)\na.item() #return np.int64",
            "outputs": [
                {
                    "output_type": "execute_result",
                    "metadata": {},
                    "data": {
                        "text/plain": "np.int64(1)"
                    },
                    "execution_count": null
                }
            ]
        }
    ]
}