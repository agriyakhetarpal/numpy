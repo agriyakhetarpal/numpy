{
    "nbformat": 4,
    "nbformat_minor": 5,
    "metadata": {
        "kernelspec": {
            "display_name": "Python",
            "language": "python",
            "name": "python"
        },
        "language_info": {
            "name": "python"
        }
    },
    "cells": [
        {
            "id": "6b2d9d6b",
            "cell_type": "markdown",
            "source": "<div class='alert alert-warning'>\n\nNumPy's interactive examples are experimental and may not always work as expected, with high load times especially on low-resource platforms, and the version of NumPy might not be in sync with the one you are browsing the documentation for. If you encounter any issues, please report them on the [NumPy issue tracker](https://github.com/numpy/numpy/issues).\n\n</div>",
            "metadata": {}
        },
        {
            "id": "8c02656a",
            "cell_type": "markdown",
            "source": "To get the necessary information for the npymath library from NumPy:\n",
            "metadata": {}
        },
        {
            "id": "d417c50e",
            "cell_type": "code",
            "metadata": {},
            "execution_count": null,
            "source": "npymath_info = np.distutils.misc_util.get_info('npymath')\nnpymath_info                                    #doctest: +SKIP",
            "outputs": [
                {
                    "output_type": "execute_result",
                    "metadata": {},
                    "data": {
                        "text/plain": "{'define_macros': [], 'libraries': ['npymath'], 'library_dirs':\n['.../numpy/_core/lib'], 'include_dirs': ['.../numpy/_core/include']}"
                    },
                    "execution_count": null
                }
            ]
        },
        {
            "id": "986b15eb",
            "cell_type": "markdown",
            "source": "This info dict can then be used as input to a `Configuration` instance\n```\n\nconfig.add_extension('foo', sources=['foo.c'], extra_info=npymath_info)\n```",
            "metadata": {}
        }
    ]
}