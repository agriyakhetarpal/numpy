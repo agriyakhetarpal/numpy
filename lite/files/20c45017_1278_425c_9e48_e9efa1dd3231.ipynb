{
    "nbformat": 4,
    "nbformat_minor": 5,
    "metadata": {
        "kernelspec": {
            "display_name": "Python",
            "language": "python",
            "name": "python"
        },
        "language_info": {
            "name": "python"
        }
    },
    "cells": [
        {
            "id": "89d1b3a0",
            "cell_type": "markdown",
            "source": "<div class='alert alert-warning'>\n\nNumPy's interactive examples are experimental and may not always work as expected, with high load times especially on low-resource platforms, and the version of NumPy might not be in sync with the one you are browsing the documentation for. If you encounter any issues, please report them on the [NumPy issue tracker](https://github.com/numpy/numpy/issues).\n\n</div>",
            "metadata": {}
        },
        {
            "id": "a958be63",
            "cell_type": "code",
            "metadata": {},
            "execution_count": null,
            "source": "import numpy as np\na = np.eye(4*6)\na.shape = (4, 6, 8, 3)\nainv = np.linalg.tensorinv(a, ind=2)\nainv.shape",
            "outputs": [
                {
                    "output_type": "execute_result",
                    "metadata": {},
                    "data": {
                        "text/plain": "(8, 3, 4, 6)"
                    },
                    "execution_count": null
                }
            ]
        },
        {
            "id": "28fa78de",
            "cell_type": "code",
            "metadata": {},
            "execution_count": null,
            "source": "rng = np.random.default_rng()\nb = rng.normal(size=(4, 6))\nnp.allclose(np.tensordot(ainv, b), np.linalg.tensorsolve(a, b))",
            "outputs": [
                {
                    "output_type": "execute_result",
                    "metadata": {},
                    "data": {
                        "text/plain": "True"
                    },
                    "execution_count": null
                }
            ]
        },
        {
            "id": "f693ffad",
            "cell_type": "code",
            "metadata": {},
            "execution_count": null,
            "source": "a = np.eye(4*6)\na.shape = (24, 8, 3)\nainv = np.linalg.tensorinv(a, ind=1)\nainv.shape",
            "outputs": [
                {
                    "output_type": "execute_result",
                    "metadata": {},
                    "data": {
                        "text/plain": "(8, 3, 24)"
                    },
                    "execution_count": null
                }
            ]
        },
        {
            "id": "2146f057",
            "cell_type": "code",
            "metadata": {},
            "execution_count": null,
            "source": "rng = np.random.default_rng()\nb = rng.normal(size=24)\nnp.allclose(np.tensordot(ainv, b, 1), np.linalg.tensorsolve(a, b))",
            "outputs": [
                {
                    "output_type": "execute_result",
                    "metadata": {},
                    "data": {
                        "text/plain": "True"
                    },
                    "execution_count": null
                }
            ]
        }
    ]
}