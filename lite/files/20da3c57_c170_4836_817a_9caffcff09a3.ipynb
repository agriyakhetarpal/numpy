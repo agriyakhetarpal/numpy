{
    "nbformat": 4,
    "nbformat_minor": 5,
    "metadata": {
        "kernelspec": {
            "display_name": "Python",
            "language": "python",
            "name": "python"
        },
        "language_info": {
            "name": "python"
        }
    },
    "cells": [
        {
            "id": "eb5e0188",
            "cell_type": "markdown",
            "source": "<div class='alert alert-warning'>\n\nNumPy's interactive examples are experimental and may not always work as expected, with high load times especially on low-resource platforms, and the version of NumPy might not be in sync with the one you are browsing the documentation for. If you encounter any issues, please report them on the [NumPy issue tracker](https://github.com/numpy/numpy/issues).\n\n</div>",
            "metadata": {}
        },
        {
            "id": "270df1ff",
            "cell_type": "code",
            "metadata": {},
            "execution_count": null,
            "source": "import numpy as np\nnp.array([1, 2, 3])",
            "outputs": [
                {
                    "output_type": "execute_result",
                    "metadata": {},
                    "data": {
                        "text/plain": "array([1, 2, 3])"
                    },
                    "execution_count": null
                }
            ]
        },
        {
            "id": "f2793972",
            "cell_type": "markdown",
            "source": "Upcasting:\n",
            "metadata": {}
        },
        {
            "id": "11ff3ddf",
            "cell_type": "code",
            "metadata": {},
            "execution_count": null,
            "source": "np.array([1, 2, 3.0])",
            "outputs": [
                {
                    "output_type": "execute_result",
                    "metadata": {},
                    "data": {
                        "text/plain": "array([ 1.,  2.,  3.])"
                    },
                    "execution_count": null
                }
            ]
        },
        {
            "id": "0de1026b",
            "cell_type": "markdown",
            "source": "More than one dimension:\n",
            "metadata": {}
        },
        {
            "id": "4673ed44",
            "cell_type": "code",
            "metadata": {},
            "execution_count": null,
            "source": "np.array([[1, 2], [3, 4]])",
            "outputs": [
                {
                    "output_type": "execute_result",
                    "metadata": {},
                    "data": {
                        "text/plain": "array([[1, 2],\n       [3, 4]])"
                    },
                    "execution_count": null
                }
            ]
        },
        {
            "id": "2aac9d74",
            "cell_type": "markdown",
            "source": "Minimum dimensions 2:\n",
            "metadata": {}
        },
        {
            "id": "59aac2c1",
            "cell_type": "code",
            "metadata": {},
            "execution_count": null,
            "source": "np.array([1, 2, 3], ndmin=2)",
            "outputs": [
                {
                    "output_type": "execute_result",
                    "metadata": {},
                    "data": {
                        "text/plain": "array([[1, 2, 3]])"
                    },
                    "execution_count": null
                }
            ]
        },
        {
            "id": "c9de14c6",
            "cell_type": "markdown",
            "source": "Type provided:\n",
            "metadata": {}
        },
        {
            "id": "8338445c",
            "cell_type": "code",
            "metadata": {},
            "execution_count": null,
            "source": "np.array([1, 2, 3], dtype=complex)",
            "outputs": [
                {
                    "output_type": "execute_result",
                    "metadata": {},
                    "data": {
                        "text/plain": "array([ 1.+0.j,  2.+0.j,  3.+0.j])"
                    },
                    "execution_count": null
                }
            ]
        },
        {
            "id": "f205bc32",
            "cell_type": "markdown",
            "source": "Data-type consisting of more than one element:\n",
            "metadata": {}
        },
        {
            "id": "55750b8d",
            "cell_type": "code",
            "metadata": {},
            "execution_count": null,
            "source": "x = np.array([(1,2),(3,4)],dtype=[('a','<i4'),('b','<i4')])\nx['a']",
            "outputs": [
                {
                    "output_type": "execute_result",
                    "metadata": {},
                    "data": {
                        "text/plain": "array([1, 3])"
                    },
                    "execution_count": null
                }
            ]
        },
        {
            "id": "5912895a",
            "cell_type": "markdown",
            "source": "Creating an array from sub-classes:\n",
            "metadata": {}
        },
        {
            "id": "ab892c03",
            "cell_type": "code",
            "metadata": {},
            "execution_count": null,
            "source": "np.array(np.asmatrix('1 2; 3 4'))",
            "outputs": [
                {
                    "output_type": "execute_result",
                    "metadata": {},
                    "data": {
                        "text/plain": "array([[1, 2],\n       [3, 4]])"
                    },
                    "execution_count": null
                }
            ]
        },
        {
            "id": "011babe3",
            "cell_type": "code",
            "metadata": {},
            "execution_count": null,
            "source": "np.array(np.asmatrix('1 2; 3 4'), subok=True)",
            "outputs": [
                {
                    "output_type": "execute_result",
                    "metadata": {},
                    "data": {
                        "text/plain": "matrix([[1, 2],\n        [3, 4]])"
                    },
                    "execution_count": null
                }
            ]
        }
    ]
}