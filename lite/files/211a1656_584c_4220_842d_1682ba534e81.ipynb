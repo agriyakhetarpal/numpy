{
    "nbformat": 4,
    "nbformat_minor": 5,
    "metadata": {
        "kernelspec": {
            "display_name": "Python",
            "language": "python",
            "name": "python"
        },
        "language_info": {
            "name": "python"
        }
    },
    "cells": [
        {
            "id": "5ad8fb99",
            "cell_type": "markdown",
            "source": "<div class='alert alert-warning'>\n\nNumPy's interactive examples are experimental and may not always work as expected, with high load times especially on low-resource platforms, , and the version of NumPy might not be in sync with the one you are browsing the documentation for. If you encounter any issues, please report them on the [NumPy issue tracker](https://github.com/numpy/numpy/issues).\n\n</div>",
            "metadata": {}
        },
        {
            "id": "b3770d43",
            "cell_type": "code",
            "metadata": {},
            "execution_count": null,
            "source": "import numpy as np",
            "outputs": []
        },
        {
            "id": "ececf7c0",
            "cell_type": "code",
            "metadata": {},
            "execution_count": null,
            "source": "np.array(['2007-07-13', '2006-01-13', '2010-08-13'], dtype='datetime64')",
            "outputs": [
                {
                    "output_type": "execute_result",
                    "metadata": {},
                    "data": {
                        "text/plain": "array(['2007-07-13', '2006-01-13', '2010-08-13'], dtype='datetime64[D]')"
                    },
                    "execution_count": null
                }
            ]
        },
        {
            "id": "44422b42",
            "cell_type": "code",
            "metadata": {},
            "execution_count": null,
            "source": "np.array(['2001-01-01T12:00', '2002-02-03T13:56:03.172'], dtype='datetime64')",
            "outputs": [
                {
                    "output_type": "execute_result",
                    "metadata": {},
                    "data": {
                        "text/plain": "array(['2001-01-01T12:00:00.000', '2002-02-03T13:56:03.172'],\n      dtype='datetime64[ms]')"
                    },
                    "execution_count": null
                }
            ]
        }
    ]
}