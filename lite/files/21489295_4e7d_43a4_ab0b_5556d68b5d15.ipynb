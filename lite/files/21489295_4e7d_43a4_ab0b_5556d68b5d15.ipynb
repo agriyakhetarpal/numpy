{
    "nbformat": 4,
    "nbformat_minor": 5,
    "metadata": {
        "kernelspec": {
            "display_name": "Python",
            "language": "python",
            "name": "python"
        },
        "language_info": {
            "name": "python"
        }
    },
    "cells": [
        {
            "id": "c5776d71",
            "cell_type": "markdown",
            "source": "<div class='alert alert-warning'>\n\nNumPy's interactive examples are experimental and may not always work as expected, with high load times especially on low-resource platforms, , and the version of NumPy might not be in sync with the one you are browsing the documentation for. If you encounter any issues, please report them on the [NumPy issue tracker](https://github.com/numpy/numpy/issues).\n\n</div>",
            "metadata": {}
        },
        {
            "id": "91367bf3",
            "cell_type": "code",
            "metadata": {},
            "execution_count": null,
            "source": "import numpy as np\nimport numpy.ma as ma\nm = ma.masked_equal([0, 1, 0, 2, 3], 0)\nm",
            "outputs": [
                {
                    "output_type": "execute_result",
                    "metadata": {},
                    "data": {
                        "text/plain": "masked_array(data=[--, 1, --, 2, 3],\n             mask=[ True, False,  True, False, False],\n       fill_value=0)"
                    },
                    "execution_count": null
                }
            ]
        },
        {
            "id": "81a7d367",
            "cell_type": "code",
            "metadata": {},
            "execution_count": null,
            "source": "ma.is_mask(m)",
            "outputs": [
                {
                    "output_type": "execute_result",
                    "metadata": {},
                    "data": {
                        "text/plain": "False"
                    },
                    "execution_count": null
                }
            ]
        },
        {
            "id": "dc1f0654",
            "cell_type": "code",
            "metadata": {},
            "execution_count": null,
            "source": "ma.is_mask(m.mask)",
            "outputs": [
                {
                    "output_type": "execute_result",
                    "metadata": {},
                    "data": {
                        "text/plain": "True"
                    },
                    "execution_count": null
                }
            ]
        },
        {
            "id": "7f8e2a60",
            "cell_type": "markdown",
            "source": "Input must be an ndarray (or have similar attributes)\nfor it to be considered a valid mask.\n",
            "metadata": {}
        },
        {
            "id": "93080c7c",
            "cell_type": "code",
            "metadata": {},
            "execution_count": null,
            "source": "m = [False, True, False]\nma.is_mask(m)",
            "outputs": [
                {
                    "output_type": "execute_result",
                    "metadata": {},
                    "data": {
                        "text/plain": "False"
                    },
                    "execution_count": null
                }
            ]
        },
        {
            "id": "82c0bff3",
            "cell_type": "code",
            "metadata": {},
            "execution_count": null,
            "source": "m = np.array([False, True, False])\nm",
            "outputs": [
                {
                    "output_type": "execute_result",
                    "metadata": {},
                    "data": {
                        "text/plain": "array([False,  True, False])"
                    },
                    "execution_count": null
                }
            ]
        },
        {
            "id": "5192769d",
            "cell_type": "code",
            "metadata": {},
            "execution_count": null,
            "source": "ma.is_mask(m)",
            "outputs": [
                {
                    "output_type": "execute_result",
                    "metadata": {},
                    "data": {
                        "text/plain": "True"
                    },
                    "execution_count": null
                }
            ]
        },
        {
            "id": "3f57dc59",
            "cell_type": "markdown",
            "source": "Arrays with complex dtypes don't return True.\n",
            "metadata": {}
        },
        {
            "id": "0df0ff82",
            "cell_type": "code",
            "metadata": {},
            "execution_count": null,
            "source": "dtype = np.dtype({'names':['monty', 'pithon'],\n                  'formats':[bool, bool]})\ndtype",
            "outputs": [
                {
                    "output_type": "execute_result",
                    "metadata": {},
                    "data": {
                        "text/plain": "dtype([('monty', '|b1'), ('pithon', '|b1')])"
                    },
                    "execution_count": null
                }
            ]
        },
        {
            "id": "fcacdf40",
            "cell_type": "code",
            "metadata": {},
            "execution_count": null,
            "source": "m = np.array([(True, False), (False, True), (True, False)],\n             dtype=dtype)\nm",
            "outputs": [
                {
                    "output_type": "execute_result",
                    "metadata": {},
                    "data": {
                        "text/plain": "array([( True, False), (False,  True), ( True, False)],\n      dtype=[('monty', '?'), ('pithon', '?')])"
                    },
                    "execution_count": null
                }
            ]
        },
        {
            "id": "db22802d",
            "cell_type": "code",
            "metadata": {},
            "execution_count": null,
            "source": "ma.is_mask(m)",
            "outputs": [
                {
                    "output_type": "execute_result",
                    "metadata": {},
                    "data": {
                        "text/plain": "False"
                    },
                    "execution_count": null
                }
            ]
        }
    ]
}