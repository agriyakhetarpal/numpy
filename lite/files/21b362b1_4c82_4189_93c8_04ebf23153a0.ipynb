{
    "nbformat": 4,
    "nbformat_minor": 5,
    "metadata": {
        "kernelspec": {
            "display_name": "Python",
            "language": "python",
            "name": "python"
        },
        "language_info": {
            "name": "python"
        }
    },
    "cells": [
        {
            "id": "81681bae",
            "cell_type": "markdown",
            "source": "<div class='alert alert-warning'>\n\nNumPy's interactive examples are experimental and may not always work as expected, with high load times especially on low-resource platforms, , and the version of NumPy might not be in sync with the one you are browsing the documentation for. If you encounter any issues, please report them on the [NumPy issue tracker](https://github.com/numpy/numpy/issues).\n\n</div>",
            "metadata": {}
        },
        {
            "id": "952dc18c",
            "cell_type": "code",
            "metadata": {},
            "execution_count": null,
            "source": "import numpy as np\nnp.isposinf(np.inf)",
            "outputs": [
                {
                    "output_type": "execute_result",
                    "metadata": {},
                    "data": {
                        "text/plain": "True"
                    },
                    "execution_count": null
                }
            ]
        },
        {
            "id": "dc7531dd",
            "cell_type": "code",
            "metadata": {},
            "execution_count": null,
            "source": "np.isposinf(-np.inf)",
            "outputs": [
                {
                    "output_type": "execute_result",
                    "metadata": {},
                    "data": {
                        "text/plain": "False"
                    },
                    "execution_count": null
                }
            ]
        },
        {
            "id": "c861bc3b",
            "cell_type": "code",
            "metadata": {},
            "execution_count": null,
            "source": "np.isposinf([-np.inf, 0., np.inf])",
            "outputs": [
                {
                    "output_type": "execute_result",
                    "metadata": {},
                    "data": {
                        "text/plain": "array([False, False,  True])"
                    },
                    "execution_count": null
                }
            ]
        },
        {
            "id": "c442e6e2",
            "cell_type": "code",
            "metadata": {},
            "execution_count": null,
            "source": "x = np.array([-np.inf, 0., np.inf])\ny = np.array([2, 2, 2])\nnp.isposinf(x, y)",
            "outputs": [
                {
                    "output_type": "execute_result",
                    "metadata": {},
                    "data": {
                        "text/plain": "array([0, 0, 1])"
                    },
                    "execution_count": null
                }
            ]
        },
        {
            "id": "659455e0",
            "cell_type": "code",
            "metadata": {},
            "execution_count": null,
            "source": "y",
            "outputs": [
                {
                    "output_type": "execute_result",
                    "metadata": {},
                    "data": {
                        "text/plain": "array([0, 0, 1])"
                    },
                    "execution_count": null
                }
            ]
        }
    ]
}