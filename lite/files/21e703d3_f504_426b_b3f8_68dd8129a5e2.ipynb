{
    "nbformat": 4,
    "nbformat_minor": 5,
    "metadata": {
        "kernelspec": {
            "display_name": "Python",
            "language": "python",
            "name": "python"
        },
        "language_info": {
            "name": "python"
        }
    },
    "cells": [
        {
            "id": "e7ff8c65",
            "cell_type": "markdown",
            "source": "<div class='alert alert-warning'>\n\nNumPy's interactive examples are experimental and may not always work as expected, with high load times especially on low-resource platforms, , and the version of NumPy might not be in sync with the one you are browsing the documentation for. If you encounter any issues, please report them on the [NumPy issue tracker](https://github.com/numpy/numpy/issues).\n\n</div>",
            "metadata": {}
        },
        {
            "id": "167ab8cc",
            "cell_type": "code",
            "metadata": {},
            "execution_count": null,
            "source": "import numpy as np\nnp.format_float_positional(np.float32(np.pi))",
            "outputs": [
                {
                    "output_type": "execute_result",
                    "metadata": {},
                    "data": {
                        "text/plain": "'3.1415927'"
                    },
                    "execution_count": null
                }
            ]
        },
        {
            "id": "a1c3a7ee",
            "cell_type": "code",
            "metadata": {},
            "execution_count": null,
            "source": "np.format_float_positional(np.float16(np.pi))",
            "outputs": [
                {
                    "output_type": "execute_result",
                    "metadata": {},
                    "data": {
                        "text/plain": "'3.14'"
                    },
                    "execution_count": null
                }
            ]
        },
        {
            "id": "4a6848d2",
            "cell_type": "code",
            "metadata": {},
            "execution_count": null,
            "source": "np.format_float_positional(np.float16(0.3))",
            "outputs": [
                {
                    "output_type": "execute_result",
                    "metadata": {},
                    "data": {
                        "text/plain": "'0.3'"
                    },
                    "execution_count": null
                }
            ]
        },
        {
            "id": "1ed13027",
            "cell_type": "code",
            "metadata": {},
            "execution_count": null,
            "source": "np.format_float_positional(np.float16(0.3), unique=False, precision=10)",
            "outputs": [
                {
                    "output_type": "execute_result",
                    "metadata": {},
                    "data": {
                        "text/plain": "'0.3000488281'"
                    },
                    "execution_count": null
                }
            ]
        }
    ]
}