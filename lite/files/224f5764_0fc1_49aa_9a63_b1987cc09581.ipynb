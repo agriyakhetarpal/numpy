{
    "nbformat": 4,
    "nbformat_minor": 5,
    "metadata": {
        "kernelspec": {
            "display_name": "Python",
            "language": "python",
            "name": "python"
        },
        "language_info": {
            "name": "python"
        }
    },
    "cells": [
        {
            "id": "dfc22e9d",
            "cell_type": "markdown",
            "source": "<div class='alert alert-warning'>\n\nNumPy's interactive examples are experimental and may not always work as expected, with high load times especially on low-resource platforms, , and the version of NumPy might not be in sync with the one you are browsing the documentation for. If you encounter any issues, please report them on the [NumPy issue tracker](https://github.com/numpy/numpy/issues).\n\n</div>",
            "metadata": {}
        },
        {
            "id": "ee0e8ee4",
            "cell_type": "code",
            "metadata": {},
            "execution_count": null,
            "source": "import numpy as np\nc = np.array(['aAaAaA', '  aA  ', 'abBABba'])\nc",
            "outputs": [
                {
                    "output_type": "execute_result",
                    "metadata": {},
                    "data": {
                        "text/plain": "array(['aAaAaA', '  aA  ', 'abBABba'], dtype='<U7')"
                    },
                    "execution_count": null
                }
            ]
        },
        {
            "id": "a6e0ea27",
            "cell_type": "code",
            "metadata": {},
            "execution_count": null,
            "source": "np.strings.strip(c)",
            "outputs": [
                {
                    "output_type": "execute_result",
                    "metadata": {},
                    "data": {
                        "text/plain": "array(['aAaAaA', 'aA', 'abBABba'], dtype='<U7')\n# 'a' unstripped from c[1] because of leading whitespace."
                    },
                    "execution_count": null
                }
            ]
        },
        {
            "id": "ed19482f",
            "cell_type": "code",
            "metadata": {},
            "execution_count": null,
            "source": "np.strings.strip(c, 'a')",
            "outputs": [
                {
                    "output_type": "execute_result",
                    "metadata": {},
                    "data": {
                        "text/plain": "array(['AaAaA', '  aA  ', 'bBABb'], dtype='<U7')\n# 'A' unstripped from c[1] because of trailing whitespace."
                    },
                    "execution_count": null
                }
            ]
        },
        {
            "id": "87cf8507",
            "cell_type": "code",
            "metadata": {},
            "execution_count": null,
            "source": "np.strings.strip(c, 'A')",
            "outputs": [
                {
                    "output_type": "execute_result",
                    "metadata": {},
                    "data": {
                        "text/plain": "array(['aAaAa', '  aA  ', 'abBABba'], dtype='<U7')"
                    },
                    "execution_count": null
                }
            ]
        }
    ]
}