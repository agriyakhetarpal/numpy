{
    "nbformat": 4,
    "nbformat_minor": 5,
    "metadata": {
        "kernelspec": {
            "display_name": "Python",
            "language": "python",
            "name": "python"
        },
        "language_info": {
            "name": "python"
        }
    },
    "cells": [
        {
            "id": "b30e4ef2",
            "cell_type": "markdown",
            "source": "<div class='alert alert-warning'>\n\nNumPy's interactive examples are experimental and may not always work as expected, with high load times especially on low-resource platforms, , and the version of NumPy might not be in sync with the one you are browsing the documentation for. If you encounter any issues, please report them on the [NumPy issue tracker](https://github.com/numpy/numpy/issues).\n\n</div>",
            "metadata": {}
        },
        {
            "id": "ddb07c79",
            "cell_type": "code",
            "metadata": {},
            "execution_count": null,
            "source": "import numpy as np\nrng = np.random.default_rng()\na = rng.normal(size=(9, 6)) + 1j*rng.normal(size=(9, 6))\nb = rng.normal(size=(2, 7, 8, 3)) + 1j*rng.normal(size=(2, 7, 8, 3))",
            "outputs": []
        },
        {
            "id": "0d2fba70",
            "cell_type": "markdown",
            "source": "Reconstruction based on full SVD, 2D case:\n",
            "metadata": {}
        },
        {
            "id": "b1985dff",
            "cell_type": "code",
            "metadata": {},
            "execution_count": null,
            "source": "U, S, Vh = np.linalg.svd(a, full_matrices=True)\nU.shape, S.shape, Vh.shape",
            "outputs": [
                {
                    "output_type": "execute_result",
                    "metadata": {},
                    "data": {
                        "text/plain": "((9, 9), (6,), (6, 6))"
                    },
                    "execution_count": null
                }
            ]
        },
        {
            "id": "89935bd4",
            "cell_type": "code",
            "metadata": {},
            "execution_count": null,
            "source": "np.allclose(a, np.dot(U[:, :6] * S, Vh))",
            "outputs": [
                {
                    "output_type": "execute_result",
                    "metadata": {},
                    "data": {
                        "text/plain": "True"
                    },
                    "execution_count": null
                }
            ]
        },
        {
            "id": "d7ceec60",
            "cell_type": "code",
            "metadata": {},
            "execution_count": null,
            "source": "smat = np.zeros((9, 6), dtype=complex)\nsmat[:6, :6] = np.diag(S)\nnp.allclose(a, np.dot(U, np.dot(smat, Vh)))",
            "outputs": [
                {
                    "output_type": "execute_result",
                    "metadata": {},
                    "data": {
                        "text/plain": "True"
                    },
                    "execution_count": null
                }
            ]
        },
        {
            "id": "d2630fe0",
            "cell_type": "markdown",
            "source": "Reconstruction based on reduced SVD, 2D case:\n",
            "metadata": {}
        },
        {
            "id": "49581d60",
            "cell_type": "code",
            "metadata": {},
            "execution_count": null,
            "source": "U, S, Vh = np.linalg.svd(a, full_matrices=False)\nU.shape, S.shape, Vh.shape",
            "outputs": [
                {
                    "output_type": "execute_result",
                    "metadata": {},
                    "data": {
                        "text/plain": "((9, 6), (6,), (6, 6))"
                    },
                    "execution_count": null
                }
            ]
        },
        {
            "id": "97da8b75",
            "cell_type": "code",
            "metadata": {},
            "execution_count": null,
            "source": "np.allclose(a, np.dot(U * S, Vh))",
            "outputs": [
                {
                    "output_type": "execute_result",
                    "metadata": {},
                    "data": {
                        "text/plain": "True"
                    },
                    "execution_count": null
                }
            ]
        },
        {
            "id": "ad2f75a7",
            "cell_type": "code",
            "metadata": {},
            "execution_count": null,
            "source": "smat = np.diag(S)\nnp.allclose(a, np.dot(U, np.dot(smat, Vh)))",
            "outputs": [
                {
                    "output_type": "execute_result",
                    "metadata": {},
                    "data": {
                        "text/plain": "True"
                    },
                    "execution_count": null
                }
            ]
        },
        {
            "id": "5a1d68ed",
            "cell_type": "markdown",
            "source": "Reconstruction based on full SVD, 4D case:\n",
            "metadata": {}
        },
        {
            "id": "1bf46127",
            "cell_type": "code",
            "metadata": {},
            "execution_count": null,
            "source": "U, S, Vh = np.linalg.svd(b, full_matrices=True)\nU.shape, S.shape, Vh.shape",
            "outputs": [
                {
                    "output_type": "execute_result",
                    "metadata": {},
                    "data": {
                        "text/plain": "((2, 7, 8, 8), (2, 7, 3), (2, 7, 3, 3))"
                    },
                    "execution_count": null
                }
            ]
        },
        {
            "id": "8cdc1da2",
            "cell_type": "code",
            "metadata": {},
            "execution_count": null,
            "source": "np.allclose(b, np.matmul(U[..., :3] * S[..., None, :], Vh))",
            "outputs": [
                {
                    "output_type": "execute_result",
                    "metadata": {},
                    "data": {
                        "text/plain": "True"
                    },
                    "execution_count": null
                }
            ]
        },
        {
            "id": "7c8dae61",
            "cell_type": "code",
            "metadata": {},
            "execution_count": null,
            "source": "np.allclose(b, np.matmul(U[..., :3], S[..., None] * Vh))",
            "outputs": [
                {
                    "output_type": "execute_result",
                    "metadata": {},
                    "data": {
                        "text/plain": "True"
                    },
                    "execution_count": null
                }
            ]
        },
        {
            "id": "62863f0a",
            "cell_type": "markdown",
            "source": "Reconstruction based on reduced SVD, 4D case:\n",
            "metadata": {}
        },
        {
            "id": "cb8fcbe5",
            "cell_type": "code",
            "metadata": {},
            "execution_count": null,
            "source": "U, S, Vh = np.linalg.svd(b, full_matrices=False)\nU.shape, S.shape, Vh.shape",
            "outputs": [
                {
                    "output_type": "execute_result",
                    "metadata": {},
                    "data": {
                        "text/plain": "((2, 7, 8, 3), (2, 7, 3), (2, 7, 3, 3))"
                    },
                    "execution_count": null
                }
            ]
        },
        {
            "id": "d5ae58b0",
            "cell_type": "code",
            "metadata": {},
            "execution_count": null,
            "source": "np.allclose(b, np.matmul(U * S[..., None, :], Vh))",
            "outputs": [
                {
                    "output_type": "execute_result",
                    "metadata": {},
                    "data": {
                        "text/plain": "True"
                    },
                    "execution_count": null
                }
            ]
        },
        {
            "id": "fa467b51",
            "cell_type": "code",
            "metadata": {},
            "execution_count": null,
            "source": "np.allclose(b, np.matmul(U, S[..., None] * Vh))",
            "outputs": [
                {
                    "output_type": "execute_result",
                    "metadata": {},
                    "data": {
                        "text/plain": "True"
                    },
                    "execution_count": null
                }
            ]
        }
    ]
}