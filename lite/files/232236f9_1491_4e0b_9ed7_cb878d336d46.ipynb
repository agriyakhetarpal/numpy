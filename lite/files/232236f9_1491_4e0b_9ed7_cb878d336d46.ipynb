{
    "nbformat": 4,
    "nbformat_minor": 5,
    "metadata": {
        "kernelspec": {
            "display_name": "Python",
            "language": "python",
            "name": "python"
        },
        "language_info": {
            "name": "python"
        }
    },
    "cells": [
        {
            "id": "d3fad676",
            "cell_type": "markdown",
            "source": "<div class='alert alert-warning'>\n\nNumPy's interactive examples are experimental and may not always work as expected, with high load times especially on low-resource platforms, , and the version of NumPy might not be in sync with the one you are browsing the documentation for. If you encounter any issues, please report them on the [NumPy issue tracker](https://github.com/numpy/numpy/issues).\n\n</div>",
            "metadata": {}
        },
        {
            "id": "e46dab3b",
            "cell_type": "code",
            "metadata": {},
            "execution_count": null,
            "source": "import numpy as np\nimport numpy.ma as ma\na = np.arange(5)\na",
            "outputs": [
                {
                    "output_type": "execute_result",
                    "metadata": {},
                    "data": {
                        "text/plain": "array([0, 1, 2, 3, 4])"
                    },
                    "execution_count": null
                }
            ]
        },
        {
            "id": "188812f6",
            "cell_type": "code",
            "metadata": {},
            "execution_count": null,
            "source": "a = ma.masked_where(a < 3, a)\na",
            "outputs": [
                {
                    "output_type": "execute_result",
                    "metadata": {},
                    "data": {
                        "text/plain": "masked_array(data=[--, --, --, 3, 4],\n             mask=[ True,  True,  True, False, False],\n       fill_value=999999)"
                    },
                    "execution_count": null
                }
            ]
        },
        {
            "id": "0f0c6754",
            "cell_type": "code",
            "metadata": {},
            "execution_count": null,
            "source": "ma.set_fill_value(a, -999)\na",
            "outputs": [
                {
                    "output_type": "execute_result",
                    "metadata": {},
                    "data": {
                        "text/plain": "masked_array(data=[--, --, --, 3, 4],\n             mask=[ True,  True,  True, False, False],\n       fill_value=-999)"
                    },
                    "execution_count": null
                }
            ]
        },
        {
            "id": "26e95854",
            "cell_type": "markdown",
            "source": "Nothing happens if `a` is not a masked array.\n",
            "metadata": {}
        },
        {
            "id": "5de50a0c",
            "cell_type": "code",
            "metadata": {},
            "execution_count": null,
            "source": "a = list(range(5))\na",
            "outputs": [
                {
                    "output_type": "execute_result",
                    "metadata": {},
                    "data": {
                        "text/plain": "[0, 1, 2, 3, 4]"
                    },
                    "execution_count": null
                }
            ]
        },
        {
            "id": "ec4d8407",
            "cell_type": "code",
            "metadata": {},
            "execution_count": null,
            "source": "ma.set_fill_value(a, 100)\na",
            "outputs": [
                {
                    "output_type": "execute_result",
                    "metadata": {},
                    "data": {
                        "text/plain": "[0, 1, 2, 3, 4]"
                    },
                    "execution_count": null
                }
            ]
        },
        {
            "id": "e6dca7c4",
            "cell_type": "code",
            "metadata": {},
            "execution_count": null,
            "source": "a = np.arange(5)\na",
            "outputs": [
                {
                    "output_type": "execute_result",
                    "metadata": {},
                    "data": {
                        "text/plain": "array([0, 1, 2, 3, 4])"
                    },
                    "execution_count": null
                }
            ]
        },
        {
            "id": "482b1f9a",
            "cell_type": "code",
            "metadata": {},
            "execution_count": null,
            "source": "ma.set_fill_value(a, 100)\na",
            "outputs": [
                {
                    "output_type": "execute_result",
                    "metadata": {},
                    "data": {
                        "text/plain": "array([0, 1, 2, 3, 4])"
                    },
                    "execution_count": null
                }
            ]
        }
    ]
}