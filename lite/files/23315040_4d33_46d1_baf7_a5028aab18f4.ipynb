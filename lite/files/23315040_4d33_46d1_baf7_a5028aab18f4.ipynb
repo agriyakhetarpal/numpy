{
    "nbformat": 4,
    "nbformat_minor": 5,
    "metadata": {
        "kernelspec": {
            "display_name": "Python",
            "language": "python",
            "name": "python"
        },
        "language_info": {
            "name": "python"
        }
    },
    "cells": [
        {
            "id": "b7b9bc82",
            "cell_type": "markdown",
            "source": "<div class='alert alert-warning'>\n\nNumPy's interactive examples are experimental and may not always work as expected, with high load times especially on low-resource platforms, and the version of NumPy might not be in sync with the one you are browsing the documentation for. If you encounter any issues, please report them on the [NumPy issue tracker](https://github.com/numpy/numpy/issues).\n\n</div>",
            "metadata": {}
        },
        {
            "id": "d9f458ab",
            "cell_type": "markdown",
            "source": "The beta distribution has mean a/(a+b). If ``a == b`` and both \nare > 1, the distribution is symmetric with mean 0.5.\n",
            "metadata": {}
        },
        {
            "id": "efb92eb1",
            "cell_type": "code",
            "metadata": {},
            "execution_count": null,
            "source": "rng = np.random.default_rng()\na, b, size = 2.0, 2.0, 10000\nsample = rng.beta(a=a, b=b, size=size)\nnp.mean(sample)",
            "outputs": [
                {
                    "output_type": "execute_result",
                    "metadata": {},
                    "data": {
                        "text/plain": "0.5047328775385895  # may vary"
                    },
                    "execution_count": null
                }
            ]
        },
        {
            "id": "68c1077b",
            "cell_type": "markdown",
            "source": "Otherwise the distribution is skewed left or right according to\nwhether ``a`` or ``b`` is greater. The distribution is mirror\nsymmetric. See for example:\n",
            "metadata": {}
        },
        {
            "id": "6ca8f88e",
            "cell_type": "code",
            "metadata": {},
            "execution_count": null,
            "source": "a, b, size = 2, 7, 10000\nsample_left = rng.beta(a=a, b=b, size=size)\nsample_right = rng.beta(a=b, b=a, size=size)\nm_left, m_right = np.mean(sample_left), np.mean(sample_right)\nprint(m_left, m_right)",
            "outputs": [
                {
                    "output_type": "execute_result",
                    "metadata": {},
                    "data": {
                        "text/plain": "0.2238596793678923 0.7774613834041182  # may vary"
                    },
                    "execution_count": null
                }
            ]
        },
        {
            "id": "c998a395",
            "cell_type": "code",
            "metadata": {},
            "execution_count": null,
            "source": "print(m_left - a/(a+b))",
            "outputs": [
                {
                    "output_type": "execute_result",
                    "metadata": {},
                    "data": {
                        "text/plain": "0.001637457145670096  # may vary"
                    },
                    "execution_count": null
                }
            ]
        },
        {
            "id": "8df49d6a",
            "cell_type": "code",
            "metadata": {},
            "execution_count": null,
            "source": "print(m_right - b/(a+b))",
            "outputs": [
                {
                    "output_type": "execute_result",
                    "metadata": {},
                    "data": {
                        "text/plain": "-0.0003163943736596009  # may vary"
                    },
                    "execution_count": null
                }
            ]
        },
        {
            "id": "b47ba82d",
            "cell_type": "markdown",
            "source": "Display the histogram of the two samples:\n",
            "metadata": {}
        },
        {
            "id": "2f8f2eea",
            "cell_type": "code",
            "metadata": {},
            "execution_count": null,
            "source": "import matplotlib.pyplot as plt\nplt.hist([sample_left, sample_right], \n         50, density=True, histtype='bar')\nplt.show()",
            "outputs": []
        }
    ]
}