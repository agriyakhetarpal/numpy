{
    "nbformat": 4,
    "nbformat_minor": 5,
    "metadata": {
        "kernelspec": {
            "display_name": "Python",
            "language": "python",
            "name": "python"
        },
        "language_info": {
            "name": "python"
        }
    },
    "cells": [
        {
            "id": "c0ec2b9c",
            "cell_type": "markdown",
            "source": "<div class='alert alert-warning'>\n\nNumPy's interactive examples are experimental and may not always work as expected, with high load times especially on low-resource platforms, and the version of NumPy might not be in sync with the one you are browsing the documentation for. If you encounter any issues, please report them on the [NumPy issue tracker](https://github.com/numpy/numpy/issues).\n\n</div>",
            "metadata": {}
        },
        {
            "id": "acabf113",
            "cell_type": "code",
            "metadata": {},
            "execution_count": null,
            "source": "import numpy as np\nmask = np.array([0, 0, 1])\nnp.ma.flatten_mask(mask)",
            "outputs": [
                {
                    "output_type": "execute_result",
                    "metadata": {},
                    "data": {
                        "text/plain": "array([False, False,  True])"
                    },
                    "execution_count": null
                }
            ]
        },
        {
            "id": "26f76c29",
            "cell_type": "code",
            "metadata": {},
            "execution_count": null,
            "source": "mask = np.array([(0, 0), (0, 1)], dtype=[('a', bool), ('b', bool)])\nnp.ma.flatten_mask(mask)",
            "outputs": [
                {
                    "output_type": "execute_result",
                    "metadata": {},
                    "data": {
                        "text/plain": "array([False, False, False,  True])"
                    },
                    "execution_count": null
                }
            ]
        },
        {
            "id": "04e82e08",
            "cell_type": "code",
            "metadata": {},
            "execution_count": null,
            "source": "mdtype = [('a', bool), ('b', [('ba', bool), ('bb', bool)])]\nmask = np.array([(0, (0, 0)), (0, (0, 1))], dtype=mdtype)\nnp.ma.flatten_mask(mask)",
            "outputs": [
                {
                    "output_type": "execute_result",
                    "metadata": {},
                    "data": {
                        "text/plain": "array([False, False, False, False, False,  True])"
                    },
                    "execution_count": null
                }
            ]
        }
    ]
}