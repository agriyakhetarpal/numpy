{
    "nbformat": 4,
    "nbformat_minor": 5,
    "metadata": {
        "kernelspec": {
            "display_name": "Python",
            "language": "python",
            "name": "python"
        },
        "language_info": {
            "name": "python"
        }
    },
    "cells": [
        {
            "id": "6a1d1076",
            "cell_type": "markdown",
            "source": "<div class='alert alert-warning'>\n\nNumPy's interactive examples are experimental and may not always work as expected, with high load times especially on low-resource platforms, and the version of NumPy might not be in sync with the one you are browsing the documentation for. If you encounter any issues, please report them on the [NumPy issue tracker](https://github.com/numpy/numpy/issues).\n\n</div>",
            "metadata": {}
        },
        {
            "id": "8c99584a",
            "cell_type": "markdown",
            "source": "Draw samples from the distribution:\n",
            "metadata": {}
        },
        {
            "id": "b3ffe879",
            "cell_type": "code",
            "metadata": {},
            "execution_count": null,
            "source": "rng = np.random.default_rng()\ns = rng.uniform(-1,0,1000)",
            "outputs": []
        },
        {
            "id": "ba2fd2dc",
            "cell_type": "markdown",
            "source": "All values are within the given interval:\n",
            "metadata": {}
        },
        {
            "id": "5f1d926f",
            "cell_type": "code",
            "metadata": {},
            "execution_count": null,
            "source": "np.all(s >= -1)",
            "outputs": [
                {
                    "output_type": "execute_result",
                    "metadata": {},
                    "data": {
                        "text/plain": "True"
                    },
                    "execution_count": null
                }
            ]
        },
        {
            "id": "53211ec8",
            "cell_type": "code",
            "metadata": {},
            "execution_count": null,
            "source": "np.all(s < 0)",
            "outputs": [
                {
                    "output_type": "execute_result",
                    "metadata": {},
                    "data": {
                        "text/plain": "True"
                    },
                    "execution_count": null
                }
            ]
        },
        {
            "id": "ddd45cd1",
            "cell_type": "markdown",
            "source": "Display the histogram of the samples, along with the\nprobability density function:\n",
            "metadata": {}
        },
        {
            "id": "a1fad38f",
            "cell_type": "code",
            "metadata": {},
            "execution_count": null,
            "source": "import matplotlib.pyplot as plt\ncount, bins, _ = plt.hist(s, 15, density=True)\nplt.plot(bins, np.ones_like(bins), linewidth=2, color='r')\nplt.show()",
            "outputs": []
        }
    ]
}