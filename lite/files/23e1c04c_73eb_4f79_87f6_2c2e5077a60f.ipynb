{
    "nbformat": 4,
    "nbformat_minor": 5,
    "metadata": {
        "kernelspec": {
            "display_name": "Python",
            "language": "python",
            "name": "python"
        },
        "language_info": {
            "name": "python"
        }
    },
    "cells": [
        {
            "id": "68147377",
            "cell_type": "markdown",
            "source": "<div class='alert alert-warning'>\n\nNumPy's interactive examples are experimental and may not always work as expected, with high load times especially on low-resource platforms, and the version of NumPy might not be in sync with the one you are browsing the documentation for. If you encounter any issues, please report them on the [NumPy issue tracker](https://github.com/numpy/numpy/issues).\n\n</div>",
            "metadata": {}
        },
        {
            "id": "c454c312",
            "cell_type": "code",
            "metadata": {},
            "execution_count": null,
            "source": "import numpy as np\nnp.nancumsum(1)",
            "outputs": [
                {
                    "output_type": "execute_result",
                    "metadata": {},
                    "data": {
                        "text/plain": "array([1])"
                    },
                    "execution_count": null
                }
            ]
        },
        {
            "id": "58c27828",
            "cell_type": "code",
            "metadata": {},
            "execution_count": null,
            "source": "np.nancumsum([1])",
            "outputs": [
                {
                    "output_type": "execute_result",
                    "metadata": {},
                    "data": {
                        "text/plain": "array([1])"
                    },
                    "execution_count": null
                }
            ]
        },
        {
            "id": "ead932ca",
            "cell_type": "code",
            "metadata": {},
            "execution_count": null,
            "source": "np.nancumsum([1, np.nan])",
            "outputs": [
                {
                    "output_type": "execute_result",
                    "metadata": {},
                    "data": {
                        "text/plain": "array([1.,  1.])"
                    },
                    "execution_count": null
                }
            ]
        },
        {
            "id": "b5a82fe9",
            "cell_type": "code",
            "metadata": {},
            "execution_count": null,
            "source": "a = np.array([[1, 2], [3, np.nan]])\nnp.nancumsum(a)",
            "outputs": [
                {
                    "output_type": "execute_result",
                    "metadata": {},
                    "data": {
                        "text/plain": "array([1.,  3.,  6.,  6.])"
                    },
                    "execution_count": null
                }
            ]
        },
        {
            "id": "fc2cdcd6",
            "cell_type": "code",
            "metadata": {},
            "execution_count": null,
            "source": "np.nancumsum(a, axis=0)",
            "outputs": [
                {
                    "output_type": "execute_result",
                    "metadata": {},
                    "data": {
                        "text/plain": "array([[1.,  2.],\n       [4.,  2.]])"
                    },
                    "execution_count": null
                }
            ]
        },
        {
            "id": "1151b45b",
            "cell_type": "code",
            "metadata": {},
            "execution_count": null,
            "source": "np.nancumsum(a, axis=1)",
            "outputs": [
                {
                    "output_type": "execute_result",
                    "metadata": {},
                    "data": {
                        "text/plain": "array([[1.,  3.],\n       [3.,  3.]])"
                    },
                    "execution_count": null
                }
            ]
        }
    ]
}