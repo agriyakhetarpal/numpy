{
    "nbformat": 4,
    "nbformat_minor": 5,
    "metadata": {
        "kernelspec": {
            "display_name": "Python",
            "language": "python",
            "name": "python"
        },
        "language_info": {
            "name": "python"
        }
    },
    "cells": [
        {
            "id": "10e60740",
            "cell_type": "markdown",
            "source": "<div class='alert alert-warning'>\n\nNumPy's interactive examples are experimental and may not always work as expected, with high load times especially on low-resource platforms, , and the version of NumPy might not be in sync with the one you are browsing the documentation for. If you encounter any issues, please report them on the [NumPy issue tracker](https://github.com/numpy/numpy/issues).\n\n</div>",
            "metadata": {}
        },
        {
            "id": "04c4f4cb",
            "cell_type": "code",
            "metadata": {},
            "execution_count": null,
            "source": "import numpy as np\na = np.arange(4).reshape((2,2))\na",
            "outputs": [
                {
                    "output_type": "execute_result",
                    "metadata": {},
                    "data": {
                        "text/plain": "array([[0, 1],\n       [2, 3]])"
                    },
                    "execution_count": null
                }
            ]
        },
        {
            "id": "31ad6f53",
            "cell_type": "code",
            "metadata": {},
            "execution_count": null,
            "source": "np.min(a)           # Minimum of the flattened array",
            "outputs": [
                {
                    "output_type": "execute_result",
                    "metadata": {},
                    "data": {
                        "text/plain": "0"
                    },
                    "execution_count": null
                }
            ]
        },
        {
            "id": "f4f96307",
            "cell_type": "code",
            "metadata": {},
            "execution_count": null,
            "source": "np.min(a, axis=0)   # Minima along the first axis",
            "outputs": [
                {
                    "output_type": "execute_result",
                    "metadata": {},
                    "data": {
                        "text/plain": "array([0, 1])"
                    },
                    "execution_count": null
                }
            ]
        },
        {
            "id": "5042d5d3",
            "cell_type": "code",
            "metadata": {},
            "execution_count": null,
            "source": "np.min(a, axis=1)   # Minima along the second axis",
            "outputs": [
                {
                    "output_type": "execute_result",
                    "metadata": {},
                    "data": {
                        "text/plain": "array([0, 2])"
                    },
                    "execution_count": null
                }
            ]
        },
        {
            "id": "77759ac2",
            "cell_type": "code",
            "metadata": {},
            "execution_count": null,
            "source": "np.min(a, where=[False, True], initial=10, axis=0)",
            "outputs": [
                {
                    "output_type": "execute_result",
                    "metadata": {},
                    "data": {
                        "text/plain": "array([10,  1])"
                    },
                    "execution_count": null
                }
            ]
        },
        {
            "id": "e1f98d27",
            "cell_type": "code",
            "metadata": {},
            "execution_count": null,
            "source": "b = np.arange(5, dtype=float)\nb[2] = np.nan\nnp.min(b)",
            "outputs": [
                {
                    "output_type": "execute_result",
                    "metadata": {},
                    "data": {
                        "text/plain": "np.float64(nan)"
                    },
                    "execution_count": null
                }
            ]
        },
        {
            "id": "7dff5c2b",
            "cell_type": "code",
            "metadata": {},
            "execution_count": null,
            "source": "np.min(b, where=~np.isnan(b), initial=10)",
            "outputs": [
                {
                    "output_type": "execute_result",
                    "metadata": {},
                    "data": {
                        "text/plain": "0.0"
                    },
                    "execution_count": null
                }
            ]
        },
        {
            "id": "f9752328",
            "cell_type": "code",
            "metadata": {},
            "execution_count": null,
            "source": "np.nanmin(b)",
            "outputs": [
                {
                    "output_type": "execute_result",
                    "metadata": {},
                    "data": {
                        "text/plain": "0.0"
                    },
                    "execution_count": null
                }
            ]
        },
        {
            "id": "cba48797",
            "cell_type": "code",
            "metadata": {},
            "execution_count": null,
            "source": "np.min([[-50], [10]], axis=-1, initial=0)",
            "outputs": [
                {
                    "output_type": "execute_result",
                    "metadata": {},
                    "data": {
                        "text/plain": "array([-50,   0])"
                    },
                    "execution_count": null
                }
            ]
        },
        {
            "id": "a637d908",
            "cell_type": "markdown",
            "source": "Notice that the initial value is used as one of the elements for which the\nminimum is determined, unlike for the default argument Python's max\nfunction, which is only used for empty iterables.\n\nNotice that this isn't the same as Python's ``default`` argument.\n",
            "metadata": {}
        },
        {
            "id": "c6bcebae",
            "cell_type": "code",
            "metadata": {},
            "execution_count": null,
            "source": "np.min([6], initial=5)",
            "outputs": [
                {
                    "output_type": "execute_result",
                    "metadata": {},
                    "data": {
                        "text/plain": "5"
                    },
                    "execution_count": null
                }
            ]
        },
        {
            "id": "3ab5fe1c",
            "cell_type": "code",
            "metadata": {},
            "execution_count": null,
            "source": "min([6], default=5)",
            "outputs": [
                {
                    "output_type": "execute_result",
                    "metadata": {},
                    "data": {
                        "text/plain": "6"
                    },
                    "execution_count": null
                }
            ]
        }
    ]
}