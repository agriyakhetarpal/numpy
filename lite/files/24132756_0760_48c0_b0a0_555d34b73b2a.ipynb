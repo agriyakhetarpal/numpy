{
    "nbformat": 4,
    "nbformat_minor": 5,
    "metadata": {
        "kernelspec": {
            "display_name": "Python",
            "language": "python",
            "name": "python"
        },
        "language_info": {
            "name": "python"
        }
    },
    "cells": [
        {
            "id": "bf8cf59c",
            "cell_type": "markdown",
            "source": "<div class='alert alert-warning'>\n\nNumPy's interactive examples are experimental and may not always work as expected, with high load times especially on low-resource platforms, , and the version of NumPy might not be in sync with the one you are browsing the documentation for. If you encounter any issues, please report them on the [NumPy issue tracker](https://github.com/numpy/numpy/issues).\n\n</div>",
            "metadata": {}
        },
        {
            "id": "cba2a15c",
            "cell_type": "code",
            "metadata": {},
            "execution_count": null,
            "source": "import numpy as np\na = np.arange(10).reshape(2, 5)\na",
            "outputs": [
                {
                    "output_type": "execute_result",
                    "metadata": {},
                    "data": {
                        "text/plain": "array([[0, 1, 2, 3, 4],\n       [5, 6, 7, 8, 9]])"
                    },
                    "execution_count": null
                }
            ]
        },
        {
            "id": "65f0fc79",
            "cell_type": "code",
            "metadata": {},
            "execution_count": null,
            "source": "ixgrid = np.ix_([0, 1], [2, 4])\nixgrid",
            "outputs": [
                {
                    "output_type": "execute_result",
                    "metadata": {},
                    "data": {
                        "text/plain": "(array([[0],\n       [1]]), array([[2, 4]]))"
                    },
                    "execution_count": null
                }
            ]
        },
        {
            "id": "b525cbbb",
            "cell_type": "code",
            "metadata": {},
            "execution_count": null,
            "source": "ixgrid[0].shape, ixgrid[1].shape",
            "outputs": [
                {
                    "output_type": "execute_result",
                    "metadata": {},
                    "data": {
                        "text/plain": "((2, 1), (1, 2))"
                    },
                    "execution_count": null
                }
            ]
        },
        {
            "id": "6a78a0b3",
            "cell_type": "code",
            "metadata": {},
            "execution_count": null,
            "source": "a[ixgrid]",
            "outputs": [
                {
                    "output_type": "execute_result",
                    "metadata": {},
                    "data": {
                        "text/plain": "array([[2, 4],\n       [7, 9]])"
                    },
                    "execution_count": null
                }
            ]
        },
        {
            "id": "8309e820",
            "cell_type": "code",
            "metadata": {},
            "execution_count": null,
            "source": "ixgrid = np.ix_([True, True], [2, 4])\na[ixgrid]",
            "outputs": [
                {
                    "output_type": "execute_result",
                    "metadata": {},
                    "data": {
                        "text/plain": "array([[2, 4],\n       [7, 9]])"
                    },
                    "execution_count": null
                }
            ]
        },
        {
            "id": "9d3104d9",
            "cell_type": "code",
            "metadata": {},
            "execution_count": null,
            "source": "ixgrid = np.ix_([True, True], [False, False, True, False, True])\na[ixgrid]",
            "outputs": [
                {
                    "output_type": "execute_result",
                    "metadata": {},
                    "data": {
                        "text/plain": "array([[2, 4],\n       [7, 9]])"
                    },
                    "execution_count": null
                }
            ]
        }
    ]
}