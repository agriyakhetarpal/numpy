{
    "nbformat": 4,
    "nbformat_minor": 5,
    "metadata": {
        "kernelspec": {
            "display_name": "Python",
            "language": "python",
            "name": "python"
        },
        "language_info": {
            "name": "python"
        }
    },
    "cells": [
        {
            "id": "b8ca9654",
            "cell_type": "markdown",
            "source": "<div class='alert alert-warning'>\n\nNumPy's interactive examples are experimental and may not always work as expected, with high load times especially on low-resource platforms, and the version of NumPy might not be in sync with the one you are browsing the documentation for. If you encounter any issues, please report them on the [NumPy issue tracker](https://github.com/numpy/numpy/issues).\n\n</div>",
            "metadata": {}
        },
        {
            "id": "186852c5",
            "cell_type": "markdown",
            "source": "Draw samples from the distribution:\n",
            "metadata": {}
        },
        {
            "id": "f1ddac68",
            "cell_type": "code",
            "metadata": {},
            "execution_count": null,
            "source": "s = np.random.uniform(-1,0,1000)",
            "outputs": []
        },
        {
            "id": "c8cc9409",
            "cell_type": "markdown",
            "source": "All values are within the given interval:\n",
            "metadata": {}
        },
        {
            "id": "bcdd2428",
            "cell_type": "code",
            "metadata": {},
            "execution_count": null,
            "source": "np.all(s >= -1)",
            "outputs": [
                {
                    "output_type": "execute_result",
                    "metadata": {},
                    "data": {
                        "text/plain": "True"
                    },
                    "execution_count": null
                }
            ]
        },
        {
            "id": "e554f2a9",
            "cell_type": "code",
            "metadata": {},
            "execution_count": null,
            "source": "np.all(s < 0)",
            "outputs": [
                {
                    "output_type": "execute_result",
                    "metadata": {},
                    "data": {
                        "text/plain": "True"
                    },
                    "execution_count": null
                }
            ]
        },
        {
            "id": "ddcae130",
            "cell_type": "markdown",
            "source": "Display the histogram of the samples, along with the\nprobability density function:\n",
            "metadata": {}
        },
        {
            "id": "3889fcf0",
            "cell_type": "code",
            "metadata": {},
            "execution_count": null,
            "source": "import matplotlib.pyplot as plt\ncount, bins, ignored = plt.hist(s, 15, density=True)\nplt.plot(bins, np.ones_like(bins), linewidth=2, color='r')\nplt.show()",
            "outputs": []
        }
    ]
}