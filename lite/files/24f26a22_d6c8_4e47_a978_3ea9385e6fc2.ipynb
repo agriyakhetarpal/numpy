{
    "nbformat": 4,
    "nbformat_minor": 5,
    "metadata": {
        "kernelspec": {
            "display_name": "Python",
            "language": "python",
            "name": "python"
        },
        "language_info": {
            "name": "python"
        }
    },
    "cells": [
        {
            "id": "75f4f5cf",
            "cell_type": "markdown",
            "source": "<div class='alert alert-warning'>\n\nNumPy's interactive examples are experimental and may not always work as expected, with high load times especially on low-resource platforms, and the version of NumPy might not be in sync with the one you are browsing the documentation for. If you encounter any issues, please report them on the [NumPy issue tracker](https://github.com/numpy/numpy/issues).\n\n</div>",
            "metadata": {}
        },
        {
            "id": "78dada50",
            "cell_type": "code",
            "metadata": {},
            "execution_count": null,
            "source": "import numpy as np\na = np.array([[1, 2], [3, 4], [5, 6]])\na",
            "outputs": [
                {
                    "output_type": "execute_result",
                    "metadata": {},
                    "data": {
                        "text/plain": "array([[1, 2],\n       [3, 4],\n       [5, 6]])"
                    },
                    "execution_count": null
                }
            ]
        },
        {
            "id": "81e7cc3e",
            "cell_type": "code",
            "metadata": {},
            "execution_count": null,
            "source": "np.compress([0, 1], a, axis=0)",
            "outputs": [
                {
                    "output_type": "execute_result",
                    "metadata": {},
                    "data": {
                        "text/plain": "array([[3, 4]])"
                    },
                    "execution_count": null
                }
            ]
        },
        {
            "id": "75514c6e",
            "cell_type": "code",
            "metadata": {},
            "execution_count": null,
            "source": "np.compress([False, True, True], a, axis=0)",
            "outputs": [
                {
                    "output_type": "execute_result",
                    "metadata": {},
                    "data": {
                        "text/plain": "array([[3, 4],\n       [5, 6]])"
                    },
                    "execution_count": null
                }
            ]
        },
        {
            "id": "61261135",
            "cell_type": "code",
            "metadata": {},
            "execution_count": null,
            "source": "np.compress([False, True], a, axis=1)",
            "outputs": [
                {
                    "output_type": "execute_result",
                    "metadata": {},
                    "data": {
                        "text/plain": "array([[2],\n       [4],\n       [6]])"
                    },
                    "execution_count": null
                }
            ]
        },
        {
            "id": "972b32cc",
            "cell_type": "markdown",
            "source": "Working on the flattened array does not return slices along an axis but\nselects elements.\n",
            "metadata": {}
        },
        {
            "id": "27386346",
            "cell_type": "code",
            "metadata": {},
            "execution_count": null,
            "source": "np.compress([False, True], a)",
            "outputs": [
                {
                    "output_type": "execute_result",
                    "metadata": {},
                    "data": {
                        "text/plain": "array([2])"
                    },
                    "execution_count": null
                }
            ]
        }
    ]
}