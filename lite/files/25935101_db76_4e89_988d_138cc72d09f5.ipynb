{
    "nbformat": 4,
    "nbformat_minor": 5,
    "metadata": {
        "kernelspec": {
            "display_name": "Python",
            "language": "python",
            "name": "python"
        },
        "language_info": {
            "name": "python"
        }
    },
    "cells": [
        {
            "id": "98c3dc01",
            "cell_type": "markdown",
            "source": "<div class='alert alert-warning'>\n\nNumPy's interactive examples are experimental and may not always work as expected, with high load times especially on low-resource platforms, , and the version of NumPy might not be in sync with the one you are browsing the documentation for. If you encounter any issues, please report them on the [NumPy issue tracker](https://github.com/numpy/numpy/issues).\n\n</div>",
            "metadata": {}
        },
        {
            "id": "4ef78674",
            "cell_type": "code",
            "metadata": {},
            "execution_count": null,
            "source": "import numpy as np\nc = np.array(['aAaAaA', '  aA  ', 'abBABba'])\nc",
            "outputs": [
                {
                    "output_type": "execute_result",
                    "metadata": {},
                    "data": {
                        "text/plain": "array(['aAaAaA', '  aA  ', 'abBABba'], dtype='<U7')"
                    },
                    "execution_count": null
                }
            ]
        },
        {
            "id": "ea94c88f",
            "cell_type": "code",
            "metadata": {},
            "execution_count": null,
            "source": "np.strings.count(c, 'A')",
            "outputs": [
                {
                    "output_type": "execute_result",
                    "metadata": {},
                    "data": {
                        "text/plain": "array([3, 1, 1])"
                    },
                    "execution_count": null
                }
            ]
        },
        {
            "id": "9fb7d5b3",
            "cell_type": "code",
            "metadata": {},
            "execution_count": null,
            "source": "np.strings.count(c, 'aA')",
            "outputs": [
                {
                    "output_type": "execute_result",
                    "metadata": {},
                    "data": {
                        "text/plain": "array([3, 1, 0])"
                    },
                    "execution_count": null
                }
            ]
        },
        {
            "id": "1a79d727",
            "cell_type": "code",
            "metadata": {},
            "execution_count": null,
            "source": "np.strings.count(c, 'A', start=1, end=4)",
            "outputs": [
                {
                    "output_type": "execute_result",
                    "metadata": {},
                    "data": {
                        "text/plain": "array([2, 1, 1])"
                    },
                    "execution_count": null
                }
            ]
        },
        {
            "id": "59803eac",
            "cell_type": "code",
            "metadata": {},
            "execution_count": null,
            "source": "np.strings.count(c, 'A', start=1, end=3)",
            "outputs": [
                {
                    "output_type": "execute_result",
                    "metadata": {},
                    "data": {
                        "text/plain": "array([1, 0, 0])"
                    },
                    "execution_count": null
                }
            ]
        }
    ]
}