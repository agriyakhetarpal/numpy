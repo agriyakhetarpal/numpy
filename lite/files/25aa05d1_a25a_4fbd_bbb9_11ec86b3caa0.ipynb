{
    "nbformat": 4,
    "nbformat_minor": 5,
    "metadata": {
        "kernelspec": {
            "display_name": "Python",
            "language": "python",
            "name": "python"
        },
        "language_info": {
            "name": "python"
        }
    },
    "cells": [
        {
            "id": "4b9f9cf2",
            "cell_type": "markdown",
            "source": "<div class='alert alert-warning'>\n\nNumPy's interactive examples are experimental and may not always work as expected, with high load times especially on low-resource platforms, and the version of NumPy might not be in sync with the one you are browsing the documentation for. If you encounter any issues, please report them on the [NumPy issue tracker](https://github.com/numpy/numpy/issues).\n\n</div>",
            "metadata": {}
        },
        {
            "id": "3eab1484",
            "cell_type": "code",
            "metadata": {},
            "execution_count": null,
            "source": "p = np.polynomial.Polynomial([1, 2, 3])\nc = np.polynomial.Chebyshev([1, 2, 3])\nnp.polynomial.set_default_printstyle('unicode')\nprint(p)",
            "outputs": [
                {
                    "output_type": "execute_result",
                    "metadata": {},
                    "data": {
                        "text/plain": "1.0 + 2.0·x + 3.0·x²"
                    },
                    "execution_count": null
                }
            ]
        },
        {
            "id": "06c11934",
            "cell_type": "code",
            "metadata": {},
            "execution_count": null,
            "source": "print(c)",
            "outputs": [
                {
                    "output_type": "execute_result",
                    "metadata": {},
                    "data": {
                        "text/plain": "1.0 + 2.0·T₁(x) + 3.0·T₂(x)"
                    },
                    "execution_count": null
                }
            ]
        },
        {
            "id": "d95fd945",
            "cell_type": "code",
            "metadata": {},
            "execution_count": null,
            "source": "np.polynomial.set_default_printstyle('ascii')\nprint(p)",
            "outputs": [
                {
                    "output_type": "execute_result",
                    "metadata": {},
                    "data": {
                        "text/plain": "1.0 + 2.0 x + 3.0 x**2"
                    },
                    "execution_count": null
                }
            ]
        },
        {
            "id": "1e12fdb0",
            "cell_type": "code",
            "metadata": {},
            "execution_count": null,
            "source": "print(c)",
            "outputs": [
                {
                    "output_type": "execute_result",
                    "metadata": {},
                    "data": {
                        "text/plain": "1.0 + 2.0 T_1(x) + 3.0 T_2(x)"
                    },
                    "execution_count": null
                }
            ]
        },
        {
            "id": "7f15e788",
            "cell_type": "code",
            "metadata": {},
            "execution_count": null,
            "source": "# Formatting supersedes all class/package-level defaults\nprint(f\"{p:unicode}\")",
            "outputs": [
                {
                    "output_type": "execute_result",
                    "metadata": {},
                    "data": {
                        "text/plain": "1.0 + 2.0·x + 3.0·x²"
                    },
                    "execution_count": null
                }
            ]
        }
    ]
}