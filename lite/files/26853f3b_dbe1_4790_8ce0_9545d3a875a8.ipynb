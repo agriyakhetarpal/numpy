{
    "nbformat": 4,
    "nbformat_minor": 5,
    "metadata": {
        "kernelspec": {
            "display_name": "Python",
            "language": "python",
            "name": "python"
        },
        "language_info": {
            "name": "python"
        }
    },
    "cells": [
        {
            "id": "d1719de7",
            "cell_type": "markdown",
            "source": "<div class='alert alert-warning'>\n\nNumPy's interactive examples are experimental and may not always work as expected, with high load times especially on low-resource platforms, , and the version of NumPy might not be in sync with the one you are browsing the documentation for. If you encounter any issues, please report them on the [NumPy issue tracker](https://github.com/numpy/numpy/issues).\n\n</div>",
            "metadata": {}
        },
        {
            "id": "11b9f26e",
            "cell_type": "markdown",
            "source": "For a 1D array, ``a.tolist()`` is almost the same as ``list(a)``,\nexcept that ``tolist`` changes numpy scalars to Python scalars:\n",
            "metadata": {}
        },
        {
            "id": "15bfe352",
            "cell_type": "code",
            "metadata": {},
            "execution_count": null,
            "source": "import numpy as np\na = np.uint32([1, 2])\na_list = list(a)\na_list",
            "outputs": [
                {
                    "output_type": "execute_result",
                    "metadata": {},
                    "data": {
                        "text/plain": "[1, 2]"
                    },
                    "execution_count": null
                }
            ]
        },
        {
            "id": "2a4b8c27",
            "cell_type": "code",
            "metadata": {},
            "execution_count": null,
            "source": "type(a_list[0])",
            "outputs": [
                {
                    "output_type": "execute_result",
                    "metadata": {},
                    "data": {
                        "text/plain": "<class 'numpy.uint32'>"
                    },
                    "execution_count": null
                }
            ]
        },
        {
            "id": "66637956",
            "cell_type": "code",
            "metadata": {},
            "execution_count": null,
            "source": "a_tolist = a.tolist()\na_tolist",
            "outputs": [
                {
                    "output_type": "execute_result",
                    "metadata": {},
                    "data": {
                        "text/plain": "[1, 2]"
                    },
                    "execution_count": null
                }
            ]
        },
        {
            "id": "300b16d4",
            "cell_type": "code",
            "metadata": {},
            "execution_count": null,
            "source": "type(a_tolist[0])",
            "outputs": [
                {
                    "output_type": "execute_result",
                    "metadata": {},
                    "data": {
                        "text/plain": "<class 'int'>"
                    },
                    "execution_count": null
                }
            ]
        },
        {
            "id": "969a84ec",
            "cell_type": "markdown",
            "source": "Additionally, for a 2D array, ``tolist`` applies recursively:\n",
            "metadata": {}
        },
        {
            "id": "4f66a5dd",
            "cell_type": "code",
            "metadata": {},
            "execution_count": null,
            "source": "a = np.array([[1, 2], [3, 4]])\nlist(a)",
            "outputs": [
                {
                    "output_type": "execute_result",
                    "metadata": {},
                    "data": {
                        "text/plain": "[array([1, 2]), array([3, 4])]"
                    },
                    "execution_count": null
                }
            ]
        },
        {
            "id": "b2d83f30",
            "cell_type": "code",
            "metadata": {},
            "execution_count": null,
            "source": "a.tolist()",
            "outputs": [
                {
                    "output_type": "execute_result",
                    "metadata": {},
                    "data": {
                        "text/plain": "[[1, 2], [3, 4]]"
                    },
                    "execution_count": null
                }
            ]
        },
        {
            "id": "faa850bc",
            "cell_type": "markdown",
            "source": "The base case for this recursion is a 0D array:\n",
            "metadata": {}
        },
        {
            "id": "94ca29eb",
            "cell_type": "code",
            "metadata": {},
            "execution_count": null,
            "source": "a = np.array(1)\nlist(a)",
            "outputs": [
                {
                    "output_type": "execute_result",
                    "metadata": {},
                    "data": {
                        "text/plain": "Traceback (most recent call last):\n  ...\nTypeError: iteration over a 0-d array"
                    },
                    "execution_count": null
                }
            ]
        },
        {
            "id": "90c5e767",
            "cell_type": "code",
            "metadata": {},
            "execution_count": null,
            "source": "a.tolist()",
            "outputs": [
                {
                    "output_type": "execute_result",
                    "metadata": {},
                    "data": {
                        "text/plain": "1"
                    },
                    "execution_count": null
                }
            ]
        }
    ]
}