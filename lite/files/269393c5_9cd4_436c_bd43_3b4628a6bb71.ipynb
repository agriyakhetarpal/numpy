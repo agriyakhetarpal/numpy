{
    "nbformat": 4,
    "nbformat_minor": 5,
    "metadata": {
        "kernelspec": {
            "display_name": "Python",
            "language": "python",
            "name": "python"
        },
        "language_info": {
            "name": "python"
        }
    },
    "cells": [
        {
            "id": "3efafd9b",
            "cell_type": "markdown",
            "source": "<div class='alert alert-warning'>\n\nNumPy's interactive examples are experimental and may not always work as expected, with high load times especially on low-resource platforms, and the version of NumPy might not be in sync with the one you are browsing the documentation for. If you encounter any issues, please report them on the [NumPy issue tracker](https://github.com/numpy/numpy/issues).\n\n</div>",
            "metadata": {}
        },
        {
            "id": "9ac1edac",
            "cell_type": "code",
            "metadata": {},
            "execution_count": null,
            "source": "import numpy as np\nnp.correlate([1, 2, 3], [0, 1, 0.5])",
            "outputs": [
                {
                    "output_type": "execute_result",
                    "metadata": {},
                    "data": {
                        "text/plain": "array([3.5])"
                    },
                    "execution_count": null
                }
            ]
        },
        {
            "id": "f3c04d85",
            "cell_type": "code",
            "metadata": {},
            "execution_count": null,
            "source": "np.correlate([1, 2, 3], [0, 1, 0.5], \"same\")",
            "outputs": [
                {
                    "output_type": "execute_result",
                    "metadata": {},
                    "data": {
                        "text/plain": "array([2. ,  3.5,  3. ])"
                    },
                    "execution_count": null
                }
            ]
        },
        {
            "id": "e05141b8",
            "cell_type": "code",
            "metadata": {},
            "execution_count": null,
            "source": "np.correlate([1, 2, 3], [0, 1, 0.5], \"full\")",
            "outputs": [
                {
                    "output_type": "execute_result",
                    "metadata": {},
                    "data": {
                        "text/plain": "array([0.5,  2. ,  3.5,  3. ,  0. ])"
                    },
                    "execution_count": null
                }
            ]
        },
        {
            "id": "31f9a958",
            "cell_type": "markdown",
            "source": "Using complex sequences:\n",
            "metadata": {}
        },
        {
            "id": "2e36597d",
            "cell_type": "code",
            "metadata": {},
            "execution_count": null,
            "source": "np.correlate([1+1j, 2, 3-1j], [0, 1, 0.5j], 'full')",
            "outputs": [
                {
                    "output_type": "execute_result",
                    "metadata": {},
                    "data": {
                        "text/plain": "array([ 0.5-0.5j,  1.0+0.j ,  1.5-1.5j,  3.0-1.j ,  0.0+0.j ])"
                    },
                    "execution_count": null
                }
            ]
        },
        {
            "id": "d55bc26e",
            "cell_type": "markdown",
            "source": "Note that you get the time reversed, complex conjugated result\n($\\overline{c_{-k}}$) when the two input sequences a and v change\nplaces:\n",
            "metadata": {}
        },
        {
            "id": "91d61844",
            "cell_type": "code",
            "metadata": {},
            "execution_count": null,
            "source": "np.correlate([0, 1, 0.5j], [1+1j, 2, 3-1j], 'full')",
            "outputs": [
                {
                    "output_type": "execute_result",
                    "metadata": {},
                    "data": {
                        "text/plain": "array([ 0.0+0.j ,  3.0+1.j ,  1.5+1.5j,  1.0+0.j ,  0.5+0.5j])"
                    },
                    "execution_count": null
                }
            ]
        }
    ]
}