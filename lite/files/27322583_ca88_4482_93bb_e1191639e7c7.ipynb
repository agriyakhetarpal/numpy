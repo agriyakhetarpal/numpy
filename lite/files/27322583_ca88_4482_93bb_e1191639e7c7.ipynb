{
    "nbformat": 4,
    "nbformat_minor": 5,
    "metadata": {
        "kernelspec": {
            "display_name": "Python",
            "language": "python",
            "name": "python"
        },
        "language_info": {
            "name": "python"
        }
    },
    "cells": [
        {
            "id": "28d84d0c",
            "cell_type": "markdown",
            "source": "<div class='alert alert-warning'>\n\nNumPy's interactive examples are experimental and may not always work as expected, with high load times especially on low-resource platforms, , and the version of NumPy might not be in sync with the one you are browsing the documentation for. If you encounter any issues, please report them on the [NumPy issue tracker](https://github.com/numpy/numpy/issues).\n\n</div>",
            "metadata": {}
        },
        {
            "id": "c6e80b69",
            "cell_type": "code",
            "metadata": {},
            "execution_count": null,
            "source": "import numpy as np",
            "outputs": []
        },
        {
            "id": "96190b81",
            "cell_type": "markdown",
            "source": "Data-type with fields ``big`` (big-endian 32-bit integer) and\n``little`` (little-endian 32-bit integer):\n",
            "metadata": {}
        },
        {
            "id": "0765a570",
            "cell_type": "code",
            "metadata": {},
            "execution_count": null,
            "source": "dt = np.dtype([('big', '>i4'), ('little', '<i4')])",
            "outputs": []
        },
        {
            "id": "081f33a8",
            "cell_type": "markdown",
            "source": "Data-type with fields ``R``, ``G``, ``B``, ``A``, each being an\nunsigned 8-bit integer:\n",
            "metadata": {}
        },
        {
            "id": "9fdb4625",
            "cell_type": "code",
            "metadata": {},
            "execution_count": null,
            "source": "dt = np.dtype([('R','u1'), ('G','u1'), ('B','u1'), ('A','u1')])",
            "outputs": []
        }
    ]
}