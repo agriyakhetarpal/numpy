{
    "nbformat": 4,
    "nbformat_minor": 5,
    "metadata": {
        "kernelspec": {
            "display_name": "Python",
            "language": "python",
            "name": "python"
        },
        "language_info": {
            "name": "python"
        }
    },
    "cells": [
        {
            "id": "476474da",
            "cell_type": "markdown",
            "source": "<div class='alert alert-warning'>\n\nNumPy's interactive examples are experimental and may not always work as expected, with high load times especially on low-resource platforms, and the version of NumPy might not be in sync with the one you are browsing the documentation for. If you encounter any issues, please report them on the [NumPy issue tracker](https://github.com/numpy/numpy/issues).\n\n</div>",
            "metadata": {}
        },
        {
            "id": "99d679c4",
            "cell_type": "code",
            "metadata": {},
            "execution_count": null,
            "source": "import numpy as np\nimport numpy.ma as ma\nx = ma.masked_equal([0, 1, 0, 2, 3], 0)\nx",
            "outputs": [
                {
                    "output_type": "execute_result",
                    "metadata": {},
                    "data": {
                        "text/plain": "masked_array(data=[--, 1, --, 2, 3],\n             mask=[ True, False,  True, False, False],\n       fill_value=0)"
                    },
                    "execution_count": null
                }
            ]
        },
        {
            "id": "47ee4d0f",
            "cell_type": "code",
            "metadata": {},
            "execution_count": null,
            "source": "ma.is_masked(x)",
            "outputs": [
                {
                    "output_type": "execute_result",
                    "metadata": {},
                    "data": {
                        "text/plain": "True"
                    },
                    "execution_count": null
                }
            ]
        },
        {
            "id": "4e3cd7fc",
            "cell_type": "code",
            "metadata": {},
            "execution_count": null,
            "source": "x = ma.masked_equal([0, 1, 0, 2, 3], 42)\nx",
            "outputs": [
                {
                    "output_type": "execute_result",
                    "metadata": {},
                    "data": {
                        "text/plain": "masked_array(data=[0, 1, 0, 2, 3],\n             mask=False,\n       fill_value=42)"
                    },
                    "execution_count": null
                }
            ]
        },
        {
            "id": "5f9f3b79",
            "cell_type": "code",
            "metadata": {},
            "execution_count": null,
            "source": "ma.is_masked(x)",
            "outputs": [
                {
                    "output_type": "execute_result",
                    "metadata": {},
                    "data": {
                        "text/plain": "False"
                    },
                    "execution_count": null
                }
            ]
        },
        {
            "id": "28a39b48",
            "cell_type": "markdown",
            "source": "Always returns False if `x` isn't a MaskedArray.\n",
            "metadata": {}
        },
        {
            "id": "d5f2c5b5",
            "cell_type": "code",
            "metadata": {},
            "execution_count": null,
            "source": "x = [False, True, False]\nma.is_masked(x)",
            "outputs": [
                {
                    "output_type": "execute_result",
                    "metadata": {},
                    "data": {
                        "text/plain": "False"
                    },
                    "execution_count": null
                }
            ]
        },
        {
            "id": "8ac6bc42",
            "cell_type": "code",
            "metadata": {},
            "execution_count": null,
            "source": "x = 'a string'\nma.is_masked(x)",
            "outputs": [
                {
                    "output_type": "execute_result",
                    "metadata": {},
                    "data": {
                        "text/plain": "False"
                    },
                    "execution_count": null
                }
            ]
        }
    ]
}