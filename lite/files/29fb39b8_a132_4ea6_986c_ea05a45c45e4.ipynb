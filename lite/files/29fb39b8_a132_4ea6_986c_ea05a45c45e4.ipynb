{
    "nbformat": 4,
    "nbformat_minor": 5,
    "metadata": {
        "kernelspec": {
            "display_name": "Python",
            "language": "python",
            "name": "python"
        },
        "language_info": {
            "name": "python"
        }
    },
    "cells": [
        {
            "id": "af6f307c",
            "cell_type": "markdown",
            "source": "<div class='alert alert-warning'>\n\nNumPy's interactive examples are experimental and may not always work as expected, with high load times especially on low-resource platforms, and the version of NumPy might not be in sync with the one you are browsing the documentation for. If you encounter any issues, please report them on the [NumPy issue tracker](https://github.com/numpy/numpy/issues).\n\n</div>",
            "metadata": {}
        },
        {
            "id": "64da86a9",
            "cell_type": "code",
            "metadata": {},
            "execution_count": null,
            "source": "import numpy as np\nx = np.array([[3, 0, 0], [0, 4, 0], [5, 6, 0]])\nx",
            "outputs": [
                {
                    "output_type": "execute_result",
                    "metadata": {},
                    "data": {
                        "text/plain": "array([[3, 0, 0],\n       [0, 4, 0],\n       [5, 6, 0]])"
                    },
                    "execution_count": null
                }
            ]
        },
        {
            "id": "24ef3668",
            "cell_type": "code",
            "metadata": {},
            "execution_count": null,
            "source": "np.nonzero(x)",
            "outputs": [
                {
                    "output_type": "execute_result",
                    "metadata": {},
                    "data": {
                        "text/plain": "(array([0, 1, 2, 2]), array([0, 1, 0, 1]))"
                    },
                    "execution_count": null
                }
            ]
        },
        {
            "id": "85e75d61",
            "cell_type": "code",
            "metadata": {},
            "execution_count": null,
            "source": "x[np.nonzero(x)]",
            "outputs": [
                {
                    "output_type": "execute_result",
                    "metadata": {},
                    "data": {
                        "text/plain": "array([3, 4, 5, 6])"
                    },
                    "execution_count": null
                }
            ]
        },
        {
            "id": "7e3f7ddd",
            "cell_type": "code",
            "metadata": {},
            "execution_count": null,
            "source": "np.transpose(np.nonzero(x))",
            "outputs": [
                {
                    "output_type": "execute_result",
                    "metadata": {},
                    "data": {
                        "text/plain": "array([[0, 0],\n       [1, 1],\n       [2, 0],\n       [2, 1]])"
                    },
                    "execution_count": null
                }
            ]
        },
        {
            "id": "75b2d08b",
            "cell_type": "markdown",
            "source": "A common use for ``nonzero`` is to find the indices of an array, where\na condition is True.  Given an array `a`, the condition `a` > 3 is a\nboolean array and since False is interpreted as 0, np.nonzero(a > 3)\nyields the indices of the `a` where the condition is true.\n",
            "metadata": {}
        },
        {
            "id": "c2709760",
            "cell_type": "code",
            "metadata": {},
            "execution_count": null,
            "source": "a = np.array([[1, 2, 3], [4, 5, 6], [7, 8, 9]])\na > 3",
            "outputs": [
                {
                    "output_type": "execute_result",
                    "metadata": {},
                    "data": {
                        "text/plain": "array([[False, False, False],\n       [ True,  True,  True],\n       [ True,  True,  True]])"
                    },
                    "execution_count": null
                }
            ]
        },
        {
            "id": "fa0f8f2e",
            "cell_type": "code",
            "metadata": {},
            "execution_count": null,
            "source": "np.nonzero(a > 3)",
            "outputs": [
                {
                    "output_type": "execute_result",
                    "metadata": {},
                    "data": {
                        "text/plain": "(array([1, 1, 1, 2, 2, 2]), array([0, 1, 2, 0, 1, 2]))"
                    },
                    "execution_count": null
                }
            ]
        },
        {
            "id": "84c23b2f",
            "cell_type": "markdown",
            "source": "Using this result to index `a` is equivalent to using the mask directly:\n",
            "metadata": {}
        },
        {
            "id": "e5b3d9bf",
            "cell_type": "code",
            "metadata": {},
            "execution_count": null,
            "source": "a[np.nonzero(a > 3)]",
            "outputs": [
                {
                    "output_type": "execute_result",
                    "metadata": {},
                    "data": {
                        "text/plain": "array([4, 5, 6, 7, 8, 9])"
                    },
                    "execution_count": null
                }
            ]
        },
        {
            "id": "c3f22455",
            "cell_type": "code",
            "metadata": {},
            "execution_count": null,
            "source": "a[a > 3]  # prefer this spelling",
            "outputs": [
                {
                    "output_type": "execute_result",
                    "metadata": {},
                    "data": {
                        "text/plain": "array([4, 5, 6, 7, 8, 9])"
                    },
                    "execution_count": null
                }
            ]
        },
        {
            "id": "0a3a52df",
            "cell_type": "markdown",
            "source": "``nonzero`` can also be called as a method of the array.\n",
            "metadata": {}
        },
        {
            "id": "363859b2",
            "cell_type": "code",
            "metadata": {},
            "execution_count": null,
            "source": "(a > 3).nonzero()",
            "outputs": [
                {
                    "output_type": "execute_result",
                    "metadata": {},
                    "data": {
                        "text/plain": "(array([1, 1, 1, 2, 2, 2]), array([0, 1, 2, 0, 1, 2]))"
                    },
                    "execution_count": null
                }
            ]
        }
    ]
}