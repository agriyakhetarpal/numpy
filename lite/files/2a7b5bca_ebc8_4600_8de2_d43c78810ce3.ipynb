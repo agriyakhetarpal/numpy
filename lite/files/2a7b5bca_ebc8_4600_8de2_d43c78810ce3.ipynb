{
    "nbformat": 4,
    "nbformat_minor": 5,
    "metadata": {
        "kernelspec": {
            "display_name": "Python",
            "language": "python",
            "name": "python"
        },
        "language_info": {
            "name": "python"
        }
    },
    "cells": [
        {
            "id": "8756f71d",
            "cell_type": "markdown",
            "source": "<div class='alert alert-warning'>\n\nNumPy's interactive examples are experimental and may not always work as expected, with high load times especially on low-resource platforms, and the version of NumPy might not be in sync with the one you are browsing the documentation for. If you encounter any issues, please report them on the [NumPy issue tracker](https://github.com/numpy/numpy/issues).\n\n</div>",
            "metadata": {}
        },
        {
            "id": "012f3823",
            "cell_type": "markdown",
            "source": "As an illustration, let's consider the following dataset:\n",
            "metadata": {}
        },
        {
            "id": "c8c3cb37",
            "cell_type": "code",
            "metadata": {},
            "execution_count": null,
            "source": "import numpy as np\nimport numpy.ma as ma\nx = np.array([1, 2, 3, -1, 5])",
            "outputs": []
        },
        {
            "id": "99ffbb39",
            "cell_type": "markdown",
            "source": "We wish to mark the fourth entry as invalid. The easiest is to create a masked\narray\n```\n\n```",
            "metadata": {}
        },
        {
            "id": "40333434",
            "cell_type": "code",
            "metadata": {},
            "execution_count": null,
            "source": "mx = ma.masked_array(x, mask=[0, 0, 0, 1, 0])",
            "outputs": []
        },
        {
            "id": "2f1f2636",
            "cell_type": "markdown",
            "source": "We can now compute the mean of the dataset, without taking the invalid data\ninto account:\n",
            "metadata": {}
        },
        {
            "id": "9b43a93f",
            "cell_type": "code",
            "metadata": {},
            "execution_count": null,
            "source": "mx.mean()",
            "outputs": [
                {
                    "output_type": "execute_result",
                    "metadata": {},
                    "data": {
                        "text/plain": "2.75"
                    },
                    "execution_count": null
                }
            ]
        }
    ]
}