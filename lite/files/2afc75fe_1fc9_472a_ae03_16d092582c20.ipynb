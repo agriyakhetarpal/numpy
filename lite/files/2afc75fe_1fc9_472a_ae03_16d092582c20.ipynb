{
    "nbformat": 4,
    "nbformat_minor": 5,
    "metadata": {
        "kernelspec": {
            "display_name": "Python",
            "language": "python",
            "name": "python"
        },
        "language_info": {
            "name": "python"
        }
    },
    "cells": [
        {
            "id": "f3990a6c",
            "cell_type": "markdown",
            "source": "<div class='alert alert-warning'>\n\nNumPy's interactive examples are experimental and may not always work as expected, with high load times especially on low-resource platforms, and the version of NumPy might not be in sync with the one you are browsing the documentation for. If you encounter any issues, please report them on the [NumPy issue tracker](https://github.com/numpy/numpy/issues).\n\n</div>",
            "metadata": {}
        },
        {
            "id": "f5f52f5b",
            "cell_type": "markdown",
            "source": "One dimensional array:\n",
            "metadata": {}
        },
        {
            "id": "cc8476f1",
            "cell_type": "code",
            "metadata": {},
            "execution_count": null,
            "source": "import numpy as np\nx = np.array([3, 1, 2])\nnp.argsort(x)",
            "outputs": [
                {
                    "output_type": "execute_result",
                    "metadata": {},
                    "data": {
                        "text/plain": "array([1, 2, 0])"
                    },
                    "execution_count": null
                }
            ]
        },
        {
            "id": "bcbf7fca",
            "cell_type": "markdown",
            "source": "Two-dimensional array:\n",
            "metadata": {}
        },
        {
            "id": "1ba28268",
            "cell_type": "code",
            "metadata": {},
            "execution_count": null,
            "source": "x = np.array([[0, 3], [2, 2]])\nx",
            "outputs": [
                {
                    "output_type": "execute_result",
                    "metadata": {},
                    "data": {
                        "text/plain": "array([[0, 3],\n       [2, 2]])"
                    },
                    "execution_count": null
                }
            ]
        },
        {
            "id": "70bf5e5d",
            "cell_type": "code",
            "metadata": {},
            "execution_count": null,
            "source": "ind = np.argsort(x, axis=0)  # sorts along first axis (down)\nind",
            "outputs": [
                {
                    "output_type": "execute_result",
                    "metadata": {},
                    "data": {
                        "text/plain": "array([[0, 1],\n       [1, 0]])"
                    },
                    "execution_count": null
                }
            ]
        },
        {
            "id": "4e2504df",
            "cell_type": "code",
            "metadata": {},
            "execution_count": null,
            "source": "np.take_along_axis(x, ind, axis=0)  # same as np.sort(x, axis=0)",
            "outputs": [
                {
                    "output_type": "execute_result",
                    "metadata": {},
                    "data": {
                        "text/plain": "array([[0, 2],\n       [2, 3]])"
                    },
                    "execution_count": null
                }
            ]
        },
        {
            "id": "c741fd44",
            "cell_type": "code",
            "metadata": {},
            "execution_count": null,
            "source": "ind = np.argsort(x, axis=1)  # sorts along last axis (across)\nind",
            "outputs": [
                {
                    "output_type": "execute_result",
                    "metadata": {},
                    "data": {
                        "text/plain": "array([[0, 1],\n       [0, 1]])"
                    },
                    "execution_count": null
                }
            ]
        },
        {
            "id": "92ca9c63",
            "cell_type": "code",
            "metadata": {},
            "execution_count": null,
            "source": "np.take_along_axis(x, ind, axis=1)  # same as np.sort(x, axis=1)",
            "outputs": [
                {
                    "output_type": "execute_result",
                    "metadata": {},
                    "data": {
                        "text/plain": "array([[0, 3],\n       [2, 2]])"
                    },
                    "execution_count": null
                }
            ]
        },
        {
            "id": "fc3ff768",
            "cell_type": "markdown",
            "source": "Indices of the sorted elements of a N-dimensional array:\n",
            "metadata": {}
        },
        {
            "id": "b49b36e4",
            "cell_type": "code",
            "metadata": {},
            "execution_count": null,
            "source": "ind = np.unravel_index(np.argsort(x, axis=None), x.shape)\nind",
            "outputs": [
                {
                    "output_type": "execute_result",
                    "metadata": {},
                    "data": {
                        "text/plain": "(array([0, 1, 1, 0]), array([0, 0, 1, 1]))"
                    },
                    "execution_count": null
                }
            ]
        },
        {
            "id": "6f1bcf77",
            "cell_type": "code",
            "metadata": {},
            "execution_count": null,
            "source": "x[ind]  # same as np.sort(x, axis=None)",
            "outputs": [
                {
                    "output_type": "execute_result",
                    "metadata": {},
                    "data": {
                        "text/plain": "array([0, 2, 2, 3])"
                    },
                    "execution_count": null
                }
            ]
        },
        {
            "id": "2f97a878",
            "cell_type": "markdown",
            "source": "Sorting with keys:\n",
            "metadata": {}
        },
        {
            "id": "babace4e",
            "cell_type": "code",
            "metadata": {},
            "execution_count": null,
            "source": "x = np.array([(1, 0), (0, 1)], dtype=[('x', '<i4'), ('y', '<i4')])\nx",
            "outputs": [
                {
                    "output_type": "execute_result",
                    "metadata": {},
                    "data": {
                        "text/plain": "array([(1, 0), (0, 1)],\n      dtype=[('x', '<i4'), ('y', '<i4')])"
                    },
                    "execution_count": null
                }
            ]
        },
        {
            "id": "e563a57a",
            "cell_type": "code",
            "metadata": {},
            "execution_count": null,
            "source": "np.argsort(x, order=('x','y'))",
            "outputs": [
                {
                    "output_type": "execute_result",
                    "metadata": {},
                    "data": {
                        "text/plain": "array([1, 0])"
                    },
                    "execution_count": null
                }
            ]
        },
        {
            "id": "e98f2124",
            "cell_type": "code",
            "metadata": {},
            "execution_count": null,
            "source": "np.argsort(x, order=('y','x'))",
            "outputs": [
                {
                    "output_type": "execute_result",
                    "metadata": {},
                    "data": {
                        "text/plain": "array([0, 1])"
                    },
                    "execution_count": null
                }
            ]
        }
    ]
}