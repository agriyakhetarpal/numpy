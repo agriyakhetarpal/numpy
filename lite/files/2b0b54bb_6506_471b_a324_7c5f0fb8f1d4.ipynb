{
    "nbformat": 4,
    "nbformat_minor": 5,
    "metadata": {
        "kernelspec": {
            "display_name": "Python",
            "language": "python",
            "name": "python"
        },
        "language_info": {
            "name": "python"
        }
    },
    "cells": [
        {
            "id": "0c26201b",
            "cell_type": "markdown",
            "source": "<div class='alert alert-warning'>\n\nNumPy's interactive examples are experimental and may not always work as expected, with high load times especially on low-resource platforms, , and the version of NumPy might not be in sync with the one you are browsing the documentation for. If you encounter any issues, please report them on the [NumPy issue tracker](https://github.com/numpy/numpy/issues).\n\n</div>",
            "metadata": {}
        },
        {
            "id": "4302a009",
            "cell_type": "code",
            "metadata": {},
            "execution_count": null,
            "source": "import numpy as np",
            "outputs": []
        },
        {
            "id": "7f62f2e8",
            "cell_type": "markdown",
            "source": "The number 13 has the binary representation ``00001101``. Likewise,\n16 is represented by ``00010000``.  The bit-wise OR of 13 and 16 is\nthen ``00011101``, or 29:\n",
            "metadata": {}
        },
        {
            "id": "8b0a31dc",
            "cell_type": "code",
            "metadata": {},
            "execution_count": null,
            "source": "np.bitwise_or(13, 16)",
            "outputs": [
                {
                    "output_type": "execute_result",
                    "metadata": {},
                    "data": {
                        "text/plain": "29"
                    },
                    "execution_count": null
                }
            ]
        },
        {
            "id": "3c999b0a",
            "cell_type": "code",
            "metadata": {},
            "execution_count": null,
            "source": "np.binary_repr(29)",
            "outputs": [
                {
                    "output_type": "execute_result",
                    "metadata": {},
                    "data": {
                        "text/plain": "'11101'"
                    },
                    "execution_count": null
                }
            ]
        },
        {
            "id": "85d5ad23",
            "cell_type": "code",
            "metadata": {},
            "execution_count": null,
            "source": "np.bitwise_or(32, 2)",
            "outputs": [
                {
                    "output_type": "execute_result",
                    "metadata": {},
                    "data": {
                        "text/plain": "34"
                    },
                    "execution_count": null
                }
            ]
        },
        {
            "id": "326576fb",
            "cell_type": "code",
            "metadata": {},
            "execution_count": null,
            "source": "np.bitwise_or([33, 4], 1)",
            "outputs": [
                {
                    "output_type": "execute_result",
                    "metadata": {},
                    "data": {
                        "text/plain": "array([33,  5])"
                    },
                    "execution_count": null
                }
            ]
        },
        {
            "id": "8c2d40db",
            "cell_type": "code",
            "metadata": {},
            "execution_count": null,
            "source": "np.bitwise_or([33, 4], [1, 2])",
            "outputs": [
                {
                    "output_type": "execute_result",
                    "metadata": {},
                    "data": {
                        "text/plain": "array([33,  6])"
                    },
                    "execution_count": null
                }
            ]
        },
        {
            "id": "dc5cd653",
            "cell_type": "code",
            "metadata": {},
            "execution_count": null,
            "source": "np.bitwise_or(np.array([2, 5, 255]), np.array([4, 4, 4]))",
            "outputs": [
                {
                    "output_type": "execute_result",
                    "metadata": {},
                    "data": {
                        "text/plain": "array([  6,   5, 255])"
                    },
                    "execution_count": null
                }
            ]
        },
        {
            "id": "0cc0a908",
            "cell_type": "code",
            "metadata": {},
            "execution_count": null,
            "source": "np.array([2, 5, 255]) | np.array([4, 4, 4])",
            "outputs": [
                {
                    "output_type": "execute_result",
                    "metadata": {},
                    "data": {
                        "text/plain": "array([  6,   5, 255])"
                    },
                    "execution_count": null
                }
            ]
        },
        {
            "id": "88a0b07c",
            "cell_type": "code",
            "metadata": {},
            "execution_count": null,
            "source": "np.bitwise_or(np.array([2, 5, 255, 2147483647], dtype=np.int32),\n              np.array([4, 4, 4, 2147483647], dtype=np.int32))",
            "outputs": [
                {
                    "output_type": "execute_result",
                    "metadata": {},
                    "data": {
                        "text/plain": "array([         6,          5,        255, 2147483647])"
                    },
                    "execution_count": null
                }
            ]
        },
        {
            "id": "3af757cf",
            "cell_type": "code",
            "metadata": {},
            "execution_count": null,
            "source": "np.bitwise_or([True, True], [False, True])",
            "outputs": [
                {
                    "output_type": "execute_result",
                    "metadata": {},
                    "data": {
                        "text/plain": "array([ True,  True])"
                    },
                    "execution_count": null
                }
            ]
        },
        {
            "id": "ebff4fc1",
            "cell_type": "markdown",
            "source": "The ``|`` operator can be used as a shorthand for ``np.bitwise_or`` on\nndarrays.\n",
            "metadata": {}
        },
        {
            "id": "0dafd5e2",
            "cell_type": "code",
            "metadata": {},
            "execution_count": null,
            "source": "x1 = np.array([2, 5, 255])\nx2 = np.array([4, 4, 4])\nx1 | x2",
            "outputs": [
                {
                    "output_type": "execute_result",
                    "metadata": {},
                    "data": {
                        "text/plain": "array([  6,   5, 255])"
                    },
                    "execution_count": null
                }
            ]
        }
    ]
}