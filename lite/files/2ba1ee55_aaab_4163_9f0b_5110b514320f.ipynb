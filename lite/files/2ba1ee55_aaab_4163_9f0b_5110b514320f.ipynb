{
    "nbformat": 4,
    "nbformat_minor": 5,
    "metadata": {
        "kernelspec": {
            "display_name": "Python",
            "language": "python",
            "name": "python"
        },
        "language_info": {
            "name": "python"
        }
    },
    "cells": [
        {
            "id": "765e5593",
            "cell_type": "markdown",
            "source": "<div class='alert alert-warning'>\n\nNumPy's interactive examples are experimental and may not always work as expected, with high load times especially on low-resource platforms, and the version of NumPy might not be in sync with the one you are browsing the documentation for. If you encounter any issues, please report them on the [NumPy issue tracker](https://github.com/numpy/numpy/issues).\n\n</div>",
            "metadata": {}
        },
        {
            "id": "19860b85",
            "cell_type": "code",
            "metadata": {},
            "execution_count": null,
            "source": "import numpy as np",
            "outputs": []
        },
        {
            "id": "79ef3926",
            "cell_type": "markdown",
            "source": "Consider two variables, $x_0$ and $x_1$, which\ncorrelate perfectly, but in opposite directions:\n",
            "metadata": {}
        },
        {
            "id": "97b984d5",
            "cell_type": "code",
            "metadata": {},
            "execution_count": null,
            "source": "x = np.array([[0, 2], [1, 1], [2, 0]]).T\nx",
            "outputs": [
                {
                    "output_type": "execute_result",
                    "metadata": {},
                    "data": {
                        "text/plain": "array([[0, 1, 2],\n       [2, 1, 0]])"
                    },
                    "execution_count": null
                }
            ]
        },
        {
            "id": "4ee27112",
            "cell_type": "markdown",
            "source": "Note how $x_0$ increases while $x_1$ decreases. The covariance\nmatrix shows this clearly:\n",
            "metadata": {}
        },
        {
            "id": "0b7bf29d",
            "cell_type": "code",
            "metadata": {},
            "execution_count": null,
            "source": "np.cov(x)",
            "outputs": [
                {
                    "output_type": "execute_result",
                    "metadata": {},
                    "data": {
                        "text/plain": "array([[ 1., -1.],\n       [-1.,  1.]])"
                    },
                    "execution_count": null
                }
            ]
        },
        {
            "id": "e9b6f5e1",
            "cell_type": "markdown",
            "source": "Note that element $C_{0,1}$, which shows the correlation between\n$x_0$ and $x_1$, is negative.\n\nFurther, note how `x` and `y` are combined:\n",
            "metadata": {}
        },
        {
            "id": "33335cc5",
            "cell_type": "code",
            "metadata": {},
            "execution_count": null,
            "source": "x = [-2.1, -1,  4.3]\ny = [3,  1.1,  0.12]\nX = np.stack((x, y), axis=0)\nnp.cov(X)",
            "outputs": [
                {
                    "output_type": "execute_result",
                    "metadata": {},
                    "data": {
                        "text/plain": "array([[11.71      , -4.286     ], # may vary\n       [-4.286     ,  2.144133]])"
                    },
                    "execution_count": null
                }
            ]
        },
        {
            "id": "bbd48464",
            "cell_type": "code",
            "metadata": {},
            "execution_count": null,
            "source": "np.cov(x, y)",
            "outputs": [
                {
                    "output_type": "execute_result",
                    "metadata": {},
                    "data": {
                        "text/plain": "array([[11.71      , -4.286     ], # may vary\n       [-4.286     ,  2.144133]])"
                    },
                    "execution_count": null
                }
            ]
        },
        {
            "id": "8f7d66e2",
            "cell_type": "code",
            "metadata": {},
            "execution_count": null,
            "source": "np.cov(x)",
            "outputs": [
                {
                    "output_type": "execute_result",
                    "metadata": {},
                    "data": {
                        "text/plain": "array(11.71)"
                    },
                    "execution_count": null
                }
            ]
        }
    ]
}