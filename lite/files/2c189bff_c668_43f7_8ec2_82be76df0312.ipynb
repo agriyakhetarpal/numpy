{
    "nbformat": 4,
    "nbformat_minor": 5,
    "metadata": {
        "kernelspec": {
            "display_name": "Python",
            "language": "python",
            "name": "python"
        },
        "language_info": {
            "name": "python"
        }
    },
    "cells": [
        {
            "id": "72bd50ea",
            "cell_type": "markdown",
            "source": "<div class='alert alert-warning'>\n\nNumPy's interactive examples are experimental and may not always work as expected, with high load times especially on low-resource platforms, and the version of NumPy might not be in sync with the one you are browsing the documentation for. If you encounter any issues, please report them on the [NumPy issue tracker](https://github.com/numpy/numpy/issues).\n\n</div>",
            "metadata": {}
        },
        {
            "id": "56222b85",
            "cell_type": "code",
            "metadata": {},
            "execution_count": null,
            "source": "import numpy as np",
            "outputs": []
        },
        {
            "id": "9c11b2b4",
            "cell_type": "code",
            "metadata": {},
            "execution_count": null,
            "source": "a = np.arange(6).reshape(2,3)\nfor x in np.nditer(a, flags=['external_loop']):\n    print(x, end=' ')\n",
            "outputs": [
                {
                    "output_type": "execute_result",
                    "metadata": {},
                    "data": {
                        "text/plain": "[0 1 2 3 4 5]"
                    },
                    "execution_count": null
                }
            ]
        },
        {
            "id": "0f10be7c",
            "cell_type": "code",
            "metadata": {},
            "execution_count": null,
            "source": "for x in np.nditer(a, flags=['external_loop'], order='F'):\n    print(x, end=' ')\n",
            "outputs": [
                {
                    "output_type": "execute_result",
                    "metadata": {},
                    "data": {
                        "text/plain": "[0 3] [1 4] [2 5]"
                    },
                    "execution_count": null
                }
            ]
        }
    ]
}