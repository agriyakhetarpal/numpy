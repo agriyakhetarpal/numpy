{
    "nbformat": 4,
    "nbformat_minor": 5,
    "metadata": {
        "kernelspec": {
            "display_name": "Python",
            "language": "python",
            "name": "python"
        },
        "language_info": {
            "name": "python"
        }
    },
    "cells": [
        {
            "id": "5612bc41",
            "cell_type": "markdown",
            "source": "<div class='alert alert-warning'>\n\nNumPy's interactive examples are experimental and may not always work as expected, with high load times especially on low-resource platforms, and the version of NumPy might not be in sync with the one you are browsing the documentation for. If you encounter any issues, please report them on the [NumPy issue tracker](https://github.com/numpy/numpy/issues).\n\n</div>",
            "metadata": {}
        },
        {
            "id": "2a937a41",
            "cell_type": "code",
            "metadata": {},
            "execution_count": null,
            "source": "import numpy as np",
            "outputs": []
        },
        {
            "id": "ed2939b5",
            "cell_type": "code",
            "metadata": {},
            "execution_count": null,
            "source": "f16 = np.float16(\"0.1\")\nf32 = np.float32(f16)\nf64 = np.float64(f32)\nf16 == f32 == f64",
            "outputs": [
                {
                    "output_type": "execute_result",
                    "metadata": {},
                    "data": {
                        "text/plain": "True"
                    },
                    "execution_count": null
                }
            ]
        },
        {
            "id": "2fbf5986",
            "cell_type": "code",
            "metadata": {},
            "execution_count": null,
            "source": "f16, f32, f64",
            "outputs": [
                {
                    "output_type": "execute_result",
                    "metadata": {},
                    "data": {
                        "text/plain": "(0.1, 0.099975586, 0.0999755859375)"
                    },
                    "execution_count": null
                }
            ]
        },
        {
            "id": "69340d67",
            "cell_type": "markdown",
            "source": "Note that none of these floats hold the exact value $\\frac{1}{10}$;\n``f16`` prints as ``0.1`` because it is as close to that value as possible,\nwhereas the other types do not as they have more precision and therefore have\ncloser values.\n\nConversely, floating-point scalars of different precisions which approximate\nthe same decimal value may compare unequal despite printing identically:\n",
            "metadata": {}
        },
        {
            "id": "9a260d87",
            "cell_type": "code",
            "metadata": {},
            "execution_count": null,
            "source": "f16 = np.float16(\"0.1\")\nf32 = np.float32(\"0.1\")\nf64 = np.float64(\"0.1\")\nf16 == f32 == f64",
            "outputs": [
                {
                    "output_type": "execute_result",
                    "metadata": {},
                    "data": {
                        "text/plain": "False"
                    },
                    "execution_count": null
                }
            ]
        },
        {
            "id": "5cca759d",
            "cell_type": "code",
            "metadata": {},
            "execution_count": null,
            "source": "f16, f32, f64",
            "outputs": [
                {
                    "output_type": "execute_result",
                    "metadata": {},
                    "data": {
                        "text/plain": "(0.1, 0.1, 0.1)"
                    },
                    "execution_count": null
                }
            ]
        }
    ]
}