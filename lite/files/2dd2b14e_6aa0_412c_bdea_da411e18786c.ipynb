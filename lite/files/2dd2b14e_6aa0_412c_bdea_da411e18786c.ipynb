{
    "nbformat": 4,
    "nbformat_minor": 5,
    "metadata": {
        "kernelspec": {
            "display_name": "Python",
            "language": "python",
            "name": "python"
        },
        "language_info": {
            "name": "python"
        }
    },
    "cells": [
        {
            "id": "f2a79386",
            "cell_type": "markdown",
            "source": "<div class='alert alert-warning'>\n\nNumPy's interactive examples are experimental and may not always work as expected, with high load times especially on low-resource platforms, and the version of NumPy might not be in sync with the one you are browsing the documentation for. If you encounter any issues, please report them on the [NumPy issue tracker](https://github.com/numpy/numpy/issues).\n\n</div>",
            "metadata": {}
        },
        {
            "id": "51c18e12",
            "cell_type": "code",
            "metadata": {},
            "execution_count": null,
            "source": "import numpy as np\nfrom numpy.lib.stride_tricks import sliding_window_view\nx = np.arange(6)\nx.shape",
            "outputs": [
                {
                    "output_type": "execute_result",
                    "metadata": {},
                    "data": {
                        "text/plain": "(6,)"
                    },
                    "execution_count": null
                }
            ]
        },
        {
            "id": "330cc6b3",
            "cell_type": "code",
            "metadata": {},
            "execution_count": null,
            "source": "v = sliding_window_view(x, 3)\nv.shape",
            "outputs": [
                {
                    "output_type": "execute_result",
                    "metadata": {},
                    "data": {
                        "text/plain": "(4, 3)"
                    },
                    "execution_count": null
                }
            ]
        },
        {
            "id": "018b69bc",
            "cell_type": "code",
            "metadata": {},
            "execution_count": null,
            "source": "v",
            "outputs": [
                {
                    "output_type": "execute_result",
                    "metadata": {},
                    "data": {
                        "text/plain": "array([[0, 1, 2],\n       [1, 2, 3],\n       [2, 3, 4],\n       [3, 4, 5]])"
                    },
                    "execution_count": null
                }
            ]
        },
        {
            "id": "536d839d",
            "cell_type": "markdown",
            "source": "This also works in more dimensions, e.g.\n",
            "metadata": {}
        },
        {
            "id": "90c3459f",
            "cell_type": "code",
            "metadata": {},
            "execution_count": null,
            "source": "i, j = np.ogrid[:3, :4]\nx = 10*i + j\nx.shape",
            "outputs": [
                {
                    "output_type": "execute_result",
                    "metadata": {},
                    "data": {
                        "text/plain": "(3, 4)"
                    },
                    "execution_count": null
                }
            ]
        },
        {
            "id": "e3953e8a",
            "cell_type": "code",
            "metadata": {},
            "execution_count": null,
            "source": "x",
            "outputs": [
                {
                    "output_type": "execute_result",
                    "metadata": {},
                    "data": {
                        "text/plain": "array([[ 0,  1,  2,  3],\n       [10, 11, 12, 13],\n       [20, 21, 22, 23]])"
                    },
                    "execution_count": null
                }
            ]
        },
        {
            "id": "57d68222",
            "cell_type": "code",
            "metadata": {},
            "execution_count": null,
            "source": "shape = (2,2)\nv = sliding_window_view(x, shape)\nv.shape",
            "outputs": [
                {
                    "output_type": "execute_result",
                    "metadata": {},
                    "data": {
                        "text/plain": "(2, 3, 2, 2)"
                    },
                    "execution_count": null
                }
            ]
        },
        {
            "id": "8e9a1499",
            "cell_type": "code",
            "metadata": {},
            "execution_count": null,
            "source": "v",
            "outputs": [
                {
                    "output_type": "execute_result",
                    "metadata": {},
                    "data": {
                        "text/plain": "array([[[[ 0,  1],\n         [10, 11]],\n        [[ 1,  2],\n         [11, 12]],\n        [[ 2,  3],\n         [12, 13]]],\n       [[[10, 11],\n         [20, 21]],\n        [[11, 12],\n         [21, 22]],\n        [[12, 13],\n         [22, 23]]]])"
                    },
                    "execution_count": null
                }
            ]
        },
        {
            "id": "c247afc8",
            "cell_type": "markdown",
            "source": "The axis can be specified explicitly:\n",
            "metadata": {}
        },
        {
            "id": "74962781",
            "cell_type": "code",
            "metadata": {},
            "execution_count": null,
            "source": "v = sliding_window_view(x, 3, 0)\nv.shape",
            "outputs": [
                {
                    "output_type": "execute_result",
                    "metadata": {},
                    "data": {
                        "text/plain": "(1, 4, 3)"
                    },
                    "execution_count": null
                }
            ]
        },
        {
            "id": "4e21b17c",
            "cell_type": "code",
            "metadata": {},
            "execution_count": null,
            "source": "v",
            "outputs": [
                {
                    "output_type": "execute_result",
                    "metadata": {},
                    "data": {
                        "text/plain": "array([[[ 0, 10, 20],\n        [ 1, 11, 21],\n        [ 2, 12, 22],\n        [ 3, 13, 23]]])"
                    },
                    "execution_count": null
                }
            ]
        },
        {
            "id": "c458835a",
            "cell_type": "markdown",
            "source": "The same axis can be used several times. In that case, every use reduces\nthe corresponding original dimension:\n",
            "metadata": {}
        },
        {
            "id": "25fdf01a",
            "cell_type": "code",
            "metadata": {},
            "execution_count": null,
            "source": "v = sliding_window_view(x, (2, 3), (1, 1))\nv.shape",
            "outputs": [
                {
                    "output_type": "execute_result",
                    "metadata": {},
                    "data": {
                        "text/plain": "(3, 1, 2, 3)"
                    },
                    "execution_count": null
                }
            ]
        },
        {
            "id": "a6feb8e2",
            "cell_type": "code",
            "metadata": {},
            "execution_count": null,
            "source": "v",
            "outputs": [
                {
                    "output_type": "execute_result",
                    "metadata": {},
                    "data": {
                        "text/plain": "array([[[[ 0,  1,  2],\n         [ 1,  2,  3]]],\n       [[[10, 11, 12],\n         [11, 12, 13]]],\n       [[[20, 21, 22],\n         [21, 22, 23]]]])"
                    },
                    "execution_count": null
                }
            ]
        },
        {
            "id": "515b81f9",
            "cell_type": "markdown",
            "source": "Combining with stepped slicing (`::step`), this can be used to take sliding\nviews which skip elements:\n",
            "metadata": {}
        },
        {
            "id": "cecbdb5c",
            "cell_type": "code",
            "metadata": {},
            "execution_count": null,
            "source": "x = np.arange(7)\nsliding_window_view(x, 5)[:, ::2]",
            "outputs": [
                {
                    "output_type": "execute_result",
                    "metadata": {},
                    "data": {
                        "text/plain": "array([[0, 2, 4],\n       [1, 3, 5],\n       [2, 4, 6]])"
                    },
                    "execution_count": null
                }
            ]
        },
        {
            "id": "109fb221",
            "cell_type": "markdown",
            "source": "or views which move by multiple elements\n",
            "metadata": {}
        },
        {
            "id": "b0a0cc2c",
            "cell_type": "code",
            "metadata": {},
            "execution_count": null,
            "source": "x = np.arange(7)\nsliding_window_view(x, 3)[::2, :]",
            "outputs": [
                {
                    "output_type": "execute_result",
                    "metadata": {},
                    "data": {
                        "text/plain": "array([[0, 1, 2],\n       [2, 3, 4],\n       [4, 5, 6]])"
                    },
                    "execution_count": null
                }
            ]
        },
        {
            "id": "661c57bf",
            "cell_type": "markdown",
            "source": "A common application of `sliding_window_view` is the calculation of running\nstatistics. The simplest example is the\n[moving average](https://en.wikipedia.org/wiki/Moving_average):\n",
            "metadata": {}
        },
        {
            "id": "97ad64ba",
            "cell_type": "code",
            "metadata": {},
            "execution_count": null,
            "source": "x = np.arange(6)\nx.shape",
            "outputs": [
                {
                    "output_type": "execute_result",
                    "metadata": {},
                    "data": {
                        "text/plain": "(6,)"
                    },
                    "execution_count": null
                }
            ]
        },
        {
            "id": "6eaa1d3b",
            "cell_type": "code",
            "metadata": {},
            "execution_count": null,
            "source": "v = sliding_window_view(x, 3)\nv.shape",
            "outputs": [
                {
                    "output_type": "execute_result",
                    "metadata": {},
                    "data": {
                        "text/plain": "(4, 3)"
                    },
                    "execution_count": null
                }
            ]
        },
        {
            "id": "f999c2a8",
            "cell_type": "code",
            "metadata": {},
            "execution_count": null,
            "source": "v",
            "outputs": [
                {
                    "output_type": "execute_result",
                    "metadata": {},
                    "data": {
                        "text/plain": "array([[0, 1, 2],\n       [1, 2, 3],\n       [2, 3, 4],\n       [3, 4, 5]])"
                    },
                    "execution_count": null
                }
            ]
        },
        {
            "id": "ffc4a95d",
            "cell_type": "code",
            "metadata": {},
            "execution_count": null,
            "source": "moving_average = v.mean(axis=-1)\nmoving_average",
            "outputs": [
                {
                    "output_type": "execute_result",
                    "metadata": {},
                    "data": {
                        "text/plain": "array([1., 2., 3., 4.])"
                    },
                    "execution_count": null
                }
            ]
        },
        {
            "id": "aba62424",
            "cell_type": "markdown",
            "source": "Note that a sliding window approach is often **not** optimal (see Notes).",
            "metadata": {}
        }
    ]
}