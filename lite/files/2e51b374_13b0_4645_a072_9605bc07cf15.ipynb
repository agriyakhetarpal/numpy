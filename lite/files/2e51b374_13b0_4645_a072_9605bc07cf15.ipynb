{
    "nbformat": 4,
    "nbformat_minor": 5,
    "metadata": {
        "kernelspec": {
            "display_name": "Python",
            "language": "python",
            "name": "python"
        },
        "language_info": {
            "name": "python"
        }
    },
    "cells": [
        {
            "id": "d756e0e0",
            "cell_type": "markdown",
            "source": "<div class='alert alert-warning'>\n\nNumPy's interactive examples are experimental and may not always work as expected, with high load times especially on low-resource platforms, , and the version of NumPy might not be in sync with the one you are browsing the documentation for. If you encounter any issues, please report them on the [NumPy issue tracker](https://github.com/numpy/numpy/issues).\n\n</div>",
            "metadata": {}
        },
        {
            "id": "c19a5b82",
            "cell_type": "code",
            "metadata": {},
            "execution_count": null,
            "source": "import numpy as np\nfrom numpy.lib import recfunctions as rfn\na = np.array([(1, (2, 3.0)), (4, (5, 6.0))],\n  dtype=[('a', np.int64), ('b', [('ba', np.double), ('bb', np.int64)])])\nrfn.drop_fields(a, 'a')",
            "outputs": [
                {
                    "output_type": "execute_result",
                    "metadata": {},
                    "data": {
                        "text/plain": "array([((2., 3),), ((5., 6),)],\n      dtype=[('b', [('ba', '<f8'), ('bb', '<i8')])])"
                    },
                    "execution_count": null
                }
            ]
        },
        {
            "id": "72ddec0e",
            "cell_type": "code",
            "metadata": {},
            "execution_count": null,
            "source": "rfn.drop_fields(a, 'ba')",
            "outputs": [
                {
                    "output_type": "execute_result",
                    "metadata": {},
                    "data": {
                        "text/plain": "array([(1, (3,)), (4, (6,))], dtype=[('a', '<i8'), ('b', [('bb', '<i8')])])"
                    },
                    "execution_count": null
                }
            ]
        },
        {
            "id": "06358dd8",
            "cell_type": "code",
            "metadata": {},
            "execution_count": null,
            "source": "rfn.drop_fields(a, ['ba', 'bb'])",
            "outputs": [
                {
                    "output_type": "execute_result",
                    "metadata": {},
                    "data": {
                        "text/plain": "array([(1,), (4,)], dtype=[('a', '<i8')])"
                    },
                    "execution_count": null
                }
            ]
        }
    ]
}