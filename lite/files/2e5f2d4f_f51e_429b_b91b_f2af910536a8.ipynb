{
    "nbformat": 4,
    "nbformat_minor": 5,
    "metadata": {
        "kernelspec": {
            "display_name": "Python",
            "language": "python",
            "name": "python"
        },
        "language_info": {
            "name": "python"
        }
    },
    "cells": [
        {
            "id": "1ddd5470",
            "cell_type": "markdown",
            "source": "<div class='alert alert-warning'>\n\nNumPy's interactive examples are experimental and may not always work as expected, with high load times especially on low-resource platforms, and the version of NumPy might not be in sync with the one you are browsing the documentation for. If you encounter any issues, please report them on the [NumPy issue tracker](https://github.com/numpy/numpy/issues).\n\n</div>",
            "metadata": {}
        },
        {
            "id": "ccb6e6ef",
            "cell_type": "code",
            "metadata": {},
            "execution_count": null,
            "source": "import numpy as np\nx = np.ma.array(np.arange(5), mask=[0]*2 + [1]*3)\nx.compressed()",
            "outputs": [
                {
                    "output_type": "execute_result",
                    "metadata": {},
                    "data": {
                        "text/plain": "array([0, 1])"
                    },
                    "execution_count": null
                }
            ]
        },
        {
            "id": "b70eeeeb",
            "cell_type": "code",
            "metadata": {},
            "execution_count": null,
            "source": "type(x.compressed())",
            "outputs": [
                {
                    "output_type": "execute_result",
                    "metadata": {},
                    "data": {
                        "text/plain": "<class 'numpy.ndarray'>"
                    },
                    "execution_count": null
                }
            ]
        },
        {
            "id": "a8fdef46",
            "cell_type": "markdown",
            "source": "N-D arrays are compressed to 1-D.\n",
            "metadata": {}
        },
        {
            "id": "b945af81",
            "cell_type": "code",
            "metadata": {},
            "execution_count": null,
            "source": "arr = [[1, 2], [3, 4]]\nmask = [[1, 0], [0, 1]]\nx = np.ma.array(arr, mask=mask)\nx.compressed()",
            "outputs": [
                {
                    "output_type": "execute_result",
                    "metadata": {},
                    "data": {
                        "text/plain": "array([2, 3])"
                    },
                    "execution_count": null
                }
            ]
        }
    ]
}