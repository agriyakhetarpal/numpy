{
    "nbformat": 4,
    "nbformat_minor": 5,
    "metadata": {
        "kernelspec": {
            "display_name": "Python",
            "language": "python",
            "name": "python"
        },
        "language_info": {
            "name": "python"
        }
    },
    "cells": [
        {
            "id": "958fa107",
            "cell_type": "markdown",
            "source": "<div class='alert alert-warning'>\n\nNumPy's interactive examples are experimental and may not always work as expected, with high load times especially on low-resource platforms, and the version of NumPy might not be in sync with the one you are browsing the documentation for. If you encounter any issues, please report them on the [NumPy issue tracker](https://github.com/numpy/numpy/issues).\n\n</div>",
            "metadata": {}
        },
        {
            "id": "ff847016",
            "cell_type": "code",
            "metadata": {},
            "execution_count": null,
            "source": "import numpy as np\nnp.array([1, 2, 3])",
            "outputs": [
                {
                    "output_type": "execute_result",
                    "metadata": {},
                    "data": {
                        "text/plain": "array([1, 2, 3])"
                    },
                    "execution_count": null
                }
            ]
        },
        {
            "id": "0c455fa9",
            "cell_type": "markdown",
            "source": "Upcasting:\n",
            "metadata": {}
        },
        {
            "id": "40600128",
            "cell_type": "code",
            "metadata": {},
            "execution_count": null,
            "source": "np.array([1, 2, 3.0])",
            "outputs": [
                {
                    "output_type": "execute_result",
                    "metadata": {},
                    "data": {
                        "text/plain": "array([ 1.,  2.,  3.])"
                    },
                    "execution_count": null
                }
            ]
        },
        {
            "id": "a9f3fbd4",
            "cell_type": "markdown",
            "source": "More than one dimension:\n",
            "metadata": {}
        },
        {
            "id": "c92502b6",
            "cell_type": "code",
            "metadata": {},
            "execution_count": null,
            "source": "np.array([[1, 2], [3, 4]])",
            "outputs": [
                {
                    "output_type": "execute_result",
                    "metadata": {},
                    "data": {
                        "text/plain": "array([[1, 2],\n       [3, 4]])"
                    },
                    "execution_count": null
                }
            ]
        },
        {
            "id": "988a9be6",
            "cell_type": "markdown",
            "source": "Minimum dimensions 2:\n",
            "metadata": {}
        },
        {
            "id": "40dcb916",
            "cell_type": "code",
            "metadata": {},
            "execution_count": null,
            "source": "np.array([1, 2, 3], ndmin=2)",
            "outputs": [
                {
                    "output_type": "execute_result",
                    "metadata": {},
                    "data": {
                        "text/plain": "array([[1, 2, 3]])"
                    },
                    "execution_count": null
                }
            ]
        },
        {
            "id": "1b1c0b2a",
            "cell_type": "markdown",
            "source": "Type provided:\n",
            "metadata": {}
        },
        {
            "id": "07eb3d97",
            "cell_type": "code",
            "metadata": {},
            "execution_count": null,
            "source": "np.array([1, 2, 3], dtype=complex)",
            "outputs": [
                {
                    "output_type": "execute_result",
                    "metadata": {},
                    "data": {
                        "text/plain": "array([ 1.+0.j,  2.+0.j,  3.+0.j])"
                    },
                    "execution_count": null
                }
            ]
        },
        {
            "id": "c91cdd67",
            "cell_type": "markdown",
            "source": "Data-type consisting of more than one element:\n",
            "metadata": {}
        },
        {
            "id": "029b567b",
            "cell_type": "code",
            "metadata": {},
            "execution_count": null,
            "source": "x = np.array([(1,2),(3,4)],dtype=[('a','<i4'),('b','<i4')])\nx['a']",
            "outputs": [
                {
                    "output_type": "execute_result",
                    "metadata": {},
                    "data": {
                        "text/plain": "array([1, 3], dtype=int32)"
                    },
                    "execution_count": null
                }
            ]
        },
        {
            "id": "dc049e52",
            "cell_type": "markdown",
            "source": "Creating an array from sub-classes:\n",
            "metadata": {}
        },
        {
            "id": "880a68a5",
            "cell_type": "code",
            "metadata": {},
            "execution_count": null,
            "source": "np.array(np.asmatrix('1 2; 3 4'))",
            "outputs": [
                {
                    "output_type": "execute_result",
                    "metadata": {},
                    "data": {
                        "text/plain": "array([[1, 2],\n       [3, 4]])"
                    },
                    "execution_count": null
                }
            ]
        },
        {
            "id": "afa460a4",
            "cell_type": "code",
            "metadata": {},
            "execution_count": null,
            "source": "np.array(np.asmatrix('1 2; 3 4'), subok=True)",
            "outputs": [
                {
                    "output_type": "execute_result",
                    "metadata": {},
                    "data": {
                        "text/plain": "matrix([[1, 2],\n        [3, 4]])"
                    },
                    "execution_count": null
                }
            ]
        }
    ]
}