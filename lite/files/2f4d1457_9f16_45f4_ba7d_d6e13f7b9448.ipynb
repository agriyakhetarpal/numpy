{
    "nbformat": 4,
    "nbformat_minor": 5,
    "metadata": {
        "kernelspec": {
            "display_name": "Python",
            "language": "python",
            "name": "python"
        },
        "language_info": {
            "name": "python"
        }
    },
    "cells": [
        {
            "id": "afecb977",
            "cell_type": "markdown",
            "source": "<div class='alert alert-warning'>\n\nNumPy's interactive examples are experimental and may not always work as expected, with high load times especially on low-resource platforms, , and the version of NumPy might not be in sync with the one you are browsing the documentation for. If you encounter any issues, please report them on the [NumPy issue tracker](https://github.com/numpy/numpy/issues).\n\n</div>",
            "metadata": {}
        },
        {
            "id": "665aa009",
            "cell_type": "code",
            "metadata": {},
            "execution_count": null,
            "source": "import numpy as np\nx = np.array([1, 2])\nx.shape",
            "outputs": [
                {
                    "output_type": "execute_result",
                    "metadata": {},
                    "data": {
                        "text/plain": "(2,)"
                    },
                    "execution_count": null
                }
            ]
        },
        {
            "id": "594a32a2",
            "cell_type": "markdown",
            "source": "The following is equivalent to ``x[np.newaxis, :]`` or ``x[np.newaxis]``:\n",
            "metadata": {}
        },
        {
            "id": "84c7934c",
            "cell_type": "code",
            "metadata": {},
            "execution_count": null,
            "source": "y = np.expand_dims(x, axis=0)\ny",
            "outputs": [
                {
                    "output_type": "execute_result",
                    "metadata": {},
                    "data": {
                        "text/plain": "array([[1, 2]])"
                    },
                    "execution_count": null
                }
            ]
        },
        {
            "id": "7828d7e4",
            "cell_type": "code",
            "metadata": {},
            "execution_count": null,
            "source": "y.shape",
            "outputs": [
                {
                    "output_type": "execute_result",
                    "metadata": {},
                    "data": {
                        "text/plain": "(1, 2)"
                    },
                    "execution_count": null
                }
            ]
        },
        {
            "id": "899d0c00",
            "cell_type": "markdown",
            "source": "The following is equivalent to ``x[:, np.newaxis]``:\n",
            "metadata": {}
        },
        {
            "id": "9e9158b3",
            "cell_type": "code",
            "metadata": {},
            "execution_count": null,
            "source": "y = np.expand_dims(x, axis=1)\ny",
            "outputs": [
                {
                    "output_type": "execute_result",
                    "metadata": {},
                    "data": {
                        "text/plain": "array([[1],\n       [2]])"
                    },
                    "execution_count": null
                }
            ]
        },
        {
            "id": "42ded050",
            "cell_type": "code",
            "metadata": {},
            "execution_count": null,
            "source": "y.shape",
            "outputs": [
                {
                    "output_type": "execute_result",
                    "metadata": {},
                    "data": {
                        "text/plain": "(2, 1)"
                    },
                    "execution_count": null
                }
            ]
        },
        {
            "id": "e1b190b2",
            "cell_type": "markdown",
            "source": "``axis`` may also be a tuple:\n",
            "metadata": {}
        },
        {
            "id": "49e0b138",
            "cell_type": "code",
            "metadata": {},
            "execution_count": null,
            "source": "y = np.expand_dims(x, axis=(0, 1))\ny",
            "outputs": [
                {
                    "output_type": "execute_result",
                    "metadata": {},
                    "data": {
                        "text/plain": "array([[[1, 2]]])"
                    },
                    "execution_count": null
                }
            ]
        },
        {
            "id": "c56b67cd",
            "cell_type": "code",
            "metadata": {},
            "execution_count": null,
            "source": "y = np.expand_dims(x, axis=(2, 0))\ny",
            "outputs": [
                {
                    "output_type": "execute_result",
                    "metadata": {},
                    "data": {
                        "text/plain": "array([[[1],\n        [2]]])"
                    },
                    "execution_count": null
                }
            ]
        },
        {
            "id": "3807ba26",
            "cell_type": "markdown",
            "source": "Note that some examples may use ``None`` instead of ``np.newaxis``.  These\nare the same objects:\n",
            "metadata": {}
        },
        {
            "id": "dc06d5cc",
            "cell_type": "code",
            "metadata": {},
            "execution_count": null,
            "source": "np.newaxis is None",
            "outputs": [
                {
                    "output_type": "execute_result",
                    "metadata": {},
                    "data": {
                        "text/plain": "True"
                    },
                    "execution_count": null
                }
            ]
        }
    ]
}