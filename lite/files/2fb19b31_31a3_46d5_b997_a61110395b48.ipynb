{
    "nbformat": 4,
    "nbformat_minor": 5,
    "metadata": {
        "kernelspec": {
            "display_name": "Python",
            "language": "python",
            "name": "python"
        },
        "language_info": {
            "name": "python"
        }
    },
    "cells": [
        {
            "id": "8699b04b",
            "cell_type": "markdown",
            "source": "<div class='alert alert-warning'>\n\nNumPy's interactive examples are experimental and may not always work as expected, with high load times especially on low-resource platforms, , and the version of NumPy might not be in sync with the one you are browsing the documentation for. If you encounter any issues, please report them on the [NumPy issue tracker](https://github.com/numpy/numpy/issues).\n\n</div>",
            "metadata": {}
        },
        {
            "id": "19ecd824",
            "cell_type": "code",
            "metadata": {},
            "execution_count": null,
            "source": "import numpy as np",
            "outputs": []
        },
        {
            "id": "afc88b67",
            "cell_type": "markdown",
            "source": "32-bit integer, whose first two bytes are interpreted as an integer\nvia field ``real``, and the following two bytes via field ``imag``.\n",
            "metadata": {}
        },
        {
            "id": "326297f1",
            "cell_type": "code",
            "metadata": {},
            "execution_count": null,
            "source": "dt = np.dtype((np.int32,{'real':(np.int16, 0),'imag':(np.int16, 2)}))",
            "outputs": []
        },
        {
            "id": "e2c54ff5",
            "cell_type": "markdown",
            "source": "32-bit integer, which is interpreted as consisting of a sub-array\nof shape ``(4,)`` containing 8-bit integers:\n",
            "metadata": {}
        },
        {
            "id": "181cd5d4",
            "cell_type": "code",
            "metadata": {},
            "execution_count": null,
            "source": "dt = np.dtype((np.int32, (np.int8, 4)))",
            "outputs": []
        },
        {
            "id": "2ef6e813",
            "cell_type": "markdown",
            "source": "32-bit integer, containing fields ``r``, ``g``, ``b``, ``a`` that\ninterpret the 4 bytes in the integer as four unsigned integers:\n",
            "metadata": {}
        },
        {
            "id": "024e61b8",
            "cell_type": "code",
            "metadata": {},
            "execution_count": null,
            "source": "dt = np.dtype(('i4', [('r','u1'),('g','u1'),('b','u1'),('a','u1')]))",
            "outputs": []
        }
    ]
}