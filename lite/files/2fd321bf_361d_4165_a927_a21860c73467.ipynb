{
    "nbformat": 4,
    "nbformat_minor": 5,
    "metadata": {
        "kernelspec": {
            "display_name": "Python",
            "language": "python",
            "name": "python"
        },
        "language_info": {
            "name": "python"
        }
    },
    "cells": [
        {
            "id": "3eff2cf5",
            "cell_type": "markdown",
            "source": "<div class='alert alert-warning'>\n\nNumPy's interactive examples are experimental and may not always work as expected, with high load times especially on low-resource platforms, , and the version of NumPy might not be in sync with the one you are browsing the documentation for. If you encounter any issues, please report them on the [NumPy issue tracker](https://github.com/numpy/numpy/issues).\n\n</div>",
            "metadata": {}
        },
        {
            "id": "08f10ba0",
            "cell_type": "markdown",
            "source": "Starting from a seeded default generator:\n",
            "metadata": {}
        },
        {
            "id": "9a1f0689",
            "cell_type": "code",
            "metadata": {},
            "execution_count": null,
            "source": "# High quality entropy created with: f\"0x{secrets.randbits(128):x}\"\nentropy = 0x3034c61a9ae04ff8cb62ab8ec2c4b501\nrng = np.random.default_rng(entropy)",
            "outputs": []
        },
        {
            "id": "bacc2a0b",
            "cell_type": "markdown",
            "source": "Create two new generators for example for parallel execution:\n",
            "metadata": {}
        },
        {
            "id": "7f54e46d",
            "cell_type": "code",
            "metadata": {},
            "execution_count": null,
            "source": "child_rng1, child_rng2 = rng.spawn(2)",
            "outputs": []
        },
        {
            "id": "af53b94e",
            "cell_type": "markdown",
            "source": "Drawn numbers from each are independent but derived from the initial\nseeding entropy:\n",
            "metadata": {}
        },
        {
            "id": "755ca4fc",
            "cell_type": "code",
            "metadata": {},
            "execution_count": null,
            "source": "rng.uniform(), child_rng1.uniform(), child_rng2.uniform()",
            "outputs": [
                {
                    "output_type": "execute_result",
                    "metadata": {},
                    "data": {
                        "text/plain": "(0.19029263503854454, 0.9475673279178444, 0.4702687338396767)"
                    },
                    "execution_count": null
                }
            ]
        },
        {
            "id": "7c22bfbc",
            "cell_type": "markdown",
            "source": "It is safe to spawn additional children from the original ``rng`` or\nthe children:\n",
            "metadata": {}
        },
        {
            "id": "a93452b1",
            "cell_type": "code",
            "metadata": {},
            "execution_count": null,
            "source": "more_child_rngs = rng.spawn(20)\nnested_spawn = child_rng1.spawn(20)",
            "outputs": []
        }
    ]
}