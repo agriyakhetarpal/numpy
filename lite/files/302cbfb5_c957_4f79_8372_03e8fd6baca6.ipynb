{
    "nbformat": 4,
    "nbformat_minor": 5,
    "metadata": {
        "kernelspec": {
            "display_name": "Python",
            "language": "python",
            "name": "python"
        },
        "language_info": {
            "name": "python"
        }
    },
    "cells": [
        {
            "id": "d4e15ed1",
            "cell_type": "markdown",
            "source": "<div class='alert alert-warning'>\n\nNumPy's interactive examples are experimental and may not always work as expected, with high load times especially on low-resource platforms, and the version of NumPy might not be in sync with the one you are browsing the documentation for. If you encounter any issues, please report them on the [NumPy issue tracker](https://github.com/numpy/numpy/issues).\n\n</div>",
            "metadata": {}
        },
        {
            "id": "59946d27",
            "cell_type": "code",
            "metadata": {},
            "execution_count": null,
            "source": "import numpy as np\na = np.ma.array([1e10, 1e-7, 42.0], mask=[0, 0, 1])\na",
            "outputs": [
                {
                    "output_type": "execute_result",
                    "metadata": {},
                    "data": {
                        "text/plain": "masked_array(data=[10000000000.0, 1e-07, --],\n             mask=[False, False,  True],\n       fill_value=1e+20)"
                    },
                    "execution_count": null
                }
            ]
        },
        {
            "id": "2a0ac86a",
            "cell_type": "code",
            "metadata": {},
            "execution_count": null,
            "source": "b = np.ma.array([1e10, 1e-8, -42.0], mask=[0, 0, 1])\nnp.ma.allclose(a, b)",
            "outputs": [
                {
                    "output_type": "execute_result",
                    "metadata": {},
                    "data": {
                        "text/plain": "False"
                    },
                    "execution_count": null
                }
            ]
        },
        {
            "id": "2eb10cda",
            "cell_type": "code",
            "metadata": {},
            "execution_count": null,
            "source": "a = np.ma.array([1e10, 1e-8, 42.0], mask=[0, 0, 1])\nb = np.ma.array([1.00001e10, 1e-9, -42.0], mask=[0, 0, 1])\nnp.ma.allclose(a, b)",
            "outputs": [
                {
                    "output_type": "execute_result",
                    "metadata": {},
                    "data": {
                        "text/plain": "True"
                    },
                    "execution_count": null
                }
            ]
        },
        {
            "id": "2312d567",
            "cell_type": "code",
            "metadata": {},
            "execution_count": null,
            "source": "np.ma.allclose(a, b, masked_equal=False)",
            "outputs": [
                {
                    "output_type": "execute_result",
                    "metadata": {},
                    "data": {
                        "text/plain": "False"
                    },
                    "execution_count": null
                }
            ]
        },
        {
            "id": "7d0f86b9",
            "cell_type": "markdown",
            "source": "Masked values are not compared directly.\n",
            "metadata": {}
        },
        {
            "id": "5f55a13e",
            "cell_type": "code",
            "metadata": {},
            "execution_count": null,
            "source": "a = np.ma.array([1e10, 1e-8, 42.0], mask=[0, 0, 1])\nb = np.ma.array([1.00001e10, 1e-9, 42.0], mask=[0, 0, 1])\nnp.ma.allclose(a, b)",
            "outputs": [
                {
                    "output_type": "execute_result",
                    "metadata": {},
                    "data": {
                        "text/plain": "True"
                    },
                    "execution_count": null
                }
            ]
        },
        {
            "id": "f3f12bcc",
            "cell_type": "code",
            "metadata": {},
            "execution_count": null,
            "source": "np.ma.allclose(a, b, masked_equal=False)",
            "outputs": [
                {
                    "output_type": "execute_result",
                    "metadata": {},
                    "data": {
                        "text/plain": "False"
                    },
                    "execution_count": null
                }
            ]
        }
    ]
}