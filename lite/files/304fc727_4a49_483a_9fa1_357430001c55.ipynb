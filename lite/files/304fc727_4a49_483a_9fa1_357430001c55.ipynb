{
    "nbformat": 4,
    "nbformat_minor": 5,
    "metadata": {
        "kernelspec": {
            "display_name": "Python",
            "language": "python",
            "name": "python"
        },
        "language_info": {
            "name": "python"
        }
    },
    "cells": [
        {
            "id": "83855fb7",
            "cell_type": "markdown",
            "source": "<div class='alert alert-warning'>\n\nNumPy's interactive examples are experimental and may not always work as expected, with high load times especially on low-resource platforms, and the version of NumPy might not be in sync with the one you are browsing the documentation for. If you encounter any issues, please report them on the [NumPy issue tracker](https://github.com/numpy/numpy/issues).\n\n</div>",
            "metadata": {}
        },
        {
            "id": "1fc72534",
            "cell_type": "markdown",
            "source": "Create a polynomial object for ``1 + 7*x + 4*x**2``:\n",
            "metadata": {}
        },
        {
            "id": "532e5162",
            "cell_type": "code",
            "metadata": {},
            "execution_count": null,
            "source": "poly = np.polynomial.Polynomial([1, 7, 4])\nprint(poly)",
            "outputs": [
                {
                    "output_type": "execute_result",
                    "metadata": {},
                    "data": {
                        "text/plain": "1.0 + 7.0·x + 4.0·x²"
                    },
                    "execution_count": null
                }
            ]
        },
        {
            "id": "2875492e",
            "cell_type": "code",
            "metadata": {},
            "execution_count": null,
            "source": "poly.degree()",
            "outputs": [
                {
                    "output_type": "execute_result",
                    "metadata": {},
                    "data": {
                        "text/plain": "2"
                    },
                    "execution_count": null
                }
            ]
        },
        {
            "id": "2c094621",
            "cell_type": "markdown",
            "source": "Note that this method does not check for non-zero coefficients.\nYou must trim the polynomial to remove any trailing zeroes:\n",
            "metadata": {}
        },
        {
            "id": "4639fae2",
            "cell_type": "code",
            "metadata": {},
            "execution_count": null,
            "source": "poly = np.polynomial.Polynomial([1, 7, 0])\nprint(poly)",
            "outputs": [
                {
                    "output_type": "execute_result",
                    "metadata": {},
                    "data": {
                        "text/plain": "1.0 + 7.0·x + 0.0·x²"
                    },
                    "execution_count": null
                }
            ]
        },
        {
            "id": "e2019677",
            "cell_type": "code",
            "metadata": {},
            "execution_count": null,
            "source": "poly.degree()",
            "outputs": [
                {
                    "output_type": "execute_result",
                    "metadata": {},
                    "data": {
                        "text/plain": "2"
                    },
                    "execution_count": null
                }
            ]
        },
        {
            "id": "654efb9b",
            "cell_type": "code",
            "metadata": {},
            "execution_count": null,
            "source": "poly.trim().degree()",
            "outputs": [
                {
                    "output_type": "execute_result",
                    "metadata": {},
                    "data": {
                        "text/plain": "1"
                    },
                    "execution_count": null
                }
            ]
        }
    ]
}