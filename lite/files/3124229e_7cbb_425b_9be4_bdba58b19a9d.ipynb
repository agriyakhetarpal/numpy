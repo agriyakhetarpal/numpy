{
    "nbformat": 4,
    "nbformat_minor": 5,
    "metadata": {
        "kernelspec": {
            "display_name": "Python",
            "language": "python",
            "name": "python"
        },
        "language_info": {
            "name": "python"
        }
    },
    "cells": [
        {
            "id": "478db54b",
            "cell_type": "markdown",
            "source": "<div class='alert alert-warning'>\n\nNumPy's interactive examples are experimental and may not always work as expected, with high load times especially on low-resource platforms, and the version of NumPy might not be in sync with the one you are browsing the documentation for. If you encounter any issues, please report them on the [NumPy issue tracker](https://github.com/numpy/numpy/issues).\n\n</div>",
            "metadata": {}
        },
        {
            "id": "85dc657d",
            "cell_type": "markdown",
            "source": "Plot the magnitude and phase of ``exp(x)`` in the complex plane:\n",
            "metadata": {}
        },
        {
            "id": "29ebf4ac",
            "cell_type": "code",
            "metadata": {},
            "execution_count": null,
            "source": "import numpy as np",
            "outputs": []
        },
        {
            "id": "7816b8d9",
            "cell_type": "code",
            "metadata": {},
            "execution_count": null,
            "source": "import matplotlib.pyplot as plt\nimport numpy as np",
            "outputs": []
        },
        {
            "id": "38411ada",
            "cell_type": "code",
            "metadata": {},
            "execution_count": null,
            "source": "x = np.linspace(-2*np.pi, 2*np.pi, 100)\nxx = x + 1j * x[:, np.newaxis] # a + ib over complex plane\nout = np.exp(xx)",
            "outputs": []
        },
        {
            "id": "e7e7f728",
            "cell_type": "code",
            "metadata": {},
            "execution_count": null,
            "source": "plt.subplot(121)\nplt.imshow(np.abs(out),\n           extent=[-2*np.pi, 2*np.pi, -2*np.pi, 2*np.pi], cmap='gray')\nplt.title('Magnitude of exp(x)')",
            "outputs": []
        },
        {
            "id": "a2ebd419",
            "cell_type": "code",
            "metadata": {},
            "execution_count": null,
            "source": "plt.subplot(122)\nplt.imshow(np.angle(out),\n           extent=[-2*np.pi, 2*np.pi, -2*np.pi, 2*np.pi], cmap='hsv')\nplt.title('Phase (angle) of exp(x)')\nplt.show()",
            "outputs": []
        }
    ]
}