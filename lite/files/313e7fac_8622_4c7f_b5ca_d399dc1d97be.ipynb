{
    "nbformat": 4,
    "nbformat_minor": 5,
    "metadata": {
        "kernelspec": {
            "display_name": "Python",
            "language": "python",
            "name": "python"
        },
        "language_info": {
            "name": "python"
        }
    },
    "cells": [
        {
            "id": "9a97f6f2",
            "cell_type": "markdown",
            "source": "<div class='alert alert-warning'>\n\nNumPy's interactive examples are experimental and may not always work as expected, with high load times especially on low-resource platforms, and the version of NumPy might not be in sync with the one you are browsing the documentation for. If you encounter any issues, please report them on the [NumPy issue tracker](https://github.com/numpy/numpy/issues).\n\n</div>",
            "metadata": {}
        },
        {
            "id": "dab696df",
            "cell_type": "code",
            "metadata": {},
            "execution_count": null,
            "source": "mean = (1, 2)\ncov = [[1, 0], [0, 1]]\nx = np.random.multivariate_normal(mean, cov, (3, 3))\nx.shape",
            "outputs": [
                {
                    "output_type": "execute_result",
                    "metadata": {},
                    "data": {
                        "text/plain": "(3, 3, 2)"
                    },
                    "execution_count": null
                }
            ]
        },
        {
            "id": "1680776f",
            "cell_type": "markdown",
            "source": "Here we generate 800 samples from the bivariate normal distribution\nwith mean [0, 0] and covariance matrix [[6, -3], [-3, 3.5]].  The\nexpected variances of the first and second components of the sample\nare 6 and 3.5, respectively, and the expected correlation\ncoefficient is -3/sqrt(6*3.5) ≈ -0.65465.\n",
            "metadata": {}
        },
        {
            "id": "100028e4",
            "cell_type": "code",
            "metadata": {},
            "execution_count": null,
            "source": "cov = np.array([[6, -3], [-3, 3.5]])\npts = np.random.multivariate_normal([0, 0], cov, size=800)",
            "outputs": []
        },
        {
            "id": "e7b854f1",
            "cell_type": "markdown",
            "source": "Check that the mean, covariance, and correlation coefficient of the\nsample are close to the expected values:\n",
            "metadata": {}
        },
        {
            "id": "62d55ab9",
            "cell_type": "code",
            "metadata": {},
            "execution_count": null,
            "source": "pts.mean(axis=0)",
            "outputs": [
                {
                    "output_type": "execute_result",
                    "metadata": {},
                    "data": {
                        "text/plain": "array([ 0.0326911 , -0.01280782])  # may vary"
                    },
                    "execution_count": null
                }
            ]
        },
        {
            "id": "1a128337",
            "cell_type": "code",
            "metadata": {},
            "execution_count": null,
            "source": "np.cov(pts.T)",
            "outputs": [
                {
                    "output_type": "execute_result",
                    "metadata": {},
                    "data": {
                        "text/plain": "array([[ 5.96202397, -2.85602287],\n       [-2.85602287,  3.47613949]])  # may vary"
                    },
                    "execution_count": null
                }
            ]
        },
        {
            "id": "ae700048",
            "cell_type": "code",
            "metadata": {},
            "execution_count": null,
            "source": "np.corrcoef(pts.T)[0, 1]",
            "outputs": [
                {
                    "output_type": "execute_result",
                    "metadata": {},
                    "data": {
                        "text/plain": "-0.6273591314603949  # may vary"
                    },
                    "execution_count": null
                }
            ]
        },
        {
            "id": "d12cf646",
            "cell_type": "markdown",
            "source": "We can visualize this data with a scatter plot.  The orientation\nof the point cloud illustrates the negative correlation of the\ncomponents of this sample.\n",
            "metadata": {}
        },
        {
            "id": "e5c9724a",
            "cell_type": "code",
            "metadata": {},
            "execution_count": null,
            "source": "import matplotlib.pyplot as plt\nplt.plot(pts[:, 0], pts[:, 1], '.', alpha=0.5)\nplt.axis('equal')\nplt.grid()\nplt.show()",
            "outputs": []
        }
    ]
}