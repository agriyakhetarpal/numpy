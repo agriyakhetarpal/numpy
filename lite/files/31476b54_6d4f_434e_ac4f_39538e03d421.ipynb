{
    "nbformat": 4,
    "nbformat_minor": 5,
    "metadata": {
        "kernelspec": {
            "display_name": "Python",
            "language": "python",
            "name": "python"
        },
        "language_info": {
            "name": "python"
        }
    },
    "cells": [
        {
            "id": "537e96a1",
            "cell_type": "markdown",
            "source": "<div class='alert alert-warning'>\n\nNumPy's interactive examples are experimental and may not always work as expected, with high load times especially on low-resource platforms, and the version of NumPy might not be in sync with the one you are browsing the documentation for. If you encounter any issues, please report them on the [NumPy issue tracker](https://github.com/numpy/numpy/issues).\n\n</div>",
            "metadata": {}
        },
        {
            "id": "82415f26",
            "cell_type": "code",
            "metadata": {},
            "execution_count": null,
            "source": "import numpy as np\nx = np.arange(10)\nnp.roll(x, 2)",
            "outputs": [
                {
                    "output_type": "execute_result",
                    "metadata": {},
                    "data": {
                        "text/plain": "array([8, 9, 0, 1, 2, 3, 4, 5, 6, 7])"
                    },
                    "execution_count": null
                }
            ]
        },
        {
            "id": "1c6f7895",
            "cell_type": "code",
            "metadata": {},
            "execution_count": null,
            "source": "np.roll(x, -2)",
            "outputs": [
                {
                    "output_type": "execute_result",
                    "metadata": {},
                    "data": {
                        "text/plain": "array([2, 3, 4, 5, 6, 7, 8, 9, 0, 1])"
                    },
                    "execution_count": null
                }
            ]
        },
        {
            "id": "800d06ca",
            "cell_type": "code",
            "metadata": {},
            "execution_count": null,
            "source": "x2 = np.reshape(x, (2, 5))\nx2",
            "outputs": [
                {
                    "output_type": "execute_result",
                    "metadata": {},
                    "data": {
                        "text/plain": "array([[0, 1, 2, 3, 4],\n       [5, 6, 7, 8, 9]])"
                    },
                    "execution_count": null
                }
            ]
        },
        {
            "id": "8a5624b8",
            "cell_type": "code",
            "metadata": {},
            "execution_count": null,
            "source": "np.roll(x2, 1)",
            "outputs": [
                {
                    "output_type": "execute_result",
                    "metadata": {},
                    "data": {
                        "text/plain": "array([[9, 0, 1, 2, 3],\n       [4, 5, 6, 7, 8]])"
                    },
                    "execution_count": null
                }
            ]
        },
        {
            "id": "7aae91dc",
            "cell_type": "code",
            "metadata": {},
            "execution_count": null,
            "source": "np.roll(x2, -1)",
            "outputs": [
                {
                    "output_type": "execute_result",
                    "metadata": {},
                    "data": {
                        "text/plain": "array([[1, 2, 3, 4, 5],\n       [6, 7, 8, 9, 0]])"
                    },
                    "execution_count": null
                }
            ]
        },
        {
            "id": "db157c9a",
            "cell_type": "code",
            "metadata": {},
            "execution_count": null,
            "source": "np.roll(x2, 1, axis=0)",
            "outputs": [
                {
                    "output_type": "execute_result",
                    "metadata": {},
                    "data": {
                        "text/plain": "array([[5, 6, 7, 8, 9],\n       [0, 1, 2, 3, 4]])"
                    },
                    "execution_count": null
                }
            ]
        },
        {
            "id": "32f3d8fd",
            "cell_type": "code",
            "metadata": {},
            "execution_count": null,
            "source": "np.roll(x2, -1, axis=0)",
            "outputs": [
                {
                    "output_type": "execute_result",
                    "metadata": {},
                    "data": {
                        "text/plain": "array([[5, 6, 7, 8, 9],\n       [0, 1, 2, 3, 4]])"
                    },
                    "execution_count": null
                }
            ]
        },
        {
            "id": "170b42c6",
            "cell_type": "code",
            "metadata": {},
            "execution_count": null,
            "source": "np.roll(x2, 1, axis=1)",
            "outputs": [
                {
                    "output_type": "execute_result",
                    "metadata": {},
                    "data": {
                        "text/plain": "array([[4, 0, 1, 2, 3],\n       [9, 5, 6, 7, 8]])"
                    },
                    "execution_count": null
                }
            ]
        },
        {
            "id": "54d93ff0",
            "cell_type": "code",
            "metadata": {},
            "execution_count": null,
            "source": "np.roll(x2, -1, axis=1)",
            "outputs": [
                {
                    "output_type": "execute_result",
                    "metadata": {},
                    "data": {
                        "text/plain": "array([[1, 2, 3, 4, 0],\n       [6, 7, 8, 9, 5]])"
                    },
                    "execution_count": null
                }
            ]
        },
        {
            "id": "730a89c7",
            "cell_type": "code",
            "metadata": {},
            "execution_count": null,
            "source": "np.roll(x2, (1, 1), axis=(1, 0))",
            "outputs": [
                {
                    "output_type": "execute_result",
                    "metadata": {},
                    "data": {
                        "text/plain": "array([[9, 5, 6, 7, 8],\n       [4, 0, 1, 2, 3]])"
                    },
                    "execution_count": null
                }
            ]
        },
        {
            "id": "3b817530",
            "cell_type": "code",
            "metadata": {},
            "execution_count": null,
            "source": "np.roll(x2, (2, 1), axis=(1, 0))",
            "outputs": [
                {
                    "output_type": "execute_result",
                    "metadata": {},
                    "data": {
                        "text/plain": "array([[8, 9, 5, 6, 7],\n       [3, 4, 0, 1, 2]])"
                    },
                    "execution_count": null
                }
            ]
        }
    ]
}