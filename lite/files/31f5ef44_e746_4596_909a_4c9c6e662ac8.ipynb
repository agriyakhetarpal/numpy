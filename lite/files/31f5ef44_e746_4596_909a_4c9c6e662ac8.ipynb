{
    "nbformat": 4,
    "nbformat_minor": 5,
    "metadata": {
        "kernelspec": {
            "display_name": "Python",
            "language": "python",
            "name": "python"
        },
        "language_info": {
            "name": "python"
        }
    },
    "cells": [
        {
            "id": "51a64ed8",
            "cell_type": "markdown",
            "source": "<div class='alert alert-warning'>\n\nNumPy's interactive examples are experimental and may not always work as expected, with high load times especially on low-resource platforms, and the version of NumPy might not be in sync with the one you are browsing the documentation for. If you encounter any issues, please report them on the [NumPy issue tracker](https://github.com/numpy/numpy/issues).\n\n</div>",
            "metadata": {}
        },
        {
            "id": "7235d80e",
            "cell_type": "code",
            "metadata": {},
            "execution_count": null,
            "source": "import numpy as np\nnp.copysign(1.3, -1)",
            "outputs": [
                {
                    "output_type": "execute_result",
                    "metadata": {},
                    "data": {
                        "text/plain": "-1.3"
                    },
                    "execution_count": null
                }
            ]
        },
        {
            "id": "1262f3c5",
            "cell_type": "code",
            "metadata": {},
            "execution_count": null,
            "source": "1/np.copysign(0, 1)",
            "outputs": [
                {
                    "output_type": "execute_result",
                    "metadata": {},
                    "data": {
                        "text/plain": "inf"
                    },
                    "execution_count": null
                }
            ]
        },
        {
            "id": "55a0e14b",
            "cell_type": "code",
            "metadata": {},
            "execution_count": null,
            "source": "1/np.copysign(0, -1)",
            "outputs": [
                {
                    "output_type": "execute_result",
                    "metadata": {},
                    "data": {
                        "text/plain": "-inf"
                    },
                    "execution_count": null
                }
            ]
        },
        {
            "id": "e9d9f526",
            "cell_type": "code",
            "metadata": {},
            "execution_count": null,
            "source": "np.copysign([-1, 0, 1], -1.1)",
            "outputs": [
                {
                    "output_type": "execute_result",
                    "metadata": {},
                    "data": {
                        "text/plain": "array([-1., -0., -1.])"
                    },
                    "execution_count": null
                }
            ]
        },
        {
            "id": "ba777e7d",
            "cell_type": "code",
            "metadata": {},
            "execution_count": null,
            "source": "np.copysign([-1, 0, 1], np.arange(3)-1)",
            "outputs": [
                {
                    "output_type": "execute_result",
                    "metadata": {},
                    "data": {
                        "text/plain": "array([-1.,  0.,  1.])"
                    },
                    "execution_count": null
                }
            ]
        }
    ]
}