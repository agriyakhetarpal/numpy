{
    "nbformat": 4,
    "nbformat_minor": 5,
    "metadata": {
        "kernelspec": {
            "display_name": "Python",
            "language": "python",
            "name": "python"
        },
        "language_info": {
            "name": "python"
        }
    },
    "cells": [
        {
            "id": "0f6bb1a4",
            "cell_type": "markdown",
            "source": "<div class='alert alert-warning'>\n\nNumPy's interactive examples are experimental and may not always work as expected, with high load times especially on low-resource platforms, , and the version of NumPy might not be in sync with the one you are browsing the documentation for. If you encounter any issues, please report them on the [NumPy issue tracker](https://github.com/numpy/numpy/issues).\n\n</div>",
            "metadata": {}
        },
        {
            "id": "eb464faa",
            "cell_type": "markdown",
            "source": "`issubdtype` can be used to check the type of arrays:\n",
            "metadata": {}
        },
        {
            "id": "43a7cb75",
            "cell_type": "code",
            "metadata": {},
            "execution_count": null,
            "source": "ints = np.array([1, 2, 3], dtype=np.int32)\nnp.issubdtype(ints.dtype, np.integer)",
            "outputs": [
                {
                    "output_type": "execute_result",
                    "metadata": {},
                    "data": {
                        "text/plain": "True"
                    },
                    "execution_count": null
                }
            ]
        },
        {
            "id": "e9c80718",
            "cell_type": "code",
            "metadata": {},
            "execution_count": null,
            "source": "np.issubdtype(ints.dtype, np.floating)",
            "outputs": [
                {
                    "output_type": "execute_result",
                    "metadata": {},
                    "data": {
                        "text/plain": "False"
                    },
                    "execution_count": null
                }
            ]
        },
        {
            "id": "34c834e6",
            "cell_type": "code",
            "metadata": {},
            "execution_count": null,
            "source": "floats = np.array([1, 2, 3], dtype=np.float32)\nnp.issubdtype(floats.dtype, np.integer)",
            "outputs": [
                {
                    "output_type": "execute_result",
                    "metadata": {},
                    "data": {
                        "text/plain": "False"
                    },
                    "execution_count": null
                }
            ]
        },
        {
            "id": "364e4283",
            "cell_type": "code",
            "metadata": {},
            "execution_count": null,
            "source": "np.issubdtype(floats.dtype, np.floating)",
            "outputs": [
                {
                    "output_type": "execute_result",
                    "metadata": {},
                    "data": {
                        "text/plain": "True"
                    },
                    "execution_count": null
                }
            ]
        },
        {
            "id": "bf414ab5",
            "cell_type": "markdown",
            "source": "Similar types of different sizes are not subdtypes of each other:\n",
            "metadata": {}
        },
        {
            "id": "ea0e2081",
            "cell_type": "code",
            "metadata": {},
            "execution_count": null,
            "source": "np.issubdtype(np.float64, np.float32)",
            "outputs": [
                {
                    "output_type": "execute_result",
                    "metadata": {},
                    "data": {
                        "text/plain": "False"
                    },
                    "execution_count": null
                }
            ]
        },
        {
            "id": "1c71b55d",
            "cell_type": "code",
            "metadata": {},
            "execution_count": null,
            "source": "np.issubdtype(np.float32, np.float64)",
            "outputs": [
                {
                    "output_type": "execute_result",
                    "metadata": {},
                    "data": {
                        "text/plain": "False"
                    },
                    "execution_count": null
                }
            ]
        },
        {
            "id": "f41e74ab",
            "cell_type": "markdown",
            "source": "but both are subtypes of `floating`:\n",
            "metadata": {}
        },
        {
            "id": "343a8507",
            "cell_type": "code",
            "metadata": {},
            "execution_count": null,
            "source": "np.issubdtype(np.float64, np.floating)",
            "outputs": [
                {
                    "output_type": "execute_result",
                    "metadata": {},
                    "data": {
                        "text/plain": "True"
                    },
                    "execution_count": null
                }
            ]
        },
        {
            "id": "838338b5",
            "cell_type": "code",
            "metadata": {},
            "execution_count": null,
            "source": "np.issubdtype(np.float32, np.floating)",
            "outputs": [
                {
                    "output_type": "execute_result",
                    "metadata": {},
                    "data": {
                        "text/plain": "True"
                    },
                    "execution_count": null
                }
            ]
        },
        {
            "id": "989bc19e",
            "cell_type": "markdown",
            "source": "For convenience, dtype-like objects are allowed too:\n",
            "metadata": {}
        },
        {
            "id": "77f1dc93",
            "cell_type": "code",
            "metadata": {},
            "execution_count": null,
            "source": "np.issubdtype('S1', np.bytes_)",
            "outputs": [
                {
                    "output_type": "execute_result",
                    "metadata": {},
                    "data": {
                        "text/plain": "True"
                    },
                    "execution_count": null
                }
            ]
        },
        {
            "id": "3ebfe6eb",
            "cell_type": "code",
            "metadata": {},
            "execution_count": null,
            "source": "np.issubdtype('i4', np.signedinteger)",
            "outputs": [
                {
                    "output_type": "execute_result",
                    "metadata": {},
                    "data": {
                        "text/plain": "True"
                    },
                    "execution_count": null
                }
            ]
        }
    ]
}