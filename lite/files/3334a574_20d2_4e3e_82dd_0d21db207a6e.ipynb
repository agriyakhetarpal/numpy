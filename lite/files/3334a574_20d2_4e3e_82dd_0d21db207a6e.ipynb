{
    "nbformat": 4,
    "nbformat_minor": 5,
    "metadata": {
        "kernelspec": {
            "display_name": "Python",
            "language": "python",
            "name": "python"
        },
        "language_info": {
            "name": "python"
        }
    },
    "cells": [
        {
            "id": "38cb9c4c",
            "cell_type": "markdown",
            "source": "<div class='alert alert-warning'>\n\nNumPy's interactive examples are experimental and may not always work as expected, with high load times especially on low-resource platforms, and the version of NumPy might not be in sync with the one you are browsing the documentation for. If you encounter any issues, please report them on the [NumPy issue tracker](https://github.com/numpy/numpy/issues).\n\n</div>",
            "metadata": {}
        },
        {
            "id": "0371a18d",
            "cell_type": "code",
            "metadata": {},
            "execution_count": null,
            "source": "a = np.arange(25).reshape(5,5)\nb = np.arange(5)\nc = np.arange(6).reshape(2,3)",
            "outputs": []
        },
        {
            "id": "e1669071",
            "cell_type": "markdown",
            "source": "Trace of a matrix:\n",
            "metadata": {}
        },
        {
            "id": "8278cb62",
            "cell_type": "code",
            "metadata": {},
            "execution_count": null,
            "source": "np.einsum('ii', a)",
            "outputs": [
                {
                    "output_type": "execute_result",
                    "metadata": {},
                    "data": {
                        "text/plain": "60"
                    },
                    "execution_count": null
                }
            ]
        },
        {
            "id": "339d1db1",
            "cell_type": "code",
            "metadata": {},
            "execution_count": null,
            "source": "np.einsum(a, [0,0])",
            "outputs": [
                {
                    "output_type": "execute_result",
                    "metadata": {},
                    "data": {
                        "text/plain": "60"
                    },
                    "execution_count": null
                }
            ]
        },
        {
            "id": "1b5bda23",
            "cell_type": "code",
            "metadata": {},
            "execution_count": null,
            "source": "np.trace(a)",
            "outputs": [
                {
                    "output_type": "execute_result",
                    "metadata": {},
                    "data": {
                        "text/plain": "60"
                    },
                    "execution_count": null
                }
            ]
        },
        {
            "id": "0458e58e",
            "cell_type": "markdown",
            "source": "Extract the diagonal (requires explicit form):\n",
            "metadata": {}
        },
        {
            "id": "a4ab8813",
            "cell_type": "code",
            "metadata": {},
            "execution_count": null,
            "source": "np.einsum('ii->i', a)",
            "outputs": [
                {
                    "output_type": "execute_result",
                    "metadata": {},
                    "data": {
                        "text/plain": "array([ 0,  6, 12, 18, 24])"
                    },
                    "execution_count": null
                }
            ]
        },
        {
            "id": "6b40a1f1",
            "cell_type": "code",
            "metadata": {},
            "execution_count": null,
            "source": "np.einsum(a, [0,0], [0])",
            "outputs": [
                {
                    "output_type": "execute_result",
                    "metadata": {},
                    "data": {
                        "text/plain": "array([ 0,  6, 12, 18, 24])"
                    },
                    "execution_count": null
                }
            ]
        },
        {
            "id": "949411aa",
            "cell_type": "code",
            "metadata": {},
            "execution_count": null,
            "source": "np.diag(a)",
            "outputs": [
                {
                    "output_type": "execute_result",
                    "metadata": {},
                    "data": {
                        "text/plain": "array([ 0,  6, 12, 18, 24])"
                    },
                    "execution_count": null
                }
            ]
        },
        {
            "id": "9262baa5",
            "cell_type": "markdown",
            "source": "Sum over an axis (requires explicit form):\n",
            "metadata": {}
        },
        {
            "id": "340cf1fc",
            "cell_type": "code",
            "metadata": {},
            "execution_count": null,
            "source": "np.einsum('ij->i', a)",
            "outputs": [
                {
                    "output_type": "execute_result",
                    "metadata": {},
                    "data": {
                        "text/plain": "array([ 10,  35,  60,  85, 110])"
                    },
                    "execution_count": null
                }
            ]
        },
        {
            "id": "8b05fa6a",
            "cell_type": "code",
            "metadata": {},
            "execution_count": null,
            "source": "np.einsum(a, [0,1], [0])",
            "outputs": [
                {
                    "output_type": "execute_result",
                    "metadata": {},
                    "data": {
                        "text/plain": "array([ 10,  35,  60,  85, 110])"
                    },
                    "execution_count": null
                }
            ]
        },
        {
            "id": "41680e7b",
            "cell_type": "code",
            "metadata": {},
            "execution_count": null,
            "source": "np.sum(a, axis=1)",
            "outputs": [
                {
                    "output_type": "execute_result",
                    "metadata": {},
                    "data": {
                        "text/plain": "array([ 10,  35,  60,  85, 110])"
                    },
                    "execution_count": null
                }
            ]
        },
        {
            "id": "d2852e44",
            "cell_type": "markdown",
            "source": "For higher dimensional arrays summing a single axis can be done\nwith ellipsis:\n",
            "metadata": {}
        },
        {
            "id": "0bf10aa3",
            "cell_type": "code",
            "metadata": {},
            "execution_count": null,
            "source": "np.einsum('...j->...', a)",
            "outputs": [
                {
                    "output_type": "execute_result",
                    "metadata": {},
                    "data": {
                        "text/plain": "array([ 10,  35,  60,  85, 110])"
                    },
                    "execution_count": null
                }
            ]
        },
        {
            "id": "df49726c",
            "cell_type": "code",
            "metadata": {},
            "execution_count": null,
            "source": "np.einsum(a, [Ellipsis,1], [Ellipsis])",
            "outputs": [
                {
                    "output_type": "execute_result",
                    "metadata": {},
                    "data": {
                        "text/plain": "array([ 10,  35,  60,  85, 110])"
                    },
                    "execution_count": null
                }
            ]
        },
        {
            "id": "c5526db2",
            "cell_type": "markdown",
            "source": "Compute a matrix transpose, or reorder any number of axes:\n",
            "metadata": {}
        },
        {
            "id": "4c32e031",
            "cell_type": "code",
            "metadata": {},
            "execution_count": null,
            "source": "np.einsum('ji', c)",
            "outputs": [
                {
                    "output_type": "execute_result",
                    "metadata": {},
                    "data": {
                        "text/plain": "array([[0, 3],\n       [1, 4],\n       [2, 5]])"
                    },
                    "execution_count": null
                }
            ]
        },
        {
            "id": "fa46fa8a",
            "cell_type": "code",
            "metadata": {},
            "execution_count": null,
            "source": "np.einsum('ij->ji', c)",
            "outputs": [
                {
                    "output_type": "execute_result",
                    "metadata": {},
                    "data": {
                        "text/plain": "array([[0, 3],\n       [1, 4],\n       [2, 5]])"
                    },
                    "execution_count": null
                }
            ]
        },
        {
            "id": "64788415",
            "cell_type": "code",
            "metadata": {},
            "execution_count": null,
            "source": "np.einsum(c, [1,0])",
            "outputs": [
                {
                    "output_type": "execute_result",
                    "metadata": {},
                    "data": {
                        "text/plain": "array([[0, 3],\n       [1, 4],\n       [2, 5]])"
                    },
                    "execution_count": null
                }
            ]
        },
        {
            "id": "290e8a67",
            "cell_type": "code",
            "metadata": {},
            "execution_count": null,
            "source": "np.transpose(c)",
            "outputs": [
                {
                    "output_type": "execute_result",
                    "metadata": {},
                    "data": {
                        "text/plain": "array([[0, 3],\n       [1, 4],\n       [2, 5]])"
                    },
                    "execution_count": null
                }
            ]
        },
        {
            "id": "428c7f4c",
            "cell_type": "markdown",
            "source": "Vector inner products:\n",
            "metadata": {}
        },
        {
            "id": "e041c5c4",
            "cell_type": "code",
            "metadata": {},
            "execution_count": null,
            "source": "np.einsum('i,i', b, b)",
            "outputs": [
                {
                    "output_type": "execute_result",
                    "metadata": {},
                    "data": {
                        "text/plain": "30"
                    },
                    "execution_count": null
                }
            ]
        },
        {
            "id": "415dbe3a",
            "cell_type": "code",
            "metadata": {},
            "execution_count": null,
            "source": "np.einsum(b, [0], b, [0])",
            "outputs": [
                {
                    "output_type": "execute_result",
                    "metadata": {},
                    "data": {
                        "text/plain": "30"
                    },
                    "execution_count": null
                }
            ]
        },
        {
            "id": "5a378b3b",
            "cell_type": "code",
            "metadata": {},
            "execution_count": null,
            "source": "np.inner(b,b)",
            "outputs": [
                {
                    "output_type": "execute_result",
                    "metadata": {},
                    "data": {
                        "text/plain": "30"
                    },
                    "execution_count": null
                }
            ]
        },
        {
            "id": "1156e3b4",
            "cell_type": "markdown",
            "source": "Matrix vector multiplication:\n",
            "metadata": {}
        },
        {
            "id": "75a972b7",
            "cell_type": "code",
            "metadata": {},
            "execution_count": null,
            "source": "np.einsum('ij,j', a, b)",
            "outputs": [
                {
                    "output_type": "execute_result",
                    "metadata": {},
                    "data": {
                        "text/plain": "array([ 30,  80, 130, 180, 230])"
                    },
                    "execution_count": null
                }
            ]
        },
        {
            "id": "02f0b418",
            "cell_type": "code",
            "metadata": {},
            "execution_count": null,
            "source": "np.einsum(a, [0,1], b, [1])",
            "outputs": [
                {
                    "output_type": "execute_result",
                    "metadata": {},
                    "data": {
                        "text/plain": "array([ 30,  80, 130, 180, 230])"
                    },
                    "execution_count": null
                }
            ]
        },
        {
            "id": "eef7b5a3",
            "cell_type": "code",
            "metadata": {},
            "execution_count": null,
            "source": "np.dot(a, b)",
            "outputs": [
                {
                    "output_type": "execute_result",
                    "metadata": {},
                    "data": {
                        "text/plain": "array([ 30,  80, 130, 180, 230])"
                    },
                    "execution_count": null
                }
            ]
        },
        {
            "id": "9977e433",
            "cell_type": "code",
            "metadata": {},
            "execution_count": null,
            "source": "np.einsum('...j,j', a, b)",
            "outputs": [
                {
                    "output_type": "execute_result",
                    "metadata": {},
                    "data": {
                        "text/plain": "array([ 30,  80, 130, 180, 230])"
                    },
                    "execution_count": null
                }
            ]
        },
        {
            "id": "fa152258",
            "cell_type": "markdown",
            "source": "Broadcasting and scalar multiplication:\n",
            "metadata": {}
        },
        {
            "id": "67c41245",
            "cell_type": "code",
            "metadata": {},
            "execution_count": null,
            "source": "np.einsum('..., ...', 3, c)",
            "outputs": [
                {
                    "output_type": "execute_result",
                    "metadata": {},
                    "data": {
                        "text/plain": "array([[ 0,  3,  6],\n       [ 9, 12, 15]])"
                    },
                    "execution_count": null
                }
            ]
        },
        {
            "id": "621e1f34",
            "cell_type": "code",
            "metadata": {},
            "execution_count": null,
            "source": "np.einsum(',ij', 3, c)",
            "outputs": [
                {
                    "output_type": "execute_result",
                    "metadata": {},
                    "data": {
                        "text/plain": "array([[ 0,  3,  6],\n       [ 9, 12, 15]])"
                    },
                    "execution_count": null
                }
            ]
        },
        {
            "id": "d05d8f24",
            "cell_type": "code",
            "metadata": {},
            "execution_count": null,
            "source": "np.einsum(3, [Ellipsis], c, [Ellipsis])",
            "outputs": [
                {
                    "output_type": "execute_result",
                    "metadata": {},
                    "data": {
                        "text/plain": "array([[ 0,  3,  6],\n       [ 9, 12, 15]])"
                    },
                    "execution_count": null
                }
            ]
        },
        {
            "id": "4b23f840",
            "cell_type": "code",
            "metadata": {},
            "execution_count": null,
            "source": "np.multiply(3, c)",
            "outputs": [
                {
                    "output_type": "execute_result",
                    "metadata": {},
                    "data": {
                        "text/plain": "array([[ 0,  3,  6],\n       [ 9, 12, 15]])"
                    },
                    "execution_count": null
                }
            ]
        },
        {
            "id": "6b8c58b2",
            "cell_type": "markdown",
            "source": "Vector outer product:\n",
            "metadata": {}
        },
        {
            "id": "05488967",
            "cell_type": "code",
            "metadata": {},
            "execution_count": null,
            "source": "np.einsum('i,j', np.arange(2)+1, b)",
            "outputs": [
                {
                    "output_type": "execute_result",
                    "metadata": {},
                    "data": {
                        "text/plain": "array([[0, 1, 2, 3, 4],\n       [0, 2, 4, 6, 8]])"
                    },
                    "execution_count": null
                }
            ]
        },
        {
            "id": "9f49000f",
            "cell_type": "code",
            "metadata": {},
            "execution_count": null,
            "source": "np.einsum(np.arange(2)+1, [0], b, [1])",
            "outputs": [
                {
                    "output_type": "execute_result",
                    "metadata": {},
                    "data": {
                        "text/plain": "array([[0, 1, 2, 3, 4],\n       [0, 2, 4, 6, 8]])"
                    },
                    "execution_count": null
                }
            ]
        },
        {
            "id": "917d8e41",
            "cell_type": "code",
            "metadata": {},
            "execution_count": null,
            "source": "np.outer(np.arange(2)+1, b)",
            "outputs": [
                {
                    "output_type": "execute_result",
                    "metadata": {},
                    "data": {
                        "text/plain": "array([[0, 1, 2, 3, 4],\n       [0, 2, 4, 6, 8]])"
                    },
                    "execution_count": null
                }
            ]
        },
        {
            "id": "5b930f1d",
            "cell_type": "markdown",
            "source": "Tensor contraction:\n",
            "metadata": {}
        },
        {
            "id": "bcf87593",
            "cell_type": "code",
            "metadata": {},
            "execution_count": null,
            "source": "a = np.arange(60.).reshape(3,4,5)\nb = np.arange(24.).reshape(4,3,2)\nnp.einsum('ijk,jil->kl', a, b)",
            "outputs": [
                {
                    "output_type": "execute_result",
                    "metadata": {},
                    "data": {
                        "text/plain": "array([[4400., 4730.],\n       [4532., 4874.],\n       [4664., 5018.],\n       [4796., 5162.],\n       [4928., 5306.]])"
                    },
                    "execution_count": null
                }
            ]
        },
        {
            "id": "3877a61b",
            "cell_type": "code",
            "metadata": {},
            "execution_count": null,
            "source": "np.einsum(a, [0,1,2], b, [1,0,3], [2,3])",
            "outputs": [
                {
                    "output_type": "execute_result",
                    "metadata": {},
                    "data": {
                        "text/plain": "array([[4400., 4730.],\n       [4532., 4874.],\n       [4664., 5018.],\n       [4796., 5162.],\n       [4928., 5306.]])"
                    },
                    "execution_count": null
                }
            ]
        },
        {
            "id": "901e9f78",
            "cell_type": "code",
            "metadata": {},
            "execution_count": null,
            "source": "np.tensordot(a,b, axes=([1,0],[0,1]))",
            "outputs": [
                {
                    "output_type": "execute_result",
                    "metadata": {},
                    "data": {
                        "text/plain": "array([[4400., 4730.],\n       [4532., 4874.],\n       [4664., 5018.],\n       [4796., 5162.],\n       [4928., 5306.]])"
                    },
                    "execution_count": null
                }
            ]
        },
        {
            "id": "532bbdad",
            "cell_type": "markdown",
            "source": "Writeable returned arrays (since version 1.10.0):\n",
            "metadata": {}
        },
        {
            "id": "285bcefb",
            "cell_type": "code",
            "metadata": {},
            "execution_count": null,
            "source": "a = np.zeros((3, 3))\nnp.einsum('ii->i', a)[:] = 1\na",
            "outputs": [
                {
                    "output_type": "execute_result",
                    "metadata": {},
                    "data": {
                        "text/plain": "array([[1., 0., 0.],\n       [0., 1., 0.],\n       [0., 0., 1.]])"
                    },
                    "execution_count": null
                }
            ]
        },
        {
            "id": "911c5885",
            "cell_type": "markdown",
            "source": "Example of ellipsis use:\n",
            "metadata": {}
        },
        {
            "id": "d3becd82",
            "cell_type": "code",
            "metadata": {},
            "execution_count": null,
            "source": "a = np.arange(6).reshape((3,2))\nb = np.arange(12).reshape((4,3))\nnp.einsum('ki,jk->ij', a, b)",
            "outputs": [
                {
                    "output_type": "execute_result",
                    "metadata": {},
                    "data": {
                        "text/plain": "array([[10, 28, 46, 64],\n       [13, 40, 67, 94]])"
                    },
                    "execution_count": null
                }
            ]
        },
        {
            "id": "4a09ea56",
            "cell_type": "code",
            "metadata": {},
            "execution_count": null,
            "source": "np.einsum('ki,...k->i...', a, b)",
            "outputs": [
                {
                    "output_type": "execute_result",
                    "metadata": {},
                    "data": {
                        "text/plain": "array([[10, 28, 46, 64],\n       [13, 40, 67, 94]])"
                    },
                    "execution_count": null
                }
            ]
        },
        {
            "id": "a4d8cdb8",
            "cell_type": "code",
            "metadata": {},
            "execution_count": null,
            "source": "np.einsum('k...,jk', a, b)",
            "outputs": [
                {
                    "output_type": "execute_result",
                    "metadata": {},
                    "data": {
                        "text/plain": "array([[10, 28, 46, 64],\n       [13, 40, 67, 94]])"
                    },
                    "execution_count": null
                }
            ]
        },
        {
            "id": "145e4b67",
            "cell_type": "markdown",
            "source": "Chained array operations. For more complicated contractions, speed ups\nmight be achieved by repeatedly computing a 'greedy' path or pre-computing\nthe 'optimal' path and repeatedly applying it, using an `einsum_path`\ninsertion (since version 1.12.0). Performance improvements can be\nparticularly significant with larger arrays:\n",
            "metadata": {}
        },
        {
            "id": "d76b2239",
            "cell_type": "code",
            "metadata": {},
            "execution_count": null,
            "source": "a = np.ones(64).reshape(2,4,8)",
            "outputs": []
        },
        {
            "id": "9fae76bd",
            "cell_type": "markdown",
            "source": "Basic `einsum`: ~1520ms  (benchmarked on 3.1GHz Intel i5.)\n",
            "metadata": {}
        },
        {
            "id": "fb5d4be9",
            "cell_type": "code",
            "metadata": {},
            "execution_count": null,
            "source": "for iteration in range(500):\n    _ = np.einsum('ijk,ilm,njm,nlk,abc->',a,a,a,a,a)",
            "outputs": []
        },
        {
            "id": "aae4ed2a",
            "cell_type": "markdown",
            "source": "Sub-optimal `einsum` (due to repeated path calculation time): ~330ms\n",
            "metadata": {}
        },
        {
            "id": "f9d6b721",
            "cell_type": "code",
            "metadata": {},
            "execution_count": null,
            "source": "for iteration in range(500):\n    _ = np.einsum('ijk,ilm,njm,nlk,abc->',a,a,a,a,a,\n        optimize='optimal')",
            "outputs": []
        },
        {
            "id": "1aa42058",
            "cell_type": "markdown",
            "source": "Greedy `einsum` (faster optimal path approximation): ~160ms\n",
            "metadata": {}
        },
        {
            "id": "b9b190ad",
            "cell_type": "code",
            "metadata": {},
            "execution_count": null,
            "source": "for iteration in range(500):\n    _ = np.einsum('ijk,ilm,njm,nlk,abc->',a,a,a,a,a, optimize='greedy')",
            "outputs": []
        },
        {
            "id": "08160ff3",
            "cell_type": "markdown",
            "source": "Optimal `einsum` (best usage pattern in some use cases): ~110ms\n",
            "metadata": {}
        },
        {
            "id": "0c843f6a",
            "cell_type": "code",
            "metadata": {},
            "execution_count": null,
            "source": "path = np.einsum_path('ijk,ilm,njm,nlk,abc->',a,a,a,a,a, \n    optimize='optimal')[0]\nfor iteration in range(500):\n    _ = np.einsum('ijk,ilm,njm,nlk,abc->',a,a,a,a,a, optimize=path)",
            "outputs": []
        }
    ]
}