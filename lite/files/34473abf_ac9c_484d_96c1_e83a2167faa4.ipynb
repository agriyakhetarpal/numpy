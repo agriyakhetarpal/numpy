{
    "nbformat": 4,
    "nbformat_minor": 5,
    "metadata": {
        "kernelspec": {
            "display_name": "Python",
            "language": "python",
            "name": "python"
        },
        "language_info": {
            "name": "python"
        }
    },
    "cells": [
        {
            "id": "25dc68f0",
            "cell_type": "markdown",
            "source": "<div class='alert alert-warning'>\n\nNumPy's interactive examples are experimental and may not always work as expected, with high load times especially on low-resource platforms, , and the version of NumPy might not be in sync with the one you are browsing the documentation for. If you encounter any issues, please report them on the [NumPy issue tracker](https://github.com/numpy/numpy/issues).\n\n</div>",
            "metadata": {}
        },
        {
            "id": "a2a1086f",
            "cell_type": "code",
            "metadata": {},
            "execution_count": null,
            "source": "import numpy as np\ny = np.reshape(np.arange(2*3*4), (2,3,4))\ny",
            "outputs": [
                {
                    "output_type": "execute_result",
                    "metadata": {},
                    "data": {
                        "text/plain": "array([[[ 0,  1,  2,  3],\n        [ 4,  5,  6,  7],\n        [ 8,  9, 10, 11]],\n       [[12, 13, 14, 15],\n        [16, 17, 18, 19],\n        [20, 21, 22, 23]]])"
                    },
                    "execution_count": null
                }
            ]
        },
        {
            "id": "b45febdd",
            "cell_type": "code",
            "metadata": {},
            "execution_count": null,
            "source": "y.strides",
            "outputs": [
                {
                    "output_type": "execute_result",
                    "metadata": {},
                    "data": {
                        "text/plain": "(48, 16, 4)"
                    },
                    "execution_count": null
                }
            ]
        },
        {
            "id": "11b4e1b6",
            "cell_type": "code",
            "metadata": {},
            "execution_count": null,
            "source": "y[1,1,1]",
            "outputs": [
                {
                    "output_type": "execute_result",
                    "metadata": {},
                    "data": {
                        "text/plain": "17"
                    },
                    "execution_count": null
                }
            ]
        },
        {
            "id": "22787a36",
            "cell_type": "code",
            "metadata": {},
            "execution_count": null,
            "source": "offset=sum(y.strides * np.array((1,1,1)))\noffset/y.itemsize",
            "outputs": [
                {
                    "output_type": "execute_result",
                    "metadata": {},
                    "data": {
                        "text/plain": "17"
                    },
                    "execution_count": null
                }
            ]
        },
        {
            "id": "8916064d",
            "cell_type": "code",
            "metadata": {},
            "execution_count": null,
            "source": "x = np.reshape(np.arange(5*6*7*8), (5,6,7,8)).transpose(2,3,1,0)\nx.strides",
            "outputs": [
                {
                    "output_type": "execute_result",
                    "metadata": {},
                    "data": {
                        "text/plain": "(32, 4, 224, 1344)"
                    },
                    "execution_count": null
                }
            ]
        },
        {
            "id": "4f7eccf3",
            "cell_type": "code",
            "metadata": {},
            "execution_count": null,
            "source": "i = np.array([3,5,2,2])\noffset = sum(i * x.strides)\nx[3,5,2,2]",
            "outputs": [
                {
                    "output_type": "execute_result",
                    "metadata": {},
                    "data": {
                        "text/plain": "813"
                    },
                    "execution_count": null
                }
            ]
        },
        {
            "id": "d6c50b97",
            "cell_type": "code",
            "metadata": {},
            "execution_count": null,
            "source": "offset / x.itemsize",
            "outputs": [
                {
                    "output_type": "execute_result",
                    "metadata": {},
                    "data": {
                        "text/plain": "813"
                    },
                    "execution_count": null
                }
            ]
        }
    ]
}