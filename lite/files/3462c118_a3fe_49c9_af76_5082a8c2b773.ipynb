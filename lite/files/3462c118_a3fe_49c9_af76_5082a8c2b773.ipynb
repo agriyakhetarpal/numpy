{
    "nbformat": 4,
    "nbformat_minor": 5,
    "metadata": {
        "kernelspec": {
            "display_name": "Python",
            "language": "python",
            "name": "python"
        },
        "language_info": {
            "name": "python"
        }
    },
    "cells": [
        {
            "id": "658f9765",
            "cell_type": "markdown",
            "source": "<div class='alert alert-warning'>\n\nNumPy's interactive examples are experimental and may not always work as expected, with high load times especially on low-resource platforms, and the version of NumPy might not be in sync with the one you are browsing the documentation for. If you encounter any issues, please report them on the [NumPy issue tracker](https://github.com/numpy/numpy/issues).\n\n</div>",
            "metadata": {}
        },
        {
            "id": "2d1d5142",
            "cell_type": "code",
            "metadata": {},
            "execution_count": null,
            "source": "import sys\nsys_is_le = sys.byteorder == 'little'\nnative_code = '<' if sys_is_le else '>'\nswapped_code = '>' if sys_is_le else '<'\nimport numpy as np\nnative_dt = np.dtype(native_code+'i2')\nswapped_dt = np.dtype(swapped_code+'i2')\nnative_dt.newbyteorder('S') == swapped_dt",
            "outputs": [
                {
                    "output_type": "execute_result",
                    "metadata": {},
                    "data": {
                        "text/plain": "True"
                    },
                    "execution_count": null
                }
            ]
        },
        {
            "id": "d6bcfbb0",
            "cell_type": "code",
            "metadata": {},
            "execution_count": null,
            "source": "native_dt.newbyteorder() == swapped_dt",
            "outputs": [
                {
                    "output_type": "execute_result",
                    "metadata": {},
                    "data": {
                        "text/plain": "True"
                    },
                    "execution_count": null
                }
            ]
        },
        {
            "id": "ce407f0e",
            "cell_type": "code",
            "metadata": {},
            "execution_count": null,
            "source": "native_dt == swapped_dt.newbyteorder('S')",
            "outputs": [
                {
                    "output_type": "execute_result",
                    "metadata": {},
                    "data": {
                        "text/plain": "True"
                    },
                    "execution_count": null
                }
            ]
        },
        {
            "id": "edd85ff4",
            "cell_type": "code",
            "metadata": {},
            "execution_count": null,
            "source": "native_dt == swapped_dt.newbyteorder('=')",
            "outputs": [
                {
                    "output_type": "execute_result",
                    "metadata": {},
                    "data": {
                        "text/plain": "True"
                    },
                    "execution_count": null
                }
            ]
        },
        {
            "id": "154b60c8",
            "cell_type": "code",
            "metadata": {},
            "execution_count": null,
            "source": "native_dt == swapped_dt.newbyteorder('N')",
            "outputs": [
                {
                    "output_type": "execute_result",
                    "metadata": {},
                    "data": {
                        "text/plain": "True"
                    },
                    "execution_count": null
                }
            ]
        },
        {
            "id": "02b09858",
            "cell_type": "code",
            "metadata": {},
            "execution_count": null,
            "source": "native_dt == native_dt.newbyteorder('|')",
            "outputs": [
                {
                    "output_type": "execute_result",
                    "metadata": {},
                    "data": {
                        "text/plain": "True"
                    },
                    "execution_count": null
                }
            ]
        },
        {
            "id": "3bae5172",
            "cell_type": "code",
            "metadata": {},
            "execution_count": null,
            "source": "np.dtype('<i2') == native_dt.newbyteorder('<')",
            "outputs": [
                {
                    "output_type": "execute_result",
                    "metadata": {},
                    "data": {
                        "text/plain": "True"
                    },
                    "execution_count": null
                }
            ]
        },
        {
            "id": "6f75d82e",
            "cell_type": "code",
            "metadata": {},
            "execution_count": null,
            "source": "np.dtype('<i2') == native_dt.newbyteorder('L')",
            "outputs": [
                {
                    "output_type": "execute_result",
                    "metadata": {},
                    "data": {
                        "text/plain": "True"
                    },
                    "execution_count": null
                }
            ]
        },
        {
            "id": "135c3fdb",
            "cell_type": "code",
            "metadata": {},
            "execution_count": null,
            "source": "np.dtype('>i2') == native_dt.newbyteorder('>')",
            "outputs": [
                {
                    "output_type": "execute_result",
                    "metadata": {},
                    "data": {
                        "text/plain": "True"
                    },
                    "execution_count": null
                }
            ]
        },
        {
            "id": "03599345",
            "cell_type": "code",
            "metadata": {},
            "execution_count": null,
            "source": "np.dtype('>i2') == native_dt.newbyteorder('B')",
            "outputs": [
                {
                    "output_type": "execute_result",
                    "metadata": {},
                    "data": {
                        "text/plain": "True"
                    },
                    "execution_count": null
                }
            ]
        }
    ]
}