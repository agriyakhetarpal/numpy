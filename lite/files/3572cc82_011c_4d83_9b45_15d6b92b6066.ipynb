{
    "nbformat": 4,
    "nbformat_minor": 5,
    "metadata": {
        "kernelspec": {
            "display_name": "Python",
            "language": "python",
            "name": "python"
        },
        "language_info": {
            "name": "python"
        }
    },
    "cells": [
        {
            "id": "01f5dc39",
            "cell_type": "markdown",
            "source": "<div class='alert alert-warning'>\n\nNumPy's interactive examples are experimental and may not always work as expected, with high load times especially on low-resource platforms, and the version of NumPy might not be in sync with the one you are browsing the documentation for. If you encounter any issues, please report them on the [NumPy issue tracker](https://github.com/numpy/numpy/issues).\n\n</div>",
            "metadata": {}
        },
        {
            "id": "21104060",
            "cell_type": "code",
            "metadata": {},
            "execution_count": null,
            "source": "import numpy as np",
            "outputs": []
        },
        {
            "id": "f02fb062",
            "cell_type": "markdown",
            "source": "We expect the arccos of 1 to be 0, and of -1 to be pi:\n",
            "metadata": {}
        },
        {
            "id": "47b5f96f",
            "cell_type": "code",
            "metadata": {},
            "execution_count": null,
            "source": "np.arccos([1, -1])",
            "outputs": [
                {
                    "output_type": "execute_result",
                    "metadata": {},
                    "data": {
                        "text/plain": "array([ 0.        ,  3.14159265])"
                    },
                    "execution_count": null
                }
            ]
        },
        {
            "id": "693191e5",
            "cell_type": "markdown",
            "source": "Plot arccos:\n",
            "metadata": {}
        },
        {
            "id": "d91708c1",
            "cell_type": "code",
            "metadata": {},
            "execution_count": null,
            "source": "import matplotlib.pyplot as plt\nx = np.linspace(-1, 1, num=100)\nplt.plot(x, np.arccos(x))\nplt.axis('tight')\nplt.show()",
            "outputs": []
        }
    ]
}