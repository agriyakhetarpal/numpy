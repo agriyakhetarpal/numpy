{
    "nbformat": 4,
    "nbformat_minor": 5,
    "metadata": {
        "kernelspec": {
            "display_name": "Python",
            "language": "python",
            "name": "python"
        },
        "language_info": {
            "name": "python"
        }
    },
    "cells": [
        {
            "id": "09d324a4",
            "cell_type": "markdown",
            "source": "<div class='alert alert-warning'>\n\nNumPy's interactive examples are experimental and may not always work as expected, with high load times especially on low-resource platforms, , and the version of NumPy might not be in sync with the one you are browsing the documentation for. If you encounter any issues, please report them on the [NumPy issue tracker](https://github.com/numpy/numpy/issues).\n\n</div>",
            "metadata": {}
        },
        {
            "id": "ce299d15",
            "cell_type": "markdown",
            "source": "The determinant of a 2-D array [[a, b], [c, d]] is ad - bc:\n",
            "metadata": {}
        },
        {
            "id": "cbefcace",
            "cell_type": "code",
            "metadata": {},
            "execution_count": null,
            "source": "import numpy as np\na = np.array([[1, 2], [3, 4]])\nnp.linalg.det(a)",
            "outputs": [
                {
                    "output_type": "execute_result",
                    "metadata": {},
                    "data": {
                        "text/plain": "-2.0 # may vary"
                    },
                    "execution_count": null
                }
            ]
        },
        {
            "id": "c101252e",
            "cell_type": "markdown",
            "source": "Computing determinants for a stack of matrices:\n",
            "metadata": {}
        },
        {
            "id": "2a376f5f",
            "cell_type": "code",
            "metadata": {},
            "execution_count": null,
            "source": "a = np.array([ [[1, 2], [3, 4]], [[1, 2], [2, 1]], [[1, 3], [3, 1]] ])\na.shape",
            "outputs": [
                {
                    "output_type": "execute_result",
                    "metadata": {},
                    "data": {
                        "text/plain": "(3, 2, 2)"
                    },
                    "execution_count": null
                }
            ]
        },
        {
            "id": "d7f233e6",
            "cell_type": "code",
            "metadata": {},
            "execution_count": null,
            "source": "np.linalg.det(a)",
            "outputs": [
                {
                    "output_type": "execute_result",
                    "metadata": {},
                    "data": {
                        "text/plain": "array([-2., -3., -8.])"
                    },
                    "execution_count": null
                }
            ]
        }
    ]
}