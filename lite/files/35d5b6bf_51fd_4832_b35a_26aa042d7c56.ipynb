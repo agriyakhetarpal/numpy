{
    "nbformat": 4,
    "nbformat_minor": 5,
    "metadata": {
        "kernelspec": {
            "display_name": "Python",
            "language": "python",
            "name": "python"
        },
        "language_info": {
            "name": "python"
        }
    },
    "cells": [
        {
            "id": "70a93ad8",
            "cell_type": "markdown",
            "source": "<div class='alert alert-warning'>\n\nNumPy's interactive examples are experimental and may not always work as expected, with high load times especially on low-resource platforms, , and the version of NumPy might not be in sync with the one you are browsing the documentation for. If you encounter any issues, please report them on the [NumPy issue tracker](https://github.com/numpy/numpy/issues).\n\n</div>",
            "metadata": {}
        },
        {
            "id": "09c00c05",
            "cell_type": "code",
            "metadata": {},
            "execution_count": null,
            "source": "import numpy as np\nrng = np.random.default_rng()",
            "outputs": []
        },
        {
            "id": "be169372",
            "cell_type": "markdown",
            "source": "Generate one random float uniformly distributed over the range [0, 1)\n",
            "metadata": {}
        },
        {
            "id": "5f4f5b74",
            "cell_type": "code",
            "metadata": {},
            "execution_count": null,
            "source": "rng.random()  #doctest: +SKIP",
            "outputs": [
                {
                    "output_type": "execute_result",
                    "metadata": {},
                    "data": {
                        "text/plain": "0.06369197489564249  # may vary"
                    },
                    "execution_count": null
                }
            ]
        },
        {
            "id": "e948d02d",
            "cell_type": "markdown",
            "source": "Generate an array of 10 numbers according to a unit Gaussian distribution\n",
            "metadata": {}
        },
        {
            "id": "f58a444f",
            "cell_type": "code",
            "metadata": {},
            "execution_count": null,
            "source": "rng.standard_normal(10)  #doctest: +SKIP",
            "outputs": [
                {
                    "output_type": "execute_result",
                    "metadata": {},
                    "data": {
                        "text/plain": "array([-0.31018314, -1.8922078 , -0.3628523 , -0.63526532,  0.43181166,  # may vary\n        0.51640373,  1.25693945,  0.07779185,  0.84090247, -2.13406828])"
                    },
                    "execution_count": null
                }
            ]
        },
        {
            "id": "883bb3a3",
            "cell_type": "markdown",
            "source": "Generate an array of 5 integers uniformly over the range [0, 10)\n",
            "metadata": {}
        },
        {
            "id": "dd35ca5d",
            "cell_type": "code",
            "metadata": {},
            "execution_count": null,
            "source": "rng.integers(low=0, high=10, size=5)  #doctest: +SKIP",
            "outputs": [
                {
                    "output_type": "execute_result",
                    "metadata": {},
                    "data": {
                        "text/plain": "array([8, 7, 6, 2, 0])  # may vary"
                    },
                    "execution_count": null
                }
            ]
        }
    ]
}