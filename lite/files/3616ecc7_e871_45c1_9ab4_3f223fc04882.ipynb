{
    "nbformat": 4,
    "nbformat_minor": 5,
    "metadata": {
        "kernelspec": {
            "display_name": "Python",
            "language": "python",
            "name": "python"
        },
        "language_info": {
            "name": "python"
        }
    },
    "cells": [
        {
            "id": "a2deaa5c",
            "cell_type": "markdown",
            "source": "<div class='alert alert-warning'>\n\nNumPy's interactive examples are experimental and may not always work as expected, with high load times especially on low-resource platforms, and the version of NumPy might not be in sync with the one you are browsing the documentation for. If you encounter any issues, please report them on the [NumPy issue tracker](https://github.com/numpy/numpy/issues).\n\n</div>",
            "metadata": {}
        },
        {
            "id": "d4d801c7",
            "cell_type": "code",
            "metadata": {},
            "execution_count": null,
            "source": "import numpy as np\nnp.format_float_positional(np.float32(np.pi))",
            "outputs": [
                {
                    "output_type": "execute_result",
                    "metadata": {},
                    "data": {
                        "text/plain": "'3.1415927'"
                    },
                    "execution_count": null
                }
            ]
        },
        {
            "id": "19d20399",
            "cell_type": "code",
            "metadata": {},
            "execution_count": null,
            "source": "np.format_float_positional(np.float16(np.pi))",
            "outputs": [
                {
                    "output_type": "execute_result",
                    "metadata": {},
                    "data": {
                        "text/plain": "'3.14'"
                    },
                    "execution_count": null
                }
            ]
        },
        {
            "id": "2c5b98b8",
            "cell_type": "code",
            "metadata": {},
            "execution_count": null,
            "source": "np.format_float_positional(np.float16(0.3))",
            "outputs": [
                {
                    "output_type": "execute_result",
                    "metadata": {},
                    "data": {
                        "text/plain": "'0.3'"
                    },
                    "execution_count": null
                }
            ]
        },
        {
            "id": "0c2de6e5",
            "cell_type": "code",
            "metadata": {},
            "execution_count": null,
            "source": "np.format_float_positional(np.float16(0.3), unique=False, precision=10)",
            "outputs": [
                {
                    "output_type": "execute_result",
                    "metadata": {},
                    "data": {
                        "text/plain": "'0.3000488281'"
                    },
                    "execution_count": null
                }
            ]
        }
    ]
}