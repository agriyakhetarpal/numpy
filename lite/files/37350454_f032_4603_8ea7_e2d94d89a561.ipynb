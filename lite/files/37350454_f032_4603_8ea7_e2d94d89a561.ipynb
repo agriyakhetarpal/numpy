{
    "nbformat": 4,
    "nbformat_minor": 5,
    "metadata": {
        "kernelspec": {
            "display_name": "Python",
            "language": "python",
            "name": "python"
        },
        "language_info": {
            "name": "python"
        }
    },
    "cells": [
        {
            "id": "e61197f4",
            "cell_type": "markdown",
            "source": "<div class='alert alert-warning'>\n\nNumPy's interactive examples are experimental and may not always work as expected, with high load times especially on low-resource platforms, and the version of NumPy might not be in sync with the one you are browsing the documentation for. If you encounter any issues, please report them on the [NumPy issue tracker](https://github.com/numpy/numpy/issues).\n\n</div>",
            "metadata": {}
        },
        {
            "id": "8db78b41",
            "cell_type": "code",
            "metadata": {},
            "execution_count": null,
            "source": "import numpy as np\nxp = [1, 2, 3]\nfp = [3, 2, 0]\nnp.interp(2.5, xp, fp)",
            "outputs": [
                {
                    "output_type": "execute_result",
                    "metadata": {},
                    "data": {
                        "text/plain": "1.0"
                    },
                    "execution_count": null
                }
            ]
        },
        {
            "id": "ee6d4649",
            "cell_type": "code",
            "metadata": {},
            "execution_count": null,
            "source": "np.interp([0, 1, 1.5, 2.72, 3.14], xp, fp)",
            "outputs": [
                {
                    "output_type": "execute_result",
                    "metadata": {},
                    "data": {
                        "text/plain": "array([3.  , 3.  , 2.5 , 0.56, 0.  ])"
                    },
                    "execution_count": null
                }
            ]
        },
        {
            "id": "abd07a43",
            "cell_type": "code",
            "metadata": {},
            "execution_count": null,
            "source": "UNDEF = -99.0\nnp.interp(3.14, xp, fp, right=UNDEF)",
            "outputs": [
                {
                    "output_type": "execute_result",
                    "metadata": {},
                    "data": {
                        "text/plain": "-99.0"
                    },
                    "execution_count": null
                }
            ]
        },
        {
            "id": "1c4bc133",
            "cell_type": "markdown",
            "source": "Plot an interpolant to the sine function:\n",
            "metadata": {}
        },
        {
            "id": "3fb0106c",
            "cell_type": "code",
            "metadata": {},
            "execution_count": null,
            "source": "x = np.linspace(0, 2*np.pi, 10)\ny = np.sin(x)\nxvals = np.linspace(0, 2*np.pi, 50)\nyinterp = np.interp(xvals, x, y)\nimport matplotlib.pyplot as plt\nplt.plot(x, y, 'o')",
            "outputs": [
                {
                    "output_type": "execute_result",
                    "metadata": {},
                    "data": {
                        "text/plain": "[<matplotlib.lines.Line2D object at 0x...>]"
                    },
                    "execution_count": null
                }
            ]
        },
        {
            "id": "b1d25ec7",
            "cell_type": "code",
            "metadata": {},
            "execution_count": null,
            "source": "plt.plot(xvals, yinterp, '-x')",
            "outputs": [
                {
                    "output_type": "execute_result",
                    "metadata": {},
                    "data": {
                        "text/plain": "[<matplotlib.lines.Line2D object at 0x...>]"
                    },
                    "execution_count": null
                }
            ]
        },
        {
            "id": "71d2c3a1",
            "cell_type": "code",
            "metadata": {},
            "execution_count": null,
            "source": "plt.show()",
            "outputs": []
        },
        {
            "id": "2af23dcd",
            "cell_type": "markdown",
            "source": "Interpolation with periodic x-coordinates:\n",
            "metadata": {}
        },
        {
            "id": "040c7b52",
            "cell_type": "code",
            "metadata": {},
            "execution_count": null,
            "source": "x = [-180, -170, -185, 185, -10, -5, 0, 365]\nxp = [190, -190, 350, -350]\nfp = [5, 10, 3, 4]\nnp.interp(x, xp, fp, period=360)",
            "outputs": [
                {
                    "output_type": "execute_result",
                    "metadata": {},
                    "data": {
                        "text/plain": "array([7.5 , 5.  , 8.75, 6.25, 3.  , 3.25, 3.5 , 3.75])"
                    },
                    "execution_count": null
                }
            ]
        },
        {
            "id": "0cfb1437",
            "cell_type": "markdown",
            "source": "Complex interpolation:\n",
            "metadata": {}
        },
        {
            "id": "fdde39b6",
            "cell_type": "code",
            "metadata": {},
            "execution_count": null,
            "source": "x = [1.5, 4.0]\nxp = [2,3,5]\nfp = [1.0j, 0, 2+3j]\nnp.interp(x, xp, fp)",
            "outputs": [
                {
                    "output_type": "execute_result",
                    "metadata": {},
                    "data": {
                        "text/plain": "array([0.+1.j , 1.+1.5j])"
                    },
                    "execution_count": null
                }
            ]
        }
    ]
}