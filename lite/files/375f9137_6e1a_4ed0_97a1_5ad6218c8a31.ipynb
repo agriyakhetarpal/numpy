{
    "nbformat": 4,
    "nbformat_minor": 5,
    "metadata": {
        "kernelspec": {
            "display_name": "Python",
            "language": "python",
            "name": "python"
        },
        "language_info": {
            "name": "python"
        }
    },
    "cells": [
        {
            "id": "c1616f5a",
            "cell_type": "markdown",
            "source": "<div class='alert alert-warning'>\n\nNumPy's interactive examples are experimental and may not always work as expected, with high load times especially on low-resource platforms, , and the version of NumPy might not be in sync with the one you are browsing the documentation for. If you encounter any issues, please report them on the [NumPy issue tracker](https://github.com/numpy/numpy/issues).\n\n</div>",
            "metadata": {}
        },
        {
            "id": "1a2806d3",
            "cell_type": "code",
            "metadata": {},
            "execution_count": null,
            "source": "import numpy as np\na = np.array([(1, 2.0), (1, 2.0)],\n    dtype=[('x', np.int64), ('y', np.float64)])\na",
            "outputs": [
                {
                    "output_type": "execute_result",
                    "metadata": {},
                    "data": {
                        "text/plain": "array([(1, 2.), (1, 2.)], dtype=[('x', '<i8'), ('y', '<f8')])"
                    },
                    "execution_count": null
                }
            ]
        },
        {
            "id": "426dca7e",
            "cell_type": "markdown",
            "source": "Here, each element consists of two fields: x (and int), and y (a float).\nThis is known as a structured array.  The different fields are analogous\nto columns in a spread-sheet.  The different fields can be accessed as\none would a dictionary:\n",
            "metadata": {}
        },
        {
            "id": "8637d7e6",
            "cell_type": "code",
            "metadata": {},
            "execution_count": null,
            "source": "a['x']",
            "outputs": [
                {
                    "output_type": "execute_result",
                    "metadata": {},
                    "data": {
                        "text/plain": "array([1, 1])"
                    },
                    "execution_count": null
                }
            ]
        },
        {
            "id": "50979d6a",
            "cell_type": "code",
            "metadata": {},
            "execution_count": null,
            "source": "a['y']",
            "outputs": [
                {
                    "output_type": "execute_result",
                    "metadata": {},
                    "data": {
                        "text/plain": "array([2., 2.])"
                    },
                    "execution_count": null
                }
            ]
        },
        {
            "id": "91634101",
            "cell_type": "markdown",
            "source": "Record arrays allow us to access fields as properties:\n",
            "metadata": {}
        },
        {
            "id": "bc38692f",
            "cell_type": "code",
            "metadata": {},
            "execution_count": null,
            "source": "ar = np.rec.array(a)\nar.x",
            "outputs": [
                {
                    "output_type": "execute_result",
                    "metadata": {},
                    "data": {
                        "text/plain": "array([1, 1])"
                    },
                    "execution_count": null
                }
            ]
        },
        {
            "id": "b1791ff4",
            "cell_type": "code",
            "metadata": {},
            "execution_count": null,
            "source": "ar.y",
            "outputs": [
                {
                    "output_type": "execute_result",
                    "metadata": {},
                    "data": {
                        "text/plain": "array([2., 2.])"
                    },
                    "execution_count": null
                }
            ]
        }
    ]
}