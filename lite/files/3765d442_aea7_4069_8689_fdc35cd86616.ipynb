{
    "nbformat": 4,
    "nbformat_minor": 5,
    "metadata": {
        "kernelspec": {
            "display_name": "Python",
            "language": "python",
            "name": "python"
        },
        "language_info": {
            "name": "python"
        }
    },
    "cells": [
        {
            "id": "42e9954d",
            "cell_type": "markdown",
            "source": "<div class='alert alert-warning'>\n\nNumPy's interactive examples are experimental and may not always work as expected, with high load times especially on low-resource platforms, and the version of NumPy might not be in sync with the one you are browsing the documentation for. If you encounter any issues, please report them on the [NumPy issue tracker](https://github.com/numpy/numpy/issues).\n\n</div>",
            "metadata": {}
        },
        {
            "id": "1b959509",
            "cell_type": "markdown",
            "source": "Converting a simple dtype:\n",
            "metadata": {}
        },
        {
            "id": "050de6a0",
            "cell_type": "code",
            "metadata": {},
            "execution_count": null,
            "source": "dt = np.dtype('int8')\nctype = np.ctypeslib.as_ctypes_type(dt)\nctype",
            "outputs": [
                {
                    "output_type": "execute_result",
                    "metadata": {},
                    "data": {
                        "text/plain": "<class 'ctypes.c_byte'>"
                    },
                    "execution_count": null
                }
            ]
        },
        {
            "id": "23464917",
            "cell_type": "markdown",
            "source": "Converting a structured dtype:\n",
            "metadata": {}
        },
        {
            "id": "84bde619",
            "cell_type": "code",
            "metadata": {},
            "execution_count": null,
            "source": "dt = np.dtype([('x', 'i4'), ('y', 'f4')])\nctype = np.ctypeslib.as_ctypes_type(dt)\nctype",
            "outputs": [
                {
                    "output_type": "execute_result",
                    "metadata": {},
                    "data": {
                        "text/plain": "<class 'struct'>"
                    },
                    "execution_count": null
                }
            ]
        }
    ]
}