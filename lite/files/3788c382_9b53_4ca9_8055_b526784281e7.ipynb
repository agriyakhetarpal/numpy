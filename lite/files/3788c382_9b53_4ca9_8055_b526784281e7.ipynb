{
    "nbformat": 4,
    "nbformat_minor": 5,
    "metadata": {
        "kernelspec": {
            "display_name": "Python",
            "language": "python",
            "name": "python"
        },
        "language_info": {
            "name": "python"
        }
    },
    "cells": [
        {
            "id": "26e361c3",
            "cell_type": "markdown",
            "source": "<div class='alert alert-warning'>\n\nNumPy's interactive examples are experimental and may not always work as expected, with high load times especially on low-resource platforms, and the version of NumPy might not be in sync with the one you are browsing the documentation for. If you encounter any issues, please report them on the [NumPy issue tracker](https://github.com/numpy/numpy/issues).\n\n</div>",
            "metadata": {}
        },
        {
            "id": "66e5fd50",
            "cell_type": "markdown",
            "source": "Draw samples from the distribution:\n",
            "metadata": {}
        },
        {
            "id": "7d6b5162",
            "cell_type": "code",
            "metadata": {},
            "execution_count": null,
            "source": "a = 4.0\nn = 20000\ns = np.random.zipf(a, n)",
            "outputs": []
        },
        {
            "id": "72bd5fad",
            "cell_type": "markdown",
            "source": "Display the histogram of the samples, along with\nthe expected histogram based on the probability\ndensity function:\n",
            "metadata": {}
        },
        {
            "id": "b3d44577",
            "cell_type": "code",
            "metadata": {},
            "execution_count": null,
            "source": "import matplotlib.pyplot as plt\nfrom scipy.special import zeta  # doctest: +SKIP",
            "outputs": []
        },
        {
            "id": "d8e20c9c",
            "cell_type": "markdown",
            "source": "`bincount` provides a fast histogram for small integers.\n",
            "metadata": {}
        },
        {
            "id": "041c3ab2",
            "cell_type": "code",
            "metadata": {},
            "execution_count": null,
            "source": "count = np.bincount(s)\nk = np.arange(1, s.max() + 1)",
            "outputs": []
        },
        {
            "id": "bd356223",
            "cell_type": "code",
            "metadata": {},
            "execution_count": null,
            "source": "plt.bar(k, count[1:], alpha=0.5, label='sample count')\nplt.plot(k, n*(k**-a)/zeta(a), 'k.-', alpha=0.5,\n         label='expected count')   # doctest: +SKIP\nplt.semilogy()\nplt.grid(alpha=0.4)\nplt.legend()\nplt.title(f'Zipf sample, a={a}, size={n}')\nplt.show()",
            "outputs": []
        }
    ]
}