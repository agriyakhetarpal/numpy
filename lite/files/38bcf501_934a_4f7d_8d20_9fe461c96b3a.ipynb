{
    "nbformat": 4,
    "nbformat_minor": 5,
    "metadata": {
        "kernelspec": {
            "display_name": "Python",
            "language": "python",
            "name": "python"
        },
        "language_info": {
            "name": "python"
        }
    },
    "cells": [
        {
            "id": "4a90c45e",
            "cell_type": "markdown",
            "source": "<div class='alert alert-warning'>\n\nNumPy's interactive examples are experimental and may not always work as expected, with high load times especially on low-resource platforms, and the version of NumPy might not be in sync with the one you are browsing the documentation for. If you encounter any issues, please report them on the [NumPy issue tracker](https://github.com/numpy/numpy/issues).\n\n</div>",
            "metadata": {}
        },
        {
            "id": "40c5b3b1",
            "cell_type": "code",
            "metadata": {},
            "execution_count": null,
            "source": "import numpy as np\nnp.geomspace(1, 1000, num=4)",
            "outputs": [
                {
                    "output_type": "execute_result",
                    "metadata": {},
                    "data": {
                        "text/plain": "array([    1.,    10.,   100.,  1000.])"
                    },
                    "execution_count": null
                }
            ]
        },
        {
            "id": "2eacb3fe",
            "cell_type": "code",
            "metadata": {},
            "execution_count": null,
            "source": "np.geomspace(1, 1000, num=3, endpoint=False)",
            "outputs": [
                {
                    "output_type": "execute_result",
                    "metadata": {},
                    "data": {
                        "text/plain": "array([   1.,   10.,  100.])"
                    },
                    "execution_count": null
                }
            ]
        },
        {
            "id": "803e6051",
            "cell_type": "code",
            "metadata": {},
            "execution_count": null,
            "source": "np.geomspace(1, 1000, num=4, endpoint=False)",
            "outputs": [
                {
                    "output_type": "execute_result",
                    "metadata": {},
                    "data": {
                        "text/plain": "array([   1.        ,    5.62341325,   31.6227766 ,  177.827941  ])"
                    },
                    "execution_count": null
                }
            ]
        },
        {
            "id": "a70a4443",
            "cell_type": "code",
            "metadata": {},
            "execution_count": null,
            "source": "np.geomspace(1, 256, num=9)",
            "outputs": [
                {
                    "output_type": "execute_result",
                    "metadata": {},
                    "data": {
                        "text/plain": "array([   1.,    2.,    4.,    8.,   16.,   32.,   64.,  128.,  256.])"
                    },
                    "execution_count": null
                }
            ]
        },
        {
            "id": "dd883c7c",
            "cell_type": "markdown",
            "source": "Note that the above may not produce exact integers:\n",
            "metadata": {}
        },
        {
            "id": "70bf292d",
            "cell_type": "code",
            "metadata": {},
            "execution_count": null,
            "source": "np.geomspace(1, 256, num=9, dtype=int)",
            "outputs": [
                {
                    "output_type": "execute_result",
                    "metadata": {},
                    "data": {
                        "text/plain": "array([  1,   2,   4,   7,  16,  32,  63, 127, 256])"
                    },
                    "execution_count": null
                }
            ]
        },
        {
            "id": "e988bdea",
            "cell_type": "code",
            "metadata": {},
            "execution_count": null,
            "source": "np.around(np.geomspace(1, 256, num=9)).astype(int)",
            "outputs": [
                {
                    "output_type": "execute_result",
                    "metadata": {},
                    "data": {
                        "text/plain": "array([  1,   2,   4,   8,  16,  32,  64, 128, 256])"
                    },
                    "execution_count": null
                }
            ]
        },
        {
            "id": "32cbffff",
            "cell_type": "markdown",
            "source": "Negative, decreasing, and complex inputs are allowed:\n",
            "metadata": {}
        },
        {
            "id": "650dd619",
            "cell_type": "code",
            "metadata": {},
            "execution_count": null,
            "source": "np.geomspace(1000, 1, num=4)",
            "outputs": [
                {
                    "output_type": "execute_result",
                    "metadata": {},
                    "data": {
                        "text/plain": "array([1000.,  100.,   10.,    1.])"
                    },
                    "execution_count": null
                }
            ]
        },
        {
            "id": "8c36075b",
            "cell_type": "code",
            "metadata": {},
            "execution_count": null,
            "source": "np.geomspace(-1000, -1, num=4)",
            "outputs": [
                {
                    "output_type": "execute_result",
                    "metadata": {},
                    "data": {
                        "text/plain": "array([-1000.,  -100.,   -10.,    -1.])"
                    },
                    "execution_count": null
                }
            ]
        },
        {
            "id": "b7040b8d",
            "cell_type": "code",
            "metadata": {},
            "execution_count": null,
            "source": "np.geomspace(1j, 1000j, num=4)  # Straight line",
            "outputs": [
                {
                    "output_type": "execute_result",
                    "metadata": {},
                    "data": {
                        "text/plain": "array([0.   +1.j, 0.  +10.j, 0. +100.j, 0.+1000.j])"
                    },
                    "execution_count": null
                }
            ]
        },
        {
            "id": "20f90540",
            "cell_type": "code",
            "metadata": {},
            "execution_count": null,
            "source": "np.geomspace(-1+0j, 1+0j, num=5)  # Circle",
            "outputs": [
                {
                    "output_type": "execute_result",
                    "metadata": {},
                    "data": {
                        "text/plain": "array([-1.00000000e+00+1.22464680e-16j, -7.07106781e-01+7.07106781e-01j,\n        6.12323400e-17+1.00000000e+00j,  7.07106781e-01+7.07106781e-01j,\n        1.00000000e+00+0.00000000e+00j])"
                    },
                    "execution_count": null
                }
            ]
        },
        {
            "id": "7d7d1511",
            "cell_type": "markdown",
            "source": "Graphical illustration of `endpoint` parameter:\n",
            "metadata": {}
        },
        {
            "id": "63dace34",
            "cell_type": "code",
            "metadata": {},
            "execution_count": null,
            "source": "import matplotlib.pyplot as plt\nN = 10\ny = np.zeros(N)\nplt.semilogx(np.geomspace(1, 1000, N, endpoint=True), y + 1, 'o')",
            "outputs": [
                {
                    "output_type": "execute_result",
                    "metadata": {},
                    "data": {
                        "text/plain": "[<matplotlib.lines.Line2D object at 0x...>]"
                    },
                    "execution_count": null
                }
            ]
        },
        {
            "id": "53d6291a",
            "cell_type": "code",
            "metadata": {},
            "execution_count": null,
            "source": "plt.semilogx(np.geomspace(1, 1000, N, endpoint=False), y + 2, 'o')",
            "outputs": [
                {
                    "output_type": "execute_result",
                    "metadata": {},
                    "data": {
                        "text/plain": "[<matplotlib.lines.Line2D object at 0x...>]"
                    },
                    "execution_count": null
                }
            ]
        },
        {
            "id": "44417a75",
            "cell_type": "code",
            "metadata": {},
            "execution_count": null,
            "source": "plt.axis([0.5, 2000, 0, 3])",
            "outputs": [
                {
                    "output_type": "execute_result",
                    "metadata": {},
                    "data": {
                        "text/plain": "[0.5, 2000, 0, 3]"
                    },
                    "execution_count": null
                }
            ]
        },
        {
            "id": "6a5e3da4",
            "cell_type": "code",
            "metadata": {},
            "execution_count": null,
            "source": "plt.grid(True, color='0.7', linestyle='-', which='both', axis='both')\nplt.show()",
            "outputs": []
        }
    ]
}