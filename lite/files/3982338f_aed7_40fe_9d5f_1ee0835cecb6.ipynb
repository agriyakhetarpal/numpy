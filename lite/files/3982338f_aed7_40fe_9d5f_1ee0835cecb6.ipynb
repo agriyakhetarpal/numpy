{
    "nbformat": 4,
    "nbformat_minor": 5,
    "metadata": {
        "kernelspec": {
            "display_name": "Python",
            "language": "python",
            "name": "python"
        },
        "language_info": {
            "name": "python"
        }
    },
    "cells": [
        {
            "id": "42c2a4ec",
            "cell_type": "markdown",
            "source": "<div class='alert alert-warning'>\n\nNumPy's interactive examples are experimental and may not always work as expected, with high load times especially on low-resource platforms, and the version of NumPy might not be in sync with the one you are browsing the documentation for. If you encounter any issues, please report them on the [NumPy issue tracker](https://github.com/numpy/numpy/issues).\n\n</div>",
            "metadata": {}
        },
        {
            "id": "5818aa11",
            "cell_type": "markdown",
            "source": "Converting a simple dtype:\n",
            "metadata": {}
        },
        {
            "id": "bc4ead34",
            "cell_type": "code",
            "metadata": {},
            "execution_count": null,
            "source": "dt = np.dtype('int8')\nctype = np.ctypeslib.as_ctypes_type(dt)\nctype",
            "outputs": [
                {
                    "output_type": "execute_result",
                    "metadata": {},
                    "data": {
                        "text/plain": "<class 'ctypes.c_byte'>"
                    },
                    "execution_count": null
                }
            ]
        },
        {
            "id": "7a581c6d",
            "cell_type": "markdown",
            "source": "Converting a structured dtype:\n",
            "metadata": {}
        },
        {
            "id": "6961fbcd",
            "cell_type": "code",
            "metadata": {},
            "execution_count": null,
            "source": "dt = np.dtype([('x', 'i4'), ('y', 'f4')])\nctype = np.ctypeslib.as_ctypes_type(dt)\nctype",
            "outputs": [
                {
                    "output_type": "execute_result",
                    "metadata": {},
                    "data": {
                        "text/plain": "<class 'struct'>"
                    },
                    "execution_count": null
                }
            ]
        }
    ]
}