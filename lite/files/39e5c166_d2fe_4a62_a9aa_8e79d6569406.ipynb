{
    "nbformat": 4,
    "nbformat_minor": 5,
    "metadata": {
        "kernelspec": {
            "display_name": "Python",
            "language": "python",
            "name": "python"
        },
        "language_info": {
            "name": "python"
        }
    },
    "cells": [
        {
            "id": "5c8f73d1",
            "cell_type": "markdown",
            "source": "<div class='alert alert-warning'>\n\nNumPy's interactive examples are experimental and may not always work as expected, with high load times especially on low-resource platforms, , and the version of NumPy might not be in sync with the one you are browsing the documentation for. If you encounter any issues, please report them on the [NumPy issue tracker](https://github.com/numpy/numpy/issues).\n\n</div>",
            "metadata": {}
        },
        {
            "id": "ac39fda7",
            "cell_type": "code",
            "metadata": {},
            "execution_count": null,
            "source": "import numpy as np\nphase = np.linspace(0, np.pi, num=5)\nphase[3:] += np.pi\nphase",
            "outputs": [
                {
                    "output_type": "execute_result",
                    "metadata": {},
                    "data": {
                        "text/plain": "array([ 0.        ,  0.78539816,  1.57079633,  5.49778714,  6.28318531]) # may vary"
                    },
                    "execution_count": null
                }
            ]
        },
        {
            "id": "4e46acdf",
            "cell_type": "code",
            "metadata": {},
            "execution_count": null,
            "source": "np.unwrap(phase)",
            "outputs": [
                {
                    "output_type": "execute_result",
                    "metadata": {},
                    "data": {
                        "text/plain": "array([ 0.        ,  0.78539816,  1.57079633, -0.78539816,  0.        ]) # may vary"
                    },
                    "execution_count": null
                }
            ]
        },
        {
            "id": "4f2764c6",
            "cell_type": "code",
            "metadata": {},
            "execution_count": null,
            "source": "np.unwrap([0, 1, 2, -1, 0], period=4)",
            "outputs": [
                {
                    "output_type": "execute_result",
                    "metadata": {},
                    "data": {
                        "text/plain": "array([0, 1, 2, 3, 4])"
                    },
                    "execution_count": null
                }
            ]
        },
        {
            "id": "35b99232",
            "cell_type": "code",
            "metadata": {},
            "execution_count": null,
            "source": "np.unwrap([ 1, 2, 3, 4, 5, 6, 1, 2, 3], period=6)",
            "outputs": [
                {
                    "output_type": "execute_result",
                    "metadata": {},
                    "data": {
                        "text/plain": "array([1, 2, 3, 4, 5, 6, 7, 8, 9])"
                    },
                    "execution_count": null
                }
            ]
        },
        {
            "id": "aba28402",
            "cell_type": "code",
            "metadata": {},
            "execution_count": null,
            "source": "np.unwrap([2, 3, 4, 5, 2, 3, 4, 5], period=4)",
            "outputs": [
                {
                    "output_type": "execute_result",
                    "metadata": {},
                    "data": {
                        "text/plain": "array([2, 3, 4, 5, 6, 7, 8, 9])"
                    },
                    "execution_count": null
                }
            ]
        },
        {
            "id": "79fc467d",
            "cell_type": "code",
            "metadata": {},
            "execution_count": null,
            "source": "phase_deg = np.mod(np.linspace(0 ,720, 19), 360) - 180\nnp.unwrap(phase_deg, period=360)",
            "outputs": [
                {
                    "output_type": "execute_result",
                    "metadata": {},
                    "data": {
                        "text/plain": "array([-180., -140., -100.,  -60.,  -20.,   20.,   60.,  100.,  140.,\n        180.,  220.,  260.,  300.,  340.,  380.,  420.,  460.,  500.,\n        540.])"
                    },
                    "execution_count": null
                }
            ]
        }
    ]
}