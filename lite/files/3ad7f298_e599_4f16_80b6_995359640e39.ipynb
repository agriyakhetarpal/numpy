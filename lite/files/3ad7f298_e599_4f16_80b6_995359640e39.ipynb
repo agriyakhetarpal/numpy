{
    "nbformat": 4,
    "nbformat_minor": 5,
    "metadata": {
        "kernelspec": {
            "display_name": "Python",
            "language": "python",
            "name": "python"
        },
        "language_info": {
            "name": "python"
        }
    },
    "cells": [
        {
            "id": "c10dea1b",
            "cell_type": "markdown",
            "source": "<div class='alert alert-warning'>\n\nNumPy's interactive examples are experimental and may not always work as expected, with high load times especially on low-resource platforms, and the version of NumPy might not be in sync with the one you are browsing the documentation for. If you encounter any issues, please report them on the [NumPy issue tracker](https://github.com/numpy/numpy/issues).\n\n</div>",
            "metadata": {}
        },
        {
            "id": "40562768",
            "cell_type": "code",
            "metadata": {},
            "execution_count": null,
            "source": "import numpy as np\nnp.remainder([4, 7], [2, 3])",
            "outputs": [
                {
                    "output_type": "execute_result",
                    "metadata": {},
                    "data": {
                        "text/plain": "array([0, 1])"
                    },
                    "execution_count": null
                }
            ]
        },
        {
            "id": "843b57c3",
            "cell_type": "code",
            "metadata": {},
            "execution_count": null,
            "source": "np.remainder(np.arange(7), 5)",
            "outputs": [
                {
                    "output_type": "execute_result",
                    "metadata": {},
                    "data": {
                        "text/plain": "array([0, 1, 2, 3, 4, 0, 1])"
                    },
                    "execution_count": null
                }
            ]
        },
        {
            "id": "1c61ad3f",
            "cell_type": "markdown",
            "source": "The ``%`` operator can be used as a shorthand for ``np.remainder`` on\nndarrays.\n",
            "metadata": {}
        },
        {
            "id": "a1c38485",
            "cell_type": "code",
            "metadata": {},
            "execution_count": null,
            "source": "x1 = np.arange(7)\nx1 % 5",
            "outputs": [
                {
                    "output_type": "execute_result",
                    "metadata": {},
                    "data": {
                        "text/plain": "array([0, 1, 2, 3, 4, 0, 1])"
                    },
                    "execution_count": null
                }
            ]
        }
    ]
}