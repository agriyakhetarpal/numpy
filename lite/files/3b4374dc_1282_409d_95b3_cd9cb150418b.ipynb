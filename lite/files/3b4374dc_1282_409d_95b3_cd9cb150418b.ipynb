{
    "nbformat": 4,
    "nbformat_minor": 5,
    "metadata": {
        "kernelspec": {
            "display_name": "Python",
            "language": "python",
            "name": "python"
        },
        "language_info": {
            "name": "python"
        }
    },
    "cells": [
        {
            "id": "f449a8bd",
            "cell_type": "markdown",
            "source": "<div class='alert alert-warning'>\n\nNumPy's interactive examples are experimental and may not always work as expected, with high load times especially on low-resource platforms, and the version of NumPy might not be in sync with the one you are browsing the documentation for. If you encounter any issues, please report them on the [NumPy issue tracker](https://github.com/numpy/numpy/issues).\n\n</div>",
            "metadata": {}
        },
        {
            "id": "5fe0a466",
            "cell_type": "code",
            "metadata": {},
            "execution_count": null,
            "source": "import numpy as np\nfrom numpy.polynomial.polynomial import polyval\npolyval(1, [1,2,3])",
            "outputs": [
                {
                    "output_type": "execute_result",
                    "metadata": {},
                    "data": {
                        "text/plain": "6.0"
                    },
                    "execution_count": null
                }
            ]
        },
        {
            "id": "53d666dc",
            "cell_type": "code",
            "metadata": {},
            "execution_count": null,
            "source": "a = np.arange(4).reshape(2,2)\na",
            "outputs": [
                {
                    "output_type": "execute_result",
                    "metadata": {},
                    "data": {
                        "text/plain": "array([[0, 1],\n       [2, 3]])"
                    },
                    "execution_count": null
                }
            ]
        },
        {
            "id": "be0a4f4e",
            "cell_type": "code",
            "metadata": {},
            "execution_count": null,
            "source": "polyval(a, [1, 2, 3])",
            "outputs": [
                {
                    "output_type": "execute_result",
                    "metadata": {},
                    "data": {
                        "text/plain": "array([[ 1.,   6.],\n       [17.,  34.]])"
                    },
                    "execution_count": null
                }
            ]
        },
        {
            "id": "5d0a068e",
            "cell_type": "code",
            "metadata": {},
            "execution_count": null,
            "source": "coef = np.arange(4).reshape(2, 2)  # multidimensional coefficients\ncoef",
            "outputs": [
                {
                    "output_type": "execute_result",
                    "metadata": {},
                    "data": {
                        "text/plain": "array([[0, 1],\n       [2, 3]])"
                    },
                    "execution_count": null
                }
            ]
        },
        {
            "id": "a4d68f2a",
            "cell_type": "code",
            "metadata": {},
            "execution_count": null,
            "source": "polyval([1, 2], coef, tensor=True)",
            "outputs": [
                {
                    "output_type": "execute_result",
                    "metadata": {},
                    "data": {
                        "text/plain": "array([[2.,  4.],\n       [4.,  7.]])"
                    },
                    "execution_count": null
                }
            ]
        },
        {
            "id": "dbd64407",
            "cell_type": "code",
            "metadata": {},
            "execution_count": null,
            "source": "polyval([1, 2], coef, tensor=False)",
            "outputs": [
                {
                    "output_type": "execute_result",
                    "metadata": {},
                    "data": {
                        "text/plain": "array([2.,  7.])"
                    },
                    "execution_count": null
                }
            ]
        }
    ]
}