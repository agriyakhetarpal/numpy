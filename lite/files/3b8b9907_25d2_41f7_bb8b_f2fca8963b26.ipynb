{
    "nbformat": 4,
    "nbformat_minor": 5,
    "metadata": {
        "kernelspec": {
            "display_name": "Python",
            "language": "python",
            "name": "python"
        },
        "language_info": {
            "name": "python"
        }
    },
    "cells": [
        {
            "id": "d0c04716",
            "cell_type": "markdown",
            "source": "<div class='alert alert-warning'>\n\nNumPy's interactive examples are experimental and may not always work as expected, with high load times especially on low-resource platforms, and the version of NumPy might not be in sync with the one you are browsing the documentation for. If you encounter any issues, please report them on the [NumPy issue tracker](https://github.com/numpy/numpy/issues).\n\n</div>",
            "metadata": {}
        },
        {
            "id": "f38d9931",
            "cell_type": "code",
            "metadata": {},
            "execution_count": null,
            "source": "from io import StringIO\nimport numpy as np",
            "outputs": []
        },
        {
            "id": "ad7aa58b",
            "cell_type": "markdown",
            "source": "Comma delimited file with mixed dtype\n",
            "metadata": {}
        },
        {
            "id": "dc69d7f4",
            "cell_type": "code",
            "metadata": {},
            "execution_count": null,
            "source": "s = StringIO(\"1,1.3,abcde\")\ndata = np.genfromtxt(s, dtype=[('myint','i8'),('myfloat','f8'),\n('mystring','S5')], delimiter=\",\")\ndata",
            "outputs": [
                {
                    "output_type": "execute_result",
                    "metadata": {},
                    "data": {
                        "text/plain": "array((1, 1.3, b'abcde'),\n      dtype=[('myint', '<i8'), ('myfloat', '<f8'), ('mystring', 'S5')])"
                    },
                    "execution_count": null
                }
            ]
        },
        {
            "id": "dfb73f6d",
            "cell_type": "markdown",
            "source": "Using dtype = None\n",
            "metadata": {}
        },
        {
            "id": "8ac43a7f",
            "cell_type": "code",
            "metadata": {},
            "execution_count": null,
            "source": "_ = s.seek(0) # needed for StringIO example only\ndata = np.genfromtxt(s, dtype=None,\nnames = ['myint','myfloat','mystring'], delimiter=\",\")\ndata",
            "outputs": [
                {
                    "output_type": "execute_result",
                    "metadata": {},
                    "data": {
                        "text/plain": "array((1, 1.3, 'abcde'),\n      dtype=[('myint', '<i8'), ('myfloat', '<f8'), ('mystring', '<U5')])"
                    },
                    "execution_count": null
                }
            ]
        },
        {
            "id": "c8e286e6",
            "cell_type": "markdown",
            "source": "Specifying dtype and names\n",
            "metadata": {}
        },
        {
            "id": "7dc7e035",
            "cell_type": "code",
            "metadata": {},
            "execution_count": null,
            "source": "_ = s.seek(0)\ndata = np.genfromtxt(s, dtype=\"i8,f8,S5\",\nnames=['myint','myfloat','mystring'], delimiter=\",\")\ndata",
            "outputs": [
                {
                    "output_type": "execute_result",
                    "metadata": {},
                    "data": {
                        "text/plain": "array((1, 1.3, b'abcde'),\n      dtype=[('myint', '<i8'), ('myfloat', '<f8'), ('mystring', 'S5')])"
                    },
                    "execution_count": null
                }
            ]
        },
        {
            "id": "34db4bbc",
            "cell_type": "markdown",
            "source": "An example with fixed-width columns\n",
            "metadata": {}
        },
        {
            "id": "4f7f1949",
            "cell_type": "code",
            "metadata": {},
            "execution_count": null,
            "source": "s = StringIO(\"11.3abcde\")\ndata = np.genfromtxt(s, dtype=None, names=['intvar','fltvar','strvar'],\n    delimiter=[1,3,5])\ndata",
            "outputs": [
                {
                    "output_type": "execute_result",
                    "metadata": {},
                    "data": {
                        "text/plain": "array((1, 1.3, 'abcde'),\n      dtype=[('intvar', '<i8'), ('fltvar', '<f8'), ('strvar', '<U5')])"
                    },
                    "execution_count": null
                }
            ]
        },
        {
            "id": "aedd2684",
            "cell_type": "markdown",
            "source": "An example to show comments\n",
            "metadata": {}
        },
        {
            "id": "e95d63ed",
            "cell_type": "code",
            "metadata": {},
            "execution_count": null,
            "source": "f = StringIO('''\ntext,# of chars\nhello world,11\nnumpy,5''')\nnp.genfromtxt(f, dtype='S12,S12', delimiter=',')",
            "outputs": [
                {
                    "output_type": "execute_result",
                    "metadata": {},
                    "data": {
                        "text/plain": "array([(b'text', b''), (b'hello world', b'11'), (b'numpy', b'5')],\n  dtype=[('f0', 'S12'), ('f1', 'S12')])"
                    },
                    "execution_count": null
                }
            ]
        }
    ]
}