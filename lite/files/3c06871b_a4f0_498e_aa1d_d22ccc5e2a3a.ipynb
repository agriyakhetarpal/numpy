{
    "nbformat": 4,
    "nbformat_minor": 5,
    "metadata": {
        "kernelspec": {
            "display_name": "Python",
            "language": "python",
            "name": "python"
        },
        "language_info": {
            "name": "python"
        }
    },
    "cells": [
        {
            "id": "864a09e7",
            "cell_type": "markdown",
            "source": "<div class='alert alert-warning'>\n\nNumPy's interactive examples are experimental and may not always work as expected, with high load times especially on low-resource platforms, and the version of NumPy might not be in sync with the one you are browsing the documentation for. If you encounter any issues, please report them on the [NumPy issue tracker](https://github.com/numpy/numpy/issues).\n\n</div>",
            "metadata": {}
        },
        {
            "id": "1fa96e2c",
            "cell_type": "code",
            "metadata": {},
            "execution_count": null,
            "source": "import numpy as np\nx = np.array([(-1, 2)], dtype=[('a', np.int8), ('b', np.int8)])",
            "outputs": []
        },
        {
            "id": "e4dabc41",
            "cell_type": "markdown",
            "source": "Viewing array data using a different type and dtype:\n",
            "metadata": {}
        },
        {
            "id": "c4f815e9",
            "cell_type": "code",
            "metadata": {},
            "execution_count": null,
            "source": "nonneg = np.dtype([(\"a\", np.uint8), (\"b\", np.uint8)])\ny = x.view(dtype=nonneg, type=np.recarray)\nx[\"a\"]",
            "outputs": [
                {
                    "output_type": "execute_result",
                    "metadata": {},
                    "data": {
                        "text/plain": "array([-1], dtype=int8)"
                    },
                    "execution_count": null
                }
            ]
        },
        {
            "id": "2a26ae30",
            "cell_type": "code",
            "metadata": {},
            "execution_count": null,
            "source": "y.a",
            "outputs": [
                {
                    "output_type": "execute_result",
                    "metadata": {},
                    "data": {
                        "text/plain": "array([255], dtype=uint8)"
                    },
                    "execution_count": null
                }
            ]
        },
        {
            "id": "a3e52ed9",
            "cell_type": "markdown",
            "source": "Creating a view on a structured array so it can be used in calculations\n",
            "metadata": {}
        },
        {
            "id": "271a0585",
            "cell_type": "code",
            "metadata": {},
            "execution_count": null,
            "source": "x = np.array([(1, 2),(3,4)], dtype=[('a', np.int8), ('b', np.int8)])\nxv = x.view(dtype=np.int8).reshape(-1,2)\nxv",
            "outputs": [
                {
                    "output_type": "execute_result",
                    "metadata": {},
                    "data": {
                        "text/plain": "array([[1, 2],\n       [3, 4]], dtype=int8)"
                    },
                    "execution_count": null
                }
            ]
        },
        {
            "id": "5b86d6d7",
            "cell_type": "code",
            "metadata": {},
            "execution_count": null,
            "source": "xv.mean(0)",
            "outputs": [
                {
                    "output_type": "execute_result",
                    "metadata": {},
                    "data": {
                        "text/plain": "array([2.,  3.])"
                    },
                    "execution_count": null
                }
            ]
        },
        {
            "id": "3b3d9118",
            "cell_type": "markdown",
            "source": "Making changes to the view changes the underlying array\n",
            "metadata": {}
        },
        {
            "id": "f591d96e",
            "cell_type": "code",
            "metadata": {},
            "execution_count": null,
            "source": "xv[0,1] = 20\nx",
            "outputs": [
                {
                    "output_type": "execute_result",
                    "metadata": {},
                    "data": {
                        "text/plain": "array([(1, 20), (3,  4)], dtype=[('a', 'i1'), ('b', 'i1')])"
                    },
                    "execution_count": null
                }
            ]
        },
        {
            "id": "fa697c4e",
            "cell_type": "markdown",
            "source": "Using a view to convert an array to a recarray:\n",
            "metadata": {}
        },
        {
            "id": "851d2912",
            "cell_type": "code",
            "metadata": {},
            "execution_count": null,
            "source": "z = x.view(np.recarray)\nz.a",
            "outputs": [
                {
                    "output_type": "execute_result",
                    "metadata": {},
                    "data": {
                        "text/plain": "array([1, 3], dtype=int8)"
                    },
                    "execution_count": null
                }
            ]
        },
        {
            "id": "25861336",
            "cell_type": "markdown",
            "source": "Views share data:\n",
            "metadata": {}
        },
        {
            "id": "449ad3a9",
            "cell_type": "code",
            "metadata": {},
            "execution_count": null,
            "source": "x[0] = (9, 10)\nz[0]",
            "outputs": [
                {
                    "output_type": "execute_result",
                    "metadata": {},
                    "data": {
                        "text/plain": "np.record((9, 10), dtype=[('a', 'i1'), ('b', 'i1')])"
                    },
                    "execution_count": null
                }
            ]
        },
        {
            "id": "260efc7f",
            "cell_type": "markdown",
            "source": "Views that change the dtype size (bytes per entry) should normally be\navoided on arrays defined by slices, transposes, fortran-ordering, etc.:\n",
            "metadata": {}
        },
        {
            "id": "ac9119cc",
            "cell_type": "code",
            "metadata": {},
            "execution_count": null,
            "source": "x = np.array([[1, 2, 3], [4, 5, 6]], dtype=np.int16)\ny = x[:, ::2]\ny",
            "outputs": [
                {
                    "output_type": "execute_result",
                    "metadata": {},
                    "data": {
                        "text/plain": "array([[1, 3],\n       [4, 6]], dtype=int16)"
                    },
                    "execution_count": null
                }
            ]
        },
        {
            "id": "ad04dfdf",
            "cell_type": "code",
            "metadata": {},
            "execution_count": null,
            "source": "y.view(dtype=[('width', np.int16), ('length', np.int16)])",
            "outputs": [
                {
                    "output_type": "execute_result",
                    "metadata": {},
                    "data": {
                        "text/plain": "Traceback (most recent call last):\n    ...\nValueError: To change to a dtype of a different size, the last axis must be contiguous"
                    },
                    "execution_count": null
                }
            ]
        },
        {
            "id": "fed0348a",
            "cell_type": "code",
            "metadata": {},
            "execution_count": null,
            "source": "z = y.copy()\nz.view(dtype=[('width', np.int16), ('length', np.int16)])",
            "outputs": [
                {
                    "output_type": "execute_result",
                    "metadata": {},
                    "data": {
                        "text/plain": "array([[(1, 3)],\n       [(4, 6)]], dtype=[('width', '<i2'), ('length', '<i2')])"
                    },
                    "execution_count": null
                }
            ]
        },
        {
            "id": "ad0bb74a",
            "cell_type": "markdown",
            "source": "However, views that change dtype are totally fine for arrays with a\ncontiguous last axis, even if the rest of the axes are not C-contiguous:\n",
            "metadata": {}
        },
        {
            "id": "4648f811",
            "cell_type": "code",
            "metadata": {},
            "execution_count": null,
            "source": "x = np.arange(2 * 3 * 4, dtype=np.int8).reshape(2, 3, 4)\nx.transpose(1, 0, 2).view(np.int16)",
            "outputs": [
                {
                    "output_type": "execute_result",
                    "metadata": {},
                    "data": {
                        "text/plain": "array([[[ 256,  770],\n        [3340, 3854]],\n<BLANKLINE>\n       [[1284, 1798],\n        [4368, 4882]],\n<BLANKLINE>\n       [[2312, 2826],\n        [5396, 5910]]], dtype=int16)"
                    },
                    "execution_count": null
                }
            ]
        }
    ]
}