{
    "nbformat": 4,
    "nbformat_minor": 5,
    "metadata": {
        "kernelspec": {
            "display_name": "Python",
            "language": "python",
            "name": "python"
        },
        "language_info": {
            "name": "python"
        }
    },
    "cells": [
        {
            "id": "d28590fb",
            "cell_type": "markdown",
            "source": "<div class='alert alert-warning'>\n\nNumPy's interactive examples are experimental and may not always work as expected, with high load times especially on low-resource platforms, and the version of NumPy might not be in sync with the one you are browsing the documentation for. If you encounter any issues, please report them on the [NumPy issue tracker](https://github.com/numpy/numpy/issues).\n\n</div>",
            "metadata": {}
        },
        {
            "id": "e4d493f9",
            "cell_type": "code",
            "metadata": {},
            "execution_count": null,
            "source": "import numpy as np\nnp.base_repr(5)",
            "outputs": [
                {
                    "output_type": "execute_result",
                    "metadata": {},
                    "data": {
                        "text/plain": "'101'"
                    },
                    "execution_count": null
                }
            ]
        },
        {
            "id": "97b616c0",
            "cell_type": "code",
            "metadata": {},
            "execution_count": null,
            "source": "np.base_repr(6, 5)",
            "outputs": [
                {
                    "output_type": "execute_result",
                    "metadata": {},
                    "data": {
                        "text/plain": "'11'"
                    },
                    "execution_count": null
                }
            ]
        },
        {
            "id": "69abc931",
            "cell_type": "code",
            "metadata": {},
            "execution_count": null,
            "source": "np.base_repr(7, base=5, padding=3)",
            "outputs": [
                {
                    "output_type": "execute_result",
                    "metadata": {},
                    "data": {
                        "text/plain": "'00012'"
                    },
                    "execution_count": null
                }
            ]
        },
        {
            "id": "5b8fec17",
            "cell_type": "code",
            "metadata": {},
            "execution_count": null,
            "source": "np.base_repr(10, base=16)",
            "outputs": [
                {
                    "output_type": "execute_result",
                    "metadata": {},
                    "data": {
                        "text/plain": "'A'"
                    },
                    "execution_count": null
                }
            ]
        },
        {
            "id": "c2ff88a7",
            "cell_type": "code",
            "metadata": {},
            "execution_count": null,
            "source": "np.base_repr(32, base=16)",
            "outputs": [
                {
                    "output_type": "execute_result",
                    "metadata": {},
                    "data": {
                        "text/plain": "'20'"
                    },
                    "execution_count": null
                }
            ]
        }
    ]
}