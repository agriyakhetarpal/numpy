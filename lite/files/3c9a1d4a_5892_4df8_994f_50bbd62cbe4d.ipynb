{
    "nbformat": 4,
    "nbformat_minor": 5,
    "metadata": {
        "kernelspec": {
            "display_name": "Python",
            "language": "python",
            "name": "python"
        },
        "language_info": {
            "name": "python"
        }
    },
    "cells": [
        {
            "id": "b40d90e9",
            "cell_type": "markdown",
            "source": "<div class='alert alert-warning'>\n\nNumPy's interactive examples are experimental and may not always work as expected, with high load times especially on low-resource platforms, and the version of NumPy might not be in sync with the one you are browsing the documentation for. If you encounter any issues, please report them on the [NumPy issue tracker](https://github.com/numpy/numpy/issues).\n\n</div>",
            "metadata": {}
        },
        {
            "id": "25f4d768",
            "cell_type": "code",
            "metadata": {},
            "execution_count": null,
            "source": "import numpy as np\na = np.array([\"a\", \"b\", \"c\"])\nnp.strings.multiply(a, 3)",
            "outputs": [
                {
                    "output_type": "execute_result",
                    "metadata": {},
                    "data": {
                        "text/plain": "array(['aaa', 'bbb', 'ccc'], dtype='<U3')"
                    },
                    "execution_count": null
                }
            ]
        },
        {
            "id": "80d735dc",
            "cell_type": "code",
            "metadata": {},
            "execution_count": null,
            "source": "i = np.array([1, 2, 3])\nnp.strings.multiply(a, i)",
            "outputs": [
                {
                    "output_type": "execute_result",
                    "metadata": {},
                    "data": {
                        "text/plain": "array(['a', 'bb', 'ccc'], dtype='<U3')"
                    },
                    "execution_count": null
                }
            ]
        },
        {
            "id": "14be5867",
            "cell_type": "code",
            "metadata": {},
            "execution_count": null,
            "source": "np.strings.multiply(np.array(['a']), i)",
            "outputs": [
                {
                    "output_type": "execute_result",
                    "metadata": {},
                    "data": {
                        "text/plain": "array(['a', 'aa', 'aaa'], dtype='<U3')"
                    },
                    "execution_count": null
                }
            ]
        },
        {
            "id": "cf4dca22",
            "cell_type": "code",
            "metadata": {},
            "execution_count": null,
            "source": "a = np.array(['a', 'b', 'c', 'd', 'e', 'f']).reshape((2, 3))\nnp.strings.multiply(a, 3)",
            "outputs": [
                {
                    "output_type": "execute_result",
                    "metadata": {},
                    "data": {
                        "text/plain": "array([['aaa', 'bbb', 'ccc'],\n       ['ddd', 'eee', 'fff']], dtype='<U3')"
                    },
                    "execution_count": null
                }
            ]
        },
        {
            "id": "dca4c053",
            "cell_type": "code",
            "metadata": {},
            "execution_count": null,
            "source": "np.strings.multiply(a, i)",
            "outputs": [
                {
                    "output_type": "execute_result",
                    "metadata": {},
                    "data": {
                        "text/plain": "array([['a', 'bb', 'ccc'],\n       ['d', 'ee', 'fff']], dtype='<U3')"
                    },
                    "execution_count": null
                }
            ]
        }
    ]
}