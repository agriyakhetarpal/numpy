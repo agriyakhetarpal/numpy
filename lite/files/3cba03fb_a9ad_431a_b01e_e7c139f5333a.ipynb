{
    "nbformat": 4,
    "nbformat_minor": 5,
    "metadata": {
        "kernelspec": {
            "display_name": "Python",
            "language": "python",
            "name": "python"
        },
        "language_info": {
            "name": "python"
        }
    },
    "cells": [
        {
            "id": "b0ad54d1",
            "cell_type": "markdown",
            "source": "<div class='alert alert-warning'>\n\nNumPy's interactive examples are experimental and may not always work as expected, with high load times especially on low-resource platforms, and the version of NumPy might not be in sync with the one you are browsing the documentation for. If you encounter any issues, please report them on the [NumPy issue tracker](https://github.com/numpy/numpy/issues).\n\n</div>",
            "metadata": {}
        },
        {
            "id": "a4b1087e",
            "cell_type": "code",
            "metadata": {},
            "execution_count": null,
            "source": "import numpy as np\nimport numpy.ma as ma\nx = ma.array(np.eye(3))\nx",
            "outputs": [
                {
                    "output_type": "execute_result",
                    "metadata": {},
                    "data": {
                        "text/plain": "masked_array(\n  data=[[1., 0., 0.],\n        [0., 1., 0.],\n        [0., 0., 1.]],\n  mask=False,\n  fill_value=1e+20)"
                    },
                    "execution_count": null
                }
            ]
        },
        {
            "id": "c0fee7b0",
            "cell_type": "code",
            "metadata": {},
            "execution_count": null,
            "source": "x.nonzero()",
            "outputs": [
                {
                    "output_type": "execute_result",
                    "metadata": {},
                    "data": {
                        "text/plain": "(array([0, 1, 2]), array([0, 1, 2]))"
                    },
                    "execution_count": null
                }
            ]
        },
        {
            "id": "5b2b1a47",
            "cell_type": "markdown",
            "source": "Masked elements are ignored.\n",
            "metadata": {}
        },
        {
            "id": "9453a85d",
            "cell_type": "code",
            "metadata": {},
            "execution_count": null,
            "source": "x[1, 1] = ma.masked\nx",
            "outputs": [
                {
                    "output_type": "execute_result",
                    "metadata": {},
                    "data": {
                        "text/plain": "masked_array(\n  data=[[1.0, 0.0, 0.0],\n        [0.0, --, 0.0],\n        [0.0, 0.0, 1.0]],\n  mask=[[False, False, False],\n        [False,  True, False],\n        [False, False, False]],\n  fill_value=1e+20)"
                    },
                    "execution_count": null
                }
            ]
        },
        {
            "id": "ca3dba10",
            "cell_type": "code",
            "metadata": {},
            "execution_count": null,
            "source": "x.nonzero()",
            "outputs": [
                {
                    "output_type": "execute_result",
                    "metadata": {},
                    "data": {
                        "text/plain": "(array([0, 2]), array([0, 2]))"
                    },
                    "execution_count": null
                }
            ]
        },
        {
            "id": "21a3f41a",
            "cell_type": "markdown",
            "source": "Indices can also be grouped by element.\n",
            "metadata": {}
        },
        {
            "id": "eda508fe",
            "cell_type": "code",
            "metadata": {},
            "execution_count": null,
            "source": "np.transpose(x.nonzero())",
            "outputs": [
                {
                    "output_type": "execute_result",
                    "metadata": {},
                    "data": {
                        "text/plain": "array([[0, 0],\n       [2, 2]])"
                    },
                    "execution_count": null
                }
            ]
        },
        {
            "id": "6117797d",
            "cell_type": "markdown",
            "source": "A common use for ``nonzero`` is to find the indices of an array, where\na condition is True.  Given an array `a`, the condition `a` > 3 is a\nboolean array and since False is interpreted as 0, ma.nonzero(a > 3)\nyields the indices of the `a` where the condition is true.\n",
            "metadata": {}
        },
        {
            "id": "13e20434",
            "cell_type": "code",
            "metadata": {},
            "execution_count": null,
            "source": "a = ma.array([[1,2,3],[4,5,6],[7,8,9]])\na > 3",
            "outputs": [
                {
                    "output_type": "execute_result",
                    "metadata": {},
                    "data": {
                        "text/plain": "masked_array(\n  data=[[False, False, False],\n        [ True,  True,  True],\n        [ True,  True,  True]],\n  mask=False,\n  fill_value=True)"
                    },
                    "execution_count": null
                }
            ]
        },
        {
            "id": "6b146d7a",
            "cell_type": "code",
            "metadata": {},
            "execution_count": null,
            "source": "ma.nonzero(a > 3)",
            "outputs": [
                {
                    "output_type": "execute_result",
                    "metadata": {},
                    "data": {
                        "text/plain": "(array([1, 1, 1, 2, 2, 2]), array([0, 1, 2, 0, 1, 2]))"
                    },
                    "execution_count": null
                }
            ]
        },
        {
            "id": "8cc3e792",
            "cell_type": "markdown",
            "source": "The ``nonzero`` method of the condition array can also be called.\n",
            "metadata": {}
        },
        {
            "id": "65a9c7c3",
            "cell_type": "code",
            "metadata": {},
            "execution_count": null,
            "source": "(a > 3).nonzero()",
            "outputs": [
                {
                    "output_type": "execute_result",
                    "metadata": {},
                    "data": {
                        "text/plain": "(array([1, 1, 1, 2, 2, 2]), array([0, 1, 2, 0, 1, 2]))"
                    },
                    "execution_count": null
                }
            ]
        }
    ]
}