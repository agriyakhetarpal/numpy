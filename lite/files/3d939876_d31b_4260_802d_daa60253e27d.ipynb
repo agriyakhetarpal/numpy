{
    "nbformat": 4,
    "nbformat_minor": 5,
    "metadata": {
        "kernelspec": {
            "display_name": "Python",
            "language": "python",
            "name": "python"
        },
        "language_info": {
            "name": "python"
        }
    },
    "cells": [
        {
            "id": "541f0efa",
            "cell_type": "markdown",
            "source": "<div class='alert alert-warning'>\n\nNumPy's interactive examples are experimental and may not always work as expected, with high load times especially on low-resource platforms, and the version of NumPy might not be in sync with the one you are browsing the documentation for. If you encounter any issues, please report them on the [NumPy issue tracker](https://github.com/numpy/numpy/issues).\n\n</div>",
            "metadata": {}
        },
        {
            "id": "62733ce1",
            "cell_type": "code",
            "metadata": {},
            "execution_count": null,
            "source": "import numpy as np\na = np.array([[10., 7., 4.], [3., 2., 1.]])\na[0][1] = np.nan\na",
            "outputs": [
                {
                    "output_type": "execute_result",
                    "metadata": {},
                    "data": {
                        "text/plain": "array([[10.,  nan,   4.],\n      [ 3.,   2.,   1.]])"
                    },
                    "execution_count": null
                }
            ]
        },
        {
            "id": "b33dbc84",
            "cell_type": "code",
            "metadata": {},
            "execution_count": null,
            "source": "np.percentile(a, 50)",
            "outputs": [
                {
                    "output_type": "execute_result",
                    "metadata": {},
                    "data": {
                        "text/plain": "np.float64(nan)"
                    },
                    "execution_count": null
                }
            ]
        },
        {
            "id": "564d2164",
            "cell_type": "code",
            "metadata": {},
            "execution_count": null,
            "source": "np.nanpercentile(a, 50)",
            "outputs": [
                {
                    "output_type": "execute_result",
                    "metadata": {},
                    "data": {
                        "text/plain": "3.0"
                    },
                    "execution_count": null
                }
            ]
        },
        {
            "id": "a50a9f42",
            "cell_type": "code",
            "metadata": {},
            "execution_count": null,
            "source": "np.nanpercentile(a, 50, axis=0)",
            "outputs": [
                {
                    "output_type": "execute_result",
                    "metadata": {},
                    "data": {
                        "text/plain": "array([6.5, 2. , 2.5])"
                    },
                    "execution_count": null
                }
            ]
        },
        {
            "id": "aa8f25b5",
            "cell_type": "code",
            "metadata": {},
            "execution_count": null,
            "source": "np.nanpercentile(a, 50, axis=1, keepdims=True)",
            "outputs": [
                {
                    "output_type": "execute_result",
                    "metadata": {},
                    "data": {
                        "text/plain": "array([[7.],\n       [2.]])"
                    },
                    "execution_count": null
                }
            ]
        },
        {
            "id": "74bdce41",
            "cell_type": "code",
            "metadata": {},
            "execution_count": null,
            "source": "m = np.nanpercentile(a, 50, axis=0)\nout = np.zeros_like(m)\nnp.nanpercentile(a, 50, axis=0, out=out)",
            "outputs": [
                {
                    "output_type": "execute_result",
                    "metadata": {},
                    "data": {
                        "text/plain": "array([6.5, 2. , 2.5])"
                    },
                    "execution_count": null
                }
            ]
        },
        {
            "id": "eb144b14",
            "cell_type": "code",
            "metadata": {},
            "execution_count": null,
            "source": "m",
            "outputs": [
                {
                    "output_type": "execute_result",
                    "metadata": {},
                    "data": {
                        "text/plain": "array([6.5,  2. ,  2.5])"
                    },
                    "execution_count": null
                }
            ]
        },
        {
            "id": "ed71cc57",
            "cell_type": "code",
            "metadata": {},
            "execution_count": null,
            "source": "b = a.copy()\nnp.nanpercentile(b, 50, axis=1, overwrite_input=True)",
            "outputs": [
                {
                    "output_type": "execute_result",
                    "metadata": {},
                    "data": {
                        "text/plain": "array([7., 2.])"
                    },
                    "execution_count": null
                }
            ]
        },
        {
            "id": "a6aac588",
            "cell_type": "code",
            "metadata": {},
            "execution_count": null,
            "source": "assert not np.all(a==b)",
            "outputs": []
        }
    ]
}