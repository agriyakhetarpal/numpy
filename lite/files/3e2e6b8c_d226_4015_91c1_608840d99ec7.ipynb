{
    "nbformat": 4,
    "nbformat_minor": 5,
    "metadata": {
        "kernelspec": {
            "display_name": "Python",
            "language": "python",
            "name": "python"
        },
        "language_info": {
            "name": "python"
        }
    },
    "cells": [
        {
            "id": "4b326a28",
            "cell_type": "markdown",
            "source": "<div class='alert alert-warning'>\n\nNumPy's interactive examples are experimental and may not always work as expected, with high load times especially on low-resource platforms, , and the version of NumPy might not be in sync with the one you are browsing the documentation for. If you encounter any issues, please report them on the [NumPy issue tracker](https://github.com/numpy/numpy/issues).\n\n</div>",
            "metadata": {}
        },
        {
            "id": "13ea66b0",
            "cell_type": "code",
            "metadata": {},
            "execution_count": null,
            "source": "import numpy as np\nnp.isclose([1e10,1e-7], [1.00001e10,1e-8])",
            "outputs": [
                {
                    "output_type": "execute_result",
                    "metadata": {},
                    "data": {
                        "text/plain": "array([ True, False])"
                    },
                    "execution_count": null
                }
            ]
        },
        {
            "id": "7dcb4e58",
            "cell_type": "code",
            "metadata": {},
            "execution_count": null,
            "source": "np.isclose([1e10,1e-8], [1.00001e10,1e-9])",
            "outputs": [
                {
                    "output_type": "execute_result",
                    "metadata": {},
                    "data": {
                        "text/plain": "array([ True, True])"
                    },
                    "execution_count": null
                }
            ]
        },
        {
            "id": "1e6e6362",
            "cell_type": "code",
            "metadata": {},
            "execution_count": null,
            "source": "np.isclose([1e10,1e-8], [1.0001e10,1e-9])",
            "outputs": [
                {
                    "output_type": "execute_result",
                    "metadata": {},
                    "data": {
                        "text/plain": "array([False,  True])"
                    },
                    "execution_count": null
                }
            ]
        },
        {
            "id": "4f3b7ca6",
            "cell_type": "code",
            "metadata": {},
            "execution_count": null,
            "source": "np.isclose([1.0, np.nan], [1.0, np.nan])",
            "outputs": [
                {
                    "output_type": "execute_result",
                    "metadata": {},
                    "data": {
                        "text/plain": "array([ True, False])"
                    },
                    "execution_count": null
                }
            ]
        },
        {
            "id": "2debda60",
            "cell_type": "code",
            "metadata": {},
            "execution_count": null,
            "source": "np.isclose([1.0, np.nan], [1.0, np.nan], equal_nan=True)",
            "outputs": [
                {
                    "output_type": "execute_result",
                    "metadata": {},
                    "data": {
                        "text/plain": "array([ True, True])"
                    },
                    "execution_count": null
                }
            ]
        },
        {
            "id": "463230dc",
            "cell_type": "code",
            "metadata": {},
            "execution_count": null,
            "source": "np.isclose([1e-8, 1e-7], [0.0, 0.0])",
            "outputs": [
                {
                    "output_type": "execute_result",
                    "metadata": {},
                    "data": {
                        "text/plain": "array([ True, False])"
                    },
                    "execution_count": null
                }
            ]
        },
        {
            "id": "b29bc903",
            "cell_type": "code",
            "metadata": {},
            "execution_count": null,
            "source": "np.isclose([1e-100, 1e-7], [0.0, 0.0], atol=0.0)",
            "outputs": [
                {
                    "output_type": "execute_result",
                    "metadata": {},
                    "data": {
                        "text/plain": "array([False, False])"
                    },
                    "execution_count": null
                }
            ]
        },
        {
            "id": "654e2b71",
            "cell_type": "code",
            "metadata": {},
            "execution_count": null,
            "source": "np.isclose([1e-10, 1e-10], [1e-20, 0.0])",
            "outputs": [
                {
                    "output_type": "execute_result",
                    "metadata": {},
                    "data": {
                        "text/plain": "array([ True,  True])"
                    },
                    "execution_count": null
                }
            ]
        },
        {
            "id": "01e61c9c",
            "cell_type": "code",
            "metadata": {},
            "execution_count": null,
            "source": "np.isclose([1e-10, 1e-10], [1e-20, 0.999999e-10], atol=0.0)",
            "outputs": [
                {
                    "output_type": "execute_result",
                    "metadata": {},
                    "data": {
                        "text/plain": "array([False,  True])"
                    },
                    "execution_count": null
                }
            ]
        }
    ]
}