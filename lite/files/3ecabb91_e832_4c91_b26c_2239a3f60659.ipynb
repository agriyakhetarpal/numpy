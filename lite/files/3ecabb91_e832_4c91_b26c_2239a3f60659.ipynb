{
    "nbformat": 4,
    "nbformat_minor": 5,
    "metadata": {
        "kernelspec": {
            "display_name": "Python",
            "language": "python",
            "name": "python"
        },
        "language_info": {
            "name": "python"
        }
    },
    "cells": [
        {
            "id": "e4a52177",
            "cell_type": "markdown",
            "source": "<div class='alert alert-warning'>\n\nNumPy's interactive examples are experimental and may not always work as expected, with high load times especially on low-resource platforms, and the version of NumPy might not be in sync with the one you are browsing the documentation for. If you encounter any issues, please report them on the [NumPy issue tracker](https://github.com/numpy/numpy/issues).\n\n</div>",
            "metadata": {}
        },
        {
            "id": "9e782e0f",
            "cell_type": "markdown",
            "source": "The determinant of a 2-D array ``[[a, b], [c, d]]`` is ``ad - bc``:\n",
            "metadata": {}
        },
        {
            "id": "98f9cbd1",
            "cell_type": "code",
            "metadata": {},
            "execution_count": null,
            "source": "import numpy as np\na = np.array([[1, 2], [3, 4]])\n(sign, logabsdet) = np.linalg.slogdet(a)\n(sign, logabsdet)",
            "outputs": [
                {
                    "output_type": "execute_result",
                    "metadata": {},
                    "data": {
                        "text/plain": "(-1, 0.69314718055994529) # may vary"
                    },
                    "execution_count": null
                }
            ]
        },
        {
            "id": "212cebb1",
            "cell_type": "code",
            "metadata": {},
            "execution_count": null,
            "source": "sign * np.exp(logabsdet)",
            "outputs": [
                {
                    "output_type": "execute_result",
                    "metadata": {},
                    "data": {
                        "text/plain": "-2.0"
                    },
                    "execution_count": null
                }
            ]
        },
        {
            "id": "9602973c",
            "cell_type": "markdown",
            "source": "Computing log-determinants for a stack of matrices:\n",
            "metadata": {}
        },
        {
            "id": "1e11a9e1",
            "cell_type": "code",
            "metadata": {},
            "execution_count": null,
            "source": "a = np.array([ [[1, 2], [3, 4]], [[1, 2], [2, 1]], [[1, 3], [3, 1]] ])\na.shape",
            "outputs": [
                {
                    "output_type": "execute_result",
                    "metadata": {},
                    "data": {
                        "text/plain": "(3, 2, 2)"
                    },
                    "execution_count": null
                }
            ]
        },
        {
            "id": "0ea8e5dc",
            "cell_type": "code",
            "metadata": {},
            "execution_count": null,
            "source": "sign, logabsdet = np.linalg.slogdet(a)\n(sign, logabsdet)",
            "outputs": [
                {
                    "output_type": "execute_result",
                    "metadata": {},
                    "data": {
                        "text/plain": "(array([-1., -1., -1.]), array([ 0.69314718,  1.09861229,  2.07944154]))"
                    },
                    "execution_count": null
                }
            ]
        },
        {
            "id": "9d7b6bf0",
            "cell_type": "code",
            "metadata": {},
            "execution_count": null,
            "source": "sign * np.exp(logabsdet)",
            "outputs": [
                {
                    "output_type": "execute_result",
                    "metadata": {},
                    "data": {
                        "text/plain": "array([-2., -3., -8.])"
                    },
                    "execution_count": null
                }
            ]
        },
        {
            "id": "0e01f77e",
            "cell_type": "markdown",
            "source": "This routine succeeds where ordinary `det` does not:\n",
            "metadata": {}
        },
        {
            "id": "fcab2826",
            "cell_type": "code",
            "metadata": {},
            "execution_count": null,
            "source": "np.linalg.det(np.eye(500) * 0.1)",
            "outputs": [
                {
                    "output_type": "execute_result",
                    "metadata": {},
                    "data": {
                        "text/plain": "0.0"
                    },
                    "execution_count": null
                }
            ]
        },
        {
            "id": "e0c41df4",
            "cell_type": "code",
            "metadata": {},
            "execution_count": null,
            "source": "np.linalg.slogdet(np.eye(500) * 0.1)",
            "outputs": [
                {
                    "output_type": "execute_result",
                    "metadata": {},
                    "data": {
                        "text/plain": "(1, -1151.2925464970228)"
                    },
                    "execution_count": null
                }
            ]
        }
    ]
}