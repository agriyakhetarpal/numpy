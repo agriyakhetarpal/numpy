{
    "nbformat": 4,
    "nbformat_minor": 5,
    "metadata": {
        "kernelspec": {
            "display_name": "Python",
            "language": "python",
            "name": "python"
        },
        "language_info": {
            "name": "python"
        }
    },
    "cells": [
        {
            "id": "21f206cd",
            "cell_type": "markdown",
            "source": "<div class='alert alert-warning'>\n\nNumPy's interactive examples are experimental and may not always work as expected, with high load times especially on low-resource platforms, and the version of NumPy might not be in sync with the one you are browsing the documentation for. If you encounter any issues, please report them on the [NumPy issue tracker](https://github.com/numpy/numpy/issues).\n\n</div>",
            "metadata": {}
        },
        {
            "id": "a3a4623f",
            "cell_type": "code",
            "metadata": {},
            "execution_count": null,
            "source": "import numpy as np\na = np.array([0, 1, 2])\nnp.tile(a, 2)",
            "outputs": [
                {
                    "output_type": "execute_result",
                    "metadata": {},
                    "data": {
                        "text/plain": "array([0, 1, 2, 0, 1, 2])"
                    },
                    "execution_count": null
                }
            ]
        },
        {
            "id": "423ceaf5",
            "cell_type": "code",
            "metadata": {},
            "execution_count": null,
            "source": "np.tile(a, (2, 2))",
            "outputs": [
                {
                    "output_type": "execute_result",
                    "metadata": {},
                    "data": {
                        "text/plain": "array([[0, 1, 2, 0, 1, 2],\n       [0, 1, 2, 0, 1, 2]])"
                    },
                    "execution_count": null
                }
            ]
        },
        {
            "id": "0d5fb02f",
            "cell_type": "code",
            "metadata": {},
            "execution_count": null,
            "source": "np.tile(a, (2, 1, 2))",
            "outputs": [
                {
                    "output_type": "execute_result",
                    "metadata": {},
                    "data": {
                        "text/plain": "array([[[0, 1, 2, 0, 1, 2]],\n       [[0, 1, 2, 0, 1, 2]]])"
                    },
                    "execution_count": null
                }
            ]
        },
        {
            "id": "9a951f76",
            "cell_type": "code",
            "metadata": {},
            "execution_count": null,
            "source": "b = np.array([[1, 2], [3, 4]])\nnp.tile(b, 2)",
            "outputs": [
                {
                    "output_type": "execute_result",
                    "metadata": {},
                    "data": {
                        "text/plain": "array([[1, 2, 1, 2],\n       [3, 4, 3, 4]])"
                    },
                    "execution_count": null
                }
            ]
        },
        {
            "id": "0a33c822",
            "cell_type": "code",
            "metadata": {},
            "execution_count": null,
            "source": "np.tile(b, (2, 1))",
            "outputs": [
                {
                    "output_type": "execute_result",
                    "metadata": {},
                    "data": {
                        "text/plain": "array([[1, 2],\n       [3, 4],\n       [1, 2],\n       [3, 4]])"
                    },
                    "execution_count": null
                }
            ]
        },
        {
            "id": "d7a8ce8f",
            "cell_type": "code",
            "metadata": {},
            "execution_count": null,
            "source": "c = np.array([1,2,3,4])\nnp.tile(c,(4,1))",
            "outputs": [
                {
                    "output_type": "execute_result",
                    "metadata": {},
                    "data": {
                        "text/plain": "array([[1, 2, 3, 4],\n       [1, 2, 3, 4],\n       [1, 2, 3, 4],\n       [1, 2, 3, 4]])"
                    },
                    "execution_count": null
                }
            ]
        }
    ]
}