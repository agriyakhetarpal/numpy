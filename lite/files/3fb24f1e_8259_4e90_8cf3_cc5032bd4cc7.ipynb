{
    "nbformat": 4,
    "nbformat_minor": 5,
    "metadata": {
        "kernelspec": {
            "display_name": "Python",
            "language": "python",
            "name": "python"
        },
        "language_info": {
            "name": "python"
        }
    },
    "cells": [
        {
            "id": "326038ba",
            "cell_type": "markdown",
            "source": "<div class='alert alert-warning'>\n\nNumPy's interactive examples are experimental and may not always work as expected, with high load times especially on low-resource platforms, and the version of NumPy might not be in sync with the one you are browsing the documentation for. If you encounter any issues, please report them on the [NumPy issue tracker](https://github.com/numpy/numpy/issues).\n\n</div>",
            "metadata": {}
        },
        {
            "id": "74b9803f",
            "cell_type": "code",
            "metadata": {},
            "execution_count": null,
            "source": "a = np.array([1, 2, 3])\nnp.cumulative_prod(a)  # intermediate results 1, 1*2\n                       # total product 1*2*3 = 6",
            "outputs": [
                {
                    "output_type": "execute_result",
                    "metadata": {},
                    "data": {
                        "text/plain": "array([1, 2, 6])"
                    },
                    "execution_count": null
                }
            ]
        },
        {
            "id": "7e9060dc",
            "cell_type": "code",
            "metadata": {},
            "execution_count": null,
            "source": "a = np.array([1, 2, 3, 4, 5, 6])\nnp.cumulative_prod(a, dtype=float) # specify type of output",
            "outputs": [
                {
                    "output_type": "execute_result",
                    "metadata": {},
                    "data": {
                        "text/plain": "array([   1.,    2.,    6.,   24.,  120.,  720.])"
                    },
                    "execution_count": null
                }
            ]
        },
        {
            "id": "9df3556d",
            "cell_type": "markdown",
            "source": "The cumulative product for each column (i.e., over the rows) of ``b``:\n",
            "metadata": {}
        },
        {
            "id": "1f44ff91",
            "cell_type": "code",
            "metadata": {},
            "execution_count": null,
            "source": "b = np.array([[1, 2, 3], [4, 5, 6]])\nnp.cumulative_prod(b, axis=0)",
            "outputs": [
                {
                    "output_type": "execute_result",
                    "metadata": {},
                    "data": {
                        "text/plain": "array([[ 1,  2,  3],\n       [ 4, 10, 18]])"
                    },
                    "execution_count": null
                }
            ]
        },
        {
            "id": "4b1ba52c",
            "cell_type": "markdown",
            "source": "The cumulative product for each row (i.e. over the columns) of ``b``:\n",
            "metadata": {}
        },
        {
            "id": "54410156",
            "cell_type": "code",
            "metadata": {},
            "execution_count": null,
            "source": "np.cumulative_prod(b, axis=1)",
            "outputs": [
                {
                    "output_type": "execute_result",
                    "metadata": {},
                    "data": {
                        "text/plain": "array([[  1,   2,   6],\n       [  4,  20, 120]])"
                    },
                    "execution_count": null
                }
            ]
        }
    ]
}