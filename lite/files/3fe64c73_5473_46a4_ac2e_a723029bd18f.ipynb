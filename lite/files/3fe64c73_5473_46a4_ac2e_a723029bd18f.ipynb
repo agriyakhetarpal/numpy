{
    "nbformat": 4,
    "nbformat_minor": 5,
    "metadata": {
        "kernelspec": {
            "display_name": "Python",
            "language": "python",
            "name": "python"
        },
        "language_info": {
            "name": "python"
        }
    },
    "cells": [
        {
            "id": "d5ed71b2",
            "cell_type": "markdown",
            "source": "<div class='alert alert-warning'>\n\nNumPy's interactive examples are experimental and may not always work as expected, with high load times especially on low-resource platforms, , and the version of NumPy might not be in sync with the one you are browsing the documentation for. If you encounter any issues, please report them on the [NumPy issue tracker](https://github.com/numpy/numpy/issues).\n\n</div>",
            "metadata": {}
        },
        {
            "id": "fed7c7f7",
            "cell_type": "markdown",
            "source": "The determinant of a 2-D array ``[[a, b], [c, d]]`` is ``ad - bc``:\n",
            "metadata": {}
        },
        {
            "id": "a10dafce",
            "cell_type": "code",
            "metadata": {},
            "execution_count": null,
            "source": "import numpy as np\na = np.array([[1, 2], [3, 4]])\n(sign, logabsdet) = np.linalg.slogdet(a)\n(sign, logabsdet)",
            "outputs": [
                {
                    "output_type": "execute_result",
                    "metadata": {},
                    "data": {
                        "text/plain": "(-1, 0.69314718055994529) # may vary"
                    },
                    "execution_count": null
                }
            ]
        },
        {
            "id": "386cbc92",
            "cell_type": "code",
            "metadata": {},
            "execution_count": null,
            "source": "sign * np.exp(logabsdet)",
            "outputs": [
                {
                    "output_type": "execute_result",
                    "metadata": {},
                    "data": {
                        "text/plain": "-2.0"
                    },
                    "execution_count": null
                }
            ]
        },
        {
            "id": "232543a3",
            "cell_type": "markdown",
            "source": "Computing log-determinants for a stack of matrices:\n",
            "metadata": {}
        },
        {
            "id": "6560974d",
            "cell_type": "code",
            "metadata": {},
            "execution_count": null,
            "source": "a = np.array([ [[1, 2], [3, 4]], [[1, 2], [2, 1]], [[1, 3], [3, 1]] ])\na.shape",
            "outputs": [
                {
                    "output_type": "execute_result",
                    "metadata": {},
                    "data": {
                        "text/plain": "(3, 2, 2)"
                    },
                    "execution_count": null
                }
            ]
        },
        {
            "id": "a2d07c22",
            "cell_type": "code",
            "metadata": {},
            "execution_count": null,
            "source": "sign, logabsdet = np.linalg.slogdet(a)\n(sign, logabsdet)",
            "outputs": [
                {
                    "output_type": "execute_result",
                    "metadata": {},
                    "data": {
                        "text/plain": "(array([-1., -1., -1.]), array([ 0.69314718,  1.09861229,  2.07944154]))"
                    },
                    "execution_count": null
                }
            ]
        },
        {
            "id": "1bb02a9b",
            "cell_type": "code",
            "metadata": {},
            "execution_count": null,
            "source": "sign * np.exp(logabsdet)",
            "outputs": [
                {
                    "output_type": "execute_result",
                    "metadata": {},
                    "data": {
                        "text/plain": "array([-2., -3., -8.])"
                    },
                    "execution_count": null
                }
            ]
        },
        {
            "id": "c9a34659",
            "cell_type": "markdown",
            "source": "This routine succeeds where ordinary `det` does not:\n",
            "metadata": {}
        },
        {
            "id": "f0105bde",
            "cell_type": "code",
            "metadata": {},
            "execution_count": null,
            "source": "np.linalg.det(np.eye(500) * 0.1)",
            "outputs": [
                {
                    "output_type": "execute_result",
                    "metadata": {},
                    "data": {
                        "text/plain": "0.0"
                    },
                    "execution_count": null
                }
            ]
        },
        {
            "id": "d8c7bf23",
            "cell_type": "code",
            "metadata": {},
            "execution_count": null,
            "source": "np.linalg.slogdet(np.eye(500) * 0.1)",
            "outputs": [
                {
                    "output_type": "execute_result",
                    "metadata": {},
                    "data": {
                        "text/plain": "(1, -1151.2925464970228)"
                    },
                    "execution_count": null
                }
            ]
        }
    ]
}