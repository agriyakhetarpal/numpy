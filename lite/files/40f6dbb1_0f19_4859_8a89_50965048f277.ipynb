{
    "nbformat": 4,
    "nbformat_minor": 5,
    "metadata": {
        "kernelspec": {
            "display_name": "Python",
            "language": "python",
            "name": "python"
        },
        "language_info": {
            "name": "python"
        }
    },
    "cells": [
        {
            "id": "18e5c14f",
            "cell_type": "markdown",
            "source": "<div class='alert alert-warning'>\n\nNumPy's interactive examples are experimental and may not always work as expected, with high load times especially on low-resource platforms, , and the version of NumPy might not be in sync with the one you are browsing the documentation for. If you encounter any issues, please report them on the [NumPy issue tracker](https://github.com/numpy/numpy/issues).\n\n</div>",
            "metadata": {}
        },
        {
            "id": "198ec97a",
            "cell_type": "code",
            "metadata": {},
            "execution_count": null,
            "source": "import numpy as np\nimport numpy.ma as ma\nx = [0.31, 1.2, 0.01, 0.2, -0.4, -1.1]\nma.masked_inside(x, -0.3, 0.3)",
            "outputs": [
                {
                    "output_type": "execute_result",
                    "metadata": {},
                    "data": {
                        "text/plain": "masked_array(data=[0.31, 1.2, --, --, -0.4, -1.1],\n             mask=[False, False,  True,  True, False, False],\n       fill_value=1e+20)"
                    },
                    "execution_count": null
                }
            ]
        },
        {
            "id": "538a798f",
            "cell_type": "markdown",
            "source": "The order of `v1` and `v2` doesn't matter.\n",
            "metadata": {}
        },
        {
            "id": "ed20c5d7",
            "cell_type": "code",
            "metadata": {},
            "execution_count": null,
            "source": "ma.masked_inside(x, 0.3, -0.3)",
            "outputs": [
                {
                    "output_type": "execute_result",
                    "metadata": {},
                    "data": {
                        "text/plain": "masked_array(data=[0.31, 1.2, --, --, -0.4, -1.1],\n             mask=[False, False,  True,  True, False, False],\n       fill_value=1e+20)"
                    },
                    "execution_count": null
                }
            ]
        }
    ]
}