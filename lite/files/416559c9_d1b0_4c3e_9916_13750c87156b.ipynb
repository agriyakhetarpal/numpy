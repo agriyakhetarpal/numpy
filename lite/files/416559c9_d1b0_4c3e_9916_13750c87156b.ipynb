{
    "nbformat": 4,
    "nbformat_minor": 5,
    "metadata": {
        "kernelspec": {
            "display_name": "Python",
            "language": "python",
            "name": "python"
        },
        "language_info": {
            "name": "python"
        }
    },
    "cells": [
        {
            "id": "10f6881a",
            "cell_type": "markdown",
            "source": "<div class='alert alert-warning'>\n\nNumPy's interactive examples are experimental and may not always work as expected, with high load times especially on low-resource platforms, , and the version of NumPy might not be in sync with the one you are browsing the documentation for. If you encounter any issues, please report them on the [NumPy issue tracker](https://github.com/numpy/numpy/issues).\n\n</div>",
            "metadata": {}
        },
        {
            "id": "c3ff3bd3",
            "cell_type": "markdown",
            "source": "Create a polynomial object for ``1 + 7*x + 4*x**2``:\n",
            "metadata": {}
        },
        {
            "id": "ddeed3fe",
            "cell_type": "code",
            "metadata": {},
            "execution_count": null,
            "source": "poly = np.polynomial.Polynomial([1, 7, 4])\nprint(poly)",
            "outputs": [
                {
                    "output_type": "execute_result",
                    "metadata": {},
                    "data": {
                        "text/plain": "1.0 + 7.0·x + 4.0·x²"
                    },
                    "execution_count": null
                }
            ]
        },
        {
            "id": "a713571d",
            "cell_type": "code",
            "metadata": {},
            "execution_count": null,
            "source": "poly.degree()",
            "outputs": [
                {
                    "output_type": "execute_result",
                    "metadata": {},
                    "data": {
                        "text/plain": "2"
                    },
                    "execution_count": null
                }
            ]
        },
        {
            "id": "248fb272",
            "cell_type": "markdown",
            "source": "Note that this method does not check for non-zero coefficients.\nYou must trim the polynomial to remove any trailing zeroes:\n",
            "metadata": {}
        },
        {
            "id": "07fd5f35",
            "cell_type": "code",
            "metadata": {},
            "execution_count": null,
            "source": "poly = np.polynomial.Polynomial([1, 7, 0])\nprint(poly)",
            "outputs": [
                {
                    "output_type": "execute_result",
                    "metadata": {},
                    "data": {
                        "text/plain": "1.0 + 7.0·x + 0.0·x²"
                    },
                    "execution_count": null
                }
            ]
        },
        {
            "id": "57c36e29",
            "cell_type": "code",
            "metadata": {},
            "execution_count": null,
            "source": "poly.degree()",
            "outputs": [
                {
                    "output_type": "execute_result",
                    "metadata": {},
                    "data": {
                        "text/plain": "2"
                    },
                    "execution_count": null
                }
            ]
        },
        {
            "id": "f8106c61",
            "cell_type": "code",
            "metadata": {},
            "execution_count": null,
            "source": "poly.trim().degree()",
            "outputs": [
                {
                    "output_type": "execute_result",
                    "metadata": {},
                    "data": {
                        "text/plain": "1"
                    },
                    "execution_count": null
                }
            ]
        }
    ]
}