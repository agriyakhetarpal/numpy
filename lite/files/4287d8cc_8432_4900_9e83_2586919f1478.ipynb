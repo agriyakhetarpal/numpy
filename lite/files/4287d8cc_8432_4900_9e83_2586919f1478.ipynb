{
    "nbformat": 4,
    "nbformat_minor": 5,
    "metadata": {
        "kernelspec": {
            "display_name": "Python",
            "language": "python",
            "name": "python"
        },
        "language_info": {
            "name": "python"
        }
    },
    "cells": [
        {
            "id": "e407d56a",
            "cell_type": "markdown",
            "source": "<div class='alert alert-warning'>\n\nNumPy's interactive examples are experimental and may not always work as expected, with high load times especially on low-resource platforms, and the version of NumPy might not be in sync with the one you are browsing the documentation for. If you encounter any issues, please report them on the [NumPy issue tracker](https://github.com/numpy/numpy/issues).\n\n</div>",
            "metadata": {}
        },
        {
            "id": "527c1e59",
            "cell_type": "code",
            "metadata": {},
            "execution_count": null,
            "source": "import numpy as np",
            "outputs": []
        },
        {
            "id": "d64586da",
            "cell_type": "code",
            "metadata": {},
            "execution_count": null,
            "source": "np.busday_count(np.datetime64('2011-07-11'), np.datetime64('2011-07-18'))",
            "outputs": [
                {
                    "output_type": "execute_result",
                    "metadata": {},
                    "data": {
                        "text/plain": "5"
                    },
                    "execution_count": null
                }
            ]
        },
        {
            "id": "79324992",
            "cell_type": "code",
            "metadata": {},
            "execution_count": null,
            "source": "np.busday_count(np.datetime64('2011-07-18'), np.datetime64('2011-07-11'))",
            "outputs": [
                {
                    "output_type": "execute_result",
                    "metadata": {},
                    "data": {
                        "text/plain": "-5"
                    },
                    "execution_count": null
                }
            ]
        }
    ]
}