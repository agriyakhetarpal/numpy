{
    "nbformat": 4,
    "nbformat_minor": 5,
    "metadata": {
        "kernelspec": {
            "display_name": "Python",
            "language": "python",
            "name": "python"
        },
        "language_info": {
            "name": "python"
        }
    },
    "cells": [
        {
            "id": "24d0a29e",
            "cell_type": "markdown",
            "source": "<div class='alert alert-warning'>\n\nNumPy's interactive examples are experimental and may not always work as expected, with high load times especially on low-resource platforms, and the version of NumPy might not be in sync with the one you are browsing the documentation for. If you encounter any issues, please report them on the [NumPy issue tracker](https://github.com/numpy/numpy/issues).\n\n</div>",
            "metadata": {}
        },
        {
            "id": "dbbf5ee4",
            "cell_type": "code",
            "metadata": {},
            "execution_count": null,
            "source": "import numpy as np\nx = np.arange(1, 7).reshape(2, 3)\nx",
            "outputs": [
                {
                    "output_type": "execute_result",
                    "metadata": {},
                    "data": {
                        "text/plain": "array([[1, 2, 3],\n       [4, 5, 6]])"
                    },
                    "execution_count": null
                }
            ]
        },
        {
            "id": "b61a9b5c",
            "cell_type": "code",
            "metadata": {},
            "execution_count": null,
            "source": "x.flat[3]",
            "outputs": [
                {
                    "output_type": "execute_result",
                    "metadata": {},
                    "data": {
                        "text/plain": "4"
                    },
                    "execution_count": null
                }
            ]
        },
        {
            "id": "6ecb945e",
            "cell_type": "code",
            "metadata": {},
            "execution_count": null,
            "source": "x.T",
            "outputs": [
                {
                    "output_type": "execute_result",
                    "metadata": {},
                    "data": {
                        "text/plain": "array([[1, 4],\n       [2, 5],\n       [3, 6]])"
                    },
                    "execution_count": null
                }
            ]
        },
        {
            "id": "544a4d54",
            "cell_type": "code",
            "metadata": {},
            "execution_count": null,
            "source": "x.T.flat[3]",
            "outputs": [
                {
                    "output_type": "execute_result",
                    "metadata": {},
                    "data": {
                        "text/plain": "5"
                    },
                    "execution_count": null
                }
            ]
        },
        {
            "id": "01f085da",
            "cell_type": "code",
            "metadata": {},
            "execution_count": null,
            "source": "type(x.flat)",
            "outputs": [
                {
                    "output_type": "execute_result",
                    "metadata": {},
                    "data": {
                        "text/plain": "<class 'numpy.flatiter'>"
                    },
                    "execution_count": null
                }
            ]
        },
        {
            "id": "91e59d4f",
            "cell_type": "markdown",
            "source": "An assignment example:\n",
            "metadata": {}
        },
        {
            "id": "6c5261a4",
            "cell_type": "code",
            "metadata": {},
            "execution_count": null,
            "source": "x.flat = 3; x",
            "outputs": [
                {
                    "output_type": "execute_result",
                    "metadata": {},
                    "data": {
                        "text/plain": "array([[3, 3, 3],\n       [3, 3, 3]])"
                    },
                    "execution_count": null
                }
            ]
        },
        {
            "id": "bc953f09",
            "cell_type": "code",
            "metadata": {},
            "execution_count": null,
            "source": "x.flat[[1,4]] = 1; x",
            "outputs": [
                {
                    "output_type": "execute_result",
                    "metadata": {},
                    "data": {
                        "text/plain": "array([[3, 1, 3],\n       [3, 1, 3]])"
                    },
                    "execution_count": null
                }
            ]
        }
    ]
}