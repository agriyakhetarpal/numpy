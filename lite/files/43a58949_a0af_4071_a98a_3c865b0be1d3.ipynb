{
    "nbformat": 4,
    "nbformat_minor": 5,
    "metadata": {
        "kernelspec": {
            "display_name": "Python",
            "language": "python",
            "name": "python"
        },
        "language_info": {
            "name": "python"
        }
    },
    "cells": [
        {
            "id": "ad0b3055",
            "cell_type": "markdown",
            "source": "<div class='alert alert-warning'>\n\nNumPy's interactive examples are experimental and may not always work as expected, with high load times especially on low-resource platforms, and the version of NumPy might not be in sync with the one you are browsing the documentation for. If you encounter any issues, please report them on the [NumPy issue tracker](https://github.com/numpy/numpy/issues).\n\n</div>",
            "metadata": {}
        },
        {
            "id": "fb1ed0ad",
            "cell_type": "code",
            "metadata": {},
            "execution_count": null,
            "source": "import numpy as np\nA = np.array([1, 256, 8755], dtype=np.int16)\nlist(map(hex, A))",
            "outputs": [
                {
                    "output_type": "execute_result",
                    "metadata": {},
                    "data": {
                        "text/plain": "['0x1', '0x100', '0x2233']"
                    },
                    "execution_count": null
                }
            ]
        },
        {
            "id": "9f38cf29",
            "cell_type": "code",
            "metadata": {},
            "execution_count": null,
            "source": "A.byteswap(inplace=True)",
            "outputs": [
                {
                    "output_type": "execute_result",
                    "metadata": {},
                    "data": {
                        "text/plain": "array([  256,     1, 13090], dtype=int16)"
                    },
                    "execution_count": null
                }
            ]
        },
        {
            "id": "e950ee09",
            "cell_type": "code",
            "metadata": {},
            "execution_count": null,
            "source": "list(map(hex, A))",
            "outputs": [
                {
                    "output_type": "execute_result",
                    "metadata": {},
                    "data": {
                        "text/plain": "['0x100', '0x1', '0x3322']"
                    },
                    "execution_count": null
                }
            ]
        },
        {
            "id": "e3ff12da",
            "cell_type": "markdown",
            "source": "Arrays of byte-strings are not swapped\n",
            "metadata": {}
        },
        {
            "id": "f9873b7b",
            "cell_type": "code",
            "metadata": {},
            "execution_count": null,
            "source": "A = np.array([b'ceg', b'fac'])\nA.byteswap()",
            "outputs": [
                {
                    "output_type": "execute_result",
                    "metadata": {},
                    "data": {
                        "text/plain": "array([b'ceg', b'fac'], dtype='|S3')"
                    },
                    "execution_count": null
                }
            ]
        },
        {
            "id": "1e3cc112",
            "cell_type": "markdown",
            "source": "``A.view(A.dtype.newbyteorder()).byteswap()`` produces an array with\nthe same values but different representation in memory\n",
            "metadata": {}
        },
        {
            "id": "783384a2",
            "cell_type": "code",
            "metadata": {},
            "execution_count": null,
            "source": "A = np.array([1, 2, 3])\nA.view(np.uint8)",
            "outputs": [
                {
                    "output_type": "execute_result",
                    "metadata": {},
                    "data": {
                        "text/plain": "array([1, 0, 0, 0, 0, 0, 0, 0, 2, 0, 0, 0, 0, 0, 0, 0, 3, 0, 0, 0, 0, 0,\n       0, 0], dtype=uint8)"
                    },
                    "execution_count": null
                }
            ]
        },
        {
            "id": "d81b74f2",
            "cell_type": "code",
            "metadata": {},
            "execution_count": null,
            "source": "A.view(A.dtype.newbyteorder()).byteswap(inplace=True)",
            "outputs": [
                {
                    "output_type": "execute_result",
                    "metadata": {},
                    "data": {
                        "text/plain": "array([1, 2, 3])"
                    },
                    "execution_count": null
                }
            ]
        },
        {
            "id": "1bea7635",
            "cell_type": "code",
            "metadata": {},
            "execution_count": null,
            "source": "A.view(np.uint8)",
            "outputs": [
                {
                    "output_type": "execute_result",
                    "metadata": {},
                    "data": {
                        "text/plain": "array([0, 0, 0, 0, 0, 0, 0, 1, 0, 0, 0, 0, 0, 0, 0, 2, 0, 0, 0, 0, 0, 0,\n       0, 3], dtype=uint8)"
                    },
                    "execution_count": null
                }
            ]
        }
    ]
}