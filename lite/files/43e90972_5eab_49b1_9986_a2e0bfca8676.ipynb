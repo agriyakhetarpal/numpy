{
    "nbformat": 4,
    "nbformat_minor": 5,
    "metadata": {
        "kernelspec": {
            "display_name": "Python",
            "language": "python",
            "name": "python"
        },
        "language_info": {
            "name": "python"
        }
    },
    "cells": [
        {
            "id": "362885ca",
            "cell_type": "markdown",
            "source": "<div class='alert alert-warning'>\n\nNumPy's interactive examples are experimental and may not always work as expected, with high load times especially on low-resource platforms, , and the version of NumPy might not be in sync with the one you are browsing the documentation for. If you encounter any issues, please report them on the [NumPy issue tracker](https://github.com/numpy/numpy/issues).\n\n</div>",
            "metadata": {}
        },
        {
            "id": "88fc3dce",
            "cell_type": "code",
            "metadata": {},
            "execution_count": null,
            "source": "import numpy as np\nx = np.zeros((3, 4, 5))\nnp.moveaxis(x, 0, -1).shape",
            "outputs": [
                {
                    "output_type": "execute_result",
                    "metadata": {},
                    "data": {
                        "text/plain": "(4, 5, 3)"
                    },
                    "execution_count": null
                }
            ]
        },
        {
            "id": "7767eae3",
            "cell_type": "code",
            "metadata": {},
            "execution_count": null,
            "source": "np.moveaxis(x, -1, 0).shape",
            "outputs": [
                {
                    "output_type": "execute_result",
                    "metadata": {},
                    "data": {
                        "text/plain": "(5, 3, 4)"
                    },
                    "execution_count": null
                }
            ]
        },
        {
            "id": "089e9fc0",
            "cell_type": "markdown",
            "source": "These all achieve the same result:\n",
            "metadata": {}
        },
        {
            "id": "e4efd35d",
            "cell_type": "code",
            "metadata": {},
            "execution_count": null,
            "source": "np.transpose(x).shape",
            "outputs": [
                {
                    "output_type": "execute_result",
                    "metadata": {},
                    "data": {
                        "text/plain": "(5, 4, 3)"
                    },
                    "execution_count": null
                }
            ]
        },
        {
            "id": "21c274ec",
            "cell_type": "code",
            "metadata": {},
            "execution_count": null,
            "source": "np.swapaxes(x, 0, -1).shape",
            "outputs": [
                {
                    "output_type": "execute_result",
                    "metadata": {},
                    "data": {
                        "text/plain": "(5, 4, 3)"
                    },
                    "execution_count": null
                }
            ]
        },
        {
            "id": "e32dbbb6",
            "cell_type": "code",
            "metadata": {},
            "execution_count": null,
            "source": "np.moveaxis(x, [0, 1], [-1, -2]).shape",
            "outputs": [
                {
                    "output_type": "execute_result",
                    "metadata": {},
                    "data": {
                        "text/plain": "(5, 4, 3)"
                    },
                    "execution_count": null
                }
            ]
        },
        {
            "id": "6e9d6292",
            "cell_type": "code",
            "metadata": {},
            "execution_count": null,
            "source": "np.moveaxis(x, [0, 1, 2], [-1, -2, -3]).shape",
            "outputs": [
                {
                    "output_type": "execute_result",
                    "metadata": {},
                    "data": {
                        "text/plain": "(5, 4, 3)"
                    },
                    "execution_count": null
                }
            ]
        }
    ]
}