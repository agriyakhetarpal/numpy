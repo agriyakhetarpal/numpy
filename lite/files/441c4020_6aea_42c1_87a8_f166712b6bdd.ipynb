{
    "nbformat": 4,
    "nbformat_minor": 5,
    "metadata": {
        "kernelspec": {
            "display_name": "Python",
            "language": "python",
            "name": "python"
        },
        "language_info": {
            "name": "python"
        }
    },
    "cells": [
        {
            "id": "702f83fd",
            "cell_type": "markdown",
            "source": "<div class='alert alert-warning'>\n\nNumPy's interactive examples are experimental and may not always work as expected, with high load times especially on low-resource platforms, and the version of NumPy might not be in sync with the one you are browsing the documentation for. If you encounter any issues, please report them on the [NumPy issue tracker](https://github.com/numpy/numpy/issues).\n\n</div>",
            "metadata": {}
        },
        {
            "id": "7e7e5f22",
            "cell_type": "markdown",
            "source": "Draw values from the distribution and plot the histogram:\n",
            "metadata": {}
        },
        {
            "id": "c1688731",
            "cell_type": "code",
            "metadata": {},
            "execution_count": null,
            "source": "import matplotlib.pyplot as plt\nh = plt.hist(np.random.wald(3, 2, 100000), bins=200, density=True)\nplt.show()",
            "outputs": []
        }
    ]
}