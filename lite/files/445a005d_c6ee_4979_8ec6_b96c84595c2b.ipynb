{
    "nbformat": 4,
    "nbformat_minor": 5,
    "metadata": {
        "kernelspec": {
            "display_name": "Python",
            "language": "python",
            "name": "python"
        },
        "language_info": {
            "name": "python"
        }
    },
    "cells": [
        {
            "id": "c928f910",
            "cell_type": "markdown",
            "source": "<div class='alert alert-warning'>\n\nNumPy's interactive examples are experimental and may not always work as expected, with high load times especially on low-resource platforms, and the version of NumPy might not be in sync with the one you are browsing the documentation for. If you encounter any issues, please report them on the [NumPy issue tracker](https://github.com/numpy/numpy/issues).\n\n</div>",
            "metadata": {}
        },
        {
            "id": "7379feff",
            "cell_type": "code",
            "metadata": {},
            "execution_count": null,
            "source": "import numpy as np\nnp.nan_to_num(np.inf)",
            "outputs": [
                {
                    "output_type": "execute_result",
                    "metadata": {},
                    "data": {
                        "text/plain": "1.7976931348623157e+308"
                    },
                    "execution_count": null
                }
            ]
        },
        {
            "id": "31d66fa7",
            "cell_type": "code",
            "metadata": {},
            "execution_count": null,
            "source": "np.nan_to_num(-np.inf)",
            "outputs": [
                {
                    "output_type": "execute_result",
                    "metadata": {},
                    "data": {
                        "text/plain": "-1.7976931348623157e+308"
                    },
                    "execution_count": null
                }
            ]
        },
        {
            "id": "75bf2493",
            "cell_type": "code",
            "metadata": {},
            "execution_count": null,
            "source": "np.nan_to_num(np.nan)",
            "outputs": [
                {
                    "output_type": "execute_result",
                    "metadata": {},
                    "data": {
                        "text/plain": "0.0"
                    },
                    "execution_count": null
                }
            ]
        },
        {
            "id": "ff002bbd",
            "cell_type": "code",
            "metadata": {},
            "execution_count": null,
            "source": "x = np.array([np.inf, -np.inf, np.nan, -128, 128])\nnp.nan_to_num(x)",
            "outputs": [
                {
                    "output_type": "execute_result",
                    "metadata": {},
                    "data": {
                        "text/plain": "array([ 1.79769313e+308, -1.79769313e+308,  0.00000000e+000, # may vary\n       -1.28000000e+002,  1.28000000e+002])"
                    },
                    "execution_count": null
                }
            ]
        },
        {
            "id": "3d82d798",
            "cell_type": "code",
            "metadata": {},
            "execution_count": null,
            "source": "np.nan_to_num(x, nan=-9999, posinf=33333333, neginf=33333333)",
            "outputs": [
                {
                    "output_type": "execute_result",
                    "metadata": {},
                    "data": {
                        "text/plain": "array([ 3.3333333e+07,  3.3333333e+07, -9.9990000e+03,\n       -1.2800000e+02,  1.2800000e+02])"
                    },
                    "execution_count": null
                }
            ]
        },
        {
            "id": "a9c46a96",
            "cell_type": "code",
            "metadata": {},
            "execution_count": null,
            "source": "y = np.array([complex(np.inf, np.nan), np.nan, complex(np.nan, np.inf)])",
            "outputs": [
                {
                    "output_type": "execute_result",
                    "metadata": {},
                    "data": {
                        "text/plain": "array([  1.79769313e+308,  -1.79769313e+308,   0.00000000e+000, # may vary\n     -1.28000000e+002,   1.28000000e+002])"
                    },
                    "execution_count": null
                }
            ]
        },
        {
            "id": "2064c7d0",
            "cell_type": "code",
            "metadata": {},
            "execution_count": null,
            "source": "np.nan_to_num(y)",
            "outputs": [
                {
                    "output_type": "execute_result",
                    "metadata": {},
                    "data": {
                        "text/plain": "array([  1.79769313e+308 +0.00000000e+000j, # may vary\n         0.00000000e+000 +0.00000000e+000j,\n         0.00000000e+000 +1.79769313e+308j])"
                    },
                    "execution_count": null
                }
            ]
        },
        {
            "id": "12d40fa8",
            "cell_type": "code",
            "metadata": {},
            "execution_count": null,
            "source": "np.nan_to_num(y, nan=111111, posinf=222222)",
            "outputs": [
                {
                    "output_type": "execute_result",
                    "metadata": {},
                    "data": {
                        "text/plain": "array([222222.+111111.j, 111111.     +0.j, 111111.+222222.j])"
                    },
                    "execution_count": null
                }
            ]
        }
    ]
}