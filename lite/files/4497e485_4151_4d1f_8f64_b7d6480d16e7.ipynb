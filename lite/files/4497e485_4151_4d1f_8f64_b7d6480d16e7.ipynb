{
    "nbformat": 4,
    "nbformat_minor": 5,
    "metadata": {
        "kernelspec": {
            "display_name": "Python",
            "language": "python",
            "name": "python"
        },
        "language_info": {
            "name": "python"
        }
    },
    "cells": [
        {
            "id": "e1abc73b",
            "cell_type": "markdown",
            "source": "<div class='alert alert-warning'>\n\nNumPy's interactive examples are experimental and may not always work as expected, with high load times especially on low-resource platforms, and the version of NumPy might not be in sync with the one you are browsing the documentation for. If you encounter any issues, please report them on the [NumPy issue tracker](https://github.com/numpy/numpy/issues).\n\n</div>",
            "metadata": {}
        },
        {
            "id": "bf40401d",
            "cell_type": "code",
            "metadata": {},
            "execution_count": null,
            "source": "from numpy.polynomial import polynomial as P\nc = (1, 2, 3)\nP.polyint(c)  # should return array([0, 1, 1, 1])",
            "outputs": [
                {
                    "output_type": "execute_result",
                    "metadata": {},
                    "data": {
                        "text/plain": "array([0.,  1.,  1.,  1.])"
                    },
                    "execution_count": null
                }
            ]
        },
        {
            "id": "7e9d86c4",
            "cell_type": "code",
            "metadata": {},
            "execution_count": null,
            "source": "P.polyint(c, 3)  # should return array([0, 0, 0, 1/6, 1/12, 1/20])",
            "outputs": [
                {
                    "output_type": "execute_result",
                    "metadata": {},
                    "data": {
                        "text/plain": " array([ 0.        ,  0.        ,  0.        ,  0.16666667,  0.08333333, # may vary\n         0.05      ])"
                    },
                    "execution_count": null
                }
            ]
        },
        {
            "id": "709926de",
            "cell_type": "code",
            "metadata": {},
            "execution_count": null,
            "source": "P.polyint(c, k=3)  # should return array([3, 1, 1, 1])",
            "outputs": [
                {
                    "output_type": "execute_result",
                    "metadata": {},
                    "data": {
                        "text/plain": "array([3.,  1.,  1.,  1.])"
                    },
                    "execution_count": null
                }
            ]
        },
        {
            "id": "2533f65e",
            "cell_type": "code",
            "metadata": {},
            "execution_count": null,
            "source": "P.polyint(c,lbnd=-2)  # should return array([6, 1, 1, 1])",
            "outputs": [
                {
                    "output_type": "execute_result",
                    "metadata": {},
                    "data": {
                        "text/plain": "array([6.,  1.,  1.,  1.])"
                    },
                    "execution_count": null
                }
            ]
        },
        {
            "id": "b5fc857d",
            "cell_type": "code",
            "metadata": {},
            "execution_count": null,
            "source": "P.polyint(c,scl=-2)  # should return array([0, -2, -2, -2])",
            "outputs": [
                {
                    "output_type": "execute_result",
                    "metadata": {},
                    "data": {
                        "text/plain": "array([ 0., -2., -2., -2.])"
                    },
                    "execution_count": null
                }
            ]
        }
    ]
}