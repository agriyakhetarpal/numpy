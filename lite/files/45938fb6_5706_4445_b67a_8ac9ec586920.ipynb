{
    "nbformat": 4,
    "nbformat_minor": 5,
    "metadata": {
        "kernelspec": {
            "display_name": "Python",
            "language": "python",
            "name": "python"
        },
        "language_info": {
            "name": "python"
        }
    },
    "cells": [
        {
            "id": "69e49ce3",
            "cell_type": "markdown",
            "source": "<div class='alert alert-warning'>\n\nNumPy's interactive examples are experimental and may not always work as expected, with high load times especially on low-resource platforms, , and the version of NumPy might not be in sync with the one you are browsing the documentation for. If you encounter any issues, please report them on the [NumPy issue tracker](https://github.com/numpy/numpy/issues).\n\n</div>",
            "metadata": {}
        },
        {
            "id": "ec94427c",
            "cell_type": "code",
            "metadata": {},
            "execution_count": null,
            "source": "import numpy as np\nnp.array_equiv([1, 2], [1, 2])",
            "outputs": [
                {
                    "output_type": "execute_result",
                    "metadata": {},
                    "data": {
                        "text/plain": "True"
                    },
                    "execution_count": null
                }
            ]
        },
        {
            "id": "c2427fef",
            "cell_type": "code",
            "metadata": {},
            "execution_count": null,
            "source": "np.array_equiv([1, 2], [1, 3])",
            "outputs": [
                {
                    "output_type": "execute_result",
                    "metadata": {},
                    "data": {
                        "text/plain": "False"
                    },
                    "execution_count": null
                }
            ]
        },
        {
            "id": "2355544d",
            "cell_type": "markdown",
            "source": "Showing the shape equivalence:\n",
            "metadata": {}
        },
        {
            "id": "7c6cb731",
            "cell_type": "code",
            "metadata": {},
            "execution_count": null,
            "source": "np.array_equiv([1, 2], [[1, 2], [1, 2]])",
            "outputs": [
                {
                    "output_type": "execute_result",
                    "metadata": {},
                    "data": {
                        "text/plain": "True"
                    },
                    "execution_count": null
                }
            ]
        },
        {
            "id": "c323e524",
            "cell_type": "code",
            "metadata": {},
            "execution_count": null,
            "source": "np.array_equiv([1, 2], [[1, 2, 1, 2], [1, 2, 1, 2]])",
            "outputs": [
                {
                    "output_type": "execute_result",
                    "metadata": {},
                    "data": {
                        "text/plain": "False"
                    },
                    "execution_count": null
                }
            ]
        },
        {
            "id": "0f4af5b6",
            "cell_type": "code",
            "metadata": {},
            "execution_count": null,
            "source": "np.array_equiv([1, 2], [[1, 2], [1, 3]])",
            "outputs": [
                {
                    "output_type": "execute_result",
                    "metadata": {},
                    "data": {
                        "text/plain": "False"
                    },
                    "execution_count": null
                }
            ]
        }
    ]
}