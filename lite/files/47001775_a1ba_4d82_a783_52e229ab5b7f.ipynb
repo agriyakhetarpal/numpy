{
    "nbformat": 4,
    "nbformat_minor": 5,
    "metadata": {
        "kernelspec": {
            "display_name": "Python",
            "language": "python",
            "name": "python"
        },
        "language_info": {
            "name": "python"
        }
    },
    "cells": [
        {
            "id": "c2d27666",
            "cell_type": "markdown",
            "source": "<div class='alert alert-warning'>\n\nNumPy's interactive examples are experimental and may not always work as expected, with high load times especially on low-resource platforms, , and the version of NumPy might not be in sync with the one you are browsing the documentation for. If you encounter any issues, please report them on the [NumPy issue tracker](https://github.com/numpy/numpy/issues).\n\n</div>",
            "metadata": {}
        },
        {
            "id": "0a019e02",
            "cell_type": "code",
            "metadata": {},
            "execution_count": null,
            "source": "self.feature_ahead([\"SSE2\", \"SSE3\", \"SSE41\"])",
            "outputs": [
                {
                    "output_type": "execute_result",
                    "metadata": {},
                    "data": {
                        "text/plain": "[\"SSE41\"]\n# assume AVX2 and FMA3 implies each other and AVX2\n# is the highest interest"
                    },
                    "execution_count": null
                }
            ]
        },
        {
            "id": "15e85f45",
            "cell_type": "code",
            "metadata": {},
            "execution_count": null,
            "source": "self.feature_ahead([\"SSE2\", \"SSE3\", \"SSE41\", \"AVX2\", \"FMA3\"])",
            "outputs": [
                {
                    "output_type": "execute_result",
                    "metadata": {},
                    "data": {
                        "text/plain": "[\"AVX2\"]\n# assume AVX2 and FMA3 don't implies each other"
                    },
                    "execution_count": null
                }
            ]
        },
        {
            "id": "179a3c02",
            "cell_type": "code",
            "metadata": {},
            "execution_count": null,
            "source": "self.feature_ahead([\"SSE2\", \"SSE3\", \"SSE41\", \"AVX2\", \"FMA3\"])",
            "outputs": [
                {
                    "output_type": "execute_result",
                    "metadata": {},
                    "data": {
                        "text/plain": "[\"AVX2\", \"FMA3\"]"
                    },
                    "execution_count": null
                }
            ]
        }
    ]
}