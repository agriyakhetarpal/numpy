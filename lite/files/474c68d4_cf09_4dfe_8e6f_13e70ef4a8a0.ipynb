{
    "nbformat": 4,
    "nbformat_minor": 5,
    "metadata": {
        "kernelspec": {
            "display_name": "Python",
            "language": "python",
            "name": "python"
        },
        "language_info": {
            "name": "python"
        }
    },
    "cells": [
        {
            "id": "4c2851da",
            "cell_type": "markdown",
            "source": "<div class='alert alert-warning'>\n\nNumPy's interactive examples are experimental and may not always work as expected, with high load times especially on low-resource platforms, , and the version of NumPy might not be in sync with the one you are browsing the documentation for. If you encounter any issues, please report them on the [NumPy issue tracker](https://github.com/numpy/numpy/issues).\n\n</div>",
            "metadata": {}
        },
        {
            "id": "27324274",
            "cell_type": "markdown",
            "source": "Starting with a C-contiguous array:\n",
            "metadata": {}
        },
        {
            "id": "256d3065",
            "cell_type": "code",
            "metadata": {},
            "execution_count": null,
            "source": "import numpy as np\nx = np.ones((2, 3), order='C')\nx.flags['C_CONTIGUOUS']",
            "outputs": [
                {
                    "output_type": "execute_result",
                    "metadata": {},
                    "data": {
                        "text/plain": "True"
                    },
                    "execution_count": null
                }
            ]
        },
        {
            "id": "702d16b9",
            "cell_type": "markdown",
            "source": "Calling ``asfortranarray`` makes a Fortran-contiguous copy:\n",
            "metadata": {}
        },
        {
            "id": "30b70f5e",
            "cell_type": "code",
            "metadata": {},
            "execution_count": null,
            "source": "y = np.asfortranarray(x)\ny.flags['F_CONTIGUOUS']",
            "outputs": [
                {
                    "output_type": "execute_result",
                    "metadata": {},
                    "data": {
                        "text/plain": "True"
                    },
                    "execution_count": null
                }
            ]
        },
        {
            "id": "33836d90",
            "cell_type": "code",
            "metadata": {},
            "execution_count": null,
            "source": "np.may_share_memory(x, y)",
            "outputs": [
                {
                    "output_type": "execute_result",
                    "metadata": {},
                    "data": {
                        "text/plain": "False"
                    },
                    "execution_count": null
                }
            ]
        },
        {
            "id": "ab2b9ebf",
            "cell_type": "markdown",
            "source": "Now, starting with a Fortran-contiguous array:\n",
            "metadata": {}
        },
        {
            "id": "82a49550",
            "cell_type": "code",
            "metadata": {},
            "execution_count": null,
            "source": "x = np.ones((2, 3), order='F')\nx.flags['F_CONTIGUOUS']",
            "outputs": [
                {
                    "output_type": "execute_result",
                    "metadata": {},
                    "data": {
                        "text/plain": "True"
                    },
                    "execution_count": null
                }
            ]
        },
        {
            "id": "49c6a197",
            "cell_type": "markdown",
            "source": "Then, calling ``asfortranarray`` returns the same object:\n",
            "metadata": {}
        },
        {
            "id": "c99bbfe4",
            "cell_type": "code",
            "metadata": {},
            "execution_count": null,
            "source": "y = np.asfortranarray(x)\nx is y",
            "outputs": [
                {
                    "output_type": "execute_result",
                    "metadata": {},
                    "data": {
                        "text/plain": "True"
                    },
                    "execution_count": null
                }
            ]
        },
        {
            "id": "a08e1d6b",
            "cell_type": "markdown",
            "source": "Note: This function returns an array with at least one-dimension (1-d)\nso it will not preserve 0-d arrays.",
            "metadata": {}
        }
    ]
}