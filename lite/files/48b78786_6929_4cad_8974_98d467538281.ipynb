{
    "nbformat": 4,
    "nbformat_minor": 5,
    "metadata": {
        "kernelspec": {
            "display_name": "Python",
            "language": "python",
            "name": "python"
        },
        "language_info": {
            "name": "python"
        }
    },
    "cells": [
        {
            "id": "b4146b54",
            "cell_type": "markdown",
            "source": "<div class='alert alert-warning'>\n\nNumPy's interactive examples are experimental and may not always work as expected, with high load times especially on low-resource platforms, , and the version of NumPy might not be in sync with the one you are browsing the documentation for. If you encounter any issues, please report them on the [NumPy issue tracker](https://github.com/numpy/numpy/issues).\n\n</div>",
            "metadata": {}
        },
        {
            "id": "0eb0c60d",
            "cell_type": "code",
            "metadata": {},
            "execution_count": null,
            "source": "import numpy as np",
            "outputs": []
        },
        {
            "id": "1d7f15a8",
            "cell_type": "code",
            "metadata": {},
            "execution_count": null,
            "source": "np.is_busday(np.datetime64('2011-07-15'))  # a Friday",
            "outputs": [
                {
                    "output_type": "execute_result",
                    "metadata": {},
                    "data": {
                        "text/plain": "True"
                    },
                    "execution_count": null
                }
            ]
        },
        {
            "id": "c20415db",
            "cell_type": "code",
            "metadata": {},
            "execution_count": null,
            "source": "np.is_busday(np.datetime64('2011-07-16')) # a Saturday",
            "outputs": [
                {
                    "output_type": "execute_result",
                    "metadata": {},
                    "data": {
                        "text/plain": "False"
                    },
                    "execution_count": null
                }
            ]
        },
        {
            "id": "e507a3eb",
            "cell_type": "code",
            "metadata": {},
            "execution_count": null,
            "source": "np.is_busday(np.datetime64('2011-07-16'), weekmask=\"Sat Sun\")",
            "outputs": [
                {
                    "output_type": "execute_result",
                    "metadata": {},
                    "data": {
                        "text/plain": "True"
                    },
                    "execution_count": null
                }
            ]
        },
        {
            "id": "654507a3",
            "cell_type": "code",
            "metadata": {},
            "execution_count": null,
            "source": "a = np.arange(np.datetime64('2011-07-11'), np.datetime64('2011-07-18'))\nnp.is_busday(a)",
            "outputs": [
                {
                    "output_type": "execute_result",
                    "metadata": {},
                    "data": {
                        "text/plain": "array([ True,  True,  True,  True,  True, False, False])"
                    },
                    "execution_count": null
                }
            ]
        }
    ]
}