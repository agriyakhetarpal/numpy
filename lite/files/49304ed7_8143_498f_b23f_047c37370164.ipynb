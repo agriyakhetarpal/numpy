{
    "nbformat": 4,
    "nbformat_minor": 5,
    "metadata": {
        "kernelspec": {
            "display_name": "Python",
            "language": "python",
            "name": "python"
        },
        "language_info": {
            "name": "python"
        }
    },
    "cells": [
        {
            "id": "78f893b3",
            "cell_type": "markdown",
            "source": "<div class='alert alert-warning'>\n\nNumPy's interactive examples are experimental and may not always work as expected, with high load times especially on low-resource platforms, and the version of NumPy might not be in sync with the one you are browsing the documentation for. If you encounter any issues, please report them on the [NumPy issue tracker](https://github.com/numpy/numpy/issues).\n\n</div>",
            "metadata": {}
        },
        {
            "id": "b8859a93",
            "cell_type": "code",
            "metadata": {},
            "execution_count": null,
            "source": "a = np.arange(25).reshape(5,5)\nb = np.arange(5)\nc = np.arange(6).reshape(2,3)",
            "outputs": []
        },
        {
            "id": "30049cab",
            "cell_type": "markdown",
            "source": "Trace of a matrix:\n",
            "metadata": {}
        },
        {
            "id": "9c3d4052",
            "cell_type": "code",
            "metadata": {},
            "execution_count": null,
            "source": "np.einsum('ii', a)",
            "outputs": [
                {
                    "output_type": "execute_result",
                    "metadata": {},
                    "data": {
                        "text/plain": "60"
                    },
                    "execution_count": null
                }
            ]
        },
        {
            "id": "8a7c2ef9",
            "cell_type": "code",
            "metadata": {},
            "execution_count": null,
            "source": "np.einsum(a, [0,0])",
            "outputs": [
                {
                    "output_type": "execute_result",
                    "metadata": {},
                    "data": {
                        "text/plain": "60"
                    },
                    "execution_count": null
                }
            ]
        },
        {
            "id": "cf841dbb",
            "cell_type": "code",
            "metadata": {},
            "execution_count": null,
            "source": "np.trace(a)",
            "outputs": [
                {
                    "output_type": "execute_result",
                    "metadata": {},
                    "data": {
                        "text/plain": "60"
                    },
                    "execution_count": null
                }
            ]
        },
        {
            "id": "92f41325",
            "cell_type": "markdown",
            "source": "Extract the diagonal (requires explicit form):\n",
            "metadata": {}
        },
        {
            "id": "67db1fc7",
            "cell_type": "code",
            "metadata": {},
            "execution_count": null,
            "source": "np.einsum('ii->i', a)",
            "outputs": [
                {
                    "output_type": "execute_result",
                    "metadata": {},
                    "data": {
                        "text/plain": "array([ 0,  6, 12, 18, 24])"
                    },
                    "execution_count": null
                }
            ]
        },
        {
            "id": "dd6f7d59",
            "cell_type": "code",
            "metadata": {},
            "execution_count": null,
            "source": "np.einsum(a, [0,0], [0])",
            "outputs": [
                {
                    "output_type": "execute_result",
                    "metadata": {},
                    "data": {
                        "text/plain": "array([ 0,  6, 12, 18, 24])"
                    },
                    "execution_count": null
                }
            ]
        },
        {
            "id": "08407cd8",
            "cell_type": "code",
            "metadata": {},
            "execution_count": null,
            "source": "np.diag(a)",
            "outputs": [
                {
                    "output_type": "execute_result",
                    "metadata": {},
                    "data": {
                        "text/plain": "array([ 0,  6, 12, 18, 24])"
                    },
                    "execution_count": null
                }
            ]
        },
        {
            "id": "1dc3ef5b",
            "cell_type": "markdown",
            "source": "Sum over an axis (requires explicit form):\n",
            "metadata": {}
        },
        {
            "id": "04e27c40",
            "cell_type": "code",
            "metadata": {},
            "execution_count": null,
            "source": "np.einsum('ij->i', a)",
            "outputs": [
                {
                    "output_type": "execute_result",
                    "metadata": {},
                    "data": {
                        "text/plain": "array([ 10,  35,  60,  85, 110])"
                    },
                    "execution_count": null
                }
            ]
        },
        {
            "id": "706118ca",
            "cell_type": "code",
            "metadata": {},
            "execution_count": null,
            "source": "np.einsum(a, [0,1], [0])",
            "outputs": [
                {
                    "output_type": "execute_result",
                    "metadata": {},
                    "data": {
                        "text/plain": "array([ 10,  35,  60,  85, 110])"
                    },
                    "execution_count": null
                }
            ]
        },
        {
            "id": "0ad4a46d",
            "cell_type": "code",
            "metadata": {},
            "execution_count": null,
            "source": "np.sum(a, axis=1)",
            "outputs": [
                {
                    "output_type": "execute_result",
                    "metadata": {},
                    "data": {
                        "text/plain": "array([ 10,  35,  60,  85, 110])"
                    },
                    "execution_count": null
                }
            ]
        },
        {
            "id": "d264ed8c",
            "cell_type": "markdown",
            "source": "For higher dimensional arrays summing a single axis can be done\nwith ellipsis:\n",
            "metadata": {}
        },
        {
            "id": "3c1dfdbb",
            "cell_type": "code",
            "metadata": {},
            "execution_count": null,
            "source": "np.einsum('...j->...', a)",
            "outputs": [
                {
                    "output_type": "execute_result",
                    "metadata": {},
                    "data": {
                        "text/plain": "array([ 10,  35,  60,  85, 110])"
                    },
                    "execution_count": null
                }
            ]
        },
        {
            "id": "16b4f116",
            "cell_type": "code",
            "metadata": {},
            "execution_count": null,
            "source": "np.einsum(a, [Ellipsis,1], [Ellipsis])",
            "outputs": [
                {
                    "output_type": "execute_result",
                    "metadata": {},
                    "data": {
                        "text/plain": "array([ 10,  35,  60,  85, 110])"
                    },
                    "execution_count": null
                }
            ]
        },
        {
            "id": "79e35753",
            "cell_type": "markdown",
            "source": "Compute a matrix transpose, or reorder any number of axes:\n",
            "metadata": {}
        },
        {
            "id": "887bcc9e",
            "cell_type": "code",
            "metadata": {},
            "execution_count": null,
            "source": "np.einsum('ji', c)",
            "outputs": [
                {
                    "output_type": "execute_result",
                    "metadata": {},
                    "data": {
                        "text/plain": "array([[0, 3],\n       [1, 4],\n       [2, 5]])"
                    },
                    "execution_count": null
                }
            ]
        },
        {
            "id": "46322b0e",
            "cell_type": "code",
            "metadata": {},
            "execution_count": null,
            "source": "np.einsum('ij->ji', c)",
            "outputs": [
                {
                    "output_type": "execute_result",
                    "metadata": {},
                    "data": {
                        "text/plain": "array([[0, 3],\n       [1, 4],\n       [2, 5]])"
                    },
                    "execution_count": null
                }
            ]
        },
        {
            "id": "61476a59",
            "cell_type": "code",
            "metadata": {},
            "execution_count": null,
            "source": "np.einsum(c, [1,0])",
            "outputs": [
                {
                    "output_type": "execute_result",
                    "metadata": {},
                    "data": {
                        "text/plain": "array([[0, 3],\n       [1, 4],\n       [2, 5]])"
                    },
                    "execution_count": null
                }
            ]
        },
        {
            "id": "b03d13ea",
            "cell_type": "code",
            "metadata": {},
            "execution_count": null,
            "source": "np.transpose(c)",
            "outputs": [
                {
                    "output_type": "execute_result",
                    "metadata": {},
                    "data": {
                        "text/plain": "array([[0, 3],\n       [1, 4],\n       [2, 5]])"
                    },
                    "execution_count": null
                }
            ]
        },
        {
            "id": "0531959f",
            "cell_type": "markdown",
            "source": "Vector inner products:\n",
            "metadata": {}
        },
        {
            "id": "1c6acd3c",
            "cell_type": "code",
            "metadata": {},
            "execution_count": null,
            "source": "np.einsum('i,i', b, b)",
            "outputs": [
                {
                    "output_type": "execute_result",
                    "metadata": {},
                    "data": {
                        "text/plain": "30"
                    },
                    "execution_count": null
                }
            ]
        },
        {
            "id": "a043e375",
            "cell_type": "code",
            "metadata": {},
            "execution_count": null,
            "source": "np.einsum(b, [0], b, [0])",
            "outputs": [
                {
                    "output_type": "execute_result",
                    "metadata": {},
                    "data": {
                        "text/plain": "30"
                    },
                    "execution_count": null
                }
            ]
        },
        {
            "id": "a73bcb50",
            "cell_type": "code",
            "metadata": {},
            "execution_count": null,
            "source": "np.inner(b,b)",
            "outputs": [
                {
                    "output_type": "execute_result",
                    "metadata": {},
                    "data": {
                        "text/plain": "30"
                    },
                    "execution_count": null
                }
            ]
        },
        {
            "id": "a1268760",
            "cell_type": "markdown",
            "source": "Matrix vector multiplication:\n",
            "metadata": {}
        },
        {
            "id": "53fc582d",
            "cell_type": "code",
            "metadata": {},
            "execution_count": null,
            "source": "np.einsum('ij,j', a, b)",
            "outputs": [
                {
                    "output_type": "execute_result",
                    "metadata": {},
                    "data": {
                        "text/plain": "array([ 30,  80, 130, 180, 230])"
                    },
                    "execution_count": null
                }
            ]
        },
        {
            "id": "9ec56a19",
            "cell_type": "code",
            "metadata": {},
            "execution_count": null,
            "source": "np.einsum(a, [0,1], b, [1])",
            "outputs": [
                {
                    "output_type": "execute_result",
                    "metadata": {},
                    "data": {
                        "text/plain": "array([ 30,  80, 130, 180, 230])"
                    },
                    "execution_count": null
                }
            ]
        },
        {
            "id": "a7fae244",
            "cell_type": "code",
            "metadata": {},
            "execution_count": null,
            "source": "np.dot(a, b)",
            "outputs": [
                {
                    "output_type": "execute_result",
                    "metadata": {},
                    "data": {
                        "text/plain": "array([ 30,  80, 130, 180, 230])"
                    },
                    "execution_count": null
                }
            ]
        },
        {
            "id": "345c839f",
            "cell_type": "code",
            "metadata": {},
            "execution_count": null,
            "source": "np.einsum('...j,j', a, b)",
            "outputs": [
                {
                    "output_type": "execute_result",
                    "metadata": {},
                    "data": {
                        "text/plain": "array([ 30,  80, 130, 180, 230])"
                    },
                    "execution_count": null
                }
            ]
        },
        {
            "id": "e60c5938",
            "cell_type": "markdown",
            "source": "Broadcasting and scalar multiplication:\n",
            "metadata": {}
        },
        {
            "id": "e357f6d2",
            "cell_type": "code",
            "metadata": {},
            "execution_count": null,
            "source": "np.einsum('..., ...', 3, c)",
            "outputs": [
                {
                    "output_type": "execute_result",
                    "metadata": {},
                    "data": {
                        "text/plain": "array([[ 0,  3,  6],\n       [ 9, 12, 15]])"
                    },
                    "execution_count": null
                }
            ]
        },
        {
            "id": "1288fa71",
            "cell_type": "code",
            "metadata": {},
            "execution_count": null,
            "source": "np.einsum(',ij', 3, c)",
            "outputs": [
                {
                    "output_type": "execute_result",
                    "metadata": {},
                    "data": {
                        "text/plain": "array([[ 0,  3,  6],\n       [ 9, 12, 15]])"
                    },
                    "execution_count": null
                }
            ]
        },
        {
            "id": "7b8b3f19",
            "cell_type": "code",
            "metadata": {},
            "execution_count": null,
            "source": "np.einsum(3, [Ellipsis], c, [Ellipsis])",
            "outputs": [
                {
                    "output_type": "execute_result",
                    "metadata": {},
                    "data": {
                        "text/plain": "array([[ 0,  3,  6],\n       [ 9, 12, 15]])"
                    },
                    "execution_count": null
                }
            ]
        },
        {
            "id": "772e8821",
            "cell_type": "code",
            "metadata": {},
            "execution_count": null,
            "source": "np.multiply(3, c)",
            "outputs": [
                {
                    "output_type": "execute_result",
                    "metadata": {},
                    "data": {
                        "text/plain": "array([[ 0,  3,  6],\n       [ 9, 12, 15]])"
                    },
                    "execution_count": null
                }
            ]
        },
        {
            "id": "c0661d7c",
            "cell_type": "markdown",
            "source": "Vector outer product:\n",
            "metadata": {}
        },
        {
            "id": "8537bae7",
            "cell_type": "code",
            "metadata": {},
            "execution_count": null,
            "source": "np.einsum('i,j', np.arange(2)+1, b)",
            "outputs": [
                {
                    "output_type": "execute_result",
                    "metadata": {},
                    "data": {
                        "text/plain": "array([[0, 1, 2, 3, 4],\n       [0, 2, 4, 6, 8]])"
                    },
                    "execution_count": null
                }
            ]
        },
        {
            "id": "852208b7",
            "cell_type": "code",
            "metadata": {},
            "execution_count": null,
            "source": "np.einsum(np.arange(2)+1, [0], b, [1])",
            "outputs": [
                {
                    "output_type": "execute_result",
                    "metadata": {},
                    "data": {
                        "text/plain": "array([[0, 1, 2, 3, 4],\n       [0, 2, 4, 6, 8]])"
                    },
                    "execution_count": null
                }
            ]
        },
        {
            "id": "7a650281",
            "cell_type": "code",
            "metadata": {},
            "execution_count": null,
            "source": "np.outer(np.arange(2)+1, b)",
            "outputs": [
                {
                    "output_type": "execute_result",
                    "metadata": {},
                    "data": {
                        "text/plain": "array([[0, 1, 2, 3, 4],\n       [0, 2, 4, 6, 8]])"
                    },
                    "execution_count": null
                }
            ]
        },
        {
            "id": "3015f9eb",
            "cell_type": "markdown",
            "source": "Tensor contraction:\n",
            "metadata": {}
        },
        {
            "id": "adfbaf89",
            "cell_type": "code",
            "metadata": {},
            "execution_count": null,
            "source": "a = np.arange(60.).reshape(3,4,5)\nb = np.arange(24.).reshape(4,3,2)\nnp.einsum('ijk,jil->kl', a, b)",
            "outputs": [
                {
                    "output_type": "execute_result",
                    "metadata": {},
                    "data": {
                        "text/plain": "array([[4400., 4730.],\n       [4532., 4874.],\n       [4664., 5018.],\n       [4796., 5162.],\n       [4928., 5306.]])"
                    },
                    "execution_count": null
                }
            ]
        },
        {
            "id": "09351425",
            "cell_type": "code",
            "metadata": {},
            "execution_count": null,
            "source": "np.einsum(a, [0,1,2], b, [1,0,3], [2,3])",
            "outputs": [
                {
                    "output_type": "execute_result",
                    "metadata": {},
                    "data": {
                        "text/plain": "array([[4400., 4730.],\n       [4532., 4874.],\n       [4664., 5018.],\n       [4796., 5162.],\n       [4928., 5306.]])"
                    },
                    "execution_count": null
                }
            ]
        },
        {
            "id": "a4de1b19",
            "cell_type": "code",
            "metadata": {},
            "execution_count": null,
            "source": "np.tensordot(a,b, axes=([1,0],[0,1]))",
            "outputs": [
                {
                    "output_type": "execute_result",
                    "metadata": {},
                    "data": {
                        "text/plain": "array([[4400., 4730.],\n       [4532., 4874.],\n       [4664., 5018.],\n       [4796., 5162.],\n       [4928., 5306.]])"
                    },
                    "execution_count": null
                }
            ]
        },
        {
            "id": "bc3693bc",
            "cell_type": "markdown",
            "source": "Writeable returned arrays (since version 1.10.0):\n",
            "metadata": {}
        },
        {
            "id": "08b38494",
            "cell_type": "code",
            "metadata": {},
            "execution_count": null,
            "source": "a = np.zeros((3, 3))\nnp.einsum('ii->i', a)[:] = 1\na",
            "outputs": [
                {
                    "output_type": "execute_result",
                    "metadata": {},
                    "data": {
                        "text/plain": "array([[1., 0., 0.],\n       [0., 1., 0.],\n       [0., 0., 1.]])"
                    },
                    "execution_count": null
                }
            ]
        },
        {
            "id": "71d36bed",
            "cell_type": "markdown",
            "source": "Example of ellipsis use:\n",
            "metadata": {}
        },
        {
            "id": "1c616f94",
            "cell_type": "code",
            "metadata": {},
            "execution_count": null,
            "source": "a = np.arange(6).reshape((3,2))\nb = np.arange(12).reshape((4,3))\nnp.einsum('ki,jk->ij', a, b)",
            "outputs": [
                {
                    "output_type": "execute_result",
                    "metadata": {},
                    "data": {
                        "text/plain": "array([[10, 28, 46, 64],\n       [13, 40, 67, 94]])"
                    },
                    "execution_count": null
                }
            ]
        },
        {
            "id": "2a4c44bc",
            "cell_type": "code",
            "metadata": {},
            "execution_count": null,
            "source": "np.einsum('ki,...k->i...', a, b)",
            "outputs": [
                {
                    "output_type": "execute_result",
                    "metadata": {},
                    "data": {
                        "text/plain": "array([[10, 28, 46, 64],\n       [13, 40, 67, 94]])"
                    },
                    "execution_count": null
                }
            ]
        },
        {
            "id": "a8f8e4d1",
            "cell_type": "code",
            "metadata": {},
            "execution_count": null,
            "source": "np.einsum('k...,jk', a, b)",
            "outputs": [
                {
                    "output_type": "execute_result",
                    "metadata": {},
                    "data": {
                        "text/plain": "array([[10, 28, 46, 64],\n       [13, 40, 67, 94]])"
                    },
                    "execution_count": null
                }
            ]
        },
        {
            "id": "fea6ef09",
            "cell_type": "markdown",
            "source": "Chained array operations. For more complicated contractions, speed ups\nmight be achieved by repeatedly computing a 'greedy' path or pre-computing\nthe 'optimal' path and repeatedly applying it, using an `einsum_path`\ninsertion (since version 1.12.0). Performance improvements can be\nparticularly significant with larger arrays:\n",
            "metadata": {}
        },
        {
            "id": "e1a1fe85",
            "cell_type": "code",
            "metadata": {},
            "execution_count": null,
            "source": "a = np.ones(64).reshape(2,4,8)",
            "outputs": []
        },
        {
            "id": "54b9eaf9",
            "cell_type": "markdown",
            "source": "Basic `einsum`: ~1520ms  (benchmarked on 3.1GHz Intel i5.)\n",
            "metadata": {}
        },
        {
            "id": "90ed19ed",
            "cell_type": "code",
            "metadata": {},
            "execution_count": null,
            "source": "for iteration in range(500):\n    _ = np.einsum('ijk,ilm,njm,nlk,abc->',a,a,a,a,a)",
            "outputs": []
        },
        {
            "id": "5ecd6e4b",
            "cell_type": "markdown",
            "source": "Sub-optimal `einsum` (due to repeated path calculation time): ~330ms\n",
            "metadata": {}
        },
        {
            "id": "65c95344",
            "cell_type": "code",
            "metadata": {},
            "execution_count": null,
            "source": "for iteration in range(500):\n    _ = np.einsum('ijk,ilm,njm,nlk,abc->',a,a,a,a,a,\n        optimize='optimal')",
            "outputs": []
        },
        {
            "id": "438943e4",
            "cell_type": "markdown",
            "source": "Greedy `einsum` (faster optimal path approximation): ~160ms\n",
            "metadata": {}
        },
        {
            "id": "5de6c546",
            "cell_type": "code",
            "metadata": {},
            "execution_count": null,
            "source": "for iteration in range(500):\n    _ = np.einsum('ijk,ilm,njm,nlk,abc->',a,a,a,a,a, optimize='greedy')",
            "outputs": []
        },
        {
            "id": "be8169ae",
            "cell_type": "markdown",
            "source": "Optimal `einsum` (best usage pattern in some use cases): ~110ms\n",
            "metadata": {}
        },
        {
            "id": "c48af02f",
            "cell_type": "code",
            "metadata": {},
            "execution_count": null,
            "source": "path = np.einsum_path('ijk,ilm,njm,nlk,abc->',a,a,a,a,a,\n    optimize='optimal')[0]\nfor iteration in range(500):\n    _ = np.einsum('ijk,ilm,njm,nlk,abc->',a,a,a,a,a, optimize=path)",
            "outputs": []
        }
    ]
}