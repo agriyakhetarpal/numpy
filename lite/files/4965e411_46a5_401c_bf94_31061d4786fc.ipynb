{
    "nbformat": 4,
    "nbformat_minor": 5,
    "metadata": {
        "kernelspec": {
            "display_name": "Python",
            "language": "python",
            "name": "python"
        },
        "language_info": {
            "name": "python"
        }
    },
    "cells": [
        {
            "id": "caa4717c",
            "cell_type": "markdown",
            "source": "<div class='alert alert-warning'>\n\nNumPy's interactive examples are experimental and may not always work as expected, with high load times especially on low-resource platforms, and the version of NumPy might not be in sync with the one you are browsing the documentation for. If you encounter any issues, please report them on the [NumPy issue tracker](https://github.com/numpy/numpy/issues).\n\n</div>",
            "metadata": {}
        },
        {
            "id": "60c34e96",
            "cell_type": "code",
            "metadata": {},
            "execution_count": null,
            "source": "import numpy as np",
            "outputs": []
        },
        {
            "id": "02f22e4b",
            "cell_type": "markdown",
            "source": "The number 13 has the binary representation ``00001101``. Likewise,\n16 is represented by ``00010000``.  The bit-wise OR of 13 and 16 is\nthen ``00011101``, or 29:\n",
            "metadata": {}
        },
        {
            "id": "12f24a96",
            "cell_type": "code",
            "metadata": {},
            "execution_count": null,
            "source": "np.bitwise_or(13, 16)",
            "outputs": [
                {
                    "output_type": "execute_result",
                    "metadata": {},
                    "data": {
                        "text/plain": "29"
                    },
                    "execution_count": null
                }
            ]
        },
        {
            "id": "cb577455",
            "cell_type": "code",
            "metadata": {},
            "execution_count": null,
            "source": "np.binary_repr(29)",
            "outputs": [
                {
                    "output_type": "execute_result",
                    "metadata": {},
                    "data": {
                        "text/plain": "'11101'"
                    },
                    "execution_count": null
                }
            ]
        },
        {
            "id": "d8448dd1",
            "cell_type": "code",
            "metadata": {},
            "execution_count": null,
            "source": "np.bitwise_or(32, 2)",
            "outputs": [
                {
                    "output_type": "execute_result",
                    "metadata": {},
                    "data": {
                        "text/plain": "34"
                    },
                    "execution_count": null
                }
            ]
        },
        {
            "id": "db2f9b76",
            "cell_type": "code",
            "metadata": {},
            "execution_count": null,
            "source": "np.bitwise_or([33, 4], 1)",
            "outputs": [
                {
                    "output_type": "execute_result",
                    "metadata": {},
                    "data": {
                        "text/plain": "array([33,  5])"
                    },
                    "execution_count": null
                }
            ]
        },
        {
            "id": "d5be0256",
            "cell_type": "code",
            "metadata": {},
            "execution_count": null,
            "source": "np.bitwise_or([33, 4], [1, 2])",
            "outputs": [
                {
                    "output_type": "execute_result",
                    "metadata": {},
                    "data": {
                        "text/plain": "array([33,  6])"
                    },
                    "execution_count": null
                }
            ]
        },
        {
            "id": "782d94ad",
            "cell_type": "code",
            "metadata": {},
            "execution_count": null,
            "source": "np.bitwise_or(np.array([2, 5, 255]), np.array([4, 4, 4]))",
            "outputs": [
                {
                    "output_type": "execute_result",
                    "metadata": {},
                    "data": {
                        "text/plain": "array([  6,   5, 255])"
                    },
                    "execution_count": null
                }
            ]
        },
        {
            "id": "b381e262",
            "cell_type": "code",
            "metadata": {},
            "execution_count": null,
            "source": "np.array([2, 5, 255]) | np.array([4, 4, 4])",
            "outputs": [
                {
                    "output_type": "execute_result",
                    "metadata": {},
                    "data": {
                        "text/plain": "array([  6,   5, 255])"
                    },
                    "execution_count": null
                }
            ]
        },
        {
            "id": "ab493abe",
            "cell_type": "code",
            "metadata": {},
            "execution_count": null,
            "source": "np.bitwise_or(np.array([2, 5, 255, 2147483647], dtype=np.int32),\n              np.array([4, 4, 4, 2147483647], dtype=np.int32))",
            "outputs": [
                {
                    "output_type": "execute_result",
                    "metadata": {},
                    "data": {
                        "text/plain": "array([         6,          5,        255, 2147483647])"
                    },
                    "execution_count": null
                }
            ]
        },
        {
            "id": "00791810",
            "cell_type": "code",
            "metadata": {},
            "execution_count": null,
            "source": "np.bitwise_or([True, True], [False, True])",
            "outputs": [
                {
                    "output_type": "execute_result",
                    "metadata": {},
                    "data": {
                        "text/plain": "array([ True,  True])"
                    },
                    "execution_count": null
                }
            ]
        },
        {
            "id": "a7067431",
            "cell_type": "markdown",
            "source": "The ``|`` operator can be used as a shorthand for ``np.bitwise_or`` on\nndarrays.\n",
            "metadata": {}
        },
        {
            "id": "395a02f1",
            "cell_type": "code",
            "metadata": {},
            "execution_count": null,
            "source": "x1 = np.array([2, 5, 255])\nx2 = np.array([4, 4, 4])\nx1 | x2",
            "outputs": [
                {
                    "output_type": "execute_result",
                    "metadata": {},
                    "data": {
                        "text/plain": "array([  6,   5, 255])"
                    },
                    "execution_count": null
                }
            ]
        }
    ]
}