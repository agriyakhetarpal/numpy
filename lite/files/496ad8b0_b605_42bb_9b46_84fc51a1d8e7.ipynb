{
    "nbformat": 4,
    "nbformat_minor": 5,
    "metadata": {
        "kernelspec": {
            "display_name": "Python",
            "language": "python",
            "name": "python"
        },
        "language_info": {
            "name": "python"
        }
    },
    "cells": [
        {
            "id": "5f55344a",
            "cell_type": "markdown",
            "source": "<div class='alert alert-warning'>\n\nNumPy's interactive examples are experimental and may not always work as expected, with high load times especially on low-resource platforms, and the version of NumPy might not be in sync with the one you are browsing the documentation for. If you encounter any issues, please report them on the [NumPy issue tracker](https://github.com/numpy/numpy/issues).\n\n</div>",
            "metadata": {}
        },
        {
            "id": "2b02ea25",
            "cell_type": "markdown",
            "source": "A :class:`dtype` object is equal to all data type specifications that are\nequivalent to it.\n",
            "metadata": {}
        },
        {
            "id": "0af391fd",
            "cell_type": "code",
            "metadata": {},
            "execution_count": null,
            "source": "import numpy as np",
            "outputs": []
        },
        {
            "id": "ab182f17",
            "cell_type": "code",
            "metadata": {},
            "execution_count": null,
            "source": "a = np.array([1, 2], dtype=float)\na.dtype == np.dtype(np.float64)",
            "outputs": [
                {
                    "output_type": "execute_result",
                    "metadata": {},
                    "data": {
                        "text/plain": "True"
                    },
                    "execution_count": null
                }
            ]
        },
        {
            "id": "ee41a2be",
            "cell_type": "code",
            "metadata": {},
            "execution_count": null,
            "source": "a.dtype == np.float64",
            "outputs": [
                {
                    "output_type": "execute_result",
                    "metadata": {},
                    "data": {
                        "text/plain": "True"
                    },
                    "execution_count": null
                }
            ]
        },
        {
            "id": "adaee8e2",
            "cell_type": "code",
            "metadata": {},
            "execution_count": null,
            "source": "a.dtype == float",
            "outputs": [
                {
                    "output_type": "execute_result",
                    "metadata": {},
                    "data": {
                        "text/plain": "True"
                    },
                    "execution_count": null
                }
            ]
        },
        {
            "id": "5761bd9a",
            "cell_type": "code",
            "metadata": {},
            "execution_count": null,
            "source": "a.dtype == \"float64\"",
            "outputs": [
                {
                    "output_type": "execute_result",
                    "metadata": {},
                    "data": {
                        "text/plain": "True"
                    },
                    "execution_count": null
                }
            ]
        },
        {
            "id": "1f7f6105",
            "cell_type": "code",
            "metadata": {},
            "execution_count": null,
            "source": "a.dtype == \"d\"",
            "outputs": [
                {
                    "output_type": "execute_result",
                    "metadata": {},
                    "data": {
                        "text/plain": "True"
                    },
                    "execution_count": null
                }
            ]
        }
    ]
}