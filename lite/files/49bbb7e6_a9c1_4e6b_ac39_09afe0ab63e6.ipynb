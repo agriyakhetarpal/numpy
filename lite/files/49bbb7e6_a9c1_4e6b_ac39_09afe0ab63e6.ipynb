{
    "nbformat": 4,
    "nbformat_minor": 5,
    "metadata": {
        "kernelspec": {
            "display_name": "Python",
            "language": "python",
            "name": "python"
        },
        "language_info": {
            "name": "python"
        }
    },
    "cells": [
        {
            "id": "d5b8d06f",
            "cell_type": "markdown",
            "source": "<div class='alert alert-warning'>\n\nNumPy's interactive examples are experimental and may not always work as expected, with high load times especially on low-resource platforms, and the version of NumPy might not be in sync with the one you are browsing the documentation for. If you encounter any issues, please report them on the [NumPy issue tracker](https://github.com/numpy/numpy/issues).\n\n</div>",
            "metadata": {}
        },
        {
            "id": "cf47b9d2",
            "cell_type": "code",
            "metadata": {},
            "execution_count": null,
            "source": "import numpy as np\nnx, ny = (3, 2)\nx = np.linspace(0, 1, nx)\ny = np.linspace(0, 1, ny)\nxv, yv = np.meshgrid(x, y)\nxv",
            "outputs": [
                {
                    "output_type": "execute_result",
                    "metadata": {},
                    "data": {
                        "text/plain": "array([[0. , 0.5, 1. ],\n       [0. , 0.5, 1. ]])"
                    },
                    "execution_count": null
                }
            ]
        },
        {
            "id": "43952dc1",
            "cell_type": "code",
            "metadata": {},
            "execution_count": null,
            "source": "yv",
            "outputs": [
                {
                    "output_type": "execute_result",
                    "metadata": {},
                    "data": {
                        "text/plain": "array([[0.,  0.,  0.],\n       [1.,  1.,  1.]])"
                    },
                    "execution_count": null
                }
            ]
        },
        {
            "id": "e08c85cc",
            "cell_type": "markdown",
            "source": "The result of `meshgrid` is a coordinate grid:\n",
            "metadata": {}
        },
        {
            "id": "30c5cef6",
            "cell_type": "code",
            "metadata": {},
            "execution_count": null,
            "source": "import matplotlib.pyplot as plt\nplt.plot(xv, yv, marker='o', color='k', linestyle='none')\nplt.show()",
            "outputs": []
        },
        {
            "id": "c7b8a4dd",
            "cell_type": "markdown",
            "source": "You can create sparse output arrays to save memory and computation time.\n",
            "metadata": {}
        },
        {
            "id": "b8dfc9a4",
            "cell_type": "code",
            "metadata": {},
            "execution_count": null,
            "source": "xv, yv = np.meshgrid(x, y, sparse=True)\nxv",
            "outputs": [
                {
                    "output_type": "execute_result",
                    "metadata": {},
                    "data": {
                        "text/plain": "array([[0. ,  0.5,  1. ]])"
                    },
                    "execution_count": null
                }
            ]
        },
        {
            "id": "56ff7cfa",
            "cell_type": "code",
            "metadata": {},
            "execution_count": null,
            "source": "yv",
            "outputs": [
                {
                    "output_type": "execute_result",
                    "metadata": {},
                    "data": {
                        "text/plain": "array([[0.],\n       [1.]])"
                    },
                    "execution_count": null
                }
            ]
        },
        {
            "id": "46ca1843",
            "cell_type": "markdown",
            "source": "`meshgrid` is very useful to evaluate functions on a grid. If the\nfunction depends on all coordinates, both dense and sparse outputs can be\nused.\n",
            "metadata": {}
        },
        {
            "id": "fe92dc03",
            "cell_type": "code",
            "metadata": {},
            "execution_count": null,
            "source": "x = np.linspace(-5, 5, 101)\ny = np.linspace(-5, 5, 101)\n# full coordinate arrays\nxx, yy = np.meshgrid(x, y)\nzz = np.sqrt(xx**2 + yy**2)\nxx.shape, yy.shape, zz.shape",
            "outputs": [
                {
                    "output_type": "execute_result",
                    "metadata": {},
                    "data": {
                        "text/plain": "((101, 101), (101, 101), (101, 101))"
                    },
                    "execution_count": null
                }
            ]
        },
        {
            "id": "75aa949b",
            "cell_type": "code",
            "metadata": {},
            "execution_count": null,
            "source": "# sparse coordinate arrays\nxs, ys = np.meshgrid(x, y, sparse=True)\nzs = np.sqrt(xs**2 + ys**2)\nxs.shape, ys.shape, zs.shape",
            "outputs": [
                {
                    "output_type": "execute_result",
                    "metadata": {},
                    "data": {
                        "text/plain": "((1, 101), (101, 1), (101, 101))"
                    },
                    "execution_count": null
                }
            ]
        },
        {
            "id": "4b925343",
            "cell_type": "code",
            "metadata": {},
            "execution_count": null,
            "source": "np.array_equal(zz, zs)",
            "outputs": [
                {
                    "output_type": "execute_result",
                    "metadata": {},
                    "data": {
                        "text/plain": "True"
                    },
                    "execution_count": null
                }
            ]
        },
        {
            "id": "ab736d53",
            "cell_type": "code",
            "metadata": {},
            "execution_count": null,
            "source": "h = plt.contourf(x, y, zs)\nplt.axis('scaled')\nplt.colorbar()\nplt.show()",
            "outputs": []
        }
    ]
}