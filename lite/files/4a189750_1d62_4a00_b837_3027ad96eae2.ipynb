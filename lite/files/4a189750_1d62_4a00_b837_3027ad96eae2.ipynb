{
    "nbformat": 4,
    "nbformat_minor": 5,
    "metadata": {
        "kernelspec": {
            "display_name": "Python",
            "language": "python",
            "name": "python"
        },
        "language_info": {
            "name": "python"
        }
    },
    "cells": [
        {
            "id": "d073c099",
            "cell_type": "markdown",
            "source": "<div class='alert alert-warning'>\n\nNumPy's interactive examples are experimental and may not always work as expected, with high load times especially on low-resource platforms, , and the version of NumPy might not be in sync with the one you are browsing the documentation for. If you encounter any issues, please report them on the [NumPy issue tracker](https://github.com/numpy/numpy/issues).\n\n</div>",
            "metadata": {}
        },
        {
            "id": "0ede34d0",
            "cell_type": "code",
            "metadata": {},
            "execution_count": null,
            "source": "import numpy as np\nnp.mgrid[0:5, 0:5]",
            "outputs": [
                {
                    "output_type": "execute_result",
                    "metadata": {},
                    "data": {
                        "text/plain": "array([[[0, 0, 0, 0, 0],\n        [1, 1, 1, 1, 1],\n        [2, 2, 2, 2, 2],\n        [3, 3, 3, 3, 3],\n        [4, 4, 4, 4, 4]],\n       [[0, 1, 2, 3, 4],\n        [0, 1, 2, 3, 4],\n        [0, 1, 2, 3, 4],\n        [0, 1, 2, 3, 4],\n        [0, 1, 2, 3, 4]]])"
                    },
                    "execution_count": null
                }
            ]
        },
        {
            "id": "703ca105",
            "cell_type": "code",
            "metadata": {},
            "execution_count": null,
            "source": "np.mgrid[-1:1:5j]",
            "outputs": [
                {
                    "output_type": "execute_result",
                    "metadata": {},
                    "data": {
                        "text/plain": "array([-1. , -0.5,  0. ,  0.5,  1. ])"
                    },
                    "execution_count": null
                }
            ]
        },
        {
            "id": "9e67a573",
            "cell_type": "code",
            "metadata": {},
            "execution_count": null,
            "source": "np.mgrid[0:4].shape",
            "outputs": [
                {
                    "output_type": "execute_result",
                    "metadata": {},
                    "data": {
                        "text/plain": "(4,)"
                    },
                    "execution_count": null
                }
            ]
        },
        {
            "id": "db5d9834",
            "cell_type": "code",
            "metadata": {},
            "execution_count": null,
            "source": "np.mgrid[0:4, 0:5].shape",
            "outputs": [
                {
                    "output_type": "execute_result",
                    "metadata": {},
                    "data": {
                        "text/plain": "(2, 4, 5)"
                    },
                    "execution_count": null
                }
            ]
        },
        {
            "id": "d838fb4a",
            "cell_type": "code",
            "metadata": {},
            "execution_count": null,
            "source": "np.mgrid[0:4, 0:5, 0:6].shape",
            "outputs": [
                {
                    "output_type": "execute_result",
                    "metadata": {},
                    "data": {
                        "text/plain": "(3, 4, 5, 6)"
                    },
                    "execution_count": null
                }
            ]
        }
    ]
}