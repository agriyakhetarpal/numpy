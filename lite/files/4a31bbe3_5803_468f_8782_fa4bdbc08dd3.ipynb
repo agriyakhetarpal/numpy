{
    "nbformat": 4,
    "nbformat_minor": 5,
    "metadata": {
        "kernelspec": {
            "display_name": "Python",
            "language": "python",
            "name": "python"
        },
        "language_info": {
            "name": "python"
        }
    },
    "cells": [
        {
            "id": "dee7ab5f",
            "cell_type": "markdown",
            "source": "<div class='alert alert-warning'>\n\nNumPy's interactive examples are experimental and may not always work as expected, with high load times especially on low-resource platforms, and the version of NumPy might not be in sync with the one you are browsing the documentation for. If you encounter any issues, please report them on the [NumPy issue tracker](https://github.com/numpy/numpy/issues).\n\n</div>",
            "metadata": {}
        },
        {
            "id": "70b81b52",
            "cell_type": "markdown",
            "source": "Generate a uniform random sample from np.arange(5) of size 3:\n",
            "metadata": {}
        },
        {
            "id": "20e212fe",
            "cell_type": "code",
            "metadata": {},
            "execution_count": null,
            "source": "np.random.choice(5, 3)",
            "outputs": [
                {
                    "output_type": "execute_result",
                    "metadata": {},
                    "data": {
                        "text/plain": "array([0, 3, 4]) # random"
                    },
                    "execution_count": null
                }
            ]
        },
        {
            "id": "8e192bcf",
            "cell_type": "code",
            "metadata": {},
            "execution_count": null,
            "source": "#This is equivalent to np.random.randint(0,5,3)",
            "outputs": []
        },
        {
            "id": "564ef6ec",
            "cell_type": "markdown",
            "source": "Generate a non-uniform random sample from np.arange(5) of size 3:\n",
            "metadata": {}
        },
        {
            "id": "5034c89f",
            "cell_type": "code",
            "metadata": {},
            "execution_count": null,
            "source": "np.random.choice(5, 3, p=[0.1, 0, 0.3, 0.6, 0])",
            "outputs": [
                {
                    "output_type": "execute_result",
                    "metadata": {},
                    "data": {
                        "text/plain": "array([3, 3, 0]) # random"
                    },
                    "execution_count": null
                }
            ]
        },
        {
            "id": "7b348c21",
            "cell_type": "markdown",
            "source": "Generate a uniform random sample from np.arange(5) of size 3 without\nreplacement:\n",
            "metadata": {}
        },
        {
            "id": "c4980b47",
            "cell_type": "code",
            "metadata": {},
            "execution_count": null,
            "source": "np.random.choice(5, 3, replace=False)",
            "outputs": [
                {
                    "output_type": "execute_result",
                    "metadata": {},
                    "data": {
                        "text/plain": "array([3,1,0]) # random"
                    },
                    "execution_count": null
                }
            ]
        },
        {
            "id": "b3b711a4",
            "cell_type": "code",
            "metadata": {},
            "execution_count": null,
            "source": "#This is equivalent to np.random.permutation(np.arange(5))[:3]",
            "outputs": []
        },
        {
            "id": "0092fda5",
            "cell_type": "markdown",
            "source": "Generate a non-uniform random sample from np.arange(5) of size\n3 without replacement:\n",
            "metadata": {}
        },
        {
            "id": "f80b0081",
            "cell_type": "code",
            "metadata": {},
            "execution_count": null,
            "source": "np.random.choice(5, 3, replace=False, p=[0.1, 0, 0.3, 0.6, 0])",
            "outputs": [
                {
                    "output_type": "execute_result",
                    "metadata": {},
                    "data": {
                        "text/plain": "array([2, 3, 0]) # random"
                    },
                    "execution_count": null
                }
            ]
        },
        {
            "id": "f8b730c0",
            "cell_type": "markdown",
            "source": "Any of the above can be repeated with an arbitrary array-like\ninstead of just integers. For instance:\n",
            "metadata": {}
        },
        {
            "id": "d93ecb53",
            "cell_type": "code",
            "metadata": {},
            "execution_count": null,
            "source": "aa_milne_arr = ['pooh', 'rabbit', 'piglet', 'Christopher']\nnp.random.choice(aa_milne_arr, 5, p=[0.5, 0.1, 0.1, 0.3])",
            "outputs": [
                {
                    "output_type": "execute_result",
                    "metadata": {},
                    "data": {
                        "text/plain": "array(['pooh', 'pooh', 'pooh', 'Christopher', 'piglet'], # random\n      dtype='<U11')"
                    },
                    "execution_count": null
                }
            ]
        }
    ]
}