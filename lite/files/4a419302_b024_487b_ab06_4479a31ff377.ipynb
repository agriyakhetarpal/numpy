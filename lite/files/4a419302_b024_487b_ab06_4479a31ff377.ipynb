{
    "nbformat": 4,
    "nbformat_minor": 5,
    "metadata": {
        "kernelspec": {
            "display_name": "Python",
            "language": "python",
            "name": "python"
        },
        "language_info": {
            "name": "python"
        }
    },
    "cells": [
        {
            "id": "e99922fb",
            "cell_type": "markdown",
            "source": "<div class='alert alert-warning'>\n\nNumPy's interactive examples are experimental and may not always work as expected, with high load times especially on low-resource platforms, and the version of NumPy might not be in sync with the one you are browsing the documentation for. If you encounter any issues, please report them on the [NumPy issue tracker](https://github.com/numpy/numpy/issues).\n\n</div>",
            "metadata": {}
        },
        {
            "id": "206e09d9",
            "cell_type": "code",
            "metadata": {},
            "execution_count": null,
            "source": "import numpy as np\n# Number of weekdays in January 2011\nnp.busday_count('2011-01', '2011-02')",
            "outputs": [
                {
                    "output_type": "execute_result",
                    "metadata": {},
                    "data": {
                        "text/plain": "21"
                    },
                    "execution_count": null
                }
            ]
        },
        {
            "id": "0499e426",
            "cell_type": "code",
            "metadata": {},
            "execution_count": null,
            "source": "# Number of weekdays in 2011\nnp.busday_count('2011', '2012')",
            "outputs": [
                {
                    "output_type": "execute_result",
                    "metadata": {},
                    "data": {
                        "text/plain": "260"
                    },
                    "execution_count": null
                }
            ]
        },
        {
            "id": "ce021186",
            "cell_type": "code",
            "metadata": {},
            "execution_count": null,
            "source": "# Number of Saturdays in 2011\nnp.busday_count('2011', '2012', weekmask='Sat')",
            "outputs": [
                {
                    "output_type": "execute_result",
                    "metadata": {},
                    "data": {
                        "text/plain": "53"
                    },
                    "execution_count": null
                }
            ]
        }
    ]
}