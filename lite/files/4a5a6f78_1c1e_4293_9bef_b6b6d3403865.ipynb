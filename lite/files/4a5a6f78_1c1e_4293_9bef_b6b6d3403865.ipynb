{
    "nbformat": 4,
    "nbformat_minor": 5,
    "metadata": {
        "kernelspec": {
            "display_name": "Python",
            "language": "python",
            "name": "python"
        },
        "language_info": {
            "name": "python"
        }
    },
    "cells": [
        {
            "id": "54b0c3ca",
            "cell_type": "markdown",
            "source": "<div class='alert alert-warning'>\n\nNumPy's interactive examples are experimental and may not always work as expected, with high load times especially on low-resource platforms, and the version of NumPy might not be in sync with the one you are browsing the documentation for. If you encounter any issues, please report them on the [NumPy issue tracker](https://github.com/numpy/numpy/issues).\n\n</div>",
            "metadata": {}
        },
        {
            "id": "c52432d2",
            "cell_type": "code",
            "metadata": {},
            "execution_count": null,
            "source": "np.random.randint(2, size=10)",
            "outputs": [
                {
                    "output_type": "execute_result",
                    "metadata": {},
                    "data": {
                        "text/plain": "array([1, 0, 0, 0, 1, 1, 0, 0, 1, 0]) # random"
                    },
                    "execution_count": null
                }
            ]
        },
        {
            "id": "331368ef",
            "cell_type": "code",
            "metadata": {},
            "execution_count": null,
            "source": "np.random.randint(1, size=10)",
            "outputs": [
                {
                    "output_type": "execute_result",
                    "metadata": {},
                    "data": {
                        "text/plain": "array([0, 0, 0, 0, 0, 0, 0, 0, 0, 0])"
                    },
                    "execution_count": null
                }
            ]
        },
        {
            "id": "9135956c",
            "cell_type": "markdown",
            "source": "Generate a 2 x 4 array of ints between 0 and 4, inclusive:\n",
            "metadata": {}
        },
        {
            "id": "b3d27a3f",
            "cell_type": "code",
            "metadata": {},
            "execution_count": null,
            "source": "np.random.randint(5, size=(2, 4))",
            "outputs": [
                {
                    "output_type": "execute_result",
                    "metadata": {},
                    "data": {
                        "text/plain": "array([[4, 0, 2, 1], # random\n       [3, 2, 2, 0]])"
                    },
                    "execution_count": null
                }
            ]
        },
        {
            "id": "d18fd621",
            "cell_type": "markdown",
            "source": "Generate a 1 x 3 array with 3 different upper bounds\n",
            "metadata": {}
        },
        {
            "id": "a6044b7a",
            "cell_type": "code",
            "metadata": {},
            "execution_count": null,
            "source": "np.random.randint(1, [3, 5, 10])",
            "outputs": [
                {
                    "output_type": "execute_result",
                    "metadata": {},
                    "data": {
                        "text/plain": "array([2, 2, 9]) # random"
                    },
                    "execution_count": null
                }
            ]
        },
        {
            "id": "bffcc006",
            "cell_type": "markdown",
            "source": "Generate a 1 by 3 array with 3 different lower bounds\n",
            "metadata": {}
        },
        {
            "id": "22a285ff",
            "cell_type": "code",
            "metadata": {},
            "execution_count": null,
            "source": "np.random.randint([1, 5, 7], 10)",
            "outputs": [
                {
                    "output_type": "execute_result",
                    "metadata": {},
                    "data": {
                        "text/plain": "array([9, 8, 7]) # random"
                    },
                    "execution_count": null
                }
            ]
        },
        {
            "id": "d0de5a2b",
            "cell_type": "markdown",
            "source": "Generate a 2 by 4 array using broadcasting with dtype of uint8\n",
            "metadata": {}
        },
        {
            "id": "11eb77ca",
            "cell_type": "code",
            "metadata": {},
            "execution_count": null,
            "source": "np.random.randint([1, 3, 5, 7], [[10], [20]], dtype=np.uint8)",
            "outputs": [
                {
                    "output_type": "execute_result",
                    "metadata": {},
                    "data": {
                        "text/plain": "array([[ 8,  6,  9,  7], # random\n       [ 1, 16,  9, 12]], dtype=uint8)"
                    },
                    "execution_count": null
                }
            ]
        }
    ]
}