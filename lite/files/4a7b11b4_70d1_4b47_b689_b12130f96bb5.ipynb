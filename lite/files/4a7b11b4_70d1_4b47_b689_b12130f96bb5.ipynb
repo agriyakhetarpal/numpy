{
    "nbformat": 4,
    "nbformat_minor": 5,
    "metadata": {
        "kernelspec": {
            "display_name": "Python",
            "language": "python",
            "name": "python"
        },
        "language_info": {
            "name": "python"
        }
    },
    "cells": [
        {
            "id": "67e3b1e2",
            "cell_type": "markdown",
            "source": "<div class='alert alert-warning'>\n\nNumPy's interactive examples are experimental and may not always work as expected, with high load times especially on low-resource platforms, and the version of NumPy might not be in sync with the one you are browsing the documentation for. If you encounter any issues, please report them on the [NumPy issue tracker](https://github.com/numpy/numpy/issues).\n\n</div>",
            "metadata": {}
        },
        {
            "id": "e0a61c3d",
            "cell_type": "code",
            "metadata": {},
            "execution_count": null,
            "source": "import numpy as np\nx = np.ma.array(np.arange(5), mask=[0]*2 + [1]*3)\nx.compressed()",
            "outputs": [
                {
                    "output_type": "execute_result",
                    "metadata": {},
                    "data": {
                        "text/plain": "array([0, 1])"
                    },
                    "execution_count": null
                }
            ]
        },
        {
            "id": "49df3770",
            "cell_type": "code",
            "metadata": {},
            "execution_count": null,
            "source": "type(x.compressed())",
            "outputs": [
                {
                    "output_type": "execute_result",
                    "metadata": {},
                    "data": {
                        "text/plain": "<class 'numpy.ndarray'>"
                    },
                    "execution_count": null
                }
            ]
        },
        {
            "id": "8d6b201a",
            "cell_type": "markdown",
            "source": "N-D arrays are compressed to 1-D.\n",
            "metadata": {}
        },
        {
            "id": "3875dcd2",
            "cell_type": "code",
            "metadata": {},
            "execution_count": null,
            "source": "arr = [[1, 2], [3, 4]]\nmask = [[1, 0], [0, 1]]\nx = np.ma.array(arr, mask=mask)\nx.compressed()",
            "outputs": [
                {
                    "output_type": "execute_result",
                    "metadata": {},
                    "data": {
                        "text/plain": "array([2, 3])"
                    },
                    "execution_count": null
                }
            ]
        }
    ]
}