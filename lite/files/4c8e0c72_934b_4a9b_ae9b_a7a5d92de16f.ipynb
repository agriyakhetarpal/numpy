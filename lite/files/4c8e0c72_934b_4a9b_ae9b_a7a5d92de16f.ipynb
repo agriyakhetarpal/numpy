{
    "nbformat": 4,
    "nbformat_minor": 5,
    "metadata": {
        "kernelspec": {
            "display_name": "Python",
            "language": "python",
            "name": "python"
        },
        "language_info": {
            "name": "python"
        }
    },
    "cells": [
        {
            "id": "bd7cbc23",
            "cell_type": "markdown",
            "source": "<div class='alert alert-warning'>\n\nNumPy's interactive examples are experimental and may not always work as expected, with high load times especially on low-resource platforms, and the version of NumPy might not be in sync with the one you are browsing the documentation for. If you encounter any issues, please report them on the [NumPy issue tracker](https://github.com/numpy/numpy/issues).\n\n</div>",
            "metadata": {}
        },
        {
            "id": "7302d34f",
            "cell_type": "markdown",
            "source": "Draw samples from the distribution:\n",
            "metadata": {}
        },
        {
            "id": "4ef28509",
            "cell_type": "code",
            "metadata": {},
            "execution_count": null,
            "source": "a = 4.0\nn = 20000\ns = np.random.zipf(a, n)",
            "outputs": []
        },
        {
            "id": "aa181473",
            "cell_type": "markdown",
            "source": "Display the histogram of the samples, along with\nthe expected histogram based on the probability\ndensity function:\n",
            "metadata": {}
        },
        {
            "id": "c8a46a34",
            "cell_type": "code",
            "metadata": {},
            "execution_count": null,
            "source": "import matplotlib.pyplot as plt\nfrom scipy.special import zeta  # doctest: +SKIP",
            "outputs": []
        },
        {
            "id": "3b26742b",
            "cell_type": "markdown",
            "source": "`bincount` provides a fast histogram for small integers.\n",
            "metadata": {}
        },
        {
            "id": "b0cfe87b",
            "cell_type": "code",
            "metadata": {},
            "execution_count": null,
            "source": "count = np.bincount(s)\nk = np.arange(1, s.max() + 1)",
            "outputs": []
        },
        {
            "id": "d3dc72eb",
            "cell_type": "code",
            "metadata": {},
            "execution_count": null,
            "source": "plt.bar(k, count[1:], alpha=0.5, label='sample count')\nplt.plot(k, n*(k**-a)/zeta(a), 'k.-', alpha=0.5,\n         label='expected count')   # doctest: +SKIP\nplt.semilogy()\nplt.grid(alpha=0.4)\nplt.legend()\nplt.title(f'Zipf sample, a={a}, size={n}')\nplt.show()",
            "outputs": []
        }
    ]
}