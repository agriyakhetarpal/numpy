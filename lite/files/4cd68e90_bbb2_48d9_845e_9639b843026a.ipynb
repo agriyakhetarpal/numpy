{
    "nbformat": 4,
    "nbformat_minor": 5,
    "metadata": {
        "kernelspec": {
            "display_name": "Python",
            "language": "python",
            "name": "python"
        },
        "language_info": {
            "name": "python"
        }
    },
    "cells": [
        {
            "id": "1a10d235",
            "cell_type": "markdown",
            "source": "<div class='alert alert-warning'>\n\nNumPy's interactive examples are experimental and may not always work as expected, with high load times especially on low-resource platforms, and the version of NumPy might not be in sync with the one you are browsing the documentation for. If you encounter any issues, please report them on the [NumPy issue tracker](https://github.com/numpy/numpy/issues).\n\n</div>",
            "metadata": {}
        },
        {
            "id": "cadd2d2b",
            "cell_type": "code",
            "metadata": {},
            "execution_count": null,
            "source": "from numpy.polynomial import legendre as L\nc = (1,2,3,4)\nL.legder(c)",
            "outputs": [
                {
                    "output_type": "execute_result",
                    "metadata": {},
                    "data": {
                        "text/plain": "array([  6.,   9.,  20.])"
                    },
                    "execution_count": null
                }
            ]
        },
        {
            "id": "3e2474d4",
            "cell_type": "code",
            "metadata": {},
            "execution_count": null,
            "source": "L.legder(c, 3)",
            "outputs": [
                {
                    "output_type": "execute_result",
                    "metadata": {},
                    "data": {
                        "text/plain": "array([60.])"
                    },
                    "execution_count": null
                }
            ]
        },
        {
            "id": "9536b62c",
            "cell_type": "code",
            "metadata": {},
            "execution_count": null,
            "source": "L.legder(c, scl=-1)",
            "outputs": [
                {
                    "output_type": "execute_result",
                    "metadata": {},
                    "data": {
                        "text/plain": "array([ -6.,  -9., -20.])"
                    },
                    "execution_count": null
                }
            ]
        },
        {
            "id": "fe739bd6",
            "cell_type": "code",
            "metadata": {},
            "execution_count": null,
            "source": "L.legder(c, 2,-1)",
            "outputs": [
                {
                    "output_type": "execute_result",
                    "metadata": {},
                    "data": {
                        "text/plain": "array([  9.,  60.])"
                    },
                    "execution_count": null
                }
            ]
        }
    ]
}