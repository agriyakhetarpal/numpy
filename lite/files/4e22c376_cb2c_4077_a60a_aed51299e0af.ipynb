{
    "nbformat": 4,
    "nbformat_minor": 5,
    "metadata": {
        "kernelspec": {
            "display_name": "Python",
            "language": "python",
            "name": "python"
        },
        "language_info": {
            "name": "python"
        }
    },
    "cells": [
        {
            "id": "409af019",
            "cell_type": "markdown",
            "source": "<div class='alert alert-warning'>\n\nNumPy's interactive examples are experimental and may not always work as expected, with high load times especially on low-resource platforms, and the version of NumPy might not be in sync with the one you are browsing the documentation for. If you encounter any issues, please report them on the [NumPy issue tracker](https://github.com/numpy/numpy/issues).\n\n</div>",
            "metadata": {}
        },
        {
            "id": "f8108c5d",
            "cell_type": "markdown",
            "source": "Create a `numpy.random.Generator` instance:\n",
            "metadata": {}
        },
        {
            "id": "f96e2629",
            "cell_type": "code",
            "metadata": {},
            "execution_count": null,
            "source": "rng = np.random.default_rng()",
            "outputs": []
        },
        {
            "id": "9c2d41de",
            "cell_type": "markdown",
            "source": "Create a test array:\n",
            "metadata": {}
        },
        {
            "id": "696a23d7",
            "cell_type": "code",
            "metadata": {},
            "execution_count": null,
            "source": "x = np.arange(24).reshape(3, 8)\nx",
            "outputs": [
                {
                    "output_type": "execute_result",
                    "metadata": {},
                    "data": {
                        "text/plain": "array([[ 0,  1,  2,  3,  4,  5,  6,  7],\n       [ 8,  9, 10, 11, 12, 13, 14, 15],\n       [16, 17, 18, 19, 20, 21, 22, 23]])"
                    },
                    "execution_count": null
                }
            ]
        },
        {
            "id": "7ce804ac",
            "cell_type": "markdown",
            "source": "Shuffle the rows of `x`:\n",
            "metadata": {}
        },
        {
            "id": "f975c8b6",
            "cell_type": "code",
            "metadata": {},
            "execution_count": null,
            "source": "y = rng.permuted(x, axis=1)\ny",
            "outputs": [
                {
                    "output_type": "execute_result",
                    "metadata": {},
                    "data": {
                        "text/plain": "array([[ 4,  3,  6,  7,  1,  2,  5,  0],  # random\n       [15, 10, 14,  9, 12, 11,  8, 13],\n       [17, 16, 20, 21, 18, 22, 23, 19]])"
                    },
                    "execution_count": null
                }
            ]
        },
        {
            "id": "eb758ae1",
            "cell_type": "markdown",
            "source": "`x` has not been modified:\n",
            "metadata": {}
        },
        {
            "id": "a62ae2fd",
            "cell_type": "code",
            "metadata": {},
            "execution_count": null,
            "source": "x",
            "outputs": [
                {
                    "output_type": "execute_result",
                    "metadata": {},
                    "data": {
                        "text/plain": "array([[ 0,  1,  2,  3,  4,  5,  6,  7],\n       [ 8,  9, 10, 11, 12, 13, 14, 15],\n       [16, 17, 18, 19, 20, 21, 22, 23]])"
                    },
                    "execution_count": null
                }
            ]
        },
        {
            "id": "624eb8f5",
            "cell_type": "markdown",
            "source": "To shuffle the rows of `x` in-place, pass `x` as the `out`\nparameter:\n",
            "metadata": {}
        },
        {
            "id": "c7c1e1bd",
            "cell_type": "code",
            "metadata": {},
            "execution_count": null,
            "source": "y = rng.permuted(x, axis=1, out=x)\nx",
            "outputs": [
                {
                    "output_type": "execute_result",
                    "metadata": {},
                    "data": {
                        "text/plain": "array([[ 3,  0,  4,  7,  1,  6,  2,  5],  # random\n       [ 8, 14, 13,  9, 12, 11, 15, 10],\n       [17, 18, 16, 22, 19, 23, 20, 21]])"
                    },
                    "execution_count": null
                }
            ]
        },
        {
            "id": "15065dcc",
            "cell_type": "markdown",
            "source": "Note that when the ``out`` parameter is given, the return\nvalue is ``out``:\n",
            "metadata": {}
        },
        {
            "id": "6df83fa9",
            "cell_type": "code",
            "metadata": {},
            "execution_count": null,
            "source": "y is x",
            "outputs": [
                {
                    "output_type": "execute_result",
                    "metadata": {},
                    "data": {
                        "text/plain": "True"
                    },
                    "execution_count": null
                }
            ]
        }
    ]
}