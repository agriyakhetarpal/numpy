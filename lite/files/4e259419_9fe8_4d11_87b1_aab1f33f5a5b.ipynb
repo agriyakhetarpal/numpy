{
    "nbformat": 4,
    "nbformat_minor": 5,
    "metadata": {
        "kernelspec": {
            "display_name": "Python",
            "language": "python",
            "name": "python"
        },
        "language_info": {
            "name": "python"
        }
    },
    "cells": [
        {
            "id": "8feef1ff",
            "cell_type": "markdown",
            "source": "<div class='alert alert-warning'>\n\nNumPy's interactive examples are experimental and may not always work as expected, with high load times especially on low-resource platforms, and the version of NumPy might not be in sync with the one you are browsing the documentation for. If you encounter any issues, please report them on the [NumPy issue tracker](https://github.com/numpy/numpy/issues).\n\n</div>",
            "metadata": {}
        },
        {
            "id": "9dc84aa5",
            "cell_type": "code",
            "metadata": {},
            "execution_count": null,
            "source": "import numpy as np\nx = np.array([[1, 2], [3, 4]])",
            "outputs": []
        },
        {
            "id": "c210ebc2",
            "cell_type": "code",
            "metadata": {},
            "execution_count": null,
            "source": "m = np.asmatrix(x)",
            "outputs": []
        },
        {
            "id": "50d2f2c9",
            "cell_type": "code",
            "metadata": {},
            "execution_count": null,
            "source": "x[0,0] = 5",
            "outputs": []
        },
        {
            "id": "8e4e2b22",
            "cell_type": "code",
            "metadata": {},
            "execution_count": null,
            "source": "m",
            "outputs": [
                {
                    "output_type": "execute_result",
                    "metadata": {},
                    "data": {
                        "text/plain": "matrix([[5, 2],\n        [3, 4]])"
                    },
                    "execution_count": null
                }
            ]
        }
    ]
}