{
    "nbformat": 4,
    "nbformat_minor": 5,
    "metadata": {
        "kernelspec": {
            "display_name": "Python",
            "language": "python",
            "name": "python"
        },
        "language_info": {
            "name": "python"
        }
    },
    "cells": [
        {
            "id": "41e24dc4",
            "cell_type": "markdown",
            "source": "<div class='alert alert-warning'>\n\nNumPy's interactive examples are experimental and may not always work as expected, with high load times especially on low-resource platforms, , and the version of NumPy might not be in sync with the one you are browsing the documentation for. If you encounter any issues, please report them on the [NumPy issue tracker](https://github.com/numpy/numpy/issues).\n\n</div>",
            "metadata": {}
        },
        {
            "id": "05c48dc9",
            "cell_type": "code",
            "metadata": {},
            "execution_count": null,
            "source": "self.feature_ahead([\"SSE2\", \"SSE3\", \"SSE41\"])",
            "outputs": [
                {
                    "output_type": "execute_result",
                    "metadata": {},
                    "data": {
                        "text/plain": "[\"SSE41\"]\n# assume AVX2 and FMA3 implies each other and AVX2\n# is the highest interest"
                    },
                    "execution_count": null
                }
            ]
        },
        {
            "id": "1bb20b55",
            "cell_type": "code",
            "metadata": {},
            "execution_count": null,
            "source": "self.feature_ahead([\"SSE2\", \"SSE3\", \"SSE41\", \"AVX2\", \"FMA3\"])",
            "outputs": [
                {
                    "output_type": "execute_result",
                    "metadata": {},
                    "data": {
                        "text/plain": "[\"AVX2\"]\n# assume AVX2 and FMA3 don't implies each other"
                    },
                    "execution_count": null
                }
            ]
        },
        {
            "id": "b0263d1c",
            "cell_type": "code",
            "metadata": {},
            "execution_count": null,
            "source": "self.feature_ahead([\"SSE2\", \"SSE3\", \"SSE41\", \"AVX2\", \"FMA3\"])",
            "outputs": [
                {
                    "output_type": "execute_result",
                    "metadata": {},
                    "data": {
                        "text/plain": "[\"AVX2\", \"FMA3\"]"
                    },
                    "execution_count": null
                }
            ]
        }
    ]
}