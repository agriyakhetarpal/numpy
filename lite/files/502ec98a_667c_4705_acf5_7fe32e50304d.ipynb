{
    "nbformat": 4,
    "nbformat_minor": 5,
    "metadata": {
        "kernelspec": {
            "display_name": "Python",
            "language": "python",
            "name": "python"
        },
        "language_info": {
            "name": "python"
        }
    },
    "cells": [
        {
            "id": "6b410e4c",
            "cell_type": "markdown",
            "source": "<div class='alert alert-warning'>\n\nNumPy's interactive examples are experimental and may not always work as expected, with high load times especially on low-resource platforms, and the version of NumPy might not be in sync with the one you are browsing the documentation for. If you encounter any issues, please report them on the [NumPy issue tracker](https://github.com/numpy/numpy/issues).\n\n</div>",
            "metadata": {}
        },
        {
            "id": "110a8773",
            "cell_type": "code",
            "metadata": {},
            "execution_count": null,
            "source": "import numpy as np\na = np.array([[1, 2], [3, np.nan]])\nnp.nanmin(a)",
            "outputs": [
                {
                    "output_type": "execute_result",
                    "metadata": {},
                    "data": {
                        "text/plain": "1.0"
                    },
                    "execution_count": null
                }
            ]
        },
        {
            "id": "652e1fce",
            "cell_type": "code",
            "metadata": {},
            "execution_count": null,
            "source": "np.nanmin(a, axis=0)",
            "outputs": [
                {
                    "output_type": "execute_result",
                    "metadata": {},
                    "data": {
                        "text/plain": "array([1.,  2.])"
                    },
                    "execution_count": null
                }
            ]
        },
        {
            "id": "63267e64",
            "cell_type": "code",
            "metadata": {},
            "execution_count": null,
            "source": "np.nanmin(a, axis=1)",
            "outputs": [
                {
                    "output_type": "execute_result",
                    "metadata": {},
                    "data": {
                        "text/plain": "array([1.,  3.])"
                    },
                    "execution_count": null
                }
            ]
        },
        {
            "id": "2885fafc",
            "cell_type": "markdown",
            "source": "When positive infinity and negative infinity are present:\n",
            "metadata": {}
        },
        {
            "id": "f84680ef",
            "cell_type": "code",
            "metadata": {},
            "execution_count": null,
            "source": "np.nanmin([1, 2, np.nan, np.inf])",
            "outputs": [
                {
                    "output_type": "execute_result",
                    "metadata": {},
                    "data": {
                        "text/plain": "1.0"
                    },
                    "execution_count": null
                }
            ]
        },
        {
            "id": "3aead2be",
            "cell_type": "code",
            "metadata": {},
            "execution_count": null,
            "source": "np.nanmin([1, 2, np.nan, -np.inf])",
            "outputs": [
                {
                    "output_type": "execute_result",
                    "metadata": {},
                    "data": {
                        "text/plain": "-inf"
                    },
                    "execution_count": null
                }
            ]
        }
    ]
}