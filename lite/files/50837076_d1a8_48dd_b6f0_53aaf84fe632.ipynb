{
    "nbformat": 4,
    "nbformat_minor": 5,
    "metadata": {
        "kernelspec": {
            "display_name": "Python",
            "language": "python",
            "name": "python"
        },
        "language_info": {
            "name": "python"
        }
    },
    "cells": [
        {
            "id": "2b7be72a",
            "cell_type": "markdown",
            "source": "<div class='alert alert-warning'>\n\nNumPy's interactive examples are experimental and may not always work as expected, with high load times especially on low-resource platforms, and the version of NumPy might not be in sync with the one you are browsing the documentation for. If you encounter any issues, please report them on the [NumPy issue tracker](https://github.com/numpy/numpy/issues).\n\n</div>",
            "metadata": {}
        },
        {
            "id": "cedba5c9",
            "cell_type": "markdown",
            "source": "A \"traditional\" example:\n",
            "metadata": {}
        },
        {
            "id": "e88b0cf3",
            "cell_type": "code",
            "metadata": {},
            "execution_count": null,
            "source": "import numpy as np\na = np.arange(60.).reshape(3,4,5)\nb = np.arange(24.).reshape(4,3,2)\nc = np.tensordot(a,b, axes=([1,0],[0,1]))\nc.shape",
            "outputs": [
                {
                    "output_type": "execute_result",
                    "metadata": {},
                    "data": {
                        "text/plain": "(5, 2)"
                    },
                    "execution_count": null
                }
            ]
        },
        {
            "id": "727141a4",
            "cell_type": "code",
            "metadata": {},
            "execution_count": null,
            "source": "c",
            "outputs": [
                {
                    "output_type": "execute_result",
                    "metadata": {},
                    "data": {
                        "text/plain": "array([[4400., 4730.],\n       [4532., 4874.],\n       [4664., 5018.],\n       [4796., 5162.],\n       [4928., 5306.]])"
                    },
                    "execution_count": null
                }
            ]
        },
        {
            "id": "faebc372",
            "cell_type": "code",
            "metadata": {},
            "execution_count": null,
            "source": "# A slower but equivalent way of computing the same...\nd = np.zeros((5,2))\nfor i in range(5):\n  for j in range(2):\n    for k in range(3):\n      for n in range(4):\n        d[i,j] += a[k,n,i] * b[n,k,j]\nc == d",
            "outputs": [
                {
                    "output_type": "execute_result",
                    "metadata": {},
                    "data": {
                        "text/plain": "array([[ True,  True],\n       [ True,  True],\n       [ True,  True],\n       [ True,  True],\n       [ True,  True]])"
                    },
                    "execution_count": null
                }
            ]
        },
        {
            "id": "62941137",
            "cell_type": "markdown",
            "source": "An extended example taking advantage of the overloading of + and \\*:\n",
            "metadata": {}
        },
        {
            "id": "307141cd",
            "cell_type": "code",
            "metadata": {},
            "execution_count": null,
            "source": "a = np.array(range(1, 9))\na.shape = (2, 2, 2)\nA = np.array(('a', 'b', 'c', 'd'), dtype=object)\nA.shape = (2, 2)\na; A",
            "outputs": [
                {
                    "output_type": "execute_result",
                    "metadata": {},
                    "data": {
                        "text/plain": "array([[[1, 2],\n        [3, 4]],\n       [[5, 6],\n        [7, 8]]])\narray([['a', 'b'],\n       ['c', 'd']], dtype=object)"
                    },
                    "execution_count": null
                }
            ]
        },
        {
            "id": "3fc25716",
            "cell_type": "code",
            "metadata": {},
            "execution_count": null,
            "source": "np.tensordot(a, A) # third argument default is 2 for double-contraction",
            "outputs": [
                {
                    "output_type": "execute_result",
                    "metadata": {},
                    "data": {
                        "text/plain": "array(['abbcccdddd', 'aaaaabbbbbbcccccccdddddddd'], dtype=object)"
                    },
                    "execution_count": null
                }
            ]
        },
        {
            "id": "b85a2edb",
            "cell_type": "code",
            "metadata": {},
            "execution_count": null,
            "source": "np.tensordot(a, A, 1)",
            "outputs": [
                {
                    "output_type": "execute_result",
                    "metadata": {},
                    "data": {
                        "text/plain": "array([[['acc', 'bdd'],\n        ['aaacccc', 'bbbdddd']],\n       [['aaaaacccccc', 'bbbbbdddddd'],\n        ['aaaaaaacccccccc', 'bbbbbbbdddddddd']]], dtype=object)"
                    },
                    "execution_count": null
                }
            ]
        },
        {
            "id": "242d8ba8",
            "cell_type": "code",
            "metadata": {},
            "execution_count": null,
            "source": "np.tensordot(a, A, 0) # tensor product (result too long to incl.)",
            "outputs": [
                {
                    "output_type": "execute_result",
                    "metadata": {},
                    "data": {
                        "text/plain": "array([[[[['a', 'b'],\n          ['c', 'd']],\n          ..."
                    },
                    "execution_count": null
                }
            ]
        },
        {
            "id": "e16b90ff",
            "cell_type": "code",
            "metadata": {},
            "execution_count": null,
            "source": "np.tensordot(a, A, (0, 1))",
            "outputs": [
                {
                    "output_type": "execute_result",
                    "metadata": {},
                    "data": {
                        "text/plain": "array([[['abbbbb', 'cddddd'],\n        ['aabbbbbb', 'ccdddddd']],\n       [['aaabbbbbbb', 'cccddddddd'],\n        ['aaaabbbbbbbb', 'ccccdddddddd']]], dtype=object)"
                    },
                    "execution_count": null
                }
            ]
        },
        {
            "id": "692cb902",
            "cell_type": "code",
            "metadata": {},
            "execution_count": null,
            "source": "np.tensordot(a, A, (2, 1))",
            "outputs": [
                {
                    "output_type": "execute_result",
                    "metadata": {},
                    "data": {
                        "text/plain": "array([[['abb', 'cdd'],\n        ['aaabbbb', 'cccdddd']],\n       [['aaaaabbbbbb', 'cccccdddddd'],\n        ['aaaaaaabbbbbbbb', 'cccccccdddddddd']]], dtype=object)"
                    },
                    "execution_count": null
                }
            ]
        },
        {
            "id": "33615b65",
            "cell_type": "code",
            "metadata": {},
            "execution_count": null,
            "source": "np.tensordot(a, A, ((0, 1), (0, 1)))",
            "outputs": [
                {
                    "output_type": "execute_result",
                    "metadata": {},
                    "data": {
                        "text/plain": "array(['abbbcccccddddddd', 'aabbbbccccccdddddddd'], dtype=object)"
                    },
                    "execution_count": null
                }
            ]
        },
        {
            "id": "571a4432",
            "cell_type": "code",
            "metadata": {},
            "execution_count": null,
            "source": "np.tensordot(a, A, ((2, 1), (1, 0)))",
            "outputs": [
                {
                    "output_type": "execute_result",
                    "metadata": {},
                    "data": {
                        "text/plain": "array(['acccbbdddd', 'aaaaacccccccbbbbbbdddddddd'], dtype=object)"
                    },
                    "execution_count": null
                }
            ]
        }
    ]
}