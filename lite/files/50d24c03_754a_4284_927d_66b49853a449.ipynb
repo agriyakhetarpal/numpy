{
    "nbformat": 4,
    "nbformat_minor": 5,
    "metadata": {
        "kernelspec": {
            "display_name": "Python",
            "language": "python",
            "name": "python"
        },
        "language_info": {
            "name": "python"
        }
    },
    "cells": [
        {
            "id": "21475539",
            "cell_type": "markdown",
            "source": "<div class='alert alert-warning'>\n\nNumPy's interactive examples are experimental and may not always work as expected, with high load times especially on low-resource platforms, and the version of NumPy might not be in sync with the one you are browsing the documentation for. If you encounter any issues, please report them on the [NumPy issue tracker](https://github.com/numpy/numpy/issues).\n\n</div>",
            "metadata": {}
        },
        {
            "id": "793bf0e6",
            "cell_type": "code",
            "metadata": {},
            "execution_count": null,
            "source": "import numpy as np\nnp.r_[np.array([1,2,3]), 0, 0, np.array([4,5,6])]",
            "outputs": [
                {
                    "output_type": "execute_result",
                    "metadata": {},
                    "data": {
                        "text/plain": "array([1, 2, 3, ..., 4, 5, 6])"
                    },
                    "execution_count": null
                }
            ]
        },
        {
            "id": "db2087c1",
            "cell_type": "code",
            "metadata": {},
            "execution_count": null,
            "source": "np.r_[-1:1:6j, [0]*3, 5, 6]",
            "outputs": [
                {
                    "output_type": "execute_result",
                    "metadata": {},
                    "data": {
                        "text/plain": "array([-1. , -0.6, -0.2,  0.2,  0.6,  1. ,  0. ,  0. ,  0. ,  5. ,  6. ])"
                    },
                    "execution_count": null
                }
            ]
        },
        {
            "id": "6ca366a6",
            "cell_type": "markdown",
            "source": "String integers specify the axis to concatenate along or the minimum\nnumber of dimensions to force entries into.\n",
            "metadata": {}
        },
        {
            "id": "bd4de3ec",
            "cell_type": "code",
            "metadata": {},
            "execution_count": null,
            "source": "a = np.array([[0, 1, 2], [3, 4, 5]])\nnp.r_['-1', a, a] # concatenate along last axis",
            "outputs": [
                {
                    "output_type": "execute_result",
                    "metadata": {},
                    "data": {
                        "text/plain": "array([[0, 1, 2, 0, 1, 2],\n       [3, 4, 5, 3, 4, 5]])"
                    },
                    "execution_count": null
                }
            ]
        },
        {
            "id": "b9757fc8",
            "cell_type": "code",
            "metadata": {},
            "execution_count": null,
            "source": "np.r_['0,2', [1,2,3], [4,5,6]] # concatenate along first axis, dim>=2",
            "outputs": [
                {
                    "output_type": "execute_result",
                    "metadata": {},
                    "data": {
                        "text/plain": "array([[1, 2, 3],\n       [4, 5, 6]])"
                    },
                    "execution_count": null
                }
            ]
        },
        {
            "id": "b5c39012",
            "cell_type": "code",
            "metadata": {},
            "execution_count": null,
            "source": "np.r_['0,2,0', [1,2,3], [4,5,6]]",
            "outputs": [
                {
                    "output_type": "execute_result",
                    "metadata": {},
                    "data": {
                        "text/plain": "array([[1],\n       [2],\n       [3],\n       [4],\n       [5],\n       [6]])"
                    },
                    "execution_count": null
                }
            ]
        },
        {
            "id": "b7968341",
            "cell_type": "code",
            "metadata": {},
            "execution_count": null,
            "source": "np.r_['1,2,0', [1,2,3], [4,5,6]]",
            "outputs": [
                {
                    "output_type": "execute_result",
                    "metadata": {},
                    "data": {
                        "text/plain": "array([[1, 4],\n       [2, 5],\n       [3, 6]])"
                    },
                    "execution_count": null
                }
            ]
        },
        {
            "id": "e720e42a",
            "cell_type": "markdown",
            "source": "Using 'r' or 'c' as a first string argument creates a matrix.\n",
            "metadata": {}
        },
        {
            "id": "956e7573",
            "cell_type": "code",
            "metadata": {},
            "execution_count": null,
            "source": "np.r_['r',[1,2,3], [4,5,6]]",
            "outputs": [
                {
                    "output_type": "execute_result",
                    "metadata": {},
                    "data": {
                        "text/plain": "matrix([[1, 2, 3, 4, 5, 6]])"
                    },
                    "execution_count": null
                }
            ]
        }
    ]
}