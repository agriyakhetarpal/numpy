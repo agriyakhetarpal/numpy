{
    "nbformat": 4,
    "nbformat_minor": 5,
    "metadata": {
        "kernelspec": {
            "display_name": "Python",
            "language": "python",
            "name": "python"
        },
        "language_info": {
            "name": "python"
        }
    },
    "cells": [
        {
            "id": "58df2e4f",
            "cell_type": "markdown",
            "source": "<div class='alert alert-warning'>\n\nNumPy's interactive examples are experimental and may not always work as expected, with high load times especially on low-resource platforms, and the version of NumPy might not be in sync with the one you are browsing the documentation for. If you encounter any issues, please report them on the [NumPy issue tracker](https://github.com/numpy/numpy/issues).\n\n</div>",
            "metadata": {}
        },
        {
            "id": "d3a5ec0d",
            "cell_type": "code",
            "metadata": {},
            "execution_count": null,
            "source": "import numpy as np\nx = np.array([1, 2, 3, 4])\nnp.shares_memory(x, np.array([5, 6, 7]))",
            "outputs": [
                {
                    "output_type": "execute_result",
                    "metadata": {},
                    "data": {
                        "text/plain": "False"
                    },
                    "execution_count": null
                }
            ]
        },
        {
            "id": "60ac242e",
            "cell_type": "code",
            "metadata": {},
            "execution_count": null,
            "source": "np.shares_memory(x[::2], x)",
            "outputs": [
                {
                    "output_type": "execute_result",
                    "metadata": {},
                    "data": {
                        "text/plain": "True"
                    },
                    "execution_count": null
                }
            ]
        },
        {
            "id": "a0d46142",
            "cell_type": "code",
            "metadata": {},
            "execution_count": null,
            "source": "np.shares_memory(x[::2], x[1::2])",
            "outputs": [
                {
                    "output_type": "execute_result",
                    "metadata": {},
                    "data": {
                        "text/plain": "False"
                    },
                    "execution_count": null
                }
            ]
        },
        {
            "id": "d2c84976",
            "cell_type": "markdown",
            "source": "Checking whether two arrays share memory is NP-complete, and\nruntime may increase exponentially in the number of\ndimensions. Hence, `max_work` should generally be set to a finite\nnumber, as it is possible to construct examples that take\nextremely long to run:\n",
            "metadata": {}
        },
        {
            "id": "a5a20d89",
            "cell_type": "code",
            "metadata": {},
            "execution_count": null,
            "source": "from numpy.lib.stride_tricks import as_strided\nx = np.zeros([192163377], dtype=np.int8)\nx1 = as_strided(\n    x, strides=(36674, 61119, 85569), shape=(1049, 1049, 1049))\nx2 = as_strided(\n    x[64023025:], strides=(12223, 12224, 1), shape=(1049, 1049, 1))\nnp.shares_memory(x1, x2, max_work=1000)\n",
            "outputs": [
                {
                    "output_type": "execute_result",
                    "metadata": {},
                    "data": {
                        "text/plain": "Traceback (most recent call last):\nnumpy.exceptions.TooHardError: Exceeded max_work"
                    },
                    "execution_count": null
                }
            ]
        },
        {
            "id": "0ac8090d",
            "cell_type": "markdown",
            "source": "Running ``np.shares_memory(x1, x2)`` without `max_work` set takes\naround 1 minute for this case. It is possible to find problems\nthat take still significantly longer.",
            "metadata": {}
        }
    ]
}