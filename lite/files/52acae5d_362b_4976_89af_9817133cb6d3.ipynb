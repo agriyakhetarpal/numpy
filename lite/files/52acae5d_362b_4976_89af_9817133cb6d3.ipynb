{
    "nbformat": 4,
    "nbformat_minor": 5,
    "metadata": {
        "kernelspec": {
            "display_name": "Python",
            "language": "python",
            "name": "python"
        },
        "language_info": {
            "name": "python"
        }
    },
    "cells": [
        {
            "id": "085b9c32",
            "cell_type": "markdown",
            "source": "<div class='alert alert-warning'>\n\nNumPy's interactive examples are experimental and may not always work as expected, with high load times especially on low-resource platforms, , and the version of NumPy might not be in sync with the one you are browsing the documentation for. If you encounter any issues, please report them on the [NumPy issue tracker](https://github.com/numpy/numpy/issues).\n\n</div>",
            "metadata": {}
        },
        {
            "id": "5b3a84ce",
            "cell_type": "markdown",
            "source": "These examples illustrate the low-level `ndarray` constructor.  Refer\nto the `See Also` section above for easier ways of constructing an\nndarray.\n\nFirst mode, `buffer` is None:\n",
            "metadata": {}
        },
        {
            "id": "1ffa8b7a",
            "cell_type": "code",
            "metadata": {},
            "execution_count": null,
            "source": "import numpy as np\nnp.ndarray(shape=(2,2), dtype=float, order='F')",
            "outputs": [
                {
                    "output_type": "execute_result",
                    "metadata": {},
                    "data": {
                        "text/plain": "array([[0.0e+000, 0.0e+000], # random\n       [     nan, 2.5e-323]])"
                    },
                    "execution_count": null
                }
            ]
        },
        {
            "id": "52d264cb",
            "cell_type": "markdown",
            "source": "Second mode:\n",
            "metadata": {}
        },
        {
            "id": "69b6d2bf",
            "cell_type": "code",
            "metadata": {},
            "execution_count": null,
            "source": "np.ndarray((2,), buffer=np.array([1,2,3]),\n           offset=np.int_().itemsize,\n           dtype=int) # offset = 1*itemsize, i.e. skip first element",
            "outputs": [
                {
                    "output_type": "execute_result",
                    "metadata": {},
                    "data": {
                        "text/plain": "array([2, 3])"
                    },
                    "execution_count": null
                }
            ]
        }
    ]
}