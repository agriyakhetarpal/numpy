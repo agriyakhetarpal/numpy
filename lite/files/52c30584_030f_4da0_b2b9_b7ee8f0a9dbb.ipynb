{
    "nbformat": 4,
    "nbformat_minor": 5,
    "metadata": {
        "kernelspec": {
            "display_name": "Python",
            "language": "python",
            "name": "python"
        },
        "language_info": {
            "name": "python"
        }
    },
    "cells": [
        {
            "id": "6553789b",
            "cell_type": "markdown",
            "source": "<div class='alert alert-warning'>\n\nNumPy's interactive examples are experimental and may not always work as expected, with high load times especially on low-resource platforms, and the version of NumPy might not be in sync with the one you are browsing the documentation for. If you encounter any issues, please report them on the [NumPy issue tracker](https://github.com/numpy/numpy/issues).\n\n</div>",
            "metadata": {}
        },
        {
            "id": "2f80a32e",
            "cell_type": "code",
            "metadata": {},
            "execution_count": null,
            "source": "import numpy as np\nnp.shape(np.eye(3))",
            "outputs": [
                {
                    "output_type": "execute_result",
                    "metadata": {},
                    "data": {
                        "text/plain": "(3, 3)"
                    },
                    "execution_count": null
                }
            ]
        },
        {
            "id": "53cd7c7d",
            "cell_type": "code",
            "metadata": {},
            "execution_count": null,
            "source": "np.shape([[1, 3]])",
            "outputs": [
                {
                    "output_type": "execute_result",
                    "metadata": {},
                    "data": {
                        "text/plain": "(1, 2)"
                    },
                    "execution_count": null
                }
            ]
        },
        {
            "id": "955b5324",
            "cell_type": "code",
            "metadata": {},
            "execution_count": null,
            "source": "np.shape([0])",
            "outputs": [
                {
                    "output_type": "execute_result",
                    "metadata": {},
                    "data": {
                        "text/plain": "(1,)"
                    },
                    "execution_count": null
                }
            ]
        },
        {
            "id": "5a0e2a5c",
            "cell_type": "code",
            "metadata": {},
            "execution_count": null,
            "source": "np.shape(0)",
            "outputs": [
                {
                    "output_type": "execute_result",
                    "metadata": {},
                    "data": {
                        "text/plain": "()"
                    },
                    "execution_count": null
                }
            ]
        },
        {
            "id": "d3ee4df8",
            "cell_type": "code",
            "metadata": {},
            "execution_count": null,
            "source": "a = np.array([(1, 2), (3, 4), (5, 6)],\n             dtype=[('x', 'i4'), ('y', 'i4')])\nnp.shape(a)",
            "outputs": [
                {
                    "output_type": "execute_result",
                    "metadata": {},
                    "data": {
                        "text/plain": "(3,)"
                    },
                    "execution_count": null
                }
            ]
        },
        {
            "id": "7b6ac41d",
            "cell_type": "code",
            "metadata": {},
            "execution_count": null,
            "source": "a.shape",
            "outputs": [
                {
                    "output_type": "execute_result",
                    "metadata": {},
                    "data": {
                        "text/plain": "(3,)"
                    },
                    "execution_count": null
                }
            ]
        }
    ]
}