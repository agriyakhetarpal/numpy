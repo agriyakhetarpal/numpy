{
    "nbformat": 4,
    "nbformat_minor": 5,
    "metadata": {
        "kernelspec": {
            "display_name": "Python",
            "language": "python",
            "name": "python"
        },
        "language_info": {
            "name": "python"
        }
    },
    "cells": [
        {
            "id": "0b498802",
            "cell_type": "markdown",
            "source": "<div class='alert alert-warning'>\n\nNumPy's interactive examples are experimental and may not always work as expected, with high load times especially on low-resource platforms, and the version of NumPy might not be in sync with the one you are browsing the documentation for. If you encounter any issues, please report them on the [NumPy issue tracker](https://github.com/numpy/numpy/issues).\n\n</div>",
            "metadata": {}
        },
        {
            "id": "b84e0604",
            "cell_type": "code",
            "metadata": {},
            "execution_count": null,
            "source": "import numpy as np\nnp.append([1, 2, 3], [[4, 5, 6], [7, 8, 9]])",
            "outputs": [
                {
                    "output_type": "execute_result",
                    "metadata": {},
                    "data": {
                        "text/plain": "array([1, 2, 3, ..., 7, 8, 9])"
                    },
                    "execution_count": null
                }
            ]
        },
        {
            "id": "c3c9061f",
            "cell_type": "markdown",
            "source": "When `axis` is specified, `values` must have the correct shape.\n",
            "metadata": {}
        },
        {
            "id": "b558c125",
            "cell_type": "code",
            "metadata": {},
            "execution_count": null,
            "source": "np.append([[1, 2, 3], [4, 5, 6]], [[7, 8, 9]], axis=0)",
            "outputs": [
                {
                    "output_type": "execute_result",
                    "metadata": {},
                    "data": {
                        "text/plain": "array([[1, 2, 3],\n       [4, 5, 6],\n       [7, 8, 9]])"
                    },
                    "execution_count": null
                }
            ]
        },
        {
            "id": "d17179e8",
            "cell_type": "code",
            "metadata": {},
            "execution_count": null,
            "source": "np.append([[1, 2, 3], [4, 5, 6]], [7, 8, 9], axis=0)",
            "outputs": [
                {
                    "output_type": "execute_result",
                    "metadata": {},
                    "data": {
                        "text/plain": "Traceback (most recent call last):\n    ...\nValueError: all the input arrays must have same number of dimensions, but\nthe array at index 0 has 2 dimension(s) and the array at index 1 has 1\ndimension(s)"
                    },
                    "execution_count": null
                }
            ]
        },
        {
            "id": "d339bebd",
            "cell_type": "code",
            "metadata": {},
            "execution_count": null,
            "source": "a = np.array([1, 2], dtype=int)\nc = np.append(a, [])\nc",
            "outputs": [
                {
                    "output_type": "execute_result",
                    "metadata": {},
                    "data": {
                        "text/plain": "array([1., 2.])"
                    },
                    "execution_count": null
                }
            ]
        },
        {
            "id": "7174f1de",
            "cell_type": "code",
            "metadata": {},
            "execution_count": null,
            "source": "c.dtype",
            "outputs": [
                {
                    "output_type": "execute_result",
                    "metadata": {},
                    "data": {
                        "text/plain": "float64"
                    },
                    "execution_count": null
                }
            ]
        },
        {
            "id": "5d321bd4",
            "cell_type": "markdown",
            "source": "Default dtype for empty ndarrays is `float64` thus making the output of dtype\n`float64` when appended with dtype `int64`",
            "metadata": {}
        }
    ]
}