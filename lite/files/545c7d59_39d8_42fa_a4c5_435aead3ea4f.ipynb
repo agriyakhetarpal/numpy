{
    "nbformat": 4,
    "nbformat_minor": 5,
    "metadata": {
        "kernelspec": {
            "display_name": "Python",
            "language": "python",
            "name": "python"
        },
        "language_info": {
            "name": "python"
        }
    },
    "cells": [
        {
            "id": "1be549b2",
            "cell_type": "markdown",
            "source": "<div class='alert alert-warning'>\n\nNumPy's interactive examples are experimental and may not always work as expected, with high load times especially on low-resource platforms, and the version of NumPy might not be in sync with the one you are browsing the documentation for. If you encounter any issues, please report them on the [NumPy issue tracker](https://github.com/numpy/numpy/issues).\n\n</div>",
            "metadata": {}
        },
        {
            "id": "5ea2fdfb",
            "cell_type": "code",
            "metadata": {},
            "execution_count": null,
            "source": "import numpy as np\na = np.arange(10).reshape(2, 5)\na",
            "outputs": [
                {
                    "output_type": "execute_result",
                    "metadata": {},
                    "data": {
                        "text/plain": "array([[0, 1, 2, 3, 4],\n       [5, 6, 7, 8, 9]])"
                    },
                    "execution_count": null
                }
            ]
        },
        {
            "id": "221265cb",
            "cell_type": "code",
            "metadata": {},
            "execution_count": null,
            "source": "ixgrid = np.ix_([0, 1], [2, 4])\nixgrid",
            "outputs": [
                {
                    "output_type": "execute_result",
                    "metadata": {},
                    "data": {
                        "text/plain": "(array([[0],\n       [1]]), array([[2, 4]]))"
                    },
                    "execution_count": null
                }
            ]
        },
        {
            "id": "5bb8ed67",
            "cell_type": "code",
            "metadata": {},
            "execution_count": null,
            "source": "ixgrid[0].shape, ixgrid[1].shape",
            "outputs": [
                {
                    "output_type": "execute_result",
                    "metadata": {},
                    "data": {
                        "text/plain": "((2, 1), (1, 2))"
                    },
                    "execution_count": null
                }
            ]
        },
        {
            "id": "1a9ab7b9",
            "cell_type": "code",
            "metadata": {},
            "execution_count": null,
            "source": "a[ixgrid]",
            "outputs": [
                {
                    "output_type": "execute_result",
                    "metadata": {},
                    "data": {
                        "text/plain": "array([[2, 4],\n       [7, 9]])"
                    },
                    "execution_count": null
                }
            ]
        },
        {
            "id": "3b847889",
            "cell_type": "code",
            "metadata": {},
            "execution_count": null,
            "source": "ixgrid = np.ix_([True, True], [2, 4])\na[ixgrid]",
            "outputs": [
                {
                    "output_type": "execute_result",
                    "metadata": {},
                    "data": {
                        "text/plain": "array([[2, 4],\n       [7, 9]])"
                    },
                    "execution_count": null
                }
            ]
        },
        {
            "id": "9593ee7f",
            "cell_type": "code",
            "metadata": {},
            "execution_count": null,
            "source": "ixgrid = np.ix_([True, True], [False, False, True, False, True])\na[ixgrid]",
            "outputs": [
                {
                    "output_type": "execute_result",
                    "metadata": {},
                    "data": {
                        "text/plain": "array([[2, 4],\n       [7, 9]])"
                    },
                    "execution_count": null
                }
            ]
        }
    ]
}