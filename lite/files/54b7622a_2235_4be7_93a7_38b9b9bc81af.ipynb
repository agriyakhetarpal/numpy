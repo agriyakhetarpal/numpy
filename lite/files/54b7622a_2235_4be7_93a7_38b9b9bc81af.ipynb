{
    "nbformat": 4,
    "nbformat_minor": 5,
    "metadata": {
        "kernelspec": {
            "display_name": "Python",
            "language": "python",
            "name": "python"
        },
        "language_info": {
            "name": "python"
        }
    },
    "cells": [
        {
            "id": "f9a0acfc",
            "cell_type": "markdown",
            "source": "<div class='alert alert-warning'>\n\nNumPy's interactive examples are experimental and may not always work as expected, with high load times especially on low-resource platforms, and the version of NumPy might not be in sync with the one you are browsing the documentation for. If you encounter any issues, please report them on the [NumPy issue tracker](https://github.com/numpy/numpy/issues).\n\n</div>",
            "metadata": {}
        },
        {
            "id": "4114245a",
            "cell_type": "code",
            "metadata": {},
            "execution_count": null,
            "source": "import numpy as np\nnp.logical_and(True, False)",
            "outputs": [
                {
                    "output_type": "execute_result",
                    "metadata": {},
                    "data": {
                        "text/plain": "False"
                    },
                    "execution_count": null
                }
            ]
        },
        {
            "id": "75d815f4",
            "cell_type": "code",
            "metadata": {},
            "execution_count": null,
            "source": "np.logical_and([True, False], [False, False])",
            "outputs": [
                {
                    "output_type": "execute_result",
                    "metadata": {},
                    "data": {
                        "text/plain": "array([False, False])"
                    },
                    "execution_count": null
                }
            ]
        },
        {
            "id": "8feeed53",
            "cell_type": "code",
            "metadata": {},
            "execution_count": null,
            "source": "x = np.arange(5)\nnp.logical_and(x>1, x<4)",
            "outputs": [
                {
                    "output_type": "execute_result",
                    "metadata": {},
                    "data": {
                        "text/plain": "array([False, False,  True,  True, False])"
                    },
                    "execution_count": null
                }
            ]
        },
        {
            "id": "761a90ff",
            "cell_type": "markdown",
            "source": "The ``&`` operator can be used as a shorthand for ``np.logical_and`` on\nboolean ndarrays.\n",
            "metadata": {}
        },
        {
            "id": "1ebe12a9",
            "cell_type": "code",
            "metadata": {},
            "execution_count": null,
            "source": "a = np.array([True, False])\nb = np.array([False, False])\na & b",
            "outputs": [
                {
                    "output_type": "execute_result",
                    "metadata": {},
                    "data": {
                        "text/plain": "array([False, False])"
                    },
                    "execution_count": null
                }
            ]
        }
    ]
}