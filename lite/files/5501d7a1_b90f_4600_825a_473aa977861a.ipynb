{
    "nbformat": 4,
    "nbformat_minor": 5,
    "metadata": {
        "kernelspec": {
            "display_name": "Python",
            "language": "python",
            "name": "python"
        },
        "language_info": {
            "name": "python"
        }
    },
    "cells": [
        {
            "id": "26f208b7",
            "cell_type": "markdown",
            "source": "<div class='alert alert-warning'>\n\nNumPy's interactive examples are experimental and may not always work as expected, with high load times especially on low-resource platforms, and the version of NumPy might not be in sync with the one you are browsing the documentation for. If you encounter any issues, please report them on the [NumPy issue tracker](https://github.com/numpy/numpy/issues).\n\n</div>",
            "metadata": {}
        },
        {
            "id": "3688ca31",
            "cell_type": "code",
            "metadata": {},
            "execution_count": null,
            "source": "rng = np.random.default_rng()\nrng.integers(2, size=10)",
            "outputs": [
                {
                    "output_type": "execute_result",
                    "metadata": {},
                    "data": {
                        "text/plain": "array([1, 0, 0, 0, 1, 1, 0, 0, 1, 0])  # random"
                    },
                    "execution_count": null
                }
            ]
        },
        {
            "id": "71446e30",
            "cell_type": "code",
            "metadata": {},
            "execution_count": null,
            "source": "rng.integers(1, size=10)",
            "outputs": [
                {
                    "output_type": "execute_result",
                    "metadata": {},
                    "data": {
                        "text/plain": "array([0, 0, 0, 0, 0, 0, 0, 0, 0, 0])"
                    },
                    "execution_count": null
                }
            ]
        },
        {
            "id": "3d3a9349",
            "cell_type": "markdown",
            "source": "Generate a 2 x 4 array of ints between 0 and 4, inclusive:\n",
            "metadata": {}
        },
        {
            "id": "f17c3bbd",
            "cell_type": "code",
            "metadata": {},
            "execution_count": null,
            "source": "rng.integers(5, size=(2, 4))",
            "outputs": [
                {
                    "output_type": "execute_result",
                    "metadata": {},
                    "data": {
                        "text/plain": "array([[4, 0, 2, 1],\n       [3, 2, 2, 0]])  # random"
                    },
                    "execution_count": null
                }
            ]
        },
        {
            "id": "40a0e692",
            "cell_type": "markdown",
            "source": "Generate a 1 x 3 array with 3 different upper bounds\n",
            "metadata": {}
        },
        {
            "id": "c691171a",
            "cell_type": "code",
            "metadata": {},
            "execution_count": null,
            "source": "rng.integers(1, [3, 5, 10])",
            "outputs": [
                {
                    "output_type": "execute_result",
                    "metadata": {},
                    "data": {
                        "text/plain": "array([2, 2, 9])  # random"
                    },
                    "execution_count": null
                }
            ]
        },
        {
            "id": "39ea42e4",
            "cell_type": "markdown",
            "source": "Generate a 1 by 3 array with 3 different lower bounds\n",
            "metadata": {}
        },
        {
            "id": "fe113aea",
            "cell_type": "code",
            "metadata": {},
            "execution_count": null,
            "source": "rng.integers([1, 5, 7], 10)",
            "outputs": [
                {
                    "output_type": "execute_result",
                    "metadata": {},
                    "data": {
                        "text/plain": "array([9, 8, 7])  # random"
                    },
                    "execution_count": null
                }
            ]
        },
        {
            "id": "6e91bb05",
            "cell_type": "markdown",
            "source": "Generate a 2 by 4 array using broadcasting with dtype of uint8\n",
            "metadata": {}
        },
        {
            "id": "eb25cbc8",
            "cell_type": "code",
            "metadata": {},
            "execution_count": null,
            "source": "rng.integers([1, 3, 5, 7], [[10], [20]], dtype=np.uint8)",
            "outputs": [
                {
                    "output_type": "execute_result",
                    "metadata": {},
                    "data": {
                        "text/plain": "array([[ 8,  6,  9,  7],\n       [ 1, 16,  9, 12]], dtype=uint8)  # random"
                    },
                    "execution_count": null
                }
            ]
        }
    ]
}