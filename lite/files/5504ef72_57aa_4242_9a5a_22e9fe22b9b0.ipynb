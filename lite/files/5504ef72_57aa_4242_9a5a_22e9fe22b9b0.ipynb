{
    "nbformat": 4,
    "nbformat_minor": 5,
    "metadata": {
        "kernelspec": {
            "display_name": "Python",
            "language": "python",
            "name": "python"
        },
        "language_info": {
            "name": "python"
        }
    },
    "cells": [
        {
            "id": "1534467c",
            "cell_type": "markdown",
            "source": "<div class='alert alert-warning'>\n\nNumPy's interactive examples are experimental and may not always work as expected, with high load times especially on low-resource platforms, and the version of NumPy might not be in sync with the one you are browsing the documentation for. If you encounter any issues, please report them on the [NumPy issue tracker](https://github.com/numpy/numpy/issues).\n\n</div>",
            "metadata": {}
        },
        {
            "id": "aac6d97e",
            "cell_type": "markdown",
            "source": "For 2-D arrays it is the matrix product:\n",
            "metadata": {}
        },
        {
            "id": "1c5448e0",
            "cell_type": "code",
            "metadata": {},
            "execution_count": null,
            "source": "a = np.array([[1, 0],\n              [0, 1]])\nb = np.array([[4, 1],\n              [2, 2]])\nnp.linalg.matmul(a, b)",
            "outputs": [
                {
                    "output_type": "execute_result",
                    "metadata": {},
                    "data": {
                        "text/plain": "array([[4, 1],\n       [2, 2]])"
                    },
                    "execution_count": null
                }
            ]
        },
        {
            "id": "5239eec2",
            "cell_type": "markdown",
            "source": "For 2-D mixed with 1-D, the result is the usual.\n",
            "metadata": {}
        },
        {
            "id": "6db8db23",
            "cell_type": "code",
            "metadata": {},
            "execution_count": null,
            "source": "a = np.array([[1, 0],\n              [0, 1]])\nb = np.array([1, 2])\nnp.linalg.matmul(a, b)",
            "outputs": [
                {
                    "output_type": "execute_result",
                    "metadata": {},
                    "data": {
                        "text/plain": "array([1, 2])"
                    },
                    "execution_count": null
                }
            ]
        },
        {
            "id": "de7e17c9",
            "cell_type": "code",
            "metadata": {},
            "execution_count": null,
            "source": "np.linalg.matmul(b, a)",
            "outputs": [
                {
                    "output_type": "execute_result",
                    "metadata": {},
                    "data": {
                        "text/plain": "array([1, 2])"
                    },
                    "execution_count": null
                }
            ]
        },
        {
            "id": "b676a8bd",
            "cell_type": "markdown",
            "source": "Broadcasting is conventional for stacks of arrays\n",
            "metadata": {}
        },
        {
            "id": "e289555e",
            "cell_type": "code",
            "metadata": {},
            "execution_count": null,
            "source": "a = np.arange(2 * 2 * 4).reshape((2, 2, 4))\nb = np.arange(2 * 2 * 4).reshape((2, 4, 2))\nnp.linalg.matmul(a,b).shape",
            "outputs": [
                {
                    "output_type": "execute_result",
                    "metadata": {},
                    "data": {
                        "text/plain": "(2, 2, 2)"
                    },
                    "execution_count": null
                }
            ]
        },
        {
            "id": "581c8c09",
            "cell_type": "code",
            "metadata": {},
            "execution_count": null,
            "source": "np.linalg.matmul(a, b)[0, 1, 1]",
            "outputs": [
                {
                    "output_type": "execute_result",
                    "metadata": {},
                    "data": {
                        "text/plain": "98"
                    },
                    "execution_count": null
                }
            ]
        },
        {
            "id": "2f89c050",
            "cell_type": "code",
            "metadata": {},
            "execution_count": null,
            "source": "sum(a[0, 1, :] * b[0 , :, 1])",
            "outputs": [
                {
                    "output_type": "execute_result",
                    "metadata": {},
                    "data": {
                        "text/plain": "98"
                    },
                    "execution_count": null
                }
            ]
        },
        {
            "id": "40897b34",
            "cell_type": "markdown",
            "source": "Vector, vector returns the scalar inner product, but neither argument\nis complex-conjugated:\n",
            "metadata": {}
        },
        {
            "id": "e5936710",
            "cell_type": "code",
            "metadata": {},
            "execution_count": null,
            "source": "np.linalg.matmul([2j, 3j], [2j, 3j])",
            "outputs": [
                {
                    "output_type": "execute_result",
                    "metadata": {},
                    "data": {
                        "text/plain": "(-13+0j)"
                    },
                    "execution_count": null
                }
            ]
        },
        {
            "id": "87c8f3a4",
            "cell_type": "markdown",
            "source": "Scalar multiplication raises an error.\n",
            "metadata": {}
        },
        {
            "id": "357b7e40",
            "cell_type": "code",
            "metadata": {},
            "execution_count": null,
            "source": "np.linalg.matmul([1,2], 3)\n",
            "outputs": [
                {
                    "output_type": "execute_result",
                    "metadata": {},
                    "data": {
                        "text/plain": "Traceback (most recent call last):\nValueError: matmul: Input operand 1 does not have enough dimensions ..."
                    },
                    "execution_count": null
                }
            ]
        }
    ]
}