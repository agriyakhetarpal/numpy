{
    "nbformat": 4,
    "nbformat_minor": 5,
    "metadata": {
        "kernelspec": {
            "display_name": "Python",
            "language": "python",
            "name": "python"
        },
        "language_info": {
            "name": "python"
        }
    },
    "cells": [
        {
            "id": "b5daab30",
            "cell_type": "markdown",
            "source": "<div class='alert alert-warning'>\n\nNumPy's interactive examples are experimental and may not always work as expected, with high load times especially on low-resource platforms, , and the version of NumPy might not be in sync with the one you are browsing the documentation for. If you encounter any issues, please report them on the [NumPy issue tracker](https://github.com/numpy/numpy/issues).\n\n</div>",
            "metadata": {}
        },
        {
            "id": "167853f1",
            "cell_type": "code",
            "metadata": {},
            "execution_count": null,
            "source": "from numpy import polynomial as P\np = P.Polynomial(range(4))\np",
            "outputs": [
                {
                    "output_type": "execute_result",
                    "metadata": {},
                    "data": {
                        "text/plain": "Polynomial([0., 1., 2., 3.], domain=[-1.,  1.], window=[-1.,  1.], symbol='x')"
                    },
                    "execution_count": null
                }
            ]
        },
        {
            "id": "ec889d0c",
            "cell_type": "code",
            "metadata": {},
            "execution_count": null,
            "source": "c = p.convert(kind=P.Chebyshev)\nc",
            "outputs": [
                {
                    "output_type": "execute_result",
                    "metadata": {},
                    "data": {
                        "text/plain": "Chebyshev([1.  , 3.25, 1.  , 0.75], domain=[-1.,  1.], window=[-1., ..."
                    },
                    "execution_count": null
                }
            ]
        },
        {
            "id": "9ecfe6aa",
            "cell_type": "code",
            "metadata": {},
            "execution_count": null,
            "source": "P.chebyshev.poly2cheb(range(4))",
            "outputs": [
                {
                    "output_type": "execute_result",
                    "metadata": {},
                    "data": {
                        "text/plain": "array([1.  , 3.25, 1.  , 0.75])"
                    },
                    "execution_count": null
                }
            ]
        }
    ]
}