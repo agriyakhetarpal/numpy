{
    "nbformat": 4,
    "nbformat_minor": 5,
    "metadata": {
        "kernelspec": {
            "display_name": "Python",
            "language": "python",
            "name": "python"
        },
        "language_info": {
            "name": "python"
        }
    },
    "cells": [
        {
            "id": "05ab1fec",
            "cell_type": "markdown",
            "source": "<div class='alert alert-warning'>\n\nNumPy's interactive examples are experimental and may not always work as expected, with high load times especially on low-resource platforms, , and the version of NumPy might not be in sync with the one you are browsing the documentation for. If you encounter any issues, please report them on the [NumPy issue tracker](https://github.com/numpy/numpy/issues).\n\n</div>",
            "metadata": {}
        },
        {
            "id": "a31dbcac",
            "cell_type": "code",
            "metadata": {},
            "execution_count": null,
            "source": "import numpy as np",
            "outputs": []
        },
        {
            "id": "9bc31edb",
            "cell_type": "markdown",
            "source": "Use the trapezoidal rule on evenly spaced points:\n",
            "metadata": {}
        },
        {
            "id": "3dd5a67f",
            "cell_type": "code",
            "metadata": {},
            "execution_count": null,
            "source": "np.trapezoid([1, 2, 3])",
            "outputs": [
                {
                    "output_type": "execute_result",
                    "metadata": {},
                    "data": {
                        "text/plain": "4.0"
                    },
                    "execution_count": null
                }
            ]
        },
        {
            "id": "711efe27",
            "cell_type": "markdown",
            "source": "The spacing between sample points can be selected by either the\n``x`` or ``dx`` arguments:\n",
            "metadata": {}
        },
        {
            "id": "aec66e97",
            "cell_type": "code",
            "metadata": {},
            "execution_count": null,
            "source": "np.trapezoid([1, 2, 3], x=[4, 6, 8])",
            "outputs": [
                {
                    "output_type": "execute_result",
                    "metadata": {},
                    "data": {
                        "text/plain": "8.0"
                    },
                    "execution_count": null
                }
            ]
        },
        {
            "id": "0a022af3",
            "cell_type": "code",
            "metadata": {},
            "execution_count": null,
            "source": "np.trapezoid([1, 2, 3], dx=2)",
            "outputs": [
                {
                    "output_type": "execute_result",
                    "metadata": {},
                    "data": {
                        "text/plain": "8.0"
                    },
                    "execution_count": null
                }
            ]
        },
        {
            "id": "502fc684",
            "cell_type": "markdown",
            "source": "Using a decreasing ``x`` corresponds to integrating in reverse:\n",
            "metadata": {}
        },
        {
            "id": "eb529e40",
            "cell_type": "code",
            "metadata": {},
            "execution_count": null,
            "source": "np.trapezoid([1, 2, 3], x=[8, 6, 4])",
            "outputs": [
                {
                    "output_type": "execute_result",
                    "metadata": {},
                    "data": {
                        "text/plain": "-8.0"
                    },
                    "execution_count": null
                }
            ]
        },
        {
            "id": "6236ee8f",
            "cell_type": "markdown",
            "source": "More generally ``x`` is used to integrate along a parametric curve. We can\nestimate the integral $\\int_0^1 x^2 = 1/3$ using:\n",
            "metadata": {}
        },
        {
            "id": "05796a43",
            "cell_type": "code",
            "metadata": {},
            "execution_count": null,
            "source": "x = np.linspace(0, 1, num=50)\ny = x**2\nnp.trapezoid(y, x)",
            "outputs": [
                {
                    "output_type": "execute_result",
                    "metadata": {},
                    "data": {
                        "text/plain": "0.33340274885464394"
                    },
                    "execution_count": null
                }
            ]
        },
        {
            "id": "5da6154e",
            "cell_type": "markdown",
            "source": "Or estimate the area of a circle, noting we repeat the sample which closes\nthe curve:\n",
            "metadata": {}
        },
        {
            "id": "204f1abc",
            "cell_type": "code",
            "metadata": {},
            "execution_count": null,
            "source": "theta = np.linspace(0, 2 * np.pi, num=1000, endpoint=True)\nnp.trapezoid(np.cos(theta), x=np.sin(theta))",
            "outputs": [
                {
                    "output_type": "execute_result",
                    "metadata": {},
                    "data": {
                        "text/plain": "3.141571941375841"
                    },
                    "execution_count": null
                }
            ]
        },
        {
            "id": "0033c62b",
            "cell_type": "markdown",
            "source": "``np.trapezoid`` can be applied along a specified axis to do multiple\ncomputations in one call:\n",
            "metadata": {}
        },
        {
            "id": "e5827f24",
            "cell_type": "code",
            "metadata": {},
            "execution_count": null,
            "source": "a = np.arange(6).reshape(2, 3)\na",
            "outputs": [
                {
                    "output_type": "execute_result",
                    "metadata": {},
                    "data": {
                        "text/plain": "array([[0, 1, 2],\n       [3, 4, 5]])"
                    },
                    "execution_count": null
                }
            ]
        },
        {
            "id": "7ca731a0",
            "cell_type": "code",
            "metadata": {},
            "execution_count": null,
            "source": "np.trapezoid(a, axis=0)",
            "outputs": [
                {
                    "output_type": "execute_result",
                    "metadata": {},
                    "data": {
                        "text/plain": "array([1.5, 2.5, 3.5])"
                    },
                    "execution_count": null
                }
            ]
        },
        {
            "id": "c376f6f4",
            "cell_type": "code",
            "metadata": {},
            "execution_count": null,
            "source": "np.trapezoid(a, axis=1)",
            "outputs": [
                {
                    "output_type": "execute_result",
                    "metadata": {},
                    "data": {
                        "text/plain": "array([2.,  8.])"
                    },
                    "execution_count": null
                }
            ]
        }
    ]
}