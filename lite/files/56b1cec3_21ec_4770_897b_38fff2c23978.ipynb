{
    "nbformat": 4,
    "nbformat_minor": 5,
    "metadata": {
        "kernelspec": {
            "display_name": "Python",
            "language": "python",
            "name": "python"
        },
        "language_info": {
            "name": "python"
        }
    },
    "cells": [
        {
            "id": "02156dbb",
            "cell_type": "markdown",
            "source": "<div class='alert alert-warning'>\n\nNumPy's interactive examples are experimental and may not always work as expected, with high load times especially on low-resource platforms, , and the version of NumPy might not be in sync with the one you are browsing the documentation for. If you encounter any issues, please report them on the [NumPy issue tracker](https://github.com/numpy/numpy/issues).\n\n</div>",
            "metadata": {}
        },
        {
            "id": "c9961e99",
            "cell_type": "code",
            "metadata": {},
            "execution_count": null,
            "source": "import numpy as np\nnp.round([0.37, 1.64])",
            "outputs": [
                {
                    "output_type": "execute_result",
                    "metadata": {},
                    "data": {
                        "text/plain": "array([0., 2.])"
                    },
                    "execution_count": null
                }
            ]
        },
        {
            "id": "708f4aab",
            "cell_type": "code",
            "metadata": {},
            "execution_count": null,
            "source": "np.round([0.37, 1.64], decimals=1)",
            "outputs": [
                {
                    "output_type": "execute_result",
                    "metadata": {},
                    "data": {
                        "text/plain": "array([0.4, 1.6])"
                    },
                    "execution_count": null
                }
            ]
        },
        {
            "id": "69c93e38",
            "cell_type": "code",
            "metadata": {},
            "execution_count": null,
            "source": "np.round([.5, 1.5, 2.5, 3.5, 4.5]) # rounds to nearest even value",
            "outputs": [
                {
                    "output_type": "execute_result",
                    "metadata": {},
                    "data": {
                        "text/plain": "array([0., 2., 2., 4., 4.])"
                    },
                    "execution_count": null
                }
            ]
        },
        {
            "id": "47da54f3",
            "cell_type": "code",
            "metadata": {},
            "execution_count": null,
            "source": "np.round([1,2,3,11], decimals=1) # ndarray of ints is returned",
            "outputs": [
                {
                    "output_type": "execute_result",
                    "metadata": {},
                    "data": {
                        "text/plain": "array([ 1,  2,  3, 11])"
                    },
                    "execution_count": null
                }
            ]
        },
        {
            "id": "7a11b79b",
            "cell_type": "code",
            "metadata": {},
            "execution_count": null,
            "source": "np.round([1,2,3,11], decimals=-1)",
            "outputs": [
                {
                    "output_type": "execute_result",
                    "metadata": {},
                    "data": {
                        "text/plain": "array([ 0,  0,  0, 10])"
                    },
                    "execution_count": null
                }
            ]
        }
    ]
}