{
    "nbformat": 4,
    "nbformat_minor": 5,
    "metadata": {
        "kernelspec": {
            "display_name": "Python",
            "language": "python",
            "name": "python"
        },
        "language_info": {
            "name": "python"
        }
    },
    "cells": [
        {
            "id": "ad04dab6",
            "cell_type": "markdown",
            "source": "<div class='alert alert-warning'>\n\nNumPy's interactive examples are experimental and may not always work as expected, with high load times especially on low-resource platforms, and the version of NumPy might not be in sync with the one you are browsing the documentation for. If you encounter any issues, please report them on the [NumPy issue tracker](https://github.com/numpy/numpy/issues).\n\n</div>",
            "metadata": {}
        },
        {
            "id": "7a3d7a4a",
            "cell_type": "code",
            "metadata": {},
            "execution_count": null,
            "source": "import numpy as np\ntest = np.array([0, 1, 2, 5, 0])\nstates = [0, 2]\nmask = np.in1d(test, states)\nmask",
            "outputs": [
                {
                    "output_type": "execute_result",
                    "metadata": {},
                    "data": {
                        "text/plain": "array([ True, False,  True, False,  True])"
                    },
                    "execution_count": null
                }
            ]
        },
        {
            "id": "adb2a523",
            "cell_type": "code",
            "metadata": {},
            "execution_count": null,
            "source": "test[mask]",
            "outputs": [
                {
                    "output_type": "execute_result",
                    "metadata": {},
                    "data": {
                        "text/plain": "array([0, 2, 0])"
                    },
                    "execution_count": null
                }
            ]
        },
        {
            "id": "60f27e5e",
            "cell_type": "code",
            "metadata": {},
            "execution_count": null,
            "source": "mask = np.in1d(test, states, invert=True)\nmask",
            "outputs": [
                {
                    "output_type": "execute_result",
                    "metadata": {},
                    "data": {
                        "text/plain": "array([False,  True, False,  True, False])"
                    },
                    "execution_count": null
                }
            ]
        },
        {
            "id": "c3e92a22",
            "cell_type": "code",
            "metadata": {},
            "execution_count": null,
            "source": "test[mask]",
            "outputs": [
                {
                    "output_type": "execute_result",
                    "metadata": {},
                    "data": {
                        "text/plain": "array([1, 5])"
                    },
                    "execution_count": null
                }
            ]
        }
    ]
}