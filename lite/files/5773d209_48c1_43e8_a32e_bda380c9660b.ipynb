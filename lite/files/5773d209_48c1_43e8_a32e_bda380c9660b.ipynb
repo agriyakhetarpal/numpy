{
    "nbformat": 4,
    "nbformat_minor": 5,
    "metadata": {
        "kernelspec": {
            "display_name": "Python",
            "language": "python",
            "name": "python"
        },
        "language_info": {
            "name": "python"
        }
    },
    "cells": [
        {
            "id": "98f6a604",
            "cell_type": "markdown",
            "source": "<div class='alert alert-warning'>\n\nNumPy's interactive examples are experimental and may not always work as expected, with high load times especially on low-resource platforms, and the version of NumPy might not be in sync with the one you are browsing the documentation for. If you encounter any issues, please report them on the [NumPy issue tracker](https://github.com/numpy/numpy/issues).\n\n</div>",
            "metadata": {}
        },
        {
            "id": "18cdc8e0",
            "cell_type": "code",
            "metadata": {},
            "execution_count": null,
            "source": "import numpy as np",
            "outputs": []
        },
        {
            "id": "8c2d4044",
            "cell_type": "code",
            "metadata": {},
            "execution_count": null,
            "source": "np.isscalar(3.1)",
            "outputs": [
                {
                    "output_type": "execute_result",
                    "metadata": {},
                    "data": {
                        "text/plain": "True"
                    },
                    "execution_count": null
                }
            ]
        },
        {
            "id": "c81df2b2",
            "cell_type": "code",
            "metadata": {},
            "execution_count": null,
            "source": "np.isscalar(np.array(3.1))",
            "outputs": [
                {
                    "output_type": "execute_result",
                    "metadata": {},
                    "data": {
                        "text/plain": "False"
                    },
                    "execution_count": null
                }
            ]
        },
        {
            "id": "ebd6bec8",
            "cell_type": "code",
            "metadata": {},
            "execution_count": null,
            "source": "np.isscalar([3.1])",
            "outputs": [
                {
                    "output_type": "execute_result",
                    "metadata": {},
                    "data": {
                        "text/plain": "False"
                    },
                    "execution_count": null
                }
            ]
        },
        {
            "id": "d81ed984",
            "cell_type": "code",
            "metadata": {},
            "execution_count": null,
            "source": "np.isscalar(False)",
            "outputs": [
                {
                    "output_type": "execute_result",
                    "metadata": {},
                    "data": {
                        "text/plain": "True"
                    },
                    "execution_count": null
                }
            ]
        },
        {
            "id": "5e90bb77",
            "cell_type": "code",
            "metadata": {},
            "execution_count": null,
            "source": "np.isscalar('numpy')",
            "outputs": [
                {
                    "output_type": "execute_result",
                    "metadata": {},
                    "data": {
                        "text/plain": "True"
                    },
                    "execution_count": null
                }
            ]
        },
        {
            "id": "4727f8cf",
            "cell_type": "markdown",
            "source": "NumPy supports PEP 3141 numbers:\n",
            "metadata": {}
        },
        {
            "id": "58a14eb6",
            "cell_type": "code",
            "metadata": {},
            "execution_count": null,
            "source": "from fractions import Fraction\nnp.isscalar(Fraction(5, 17))",
            "outputs": [
                {
                    "output_type": "execute_result",
                    "metadata": {},
                    "data": {
                        "text/plain": "True"
                    },
                    "execution_count": null
                }
            ]
        },
        {
            "id": "bdbfc3d9",
            "cell_type": "code",
            "metadata": {},
            "execution_count": null,
            "source": "from numbers import Number\nnp.isscalar(Number())",
            "outputs": [
                {
                    "output_type": "execute_result",
                    "metadata": {},
                    "data": {
                        "text/plain": "True"
                    },
                    "execution_count": null
                }
            ]
        }
    ]
}