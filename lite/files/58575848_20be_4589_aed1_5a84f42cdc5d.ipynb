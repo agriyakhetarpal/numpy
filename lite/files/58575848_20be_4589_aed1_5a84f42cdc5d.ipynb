{
    "nbformat": 4,
    "nbformat_minor": 5,
    "metadata": {
        "kernelspec": {
            "display_name": "Python",
            "language": "python",
            "name": "python"
        },
        "language_info": {
            "name": "python"
        }
    },
    "cells": [
        {
            "id": "f1d4739a",
            "cell_type": "markdown",
            "source": "<div class='alert alert-warning'>\n\nNumPy's interactive examples are experimental and may not always work as expected, with high load times especially on low-resource platforms, and the version of NumPy might not be in sync with the one you are browsing the documentation for. If you encounter any issues, please report them on the [NumPy issue tracker](https://github.com/numpy/numpy/issues).\n\n</div>",
            "metadata": {}
        },
        {
            "id": "99c4143d",
            "cell_type": "code",
            "metadata": {},
            "execution_count": null,
            "source": "import numpy as np",
            "outputs": []
        },
        {
            "id": "514aaf52",
            "cell_type": "code",
            "metadata": {},
            "execution_count": null,
            "source": "(\n  np.datetime64(\"2021-01-01 12:56:23.423\")\n  - np.datetime64(\"2001-01-01\")\n) / np.timedelta64(1, \"s\")",
            "outputs": [
                {
                    "output_type": "execute_result",
                    "metadata": {},
                    "data": {
                        "text/plain": "631198583.423"
                    },
                    "execution_count": null
                }
            ]
        },
        {
            "id": "cef5b23d",
            "cell_type": "markdown",
            "source": "However, the correct answer is `631198588.423` SI seconds, because there were\n5 leap seconds between 2001 and 2021.",
            "metadata": {}
        }
    ]
}