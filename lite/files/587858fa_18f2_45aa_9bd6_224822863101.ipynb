{
    "nbformat": 4,
    "nbformat_minor": 5,
    "metadata": {
        "kernelspec": {
            "display_name": "Python",
            "language": "python",
            "name": "python"
        },
        "language_info": {
            "name": "python"
        }
    },
    "cells": [
        {
            "id": "866d455d",
            "cell_type": "markdown",
            "source": "<div class='alert alert-warning'>\n\nNumPy's interactive examples are experimental and may not always work as expected, with high load times especially on low-resource platforms, and the version of NumPy might not be in sync with the one you are browsing the documentation for. If you encounter any issues, please report them on the [NumPy issue tracker](https://github.com/numpy/numpy/issues).\n\n</div>",
            "metadata": {}
        },
        {
            "id": "cb656d44",
            "cell_type": "markdown",
            "source": "Draw samples from the distribution:\n",
            "metadata": {}
        },
        {
            "id": "f56cdc83",
            "cell_type": "code",
            "metadata": {},
            "execution_count": null,
            "source": "rng = np.random.default_rng()\ns = rng.uniform(-1,0,1000)",
            "outputs": []
        },
        {
            "id": "e1e1501c",
            "cell_type": "markdown",
            "source": "All values are within the given interval:\n",
            "metadata": {}
        },
        {
            "id": "9f72f2b4",
            "cell_type": "code",
            "metadata": {},
            "execution_count": null,
            "source": "np.all(s >= -1)",
            "outputs": [
                {
                    "output_type": "execute_result",
                    "metadata": {},
                    "data": {
                        "text/plain": "True"
                    },
                    "execution_count": null
                }
            ]
        },
        {
            "id": "b4564b8a",
            "cell_type": "code",
            "metadata": {},
            "execution_count": null,
            "source": "np.all(s < 0)",
            "outputs": [
                {
                    "output_type": "execute_result",
                    "metadata": {},
                    "data": {
                        "text/plain": "True"
                    },
                    "execution_count": null
                }
            ]
        },
        {
            "id": "9f16f23b",
            "cell_type": "markdown",
            "source": "Display the histogram of the samples, along with the\nprobability density function:\n",
            "metadata": {}
        },
        {
            "id": "a6bb9001",
            "cell_type": "code",
            "metadata": {},
            "execution_count": null,
            "source": "import matplotlib.pyplot as plt\ncount, bins, _ = plt.hist(s, 15, density=True)\nplt.plot(bins, np.ones_like(bins), linewidth=2, color='r')\nplt.show()",
            "outputs": []
        }
    ]
}