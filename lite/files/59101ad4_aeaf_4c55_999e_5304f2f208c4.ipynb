{
    "nbformat": 4,
    "nbformat_minor": 5,
    "metadata": {
        "kernelspec": {
            "display_name": "Python",
            "language": "python",
            "name": "python"
        },
        "language_info": {
            "name": "python"
        }
    },
    "cells": [
        {
            "id": "5e6bf618",
            "cell_type": "markdown",
            "source": "<div class='alert alert-warning'>\n\nNumPy's interactive examples are experimental and may not always work as expected, with high load times especially on low-resource platforms, and the version of NumPy might not be in sync with the one you are browsing the documentation for. If you encounter any issues, please report them on the [NumPy issue tracker](https://github.com/numpy/numpy/issues).\n\n</div>",
            "metadata": {}
        },
        {
            "id": "54ab27d7",
            "cell_type": "code",
            "metadata": {},
            "execution_count": null,
            "source": "import numpy as np\na = np.arange(6).reshape(3, 2)\na",
            "outputs": [
                {
                    "output_type": "execute_result",
                    "metadata": {},
                    "data": {
                        "text/plain": "array([[0, 1],\n       [2, 3],\n       [4, 5]])"
                    },
                    "execution_count": null
                }
            ]
        },
        {
            "id": "456a837a",
            "cell_type": "code",
            "metadata": {},
            "execution_count": null,
            "source": "np.insert(a, 1, 6)",
            "outputs": [
                {
                    "output_type": "execute_result",
                    "metadata": {},
                    "data": {
                        "text/plain": "array([0, 6, 1, 2, 3, 4, 5])"
                    },
                    "execution_count": null
                }
            ]
        },
        {
            "id": "44ab094c",
            "cell_type": "code",
            "metadata": {},
            "execution_count": null,
            "source": "np.insert(a, 1, 6, axis=1)",
            "outputs": [
                {
                    "output_type": "execute_result",
                    "metadata": {},
                    "data": {
                        "text/plain": "array([[0, 6, 1],\n       [2, 6, 3],\n       [4, 6, 5]])"
                    },
                    "execution_count": null
                }
            ]
        },
        {
            "id": "3df1c86c",
            "cell_type": "markdown",
            "source": "Difference between sequence and scalars,\nshowing how ``obj=[1]`` behaves different from ``obj=1``:\n",
            "metadata": {}
        },
        {
            "id": "f59c3491",
            "cell_type": "code",
            "metadata": {},
            "execution_count": null,
            "source": "np.insert(a, [1], [[7],[8],[9]], axis=1)",
            "outputs": [
                {
                    "output_type": "execute_result",
                    "metadata": {},
                    "data": {
                        "text/plain": "array([[0, 7, 1],\n       [2, 8, 3],\n       [4, 9, 5]])"
                    },
                    "execution_count": null
                }
            ]
        },
        {
            "id": "803a802c",
            "cell_type": "code",
            "metadata": {},
            "execution_count": null,
            "source": "np.insert(a, 1, [[7],[8],[9]], axis=1)",
            "outputs": [
                {
                    "output_type": "execute_result",
                    "metadata": {},
                    "data": {
                        "text/plain": "array([[0, 7, 8, 9, 1],\n       [2, 7, 8, 9, 3],\n       [4, 7, 8, 9, 5]])"
                    },
                    "execution_count": null
                }
            ]
        },
        {
            "id": "f915ec71",
            "cell_type": "code",
            "metadata": {},
            "execution_count": null,
            "source": "np.array_equal(np.insert(a, 1, [7, 8, 9], axis=1),\n               np.insert(a, [1], [[7],[8],[9]], axis=1))",
            "outputs": [
                {
                    "output_type": "execute_result",
                    "metadata": {},
                    "data": {
                        "text/plain": "True"
                    },
                    "execution_count": null
                }
            ]
        },
        {
            "id": "62105a4a",
            "cell_type": "code",
            "metadata": {},
            "execution_count": null,
            "source": "b = a.flatten()\nb",
            "outputs": [
                {
                    "output_type": "execute_result",
                    "metadata": {},
                    "data": {
                        "text/plain": "array([0, 1, 2, 3, 4, 5])"
                    },
                    "execution_count": null
                }
            ]
        },
        {
            "id": "0cea526b",
            "cell_type": "code",
            "metadata": {},
            "execution_count": null,
            "source": "np.insert(b, [2, 2], [6, 7])",
            "outputs": [
                {
                    "output_type": "execute_result",
                    "metadata": {},
                    "data": {
                        "text/plain": "array([0, 1, 6, 7, 2, 3, 4, 5])"
                    },
                    "execution_count": null
                }
            ]
        },
        {
            "id": "43cf2a56",
            "cell_type": "code",
            "metadata": {},
            "execution_count": null,
            "source": "np.insert(b, slice(2, 4), [7, 8])",
            "outputs": [
                {
                    "output_type": "execute_result",
                    "metadata": {},
                    "data": {
                        "text/plain": "array([0, 1, 7, 2, 8, 3, 4, 5])"
                    },
                    "execution_count": null
                }
            ]
        },
        {
            "id": "01f41ae7",
            "cell_type": "code",
            "metadata": {},
            "execution_count": null,
            "source": "np.insert(b, [2, 2], [7.13, False]) # type casting",
            "outputs": [
                {
                    "output_type": "execute_result",
                    "metadata": {},
                    "data": {
                        "text/plain": "array([0, 1, 7, 0, 2, 3, 4, 5])"
                    },
                    "execution_count": null
                }
            ]
        },
        {
            "id": "0ff2872f",
            "cell_type": "code",
            "metadata": {},
            "execution_count": null,
            "source": "x = np.arange(8).reshape(2, 4)\nidx = (1, 3)\nnp.insert(x, idx, 999, axis=1)",
            "outputs": [
                {
                    "output_type": "execute_result",
                    "metadata": {},
                    "data": {
                        "text/plain": "array([[  0, 999,   1,   2, 999,   3],\n       [  4, 999,   5,   6, 999,   7]])"
                    },
                    "execution_count": null
                }
            ]
        }
    ]
}