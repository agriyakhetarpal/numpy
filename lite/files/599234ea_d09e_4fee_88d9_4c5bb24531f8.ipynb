{
    "nbformat": 4,
    "nbformat_minor": 5,
    "metadata": {
        "kernelspec": {
            "display_name": "Python",
            "language": "python",
            "name": "python"
        },
        "language_info": {
            "name": "python"
        }
    },
    "cells": [
        {
            "id": "c0bf0a23",
            "cell_type": "markdown",
            "source": "<div class='alert alert-warning'>\n\nNumPy's interactive examples are experimental and may not always work as expected, with high load times especially on low-resource platforms, and the version of NumPy might not be in sync with the one you are browsing the documentation for. If you encounter any issues, please report them on the [NumPy issue tracker](https://github.com/numpy/numpy/issues).\n\n</div>",
            "metadata": {}
        },
        {
            "id": "df84e615",
            "cell_type": "markdown",
            "source": "It is equivalent to ``reshape(-1, order=order)``.\n",
            "metadata": {}
        },
        {
            "id": "b1f08667",
            "cell_type": "code",
            "metadata": {},
            "execution_count": null,
            "source": "import numpy as np\nx = np.array([[1, 2, 3], [4, 5, 6]])\nnp.ravel(x)",
            "outputs": [
                {
                    "output_type": "execute_result",
                    "metadata": {},
                    "data": {
                        "text/plain": "array([1, 2, 3, 4, 5, 6])"
                    },
                    "execution_count": null
                }
            ]
        },
        {
            "id": "ca30646b",
            "cell_type": "code",
            "metadata": {},
            "execution_count": null,
            "source": "x.reshape(-1)",
            "outputs": [
                {
                    "output_type": "execute_result",
                    "metadata": {},
                    "data": {
                        "text/plain": "array([1, 2, 3, 4, 5, 6])"
                    },
                    "execution_count": null
                }
            ]
        },
        {
            "id": "61990cc7",
            "cell_type": "code",
            "metadata": {},
            "execution_count": null,
            "source": "np.ravel(x, order='F')",
            "outputs": [
                {
                    "output_type": "execute_result",
                    "metadata": {},
                    "data": {
                        "text/plain": "array([1, 4, 2, 5, 3, 6])"
                    },
                    "execution_count": null
                }
            ]
        },
        {
            "id": "a3bb3393",
            "cell_type": "markdown",
            "source": "When ``order`` is 'A', it will preserve the array's 'C' or 'F' ordering:\n",
            "metadata": {}
        },
        {
            "id": "93a6f51a",
            "cell_type": "code",
            "metadata": {},
            "execution_count": null,
            "source": "np.ravel(x.T)",
            "outputs": [
                {
                    "output_type": "execute_result",
                    "metadata": {},
                    "data": {
                        "text/plain": "array([1, 4, 2, 5, 3, 6])"
                    },
                    "execution_count": null
                }
            ]
        },
        {
            "id": "b77c21e7",
            "cell_type": "code",
            "metadata": {},
            "execution_count": null,
            "source": "np.ravel(x.T, order='A')",
            "outputs": [
                {
                    "output_type": "execute_result",
                    "metadata": {},
                    "data": {
                        "text/plain": "array([1, 2, 3, 4, 5, 6])"
                    },
                    "execution_count": null
                }
            ]
        },
        {
            "id": "6b808e5f",
            "cell_type": "markdown",
            "source": "When ``order`` is 'K', it will preserve orderings that are neither 'C'\nnor 'F', but won't reverse axes:\n",
            "metadata": {}
        },
        {
            "id": "8a95ec00",
            "cell_type": "code",
            "metadata": {},
            "execution_count": null,
            "source": "a = np.arange(3)[::-1]; a",
            "outputs": [
                {
                    "output_type": "execute_result",
                    "metadata": {},
                    "data": {
                        "text/plain": "array([2, 1, 0])"
                    },
                    "execution_count": null
                }
            ]
        },
        {
            "id": "16111442",
            "cell_type": "code",
            "metadata": {},
            "execution_count": null,
            "source": "a.ravel(order='C')",
            "outputs": [
                {
                    "output_type": "execute_result",
                    "metadata": {},
                    "data": {
                        "text/plain": "array([2, 1, 0])"
                    },
                    "execution_count": null
                }
            ]
        },
        {
            "id": "720c490f",
            "cell_type": "code",
            "metadata": {},
            "execution_count": null,
            "source": "a.ravel(order='K')",
            "outputs": [
                {
                    "output_type": "execute_result",
                    "metadata": {},
                    "data": {
                        "text/plain": "array([2, 1, 0])"
                    },
                    "execution_count": null
                }
            ]
        },
        {
            "id": "ff143a0c",
            "cell_type": "code",
            "metadata": {},
            "execution_count": null,
            "source": "a = np.arange(12).reshape(2,3,2).swapaxes(1,2); a",
            "outputs": [
                {
                    "output_type": "execute_result",
                    "metadata": {},
                    "data": {
                        "text/plain": "array([[[ 0,  2,  4],\n        [ 1,  3,  5]],\n       [[ 6,  8, 10],\n        [ 7,  9, 11]]])"
                    },
                    "execution_count": null
                }
            ]
        },
        {
            "id": "589cd8af",
            "cell_type": "code",
            "metadata": {},
            "execution_count": null,
            "source": "a.ravel(order='C')",
            "outputs": [
                {
                    "output_type": "execute_result",
                    "metadata": {},
                    "data": {
                        "text/plain": "array([ 0,  2,  4,  1,  3,  5,  6,  8, 10,  7,  9, 11])"
                    },
                    "execution_count": null
                }
            ]
        },
        {
            "id": "828275fa",
            "cell_type": "code",
            "metadata": {},
            "execution_count": null,
            "source": "a.ravel(order='K')",
            "outputs": [
                {
                    "output_type": "execute_result",
                    "metadata": {},
                    "data": {
                        "text/plain": "array([ 0,  1,  2,  3,  4,  5,  6,  7,  8,  9, 10, 11])"
                    },
                    "execution_count": null
                }
            ]
        }
    ]
}