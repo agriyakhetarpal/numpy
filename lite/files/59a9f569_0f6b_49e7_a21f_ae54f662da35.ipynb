{
    "nbformat": 4,
    "nbformat_minor": 5,
    "metadata": {
        "kernelspec": {
            "display_name": "Python",
            "language": "python",
            "name": "python"
        },
        "language_info": {
            "name": "python"
        }
    },
    "cells": [
        {
            "id": "2b19389e",
            "cell_type": "markdown",
            "source": "<div class='alert alert-warning'>\n\nNumPy's interactive examples are experimental and may not always work as expected, with high load times especially on low-resource platforms, , and the version of NumPy might not be in sync with the one you are browsing the documentation for. If you encounter any issues, please report them on the [NumPy issue tracker](https://github.com/numpy/numpy/issues).\n\n</div>",
            "metadata": {}
        },
        {
            "id": "b66c81d7",
            "cell_type": "code",
            "metadata": {},
            "execution_count": null,
            "source": "import numpy as np",
            "outputs": []
        },
        {
            "id": "4fa3c313",
            "cell_type": "code",
            "metadata": {},
            "execution_count": null,
            "source": "np.array_equal([1, 2], [1, 2])",
            "outputs": [
                {
                    "output_type": "execute_result",
                    "metadata": {},
                    "data": {
                        "text/plain": "True"
                    },
                    "execution_count": null
                }
            ]
        },
        {
            "id": "3134c2a3",
            "cell_type": "code",
            "metadata": {},
            "execution_count": null,
            "source": "np.array_equal(np.array([1, 2]), np.array([1, 2]))",
            "outputs": [
                {
                    "output_type": "execute_result",
                    "metadata": {},
                    "data": {
                        "text/plain": "True"
                    },
                    "execution_count": null
                }
            ]
        },
        {
            "id": "09f769f3",
            "cell_type": "code",
            "metadata": {},
            "execution_count": null,
            "source": "np.array_equal([1, 2], [1, 2, 3])",
            "outputs": [
                {
                    "output_type": "execute_result",
                    "metadata": {},
                    "data": {
                        "text/plain": "False"
                    },
                    "execution_count": null
                }
            ]
        },
        {
            "id": "a93de2f5",
            "cell_type": "code",
            "metadata": {},
            "execution_count": null,
            "source": "np.array_equal([1, 2], [1, 4])",
            "outputs": [
                {
                    "output_type": "execute_result",
                    "metadata": {},
                    "data": {
                        "text/plain": "False"
                    },
                    "execution_count": null
                }
            ]
        },
        {
            "id": "3ba10219",
            "cell_type": "code",
            "metadata": {},
            "execution_count": null,
            "source": "a = np.array([1, np.nan])\nnp.array_equal(a, a)",
            "outputs": [
                {
                    "output_type": "execute_result",
                    "metadata": {},
                    "data": {
                        "text/plain": "False"
                    },
                    "execution_count": null
                }
            ]
        },
        {
            "id": "660f76f2",
            "cell_type": "code",
            "metadata": {},
            "execution_count": null,
            "source": "np.array_equal(a, a, equal_nan=True)",
            "outputs": [
                {
                    "output_type": "execute_result",
                    "metadata": {},
                    "data": {
                        "text/plain": "True"
                    },
                    "execution_count": null
                }
            ]
        },
        {
            "id": "0e630937",
            "cell_type": "markdown",
            "source": "When ``equal_nan`` is True, complex values with nan components are\nconsidered equal if either the real *or* the imaginary components are nan.\n",
            "metadata": {}
        },
        {
            "id": "cb069558",
            "cell_type": "code",
            "metadata": {},
            "execution_count": null,
            "source": "a = np.array([1 + 1j])\nb = a.copy()\na.real = np.nan\nb.imag = np.nan\nnp.array_equal(a, b, equal_nan=True)",
            "outputs": [
                {
                    "output_type": "execute_result",
                    "metadata": {},
                    "data": {
                        "text/plain": "True"
                    },
                    "execution_count": null
                }
            ]
        }
    ]
}