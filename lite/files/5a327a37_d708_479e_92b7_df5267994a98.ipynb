{
    "nbformat": 4,
    "nbformat_minor": 5,
    "metadata": {
        "kernelspec": {
            "display_name": "Python",
            "language": "python",
            "name": "python"
        },
        "language_info": {
            "name": "python"
        }
    },
    "cells": [
        {
            "id": "91944e36",
            "cell_type": "markdown",
            "source": "<div class='alert alert-warning'>\n\nNumPy's interactive examples are experimental and may not always work as expected, with high load times especially on low-resource platforms, and the version of NumPy might not be in sync with the one you are browsing the documentation for. If you encounter any issues, please report them on the [NumPy issue tracker](https://github.com/numpy/numpy/issues).\n\n</div>",
            "metadata": {}
        },
        {
            "id": "957cb66a",
            "cell_type": "markdown",
            "source": "A 2-dimensional array of size 2 x 3, composed of 4-byte integer\nelements:\n",
            "metadata": {}
        },
        {
            "id": "44c77606",
            "cell_type": "code",
            "metadata": {},
            "execution_count": null,
            "source": "import numpy as np",
            "outputs": []
        },
        {
            "id": "e2edde08",
            "cell_type": "code",
            "metadata": {},
            "execution_count": null,
            "source": "x = np.array([[1, 2, 3], [4, 5, 6]], np.int32)\ntype(x)",
            "outputs": [
                {
                    "output_type": "execute_result",
                    "metadata": {},
                    "data": {
                        "text/plain": "<class 'numpy.ndarray'>"
                    },
                    "execution_count": null
                }
            ]
        },
        {
            "id": "99652695",
            "cell_type": "code",
            "metadata": {},
            "execution_count": null,
            "source": "x.shape",
            "outputs": [
                {
                    "output_type": "execute_result",
                    "metadata": {},
                    "data": {
                        "text/plain": "(2, 3)"
                    },
                    "execution_count": null
                }
            ]
        },
        {
            "id": "9d41d231",
            "cell_type": "code",
            "metadata": {},
            "execution_count": null,
            "source": "x.dtype",
            "outputs": [
                {
                    "output_type": "execute_result",
                    "metadata": {},
                    "data": {
                        "text/plain": "dtype('int32')"
                    },
                    "execution_count": null
                }
            ]
        },
        {
            "id": "48dda464",
            "cell_type": "markdown",
            "source": "The array can be indexed using Python container-like syntax:\n",
            "metadata": {}
        },
        {
            "id": "a3600465",
            "cell_type": "code",
            "metadata": {},
            "execution_count": null,
            "source": "# The element of x in the *second* row, *third* column, namely, 6.\nx[1, 2]",
            "outputs": [
                {
                    "output_type": "execute_result",
                    "metadata": {},
                    "data": {
                        "text/plain": "   6"
                    },
                    "execution_count": null
                }
            ]
        },
        {
            "id": "ba0823e7",
            "cell_type": "markdown",
            "source": "For example :ref:`slicing <arrays.indexing>` can produce views of\nthe array:\n",
            "metadata": {}
        },
        {
            "id": "0888a8a9",
            "cell_type": "code",
            "metadata": {},
            "execution_count": null,
            "source": "y = x[:,1]\ny",
            "outputs": [
                {
                    "output_type": "execute_result",
                    "metadata": {},
                    "data": {
                        "text/plain": "array([2, 5], dtype=int32)"
                    },
                    "execution_count": null
                }
            ]
        },
        {
            "id": "d5c0821e",
            "cell_type": "code",
            "metadata": {},
            "execution_count": null,
            "source": "y[0] = 9 # this also changes the corresponding element in x\ny",
            "outputs": [
                {
                    "output_type": "execute_result",
                    "metadata": {},
                    "data": {
                        "text/plain": "array([9, 5], dtype=int32)"
                    },
                    "execution_count": null
                }
            ]
        },
        {
            "id": "df6dc529",
            "cell_type": "code",
            "metadata": {},
            "execution_count": null,
            "source": "x",
            "outputs": [
                {
                    "output_type": "execute_result",
                    "metadata": {},
                    "data": {
                        "text/plain": "array([[1, 9, 3],\n       [4, 5, 6]], dtype=int32)"
                    },
                    "execution_count": null
                }
            ]
        }
    ]
}