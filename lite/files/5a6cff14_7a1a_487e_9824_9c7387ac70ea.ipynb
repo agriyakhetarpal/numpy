{
    "nbformat": 4,
    "nbformat_minor": 5,
    "metadata": {
        "kernelspec": {
            "display_name": "Python",
            "language": "python",
            "name": "python"
        },
        "language_info": {
            "name": "python"
        }
    },
    "cells": [
        {
            "id": "b5240a48",
            "cell_type": "markdown",
            "source": "<div class='alert alert-warning'>\n\nNumPy's interactive examples are experimental and may not always work as expected, with high load times especially on low-resource platforms, and the version of NumPy might not be in sync with the one you are browsing the documentation for. If you encounter any issues, please report them on the [NumPy issue tracker](https://github.com/numpy/numpy/issues).\n\n</div>",
            "metadata": {}
        },
        {
            "id": "98d7d299",
            "cell_type": "markdown",
            "source": "It is equivalent to ``reshape(-1, order=order)``.\n",
            "metadata": {}
        },
        {
            "id": "dac34898",
            "cell_type": "code",
            "metadata": {},
            "execution_count": null,
            "source": "import numpy as np\nx = np.array([[1, 2, 3], [4, 5, 6]])\nnp.ravel(x)",
            "outputs": [
                {
                    "output_type": "execute_result",
                    "metadata": {},
                    "data": {
                        "text/plain": "array([1, 2, 3, 4, 5, 6])"
                    },
                    "execution_count": null
                }
            ]
        },
        {
            "id": "c2fdd29a",
            "cell_type": "code",
            "metadata": {},
            "execution_count": null,
            "source": "x.reshape(-1)",
            "outputs": [
                {
                    "output_type": "execute_result",
                    "metadata": {},
                    "data": {
                        "text/plain": "array([1, 2, 3, 4, 5, 6])"
                    },
                    "execution_count": null
                }
            ]
        },
        {
            "id": "afed4fcc",
            "cell_type": "code",
            "metadata": {},
            "execution_count": null,
            "source": "np.ravel(x, order='F')",
            "outputs": [
                {
                    "output_type": "execute_result",
                    "metadata": {},
                    "data": {
                        "text/plain": "array([1, 4, 2, 5, 3, 6])"
                    },
                    "execution_count": null
                }
            ]
        },
        {
            "id": "59c30bcf",
            "cell_type": "markdown",
            "source": "When ``order`` is 'A', it will preserve the array's 'C' or 'F' ordering:\n",
            "metadata": {}
        },
        {
            "id": "0cf83f6e",
            "cell_type": "code",
            "metadata": {},
            "execution_count": null,
            "source": "np.ravel(x.T)",
            "outputs": [
                {
                    "output_type": "execute_result",
                    "metadata": {},
                    "data": {
                        "text/plain": "array([1, 4, 2, 5, 3, 6])"
                    },
                    "execution_count": null
                }
            ]
        },
        {
            "id": "79aa224b",
            "cell_type": "code",
            "metadata": {},
            "execution_count": null,
            "source": "np.ravel(x.T, order='A')",
            "outputs": [
                {
                    "output_type": "execute_result",
                    "metadata": {},
                    "data": {
                        "text/plain": "array([1, 2, 3, 4, 5, 6])"
                    },
                    "execution_count": null
                }
            ]
        },
        {
            "id": "ce257862",
            "cell_type": "markdown",
            "source": "When ``order`` is 'K', it will preserve orderings that are neither 'C'\nnor 'F', but won't reverse axes:\n",
            "metadata": {}
        },
        {
            "id": "6ca53da9",
            "cell_type": "code",
            "metadata": {},
            "execution_count": null,
            "source": "a = np.arange(3)[::-1]; a",
            "outputs": [
                {
                    "output_type": "execute_result",
                    "metadata": {},
                    "data": {
                        "text/plain": "array([2, 1, 0])"
                    },
                    "execution_count": null
                }
            ]
        },
        {
            "id": "7f338ef0",
            "cell_type": "code",
            "metadata": {},
            "execution_count": null,
            "source": "a.ravel(order='C')",
            "outputs": [
                {
                    "output_type": "execute_result",
                    "metadata": {},
                    "data": {
                        "text/plain": "array([2, 1, 0])"
                    },
                    "execution_count": null
                }
            ]
        },
        {
            "id": "98553698",
            "cell_type": "code",
            "metadata": {},
            "execution_count": null,
            "source": "a.ravel(order='K')",
            "outputs": [
                {
                    "output_type": "execute_result",
                    "metadata": {},
                    "data": {
                        "text/plain": "array([2, 1, 0])"
                    },
                    "execution_count": null
                }
            ]
        },
        {
            "id": "dbb74067",
            "cell_type": "code",
            "metadata": {},
            "execution_count": null,
            "source": "a = np.arange(12).reshape(2,3,2).swapaxes(1,2); a",
            "outputs": [
                {
                    "output_type": "execute_result",
                    "metadata": {},
                    "data": {
                        "text/plain": "array([[[ 0,  2,  4],\n        [ 1,  3,  5]],\n       [[ 6,  8, 10],\n        [ 7,  9, 11]]])"
                    },
                    "execution_count": null
                }
            ]
        },
        {
            "id": "9cf1c9b3",
            "cell_type": "code",
            "metadata": {},
            "execution_count": null,
            "source": "a.ravel(order='C')",
            "outputs": [
                {
                    "output_type": "execute_result",
                    "metadata": {},
                    "data": {
                        "text/plain": "array([ 0,  2,  4,  1,  3,  5,  6,  8, 10,  7,  9, 11])"
                    },
                    "execution_count": null
                }
            ]
        },
        {
            "id": "b4023f2d",
            "cell_type": "code",
            "metadata": {},
            "execution_count": null,
            "source": "a.ravel(order='K')",
            "outputs": [
                {
                    "output_type": "execute_result",
                    "metadata": {},
                    "data": {
                        "text/plain": "array([ 0,  1,  2,  3,  4,  5,  6,  7,  8,  9, 10, 11])"
                    },
                    "execution_count": null
                }
            ]
        }
    ]
}