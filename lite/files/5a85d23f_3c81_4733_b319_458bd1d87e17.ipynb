{
    "nbformat": 4,
    "nbformat_minor": 5,
    "metadata": {
        "kernelspec": {
            "display_name": "Python",
            "language": "python",
            "name": "python"
        },
        "language_info": {
            "name": "python"
        }
    },
    "cells": [
        {
            "id": "7781a23a",
            "cell_type": "markdown",
            "source": "<div class='alert alert-warning'>\n\nNumPy's interactive examples are experimental and may not always work as expected, with high load times especially on low-resource platforms, and the version of NumPy might not be in sync with the one you are browsing the documentation for. If you encounter any issues, please report them on the [NumPy issue tracker](https://github.com/numpy/numpy/issues).\n\n</div>",
            "metadata": {}
        },
        {
            "id": "f6af1ccd",
            "cell_type": "code",
            "metadata": {},
            "execution_count": null,
            "source": "import numpy as np\nnp.dot(3, 4)",
            "outputs": [
                {
                    "output_type": "execute_result",
                    "metadata": {},
                    "data": {
                        "text/plain": "12"
                    },
                    "execution_count": null
                }
            ]
        },
        {
            "id": "1f5de70d",
            "cell_type": "markdown",
            "source": "Neither argument is complex-conjugated:\n",
            "metadata": {}
        },
        {
            "id": "09338ff6",
            "cell_type": "code",
            "metadata": {},
            "execution_count": null,
            "source": "np.dot([2j, 3j], [2j, 3j])",
            "outputs": [
                {
                    "output_type": "execute_result",
                    "metadata": {},
                    "data": {
                        "text/plain": "(-13+0j)"
                    },
                    "execution_count": null
                }
            ]
        },
        {
            "id": "b4653515",
            "cell_type": "markdown",
            "source": "For 2-D arrays it is the matrix product:\n",
            "metadata": {}
        },
        {
            "id": "6ed845d1",
            "cell_type": "code",
            "metadata": {},
            "execution_count": null,
            "source": "a = [[1, 0], [0, 1]]\nb = [[4, 1], [2, 2]]\nnp.dot(a, b)",
            "outputs": [
                {
                    "output_type": "execute_result",
                    "metadata": {},
                    "data": {
                        "text/plain": "array([[4, 1],\n       [2, 2]])"
                    },
                    "execution_count": null
                }
            ]
        },
        {
            "id": "09bf85e7",
            "cell_type": "code",
            "metadata": {},
            "execution_count": null,
            "source": "a = np.arange(3*4*5*6).reshape((3,4,5,6))\nb = np.arange(3*4*5*6)[::-1].reshape((5,4,6,3))\nnp.dot(a, b)[2,3,2,1,2,2]",
            "outputs": [
                {
                    "output_type": "execute_result",
                    "metadata": {},
                    "data": {
                        "text/plain": "499128"
                    },
                    "execution_count": null
                }
            ]
        },
        {
            "id": "cf9319bb",
            "cell_type": "code",
            "metadata": {},
            "execution_count": null,
            "source": "sum(a[2,3,2,:] * b[1,2,:,2])",
            "outputs": [
                {
                    "output_type": "execute_result",
                    "metadata": {},
                    "data": {
                        "text/plain": "499128"
                    },
                    "execution_count": null
                }
            ]
        }
    ]
}