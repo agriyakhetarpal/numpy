{
    "nbformat": 4,
    "nbformat_minor": 5,
    "metadata": {
        "kernelspec": {
            "display_name": "Python",
            "language": "python",
            "name": "python"
        },
        "language_info": {
            "name": "python"
        }
    },
    "cells": [
        {
            "id": "d370c10d",
            "cell_type": "markdown",
            "source": "<div class='alert alert-warning'>\n\nNumPy's interactive examples are experimental and may not always work as expected, with high load times especially on low-resource platforms, and the version of NumPy might not be in sync with the one you are browsing the documentation for. If you encounter any issues, please report them on the [NumPy issue tracker](https://github.com/numpy/numpy/issues).\n\n</div>",
            "metadata": {}
        },
        {
            "id": "6adf9b8c",
            "cell_type": "code",
            "metadata": {},
            "execution_count": null,
            "source": "import numpy as np\nnp.all([[True,False],[True,True]])",
            "outputs": [
                {
                    "output_type": "execute_result",
                    "metadata": {},
                    "data": {
                        "text/plain": "False"
                    },
                    "execution_count": null
                }
            ]
        },
        {
            "id": "0f8fe59a",
            "cell_type": "code",
            "metadata": {},
            "execution_count": null,
            "source": "np.all([[True,False],[True,True]], axis=0)",
            "outputs": [
                {
                    "output_type": "execute_result",
                    "metadata": {},
                    "data": {
                        "text/plain": "array([ True, False])"
                    },
                    "execution_count": null
                }
            ]
        },
        {
            "id": "5694cb5e",
            "cell_type": "code",
            "metadata": {},
            "execution_count": null,
            "source": "np.all([-1, 4, 5])",
            "outputs": [
                {
                    "output_type": "execute_result",
                    "metadata": {},
                    "data": {
                        "text/plain": "True"
                    },
                    "execution_count": null
                }
            ]
        },
        {
            "id": "5fb2c353",
            "cell_type": "code",
            "metadata": {},
            "execution_count": null,
            "source": "np.all([1.0, np.nan])",
            "outputs": [
                {
                    "output_type": "execute_result",
                    "metadata": {},
                    "data": {
                        "text/plain": "True"
                    },
                    "execution_count": null
                }
            ]
        },
        {
            "id": "0806f180",
            "cell_type": "code",
            "metadata": {},
            "execution_count": null,
            "source": "np.all([[True, True], [False, True]], where=[[True], [False]])",
            "outputs": [
                {
                    "output_type": "execute_result",
                    "metadata": {},
                    "data": {
                        "text/plain": "True"
                    },
                    "execution_count": null
                }
            ]
        },
        {
            "id": "0f7ae9e7",
            "cell_type": "code",
            "metadata": {},
            "execution_count": null,
            "source": "o=np.array(False)\nz=np.all([-1, 4, 5], out=o)\nid(z), id(o), z",
            "outputs": [
                {
                    "output_type": "execute_result",
                    "metadata": {},
                    "data": {
                        "text/plain": "(28293632, 28293632, array(True)) # may vary"
                    },
                    "execution_count": null
                }
            ]
        }
    ]
}