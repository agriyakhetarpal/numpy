{
    "nbformat": 4,
    "nbformat_minor": 5,
    "metadata": {
        "kernelspec": {
            "display_name": "Python",
            "language": "python",
            "name": "python"
        },
        "language_info": {
            "name": "python"
        }
    },
    "cells": [
        {
            "id": "45471c2d",
            "cell_type": "markdown",
            "source": "<div class='alert alert-warning'>\n\nNumPy's interactive examples are experimental and may not always work as expected, with high load times especially on low-resource platforms, and the version of NumPy might not be in sync with the one you are browsing the documentation for. If you encounter any issues, please report them on the [NumPy issue tracker](https://github.com/numpy/numpy/issues).\n\n</div>",
            "metadata": {}
        },
        {
            "id": "837ab225",
            "cell_type": "code",
            "metadata": {},
            "execution_count": null,
            "source": "import numpy as np\na = [1, 2, 1000, 2, 3]\nmask = [0, 0, 1, 0, 0]\nmasked_a = np.ma.masked_array(a, mask)\nmasked_a",
            "outputs": [
                {
                    "output_type": "execute_result",
                    "metadata": {},
                    "data": {
                        "text/plain": "masked_array(data=[1, 2, --, 2, 3],\n            mask=[False, False,  True, False, False],\n    fill_value=999999)"
                    },
                    "execution_count": null
                }
            ]
        },
        {
            "id": "74eddec2",
            "cell_type": "code",
            "metadata": {},
            "execution_count": null,
            "source": "np.ma.unique(masked_a)",
            "outputs": [
                {
                    "output_type": "execute_result",
                    "metadata": {},
                    "data": {
                        "text/plain": "masked_array(data=[1, 2, 3, --],\n            mask=[False, False, False,  True],\n    fill_value=999999)"
                    },
                    "execution_count": null
                }
            ]
        },
        {
            "id": "0388b61f",
            "cell_type": "code",
            "metadata": {},
            "execution_count": null,
            "source": "np.ma.unique(masked_a, return_index=True)",
            "outputs": [
                {
                    "output_type": "execute_result",
                    "metadata": {},
                    "data": {
                        "text/plain": "(masked_array(data=[1, 2, 3, --],\n            mask=[False, False, False,  True],\n    fill_value=999999), array([0, 1, 4, 2]))"
                    },
                    "execution_count": null
                }
            ]
        },
        {
            "id": "6bf95aa2",
            "cell_type": "code",
            "metadata": {},
            "execution_count": null,
            "source": "np.ma.unique(masked_a, return_inverse=True)",
            "outputs": [
                {
                    "output_type": "execute_result",
                    "metadata": {},
                    "data": {
                        "text/plain": "(masked_array(data=[1, 2, 3, --],\n            mask=[False, False, False,  True],\n    fill_value=999999), array([0, 1, 3, 1, 2]))"
                    },
                    "execution_count": null
                }
            ]
        },
        {
            "id": "ae84d976",
            "cell_type": "code",
            "metadata": {},
            "execution_count": null,
            "source": "np.ma.unique(masked_a, return_index=True, return_inverse=True)",
            "outputs": [
                {
                    "output_type": "execute_result",
                    "metadata": {},
                    "data": {
                        "text/plain": "(masked_array(data=[1, 2, 3, --],\n            mask=[False, False, False,  True],\n    fill_value=999999), array([0, 1, 4, 2]), array([0, 1, 3, 1, 2]))"
                    },
                    "execution_count": null
                }
            ]
        }
    ]
}