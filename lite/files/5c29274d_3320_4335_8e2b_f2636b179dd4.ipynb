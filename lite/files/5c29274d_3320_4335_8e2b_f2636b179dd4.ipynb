{
    "nbformat": 4,
    "nbformat_minor": 5,
    "metadata": {
        "kernelspec": {
            "display_name": "Python",
            "language": "python",
            "name": "python"
        },
        "language_info": {
            "name": "python"
        }
    },
    "cells": [
        {
            "id": "d7fc9322",
            "cell_type": "markdown",
            "source": "<div class='alert alert-warning'>\n\nNumPy's interactive examples are experimental and may not always work as expected, with high load times especially on low-resource platforms, and the version of NumPy might not be in sync with the one you are browsing the documentation for. If you encounter any issues, please report them on the [NumPy issue tracker](https://github.com/numpy/numpy/issues).\n\n</div>",
            "metadata": {}
        },
        {
            "id": "d8401c4e",
            "cell_type": "code",
            "metadata": {},
            "execution_count": null,
            "source": "import numpy as np\nnp.promote_types('f4', 'f8')",
            "outputs": [
                {
                    "output_type": "execute_result",
                    "metadata": {},
                    "data": {
                        "text/plain": "dtype('float64')"
                    },
                    "execution_count": null
                }
            ]
        },
        {
            "id": "9c2ef4b4",
            "cell_type": "code",
            "metadata": {},
            "execution_count": null,
            "source": "np.promote_types('i8', 'f4')",
            "outputs": [
                {
                    "output_type": "execute_result",
                    "metadata": {},
                    "data": {
                        "text/plain": "dtype('float64')"
                    },
                    "execution_count": null
                }
            ]
        },
        {
            "id": "d9198105",
            "cell_type": "code",
            "metadata": {},
            "execution_count": null,
            "source": "np.promote_types('>i8', '<c8')",
            "outputs": [
                {
                    "output_type": "execute_result",
                    "metadata": {},
                    "data": {
                        "text/plain": "dtype('complex128')"
                    },
                    "execution_count": null
                }
            ]
        },
        {
            "id": "2d738fa2",
            "cell_type": "code",
            "metadata": {},
            "execution_count": null,
            "source": "np.promote_types('i4', 'S8')",
            "outputs": [
                {
                    "output_type": "execute_result",
                    "metadata": {},
                    "data": {
                        "text/plain": "dtype('S11')"
                    },
                    "execution_count": null
                }
            ]
        },
        {
            "id": "92a71ff9",
            "cell_type": "markdown",
            "source": "An example of a non-associative case:\n",
            "metadata": {}
        },
        {
            "id": "c8740f16",
            "cell_type": "code",
            "metadata": {},
            "execution_count": null,
            "source": "p = np.promote_types\np('S', p('i1', 'u1'))",
            "outputs": [
                {
                    "output_type": "execute_result",
                    "metadata": {},
                    "data": {
                        "text/plain": "dtype('S6')"
                    },
                    "execution_count": null
                }
            ]
        },
        {
            "id": "b114d06f",
            "cell_type": "code",
            "metadata": {},
            "execution_count": null,
            "source": "p(p('S', 'i1'), 'u1')",
            "outputs": [
                {
                    "output_type": "execute_result",
                    "metadata": {},
                    "data": {
                        "text/plain": "dtype('S4')"
                    },
                    "execution_count": null
                }
            ]
        }
    ]
}