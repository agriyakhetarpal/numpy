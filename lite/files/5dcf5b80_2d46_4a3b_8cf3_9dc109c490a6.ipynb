{
    "nbformat": 4,
    "nbformat_minor": 5,
    "metadata": {
        "kernelspec": {
            "display_name": "Python",
            "language": "python",
            "name": "python"
        },
        "language_info": {
            "name": "python"
        }
    },
    "cells": [
        {
            "id": "d3b64aaa",
            "cell_type": "markdown",
            "source": "<div class='alert alert-warning'>\n\nNumPy's interactive examples are experimental and may not always work as expected, with high load times especially on low-resource platforms, and the version of NumPy might not be in sync with the one you are browsing the documentation for. If you encounter any issues, please report them on the [NumPy issue tracker](https://github.com/numpy/numpy/issues).\n\n</div>",
            "metadata": {}
        },
        {
            "id": "d15189f6",
            "cell_type": "code",
            "metadata": {},
            "execution_count": null,
            "source": "import numpy as np\na = np.array([(1, 2.0), (1, 2.0)],\n    dtype=[('x', np.int64), ('y', np.float64)])\na",
            "outputs": [
                {
                    "output_type": "execute_result",
                    "metadata": {},
                    "data": {
                        "text/plain": "array([(1, 2.), (1, 2.)], dtype=[('x', '<i8'), ('y', '<f8')])"
                    },
                    "execution_count": null
                }
            ]
        },
        {
            "id": "8c367de7",
            "cell_type": "markdown",
            "source": "Here, each element consists of two fields: x (and int), and y (a float).\nThis is known as a structured array.  The different fields are analogous\nto columns in a spread-sheet.  The different fields can be accessed as\none would a dictionary:\n",
            "metadata": {}
        },
        {
            "id": "dac78ef5",
            "cell_type": "code",
            "metadata": {},
            "execution_count": null,
            "source": "a['x']",
            "outputs": [
                {
                    "output_type": "execute_result",
                    "metadata": {},
                    "data": {
                        "text/plain": "array([1, 1])"
                    },
                    "execution_count": null
                }
            ]
        },
        {
            "id": "e9b7674f",
            "cell_type": "code",
            "metadata": {},
            "execution_count": null,
            "source": "a['y']",
            "outputs": [
                {
                    "output_type": "execute_result",
                    "metadata": {},
                    "data": {
                        "text/plain": "array([2., 2.])"
                    },
                    "execution_count": null
                }
            ]
        },
        {
            "id": "8fb8f6a6",
            "cell_type": "markdown",
            "source": "Record arrays allow us to access fields as properties:\n",
            "metadata": {}
        },
        {
            "id": "bb255762",
            "cell_type": "code",
            "metadata": {},
            "execution_count": null,
            "source": "ar = np.rec.array(a)\nar.x",
            "outputs": [
                {
                    "output_type": "execute_result",
                    "metadata": {},
                    "data": {
                        "text/plain": "array([1, 1])"
                    },
                    "execution_count": null
                }
            ]
        },
        {
            "id": "ad68ba43",
            "cell_type": "code",
            "metadata": {},
            "execution_count": null,
            "source": "ar.y",
            "outputs": [
                {
                    "output_type": "execute_result",
                    "metadata": {},
                    "data": {
                        "text/plain": "array([2., 2.])"
                    },
                    "execution_count": null
                }
            ]
        }
    ]
}