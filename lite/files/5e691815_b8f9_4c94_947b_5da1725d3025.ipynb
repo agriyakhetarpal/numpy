{
    "nbformat": 4,
    "nbformat_minor": 5,
    "metadata": {
        "kernelspec": {
            "display_name": "Python",
            "language": "python",
            "name": "python"
        },
        "language_info": {
            "name": "python"
        }
    },
    "cells": [
        {
            "id": "1ccbeb89",
            "cell_type": "markdown",
            "source": "<div class='alert alert-warning'>\n\nNumPy's interactive examples are experimental and may not always work as expected, with high load times especially on low-resource platforms, and the version of NumPy might not be in sync with the one you are browsing the documentation for. If you encounter any issues, please report them on the [NumPy issue tracker](https://github.com/numpy/numpy/issues).\n\n</div>",
            "metadata": {}
        },
        {
            "id": "e7df8ee8",
            "cell_type": "code",
            "metadata": {},
            "execution_count": null,
            "source": "import numpy as np\nc = np.array(['a1b2','1b2a','b2a1','2a1b']); c",
            "outputs": [
                {
                    "output_type": "execute_result",
                    "metadata": {},
                    "data": {
                        "text/plain": "array(['a1b2', '1b2a', 'b2a1', '2a1b'], dtype='<U4')"
                    },
                    "execution_count": null
                }
            ]
        },
        {
            "id": "9b5e95c2",
            "cell_type": "code",
            "metadata": {},
            "execution_count": null,
            "source": "np.strings.center(c, width=9)",
            "outputs": [
                {
                    "output_type": "execute_result",
                    "metadata": {},
                    "data": {
                        "text/plain": "array(['   a1b2  ', '   1b2a  ', '   b2a1  ', '   2a1b  '], dtype='<U9')"
                    },
                    "execution_count": null
                }
            ]
        },
        {
            "id": "fae74d1f",
            "cell_type": "code",
            "metadata": {},
            "execution_count": null,
            "source": "np.strings.center(c, width=9, fillchar='*')",
            "outputs": [
                {
                    "output_type": "execute_result",
                    "metadata": {},
                    "data": {
                        "text/plain": "array(['***a1b2**', '***1b2a**', '***b2a1**', '***2a1b**'], dtype='<U9')"
                    },
                    "execution_count": null
                }
            ]
        },
        {
            "id": "11ea6d46",
            "cell_type": "code",
            "metadata": {},
            "execution_count": null,
            "source": "np.strings.center(c, width=1)",
            "outputs": [
                {
                    "output_type": "execute_result",
                    "metadata": {},
                    "data": {
                        "text/plain": "array(['a1b2', '1b2a', 'b2a1', '2a1b'], dtype='<U4')"
                    },
                    "execution_count": null
                }
            ]
        }
    ]
}