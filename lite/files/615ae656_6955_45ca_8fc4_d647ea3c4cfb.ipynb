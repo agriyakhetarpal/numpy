{
    "nbformat": 4,
    "nbformat_minor": 5,
    "metadata": {
        "kernelspec": {
            "display_name": "Python",
            "language": "python",
            "name": "python"
        },
        "language_info": {
            "name": "python"
        }
    },
    "cells": [
        {
            "id": "af91f03a",
            "cell_type": "markdown",
            "source": "<div class='alert alert-warning'>\n\nNumPy's interactive examples are experimental and may not always work as expected, with high load times especially on low-resource platforms, and the version of NumPy might not be in sync with the one you are browsing the documentation for. If you encounter any issues, please report them on the [NumPy issue tracker](https://github.com/numpy/numpy/issues).\n\n</div>",
            "metadata": {}
        },
        {
            "id": "6dc43be9",
            "cell_type": "code",
            "metadata": {},
            "execution_count": null,
            "source": "import numpy as np\nimport numpy.ma as ma\na = np.int8()\nma.maximum_fill_value(a)",
            "outputs": [
                {
                    "output_type": "execute_result",
                    "metadata": {},
                    "data": {
                        "text/plain": "-128"
                    },
                    "execution_count": null
                }
            ]
        },
        {
            "id": "8c22e9a6",
            "cell_type": "code",
            "metadata": {},
            "execution_count": null,
            "source": "a = np.int32()\nma.maximum_fill_value(a)",
            "outputs": [
                {
                    "output_type": "execute_result",
                    "metadata": {},
                    "data": {
                        "text/plain": "-2147483648"
                    },
                    "execution_count": null
                }
            ]
        },
        {
            "id": "66c5da68",
            "cell_type": "markdown",
            "source": "An array of numeric data can also be passed.\n",
            "metadata": {}
        },
        {
            "id": "843ea0b7",
            "cell_type": "code",
            "metadata": {},
            "execution_count": null,
            "source": "a = np.array([1, 2, 3], dtype=np.int8)\nma.maximum_fill_value(a)",
            "outputs": [
                {
                    "output_type": "execute_result",
                    "metadata": {},
                    "data": {
                        "text/plain": "-128"
                    },
                    "execution_count": null
                }
            ]
        },
        {
            "id": "80039b4e",
            "cell_type": "code",
            "metadata": {},
            "execution_count": null,
            "source": "a = np.array([1, 2, 3], dtype=np.float32)\nma.maximum_fill_value(a)",
            "outputs": [
                {
                    "output_type": "execute_result",
                    "metadata": {},
                    "data": {
                        "text/plain": "-inf"
                    },
                    "execution_count": null
                }
            ]
        }
    ]
}