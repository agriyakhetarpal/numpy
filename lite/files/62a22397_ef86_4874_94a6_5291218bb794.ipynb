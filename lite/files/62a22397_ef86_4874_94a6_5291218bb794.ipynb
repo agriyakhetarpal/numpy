{
    "nbformat": 4,
    "nbformat_minor": 5,
    "metadata": {
        "kernelspec": {
            "display_name": "Python",
            "language": "python",
            "name": "python"
        },
        "language_info": {
            "name": "python"
        }
    },
    "cells": [
        {
            "id": "67ef7b31",
            "cell_type": "markdown",
            "source": "<div class='alert alert-warning'>\n\nNumPy's interactive examples are experimental and may not always work as expected, with high load times especially on low-resource platforms, and the version of NumPy might not be in sync with the one you are browsing the documentation for. If you encounter any issues, please report them on the [NumPy issue tracker](https://github.com/numpy/numpy/issues).\n\n</div>",
            "metadata": {}
        },
        {
            "id": "0757ef16",
            "cell_type": "markdown",
            "source": "A real world example: Assume a company has 10000 customer support \nagents and the average time between customer calls is 4 minutes.\n",
            "metadata": {}
        },
        {
            "id": "9206139b",
            "cell_type": "code",
            "metadata": {},
            "execution_count": null,
            "source": "n = 10000\ntime_between_calls = np.random.default_rng().exponential(scale=4, size=n)",
            "outputs": []
        },
        {
            "id": "3df5ade0",
            "cell_type": "markdown",
            "source": "What is the probability that a customer will call in the next \n4 to 5 minutes? \n",
            "metadata": {}
        },
        {
            "id": "a2643d99",
            "cell_type": "code",
            "metadata": {},
            "execution_count": null,
            "source": "x = ((time_between_calls < 5).sum())/n \ny = ((time_between_calls < 4).sum())/n\nx-y",
            "outputs": [
                {
                    "output_type": "execute_result",
                    "metadata": {},
                    "data": {
                        "text/plain": "0.08 # may vary"
                    },
                    "execution_count": null
                }
            ]
        }
    ]
}