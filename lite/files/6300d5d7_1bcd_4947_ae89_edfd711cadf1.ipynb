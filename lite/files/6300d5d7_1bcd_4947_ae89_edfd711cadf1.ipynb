{
    "nbformat": 4,
    "nbformat_minor": 5,
    "metadata": {
        "kernelspec": {
            "display_name": "Python",
            "language": "python",
            "name": "python"
        },
        "language_info": {
            "name": "python"
        }
    },
    "cells": [
        {
            "id": "f48c66d6",
            "cell_type": "markdown",
            "source": "<div class='alert alert-warning'>\n\nNumPy's interactive examples are experimental and may not always work as expected, with high load times especially on low-resource platforms, and the version of NumPy might not be in sync with the one you are browsing the documentation for. If you encounter any issues, please report them on the [NumPy issue tracker](https://github.com/numpy/numpy/issues).\n\n</div>",
            "metadata": {}
        },
        {
            "id": "770ca7b1",
            "cell_type": "code",
            "metadata": {},
            "execution_count": null,
            "source": "import sys\nsys_is_le = sys.byteorder == 'little'\nnative_code = '<' if sys_is_le else '>'\nswapped_code = '>' if sys_is_le else '<'\nimport numpy as np\nnative_dt = np.dtype(native_code+'i2')\nswapped_dt = np.dtype(swapped_code+'i2')\nnative_dt.newbyteorder('S') == swapped_dt",
            "outputs": [
                {
                    "output_type": "execute_result",
                    "metadata": {},
                    "data": {
                        "text/plain": "True"
                    },
                    "execution_count": null
                }
            ]
        },
        {
            "id": "89ee6e0f",
            "cell_type": "code",
            "metadata": {},
            "execution_count": null,
            "source": "native_dt.newbyteorder() == swapped_dt",
            "outputs": [
                {
                    "output_type": "execute_result",
                    "metadata": {},
                    "data": {
                        "text/plain": "True"
                    },
                    "execution_count": null
                }
            ]
        },
        {
            "id": "8f052d55",
            "cell_type": "code",
            "metadata": {},
            "execution_count": null,
            "source": "native_dt == swapped_dt.newbyteorder('S')",
            "outputs": [
                {
                    "output_type": "execute_result",
                    "metadata": {},
                    "data": {
                        "text/plain": "True"
                    },
                    "execution_count": null
                }
            ]
        },
        {
            "id": "92d9c48b",
            "cell_type": "code",
            "metadata": {},
            "execution_count": null,
            "source": "native_dt == swapped_dt.newbyteorder('=')",
            "outputs": [
                {
                    "output_type": "execute_result",
                    "metadata": {},
                    "data": {
                        "text/plain": "True"
                    },
                    "execution_count": null
                }
            ]
        },
        {
            "id": "af07226c",
            "cell_type": "code",
            "metadata": {},
            "execution_count": null,
            "source": "native_dt == swapped_dt.newbyteorder('N')",
            "outputs": [
                {
                    "output_type": "execute_result",
                    "metadata": {},
                    "data": {
                        "text/plain": "True"
                    },
                    "execution_count": null
                }
            ]
        },
        {
            "id": "dce5c454",
            "cell_type": "code",
            "metadata": {},
            "execution_count": null,
            "source": "native_dt == native_dt.newbyteorder('|')",
            "outputs": [
                {
                    "output_type": "execute_result",
                    "metadata": {},
                    "data": {
                        "text/plain": "True"
                    },
                    "execution_count": null
                }
            ]
        },
        {
            "id": "e6e7d18f",
            "cell_type": "code",
            "metadata": {},
            "execution_count": null,
            "source": "np.dtype('<i2') == native_dt.newbyteorder('<')",
            "outputs": [
                {
                    "output_type": "execute_result",
                    "metadata": {},
                    "data": {
                        "text/plain": "True"
                    },
                    "execution_count": null
                }
            ]
        },
        {
            "id": "24625a29",
            "cell_type": "code",
            "metadata": {},
            "execution_count": null,
            "source": "np.dtype('<i2') == native_dt.newbyteorder('L')",
            "outputs": [
                {
                    "output_type": "execute_result",
                    "metadata": {},
                    "data": {
                        "text/plain": "True"
                    },
                    "execution_count": null
                }
            ]
        },
        {
            "id": "d0c3f104",
            "cell_type": "code",
            "metadata": {},
            "execution_count": null,
            "source": "np.dtype('>i2') == native_dt.newbyteorder('>')",
            "outputs": [
                {
                    "output_type": "execute_result",
                    "metadata": {},
                    "data": {
                        "text/plain": "True"
                    },
                    "execution_count": null
                }
            ]
        },
        {
            "id": "e7dfd9ff",
            "cell_type": "code",
            "metadata": {},
            "execution_count": null,
            "source": "np.dtype('>i2') == native_dt.newbyteorder('B')",
            "outputs": [
                {
                    "output_type": "execute_result",
                    "metadata": {},
                    "data": {
                        "text/plain": "True"
                    },
                    "execution_count": null
                }
            ]
        }
    ]
}