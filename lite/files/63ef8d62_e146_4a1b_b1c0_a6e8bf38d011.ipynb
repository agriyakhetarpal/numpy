{
    "nbformat": 4,
    "nbformat_minor": 5,
    "metadata": {
        "kernelspec": {
            "display_name": "Python",
            "language": "python",
            "name": "python"
        },
        "language_info": {
            "name": "python"
        }
    },
    "cells": [
        {
            "id": "9fac7773",
            "cell_type": "markdown",
            "source": "<div class='alert alert-warning'>\n\nNumPy's interactive examples are experimental and may not always work as expected, with high load times especially on low-resource platforms, and the version of NumPy might not be in sync with the one you are browsing the documentation for. If you encounter any issues, please report them on the [NumPy issue tracker](https://github.com/numpy/numpy/issues).\n\n</div>",
            "metadata": {}
        },
        {
            "id": "6484931d",
            "cell_type": "code",
            "metadata": {},
            "execution_count": null,
            "source": "import numpy.ma as ma\nx = [0.,1.,-9999.,3.,4.]\nmx = ma.masked_values (x, -9999.)\nprint(mx.mean())",
            "outputs": [
                {
                    "output_type": "execute_result",
                    "metadata": {},
                    "data": {
                        "text/plain": "2.0"
                    },
                    "execution_count": null
                }
            ]
        },
        {
            "id": "84b7b71e",
            "cell_type": "code",
            "metadata": {},
            "execution_count": null,
            "source": "print(mx - mx.mean())",
            "outputs": [
                {
                    "output_type": "execute_result",
                    "metadata": {},
                    "data": {
                        "text/plain": "[-2.0 -1.0 -- 1.0 2.0]"
                    },
                    "execution_count": null
                }
            ]
        },
        {
            "id": "4e93f416",
            "cell_type": "code",
            "metadata": {},
            "execution_count": null,
            "source": "print(mx.anom())",
            "outputs": [
                {
                    "output_type": "execute_result",
                    "metadata": {},
                    "data": {
                        "text/plain": "[-2.0 -1.0 -- 1.0 2.0]"
                    },
                    "execution_count": null
                }
            ]
        }
    ]
}