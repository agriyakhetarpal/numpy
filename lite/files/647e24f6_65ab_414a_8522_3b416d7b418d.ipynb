{
    "nbformat": 4,
    "nbformat_minor": 5,
    "metadata": {
        "kernelspec": {
            "display_name": "Python",
            "language": "python",
            "name": "python"
        },
        "language_info": {
            "name": "python"
        }
    },
    "cells": [
        {
            "id": "f7c14920",
            "cell_type": "markdown",
            "source": "<div class='alert alert-warning'>\n\nNumPy's interactive examples are experimental and may not always work as expected, with high load times especially on low-resource platforms, , and the version of NumPy might not be in sync with the one you are browsing the documentation for. If you encounter any issues, please report them on the [NumPy issue tracker](https://github.com/numpy/numpy/issues).\n\n</div>",
            "metadata": {}
        },
        {
            "id": "fc562f22",
            "cell_type": "code",
            "metadata": {},
            "execution_count": null,
            "source": "import sys\nsys_is_le = sys.byteorder == 'little'\nnative_code = '<' if sys_is_le else '>'\nswapped_code = '>' if sys_is_le else '<'\nimport numpy as np\nnative_dt = np.dtype(native_code+'i2')\nswapped_dt = np.dtype(swapped_code+'i2')\nnative_dt.newbyteorder('S') == swapped_dt",
            "outputs": [
                {
                    "output_type": "execute_result",
                    "metadata": {},
                    "data": {
                        "text/plain": "True"
                    },
                    "execution_count": null
                }
            ]
        },
        {
            "id": "5e10afe5",
            "cell_type": "code",
            "metadata": {},
            "execution_count": null,
            "source": "native_dt.newbyteorder() == swapped_dt",
            "outputs": [
                {
                    "output_type": "execute_result",
                    "metadata": {},
                    "data": {
                        "text/plain": "True"
                    },
                    "execution_count": null
                }
            ]
        },
        {
            "id": "d6fc6050",
            "cell_type": "code",
            "metadata": {},
            "execution_count": null,
            "source": "native_dt == swapped_dt.newbyteorder('S')",
            "outputs": [
                {
                    "output_type": "execute_result",
                    "metadata": {},
                    "data": {
                        "text/plain": "True"
                    },
                    "execution_count": null
                }
            ]
        },
        {
            "id": "0c8761d6",
            "cell_type": "code",
            "metadata": {},
            "execution_count": null,
            "source": "native_dt == swapped_dt.newbyteorder('=')",
            "outputs": [
                {
                    "output_type": "execute_result",
                    "metadata": {},
                    "data": {
                        "text/plain": "True"
                    },
                    "execution_count": null
                }
            ]
        },
        {
            "id": "e5e524a8",
            "cell_type": "code",
            "metadata": {},
            "execution_count": null,
            "source": "native_dt == swapped_dt.newbyteorder('N')",
            "outputs": [
                {
                    "output_type": "execute_result",
                    "metadata": {},
                    "data": {
                        "text/plain": "True"
                    },
                    "execution_count": null
                }
            ]
        },
        {
            "id": "1edb563b",
            "cell_type": "code",
            "metadata": {},
            "execution_count": null,
            "source": "native_dt == native_dt.newbyteorder('|')",
            "outputs": [
                {
                    "output_type": "execute_result",
                    "metadata": {},
                    "data": {
                        "text/plain": "True"
                    },
                    "execution_count": null
                }
            ]
        },
        {
            "id": "2e3ae825",
            "cell_type": "code",
            "metadata": {},
            "execution_count": null,
            "source": "np.dtype('<i2') == native_dt.newbyteorder('<')",
            "outputs": [
                {
                    "output_type": "execute_result",
                    "metadata": {},
                    "data": {
                        "text/plain": "True"
                    },
                    "execution_count": null
                }
            ]
        },
        {
            "id": "c9242989",
            "cell_type": "code",
            "metadata": {},
            "execution_count": null,
            "source": "np.dtype('<i2') == native_dt.newbyteorder('L')",
            "outputs": [
                {
                    "output_type": "execute_result",
                    "metadata": {},
                    "data": {
                        "text/plain": "True"
                    },
                    "execution_count": null
                }
            ]
        },
        {
            "id": "48c8cb96",
            "cell_type": "code",
            "metadata": {},
            "execution_count": null,
            "source": "np.dtype('>i2') == native_dt.newbyteorder('>')",
            "outputs": [
                {
                    "output_type": "execute_result",
                    "metadata": {},
                    "data": {
                        "text/plain": "True"
                    },
                    "execution_count": null
                }
            ]
        },
        {
            "id": "3e4fa872",
            "cell_type": "code",
            "metadata": {},
            "execution_count": null,
            "source": "np.dtype('>i2') == native_dt.newbyteorder('B')",
            "outputs": [
                {
                    "output_type": "execute_result",
                    "metadata": {},
                    "data": {
                        "text/plain": "True"
                    },
                    "execution_count": null
                }
            ]
        }
    ]
}