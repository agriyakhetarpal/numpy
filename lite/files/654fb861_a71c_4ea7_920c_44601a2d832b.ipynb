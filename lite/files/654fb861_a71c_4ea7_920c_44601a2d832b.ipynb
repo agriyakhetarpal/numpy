{
    "nbformat": 4,
    "nbformat_minor": 5,
    "metadata": {
        "kernelspec": {
            "display_name": "Python",
            "language": "python",
            "name": "python"
        },
        "language_info": {
            "name": "python"
        }
    },
    "cells": [
        {
            "id": "1336d070",
            "cell_type": "markdown",
            "source": "<div class='alert alert-warning'>\n\nNumPy's interactive examples are experimental and may not always work as expected, with high load times especially on low-resource platforms, and the version of NumPy might not be in sync with the one you are browsing the documentation for. If you encounter any issues, please report them on the [NumPy issue tracker](https://github.com/numpy/numpy/issues).\n\n</div>",
            "metadata": {}
        },
        {
            "id": "d93e76a8",
            "cell_type": "code",
            "metadata": {},
            "execution_count": null,
            "source": "import numpy as np",
            "outputs": []
        },
        {
            "id": "b4d705e3",
            "cell_type": "markdown",
            "source": "Compute two different sets of indices to access 4x4 arrays, one for the\nupper triangular part starting at the main diagonal, and one starting two\ndiagonals further right:\n",
            "metadata": {}
        },
        {
            "id": "df825c5a",
            "cell_type": "code",
            "metadata": {},
            "execution_count": null,
            "source": "iu1 = np.triu_indices(4)\niu1",
            "outputs": [
                {
                    "output_type": "execute_result",
                    "metadata": {},
                    "data": {
                        "text/plain": "(array([0, 0, 0, 0, 1, 1, 1, 2, 2, 3]), array([0, 1, 2, 3, 1, 2, 3, 2, 3, 3]))"
                    },
                    "execution_count": null
                }
            ]
        },
        {
            "id": "e651b52e",
            "cell_type": "markdown",
            "source": "Note that row indices (first array) are non-decreasing, and the corresponding\ncolumn indices (second array) are strictly increasing for each row.\n\nHere is how they can be used with a sample array:\n",
            "metadata": {}
        },
        {
            "id": "081d7544",
            "cell_type": "code",
            "metadata": {},
            "execution_count": null,
            "source": "a = np.arange(16).reshape(4, 4)\na",
            "outputs": [
                {
                    "output_type": "execute_result",
                    "metadata": {},
                    "data": {
                        "text/plain": "array([[ 0,  1,  2,  3],\n       [ 4,  5,  6,  7],\n       [ 8,  9, 10, 11],\n       [12, 13, 14, 15]])"
                    },
                    "execution_count": null
                }
            ]
        },
        {
            "id": "e269b4ae",
            "cell_type": "markdown",
            "source": "Both for indexing:\n",
            "metadata": {}
        },
        {
            "id": "6e453967",
            "cell_type": "code",
            "metadata": {},
            "execution_count": null,
            "source": "a[iu1]",
            "outputs": [
                {
                    "output_type": "execute_result",
                    "metadata": {},
                    "data": {
                        "text/plain": "array([ 0,  1,  2, ..., 10, 11, 15])"
                    },
                    "execution_count": null
                }
            ]
        },
        {
            "id": "2dfdac46",
            "cell_type": "markdown",
            "source": "And for assigning values:\n",
            "metadata": {}
        },
        {
            "id": "5a48fb9c",
            "cell_type": "code",
            "metadata": {},
            "execution_count": null,
            "source": "a[iu1] = -1\na",
            "outputs": [
                {
                    "output_type": "execute_result",
                    "metadata": {},
                    "data": {
                        "text/plain": "array([[-1, -1, -1, -1],\n       [ 4, -1, -1, -1],\n       [ 8,  9, -1, -1],\n       [12, 13, 14, -1]])"
                    },
                    "execution_count": null
                }
            ]
        },
        {
            "id": "a2ac5291",
            "cell_type": "markdown",
            "source": "These cover only a small part of the whole array (two diagonals right\nof the main one):\n",
            "metadata": {}
        },
        {
            "id": "11449650",
            "cell_type": "code",
            "metadata": {},
            "execution_count": null,
            "source": "iu2 = np.triu_indices(4, 2)\na[iu2] = -10\na",
            "outputs": [
                {
                    "output_type": "execute_result",
                    "metadata": {},
                    "data": {
                        "text/plain": "array([[ -1,  -1, -10, -10],\n       [  4,  -1,  -1, -10],\n       [  8,   9,  -1,  -1],\n       [ 12,  13,  14,  -1]])"
                    },
                    "execution_count": null
                }
            ]
        }
    ]
}