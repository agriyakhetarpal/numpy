{
    "nbformat": 4,
    "nbformat_minor": 5,
    "metadata": {
        "kernelspec": {
            "display_name": "Python",
            "language": "python",
            "name": "python"
        },
        "language_info": {
            "name": "python"
        }
    },
    "cells": [
        {
            "id": "f6127d42",
            "cell_type": "markdown",
            "source": "<div class='alert alert-warning'>\n\nNumPy's interactive examples are experimental and may not always work as expected, with high load times especially on low-resource platforms, and the version of NumPy might not be in sync with the one you are browsing the documentation for. If you encounter any issues, please report them on the [NumPy issue tracker](https://github.com/numpy/numpy/issues).\n\n</div>",
            "metadata": {}
        },
        {
            "id": "b854eb03",
            "cell_type": "code",
            "metadata": {},
            "execution_count": null,
            "source": "import numpy as np\nimport numpy.ma as ma\nfood = np.array(['green_eggs', 'ham'], dtype=object)\n# don't eat spoiled food\neat = ma.masked_object(food, 'green_eggs')\neat",
            "outputs": [
                {
                    "output_type": "execute_result",
                    "metadata": {},
                    "data": {
                        "text/plain": "masked_array(data=[--, 'ham'],\n             mask=[ True, False],\n       fill_value='green_eggs',\n            dtype=object)"
                    },
                    "execution_count": null
                }
            ]
        },
        {
            "id": "cdbb2bd3",
            "cell_type": "code",
            "metadata": {},
            "execution_count": null,
            "source": "# plain ol` ham is boring\nfresh_food = np.array(['cheese', 'ham', 'pineapple'], dtype=object)\neat = ma.masked_object(fresh_food, 'green_eggs')\neat",
            "outputs": [
                {
                    "output_type": "execute_result",
                    "metadata": {},
                    "data": {
                        "text/plain": "masked_array(data=['cheese', 'ham', 'pineapple'],\n             mask=False,\n       fill_value='green_eggs',\n            dtype=object)"
                    },
                    "execution_count": null
                }
            ]
        },
        {
            "id": "4517990e",
            "cell_type": "markdown",
            "source": "Note that `mask` is set to ``nomask`` if possible.\n",
            "metadata": {}
        },
        {
            "id": "030184e8",
            "cell_type": "code",
            "metadata": {},
            "execution_count": null,
            "source": "eat",
            "outputs": [
                {
                    "output_type": "execute_result",
                    "metadata": {},
                    "data": {
                        "text/plain": "masked_array(data=['cheese', 'ham', 'pineapple'],\n             mask=False,\n       fill_value='green_eggs',\n            dtype=object)"
                    },
                    "execution_count": null
                }
            ]
        }
    ]
}