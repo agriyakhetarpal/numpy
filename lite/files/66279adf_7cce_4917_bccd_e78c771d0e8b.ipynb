{
    "nbformat": 4,
    "nbformat_minor": 5,
    "metadata": {
        "kernelspec": {
            "display_name": "Python",
            "language": "python",
            "name": "python"
        },
        "language_info": {
            "name": "python"
        }
    },
    "cells": [
        {
            "id": "2070e19a",
            "cell_type": "markdown",
            "source": "<div class='alert alert-warning'>\n\nNumPy's interactive examples are experimental and may not always work as expected, with high load times especially on low-resource platforms, and the version of NumPy might not be in sync with the one you are browsing the documentation for. If you encounter any issues, please report them on the [NumPy issue tracker](https://github.com/numpy/numpy/issues).\n\n</div>",
            "metadata": {}
        },
        {
            "id": "cb1f0a35",
            "cell_type": "code",
            "metadata": {},
            "execution_count": null,
            "source": "import numpy as np\nnp.searchsorted([11,12,13,14,15], 13)",
            "outputs": [
                {
                    "output_type": "execute_result",
                    "metadata": {},
                    "data": {
                        "text/plain": "2"
                    },
                    "execution_count": null
                }
            ]
        },
        {
            "id": "1954ac6d",
            "cell_type": "code",
            "metadata": {},
            "execution_count": null,
            "source": "np.searchsorted([11,12,13,14,15], 13, side='right')",
            "outputs": [
                {
                    "output_type": "execute_result",
                    "metadata": {},
                    "data": {
                        "text/plain": "3"
                    },
                    "execution_count": null
                }
            ]
        },
        {
            "id": "874cb7f6",
            "cell_type": "code",
            "metadata": {},
            "execution_count": null,
            "source": "np.searchsorted([11,12,13,14,15], [-10, 20, 12, 13])",
            "outputs": [
                {
                    "output_type": "execute_result",
                    "metadata": {},
                    "data": {
                        "text/plain": "array([0, 5, 1, 2])"
                    },
                    "execution_count": null
                }
            ]
        }
    ]
}