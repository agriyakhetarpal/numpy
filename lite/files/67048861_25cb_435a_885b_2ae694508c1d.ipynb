{
    "nbformat": 4,
    "nbformat_minor": 5,
    "metadata": {
        "kernelspec": {
            "display_name": "Python",
            "language": "python",
            "name": "python"
        },
        "language_info": {
            "name": "python"
        }
    },
    "cells": [
        {
            "id": "df848836",
            "cell_type": "markdown",
            "source": "<div class='alert alert-warning'>\n\nNumPy's interactive examples are experimental and may not always work as expected, with high load times especially on low-resource platforms, and the version of NumPy might not be in sync with the one you are browsing the documentation for. If you encounter any issues, please report them on the [NumPy issue tracker](https://github.com/numpy/numpy/issues).\n\n</div>",
            "metadata": {}
        },
        {
            "id": "7b971216",
            "cell_type": "code",
            "metadata": {},
            "execution_count": null,
            "source": "import numpy as np",
            "outputs": []
        },
        {
            "id": "63fca424",
            "cell_type": "markdown",
            "source": "For this sample array\n",
            "metadata": {}
        },
        {
            "id": "66ba637e",
            "cell_type": "code",
            "metadata": {},
            "execution_count": null,
            "source": "a = np.array([[10, 30, 20], [60, 40, 50]])",
            "outputs": []
        },
        {
            "id": "42893a78",
            "cell_type": "markdown",
            "source": "We can replace the maximum values with:\n",
            "metadata": {}
        },
        {
            "id": "daf8927a",
            "cell_type": "code",
            "metadata": {},
            "execution_count": null,
            "source": "ai = np.argmax(a, axis=1, keepdims=True)\nai",
            "outputs": [
                {
                    "output_type": "execute_result",
                    "metadata": {},
                    "data": {
                        "text/plain": "array([[1],\n       [0]])"
                    },
                    "execution_count": null
                }
            ]
        },
        {
            "id": "35e30148",
            "cell_type": "code",
            "metadata": {},
            "execution_count": null,
            "source": "np.put_along_axis(a, ai, 99, axis=1)\na",
            "outputs": [
                {
                    "output_type": "execute_result",
                    "metadata": {},
                    "data": {
                        "text/plain": "array([[10, 99, 20],\n       [99, 40, 50]])"
                    },
                    "execution_count": null
                }
            ]
        }
    ]
}