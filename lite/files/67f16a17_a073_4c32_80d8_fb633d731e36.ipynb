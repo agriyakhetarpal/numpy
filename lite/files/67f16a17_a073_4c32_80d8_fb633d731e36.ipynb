{
    "nbformat": 4,
    "nbformat_minor": 5,
    "metadata": {
        "kernelspec": {
            "display_name": "Python",
            "language": "python",
            "name": "python"
        },
        "language_info": {
            "name": "python"
        }
    },
    "cells": [
        {
            "id": "1f882b2f",
            "cell_type": "markdown",
            "source": "<div class='alert alert-warning'>\n\nNumPy's interactive examples are experimental and may not always work as expected, with high load times especially on low-resource platforms, and the version of NumPy might not be in sync with the one you are browsing the documentation for. If you encounter any issues, please report them on the [NumPy issue tracker](https://github.com/numpy/numpy/issues).\n\n</div>",
            "metadata": {}
        },
        {
            "id": "6ea99045",
            "cell_type": "markdown",
            "source": "The defining property of the antiderivative:\n",
            "metadata": {}
        },
        {
            "id": "1e49fb77",
            "cell_type": "code",
            "metadata": {},
            "execution_count": null,
            "source": "import numpy as np",
            "outputs": []
        },
        {
            "id": "942fbc83",
            "cell_type": "code",
            "metadata": {},
            "execution_count": null,
            "source": "p = np.poly1d([1,1,1])\nP = np.polyint(p)\nP",
            "outputs": [
                {
                    "output_type": "execute_result",
                    "metadata": {},
                    "data": {
                        "text/plain": " poly1d([ 0.33333333,  0.5       ,  1.        ,  0.        ]) # may vary"
                    },
                    "execution_count": null
                }
            ]
        },
        {
            "id": "1c130162",
            "cell_type": "code",
            "metadata": {},
            "execution_count": null,
            "source": "np.polyder(P) == p",
            "outputs": [
                {
                    "output_type": "execute_result",
                    "metadata": {},
                    "data": {
                        "text/plain": "True"
                    },
                    "execution_count": null
                }
            ]
        },
        {
            "id": "be2b6e25",
            "cell_type": "markdown",
            "source": "The integration constants default to zero, but can be specified:\n",
            "metadata": {}
        },
        {
            "id": "adcc5355",
            "cell_type": "code",
            "metadata": {},
            "execution_count": null,
            "source": "P = np.polyint(p, 3)\nP(0)",
            "outputs": [
                {
                    "output_type": "execute_result",
                    "metadata": {},
                    "data": {
                        "text/plain": "0.0"
                    },
                    "execution_count": null
                }
            ]
        },
        {
            "id": "85c67f9b",
            "cell_type": "code",
            "metadata": {},
            "execution_count": null,
            "source": "np.polyder(P)(0)",
            "outputs": [
                {
                    "output_type": "execute_result",
                    "metadata": {},
                    "data": {
                        "text/plain": "0.0"
                    },
                    "execution_count": null
                }
            ]
        },
        {
            "id": "7b8d3dbc",
            "cell_type": "code",
            "metadata": {},
            "execution_count": null,
            "source": "np.polyder(P, 2)(0)",
            "outputs": [
                {
                    "output_type": "execute_result",
                    "metadata": {},
                    "data": {
                        "text/plain": "0.0"
                    },
                    "execution_count": null
                }
            ]
        },
        {
            "id": "d99360ef",
            "cell_type": "code",
            "metadata": {},
            "execution_count": null,
            "source": "P = np.polyint(p, 3, k=[6,5,3])\nP",
            "outputs": [
                {
                    "output_type": "execute_result",
                    "metadata": {},
                    "data": {
                        "text/plain": "poly1d([ 0.01666667,  0.04166667,  0.16666667,  3. ,  5. ,  3. ]) # may vary"
                    },
                    "execution_count": null
                }
            ]
        },
        {
            "id": "0edc5852",
            "cell_type": "markdown",
            "source": "Note that 3 = 6 / 2!, and that the constants are given in the order of\nintegrations. Constant of the highest-order polynomial term comes first:\n",
            "metadata": {}
        },
        {
            "id": "5d419332",
            "cell_type": "code",
            "metadata": {},
            "execution_count": null,
            "source": "np.polyder(P, 2)(0)",
            "outputs": [
                {
                    "output_type": "execute_result",
                    "metadata": {},
                    "data": {
                        "text/plain": "6.0"
                    },
                    "execution_count": null
                }
            ]
        },
        {
            "id": "fa94d8d2",
            "cell_type": "code",
            "metadata": {},
            "execution_count": null,
            "source": "np.polyder(P, 1)(0)",
            "outputs": [
                {
                    "output_type": "execute_result",
                    "metadata": {},
                    "data": {
                        "text/plain": "5.0"
                    },
                    "execution_count": null
                }
            ]
        },
        {
            "id": "98b3a870",
            "cell_type": "code",
            "metadata": {},
            "execution_count": null,
            "source": "P(0)",
            "outputs": [
                {
                    "output_type": "execute_result",
                    "metadata": {},
                    "data": {
                        "text/plain": "3.0"
                    },
                    "execution_count": null
                }
            ]
        }
    ]
}