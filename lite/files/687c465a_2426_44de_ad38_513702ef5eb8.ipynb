{
    "nbformat": 4,
    "nbformat_minor": 5,
    "metadata": {
        "kernelspec": {
            "display_name": "Python",
            "language": "python",
            "name": "python"
        },
        "language_info": {
            "name": "python"
        }
    },
    "cells": [
        {
            "id": "9ba76300",
            "cell_type": "markdown",
            "source": "<div class='alert alert-warning'>\n\nNumPy's interactive examples are experimental and may not always work as expected, with high load times especially on low-resource platforms, , and the version of NumPy might not be in sync with the one you are browsing the documentation for. If you encounter any issues, please report them on the [NumPy issue tracker](https://github.com/numpy/numpy/issues).\n\n</div>",
            "metadata": {}
        },
        {
            "id": "e8e067cb",
            "cell_type": "code",
            "metadata": {},
            "execution_count": null,
            "source": "import numpy as np",
            "outputs": []
        },
        {
            "id": "f721871d",
            "cell_type": "markdown",
            "source": "Data-type with fields ``big`` (big-endian 32-bit integer) and\n``little`` (little-endian 32-bit integer):\n",
            "metadata": {}
        },
        {
            "id": "73bd440d",
            "cell_type": "code",
            "metadata": {},
            "execution_count": null,
            "source": "dt = np.dtype([('big', '>i4'), ('little', '<i4')])",
            "outputs": []
        },
        {
            "id": "7f5bd08e",
            "cell_type": "markdown",
            "source": "Data-type with fields ``R``, ``G``, ``B``, ``A``, each being an\nunsigned 8-bit integer:\n",
            "metadata": {}
        },
        {
            "id": "f6650546",
            "cell_type": "code",
            "metadata": {},
            "execution_count": null,
            "source": "dt = np.dtype([('R','u1'), ('G','u1'), ('B','u1'), ('A','u1')])",
            "outputs": []
        }
    ]
}