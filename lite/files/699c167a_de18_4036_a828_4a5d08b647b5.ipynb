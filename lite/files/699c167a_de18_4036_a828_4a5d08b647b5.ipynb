{
    "nbformat": 4,
    "nbformat_minor": 5,
    "metadata": {
        "kernelspec": {
            "display_name": "Python",
            "language": "python",
            "name": "python"
        },
        "language_info": {
            "name": "python"
        }
    },
    "cells": [
        {
            "id": "426c229b",
            "cell_type": "markdown",
            "source": "<div class='alert alert-warning'>\n\nNumPy's interactive examples are experimental and may not always work as expected, with high load times especially on low-resource platforms, and the version of NumPy might not be in sync with the one you are browsing the documentation for. If you encounter any issues, please report them on the [NumPy issue tracker](https://github.com/numpy/numpy/issues).\n\n</div>",
            "metadata": {}
        },
        {
            "id": "988c0316",
            "cell_type": "markdown",
            "source": "Ordinary inner product for vectors:\n",
            "metadata": {}
        },
        {
            "id": "1aca2ec2",
            "cell_type": "code",
            "metadata": {},
            "execution_count": null,
            "source": "import numpy as np\na = np.array([1,2,3])\nb = np.array([0,1,0])\nnp.inner(a, b)",
            "outputs": [
                {
                    "output_type": "execute_result",
                    "metadata": {},
                    "data": {
                        "text/plain": "2"
                    },
                    "execution_count": null
                }
            ]
        },
        {
            "id": "a5ec396f",
            "cell_type": "markdown",
            "source": "Some multidimensional examples:\n",
            "metadata": {}
        },
        {
            "id": "5c687a85",
            "cell_type": "code",
            "metadata": {},
            "execution_count": null,
            "source": "a = np.arange(24).reshape((2,3,4))\nb = np.arange(4)\nc = np.inner(a, b)\nc.shape",
            "outputs": [
                {
                    "output_type": "execute_result",
                    "metadata": {},
                    "data": {
                        "text/plain": "(2, 3)"
                    },
                    "execution_count": null
                }
            ]
        },
        {
            "id": "ac47dee6",
            "cell_type": "code",
            "metadata": {},
            "execution_count": null,
            "source": "c",
            "outputs": [
                {
                    "output_type": "execute_result",
                    "metadata": {},
                    "data": {
                        "text/plain": "array([[ 14,  38,  62],\n       [ 86, 110, 134]])"
                    },
                    "execution_count": null
                }
            ]
        },
        {
            "id": "3d1fc077",
            "cell_type": "code",
            "metadata": {},
            "execution_count": null,
            "source": "a = np.arange(2).reshape((1,1,2))\nb = np.arange(6).reshape((3,2))\nc = np.inner(a, b)\nc.shape",
            "outputs": [
                {
                    "output_type": "execute_result",
                    "metadata": {},
                    "data": {
                        "text/plain": "(1, 1, 3)"
                    },
                    "execution_count": null
                }
            ]
        },
        {
            "id": "dda5a869",
            "cell_type": "code",
            "metadata": {},
            "execution_count": null,
            "source": "c",
            "outputs": [
                {
                    "output_type": "execute_result",
                    "metadata": {},
                    "data": {
                        "text/plain": "array([[[1, 3, 5]]])"
                    },
                    "execution_count": null
                }
            ]
        },
        {
            "id": "f229996f",
            "cell_type": "markdown",
            "source": "An example where `b` is a scalar:\n",
            "metadata": {}
        },
        {
            "id": "4d505d33",
            "cell_type": "code",
            "metadata": {},
            "execution_count": null,
            "source": "np.inner(np.eye(2), 7)",
            "outputs": [
                {
                    "output_type": "execute_result",
                    "metadata": {},
                    "data": {
                        "text/plain": "array([[7., 0.],\n       [0., 7.]])"
                    },
                    "execution_count": null
                }
            ]
        }
    ]
}