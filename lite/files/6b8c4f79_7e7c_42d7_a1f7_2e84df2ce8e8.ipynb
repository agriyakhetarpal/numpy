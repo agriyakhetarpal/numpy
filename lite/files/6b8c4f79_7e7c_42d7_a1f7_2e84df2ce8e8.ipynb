{
    "nbformat": 4,
    "nbformat_minor": 5,
    "metadata": {
        "kernelspec": {
            "display_name": "Python",
            "language": "python",
            "name": "python"
        },
        "language_info": {
            "name": "python"
        }
    },
    "cells": [
        {
            "id": "af346846",
            "cell_type": "markdown",
            "source": "<div class='alert alert-warning'>\n\nNumPy's interactive examples are experimental and may not always work as expected, with high load times especially on low-resource platforms, and the version of NumPy might not be in sync with the one you are browsing the documentation for. If you encounter any issues, please report them on the [NumPy issue tracker](https://github.com/numpy/numpy/issues).\n\n</div>",
            "metadata": {}
        },
        {
            "id": "1cfa511d",
            "cell_type": "code",
            "metadata": {},
            "execution_count": null,
            "source": "import numpy as np\nnp.array_equiv([1, 2], [1, 2])",
            "outputs": [
                {
                    "output_type": "execute_result",
                    "metadata": {},
                    "data": {
                        "text/plain": "True"
                    },
                    "execution_count": null
                }
            ]
        },
        {
            "id": "fb8820e3",
            "cell_type": "code",
            "metadata": {},
            "execution_count": null,
            "source": "np.array_equiv([1, 2], [1, 3])",
            "outputs": [
                {
                    "output_type": "execute_result",
                    "metadata": {},
                    "data": {
                        "text/plain": "False"
                    },
                    "execution_count": null
                }
            ]
        },
        {
            "id": "016252f5",
            "cell_type": "markdown",
            "source": "Showing the shape equivalence:\n",
            "metadata": {}
        },
        {
            "id": "6465129b",
            "cell_type": "code",
            "metadata": {},
            "execution_count": null,
            "source": "np.array_equiv([1, 2], [[1, 2], [1, 2]])",
            "outputs": [
                {
                    "output_type": "execute_result",
                    "metadata": {},
                    "data": {
                        "text/plain": "True"
                    },
                    "execution_count": null
                }
            ]
        },
        {
            "id": "daeb480a",
            "cell_type": "code",
            "metadata": {},
            "execution_count": null,
            "source": "np.array_equiv([1, 2], [[1, 2, 1, 2], [1, 2, 1, 2]])",
            "outputs": [
                {
                    "output_type": "execute_result",
                    "metadata": {},
                    "data": {
                        "text/plain": "False"
                    },
                    "execution_count": null
                }
            ]
        },
        {
            "id": "a1a6edbb",
            "cell_type": "code",
            "metadata": {},
            "execution_count": null,
            "source": "np.array_equiv([1, 2], [[1, 2], [1, 3]])",
            "outputs": [
                {
                    "output_type": "execute_result",
                    "metadata": {},
                    "data": {
                        "text/plain": "False"
                    },
                    "execution_count": null
                }
            ]
        }
    ]
}