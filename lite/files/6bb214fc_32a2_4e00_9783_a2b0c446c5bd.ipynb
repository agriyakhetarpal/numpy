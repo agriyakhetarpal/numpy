{
    "nbformat": 4,
    "nbformat_minor": 5,
    "metadata": {
        "kernelspec": {
            "display_name": "Python",
            "language": "python",
            "name": "python"
        },
        "language_info": {
            "name": "python"
        }
    },
    "cells": [
        {
            "id": "ec4c8ad9",
            "cell_type": "markdown",
            "source": "<div class='alert alert-warning'>\n\nNumPy's interactive examples are experimental and may not always work as expected, with high load times especially on low-resource platforms, and the version of NumPy might not be in sync with the one you are browsing the documentation for. If you encounter any issues, please report them on the [NumPy issue tracker](https://github.com/numpy/numpy/issues).\n\n</div>",
            "metadata": {}
        },
        {
            "id": "e9d59429",
            "cell_type": "markdown",
            "source": "Set items 0 and 1 to their negative values:\n",
            "metadata": {}
        },
        {
            "id": "34662fe2",
            "cell_type": "code",
            "metadata": {},
            "execution_count": null,
            "source": "import numpy as np\na = np.array([1, 2, 3, 4])\nnp.negative.at(a, [0, 1])\na",
            "outputs": [
                {
                    "output_type": "execute_result",
                    "metadata": {},
                    "data": {
                        "text/plain": "array([-1, -2,  3,  4])"
                    },
                    "execution_count": null
                }
            ]
        },
        {
            "id": "cf875948",
            "cell_type": "markdown",
            "source": "Increment items 0 and 1, and increment item 2 twice:\n",
            "metadata": {}
        },
        {
            "id": "f701177c",
            "cell_type": "code",
            "metadata": {},
            "execution_count": null,
            "source": "a = np.array([1, 2, 3, 4])\nnp.add.at(a, [0, 1, 2, 2], 1)\na",
            "outputs": [
                {
                    "output_type": "execute_result",
                    "metadata": {},
                    "data": {
                        "text/plain": "array([2, 3, 5, 4])"
                    },
                    "execution_count": null
                }
            ]
        },
        {
            "id": "ada475dd",
            "cell_type": "markdown",
            "source": "Add items 0 and 1 in first array to second array,\nand store results in first array:\n",
            "metadata": {}
        },
        {
            "id": "4ab359c4",
            "cell_type": "code",
            "metadata": {},
            "execution_count": null,
            "source": "a = np.array([1, 2, 3, 4])\nb = np.array([1, 2])\nnp.add.at(a, [0, 1], b)\na",
            "outputs": [
                {
                    "output_type": "execute_result",
                    "metadata": {},
                    "data": {
                        "text/plain": "array([2, 4, 3, 4])"
                    },
                    "execution_count": null
                }
            ]
        }
    ]
}