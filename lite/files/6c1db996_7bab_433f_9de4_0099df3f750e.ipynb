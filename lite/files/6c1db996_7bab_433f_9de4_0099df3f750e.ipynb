{
    "nbformat": 4,
    "nbformat_minor": 5,
    "metadata": {
        "kernelspec": {
            "display_name": "Python",
            "language": "python",
            "name": "python"
        },
        "language_info": {
            "name": "python"
        }
    },
    "cells": [
        {
            "id": "2742038f",
            "cell_type": "markdown",
            "source": "<div class='alert alert-warning'>\n\nNumPy's interactive examples are experimental and may not always work as expected, with high load times especially on low-resource platforms, and the version of NumPy might not be in sync with the one you are browsing the documentation for. If you encounter any issues, please report them on the [NumPy issue tracker](https://github.com/numpy/numpy/issues).\n\n</div>",
            "metadata": {}
        },
        {
            "id": "694f9d84",
            "cell_type": "code",
            "metadata": {},
            "execution_count": null,
            "source": "import numpy as np\nnp.s_[2::2]",
            "outputs": [
                {
                    "output_type": "execute_result",
                    "metadata": {},
                    "data": {
                        "text/plain": "slice(2, None, 2)"
                    },
                    "execution_count": null
                }
            ]
        },
        {
            "id": "4cbc9ff5",
            "cell_type": "code",
            "metadata": {},
            "execution_count": null,
            "source": "np.index_exp[2::2]",
            "outputs": [
                {
                    "output_type": "execute_result",
                    "metadata": {},
                    "data": {
                        "text/plain": "(slice(2, None, 2),)"
                    },
                    "execution_count": null
                }
            ]
        },
        {
            "id": "58cf8e3f",
            "cell_type": "code",
            "metadata": {},
            "execution_count": null,
            "source": "np.array([0, 1, 2, 3, 4])[np.s_[2::2]]",
            "outputs": [
                {
                    "output_type": "execute_result",
                    "metadata": {},
                    "data": {
                        "text/plain": "array([2, 4])"
                    },
                    "execution_count": null
                }
            ]
        }
    ]
}