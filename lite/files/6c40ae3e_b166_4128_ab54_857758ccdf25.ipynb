{
    "nbformat": 4,
    "nbformat_minor": 5,
    "metadata": {
        "kernelspec": {
            "display_name": "Python",
            "language": "python",
            "name": "python"
        },
        "language_info": {
            "name": "python"
        }
    },
    "cells": [
        {
            "id": "26e35eb2",
            "cell_type": "markdown",
            "source": "<div class='alert alert-warning'>\n\nNumPy's interactive examples are experimental and may not always work as expected, with high load times especially on low-resource platforms, and the version of NumPy might not be in sync with the one you are browsing the documentation for. If you encounter any issues, please report them on the [NumPy issue tracker](https://github.com/numpy/numpy/issues).\n\n</div>",
            "metadata": {}
        },
        {
            "id": "64577375",
            "cell_type": "code",
            "metadata": {},
            "execution_count": null,
            "source": "import numpy as np\nnp.zeros(5)",
            "outputs": [
                {
                    "output_type": "execute_result",
                    "metadata": {},
                    "data": {
                        "text/plain": "array([ 0.,  0.,  0.,  0.,  0.])"
                    },
                    "execution_count": null
                }
            ]
        },
        {
            "id": "7addc92d",
            "cell_type": "code",
            "metadata": {},
            "execution_count": null,
            "source": "np.zeros((5,), dtype=int)",
            "outputs": [
                {
                    "output_type": "execute_result",
                    "metadata": {},
                    "data": {
                        "text/plain": "array([0, 0, 0, 0, 0])"
                    },
                    "execution_count": null
                }
            ]
        },
        {
            "id": "869cf5bc",
            "cell_type": "code",
            "metadata": {},
            "execution_count": null,
            "source": "np.zeros((2, 1))",
            "outputs": [
                {
                    "output_type": "execute_result",
                    "metadata": {},
                    "data": {
                        "text/plain": "array([[ 0.],\n       [ 0.]])"
                    },
                    "execution_count": null
                }
            ]
        },
        {
            "id": "35f469ba",
            "cell_type": "code",
            "metadata": {},
            "execution_count": null,
            "source": "s = (2,2)\nnp.zeros(s)",
            "outputs": [
                {
                    "output_type": "execute_result",
                    "metadata": {},
                    "data": {
                        "text/plain": "array([[ 0.,  0.],\n       [ 0.,  0.]])"
                    },
                    "execution_count": null
                }
            ]
        },
        {
            "id": "086dfddb",
            "cell_type": "code",
            "metadata": {},
            "execution_count": null,
            "source": "np.zeros((2,), dtype=[('x', 'i4'), ('y', 'i4')]) # custom dtype",
            "outputs": [
                {
                    "output_type": "execute_result",
                    "metadata": {},
                    "data": {
                        "text/plain": "array([(0, 0), (0, 0)],\n      dtype=[('x', '<i4'), ('y', '<i4')])"
                    },
                    "execution_count": null
                }
            ]
        }
    ]
}