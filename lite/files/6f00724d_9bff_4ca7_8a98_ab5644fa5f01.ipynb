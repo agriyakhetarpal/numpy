{
    "nbformat": 4,
    "nbformat_minor": 5,
    "metadata": {
        "kernelspec": {
            "display_name": "Python",
            "language": "python",
            "name": "python"
        },
        "language_info": {
            "name": "python"
        }
    },
    "cells": [
        {
            "id": "120d54b2",
            "cell_type": "markdown",
            "source": "<div class='alert alert-warning'>\n\nNumPy's interactive examples are experimental and may not always work as expected, with high load times especially on low-resource platforms, and the version of NumPy might not be in sync with the one you are browsing the documentation for. If you encounter any issues, please report them on the [NumPy issue tracker](https://github.com/numpy/numpy/issues).\n\n</div>",
            "metadata": {}
        },
        {
            "id": "c6afc468",
            "cell_type": "code",
            "metadata": {},
            "execution_count": null,
            "source": "import numpy as np",
            "outputs": []
        },
        {
            "id": "d6911fc0",
            "cell_type": "code",
            "metadata": {},
            "execution_count": null,
            "source": "a = np.arange(6.)\nfor x in np.nditer(a, flags=['buffered'], op_dtypes=['float32']):\n    print(x, end=' ')\n",
            "outputs": [
                {
                    "output_type": "execute_result",
                    "metadata": {},
                    "data": {
                        "text/plain": "Traceback (most recent call last):\n  File \"<stdin>\", line 1, in <module>\nTypeError: Iterator operand 0 dtype could not be cast from dtype('float64') to dtype('float32') according to the rule 'safe'"
                    },
                    "execution_count": null
                }
            ]
        },
        {
            "id": "6857e02f",
            "cell_type": "code",
            "metadata": {},
            "execution_count": null,
            "source": "for x in np.nditer(a, flags=['buffered'], op_dtypes=['float32'],\n                casting='same_kind'):\n    print(x, end=' ')\n",
            "outputs": [
                {
                    "output_type": "execute_result",
                    "metadata": {},
                    "data": {
                        "text/plain": "0.0 1.0 2.0 3.0 4.0 5.0"
                    },
                    "execution_count": null
                }
            ]
        },
        {
            "id": "b83cec46",
            "cell_type": "code",
            "metadata": {},
            "execution_count": null,
            "source": "for x in np.nditer(a, flags=['buffered'], op_dtypes=['int32'], casting='same_kind'):\n    print(x, end=' ')\n",
            "outputs": [
                {
                    "output_type": "execute_result",
                    "metadata": {},
                    "data": {
                        "text/plain": "Traceback (most recent call last):\n  File \"<stdin>\", line 1, in <module>\nTypeError: Iterator operand 0 dtype could not be cast from dtype('float64') to dtype('int32') according to the rule 'same_kind'"
                    },
                    "execution_count": null
                }
            ]
        }
    ]
}