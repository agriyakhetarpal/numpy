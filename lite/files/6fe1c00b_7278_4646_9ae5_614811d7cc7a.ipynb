{
    "nbformat": 4,
    "nbformat_minor": 5,
    "metadata": {
        "kernelspec": {
            "display_name": "Python",
            "language": "python",
            "name": "python"
        },
        "language_info": {
            "name": "python"
        }
    },
    "cells": [
        {
            "id": "eb0088a4",
            "cell_type": "markdown",
            "source": "<div class='alert alert-warning'>\n\nNumPy's interactive examples are experimental and may not always work as expected, with high load times especially on low-resource platforms, and the version of NumPy might not be in sync with the one you are browsing the documentation for. If you encounter any issues, please report them on the [NumPy issue tracker](https://github.com/numpy/numpy/issues).\n\n</div>",
            "metadata": {}
        },
        {
            "id": "55eae08c",
            "cell_type": "code",
            "metadata": {},
            "execution_count": null,
            "source": "import numpy as np",
            "outputs": []
        },
        {
            "id": "aa7beab8",
            "cell_type": "code",
            "metadata": {},
            "execution_count": null,
            "source": "from numpy.testing import assert_equal\nwith np.printoptions(precision=2):\n    np.array([2.0]) / 3",
            "outputs": [
                {
                    "output_type": "execute_result",
                    "metadata": {},
                    "data": {
                        "text/plain": "array([0.67])"
                    },
                    "execution_count": null
                }
            ]
        },
        {
            "id": "f71dd8fb",
            "cell_type": "markdown",
            "source": "The `as`-clause of the `with`-statement gives the current print options:\n",
            "metadata": {}
        },
        {
            "id": "63cc0063",
            "cell_type": "code",
            "metadata": {},
            "execution_count": null,
            "source": "with np.printoptions(precision=2) as opts:\n     assert_equal(opts, np.get_printoptions())",
            "outputs": []
        }
    ]
}