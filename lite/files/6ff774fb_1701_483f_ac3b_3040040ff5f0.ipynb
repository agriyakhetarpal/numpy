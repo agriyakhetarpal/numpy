{
    "nbformat": 4,
    "nbformat_minor": 5,
    "metadata": {
        "kernelspec": {
            "display_name": "Python",
            "language": "python",
            "name": "python"
        },
        "language_info": {
            "name": "python"
        }
    },
    "cells": [
        {
            "id": "5d7defc7",
            "cell_type": "markdown",
            "source": "<div class='alert alert-warning'>\n\nNumPy's interactive examples are experimental and may not always work as expected, with high load times especially on low-resource platforms, and the version of NumPy might not be in sync with the one you are browsing the documentation for. If you encounter any issues, please report them on the [NumPy issue tracker](https://github.com/numpy/numpy/issues).\n\n</div>",
            "metadata": {}
        },
        {
            "id": "14561b64",
            "cell_type": "markdown",
            "source": "`default_rng` is the recommended constructor for the random number class\n`Generator`. Here are several ways we can construct a random \nnumber generator using `default_rng` and the `Generator` class. \n\nHere we use `default_rng` to generate a random float:\n",
            "metadata": {}
        },
        {
            "id": "3c2d5955",
            "cell_type": "code",
            "metadata": {},
            "execution_count": null,
            "source": "import numpy as np\nrng = np.random.default_rng(12345)\nprint(rng)",
            "outputs": [
                {
                    "output_type": "execute_result",
                    "metadata": {},
                    "data": {
                        "text/plain": "Generator(PCG64)"
                    },
                    "execution_count": null
                }
            ]
        },
        {
            "id": "79099aef",
            "cell_type": "code",
            "metadata": {},
            "execution_count": null,
            "source": "rfloat = rng.random()\nrfloat",
            "outputs": [
                {
                    "output_type": "execute_result",
                    "metadata": {},
                    "data": {
                        "text/plain": "0.22733602246716966"
                    },
                    "execution_count": null
                }
            ]
        },
        {
            "id": "26441067",
            "cell_type": "code",
            "metadata": {},
            "execution_count": null,
            "source": "type(rfloat)",
            "outputs": [
                {
                    "output_type": "execute_result",
                    "metadata": {},
                    "data": {
                        "text/plain": "<class 'float'>"
                    },
                    "execution_count": null
                }
            ]
        },
        {
            "id": "0e33a2bf",
            "cell_type": "markdown",
            "source": "Here we use `default_rng` to generate 3 random integers between 0 \n(inclusive) and 10 (exclusive):\n",
            "metadata": {}
        },
        {
            "id": "68c08c57",
            "cell_type": "code",
            "metadata": {},
            "execution_count": null,
            "source": "import numpy as np\nrng = np.random.default_rng(12345)\nrints = rng.integers(low=0, high=10, size=3)\nrints",
            "outputs": [
                {
                    "output_type": "execute_result",
                    "metadata": {},
                    "data": {
                        "text/plain": "array([6, 2, 7])"
                    },
                    "execution_count": null
                }
            ]
        },
        {
            "id": "ca0d6939",
            "cell_type": "code",
            "metadata": {},
            "execution_count": null,
            "source": "type(rints[0])",
            "outputs": [
                {
                    "output_type": "execute_result",
                    "metadata": {},
                    "data": {
                        "text/plain": "<class 'numpy.int64'>"
                    },
                    "execution_count": null
                }
            ]
        },
        {
            "id": "c9b470ac",
            "cell_type": "markdown",
            "source": "Here we specify a seed so that we have reproducible results:\n",
            "metadata": {}
        },
        {
            "id": "4bc9ab02",
            "cell_type": "code",
            "metadata": {},
            "execution_count": null,
            "source": "import numpy as np\nrng = np.random.default_rng(seed=42)\nprint(rng)",
            "outputs": [
                {
                    "output_type": "execute_result",
                    "metadata": {},
                    "data": {
                        "text/plain": "Generator(PCG64)"
                    },
                    "execution_count": null
                }
            ]
        },
        {
            "id": "6c40ddf7",
            "cell_type": "code",
            "metadata": {},
            "execution_count": null,
            "source": "arr1 = rng.random((3, 3))\narr1",
            "outputs": [
                {
                    "output_type": "execute_result",
                    "metadata": {},
                    "data": {
                        "text/plain": "array([[0.77395605, 0.43887844, 0.85859792],\n       [0.69736803, 0.09417735, 0.97562235],\n       [0.7611397 , 0.78606431, 0.12811363]])"
                    },
                    "execution_count": null
                }
            ]
        },
        {
            "id": "89edae4f",
            "cell_type": "markdown",
            "source": "If we exit and restart our Python interpreter, we'll see that we\ngenerate the same random numbers again:\n",
            "metadata": {}
        },
        {
            "id": "d247ba80",
            "cell_type": "code",
            "metadata": {},
            "execution_count": null,
            "source": "import numpy as np\nrng = np.random.default_rng(seed=42)\narr2 = rng.random((3, 3))\narr2",
            "outputs": [
                {
                    "output_type": "execute_result",
                    "metadata": {},
                    "data": {
                        "text/plain": "array([[0.77395605, 0.43887844, 0.85859792],\n       [0.69736803, 0.09417735, 0.97562235],\n       [0.7611397 , 0.78606431, 0.12811363]])"
                    },
                    "execution_count": null
                }
            ]
        }
    ]
}