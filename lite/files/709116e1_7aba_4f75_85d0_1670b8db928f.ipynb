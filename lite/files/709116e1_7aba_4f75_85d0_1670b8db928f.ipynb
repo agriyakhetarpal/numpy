{
    "nbformat": 4,
    "nbformat_minor": 5,
    "metadata": {
        "kernelspec": {
            "display_name": "Python",
            "language": "python",
            "name": "python"
        },
        "language_info": {
            "name": "python"
        }
    },
    "cells": [
        {
            "id": "4dedfa39",
            "cell_type": "markdown",
            "source": "<div class='alert alert-warning'>\n\nNumPy's interactive examples are experimental and may not always work as expected, with high load times especially on low-resource platforms, , and the version of NumPy might not be in sync with the one you are browsing the documentation for. If you encounter any issues, please report them on the [NumPy issue tracker](https://github.com/numpy/numpy/issues).\n\n</div>",
            "metadata": {}
        },
        {
            "id": "a5b0a469",
            "cell_type": "code",
            "metadata": {},
            "execution_count": null,
            "source": "import numpy as np\nnp.zeros(5)",
            "outputs": [
                {
                    "output_type": "execute_result",
                    "metadata": {},
                    "data": {
                        "text/plain": "array([ 0.,  0.,  0.,  0.,  0.])"
                    },
                    "execution_count": null
                }
            ]
        },
        {
            "id": "5e826349",
            "cell_type": "code",
            "metadata": {},
            "execution_count": null,
            "source": "np.zeros((5,), dtype=int)",
            "outputs": [
                {
                    "output_type": "execute_result",
                    "metadata": {},
                    "data": {
                        "text/plain": "array([0, 0, 0, 0, 0])"
                    },
                    "execution_count": null
                }
            ]
        },
        {
            "id": "f8c92365",
            "cell_type": "code",
            "metadata": {},
            "execution_count": null,
            "source": "np.zeros((2, 1))",
            "outputs": [
                {
                    "output_type": "execute_result",
                    "metadata": {},
                    "data": {
                        "text/plain": "array([[ 0.],\n       [ 0.]])"
                    },
                    "execution_count": null
                }
            ]
        },
        {
            "id": "d6133e0c",
            "cell_type": "code",
            "metadata": {},
            "execution_count": null,
            "source": "s = (2,2)\nnp.zeros(s)",
            "outputs": [
                {
                    "output_type": "execute_result",
                    "metadata": {},
                    "data": {
                        "text/plain": "array([[ 0.,  0.],\n       [ 0.,  0.]])"
                    },
                    "execution_count": null
                }
            ]
        },
        {
            "id": "1d4d8942",
            "cell_type": "code",
            "metadata": {},
            "execution_count": null,
            "source": "np.zeros((2,), dtype=[('x', 'i4'), ('y', 'i4')]) # custom dtype",
            "outputs": [
                {
                    "output_type": "execute_result",
                    "metadata": {},
                    "data": {
                        "text/plain": "array([(0, 0), (0, 0)],\n      dtype=[('x', '<i4'), ('y', '<i4')])"
                    },
                    "execution_count": null
                }
            ]
        }
    ]
}