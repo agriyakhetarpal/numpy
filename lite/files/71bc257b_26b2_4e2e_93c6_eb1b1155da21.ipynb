{
    "nbformat": 4,
    "nbformat_minor": 5,
    "metadata": {
        "kernelspec": {
            "display_name": "Python",
            "language": "python",
            "name": "python"
        },
        "language_info": {
            "name": "python"
        }
    },
    "cells": [
        {
            "id": "1fbea705",
            "cell_type": "markdown",
            "source": "<div class='alert alert-warning'>\n\nNumPy's interactive examples are experimental and may not always work as expected, with high load times especially on low-resource platforms, and the version of NumPy might not be in sync with the one you are browsing the documentation for. If you encounter any issues, please report them on the [NumPy issue tracker](https://github.com/numpy/numpy/issues).\n\n</div>",
            "metadata": {}
        },
        {
            "id": "1da2d3d4",
            "cell_type": "code",
            "metadata": {},
            "execution_count": null,
            "source": "x = -np.matrix(np.arange(12).reshape((3,4))); x",
            "outputs": [
                {
                    "output_type": "execute_result",
                    "metadata": {},
                    "data": {
                        "text/plain": "matrix([[  0,  -1,  -2,  -3],\n        [ -4,  -5,  -6,  -7],\n        [ -8,  -9, -10, -11]])"
                    },
                    "execution_count": null
                }
            ]
        },
        {
            "id": "d5f2dfdc",
            "cell_type": "code",
            "metadata": {},
            "execution_count": null,
            "source": "x.argmin()",
            "outputs": [
                {
                    "output_type": "execute_result",
                    "metadata": {},
                    "data": {
                        "text/plain": "11"
                    },
                    "execution_count": null
                }
            ]
        },
        {
            "id": "c664f8cb",
            "cell_type": "code",
            "metadata": {},
            "execution_count": null,
            "source": "x.argmin(0)",
            "outputs": [
                {
                    "output_type": "execute_result",
                    "metadata": {},
                    "data": {
                        "text/plain": "matrix([[2, 2, 2, 2]])"
                    },
                    "execution_count": null
                }
            ]
        },
        {
            "id": "faa6a7e7",
            "cell_type": "code",
            "metadata": {},
            "execution_count": null,
            "source": "x.argmin(1)",
            "outputs": [
                {
                    "output_type": "execute_result",
                    "metadata": {},
                    "data": {
                        "text/plain": "matrix([[3],\n        [3],\n        [3]])"
                    },
                    "execution_count": null
                }
            ]
        }
    ]
}