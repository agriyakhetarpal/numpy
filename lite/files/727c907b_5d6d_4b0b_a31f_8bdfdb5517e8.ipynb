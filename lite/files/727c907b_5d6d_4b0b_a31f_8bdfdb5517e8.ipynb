{
    "nbformat": 4,
    "nbformat_minor": 5,
    "metadata": {
        "kernelspec": {
            "display_name": "Python",
            "language": "python",
            "name": "python"
        },
        "language_info": {
            "name": "python"
        }
    },
    "cells": [
        {
            "id": "e6d54aa2",
            "cell_type": "markdown",
            "source": "<div class='alert alert-warning'>\n\nNumPy's interactive examples are experimental and may not always work as expected, with high load times especially on low-resource platforms, and the version of NumPy might not be in sync with the one you are browsing the documentation for. If you encounter any issues, please report them on the [NumPy issue tracker](https://github.com/numpy/numpy/issues).\n\n</div>",
            "metadata": {}
        },
        {
            "id": "f683ac4a",
            "cell_type": "code",
            "metadata": {},
            "execution_count": null,
            "source": "np.char.isspace(list(\"a b c\"))",
            "outputs": [
                {
                    "output_type": "execute_result",
                    "metadata": {},
                    "data": {
                        "text/plain": "array([False,  True, False,  True, False])"
                    },
                    "execution_count": null
                }
            ]
        },
        {
            "id": "9d302e3e",
            "cell_type": "code",
            "metadata": {},
            "execution_count": null,
            "source": "np.char.isspace(b'\\x0a \\x0b \\x0c')",
            "outputs": [
                {
                    "output_type": "execute_result",
                    "metadata": {},
                    "data": {
                        "text/plain": "np.True_"
                    },
                    "execution_count": null
                }
            ]
        },
        {
            "id": "92fce005",
            "cell_type": "code",
            "metadata": {},
            "execution_count": null,
            "source": "np.char.isspace(b'\\x0a \\x0b \\x0c N')",
            "outputs": [
                {
                    "output_type": "execute_result",
                    "metadata": {},
                    "data": {
                        "text/plain": "np.False_"
                    },
                    "execution_count": null
                }
            ]
        }
    ]
}