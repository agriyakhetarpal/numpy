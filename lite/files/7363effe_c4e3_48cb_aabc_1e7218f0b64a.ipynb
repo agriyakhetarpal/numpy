{
    "nbformat": 4,
    "nbformat_minor": 5,
    "metadata": {
        "kernelspec": {
            "display_name": "Python",
            "language": "python",
            "name": "python"
        },
        "language_info": {
            "name": "python"
        }
    },
    "cells": [
        {
            "id": "30fdf1da",
            "cell_type": "markdown",
            "source": "<div class='alert alert-warning'>\n\nNumPy's interactive examples are experimental and may not always work as expected, with high load times especially on low-resource platforms, , and the version of NumPy might not be in sync with the one you are browsing the documentation for. If you encounter any issues, please report them on the [NumPy issue tracker](https://github.com/numpy/numpy/issues).\n\n</div>",
            "metadata": {}
        },
        {
            "id": "086a14f7",
            "cell_type": "markdown",
            "source": "1-D array examples:\n",
            "metadata": {}
        },
        {
            "id": "48015f75",
            "cell_type": "code",
            "metadata": {},
            "execution_count": null,
            "source": "import numpy as np\nnp.add.accumulate([2, 3, 5])",
            "outputs": [
                {
                    "output_type": "execute_result",
                    "metadata": {},
                    "data": {
                        "text/plain": "array([ 2,  5, 10])"
                    },
                    "execution_count": null
                }
            ]
        },
        {
            "id": "8d451951",
            "cell_type": "code",
            "metadata": {},
            "execution_count": null,
            "source": "np.multiply.accumulate([2, 3, 5])",
            "outputs": [
                {
                    "output_type": "execute_result",
                    "metadata": {},
                    "data": {
                        "text/plain": "array([ 2,  6, 30])"
                    },
                    "execution_count": null
                }
            ]
        },
        {
            "id": "408ea669",
            "cell_type": "markdown",
            "source": "2-D array examples:\n",
            "metadata": {}
        },
        {
            "id": "db060e33",
            "cell_type": "code",
            "metadata": {},
            "execution_count": null,
            "source": "I = np.eye(2)\nI",
            "outputs": [
                {
                    "output_type": "execute_result",
                    "metadata": {},
                    "data": {
                        "text/plain": "array([[1.,  0.],\n       [0.,  1.]])"
                    },
                    "execution_count": null
                }
            ]
        },
        {
            "id": "1c1ade33",
            "cell_type": "markdown",
            "source": "Accumulate along axis 0 (rows), down columns:\n",
            "metadata": {}
        },
        {
            "id": "450fe922",
            "cell_type": "code",
            "metadata": {},
            "execution_count": null,
            "source": "np.add.accumulate(I, 0)",
            "outputs": [
                {
                    "output_type": "execute_result",
                    "metadata": {},
                    "data": {
                        "text/plain": "array([[1.,  0.],\n       [1.,  1.]])"
                    },
                    "execution_count": null
                }
            ]
        },
        {
            "id": "08bb7055",
            "cell_type": "code",
            "metadata": {},
            "execution_count": null,
            "source": "np.add.accumulate(I) # no axis specified = axis zero",
            "outputs": [
                {
                    "output_type": "execute_result",
                    "metadata": {},
                    "data": {
                        "text/plain": "array([[1.,  0.],\n       [1.,  1.]])"
                    },
                    "execution_count": null
                }
            ]
        },
        {
            "id": "bafeb579",
            "cell_type": "markdown",
            "source": "Accumulate along axis 1 (columns), through rows:\n",
            "metadata": {}
        },
        {
            "id": "2c461313",
            "cell_type": "code",
            "metadata": {},
            "execution_count": null,
            "source": "np.add.accumulate(I, 1)",
            "outputs": [
                {
                    "output_type": "execute_result",
                    "metadata": {},
                    "data": {
                        "text/plain": "array([[1.,  1.],\n       [0.,  1.]])"
                    },
                    "execution_count": null
                }
            ]
        }
    ]
}