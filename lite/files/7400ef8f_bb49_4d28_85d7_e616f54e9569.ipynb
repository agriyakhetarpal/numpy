{
    "nbformat": 4,
    "nbformat_minor": 5,
    "metadata": {
        "kernelspec": {
            "display_name": "Python",
            "language": "python",
            "name": "python"
        },
        "language_info": {
            "name": "python"
        }
    },
    "cells": [
        {
            "id": "ea3f0c60",
            "cell_type": "markdown",
            "source": "<div class='alert alert-warning'>\n\nNumPy's interactive examples are experimental and may not always work as expected, with high load times especially on low-resource platforms, and the version of NumPy might not be in sync with the one you are browsing the documentation for. If you encounter any issues, please report them on the [NumPy issue tracker](https://github.com/numpy/numpy/issues).\n\n</div>",
            "metadata": {}
        },
        {
            "id": "ffa2c408",
            "cell_type": "code",
            "metadata": {},
            "execution_count": null,
            "source": "import numpy as np",
            "outputs": []
        },
        {
            "id": "28adeb85",
            "cell_type": "markdown",
            "source": "We've seen that 13 is represented by ``00001101``.\nThe invert or bit-wise NOT of 13 is then:\n",
            "metadata": {}
        },
        {
            "id": "132938dd",
            "cell_type": "code",
            "metadata": {},
            "execution_count": null,
            "source": "x = np.invert(np.array(13, dtype=np.uint8))\nx",
            "outputs": [
                {
                    "output_type": "execute_result",
                    "metadata": {},
                    "data": {
                        "text/plain": "np.uint8(242)"
                    },
                    "execution_count": null
                }
            ]
        },
        {
            "id": "29a54caa",
            "cell_type": "code",
            "metadata": {},
            "execution_count": null,
            "source": "np.binary_repr(x, width=8)",
            "outputs": [
                {
                    "output_type": "execute_result",
                    "metadata": {},
                    "data": {
                        "text/plain": "'11110010'"
                    },
                    "execution_count": null
                }
            ]
        },
        {
            "id": "8aed5c41",
            "cell_type": "markdown",
            "source": "The result depends on the bit-width:\n",
            "metadata": {}
        },
        {
            "id": "1651fd7c",
            "cell_type": "code",
            "metadata": {},
            "execution_count": null,
            "source": "x = np.invert(np.array(13, dtype=np.uint16))\nx",
            "outputs": [
                {
                    "output_type": "execute_result",
                    "metadata": {},
                    "data": {
                        "text/plain": "np.uint16(65522)"
                    },
                    "execution_count": null
                }
            ]
        },
        {
            "id": "1b4f5cee",
            "cell_type": "code",
            "metadata": {},
            "execution_count": null,
            "source": "np.binary_repr(x, width=16)",
            "outputs": [
                {
                    "output_type": "execute_result",
                    "metadata": {},
                    "data": {
                        "text/plain": "'1111111111110010'"
                    },
                    "execution_count": null
                }
            ]
        },
        {
            "id": "699c3ca8",
            "cell_type": "markdown",
            "source": "When using signed integer types, the result is the bit-wise NOT of\nthe unsigned type, interpreted as a signed integer:\n",
            "metadata": {}
        },
        {
            "id": "53f1c2e3",
            "cell_type": "code",
            "metadata": {},
            "execution_count": null,
            "source": "np.invert(np.array([13], dtype=np.int8))",
            "outputs": [
                {
                    "output_type": "execute_result",
                    "metadata": {},
                    "data": {
                        "text/plain": "array([-14], dtype=int8)"
                    },
                    "execution_count": null
                }
            ]
        },
        {
            "id": "f9637d81",
            "cell_type": "code",
            "metadata": {},
            "execution_count": null,
            "source": "np.binary_repr(-14, width=8)",
            "outputs": [
                {
                    "output_type": "execute_result",
                    "metadata": {},
                    "data": {
                        "text/plain": "'11110010'"
                    },
                    "execution_count": null
                }
            ]
        },
        {
            "id": "97aed4f0",
            "cell_type": "markdown",
            "source": "Booleans are accepted as well:\n",
            "metadata": {}
        },
        {
            "id": "e1167792",
            "cell_type": "code",
            "metadata": {},
            "execution_count": null,
            "source": "np.invert(np.array([True, False]))",
            "outputs": [
                {
                    "output_type": "execute_result",
                    "metadata": {},
                    "data": {
                        "text/plain": "array([False,  True])"
                    },
                    "execution_count": null
                }
            ]
        },
        {
            "id": "ccf47238",
            "cell_type": "markdown",
            "source": "The ``~`` operator can be used as a shorthand for ``np.invert`` on\nndarrays.\n",
            "metadata": {}
        },
        {
            "id": "95d51994",
            "cell_type": "code",
            "metadata": {},
            "execution_count": null,
            "source": "x1 = np.array([True, False])\n~x1",
            "outputs": [
                {
                    "output_type": "execute_result",
                    "metadata": {},
                    "data": {
                        "text/plain": "array([False,  True])"
                    },
                    "execution_count": null
                }
            ]
        }
    ]
}