{
    "nbformat": 4,
    "nbformat_minor": 5,
    "metadata": {
        "kernelspec": {
            "display_name": "Python",
            "language": "python",
            "name": "python"
        },
        "language_info": {
            "name": "python"
        }
    },
    "cells": [
        {
            "id": "0efe1bec",
            "cell_type": "markdown",
            "source": "<div class='alert alert-warning'>\n\nNumPy's interactive examples are experimental and may not always work as expected, with high load times especially on low-resource platforms, , and the version of NumPy might not be in sync with the one you are browsing the documentation for. If you encounter any issues, please report them on the [NumPy issue tracker](https://github.com/numpy/numpy/issues).\n\n</div>",
            "metadata": {}
        },
        {
            "id": "8542b734",
            "cell_type": "markdown",
            "source": "Manually adding two vectors, using broadcasting:\n",
            "metadata": {}
        },
        {
            "id": "6f1c9bb5",
            "cell_type": "code",
            "metadata": {},
            "execution_count": null,
            "source": "import numpy as np\nx = np.array([[1], [2], [3]])\ny = np.array([4, 5, 6])\nb = np.broadcast(x, y)",
            "outputs": []
        },
        {
            "id": "2d2c2f35",
            "cell_type": "code",
            "metadata": {},
            "execution_count": null,
            "source": "out = np.empty(b.shape)\nout.flat = [u+v for (u,v) in b]\nout",
            "outputs": [
                {
                    "output_type": "execute_result",
                    "metadata": {},
                    "data": {
                        "text/plain": "array([[5.,  6.,  7.],\n       [6.,  7.,  8.],\n       [7.,  8.,  9.]])"
                    },
                    "execution_count": null
                }
            ]
        },
        {
            "id": "ae1fd83c",
            "cell_type": "markdown",
            "source": "Compare against built-in broadcasting:\n",
            "metadata": {}
        },
        {
            "id": "ca53282f",
            "cell_type": "code",
            "metadata": {},
            "execution_count": null,
            "source": "x + y",
            "outputs": [
                {
                    "output_type": "execute_result",
                    "metadata": {},
                    "data": {
                        "text/plain": "array([[5, 6, 7],\n       [6, 7, 8],\n       [7, 8, 9]])"
                    },
                    "execution_count": null
                }
            ]
        }
    ]
}