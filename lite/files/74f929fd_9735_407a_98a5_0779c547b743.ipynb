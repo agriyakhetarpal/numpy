{
    "nbformat": 4,
    "nbformat_minor": 5,
    "metadata": {
        "kernelspec": {
            "display_name": "Python",
            "language": "python",
            "name": "python"
        },
        "language_info": {
            "name": "python"
        }
    },
    "cells": [
        {
            "id": "d381fbdb",
            "cell_type": "markdown",
            "source": "<div class='alert alert-warning'>\n\nNumPy's interactive examples are experimental and may not always work as expected, with high load times especially on low-resource platforms, and the version of NumPy might not be in sync with the one you are browsing the documentation for. If you encounter any issues, please report them on the [NumPy issue tracker](https://github.com/numpy/numpy/issues).\n\n</div>",
            "metadata": {}
        },
        {
            "id": "8c09277e",
            "cell_type": "code",
            "metadata": {},
            "execution_count": null,
            "source": "import numpy as np\nnp.sum([0.5, 1.5])",
            "outputs": [
                {
                    "output_type": "execute_result",
                    "metadata": {},
                    "data": {
                        "text/plain": "2.0"
                    },
                    "execution_count": null
                }
            ]
        },
        {
            "id": "02f27aa2",
            "cell_type": "code",
            "metadata": {},
            "execution_count": null,
            "source": "np.sum([0.5, 0.7, 0.2, 1.5], dtype=np.int32)",
            "outputs": [
                {
                    "output_type": "execute_result",
                    "metadata": {},
                    "data": {
                        "text/plain": "np.int32(1)"
                    },
                    "execution_count": null
                }
            ]
        },
        {
            "id": "65b11e42",
            "cell_type": "code",
            "metadata": {},
            "execution_count": null,
            "source": "np.sum([[0, 1], [0, 5]])",
            "outputs": [
                {
                    "output_type": "execute_result",
                    "metadata": {},
                    "data": {
                        "text/plain": "6"
                    },
                    "execution_count": null
                }
            ]
        },
        {
            "id": "30bbebe7",
            "cell_type": "code",
            "metadata": {},
            "execution_count": null,
            "source": "np.sum([[0, 1], [0, 5]], axis=0)",
            "outputs": [
                {
                    "output_type": "execute_result",
                    "metadata": {},
                    "data": {
                        "text/plain": "array([0, 6])"
                    },
                    "execution_count": null
                }
            ]
        },
        {
            "id": "05e2546d",
            "cell_type": "code",
            "metadata": {},
            "execution_count": null,
            "source": "np.sum([[0, 1], [0, 5]], axis=1)",
            "outputs": [
                {
                    "output_type": "execute_result",
                    "metadata": {},
                    "data": {
                        "text/plain": "array([1, 5])"
                    },
                    "execution_count": null
                }
            ]
        },
        {
            "id": "64a386c2",
            "cell_type": "code",
            "metadata": {},
            "execution_count": null,
            "source": "np.sum([[0, 1], [np.nan, 5]], where=[False, True], axis=1)",
            "outputs": [
                {
                    "output_type": "execute_result",
                    "metadata": {},
                    "data": {
                        "text/plain": "array([1., 5.])"
                    },
                    "execution_count": null
                }
            ]
        },
        {
            "id": "425318a2",
            "cell_type": "markdown",
            "source": "If the accumulator is too small, overflow occurs:\n",
            "metadata": {}
        },
        {
            "id": "d0546afc",
            "cell_type": "code",
            "metadata": {},
            "execution_count": null,
            "source": "np.ones(128, dtype=np.int8).sum(dtype=np.int8)",
            "outputs": [
                {
                    "output_type": "execute_result",
                    "metadata": {},
                    "data": {
                        "text/plain": "np.int8(-128)"
                    },
                    "execution_count": null
                }
            ]
        },
        {
            "id": "6ddf2ddf",
            "cell_type": "markdown",
            "source": "You can also start the sum with a value other than zero:\n",
            "metadata": {}
        },
        {
            "id": "a56b00ca",
            "cell_type": "code",
            "metadata": {},
            "execution_count": null,
            "source": "np.sum([10], initial=5)",
            "outputs": [
                {
                    "output_type": "execute_result",
                    "metadata": {},
                    "data": {
                        "text/plain": "15"
                    },
                    "execution_count": null
                }
            ]
        }
    ]
}