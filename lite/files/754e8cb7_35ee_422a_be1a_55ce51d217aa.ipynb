{
    "nbformat": 4,
    "nbformat_minor": 5,
    "metadata": {
        "kernelspec": {
            "display_name": "Python",
            "language": "python",
            "name": "python"
        },
        "language_info": {
            "name": "python"
        }
    },
    "cells": [
        {
            "id": "ecd25450",
            "cell_type": "markdown",
            "source": "<div class='alert alert-warning'>\n\nNumPy's interactive examples are experimental and may not always work as expected, with high load times especially on low-resource platforms, , and the version of NumPy might not be in sync with the one you are browsing the documentation for. If you encounter any issues, please report them on the [NumPy issue tracker](https://github.com/numpy/numpy/issues).\n\n</div>",
            "metadata": {}
        },
        {
            "id": "35a90485",
            "cell_type": "code",
            "metadata": {},
            "execution_count": null,
            "source": "from numpy.polynomial import chebyshev as C\nc1 = (1,2,3)\nc2 = (3,2,1)\nC.chebsub(c1,c2)",
            "outputs": [
                {
                    "output_type": "execute_result",
                    "metadata": {},
                    "data": {
                        "text/plain": "array([-2.,  0.,  2.])"
                    },
                    "execution_count": null
                }
            ]
        },
        {
            "id": "6c361c03",
            "cell_type": "code",
            "metadata": {},
            "execution_count": null,
            "source": "C.chebsub(c2,c1) # -C.chebsub(c1,c2)",
            "outputs": [
                {
                    "output_type": "execute_result",
                    "metadata": {},
                    "data": {
                        "text/plain": "array([ 2.,  0., -2.])"
                    },
                    "execution_count": null
                }
            ]
        }
    ]
}