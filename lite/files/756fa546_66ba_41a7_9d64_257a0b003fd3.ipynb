{
    "nbformat": 4,
    "nbformat_minor": 5,
    "metadata": {
        "kernelspec": {
            "display_name": "Python",
            "language": "python",
            "name": "python"
        },
        "language_info": {
            "name": "python"
        }
    },
    "cells": [
        {
            "id": "becee754",
            "cell_type": "markdown",
            "source": "<div class='alert alert-warning'>\n\nNumPy's interactive examples are experimental and may not always work as expected, with high load times especially on low-resource platforms, and the version of NumPy might not be in sync with the one you are browsing the documentation for. If you encounter any issues, please report them on the [NumPy issue tracker](https://github.com/numpy/numpy/issues).\n\n</div>",
            "metadata": {}
        },
        {
            "id": "a75210ae",
            "cell_type": "code",
            "metadata": {},
            "execution_count": null,
            "source": "from numpy import linalg as LA\na = np.arange(9) + 1\na",
            "outputs": [
                {
                    "output_type": "execute_result",
                    "metadata": {},
                    "data": {
                        "text/plain": "array([1, 2, 3, 4, 5, 6, 7, 8, 9])"
                    },
                    "execution_count": null
                }
            ]
        },
        {
            "id": "11bdd5ff",
            "cell_type": "code",
            "metadata": {},
            "execution_count": null,
            "source": "b = a.reshape((3, 3))\nb",
            "outputs": [
                {
                    "output_type": "execute_result",
                    "metadata": {},
                    "data": {
                        "text/plain": "array([[1, 2, 3],\n       [4, 5, 6],\n       [7, 8, 9]])"
                    },
                    "execution_count": null
                }
            ]
        },
        {
            "id": "d6ad6a57",
            "cell_type": "code",
            "metadata": {},
            "execution_count": null,
            "source": "LA.vector_norm(b)",
            "outputs": [
                {
                    "output_type": "execute_result",
                    "metadata": {},
                    "data": {
                        "text/plain": "16.881943016134134"
                    },
                    "execution_count": null
                }
            ]
        },
        {
            "id": "6d0f5a78",
            "cell_type": "code",
            "metadata": {},
            "execution_count": null,
            "source": "LA.vector_norm(b, ord=np.inf)",
            "outputs": [
                {
                    "output_type": "execute_result",
                    "metadata": {},
                    "data": {
                        "text/plain": "9.0"
                    },
                    "execution_count": null
                }
            ]
        },
        {
            "id": "ac9a408c",
            "cell_type": "code",
            "metadata": {},
            "execution_count": null,
            "source": "LA.vector_norm(b, ord=-np.inf)",
            "outputs": [
                {
                    "output_type": "execute_result",
                    "metadata": {},
                    "data": {
                        "text/plain": "1.0"
                    },
                    "execution_count": null
                }
            ]
        },
        {
            "id": "4857b0d9",
            "cell_type": "code",
            "metadata": {},
            "execution_count": null,
            "source": "LA.vector_norm(b, ord=0)",
            "outputs": [
                {
                    "output_type": "execute_result",
                    "metadata": {},
                    "data": {
                        "text/plain": "9.0"
                    },
                    "execution_count": null
                }
            ]
        },
        {
            "id": "a5c74597",
            "cell_type": "code",
            "metadata": {},
            "execution_count": null,
            "source": "LA.vector_norm(b, ord=1)",
            "outputs": [
                {
                    "output_type": "execute_result",
                    "metadata": {},
                    "data": {
                        "text/plain": "45.0"
                    },
                    "execution_count": null
                }
            ]
        },
        {
            "id": "0203eacc",
            "cell_type": "code",
            "metadata": {},
            "execution_count": null,
            "source": "LA.vector_norm(b, ord=-1)",
            "outputs": [
                {
                    "output_type": "execute_result",
                    "metadata": {},
                    "data": {
                        "text/plain": "0.3534857623790153"
                    },
                    "execution_count": null
                }
            ]
        },
        {
            "id": "265561e9",
            "cell_type": "code",
            "metadata": {},
            "execution_count": null,
            "source": "LA.vector_norm(b, ord=2)",
            "outputs": [
                {
                    "output_type": "execute_result",
                    "metadata": {},
                    "data": {
                        "text/plain": "16.881943016134134"
                    },
                    "execution_count": null
                }
            ]
        },
        {
            "id": "0f631c8b",
            "cell_type": "code",
            "metadata": {},
            "execution_count": null,
            "source": "LA.vector_norm(b, ord=-2)",
            "outputs": [
                {
                    "output_type": "execute_result",
                    "metadata": {},
                    "data": {
                        "text/plain": "0.8058837395885292"
                    },
                    "execution_count": null
                }
            ]
        }
    ]
}