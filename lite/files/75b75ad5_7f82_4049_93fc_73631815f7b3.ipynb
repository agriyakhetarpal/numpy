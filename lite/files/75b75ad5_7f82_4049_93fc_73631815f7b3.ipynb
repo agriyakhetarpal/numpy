{
    "nbformat": 4,
    "nbformat_minor": 5,
    "metadata": {
        "kernelspec": {
            "display_name": "Python",
            "language": "python",
            "name": "python"
        },
        "language_info": {
            "name": "python"
        }
    },
    "cells": [
        {
            "id": "a3cec428",
            "cell_type": "markdown",
            "source": "<div class='alert alert-warning'>\n\nNumPy's interactive examples are experimental and may not always work as expected, with high load times especially on low-resource platforms, and the version of NumPy might not be in sync with the one you are browsing the documentation for. If you encounter any issues, please report them on the [NumPy issue tracker](https://github.com/numpy/numpy/issues).\n\n</div>",
            "metadata": {}
        },
        {
            "id": "2e911288",
            "cell_type": "markdown",
            "source": "Reshaping a 1-D array:\n",
            "metadata": {}
        },
        {
            "id": "de995880",
            "cell_type": "code",
            "metadata": {},
            "execution_count": null,
            "source": "a = np.ma.array([1, 2, 3, 4])\nnp.ma.reshape(a, (2, 2))",
            "outputs": [
                {
                    "output_type": "execute_result",
                    "metadata": {},
                    "data": {
                        "text/plain": "masked_array(\n  data=[[1, 2],\n        [3, 4]],\n  mask=False,\n  fill_value=999999)"
                    },
                    "execution_count": null
                }
            ]
        },
        {
            "id": "5fe15d6d",
            "cell_type": "markdown",
            "source": "Reshaping a 2-D array:\n",
            "metadata": {}
        },
        {
            "id": "79965bdf",
            "cell_type": "code",
            "metadata": {},
            "execution_count": null,
            "source": "b = np.ma.array([[1, 2], [3, 4]])\nnp.ma.reshape(b, (1, 4))",
            "outputs": [
                {
                    "output_type": "execute_result",
                    "metadata": {},
                    "data": {
                        "text/plain": "masked_array(data=[[1, 2, 3, 4]],\n             mask=False,\n       fill_value=999999)"
                    },
                    "execution_count": null
                }
            ]
        },
        {
            "id": "728297a5",
            "cell_type": "markdown",
            "source": "Reshaping a 1-D array with a mask:\n",
            "metadata": {}
        },
        {
            "id": "869d073e",
            "cell_type": "code",
            "metadata": {},
            "execution_count": null,
            "source": "c = np.ma.array([1, 2, 3, 4], mask=[False, True, False, False])\nnp.ma.reshape(c, (2, 2))",
            "outputs": [
                {
                    "output_type": "execute_result",
                    "metadata": {},
                    "data": {
                        "text/plain": "masked_array(\n  data=[[1, --],\n        [3, 4]],\n  mask=[[False,  True],\n        [False, False]],\n  fill_value=999999)"
                    },
                    "execution_count": null
                }
            ]
        }
    ]
}