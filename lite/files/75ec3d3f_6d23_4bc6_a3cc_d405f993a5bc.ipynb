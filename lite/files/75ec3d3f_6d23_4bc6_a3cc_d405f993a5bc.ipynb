{
    "nbformat": 4,
    "nbformat_minor": 5,
    "metadata": {
        "kernelspec": {
            "display_name": "Python",
            "language": "python",
            "name": "python"
        },
        "language_info": {
            "name": "python"
        }
    },
    "cells": [
        {
            "id": "47d5a21d",
            "cell_type": "markdown",
            "source": "<div class='alert alert-warning'>\n\nNumPy's interactive examples are experimental and may not always work as expected, with high load times especially on low-resource platforms, and the version of NumPy might not be in sync with the one you are browsing the documentation for. If you encounter any issues, please report them on the [NumPy issue tracker](https://github.com/numpy/numpy/issues).\n\n</div>",
            "metadata": {}
        },
        {
            "id": "7eb60eec",
            "cell_type": "code",
            "metadata": {},
            "execution_count": null,
            "source": "import numpy as np\nx = np.array([[4, 9, 2, 10],\n              [6, 9, 7, 12]])",
            "outputs": []
        },
        {
            "id": "b8cae109",
            "cell_type": "code",
            "metadata": {},
            "execution_count": null,
            "source": "np.ptp(x, axis=1)",
            "outputs": [
                {
                    "output_type": "execute_result",
                    "metadata": {},
                    "data": {
                        "text/plain": "array([8, 6])"
                    },
                    "execution_count": null
                }
            ]
        },
        {
            "id": "c824a3ea",
            "cell_type": "code",
            "metadata": {},
            "execution_count": null,
            "source": "np.ptp(x, axis=0)",
            "outputs": [
                {
                    "output_type": "execute_result",
                    "metadata": {},
                    "data": {
                        "text/plain": "array([2, 0, 5, 2])"
                    },
                    "execution_count": null
                }
            ]
        },
        {
            "id": "b71eb763",
            "cell_type": "code",
            "metadata": {},
            "execution_count": null,
            "source": "np.ptp(x)",
            "outputs": [
                {
                    "output_type": "execute_result",
                    "metadata": {},
                    "data": {
                        "text/plain": "10"
                    },
                    "execution_count": null
                }
            ]
        },
        {
            "id": "a5bd1649",
            "cell_type": "markdown",
            "source": "This example shows that a negative value can be returned when\nthe input is an array of signed integers.\n",
            "metadata": {}
        },
        {
            "id": "fdfe62e7",
            "cell_type": "code",
            "metadata": {},
            "execution_count": null,
            "source": "y = np.array([[1, 127],\n              [0, 127],\n              [-1, 127],\n              [-2, 127]], dtype=np.int8)\nnp.ptp(y, axis=1)",
            "outputs": [
                {
                    "output_type": "execute_result",
                    "metadata": {},
                    "data": {
                        "text/plain": "array([ 126,  127, -128, -127], dtype=int8)"
                    },
                    "execution_count": null
                }
            ]
        },
        {
            "id": "288e6301",
            "cell_type": "markdown",
            "source": "A work-around is to use the `view()` method to view the result as\nunsigned integers with the same bit width:\n",
            "metadata": {}
        },
        {
            "id": "563c0538",
            "cell_type": "code",
            "metadata": {},
            "execution_count": null,
            "source": "np.ptp(y, axis=1).view(np.uint8)",
            "outputs": [
                {
                    "output_type": "execute_result",
                    "metadata": {},
                    "data": {
                        "text/plain": "array([126, 127, 128, 129], dtype=uint8)"
                    },
                    "execution_count": null
                }
            ]
        }
    ]
}