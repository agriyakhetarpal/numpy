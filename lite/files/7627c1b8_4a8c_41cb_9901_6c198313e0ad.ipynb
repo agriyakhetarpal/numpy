{
    "nbformat": 4,
    "nbformat_minor": 5,
    "metadata": {
        "kernelspec": {
            "display_name": "Python",
            "language": "python",
            "name": "python"
        },
        "language_info": {
            "name": "python"
        }
    },
    "cells": [
        {
            "id": "b6f504af",
            "cell_type": "markdown",
            "source": "<div class='alert alert-warning'>\n\nNumPy's interactive examples are experimental and may not always work as expected, with high load times especially on low-resource platforms, and the version of NumPy might not be in sync with the one you are browsing the documentation for. If you encounter any issues, please report them on the [NumPy issue tracker](https://github.com/numpy/numpy/issues).\n\n</div>",
            "metadata": {}
        },
        {
            "id": "77aca399",
            "cell_type": "code",
            "metadata": {},
            "execution_count": null,
            "source": "import numpy as np\nc = np.array(['a1b c', '1bca', 'bca1']); c",
            "outputs": [
                {
                    "output_type": "execute_result",
                    "metadata": {},
                    "data": {
                        "text/plain": "array(['a1b c', '1bca', 'bca1'], dtype='<U5')"
                    },
                    "execution_count": null
                }
            ]
        },
        {
            "id": "51c7fcae",
            "cell_type": "code",
            "metadata": {},
            "execution_count": null,
            "source": "np.strings.upper(c)",
            "outputs": [
                {
                    "output_type": "execute_result",
                    "metadata": {},
                    "data": {
                        "text/plain": "array(['A1B C', '1BCA', 'BCA1'], dtype='<U5')"
                    },
                    "execution_count": null
                }
            ]
        }
    ]
}