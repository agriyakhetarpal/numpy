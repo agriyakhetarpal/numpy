{
    "nbformat": 4,
    "nbformat_minor": 5,
    "metadata": {
        "kernelspec": {
            "display_name": "Python",
            "language": "python",
            "name": "python"
        },
        "language_info": {
            "name": "python"
        }
    },
    "cells": [
        {
            "id": "6ab68f53",
            "cell_type": "markdown",
            "source": "<div class='alert alert-warning'>\n\nNumPy's interactive examples are experimental and may not always work as expected, with high load times especially on low-resource platforms, , and the version of NumPy might not be in sync with the one you are browsing the documentation for. If you encounter any issues, please report them on the [NumPy issue tracker](https://github.com/numpy/numpy/issues).\n\n</div>",
            "metadata": {}
        },
        {
            "id": "ccddc255",
            "cell_type": "code",
            "metadata": {},
            "execution_count": null,
            "source": "import numpy.ma as ma\na = ma.arange(6).reshape((2, 3))\na[1, :] = ma.masked\na",
            "outputs": [
                {
                    "output_type": "execute_result",
                    "metadata": {},
                    "data": {
                        "text/plain": "masked_array(\n  data=[[0, 1, 2],\n        [--, --, --]],\n  mask=[[False, False, False],\n        [ True,  True,  True]],\n  fill_value=999999)"
                    },
                    "execution_count": null
                }
            ]
        },
        {
            "id": "c922b08f",
            "cell_type": "code",
            "metadata": {},
            "execution_count": null,
            "source": "a.count()",
            "outputs": [
                {
                    "output_type": "execute_result",
                    "metadata": {},
                    "data": {
                        "text/plain": "3"
                    },
                    "execution_count": null
                }
            ]
        },
        {
            "id": "ec4f51ee",
            "cell_type": "markdown",
            "source": "When the `axis` keyword is specified an array of appropriate size is\nreturned.\n",
            "metadata": {}
        },
        {
            "id": "85ebfe8e",
            "cell_type": "code",
            "metadata": {},
            "execution_count": null,
            "source": "a.count(axis=0)",
            "outputs": [
                {
                    "output_type": "execute_result",
                    "metadata": {},
                    "data": {
                        "text/plain": "array([1, 1, 1])"
                    },
                    "execution_count": null
                }
            ]
        },
        {
            "id": "9388a815",
            "cell_type": "code",
            "metadata": {},
            "execution_count": null,
            "source": "a.count(axis=1)",
            "outputs": [
                {
                    "output_type": "execute_result",
                    "metadata": {},
                    "data": {
                        "text/plain": "array([3, 0])"
                    },
                    "execution_count": null
                }
            ]
        }
    ]
}