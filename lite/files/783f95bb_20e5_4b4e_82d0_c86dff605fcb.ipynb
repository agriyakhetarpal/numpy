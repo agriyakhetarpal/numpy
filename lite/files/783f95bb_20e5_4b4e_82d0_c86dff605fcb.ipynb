{
    "nbformat": 4,
    "nbformat_minor": 5,
    "metadata": {
        "kernelspec": {
            "display_name": "Python",
            "language": "python",
            "name": "python"
        },
        "language_info": {
            "name": "python"
        }
    },
    "cells": [
        {
            "id": "13d7d120",
            "cell_type": "markdown",
            "source": "<div class='alert alert-warning'>\n\nNumPy's interactive examples are experimental and may not always work as expected, with high load times especially on low-resource platforms, and the version of NumPy might not be in sync with the one you are browsing the documentation for. If you encounter any issues, please report them on the [NumPy issue tracker](https://github.com/numpy/numpy/issues).\n\n</div>",
            "metadata": {}
        },
        {
            "id": "3b19ff93",
            "cell_type": "code",
            "metadata": {},
            "execution_count": null,
            "source": "from numpy.polynomial.laguerre import lagfromroots, lagval\ncoef = lagfromroots((-1, 0, 1))\nlagval((-1, 0, 1), coef)",
            "outputs": [
                {
                    "output_type": "execute_result",
                    "metadata": {},
                    "data": {
                        "text/plain": "array([0.,  0.,  0.])"
                    },
                    "execution_count": null
                }
            ]
        },
        {
            "id": "cc738316",
            "cell_type": "code",
            "metadata": {},
            "execution_count": null,
            "source": "coef = lagfromroots((-1j, 1j))\nlagval((-1j, 1j), coef)",
            "outputs": [
                {
                    "output_type": "execute_result",
                    "metadata": {},
                    "data": {
                        "text/plain": "array([0.+0.j, 0.+0.j])"
                    },
                    "execution_count": null
                }
            ]
        }
    ]
}