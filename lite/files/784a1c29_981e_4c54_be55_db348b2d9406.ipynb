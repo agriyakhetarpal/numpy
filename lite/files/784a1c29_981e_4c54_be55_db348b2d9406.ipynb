{
    "nbformat": 4,
    "nbformat_minor": 5,
    "metadata": {
        "kernelspec": {
            "display_name": "Python",
            "language": "python",
            "name": "python"
        },
        "language_info": {
            "name": "python"
        }
    },
    "cells": [
        {
            "id": "a9a40426",
            "cell_type": "markdown",
            "source": "<div class='alert alert-warning'>\n\nNumPy's interactive examples are experimental and may not always work as expected, with high load times especially on low-resource platforms, and the version of NumPy might not be in sync with the one you are browsing the documentation for. If you encounter any issues, please report them on the [NumPy issue tracker](https://github.com/numpy/numpy/issues).\n\n</div>",
            "metadata": {}
        },
        {
            "id": "0ce1a0e2",
            "cell_type": "code",
            "metadata": {},
            "execution_count": null,
            "source": "import numpy as np\nx = np.arange(-2, 3)\nx",
            "outputs": [
                {
                    "output_type": "execute_result",
                    "metadata": {},
                    "data": {
                        "text/plain": "array([-2, -1,  0,  1,  2])"
                    },
                    "execution_count": null
                }
            ]
        },
        {
            "id": "7a01dfcf",
            "cell_type": "code",
            "metadata": {},
            "execution_count": null,
            "source": "np.flatnonzero(x)",
            "outputs": [
                {
                    "output_type": "execute_result",
                    "metadata": {},
                    "data": {
                        "text/plain": "array([0, 1, 3, 4])"
                    },
                    "execution_count": null
                }
            ]
        },
        {
            "id": "428f4a28",
            "cell_type": "markdown",
            "source": "Use the indices of the non-zero elements as an index array to extract\nthese elements:\n",
            "metadata": {}
        },
        {
            "id": "c0c70ea0",
            "cell_type": "code",
            "metadata": {},
            "execution_count": null,
            "source": "x.ravel()[np.flatnonzero(x)]",
            "outputs": [
                {
                    "output_type": "execute_result",
                    "metadata": {},
                    "data": {
                        "text/plain": "array([-2, -1,  1,  2])"
                    },
                    "execution_count": null
                }
            ]
        }
    ]
}