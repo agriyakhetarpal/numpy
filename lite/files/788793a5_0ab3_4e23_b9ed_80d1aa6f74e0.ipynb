{
    "nbformat": 4,
    "nbformat_minor": 5,
    "metadata": {
        "kernelspec": {
            "display_name": "Python",
            "language": "python",
            "name": "python"
        },
        "language_info": {
            "name": "python"
        }
    },
    "cells": [
        {
            "id": "924985c2",
            "cell_type": "markdown",
            "source": "<div class='alert alert-warning'>\n\nNumPy's interactive examples are experimental and may not always work as expected, with high load times especially on low-resource platforms, and the version of NumPy might not be in sync with the one you are browsing the documentation for. If you encounter any issues, please report them on the [NumPy issue tracker](https://github.com/numpy/numpy/issues).\n\n</div>",
            "metadata": {}
        },
        {
            "id": "f5061e94",
            "cell_type": "code",
            "metadata": {},
            "execution_count": null,
            "source": "import numpy as np\nx = np.arange(9).reshape((3,3))\nx",
            "outputs": [
                {
                    "output_type": "execute_result",
                    "metadata": {},
                    "data": {
                        "text/plain": "array([[0, 1, 2],\n       [3, 4, 5],\n       [6, 7, 8]])"
                    },
                    "execution_count": null
                }
            ]
        },
        {
            "id": "131fe0e9",
            "cell_type": "code",
            "metadata": {},
            "execution_count": null,
            "source": "np.diag(x)",
            "outputs": [
                {
                    "output_type": "execute_result",
                    "metadata": {},
                    "data": {
                        "text/plain": "array([0, 4, 8])"
                    },
                    "execution_count": null
                }
            ]
        },
        {
            "id": "b5232403",
            "cell_type": "code",
            "metadata": {},
            "execution_count": null,
            "source": "np.diag(x, k=1)",
            "outputs": [
                {
                    "output_type": "execute_result",
                    "metadata": {},
                    "data": {
                        "text/plain": "array([1, 5])"
                    },
                    "execution_count": null
                }
            ]
        },
        {
            "id": "45bbe6a8",
            "cell_type": "code",
            "metadata": {},
            "execution_count": null,
            "source": "np.diag(x, k=-1)",
            "outputs": [
                {
                    "output_type": "execute_result",
                    "metadata": {},
                    "data": {
                        "text/plain": "array([3, 7])"
                    },
                    "execution_count": null
                }
            ]
        },
        {
            "id": "81625f6f",
            "cell_type": "code",
            "metadata": {},
            "execution_count": null,
            "source": "np.diag(np.diag(x))",
            "outputs": [
                {
                    "output_type": "execute_result",
                    "metadata": {},
                    "data": {
                        "text/plain": "array([[0, 0, 0],\n       [0, 4, 0],\n       [0, 0, 8]])"
                    },
                    "execution_count": null
                }
            ]
        }
    ]
}