{
    "nbformat": 4,
    "nbformat_minor": 5,
    "metadata": {
        "kernelspec": {
            "display_name": "Python",
            "language": "python",
            "name": "python"
        },
        "language_info": {
            "name": "python"
        }
    },
    "cells": [
        {
            "id": "6a6db7fb",
            "cell_type": "markdown",
            "source": "<div class='alert alert-warning'>\n\nNumPy's interactive examples are experimental and may not always work as expected, with high load times especially on low-resource platforms, and the version of NumPy might not be in sync with the one you are browsing the documentation for. If you encounter any issues, please report them on the [NumPy issue tracker](https://github.com/numpy/numpy/issues).\n\n</div>",
            "metadata": {}
        },
        {
            "id": "472c7bd0",
            "cell_type": "code",
            "metadata": {},
            "execution_count": null,
            "source": "import numpy as np\nx = np.array([[1,2,3],[4,5,6]], order='F')",
            "outputs": []
        },
        {
            "id": "feb52907",
            "cell_type": "code",
            "metadata": {},
            "execution_count": null,
            "source": "y = x.copy()",
            "outputs": []
        },
        {
            "id": "9efa0f9f",
            "cell_type": "code",
            "metadata": {},
            "execution_count": null,
            "source": "x.fill(0)",
            "outputs": []
        },
        {
            "id": "7408804b",
            "cell_type": "code",
            "metadata": {},
            "execution_count": null,
            "source": "x",
            "outputs": [
                {
                    "output_type": "execute_result",
                    "metadata": {},
                    "data": {
                        "text/plain": "array([[0, 0, 0],\n       [0, 0, 0]])"
                    },
                    "execution_count": null
                }
            ]
        },
        {
            "id": "997c2a4d",
            "cell_type": "code",
            "metadata": {},
            "execution_count": null,
            "source": "y",
            "outputs": [
                {
                    "output_type": "execute_result",
                    "metadata": {},
                    "data": {
                        "text/plain": "array([[1, 2, 3],\n       [4, 5, 6]])"
                    },
                    "execution_count": null
                }
            ]
        },
        {
            "id": "39ae1b2e",
            "cell_type": "code",
            "metadata": {},
            "execution_count": null,
            "source": "y.flags['C_CONTIGUOUS']",
            "outputs": [
                {
                    "output_type": "execute_result",
                    "metadata": {},
                    "data": {
                        "text/plain": "True"
                    },
                    "execution_count": null
                }
            ]
        },
        {
            "id": "8cea705a",
            "cell_type": "markdown",
            "source": "For arrays containing Python objects (e.g. dtype=object),\nthe copy is a shallow one. The new array will contain the\nsame object which may lead to surprises if that object can\nbe modified (is mutable):\n",
            "metadata": {}
        },
        {
            "id": "a81041f5",
            "cell_type": "code",
            "metadata": {},
            "execution_count": null,
            "source": "a = np.array([1, 'm', [2, 3, 4]], dtype=object)\nb = a.copy()\nb[2][0] = 10\na",
            "outputs": [
                {
                    "output_type": "execute_result",
                    "metadata": {},
                    "data": {
                        "text/plain": "array([1, 'm', list([10, 3, 4])], dtype=object)"
                    },
                    "execution_count": null
                }
            ]
        },
        {
            "id": "3b9da037",
            "cell_type": "markdown",
            "source": "To ensure all elements within an ``object`` array are copied,\nuse `copy.deepcopy`:\n",
            "metadata": {}
        },
        {
            "id": "302feff5",
            "cell_type": "code",
            "metadata": {},
            "execution_count": null,
            "source": "import copy\na = np.array([1, 'm', [2, 3, 4]], dtype=object)\nc = copy.deepcopy(a)\nc[2][0] = 10\nc",
            "outputs": [
                {
                    "output_type": "execute_result",
                    "metadata": {},
                    "data": {
                        "text/plain": "array([1, 'm', list([10, 3, 4])], dtype=object)"
                    },
                    "execution_count": null
                }
            ]
        },
        {
            "id": "83a05b32",
            "cell_type": "code",
            "metadata": {},
            "execution_count": null,
            "source": "a",
            "outputs": [
                {
                    "output_type": "execute_result",
                    "metadata": {},
                    "data": {
                        "text/plain": "array([1, 'm', list([2, 3, 4])], dtype=object)"
                    },
                    "execution_count": null
                }
            ]
        }
    ]
}