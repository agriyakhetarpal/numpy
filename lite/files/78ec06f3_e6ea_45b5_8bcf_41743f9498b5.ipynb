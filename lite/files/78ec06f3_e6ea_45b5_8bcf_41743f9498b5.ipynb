{
    "nbformat": 4,
    "nbformat_minor": 5,
    "metadata": {
        "kernelspec": {
            "display_name": "Python",
            "language": "python",
            "name": "python"
        },
        "language_info": {
            "name": "python"
        }
    },
    "cells": [
        {
            "id": "3b9d1737",
            "cell_type": "markdown",
            "source": "<div class='alert alert-warning'>\n\nNumPy's interactive examples are experimental and may not always work as expected, with high load times especially on low-resource platforms, and the version of NumPy might not be in sync with the one you are browsing the documentation for. If you encounter any issues, please report them on the [NumPy issue tracker](https://github.com/numpy/numpy/issues).\n\n</div>",
            "metadata": {}
        },
        {
            "id": "99f1974b",
            "cell_type": "markdown",
            "source": "With types:\n",
            "metadata": {}
        },
        {
            "id": "47f75c8d",
            "cell_type": "code",
            "metadata": {},
            "execution_count": null,
            "source": "import numpy as np\nii16 = np.iinfo(np.int16)\nii16.min",
            "outputs": [
                {
                    "output_type": "execute_result",
                    "metadata": {},
                    "data": {
                        "text/plain": "-32768"
                    },
                    "execution_count": null
                }
            ]
        },
        {
            "id": "24271f17",
            "cell_type": "code",
            "metadata": {},
            "execution_count": null,
            "source": "ii16.max",
            "outputs": [
                {
                    "output_type": "execute_result",
                    "metadata": {},
                    "data": {
                        "text/plain": "32767"
                    },
                    "execution_count": null
                }
            ]
        },
        {
            "id": "dc1fbf59",
            "cell_type": "code",
            "metadata": {},
            "execution_count": null,
            "source": "ii32 = np.iinfo(np.int32)\nii32.min",
            "outputs": [
                {
                    "output_type": "execute_result",
                    "metadata": {},
                    "data": {
                        "text/plain": "-2147483648"
                    },
                    "execution_count": null
                }
            ]
        },
        {
            "id": "d5eada2a",
            "cell_type": "code",
            "metadata": {},
            "execution_count": null,
            "source": "ii32.max",
            "outputs": [
                {
                    "output_type": "execute_result",
                    "metadata": {},
                    "data": {
                        "text/plain": "2147483647"
                    },
                    "execution_count": null
                }
            ]
        },
        {
            "id": "7aceffb5",
            "cell_type": "markdown",
            "source": "With instances:\n",
            "metadata": {}
        },
        {
            "id": "c9b4eb78",
            "cell_type": "code",
            "metadata": {},
            "execution_count": null,
            "source": "ii32 = np.iinfo(np.int32(10))\nii32.min",
            "outputs": [
                {
                    "output_type": "execute_result",
                    "metadata": {},
                    "data": {
                        "text/plain": "-2147483648"
                    },
                    "execution_count": null
                }
            ]
        },
        {
            "id": "d91a0718",
            "cell_type": "code",
            "metadata": {},
            "execution_count": null,
            "source": "ii32.max",
            "outputs": [
                {
                    "output_type": "execute_result",
                    "metadata": {},
                    "data": {
                        "text/plain": "2147483647"
                    },
                    "execution_count": null
                }
            ]
        }
    ]
}