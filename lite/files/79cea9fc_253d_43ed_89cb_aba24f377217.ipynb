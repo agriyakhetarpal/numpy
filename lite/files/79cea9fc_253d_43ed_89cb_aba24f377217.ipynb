{
    "nbformat": 4,
    "nbformat_minor": 5,
    "metadata": {
        "kernelspec": {
            "display_name": "Python",
            "language": "python",
            "name": "python"
        },
        "language_info": {
            "name": "python"
        }
    },
    "cells": [
        {
            "id": "d09ee157",
            "cell_type": "markdown",
            "source": "<div class='alert alert-warning'>\n\nNumPy's interactive examples are experimental and may not always work as expected, with high load times especially on low-resource platforms, and the version of NumPy might not be in sync with the one you are browsing the documentation for. If you encounter any issues, please report them on the [NumPy issue tracker](https://github.com/numpy/numpy/issues).\n\n</div>",
            "metadata": {}
        },
        {
            "id": "7e1782eb",
            "cell_type": "code",
            "metadata": {},
            "execution_count": null,
            "source": "import numpy as np\narr = np.zeros((2, 3), dtype=np.float32)\narr",
            "outputs": [
                {
                    "output_type": "execute_result",
                    "metadata": {},
                    "data": {
                        "text/plain": "array([[0., 0., 0.],\n       [0., 0., 0.]], dtype=float32)"
                    },
                    "execution_count": null
                }
            ]
        },
        {
            "id": "1dc92df5",
            "cell_type": "code",
            "metadata": {},
            "execution_count": null,
            "source": "np.ma.masked_all_like(arr)",
            "outputs": [
                {
                    "output_type": "execute_result",
                    "metadata": {},
                    "data": {
                        "text/plain": "masked_array(\n  data=[[--, --, --],\n        [--, --, --]],\n  mask=[[ True,  True,  True],\n        [ True,  True,  True]],\n  fill_value=np.float64(1e+20),\n  dtype=float32)"
                    },
                    "execution_count": null
                }
            ]
        },
        {
            "id": "6e63501c",
            "cell_type": "markdown",
            "source": "The dtype of the masked array matches the dtype of `arr`.\n",
            "metadata": {}
        },
        {
            "id": "a1b3121f",
            "cell_type": "code",
            "metadata": {},
            "execution_count": null,
            "source": "arr.dtype",
            "outputs": [
                {
                    "output_type": "execute_result",
                    "metadata": {},
                    "data": {
                        "text/plain": "dtype('float32')"
                    },
                    "execution_count": null
                }
            ]
        },
        {
            "id": "6aada641",
            "cell_type": "code",
            "metadata": {},
            "execution_count": null,
            "source": "np.ma.masked_all_like(arr).dtype",
            "outputs": [
                {
                    "output_type": "execute_result",
                    "metadata": {},
                    "data": {
                        "text/plain": "dtype('float32')"
                    },
                    "execution_count": null
                }
            ]
        }
    ]
}