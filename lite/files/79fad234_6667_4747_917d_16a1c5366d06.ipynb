{
    "nbformat": 4,
    "nbformat_minor": 5,
    "metadata": {
        "kernelspec": {
            "display_name": "Python",
            "language": "python",
            "name": "python"
        },
        "language_info": {
            "name": "python"
        }
    },
    "cells": [
        {
            "id": "6bba1eff",
            "cell_type": "markdown",
            "source": "<div class='alert alert-warning'>\n\nNumPy's interactive examples are experimental and may not always work as expected, with high load times especially on low-resource platforms, and the version of NumPy might not be in sync with the one you are browsing the documentation for. If you encounter any issues, please report them on the [NumPy issue tracker](https://github.com/numpy/numpy/issues).\n\n</div>",
            "metadata": {}
        },
        {
            "id": "c4b15b1c",
            "cell_type": "code",
            "metadata": {},
            "execution_count": null,
            "source": "import numpy as np",
            "outputs": []
        },
        {
            "id": "83a06ef7",
            "cell_type": "markdown",
            "source": "These are the indices that would allow you to access the upper triangular\npart of any 3x3 array:\n",
            "metadata": {}
        },
        {
            "id": "82dd98f1",
            "cell_type": "code",
            "metadata": {},
            "execution_count": null,
            "source": "iu = np.mask_indices(3, np.triu)",
            "outputs": []
        },
        {
            "id": "053eb1dd",
            "cell_type": "markdown",
            "source": "For example, if `a` is a 3x3 array:\n",
            "metadata": {}
        },
        {
            "id": "c1704e91",
            "cell_type": "code",
            "metadata": {},
            "execution_count": null,
            "source": "a = np.arange(9).reshape(3, 3)\na",
            "outputs": [
                {
                    "output_type": "execute_result",
                    "metadata": {},
                    "data": {
                        "text/plain": "array([[0, 1, 2],\n       [3, 4, 5],\n       [6, 7, 8]])"
                    },
                    "execution_count": null
                }
            ]
        },
        {
            "id": "23a937dc",
            "cell_type": "code",
            "metadata": {},
            "execution_count": null,
            "source": "a[iu]",
            "outputs": [
                {
                    "output_type": "execute_result",
                    "metadata": {},
                    "data": {
                        "text/plain": "array([0, 1, 2, 4, 5, 8])"
                    },
                    "execution_count": null
                }
            ]
        },
        {
            "id": "2e25fced",
            "cell_type": "markdown",
            "source": "An offset can be passed also to the masking function.  This gets us the\nindices starting on the first diagonal right of the main one:\n",
            "metadata": {}
        },
        {
            "id": "d2b0cf74",
            "cell_type": "code",
            "metadata": {},
            "execution_count": null,
            "source": "iu1 = np.mask_indices(3, np.triu, 1)",
            "outputs": []
        },
        {
            "id": "56d0dc52",
            "cell_type": "markdown",
            "source": "with which we now extract only three elements:\n",
            "metadata": {}
        },
        {
            "id": "b964fa20",
            "cell_type": "code",
            "metadata": {},
            "execution_count": null,
            "source": "a[iu1]",
            "outputs": [
                {
                    "output_type": "execute_result",
                    "metadata": {},
                    "data": {
                        "text/plain": "array([1, 2, 5])"
                    },
                    "execution_count": null
                }
            ]
        }
    ]
}