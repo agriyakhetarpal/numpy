{
    "nbformat": 4,
    "nbformat_minor": 5,
    "metadata": {
        "kernelspec": {
            "display_name": "Python",
            "language": "python",
            "name": "python"
        },
        "language_info": {
            "name": "python"
        }
    },
    "cells": [
        {
            "id": "e69218b8",
            "cell_type": "markdown",
            "source": "<div class='alert alert-warning'>\n\nNumPy's interactive examples are experimental and may not always work as expected, with high load times especially on low-resource platforms, and the version of NumPy might not be in sync with the one you are browsing the documentation for. If you encounter any issues, please report them on the [NumPy issue tracker](https://github.com/numpy/numpy/issues).\n\n</div>",
            "metadata": {}
        },
        {
            "id": "1318dd74",
            "cell_type": "code",
            "metadata": {},
            "execution_count": null,
            "source": "import numpy as np\nnp.fft.ifft([0, 4, 0, 0])",
            "outputs": [
                {
                    "output_type": "execute_result",
                    "metadata": {},
                    "data": {
                        "text/plain": "array([ 1.+0.j,  0.+1.j, -1.+0.j,  0.-1.j]) # may vary"
                    },
                    "execution_count": null
                }
            ]
        },
        {
            "id": "f06bfed2",
            "cell_type": "markdown",
            "source": "Create and plot a band-limited signal with random phases:\n",
            "metadata": {}
        },
        {
            "id": "3a2f93b5",
            "cell_type": "code",
            "metadata": {},
            "execution_count": null,
            "source": "import matplotlib.pyplot as plt\nt = np.arange(400)\nn = np.zeros((400,), dtype=complex)\nn[40:60] = np.exp(1j*np.random.uniform(0, 2*np.pi, (20,)))\ns = np.fft.ifft(n)\nplt.plot(t, s.real, label='real')",
            "outputs": [
                {
                    "output_type": "execute_result",
                    "metadata": {},
                    "data": {
                        "text/plain": "[<matplotlib.lines.Line2D object at ...>]"
                    },
                    "execution_count": null
                }
            ]
        },
        {
            "id": "57a1cef7",
            "cell_type": "code",
            "metadata": {},
            "execution_count": null,
            "source": "plt.plot(t, s.imag, '--', label='imaginary')",
            "outputs": [
                {
                    "output_type": "execute_result",
                    "metadata": {},
                    "data": {
                        "text/plain": "[<matplotlib.lines.Line2D object at ...>]"
                    },
                    "execution_count": null
                }
            ]
        },
        {
            "id": "9ae36cd5",
            "cell_type": "code",
            "metadata": {},
            "execution_count": null,
            "source": "plt.legend()",
            "outputs": [
                {
                    "output_type": "execute_result",
                    "metadata": {},
                    "data": {
                        "text/plain": "<matplotlib.legend.Legend object at ...>"
                    },
                    "execution_count": null
                }
            ]
        },
        {
            "id": "d5e1f33f",
            "cell_type": "code",
            "metadata": {},
            "execution_count": null,
            "source": "plt.show()",
            "outputs": []
        }
    ]
}