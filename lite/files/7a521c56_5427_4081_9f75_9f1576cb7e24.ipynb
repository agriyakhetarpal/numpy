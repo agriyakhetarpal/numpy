{
    "nbformat": 4,
    "nbformat_minor": 5,
    "metadata": {
        "kernelspec": {
            "display_name": "Python",
            "language": "python",
            "name": "python"
        },
        "language_info": {
            "name": "python"
        }
    },
    "cells": [
        {
            "id": "7bce05e5",
            "cell_type": "markdown",
            "source": "<div class='alert alert-warning'>\n\nNumPy's interactive examples are experimental and may not always work as expected, with high load times especially on low-resource platforms, and the version of NumPy might not be in sync with the one you are browsing the documentation for. If you encounter any issues, please report them on the [NumPy issue tracker](https://github.com/numpy/numpy/issues).\n\n</div>",
            "metadata": {}
        },
        {
            "id": "610bb0fe",
            "cell_type": "code",
            "metadata": {},
            "execution_count": null,
            "source": "from numpy.polynomial.hermite import hermint\nhermint([1,2,3]) # integrate once, value 0 at 0.",
            "outputs": [
                {
                    "output_type": "execute_result",
                    "metadata": {},
                    "data": {
                        "text/plain": "array([1. , 0.5, 0.5, 0.5])"
                    },
                    "execution_count": null
                }
            ]
        },
        {
            "id": "e99870aa",
            "cell_type": "code",
            "metadata": {},
            "execution_count": null,
            "source": "hermint([1,2,3], m=2) # integrate twice, value & deriv 0 at 0",
            "outputs": [
                {
                    "output_type": "execute_result",
                    "metadata": {},
                    "data": {
                        "text/plain": "array([-0.5       ,  0.5       ,  0.125     ,  0.08333333,  0.0625    ]) # may vary"
                    },
                    "execution_count": null
                }
            ]
        },
        {
            "id": "4499db81",
            "cell_type": "code",
            "metadata": {},
            "execution_count": null,
            "source": "hermint([1,2,3], k=1) # integrate once, value 1 at 0.",
            "outputs": [
                {
                    "output_type": "execute_result",
                    "metadata": {},
                    "data": {
                        "text/plain": "array([2. , 0.5, 0.5, 0.5])"
                    },
                    "execution_count": null
                }
            ]
        },
        {
            "id": "e49a9cc0",
            "cell_type": "code",
            "metadata": {},
            "execution_count": null,
            "source": "hermint([1,2,3], lbnd=-1) # integrate once, value 0 at -1",
            "outputs": [
                {
                    "output_type": "execute_result",
                    "metadata": {},
                    "data": {
                        "text/plain": "array([-2. ,  0.5,  0.5,  0.5])"
                    },
                    "execution_count": null
                }
            ]
        },
        {
            "id": "c9137ef1",
            "cell_type": "code",
            "metadata": {},
            "execution_count": null,
            "source": "hermint([1,2,3], m=2, k=[1,2], lbnd=-1)",
            "outputs": [
                {
                    "output_type": "execute_result",
                    "metadata": {},
                    "data": {
                        "text/plain": "array([ 1.66666667, -0.5       ,  0.125     ,  0.08333333,  0.0625    ]) # may vary"
                    },
                    "execution_count": null
                }
            ]
        }
    ]
}