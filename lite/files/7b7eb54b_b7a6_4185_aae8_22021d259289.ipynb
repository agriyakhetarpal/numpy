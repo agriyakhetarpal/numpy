{
    "nbformat": 4,
    "nbformat_minor": 5,
    "metadata": {
        "kernelspec": {
            "display_name": "Python",
            "language": "python",
            "name": "python"
        },
        "language_info": {
            "name": "python"
        }
    },
    "cells": [
        {
            "id": "f51d0044",
            "cell_type": "markdown",
            "source": "<div class='alert alert-warning'>\n\nNumPy's interactive examples are experimental and may not always work as expected, with high load times especially on low-resource platforms, , and the version of NumPy might not be in sync with the one you are browsing the documentation for. If you encounter any issues, please report them on the [NumPy issue tracker](https://github.com/numpy/numpy/issues).\n\n</div>",
            "metadata": {}
        },
        {
            "id": "6d39cf9b",
            "cell_type": "code",
            "metadata": {},
            "execution_count": null,
            "source": "import numpy as np\na = np.arange(3 * 4 * 5 * 6).reshape(3, 4, 5, 6)\na_itor = np.lib.Arrayterator(a, 2)\na_itor.shape",
            "outputs": [
                {
                    "output_type": "execute_result",
                    "metadata": {},
                    "data": {
                        "text/plain": "(3, 4, 5, 6)"
                    },
                    "execution_count": null
                }
            ]
        },
        {
            "id": "8bcfb904",
            "cell_type": "markdown",
            "source": "Now we can iterate over ``a_itor``, and it will return arrays of size\ntwo. Since `buf_size` was smaller than any dimension, the first\ndimension will be iterated over first:\n",
            "metadata": {}
        },
        {
            "id": "0bae765b",
            "cell_type": "code",
            "metadata": {},
            "execution_count": null,
            "source": "for subarr in a_itor:\n    if not subarr.all():\n        print(subarr, subarr.shape) # doctest: +SKIP\n# [[[[0 1]]]] (1, 1, 1, 2)",
            "outputs": []
        }
    ]
}