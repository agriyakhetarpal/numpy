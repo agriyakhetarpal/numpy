{
    "nbformat": 4,
    "nbformat_minor": 5,
    "metadata": {
        "kernelspec": {
            "display_name": "Python",
            "language": "python",
            "name": "python"
        },
        "language_info": {
            "name": "python"
        }
    },
    "cells": [
        {
            "id": "919fe6a0",
            "cell_type": "markdown",
            "source": "<div class='alert alert-warning'>\n\nNumPy's interactive examples are experimental and may not always work as expected, with high load times especially on low-resource platforms, , and the version of NumPy might not be in sync with the one you are browsing the documentation for. If you encounter any issues, please report them on the [NumPy issue tracker](https://github.com/numpy/numpy/issues).\n\n</div>",
            "metadata": {}
        },
        {
            "id": "1e64684b",
            "cell_type": "code",
            "metadata": {},
            "execution_count": null,
            "source": "import numpy as np\nnp.logical_xor(True, False)",
            "outputs": [
                {
                    "output_type": "execute_result",
                    "metadata": {},
                    "data": {
                        "text/plain": "True"
                    },
                    "execution_count": null
                }
            ]
        },
        {
            "id": "83b39abe",
            "cell_type": "code",
            "metadata": {},
            "execution_count": null,
            "source": "np.logical_xor([True, True, False, False], [True, False, True, False])",
            "outputs": [
                {
                    "output_type": "execute_result",
                    "metadata": {},
                    "data": {
                        "text/plain": "array([False,  True,  True, False])"
                    },
                    "execution_count": null
                }
            ]
        },
        {
            "id": "6fa5e7ee",
            "cell_type": "code",
            "metadata": {},
            "execution_count": null,
            "source": "x = np.arange(5)\nnp.logical_xor(x < 1, x > 3)",
            "outputs": [
                {
                    "output_type": "execute_result",
                    "metadata": {},
                    "data": {
                        "text/plain": "array([ True, False, False, False,  True])"
                    },
                    "execution_count": null
                }
            ]
        },
        {
            "id": "2b8d63f2",
            "cell_type": "markdown",
            "source": "Simple example showing support of broadcasting\n",
            "metadata": {}
        },
        {
            "id": "e05fb3af",
            "cell_type": "code",
            "metadata": {},
            "execution_count": null,
            "source": "np.logical_xor(0, np.eye(2))",
            "outputs": [
                {
                    "output_type": "execute_result",
                    "metadata": {},
                    "data": {
                        "text/plain": "array([[ True, False],\n       [False,  True]])"
                    },
                    "execution_count": null
                }
            ]
        }
    ]
}