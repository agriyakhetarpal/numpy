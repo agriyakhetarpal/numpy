{
    "nbformat": 4,
    "nbformat_minor": 5,
    "metadata": {
        "kernelspec": {
            "display_name": "Python",
            "language": "python",
            "name": "python"
        },
        "language_info": {
            "name": "python"
        }
    },
    "cells": [
        {
            "id": "1acc39d9",
            "cell_type": "markdown",
            "source": "<div class='alert alert-warning'>\n\nNumPy's interactive examples are experimental and may not always work as expected, with high load times especially on low-resource platforms, and the version of NumPy might not be in sync with the one you are browsing the documentation for. If you encounter any issues, please report them on the [NumPy issue tracker](https://github.com/numpy/numpy/issues).\n\n</div>",
            "metadata": {}
        },
        {
            "id": "32fffb2c",
            "cell_type": "markdown",
            "source": "Use frompyfunc to add broadcasting to the Python function ``oct``:\n",
            "metadata": {}
        },
        {
            "id": "7f5086cf",
            "cell_type": "code",
            "metadata": {},
            "execution_count": null,
            "source": "import numpy as np\noct_array = np.frompyfunc(oct, 1, 1)\noct_array(np.array((10, 30, 100)))",
            "outputs": [
                {
                    "output_type": "execute_result",
                    "metadata": {},
                    "data": {
                        "text/plain": "array(['0o12', '0o36', '0o144'], dtype=object)"
                    },
                    "execution_count": null
                }
            ]
        },
        {
            "id": "f9533ddc",
            "cell_type": "code",
            "metadata": {},
            "execution_count": null,
            "source": "np.array((oct(10), oct(30), oct(100))) # for comparison",
            "outputs": [
                {
                    "output_type": "execute_result",
                    "metadata": {},
                    "data": {
                        "text/plain": "array(['0o12', '0o36', '0o144'], dtype='<U5')"
                    },
                    "execution_count": null
                }
            ]
        }
    ]
}