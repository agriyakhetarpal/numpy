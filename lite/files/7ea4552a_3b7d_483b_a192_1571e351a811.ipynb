{
    "nbformat": 4,
    "nbformat_minor": 5,
    "metadata": {
        "kernelspec": {
            "display_name": "Python",
            "language": "python",
            "name": "python"
        },
        "language_info": {
            "name": "python"
        }
    },
    "cells": [
        {
            "id": "3ae54752",
            "cell_type": "markdown",
            "source": "<div class='alert alert-warning'>\n\nNumPy's interactive examples are experimental and may not always work as expected, with high load times especially on low-resource platforms, and the version of NumPy might not be in sync with the one you are browsing the documentation for. If you encounter any issues, please report them on the [NumPy issue tracker](https://github.com/numpy/numpy/issues).\n\n</div>",
            "metadata": {}
        },
        {
            "id": "8ad71a22",
            "cell_type": "code",
            "metadata": {},
            "execution_count": null,
            "source": "import numpy as np\nA = np.array([1, 256, 8755], dtype=np.int16)\nlist(map(hex, A))",
            "outputs": [
                {
                    "output_type": "execute_result",
                    "metadata": {},
                    "data": {
                        "text/plain": "['0x1', '0x100', '0x2233']"
                    },
                    "execution_count": null
                }
            ]
        },
        {
            "id": "8c0183b3",
            "cell_type": "code",
            "metadata": {},
            "execution_count": null,
            "source": "A.byteswap(inplace=True)",
            "outputs": [
                {
                    "output_type": "execute_result",
                    "metadata": {},
                    "data": {
                        "text/plain": "array([  256,     1, 13090], dtype=int16)"
                    },
                    "execution_count": null
                }
            ]
        },
        {
            "id": "28aa0290",
            "cell_type": "code",
            "metadata": {},
            "execution_count": null,
            "source": "list(map(hex, A))",
            "outputs": [
                {
                    "output_type": "execute_result",
                    "metadata": {},
                    "data": {
                        "text/plain": "['0x100', '0x1', '0x3322']"
                    },
                    "execution_count": null
                }
            ]
        },
        {
            "id": "4ba9fb56",
            "cell_type": "markdown",
            "source": "Arrays of byte-strings are not swapped\n",
            "metadata": {}
        },
        {
            "id": "3edcbb43",
            "cell_type": "code",
            "metadata": {},
            "execution_count": null,
            "source": "A = np.array([b'ceg', b'fac'])\nA.byteswap()",
            "outputs": [
                {
                    "output_type": "execute_result",
                    "metadata": {},
                    "data": {
                        "text/plain": "array([b'ceg', b'fac'], dtype='|S3')"
                    },
                    "execution_count": null
                }
            ]
        },
        {
            "id": "e418621f",
            "cell_type": "markdown",
            "source": "``A.view(A.dtype.newbyteorder()).byteswap()`` produces an array with\nthe same values but different representation in memory\n",
            "metadata": {}
        },
        {
            "id": "fd0c3846",
            "cell_type": "code",
            "metadata": {},
            "execution_count": null,
            "source": "A = np.array([1, 2, 3],dtype=np.int64)\nA.view(np.uint8)",
            "outputs": [
                {
                    "output_type": "execute_result",
                    "metadata": {},
                    "data": {
                        "text/plain": "array([1, 0, 0, 0, 0, 0, 0, 0, 2, 0, 0, 0, 0, 0, 0, 0, 3, 0, 0, 0, 0, 0,\n       0, 0], dtype=uint8)"
                    },
                    "execution_count": null
                }
            ]
        },
        {
            "id": "63b520ba",
            "cell_type": "code",
            "metadata": {},
            "execution_count": null,
            "source": "A.view(A.dtype.newbyteorder()).byteswap(inplace=True)",
            "outputs": [
                {
                    "output_type": "execute_result",
                    "metadata": {},
                    "data": {
                        "text/plain": "array([1, 2, 3], dtype='>i8')"
                    },
                    "execution_count": null
                }
            ]
        },
        {
            "id": "a130ce1a",
            "cell_type": "code",
            "metadata": {},
            "execution_count": null,
            "source": "A.view(np.uint8)",
            "outputs": [
                {
                    "output_type": "execute_result",
                    "metadata": {},
                    "data": {
                        "text/plain": "array([0, 0, 0, 0, 0, 0, 0, 1, 0, 0, 0, 0, 0, 0, 0, 2, 0, 0, 0, 0, 0, 0,\n       0, 3], dtype=uint8)"
                    },
                    "execution_count": null
                }
            ]
        }
    ]
}