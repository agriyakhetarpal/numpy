{
    "nbformat": 4,
    "nbformat_minor": 5,
    "metadata": {
        "kernelspec": {
            "display_name": "Python",
            "language": "python",
            "name": "python"
        },
        "language_info": {
            "name": "python"
        }
    },
    "cells": [
        {
            "id": "db35a6fe",
            "cell_type": "markdown",
            "source": "<div class='alert alert-warning'>\n\nNumPy's interactive examples are experimental and may not always work as expected, with high load times especially on low-resource platforms, and the version of NumPy might not be in sync with the one you are browsing the documentation for. If you encounter any issues, please report them on the [NumPy issue tracker](https://github.com/numpy/numpy/issues).\n\n</div>",
            "metadata": {}
        },
        {
            "id": "0e2bf889",
            "cell_type": "code",
            "metadata": {},
            "execution_count": null,
            "source": "import numpy as np\na = np.ones((3,4,5,6))\nnp.rollaxis(a, 3, 1).shape",
            "outputs": [
                {
                    "output_type": "execute_result",
                    "metadata": {},
                    "data": {
                        "text/plain": "(3, 6, 4, 5)"
                    },
                    "execution_count": null
                }
            ]
        },
        {
            "id": "3db69cb7",
            "cell_type": "code",
            "metadata": {},
            "execution_count": null,
            "source": "np.rollaxis(a, 2).shape",
            "outputs": [
                {
                    "output_type": "execute_result",
                    "metadata": {},
                    "data": {
                        "text/plain": "(5, 3, 4, 6)"
                    },
                    "execution_count": null
                }
            ]
        },
        {
            "id": "78b2ac87",
            "cell_type": "code",
            "metadata": {},
            "execution_count": null,
            "source": "np.rollaxis(a, 1, 4).shape",
            "outputs": [
                {
                    "output_type": "execute_result",
                    "metadata": {},
                    "data": {
                        "text/plain": "(3, 5, 6, 4)"
                    },
                    "execution_count": null
                }
            ]
        }
    ]
}