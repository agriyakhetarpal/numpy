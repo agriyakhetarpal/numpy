{
    "nbformat": 4,
    "nbformat_minor": 5,
    "metadata": {
        "kernelspec": {
            "display_name": "Python",
            "language": "python",
            "name": "python"
        },
        "language_info": {
            "name": "python"
        }
    },
    "cells": [
        {
            "id": "7dff3717",
            "cell_type": "markdown",
            "source": "<div class='alert alert-warning'>\n\nNumPy's interactive examples are experimental and may not always work as expected, with high load times especially on low-resource platforms, and the version of NumPy might not be in sync with the one you are browsing the documentation for. If you encounter any issues, please report them on the [NumPy issue tracker](https://github.com/numpy/numpy/issues).\n\n</div>",
            "metadata": {}
        },
        {
            "id": "6422c3f2",
            "cell_type": "code",
            "metadata": {},
            "execution_count": null,
            "source": "import numpy as np\nnp.set_printoptions(precision=4)",
            "outputs": []
        },
        {
            "id": "7ed15d84",
            "cell_type": "code",
            "metadata": {},
            "execution_count": null,
            "source": "np.emath.power(2, 2)",
            "outputs": [
                {
                    "output_type": "execute_result",
                    "metadata": {},
                    "data": {
                        "text/plain": "4"
                    },
                    "execution_count": null
                }
            ]
        },
        {
            "id": "a2cbdee1",
            "cell_type": "code",
            "metadata": {},
            "execution_count": null,
            "source": "np.emath.power([2, 4], 2)",
            "outputs": [
                {
                    "output_type": "execute_result",
                    "metadata": {},
                    "data": {
                        "text/plain": "array([ 4, 16])"
                    },
                    "execution_count": null
                }
            ]
        },
        {
            "id": "747a5606",
            "cell_type": "code",
            "metadata": {},
            "execution_count": null,
            "source": "np.emath.power([2, 4], -2)",
            "outputs": [
                {
                    "output_type": "execute_result",
                    "metadata": {},
                    "data": {
                        "text/plain": "array([0.25  ,  0.0625])"
                    },
                    "execution_count": null
                }
            ]
        },
        {
            "id": "4d3a5aed",
            "cell_type": "code",
            "metadata": {},
            "execution_count": null,
            "source": "np.emath.power([-2, 4], 2)",
            "outputs": [
                {
                    "output_type": "execute_result",
                    "metadata": {},
                    "data": {
                        "text/plain": "array([ 4.-0.j, 16.+0.j])"
                    },
                    "execution_count": null
                }
            ]
        },
        {
            "id": "88ada45a",
            "cell_type": "code",
            "metadata": {},
            "execution_count": null,
            "source": "np.emath.power([2, 4], [2, 4])",
            "outputs": [
                {
                    "output_type": "execute_result",
                    "metadata": {},
                    "data": {
                        "text/plain": "array([ 4, 256])"
                    },
                    "execution_count": null
                }
            ]
        }
    ]
}