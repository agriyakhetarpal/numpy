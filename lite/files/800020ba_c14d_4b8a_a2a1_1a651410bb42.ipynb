{
    "nbformat": 4,
    "nbformat_minor": 5,
    "metadata": {
        "kernelspec": {
            "display_name": "Python",
            "language": "python",
            "name": "python"
        },
        "language_info": {
            "name": "python"
        }
    },
    "cells": [
        {
            "id": "6a6775a6",
            "cell_type": "markdown",
            "source": "<div class='alert alert-warning'>\n\nNumPy's interactive examples are experimental and may not always work as expected, with high load times especially on low-resource platforms, and the version of NumPy might not be in sync with the one you are browsing the documentation for. If you encounter any issues, please report them on the [NumPy issue tracker](https://github.com/numpy/numpy/issues).\n\n</div>",
            "metadata": {}
        },
        {
            "id": "addc8053",
            "cell_type": "code",
            "metadata": {},
            "execution_count": null,
            "source": "import numpy as np\na = np.array([[10.0, 7, 4], [3, 2, 1]])\na[0, 1] = np.nan\na",
            "outputs": [
                {
                    "output_type": "execute_result",
                    "metadata": {},
                    "data": {
                        "text/plain": "array([[10., nan,  4.],\n       [ 3.,  2.,  1.]])"
                    },
                    "execution_count": null
                }
            ]
        },
        {
            "id": "7a31ac9d",
            "cell_type": "code",
            "metadata": {},
            "execution_count": null,
            "source": "np.median(a)",
            "outputs": [
                {
                    "output_type": "execute_result",
                    "metadata": {},
                    "data": {
                        "text/plain": "np.float64(nan)"
                    },
                    "execution_count": null
                }
            ]
        },
        {
            "id": "b1eb081e",
            "cell_type": "code",
            "metadata": {},
            "execution_count": null,
            "source": "np.nanmedian(a)",
            "outputs": [
                {
                    "output_type": "execute_result",
                    "metadata": {},
                    "data": {
                        "text/plain": "3.0"
                    },
                    "execution_count": null
                }
            ]
        },
        {
            "id": "0694ac07",
            "cell_type": "code",
            "metadata": {},
            "execution_count": null,
            "source": "np.nanmedian(a, axis=0)",
            "outputs": [
                {
                    "output_type": "execute_result",
                    "metadata": {},
                    "data": {
                        "text/plain": "array([6.5, 2. , 2.5])"
                    },
                    "execution_count": null
                }
            ]
        },
        {
            "id": "f2d718d5",
            "cell_type": "code",
            "metadata": {},
            "execution_count": null,
            "source": "np.median(a, axis=1)",
            "outputs": [
                {
                    "output_type": "execute_result",
                    "metadata": {},
                    "data": {
                        "text/plain": "array([nan,  2.])"
                    },
                    "execution_count": null
                }
            ]
        },
        {
            "id": "0144ba50",
            "cell_type": "code",
            "metadata": {},
            "execution_count": null,
            "source": "b = a.copy()\nnp.nanmedian(b, axis=1, overwrite_input=True)",
            "outputs": [
                {
                    "output_type": "execute_result",
                    "metadata": {},
                    "data": {
                        "text/plain": "array([7.,  2.])"
                    },
                    "execution_count": null
                }
            ]
        },
        {
            "id": "bad6c9a2",
            "cell_type": "code",
            "metadata": {},
            "execution_count": null,
            "source": "assert not np.all(a==b)\nb = a.copy()\nnp.nanmedian(b, axis=None, overwrite_input=True)",
            "outputs": [
                {
                    "output_type": "execute_result",
                    "metadata": {},
                    "data": {
                        "text/plain": "3.0"
                    },
                    "execution_count": null
                }
            ]
        },
        {
            "id": "b62023f9",
            "cell_type": "code",
            "metadata": {},
            "execution_count": null,
            "source": "assert not np.all(a==b)",
            "outputs": []
        }
    ]
}