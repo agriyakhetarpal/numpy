{
    "nbformat": 4,
    "nbformat_minor": 5,
    "metadata": {
        "kernelspec": {
            "display_name": "Python",
            "language": "python",
            "name": "python"
        },
        "language_info": {
            "name": "python"
        }
    },
    "cells": [
        {
            "id": "dd614044",
            "cell_type": "markdown",
            "source": "<div class='alert alert-warning'>\n\nNumPy's interactive examples are experimental and may not always work as expected, with high load times especially on low-resource platforms, , and the version of NumPy might not be in sync with the one you are browsing the documentation for. If you encounter any issues, please report them on the [NumPy issue tracker](https://github.com/numpy/numpy/issues).\n\n</div>",
            "metadata": {}
        },
        {
            "id": "059ead3f",
            "cell_type": "markdown",
            "source": "Create an array with two fields, ``x`` and ``y``:\n",
            "metadata": {}
        },
        {
            "id": "896707ab",
            "cell_type": "code",
            "metadata": {},
            "execution_count": null,
            "source": "import numpy as np\nx = np.array([(1.0, 2), (3.0, 4)], dtype=[('x', '<f8'), ('y', '<i8')])\nx",
            "outputs": [
                {
                    "output_type": "execute_result",
                    "metadata": {},
                    "data": {
                        "text/plain": "array([(1., 2), (3., 4)], dtype=[('x', '<f8'), ('y', '<i8')])"
                    },
                    "execution_count": null
                }
            ]
        },
        {
            "id": "d198c48d",
            "cell_type": "code",
            "metadata": {},
            "execution_count": null,
            "source": "x['x']",
            "outputs": [
                {
                    "output_type": "execute_result",
                    "metadata": {},
                    "data": {
                        "text/plain": "array([1., 3.])"
                    },
                    "execution_count": null
                }
            ]
        },
        {
            "id": "c787220d",
            "cell_type": "markdown",
            "source": "View the array as a record array:\n",
            "metadata": {}
        },
        {
            "id": "859c0a53",
            "cell_type": "code",
            "metadata": {},
            "execution_count": null,
            "source": "x = x.view(np.recarray)",
            "outputs": []
        },
        {
            "id": "3f7bc6b1",
            "cell_type": "code",
            "metadata": {},
            "execution_count": null,
            "source": "x.x",
            "outputs": [
                {
                    "output_type": "execute_result",
                    "metadata": {},
                    "data": {
                        "text/plain": "array([1., 3.])"
                    },
                    "execution_count": null
                }
            ]
        },
        {
            "id": "72fdeb5c",
            "cell_type": "code",
            "metadata": {},
            "execution_count": null,
            "source": "x.y",
            "outputs": [
                {
                    "output_type": "execute_result",
                    "metadata": {},
                    "data": {
                        "text/plain": "array([2, 4])"
                    },
                    "execution_count": null
                }
            ]
        },
        {
            "id": "d9f1b343",
            "cell_type": "markdown",
            "source": "Create a new, empty record array:\n",
            "metadata": {}
        },
        {
            "id": "03e222ad",
            "cell_type": "code",
            "metadata": {},
            "execution_count": null,
            "source": "np.recarray((2,),\ndtype=[('x', int), ('y', float), ('z', int)]) #doctest: +SKIP",
            "outputs": [
                {
                    "output_type": "execute_result",
                    "metadata": {},
                    "data": {
                        "text/plain": "rec.array([(-1073741821, 1.2249118382103472e-301, 24547520),\n       (3471280, 1.2134086255804012e-316, 0)],\n      dtype=[('x', '<i4'), ('y', '<f8'), ('z', '<i4')])"
                    },
                    "execution_count": null
                }
            ]
        }
    ]
}