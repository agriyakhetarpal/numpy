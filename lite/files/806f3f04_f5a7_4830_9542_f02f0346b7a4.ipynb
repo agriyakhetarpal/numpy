{
    "nbformat": 4,
    "nbformat_minor": 5,
    "metadata": {
        "kernelspec": {
            "display_name": "Python",
            "language": "python",
            "name": "python"
        },
        "language_info": {
            "name": "python"
        }
    },
    "cells": [
        {
            "id": "08bf9cf3",
            "cell_type": "markdown",
            "source": "<div class='alert alert-warning'>\n\nNumPy's interactive examples are experimental and may not always work as expected, with high load times especially on low-resource platforms, and the version of NumPy might not be in sync with the one you are browsing the documentation for. If you encounter any issues, please report them on the [NumPy issue tracker](https://github.com/numpy/numpy/issues).\n\n</div>",
            "metadata": {}
        },
        {
            "id": "94ca2ac5",
            "cell_type": "code",
            "metadata": {},
            "execution_count": null,
            "source": "np.void(5)",
            "outputs": [
                {
                    "output_type": "execute_result",
                    "metadata": {},
                    "data": {
                        "text/plain": "np.void(b'\\x00\\x00\\x00\\x00\\x00')"
                    },
                    "execution_count": null
                }
            ]
        },
        {
            "id": "a9d2d8e0",
            "cell_type": "code",
            "metadata": {},
            "execution_count": null,
            "source": "np.void(b'abcd')",
            "outputs": [
                {
                    "output_type": "execute_result",
                    "metadata": {},
                    "data": {
                        "text/plain": "np.void(b'\\x61\\x62\\x63\\x64')"
                    },
                    "execution_count": null
                }
            ]
        },
        {
            "id": "a15658a8",
            "cell_type": "code",
            "metadata": {},
            "execution_count": null,
            "source": "np.void((3.2, b'eggs'), dtype=\"d,S5\")",
            "outputs": [
                {
                    "output_type": "execute_result",
                    "metadata": {},
                    "data": {
                        "text/plain": "np.void((3.2, b'eggs'), dtype=[('f0', '<f8'), ('f1', 'S5')])"
                    },
                    "execution_count": null
                }
            ]
        },
        {
            "id": "afed1316",
            "cell_type": "code",
            "metadata": {},
            "execution_count": null,
            "source": "np.void(3, dtype=[('x', np.int8), ('y', np.int8)])",
            "outputs": [
                {
                    "output_type": "execute_result",
                    "metadata": {},
                    "data": {
                        "text/plain": "np.void((3, 3), dtype=[('x', 'i1'), ('y', 'i1')])"
                    },
                    "execution_count": null
                }
            ]
        },
        {
            "id": "9046aa5e",
            "cell_type": "markdown",
            "source": ":Character code: ``'V'``",
            "metadata": {}
        }
    ]
}