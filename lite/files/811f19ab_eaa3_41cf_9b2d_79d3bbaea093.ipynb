{
    "nbformat": 4,
    "nbformat_minor": 5,
    "metadata": {
        "kernelspec": {
            "display_name": "Python",
            "language": "python",
            "name": "python"
        },
        "language_info": {
            "name": "python"
        }
    },
    "cells": [
        {
            "id": "a40df395",
            "cell_type": "markdown",
            "source": "<div class='alert alert-warning'>\n\nNumPy's interactive examples are experimental and may not always work as expected, with high load times especially on low-resource platforms, and the version of NumPy might not be in sync with the one you are browsing the documentation for. If you encounter any issues, please report them on the [NumPy issue tracker](https://github.com/numpy/numpy/issues).\n\n</div>",
            "metadata": {}
        },
        {
            "id": "64b93030",
            "cell_type": "markdown",
            "source": "Vector cross-product.\n",
            "metadata": {}
        },
        {
            "id": "83669cf7",
            "cell_type": "code",
            "metadata": {},
            "execution_count": null,
            "source": "import numpy as np\nx = [1, 2, 3]\ny = [4, 5, 6]\nnp.cross(x, y)",
            "outputs": [
                {
                    "output_type": "execute_result",
                    "metadata": {},
                    "data": {
                        "text/plain": "array([-3,  6, -3])"
                    },
                    "execution_count": null
                }
            ]
        },
        {
            "id": "58a789ba",
            "cell_type": "markdown",
            "source": "One vector with dimension 2.\n",
            "metadata": {}
        },
        {
            "id": "a282d865",
            "cell_type": "code",
            "metadata": {},
            "execution_count": null,
            "source": "x = [1, 2]\ny = [4, 5, 6]\nnp.cross(x, y)",
            "outputs": [
                {
                    "output_type": "execute_result",
                    "metadata": {},
                    "data": {
                        "text/plain": "array([12, -6, -3])"
                    },
                    "execution_count": null
                }
            ]
        },
        {
            "id": "e54b824f",
            "cell_type": "markdown",
            "source": "Equivalently:\n",
            "metadata": {}
        },
        {
            "id": "e8ad128d",
            "cell_type": "code",
            "metadata": {},
            "execution_count": null,
            "source": "x = [1, 2, 0]\ny = [4, 5, 6]\nnp.cross(x, y)",
            "outputs": [
                {
                    "output_type": "execute_result",
                    "metadata": {},
                    "data": {
                        "text/plain": "array([12, -6, -3])"
                    },
                    "execution_count": null
                }
            ]
        },
        {
            "id": "4e4e16b1",
            "cell_type": "markdown",
            "source": "Both vectors with dimension 2.\n",
            "metadata": {}
        },
        {
            "id": "c6268603",
            "cell_type": "code",
            "metadata": {},
            "execution_count": null,
            "source": "x = [1,2]\ny = [4,5]\nnp.cross(x, y)",
            "outputs": [
                {
                    "output_type": "execute_result",
                    "metadata": {},
                    "data": {
                        "text/plain": "array(-3)"
                    },
                    "execution_count": null
                }
            ]
        },
        {
            "id": "6a421e4d",
            "cell_type": "markdown",
            "source": "Multiple vector cross-products. Note that the direction of the cross\nproduct vector is defined by the *right-hand rule*.\n",
            "metadata": {}
        },
        {
            "id": "7f0f997b",
            "cell_type": "code",
            "metadata": {},
            "execution_count": null,
            "source": "x = np.array([[1,2,3], [4,5,6]])\ny = np.array([[4,5,6], [1,2,3]])\nnp.cross(x, y)",
            "outputs": [
                {
                    "output_type": "execute_result",
                    "metadata": {},
                    "data": {
                        "text/plain": "array([[-3,  6, -3],\n       [ 3, -6,  3]])"
                    },
                    "execution_count": null
                }
            ]
        },
        {
            "id": "583ed66f",
            "cell_type": "markdown",
            "source": "The orientation of `c` can be changed using the `axisc` keyword.\n",
            "metadata": {}
        },
        {
            "id": "ef3c8626",
            "cell_type": "code",
            "metadata": {},
            "execution_count": null,
            "source": "np.cross(x, y, axisc=0)",
            "outputs": [
                {
                    "output_type": "execute_result",
                    "metadata": {},
                    "data": {
                        "text/plain": "array([[-3,  3],\n       [ 6, -6],\n       [-3,  3]])"
                    },
                    "execution_count": null
                }
            ]
        },
        {
            "id": "65ed8c01",
            "cell_type": "markdown",
            "source": "Change the vector definition of `x` and `y` using `axisa` and `axisb`.\n",
            "metadata": {}
        },
        {
            "id": "6d3bdb90",
            "cell_type": "code",
            "metadata": {},
            "execution_count": null,
            "source": "x = np.array([[1,2,3], [4,5,6], [7, 8, 9]])\ny = np.array([[7, 8, 9], [4,5,6], [1,2,3]])\nnp.cross(x, y)",
            "outputs": [
                {
                    "output_type": "execute_result",
                    "metadata": {},
                    "data": {
                        "text/plain": "array([[ -6,  12,  -6],\n       [  0,   0,   0],\n       [  6, -12,   6]])"
                    },
                    "execution_count": null
                }
            ]
        },
        {
            "id": "c78add6a",
            "cell_type": "code",
            "metadata": {},
            "execution_count": null,
            "source": "np.cross(x, y, axisa=0, axisb=0)",
            "outputs": [
                {
                    "output_type": "execute_result",
                    "metadata": {},
                    "data": {
                        "text/plain": "array([[-24,  48, -24],\n       [-30,  60, -30],\n       [-36,  72, -36]])"
                    },
                    "execution_count": null
                }
            ]
        }
    ]
}