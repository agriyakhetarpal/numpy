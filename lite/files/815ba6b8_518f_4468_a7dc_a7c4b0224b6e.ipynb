{
    "nbformat": 4,
    "nbformat_minor": 5,
    "metadata": {
        "kernelspec": {
            "display_name": "Python",
            "language": "python",
            "name": "python"
        },
        "language_info": {
            "name": "python"
        }
    },
    "cells": [
        {
            "id": "c16d9d6f",
            "cell_type": "markdown",
            "source": "<div class='alert alert-warning'>\n\nNumPy's interactive examples are experimental and may not always work as expected, with high load times especially on low-resource platforms, and the version of NumPy might not be in sync with the one you are browsing the documentation for. If you encounter any issues, please report them on the [NumPy issue tracker](https://github.com/numpy/numpy/issues).\n\n</div>",
            "metadata": {}
        },
        {
            "id": "a1914ccd",
            "cell_type": "code",
            "metadata": {},
            "execution_count": null,
            "source": "import numpy as np",
            "outputs": []
        },
        {
            "id": "45950fdf",
            "cell_type": "markdown",
            "source": "Dimensions as individual arguments\n",
            "metadata": {}
        },
        {
            "id": "1d823001",
            "cell_type": "code",
            "metadata": {},
            "execution_count": null,
            "source": "for index in np.ndindex(3, 2, 1):\n    print(index)",
            "outputs": [
                {
                    "output_type": "execute_result",
                    "metadata": {},
                    "data": {
                        "text/plain": "(0, 0, 0)\n(0, 1, 0)\n(1, 0, 0)\n(1, 1, 0)\n(2, 0, 0)\n(2, 1, 0)"
                    },
                    "execution_count": null
                }
            ]
        },
        {
            "id": "b9e8f0ea",
            "cell_type": "markdown",
            "source": "Same dimensions - but in a tuple ``(3, 2, 1)``\n",
            "metadata": {}
        },
        {
            "id": "0db1ee4c",
            "cell_type": "code",
            "metadata": {},
            "execution_count": null,
            "source": "for index in np.ndindex((3, 2, 1)):\n    print(index)",
            "outputs": [
                {
                    "output_type": "execute_result",
                    "metadata": {},
                    "data": {
                        "text/plain": "(0, 0, 0)\n(0, 1, 0)\n(1, 0, 0)\n(1, 1, 0)\n(2, 0, 0)\n(2, 1, 0)"
                    },
                    "execution_count": null
                }
            ]
        }
    ]
}