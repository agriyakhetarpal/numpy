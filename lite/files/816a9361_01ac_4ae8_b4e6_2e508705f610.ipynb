{
    "nbformat": 4,
    "nbformat_minor": 5,
    "metadata": {
        "kernelspec": {
            "display_name": "Python",
            "language": "python",
            "name": "python"
        },
        "language_info": {
            "name": "python"
        }
    },
    "cells": [
        {
            "id": "058278d9",
            "cell_type": "markdown",
            "source": "<div class='alert alert-warning'>\n\nNumPy's interactive examples are experimental and may not always work as expected, with high load times especially on low-resource platforms, and the version of NumPy might not be in sync with the one you are browsing the documentation for. If you encounter any issues, please report them on the [NumPy issue tracker](https://github.com/numpy/numpy/issues).\n\n</div>",
            "metadata": {}
        },
        {
            "id": "1cb8de14",
            "cell_type": "markdown",
            "source": "`issubdtype` can be used to check the type of arrays:\n",
            "metadata": {}
        },
        {
            "id": "1fde4d5f",
            "cell_type": "code",
            "metadata": {},
            "execution_count": null,
            "source": "ints = np.array([1, 2, 3], dtype=np.int32)\nnp.issubdtype(ints.dtype, np.integer)",
            "outputs": [
                {
                    "output_type": "execute_result",
                    "metadata": {},
                    "data": {
                        "text/plain": "True"
                    },
                    "execution_count": null
                }
            ]
        },
        {
            "id": "01dd9d07",
            "cell_type": "code",
            "metadata": {},
            "execution_count": null,
            "source": "np.issubdtype(ints.dtype, np.floating)",
            "outputs": [
                {
                    "output_type": "execute_result",
                    "metadata": {},
                    "data": {
                        "text/plain": "False"
                    },
                    "execution_count": null
                }
            ]
        },
        {
            "id": "57c38433",
            "cell_type": "code",
            "metadata": {},
            "execution_count": null,
            "source": "floats = np.array([1, 2, 3], dtype=np.float32)\nnp.issubdtype(floats.dtype, np.integer)",
            "outputs": [
                {
                    "output_type": "execute_result",
                    "metadata": {},
                    "data": {
                        "text/plain": "False"
                    },
                    "execution_count": null
                }
            ]
        },
        {
            "id": "54adfb36",
            "cell_type": "code",
            "metadata": {},
            "execution_count": null,
            "source": "np.issubdtype(floats.dtype, np.floating)",
            "outputs": [
                {
                    "output_type": "execute_result",
                    "metadata": {},
                    "data": {
                        "text/plain": "True"
                    },
                    "execution_count": null
                }
            ]
        },
        {
            "id": "6d0bb83d",
            "cell_type": "markdown",
            "source": "Similar types of different sizes are not subdtypes of each other:\n",
            "metadata": {}
        },
        {
            "id": "961a15bf",
            "cell_type": "code",
            "metadata": {},
            "execution_count": null,
            "source": "np.issubdtype(np.float64, np.float32)",
            "outputs": [
                {
                    "output_type": "execute_result",
                    "metadata": {},
                    "data": {
                        "text/plain": "False"
                    },
                    "execution_count": null
                }
            ]
        },
        {
            "id": "e1a7b49a",
            "cell_type": "code",
            "metadata": {},
            "execution_count": null,
            "source": "np.issubdtype(np.float32, np.float64)",
            "outputs": [
                {
                    "output_type": "execute_result",
                    "metadata": {},
                    "data": {
                        "text/plain": "False"
                    },
                    "execution_count": null
                }
            ]
        },
        {
            "id": "0975e467",
            "cell_type": "markdown",
            "source": "but both are subtypes of `floating`:\n",
            "metadata": {}
        },
        {
            "id": "cb83f128",
            "cell_type": "code",
            "metadata": {},
            "execution_count": null,
            "source": "np.issubdtype(np.float64, np.floating)",
            "outputs": [
                {
                    "output_type": "execute_result",
                    "metadata": {},
                    "data": {
                        "text/plain": "True"
                    },
                    "execution_count": null
                }
            ]
        },
        {
            "id": "617aaf93",
            "cell_type": "code",
            "metadata": {},
            "execution_count": null,
            "source": "np.issubdtype(np.float32, np.floating)",
            "outputs": [
                {
                    "output_type": "execute_result",
                    "metadata": {},
                    "data": {
                        "text/plain": "True"
                    },
                    "execution_count": null
                }
            ]
        },
        {
            "id": "6a647686",
            "cell_type": "markdown",
            "source": "For convenience, dtype-like objects are allowed too:\n",
            "metadata": {}
        },
        {
            "id": "647b5099",
            "cell_type": "code",
            "metadata": {},
            "execution_count": null,
            "source": "np.issubdtype('S1', np.bytes_)",
            "outputs": [
                {
                    "output_type": "execute_result",
                    "metadata": {},
                    "data": {
                        "text/plain": "True"
                    },
                    "execution_count": null
                }
            ]
        },
        {
            "id": "4a617463",
            "cell_type": "code",
            "metadata": {},
            "execution_count": null,
            "source": "np.issubdtype('i4', np.signedinteger)",
            "outputs": [
                {
                    "output_type": "execute_result",
                    "metadata": {},
                    "data": {
                        "text/plain": "True"
                    },
                    "execution_count": null
                }
            ]
        }
    ]
}