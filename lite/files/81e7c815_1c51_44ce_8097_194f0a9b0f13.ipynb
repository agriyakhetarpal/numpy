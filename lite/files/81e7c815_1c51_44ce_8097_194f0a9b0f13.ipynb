{
    "nbformat": 4,
    "nbformat_minor": 5,
    "metadata": {
        "kernelspec": {
            "display_name": "Python",
            "language": "python",
            "name": "python"
        },
        "language_info": {
            "name": "python"
        }
    },
    "cells": [
        {
            "id": "844f70be",
            "cell_type": "markdown",
            "source": "<div class='alert alert-warning'>\n\nNumPy's interactive examples are experimental and may not always work as expected, with high load times especially on low-resource platforms, and the version of NumPy might not be in sync with the one you are browsing the documentation for. If you encounter any issues, please report them on the [NumPy issue tracker](https://github.com/numpy/numpy/issues).\n\n</div>",
            "metadata": {}
        },
        {
            "id": "0f1ec669",
            "cell_type": "code",
            "metadata": {},
            "execution_count": null,
            "source": "import numpy as np\ntest = np.array([0, 1, 2, 5, 0])\nstates = [0, 2]\nmask = np.in1d(test, states)\nmask",
            "outputs": [
                {
                    "output_type": "execute_result",
                    "metadata": {},
                    "data": {
                        "text/plain": "array([ True, False,  True, False,  True])"
                    },
                    "execution_count": null
                }
            ]
        },
        {
            "id": "2858225e",
            "cell_type": "code",
            "metadata": {},
            "execution_count": null,
            "source": "test[mask]",
            "outputs": [
                {
                    "output_type": "execute_result",
                    "metadata": {},
                    "data": {
                        "text/plain": "array([0, 2, 0])"
                    },
                    "execution_count": null
                }
            ]
        },
        {
            "id": "33c7c4ba",
            "cell_type": "code",
            "metadata": {},
            "execution_count": null,
            "source": "mask = np.in1d(test, states, invert=True)\nmask",
            "outputs": [
                {
                    "output_type": "execute_result",
                    "metadata": {},
                    "data": {
                        "text/plain": "array([False,  True, False,  True, False])"
                    },
                    "execution_count": null
                }
            ]
        },
        {
            "id": "debcf35a",
            "cell_type": "code",
            "metadata": {},
            "execution_count": null,
            "source": "test[mask]",
            "outputs": [
                {
                    "output_type": "execute_result",
                    "metadata": {},
                    "data": {
                        "text/plain": "array([1, 5])"
                    },
                    "execution_count": null
                }
            ]
        }
    ]
}