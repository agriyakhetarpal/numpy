{
    "nbformat": 4,
    "nbformat_minor": 5,
    "metadata": {
        "kernelspec": {
            "display_name": "Python",
            "language": "python",
            "name": "python"
        },
        "language_info": {
            "name": "python"
        }
    },
    "cells": [
        {
            "id": "d877d988",
            "cell_type": "markdown",
            "source": "<div class='alert alert-warning'>\n\nNumPy's interactive examples are experimental and may not always work as expected, with high load times especially on low-resource platforms, , and the version of NumPy might not be in sync with the one you are browsing the documentation for. If you encounter any issues, please report them on the [NumPy issue tracker](https://github.com/numpy/numpy/issues).\n\n</div>",
            "metadata": {}
        },
        {
            "id": "41ec3bb6",
            "cell_type": "markdown",
            "source": "Make a (*very* coarse) grid for computing a Mandelbrot set:\n",
            "metadata": {}
        },
        {
            "id": "afa55de3",
            "cell_type": "code",
            "metadata": {},
            "execution_count": null,
            "source": "import numpy as np\nrl = np.outer(np.ones((5,)), np.linspace(-2, 2, 5))\nrl",
            "outputs": [
                {
                    "output_type": "execute_result",
                    "metadata": {},
                    "data": {
                        "text/plain": "array([[-2., -1.,  0.,  1.,  2.],\n       [-2., -1.,  0.,  1.,  2.],\n       [-2., -1.,  0.,  1.,  2.],\n       [-2., -1.,  0.,  1.,  2.],\n       [-2., -1.,  0.,  1.,  2.]])"
                    },
                    "execution_count": null
                }
            ]
        },
        {
            "id": "b39ee94d",
            "cell_type": "code",
            "metadata": {},
            "execution_count": null,
            "source": "im = np.outer(1j*np.linspace(2, -2, 5), np.ones((5,)))\nim",
            "outputs": [
                {
                    "output_type": "execute_result",
                    "metadata": {},
                    "data": {
                        "text/plain": "array([[0.+2.j, 0.+2.j, 0.+2.j, 0.+2.j, 0.+2.j],\n       [0.+1.j, 0.+1.j, 0.+1.j, 0.+1.j, 0.+1.j],\n       [0.+0.j, 0.+0.j, 0.+0.j, 0.+0.j, 0.+0.j],\n       [0.-1.j, 0.-1.j, 0.-1.j, 0.-1.j, 0.-1.j],\n       [0.-2.j, 0.-2.j, 0.-2.j, 0.-2.j, 0.-2.j]])"
                    },
                    "execution_count": null
                }
            ]
        },
        {
            "id": "64ef0cb7",
            "cell_type": "code",
            "metadata": {},
            "execution_count": null,
            "source": "grid = rl + im\ngrid",
            "outputs": [
                {
                    "output_type": "execute_result",
                    "metadata": {},
                    "data": {
                        "text/plain": "array([[-2.+2.j, -1.+2.j,  0.+2.j,  1.+2.j,  2.+2.j],\n       [-2.+1.j, -1.+1.j,  0.+1.j,  1.+1.j,  2.+1.j],\n       [-2.+0.j, -1.+0.j,  0.+0.j,  1.+0.j,  2.+0.j],\n       [-2.-1.j, -1.-1.j,  0.-1.j,  1.-1.j,  2.-1.j],\n       [-2.-2.j, -1.-2.j,  0.-2.j,  1.-2.j,  2.-2.j]])"
                    },
                    "execution_count": null
                }
            ]
        },
        {
            "id": "9b2f5be2",
            "cell_type": "markdown",
            "source": "An example using a \"vector\" of letters:\n",
            "metadata": {}
        },
        {
            "id": "fccd0f09",
            "cell_type": "code",
            "metadata": {},
            "execution_count": null,
            "source": "x = np.array(['a', 'b', 'c'], dtype=object)\nnp.outer(x, [1, 2, 3])",
            "outputs": [
                {
                    "output_type": "execute_result",
                    "metadata": {},
                    "data": {
                        "text/plain": "array([['a', 'aa', 'aaa'],\n       ['b', 'bb', 'bbb'],\n       ['c', 'cc', 'ccc']], dtype=object)"
                    },
                    "execution_count": null
                }
            ]
        }
    ]
}