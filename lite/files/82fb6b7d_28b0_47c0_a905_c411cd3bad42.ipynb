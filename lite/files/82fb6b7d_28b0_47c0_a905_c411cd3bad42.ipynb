{
    "nbformat": 4,
    "nbformat_minor": 5,
    "metadata": {
        "kernelspec": {
            "display_name": "Python",
            "language": "python",
            "name": "python"
        },
        "language_info": {
            "name": "python"
        }
    },
    "cells": [
        {
            "id": "ce8eaa5a",
            "cell_type": "markdown",
            "source": "<div class='alert alert-warning'>\n\nNumPy's interactive examples are experimental and may not always work as expected, with high load times especially on low-resource platforms, and the version of NumPy might not be in sync with the one you are browsing the documentation for. If you encounter any issues, please report them on the [NumPy issue tracker](https://github.com/numpy/numpy/issues).\n\n</div>",
            "metadata": {}
        },
        {
            "id": "9d580bf1",
            "cell_type": "code",
            "metadata": {},
            "execution_count": null,
            "source": "import numpy as np\nnp.unique([1, 1, 2, 2, 3, 3])",
            "outputs": [
                {
                    "output_type": "execute_result",
                    "metadata": {},
                    "data": {
                        "text/plain": "array([1, 2, 3])"
                    },
                    "execution_count": null
                }
            ]
        },
        {
            "id": "8025e29e",
            "cell_type": "code",
            "metadata": {},
            "execution_count": null,
            "source": "a = np.array([[1, 1], [2, 3]])\nnp.unique(a)",
            "outputs": [
                {
                    "output_type": "execute_result",
                    "metadata": {},
                    "data": {
                        "text/plain": "array([1, 2, 3])"
                    },
                    "execution_count": null
                }
            ]
        },
        {
            "id": "8d77c971",
            "cell_type": "markdown",
            "source": "Return the unique rows of a 2D array\n",
            "metadata": {}
        },
        {
            "id": "87a6a04c",
            "cell_type": "code",
            "metadata": {},
            "execution_count": null,
            "source": "a = np.array([[1, 0, 0], [1, 0, 0], [2, 3, 4]])\nnp.unique(a, axis=0)",
            "outputs": [
                {
                    "output_type": "execute_result",
                    "metadata": {},
                    "data": {
                        "text/plain": "array([[1, 0, 0], [2, 3, 4]])"
                    },
                    "execution_count": null
                }
            ]
        },
        {
            "id": "92f2d52f",
            "cell_type": "markdown",
            "source": "Return the indices of the original array that give the unique values:\n",
            "metadata": {}
        },
        {
            "id": "25ec33a9",
            "cell_type": "code",
            "metadata": {},
            "execution_count": null,
            "source": "a = np.array(['a', 'b', 'b', 'c', 'a'])\nu, indices = np.unique(a, return_index=True)\nu",
            "outputs": [
                {
                    "output_type": "execute_result",
                    "metadata": {},
                    "data": {
                        "text/plain": "array(['a', 'b', 'c'], dtype='<U1')"
                    },
                    "execution_count": null
                }
            ]
        },
        {
            "id": "ad1a2b71",
            "cell_type": "code",
            "metadata": {},
            "execution_count": null,
            "source": "indices",
            "outputs": [
                {
                    "output_type": "execute_result",
                    "metadata": {},
                    "data": {
                        "text/plain": "array([0, 1, 3])"
                    },
                    "execution_count": null
                }
            ]
        },
        {
            "id": "4d4f4e98",
            "cell_type": "code",
            "metadata": {},
            "execution_count": null,
            "source": "a[indices]",
            "outputs": [
                {
                    "output_type": "execute_result",
                    "metadata": {},
                    "data": {
                        "text/plain": "array(['a', 'b', 'c'], dtype='<U1')"
                    },
                    "execution_count": null
                }
            ]
        },
        {
            "id": "44309ec7",
            "cell_type": "markdown",
            "source": "Reconstruct the input array from the unique values and inverse:\n",
            "metadata": {}
        },
        {
            "id": "14aec55d",
            "cell_type": "code",
            "metadata": {},
            "execution_count": null,
            "source": "a = np.array([1, 2, 6, 4, 2, 3, 2])\nu, indices = np.unique(a, return_inverse=True)\nu",
            "outputs": [
                {
                    "output_type": "execute_result",
                    "metadata": {},
                    "data": {
                        "text/plain": "array([1, 2, 3, 4, 6])"
                    },
                    "execution_count": null
                }
            ]
        },
        {
            "id": "b20a616a",
            "cell_type": "code",
            "metadata": {},
            "execution_count": null,
            "source": "indices",
            "outputs": [
                {
                    "output_type": "execute_result",
                    "metadata": {},
                    "data": {
                        "text/plain": "array([0, 1, 4, 3, 1, 2, 1])"
                    },
                    "execution_count": null
                }
            ]
        },
        {
            "id": "8f90626d",
            "cell_type": "code",
            "metadata": {},
            "execution_count": null,
            "source": "u[indices]",
            "outputs": [
                {
                    "output_type": "execute_result",
                    "metadata": {},
                    "data": {
                        "text/plain": "array([1, 2, 6, 4, 2, 3, 2])"
                    },
                    "execution_count": null
                }
            ]
        },
        {
            "id": "4c753627",
            "cell_type": "markdown",
            "source": "Reconstruct the input values from the unique values and counts:\n",
            "metadata": {}
        },
        {
            "id": "1564c13e",
            "cell_type": "code",
            "metadata": {},
            "execution_count": null,
            "source": "a = np.array([1, 2, 6, 4, 2, 3, 2])\nvalues, counts = np.unique(a, return_counts=True)\nvalues",
            "outputs": [
                {
                    "output_type": "execute_result",
                    "metadata": {},
                    "data": {
                        "text/plain": "array([1, 2, 3, 4, 6])"
                    },
                    "execution_count": null
                }
            ]
        },
        {
            "id": "7d571710",
            "cell_type": "code",
            "metadata": {},
            "execution_count": null,
            "source": "counts",
            "outputs": [
                {
                    "output_type": "execute_result",
                    "metadata": {},
                    "data": {
                        "text/plain": "array([1, 3, 1, 1, 1])"
                    },
                    "execution_count": null
                }
            ]
        },
        {
            "id": "3030cced",
            "cell_type": "code",
            "metadata": {},
            "execution_count": null,
            "source": "np.repeat(values, counts)",
            "outputs": [
                {
                    "output_type": "execute_result",
                    "metadata": {},
                    "data": {
                        "text/plain": "array([1, 2, 2, 2, 3, 4, 6])    # original order not preserved"
                    },
                    "execution_count": null
                }
            ]
        }
    ]
}