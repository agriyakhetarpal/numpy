{
    "nbformat": 4,
    "nbformat_minor": 5,
    "metadata": {
        "kernelspec": {
            "display_name": "Python",
            "language": "python",
            "name": "python"
        },
        "language_info": {
            "name": "python"
        }
    },
    "cells": [
        {
            "id": "c56eb4d6",
            "cell_type": "markdown",
            "source": "<div class='alert alert-warning'>\n\nNumPy's interactive examples are experimental and may not always work as expected, with high load times especially on low-resource platforms, , and the version of NumPy might not be in sync with the one you are browsing the documentation for. If you encounter any issues, please report them on the [NumPy issue tracker](https://github.com/numpy/numpy/issues).\n\n</div>",
            "metadata": {}
        },
        {
            "id": "c0088bf7",
            "cell_type": "code",
            "metadata": {},
            "execution_count": null,
            "source": "import numpy as np\ndata = np.arange(12, dtype='float32')\ndata.resize((3,4))",
            "outputs": []
        },
        {
            "id": "c4096924",
            "cell_type": "markdown",
            "source": "This example uses a temporary file so that doctest doesn't write\nfiles to your directory. You would use a 'normal' filename.\n",
            "metadata": {}
        },
        {
            "id": "3b090bc2",
            "cell_type": "code",
            "metadata": {},
            "execution_count": null,
            "source": "from tempfile import mkdtemp\nimport os.path as path\nfilename = path.join(mkdtemp(), 'newfile.dat')",
            "outputs": []
        },
        {
            "id": "586cccfa",
            "cell_type": "markdown",
            "source": "Create a memmap with dtype and shape that matches our data:\n",
            "metadata": {}
        },
        {
            "id": "656135b0",
            "cell_type": "code",
            "metadata": {},
            "execution_count": null,
            "source": "fp = np.memmap(filename, dtype='float32', mode='w+', shape=(3,4))\nfp",
            "outputs": [
                {
                    "output_type": "execute_result",
                    "metadata": {},
                    "data": {
                        "text/plain": "memmap([[0., 0., 0., 0.],\n        [0., 0., 0., 0.],\n        [0., 0., 0., 0.]], dtype=float32)"
                    },
                    "execution_count": null
                }
            ]
        },
        {
            "id": "f66a4e6b",
            "cell_type": "markdown",
            "source": "Write data to memmap array:\n",
            "metadata": {}
        },
        {
            "id": "c890616e",
            "cell_type": "code",
            "metadata": {},
            "execution_count": null,
            "source": "fp[:] = data[:]\nfp",
            "outputs": [
                {
                    "output_type": "execute_result",
                    "metadata": {},
                    "data": {
                        "text/plain": "memmap([[  0.,   1.,   2.,   3.],\n        [  4.,   5.,   6.,   7.],\n        [  8.,   9.,  10.,  11.]], dtype=float32)"
                    },
                    "execution_count": null
                }
            ]
        },
        {
            "id": "91ee2b1d",
            "cell_type": "code",
            "metadata": {},
            "execution_count": null,
            "source": "fp.filename == path.abspath(filename)",
            "outputs": [
                {
                    "output_type": "execute_result",
                    "metadata": {},
                    "data": {
                        "text/plain": "True"
                    },
                    "execution_count": null
                }
            ]
        },
        {
            "id": "69262e19",
            "cell_type": "markdown",
            "source": "Flushes memory changes to disk in order to read them back\n",
            "metadata": {}
        },
        {
            "id": "faac4bab",
            "cell_type": "code",
            "metadata": {},
            "execution_count": null,
            "source": "fp.flush()",
            "outputs": []
        },
        {
            "id": "9b029bc2",
            "cell_type": "markdown",
            "source": "Load the memmap and verify data was stored:\n",
            "metadata": {}
        },
        {
            "id": "528a688b",
            "cell_type": "code",
            "metadata": {},
            "execution_count": null,
            "source": "newfp = np.memmap(filename, dtype='float32', mode='r', shape=(3,4))\nnewfp",
            "outputs": [
                {
                    "output_type": "execute_result",
                    "metadata": {},
                    "data": {
                        "text/plain": "memmap([[  0.,   1.,   2.,   3.],\n        [  4.,   5.,   6.,   7.],\n        [  8.,   9.,  10.,  11.]], dtype=float32)"
                    },
                    "execution_count": null
                }
            ]
        },
        {
            "id": "505856e5",
            "cell_type": "markdown",
            "source": "Read-only memmap:\n",
            "metadata": {}
        },
        {
            "id": "15858d18",
            "cell_type": "code",
            "metadata": {},
            "execution_count": null,
            "source": "fpr = np.memmap(filename, dtype='float32', mode='r', shape=(3,4))\nfpr.flags.writeable",
            "outputs": [
                {
                    "output_type": "execute_result",
                    "metadata": {},
                    "data": {
                        "text/plain": "False"
                    },
                    "execution_count": null
                }
            ]
        },
        {
            "id": "92ab43ab",
            "cell_type": "markdown",
            "source": "Copy-on-write memmap:\n",
            "metadata": {}
        },
        {
            "id": "f423f768",
            "cell_type": "code",
            "metadata": {},
            "execution_count": null,
            "source": "fpc = np.memmap(filename, dtype='float32', mode='c', shape=(3,4))\nfpc.flags.writeable",
            "outputs": [
                {
                    "output_type": "execute_result",
                    "metadata": {},
                    "data": {
                        "text/plain": "True"
                    },
                    "execution_count": null
                }
            ]
        },
        {
            "id": "084f5d7d",
            "cell_type": "markdown",
            "source": "It's possible to assign to copy-on-write array, but values are only\nwritten into the memory copy of the array, and not written to disk:\n",
            "metadata": {}
        },
        {
            "id": "1c3e0a78",
            "cell_type": "code",
            "metadata": {},
            "execution_count": null,
            "source": "fpc",
            "outputs": [
                {
                    "output_type": "execute_result",
                    "metadata": {},
                    "data": {
                        "text/plain": "memmap([[  0.,   1.,   2.,   3.],\n        [  4.,   5.,   6.,   7.],\n        [  8.,   9.,  10.,  11.]], dtype=float32)"
                    },
                    "execution_count": null
                }
            ]
        },
        {
            "id": "50718a30",
            "cell_type": "code",
            "metadata": {},
            "execution_count": null,
            "source": "fpc[0,:] = 0\nfpc",
            "outputs": [
                {
                    "output_type": "execute_result",
                    "metadata": {},
                    "data": {
                        "text/plain": "memmap([[  0.,   0.,   0.,   0.],\n        [  4.,   5.,   6.,   7.],\n        [  8.,   9.,  10.,  11.]], dtype=float32)"
                    },
                    "execution_count": null
                }
            ]
        },
        {
            "id": "5ed3fbe8",
            "cell_type": "markdown",
            "source": "File on disk is unchanged:\n",
            "metadata": {}
        },
        {
            "id": "553407e6",
            "cell_type": "code",
            "metadata": {},
            "execution_count": null,
            "source": "fpr",
            "outputs": [
                {
                    "output_type": "execute_result",
                    "metadata": {},
                    "data": {
                        "text/plain": "memmap([[  0.,   1.,   2.,   3.],\n        [  4.,   5.,   6.,   7.],\n        [  8.,   9.,  10.,  11.]], dtype=float32)"
                    },
                    "execution_count": null
                }
            ]
        },
        {
            "id": "699fe758",
            "cell_type": "markdown",
            "source": "Offset into a memmap:\n",
            "metadata": {}
        },
        {
            "id": "f17f77b3",
            "cell_type": "code",
            "metadata": {},
            "execution_count": null,
            "source": "fpo = np.memmap(filename, dtype='float32', mode='r', offset=16)\nfpo",
            "outputs": [
                {
                    "output_type": "execute_result",
                    "metadata": {},
                    "data": {
                        "text/plain": "memmap([  4.,   5.,   6.,   7.,   8.,   9.,  10.,  11.], dtype=float32)"
                    },
                    "execution_count": null
                }
            ]
        }
    ]
}