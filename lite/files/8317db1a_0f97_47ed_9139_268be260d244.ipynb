{
    "nbformat": 4,
    "nbformat_minor": 5,
    "metadata": {
        "kernelspec": {
            "display_name": "Python",
            "language": "python",
            "name": "python"
        },
        "language_info": {
            "name": "python"
        }
    },
    "cells": [
        {
            "id": "fdf8592a",
            "cell_type": "markdown",
            "source": "<div class='alert alert-warning'>\n\nNumPy's interactive examples are experimental and may not always work as expected, with high load times especially on low-resource platforms, and the version of NumPy might not be in sync with the one you are browsing the documentation for. If you encounter any issues, please report them on the [NumPy issue tracker](https://github.com/numpy/numpy/issues).\n\n</div>",
            "metadata": {}
        },
        {
            "id": "b7b5844d",
            "cell_type": "code",
            "metadata": {},
            "execution_count": null,
            "source": "import numpy as np\na = np.arange(6).reshape(2,3) + 10\na",
            "outputs": [
                {
                    "output_type": "execute_result",
                    "metadata": {},
                    "data": {
                        "text/plain": "array([[10, 11, 12],\n       [13, 14, 15]])"
                    },
                    "execution_count": null
                }
            ]
        },
        {
            "id": "53219494",
            "cell_type": "code",
            "metadata": {},
            "execution_count": null,
            "source": "np.argmin(a)",
            "outputs": [
                {
                    "output_type": "execute_result",
                    "metadata": {},
                    "data": {
                        "text/plain": "0"
                    },
                    "execution_count": null
                }
            ]
        },
        {
            "id": "9fa5f9ca",
            "cell_type": "code",
            "metadata": {},
            "execution_count": null,
            "source": "np.argmin(a, axis=0)",
            "outputs": [
                {
                    "output_type": "execute_result",
                    "metadata": {},
                    "data": {
                        "text/plain": "array([0, 0, 0])"
                    },
                    "execution_count": null
                }
            ]
        },
        {
            "id": "f4828a5a",
            "cell_type": "code",
            "metadata": {},
            "execution_count": null,
            "source": "np.argmin(a, axis=1)",
            "outputs": [
                {
                    "output_type": "execute_result",
                    "metadata": {},
                    "data": {
                        "text/plain": "array([0, 0])"
                    },
                    "execution_count": null
                }
            ]
        },
        {
            "id": "505abf55",
            "cell_type": "markdown",
            "source": "Indices of the minimum elements of a N-dimensional array:\n",
            "metadata": {}
        },
        {
            "id": "831c6296",
            "cell_type": "code",
            "metadata": {},
            "execution_count": null,
            "source": "ind = np.unravel_index(np.argmin(a, axis=None), a.shape)\nind",
            "outputs": [
                {
                    "output_type": "execute_result",
                    "metadata": {},
                    "data": {
                        "text/plain": "(0, 0)"
                    },
                    "execution_count": null
                }
            ]
        },
        {
            "id": "fd871339",
            "cell_type": "code",
            "metadata": {},
            "execution_count": null,
            "source": "a[ind]",
            "outputs": [
                {
                    "output_type": "execute_result",
                    "metadata": {},
                    "data": {
                        "text/plain": "10"
                    },
                    "execution_count": null
                }
            ]
        },
        {
            "id": "7bc0d53c",
            "cell_type": "code",
            "metadata": {},
            "execution_count": null,
            "source": "b = np.arange(6) + 10\nb[4] = 10\nb",
            "outputs": [
                {
                    "output_type": "execute_result",
                    "metadata": {},
                    "data": {
                        "text/plain": "array([10, 11, 12, 13, 10, 15])"
                    },
                    "execution_count": null
                }
            ]
        },
        {
            "id": "900c0c2a",
            "cell_type": "code",
            "metadata": {},
            "execution_count": null,
            "source": "np.argmin(b)  # Only the first occurrence is returned.",
            "outputs": [
                {
                    "output_type": "execute_result",
                    "metadata": {},
                    "data": {
                        "text/plain": "0"
                    },
                    "execution_count": null
                }
            ]
        },
        {
            "id": "26ceeda7",
            "cell_type": "code",
            "metadata": {},
            "execution_count": null,
            "source": "x = np.array([[4,2,3], [1,0,3]])\nindex_array = np.argmin(x, axis=-1)\n# Same as np.amin(x, axis=-1, keepdims=True)\nnp.take_along_axis(x, np.expand_dims(index_array, axis=-1), axis=-1)",
            "outputs": [
                {
                    "output_type": "execute_result",
                    "metadata": {},
                    "data": {
                        "text/plain": "array([[2],\n       [0]])"
                    },
                    "execution_count": null
                }
            ]
        },
        {
            "id": "015370d3",
            "cell_type": "code",
            "metadata": {},
            "execution_count": null,
            "source": "# Same as np.amax(x, axis=-1)\nnp.take_along_axis(x, np.expand_dims(index_array, axis=-1),\n    axis=-1).squeeze(axis=-1)",
            "outputs": [
                {
                    "output_type": "execute_result",
                    "metadata": {},
                    "data": {
                        "text/plain": "array([2, 0])"
                    },
                    "execution_count": null
                }
            ]
        },
        {
            "id": "b39db677",
            "cell_type": "markdown",
            "source": "Setting `keepdims` to `True`,\n",
            "metadata": {}
        },
        {
            "id": "897b3f2d",
            "cell_type": "code",
            "metadata": {},
            "execution_count": null,
            "source": "x = np.arange(24).reshape((2, 3, 4))\nres = np.argmin(x, axis=1, keepdims=True)\nres.shape",
            "outputs": [
                {
                    "output_type": "execute_result",
                    "metadata": {},
                    "data": {
                        "text/plain": "(2, 1, 4)"
                    },
                    "execution_count": null
                }
            ]
        }
    ]
}