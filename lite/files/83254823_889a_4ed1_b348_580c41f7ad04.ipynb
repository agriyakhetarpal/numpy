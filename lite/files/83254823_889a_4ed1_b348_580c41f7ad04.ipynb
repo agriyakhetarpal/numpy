{
    "nbformat": 4,
    "nbformat_minor": 5,
    "metadata": {
        "kernelspec": {
            "display_name": "Python",
            "language": "python",
            "name": "python"
        },
        "language_info": {
            "name": "python"
        }
    },
    "cells": [
        {
            "id": "64830291",
            "cell_type": "markdown",
            "source": "<div class='alert alert-warning'>\n\nNumPy's interactive examples are experimental and may not always work as expected, with high load times especially on low-resource platforms, , and the version of NumPy might not be in sync with the one you are browsing the documentation for. If you encounter any issues, please report them on the [NumPy issue tracker](https://github.com/numpy/numpy/issues).\n\n</div>",
            "metadata": {}
        },
        {
            "id": "6379e3f4",
            "cell_type": "code",
            "metadata": {},
            "execution_count": null,
            "source": "import numpy as np\nnp.fmod([-3, -2, -1, 1, 2, 3], 2)",
            "outputs": [
                {
                    "output_type": "execute_result",
                    "metadata": {},
                    "data": {
                        "text/plain": "array([-1,  0, -1,  1,  0,  1])"
                    },
                    "execution_count": null
                }
            ]
        },
        {
            "id": "a05c5b07",
            "cell_type": "code",
            "metadata": {},
            "execution_count": null,
            "source": "np.remainder([-3, -2, -1, 1, 2, 3], 2)",
            "outputs": [
                {
                    "output_type": "execute_result",
                    "metadata": {},
                    "data": {
                        "text/plain": "array([1, 0, 1, 1, 0, 1])"
                    },
                    "execution_count": null
                }
            ]
        },
        {
            "id": "b62210cd",
            "cell_type": "code",
            "metadata": {},
            "execution_count": null,
            "source": "np.fmod([5, 3], [2, 2.])",
            "outputs": [
                {
                    "output_type": "execute_result",
                    "metadata": {},
                    "data": {
                        "text/plain": "array([ 1.,  1.])"
                    },
                    "execution_count": null
                }
            ]
        },
        {
            "id": "ee58bb63",
            "cell_type": "code",
            "metadata": {},
            "execution_count": null,
            "source": "a = np.arange(-3, 3).reshape(3, 2)\na",
            "outputs": [
                {
                    "output_type": "execute_result",
                    "metadata": {},
                    "data": {
                        "text/plain": "array([[-3, -2],\n       [-1,  0],\n       [ 1,  2]])"
                    },
                    "execution_count": null
                }
            ]
        },
        {
            "id": "5c9c7a0e",
            "cell_type": "code",
            "metadata": {},
            "execution_count": null,
            "source": "np.fmod(a, [2,2])",
            "outputs": [
                {
                    "output_type": "execute_result",
                    "metadata": {},
                    "data": {
                        "text/plain": "array([[-1,  0],\n       [-1,  0],\n       [ 1,  0]])"
                    },
                    "execution_count": null
                }
            ]
        }
    ]
}