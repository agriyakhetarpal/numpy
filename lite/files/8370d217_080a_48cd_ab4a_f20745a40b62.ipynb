{
    "nbformat": 4,
    "nbformat_minor": 5,
    "metadata": {
        "kernelspec": {
            "display_name": "Python",
            "language": "python",
            "name": "python"
        },
        "language_info": {
            "name": "python"
        }
    },
    "cells": [
        {
            "id": "fa7cb3a2",
            "cell_type": "markdown",
            "source": "<div class='alert alert-warning'>\n\nNumPy's interactive examples are experimental and may not always work as expected, with high load times especially on low-resource platforms, and the version of NumPy might not be in sync with the one you are browsing the documentation for. If you encounter any issues, please report them on the [NumPy issue tracker](https://github.com/numpy/numpy/issues).\n\n</div>",
            "metadata": {}
        },
        {
            "id": "13000b70",
            "cell_type": "markdown",
            "source": "Starting with a Fortran-contiguous array:\n",
            "metadata": {}
        },
        {
            "id": "ad407f72",
            "cell_type": "code",
            "metadata": {},
            "execution_count": null,
            "source": "import numpy as np\nx = np.ones((2, 3), order='F')\nx.flags['F_CONTIGUOUS']",
            "outputs": [
                {
                    "output_type": "execute_result",
                    "metadata": {},
                    "data": {
                        "text/plain": "True"
                    },
                    "execution_count": null
                }
            ]
        },
        {
            "id": "c2a072bd",
            "cell_type": "markdown",
            "source": "Calling ``ascontiguousarray`` makes a C-contiguous copy:\n",
            "metadata": {}
        },
        {
            "id": "c53ebca0",
            "cell_type": "code",
            "metadata": {},
            "execution_count": null,
            "source": "y = np.ascontiguousarray(x)\ny.flags['C_CONTIGUOUS']",
            "outputs": [
                {
                    "output_type": "execute_result",
                    "metadata": {},
                    "data": {
                        "text/plain": "True"
                    },
                    "execution_count": null
                }
            ]
        },
        {
            "id": "116d0f52",
            "cell_type": "code",
            "metadata": {},
            "execution_count": null,
            "source": "np.may_share_memory(x, y)",
            "outputs": [
                {
                    "output_type": "execute_result",
                    "metadata": {},
                    "data": {
                        "text/plain": "False"
                    },
                    "execution_count": null
                }
            ]
        },
        {
            "id": "18bb624b",
            "cell_type": "markdown",
            "source": "Now, starting with a C-contiguous array:\n",
            "metadata": {}
        },
        {
            "id": "6b1eaafa",
            "cell_type": "code",
            "metadata": {},
            "execution_count": null,
            "source": "x = np.ones((2, 3), order='C')\nx.flags['C_CONTIGUOUS']",
            "outputs": [
                {
                    "output_type": "execute_result",
                    "metadata": {},
                    "data": {
                        "text/plain": "True"
                    },
                    "execution_count": null
                }
            ]
        },
        {
            "id": "c65dadc8",
            "cell_type": "markdown",
            "source": "Then, calling ``ascontiguousarray`` returns the same object:\n",
            "metadata": {}
        },
        {
            "id": "90ca1d42",
            "cell_type": "code",
            "metadata": {},
            "execution_count": null,
            "source": "y = np.ascontiguousarray(x)\nx is y",
            "outputs": [
                {
                    "output_type": "execute_result",
                    "metadata": {},
                    "data": {
                        "text/plain": "True"
                    },
                    "execution_count": null
                }
            ]
        },
        {
            "id": "8a144bbd",
            "cell_type": "markdown",
            "source": "Note: This function returns an array with at least one-dimension (1-d)\nso it will not preserve 0-d arrays.",
            "metadata": {}
        }
    ]
}