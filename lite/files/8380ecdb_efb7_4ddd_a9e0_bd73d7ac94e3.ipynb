{
    "nbformat": 4,
    "nbformat_minor": 5,
    "metadata": {
        "kernelspec": {
            "display_name": "Python",
            "language": "python",
            "name": "python"
        },
        "language_info": {
            "name": "python"
        }
    },
    "cells": [
        {
            "id": "1d0d78e6",
            "cell_type": "markdown",
            "source": "<div class='alert alert-warning'>\n\nNumPy's interactive examples are experimental and may not always work as expected, with high load times especially on low-resource platforms, and the version of NumPy might not be in sync with the one you are browsing the documentation for. If you encounter any issues, please report them on the [NumPy issue tracker](https://github.com/numpy/numpy/issues).\n\n</div>",
            "metadata": {}
        },
        {
            "id": "14b63648",
            "cell_type": "code",
            "metadata": {},
            "execution_count": null,
            "source": "import numpy as np\narr = np.array([[1,2,3,4], [5,6,7,8], [9,10,11,12]])\narr",
            "outputs": [
                {
                    "output_type": "execute_result",
                    "metadata": {},
                    "data": {
                        "text/plain": "array([[ 1,  2,  3,  4],\n       [ 5,  6,  7,  8],\n       [ 9, 10, 11, 12]])"
                    },
                    "execution_count": null
                }
            ]
        },
        {
            "id": "58906fc2",
            "cell_type": "code",
            "metadata": {},
            "execution_count": null,
            "source": "np.delete(arr, 1, 0)",
            "outputs": [
                {
                    "output_type": "execute_result",
                    "metadata": {},
                    "data": {
                        "text/plain": "array([[ 1,  2,  3,  4],\n       [ 9, 10, 11, 12]])"
                    },
                    "execution_count": null
                }
            ]
        },
        {
            "id": "165e4bbf",
            "cell_type": "code",
            "metadata": {},
            "execution_count": null,
            "source": "np.delete(arr, np.s_[::2], 1)",
            "outputs": [
                {
                    "output_type": "execute_result",
                    "metadata": {},
                    "data": {
                        "text/plain": "array([[ 2,  4],\n       [ 6,  8],\n       [10, 12]])"
                    },
                    "execution_count": null
                }
            ]
        },
        {
            "id": "50112cc5",
            "cell_type": "code",
            "metadata": {},
            "execution_count": null,
            "source": "np.delete(arr, [1,3,5], None)",
            "outputs": [
                {
                    "output_type": "execute_result",
                    "metadata": {},
                    "data": {
                        "text/plain": "array([ 1,  3,  5,  7,  8,  9, 10, 11, 12])"
                    },
                    "execution_count": null
                }
            ]
        }
    ]
}