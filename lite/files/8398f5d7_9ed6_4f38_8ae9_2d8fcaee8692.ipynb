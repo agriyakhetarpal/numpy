{
    "nbformat": 4,
    "nbformat_minor": 5,
    "metadata": {
        "kernelspec": {
            "display_name": "Python",
            "language": "python",
            "name": "python"
        },
        "language_info": {
            "name": "python"
        }
    },
    "cells": [
        {
            "id": "8aff26fd",
            "cell_type": "markdown",
            "source": "<div class='alert alert-warning'>\n\nNumPy's interactive examples are experimental and may not always work as expected, with high load times especially on low-resource platforms, , and the version of NumPy might not be in sync with the one you are browsing the documentation for. If you encounter any issues, please report them on the [NumPy issue tracker](https://github.com/numpy/numpy/issues).\n\n</div>",
            "metadata": {}
        },
        {
            "id": "04653be2",
            "cell_type": "code",
            "metadata": {},
            "execution_count": null,
            "source": "import numpy as np\nx = np.arange(16.0).reshape(4, 4)\nx",
            "outputs": [
                {
                    "output_type": "execute_result",
                    "metadata": {},
                    "data": {
                        "text/plain": "array([[ 0.,   1.,   2.,   3.],\n       [ 4.,   5.,   6.,   7.],\n       [ 8.,   9.,  10.,  11.],\n       [12.,  13.,  14.,  15.]])"
                    },
                    "execution_count": null
                }
            ]
        },
        {
            "id": "bae2fbd8",
            "cell_type": "code",
            "metadata": {},
            "execution_count": null,
            "source": "np.hsplit(x, 2)",
            "outputs": [
                {
                    "output_type": "execute_result",
                    "metadata": {},
                    "data": {
                        "text/plain": "[array([[  0.,   1.],\n       [  4.,   5.],\n       [  8.,   9.],\n       [12.,  13.]]),\n array([[  2.,   3.],\n       [  6.,   7.],\n       [10.,  11.],\n       [14.,  15.]])]"
                    },
                    "execution_count": null
                }
            ]
        },
        {
            "id": "a5c2937a",
            "cell_type": "code",
            "metadata": {},
            "execution_count": null,
            "source": "np.hsplit(x, np.array([3, 6]))",
            "outputs": [
                {
                    "output_type": "execute_result",
                    "metadata": {},
                    "data": {
                        "text/plain": "[array([[ 0.,   1.,   2.],\n       [ 4.,   5.,   6.],\n       [ 8.,   9.,  10.],\n       [12.,  13.,  14.]]),\n array([[ 3.],\n       [ 7.],\n       [11.],\n       [15.]]),\n array([], shape=(4, 0), dtype=float64)]"
                    },
                    "execution_count": null
                }
            ]
        },
        {
            "id": "9b8606b0",
            "cell_type": "markdown",
            "source": "With a higher dimensional array the split is still along the second axis.\n",
            "metadata": {}
        },
        {
            "id": "eeb91e57",
            "cell_type": "code",
            "metadata": {},
            "execution_count": null,
            "source": "x = np.arange(8.0).reshape(2, 2, 2)\nx",
            "outputs": [
                {
                    "output_type": "execute_result",
                    "metadata": {},
                    "data": {
                        "text/plain": "array([[[0.,  1.],\n        [2.,  3.]],\n       [[4.,  5.],\n        [6.,  7.]]])"
                    },
                    "execution_count": null
                }
            ]
        },
        {
            "id": "6d7fdc63",
            "cell_type": "code",
            "metadata": {},
            "execution_count": null,
            "source": "np.hsplit(x, 2)",
            "outputs": [
                {
                    "output_type": "execute_result",
                    "metadata": {},
                    "data": {
                        "text/plain": "[array([[[0.,  1.]],\n       [[4.,  5.]]]),\n array([[[2.,  3.]],\n       [[6.,  7.]]])]"
                    },
                    "execution_count": null
                }
            ]
        },
        {
            "id": "58540835",
            "cell_type": "markdown",
            "source": "With a 1-D array, the split is along axis 0.\n",
            "metadata": {}
        },
        {
            "id": "dd5c5c19",
            "cell_type": "code",
            "metadata": {},
            "execution_count": null,
            "source": "x = np.array([0, 1, 2, 3, 4, 5])\nnp.hsplit(x, 2)",
            "outputs": [
                {
                    "output_type": "execute_result",
                    "metadata": {},
                    "data": {
                        "text/plain": "[array([0, 1, 2]), array([3, 4, 5])]"
                    },
                    "execution_count": null
                }
            ]
        }
    ]
}