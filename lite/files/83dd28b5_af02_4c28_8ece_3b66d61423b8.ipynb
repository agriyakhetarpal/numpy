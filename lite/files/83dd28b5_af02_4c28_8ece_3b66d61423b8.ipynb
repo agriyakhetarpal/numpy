{
    "nbformat": 4,
    "nbformat_minor": 5,
    "metadata": {
        "kernelspec": {
            "display_name": "Python",
            "language": "python",
            "name": "python"
        },
        "language_info": {
            "name": "python"
        }
    },
    "cells": [
        {
            "id": "9e23a80a",
            "cell_type": "markdown",
            "source": "<div class='alert alert-warning'>\n\nNumPy's interactive examples are experimental and may not always work as expected, with high load times especially on low-resource platforms, and the version of NumPy might not be in sync with the one you are browsing the documentation for. If you encounter any issues, please report them on the [NumPy issue tracker](https://github.com/numpy/numpy/issues).\n\n</div>",
            "metadata": {}
        },
        {
            "id": "a51416b4",
            "cell_type": "code",
            "metadata": {},
            "execution_count": null,
            "source": "import numpy as np\nnp.binary_repr(3)",
            "outputs": [
                {
                    "output_type": "execute_result",
                    "metadata": {},
                    "data": {
                        "text/plain": "'11'"
                    },
                    "execution_count": null
                }
            ]
        },
        {
            "id": "7772a8e7",
            "cell_type": "code",
            "metadata": {},
            "execution_count": null,
            "source": "np.binary_repr(-3)",
            "outputs": [
                {
                    "output_type": "execute_result",
                    "metadata": {},
                    "data": {
                        "text/plain": "'-11'"
                    },
                    "execution_count": null
                }
            ]
        },
        {
            "id": "f6130dc1",
            "cell_type": "code",
            "metadata": {},
            "execution_count": null,
            "source": "np.binary_repr(3, width=4)",
            "outputs": [
                {
                    "output_type": "execute_result",
                    "metadata": {},
                    "data": {
                        "text/plain": "'0011'"
                    },
                    "execution_count": null
                }
            ]
        },
        {
            "id": "85191a88",
            "cell_type": "markdown",
            "source": "The two's complement is returned when the input number is negative and\nwidth is specified:\n",
            "metadata": {}
        },
        {
            "id": "29deb69f",
            "cell_type": "code",
            "metadata": {},
            "execution_count": null,
            "source": "np.binary_repr(-3, width=3)",
            "outputs": [
                {
                    "output_type": "execute_result",
                    "metadata": {},
                    "data": {
                        "text/plain": "'101'"
                    },
                    "execution_count": null
                }
            ]
        },
        {
            "id": "5526518d",
            "cell_type": "code",
            "metadata": {},
            "execution_count": null,
            "source": "np.binary_repr(-3, width=5)",
            "outputs": [
                {
                    "output_type": "execute_result",
                    "metadata": {},
                    "data": {
                        "text/plain": "'11101'"
                    },
                    "execution_count": null
                }
            ]
        }
    ]
}