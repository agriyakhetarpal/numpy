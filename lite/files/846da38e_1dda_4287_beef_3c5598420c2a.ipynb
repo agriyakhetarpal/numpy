{
    "nbformat": 4,
    "nbformat_minor": 5,
    "metadata": {
        "kernelspec": {
            "display_name": "Python",
            "language": "python",
            "name": "python"
        },
        "language_info": {
            "name": "python"
        }
    },
    "cells": [
        {
            "id": "23b72589",
            "cell_type": "markdown",
            "source": "<div class='alert alert-warning'>\n\nNumPy's interactive examples are experimental and may not always work as expected, with high load times especially on low-resource platforms, , and the version of NumPy might not be in sync with the one you are browsing the documentation for. If you encounter any issues, please report them on the [NumPy issue tracker](https://github.com/numpy/numpy/issues).\n\n</div>",
            "metadata": {}
        },
        {
            "id": "c1de4eb1",
            "cell_type": "code",
            "metadata": {},
            "execution_count": null,
            "source": "import numpy as np\nimport numpy.ma as ma\na = np.arange(5)\na",
            "outputs": [
                {
                    "output_type": "execute_result",
                    "metadata": {},
                    "data": {
                        "text/plain": "array([0, 1, 2, 3, 4])"
                    },
                    "execution_count": null
                }
            ]
        },
        {
            "id": "9c217036",
            "cell_type": "code",
            "metadata": {},
            "execution_count": null,
            "source": "a = ma.masked_where(a < 3, a)\na",
            "outputs": [
                {
                    "output_type": "execute_result",
                    "metadata": {},
                    "data": {
                        "text/plain": "masked_array(data=[--, --, --, 3, 4],\n             mask=[ True,  True,  True, False, False],\n       fill_value=999999)"
                    },
                    "execution_count": null
                }
            ]
        },
        {
            "id": "9c0064e6",
            "cell_type": "code",
            "metadata": {},
            "execution_count": null,
            "source": "ma.set_fill_value(a, -999)\na",
            "outputs": [
                {
                    "output_type": "execute_result",
                    "metadata": {},
                    "data": {
                        "text/plain": "masked_array(data=[--, --, --, 3, 4],\n             mask=[ True,  True,  True, False, False],\n       fill_value=-999)"
                    },
                    "execution_count": null
                }
            ]
        },
        {
            "id": "6ecc0f5f",
            "cell_type": "markdown",
            "source": "Nothing happens if `a` is not a masked array.\n",
            "metadata": {}
        },
        {
            "id": "f2850976",
            "cell_type": "code",
            "metadata": {},
            "execution_count": null,
            "source": "a = list(range(5))\na",
            "outputs": [
                {
                    "output_type": "execute_result",
                    "metadata": {},
                    "data": {
                        "text/plain": "[0, 1, 2, 3, 4]"
                    },
                    "execution_count": null
                }
            ]
        },
        {
            "id": "d818f52c",
            "cell_type": "code",
            "metadata": {},
            "execution_count": null,
            "source": "ma.set_fill_value(a, 100)\na",
            "outputs": [
                {
                    "output_type": "execute_result",
                    "metadata": {},
                    "data": {
                        "text/plain": "[0, 1, 2, 3, 4]"
                    },
                    "execution_count": null
                }
            ]
        },
        {
            "id": "88df3ef5",
            "cell_type": "code",
            "metadata": {},
            "execution_count": null,
            "source": "a = np.arange(5)\na",
            "outputs": [
                {
                    "output_type": "execute_result",
                    "metadata": {},
                    "data": {
                        "text/plain": "array([0, 1, 2, 3, 4])"
                    },
                    "execution_count": null
                }
            ]
        },
        {
            "id": "3eb76943",
            "cell_type": "code",
            "metadata": {},
            "execution_count": null,
            "source": "ma.set_fill_value(a, 100)\na",
            "outputs": [
                {
                    "output_type": "execute_result",
                    "metadata": {},
                    "data": {
                        "text/plain": "array([0, 1, 2, 3, 4])"
                    },
                    "execution_count": null
                }
            ]
        }
    ]
}