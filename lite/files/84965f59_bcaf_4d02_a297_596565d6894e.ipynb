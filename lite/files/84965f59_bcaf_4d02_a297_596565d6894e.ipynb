{
    "nbformat": 4,
    "nbformat_minor": 5,
    "metadata": {
        "kernelspec": {
            "display_name": "Python",
            "language": "python",
            "name": "python"
        },
        "language_info": {
            "name": "python"
        }
    },
    "cells": [
        {
            "id": "63e12c62",
            "cell_type": "markdown",
            "source": "<div class='alert alert-warning'>\n\nNumPy's interactive examples are experimental and may not always work as expected, with high load times especially on low-resource platforms, , and the version of NumPy might not be in sync with the one you are browsing the documentation for. If you encounter any issues, please report them on the [NumPy issue tracker](https://github.com/numpy/numpy/issues).\n\n</div>",
            "metadata": {}
        },
        {
            "id": "20389d6d",
            "cell_type": "code",
            "metadata": {},
            "execution_count": null,
            "source": "a = np.arange(25).reshape(5,5)\nb = np.arange(5)\nc = np.arange(6).reshape(2,3)",
            "outputs": []
        },
        {
            "id": "5f059494",
            "cell_type": "markdown",
            "source": "Trace of a matrix:\n",
            "metadata": {}
        },
        {
            "id": "ace50e77",
            "cell_type": "code",
            "metadata": {},
            "execution_count": null,
            "source": "np.einsum('ii', a)",
            "outputs": [
                {
                    "output_type": "execute_result",
                    "metadata": {},
                    "data": {
                        "text/plain": "60"
                    },
                    "execution_count": null
                }
            ]
        },
        {
            "id": "f447cb15",
            "cell_type": "code",
            "metadata": {},
            "execution_count": null,
            "source": "np.einsum(a, [0,0])",
            "outputs": [
                {
                    "output_type": "execute_result",
                    "metadata": {},
                    "data": {
                        "text/plain": "60"
                    },
                    "execution_count": null
                }
            ]
        },
        {
            "id": "3f9d5091",
            "cell_type": "code",
            "metadata": {},
            "execution_count": null,
            "source": "np.trace(a)",
            "outputs": [
                {
                    "output_type": "execute_result",
                    "metadata": {},
                    "data": {
                        "text/plain": "60"
                    },
                    "execution_count": null
                }
            ]
        },
        {
            "id": "afca4421",
            "cell_type": "markdown",
            "source": "Extract the diagonal (requires explicit form):\n",
            "metadata": {}
        },
        {
            "id": "7781b050",
            "cell_type": "code",
            "metadata": {},
            "execution_count": null,
            "source": "np.einsum('ii->i', a)",
            "outputs": [
                {
                    "output_type": "execute_result",
                    "metadata": {},
                    "data": {
                        "text/plain": "array([ 0,  6, 12, 18, 24])"
                    },
                    "execution_count": null
                }
            ]
        },
        {
            "id": "c945f95e",
            "cell_type": "code",
            "metadata": {},
            "execution_count": null,
            "source": "np.einsum(a, [0,0], [0])",
            "outputs": [
                {
                    "output_type": "execute_result",
                    "metadata": {},
                    "data": {
                        "text/plain": "array([ 0,  6, 12, 18, 24])"
                    },
                    "execution_count": null
                }
            ]
        },
        {
            "id": "1c95483c",
            "cell_type": "code",
            "metadata": {},
            "execution_count": null,
            "source": "np.diag(a)",
            "outputs": [
                {
                    "output_type": "execute_result",
                    "metadata": {},
                    "data": {
                        "text/plain": "array([ 0,  6, 12, 18, 24])"
                    },
                    "execution_count": null
                }
            ]
        },
        {
            "id": "2b61abc4",
            "cell_type": "markdown",
            "source": "Sum over an axis (requires explicit form):\n",
            "metadata": {}
        },
        {
            "id": "34b04472",
            "cell_type": "code",
            "metadata": {},
            "execution_count": null,
            "source": "np.einsum('ij->i', a)",
            "outputs": [
                {
                    "output_type": "execute_result",
                    "metadata": {},
                    "data": {
                        "text/plain": "array([ 10,  35,  60,  85, 110])"
                    },
                    "execution_count": null
                }
            ]
        },
        {
            "id": "80abc1dd",
            "cell_type": "code",
            "metadata": {},
            "execution_count": null,
            "source": "np.einsum(a, [0,1], [0])",
            "outputs": [
                {
                    "output_type": "execute_result",
                    "metadata": {},
                    "data": {
                        "text/plain": "array([ 10,  35,  60,  85, 110])"
                    },
                    "execution_count": null
                }
            ]
        },
        {
            "id": "ea089210",
            "cell_type": "code",
            "metadata": {},
            "execution_count": null,
            "source": "np.sum(a, axis=1)",
            "outputs": [
                {
                    "output_type": "execute_result",
                    "metadata": {},
                    "data": {
                        "text/plain": "array([ 10,  35,  60,  85, 110])"
                    },
                    "execution_count": null
                }
            ]
        },
        {
            "id": "a2f9306b",
            "cell_type": "markdown",
            "source": "For higher dimensional arrays summing a single axis can be done\nwith ellipsis:\n",
            "metadata": {}
        },
        {
            "id": "af3a8b48",
            "cell_type": "code",
            "metadata": {},
            "execution_count": null,
            "source": "np.einsum('...j->...', a)",
            "outputs": [
                {
                    "output_type": "execute_result",
                    "metadata": {},
                    "data": {
                        "text/plain": "array([ 10,  35,  60,  85, 110])"
                    },
                    "execution_count": null
                }
            ]
        },
        {
            "id": "710f2654",
            "cell_type": "code",
            "metadata": {},
            "execution_count": null,
            "source": "np.einsum(a, [Ellipsis,1], [Ellipsis])",
            "outputs": [
                {
                    "output_type": "execute_result",
                    "metadata": {},
                    "data": {
                        "text/plain": "array([ 10,  35,  60,  85, 110])"
                    },
                    "execution_count": null
                }
            ]
        },
        {
            "id": "a9c21dde",
            "cell_type": "markdown",
            "source": "Compute a matrix transpose, or reorder any number of axes:\n",
            "metadata": {}
        },
        {
            "id": "c2f530e3",
            "cell_type": "code",
            "metadata": {},
            "execution_count": null,
            "source": "np.einsum('ji', c)",
            "outputs": [
                {
                    "output_type": "execute_result",
                    "metadata": {},
                    "data": {
                        "text/plain": "array([[0, 3],\n       [1, 4],\n       [2, 5]])"
                    },
                    "execution_count": null
                }
            ]
        },
        {
            "id": "fdfb1ab1",
            "cell_type": "code",
            "metadata": {},
            "execution_count": null,
            "source": "np.einsum('ij->ji', c)",
            "outputs": [
                {
                    "output_type": "execute_result",
                    "metadata": {},
                    "data": {
                        "text/plain": "array([[0, 3],\n       [1, 4],\n       [2, 5]])"
                    },
                    "execution_count": null
                }
            ]
        },
        {
            "id": "e31f60a7",
            "cell_type": "code",
            "metadata": {},
            "execution_count": null,
            "source": "np.einsum(c, [1,0])",
            "outputs": [
                {
                    "output_type": "execute_result",
                    "metadata": {},
                    "data": {
                        "text/plain": "array([[0, 3],\n       [1, 4],\n       [2, 5]])"
                    },
                    "execution_count": null
                }
            ]
        },
        {
            "id": "98b8445e",
            "cell_type": "code",
            "metadata": {},
            "execution_count": null,
            "source": "np.transpose(c)",
            "outputs": [
                {
                    "output_type": "execute_result",
                    "metadata": {},
                    "data": {
                        "text/plain": "array([[0, 3],\n       [1, 4],\n       [2, 5]])"
                    },
                    "execution_count": null
                }
            ]
        },
        {
            "id": "a1fa96a2",
            "cell_type": "markdown",
            "source": "Vector inner products:\n",
            "metadata": {}
        },
        {
            "id": "3b2f6afe",
            "cell_type": "code",
            "metadata": {},
            "execution_count": null,
            "source": "np.einsum('i,i', b, b)",
            "outputs": [
                {
                    "output_type": "execute_result",
                    "metadata": {},
                    "data": {
                        "text/plain": "30"
                    },
                    "execution_count": null
                }
            ]
        },
        {
            "id": "bb25bd95",
            "cell_type": "code",
            "metadata": {},
            "execution_count": null,
            "source": "np.einsum(b, [0], b, [0])",
            "outputs": [
                {
                    "output_type": "execute_result",
                    "metadata": {},
                    "data": {
                        "text/plain": "30"
                    },
                    "execution_count": null
                }
            ]
        },
        {
            "id": "f8beaa25",
            "cell_type": "code",
            "metadata": {},
            "execution_count": null,
            "source": "np.inner(b,b)",
            "outputs": [
                {
                    "output_type": "execute_result",
                    "metadata": {},
                    "data": {
                        "text/plain": "30"
                    },
                    "execution_count": null
                }
            ]
        },
        {
            "id": "d84165be",
            "cell_type": "markdown",
            "source": "Matrix vector multiplication:\n",
            "metadata": {}
        },
        {
            "id": "e978690c",
            "cell_type": "code",
            "metadata": {},
            "execution_count": null,
            "source": "np.einsum('ij,j', a, b)",
            "outputs": [
                {
                    "output_type": "execute_result",
                    "metadata": {},
                    "data": {
                        "text/plain": "array([ 30,  80, 130, 180, 230])"
                    },
                    "execution_count": null
                }
            ]
        },
        {
            "id": "c57ebb35",
            "cell_type": "code",
            "metadata": {},
            "execution_count": null,
            "source": "np.einsum(a, [0,1], b, [1])",
            "outputs": [
                {
                    "output_type": "execute_result",
                    "metadata": {},
                    "data": {
                        "text/plain": "array([ 30,  80, 130, 180, 230])"
                    },
                    "execution_count": null
                }
            ]
        },
        {
            "id": "7d2c4147",
            "cell_type": "code",
            "metadata": {},
            "execution_count": null,
            "source": "np.dot(a, b)",
            "outputs": [
                {
                    "output_type": "execute_result",
                    "metadata": {},
                    "data": {
                        "text/plain": "array([ 30,  80, 130, 180, 230])"
                    },
                    "execution_count": null
                }
            ]
        },
        {
            "id": "f4ca3d04",
            "cell_type": "code",
            "metadata": {},
            "execution_count": null,
            "source": "np.einsum('...j,j', a, b)",
            "outputs": [
                {
                    "output_type": "execute_result",
                    "metadata": {},
                    "data": {
                        "text/plain": "array([ 30,  80, 130, 180, 230])"
                    },
                    "execution_count": null
                }
            ]
        },
        {
            "id": "775d2339",
            "cell_type": "markdown",
            "source": "Broadcasting and scalar multiplication:\n",
            "metadata": {}
        },
        {
            "id": "92bfb59c",
            "cell_type": "code",
            "metadata": {},
            "execution_count": null,
            "source": "np.einsum('..., ...', 3, c)",
            "outputs": [
                {
                    "output_type": "execute_result",
                    "metadata": {},
                    "data": {
                        "text/plain": "array([[ 0,  3,  6],\n       [ 9, 12, 15]])"
                    },
                    "execution_count": null
                }
            ]
        },
        {
            "id": "28d3d85f",
            "cell_type": "code",
            "metadata": {},
            "execution_count": null,
            "source": "np.einsum(',ij', 3, c)",
            "outputs": [
                {
                    "output_type": "execute_result",
                    "metadata": {},
                    "data": {
                        "text/plain": "array([[ 0,  3,  6],\n       [ 9, 12, 15]])"
                    },
                    "execution_count": null
                }
            ]
        },
        {
            "id": "d94180d7",
            "cell_type": "code",
            "metadata": {},
            "execution_count": null,
            "source": "np.einsum(3, [Ellipsis], c, [Ellipsis])",
            "outputs": [
                {
                    "output_type": "execute_result",
                    "metadata": {},
                    "data": {
                        "text/plain": "array([[ 0,  3,  6],\n       [ 9, 12, 15]])"
                    },
                    "execution_count": null
                }
            ]
        },
        {
            "id": "c03b5e30",
            "cell_type": "code",
            "metadata": {},
            "execution_count": null,
            "source": "np.multiply(3, c)",
            "outputs": [
                {
                    "output_type": "execute_result",
                    "metadata": {},
                    "data": {
                        "text/plain": "array([[ 0,  3,  6],\n       [ 9, 12, 15]])"
                    },
                    "execution_count": null
                }
            ]
        },
        {
            "id": "95b70cf5",
            "cell_type": "markdown",
            "source": "Vector outer product:\n",
            "metadata": {}
        },
        {
            "id": "ec53c071",
            "cell_type": "code",
            "metadata": {},
            "execution_count": null,
            "source": "np.einsum('i,j', np.arange(2)+1, b)",
            "outputs": [
                {
                    "output_type": "execute_result",
                    "metadata": {},
                    "data": {
                        "text/plain": "array([[0, 1, 2, 3, 4],\n       [0, 2, 4, 6, 8]])"
                    },
                    "execution_count": null
                }
            ]
        },
        {
            "id": "32ba22ce",
            "cell_type": "code",
            "metadata": {},
            "execution_count": null,
            "source": "np.einsum(np.arange(2)+1, [0], b, [1])",
            "outputs": [
                {
                    "output_type": "execute_result",
                    "metadata": {},
                    "data": {
                        "text/plain": "array([[0, 1, 2, 3, 4],\n       [0, 2, 4, 6, 8]])"
                    },
                    "execution_count": null
                }
            ]
        },
        {
            "id": "cb887970",
            "cell_type": "code",
            "metadata": {},
            "execution_count": null,
            "source": "np.outer(np.arange(2)+1, b)",
            "outputs": [
                {
                    "output_type": "execute_result",
                    "metadata": {},
                    "data": {
                        "text/plain": "array([[0, 1, 2, 3, 4],\n       [0, 2, 4, 6, 8]])"
                    },
                    "execution_count": null
                }
            ]
        },
        {
            "id": "2f506a4f",
            "cell_type": "markdown",
            "source": "Tensor contraction:\n",
            "metadata": {}
        },
        {
            "id": "ff48ddfe",
            "cell_type": "code",
            "metadata": {},
            "execution_count": null,
            "source": "a = np.arange(60.).reshape(3,4,5)\nb = np.arange(24.).reshape(4,3,2)\nnp.einsum('ijk,jil->kl', a, b)",
            "outputs": [
                {
                    "output_type": "execute_result",
                    "metadata": {},
                    "data": {
                        "text/plain": "array([[4400., 4730.],\n       [4532., 4874.],\n       [4664., 5018.],\n       [4796., 5162.],\n       [4928., 5306.]])"
                    },
                    "execution_count": null
                }
            ]
        },
        {
            "id": "8ff74b3d",
            "cell_type": "code",
            "metadata": {},
            "execution_count": null,
            "source": "np.einsum(a, [0,1,2], b, [1,0,3], [2,3])",
            "outputs": [
                {
                    "output_type": "execute_result",
                    "metadata": {},
                    "data": {
                        "text/plain": "array([[4400., 4730.],\n       [4532., 4874.],\n       [4664., 5018.],\n       [4796., 5162.],\n       [4928., 5306.]])"
                    },
                    "execution_count": null
                }
            ]
        },
        {
            "id": "3b90e0e3",
            "cell_type": "code",
            "metadata": {},
            "execution_count": null,
            "source": "np.tensordot(a,b, axes=([1,0],[0,1]))",
            "outputs": [
                {
                    "output_type": "execute_result",
                    "metadata": {},
                    "data": {
                        "text/plain": "array([[4400., 4730.],\n       [4532., 4874.],\n       [4664., 5018.],\n       [4796., 5162.],\n       [4928., 5306.]])"
                    },
                    "execution_count": null
                }
            ]
        },
        {
            "id": "9a6ddf73",
            "cell_type": "markdown",
            "source": "Writeable returned arrays (since version 1.10.0):\n",
            "metadata": {}
        },
        {
            "id": "2da219e5",
            "cell_type": "code",
            "metadata": {},
            "execution_count": null,
            "source": "a = np.zeros((3, 3))\nnp.einsum('ii->i', a)[:] = 1\na",
            "outputs": [
                {
                    "output_type": "execute_result",
                    "metadata": {},
                    "data": {
                        "text/plain": "array([[1., 0., 0.],\n       [0., 1., 0.],\n       [0., 0., 1.]])"
                    },
                    "execution_count": null
                }
            ]
        },
        {
            "id": "c7898bdd",
            "cell_type": "markdown",
            "source": "Example of ellipsis use:\n",
            "metadata": {}
        },
        {
            "id": "15f1805d",
            "cell_type": "code",
            "metadata": {},
            "execution_count": null,
            "source": "a = np.arange(6).reshape((3,2))\nb = np.arange(12).reshape((4,3))\nnp.einsum('ki,jk->ij', a, b)",
            "outputs": [
                {
                    "output_type": "execute_result",
                    "metadata": {},
                    "data": {
                        "text/plain": "array([[10, 28, 46, 64],\n       [13, 40, 67, 94]])"
                    },
                    "execution_count": null
                }
            ]
        },
        {
            "id": "2f0e3f73",
            "cell_type": "code",
            "metadata": {},
            "execution_count": null,
            "source": "np.einsum('ki,...k->i...', a, b)",
            "outputs": [
                {
                    "output_type": "execute_result",
                    "metadata": {},
                    "data": {
                        "text/plain": "array([[10, 28, 46, 64],\n       [13, 40, 67, 94]])"
                    },
                    "execution_count": null
                }
            ]
        },
        {
            "id": "6e5349cf",
            "cell_type": "code",
            "metadata": {},
            "execution_count": null,
            "source": "np.einsum('k...,jk', a, b)",
            "outputs": [
                {
                    "output_type": "execute_result",
                    "metadata": {},
                    "data": {
                        "text/plain": "array([[10, 28, 46, 64],\n       [13, 40, 67, 94]])"
                    },
                    "execution_count": null
                }
            ]
        },
        {
            "id": "6a4d3506",
            "cell_type": "markdown",
            "source": "Chained array operations. For more complicated contractions, speed ups\nmight be achieved by repeatedly computing a 'greedy' path or pre-computing\nthe 'optimal' path and repeatedly applying it, using an `einsum_path`\ninsertion (since version 1.12.0). Performance improvements can be\nparticularly significant with larger arrays:\n",
            "metadata": {}
        },
        {
            "id": "24ebb85e",
            "cell_type": "code",
            "metadata": {},
            "execution_count": null,
            "source": "a = np.ones(64).reshape(2,4,8)",
            "outputs": []
        },
        {
            "id": "df6145e7",
            "cell_type": "markdown",
            "source": "Basic `einsum`: ~1520ms  (benchmarked on 3.1GHz Intel i5.)\n",
            "metadata": {}
        },
        {
            "id": "6526ae1b",
            "cell_type": "code",
            "metadata": {},
            "execution_count": null,
            "source": "for iteration in range(500):\n    _ = np.einsum('ijk,ilm,njm,nlk,abc->',a,a,a,a,a)",
            "outputs": []
        },
        {
            "id": "23899ed5",
            "cell_type": "markdown",
            "source": "Sub-optimal `einsum` (due to repeated path calculation time): ~330ms\n",
            "metadata": {}
        },
        {
            "id": "8e783c5c",
            "cell_type": "code",
            "metadata": {},
            "execution_count": null,
            "source": "for iteration in range(500):\n    _ = np.einsum('ijk,ilm,njm,nlk,abc->',a,a,a,a,a,\n        optimize='optimal')",
            "outputs": []
        },
        {
            "id": "3e7a06a3",
            "cell_type": "markdown",
            "source": "Greedy `einsum` (faster optimal path approximation): ~160ms\n",
            "metadata": {}
        },
        {
            "id": "622d5528",
            "cell_type": "code",
            "metadata": {},
            "execution_count": null,
            "source": "for iteration in range(500):\n    _ = np.einsum('ijk,ilm,njm,nlk,abc->',a,a,a,a,a, optimize='greedy')",
            "outputs": []
        },
        {
            "id": "db1435ac",
            "cell_type": "markdown",
            "source": "Optimal `einsum` (best usage pattern in some use cases): ~110ms\n",
            "metadata": {}
        },
        {
            "id": "a71f7336",
            "cell_type": "code",
            "metadata": {},
            "execution_count": null,
            "source": "path = np.einsum_path('ijk,ilm,njm,nlk,abc->',a,a,a,a,a, \n    optimize='optimal')[0]\nfor iteration in range(500):\n    _ = np.einsum('ijk,ilm,njm,nlk,abc->',a,a,a,a,a, optimize=path)",
            "outputs": []
        }
    ]
}