{
    "nbformat": 4,
    "nbformat_minor": 5,
    "metadata": {
        "kernelspec": {
            "display_name": "Python",
            "language": "python",
            "name": "python"
        },
        "language_info": {
            "name": "python"
        }
    },
    "cells": [
        {
            "id": "58456c5f",
            "cell_type": "markdown",
            "source": "<div class='alert alert-warning'>\n\nNumPy's interactive examples are experimental and may not always work as expected, with high load times especially on low-resource platforms, and the version of NumPy might not be in sync with the one you are browsing the documentation for. If you encounter any issues, please report them on the [NumPy issue tracker](https://github.com/numpy/numpy/issues).\n\n</div>",
            "metadata": {}
        },
        {
            "id": "0f3fd1dd",
            "cell_type": "markdown",
            "source": "The most common use of this function is to build a block matrix:\n",
            "metadata": {}
        },
        {
            "id": "8e5d3d45",
            "cell_type": "code",
            "metadata": {},
            "execution_count": null,
            "source": "import numpy as np\nA = np.eye(2) * 2\nB = np.eye(3) * 3\nnp.block([\n    [A,               np.zeros((2, 3))],\n    [np.ones((3, 2)), B               ]\n])",
            "outputs": [
                {
                    "output_type": "execute_result",
                    "metadata": {},
                    "data": {
                        "text/plain": "array([[2., 0., 0., 0., 0.],\n       [0., 2., 0., 0., 0.],\n       [1., 1., 3., 0., 0.],\n       [1., 1., 0., 3., 0.],\n       [1., 1., 0., 0., 3.]])"
                    },
                    "execution_count": null
                }
            ]
        },
        {
            "id": "2c123014",
            "cell_type": "markdown",
            "source": "With a list of depth 1, `block` can be used as `hstack`:\n",
            "metadata": {}
        },
        {
            "id": "de9c1fa6",
            "cell_type": "code",
            "metadata": {},
            "execution_count": null,
            "source": "np.block([1, 2, 3])              # hstack([1, 2, 3])",
            "outputs": [
                {
                    "output_type": "execute_result",
                    "metadata": {},
                    "data": {
                        "text/plain": "array([1, 2, 3])"
                    },
                    "execution_count": null
                }
            ]
        },
        {
            "id": "6ca142a1",
            "cell_type": "code",
            "metadata": {},
            "execution_count": null,
            "source": "a = np.array([1, 2, 3])\nb = np.array([4, 5, 6])\nnp.block([a, b, 10])             # hstack([a, b, 10])",
            "outputs": [
                {
                    "output_type": "execute_result",
                    "metadata": {},
                    "data": {
                        "text/plain": "array([ 1,  2,  3,  4,  5,  6, 10])"
                    },
                    "execution_count": null
                }
            ]
        },
        {
            "id": "8f073d7f",
            "cell_type": "code",
            "metadata": {},
            "execution_count": null,
            "source": "A = np.ones((2, 2), int)\nB = 2 * A\nnp.block([A, B])                 # hstack([A, B])",
            "outputs": [
                {
                    "output_type": "execute_result",
                    "metadata": {},
                    "data": {
                        "text/plain": "array([[1, 1, 2, 2],\n       [1, 1, 2, 2]])"
                    },
                    "execution_count": null
                }
            ]
        },
        {
            "id": "9640623e",
            "cell_type": "markdown",
            "source": "With a list of depth 2, `block` can be used in place of `vstack`:\n",
            "metadata": {}
        },
        {
            "id": "2eeaff86",
            "cell_type": "code",
            "metadata": {},
            "execution_count": null,
            "source": "a = np.array([1, 2, 3])\nb = np.array([4, 5, 6])\nnp.block([[a], [b]])             # vstack([a, b])",
            "outputs": [
                {
                    "output_type": "execute_result",
                    "metadata": {},
                    "data": {
                        "text/plain": "array([[1, 2, 3],\n       [4, 5, 6]])"
                    },
                    "execution_count": null
                }
            ]
        },
        {
            "id": "9a7ee685",
            "cell_type": "code",
            "metadata": {},
            "execution_count": null,
            "source": "A = np.ones((2, 2), int)\nB = 2 * A\nnp.block([[A], [B]])             # vstack([A, B])",
            "outputs": [
                {
                    "output_type": "execute_result",
                    "metadata": {},
                    "data": {
                        "text/plain": "array([[1, 1],\n       [1, 1],\n       [2, 2],\n       [2, 2]])"
                    },
                    "execution_count": null
                }
            ]
        },
        {
            "id": "a2e34573",
            "cell_type": "markdown",
            "source": "It can also be used in place of `atleast_1d` and `atleast_2d`:\n",
            "metadata": {}
        },
        {
            "id": "179f8fbd",
            "cell_type": "code",
            "metadata": {},
            "execution_count": null,
            "source": "a = np.array(0)\nb = np.array([1])\nnp.block([a])                    # atleast_1d(a)",
            "outputs": [
                {
                    "output_type": "execute_result",
                    "metadata": {},
                    "data": {
                        "text/plain": "array([0])"
                    },
                    "execution_count": null
                }
            ]
        },
        {
            "id": "2a3dd322",
            "cell_type": "code",
            "metadata": {},
            "execution_count": null,
            "source": "np.block([b])                    # atleast_1d(b)",
            "outputs": [
                {
                    "output_type": "execute_result",
                    "metadata": {},
                    "data": {
                        "text/plain": "array([1])"
                    },
                    "execution_count": null
                }
            ]
        },
        {
            "id": "be0328fd",
            "cell_type": "code",
            "metadata": {},
            "execution_count": null,
            "source": "np.block([[a]])                  # atleast_2d(a)",
            "outputs": [
                {
                    "output_type": "execute_result",
                    "metadata": {},
                    "data": {
                        "text/plain": "array([[0]])"
                    },
                    "execution_count": null
                }
            ]
        },
        {
            "id": "bea3ffe2",
            "cell_type": "code",
            "metadata": {},
            "execution_count": null,
            "source": "np.block([[b]])                  # atleast_2d(b)",
            "outputs": [
                {
                    "output_type": "execute_result",
                    "metadata": {},
                    "data": {
                        "text/plain": "array([[1]])"
                    },
                    "execution_count": null
                }
            ]
        }
    ]
}