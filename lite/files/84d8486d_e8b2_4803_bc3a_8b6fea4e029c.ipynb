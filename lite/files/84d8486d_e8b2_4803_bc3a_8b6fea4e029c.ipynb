{
    "nbformat": 4,
    "nbformat_minor": 5,
    "metadata": {
        "kernelspec": {
            "display_name": "Python",
            "language": "python",
            "name": "python"
        },
        "language_info": {
            "name": "python"
        }
    },
    "cells": [
        {
            "id": "6d778b0c",
            "cell_type": "markdown",
            "source": "<div class='alert alert-warning'>\n\nNumPy's interactive examples are experimental and may not always work as expected, with high load times especially on low-resource platforms, and the version of NumPy might not be in sync with the one you are browsing the documentation for. If you encounter any issues, please report them on the [NumPy issue tracker](https://github.com/numpy/numpy/issues).\n\n</div>",
            "metadata": {}
        },
        {
            "id": "cd6345aa",
            "cell_type": "code",
            "metadata": {},
            "execution_count": null,
            "source": "import numpy as np",
            "outputs": []
        },
        {
            "id": "e6394ef6",
            "cell_type": "code",
            "metadata": {},
            "execution_count": null,
            "source": "from numpy.lib import recfunctions as rfn\na = np.ones(4, dtype=[('a', 'i4'), ('b', 'f8'), ('c', 'u1')])\nrfn.require_fields(a, [('b', 'f4'), ('c', 'u1')])",
            "outputs": [
                {
                    "output_type": "execute_result",
                    "metadata": {},
                    "data": {
                        "text/plain": "array([(1., 1), (1., 1), (1., 1), (1., 1)],\n  dtype=[('b', '<f4'), ('c', 'u1')])"
                    },
                    "execution_count": null
                }
            ]
        },
        {
            "id": "3a10c664",
            "cell_type": "code",
            "metadata": {},
            "execution_count": null,
            "source": "rfn.require_fields(a, [('b', 'f4'), ('newf', 'u1')])",
            "outputs": [
                {
                    "output_type": "execute_result",
                    "metadata": {},
                    "data": {
                        "text/plain": "array([(1., 0), (1., 0), (1., 0), (1., 0)],\n  dtype=[('b', '<f4'), ('newf', 'u1')])"
                    },
                    "execution_count": null
                }
            ]
        }
    ]
}