{
    "nbformat": 4,
    "nbformat_minor": 5,
    "metadata": {
        "kernelspec": {
            "display_name": "Python",
            "language": "python",
            "name": "python"
        },
        "language_info": {
            "name": "python"
        }
    },
    "cells": [
        {
            "id": "c4f8a11b",
            "cell_type": "markdown",
            "source": "<div class='alert alert-warning'>\n\nNumPy's interactive examples are experimental and may not always work as expected, with high load times especially on low-resource platforms, and the version of NumPy might not be in sync with the one you are browsing the documentation for. If you encounter any issues, please report them on the [NumPy issue tracker](https://github.com/numpy/numpy/issues).\n\n</div>",
            "metadata": {}
        },
        {
            "id": "6e8fea54",
            "cell_type": "code",
            "metadata": {},
            "execution_count": null,
            "source": "import numpy as np\na = np.array([[1, 2], [3, np.nan]])\nnp.nanmax(a)",
            "outputs": [
                {
                    "output_type": "execute_result",
                    "metadata": {},
                    "data": {
                        "text/plain": "3.0"
                    },
                    "execution_count": null
                }
            ]
        },
        {
            "id": "177c6513",
            "cell_type": "code",
            "metadata": {},
            "execution_count": null,
            "source": "np.nanmax(a, axis=0)",
            "outputs": [
                {
                    "output_type": "execute_result",
                    "metadata": {},
                    "data": {
                        "text/plain": "array([3.,  2.])"
                    },
                    "execution_count": null
                }
            ]
        },
        {
            "id": "26768e42",
            "cell_type": "code",
            "metadata": {},
            "execution_count": null,
            "source": "np.nanmax(a, axis=1)",
            "outputs": [
                {
                    "output_type": "execute_result",
                    "metadata": {},
                    "data": {
                        "text/plain": "array([2.,  3.])"
                    },
                    "execution_count": null
                }
            ]
        },
        {
            "id": "805a26b4",
            "cell_type": "markdown",
            "source": "When positive infinity and negative infinity are present:\n",
            "metadata": {}
        },
        {
            "id": "2584fc58",
            "cell_type": "code",
            "metadata": {},
            "execution_count": null,
            "source": "np.nanmax([1, 2, np.nan, -np.inf])",
            "outputs": [
                {
                    "output_type": "execute_result",
                    "metadata": {},
                    "data": {
                        "text/plain": "2.0"
                    },
                    "execution_count": null
                }
            ]
        },
        {
            "id": "a28a51a1",
            "cell_type": "code",
            "metadata": {},
            "execution_count": null,
            "source": "np.nanmax([1, 2, np.nan, np.inf])",
            "outputs": [
                {
                    "output_type": "execute_result",
                    "metadata": {},
                    "data": {
                        "text/plain": "inf"
                    },
                    "execution_count": null
                }
            ]
        }
    ]
}