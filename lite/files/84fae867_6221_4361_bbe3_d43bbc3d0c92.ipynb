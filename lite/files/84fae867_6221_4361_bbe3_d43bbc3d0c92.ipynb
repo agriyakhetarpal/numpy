{
    "nbformat": 4,
    "nbformat_minor": 5,
    "metadata": {
        "kernelspec": {
            "display_name": "Python",
            "language": "python",
            "name": "python"
        },
        "language_info": {
            "name": "python"
        }
    },
    "cells": [
        {
            "id": "e8f5a627",
            "cell_type": "markdown",
            "source": "<div class='alert alert-warning'>\n\nNumPy's interactive examples are experimental and may not always work as expected, with high load times especially on low-resource platforms, and the version of NumPy might not be in sync with the one you are browsing the documentation for. If you encounter any issues, please report them on the [NumPy issue tracker](https://github.com/numpy/numpy/issues).\n\n</div>",
            "metadata": {}
        },
        {
            "id": "d8dde270",
            "cell_type": "code",
            "metadata": {},
            "execution_count": null,
            "source": "import numpy as np",
            "outputs": []
        },
        {
            "id": "4c134e84",
            "cell_type": "code",
            "metadata": {},
            "execution_count": null,
            "source": "np.get_printoptions()",
            "outputs": [
                {
                    "output_type": "execute_result",
                    "metadata": {},
                    "data": {
                        "text/plain": "{'edgeitems': 3, 'threshold': 1000, ..., 'override_repr': None}"
                    },
                    "execution_count": null
                }
            ]
        },
        {
            "id": "92d1cd83",
            "cell_type": "code",
            "metadata": {},
            "execution_count": null,
            "source": "np.get_printoptions()['linewidth']",
            "outputs": [
                {
                    "output_type": "execute_result",
                    "metadata": {},
                    "data": {
                        "text/plain": "75"
                    },
                    "execution_count": null
                }
            ]
        },
        {
            "id": "bf47154f",
            "cell_type": "code",
            "metadata": {},
            "execution_count": null,
            "source": "np.set_printoptions(linewidth=100)\nnp.get_printoptions()['linewidth']",
            "outputs": [
                {
                    "output_type": "execute_result",
                    "metadata": {},
                    "data": {
                        "text/plain": "100"
                    },
                    "execution_count": null
                }
            ]
        }
    ]
}