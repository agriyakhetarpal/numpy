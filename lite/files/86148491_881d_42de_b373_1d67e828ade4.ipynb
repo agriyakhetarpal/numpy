{
    "nbformat": 4,
    "nbformat_minor": 5,
    "metadata": {
        "kernelspec": {
            "display_name": "Python",
            "language": "python",
            "name": "python"
        },
        "language_info": {
            "name": "python"
        }
    },
    "cells": [
        {
            "id": "f0ff8367",
            "cell_type": "markdown",
            "source": "<div class='alert alert-warning'>\n\nNumPy's interactive examples are experimental and may not always work as expected, with high load times especially on low-resource platforms, , and the version of NumPy might not be in sync with the one you are browsing the documentation for. If you encounter any issues, please report them on the [NumPy issue tracker](https://github.com/numpy/numpy/issues).\n\n</div>",
            "metadata": {}
        },
        {
            "id": "a37dbf48",
            "cell_type": "code",
            "metadata": {},
            "execution_count": null,
            "source": "import numpy as np\nfrom tempfile import TemporaryFile\noutfile = TemporaryFile()\nx = np.arange(10)\ny = np.sin(x)",
            "outputs": []
        },
        {
            "id": "0f33308b",
            "cell_type": "markdown",
            "source": "Using `savez` with \\*args, the arrays are saved with default names.\n",
            "metadata": {}
        },
        {
            "id": "0974fc4c",
            "cell_type": "code",
            "metadata": {},
            "execution_count": null,
            "source": "np.savez(outfile, x, y)\n_ = outfile.seek(0) # Only needed to simulate closing & reopening file\nnpzfile = np.load(outfile)\nnpzfile.files",
            "outputs": [
                {
                    "output_type": "execute_result",
                    "metadata": {},
                    "data": {
                        "text/plain": "['arr_0', 'arr_1']"
                    },
                    "execution_count": null
                }
            ]
        },
        {
            "id": "d65c32aa",
            "cell_type": "code",
            "metadata": {},
            "execution_count": null,
            "source": "npzfile['arr_0']",
            "outputs": [
                {
                    "output_type": "execute_result",
                    "metadata": {},
                    "data": {
                        "text/plain": "array([0, 1, 2, 3, 4, 5, 6, 7, 8, 9])"
                    },
                    "execution_count": null
                }
            ]
        },
        {
            "id": "9340b2ec",
            "cell_type": "markdown",
            "source": "Using `savez` with \\**kwds, the arrays are saved with the keyword names.\n",
            "metadata": {}
        },
        {
            "id": "b9882b3d",
            "cell_type": "code",
            "metadata": {},
            "execution_count": null,
            "source": "outfile = TemporaryFile()\nnp.savez(outfile, x=x, y=y)\n_ = outfile.seek(0)\nnpzfile = np.load(outfile)\nsorted(npzfile.files)",
            "outputs": [
                {
                    "output_type": "execute_result",
                    "metadata": {},
                    "data": {
                        "text/plain": "['x', 'y']"
                    },
                    "execution_count": null
                }
            ]
        },
        {
            "id": "82cbda01",
            "cell_type": "code",
            "metadata": {},
            "execution_count": null,
            "source": "npzfile['x']",
            "outputs": [
                {
                    "output_type": "execute_result",
                    "metadata": {},
                    "data": {
                        "text/plain": "array([0, 1, 2, 3, 4, 5, 6, 7, 8, 9])"
                    },
                    "execution_count": null
                }
            ]
        }
    ]
}