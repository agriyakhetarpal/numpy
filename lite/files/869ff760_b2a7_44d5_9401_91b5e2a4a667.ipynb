{
    "nbformat": 4,
    "nbformat_minor": 5,
    "metadata": {
        "kernelspec": {
            "display_name": "Python",
            "language": "python",
            "name": "python"
        },
        "language_info": {
            "name": "python"
        }
    },
    "cells": [
        {
            "id": "fc4a3a8f",
            "cell_type": "markdown",
            "source": "<div class='alert alert-warning'>\n\nNumPy's interactive examples are experimental and may not always work as expected, with high load times especially on low-resource platforms, and the version of NumPy might not be in sync with the one you are browsing the documentation for. If you encounter any issues, please report them on the [NumPy issue tracker](https://github.com/numpy/numpy/issues).\n\n</div>",
            "metadata": {}
        },
        {
            "id": "fd7f146d",
            "cell_type": "code",
            "metadata": {},
            "execution_count": null,
            "source": "import numpy as np\nnp.ones(5)",
            "outputs": [
                {
                    "output_type": "execute_result",
                    "metadata": {},
                    "data": {
                        "text/plain": "array([1., 1., 1., 1., 1.])"
                    },
                    "execution_count": null
                }
            ]
        },
        {
            "id": "81019172",
            "cell_type": "code",
            "metadata": {},
            "execution_count": null,
            "source": "np.ones((5,), dtype=int)",
            "outputs": [
                {
                    "output_type": "execute_result",
                    "metadata": {},
                    "data": {
                        "text/plain": "array([1, 1, 1, 1, 1])"
                    },
                    "execution_count": null
                }
            ]
        },
        {
            "id": "0b245773",
            "cell_type": "code",
            "metadata": {},
            "execution_count": null,
            "source": "np.ones((2, 1))",
            "outputs": [
                {
                    "output_type": "execute_result",
                    "metadata": {},
                    "data": {
                        "text/plain": "array([[1.],\n       [1.]])"
                    },
                    "execution_count": null
                }
            ]
        },
        {
            "id": "6b8161b5",
            "cell_type": "code",
            "metadata": {},
            "execution_count": null,
            "source": "s = (2,2)\nnp.ones(s)",
            "outputs": [
                {
                    "output_type": "execute_result",
                    "metadata": {},
                    "data": {
                        "text/plain": "array([[1.,  1.],\n       [1.,  1.]])"
                    },
                    "execution_count": null
                }
            ]
        }
    ]
}