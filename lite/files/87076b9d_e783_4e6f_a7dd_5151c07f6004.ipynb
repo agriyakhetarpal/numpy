{
    "nbformat": 4,
    "nbformat_minor": 5,
    "metadata": {
        "kernelspec": {
            "display_name": "Python",
            "language": "python",
            "name": "python"
        },
        "language_info": {
            "name": "python"
        }
    },
    "cells": [
        {
            "id": "5168bff7",
            "cell_type": "markdown",
            "source": "<div class='alert alert-warning'>\n\nNumPy's interactive examples are experimental and may not always work as expected, with high load times especially on low-resource platforms, and the version of NumPy might not be in sync with the one you are browsing the documentation for. If you encounter any issues, please report them on the [NumPy issue tracker](https://github.com/numpy/numpy/issues).\n\n</div>",
            "metadata": {}
        },
        {
            "id": "e05f64c9",
            "cell_type": "code",
            "metadata": {},
            "execution_count": null,
            "source": "import numpy as np\nnp.min_scalar_type(10)",
            "outputs": [
                {
                    "output_type": "execute_result",
                    "metadata": {},
                    "data": {
                        "text/plain": "dtype('uint8')"
                    },
                    "execution_count": null
                }
            ]
        },
        {
            "id": "c8b7ce16",
            "cell_type": "code",
            "metadata": {},
            "execution_count": null,
            "source": "np.min_scalar_type(-260)",
            "outputs": [
                {
                    "output_type": "execute_result",
                    "metadata": {},
                    "data": {
                        "text/plain": "dtype('int16')"
                    },
                    "execution_count": null
                }
            ]
        },
        {
            "id": "84879f8d",
            "cell_type": "code",
            "metadata": {},
            "execution_count": null,
            "source": "np.min_scalar_type(3.1)",
            "outputs": [
                {
                    "output_type": "execute_result",
                    "metadata": {},
                    "data": {
                        "text/plain": "dtype('float16')"
                    },
                    "execution_count": null
                }
            ]
        },
        {
            "id": "96da312b",
            "cell_type": "code",
            "metadata": {},
            "execution_count": null,
            "source": "np.min_scalar_type(1e50)",
            "outputs": [
                {
                    "output_type": "execute_result",
                    "metadata": {},
                    "data": {
                        "text/plain": "dtype('float64')"
                    },
                    "execution_count": null
                }
            ]
        },
        {
            "id": "6fabc8aa",
            "cell_type": "code",
            "metadata": {},
            "execution_count": null,
            "source": "np.min_scalar_type(np.arange(4,dtype='f8'))",
            "outputs": [
                {
                    "output_type": "execute_result",
                    "metadata": {},
                    "data": {
                        "text/plain": "dtype('float64')"
                    },
                    "execution_count": null
                }
            ]
        }
    ]
}