{
    "nbformat": 4,
    "nbformat_minor": 5,
    "metadata": {
        "kernelspec": {
            "display_name": "Python",
            "language": "python",
            "name": "python"
        },
        "language_info": {
            "name": "python"
        }
    },
    "cells": [
        {
            "id": "d3294893",
            "cell_type": "markdown",
            "source": "<div class='alert alert-warning'>\n\nNumPy's interactive examples are experimental and may not always work as expected, with high load times especially on low-resource platforms, and the version of NumPy might not be in sync with the one you are browsing the documentation for. If you encounter any issues, please report them on the [NumPy issue tracker](https://github.com/numpy/numpy/issues).\n\n</div>",
            "metadata": {}
        },
        {
            "id": "e917aebb",
            "cell_type": "markdown",
            "source": "    .. code-block:: python\n\n        >>> import numpy as np\n        >>> import numpy.typing as npt\n\n        >>> def as_array(a: npt.ArrayLike) -> np.ndarray:\n        ...     return np.array(a)\n\n\n.. data:: DTypeLike\n    :value: typing.Union[...]\n\n    A `~typing.Union` representing objects that can be coerced\n    into a `~numpy.dtype`.\n\n    Among others this includes the likes of:\n\n    * :class:`type` objects.\n    * Character codes or the names of :class:`type` objects.\n    * Objects with the ``.dtype`` attribute.\n\n    .. versionadded:: 1.20\n\n\n.. admonition:: See Also\n\n    :ref:`Specifying and constructing data types <arrays.dtypes.constructing>`\n        A comprehensive overview of all objects that can be coerced\n        into data types.\n\n.. rubric:: Examples\n\n.. code-block:: python\n\n    >>> import numpy as np\n    >>> import numpy.typing as npt\n\n    >>> def as_dtype(d: npt.DTypeLike) -> np.dtype:\n    ...     return np.dtype(d)",
            "metadata": {}
        }
    ]
}