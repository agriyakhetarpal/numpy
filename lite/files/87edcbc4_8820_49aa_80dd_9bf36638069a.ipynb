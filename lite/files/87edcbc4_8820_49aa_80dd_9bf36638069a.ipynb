{
    "nbformat": 4,
    "nbformat_minor": 5,
    "metadata": {
        "kernelspec": {
            "display_name": "Python",
            "language": "python",
            "name": "python"
        },
        "language_info": {
            "name": "python"
        }
    },
    "cells": [
        {
            "id": "e9dac788",
            "cell_type": "markdown",
            "source": "<div class='alert alert-warning'>\n\nNumPy's interactive examples are experimental and may not always work as expected, with high load times especially on low-resource platforms, , and the version of NumPy might not be in sync with the one you are browsing the documentation for. If you encounter any issues, please report them on the [NumPy issue tracker](https://github.com/numpy/numpy/issues).\n\n</div>",
            "metadata": {}
        },
        {
            "id": "ea81f1fd",
            "cell_type": "code",
            "metadata": {},
            "execution_count": null,
            "source": "import numpy as np\ndt = np.dtype('i2')\ndt.byteorder",
            "outputs": [
                {
                    "output_type": "execute_result",
                    "metadata": {},
                    "data": {
                        "text/plain": "'='"
                    },
                    "execution_count": null
                }
            ]
        },
        {
            "id": "95fb60f6",
            "cell_type": "code",
            "metadata": {},
            "execution_count": null,
            "source": "# endian is not relevant for 8 bit numbers\nnp.dtype('i1').byteorder",
            "outputs": [
                {
                    "output_type": "execute_result",
                    "metadata": {},
                    "data": {
                        "text/plain": "'|'"
                    },
                    "execution_count": null
                }
            ]
        },
        {
            "id": "e8b8f1cb",
            "cell_type": "code",
            "metadata": {},
            "execution_count": null,
            "source": "# or ASCII strings\nnp.dtype('S2').byteorder",
            "outputs": [
                {
                    "output_type": "execute_result",
                    "metadata": {},
                    "data": {
                        "text/plain": "'|'"
                    },
                    "execution_count": null
                }
            ]
        },
        {
            "id": "d403b6a6",
            "cell_type": "code",
            "metadata": {},
            "execution_count": null,
            "source": "# Even if specific code is given, and it is native\n# '=' is the byteorder\nimport sys\nsys_is_le = sys.byteorder == 'little'\nnative_code = '<' if sys_is_le else '>'\nswapped_code = '>' if sys_is_le else '<'\ndt = np.dtype(native_code + 'i2')\ndt.byteorder",
            "outputs": [
                {
                    "output_type": "execute_result",
                    "metadata": {},
                    "data": {
                        "text/plain": "'='"
                    },
                    "execution_count": null
                }
            ]
        },
        {
            "id": "ddcb6733",
            "cell_type": "code",
            "metadata": {},
            "execution_count": null,
            "source": "# Swapped code shows up as itself\ndt = np.dtype(swapped_code + 'i2')\ndt.byteorder == swapped_code",
            "outputs": [
                {
                    "output_type": "execute_result",
                    "metadata": {},
                    "data": {
                        "text/plain": "True"
                    },
                    "execution_count": null
                }
            ]
        }
    ]
}