{
    "nbformat": 4,
    "nbformat_minor": 5,
    "metadata": {
        "kernelspec": {
            "display_name": "Python",
            "language": "python",
            "name": "python"
        },
        "language_info": {
            "name": "python"
        }
    },
    "cells": [
        {
            "id": "f0715ca3",
            "cell_type": "markdown",
            "source": "<div class='alert alert-warning'>\n\nNumPy's interactive examples are experimental and may not always work as expected, with high load times especially on low-resource platforms, , and the version of NumPy might not be in sync with the one you are browsing the documentation for. If you encounter any issues, please report them on the [NumPy issue tracker](https://github.com/numpy/numpy/issues).\n\n</div>",
            "metadata": {}
        },
        {
            "id": "44e97e5b",
            "cell_type": "markdown",
            "source": "Draw samples from the distribution:\n",
            "metadata": {}
        },
        {
            "id": "fbb7058d",
            "cell_type": "code",
            "metadata": {},
            "execution_count": null,
            "source": "a = 5. # shape\nsamples = 1000\ns = np.random.power(a, samples)",
            "outputs": []
        },
        {
            "id": "79f59f2a",
            "cell_type": "markdown",
            "source": "Display the histogram of the samples, along with\nthe probability density function:\n",
            "metadata": {}
        },
        {
            "id": "92b14ea3",
            "cell_type": "code",
            "metadata": {},
            "execution_count": null,
            "source": "import matplotlib.pyplot as plt\ncount, bins, ignored = plt.hist(s, bins=30)\nx = np.linspace(0, 1, 100)\ny = a*x**(a-1.)\nnormed_y = samples*np.diff(bins)[0]*y\nplt.plot(x, normed_y)\nplt.show()",
            "outputs": []
        },
        {
            "id": "70ebee44",
            "cell_type": "markdown",
            "source": "Compare the power function distribution to the inverse of the Pareto.\n",
            "metadata": {}
        },
        {
            "id": "4bc52984",
            "cell_type": "code",
            "metadata": {},
            "execution_count": null,
            "source": "from scipy import stats # doctest: +SKIP\nrvs = np.random.power(5, 1000000)\nrvsp = np.random.pareto(5, 1000000)\nxx = np.linspace(0,1,100)\npowpdf = stats.powerlaw.pdf(xx,5)  # doctest: +SKIP",
            "outputs": []
        },
        {
            "id": "4b63cdd9",
            "cell_type": "code",
            "metadata": {},
            "execution_count": null,
            "source": "plt.figure()\nplt.hist(rvs, bins=50, density=True)\nplt.plot(xx,powpdf,'r-')  # doctest: +SKIP\nplt.title('np.random.power(5)')",
            "outputs": []
        },
        {
            "id": "00a7a55d",
            "cell_type": "code",
            "metadata": {},
            "execution_count": null,
            "source": "plt.figure()\nplt.hist(1./(1.+rvsp), bins=50, density=True)\nplt.plot(xx,powpdf,'r-')  # doctest: +SKIP\nplt.title('inverse of 1 + np.random.pareto(5)')",
            "outputs": []
        },
        {
            "id": "3ea73dcc",
            "cell_type": "code",
            "metadata": {},
            "execution_count": null,
            "source": "plt.figure()\nplt.hist(1./(1.+rvsp), bins=50, density=True)\nplt.plot(xx,powpdf,'r-')  # doctest: +SKIP\nplt.title('inverse of stats.pareto(5)')",
            "outputs": []
        }
    ]
}