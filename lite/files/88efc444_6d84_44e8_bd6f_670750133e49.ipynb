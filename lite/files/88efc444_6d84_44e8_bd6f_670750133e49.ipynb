{
    "nbformat": 4,
    "nbformat_minor": 5,
    "metadata": {
        "kernelspec": {
            "display_name": "Python",
            "language": "python",
            "name": "python"
        },
        "language_info": {
            "name": "python"
        }
    },
    "cells": [
        {
            "id": "8b2df3e2",
            "cell_type": "markdown",
            "source": "<div class='alert alert-warning'>\n\nNumPy's interactive examples are experimental and may not always work as expected, with high load times especially on low-resource platforms, , and the version of NumPy might not be in sync with the one you are browsing the documentation for. If you encounter any issues, please report them on the [NumPy issue tracker](https://github.com/numpy/numpy/issues).\n\n</div>",
            "metadata": {}
        },
        {
            "id": "e72a7b39",
            "cell_type": "markdown",
            "source": "Draw samples from the distribution:\n",
            "metadata": {}
        },
        {
            "id": "5ebd1c51",
            "cell_type": "code",
            "metadata": {},
            "execution_count": null,
            "source": "import numpy as np\ns = np.random.poisson(5, 10000)",
            "outputs": []
        },
        {
            "id": "a1ccb235",
            "cell_type": "markdown",
            "source": "Display histogram of the sample:\n",
            "metadata": {}
        },
        {
            "id": "6a79b1fc",
            "cell_type": "code",
            "metadata": {},
            "execution_count": null,
            "source": "import matplotlib.pyplot as plt\ncount, bins, ignored = plt.hist(s, 14, density=True)\nplt.show()",
            "outputs": []
        },
        {
            "id": "a30b9281",
            "cell_type": "markdown",
            "source": "Draw each 100 values for lambda 100 and 500:\n",
            "metadata": {}
        },
        {
            "id": "04259b43",
            "cell_type": "code",
            "metadata": {},
            "execution_count": null,
            "source": "s = np.random.poisson(lam=(100., 500.), size=(100, 2))",
            "outputs": []
        }
    ]
}