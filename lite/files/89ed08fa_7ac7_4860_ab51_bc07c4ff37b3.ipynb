{
    "nbformat": 4,
    "nbformat_minor": 5,
    "metadata": {
        "kernelspec": {
            "display_name": "Python",
            "language": "python",
            "name": "python"
        },
        "language_info": {
            "name": "python"
        }
    },
    "cells": [
        {
            "id": "7596b504",
            "cell_type": "markdown",
            "source": "<div class='alert alert-warning'>\n\nNumPy's interactive examples are experimental and may not always work as expected, with high load times especially on low-resource platforms, and the version of NumPy might not be in sync with the one you are browsing the documentation for. If you encounter any issues, please report them on the [NumPy issue tracker](https://github.com/numpy/numpy/issues).\n\n</div>",
            "metadata": {}
        },
        {
            "id": "6d9470da",
            "cell_type": "code",
            "metadata": {},
            "execution_count": null,
            "source": "np.testing.assert_equal([4, 5], [4, 6])",
            "outputs": [
                {
                    "output_type": "execute_result",
                    "metadata": {},
                    "data": {
                        "text/plain": "Traceback (most recent call last):\n    ...\nAssertionError:\nItems are not equal:\nitem=1\n ACTUAL: 5\n DESIRED: 6"
                    },
                    "execution_count": null
                }
            ]
        },
        {
            "id": "5deddbf7",
            "cell_type": "markdown",
            "source": "The following comparison does not raise an exception.  There are NaNs\nin the inputs, but they are in the same positions.\n",
            "metadata": {}
        },
        {
            "id": "03704887",
            "cell_type": "code",
            "metadata": {},
            "execution_count": null,
            "source": "np.testing.assert_equal(np.array([1.0, 2.0, np.nan]), [1, 2, np.nan])",
            "outputs": []
        },
        {
            "id": "3d6815d6",
            "cell_type": "markdown",
            "source": "As mentioned in the Notes section, `assert_equal` has special\nhandling for scalars when one of the arguments is an array.\nHere, the test checks that each value in `x` is 3:\n",
            "metadata": {}
        },
        {
            "id": "4c9b4db6",
            "cell_type": "code",
            "metadata": {},
            "execution_count": null,
            "source": "x = np.full((2, 5), fill_value=3)\nnp.testing.assert_equal(x, 3)",
            "outputs": []
        },
        {
            "id": "22b8d701",
            "cell_type": "markdown",
            "source": "Use `strict` to raise an AssertionError when comparing a scalar with an\narray of a different shape:\n",
            "metadata": {}
        },
        {
            "id": "f9bd26a0",
            "cell_type": "code",
            "metadata": {},
            "execution_count": null,
            "source": "np.testing.assert_equal(x, 3, strict=True)",
            "outputs": [
                {
                    "output_type": "execute_result",
                    "metadata": {},
                    "data": {
                        "text/plain": "Traceback (most recent call last):\n    ...\nAssertionError:\nArrays are not equal\n<BLANKLINE>\n(shapes (2, 5), () mismatch)\n ACTUAL: array([[3, 3, 3, 3, 3],\n       [3, 3, 3, 3, 3]])\n DESIRED: array(3)"
                    },
                    "execution_count": null
                }
            ]
        },
        {
            "id": "f13002ee",
            "cell_type": "markdown",
            "source": "The `strict` parameter also ensures that the array data types match:\n",
            "metadata": {}
        },
        {
            "id": "f0ffa509",
            "cell_type": "code",
            "metadata": {},
            "execution_count": null,
            "source": "x = np.array([2, 2, 2])\ny = np.array([2., 2., 2.], dtype=np.float32)\nnp.testing.assert_equal(x, y, strict=True)",
            "outputs": [
                {
                    "output_type": "execute_result",
                    "metadata": {},
                    "data": {
                        "text/plain": "Traceback (most recent call last):\n    ...\nAssertionError:\nArrays are not equal\n<BLANKLINE>\n(dtypes int64, float32 mismatch)\n ACTUAL: array([2, 2, 2])\n DESIRED: array([2., 2., 2.], dtype=float32)"
                    },
                    "execution_count": null
                }
            ]
        }
    ]
}