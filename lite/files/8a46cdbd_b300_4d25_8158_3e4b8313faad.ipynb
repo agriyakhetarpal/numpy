{
    "nbformat": 4,
    "nbformat_minor": 5,
    "metadata": {
        "kernelspec": {
            "display_name": "Python",
            "language": "python",
            "name": "python"
        },
        "language_info": {
            "name": "python"
        }
    },
    "cells": [
        {
            "id": "bdac5854",
            "cell_type": "markdown",
            "source": "<div class='alert alert-warning'>\n\nNumPy's interactive examples are experimental and may not always work as expected, with high load times especially on low-resource platforms, and the version of NumPy might not be in sync with the one you are browsing the documentation for. If you encounter any issues, please report them on the [NumPy issue tracker](https://github.com/numpy/numpy/issues).\n\n</div>",
            "metadata": {}
        },
        {
            "id": "ec7cfd86",
            "cell_type": "code",
            "metadata": {},
            "execution_count": null,
            "source": "import numpy as np\nimport numpy.ma as ma\nm = [True, False, True, True]\nma.make_mask(m)",
            "outputs": [
                {
                    "output_type": "execute_result",
                    "metadata": {},
                    "data": {
                        "text/plain": "array([ True, False,  True,  True])"
                    },
                    "execution_count": null
                }
            ]
        },
        {
            "id": "2ad5b6b5",
            "cell_type": "code",
            "metadata": {},
            "execution_count": null,
            "source": "m = [1, 0, 1, 1]\nma.make_mask(m)",
            "outputs": [
                {
                    "output_type": "execute_result",
                    "metadata": {},
                    "data": {
                        "text/plain": "array([ True, False,  True,  True])"
                    },
                    "execution_count": null
                }
            ]
        },
        {
            "id": "ef8f0b5d",
            "cell_type": "code",
            "metadata": {},
            "execution_count": null,
            "source": "m = [1, 0, 2, -3]\nma.make_mask(m)",
            "outputs": [
                {
                    "output_type": "execute_result",
                    "metadata": {},
                    "data": {
                        "text/plain": "array([ True, False,  True,  True])"
                    },
                    "execution_count": null
                }
            ]
        },
        {
            "id": "2ac1adf7",
            "cell_type": "markdown",
            "source": "Effect of the `shrink` parameter.\n",
            "metadata": {}
        },
        {
            "id": "47cddfaf",
            "cell_type": "code",
            "metadata": {},
            "execution_count": null,
            "source": "m = np.zeros(4)\nm",
            "outputs": [
                {
                    "output_type": "execute_result",
                    "metadata": {},
                    "data": {
                        "text/plain": "array([0., 0., 0., 0.])"
                    },
                    "execution_count": null
                }
            ]
        },
        {
            "id": "414bc4ca",
            "cell_type": "code",
            "metadata": {},
            "execution_count": null,
            "source": "ma.make_mask(m)",
            "outputs": [
                {
                    "output_type": "execute_result",
                    "metadata": {},
                    "data": {
                        "text/plain": "False"
                    },
                    "execution_count": null
                }
            ]
        },
        {
            "id": "c344c79e",
            "cell_type": "code",
            "metadata": {},
            "execution_count": null,
            "source": "ma.make_mask(m, shrink=False)",
            "outputs": [
                {
                    "output_type": "execute_result",
                    "metadata": {},
                    "data": {
                        "text/plain": "array([False, False, False, False])"
                    },
                    "execution_count": null
                }
            ]
        },
        {
            "id": "c79cd8b1",
            "cell_type": "markdown",
            "source": "Using a flexible `dtype`.\n",
            "metadata": {}
        },
        {
            "id": "c9cee072",
            "cell_type": "code",
            "metadata": {},
            "execution_count": null,
            "source": "m = [1, 0, 1, 1]\nn = [0, 1, 0, 0]\narr = []\nfor man, mouse in zip(m, n):\n    arr.append((man, mouse))\narr",
            "outputs": [
                {
                    "output_type": "execute_result",
                    "metadata": {},
                    "data": {
                        "text/plain": "[(1, 0), (0, 1), (1, 0), (1, 0)]"
                    },
                    "execution_count": null
                }
            ]
        },
        {
            "id": "9cf9ce39",
            "cell_type": "code",
            "metadata": {},
            "execution_count": null,
            "source": "dtype = np.dtype({'names':['man', 'mouse'],\n                  'formats':[np.int64, np.int64]})\narr = np.array(arr, dtype=dtype)\narr",
            "outputs": [
                {
                    "output_type": "execute_result",
                    "metadata": {},
                    "data": {
                        "text/plain": "array([(1, 0), (0, 1), (1, 0), (1, 0)],\n      dtype=[('man', '<i8'), ('mouse', '<i8')])"
                    },
                    "execution_count": null
                }
            ]
        },
        {
            "id": "2dcf9bca",
            "cell_type": "code",
            "metadata": {},
            "execution_count": null,
            "source": "ma.make_mask(arr, dtype=dtype)",
            "outputs": [
                {
                    "output_type": "execute_result",
                    "metadata": {},
                    "data": {
                        "text/plain": "array([(True, False), (False, True), (True, False), (True, False)],\n      dtype=[('man', '|b1'), ('mouse', '|b1')])"
                    },
                    "execution_count": null
                }
            ]
        }
    ]
}