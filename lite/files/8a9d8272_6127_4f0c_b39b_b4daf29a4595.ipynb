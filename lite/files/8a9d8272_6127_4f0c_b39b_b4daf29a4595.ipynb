{
    "nbformat": 4,
    "nbformat_minor": 5,
    "metadata": {
        "kernelspec": {
            "display_name": "Python",
            "language": "python",
            "name": "python"
        },
        "language_info": {
            "name": "python"
        }
    },
    "cells": [
        {
            "id": "a2f1ee43",
            "cell_type": "markdown",
            "source": "<div class='alert alert-warning'>\n\nNumPy's interactive examples are experimental and may not always work as expected, with high load times especially on low-resource platforms, and the version of NumPy might not be in sync with the one you are browsing the documentation for. If you encounter any issues, please report them on the [NumPy issue tracker](https://github.com/numpy/numpy/issues).\n\n</div>",
            "metadata": {}
        },
        {
            "id": "091550c2",
            "cell_type": "code",
            "metadata": {},
            "execution_count": null,
            "source": "x = np.matrix(np.arange(12).reshape((3,4))); x",
            "outputs": [
                {
                    "output_type": "execute_result",
                    "metadata": {},
                    "data": {
                        "text/plain": "matrix([[ 0,  1,  2,  3],\n        [ 4,  5,  6,  7],\n        [ 8,  9, 10, 11]])"
                    },
                    "execution_count": null
                }
            ]
        },
        {
            "id": "7a5d2175",
            "cell_type": "code",
            "metadata": {},
            "execution_count": null,
            "source": "x.argmax()",
            "outputs": [
                {
                    "output_type": "execute_result",
                    "metadata": {},
                    "data": {
                        "text/plain": "11"
                    },
                    "execution_count": null
                }
            ]
        },
        {
            "id": "8236ca18",
            "cell_type": "code",
            "metadata": {},
            "execution_count": null,
            "source": "x.argmax(0)",
            "outputs": [
                {
                    "output_type": "execute_result",
                    "metadata": {},
                    "data": {
                        "text/plain": "matrix([[2, 2, 2, 2]])"
                    },
                    "execution_count": null
                }
            ]
        },
        {
            "id": "5a3f562e",
            "cell_type": "code",
            "metadata": {},
            "execution_count": null,
            "source": "x.argmax(1)",
            "outputs": [
                {
                    "output_type": "execute_result",
                    "metadata": {},
                    "data": {
                        "text/plain": "matrix([[3],\n        [3],\n        [3]])"
                    },
                    "execution_count": null
                }
            ]
        }
    ]
}