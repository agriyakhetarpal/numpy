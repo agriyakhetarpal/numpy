{
    "nbformat": 4,
    "nbformat_minor": 5,
    "metadata": {
        "kernelspec": {
            "display_name": "Python",
            "language": "python",
            "name": "python"
        },
        "language_info": {
            "name": "python"
        }
    },
    "cells": [
        {
            "id": "cc34970c",
            "cell_type": "markdown",
            "source": "<div class='alert alert-warning'>\n\nNumPy's interactive examples are experimental and may not always work as expected, with high load times especially on low-resource platforms, and the version of NumPy might not be in sync with the one you are browsing the documentation for. If you encounter any issues, please report them on the [NumPy issue tracker](https://github.com/numpy/numpy/issues).\n\n</div>",
            "metadata": {}
        },
        {
            "id": "d6113c95",
            "cell_type": "code",
            "metadata": {},
            "execution_count": null,
            "source": "p = np.polynomial.Polynomial([1, 2, 3])\nc = np.polynomial.Chebyshev([1, 2, 3])\nnp.polynomial.set_default_printstyle('unicode')\nprint(p)",
            "outputs": [
                {
                    "output_type": "execute_result",
                    "metadata": {},
                    "data": {
                        "text/plain": "1.0 + 2.0·x + 3.0·x²"
                    },
                    "execution_count": null
                }
            ]
        },
        {
            "id": "5fb59d94",
            "cell_type": "code",
            "metadata": {},
            "execution_count": null,
            "source": "print(c)",
            "outputs": [
                {
                    "output_type": "execute_result",
                    "metadata": {},
                    "data": {
                        "text/plain": "1.0 + 2.0·T₁(x) + 3.0·T₂(x)"
                    },
                    "execution_count": null
                }
            ]
        },
        {
            "id": "769b7bb3",
            "cell_type": "code",
            "metadata": {},
            "execution_count": null,
            "source": "np.polynomial.set_default_printstyle('ascii')\nprint(p)",
            "outputs": [
                {
                    "output_type": "execute_result",
                    "metadata": {},
                    "data": {
                        "text/plain": "1.0 + 2.0 x + 3.0 x**2"
                    },
                    "execution_count": null
                }
            ]
        },
        {
            "id": "de700cf7",
            "cell_type": "code",
            "metadata": {},
            "execution_count": null,
            "source": "print(c)",
            "outputs": [
                {
                    "output_type": "execute_result",
                    "metadata": {},
                    "data": {
                        "text/plain": "1.0 + 2.0 T_1(x) + 3.0 T_2(x)"
                    },
                    "execution_count": null
                }
            ]
        },
        {
            "id": "588c4597",
            "cell_type": "code",
            "metadata": {},
            "execution_count": null,
            "source": "# Formatting supersedes all class/package-level defaults\nprint(f\"{p:unicode}\")",
            "outputs": [
                {
                    "output_type": "execute_result",
                    "metadata": {},
                    "data": {
                        "text/plain": "1.0 + 2.0·x + 3.0·x²"
                    },
                    "execution_count": null
                }
            ]
        }
    ]
}