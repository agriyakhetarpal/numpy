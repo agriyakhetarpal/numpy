{
    "nbformat": 4,
    "nbformat_minor": 5,
    "metadata": {
        "kernelspec": {
            "display_name": "Python",
            "language": "python",
            "name": "python"
        },
        "language_info": {
            "name": "python"
        }
    },
    "cells": [
        {
            "id": "d83fedb5",
            "cell_type": "markdown",
            "source": "<div class='alert alert-warning'>\n\nNumPy's interactive examples are experimental and may not always work as expected, with high load times especially on low-resource platforms, and the version of NumPy might not be in sync with the one you are browsing the documentation for. If you encounter any issues, please report them on the [NumPy issue tracker](https://github.com/numpy/numpy/issues).\n\n</div>",
            "metadata": {}
        },
        {
            "id": "506f09da",
            "cell_type": "code",
            "metadata": {},
            "execution_count": null,
            "source": "np.random.randint(2, size=10)",
            "outputs": [
                {
                    "output_type": "execute_result",
                    "metadata": {},
                    "data": {
                        "text/plain": "array([1, 0, 0, 0, 1, 1, 0, 0, 1, 0]) # random"
                    },
                    "execution_count": null
                }
            ]
        },
        {
            "id": "a5481572",
            "cell_type": "code",
            "metadata": {},
            "execution_count": null,
            "source": "np.random.randint(1, size=10)",
            "outputs": [
                {
                    "output_type": "execute_result",
                    "metadata": {},
                    "data": {
                        "text/plain": "array([0, 0, 0, 0, 0, 0, 0, 0, 0, 0])"
                    },
                    "execution_count": null
                }
            ]
        },
        {
            "id": "cf2b0cbb",
            "cell_type": "markdown",
            "source": "Generate a 2 x 4 array of ints between 0 and 4, inclusive:\n",
            "metadata": {}
        },
        {
            "id": "9ba1e71d",
            "cell_type": "code",
            "metadata": {},
            "execution_count": null,
            "source": "np.random.randint(5, size=(2, 4))",
            "outputs": [
                {
                    "output_type": "execute_result",
                    "metadata": {},
                    "data": {
                        "text/plain": "array([[4, 0, 2, 1], # random\n       [3, 2, 2, 0]])"
                    },
                    "execution_count": null
                }
            ]
        },
        {
            "id": "6a910f40",
            "cell_type": "markdown",
            "source": "Generate a 1 x 3 array with 3 different upper bounds\n",
            "metadata": {}
        },
        {
            "id": "b0ca4a8e",
            "cell_type": "code",
            "metadata": {},
            "execution_count": null,
            "source": "np.random.randint(1, [3, 5, 10])",
            "outputs": [
                {
                    "output_type": "execute_result",
                    "metadata": {},
                    "data": {
                        "text/plain": "array([2, 2, 9]) # random"
                    },
                    "execution_count": null
                }
            ]
        },
        {
            "id": "b9ac10f9",
            "cell_type": "markdown",
            "source": "Generate a 1 by 3 array with 3 different lower bounds\n",
            "metadata": {}
        },
        {
            "id": "a321d29b",
            "cell_type": "code",
            "metadata": {},
            "execution_count": null,
            "source": "np.random.randint([1, 5, 7], 10)",
            "outputs": [
                {
                    "output_type": "execute_result",
                    "metadata": {},
                    "data": {
                        "text/plain": "array([9, 8, 7]) # random"
                    },
                    "execution_count": null
                }
            ]
        },
        {
            "id": "ffb1b277",
            "cell_type": "markdown",
            "source": "Generate a 2 by 4 array using broadcasting with dtype of uint8\n",
            "metadata": {}
        },
        {
            "id": "2961ce84",
            "cell_type": "code",
            "metadata": {},
            "execution_count": null,
            "source": "np.random.randint([1, 3, 5, 7], [[10], [20]], dtype=np.uint8)",
            "outputs": [
                {
                    "output_type": "execute_result",
                    "metadata": {},
                    "data": {
                        "text/plain": "array([[ 8,  6,  9,  7], # random\n       [ 1, 16,  9, 12]], dtype=uint8)"
                    },
                    "execution_count": null
                }
            ]
        }
    ]
}