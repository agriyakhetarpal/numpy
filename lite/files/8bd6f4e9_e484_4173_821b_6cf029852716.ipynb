{
    "nbformat": 4,
    "nbformat_minor": 5,
    "metadata": {
        "kernelspec": {
            "display_name": "Python",
            "language": "python",
            "name": "python"
        },
        "language_info": {
            "name": "python"
        }
    },
    "cells": [
        {
            "id": "999f3b24",
            "cell_type": "markdown",
            "source": "<div class='alert alert-warning'>\n\nNumPy's interactive examples are experimental and may not always work as expected, with high load times especially on low-resource platforms, , and the version of NumPy might not be in sync with the one you are browsing the documentation for. If you encounter any issues, please report them on the [NumPy issue tracker](https://github.com/numpy/numpy/issues).\n\n</div>",
            "metadata": {}
        },
        {
            "id": "6b86418c",
            "cell_type": "markdown",
            "source": "Generate a uniform random sample from np.arange(5) of size 3:\n",
            "metadata": {}
        },
        {
            "id": "2dd22901",
            "cell_type": "code",
            "metadata": {},
            "execution_count": null,
            "source": "rng = np.random.default_rng()\nrng.choice(5, 3)",
            "outputs": [
                {
                    "output_type": "execute_result",
                    "metadata": {},
                    "data": {
                        "text/plain": "array([0, 3, 4]) # random"
                    },
                    "execution_count": null
                }
            ]
        },
        {
            "id": "0e904109",
            "cell_type": "code",
            "metadata": {},
            "execution_count": null,
            "source": "#This is equivalent to rng.integers(0,5,3)",
            "outputs": []
        },
        {
            "id": "90f5e6a3",
            "cell_type": "markdown",
            "source": "Generate a non-uniform random sample from np.arange(5) of size 3:\n",
            "metadata": {}
        },
        {
            "id": "30c13ae4",
            "cell_type": "code",
            "metadata": {},
            "execution_count": null,
            "source": "rng.choice(5, 3, p=[0.1, 0, 0.3, 0.6, 0])",
            "outputs": [
                {
                    "output_type": "execute_result",
                    "metadata": {},
                    "data": {
                        "text/plain": "array([3, 3, 0]) # random"
                    },
                    "execution_count": null
                }
            ]
        },
        {
            "id": "6215e726",
            "cell_type": "markdown",
            "source": "Generate a uniform random sample from np.arange(5) of size 3 without\nreplacement:\n",
            "metadata": {}
        },
        {
            "id": "4b8c6f66",
            "cell_type": "code",
            "metadata": {},
            "execution_count": null,
            "source": "rng.choice(5, 3, replace=False)",
            "outputs": [
                {
                    "output_type": "execute_result",
                    "metadata": {},
                    "data": {
                        "text/plain": "array([3,1,0]) # random"
                    },
                    "execution_count": null
                }
            ]
        },
        {
            "id": "08bbf3cf",
            "cell_type": "code",
            "metadata": {},
            "execution_count": null,
            "source": "#This is equivalent to rng.permutation(np.arange(5))[:3]",
            "outputs": []
        },
        {
            "id": "28521bad",
            "cell_type": "markdown",
            "source": "Generate a uniform random sample from a 2-D array along the first\naxis (the default), without replacement:\n",
            "metadata": {}
        },
        {
            "id": "90dfcce4",
            "cell_type": "code",
            "metadata": {},
            "execution_count": null,
            "source": "rng.choice([[0, 1, 2], [3, 4, 5], [6, 7, 8]], 2, replace=False)",
            "outputs": [
                {
                    "output_type": "execute_result",
                    "metadata": {},
                    "data": {
                        "text/plain": "array([[3, 4, 5], # random\n       [0, 1, 2]])"
                    },
                    "execution_count": null
                }
            ]
        },
        {
            "id": "482e84a9",
            "cell_type": "markdown",
            "source": "Generate a non-uniform random sample from np.arange(5) of size\n3 without replacement:\n",
            "metadata": {}
        },
        {
            "id": "926a55b6",
            "cell_type": "code",
            "metadata": {},
            "execution_count": null,
            "source": "rng.choice(5, 3, replace=False, p=[0.1, 0, 0.3, 0.6, 0])",
            "outputs": [
                {
                    "output_type": "execute_result",
                    "metadata": {},
                    "data": {
                        "text/plain": "array([2, 3, 0]) # random"
                    },
                    "execution_count": null
                }
            ]
        },
        {
            "id": "0df57509",
            "cell_type": "markdown",
            "source": "Any of the above can be repeated with an arbitrary array-like\ninstead of just integers. For instance:\n",
            "metadata": {}
        },
        {
            "id": "95198875",
            "cell_type": "code",
            "metadata": {},
            "execution_count": null,
            "source": "aa_milne_arr = ['pooh', 'rabbit', 'piglet', 'Christopher']\nrng.choice(aa_milne_arr, 5, p=[0.5, 0.1, 0.1, 0.3])",
            "outputs": [
                {
                    "output_type": "execute_result",
                    "metadata": {},
                    "data": {
                        "text/plain": "array(['pooh', 'pooh', 'pooh', 'Christopher', 'piglet'], # random\n      dtype='<U11')"
                    },
                    "execution_count": null
                }
            ]
        }
    ]
}