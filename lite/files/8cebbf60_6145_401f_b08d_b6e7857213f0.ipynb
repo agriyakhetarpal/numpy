{
    "nbformat": 4,
    "nbformat_minor": 5,
    "metadata": {
        "kernelspec": {
            "display_name": "Python",
            "language": "python",
            "name": "python"
        },
        "language_info": {
            "name": "python"
        }
    },
    "cells": [
        {
            "id": "25b1c7cf",
            "cell_type": "markdown",
            "source": "<div class='alert alert-warning'>\n\nNumPy's interactive examples are experimental and may not always work as expected, with high load times especially on low-resource platforms, and the version of NumPy might not be in sync with the one you are browsing the documentation for. If you encounter any issues, please report them on the [NumPy issue tracker](https://github.com/numpy/numpy/issues).\n\n</div>",
            "metadata": {}
        },
        {
            "id": "61643c01",
            "cell_type": "code",
            "metadata": {},
            "execution_count": null,
            "source": "import numpy as np\nnp.less_equal([4, 2, 1], [2, 2, 2])",
            "outputs": [
                {
                    "output_type": "execute_result",
                    "metadata": {},
                    "data": {
                        "text/plain": "array([False,  True,  True])"
                    },
                    "execution_count": null
                }
            ]
        },
        {
            "id": "2bcb651a",
            "cell_type": "markdown",
            "source": "The ``<=`` operator can be used as a shorthand for ``np.less_equal`` on\nndarrays.\n",
            "metadata": {}
        },
        {
            "id": "31d506c9",
            "cell_type": "code",
            "metadata": {},
            "execution_count": null,
            "source": "a = np.array([4, 2, 1])\nb = np.array([2, 2, 2])\na <= b",
            "outputs": [
                {
                    "output_type": "execute_result",
                    "metadata": {},
                    "data": {
                        "text/plain": "array([False,  True,  True])"
                    },
                    "execution_count": null
                }
            ]
        }
    ]
}