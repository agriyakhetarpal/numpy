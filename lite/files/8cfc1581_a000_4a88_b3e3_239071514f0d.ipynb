{
    "nbformat": 4,
    "nbformat_minor": 5,
    "metadata": {
        "kernelspec": {
            "display_name": "Python",
            "language": "python",
            "name": "python"
        },
        "language_info": {
            "name": "python"
        }
    },
    "cells": [
        {
            "id": "22d19871",
            "cell_type": "markdown",
            "source": "<div class='alert alert-warning'>\n\nNumPy's interactive examples are experimental and may not always work as expected, with high load times especially on low-resource platforms, and the version of NumPy might not be in sync with the one you are browsing the documentation for. If you encounter any issues, please report them on the [NumPy issue tracker](https://github.com/numpy/numpy/issues).\n\n</div>",
            "metadata": {}
        },
        {
            "id": "df07d83b",
            "cell_type": "code",
            "metadata": {},
            "execution_count": null,
            "source": "import numpy as np",
            "outputs": []
        },
        {
            "id": "cf75fbb4",
            "cell_type": "code",
            "metadata": {},
            "execution_count": null,
            "source": "a = np.arange(24).reshape(2,3,4)\nb = np.array(0)\nwith np.nditer([a, b], flags=['reduce_ok'],\n                    op_flags=[['readonly'], ['readwrite']]) as it:\n    for x,y in it:\n        y[...] += x\n\nb",
            "outputs": [
                {
                    "output_type": "execute_result",
                    "metadata": {},
                    "data": {
                        "text/plain": "array(276)"
                    },
                    "execution_count": null
                }
            ]
        },
        {
            "id": "5a0dc584",
            "cell_type": "code",
            "metadata": {},
            "execution_count": null,
            "source": "np.sum(a)",
            "outputs": [
                {
                    "output_type": "execute_result",
                    "metadata": {},
                    "data": {
                        "text/plain": "276"
                    },
                    "execution_count": null
                }
            ]
        }
    ]
}