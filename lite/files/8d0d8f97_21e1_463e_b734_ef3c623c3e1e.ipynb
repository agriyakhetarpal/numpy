{
    "nbformat": 4,
    "nbformat_minor": 5,
    "metadata": {
        "kernelspec": {
            "display_name": "Python",
            "language": "python",
            "name": "python"
        },
        "language_info": {
            "name": "python"
        }
    },
    "cells": [
        {
            "id": "4885dc86",
            "cell_type": "markdown",
            "source": "<div class='alert alert-warning'>\n\nNumPy's interactive examples are experimental and may not always work as expected, with high load times especially on low-resource platforms, , and the version of NumPy might not be in sync with the one you are browsing the documentation for. If you encounter any issues, please report them on the [NumPy issue tracker](https://github.com/numpy/numpy/issues).\n\n</div>",
            "metadata": {}
        },
        {
            "id": "de737c76",
            "cell_type": "code",
            "metadata": {},
            "execution_count": null,
            "source": "import numpy as np\nx = np.array([1, 2])\nx.shape",
            "outputs": [
                {
                    "output_type": "execute_result",
                    "metadata": {},
                    "data": {
                        "text/plain": "(2,)"
                    },
                    "execution_count": null
                }
            ]
        },
        {
            "id": "b3a7e059",
            "cell_type": "markdown",
            "source": "The following is equivalent to ``x[np.newaxis, :]`` or ``x[np.newaxis]``:\n",
            "metadata": {}
        },
        {
            "id": "da498ba0",
            "cell_type": "code",
            "metadata": {},
            "execution_count": null,
            "source": "y = np.expand_dims(x, axis=0)\ny",
            "outputs": [
                {
                    "output_type": "execute_result",
                    "metadata": {},
                    "data": {
                        "text/plain": "array([[1, 2]])"
                    },
                    "execution_count": null
                }
            ]
        },
        {
            "id": "55adb4c5",
            "cell_type": "code",
            "metadata": {},
            "execution_count": null,
            "source": "y.shape",
            "outputs": [
                {
                    "output_type": "execute_result",
                    "metadata": {},
                    "data": {
                        "text/plain": "(1, 2)"
                    },
                    "execution_count": null
                }
            ]
        },
        {
            "id": "295beb0d",
            "cell_type": "markdown",
            "source": "The following is equivalent to ``x[:, np.newaxis]``:\n",
            "metadata": {}
        },
        {
            "id": "4ee5ee3c",
            "cell_type": "code",
            "metadata": {},
            "execution_count": null,
            "source": "y = np.expand_dims(x, axis=1)\ny",
            "outputs": [
                {
                    "output_type": "execute_result",
                    "metadata": {},
                    "data": {
                        "text/plain": "array([[1],\n       [2]])"
                    },
                    "execution_count": null
                }
            ]
        },
        {
            "id": "3f076fb3",
            "cell_type": "code",
            "metadata": {},
            "execution_count": null,
            "source": "y.shape",
            "outputs": [
                {
                    "output_type": "execute_result",
                    "metadata": {},
                    "data": {
                        "text/plain": "(2, 1)"
                    },
                    "execution_count": null
                }
            ]
        },
        {
            "id": "100e591c",
            "cell_type": "markdown",
            "source": "``axis`` may also be a tuple:\n",
            "metadata": {}
        },
        {
            "id": "6e764e14",
            "cell_type": "code",
            "metadata": {},
            "execution_count": null,
            "source": "y = np.expand_dims(x, axis=(0, 1))\ny",
            "outputs": [
                {
                    "output_type": "execute_result",
                    "metadata": {},
                    "data": {
                        "text/plain": "array([[[1, 2]]])"
                    },
                    "execution_count": null
                }
            ]
        },
        {
            "id": "84b096f3",
            "cell_type": "code",
            "metadata": {},
            "execution_count": null,
            "source": "y = np.expand_dims(x, axis=(2, 0))\ny",
            "outputs": [
                {
                    "output_type": "execute_result",
                    "metadata": {},
                    "data": {
                        "text/plain": "array([[[1],\n        [2]]])"
                    },
                    "execution_count": null
                }
            ]
        },
        {
            "id": "2cc86f37",
            "cell_type": "markdown",
            "source": "Note that some examples may use ``None`` instead of ``np.newaxis``.  These\nare the same objects:\n",
            "metadata": {}
        },
        {
            "id": "7f7e062b",
            "cell_type": "code",
            "metadata": {},
            "execution_count": null,
            "source": "np.newaxis is None",
            "outputs": [
                {
                    "output_type": "execute_result",
                    "metadata": {},
                    "data": {
                        "text/plain": "True"
                    },
                    "execution_count": null
                }
            ]
        }
    ]
}