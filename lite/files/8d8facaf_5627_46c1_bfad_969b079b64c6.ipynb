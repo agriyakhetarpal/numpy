{
    "nbformat": 4,
    "nbformat_minor": 5,
    "metadata": {
        "kernelspec": {
            "display_name": "Python",
            "language": "python",
            "name": "python"
        },
        "language_info": {
            "name": "python"
        }
    },
    "cells": [
        {
            "id": "4f563d16",
            "cell_type": "markdown",
            "source": "<div class='alert alert-warning'>\n\nNumPy's interactive examples are experimental and may not always work as expected, with high load times especially on low-resource platforms, , and the version of NumPy might not be in sync with the one you are browsing the documentation for. If you encounter any issues, please report them on the [NumPy issue tracker](https://github.com/numpy/numpy/issues).\n\n</div>",
            "metadata": {}
        },
        {
            "id": "0b4d621b",
            "cell_type": "code",
            "metadata": {},
            "execution_count": null,
            "source": "import numpy as np",
            "outputs": []
        },
        {
            "id": "6e2378ad",
            "cell_type": "code",
            "metadata": {},
            "execution_count": null,
            "source": "np.isscalar(3.1)",
            "outputs": [
                {
                    "output_type": "execute_result",
                    "metadata": {},
                    "data": {
                        "text/plain": "True"
                    },
                    "execution_count": null
                }
            ]
        },
        {
            "id": "c536c63f",
            "cell_type": "code",
            "metadata": {},
            "execution_count": null,
            "source": "np.isscalar(np.array(3.1))",
            "outputs": [
                {
                    "output_type": "execute_result",
                    "metadata": {},
                    "data": {
                        "text/plain": "False"
                    },
                    "execution_count": null
                }
            ]
        },
        {
            "id": "655efcff",
            "cell_type": "code",
            "metadata": {},
            "execution_count": null,
            "source": "np.isscalar([3.1])",
            "outputs": [
                {
                    "output_type": "execute_result",
                    "metadata": {},
                    "data": {
                        "text/plain": "False"
                    },
                    "execution_count": null
                }
            ]
        },
        {
            "id": "0cd418bf",
            "cell_type": "code",
            "metadata": {},
            "execution_count": null,
            "source": "np.isscalar(False)",
            "outputs": [
                {
                    "output_type": "execute_result",
                    "metadata": {},
                    "data": {
                        "text/plain": "True"
                    },
                    "execution_count": null
                }
            ]
        },
        {
            "id": "bdc97d32",
            "cell_type": "code",
            "metadata": {},
            "execution_count": null,
            "source": "np.isscalar('numpy')",
            "outputs": [
                {
                    "output_type": "execute_result",
                    "metadata": {},
                    "data": {
                        "text/plain": "True"
                    },
                    "execution_count": null
                }
            ]
        },
        {
            "id": "a9339f1a",
            "cell_type": "markdown",
            "source": "NumPy supports PEP 3141 numbers:\n",
            "metadata": {}
        },
        {
            "id": "c009c7fc",
            "cell_type": "code",
            "metadata": {},
            "execution_count": null,
            "source": "from fractions import Fraction\nnp.isscalar(Fraction(5, 17))",
            "outputs": [
                {
                    "output_type": "execute_result",
                    "metadata": {},
                    "data": {
                        "text/plain": "True"
                    },
                    "execution_count": null
                }
            ]
        },
        {
            "id": "0e0b8b06",
            "cell_type": "code",
            "metadata": {},
            "execution_count": null,
            "source": "from numbers import Number\nnp.isscalar(Number())",
            "outputs": [
                {
                    "output_type": "execute_result",
                    "metadata": {},
                    "data": {
                        "text/plain": "True"
                    },
                    "execution_count": null
                }
            ]
        }
    ]
}