{
    "nbformat": 4,
    "nbformat_minor": 5,
    "metadata": {
        "kernelspec": {
            "display_name": "Python",
            "language": "python",
            "name": "python"
        },
        "language_info": {
            "name": "python"
        }
    },
    "cells": [
        {
            "id": "91977352",
            "cell_type": "markdown",
            "source": "<div class='alert alert-warning'>\n\nNumPy's interactive examples are experimental and may not always work as expected, with high load times especially on low-resource platforms, , and the version of NumPy might not be in sync with the one you are browsing the documentation for. If you encounter any issues, please report them on the [NumPy issue tracker](https://github.com/numpy/numpy/issues).\n\n</div>",
            "metadata": {}
        },
        {
            "id": "e2d0cc5f",
            "cell_type": "code",
            "metadata": {},
            "execution_count": null,
            "source": "import numpy as np\narray_1d = np.arange(10)\nnp.cumsum(array_1d, axis=1)",
            "outputs": [
                {
                    "output_type": "execute_result",
                    "metadata": {},
                    "data": {
                        "text/plain": "Traceback (most recent call last):\n  ...\nnumpy.exceptions.AxisError: axis 1 is out of bounds for array of dimension 1"
                    },
                    "execution_count": null
                }
            ]
        },
        {
            "id": "7f04ba6a",
            "cell_type": "markdown",
            "source": "Negative axes are preserved:\n",
            "metadata": {}
        },
        {
            "id": "3b31c07c",
            "cell_type": "code",
            "metadata": {},
            "execution_count": null,
            "source": "np.cumsum(array_1d, axis=-2)",
            "outputs": [
                {
                    "output_type": "execute_result",
                    "metadata": {},
                    "data": {
                        "text/plain": "Traceback (most recent call last):\n  ...\nnumpy.exceptions.AxisError: axis -2 is out of bounds for array of dimension 1"
                    },
                    "execution_count": null
                }
            ]
        },
        {
            "id": "2828b2b8",
            "cell_type": "markdown",
            "source": "The class constructor generally takes the axis and arrays'\ndimensionality as arguments:\n",
            "metadata": {}
        },
        {
            "id": "39d5466c",
            "cell_type": "code",
            "metadata": {},
            "execution_count": null,
            "source": "print(np.exceptions.AxisError(2, 1, msg_prefix='error'))",
            "outputs": [
                {
                    "output_type": "execute_result",
                    "metadata": {},
                    "data": {
                        "text/plain": "error: axis 2 is out of bounds for array of dimension 1"
                    },
                    "execution_count": null
                }
            ]
        },
        {
            "id": "59c77350",
            "cell_type": "markdown",
            "source": "Alternatively, a custom exception message can be passed:\n",
            "metadata": {}
        },
        {
            "id": "2a78f5b4",
            "cell_type": "code",
            "metadata": {},
            "execution_count": null,
            "source": "print(np.exceptions.AxisError('Custom error message'))",
            "outputs": [
                {
                    "output_type": "execute_result",
                    "metadata": {},
                    "data": {
                        "text/plain": "Custom error message"
                    },
                    "execution_count": null
                }
            ]
        }
    ]
}