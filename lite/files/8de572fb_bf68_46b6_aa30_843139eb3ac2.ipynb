{
    "nbformat": 4,
    "nbformat_minor": 5,
    "metadata": {
        "kernelspec": {
            "display_name": "Python",
            "language": "python",
            "name": "python"
        },
        "language_info": {
            "name": "python"
        }
    },
    "cells": [
        {
            "id": "330b5eba",
            "cell_type": "markdown",
            "source": "<div class='alert alert-warning'>\n\nNumPy's interactive examples are experimental and may not always work as expected, with high load times especially on low-resource platforms, and the version of NumPy might not be in sync with the one you are browsing the documentation for. If you encounter any issues, please report them on the [NumPy issue tracker](https://github.com/numpy/numpy/issues).\n\n</div>",
            "metadata": {}
        },
        {
            "id": "1cdc0f70",
            "cell_type": "markdown",
            "source": "1-D array examples:\n",
            "metadata": {}
        },
        {
            "id": "9654a1e1",
            "cell_type": "code",
            "metadata": {},
            "execution_count": null,
            "source": "import numpy as np\nnp.add.accumulate([2, 3, 5])",
            "outputs": [
                {
                    "output_type": "execute_result",
                    "metadata": {},
                    "data": {
                        "text/plain": "array([ 2,  5, 10])"
                    },
                    "execution_count": null
                }
            ]
        },
        {
            "id": "184c39d3",
            "cell_type": "code",
            "metadata": {},
            "execution_count": null,
            "source": "np.multiply.accumulate([2, 3, 5])",
            "outputs": [
                {
                    "output_type": "execute_result",
                    "metadata": {},
                    "data": {
                        "text/plain": "array([ 2,  6, 30])"
                    },
                    "execution_count": null
                }
            ]
        },
        {
            "id": "0765dbca",
            "cell_type": "markdown",
            "source": "2-D array examples:\n",
            "metadata": {}
        },
        {
            "id": "fb9156d0",
            "cell_type": "code",
            "metadata": {},
            "execution_count": null,
            "source": "I = np.eye(2)\nI",
            "outputs": [
                {
                    "output_type": "execute_result",
                    "metadata": {},
                    "data": {
                        "text/plain": "array([[1.,  0.],\n       [0.,  1.]])"
                    },
                    "execution_count": null
                }
            ]
        },
        {
            "id": "9a69e47a",
            "cell_type": "markdown",
            "source": "Accumulate along axis 0 (rows), down columns:\n",
            "metadata": {}
        },
        {
            "id": "a6fdeb99",
            "cell_type": "code",
            "metadata": {},
            "execution_count": null,
            "source": "np.add.accumulate(I, 0)",
            "outputs": [
                {
                    "output_type": "execute_result",
                    "metadata": {},
                    "data": {
                        "text/plain": "array([[1.,  0.],\n       [1.,  1.]])"
                    },
                    "execution_count": null
                }
            ]
        },
        {
            "id": "7d8ddc26",
            "cell_type": "code",
            "metadata": {},
            "execution_count": null,
            "source": "np.add.accumulate(I) # no axis specified = axis zero",
            "outputs": [
                {
                    "output_type": "execute_result",
                    "metadata": {},
                    "data": {
                        "text/plain": "array([[1.,  0.],\n       [1.,  1.]])"
                    },
                    "execution_count": null
                }
            ]
        },
        {
            "id": "6d6f14fa",
            "cell_type": "markdown",
            "source": "Accumulate along axis 1 (columns), through rows:\n",
            "metadata": {}
        },
        {
            "id": "90b7c669",
            "cell_type": "code",
            "metadata": {},
            "execution_count": null,
            "source": "np.add.accumulate(I, 1)",
            "outputs": [
                {
                    "output_type": "execute_result",
                    "metadata": {},
                    "data": {
                        "text/plain": "array([[1.,  1.],\n       [0.,  1.]])"
                    },
                    "execution_count": null
                }
            ]
        }
    ]
}