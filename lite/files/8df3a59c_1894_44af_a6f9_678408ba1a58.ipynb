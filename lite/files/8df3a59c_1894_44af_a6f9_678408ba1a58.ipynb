{
    "nbformat": 4,
    "nbformat_minor": 5,
    "metadata": {
        "kernelspec": {
            "display_name": "Python",
            "language": "python",
            "name": "python"
        },
        "language_info": {
            "name": "python"
        }
    },
    "cells": [
        {
            "id": "c384901d",
            "cell_type": "markdown",
            "source": "<div class='alert alert-warning'>\n\nNumPy's interactive examples are experimental and may not always work as expected, with high load times especially on low-resource platforms, , and the version of NumPy might not be in sync with the one you are browsing the documentation for. If you encounter any issues, please report them on the [NumPy issue tracker](https://github.com/numpy/numpy/issues).\n\n</div>",
            "metadata": {}
        },
        {
            "id": "ebc56078",
            "cell_type": "code",
            "metadata": {},
            "execution_count": null,
            "source": "import numpy as np",
            "outputs": []
        },
        {
            "id": "bd9833f9",
            "cell_type": "markdown",
            "source": "Construct the polynomial $x^2 + 2x + 3$:\n",
            "metadata": {}
        },
        {
            "id": "c212fbf1",
            "cell_type": "code",
            "metadata": {},
            "execution_count": null,
            "source": "p = np.poly1d([1, 2, 3])\nprint(np.poly1d(p))",
            "outputs": [
                {
                    "output_type": "execute_result",
                    "metadata": {},
                    "data": {
                        "text/plain": "   2\n1 x + 2 x + 3"
                    },
                    "execution_count": null
                }
            ]
        },
        {
            "id": "9b25ec65",
            "cell_type": "markdown",
            "source": "Evaluate the polynomial at $x = 0.5$:\n",
            "metadata": {}
        },
        {
            "id": "457f5fa1",
            "cell_type": "code",
            "metadata": {},
            "execution_count": null,
            "source": "p(0.5)",
            "outputs": [
                {
                    "output_type": "execute_result",
                    "metadata": {},
                    "data": {
                        "text/plain": "4.25"
                    },
                    "execution_count": null
                }
            ]
        },
        {
            "id": "4081cabf",
            "cell_type": "markdown",
            "source": "Find the roots:\n",
            "metadata": {}
        },
        {
            "id": "c3aceb77",
            "cell_type": "code",
            "metadata": {},
            "execution_count": null,
            "source": "p.r",
            "outputs": [
                {
                    "output_type": "execute_result",
                    "metadata": {},
                    "data": {
                        "text/plain": "array([-1.+1.41421356j, -1.-1.41421356j])"
                    },
                    "execution_count": null
                }
            ]
        },
        {
            "id": "dcfa26e9",
            "cell_type": "code",
            "metadata": {},
            "execution_count": null,
            "source": "p(p.r)",
            "outputs": [
                {
                    "output_type": "execute_result",
                    "metadata": {},
                    "data": {
                        "text/plain": "array([ -4.44089210e-16+0.j,  -4.44089210e-16+0.j]) # may vary"
                    },
                    "execution_count": null
                }
            ]
        },
        {
            "id": "e48b5a3b",
            "cell_type": "markdown",
            "source": "These numbers in the previous line represent (0, 0) to machine precision\n\nShow the coefficients:\n",
            "metadata": {}
        },
        {
            "id": "6599a8d3",
            "cell_type": "code",
            "metadata": {},
            "execution_count": null,
            "source": "p.c",
            "outputs": [
                {
                    "output_type": "execute_result",
                    "metadata": {},
                    "data": {
                        "text/plain": "array([1, 2, 3])"
                    },
                    "execution_count": null
                }
            ]
        },
        {
            "id": "2bd2e2dd",
            "cell_type": "markdown",
            "source": "Display the order (the leading zero-coefficients are removed):\n",
            "metadata": {}
        },
        {
            "id": "d5100bfa",
            "cell_type": "code",
            "metadata": {},
            "execution_count": null,
            "source": "p.order",
            "outputs": [
                {
                    "output_type": "execute_result",
                    "metadata": {},
                    "data": {
                        "text/plain": "2"
                    },
                    "execution_count": null
                }
            ]
        },
        {
            "id": "a2387b2b",
            "cell_type": "markdown",
            "source": "Show the coefficient of the k-th power in the polynomial\n(which is equivalent to ``p.c[-(i+1)]``):\n",
            "metadata": {}
        },
        {
            "id": "bf3c62a1",
            "cell_type": "code",
            "metadata": {},
            "execution_count": null,
            "source": "p[1]",
            "outputs": [
                {
                    "output_type": "execute_result",
                    "metadata": {},
                    "data": {
                        "text/plain": "2"
                    },
                    "execution_count": null
                }
            ]
        },
        {
            "id": "25d37740",
            "cell_type": "markdown",
            "source": "Polynomials can be added, subtracted, multiplied, and divided\n(returns quotient and remainder):\n",
            "metadata": {}
        },
        {
            "id": "e9d0c920",
            "cell_type": "code",
            "metadata": {},
            "execution_count": null,
            "source": "p * p",
            "outputs": [
                {
                    "output_type": "execute_result",
                    "metadata": {},
                    "data": {
                        "text/plain": "poly1d([ 1,  4, 10, 12,  9])"
                    },
                    "execution_count": null
                }
            ]
        },
        {
            "id": "08aa9a08",
            "cell_type": "code",
            "metadata": {},
            "execution_count": null,
            "source": "(p**3 + 4) / p",
            "outputs": [
                {
                    "output_type": "execute_result",
                    "metadata": {},
                    "data": {
                        "text/plain": "(poly1d([ 1.,  4., 10., 12.,  9.]), poly1d([4.]))"
                    },
                    "execution_count": null
                }
            ]
        },
        {
            "id": "f7ba94ec",
            "cell_type": "markdown",
            "source": "``asarray(p)`` gives the coefficient array, so polynomials can be\nused in all functions that accept arrays:\n",
            "metadata": {}
        },
        {
            "id": "9b054315",
            "cell_type": "code",
            "metadata": {},
            "execution_count": null,
            "source": "p**2 # square of polynomial",
            "outputs": [
                {
                    "output_type": "execute_result",
                    "metadata": {},
                    "data": {
                        "text/plain": "poly1d([ 1,  4, 10, 12,  9])"
                    },
                    "execution_count": null
                }
            ]
        },
        {
            "id": "877b272f",
            "cell_type": "code",
            "metadata": {},
            "execution_count": null,
            "source": "np.square(p) # square of individual coefficients",
            "outputs": [
                {
                    "output_type": "execute_result",
                    "metadata": {},
                    "data": {
                        "text/plain": "array([1, 4, 9])"
                    },
                    "execution_count": null
                }
            ]
        },
        {
            "id": "d6881b86",
            "cell_type": "markdown",
            "source": "The variable used in the string representation of `p` can be modified,\nusing the `variable` parameter:\n",
            "metadata": {}
        },
        {
            "id": "004492fb",
            "cell_type": "code",
            "metadata": {},
            "execution_count": null,
            "source": "p = np.poly1d([1,2,3], variable='z')\nprint(p)",
            "outputs": [
                {
                    "output_type": "execute_result",
                    "metadata": {},
                    "data": {
                        "text/plain": "   2\n1 z + 2 z + 3"
                    },
                    "execution_count": null
                }
            ]
        },
        {
            "id": "b6e6d465",
            "cell_type": "markdown",
            "source": "Construct a polynomial from its roots:\n",
            "metadata": {}
        },
        {
            "id": "4d912d5b",
            "cell_type": "code",
            "metadata": {},
            "execution_count": null,
            "source": "np.poly1d([1, 2], True)",
            "outputs": [
                {
                    "output_type": "execute_result",
                    "metadata": {},
                    "data": {
                        "text/plain": "poly1d([ 1., -3.,  2.])"
                    },
                    "execution_count": null
                }
            ]
        },
        {
            "id": "427e69e0",
            "cell_type": "markdown",
            "source": "This is the same polynomial as obtained by:\n",
            "metadata": {}
        },
        {
            "id": "a3f7045e",
            "cell_type": "code",
            "metadata": {},
            "execution_count": null,
            "source": "np.poly1d([1, -1]) * np.poly1d([1, -2])",
            "outputs": [
                {
                    "output_type": "execute_result",
                    "metadata": {},
                    "data": {
                        "text/plain": "poly1d([ 1, -3,  2])"
                    },
                    "execution_count": null
                }
            ]
        }
    ]
}