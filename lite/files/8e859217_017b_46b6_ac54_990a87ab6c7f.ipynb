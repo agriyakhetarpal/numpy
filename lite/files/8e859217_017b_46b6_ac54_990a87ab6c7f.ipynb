{
    "nbformat": 4,
    "nbformat_minor": 5,
    "metadata": {
        "kernelspec": {
            "display_name": "Python",
            "language": "python",
            "name": "python"
        },
        "language_info": {
            "name": "python"
        }
    },
    "cells": [
        {
            "id": "43fc0278",
            "cell_type": "markdown",
            "source": "<div class='alert alert-warning'>\n\nNumPy's interactive examples are experimental and may not always work as expected, with high load times especially on low-resource platforms, , and the version of NumPy might not be in sync with the one you are browsing the documentation for. If you encounter any issues, please report them on the [NumPy issue tracker](https://github.com/numpy/numpy/issues).\n\n</div>",
            "metadata": {}
        },
        {
            "id": "697ffb72",
            "cell_type": "code",
            "metadata": {},
            "execution_count": null,
            "source": "import numpy as np\nx = np.array([[1, 2], [3, 4]])",
            "outputs": []
        },
        {
            "id": "606789ff",
            "cell_type": "code",
            "metadata": {},
            "execution_count": null,
            "source": "m = np.asmatrix(x)",
            "outputs": []
        },
        {
            "id": "862bacb5",
            "cell_type": "code",
            "metadata": {},
            "execution_count": null,
            "source": "x[0,0] = 5",
            "outputs": []
        },
        {
            "id": "d8515332",
            "cell_type": "code",
            "metadata": {},
            "execution_count": null,
            "source": "m",
            "outputs": [
                {
                    "output_type": "execute_result",
                    "metadata": {},
                    "data": {
                        "text/plain": "matrix([[5, 2],\n        [3, 4]])"
                    },
                    "execution_count": null
                }
            ]
        }
    ]
}