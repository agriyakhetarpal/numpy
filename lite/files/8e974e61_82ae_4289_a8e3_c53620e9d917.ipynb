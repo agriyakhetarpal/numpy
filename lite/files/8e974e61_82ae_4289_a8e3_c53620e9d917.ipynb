{
    "nbformat": 4,
    "nbformat_minor": 5,
    "metadata": {
        "kernelspec": {
            "display_name": "Python",
            "language": "python",
            "name": "python"
        },
        "language_info": {
            "name": "python"
        }
    },
    "cells": [
        {
            "id": "01e1e44b",
            "cell_type": "markdown",
            "source": "<div class='alert alert-warning'>\n\nNumPy's interactive examples are experimental and may not always work as expected, with high load times especially on low-resource platforms, and the version of NumPy might not be in sync with the one you are browsing the documentation for. If you encounter any issues, please report them on the [NumPy issue tracker](https://github.com/numpy/numpy/issues).\n\n</div>",
            "metadata": {}
        },
        {
            "id": "643302e8",
            "cell_type": "markdown",
            "source": "Draw samples from the distribution:\n",
            "metadata": {}
        },
        {
            "id": "6ef9cff7",
            "cell_type": "code",
            "metadata": {},
            "execution_count": null,
            "source": "shape, scale = 2., 1. # mean and width\ns = np.random.standard_gamma(shape, 1000000)",
            "outputs": []
        },
        {
            "id": "7e34d2dd",
            "cell_type": "markdown",
            "source": "Display the histogram of the samples, along with\nthe probability density function:\n",
            "metadata": {}
        },
        {
            "id": "a0adc08d",
            "cell_type": "code",
            "metadata": {},
            "execution_count": null,
            "source": "import matplotlib.pyplot as plt\nimport scipy.special as sps  # doctest: +SKIP\ncount, bins, ignored = plt.hist(s, 50, density=True)\ny = bins**(shape-1) * ((np.exp(-bins/scale))/  # doctest: +SKIP\n                      (sps.gamma(shape) * scale**shape))\nplt.plot(bins, y, linewidth=2, color='r')  # doctest: +SKIP\nplt.show()",
            "outputs": []
        }
    ]
}