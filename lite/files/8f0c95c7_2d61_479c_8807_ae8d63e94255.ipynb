{
    "nbformat": 4,
    "nbformat_minor": 5,
    "metadata": {
        "kernelspec": {
            "display_name": "Python",
            "language": "python",
            "name": "python"
        },
        "language_info": {
            "name": "python"
        }
    },
    "cells": [
        {
            "id": "6c78df82",
            "cell_type": "markdown",
            "source": "<div class='alert alert-warning'>\n\nNumPy's interactive examples are experimental and may not always work as expected, with high load times especially on low-resource platforms, and the version of NumPy might not be in sync with the one you are browsing the documentation for. If you encounter any issues, please report them on the [NumPy issue tracker](https://github.com/numpy/numpy/issues).\n\n</div>",
            "metadata": {}
        },
        {
            "id": "d4dc4132",
            "cell_type": "markdown",
            "source": "Draw samples from the distribution:\n",
            "metadata": {}
        },
        {
            "id": "fd784523",
            "cell_type": "code",
            "metadata": {},
            "execution_count": null,
            "source": "a = 4.0\nn = 20000\ns = np.random.zipf(a, n)",
            "outputs": []
        },
        {
            "id": "93458950",
            "cell_type": "markdown",
            "source": "Display the histogram of the samples, along with\nthe expected histogram based on the probability\ndensity function:\n",
            "metadata": {}
        },
        {
            "id": "3e7b3ceb",
            "cell_type": "code",
            "metadata": {},
            "execution_count": null,
            "source": "import matplotlib.pyplot as plt\nfrom scipy.special import zeta  # doctest: +SKIP",
            "outputs": []
        },
        {
            "id": "63ede21a",
            "cell_type": "markdown",
            "source": "`bincount` provides a fast histogram for small integers.\n",
            "metadata": {}
        },
        {
            "id": "dd5c6c7b",
            "cell_type": "code",
            "metadata": {},
            "execution_count": null,
            "source": "count = np.bincount(s)\nk = np.arange(1, s.max() + 1)",
            "outputs": []
        },
        {
            "id": "f44e3624",
            "cell_type": "code",
            "metadata": {},
            "execution_count": null,
            "source": "plt.bar(k, count[1:], alpha=0.5, label='sample count')\nplt.plot(k, n*(k**-a)/zeta(a), 'k.-', alpha=0.5,\n         label='expected count')   # doctest: +SKIP\nplt.semilogy()\nplt.grid(alpha=0.4)\nplt.legend()\nplt.title(f'Zipf sample, a={a}, size={n}')\nplt.show()",
            "outputs": []
        }
    ]
}