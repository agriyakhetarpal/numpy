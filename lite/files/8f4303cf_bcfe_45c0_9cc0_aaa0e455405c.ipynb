{
    "nbformat": 4,
    "nbformat_minor": 5,
    "metadata": {
        "kernelspec": {
            "display_name": "Python",
            "language": "python",
            "name": "python"
        },
        "language_info": {
            "name": "python"
        }
    },
    "cells": [
        {
            "id": "6e7dafa4",
            "cell_type": "markdown",
            "source": "<div class='alert alert-warning'>\n\nNumPy's interactive examples are experimental and may not always work as expected, with high load times especially on low-resource platforms, , and the version of NumPy might not be in sync with the one you are browsing the documentation for. If you encounter any issues, please report them on the [NumPy issue tracker](https://github.com/numpy/numpy/issues).\n\n</div>",
            "metadata": {}
        },
        {
            "id": "b9b1481f",
            "cell_type": "markdown",
            "source": "The base of an array that owns its memory is None:\n",
            "metadata": {}
        },
        {
            "id": "c4741e2f",
            "cell_type": "code",
            "metadata": {},
            "execution_count": null,
            "source": "import numpy as np\nx = np.array([1,2,3,4])\nx.base is None",
            "outputs": [
                {
                    "output_type": "execute_result",
                    "metadata": {},
                    "data": {
                        "text/plain": "True"
                    },
                    "execution_count": null
                }
            ]
        },
        {
            "id": "67e62685",
            "cell_type": "markdown",
            "source": "Slicing creates a view, whose memory is shared with x:\n",
            "metadata": {}
        },
        {
            "id": "d9a27ad3",
            "cell_type": "code",
            "metadata": {},
            "execution_count": null,
            "source": "y = x[2:]\ny.base is x",
            "outputs": [
                {
                    "output_type": "execute_result",
                    "metadata": {},
                    "data": {
                        "text/plain": "True"
                    },
                    "execution_count": null
                }
            ]
        }
    ]
}