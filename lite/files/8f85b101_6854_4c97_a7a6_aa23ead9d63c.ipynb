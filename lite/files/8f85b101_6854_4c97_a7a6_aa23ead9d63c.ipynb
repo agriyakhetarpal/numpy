{
    "nbformat": 4,
    "nbformat_minor": 5,
    "metadata": {
        "kernelspec": {
            "display_name": "Python",
            "language": "python",
            "name": "python"
        },
        "language_info": {
            "name": "python"
        }
    },
    "cells": [
        {
            "id": "1c1eb52b",
            "cell_type": "markdown",
            "source": "<div class='alert alert-warning'>\n\nNumPy's interactive examples are experimental and may not always work as expected, with high load times especially on low-resource platforms, and the version of NumPy might not be in sync with the one you are browsing the documentation for. If you encounter any issues, please report them on the [NumPy issue tracker](https://github.com/numpy/numpy/issues).\n\n</div>",
            "metadata": {}
        },
        {
            "id": "769a7359",
            "cell_type": "code",
            "metadata": {},
            "execution_count": null,
            "source": "import numpy as np\nx = np.arange(10)\nnp.roll(x, 2)",
            "outputs": [
                {
                    "output_type": "execute_result",
                    "metadata": {},
                    "data": {
                        "text/plain": "array([8, 9, 0, 1, 2, 3, 4, 5, 6, 7])"
                    },
                    "execution_count": null
                }
            ]
        },
        {
            "id": "2002d14c",
            "cell_type": "code",
            "metadata": {},
            "execution_count": null,
            "source": "np.roll(x, -2)",
            "outputs": [
                {
                    "output_type": "execute_result",
                    "metadata": {},
                    "data": {
                        "text/plain": "array([2, 3, 4, 5, 6, 7, 8, 9, 0, 1])"
                    },
                    "execution_count": null
                }
            ]
        },
        {
            "id": "8b30af1b",
            "cell_type": "code",
            "metadata": {},
            "execution_count": null,
            "source": "x2 = np.reshape(x, (2, 5))\nx2",
            "outputs": [
                {
                    "output_type": "execute_result",
                    "metadata": {},
                    "data": {
                        "text/plain": "array([[0, 1, 2, 3, 4],\n       [5, 6, 7, 8, 9]])"
                    },
                    "execution_count": null
                }
            ]
        },
        {
            "id": "6feeaff7",
            "cell_type": "code",
            "metadata": {},
            "execution_count": null,
            "source": "np.roll(x2, 1)",
            "outputs": [
                {
                    "output_type": "execute_result",
                    "metadata": {},
                    "data": {
                        "text/plain": "array([[9, 0, 1, 2, 3],\n       [4, 5, 6, 7, 8]])"
                    },
                    "execution_count": null
                }
            ]
        },
        {
            "id": "841e7861",
            "cell_type": "code",
            "metadata": {},
            "execution_count": null,
            "source": "np.roll(x2, -1)",
            "outputs": [
                {
                    "output_type": "execute_result",
                    "metadata": {},
                    "data": {
                        "text/plain": "array([[1, 2, 3, 4, 5],\n       [6, 7, 8, 9, 0]])"
                    },
                    "execution_count": null
                }
            ]
        },
        {
            "id": "b20b6b4e",
            "cell_type": "code",
            "metadata": {},
            "execution_count": null,
            "source": "np.roll(x2, 1, axis=0)",
            "outputs": [
                {
                    "output_type": "execute_result",
                    "metadata": {},
                    "data": {
                        "text/plain": "array([[5, 6, 7, 8, 9],\n       [0, 1, 2, 3, 4]])"
                    },
                    "execution_count": null
                }
            ]
        },
        {
            "id": "4e90ac83",
            "cell_type": "code",
            "metadata": {},
            "execution_count": null,
            "source": "np.roll(x2, -1, axis=0)",
            "outputs": [
                {
                    "output_type": "execute_result",
                    "metadata": {},
                    "data": {
                        "text/plain": "array([[5, 6, 7, 8, 9],\n       [0, 1, 2, 3, 4]])"
                    },
                    "execution_count": null
                }
            ]
        },
        {
            "id": "497313b5",
            "cell_type": "code",
            "metadata": {},
            "execution_count": null,
            "source": "np.roll(x2, 1, axis=1)",
            "outputs": [
                {
                    "output_type": "execute_result",
                    "metadata": {},
                    "data": {
                        "text/plain": "array([[4, 0, 1, 2, 3],\n       [9, 5, 6, 7, 8]])"
                    },
                    "execution_count": null
                }
            ]
        },
        {
            "id": "ebc162d9",
            "cell_type": "code",
            "metadata": {},
            "execution_count": null,
            "source": "np.roll(x2, -1, axis=1)",
            "outputs": [
                {
                    "output_type": "execute_result",
                    "metadata": {},
                    "data": {
                        "text/plain": "array([[1, 2, 3, 4, 0],\n       [6, 7, 8, 9, 5]])"
                    },
                    "execution_count": null
                }
            ]
        },
        {
            "id": "9867519d",
            "cell_type": "code",
            "metadata": {},
            "execution_count": null,
            "source": "np.roll(x2, (1, 1), axis=(1, 0))",
            "outputs": [
                {
                    "output_type": "execute_result",
                    "metadata": {},
                    "data": {
                        "text/plain": "array([[9, 5, 6, 7, 8],\n       [4, 0, 1, 2, 3]])"
                    },
                    "execution_count": null
                }
            ]
        },
        {
            "id": "206b1618",
            "cell_type": "code",
            "metadata": {},
            "execution_count": null,
            "source": "np.roll(x2, (2, 1), axis=(1, 0))",
            "outputs": [
                {
                    "output_type": "execute_result",
                    "metadata": {},
                    "data": {
                        "text/plain": "array([[8, 9, 5, 6, 7],\n       [3, 4, 0, 1, 2]])"
                    },
                    "execution_count": null
                }
            ]
        }
    ]
}