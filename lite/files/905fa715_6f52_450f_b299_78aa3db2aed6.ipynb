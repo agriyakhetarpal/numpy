{
    "nbformat": 4,
    "nbformat_minor": 5,
    "metadata": {
        "kernelspec": {
            "display_name": "Python",
            "language": "python",
            "name": "python"
        },
        "language_info": {
            "name": "python"
        }
    },
    "cells": [
        {
            "id": "03b640bc",
            "cell_type": "markdown",
            "source": "<div class='alert alert-warning'>\n\nNumPy's interactive examples are experimental and may not always work as expected, with high load times especially on low-resource platforms, and the version of NumPy might not be in sync with the one you are browsing the documentation for. If you encounter any issues, please report them on the [NumPy issue tracker](https://github.com/numpy/numpy/issues).\n\n</div>",
            "metadata": {}
        },
        {
            "id": "1099ead0",
            "cell_type": "code",
            "metadata": {},
            "execution_count": null,
            "source": "import numpy as np\nnp.sinh(0)",
            "outputs": [
                {
                    "output_type": "execute_result",
                    "metadata": {},
                    "data": {
                        "text/plain": "0.0"
                    },
                    "execution_count": null
                }
            ]
        },
        {
            "id": "360200c8",
            "cell_type": "code",
            "metadata": {},
            "execution_count": null,
            "source": "np.sinh(np.pi*1j/2)",
            "outputs": [
                {
                    "output_type": "execute_result",
                    "metadata": {},
                    "data": {
                        "text/plain": "1j"
                    },
                    "execution_count": null
                }
            ]
        },
        {
            "id": "f7903c99",
            "cell_type": "code",
            "metadata": {},
            "execution_count": null,
            "source": "np.sinh(np.pi*1j) # (exact value is 0)",
            "outputs": [
                {
                    "output_type": "execute_result",
                    "metadata": {},
                    "data": {
                        "text/plain": "1.2246063538223773e-016j"
                    },
                    "execution_count": null
                }
            ]
        },
        {
            "id": "57d299e1",
            "cell_type": "code",
            "metadata": {},
            "execution_count": null,
            "source": "# Discrepancy due to vagaries of floating point arithmetic.",
            "outputs": []
        },
        {
            "id": "db796bbb",
            "cell_type": "code",
            "metadata": {},
            "execution_count": null,
            "source": "# Example of providing the optional output parameter\nout1 = np.array([0], dtype='d')\nout2 = np.sinh([0.1], out1)\nout2 is out1",
            "outputs": [
                {
                    "output_type": "execute_result",
                    "metadata": {},
                    "data": {
                        "text/plain": "True"
                    },
                    "execution_count": null
                }
            ]
        },
        {
            "id": "0da5732a",
            "cell_type": "code",
            "metadata": {},
            "execution_count": null,
            "source": "# Example of ValueError due to provision of shape mis-matched `out`\nnp.sinh(np.zeros((3,3)),np.zeros((2,2)))",
            "outputs": [
                {
                    "output_type": "execute_result",
                    "metadata": {},
                    "data": {
                        "text/plain": "Traceback (most recent call last):\n  File \"<stdin>\", line 1, in <module>\nValueError: operands could not be broadcast together with shapes (3,3) (2,2)"
                    },
                    "execution_count": null
                }
            ]
        }
    ]
}