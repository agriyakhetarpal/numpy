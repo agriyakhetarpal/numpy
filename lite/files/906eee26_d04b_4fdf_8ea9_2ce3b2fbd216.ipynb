{
    "nbformat": 4,
    "nbformat_minor": 5,
    "metadata": {
        "kernelspec": {
            "display_name": "Python",
            "language": "python",
            "name": "python"
        },
        "language_info": {
            "name": "python"
        }
    },
    "cells": [
        {
            "id": "bd8f35c6",
            "cell_type": "markdown",
            "source": "<div class='alert alert-warning'>\n\nNumPy's interactive examples are experimental and may not always work as expected, with high load times especially on low-resource platforms, and the version of NumPy might not be in sync with the one you are browsing the documentation for. If you encounter any issues, please report them on the [NumPy issue tracker](https://github.com/numpy/numpy/issues).\n\n</div>",
            "metadata": {}
        },
        {
            "id": "e6368d81",
            "cell_type": "code",
            "metadata": {},
            "execution_count": null,
            "source": "import numpy as np\nnp.binary_repr(5)",
            "outputs": [
                {
                    "output_type": "execute_result",
                    "metadata": {},
                    "data": {
                        "text/plain": "'101'"
                    },
                    "execution_count": null
                }
            ]
        },
        {
            "id": "90864e97",
            "cell_type": "code",
            "metadata": {},
            "execution_count": null,
            "source": "np.left_shift(5, 2)",
            "outputs": [
                {
                    "output_type": "execute_result",
                    "metadata": {},
                    "data": {
                        "text/plain": "20"
                    },
                    "execution_count": null
                }
            ]
        },
        {
            "id": "ece5104a",
            "cell_type": "code",
            "metadata": {},
            "execution_count": null,
            "source": "np.binary_repr(20)",
            "outputs": [
                {
                    "output_type": "execute_result",
                    "metadata": {},
                    "data": {
                        "text/plain": "'10100'"
                    },
                    "execution_count": null
                }
            ]
        },
        {
            "id": "1fc4b871",
            "cell_type": "code",
            "metadata": {},
            "execution_count": null,
            "source": "np.left_shift(5, [1,2,3])",
            "outputs": [
                {
                    "output_type": "execute_result",
                    "metadata": {},
                    "data": {
                        "text/plain": "array([10, 20, 40])"
                    },
                    "execution_count": null
                }
            ]
        },
        {
            "id": "099c17fb",
            "cell_type": "markdown",
            "source": "Note that the dtype of the second argument may change the dtype of the\nresult and can lead to unexpected results in some cases (see\n:ref:`Casting Rules <ufuncs.casting>`):\n",
            "metadata": {}
        },
        {
            "id": "527cf701",
            "cell_type": "code",
            "metadata": {},
            "execution_count": null,
            "source": "a = np.left_shift(np.uint8(255), np.int64(1))  # Expect 254\nprint(a, type(a)) # Unexpected result due to upcasting",
            "outputs": [
                {
                    "output_type": "execute_result",
                    "metadata": {},
                    "data": {
                        "text/plain": "510 <class 'numpy.int64'>"
                    },
                    "execution_count": null
                }
            ]
        },
        {
            "id": "39c4c9c0",
            "cell_type": "code",
            "metadata": {},
            "execution_count": null,
            "source": "b = np.left_shift(np.uint8(255), np.uint8(1))\nprint(b, type(b))",
            "outputs": [
                {
                    "output_type": "execute_result",
                    "metadata": {},
                    "data": {
                        "text/plain": "254 <class 'numpy.uint8'>"
                    },
                    "execution_count": null
                }
            ]
        },
        {
            "id": "377019e7",
            "cell_type": "markdown",
            "source": "The ``<<`` operator can be used as a shorthand for ``np.left_shift`` on\nndarrays.\n",
            "metadata": {}
        },
        {
            "id": "268bb37f",
            "cell_type": "code",
            "metadata": {},
            "execution_count": null,
            "source": "x1 = 5\nx2 = np.array([1, 2, 3])\nx1 << x2",
            "outputs": [
                {
                    "output_type": "execute_result",
                    "metadata": {},
                    "data": {
                        "text/plain": "array([10, 20, 40])"
                    },
                    "execution_count": null
                }
            ]
        }
    ]
}