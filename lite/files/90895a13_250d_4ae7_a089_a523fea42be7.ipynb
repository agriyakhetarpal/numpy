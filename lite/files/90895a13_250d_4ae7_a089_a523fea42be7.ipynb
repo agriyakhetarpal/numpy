{
    "nbformat": 4,
    "nbformat_minor": 5,
    "metadata": {
        "kernelspec": {
            "display_name": "Python",
            "language": "python",
            "name": "python"
        },
        "language_info": {
            "name": "python"
        }
    },
    "cells": [
        {
            "id": "7132ff2d",
            "cell_type": "markdown",
            "source": "<div class='alert alert-warning'>\n\nNumPy's interactive examples are experimental and may not always work as expected, with high load times especially on low-resource platforms, and the version of NumPy might not be in sync with the one you are browsing the documentation for. If you encounter any issues, please report them on the [NumPy issue tracker](https://github.com/numpy/numpy/issues).\n\n</div>",
            "metadata": {}
        },
        {
            "id": "5105c3fc",
            "cell_type": "code",
            "metadata": {},
            "execution_count": null,
            "source": "import numpy as np\nnp.isclose([1e10,1e-7], [1.00001e10,1e-8])",
            "outputs": [
                {
                    "output_type": "execute_result",
                    "metadata": {},
                    "data": {
                        "text/plain": "array([ True, False])"
                    },
                    "execution_count": null
                }
            ]
        },
        {
            "id": "d27c251f",
            "cell_type": "code",
            "metadata": {},
            "execution_count": null,
            "source": "np.isclose([1e10,1e-8], [1.00001e10,1e-9])",
            "outputs": [
                {
                    "output_type": "execute_result",
                    "metadata": {},
                    "data": {
                        "text/plain": "array([ True, True])"
                    },
                    "execution_count": null
                }
            ]
        },
        {
            "id": "7062969f",
            "cell_type": "code",
            "metadata": {},
            "execution_count": null,
            "source": "np.isclose([1e10,1e-8], [1.0001e10,1e-9])",
            "outputs": [
                {
                    "output_type": "execute_result",
                    "metadata": {},
                    "data": {
                        "text/plain": "array([False,  True])"
                    },
                    "execution_count": null
                }
            ]
        },
        {
            "id": "764d32b4",
            "cell_type": "code",
            "metadata": {},
            "execution_count": null,
            "source": "np.isclose([1.0, np.nan], [1.0, np.nan])",
            "outputs": [
                {
                    "output_type": "execute_result",
                    "metadata": {},
                    "data": {
                        "text/plain": "array([ True, False])"
                    },
                    "execution_count": null
                }
            ]
        },
        {
            "id": "ba292337",
            "cell_type": "code",
            "metadata": {},
            "execution_count": null,
            "source": "np.isclose([1.0, np.nan], [1.0, np.nan], equal_nan=True)",
            "outputs": [
                {
                    "output_type": "execute_result",
                    "metadata": {},
                    "data": {
                        "text/plain": "array([ True, True])"
                    },
                    "execution_count": null
                }
            ]
        },
        {
            "id": "57e99802",
            "cell_type": "code",
            "metadata": {},
            "execution_count": null,
            "source": "np.isclose([1e-8, 1e-7], [0.0, 0.0])",
            "outputs": [
                {
                    "output_type": "execute_result",
                    "metadata": {},
                    "data": {
                        "text/plain": "array([ True, False])"
                    },
                    "execution_count": null
                }
            ]
        },
        {
            "id": "ca3b0f5c",
            "cell_type": "code",
            "metadata": {},
            "execution_count": null,
            "source": "np.isclose([1e-100, 1e-7], [0.0, 0.0], atol=0.0)",
            "outputs": [
                {
                    "output_type": "execute_result",
                    "metadata": {},
                    "data": {
                        "text/plain": "array([False, False])"
                    },
                    "execution_count": null
                }
            ]
        },
        {
            "id": "a41e5229",
            "cell_type": "code",
            "metadata": {},
            "execution_count": null,
            "source": "np.isclose([1e-10, 1e-10], [1e-20, 0.0])",
            "outputs": [
                {
                    "output_type": "execute_result",
                    "metadata": {},
                    "data": {
                        "text/plain": "array([ True,  True])"
                    },
                    "execution_count": null
                }
            ]
        },
        {
            "id": "e2f28c21",
            "cell_type": "code",
            "metadata": {},
            "execution_count": null,
            "source": "np.isclose([1e-10, 1e-10], [1e-20, 0.999999e-10], atol=0.0)",
            "outputs": [
                {
                    "output_type": "execute_result",
                    "metadata": {},
                    "data": {
                        "text/plain": "array([False,  True])"
                    },
                    "execution_count": null
                }
            ]
        }
    ]
}