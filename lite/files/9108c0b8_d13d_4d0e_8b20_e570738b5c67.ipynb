{
    "nbformat": 4,
    "nbformat_minor": 5,
    "metadata": {
        "kernelspec": {
            "display_name": "Python",
            "language": "python",
            "name": "python"
        },
        "language_info": {
            "name": "python"
        }
    },
    "cells": [
        {
            "id": "d3a94893",
            "cell_type": "markdown",
            "source": "<div class='alert alert-warning'>\n\nNumPy's interactive examples are experimental and may not always work as expected, with high load times especially on low-resource platforms, and the version of NumPy might not be in sync with the one you are browsing the documentation for. If you encounter any issues, please report them on the [NumPy issue tracker](https://github.com/numpy/numpy/issues).\n\n</div>",
            "metadata": {}
        },
        {
            "id": "db2aa0bb",
            "cell_type": "code",
            "metadata": {},
            "execution_count": null,
            "source": "import numpy as np\nfrom numpy.lib.stride_tricks import sliding_window_view\nx = np.arange(6)\nx.shape",
            "outputs": [
                {
                    "output_type": "execute_result",
                    "metadata": {},
                    "data": {
                        "text/plain": "(6,)"
                    },
                    "execution_count": null
                }
            ]
        },
        {
            "id": "d11cbc9e",
            "cell_type": "code",
            "metadata": {},
            "execution_count": null,
            "source": "v = sliding_window_view(x, 3)\nv.shape",
            "outputs": [
                {
                    "output_type": "execute_result",
                    "metadata": {},
                    "data": {
                        "text/plain": "(4, 3)"
                    },
                    "execution_count": null
                }
            ]
        },
        {
            "id": "8636150c",
            "cell_type": "code",
            "metadata": {},
            "execution_count": null,
            "source": "v",
            "outputs": [
                {
                    "output_type": "execute_result",
                    "metadata": {},
                    "data": {
                        "text/plain": "array([[0, 1, 2],\n       [1, 2, 3],\n       [2, 3, 4],\n       [3, 4, 5]])"
                    },
                    "execution_count": null
                }
            ]
        },
        {
            "id": "0f257032",
            "cell_type": "markdown",
            "source": "This also works in more dimensions, e.g.\n",
            "metadata": {}
        },
        {
            "id": "f6123554",
            "cell_type": "code",
            "metadata": {},
            "execution_count": null,
            "source": "i, j = np.ogrid[:3, :4]\nx = 10*i + j\nx.shape",
            "outputs": [
                {
                    "output_type": "execute_result",
                    "metadata": {},
                    "data": {
                        "text/plain": "(3, 4)"
                    },
                    "execution_count": null
                }
            ]
        },
        {
            "id": "18576e30",
            "cell_type": "code",
            "metadata": {},
            "execution_count": null,
            "source": "x",
            "outputs": [
                {
                    "output_type": "execute_result",
                    "metadata": {},
                    "data": {
                        "text/plain": "array([[ 0,  1,  2,  3],\n       [10, 11, 12, 13],\n       [20, 21, 22, 23]])"
                    },
                    "execution_count": null
                }
            ]
        },
        {
            "id": "7ad1de5e",
            "cell_type": "code",
            "metadata": {},
            "execution_count": null,
            "source": "shape = (2,2)\nv = sliding_window_view(x, shape)\nv.shape",
            "outputs": [
                {
                    "output_type": "execute_result",
                    "metadata": {},
                    "data": {
                        "text/plain": "(2, 3, 2, 2)"
                    },
                    "execution_count": null
                }
            ]
        },
        {
            "id": "472d47a5",
            "cell_type": "code",
            "metadata": {},
            "execution_count": null,
            "source": "v",
            "outputs": [
                {
                    "output_type": "execute_result",
                    "metadata": {},
                    "data": {
                        "text/plain": "array([[[[ 0,  1],\n         [10, 11]],\n        [[ 1,  2],\n         [11, 12]],\n        [[ 2,  3],\n         [12, 13]]],\n       [[[10, 11],\n         [20, 21]],\n        [[11, 12],\n         [21, 22]],\n        [[12, 13],\n         [22, 23]]]])"
                    },
                    "execution_count": null
                }
            ]
        },
        {
            "id": "5f36cf4b",
            "cell_type": "markdown",
            "source": "The axis can be specified explicitly:\n",
            "metadata": {}
        },
        {
            "id": "523140f4",
            "cell_type": "code",
            "metadata": {},
            "execution_count": null,
            "source": "v = sliding_window_view(x, 3, 0)\nv.shape",
            "outputs": [
                {
                    "output_type": "execute_result",
                    "metadata": {},
                    "data": {
                        "text/plain": "(1, 4, 3)"
                    },
                    "execution_count": null
                }
            ]
        },
        {
            "id": "f3e37a7e",
            "cell_type": "code",
            "metadata": {},
            "execution_count": null,
            "source": "v",
            "outputs": [
                {
                    "output_type": "execute_result",
                    "metadata": {},
                    "data": {
                        "text/plain": "array([[[ 0, 10, 20],\n        [ 1, 11, 21],\n        [ 2, 12, 22],\n        [ 3, 13, 23]]])"
                    },
                    "execution_count": null
                }
            ]
        },
        {
            "id": "dc47a982",
            "cell_type": "markdown",
            "source": "The same axis can be used several times. In that case, every use reduces\nthe corresponding original dimension:\n",
            "metadata": {}
        },
        {
            "id": "0359fdde",
            "cell_type": "code",
            "metadata": {},
            "execution_count": null,
            "source": "v = sliding_window_view(x, (2, 3), (1, 1))\nv.shape",
            "outputs": [
                {
                    "output_type": "execute_result",
                    "metadata": {},
                    "data": {
                        "text/plain": "(3, 1, 2, 3)"
                    },
                    "execution_count": null
                }
            ]
        },
        {
            "id": "3a4e3c48",
            "cell_type": "code",
            "metadata": {},
            "execution_count": null,
            "source": "v",
            "outputs": [
                {
                    "output_type": "execute_result",
                    "metadata": {},
                    "data": {
                        "text/plain": "array([[[[ 0,  1,  2],\n         [ 1,  2,  3]]],\n       [[[10, 11, 12],\n         [11, 12, 13]]],\n       [[[20, 21, 22],\n         [21, 22, 23]]]])"
                    },
                    "execution_count": null
                }
            ]
        },
        {
            "id": "bf333a80",
            "cell_type": "markdown",
            "source": "Combining with stepped slicing (`::step`), this can be used to take sliding\nviews which skip elements:\n",
            "metadata": {}
        },
        {
            "id": "b39176b1",
            "cell_type": "code",
            "metadata": {},
            "execution_count": null,
            "source": "x = np.arange(7)\nsliding_window_view(x, 5)[:, ::2]",
            "outputs": [
                {
                    "output_type": "execute_result",
                    "metadata": {},
                    "data": {
                        "text/plain": "array([[0, 2, 4],\n       [1, 3, 5],\n       [2, 4, 6]])"
                    },
                    "execution_count": null
                }
            ]
        },
        {
            "id": "ea9bc9cc",
            "cell_type": "markdown",
            "source": "or views which move by multiple elements\n",
            "metadata": {}
        },
        {
            "id": "64bffac3",
            "cell_type": "code",
            "metadata": {},
            "execution_count": null,
            "source": "x = np.arange(7)\nsliding_window_view(x, 3)[::2, :]",
            "outputs": [
                {
                    "output_type": "execute_result",
                    "metadata": {},
                    "data": {
                        "text/plain": "array([[0, 1, 2],\n       [2, 3, 4],\n       [4, 5, 6]])"
                    },
                    "execution_count": null
                }
            ]
        },
        {
            "id": "2aa95e62",
            "cell_type": "markdown",
            "source": "A common application of `sliding_window_view` is the calculation of running\nstatistics. The simplest example is the\n[moving average](https://en.wikipedia.org/wiki/Moving_average):\n",
            "metadata": {}
        },
        {
            "id": "c0e416fd",
            "cell_type": "code",
            "metadata": {},
            "execution_count": null,
            "source": "x = np.arange(6)\nx.shape",
            "outputs": [
                {
                    "output_type": "execute_result",
                    "metadata": {},
                    "data": {
                        "text/plain": "(6,)"
                    },
                    "execution_count": null
                }
            ]
        },
        {
            "id": "82dbb64d",
            "cell_type": "code",
            "metadata": {},
            "execution_count": null,
            "source": "v = sliding_window_view(x, 3)\nv.shape",
            "outputs": [
                {
                    "output_type": "execute_result",
                    "metadata": {},
                    "data": {
                        "text/plain": "(4, 3)"
                    },
                    "execution_count": null
                }
            ]
        },
        {
            "id": "5c89d26b",
            "cell_type": "code",
            "metadata": {},
            "execution_count": null,
            "source": "v",
            "outputs": [
                {
                    "output_type": "execute_result",
                    "metadata": {},
                    "data": {
                        "text/plain": "array([[0, 1, 2],\n       [1, 2, 3],\n       [2, 3, 4],\n       [3, 4, 5]])"
                    },
                    "execution_count": null
                }
            ]
        },
        {
            "id": "8f0724e4",
            "cell_type": "code",
            "metadata": {},
            "execution_count": null,
            "source": "moving_average = v.mean(axis=-1)\nmoving_average",
            "outputs": [
                {
                    "output_type": "execute_result",
                    "metadata": {},
                    "data": {
                        "text/plain": "array([1., 2., 3., 4.])"
                    },
                    "execution_count": null
                }
            ]
        },
        {
            "id": "e4e69576",
            "cell_type": "markdown",
            "source": "Note that a sliding window approach is often **not** optimal (see Notes).",
            "metadata": {}
        }
    ]
}