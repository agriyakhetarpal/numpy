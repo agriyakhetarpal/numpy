{
    "nbformat": 4,
    "nbformat_minor": 5,
    "metadata": {
        "kernelspec": {
            "display_name": "Python",
            "language": "python",
            "name": "python"
        },
        "language_info": {
            "name": "python"
        }
    },
    "cells": [
        {
            "id": "921f404c",
            "cell_type": "markdown",
            "source": "<div class='alert alert-warning'>\n\nNumPy's interactive examples are experimental and may not always work as expected, with high load times especially on low-resource platforms, and the version of NumPy might not be in sync with the one you are browsing the documentation for. If you encounter any issues, please report them on the [NumPy issue tracker](https://github.com/numpy/numpy/issues).\n\n</div>",
            "metadata": {}
        },
        {
            "id": "f67d3486",
            "cell_type": "code",
            "metadata": {},
            "execution_count": null,
            "source": "import numpy as np\nnp.min_scalar_type(10)",
            "outputs": [
                {
                    "output_type": "execute_result",
                    "metadata": {},
                    "data": {
                        "text/plain": "dtype('uint8')"
                    },
                    "execution_count": null
                }
            ]
        },
        {
            "id": "09415357",
            "cell_type": "code",
            "metadata": {},
            "execution_count": null,
            "source": "np.min_scalar_type(-260)",
            "outputs": [
                {
                    "output_type": "execute_result",
                    "metadata": {},
                    "data": {
                        "text/plain": "dtype('int16')"
                    },
                    "execution_count": null
                }
            ]
        },
        {
            "id": "e7d21e14",
            "cell_type": "code",
            "metadata": {},
            "execution_count": null,
            "source": "np.min_scalar_type(3.1)",
            "outputs": [
                {
                    "output_type": "execute_result",
                    "metadata": {},
                    "data": {
                        "text/plain": "dtype('float16')"
                    },
                    "execution_count": null
                }
            ]
        },
        {
            "id": "93d872eb",
            "cell_type": "code",
            "metadata": {},
            "execution_count": null,
            "source": "np.min_scalar_type(1e50)",
            "outputs": [
                {
                    "output_type": "execute_result",
                    "metadata": {},
                    "data": {
                        "text/plain": "dtype('float64')"
                    },
                    "execution_count": null
                }
            ]
        },
        {
            "id": "d0544c2c",
            "cell_type": "code",
            "metadata": {},
            "execution_count": null,
            "source": "np.min_scalar_type(np.arange(4,dtype='f8'))",
            "outputs": [
                {
                    "output_type": "execute_result",
                    "metadata": {},
                    "data": {
                        "text/plain": "dtype('float64')"
                    },
                    "execution_count": null
                }
            ]
        }
    ]
}