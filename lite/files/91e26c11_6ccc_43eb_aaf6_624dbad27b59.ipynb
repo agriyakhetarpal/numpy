{
    "nbformat": 4,
    "nbformat_minor": 5,
    "metadata": {
        "kernelspec": {
            "display_name": "Python",
            "language": "python",
            "name": "python"
        },
        "language_info": {
            "name": "python"
        }
    },
    "cells": [
        {
            "id": "035c4798",
            "cell_type": "markdown",
            "source": "<div class='alert alert-warning'>\n\nNumPy's interactive examples are experimental and may not always work as expected, with high load times especially on low-resource platforms, and the version of NumPy might not be in sync with the one you are browsing the documentation for. If you encounter any issues, please report them on the [NumPy issue tracker](https://github.com/numpy/numpy/issues).\n\n</div>",
            "metadata": {}
        },
        {
            "id": "e54f8df9",
            "cell_type": "markdown",
            "source": "Draw samples from the distribution:\n",
            "metadata": {}
        },
        {
            "id": "90992b7a",
            "cell_type": "code",
            "metadata": {},
            "execution_count": null,
            "source": "a = .6\nrng = np.random.default_rng()\ns = rng.logseries(a, 10000)\nimport matplotlib.pyplot as plt\nbins = np.arange(-.5, max(s) + .5 )\ncount, bins, _ = plt.hist(s, bins=bins, label='Sample count')",
            "outputs": []
        },
        {
            "id": "bcfc25d0",
            "cell_type": "markdown",
            "source": "#   plot against distribution\n",
            "metadata": {}
        },
        {
            "id": "1179b610",
            "cell_type": "code",
            "metadata": {},
            "execution_count": null,
            "source": "def logseries(k, p):\n    return -p**k/(k*np.log(1-p))\ncentres = np.arange(1, max(s) + 1)\nplt.plot(centres, logseries(centres, a) * s.size, 'r', label='logseries PMF')\nplt.legend()\nplt.show()",
            "outputs": []
        }
    ]
}