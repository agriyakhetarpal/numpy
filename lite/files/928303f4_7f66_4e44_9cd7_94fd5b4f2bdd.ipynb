{
    "nbformat": 4,
    "nbformat_minor": 5,
    "metadata": {
        "kernelspec": {
            "display_name": "Python",
            "language": "python",
            "name": "python"
        },
        "language_info": {
            "name": "python"
        }
    },
    "cells": [
        {
            "id": "e2f2cc30",
            "cell_type": "markdown",
            "source": "<div class='alert alert-warning'>\n\nNumPy's interactive examples are experimental and may not always work as expected, with high load times especially on low-resource platforms, , and the version of NumPy might not be in sync with the one you are browsing the documentation for. If you encounter any issues, please report them on the [NumPy issue tracker](https://github.com/numpy/numpy/issues).\n\n</div>",
            "metadata": {}
        },
        {
            "id": "e1a988d3",
            "cell_type": "markdown",
            "source": "Manually adding two vectors, using broadcasting:\n",
            "metadata": {}
        },
        {
            "id": "ea817a0b",
            "cell_type": "code",
            "metadata": {},
            "execution_count": null,
            "source": "import numpy as np\nx = np.array([[1], [2], [3]])\ny = np.array([4, 5, 6])\nb = np.broadcast(x, y)",
            "outputs": []
        },
        {
            "id": "b9b062ec",
            "cell_type": "code",
            "metadata": {},
            "execution_count": null,
            "source": "out = np.empty(b.shape)\nout.flat = [u+v for (u,v) in b]\nout",
            "outputs": [
                {
                    "output_type": "execute_result",
                    "metadata": {},
                    "data": {
                        "text/plain": "array([[5.,  6.,  7.],\n       [6.,  7.,  8.],\n       [7.,  8.,  9.]])"
                    },
                    "execution_count": null
                }
            ]
        },
        {
            "id": "c446c908",
            "cell_type": "markdown",
            "source": "Compare against built-in broadcasting:\n",
            "metadata": {}
        },
        {
            "id": "b40a1081",
            "cell_type": "code",
            "metadata": {},
            "execution_count": null,
            "source": "x + y",
            "outputs": [
                {
                    "output_type": "execute_result",
                    "metadata": {},
                    "data": {
                        "text/plain": "array([[5, 6, 7],\n       [6, 7, 8],\n       [7, 8, 9]])"
                    },
                    "execution_count": null
                }
            ]
        }
    ]
}