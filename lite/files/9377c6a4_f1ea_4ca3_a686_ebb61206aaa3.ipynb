{
    "nbformat": 4,
    "nbformat_minor": 5,
    "metadata": {
        "kernelspec": {
            "display_name": "Python",
            "language": "python",
            "name": "python"
        },
        "language_info": {
            "name": "python"
        }
    },
    "cells": [
        {
            "id": "69a99f57",
            "cell_type": "markdown",
            "source": "<div class='alert alert-warning'>\n\nNumPy's interactive examples are experimental and may not always work as expected, with high load times especially on low-resource platforms, and the version of NumPy might not be in sync with the one you are browsing the documentation for. If you encounter any issues, please report them on the [NumPy issue tracker](https://github.com/numpy/numpy/issues).\n\n</div>",
            "metadata": {}
        },
        {
            "id": "ea01fe58",
            "cell_type": "markdown",
            "source": "Draw samples from the distribution:\n",
            "metadata": {}
        },
        {
            "id": "57401a79",
            "cell_type": "code",
            "metadata": {},
            "execution_count": null,
            "source": "rng = np.random.default_rng()\ns = rng.uniform(-1,0,1000)",
            "outputs": []
        },
        {
            "id": "f7f2f018",
            "cell_type": "markdown",
            "source": "All values are within the given interval:\n",
            "metadata": {}
        },
        {
            "id": "fde38a3c",
            "cell_type": "code",
            "metadata": {},
            "execution_count": null,
            "source": "np.all(s >= -1)",
            "outputs": [
                {
                    "output_type": "execute_result",
                    "metadata": {},
                    "data": {
                        "text/plain": "True"
                    },
                    "execution_count": null
                }
            ]
        },
        {
            "id": "5c211f62",
            "cell_type": "code",
            "metadata": {},
            "execution_count": null,
            "source": "np.all(s < 0)",
            "outputs": [
                {
                    "output_type": "execute_result",
                    "metadata": {},
                    "data": {
                        "text/plain": "True"
                    },
                    "execution_count": null
                }
            ]
        },
        {
            "id": "55bdf54e",
            "cell_type": "markdown",
            "source": "Display the histogram of the samples, along with the\nprobability density function:\n",
            "metadata": {}
        },
        {
            "id": "dd23a521",
            "cell_type": "code",
            "metadata": {},
            "execution_count": null,
            "source": "import matplotlib.pyplot as plt\ncount, bins, _ = plt.hist(s, 15, density=True)\nplt.plot(bins, np.ones_like(bins), linewidth=2, color='r')\nplt.show()",
            "outputs": []
        }
    ]
}