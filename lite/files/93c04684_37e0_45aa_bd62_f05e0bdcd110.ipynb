{
    "nbformat": 4,
    "nbformat_minor": 5,
    "metadata": {
        "kernelspec": {
            "display_name": "Python",
            "language": "python",
            "name": "python"
        },
        "language_info": {
            "name": "python"
        }
    },
    "cells": [
        {
            "id": "7f53dc33",
            "cell_type": "markdown",
            "source": "<div class='alert alert-warning'>\n\nNumPy's interactive examples are experimental and may not always work as expected, with high load times especially on low-resource platforms, , and the version of NumPy might not be in sync with the one you are browsing the documentation for. If you encounter any issues, please report them on the [NumPy issue tracker](https://github.com/numpy/numpy/issues).\n\n</div>",
            "metadata": {}
        },
        {
            "id": "153fa772",
            "cell_type": "code",
            "metadata": {},
            "execution_count": null,
            "source": "import numpy as np",
            "outputs": []
        },
        {
            "id": "b9fad8f7",
            "cell_type": "markdown",
            "source": "Data type containing field ``col1`` (10-character string at\nbyte position 0), ``col2`` (32-bit float at byte position 10),\nand ``col3`` (integers at byte position 14):\n",
            "metadata": {}
        },
        {
            "id": "affa4701",
            "cell_type": "code",
            "metadata": {},
            "execution_count": null,
            "source": "dt = np.dtype({'col1': ('U10', 0), 'col2': (np.float32, 10),\n               'col3': (int, 14)})",
            "outputs": []
        }
    ]
}