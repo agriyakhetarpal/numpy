{
    "nbformat": 4,
    "nbformat_minor": 5,
    "metadata": {
        "kernelspec": {
            "display_name": "Python",
            "language": "python",
            "name": "python"
        },
        "language_info": {
            "name": "python"
        }
    },
    "cells": [
        {
            "id": "9bbd03dd",
            "cell_type": "markdown",
            "source": "<div class='alert alert-warning'>\n\nNumPy's interactive examples are experimental and may not always work as expected, with high load times especially on low-resource platforms, and the version of NumPy might not be in sync with the one you are browsing the documentation for. If you encounter any issues, please report them on the [NumPy issue tracker](https://github.com/numpy/numpy/issues).\n\n</div>",
            "metadata": {}
        },
        {
            "id": "54f3c0c5",
            "cell_type": "markdown",
            "source": "np.array allows to specify whether the array is written in C-contiguous\norder (last index varies the fastest), or FORTRAN-contiguous order in\nmemory (first index varies the fastest).\n",
            "metadata": {}
        },
        {
            "id": "efe513b3",
            "cell_type": "code",
            "metadata": {},
            "execution_count": null,
            "source": "import numpy as np\na = np.array([[1, 2, 3], [4, 5, 6]], order='C')\na",
            "outputs": [
                {
                    "output_type": "execute_result",
                    "metadata": {},
                    "data": {
                        "text/plain": "array([[1, 2, 3],\n       [4, 5, 6]])"
                    },
                    "execution_count": null
                }
            ]
        },
        {
            "id": "e0f872a6",
            "cell_type": "code",
            "metadata": {},
            "execution_count": null,
            "source": "np.isfortran(a)",
            "outputs": [
                {
                    "output_type": "execute_result",
                    "metadata": {},
                    "data": {
                        "text/plain": "False"
                    },
                    "execution_count": null
                }
            ]
        },
        {
            "id": "aa1c77fc",
            "cell_type": "code",
            "metadata": {},
            "execution_count": null,
            "source": "b = np.array([[1, 2, 3], [4, 5, 6]], order='F')\nb",
            "outputs": [
                {
                    "output_type": "execute_result",
                    "metadata": {},
                    "data": {
                        "text/plain": "array([[1, 2, 3],\n       [4, 5, 6]])"
                    },
                    "execution_count": null
                }
            ]
        },
        {
            "id": "d10bd7a6",
            "cell_type": "code",
            "metadata": {},
            "execution_count": null,
            "source": "np.isfortran(b)",
            "outputs": [
                {
                    "output_type": "execute_result",
                    "metadata": {},
                    "data": {
                        "text/plain": "True"
                    },
                    "execution_count": null
                }
            ]
        },
        {
            "id": "444a87fc",
            "cell_type": "markdown",
            "source": "The transpose of a C-ordered array is a FORTRAN-ordered array.\n",
            "metadata": {}
        },
        {
            "id": "096c9243",
            "cell_type": "code",
            "metadata": {},
            "execution_count": null,
            "source": "a = np.array([[1, 2, 3], [4, 5, 6]], order='C')\na",
            "outputs": [
                {
                    "output_type": "execute_result",
                    "metadata": {},
                    "data": {
                        "text/plain": "array([[1, 2, 3],\n       [4, 5, 6]])"
                    },
                    "execution_count": null
                }
            ]
        },
        {
            "id": "5f590c47",
            "cell_type": "code",
            "metadata": {},
            "execution_count": null,
            "source": "np.isfortran(a)",
            "outputs": [
                {
                    "output_type": "execute_result",
                    "metadata": {},
                    "data": {
                        "text/plain": "False"
                    },
                    "execution_count": null
                }
            ]
        },
        {
            "id": "a84cceef",
            "cell_type": "code",
            "metadata": {},
            "execution_count": null,
            "source": "b = a.T\nb",
            "outputs": [
                {
                    "output_type": "execute_result",
                    "metadata": {},
                    "data": {
                        "text/plain": "array([[1, 4],\n       [2, 5],\n       [3, 6]])"
                    },
                    "execution_count": null
                }
            ]
        },
        {
            "id": "2b2a0b3e",
            "cell_type": "code",
            "metadata": {},
            "execution_count": null,
            "source": "np.isfortran(b)",
            "outputs": [
                {
                    "output_type": "execute_result",
                    "metadata": {},
                    "data": {
                        "text/plain": "True"
                    },
                    "execution_count": null
                }
            ]
        },
        {
            "id": "c072fea2",
            "cell_type": "markdown",
            "source": "C-ordered arrays evaluate as False even if they are also FORTRAN-ordered.\n",
            "metadata": {}
        },
        {
            "id": "a01d4f5f",
            "cell_type": "code",
            "metadata": {},
            "execution_count": null,
            "source": "np.isfortran(np.array([1, 2], order='F'))",
            "outputs": [
                {
                    "output_type": "execute_result",
                    "metadata": {},
                    "data": {
                        "text/plain": "False"
                    },
                    "execution_count": null
                }
            ]
        }
    ]
}