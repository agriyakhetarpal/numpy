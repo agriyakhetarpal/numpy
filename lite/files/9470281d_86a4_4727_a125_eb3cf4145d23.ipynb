{
    "nbformat": 4,
    "nbformat_minor": 5,
    "metadata": {
        "kernelspec": {
            "display_name": "Python",
            "language": "python",
            "name": "python"
        },
        "language_info": {
            "name": "python"
        }
    },
    "cells": [
        {
            "id": "3ae9b468",
            "cell_type": "markdown",
            "source": "<div class='alert alert-warning'>\n\nNumPy's interactive examples are experimental and may not always work as expected, with high load times especially on low-resource platforms, , and the version of NumPy might not be in sync with the one you are browsing the documentation for. If you encounter any issues, please report them on the [NumPy issue tracker](https://github.com/numpy/numpy/issues).\n\n</div>",
            "metadata": {}
        },
        {
            "id": "ee993cb0",
            "cell_type": "code",
            "metadata": {},
            "execution_count": null,
            "source": "import numpy as np",
            "outputs": []
        },
        {
            "id": "98bc853d",
            "cell_type": "code",
            "metadata": {},
            "execution_count": null,
            "source": "x = np.array([('Sarah', (8.0, 7.0)), ('John', (6.0, 7.0))], dtype=dt)\nx[1]",
            "outputs": [
                {
                    "output_type": "execute_result",
                    "metadata": {},
                    "data": {
                        "text/plain": "('John', [6., 7.])"
                    },
                    "execution_count": null
                }
            ]
        },
        {
            "id": "27a9ac6b",
            "cell_type": "code",
            "metadata": {},
            "execution_count": null,
            "source": "x[1]['grades']",
            "outputs": [
                {
                    "output_type": "execute_result",
                    "metadata": {},
                    "data": {
                        "text/plain": "array([6.,  7.])"
                    },
                    "execution_count": null
                }
            ]
        },
        {
            "id": "7d407db7",
            "cell_type": "code",
            "metadata": {},
            "execution_count": null,
            "source": "type(x[1])",
            "outputs": [
                {
                    "output_type": "execute_result",
                    "metadata": {},
                    "data": {
                        "text/plain": "<class 'numpy.void'>"
                    },
                    "execution_count": null
                }
            ]
        },
        {
            "id": "d78d55c9",
            "cell_type": "code",
            "metadata": {},
            "execution_count": null,
            "source": "type(x[1]['grades'])",
            "outputs": [
                {
                    "output_type": "execute_result",
                    "metadata": {},
                    "data": {
                        "text/plain": "<class 'numpy.ndarray'>"
                    },
                    "execution_count": null
                }
            ]
        }
    ]
}