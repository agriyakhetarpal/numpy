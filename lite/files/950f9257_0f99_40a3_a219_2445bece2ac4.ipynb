{
    "nbformat": 4,
    "nbformat_minor": 5,
    "metadata": {
        "kernelspec": {
            "display_name": "Python",
            "language": "python",
            "name": "python"
        },
        "language_info": {
            "name": "python"
        }
    },
    "cells": [
        {
            "id": "766a480c",
            "cell_type": "markdown",
            "source": "<div class='alert alert-warning'>\n\nNumPy's interactive examples are experimental and may not always work as expected, with high load times especially on low-resource platforms, and the version of NumPy might not be in sync with the one you are browsing the documentation for. If you encounter any issues, please report them on the [NumPy issue tracker](https://github.com/numpy/numpy/issues).\n\n</div>",
            "metadata": {}
        },
        {
            "id": "c1bfa8cb",
            "cell_type": "code",
            "metadata": {},
            "execution_count": null,
            "source": "import numpy as np\nnp.geterr()",
            "outputs": [
                {
                    "output_type": "execute_result",
                    "metadata": {},
                    "data": {
                        "text/plain": "{'divide': 'warn', 'over': 'warn', 'under': 'ignore', 'invalid': 'warn'}"
                    },
                    "execution_count": null
                }
            ]
        },
        {
            "id": "74350ef2",
            "cell_type": "code",
            "metadata": {},
            "execution_count": null,
            "source": "np.arange(3.) / np.arange(3.)  # doctest: +SKIP",
            "outputs": [
                {
                    "output_type": "execute_result",
                    "metadata": {},
                    "data": {
                        "text/plain": "array([nan,  1.,  1.])\nRuntimeWarning: invalid value encountered in divide"
                    },
                    "execution_count": null
                }
            ]
        },
        {
            "id": "02a1bc86",
            "cell_type": "code",
            "metadata": {},
            "execution_count": null,
            "source": "oldsettings = np.seterr(all='warn', invalid='raise')\nnp.geterr()",
            "outputs": [
                {
                    "output_type": "execute_result",
                    "metadata": {},
                    "data": {
                        "text/plain": "{'divide': 'warn', 'over': 'warn', 'under': 'warn', 'invalid': 'raise'}"
                    },
                    "execution_count": null
                }
            ]
        },
        {
            "id": "68f63347",
            "cell_type": "code",
            "metadata": {},
            "execution_count": null,
            "source": "np.arange(3.) / np.arange(3.)",
            "outputs": [
                {
                    "output_type": "execute_result",
                    "metadata": {},
                    "data": {
                        "text/plain": "Traceback (most recent call last):\n  ...\nFloatingPointError: invalid value encountered in divide"
                    },
                    "execution_count": null
                }
            ]
        },
        {
            "id": "e48d6482",
            "cell_type": "code",
            "metadata": {},
            "execution_count": null,
            "source": "oldsettings = np.seterr(**oldsettings)  # restore original",
            "outputs": []
        }
    ]
}