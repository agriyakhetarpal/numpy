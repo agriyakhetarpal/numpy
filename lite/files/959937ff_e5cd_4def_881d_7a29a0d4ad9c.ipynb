{
    "nbformat": 4,
    "nbformat_minor": 5,
    "metadata": {
        "kernelspec": {
            "display_name": "Python",
            "language": "python",
            "name": "python"
        },
        "language_info": {
            "name": "python"
        }
    },
    "cells": [
        {
            "id": "3a973097",
            "cell_type": "markdown",
            "source": "<div class='alert alert-warning'>\n\nNumPy's interactive examples are experimental and may not always work as expected, with high load times especially on low-resource platforms, and the version of NumPy might not be in sync with the one you are browsing the documentation for. If you encounter any issues, please report them on the [NumPy issue tracker](https://github.com/numpy/numpy/issues).\n\n</div>",
            "metadata": {}
        },
        {
            "id": "03705461",
            "cell_type": "code",
            "metadata": {},
            "execution_count": null,
            "source": "import numpy as np",
            "outputs": []
        },
        {
            "id": "b7c7c730",
            "cell_type": "code",
            "metadata": {},
            "execution_count": null,
            "source": "np.array_equal([1, 2], [1, 2])",
            "outputs": [
                {
                    "output_type": "execute_result",
                    "metadata": {},
                    "data": {
                        "text/plain": "True"
                    },
                    "execution_count": null
                }
            ]
        },
        {
            "id": "34940926",
            "cell_type": "code",
            "metadata": {},
            "execution_count": null,
            "source": "np.array_equal(np.array([1, 2]), np.array([1, 2]))",
            "outputs": [
                {
                    "output_type": "execute_result",
                    "metadata": {},
                    "data": {
                        "text/plain": "True"
                    },
                    "execution_count": null
                }
            ]
        },
        {
            "id": "30dfec61",
            "cell_type": "code",
            "metadata": {},
            "execution_count": null,
            "source": "np.array_equal([1, 2], [1, 2, 3])",
            "outputs": [
                {
                    "output_type": "execute_result",
                    "metadata": {},
                    "data": {
                        "text/plain": "False"
                    },
                    "execution_count": null
                }
            ]
        },
        {
            "id": "4396f16c",
            "cell_type": "code",
            "metadata": {},
            "execution_count": null,
            "source": "np.array_equal([1, 2], [1, 4])",
            "outputs": [
                {
                    "output_type": "execute_result",
                    "metadata": {},
                    "data": {
                        "text/plain": "False"
                    },
                    "execution_count": null
                }
            ]
        },
        {
            "id": "115d0389",
            "cell_type": "code",
            "metadata": {},
            "execution_count": null,
            "source": "a = np.array([1, np.nan])\nnp.array_equal(a, a)",
            "outputs": [
                {
                    "output_type": "execute_result",
                    "metadata": {},
                    "data": {
                        "text/plain": "False"
                    },
                    "execution_count": null
                }
            ]
        },
        {
            "id": "3416a37e",
            "cell_type": "code",
            "metadata": {},
            "execution_count": null,
            "source": "np.array_equal(a, a, equal_nan=True)",
            "outputs": [
                {
                    "output_type": "execute_result",
                    "metadata": {},
                    "data": {
                        "text/plain": "True"
                    },
                    "execution_count": null
                }
            ]
        },
        {
            "id": "8f331b78",
            "cell_type": "markdown",
            "source": "When ``equal_nan`` is True, complex values with nan components are\nconsidered equal if either the real *or* the imaginary components are nan.\n",
            "metadata": {}
        },
        {
            "id": "23cd9081",
            "cell_type": "code",
            "metadata": {},
            "execution_count": null,
            "source": "a = np.array([1 + 1j])\nb = a.copy()\na.real = np.nan\nb.imag = np.nan\nnp.array_equal(a, b, equal_nan=True)",
            "outputs": [
                {
                    "output_type": "execute_result",
                    "metadata": {},
                    "data": {
                        "text/plain": "True"
                    },
                    "execution_count": null
                }
            ]
        }
    ]
}