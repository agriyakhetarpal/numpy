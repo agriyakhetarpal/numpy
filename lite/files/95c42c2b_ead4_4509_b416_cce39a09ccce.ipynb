{
    "nbformat": 4,
    "nbformat_minor": 5,
    "metadata": {
        "kernelspec": {
            "display_name": "Python",
            "language": "python",
            "name": "python"
        },
        "language_info": {
            "name": "python"
        }
    },
    "cells": [
        {
            "id": "f2b24a5c",
            "cell_type": "markdown",
            "source": "<div class='alert alert-warning'>\n\nNumPy's interactive examples are experimental and may not always work as expected, with high load times especially on low-resource platforms, and the version of NumPy might not be in sync with the one you are browsing the documentation for. If you encounter any issues, please report them on the [NumPy issue tracker](https://github.com/numpy/numpy/issues).\n\n</div>",
            "metadata": {}
        },
        {
            "id": "301f207b",
            "cell_type": "code",
            "metadata": {},
            "execution_count": null,
            "source": "import numpy as np",
            "outputs": []
        },
        {
            "id": "861bfb5a",
            "cell_type": "markdown",
            "source": "Print sine of one angle:\n",
            "metadata": {}
        },
        {
            "id": "da66822e",
            "cell_type": "code",
            "metadata": {},
            "execution_count": null,
            "source": "np.sin(np.pi/2.)",
            "outputs": [
                {
                    "output_type": "execute_result",
                    "metadata": {},
                    "data": {
                        "text/plain": "1.0"
                    },
                    "execution_count": null
                }
            ]
        },
        {
            "id": "cb3d85ea",
            "cell_type": "markdown",
            "source": "Print sines of an array of angles given in degrees:\n",
            "metadata": {}
        },
        {
            "id": "cfbe09f5",
            "cell_type": "code",
            "metadata": {},
            "execution_count": null,
            "source": "np.sin(np.array((0., 30., 45., 60., 90.)) * np.pi / 180. )",
            "outputs": [
                {
                    "output_type": "execute_result",
                    "metadata": {},
                    "data": {
                        "text/plain": "array([ 0.        ,  0.5       ,  0.70710678,  0.8660254 ,  1.        ])"
                    },
                    "execution_count": null
                }
            ]
        },
        {
            "id": "5c8f6c97",
            "cell_type": "markdown",
            "source": "Plot the sine function:\n",
            "metadata": {}
        },
        {
            "id": "583acd94",
            "cell_type": "code",
            "metadata": {},
            "execution_count": null,
            "source": "import matplotlib.pylab as plt\nx = np.linspace(-np.pi, np.pi, 201)\nplt.plot(x, np.sin(x))\nplt.xlabel('Angle [rad]')\nplt.ylabel('sin(x)')\nplt.axis('tight')\nplt.show()",
            "outputs": []
        }
    ]
}