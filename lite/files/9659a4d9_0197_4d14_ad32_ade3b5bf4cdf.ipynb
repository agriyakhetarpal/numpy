{
    "nbformat": 4,
    "nbformat_minor": 5,
    "metadata": {
        "kernelspec": {
            "display_name": "Python",
            "language": "python",
            "name": "python"
        },
        "language_info": {
            "name": "python"
        }
    },
    "cells": [
        {
            "id": "6a732e5b",
            "cell_type": "markdown",
            "source": "<div class='alert alert-warning'>\n\nNumPy's interactive examples are experimental and may not always work as expected, with high load times especially on low-resource platforms, and the version of NumPy might not be in sync with the one you are browsing the documentation for. If you encounter any issues, please report them on the [NumPy issue tracker](https://github.com/numpy/numpy/issues).\n\n</div>",
            "metadata": {}
        },
        {
            "id": "3621ef8a",
            "cell_type": "code",
            "metadata": {},
            "execution_count": null,
            "source": "import numpy as np\nfrom numpy import linalg as LA\na = np.arange(9) - 4\na",
            "outputs": [
                {
                    "output_type": "execute_result",
                    "metadata": {},
                    "data": {
                        "text/plain": "array([-4, -3, -2, ...,  2,  3,  4])"
                    },
                    "execution_count": null
                }
            ]
        },
        {
            "id": "7ac7f2bd",
            "cell_type": "code",
            "metadata": {},
            "execution_count": null,
            "source": "b = a.reshape((3, 3))\nb",
            "outputs": [
                {
                    "output_type": "execute_result",
                    "metadata": {},
                    "data": {
                        "text/plain": "array([[-4, -3, -2],\n       [-1,  0,  1],\n       [ 2,  3,  4]])"
                    },
                    "execution_count": null
                }
            ]
        },
        {
            "id": "70dc3846",
            "cell_type": "code",
            "metadata": {},
            "execution_count": null,
            "source": "LA.norm(a)",
            "outputs": [
                {
                    "output_type": "execute_result",
                    "metadata": {},
                    "data": {
                        "text/plain": "7.745966692414834"
                    },
                    "execution_count": null
                }
            ]
        },
        {
            "id": "01ad7511",
            "cell_type": "code",
            "metadata": {},
            "execution_count": null,
            "source": "LA.norm(b)",
            "outputs": [
                {
                    "output_type": "execute_result",
                    "metadata": {},
                    "data": {
                        "text/plain": "7.745966692414834"
                    },
                    "execution_count": null
                }
            ]
        },
        {
            "id": "a69d6e68",
            "cell_type": "code",
            "metadata": {},
            "execution_count": null,
            "source": "LA.norm(b, 'fro')",
            "outputs": [
                {
                    "output_type": "execute_result",
                    "metadata": {},
                    "data": {
                        "text/plain": "7.745966692414834"
                    },
                    "execution_count": null
                }
            ]
        },
        {
            "id": "9c0cf38d",
            "cell_type": "code",
            "metadata": {},
            "execution_count": null,
            "source": "LA.norm(a, np.inf)",
            "outputs": [
                {
                    "output_type": "execute_result",
                    "metadata": {},
                    "data": {
                        "text/plain": "4.0"
                    },
                    "execution_count": null
                }
            ]
        },
        {
            "id": "cc7d2105",
            "cell_type": "code",
            "metadata": {},
            "execution_count": null,
            "source": "LA.norm(b, np.inf)",
            "outputs": [
                {
                    "output_type": "execute_result",
                    "metadata": {},
                    "data": {
                        "text/plain": "9.0"
                    },
                    "execution_count": null
                }
            ]
        },
        {
            "id": "2fee79e0",
            "cell_type": "code",
            "metadata": {},
            "execution_count": null,
            "source": "LA.norm(a, -np.inf)",
            "outputs": [
                {
                    "output_type": "execute_result",
                    "metadata": {},
                    "data": {
                        "text/plain": "0.0"
                    },
                    "execution_count": null
                }
            ]
        },
        {
            "id": "68024d23",
            "cell_type": "code",
            "metadata": {},
            "execution_count": null,
            "source": "LA.norm(b, -np.inf)",
            "outputs": [
                {
                    "output_type": "execute_result",
                    "metadata": {},
                    "data": {
                        "text/plain": "2.0"
                    },
                    "execution_count": null
                }
            ]
        },
        {
            "id": "d001a65e",
            "cell_type": "code",
            "metadata": {},
            "execution_count": null,
            "source": "LA.norm(a, 1)",
            "outputs": [
                {
                    "output_type": "execute_result",
                    "metadata": {},
                    "data": {
                        "text/plain": "20.0"
                    },
                    "execution_count": null
                }
            ]
        },
        {
            "id": "07cc2cd6",
            "cell_type": "code",
            "metadata": {},
            "execution_count": null,
            "source": "LA.norm(b, 1)",
            "outputs": [
                {
                    "output_type": "execute_result",
                    "metadata": {},
                    "data": {
                        "text/plain": "7.0"
                    },
                    "execution_count": null
                }
            ]
        },
        {
            "id": "5c487ec6",
            "cell_type": "code",
            "metadata": {},
            "execution_count": null,
            "source": "LA.norm(a, -1)",
            "outputs": [
                {
                    "output_type": "execute_result",
                    "metadata": {},
                    "data": {
                        "text/plain": "-4.6566128774142013e-010"
                    },
                    "execution_count": null
                }
            ]
        },
        {
            "id": "20123cbc",
            "cell_type": "code",
            "metadata": {},
            "execution_count": null,
            "source": "LA.norm(b, -1)",
            "outputs": [
                {
                    "output_type": "execute_result",
                    "metadata": {},
                    "data": {
                        "text/plain": "6.0"
                    },
                    "execution_count": null
                }
            ]
        },
        {
            "id": "20b5781a",
            "cell_type": "code",
            "metadata": {},
            "execution_count": null,
            "source": "LA.norm(a, 2)",
            "outputs": [
                {
                    "output_type": "execute_result",
                    "metadata": {},
                    "data": {
                        "text/plain": "7.745966692414834"
                    },
                    "execution_count": null
                }
            ]
        },
        {
            "id": "fb767b6b",
            "cell_type": "code",
            "metadata": {},
            "execution_count": null,
            "source": "LA.norm(b, 2)",
            "outputs": [
                {
                    "output_type": "execute_result",
                    "metadata": {},
                    "data": {
                        "text/plain": "7.3484692283495345"
                    },
                    "execution_count": null
                }
            ]
        },
        {
            "id": "e346a92b",
            "cell_type": "code",
            "metadata": {},
            "execution_count": null,
            "source": "LA.norm(a, -2)",
            "outputs": [
                {
                    "output_type": "execute_result",
                    "metadata": {},
                    "data": {
                        "text/plain": "0.0"
                    },
                    "execution_count": null
                }
            ]
        },
        {
            "id": "8f15a38e",
            "cell_type": "code",
            "metadata": {},
            "execution_count": null,
            "source": "LA.norm(b, -2)",
            "outputs": [
                {
                    "output_type": "execute_result",
                    "metadata": {},
                    "data": {
                        "text/plain": "1.8570331885190563e-016 # may vary"
                    },
                    "execution_count": null
                }
            ]
        },
        {
            "id": "04efef55",
            "cell_type": "code",
            "metadata": {},
            "execution_count": null,
            "source": "LA.norm(a, 3)",
            "outputs": [
                {
                    "output_type": "execute_result",
                    "metadata": {},
                    "data": {
                        "text/plain": "5.8480354764257312 # may vary"
                    },
                    "execution_count": null
                }
            ]
        },
        {
            "id": "fe69a85e",
            "cell_type": "code",
            "metadata": {},
            "execution_count": null,
            "source": "LA.norm(a, -3)",
            "outputs": [
                {
                    "output_type": "execute_result",
                    "metadata": {},
                    "data": {
                        "text/plain": "0.0"
                    },
                    "execution_count": null
                }
            ]
        },
        {
            "id": "efb14c1f",
            "cell_type": "markdown",
            "source": "Using the `axis` argument to compute vector norms:\n",
            "metadata": {}
        },
        {
            "id": "c1fd3c2c",
            "cell_type": "code",
            "metadata": {},
            "execution_count": null,
            "source": "c = np.array([[ 1, 2, 3],\n              [-1, 1, 4]])\nLA.norm(c, axis=0)",
            "outputs": [
                {
                    "output_type": "execute_result",
                    "metadata": {},
                    "data": {
                        "text/plain": "array([ 1.41421356,  2.23606798,  5.        ])"
                    },
                    "execution_count": null
                }
            ]
        },
        {
            "id": "58224e55",
            "cell_type": "code",
            "metadata": {},
            "execution_count": null,
            "source": "LA.norm(c, axis=1)",
            "outputs": [
                {
                    "output_type": "execute_result",
                    "metadata": {},
                    "data": {
                        "text/plain": "array([ 3.74165739,  4.24264069])"
                    },
                    "execution_count": null
                }
            ]
        },
        {
            "id": "fd9385f6",
            "cell_type": "code",
            "metadata": {},
            "execution_count": null,
            "source": "LA.norm(c, ord=1, axis=1)",
            "outputs": [
                {
                    "output_type": "execute_result",
                    "metadata": {},
                    "data": {
                        "text/plain": "array([ 6.,  6.])"
                    },
                    "execution_count": null
                }
            ]
        },
        {
            "id": "7dfc760c",
            "cell_type": "markdown",
            "source": "Using the `axis` argument to compute matrix norms:\n",
            "metadata": {}
        },
        {
            "id": "91d69ff5",
            "cell_type": "code",
            "metadata": {},
            "execution_count": null,
            "source": "m = np.arange(8).reshape(2,2,2)\nLA.norm(m, axis=(1,2))",
            "outputs": [
                {
                    "output_type": "execute_result",
                    "metadata": {},
                    "data": {
                        "text/plain": "array([  3.74165739,  11.22497216])"
                    },
                    "execution_count": null
                }
            ]
        },
        {
            "id": "7d9e5aa5",
            "cell_type": "code",
            "metadata": {},
            "execution_count": null,
            "source": "LA.norm(m[0, :, :]), LA.norm(m[1, :, :])",
            "outputs": [
                {
                    "output_type": "execute_result",
                    "metadata": {},
                    "data": {
                        "text/plain": "(3.7416573867739413, 11.224972160321824)"
                    },
                    "execution_count": null
                }
            ]
        }
    ]
}