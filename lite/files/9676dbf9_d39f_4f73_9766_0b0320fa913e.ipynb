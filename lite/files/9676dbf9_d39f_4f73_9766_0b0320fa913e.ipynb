{
    "nbformat": 4,
    "nbformat_minor": 5,
    "metadata": {
        "kernelspec": {
            "display_name": "Python",
            "language": "python",
            "name": "python"
        },
        "language_info": {
            "name": "python"
        }
    },
    "cells": [
        {
            "id": "da730c27",
            "cell_type": "markdown",
            "source": "<div class='alert alert-warning'>\n\nNumPy's interactive examples are experimental and may not always work as expected, with high load times especially on low-resource platforms, and the version of NumPy might not be in sync with the one you are browsing the documentation for. If you encounter any issues, please report them on the [NumPy issue tracker](https://github.com/numpy/numpy/issues).\n\n</div>",
            "metadata": {}
        },
        {
            "id": "61c46615",
            "cell_type": "code",
            "metadata": {},
            "execution_count": null,
            "source": "import numpy as np\na = np.array([[2], [7], [23]], dtype=np.uint8)\na",
            "outputs": [
                {
                    "output_type": "execute_result",
                    "metadata": {},
                    "data": {
                        "text/plain": "array([[ 2],\n       [ 7],\n       [23]], dtype=uint8)"
                    },
                    "execution_count": null
                }
            ]
        },
        {
            "id": "a1893c48",
            "cell_type": "code",
            "metadata": {},
            "execution_count": null,
            "source": "b = np.unpackbits(a, axis=1)\nb",
            "outputs": [
                {
                    "output_type": "execute_result",
                    "metadata": {},
                    "data": {
                        "text/plain": "array([[0, 0, 0, 0, 0, 0, 1, 0],\n       [0, 0, 0, 0, 0, 1, 1, 1],\n       [0, 0, 0, 1, 0, 1, 1, 1]], dtype=uint8)"
                    },
                    "execution_count": null
                }
            ]
        },
        {
            "id": "5665bad2",
            "cell_type": "code",
            "metadata": {},
            "execution_count": null,
            "source": "c = np.unpackbits(a, axis=1, count=-3)\nc",
            "outputs": [
                {
                    "output_type": "execute_result",
                    "metadata": {},
                    "data": {
                        "text/plain": "array([[0, 0, 0, 0, 0],\n       [0, 0, 0, 0, 0],\n       [0, 0, 0, 1, 0]], dtype=uint8)"
                    },
                    "execution_count": null
                }
            ]
        },
        {
            "id": "1c8482ca",
            "cell_type": "code",
            "metadata": {},
            "execution_count": null,
            "source": "p = np.packbits(b, axis=0)\nnp.unpackbits(p, axis=0)",
            "outputs": [
                {
                    "output_type": "execute_result",
                    "metadata": {},
                    "data": {
                        "text/plain": "array([[0, 0, 0, 0, 0, 0, 1, 0],\n       [0, 0, 0, 0, 0, 1, 1, 1],\n       [0, 0, 0, 1, 0, 1, 1, 1],\n       [0, 0, 0, 0, 0, 0, 0, 0],\n       [0, 0, 0, 0, 0, 0, 0, 0],\n       [0, 0, 0, 0, 0, 0, 0, 0],\n       [0, 0, 0, 0, 0, 0, 0, 0],\n       [0, 0, 0, 0, 0, 0, 0, 0]], dtype=uint8)"
                    },
                    "execution_count": null
                }
            ]
        },
        {
            "id": "6fdb9561",
            "cell_type": "code",
            "metadata": {},
            "execution_count": null,
            "source": "np.array_equal(b, np.unpackbits(p, axis=0, count=b.shape[0]))",
            "outputs": [
                {
                    "output_type": "execute_result",
                    "metadata": {},
                    "data": {
                        "text/plain": "True"
                    },
                    "execution_count": null
                }
            ]
        }
    ]
}