{
    "nbformat": 4,
    "nbformat_minor": 5,
    "metadata": {
        "kernelspec": {
            "display_name": "Python",
            "language": "python",
            "name": "python"
        },
        "language_info": {
            "name": "python"
        }
    },
    "cells": [
        {
            "id": "fb1105fc",
            "cell_type": "markdown",
            "source": "<div class='alert alert-warning'>\n\nNumPy's interactive examples are experimental and may not always work as expected, with high load times especially on low-resource platforms, and the version of NumPy might not be in sync with the one you are browsing the documentation for. If you encounter any issues, please report them on the [NumPy issue tracker](https://github.com/numpy/numpy/issues).\n\n</div>",
            "metadata": {}
        },
        {
            "id": "d011cdcb",
            "cell_type": "code",
            "metadata": {},
            "execution_count": null,
            "source": "import numpy as np\nnp.polyval([3,0,1], 5)  # 3 * 5**2 + 0 * 5**1 + 1",
            "outputs": [
                {
                    "output_type": "execute_result",
                    "metadata": {},
                    "data": {
                        "text/plain": "76"
                    },
                    "execution_count": null
                }
            ]
        },
        {
            "id": "74328704",
            "cell_type": "code",
            "metadata": {},
            "execution_count": null,
            "source": "np.polyval([3,0,1], np.poly1d(5))",
            "outputs": [
                {
                    "output_type": "execute_result",
                    "metadata": {},
                    "data": {
                        "text/plain": "poly1d([76])"
                    },
                    "execution_count": null
                }
            ]
        },
        {
            "id": "33370a10",
            "cell_type": "code",
            "metadata": {},
            "execution_count": null,
            "source": "np.polyval(np.poly1d([3,0,1]), 5)",
            "outputs": [
                {
                    "output_type": "execute_result",
                    "metadata": {},
                    "data": {
                        "text/plain": "76"
                    },
                    "execution_count": null
                }
            ]
        },
        {
            "id": "af40552d",
            "cell_type": "code",
            "metadata": {},
            "execution_count": null,
            "source": "np.polyval(np.poly1d([3,0,1]), np.poly1d(5))",
            "outputs": [
                {
                    "output_type": "execute_result",
                    "metadata": {},
                    "data": {
                        "text/plain": "poly1d([76])"
                    },
                    "execution_count": null
                }
            ]
        }
    ]
}