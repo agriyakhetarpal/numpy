{
    "nbformat": 4,
    "nbformat_minor": 5,
    "metadata": {
        "kernelspec": {
            "display_name": "Python",
            "language": "python",
            "name": "python"
        },
        "language_info": {
            "name": "python"
        }
    },
    "cells": [
        {
            "id": "3ed0ce4c",
            "cell_type": "markdown",
            "source": "<div class='alert alert-warning'>\n\nNumPy's interactive examples are experimental and may not always work as expected, with high load times especially on low-resource platforms, and the version of NumPy might not be in sync with the one you are browsing the documentation for. If you encounter any issues, please report them on the [NumPy issue tracker](https://github.com/numpy/numpy/issues).\n\n</div>",
            "metadata": {}
        },
        {
            "id": "73628e1c",
            "cell_type": "markdown",
            "source": "Generate a uniform random sample from np.arange(5) of size 3:\n",
            "metadata": {}
        },
        {
            "id": "362fbeb5",
            "cell_type": "code",
            "metadata": {},
            "execution_count": null,
            "source": "np.random.choice(5, 3)",
            "outputs": [
                {
                    "output_type": "execute_result",
                    "metadata": {},
                    "data": {
                        "text/plain": "array([0, 3, 4]) # random"
                    },
                    "execution_count": null
                }
            ]
        },
        {
            "id": "33ee17b7",
            "cell_type": "code",
            "metadata": {},
            "execution_count": null,
            "source": "#This is equivalent to np.random.randint(0,5,3)",
            "outputs": []
        },
        {
            "id": "18dfc900",
            "cell_type": "markdown",
            "source": "Generate a non-uniform random sample from np.arange(5) of size 3:\n",
            "metadata": {}
        },
        {
            "id": "c227e789",
            "cell_type": "code",
            "metadata": {},
            "execution_count": null,
            "source": "np.random.choice(5, 3, p=[0.1, 0, 0.3, 0.6, 0])",
            "outputs": [
                {
                    "output_type": "execute_result",
                    "metadata": {},
                    "data": {
                        "text/plain": "array([3, 3, 0]) # random"
                    },
                    "execution_count": null
                }
            ]
        },
        {
            "id": "301514fd",
            "cell_type": "markdown",
            "source": "Generate a uniform random sample from np.arange(5) of size 3 without\nreplacement:\n",
            "metadata": {}
        },
        {
            "id": "05e8b273",
            "cell_type": "code",
            "metadata": {},
            "execution_count": null,
            "source": "np.random.choice(5, 3, replace=False)",
            "outputs": [
                {
                    "output_type": "execute_result",
                    "metadata": {},
                    "data": {
                        "text/plain": "array([3,1,0]) # random"
                    },
                    "execution_count": null
                }
            ]
        },
        {
            "id": "a7225f6b",
            "cell_type": "code",
            "metadata": {},
            "execution_count": null,
            "source": "#This is equivalent to np.random.permutation(np.arange(5))[:3]",
            "outputs": []
        },
        {
            "id": "945dd1ea",
            "cell_type": "markdown",
            "source": "Generate a non-uniform random sample from np.arange(5) of size\n3 without replacement:\n",
            "metadata": {}
        },
        {
            "id": "31a7d57e",
            "cell_type": "code",
            "metadata": {},
            "execution_count": null,
            "source": "np.random.choice(5, 3, replace=False, p=[0.1, 0, 0.3, 0.6, 0])",
            "outputs": [
                {
                    "output_type": "execute_result",
                    "metadata": {},
                    "data": {
                        "text/plain": "array([2, 3, 0]) # random"
                    },
                    "execution_count": null
                }
            ]
        },
        {
            "id": "67ba063e",
            "cell_type": "markdown",
            "source": "Any of the above can be repeated with an arbitrary array-like\ninstead of just integers. For instance:\n",
            "metadata": {}
        },
        {
            "id": "85024ae1",
            "cell_type": "code",
            "metadata": {},
            "execution_count": null,
            "source": "aa_milne_arr = ['pooh', 'rabbit', 'piglet', 'Christopher']\nnp.random.choice(aa_milne_arr, 5, p=[0.5, 0.1, 0.1, 0.3])",
            "outputs": [
                {
                    "output_type": "execute_result",
                    "metadata": {},
                    "data": {
                        "text/plain": "array(['pooh', 'pooh', 'pooh', 'Christopher', 'piglet'], # random\n      dtype='<U11')"
                    },
                    "execution_count": null
                }
            ]
        }
    ]
}