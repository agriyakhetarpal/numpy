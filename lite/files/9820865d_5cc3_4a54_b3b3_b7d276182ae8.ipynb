{
    "nbformat": 4,
    "nbformat_minor": 5,
    "metadata": {
        "kernelspec": {
            "display_name": "Python",
            "language": "python",
            "name": "python"
        },
        "language_info": {
            "name": "python"
        }
    },
    "cells": [
        {
            "id": "f678c91b",
            "cell_type": "markdown",
            "source": "<div class='alert alert-warning'>\n\nNumPy's interactive examples are experimental and may not always work as expected, with high load times especially on low-resource platforms, and the version of NumPy might not be in sync with the one you are browsing the documentation for. If you encounter any issues, please report them on the [NumPy issue tracker](https://github.com/numpy/numpy/issues).\n\n</div>",
            "metadata": {}
        },
        {
            "id": "52618ee2",
            "cell_type": "code",
            "metadata": {},
            "execution_count": null,
            "source": "import numpy as np\nnp.hypot(3*np.ones((3, 3)), 4*np.ones((3, 3)))",
            "outputs": [
                {
                    "output_type": "execute_result",
                    "metadata": {},
                    "data": {
                        "text/plain": "array([[ 5.,  5.,  5.],\n       [ 5.,  5.,  5.],\n       [ 5.,  5.,  5.]])"
                    },
                    "execution_count": null
                }
            ]
        },
        {
            "id": "d628cf73",
            "cell_type": "markdown",
            "source": "Example showing broadcast of scalar_like argument:\n",
            "metadata": {}
        },
        {
            "id": "af647b5f",
            "cell_type": "code",
            "metadata": {},
            "execution_count": null,
            "source": "np.hypot(3*np.ones((3, 3)), [4])",
            "outputs": [
                {
                    "output_type": "execute_result",
                    "metadata": {},
                    "data": {
                        "text/plain": "array([[ 5.,  5.,  5.],\n       [ 5.,  5.,  5.],\n       [ 5.,  5.,  5.]])"
                    },
                    "execution_count": null
                }
            ]
        }
    ]
}