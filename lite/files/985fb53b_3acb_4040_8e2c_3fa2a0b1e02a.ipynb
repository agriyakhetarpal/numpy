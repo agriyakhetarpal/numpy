{
    "nbformat": 4,
    "nbformat_minor": 5,
    "metadata": {
        "kernelspec": {
            "display_name": "Python",
            "language": "python",
            "name": "python"
        },
        "language_info": {
            "name": "python"
        }
    },
    "cells": [
        {
            "id": "40959c81",
            "cell_type": "markdown",
            "source": "<div class='alert alert-warning'>\n\nNumPy's interactive examples are experimental and may not always work as expected, with high load times especially on low-resource platforms, and the version of NumPy might not be in sync with the one you are browsing the documentation for. If you encounter any issues, please report them on the [NumPy issue tracker](https://github.com/numpy/numpy/issues).\n\n</div>",
            "metadata": {}
        },
        {
            "id": "4367da43",
            "cell_type": "markdown",
            "source": "Using array-scalar type:\n",
            "metadata": {}
        },
        {
            "id": "f617e62c",
            "cell_type": "code",
            "metadata": {},
            "execution_count": null,
            "source": "import numpy as np\nnp.dtype(np.int16)",
            "outputs": [
                {
                    "output_type": "execute_result",
                    "metadata": {},
                    "data": {
                        "text/plain": "dtype('int16')"
                    },
                    "execution_count": null
                }
            ]
        },
        {
            "id": "a2b398f7",
            "cell_type": "markdown",
            "source": "Structured type, one field name 'f1', containing int16:\n",
            "metadata": {}
        },
        {
            "id": "6b756855",
            "cell_type": "code",
            "metadata": {},
            "execution_count": null,
            "source": "np.dtype([('f1', np.int16)])",
            "outputs": [
                {
                    "output_type": "execute_result",
                    "metadata": {},
                    "data": {
                        "text/plain": "dtype([('f1', '<i2')])"
                    },
                    "execution_count": null
                }
            ]
        },
        {
            "id": "d57ea5f1",
            "cell_type": "markdown",
            "source": "Structured type, one field named 'f1', in itself containing a structured\ntype with one field:\n",
            "metadata": {}
        },
        {
            "id": "dd42ebf2",
            "cell_type": "code",
            "metadata": {},
            "execution_count": null,
            "source": "np.dtype([('f1', [('f1', np.int16)])])",
            "outputs": [
                {
                    "output_type": "execute_result",
                    "metadata": {},
                    "data": {
                        "text/plain": "dtype([('f1', [('f1', '<i2')])])"
                    },
                    "execution_count": null
                }
            ]
        },
        {
            "id": "663777b0",
            "cell_type": "markdown",
            "source": "Structured type, two fields: the first field contains an unsigned int, the\nsecond an int32:\n",
            "metadata": {}
        },
        {
            "id": "5cceadbc",
            "cell_type": "code",
            "metadata": {},
            "execution_count": null,
            "source": "np.dtype([('f1', np.uint64), ('f2', np.int32)])",
            "outputs": [
                {
                    "output_type": "execute_result",
                    "metadata": {},
                    "data": {
                        "text/plain": "dtype([('f1', '<u8'), ('f2', '<i4')])"
                    },
                    "execution_count": null
                }
            ]
        },
        {
            "id": "528cb96f",
            "cell_type": "markdown",
            "source": "Using array-protocol type strings:\n",
            "metadata": {}
        },
        {
            "id": "ecb952d9",
            "cell_type": "code",
            "metadata": {},
            "execution_count": null,
            "source": "np.dtype([('a','f8'),('b','S10')])",
            "outputs": [
                {
                    "output_type": "execute_result",
                    "metadata": {},
                    "data": {
                        "text/plain": "dtype([('a', '<f8'), ('b', 'S10')])"
                    },
                    "execution_count": null
                }
            ]
        },
        {
            "id": "3f1db2fe",
            "cell_type": "markdown",
            "source": "Using comma-separated field formats.  The shape is (2,3):\n",
            "metadata": {}
        },
        {
            "id": "eb59f173",
            "cell_type": "code",
            "metadata": {},
            "execution_count": null,
            "source": "np.dtype(\"i4, (2,3)f8\")",
            "outputs": [
                {
                    "output_type": "execute_result",
                    "metadata": {},
                    "data": {
                        "text/plain": "dtype([('f0', '<i4'), ('f1', '<f8', (2, 3))])"
                    },
                    "execution_count": null
                }
            ]
        },
        {
            "id": "002dc68f",
            "cell_type": "markdown",
            "source": "Using tuples.  ``int`` is a fixed type, 3 the field's shape.  ``void``\nis a flexible type, here of size 10:\n",
            "metadata": {}
        },
        {
            "id": "9a064db0",
            "cell_type": "code",
            "metadata": {},
            "execution_count": null,
            "source": "np.dtype([('hello',(np.int64,3)),('world',np.void,10)])",
            "outputs": [
                {
                    "output_type": "execute_result",
                    "metadata": {},
                    "data": {
                        "text/plain": "dtype([('hello', '<i8', (3,)), ('world', 'V10')])"
                    },
                    "execution_count": null
                }
            ]
        },
        {
            "id": "553e19f2",
            "cell_type": "markdown",
            "source": "Subdivide ``int16`` into 2 ``int8``'s, called x and y.  0 and 1 are\nthe offsets in bytes:\n",
            "metadata": {}
        },
        {
            "id": "6e31cd73",
            "cell_type": "code",
            "metadata": {},
            "execution_count": null,
            "source": "np.dtype((np.int16, {'x':(np.int8,0), 'y':(np.int8,1)}))",
            "outputs": [
                {
                    "output_type": "execute_result",
                    "metadata": {},
                    "data": {
                        "text/plain": "dtype((numpy.int16, [('x', 'i1'), ('y', 'i1')]))"
                    },
                    "execution_count": null
                }
            ]
        },
        {
            "id": "88859f26",
            "cell_type": "markdown",
            "source": "Using dictionaries.  Two fields named 'gender' and 'age':\n",
            "metadata": {}
        },
        {
            "id": "1d752ed4",
            "cell_type": "code",
            "metadata": {},
            "execution_count": null,
            "source": "np.dtype({'names':['gender','age'], 'formats':['S1',np.uint8]})",
            "outputs": [
                {
                    "output_type": "execute_result",
                    "metadata": {},
                    "data": {
                        "text/plain": "dtype([('gender', 'S1'), ('age', 'u1')])"
                    },
                    "execution_count": null
                }
            ]
        },
        {
            "id": "0cd29680",
            "cell_type": "markdown",
            "source": "Offsets in bytes, here 0 and 25:\n",
            "metadata": {}
        },
        {
            "id": "a9795a05",
            "cell_type": "code",
            "metadata": {},
            "execution_count": null,
            "source": "np.dtype({'surname':('S25',0),'age':(np.uint8,25)})",
            "outputs": [
                {
                    "output_type": "execute_result",
                    "metadata": {},
                    "data": {
                        "text/plain": "dtype([('surname', 'S25'), ('age', 'u1')])"
                    },
                    "execution_count": null
                }
            ]
        }
    ]
}