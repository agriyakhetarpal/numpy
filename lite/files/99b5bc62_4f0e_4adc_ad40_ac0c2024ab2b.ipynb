{
    "nbformat": 4,
    "nbformat_minor": 5,
    "metadata": {
        "kernelspec": {
            "display_name": "Python",
            "language": "python",
            "name": "python"
        },
        "language_info": {
            "name": "python"
        }
    },
    "cells": [
        {
            "id": "85b88025",
            "cell_type": "markdown",
            "source": "<div class='alert alert-warning'>\n\nNumPy's interactive examples are experimental and may not always work as expected, with high load times especially on low-resource platforms, and the version of NumPy might not be in sync with the one you are browsing the documentation for. If you encounter any issues, please report them on the [NumPy issue tracker](https://github.com/numpy/numpy/issues).\n\n</div>",
            "metadata": {}
        },
        {
            "id": "f41a3bde",
            "cell_type": "code",
            "metadata": {},
            "execution_count": null,
            "source": "import numpy as np\na = np.array([[10, 7, 4], [3, 2, 1]])\na",
            "outputs": [
                {
                    "output_type": "execute_result",
                    "metadata": {},
                    "data": {
                        "text/plain": "array([[10,  7,  4],\n       [ 3,  2,  1]])"
                    },
                    "execution_count": null
                }
            ]
        },
        {
            "id": "e3b706fd",
            "cell_type": "code",
            "metadata": {},
            "execution_count": null,
            "source": "np.quantile(a, 0.5)",
            "outputs": [
                {
                    "output_type": "execute_result",
                    "metadata": {},
                    "data": {
                        "text/plain": "3.5"
                    },
                    "execution_count": null
                }
            ]
        },
        {
            "id": "74d32cae",
            "cell_type": "code",
            "metadata": {},
            "execution_count": null,
            "source": "np.quantile(a, 0.5, axis=0)",
            "outputs": [
                {
                    "output_type": "execute_result",
                    "metadata": {},
                    "data": {
                        "text/plain": "array([6.5, 4.5, 2.5])"
                    },
                    "execution_count": null
                }
            ]
        },
        {
            "id": "840a1562",
            "cell_type": "code",
            "metadata": {},
            "execution_count": null,
            "source": "np.quantile(a, 0.5, axis=1)",
            "outputs": [
                {
                    "output_type": "execute_result",
                    "metadata": {},
                    "data": {
                        "text/plain": "array([7.,  2.])"
                    },
                    "execution_count": null
                }
            ]
        },
        {
            "id": "d95f9a7f",
            "cell_type": "code",
            "metadata": {},
            "execution_count": null,
            "source": "np.quantile(a, 0.5, axis=1, keepdims=True)",
            "outputs": [
                {
                    "output_type": "execute_result",
                    "metadata": {},
                    "data": {
                        "text/plain": "array([[7.],\n       [2.]])"
                    },
                    "execution_count": null
                }
            ]
        },
        {
            "id": "159cdeb3",
            "cell_type": "code",
            "metadata": {},
            "execution_count": null,
            "source": "m = np.quantile(a, 0.5, axis=0)\nout = np.zeros_like(m)\nnp.quantile(a, 0.5, axis=0, out=out)",
            "outputs": [
                {
                    "output_type": "execute_result",
                    "metadata": {},
                    "data": {
                        "text/plain": "array([6.5, 4.5, 2.5])"
                    },
                    "execution_count": null
                }
            ]
        },
        {
            "id": "39509e56",
            "cell_type": "code",
            "metadata": {},
            "execution_count": null,
            "source": "m",
            "outputs": [
                {
                    "output_type": "execute_result",
                    "metadata": {},
                    "data": {
                        "text/plain": "array([6.5, 4.5, 2.5])"
                    },
                    "execution_count": null
                }
            ]
        },
        {
            "id": "b30d2a35",
            "cell_type": "code",
            "metadata": {},
            "execution_count": null,
            "source": "b = a.copy()\nnp.quantile(b, 0.5, axis=1, overwrite_input=True)",
            "outputs": [
                {
                    "output_type": "execute_result",
                    "metadata": {},
                    "data": {
                        "text/plain": "array([7.,  2.])"
                    },
                    "execution_count": null
                }
            ]
        },
        {
            "id": "7becb1d7",
            "cell_type": "code",
            "metadata": {},
            "execution_count": null,
            "source": "assert not np.all(a == b)",
            "outputs": []
        },
        {
            "id": "6a759060",
            "cell_type": "markdown",
            "source": "See also `numpy.percentile` for a visualization of most methods.",
            "metadata": {}
        }
    ]
}