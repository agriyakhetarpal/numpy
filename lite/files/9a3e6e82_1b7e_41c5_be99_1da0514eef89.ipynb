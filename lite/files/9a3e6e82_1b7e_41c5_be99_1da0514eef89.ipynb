{
    "nbformat": 4,
    "nbformat_minor": 5,
    "metadata": {
        "kernelspec": {
            "display_name": "Python",
            "language": "python",
            "name": "python"
        },
        "language_info": {
            "name": "python"
        }
    },
    "cells": [
        {
            "id": "27d476b6",
            "cell_type": "markdown",
            "source": "<div class='alert alert-warning'>\n\nNumPy's interactive examples are experimental and may not always work as expected, with high load times especially on low-resource platforms, , and the version of NumPy might not be in sync with the one you are browsing the documentation for. If you encounter any issues, please report them on the [NumPy issue tracker](https://github.com/numpy/numpy/issues).\n\n</div>",
            "metadata": {}
        },
        {
            "id": "4c5a95d1",
            "cell_type": "code",
            "metadata": {},
            "execution_count": null,
            "source": "from numpy import polynomial as P\nc = P.Legendre(range(4))\nc",
            "outputs": [
                {
                    "output_type": "execute_result",
                    "metadata": {},
                    "data": {
                        "text/plain": "Legendre([0., 1., 2., 3.], domain=[-1.,  1.], window=[-1.,  1.], symbol='x')"
                    },
                    "execution_count": null
                }
            ]
        },
        {
            "id": "e710ef0e",
            "cell_type": "code",
            "metadata": {},
            "execution_count": null,
            "source": "p = c.convert(kind=P.Polynomial)\np",
            "outputs": [
                {
                    "output_type": "execute_result",
                    "metadata": {},
                    "data": {
                        "text/plain": "Polynomial([-1. , -3.5,  3. ,  7.5], domain=[-1.,  1.], window=[-1., ..."
                    },
                    "execution_count": null
                }
            ]
        },
        {
            "id": "afbe4f41",
            "cell_type": "code",
            "metadata": {},
            "execution_count": null,
            "source": "P.legendre.leg2poly(range(4))",
            "outputs": [
                {
                    "output_type": "execute_result",
                    "metadata": {},
                    "data": {
                        "text/plain": "array([-1. , -3.5,  3. ,  7.5])"
                    },
                    "execution_count": null
                }
            ]
        }
    ]
}