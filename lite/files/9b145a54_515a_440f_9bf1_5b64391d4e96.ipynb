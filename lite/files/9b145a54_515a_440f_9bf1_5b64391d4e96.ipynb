{
    "nbformat": 4,
    "nbformat_minor": 5,
    "metadata": {
        "kernelspec": {
            "display_name": "Python",
            "language": "python",
            "name": "python"
        },
        "language_info": {
            "name": "python"
        }
    },
    "cells": [
        {
            "id": "7fcdea9e",
            "cell_type": "markdown",
            "source": "<div class='alert alert-warning'>\n\nNumPy's interactive examples are experimental and may not always work as expected, with high load times especially on low-resource platforms, , and the version of NumPy might not be in sync with the one you are browsing the documentation for. If you encounter any issues, please report them on the [NumPy issue tracker](https://github.com/numpy/numpy/issues).\n\n</div>",
            "metadata": {}
        },
        {
            "id": "37ff014d",
            "cell_type": "markdown",
            "source": "Draw samples from the distribution:\n",
            "metadata": {}
        },
        {
            "id": "288e6ce0",
            "cell_type": "code",
            "metadata": {},
            "execution_count": null,
            "source": "a = 5. # shape\nsamples = 1000\ns = np.random.power(a, samples)",
            "outputs": []
        },
        {
            "id": "11813f03",
            "cell_type": "markdown",
            "source": "Display the histogram of the samples, along with\nthe probability density function:\n",
            "metadata": {}
        },
        {
            "id": "720d123c",
            "cell_type": "code",
            "metadata": {},
            "execution_count": null,
            "source": "import matplotlib.pyplot as plt\ncount, bins, ignored = plt.hist(s, bins=30)\nx = np.linspace(0, 1, 100)\ny = a*x**(a-1.)\nnormed_y = samples*np.diff(bins)[0]*y\nplt.plot(x, normed_y)\nplt.show()",
            "outputs": []
        },
        {
            "id": "f9cc15aa",
            "cell_type": "markdown",
            "source": "Compare the power function distribution to the inverse of the Pareto.\n",
            "metadata": {}
        },
        {
            "id": "fb6da9a3",
            "cell_type": "code",
            "metadata": {},
            "execution_count": null,
            "source": "from scipy import stats # doctest: +SKIP\nrvs = np.random.power(5, 1000000)\nrvsp = np.random.pareto(5, 1000000)\nxx = np.linspace(0,1,100)\npowpdf = stats.powerlaw.pdf(xx,5)  # doctest: +SKIP",
            "outputs": []
        },
        {
            "id": "93c95027",
            "cell_type": "code",
            "metadata": {},
            "execution_count": null,
            "source": "plt.figure()\nplt.hist(rvs, bins=50, density=True)\nplt.plot(xx,powpdf,'r-')  # doctest: +SKIP\nplt.title('np.random.power(5)')",
            "outputs": []
        },
        {
            "id": "14ade5b3",
            "cell_type": "code",
            "metadata": {},
            "execution_count": null,
            "source": "plt.figure()\nplt.hist(1./(1.+rvsp), bins=50, density=True)\nplt.plot(xx,powpdf,'r-')  # doctest: +SKIP\nplt.title('inverse of 1 + np.random.pareto(5)')",
            "outputs": []
        },
        {
            "id": "8fda155a",
            "cell_type": "code",
            "metadata": {},
            "execution_count": null,
            "source": "plt.figure()\nplt.hist(1./(1.+rvsp), bins=50, density=True)\nplt.plot(xx,powpdf,'r-')  # doctest: +SKIP\nplt.title('inverse of stats.pareto(5)')",
            "outputs": []
        }
    ]
}