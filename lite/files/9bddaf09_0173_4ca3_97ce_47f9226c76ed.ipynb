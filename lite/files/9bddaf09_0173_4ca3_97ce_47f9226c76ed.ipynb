{
    "nbformat": 4,
    "nbformat_minor": 5,
    "metadata": {
        "kernelspec": {
            "display_name": "Python",
            "language": "python",
            "name": "python"
        },
        "language_info": {
            "name": "python"
        }
    },
    "cells": [
        {
            "id": "fb082f2f",
            "cell_type": "markdown",
            "source": "<div class='alert alert-warning'>\n\nNumPy's interactive examples are experimental and may not always work as expected, with high load times especially on low-resource platforms, and the version of NumPy might not be in sync with the one you are browsing the documentation for. If you encounter any issues, please report them on the [NumPy issue tracker](https://github.com/numpy/numpy/issues).\n\n</div>",
            "metadata": {}
        },
        {
            "id": "0522760a",
            "cell_type": "markdown",
            "source": "Generate a uniform random sample from np.arange(5) of size 3:\n",
            "metadata": {}
        },
        {
            "id": "93f34429",
            "cell_type": "code",
            "metadata": {},
            "execution_count": null,
            "source": "np.random.choice(5, 3)",
            "outputs": [
                {
                    "output_type": "execute_result",
                    "metadata": {},
                    "data": {
                        "text/plain": "array([0, 3, 4]) # random"
                    },
                    "execution_count": null
                }
            ]
        },
        {
            "id": "1ad28783",
            "cell_type": "code",
            "metadata": {},
            "execution_count": null,
            "source": "#This is equivalent to np.random.randint(0,5,3)",
            "outputs": []
        },
        {
            "id": "5353e4a6",
            "cell_type": "markdown",
            "source": "Generate a non-uniform random sample from np.arange(5) of size 3:\n",
            "metadata": {}
        },
        {
            "id": "2c02df83",
            "cell_type": "code",
            "metadata": {},
            "execution_count": null,
            "source": "np.random.choice(5, 3, p=[0.1, 0, 0.3, 0.6, 0])",
            "outputs": [
                {
                    "output_type": "execute_result",
                    "metadata": {},
                    "data": {
                        "text/plain": "array([3, 3, 0]) # random"
                    },
                    "execution_count": null
                }
            ]
        },
        {
            "id": "f5ace272",
            "cell_type": "markdown",
            "source": "Generate a uniform random sample from np.arange(5) of size 3 without\nreplacement:\n",
            "metadata": {}
        },
        {
            "id": "1c27151d",
            "cell_type": "code",
            "metadata": {},
            "execution_count": null,
            "source": "np.random.choice(5, 3, replace=False)",
            "outputs": [
                {
                    "output_type": "execute_result",
                    "metadata": {},
                    "data": {
                        "text/plain": "array([3,1,0]) # random"
                    },
                    "execution_count": null
                }
            ]
        },
        {
            "id": "2565a472",
            "cell_type": "code",
            "metadata": {},
            "execution_count": null,
            "source": "#This is equivalent to np.random.permutation(np.arange(5))[:3]",
            "outputs": []
        },
        {
            "id": "1071963c",
            "cell_type": "markdown",
            "source": "Generate a non-uniform random sample from np.arange(5) of size\n3 without replacement:\n",
            "metadata": {}
        },
        {
            "id": "ade6a3e3",
            "cell_type": "code",
            "metadata": {},
            "execution_count": null,
            "source": "np.random.choice(5, 3, replace=False, p=[0.1, 0, 0.3, 0.6, 0])",
            "outputs": [
                {
                    "output_type": "execute_result",
                    "metadata": {},
                    "data": {
                        "text/plain": "array([2, 3, 0]) # random"
                    },
                    "execution_count": null
                }
            ]
        },
        {
            "id": "8d3453df",
            "cell_type": "markdown",
            "source": "Any of the above can be repeated with an arbitrary array-like\ninstead of just integers. For instance:\n",
            "metadata": {}
        },
        {
            "id": "5304976a",
            "cell_type": "code",
            "metadata": {},
            "execution_count": null,
            "source": "aa_milne_arr = ['pooh', 'rabbit', 'piglet', 'Christopher']\nnp.random.choice(aa_milne_arr, 5, p=[0.5, 0.1, 0.1, 0.3])",
            "outputs": [
                {
                    "output_type": "execute_result",
                    "metadata": {},
                    "data": {
                        "text/plain": "array(['pooh', 'pooh', 'pooh', 'Christopher', 'piglet'], # random\n      dtype='<U11')"
                    },
                    "execution_count": null
                }
            ]
        }
    ]
}