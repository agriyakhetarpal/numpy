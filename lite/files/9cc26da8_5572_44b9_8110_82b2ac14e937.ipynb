{
    "nbformat": 4,
    "nbformat_minor": 5,
    "metadata": {
        "kernelspec": {
            "display_name": "Python",
            "language": "python",
            "name": "python"
        },
        "language_info": {
            "name": "python"
        }
    },
    "cells": [
        {
            "id": "4de4ff81",
            "cell_type": "markdown",
            "source": "<div class='alert alert-warning'>\n\nNumPy's interactive examples are experimental and may not always work as expected, with high load times especially on low-resource platforms, , and the version of NumPy might not be in sync with the one you are browsing the documentation for. If you encounter any issues, please report them on the [NumPy issue tracker](https://github.com/numpy/numpy/issues).\n\n</div>",
            "metadata": {}
        },
        {
            "id": "ce3fa449",
            "cell_type": "code",
            "metadata": {},
            "execution_count": null,
            "source": "import numpy as np\nnp.unique([1, 1, 2, 2, 3, 3])",
            "outputs": [
                {
                    "output_type": "execute_result",
                    "metadata": {},
                    "data": {
                        "text/plain": "array([1, 2, 3])"
                    },
                    "execution_count": null
                }
            ]
        },
        {
            "id": "633127d1",
            "cell_type": "code",
            "metadata": {},
            "execution_count": null,
            "source": "a = np.array([[1, 1], [2, 3]])\nnp.unique(a)",
            "outputs": [
                {
                    "output_type": "execute_result",
                    "metadata": {},
                    "data": {
                        "text/plain": "array([1, 2, 3])"
                    },
                    "execution_count": null
                }
            ]
        },
        {
            "id": "68955686",
            "cell_type": "markdown",
            "source": "Return the unique rows of a 2D array\n",
            "metadata": {}
        },
        {
            "id": "94483f7d",
            "cell_type": "code",
            "metadata": {},
            "execution_count": null,
            "source": "a = np.array([[1, 0, 0], [1, 0, 0], [2, 3, 4]])\nnp.unique(a, axis=0)",
            "outputs": [
                {
                    "output_type": "execute_result",
                    "metadata": {},
                    "data": {
                        "text/plain": "array([[1, 0, 0], [2, 3, 4]])"
                    },
                    "execution_count": null
                }
            ]
        },
        {
            "id": "5a3508dd",
            "cell_type": "markdown",
            "source": "Return the indices of the original array that give the unique values:\n",
            "metadata": {}
        },
        {
            "id": "25ee87ca",
            "cell_type": "code",
            "metadata": {},
            "execution_count": null,
            "source": "a = np.array(['a', 'b', 'b', 'c', 'a'])\nu, indices = np.unique(a, return_index=True)\nu",
            "outputs": [
                {
                    "output_type": "execute_result",
                    "metadata": {},
                    "data": {
                        "text/plain": "array(['a', 'b', 'c'], dtype='<U1')"
                    },
                    "execution_count": null
                }
            ]
        },
        {
            "id": "57d64009",
            "cell_type": "code",
            "metadata": {},
            "execution_count": null,
            "source": "indices",
            "outputs": [
                {
                    "output_type": "execute_result",
                    "metadata": {},
                    "data": {
                        "text/plain": "array([0, 1, 3])"
                    },
                    "execution_count": null
                }
            ]
        },
        {
            "id": "812d5901",
            "cell_type": "code",
            "metadata": {},
            "execution_count": null,
            "source": "a[indices]",
            "outputs": [
                {
                    "output_type": "execute_result",
                    "metadata": {},
                    "data": {
                        "text/plain": "array(['a', 'b', 'c'], dtype='<U1')"
                    },
                    "execution_count": null
                }
            ]
        },
        {
            "id": "f2989098",
            "cell_type": "markdown",
            "source": "Reconstruct the input array from the unique values and inverse:\n",
            "metadata": {}
        },
        {
            "id": "9783ea2c",
            "cell_type": "code",
            "metadata": {},
            "execution_count": null,
            "source": "a = np.array([1, 2, 6, 4, 2, 3, 2])\nu, indices = np.unique(a, return_inverse=True)\nu",
            "outputs": [
                {
                    "output_type": "execute_result",
                    "metadata": {},
                    "data": {
                        "text/plain": "array([1, 2, 3, 4, 6])"
                    },
                    "execution_count": null
                }
            ]
        },
        {
            "id": "356fdb33",
            "cell_type": "code",
            "metadata": {},
            "execution_count": null,
            "source": "indices",
            "outputs": [
                {
                    "output_type": "execute_result",
                    "metadata": {},
                    "data": {
                        "text/plain": "array([0, 1, 4, 3, 1, 2, 1])"
                    },
                    "execution_count": null
                }
            ]
        },
        {
            "id": "9643d908",
            "cell_type": "code",
            "metadata": {},
            "execution_count": null,
            "source": "u[indices]",
            "outputs": [
                {
                    "output_type": "execute_result",
                    "metadata": {},
                    "data": {
                        "text/plain": "array([1, 2, 6, 4, 2, 3, 2])"
                    },
                    "execution_count": null
                }
            ]
        },
        {
            "id": "e8ea129b",
            "cell_type": "markdown",
            "source": "Reconstruct the input values from the unique values and counts:\n",
            "metadata": {}
        },
        {
            "id": "03febcae",
            "cell_type": "code",
            "metadata": {},
            "execution_count": null,
            "source": "a = np.array([1, 2, 6, 4, 2, 3, 2])\nvalues, counts = np.unique(a, return_counts=True)\nvalues",
            "outputs": [
                {
                    "output_type": "execute_result",
                    "metadata": {},
                    "data": {
                        "text/plain": "array([1, 2, 3, 4, 6])"
                    },
                    "execution_count": null
                }
            ]
        },
        {
            "id": "5290100e",
            "cell_type": "code",
            "metadata": {},
            "execution_count": null,
            "source": "counts",
            "outputs": [
                {
                    "output_type": "execute_result",
                    "metadata": {},
                    "data": {
                        "text/plain": "array([1, 3, 1, 1, 1])"
                    },
                    "execution_count": null
                }
            ]
        },
        {
            "id": "137011ca",
            "cell_type": "code",
            "metadata": {},
            "execution_count": null,
            "source": "np.repeat(values, counts)",
            "outputs": [
                {
                    "output_type": "execute_result",
                    "metadata": {},
                    "data": {
                        "text/plain": "array([1, 2, 2, 2, 3, 4, 6])    # original order not preserved"
                    },
                    "execution_count": null
                }
            ]
        }
    ]
}