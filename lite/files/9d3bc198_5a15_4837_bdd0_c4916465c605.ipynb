{
    "nbformat": 4,
    "nbformat_minor": 5,
    "metadata": {
        "kernelspec": {
            "display_name": "Python",
            "language": "python",
            "name": "python"
        },
        "language_info": {
            "name": "python"
        }
    },
    "cells": [
        {
            "id": "b54a7ad2",
            "cell_type": "markdown",
            "source": "<div class='alert alert-warning'>\n\nNumPy's interactive examples are experimental and may not always work as expected, with high load times especially on low-resource platforms, and the version of NumPy might not be in sync with the one you are browsing the documentation for. If you encounter any issues, please report them on the [NumPy issue tracker](https://github.com/numpy/numpy/issues).\n\n</div>",
            "metadata": {}
        },
        {
            "id": "bc562201",
            "cell_type": "code",
            "metadata": {},
            "execution_count": null,
            "source": "import numpy as np\nx = np.array([-1.2, 1.2])\nnp.absolute(x)",
            "outputs": [
                {
                    "output_type": "execute_result",
                    "metadata": {},
                    "data": {
                        "text/plain": "array([ 1.2,  1.2])"
                    },
                    "execution_count": null
                }
            ]
        },
        {
            "id": "37455d34",
            "cell_type": "code",
            "metadata": {},
            "execution_count": null,
            "source": "np.absolute(1.2 + 1j)",
            "outputs": [
                {
                    "output_type": "execute_result",
                    "metadata": {},
                    "data": {
                        "text/plain": "1.5620499351813308"
                    },
                    "execution_count": null
                }
            ]
        },
        {
            "id": "90506193",
            "cell_type": "markdown",
            "source": "Plot the function over ``[-10, 10]``:\n",
            "metadata": {}
        },
        {
            "id": "e66bd858",
            "cell_type": "code",
            "metadata": {},
            "execution_count": null,
            "source": "import matplotlib.pyplot as plt",
            "outputs": []
        },
        {
            "id": "2fa05629",
            "cell_type": "code",
            "metadata": {},
            "execution_count": null,
            "source": "x = np.linspace(start=-10, stop=10, num=101)\nplt.plot(x, np.absolute(x))\nplt.show()",
            "outputs": []
        },
        {
            "id": "0ff0cede",
            "cell_type": "markdown",
            "source": "Plot the function over the complex plane:\n",
            "metadata": {}
        },
        {
            "id": "d1d2b410",
            "cell_type": "code",
            "metadata": {},
            "execution_count": null,
            "source": "xx = x + 1j * x[:, np.newaxis]\nplt.imshow(np.abs(xx), extent=[-10, 10, -10, 10], cmap='gray')\nplt.show()",
            "outputs": []
        },
        {
            "id": "84e4057b",
            "cell_type": "markdown",
            "source": "The `abs` function can be used as a shorthand for ``np.absolute`` on\nndarrays.\n",
            "metadata": {}
        },
        {
            "id": "419e1661",
            "cell_type": "code",
            "metadata": {},
            "execution_count": null,
            "source": "x = np.array([-1.2, 1.2])\nabs(x)",
            "outputs": [
                {
                    "output_type": "execute_result",
                    "metadata": {},
                    "data": {
                        "text/plain": "array([1.2, 1.2])"
                    },
                    "execution_count": null
                }
            ]
        }
    ]
}