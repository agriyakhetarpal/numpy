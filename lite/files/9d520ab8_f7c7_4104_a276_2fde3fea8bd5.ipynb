{
    "nbformat": 4,
    "nbformat_minor": 5,
    "metadata": {
        "kernelspec": {
            "display_name": "Python",
            "language": "python",
            "name": "python"
        },
        "language_info": {
            "name": "python"
        }
    },
    "cells": [
        {
            "id": "4b19eb02",
            "cell_type": "markdown",
            "source": "<div class='alert alert-warning'>\n\nNumPy's interactive examples are experimental and may not always work as expected, with high load times especially on low-resource platforms, and the version of NumPy might not be in sync with the one you are browsing the documentation for. If you encounter any issues, please report them on the [NumPy issue tracker](https://github.com/numpy/numpy/issues).\n\n</div>",
            "metadata": {}
        },
        {
            "id": "d26aab2a",
            "cell_type": "code",
            "metadata": {},
            "execution_count": null,
            "source": "import numpy as np\na = np.arange(4).reshape(2,2)\na",
            "outputs": [
                {
                    "output_type": "execute_result",
                    "metadata": {},
                    "data": {
                        "text/plain": "array([[0, 1],\n       [2, 3]])"
                    },
                    "execution_count": null
                }
            ]
        },
        {
            "id": "a5c3d410",
            "cell_type": "code",
            "metadata": {},
            "execution_count": null,
            "source": "a.diagonal()",
            "outputs": [
                {
                    "output_type": "execute_result",
                    "metadata": {},
                    "data": {
                        "text/plain": "array([0, 3])"
                    },
                    "execution_count": null
                }
            ]
        },
        {
            "id": "c3fe0a2e",
            "cell_type": "code",
            "metadata": {},
            "execution_count": null,
            "source": "a.diagonal(1)",
            "outputs": [
                {
                    "output_type": "execute_result",
                    "metadata": {},
                    "data": {
                        "text/plain": "array([1])"
                    },
                    "execution_count": null
                }
            ]
        },
        {
            "id": "cf124ab3",
            "cell_type": "markdown",
            "source": "A 3-D example:\n",
            "metadata": {}
        },
        {
            "id": "dca980e6",
            "cell_type": "code",
            "metadata": {},
            "execution_count": null,
            "source": "a = np.arange(8).reshape(2,2,2); a",
            "outputs": [
                {
                    "output_type": "execute_result",
                    "metadata": {},
                    "data": {
                        "text/plain": "array([[[0, 1],\n        [2, 3]],\n       [[4, 5],\n        [6, 7]]])"
                    },
                    "execution_count": null
                }
            ]
        },
        {
            "id": "2cca71cd",
            "cell_type": "code",
            "metadata": {},
            "execution_count": null,
            "source": "a.diagonal(0,  # Main diagonals of two arrays created by skipping\n           0,  # across the outer(left)-most axis last and\n           1)  # the \"middle\" (row) axis first.",
            "outputs": [
                {
                    "output_type": "execute_result",
                    "metadata": {},
                    "data": {
                        "text/plain": "array([[0, 6],\n       [1, 7]])"
                    },
                    "execution_count": null
                }
            ]
        },
        {
            "id": "dda1587d",
            "cell_type": "markdown",
            "source": "The sub-arrays whose main diagonals we just obtained; note that each\ncorresponds to fixing the right-most (column) axis, and that the\ndiagonals are \"packed\" in rows.\n",
            "metadata": {}
        },
        {
            "id": "eb7084f3",
            "cell_type": "code",
            "metadata": {},
            "execution_count": null,
            "source": "a[:,:,0]  # main diagonal is [0 6]",
            "outputs": [
                {
                    "output_type": "execute_result",
                    "metadata": {},
                    "data": {
                        "text/plain": "array([[0, 2],\n       [4, 6]])"
                    },
                    "execution_count": null
                }
            ]
        },
        {
            "id": "7530c310",
            "cell_type": "code",
            "metadata": {},
            "execution_count": null,
            "source": "a[:,:,1]  # main diagonal is [1 7]",
            "outputs": [
                {
                    "output_type": "execute_result",
                    "metadata": {},
                    "data": {
                        "text/plain": "array([[1, 3],\n       [5, 7]])"
                    },
                    "execution_count": null
                }
            ]
        },
        {
            "id": "3d3077fc",
            "cell_type": "markdown",
            "source": "The anti-diagonal can be obtained by reversing the order of elements\nusing either `numpy.flipud` or `numpy.fliplr`.\n",
            "metadata": {}
        },
        {
            "id": "3fa3c24d",
            "cell_type": "code",
            "metadata": {},
            "execution_count": null,
            "source": "a = np.arange(9).reshape(3, 3)\na",
            "outputs": [
                {
                    "output_type": "execute_result",
                    "metadata": {},
                    "data": {
                        "text/plain": "array([[0, 1, 2],\n       [3, 4, 5],\n       [6, 7, 8]])"
                    },
                    "execution_count": null
                }
            ]
        },
        {
            "id": "326fa1a8",
            "cell_type": "code",
            "metadata": {},
            "execution_count": null,
            "source": "np.fliplr(a).diagonal()  # Horizontal flip",
            "outputs": [
                {
                    "output_type": "execute_result",
                    "metadata": {},
                    "data": {
                        "text/plain": "array([2, 4, 6])"
                    },
                    "execution_count": null
                }
            ]
        },
        {
            "id": "c2f58033",
            "cell_type": "code",
            "metadata": {},
            "execution_count": null,
            "source": "np.flipud(a).diagonal()  # Vertical flip",
            "outputs": [
                {
                    "output_type": "execute_result",
                    "metadata": {},
                    "data": {
                        "text/plain": "array([6, 4, 2])"
                    },
                    "execution_count": null
                }
            ]
        },
        {
            "id": "69122f7f",
            "cell_type": "markdown",
            "source": "Note that the order in which the diagonal is retrieved varies depending\non the flip function.",
            "metadata": {}
        }
    ]
}