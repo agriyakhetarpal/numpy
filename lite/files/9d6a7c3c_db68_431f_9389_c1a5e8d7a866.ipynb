{
    "nbformat": 4,
    "nbformat_minor": 5,
    "metadata": {
        "kernelspec": {
            "display_name": "Python",
            "language": "python",
            "name": "python"
        },
        "language_info": {
            "name": "python"
        }
    },
    "cells": [
        {
            "id": "ed5f15ef",
            "cell_type": "markdown",
            "source": "<div class='alert alert-warning'>\n\nNumPy's interactive examples are experimental and may not always work as expected, with high load times especially on low-resource platforms, , and the version of NumPy might not be in sync with the one you are browsing the documentation for. If you encounter any issues, please report them on the [NumPy issue tracker](https://github.com/numpy/numpy/issues).\n\n</div>",
            "metadata": {}
        },
        {
            "id": "919352b3",
            "cell_type": "code",
            "metadata": {},
            "execution_count": null,
            "source": "import numpy as np\na = np.array([[1, 2], [3, 4]])\nb = np.array([[5, 6]])\nnp.concatenate((a, b), axis=0)",
            "outputs": [
                {
                    "output_type": "execute_result",
                    "metadata": {},
                    "data": {
                        "text/plain": "array([[1, 2],\n       [3, 4],\n       [5, 6]])"
                    },
                    "execution_count": null
                }
            ]
        },
        {
            "id": "86a54db5",
            "cell_type": "code",
            "metadata": {},
            "execution_count": null,
            "source": "np.concatenate((a, b.T), axis=1)",
            "outputs": [
                {
                    "output_type": "execute_result",
                    "metadata": {},
                    "data": {
                        "text/plain": "array([[1, 2, 5],\n       [3, 4, 6]])"
                    },
                    "execution_count": null
                }
            ]
        },
        {
            "id": "ff6c3a46",
            "cell_type": "code",
            "metadata": {},
            "execution_count": null,
            "source": "np.concatenate((a, b), axis=None)",
            "outputs": [
                {
                    "output_type": "execute_result",
                    "metadata": {},
                    "data": {
                        "text/plain": "array([1, 2, 3, 4, 5, 6])"
                    },
                    "execution_count": null
                }
            ]
        },
        {
            "id": "0f91abb6",
            "cell_type": "markdown",
            "source": "This function will not preserve masking of MaskedArray inputs.\n",
            "metadata": {}
        },
        {
            "id": "784818a8",
            "cell_type": "code",
            "metadata": {},
            "execution_count": null,
            "source": "a = np.ma.arange(3)\na[1] = np.ma.masked\nb = np.arange(2, 5)\na",
            "outputs": [
                {
                    "output_type": "execute_result",
                    "metadata": {},
                    "data": {
                        "text/plain": "masked_array(data=[0, --, 2],\n             mask=[False,  True, False],\n       fill_value=999999)"
                    },
                    "execution_count": null
                }
            ]
        },
        {
            "id": "c2ed7943",
            "cell_type": "code",
            "metadata": {},
            "execution_count": null,
            "source": "b",
            "outputs": [
                {
                    "output_type": "execute_result",
                    "metadata": {},
                    "data": {
                        "text/plain": "array([2, 3, 4])"
                    },
                    "execution_count": null
                }
            ]
        },
        {
            "id": "c535dd6c",
            "cell_type": "code",
            "metadata": {},
            "execution_count": null,
            "source": "np.concatenate([a, b])",
            "outputs": [
                {
                    "output_type": "execute_result",
                    "metadata": {},
                    "data": {
                        "text/plain": "masked_array(data=[0, 1, 2, 2, 3, 4],\n             mask=False,\n       fill_value=999999)"
                    },
                    "execution_count": null
                }
            ]
        },
        {
            "id": "1a0a8f63",
            "cell_type": "code",
            "metadata": {},
            "execution_count": null,
            "source": "np.ma.concatenate([a, b])",
            "outputs": [
                {
                    "output_type": "execute_result",
                    "metadata": {},
                    "data": {
                        "text/plain": "masked_array(data=[0, --, 2, 2, 3, 4],\n             mask=[False,  True, False, False, False, False],\n       fill_value=999999)"
                    },
                    "execution_count": null
                }
            ]
        }
    ]
}