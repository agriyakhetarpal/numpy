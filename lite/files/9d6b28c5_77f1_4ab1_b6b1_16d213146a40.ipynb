{
    "nbformat": 4,
    "nbformat_minor": 5,
    "metadata": {
        "kernelspec": {
            "display_name": "Python",
            "language": "python",
            "name": "python"
        },
        "language_info": {
            "name": "python"
        }
    },
    "cells": [
        {
            "id": "b9a277ab",
            "cell_type": "markdown",
            "source": "<div class='alert alert-warning'>\n\nNumPy's interactive examples are experimental and may not always work as expected, with high load times especially on low-resource platforms, and the version of NumPy might not be in sync with the one you are browsing the documentation for. If you encounter any issues, please report them on the [NumPy issue tracker](https://github.com/numpy/numpy/issues).\n\n</div>",
            "metadata": {}
        },
        {
            "id": "261ac12d",
            "cell_type": "code",
            "metadata": {},
            "execution_count": null,
            "source": "import numpy as np\nolderr = np.seterr(all='ignore')  # Set error handling to known state.",
            "outputs": []
        },
        {
            "id": "7034dfe4",
            "cell_type": "code",
            "metadata": {},
            "execution_count": null,
            "source": "np.arange(3) / 0.",
            "outputs": [
                {
                    "output_type": "execute_result",
                    "metadata": {},
                    "data": {
                        "text/plain": "array([nan, inf, inf])"
                    },
                    "execution_count": null
                }
            ]
        },
        {
            "id": "d4ed2802",
            "cell_type": "code",
            "metadata": {},
            "execution_count": null,
            "source": "with np.errstate(divide='ignore'):\n    np.arange(3) / 0.",
            "outputs": [
                {
                    "output_type": "execute_result",
                    "metadata": {},
                    "data": {
                        "text/plain": "array([nan, inf, inf])"
                    },
                    "execution_count": null
                }
            ]
        },
        {
            "id": "704d258b",
            "cell_type": "code",
            "metadata": {},
            "execution_count": null,
            "source": "np.sqrt(-1)",
            "outputs": [
                {
                    "output_type": "execute_result",
                    "metadata": {},
                    "data": {
                        "text/plain": "np.float64(nan)"
                    },
                    "execution_count": null
                }
            ]
        },
        {
            "id": "df797c0d",
            "cell_type": "code",
            "metadata": {},
            "execution_count": null,
            "source": "with np.errstate(invalid='raise'):\n    np.sqrt(-1)",
            "outputs": [
                {
                    "output_type": "execute_result",
                    "metadata": {},
                    "data": {
                        "text/plain": "Traceback (most recent call last):\n  File \"<stdin>\", line 2, in <module>\nFloatingPointError: invalid value encountered in sqrt"
                    },
                    "execution_count": null
                }
            ]
        },
        {
            "id": "0972c40d",
            "cell_type": "markdown",
            "source": "Outside the context the error handling behavior has not changed:\n",
            "metadata": {}
        },
        {
            "id": "ac34f4c1",
            "cell_type": "code",
            "metadata": {},
            "execution_count": null,
            "source": "np.geterr()",
            "outputs": [
                {
                    "output_type": "execute_result",
                    "metadata": {},
                    "data": {
                        "text/plain": "{'divide': 'ignore', 'over': 'ignore', 'under': 'ignore', 'invalid': 'ignore'}"
                    },
                    "execution_count": null
                }
            ]
        },
        {
            "id": "005e1bd6",
            "cell_type": "code",
            "metadata": {},
            "execution_count": null,
            "source": "olderr = np.seterr(**olderr)  # restore original state",
            "outputs": []
        }
    ]
}