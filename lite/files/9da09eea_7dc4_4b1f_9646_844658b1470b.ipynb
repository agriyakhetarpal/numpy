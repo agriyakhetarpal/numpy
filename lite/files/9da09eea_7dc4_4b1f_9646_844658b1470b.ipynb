{
    "nbformat": 4,
    "nbformat_minor": 5,
    "metadata": {
        "kernelspec": {
            "display_name": "Python",
            "language": "python",
            "name": "python"
        },
        "language_info": {
            "name": "python"
        }
    },
    "cells": [
        {
            "id": "8a2d4030",
            "cell_type": "markdown",
            "source": "<div class='alert alert-warning'>\n\nNumPy's interactive examples are experimental and may not always work as expected, with high load times especially on low-resource platforms, , and the version of NumPy might not be in sync with the one you are browsing the documentation for. If you encounter any issues, please report them on the [NumPy issue tracker](https://github.com/numpy/numpy/issues).\n\n</div>",
            "metadata": {}
        },
        {
            "id": "352cb37c",
            "cell_type": "code",
            "metadata": {},
            "execution_count": null,
            "source": "import numpy as np",
            "outputs": []
        },
        {
            "id": "ce9997ae",
            "cell_type": "markdown",
            "source": "The number 13 is represented by ``00001101``. Likewise, 17 is\nrepresented by ``00010001``.  The bit-wise XOR of 13 and 17 is\ntherefore ``00011100``, or 28:\n",
            "metadata": {}
        },
        {
            "id": "a195066d",
            "cell_type": "code",
            "metadata": {},
            "execution_count": null,
            "source": "np.bitwise_xor(13, 17)",
            "outputs": [
                {
                    "output_type": "execute_result",
                    "metadata": {},
                    "data": {
                        "text/plain": "28"
                    },
                    "execution_count": null
                }
            ]
        },
        {
            "id": "cca8cfec",
            "cell_type": "code",
            "metadata": {},
            "execution_count": null,
            "source": "np.binary_repr(28)",
            "outputs": [
                {
                    "output_type": "execute_result",
                    "metadata": {},
                    "data": {
                        "text/plain": "'11100'"
                    },
                    "execution_count": null
                }
            ]
        },
        {
            "id": "13f67d4a",
            "cell_type": "code",
            "metadata": {},
            "execution_count": null,
            "source": "np.bitwise_xor(31, 5)",
            "outputs": [
                {
                    "output_type": "execute_result",
                    "metadata": {},
                    "data": {
                        "text/plain": "26"
                    },
                    "execution_count": null
                }
            ]
        },
        {
            "id": "2a5b48a7",
            "cell_type": "code",
            "metadata": {},
            "execution_count": null,
            "source": "np.bitwise_xor([31,3], 5)",
            "outputs": [
                {
                    "output_type": "execute_result",
                    "metadata": {},
                    "data": {
                        "text/plain": "array([26,  6])"
                    },
                    "execution_count": null
                }
            ]
        },
        {
            "id": "2f153371",
            "cell_type": "code",
            "metadata": {},
            "execution_count": null,
            "source": "np.bitwise_xor([31,3], [5,6])",
            "outputs": [
                {
                    "output_type": "execute_result",
                    "metadata": {},
                    "data": {
                        "text/plain": "array([26,  5])"
                    },
                    "execution_count": null
                }
            ]
        },
        {
            "id": "c1d27549",
            "cell_type": "code",
            "metadata": {},
            "execution_count": null,
            "source": "np.bitwise_xor([True, True], [False, True])",
            "outputs": [
                {
                    "output_type": "execute_result",
                    "metadata": {},
                    "data": {
                        "text/plain": "array([ True, False])"
                    },
                    "execution_count": null
                }
            ]
        },
        {
            "id": "2caf3f80",
            "cell_type": "markdown",
            "source": "The ``^`` operator can be used as a shorthand for ``np.bitwise_xor`` on\nndarrays.\n",
            "metadata": {}
        },
        {
            "id": "b56e694f",
            "cell_type": "code",
            "metadata": {},
            "execution_count": null,
            "source": "x1 = np.array([True, True])\nx2 = np.array([False, True])\nx1 ^ x2",
            "outputs": [
                {
                    "output_type": "execute_result",
                    "metadata": {},
                    "data": {
                        "text/plain": "array([ True, False])"
                    },
                    "execution_count": null
                }
            ]
        }
    ]
}