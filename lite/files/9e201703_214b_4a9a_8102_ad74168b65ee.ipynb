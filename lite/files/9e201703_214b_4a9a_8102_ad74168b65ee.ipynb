{
    "nbformat": 4,
    "nbformat_minor": 5,
    "metadata": {
        "kernelspec": {
            "display_name": "Python",
            "language": "python",
            "name": "python"
        },
        "language_info": {
            "name": "python"
        }
    },
    "cells": [
        {
            "id": "e35f1952",
            "cell_type": "markdown",
            "source": "<div class='alert alert-warning'>\n\nNumPy's interactive examples are experimental and may not always work as expected, with high load times especially on low-resource platforms, , and the version of NumPy might not be in sync with the one you are browsing the documentation for. If you encounter any issues, please report them on the [NumPy issue tracker](https://github.com/numpy/numpy/issues).\n\n</div>",
            "metadata": {}
        },
        {
            "id": "bcaeaa2f",
            "cell_type": "markdown",
            "source": "Draw samples from the distribution:\n",
            "metadata": {}
        },
        {
            "id": "826c58ce",
            "cell_type": "code",
            "metadata": {},
            "execution_count": null,
            "source": "mu, sigma = 3., 1. # mean and standard deviation\ns = np.random.lognormal(mu, sigma, 1000)",
            "outputs": []
        },
        {
            "id": "c17fcf23",
            "cell_type": "markdown",
            "source": "Display the histogram of the samples, along with\nthe probability density function:\n",
            "metadata": {}
        },
        {
            "id": "f4d0a418",
            "cell_type": "code",
            "metadata": {},
            "execution_count": null,
            "source": "import matplotlib.pyplot as plt\ncount, bins, ignored = plt.hist(s, 100, density=True, align='mid')",
            "outputs": []
        },
        {
            "id": "0f1921eb",
            "cell_type": "code",
            "metadata": {},
            "execution_count": null,
            "source": "x = np.linspace(min(bins), max(bins), 10000)\npdf = (np.exp(-(np.log(x) - mu)**2 / (2 * sigma**2))\n       / (x * sigma * np.sqrt(2 * np.pi)))",
            "outputs": []
        },
        {
            "id": "1b2f6506",
            "cell_type": "code",
            "metadata": {},
            "execution_count": null,
            "source": "plt.plot(x, pdf, linewidth=2, color='r')\nplt.axis('tight')\nplt.show()",
            "outputs": []
        },
        {
            "id": "e9925f49",
            "cell_type": "markdown",
            "source": "Demonstrate that taking the products of random samples from a uniform\ndistribution can be fit well by a log-normal probability density\nfunction.\n",
            "metadata": {}
        },
        {
            "id": "de435ec3",
            "cell_type": "code",
            "metadata": {},
            "execution_count": null,
            "source": "# Generate a thousand samples: each is the product of 100 random\n# values, drawn from a normal distribution.\nb = []\nfor i in range(1000):\n   a = 10. + np.random.standard_normal(100)\n   b.append(np.prod(a))",
            "outputs": []
        },
        {
            "id": "0ac2fc31",
            "cell_type": "code",
            "metadata": {},
            "execution_count": null,
            "source": "b = np.array(b) / np.min(b) # scale values to be positive\ncount, bins, ignored = plt.hist(b, 100, density=True, align='mid')\nsigma = np.std(np.log(b))\nmu = np.mean(np.log(b))",
            "outputs": []
        },
        {
            "id": "8031ee8a",
            "cell_type": "code",
            "metadata": {},
            "execution_count": null,
            "source": "x = np.linspace(min(bins), max(bins), 10000)\npdf = (np.exp(-(np.log(x) - mu)**2 / (2 * sigma**2))\n       / (x * sigma * np.sqrt(2 * np.pi)))",
            "outputs": []
        },
        {
            "id": "c6434d15",
            "cell_type": "code",
            "metadata": {},
            "execution_count": null,
            "source": "plt.plot(x, pdf, color='r', linewidth=2)\nplt.show()",
            "outputs": []
        }
    ]
}