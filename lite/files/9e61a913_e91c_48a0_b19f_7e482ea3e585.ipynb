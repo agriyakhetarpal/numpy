{
    "nbformat": 4,
    "nbformat_minor": 5,
    "metadata": {
        "kernelspec": {
            "display_name": "Python",
            "language": "python",
            "name": "python"
        },
        "language_info": {
            "name": "python"
        }
    },
    "cells": [
        {
            "id": "32ad0217",
            "cell_type": "markdown",
            "source": "<div class='alert alert-warning'>\n\nNumPy's interactive examples are experimental and may not always work as expected, with high load times especially on low-resource platforms, and the version of NumPy might not be in sync with the one you are browsing the documentation for. If you encounter any issues, please report them on the [NumPy issue tracker](https://github.com/numpy/numpy/issues).\n\n</div>",
            "metadata": {}
        },
        {
            "id": "e69757e5",
            "cell_type": "code",
            "metadata": {},
            "execution_count": null,
            "source": "import numpy as np\nimport ctypes\nx = np.array([[0, 1], [2, 3]], dtype=np.int32)\nx",
            "outputs": [
                {
                    "output_type": "execute_result",
                    "metadata": {},
                    "data": {
                        "text/plain": "array([[0, 1],\n       [2, 3]], dtype=int32)"
                    },
                    "execution_count": null
                }
            ]
        },
        {
            "id": "a52b2f76",
            "cell_type": "code",
            "metadata": {},
            "execution_count": null,
            "source": "x.ctypes.data",
            "outputs": [
                {
                    "output_type": "execute_result",
                    "metadata": {},
                    "data": {
                        "text/plain": "31962608 # may vary"
                    },
                    "execution_count": null
                }
            ]
        },
        {
            "id": "c73489d4",
            "cell_type": "code",
            "metadata": {},
            "execution_count": null,
            "source": "x.ctypes.data_as(ctypes.POINTER(ctypes.c_uint32))",
            "outputs": [
                {
                    "output_type": "execute_result",
                    "metadata": {},
                    "data": {
                        "text/plain": "<__main__.LP_c_uint object at 0x7ff2fc1fc200> # may vary"
                    },
                    "execution_count": null
                }
            ]
        },
        {
            "id": "1c3c5151",
            "cell_type": "code",
            "metadata": {},
            "execution_count": null,
            "source": "x.ctypes.data_as(ctypes.POINTER(ctypes.c_uint32)).contents",
            "outputs": [
                {
                    "output_type": "execute_result",
                    "metadata": {},
                    "data": {
                        "text/plain": "c_uint(0)"
                    },
                    "execution_count": null
                }
            ]
        },
        {
            "id": "4d4eaea0",
            "cell_type": "code",
            "metadata": {},
            "execution_count": null,
            "source": "x.ctypes.data_as(ctypes.POINTER(ctypes.c_uint64)).contents",
            "outputs": [
                {
                    "output_type": "execute_result",
                    "metadata": {},
                    "data": {
                        "text/plain": "c_ulong(4294967296)"
                    },
                    "execution_count": null
                }
            ]
        },
        {
            "id": "6b955b84",
            "cell_type": "code",
            "metadata": {},
            "execution_count": null,
            "source": "x.ctypes.shape",
            "outputs": [
                {
                    "output_type": "execute_result",
                    "metadata": {},
                    "data": {
                        "text/plain": "<numpy._core._internal.c_long_Array_2 object at 0x7ff2fc1fce60> # may vary"
                    },
                    "execution_count": null
                }
            ]
        },
        {
            "id": "ec5da5da",
            "cell_type": "code",
            "metadata": {},
            "execution_count": null,
            "source": "x.ctypes.strides",
            "outputs": [
                {
                    "output_type": "execute_result",
                    "metadata": {},
                    "data": {
                        "text/plain": "<numpy._core._internal.c_long_Array_2 object at 0x7ff2fc1ff320> # may vary"
                    },
                    "execution_count": null
                }
            ]
        }
    ]
}