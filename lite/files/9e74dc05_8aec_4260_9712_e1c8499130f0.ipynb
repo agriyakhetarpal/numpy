{
    "nbformat": 4,
    "nbformat_minor": 5,
    "metadata": {
        "kernelspec": {
            "display_name": "Python",
            "language": "python",
            "name": "python"
        },
        "language_info": {
            "name": "python"
        }
    },
    "cells": [
        {
            "id": "441044c8",
            "cell_type": "markdown",
            "source": "<div class='alert alert-warning'>\n\nNumPy's interactive examples are experimental and may not always work as expected, with high load times especially on low-resource platforms, and the version of NumPy might not be in sync with the one you are browsing the documentation for. If you encounter any issues, please report them on the [NumPy issue tracker](https://github.com/numpy/numpy/issues).\n\n</div>",
            "metadata": {}
        },
        {
            "id": "5d48efe8",
            "cell_type": "code",
            "metadata": {},
            "execution_count": null,
            "source": "a = np.array([1, 2, 3])\nnp.cumulative_prod(a)  # intermediate results 1, 1*2\n                       # total product 1*2*3 = 6",
            "outputs": [
                {
                    "output_type": "execute_result",
                    "metadata": {},
                    "data": {
                        "text/plain": "array([1, 2, 6])"
                    },
                    "execution_count": null
                }
            ]
        },
        {
            "id": "f9056185",
            "cell_type": "code",
            "metadata": {},
            "execution_count": null,
            "source": "a = np.array([1, 2, 3, 4, 5, 6])\nnp.cumulative_prod(a, dtype=float) # specify type of output",
            "outputs": [
                {
                    "output_type": "execute_result",
                    "metadata": {},
                    "data": {
                        "text/plain": "array([   1.,    2.,    6.,   24.,  120.,  720.])"
                    },
                    "execution_count": null
                }
            ]
        },
        {
            "id": "5ed943d8",
            "cell_type": "markdown",
            "source": "The cumulative product for each column (i.e., over the rows) of ``b``:\n",
            "metadata": {}
        },
        {
            "id": "1e483ca1",
            "cell_type": "code",
            "metadata": {},
            "execution_count": null,
            "source": "b = np.array([[1, 2, 3], [4, 5, 6]])\nnp.cumulative_prod(b, axis=0)",
            "outputs": [
                {
                    "output_type": "execute_result",
                    "metadata": {},
                    "data": {
                        "text/plain": "array([[ 1,  2,  3],\n       [ 4, 10, 18]])"
                    },
                    "execution_count": null
                }
            ]
        },
        {
            "id": "6e5d9bf7",
            "cell_type": "markdown",
            "source": "The cumulative product for each row (i.e. over the columns) of ``b``:\n",
            "metadata": {}
        },
        {
            "id": "fdbd3ae6",
            "cell_type": "code",
            "metadata": {},
            "execution_count": null,
            "source": "np.cumulative_prod(b, axis=1)",
            "outputs": [
                {
                    "output_type": "execute_result",
                    "metadata": {},
                    "data": {
                        "text/plain": "array([[  1,   2,   6],\n       [  4,  20, 120]])"
                    },
                    "execution_count": null
                }
            ]
        }
    ]
}