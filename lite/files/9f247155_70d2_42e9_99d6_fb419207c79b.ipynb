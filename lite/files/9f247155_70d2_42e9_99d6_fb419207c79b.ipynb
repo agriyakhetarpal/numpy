{
    "nbformat": 4,
    "nbformat_minor": 5,
    "metadata": {
        "kernelspec": {
            "display_name": "Python",
            "language": "python",
            "name": "python"
        },
        "language_info": {
            "name": "python"
        }
    },
    "cells": [
        {
            "id": "1ffdc679",
            "cell_type": "markdown",
            "source": "<div class='alert alert-warning'>\n\nNumPy's interactive examples are experimental and may not always work as expected, with high load times especially on low-resource platforms, and the version of NumPy might not be in sync with the one you are browsing the documentation for. If you encounter any issues, please report them on the [NumPy issue tracker](https://github.com/numpy/numpy/issues).\n\n</div>",
            "metadata": {}
        },
        {
            "id": "8faa2f01",
            "cell_type": "code",
            "metadata": {},
            "execution_count": null,
            "source": "import numpy as np",
            "outputs": []
        },
        {
            "id": "d1844d03",
            "cell_type": "markdown",
            "source": "Define the signum function, which is -1 for ``x < 0`` and +1 for ``x >= 0``.\n",
            "metadata": {}
        },
        {
            "id": "f3503d9e",
            "cell_type": "code",
            "metadata": {},
            "execution_count": null,
            "source": "x = np.linspace(-2.5, 2.5, 6)\nnp.piecewise(x, [x < 0, x >= 0], [-1, 1])",
            "outputs": [
                {
                    "output_type": "execute_result",
                    "metadata": {},
                    "data": {
                        "text/plain": "array([-1., -1., -1.,  1.,  1.,  1.])"
                    },
                    "execution_count": null
                }
            ]
        },
        {
            "id": "35d3075c",
            "cell_type": "markdown",
            "source": "Define the absolute value, which is ``-x`` for ``x <0`` and ``x`` for\n``x >= 0``.\n",
            "metadata": {}
        },
        {
            "id": "e6bcc2bc",
            "cell_type": "code",
            "metadata": {},
            "execution_count": null,
            "source": "np.piecewise(x, [x < 0, x >= 0], [lambda x: -x, lambda x: x])",
            "outputs": [
                {
                    "output_type": "execute_result",
                    "metadata": {},
                    "data": {
                        "text/plain": "array([2.5,  1.5,  0.5,  0.5,  1.5,  2.5])"
                    },
                    "execution_count": null
                }
            ]
        },
        {
            "id": "23e67517",
            "cell_type": "markdown",
            "source": "Apply the same function to a scalar value.\n",
            "metadata": {}
        },
        {
            "id": "c1774a80",
            "cell_type": "code",
            "metadata": {},
            "execution_count": null,
            "source": "y = -2\nnp.piecewise(y, [y < 0, y >= 0], [lambda x: -x, lambda x: x])",
            "outputs": [
                {
                    "output_type": "execute_result",
                    "metadata": {},
                    "data": {
                        "text/plain": "array(2)"
                    },
                    "execution_count": null
                }
            ]
        }
    ]
}