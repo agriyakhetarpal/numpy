{
    "nbformat": 4,
    "nbformat_minor": 5,
    "metadata": {
        "kernelspec": {
            "display_name": "Python",
            "language": "python",
            "name": "python"
        },
        "language_info": {
            "name": "python"
        }
    },
    "cells": [
        {
            "id": "c20ac518",
            "cell_type": "markdown",
            "source": "<div class='alert alert-warning'>\n\nNumPy's interactive examples are experimental and may not always work as expected, with high load times especially on low-resource platforms, and the version of NumPy might not be in sync with the one you are browsing the documentation for. If you encounter any issues, please report them on the [NumPy issue tracker](https://github.com/numpy/numpy/issues).\n\n</div>",
            "metadata": {}
        },
        {
            "id": "88c01957",
            "cell_type": "code",
            "metadata": {},
            "execution_count": null,
            "source": "import numpy as np\nx = np.arange(16.0).reshape(4, 4)\nx",
            "outputs": [
                {
                    "output_type": "execute_result",
                    "metadata": {},
                    "data": {
                        "text/plain": "array([[ 0.,   1.,   2.,   3.],\n       [ 4.,   5.,   6.,   7.],\n       [ 8.,   9.,  10.,  11.],\n       [12.,  13.,  14.,  15.]])"
                    },
                    "execution_count": null
                }
            ]
        },
        {
            "id": "3e5b02a1",
            "cell_type": "code",
            "metadata": {},
            "execution_count": null,
            "source": "np.hsplit(x, 2)",
            "outputs": [
                {
                    "output_type": "execute_result",
                    "metadata": {},
                    "data": {
                        "text/plain": "[array([[  0.,   1.],\n       [  4.,   5.],\n       [  8.,   9.],\n       [12.,  13.]]),\n array([[  2.,   3.],\n       [  6.,   7.],\n       [10.,  11.],\n       [14.,  15.]])]"
                    },
                    "execution_count": null
                }
            ]
        },
        {
            "id": "58c11b0c",
            "cell_type": "code",
            "metadata": {},
            "execution_count": null,
            "source": "np.hsplit(x, np.array([3, 6]))",
            "outputs": [
                {
                    "output_type": "execute_result",
                    "metadata": {},
                    "data": {
                        "text/plain": "[array([[ 0.,   1.,   2.],\n       [ 4.,   5.,   6.],\n       [ 8.,   9.,  10.],\n       [12.,  13.,  14.]]),\n array([[ 3.],\n       [ 7.],\n       [11.],\n       [15.]]),\n array([], shape=(4, 0), dtype=float64)]"
                    },
                    "execution_count": null
                }
            ]
        },
        {
            "id": "465d9f71",
            "cell_type": "markdown",
            "source": "With a higher dimensional array the split is still along the second axis.\n",
            "metadata": {}
        },
        {
            "id": "ed656790",
            "cell_type": "code",
            "metadata": {},
            "execution_count": null,
            "source": "x = np.arange(8.0).reshape(2, 2, 2)\nx",
            "outputs": [
                {
                    "output_type": "execute_result",
                    "metadata": {},
                    "data": {
                        "text/plain": "array([[[0.,  1.],\n        [2.,  3.]],\n       [[4.,  5.],\n        [6.,  7.]]])"
                    },
                    "execution_count": null
                }
            ]
        },
        {
            "id": "256be801",
            "cell_type": "code",
            "metadata": {},
            "execution_count": null,
            "source": "np.hsplit(x, 2)",
            "outputs": [
                {
                    "output_type": "execute_result",
                    "metadata": {},
                    "data": {
                        "text/plain": "[array([[[0.,  1.]],\n       [[4.,  5.]]]),\n array([[[2.,  3.]],\n       [[6.,  7.]]])]"
                    },
                    "execution_count": null
                }
            ]
        },
        {
            "id": "1423d0d4",
            "cell_type": "markdown",
            "source": "With a 1-D array, the split is along axis 0.\n",
            "metadata": {}
        },
        {
            "id": "731a3325",
            "cell_type": "code",
            "metadata": {},
            "execution_count": null,
            "source": "x = np.array([0, 1, 2, 3, 4, 5])\nnp.hsplit(x, 2)",
            "outputs": [
                {
                    "output_type": "execute_result",
                    "metadata": {},
                    "data": {
                        "text/plain": "[array([0, 1, 2]), array([3, 4, 5])]"
                    },
                    "execution_count": null
                }
            ]
        }
    ]
}