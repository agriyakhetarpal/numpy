{
    "nbformat": 4,
    "nbformat_minor": 5,
    "metadata": {
        "kernelspec": {
            "display_name": "Python",
            "language": "python",
            "name": "python"
        },
        "language_info": {
            "name": "python"
        }
    },
    "cells": [
        {
            "id": "17f853ab",
            "cell_type": "markdown",
            "source": "<div class='alert alert-warning'>\n\nNumPy's interactive examples are experimental and may not always work as expected, with high load times especially on low-resource platforms, , and the version of NumPy might not be in sync with the one you are browsing the documentation for. If you encounter any issues, please report them on the [NumPy issue tracker](https://github.com/numpy/numpy/issues).\n\n</div>",
            "metadata": {}
        },
        {
            "id": "d0b06314",
            "cell_type": "code",
            "metadata": {},
            "execution_count": null,
            "source": "import numpy as np\na = np.array([[1, np.nan], [3, 4]])\nnp.nanstd(a)",
            "outputs": [
                {
                    "output_type": "execute_result",
                    "metadata": {},
                    "data": {
                        "text/plain": "1.247219128924647"
                    },
                    "execution_count": null
                }
            ]
        },
        {
            "id": "0da77ffc",
            "cell_type": "code",
            "metadata": {},
            "execution_count": null,
            "source": "np.nanstd(a, axis=0)",
            "outputs": [
                {
                    "output_type": "execute_result",
                    "metadata": {},
                    "data": {
                        "text/plain": "array([1., 0.])"
                    },
                    "execution_count": null
                }
            ]
        },
        {
            "id": "6648cd56",
            "cell_type": "code",
            "metadata": {},
            "execution_count": null,
            "source": "np.nanstd(a, axis=1)",
            "outputs": [
                {
                    "output_type": "execute_result",
                    "metadata": {},
                    "data": {
                        "text/plain": "array([0.,  0.5]) # may vary"
                    },
                    "execution_count": null
                }
            ]
        }
    ]
}