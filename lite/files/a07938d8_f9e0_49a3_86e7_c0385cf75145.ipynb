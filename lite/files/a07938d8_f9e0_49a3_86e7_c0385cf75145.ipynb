{
    "nbformat": 4,
    "nbformat_minor": 5,
    "metadata": {
        "kernelspec": {
            "display_name": "Python",
            "language": "python",
            "name": "python"
        },
        "language_info": {
            "name": "python"
        }
    },
    "cells": [
        {
            "id": "43bba14e",
            "cell_type": "markdown",
            "source": "<div class='alert alert-warning'>\n\nNumPy's interactive examples are experimental and may not always work as expected, with high load times especially on low-resource platforms, and the version of NumPy might not be in sync with the one you are browsing the documentation for. If you encounter any issues, please report them on the [NumPy issue tracker](https://github.com/numpy/numpy/issues).\n\n</div>",
            "metadata": {}
        },
        {
            "id": "53fdc791",
            "cell_type": "code",
            "metadata": {},
            "execution_count": null,
            "source": "import numpy as np",
            "outputs": []
        },
        {
            "id": "25e977eb",
            "cell_type": "markdown",
            "source": "Cube each element in an array.\n",
            "metadata": {}
        },
        {
            "id": "693121c1",
            "cell_type": "code",
            "metadata": {},
            "execution_count": null,
            "source": "x1 = np.arange(6)\nx1",
            "outputs": [
                {
                    "output_type": "execute_result",
                    "metadata": {},
                    "data": {
                        "text/plain": "[0, 1, 2, 3, 4, 5]"
                    },
                    "execution_count": null
                }
            ]
        },
        {
            "id": "cacb61e6",
            "cell_type": "code",
            "metadata": {},
            "execution_count": null,
            "source": "np.power(x1, 3)",
            "outputs": [
                {
                    "output_type": "execute_result",
                    "metadata": {},
                    "data": {
                        "text/plain": "array([  0,   1,   8,  27,  64, 125])"
                    },
                    "execution_count": null
                }
            ]
        },
        {
            "id": "0ed25fe5",
            "cell_type": "markdown",
            "source": "Raise the bases to different exponents.\n",
            "metadata": {}
        },
        {
            "id": "605bbd1d",
            "cell_type": "code",
            "metadata": {},
            "execution_count": null,
            "source": "x2 = [1.0, 2.0, 3.0, 3.0, 2.0, 1.0]\nnp.power(x1, x2)",
            "outputs": [
                {
                    "output_type": "execute_result",
                    "metadata": {},
                    "data": {
                        "text/plain": "array([  0.,   1.,   8.,  27.,  16.,   5.])"
                    },
                    "execution_count": null
                }
            ]
        },
        {
            "id": "ece89015",
            "cell_type": "markdown",
            "source": "The effect of broadcasting.\n",
            "metadata": {}
        },
        {
            "id": "61d3af7b",
            "cell_type": "code",
            "metadata": {},
            "execution_count": null,
            "source": "x2 = np.array([[1, 2, 3, 3, 2, 1], [1, 2, 3, 3, 2, 1]])\nx2",
            "outputs": [
                {
                    "output_type": "execute_result",
                    "metadata": {},
                    "data": {
                        "text/plain": "array([[1, 2, 3, 3, 2, 1],\n       [1, 2, 3, 3, 2, 1]])"
                    },
                    "execution_count": null
                }
            ]
        },
        {
            "id": "3c4af7dd",
            "cell_type": "code",
            "metadata": {},
            "execution_count": null,
            "source": "np.power(x1, x2)",
            "outputs": [
                {
                    "output_type": "execute_result",
                    "metadata": {},
                    "data": {
                        "text/plain": "array([[ 0,  1,  8, 27, 16,  5],\n       [ 0,  1,  8, 27, 16,  5]])"
                    },
                    "execution_count": null
                }
            ]
        },
        {
            "id": "ef107c1d",
            "cell_type": "markdown",
            "source": "The ``**`` operator can be used as a shorthand for ``np.power`` on\nndarrays.\n",
            "metadata": {}
        },
        {
            "id": "34aacdb8",
            "cell_type": "code",
            "metadata": {},
            "execution_count": null,
            "source": "x2 = np.array([1, 2, 3, 3, 2, 1])\nx1 = np.arange(6)\nx1 ** x2",
            "outputs": [
                {
                    "output_type": "execute_result",
                    "metadata": {},
                    "data": {
                        "text/plain": "array([ 0,  1,  8, 27, 16,  5])"
                    },
                    "execution_count": null
                }
            ]
        },
        {
            "id": "7b84e1a8",
            "cell_type": "markdown",
            "source": "Negative values raised to a non-integral value will result in ``nan``\n(and a warning will be generated).\n",
            "metadata": {}
        },
        {
            "id": "023ad24a",
            "cell_type": "code",
            "metadata": {},
            "execution_count": null,
            "source": "x3 = np.array([-1.0, -4.0])\nwith np.errstate(invalid='ignore'):\n    p = np.power(x3, 1.5)\n\np",
            "outputs": [
                {
                    "output_type": "execute_result",
                    "metadata": {},
                    "data": {
                        "text/plain": "array([nan, nan])"
                    },
                    "execution_count": null
                }
            ]
        },
        {
            "id": "b40198f9",
            "cell_type": "markdown",
            "source": "To get complex results, give the argument ``dtype=complex``.\n",
            "metadata": {}
        },
        {
            "id": "402a7d8e",
            "cell_type": "code",
            "metadata": {},
            "execution_count": null,
            "source": "np.power(x3, 1.5, dtype=complex)",
            "outputs": [
                {
                    "output_type": "execute_result",
                    "metadata": {},
                    "data": {
                        "text/plain": "array([-1.83697020e-16-1.j, -1.46957616e-15-8.j])"
                    },
                    "execution_count": null
                }
            ]
        }
    ]
}