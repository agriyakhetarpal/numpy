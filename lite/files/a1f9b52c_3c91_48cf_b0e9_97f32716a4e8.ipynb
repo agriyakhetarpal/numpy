{
    "nbformat": 4,
    "nbformat_minor": 5,
    "metadata": {
        "kernelspec": {
            "display_name": "Python",
            "language": "python",
            "name": "python"
        },
        "language_info": {
            "name": "python"
        }
    },
    "cells": [
        {
            "id": "eccd2445",
            "cell_type": "markdown",
            "source": "<div class='alert alert-warning'>\n\nNumPy's interactive examples are experimental and may not always work as expected, with high load times especially on low-resource platforms, , and the version of NumPy might not be in sync with the one you are browsing the documentation for. If you encounter any issues, please report them on the [NumPy issue tracker](https://github.com/numpy/numpy/issues).\n\n</div>",
            "metadata": {}
        },
        {
            "id": "d15eaed2",
            "cell_type": "code",
            "metadata": {},
            "execution_count": null,
            "source": "import numpy as np\nrng = np.random.default_rng()\na = rng.normal(size=(9, 6)) + 1j*rng.normal(size=(9, 6))\nb = rng.normal(size=(2, 7, 8, 3)) + 1j*rng.normal(size=(2, 7, 8, 3))",
            "outputs": []
        },
        {
            "id": "9990d4e7",
            "cell_type": "markdown",
            "source": "Reconstruction based on full SVD, 2D case:\n",
            "metadata": {}
        },
        {
            "id": "219873cc",
            "cell_type": "code",
            "metadata": {},
            "execution_count": null,
            "source": "U, S, Vh = np.linalg.svd(a, full_matrices=True)\nU.shape, S.shape, Vh.shape",
            "outputs": [
                {
                    "output_type": "execute_result",
                    "metadata": {},
                    "data": {
                        "text/plain": "((9, 9), (6,), (6, 6))"
                    },
                    "execution_count": null
                }
            ]
        },
        {
            "id": "38a194c6",
            "cell_type": "code",
            "metadata": {},
            "execution_count": null,
            "source": "np.allclose(a, np.dot(U[:, :6] * S, Vh))",
            "outputs": [
                {
                    "output_type": "execute_result",
                    "metadata": {},
                    "data": {
                        "text/plain": "True"
                    },
                    "execution_count": null
                }
            ]
        },
        {
            "id": "e429aedc",
            "cell_type": "code",
            "metadata": {},
            "execution_count": null,
            "source": "smat = np.zeros((9, 6), dtype=complex)\nsmat[:6, :6] = np.diag(S)\nnp.allclose(a, np.dot(U, np.dot(smat, Vh)))",
            "outputs": [
                {
                    "output_type": "execute_result",
                    "metadata": {},
                    "data": {
                        "text/plain": "True"
                    },
                    "execution_count": null
                }
            ]
        },
        {
            "id": "fb08dba0",
            "cell_type": "markdown",
            "source": "Reconstruction based on reduced SVD, 2D case:\n",
            "metadata": {}
        },
        {
            "id": "2389a7e8",
            "cell_type": "code",
            "metadata": {},
            "execution_count": null,
            "source": "U, S, Vh = np.linalg.svd(a, full_matrices=False)\nU.shape, S.shape, Vh.shape",
            "outputs": [
                {
                    "output_type": "execute_result",
                    "metadata": {},
                    "data": {
                        "text/plain": "((9, 6), (6,), (6, 6))"
                    },
                    "execution_count": null
                }
            ]
        },
        {
            "id": "9e5e2f55",
            "cell_type": "code",
            "metadata": {},
            "execution_count": null,
            "source": "np.allclose(a, np.dot(U * S, Vh))",
            "outputs": [
                {
                    "output_type": "execute_result",
                    "metadata": {},
                    "data": {
                        "text/plain": "True"
                    },
                    "execution_count": null
                }
            ]
        },
        {
            "id": "9ae8382f",
            "cell_type": "code",
            "metadata": {},
            "execution_count": null,
            "source": "smat = np.diag(S)\nnp.allclose(a, np.dot(U, np.dot(smat, Vh)))",
            "outputs": [
                {
                    "output_type": "execute_result",
                    "metadata": {},
                    "data": {
                        "text/plain": "True"
                    },
                    "execution_count": null
                }
            ]
        },
        {
            "id": "26dd3fba",
            "cell_type": "markdown",
            "source": "Reconstruction based on full SVD, 4D case:\n",
            "metadata": {}
        },
        {
            "id": "ff9fe4d0",
            "cell_type": "code",
            "metadata": {},
            "execution_count": null,
            "source": "U, S, Vh = np.linalg.svd(b, full_matrices=True)\nU.shape, S.shape, Vh.shape",
            "outputs": [
                {
                    "output_type": "execute_result",
                    "metadata": {},
                    "data": {
                        "text/plain": "((2, 7, 8, 8), (2, 7, 3), (2, 7, 3, 3))"
                    },
                    "execution_count": null
                }
            ]
        },
        {
            "id": "c5d6915f",
            "cell_type": "code",
            "metadata": {},
            "execution_count": null,
            "source": "np.allclose(b, np.matmul(U[..., :3] * S[..., None, :], Vh))",
            "outputs": [
                {
                    "output_type": "execute_result",
                    "metadata": {},
                    "data": {
                        "text/plain": "True"
                    },
                    "execution_count": null
                }
            ]
        },
        {
            "id": "ebe3fac2",
            "cell_type": "code",
            "metadata": {},
            "execution_count": null,
            "source": "np.allclose(b, np.matmul(U[..., :3], S[..., None] * Vh))",
            "outputs": [
                {
                    "output_type": "execute_result",
                    "metadata": {},
                    "data": {
                        "text/plain": "True"
                    },
                    "execution_count": null
                }
            ]
        },
        {
            "id": "57243d1a",
            "cell_type": "markdown",
            "source": "Reconstruction based on reduced SVD, 4D case:\n",
            "metadata": {}
        },
        {
            "id": "990b81ca",
            "cell_type": "code",
            "metadata": {},
            "execution_count": null,
            "source": "U, S, Vh = np.linalg.svd(b, full_matrices=False)\nU.shape, S.shape, Vh.shape",
            "outputs": [
                {
                    "output_type": "execute_result",
                    "metadata": {},
                    "data": {
                        "text/plain": "((2, 7, 8, 3), (2, 7, 3), (2, 7, 3, 3))"
                    },
                    "execution_count": null
                }
            ]
        },
        {
            "id": "27698527",
            "cell_type": "code",
            "metadata": {},
            "execution_count": null,
            "source": "np.allclose(b, np.matmul(U * S[..., None, :], Vh))",
            "outputs": [
                {
                    "output_type": "execute_result",
                    "metadata": {},
                    "data": {
                        "text/plain": "True"
                    },
                    "execution_count": null
                }
            ]
        },
        {
            "id": "1154bd53",
            "cell_type": "code",
            "metadata": {},
            "execution_count": null,
            "source": "np.allclose(b, np.matmul(U, S[..., None] * Vh))",
            "outputs": [
                {
                    "output_type": "execute_result",
                    "metadata": {},
                    "data": {
                        "text/plain": "True"
                    },
                    "execution_count": null
                }
            ]
        }
    ]
}