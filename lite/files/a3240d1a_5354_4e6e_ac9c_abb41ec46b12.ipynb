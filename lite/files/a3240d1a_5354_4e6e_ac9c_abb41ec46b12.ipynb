{
    "nbformat": 4,
    "nbformat_minor": 5,
    "metadata": {
        "kernelspec": {
            "display_name": "Python",
            "language": "python",
            "name": "python"
        },
        "language_info": {
            "name": "python"
        }
    },
    "cells": [
        {
            "id": "e9f0784a",
            "cell_type": "markdown",
            "source": "<div class='alert alert-warning'>\n\nNumPy's interactive examples are experimental and may not always work as expected, with high load times especially on low-resource platforms, and the version of NumPy might not be in sync with the one you are browsing the documentation for. If you encounter any issues, please report them on the [NumPy issue tracker](https://github.com/numpy/numpy/issues).\n\n</div>",
            "metadata": {}
        },
        {
            "id": "aa7aacfa",
            "cell_type": "code",
            "metadata": {},
            "execution_count": null,
            "source": "import numpy as np\nnp.add.ntypes",
            "outputs": [
                {
                    "output_type": "execute_result",
                    "metadata": {},
                    "data": {
                        "text/plain": "22"
                    },
                    "execution_count": null
                }
            ]
        },
        {
            "id": "93a614f2",
            "cell_type": "code",
            "metadata": {},
            "execution_count": null,
            "source": "np.multiply.ntypes",
            "outputs": [
                {
                    "output_type": "execute_result",
                    "metadata": {},
                    "data": {
                        "text/plain": "23"
                    },
                    "execution_count": null
                }
            ]
        },
        {
            "id": "dda572a1",
            "cell_type": "code",
            "metadata": {},
            "execution_count": null,
            "source": "np.power.ntypes",
            "outputs": [
                {
                    "output_type": "execute_result",
                    "metadata": {},
                    "data": {
                        "text/plain": "21"
                    },
                    "execution_count": null
                }
            ]
        },
        {
            "id": "ad52a2aa",
            "cell_type": "code",
            "metadata": {},
            "execution_count": null,
            "source": "np.exp.ntypes",
            "outputs": [
                {
                    "output_type": "execute_result",
                    "metadata": {},
                    "data": {
                        "text/plain": "10"
                    },
                    "execution_count": null
                }
            ]
        },
        {
            "id": "543bbc6c",
            "cell_type": "code",
            "metadata": {},
            "execution_count": null,
            "source": "np.remainder.ntypes",
            "outputs": [
                {
                    "output_type": "execute_result",
                    "metadata": {},
                    "data": {
                        "text/plain": "16"
                    },
                    "execution_count": null
                }
            ]
        }
    ]
}