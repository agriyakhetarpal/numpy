{
    "nbformat": 4,
    "nbformat_minor": 5,
    "metadata": {
        "kernelspec": {
            "display_name": "Python",
            "language": "python",
            "name": "python"
        },
        "language_info": {
            "name": "python"
        }
    },
    "cells": [
        {
            "id": "b3a52927",
            "cell_type": "markdown",
            "source": "<div class='alert alert-warning'>\n\nNumPy's interactive examples are experimental and may not always work as expected, with high load times especially on low-resource platforms, and the version of NumPy might not be in sync with the one you are browsing the documentation for. If you encounter any issues, please report them on the [NumPy issue tracker](https://github.com/numpy/numpy/issues).\n\n</div>",
            "metadata": {}
        },
        {
            "id": "19ee3c54",
            "cell_type": "code",
            "metadata": {},
            "execution_count": null,
            "source": "import numpy as np\nimport numpy.ma as ma\nx = ma.arange(4).reshape((2,2))\nx[1, 1] = ma.masked\nx",
            "outputs": [
                {
                    "output_type": "execute_result",
                    "metadata": {},
                    "data": {
                        "text/plain": "masked_array(\n  data=[[0, 1],\n        [2, --]],\n  mask=[[False, False],\n        [False,  True]],\n  fill_value=999999)"
                    },
                    "execution_count": null
                }
            ]
        },
        {
            "id": "aeef0b4c",
            "cell_type": "code",
            "metadata": {},
            "execution_count": null,
            "source": "ma.transpose(x)",
            "outputs": [
                {
                    "output_type": "execute_result",
                    "metadata": {},
                    "data": {
                        "text/plain": "masked_array(\n  data=[[0, 2],\n        [1, --]],\n  mask=[[False, False],\n        [False,  True]],\n  fill_value=999999)"
                    },
                    "execution_count": null
                }
            ]
        }
    ]
}