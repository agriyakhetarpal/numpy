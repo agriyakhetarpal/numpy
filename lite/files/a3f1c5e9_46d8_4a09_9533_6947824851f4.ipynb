{
    "nbformat": 4,
    "nbformat_minor": 5,
    "metadata": {
        "kernelspec": {
            "display_name": "Python",
            "language": "python",
            "name": "python"
        },
        "language_info": {
            "name": "python"
        }
    },
    "cells": [
        {
            "id": "8bc0a689",
            "cell_type": "markdown",
            "source": "<div class='alert alert-warning'>\n\nNumPy's interactive examples are experimental and may not always work as expected, with high load times especially on low-resource platforms, and the version of NumPy might not be in sync with the one you are browsing the documentation for. If you encounter any issues, please report them on the [NumPy issue tracker](https://github.com/numpy/numpy/issues).\n\n</div>",
            "metadata": {}
        },
        {
            "id": "822b4529",
            "cell_type": "code",
            "metadata": {},
            "execution_count": null,
            "source": "import numpy as np\na = np.array([1+2j,3+4j])\nb = np.array([5+6j,7+8j])\nnp.vdot(a, b)",
            "outputs": [
                {
                    "output_type": "execute_result",
                    "metadata": {},
                    "data": {
                        "text/plain": "(70-8j)"
                    },
                    "execution_count": null
                }
            ]
        },
        {
            "id": "f250c4f6",
            "cell_type": "code",
            "metadata": {},
            "execution_count": null,
            "source": "np.vdot(b, a)",
            "outputs": [
                {
                    "output_type": "execute_result",
                    "metadata": {},
                    "data": {
                        "text/plain": "(70+8j)"
                    },
                    "execution_count": null
                }
            ]
        },
        {
            "id": "b69586ce",
            "cell_type": "markdown",
            "source": "Note that higher-dimensional arrays are flattened!\n",
            "metadata": {}
        },
        {
            "id": "69b4af75",
            "cell_type": "code",
            "metadata": {},
            "execution_count": null,
            "source": "a = np.array([[1, 4], [5, 6]])\nb = np.array([[4, 1], [2, 2]])\nnp.vdot(a, b)",
            "outputs": [
                {
                    "output_type": "execute_result",
                    "metadata": {},
                    "data": {
                        "text/plain": "30"
                    },
                    "execution_count": null
                }
            ]
        },
        {
            "id": "157bc7eb",
            "cell_type": "code",
            "metadata": {},
            "execution_count": null,
            "source": "np.vdot(b, a)",
            "outputs": [
                {
                    "output_type": "execute_result",
                    "metadata": {},
                    "data": {
                        "text/plain": "30"
                    },
                    "execution_count": null
                }
            ]
        },
        {
            "id": "fe4ac05a",
            "cell_type": "code",
            "metadata": {},
            "execution_count": null,
            "source": "1*4 + 4*1 + 5*2 + 6*2",
            "outputs": [
                {
                    "output_type": "execute_result",
                    "metadata": {},
                    "data": {
                        "text/plain": "30"
                    },
                    "execution_count": null
                }
            ]
        }
    ]
}