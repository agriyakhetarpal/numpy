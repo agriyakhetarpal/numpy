{
    "nbformat": 4,
    "nbformat_minor": 5,
    "metadata": {
        "kernelspec": {
            "display_name": "Python",
            "language": "python",
            "name": "python"
        },
        "language_info": {
            "name": "python"
        }
    },
    "cells": [
        {
            "id": "e95edb52",
            "cell_type": "markdown",
            "source": "<div class='alert alert-warning'>\n\nNumPy's interactive examples are experimental and may not always work as expected, with high load times especially on low-resource platforms, and the version of NumPy might not be in sync with the one you are browsing the documentation for. If you encounter any issues, please report them on the [NumPy issue tracker](https://github.com/numpy/numpy/issues).\n\n</div>",
            "metadata": {}
        },
        {
            "id": "e0605e33",
            "cell_type": "markdown",
            "source": "With types:\n",
            "metadata": {}
        },
        {
            "id": "5bbf6cc9",
            "cell_type": "code",
            "metadata": {},
            "execution_count": null,
            "source": "import numpy as np\nii16 = np.iinfo(np.int16)\nii16.min",
            "outputs": [
                {
                    "output_type": "execute_result",
                    "metadata": {},
                    "data": {
                        "text/plain": "-32768"
                    },
                    "execution_count": null
                }
            ]
        },
        {
            "id": "c685af90",
            "cell_type": "code",
            "metadata": {},
            "execution_count": null,
            "source": "ii16.max",
            "outputs": [
                {
                    "output_type": "execute_result",
                    "metadata": {},
                    "data": {
                        "text/plain": "32767"
                    },
                    "execution_count": null
                }
            ]
        },
        {
            "id": "393fad54",
            "cell_type": "code",
            "metadata": {},
            "execution_count": null,
            "source": "ii32 = np.iinfo(np.int32)\nii32.min",
            "outputs": [
                {
                    "output_type": "execute_result",
                    "metadata": {},
                    "data": {
                        "text/plain": "-2147483648"
                    },
                    "execution_count": null
                }
            ]
        },
        {
            "id": "9711a8a2",
            "cell_type": "code",
            "metadata": {},
            "execution_count": null,
            "source": "ii32.max",
            "outputs": [
                {
                    "output_type": "execute_result",
                    "metadata": {},
                    "data": {
                        "text/plain": "2147483647"
                    },
                    "execution_count": null
                }
            ]
        },
        {
            "id": "3216de1c",
            "cell_type": "markdown",
            "source": "With instances:\n",
            "metadata": {}
        },
        {
            "id": "a21dda70",
            "cell_type": "code",
            "metadata": {},
            "execution_count": null,
            "source": "ii32 = np.iinfo(np.int32(10))\nii32.min",
            "outputs": [
                {
                    "output_type": "execute_result",
                    "metadata": {},
                    "data": {
                        "text/plain": "-2147483648"
                    },
                    "execution_count": null
                }
            ]
        },
        {
            "id": "4af1e67e",
            "cell_type": "code",
            "metadata": {},
            "execution_count": null,
            "source": "ii32.max",
            "outputs": [
                {
                    "output_type": "execute_result",
                    "metadata": {},
                    "data": {
                        "text/plain": "2147483647"
                    },
                    "execution_count": null
                }
            ]
        }
    ]
}