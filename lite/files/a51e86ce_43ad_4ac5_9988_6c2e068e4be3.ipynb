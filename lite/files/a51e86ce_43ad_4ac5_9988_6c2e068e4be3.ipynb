{
    "nbformat": 4,
    "nbformat_minor": 5,
    "metadata": {
        "kernelspec": {
            "display_name": "Python",
            "language": "python",
            "name": "python"
        },
        "language_info": {
            "name": "python"
        }
    },
    "cells": [
        {
            "id": "abec6665",
            "cell_type": "markdown",
            "source": "<div class='alert alert-warning'>\n\nNumPy's interactive examples are experimental and may not always work as expected, with high load times especially on low-resource platforms, and the version of NumPy might not be in sync with the one you are browsing the documentation for. If you encounter any issues, please report them on the [NumPy issue tracker](https://github.com/numpy/numpy/issues).\n\n</div>",
            "metadata": {}
        },
        {
            "id": "478532c1",
            "cell_type": "code",
            "metadata": {},
            "execution_count": null,
            "source": "import numpy as np\nx = np.array([[1,2,3],[4,5,6]], order='F')",
            "outputs": []
        },
        {
            "id": "75029149",
            "cell_type": "code",
            "metadata": {},
            "execution_count": null,
            "source": "y = x.copy()",
            "outputs": []
        },
        {
            "id": "1fcdc30f",
            "cell_type": "code",
            "metadata": {},
            "execution_count": null,
            "source": "x.fill(0)",
            "outputs": []
        },
        {
            "id": "b922d26b",
            "cell_type": "code",
            "metadata": {},
            "execution_count": null,
            "source": "x",
            "outputs": [
                {
                    "output_type": "execute_result",
                    "metadata": {},
                    "data": {
                        "text/plain": "array([[0, 0, 0],\n       [0, 0, 0]])"
                    },
                    "execution_count": null
                }
            ]
        },
        {
            "id": "945e41e8",
            "cell_type": "code",
            "metadata": {},
            "execution_count": null,
            "source": "y",
            "outputs": [
                {
                    "output_type": "execute_result",
                    "metadata": {},
                    "data": {
                        "text/plain": "array([[1, 2, 3],\n       [4, 5, 6]])"
                    },
                    "execution_count": null
                }
            ]
        },
        {
            "id": "10621516",
            "cell_type": "code",
            "metadata": {},
            "execution_count": null,
            "source": "y.flags['C_CONTIGUOUS']",
            "outputs": [
                {
                    "output_type": "execute_result",
                    "metadata": {},
                    "data": {
                        "text/plain": "True"
                    },
                    "execution_count": null
                }
            ]
        },
        {
            "id": "6d35bcc0",
            "cell_type": "markdown",
            "source": "For arrays containing Python objects (e.g. dtype=object),\nthe copy is a shallow one. The new array will contain the\nsame object which may lead to surprises if that object can\nbe modified (is mutable):\n",
            "metadata": {}
        },
        {
            "id": "7fec95f3",
            "cell_type": "code",
            "metadata": {},
            "execution_count": null,
            "source": "a = np.array([1, 'm', [2, 3, 4]], dtype=object)\nb = a.copy()\nb[2][0] = 10\na",
            "outputs": [
                {
                    "output_type": "execute_result",
                    "metadata": {},
                    "data": {
                        "text/plain": "array([1, 'm', list([10, 3, 4])], dtype=object)"
                    },
                    "execution_count": null
                }
            ]
        },
        {
            "id": "09a85be8",
            "cell_type": "markdown",
            "source": "To ensure all elements within an ``object`` array are copied,\nuse `copy.deepcopy`:\n",
            "metadata": {}
        },
        {
            "id": "accfa057",
            "cell_type": "code",
            "metadata": {},
            "execution_count": null,
            "source": "import copy\na = np.array([1, 'm', [2, 3, 4]], dtype=object)\nc = copy.deepcopy(a)\nc[2][0] = 10\nc",
            "outputs": [
                {
                    "output_type": "execute_result",
                    "metadata": {},
                    "data": {
                        "text/plain": "array([1, 'm', list([10, 3, 4])], dtype=object)"
                    },
                    "execution_count": null
                }
            ]
        },
        {
            "id": "9d2a46e4",
            "cell_type": "code",
            "metadata": {},
            "execution_count": null,
            "source": "a",
            "outputs": [
                {
                    "output_type": "execute_result",
                    "metadata": {},
                    "data": {
                        "text/plain": "array([1, 'm', list([2, 3, 4])], dtype=object)"
                    },
                    "execution_count": null
                }
            ]
        }
    ]
}