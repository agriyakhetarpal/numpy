{
    "nbformat": 4,
    "nbformat_minor": 5,
    "metadata": {
        "kernelspec": {
            "display_name": "Python",
            "language": "python",
            "name": "python"
        },
        "language_info": {
            "name": "python"
        }
    },
    "cells": [
        {
            "id": "ea764e99",
            "cell_type": "markdown",
            "source": "<div class='alert alert-warning'>\n\nNumPy's interactive examples are experimental and may not always work as expected, with high load times especially on low-resource platforms, and the version of NumPy might not be in sync with the one you are browsing the documentation for. If you encounter any issues, please report them on the [NumPy issue tracker](https://github.com/numpy/numpy/issues).\n\n</div>",
            "metadata": {}
        },
        {
            "id": "ba7076f5",
            "cell_type": "code",
            "metadata": {},
            "execution_count": null,
            "source": "import numpy as np\na = np.ma.arange(10)\nnp.ma.flatnotmasked_contiguous(a)",
            "outputs": [
                {
                    "output_type": "execute_result",
                    "metadata": {},
                    "data": {
                        "text/plain": "[slice(0, 10, None)]"
                    },
                    "execution_count": null
                }
            ]
        },
        {
            "id": "d5be792e",
            "cell_type": "code",
            "metadata": {},
            "execution_count": null,
            "source": "mask = (a < 3) | (a > 8) | (a == 5)\na[mask] = np.ma.masked\nnp.array(a[~a.mask])",
            "outputs": [
                {
                    "output_type": "execute_result",
                    "metadata": {},
                    "data": {
                        "text/plain": "array([3, 4, 6, 7, 8])"
                    },
                    "execution_count": null
                }
            ]
        },
        {
            "id": "4f8188da",
            "cell_type": "code",
            "metadata": {},
            "execution_count": null,
            "source": "np.ma.flatnotmasked_contiguous(a)",
            "outputs": [
                {
                    "output_type": "execute_result",
                    "metadata": {},
                    "data": {
                        "text/plain": "[slice(3, 5, None), slice(6, 9, None)]"
                    },
                    "execution_count": null
                }
            ]
        },
        {
            "id": "7560bc75",
            "cell_type": "code",
            "metadata": {},
            "execution_count": null,
            "source": "a[:] = np.ma.masked\nnp.ma.flatnotmasked_contiguous(a)",
            "outputs": [
                {
                    "output_type": "execute_result",
                    "metadata": {},
                    "data": {
                        "text/plain": "[]"
                    },
                    "execution_count": null
                }
            ]
        }
    ]
}