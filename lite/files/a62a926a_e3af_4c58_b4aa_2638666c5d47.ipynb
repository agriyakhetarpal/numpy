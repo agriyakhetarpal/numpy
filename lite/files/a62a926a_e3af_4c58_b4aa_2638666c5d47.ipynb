{
    "nbformat": 4,
    "nbformat_minor": 5,
    "metadata": {
        "kernelspec": {
            "display_name": "Python",
            "language": "python",
            "name": "python"
        },
        "language_info": {
            "name": "python"
        }
    },
    "cells": [
        {
            "id": "fcfc91c0",
            "cell_type": "markdown",
            "source": "<div class='alert alert-warning'>\n\nNumPy's interactive examples are experimental and may not always work as expected, with high load times especially on low-resource platforms, , and the version of NumPy might not be in sync with the one you are browsing the documentation for. If you encounter any issues, please report them on the [NumPy issue tracker](https://github.com/numpy/numpy/issues).\n\n</div>",
            "metadata": {}
        },
        {
            "id": "49529be6",
            "cell_type": "code",
            "metadata": {},
            "execution_count": null,
            "source": "import numpy as np\nnp.add.types",
            "outputs": [
                {
                    "output_type": "execute_result",
                    "metadata": {},
                    "data": {
                        "text/plain": "['??->?', 'bb->b', 'BB->B', 'hh->h', 'HH->H', 'ii->i', 'II->I', 'll->l',\n'LL->L', 'qq->q', 'QQ->Q', 'ff->f', 'dd->d', 'gg->g', 'FF->F', 'DD->D',\n'GG->G', 'OO->O']"
                    },
                    "execution_count": null
                }
            ]
        },
        {
            "id": "514d4434",
            "cell_type": "code",
            "metadata": {},
            "execution_count": null,
            "source": "np.multiply.types",
            "outputs": [
                {
                    "output_type": "execute_result",
                    "metadata": {},
                    "data": {
                        "text/plain": "['??->?', 'bb->b', 'BB->B', 'hh->h', 'HH->H', 'ii->i', 'II->I', 'll->l',\n'LL->L', 'qq->q', 'QQ->Q', 'ff->f', 'dd->d', 'gg->g', 'FF->F', 'DD->D',\n'GG->G', 'OO->O']"
                    },
                    "execution_count": null
                }
            ]
        },
        {
            "id": "dcc4f305",
            "cell_type": "code",
            "metadata": {},
            "execution_count": null,
            "source": "np.power.types",
            "outputs": [
                {
                    "output_type": "execute_result",
                    "metadata": {},
                    "data": {
                        "text/plain": "['bb->b', 'BB->B', 'hh->h', 'HH->H', 'ii->i', 'II->I', 'll->l', 'LL->L',\n'qq->q', 'QQ->Q', 'ff->f', 'dd->d', 'gg->g', 'FF->F', 'DD->D', 'GG->G',\n'OO->O']"
                    },
                    "execution_count": null
                }
            ]
        },
        {
            "id": "e2555364",
            "cell_type": "code",
            "metadata": {},
            "execution_count": null,
            "source": "np.exp.types",
            "outputs": [
                {
                    "output_type": "execute_result",
                    "metadata": {},
                    "data": {
                        "text/plain": "['f->f', 'd->d', 'g->g', 'F->F', 'D->D', 'G->G', 'O->O']"
                    },
                    "execution_count": null
                }
            ]
        },
        {
            "id": "b6e07a4c",
            "cell_type": "code",
            "metadata": {},
            "execution_count": null,
            "source": "np.remainder.types",
            "outputs": [
                {
                    "output_type": "execute_result",
                    "metadata": {},
                    "data": {
                        "text/plain": "['bb->b', 'BB->B', 'hh->h', 'HH->H', 'ii->i', 'II->I', 'll->l', 'LL->L',\n'qq->q', 'QQ->Q', 'ff->f', 'dd->d', 'gg->g', 'OO->O']"
                    },
                    "execution_count": null
                }
            ]
        }
    ]
}