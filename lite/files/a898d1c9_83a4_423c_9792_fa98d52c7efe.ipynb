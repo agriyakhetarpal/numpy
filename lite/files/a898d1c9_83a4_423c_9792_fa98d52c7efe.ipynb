{
    "nbformat": 4,
    "nbformat_minor": 5,
    "metadata": {
        "kernelspec": {
            "display_name": "Python",
            "language": "python",
            "name": "python"
        },
        "language_info": {
            "name": "python"
        }
    },
    "cells": [
        {
            "id": "d8bfb3fd",
            "cell_type": "markdown",
            "source": "<div class='alert alert-warning'>\n\nNumPy's interactive examples are experimental and may not always work as expected, with high load times especially on low-resource platforms, and the version of NumPy might not be in sync with the one you are browsing the documentation for. If you encounter any issues, please report them on the [NumPy issue tracker](https://github.com/numpy/numpy/issues).\n\n</div>",
            "metadata": {}
        },
        {
            "id": "64e6969c",
            "cell_type": "code",
            "metadata": {},
            "execution_count": null,
            "source": "import numpy as np\ngrid = np.indices((2, 3))\ngrid.shape",
            "outputs": [
                {
                    "output_type": "execute_result",
                    "metadata": {},
                    "data": {
                        "text/plain": "(2, 2, 3)"
                    },
                    "execution_count": null
                }
            ]
        },
        {
            "id": "db0238a7",
            "cell_type": "code",
            "metadata": {},
            "execution_count": null,
            "source": "grid[0]        # row indices",
            "outputs": [
                {
                    "output_type": "execute_result",
                    "metadata": {},
                    "data": {
                        "text/plain": "array([[0, 0, 0],\n       [1, 1, 1]])"
                    },
                    "execution_count": null
                }
            ]
        },
        {
            "id": "a6242a2d",
            "cell_type": "code",
            "metadata": {},
            "execution_count": null,
            "source": "grid[1]        # column indices",
            "outputs": [
                {
                    "output_type": "execute_result",
                    "metadata": {},
                    "data": {
                        "text/plain": "array([[0, 1, 2],\n       [0, 1, 2]])"
                    },
                    "execution_count": null
                }
            ]
        },
        {
            "id": "f6d155e4",
            "cell_type": "markdown",
            "source": "The indices can be used as an index into an array.\n",
            "metadata": {}
        },
        {
            "id": "b389a6d3",
            "cell_type": "code",
            "metadata": {},
            "execution_count": null,
            "source": "x = np.arange(20).reshape(5, 4)\nrow, col = np.indices((2, 3))\nx[row, col]",
            "outputs": [
                {
                    "output_type": "execute_result",
                    "metadata": {},
                    "data": {
                        "text/plain": "array([[0, 1, 2],\n       [4, 5, 6]])"
                    },
                    "execution_count": null
                }
            ]
        },
        {
            "id": "56039088",
            "cell_type": "markdown",
            "source": "Note that it would be more straightforward in the above example to\nextract the required elements directly with ``x[:2, :3]``.\n\nIf sparse is set to true, the grid will be returned in a sparse\nrepresentation.\n",
            "metadata": {}
        },
        {
            "id": "b087d891",
            "cell_type": "code",
            "metadata": {},
            "execution_count": null,
            "source": "i, j = np.indices((2, 3), sparse=True)\ni.shape",
            "outputs": [
                {
                    "output_type": "execute_result",
                    "metadata": {},
                    "data": {
                        "text/plain": "(2, 1)"
                    },
                    "execution_count": null
                }
            ]
        },
        {
            "id": "2209c586",
            "cell_type": "code",
            "metadata": {},
            "execution_count": null,
            "source": "j.shape",
            "outputs": [
                {
                    "output_type": "execute_result",
                    "metadata": {},
                    "data": {
                        "text/plain": "(1, 3)"
                    },
                    "execution_count": null
                }
            ]
        },
        {
            "id": "76b199d6",
            "cell_type": "code",
            "metadata": {},
            "execution_count": null,
            "source": "i        # row indices",
            "outputs": [
                {
                    "output_type": "execute_result",
                    "metadata": {},
                    "data": {
                        "text/plain": "array([[0],\n       [1]])"
                    },
                    "execution_count": null
                }
            ]
        },
        {
            "id": "a3ea183b",
            "cell_type": "code",
            "metadata": {},
            "execution_count": null,
            "source": "j        # column indices",
            "outputs": [
                {
                    "output_type": "execute_result",
                    "metadata": {},
                    "data": {
                        "text/plain": "array([[0, 1, 2]])"
                    },
                    "execution_count": null
                }
            ]
        }
    ]
}