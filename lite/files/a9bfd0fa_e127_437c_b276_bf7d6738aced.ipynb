{
    "nbformat": 4,
    "nbformat_minor": 5,
    "metadata": {
        "kernelspec": {
            "display_name": "Python",
            "language": "python",
            "name": "python"
        },
        "language_info": {
            "name": "python"
        }
    },
    "cells": [
        {
            "id": "556671e0",
            "cell_type": "markdown",
            "source": "<div class='alert alert-warning'>\n\nNumPy's interactive examples are experimental and may not always work as expected, with high load times especially on low-resource platforms, , and the version of NumPy might not be in sync with the one you are browsing the documentation for. If you encounter any issues, please report them on the [NumPy issue tracker](https://github.com/numpy/numpy/issues).\n\n</div>",
            "metadata": {}
        },
        {
            "id": "47572e45",
            "cell_type": "code",
            "metadata": {},
            "execution_count": null,
            "source": "import numpy as np\nimport pytz\nd = np.arange('2002-10-27T04:30', 4*60, 60, dtype='M8[m]')\nd",
            "outputs": [
                {
                    "output_type": "execute_result",
                    "metadata": {},
                    "data": {
                        "text/plain": "array(['2002-10-27T04:30', '2002-10-27T05:30', '2002-10-27T06:30',\n       '2002-10-27T07:30'], dtype='datetime64[m]')"
                    },
                    "execution_count": null
                }
            ]
        },
        {
            "id": "994a605f",
            "cell_type": "markdown",
            "source": "Setting the timezone to UTC shows the same information, but with a Z suffix\n",
            "metadata": {}
        },
        {
            "id": "111f482b",
            "cell_type": "code",
            "metadata": {},
            "execution_count": null,
            "source": "np.datetime_as_string(d, timezone='UTC')",
            "outputs": [
                {
                    "output_type": "execute_result",
                    "metadata": {},
                    "data": {
                        "text/plain": "array(['2002-10-27T04:30Z', '2002-10-27T05:30Z', '2002-10-27T06:30Z',\n       '2002-10-27T07:30Z'], dtype='<U35')"
                    },
                    "execution_count": null
                }
            ]
        },
        {
            "id": "a142f8ce",
            "cell_type": "markdown",
            "source": "Note that we picked datetimes that cross a DST boundary. Passing in a\n``pytz`` timezone object will print the appropriate offset\n",
            "metadata": {}
        },
        {
            "id": "4dbdca7e",
            "cell_type": "code",
            "metadata": {},
            "execution_count": null,
            "source": "np.datetime_as_string(d, timezone=pytz.timezone('US/Eastern'))",
            "outputs": [
                {
                    "output_type": "execute_result",
                    "metadata": {},
                    "data": {
                        "text/plain": "array(['2002-10-27T00:30-0400', '2002-10-27T01:30-0400',\n       '2002-10-27T01:30-0500', '2002-10-27T02:30-0500'], dtype='<U39')"
                    },
                    "execution_count": null
                }
            ]
        },
        {
            "id": "fa49464a",
            "cell_type": "markdown",
            "source": "Passing in a unit will change the precision\n",
            "metadata": {}
        },
        {
            "id": "28a06421",
            "cell_type": "code",
            "metadata": {},
            "execution_count": null,
            "source": "np.datetime_as_string(d, unit='h')",
            "outputs": [
                {
                    "output_type": "execute_result",
                    "metadata": {},
                    "data": {
                        "text/plain": "array(['2002-10-27T04', '2002-10-27T05', '2002-10-27T06', '2002-10-27T07'],\n      dtype='<U32')"
                    },
                    "execution_count": null
                }
            ]
        },
        {
            "id": "98512c2c",
            "cell_type": "code",
            "metadata": {},
            "execution_count": null,
            "source": "np.datetime_as_string(d, unit='s')",
            "outputs": [
                {
                    "output_type": "execute_result",
                    "metadata": {},
                    "data": {
                        "text/plain": "array(['2002-10-27T04:30:00', '2002-10-27T05:30:00', '2002-10-27T06:30:00',\n       '2002-10-27T07:30:00'], dtype='<U38')"
                    },
                    "execution_count": null
                }
            ]
        },
        {
            "id": "e5cfd249",
            "cell_type": "markdown",
            "source": "'casting' can be used to specify whether precision can be changed\n",
            "metadata": {}
        },
        {
            "id": "56a2eeaf",
            "cell_type": "code",
            "metadata": {},
            "execution_count": null,
            "source": "np.datetime_as_string(d, unit='h', casting='safe')",
            "outputs": [
                {
                    "output_type": "execute_result",
                    "metadata": {},
                    "data": {
                        "text/plain": "Traceback (most recent call last):\n    ...\nTypeError: Cannot create a datetime string as units 'h' from a NumPy\ndatetime with units 'm' according to the rule 'safe'"
                    },
                    "execution_count": null
                }
            ]
        }
    ]
}