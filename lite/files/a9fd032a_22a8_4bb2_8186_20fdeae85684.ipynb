{
    "nbformat": 4,
    "nbformat_minor": 5,
    "metadata": {
        "kernelspec": {
            "display_name": "Python",
            "language": "python",
            "name": "python"
        },
        "language_info": {
            "name": "python"
        }
    },
    "cells": [
        {
            "id": "f8ebb809",
            "cell_type": "markdown",
            "source": "<div class='alert alert-warning'>\n\nNumPy's interactive examples are experimental and may not always work as expected, with high load times especially on low-resource platforms, , and the version of NumPy might not be in sync with the one you are browsing the documentation for. If you encounter any issues, please report them on the [NumPy issue tracker](https://github.com/numpy/numpy/issues).\n\n</div>",
            "metadata": {}
        },
        {
            "id": "1209644e",
            "cell_type": "code",
            "metadata": {},
            "execution_count": null,
            "source": "import numpy as np\nx = np.array([[3, 0, 0], [0, 4, 0], [5, 6, 0]])\nx",
            "outputs": [
                {
                    "output_type": "execute_result",
                    "metadata": {},
                    "data": {
                        "text/plain": "array([[3, 0, 0],\n       [0, 4, 0],\n       [5, 6, 0]])"
                    },
                    "execution_count": null
                }
            ]
        },
        {
            "id": "8f2eb887",
            "cell_type": "code",
            "metadata": {},
            "execution_count": null,
            "source": "np.nonzero(x)",
            "outputs": [
                {
                    "output_type": "execute_result",
                    "metadata": {},
                    "data": {
                        "text/plain": "(array([0, 1, 2, 2]), array([0, 1, 0, 1]))"
                    },
                    "execution_count": null
                }
            ]
        },
        {
            "id": "59a23230",
            "cell_type": "code",
            "metadata": {},
            "execution_count": null,
            "source": "x[np.nonzero(x)]",
            "outputs": [
                {
                    "output_type": "execute_result",
                    "metadata": {},
                    "data": {
                        "text/plain": "array([3, 4, 5, 6])"
                    },
                    "execution_count": null
                }
            ]
        },
        {
            "id": "2a4c7b62",
            "cell_type": "code",
            "metadata": {},
            "execution_count": null,
            "source": "np.transpose(np.nonzero(x))",
            "outputs": [
                {
                    "output_type": "execute_result",
                    "metadata": {},
                    "data": {
                        "text/plain": "array([[0, 0],\n       [1, 1],\n       [2, 0],\n       [2, 1]])"
                    },
                    "execution_count": null
                }
            ]
        },
        {
            "id": "66c704e1",
            "cell_type": "markdown",
            "source": "A common use for ``nonzero`` is to find the indices of an array, where\na condition is True.  Given an array `a`, the condition `a` > 3 is a\nboolean array and since False is interpreted as 0, np.nonzero(a > 3)\nyields the indices of the `a` where the condition is true.\n",
            "metadata": {}
        },
        {
            "id": "029c3a33",
            "cell_type": "code",
            "metadata": {},
            "execution_count": null,
            "source": "a = np.array([[1, 2, 3], [4, 5, 6], [7, 8, 9]])\na > 3",
            "outputs": [
                {
                    "output_type": "execute_result",
                    "metadata": {},
                    "data": {
                        "text/plain": "array([[False, False, False],\n       [ True,  True,  True],\n       [ True,  True,  True]])"
                    },
                    "execution_count": null
                }
            ]
        },
        {
            "id": "502e1bdd",
            "cell_type": "code",
            "metadata": {},
            "execution_count": null,
            "source": "np.nonzero(a > 3)",
            "outputs": [
                {
                    "output_type": "execute_result",
                    "metadata": {},
                    "data": {
                        "text/plain": "(array([1, 1, 1, 2, 2, 2]), array([0, 1, 2, 0, 1, 2]))"
                    },
                    "execution_count": null
                }
            ]
        },
        {
            "id": "350b165e",
            "cell_type": "markdown",
            "source": "Using this result to index `a` is equivalent to using the mask directly:\n",
            "metadata": {}
        },
        {
            "id": "907fb212",
            "cell_type": "code",
            "metadata": {},
            "execution_count": null,
            "source": "a[np.nonzero(a > 3)]",
            "outputs": [
                {
                    "output_type": "execute_result",
                    "metadata": {},
                    "data": {
                        "text/plain": "array([4, 5, 6, 7, 8, 9])"
                    },
                    "execution_count": null
                }
            ]
        },
        {
            "id": "153a14b8",
            "cell_type": "code",
            "metadata": {},
            "execution_count": null,
            "source": "a[a > 3]  # prefer this spelling",
            "outputs": [
                {
                    "output_type": "execute_result",
                    "metadata": {},
                    "data": {
                        "text/plain": "array([4, 5, 6, 7, 8, 9])"
                    },
                    "execution_count": null
                }
            ]
        },
        {
            "id": "1d4e00c9",
            "cell_type": "markdown",
            "source": "``nonzero`` can also be called as a method of the array.\n",
            "metadata": {}
        },
        {
            "id": "6c2795e7",
            "cell_type": "code",
            "metadata": {},
            "execution_count": null,
            "source": "(a > 3).nonzero()",
            "outputs": [
                {
                    "output_type": "execute_result",
                    "metadata": {},
                    "data": {
                        "text/plain": "(array([1, 1, 1, 2, 2, 2]), array([0, 1, 2, 0, 1, 2]))"
                    },
                    "execution_count": null
                }
            ]
        }
    ]
}