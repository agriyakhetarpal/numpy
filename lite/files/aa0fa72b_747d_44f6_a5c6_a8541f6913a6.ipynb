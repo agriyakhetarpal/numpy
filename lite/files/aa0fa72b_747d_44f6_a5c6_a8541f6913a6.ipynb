{
    "nbformat": 4,
    "nbformat_minor": 5,
    "metadata": {
        "kernelspec": {
            "display_name": "Python",
            "language": "python",
            "name": "python"
        },
        "language_info": {
            "name": "python"
        }
    },
    "cells": [
        {
            "id": "6bc79c9b",
            "cell_type": "markdown",
            "source": "<div class='alert alert-warning'>\n\nNumPy's interactive examples are experimental and may not always work as expected, with high load times especially on low-resource platforms, and the version of NumPy might not be in sync with the one you are browsing the documentation for. If you encounter any issues, please report them on the [NumPy issue tracker](https://github.com/numpy/numpy/issues).\n\n</div>",
            "metadata": {}
        },
        {
            "id": "514acfec",
            "cell_type": "code",
            "metadata": {},
            "execution_count": null,
            "source": "import numpy as np\norig_settings = np.seterr(all='ignore')  # seterr to known value\nnp.int16(32000) * np.int16(3)",
            "outputs": [
                {
                    "output_type": "execute_result",
                    "metadata": {},
                    "data": {
                        "text/plain": "np.int16(30464)"
                    },
                    "execution_count": null
                }
            ]
        },
        {
            "id": "9e96e5b3",
            "cell_type": "code",
            "metadata": {},
            "execution_count": null,
            "source": "np.seterr(over='raise')",
            "outputs": [
                {
                    "output_type": "execute_result",
                    "metadata": {},
                    "data": {
                        "text/plain": "{'divide': 'ignore', 'over': 'ignore', 'under': 'ignore', 'invalid': 'ignore'}"
                    },
                    "execution_count": null
                }
            ]
        },
        {
            "id": "e7a0715e",
            "cell_type": "code",
            "metadata": {},
            "execution_count": null,
            "source": "old_settings = np.seterr(all='warn', over='raise')\nnp.int16(32000) * np.int16(3)",
            "outputs": [
                {
                    "output_type": "execute_result",
                    "metadata": {},
                    "data": {
                        "text/plain": "Traceback (most recent call last):\n  File \"<stdin>\", line 1, in <module>\nFloatingPointError: overflow encountered in scalar multiply"
                    },
                    "execution_count": null
                }
            ]
        },
        {
            "id": "4395f2cb",
            "cell_type": "code",
            "metadata": {},
            "execution_count": null,
            "source": "old_settings = np.seterr(all='print')\nnp.geterr()",
            "outputs": [
                {
                    "output_type": "execute_result",
                    "metadata": {},
                    "data": {
                        "text/plain": "{'divide': 'print', 'over': 'print', 'under': 'print', 'invalid': 'print'}"
                    },
                    "execution_count": null
                }
            ]
        },
        {
            "id": "842e7d93",
            "cell_type": "code",
            "metadata": {},
            "execution_count": null,
            "source": "np.int16(32000) * np.int16(3)",
            "outputs": [
                {
                    "output_type": "execute_result",
                    "metadata": {},
                    "data": {
                        "text/plain": "np.int16(30464)"
                    },
                    "execution_count": null
                }
            ]
        },
        {
            "id": "32763837",
            "cell_type": "code",
            "metadata": {},
            "execution_count": null,
            "source": "np.seterr(**orig_settings)  # restore original",
            "outputs": [
                {
                    "output_type": "execute_result",
                    "metadata": {},
                    "data": {
                        "text/plain": "{'divide': 'print', 'over': 'print', 'under': 'print', 'invalid': 'print'}"
                    },
                    "execution_count": null
                }
            ]
        }
    ]
}