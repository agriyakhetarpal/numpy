{
    "nbformat": 4,
    "nbformat_minor": 5,
    "metadata": {
        "kernelspec": {
            "display_name": "Python",
            "language": "python",
            "name": "python"
        },
        "language_info": {
            "name": "python"
        }
    },
    "cells": [
        {
            "id": "95d9697a",
            "cell_type": "markdown",
            "source": "<div class='alert alert-warning'>\n\nNumPy's interactive examples are experimental and may not always work as expected, with high load times especially on low-resource platforms, , and the version of NumPy might not be in sync with the one you are browsing the documentation for. If you encounter any issues, please report them on the [NumPy issue tracker](https://github.com/numpy/numpy/issues).\n\n</div>",
            "metadata": {}
        },
        {
            "id": "8e4250f6",
            "cell_type": "code",
            "metadata": {},
            "execution_count": null,
            "source": "np.testing.assert_approx_equal(0.12345677777777e-20, 0.1234567e-20)\nnp.testing.assert_approx_equal(0.12345670e-20, 0.12345671e-20,\n                               significant=8)\nnp.testing.assert_approx_equal(0.12345670e-20, 0.12345672e-20,\n                               significant=8)",
            "outputs": [
                {
                    "output_type": "execute_result",
                    "metadata": {},
                    "data": {
                        "text/plain": "Traceback (most recent call last):\n    ...\nAssertionError:\nItems are not equal to 8 significant digits:\n ACTUAL: 1.234567e-21\n DESIRED: 1.2345672e-21"
                    },
                    "execution_count": null
                }
            ]
        },
        {
            "id": "a61ff88f",
            "cell_type": "markdown",
            "source": "the evaluated condition that raises the exception is\n",
            "metadata": {}
        },
        {
            "id": "5a4b3ccf",
            "cell_type": "code",
            "metadata": {},
            "execution_count": null,
            "source": "abs(0.12345670e-20/1e-21 - 0.12345672e-20/1e-21) >= 10**-(8-1)",
            "outputs": [
                {
                    "output_type": "execute_result",
                    "metadata": {},
                    "data": {
                        "text/plain": "True"
                    },
                    "execution_count": null
                }
            ]
        }
    ]
}