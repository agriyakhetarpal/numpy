{
    "nbformat": 4,
    "nbformat_minor": 5,
    "metadata": {
        "kernelspec": {
            "display_name": "Python",
            "language": "python",
            "name": "python"
        },
        "language_info": {
            "name": "python"
        }
    },
    "cells": [
        {
            "id": "a682ba01",
            "cell_type": "markdown",
            "source": "<div class='alert alert-warning'>\n\nNumPy's interactive examples are experimental and may not always work as expected, with high load times especially on low-resource platforms, and the version of NumPy might not be in sync with the one you are browsing the documentation for. If you encounter any issues, please report them on the [NumPy issue tracker](https://github.com/numpy/numpy/issues).\n\n</div>",
            "metadata": {}
        },
        {
            "id": "bee94cd3",
            "cell_type": "code",
            "metadata": {},
            "execution_count": null,
            "source": "import numpy as np\nx = np.diag([1.+1.j]*2)\nx[1, 1] = 2 + 4.j\nx",
            "outputs": [
                {
                    "output_type": "execute_result",
                    "metadata": {},
                    "data": {
                        "text/plain": "array([[1.+1.j,  0.+0.j],\n       [0.+0.j,  2.+4.j]])"
                    },
                    "execution_count": null
                }
            ]
        },
        {
            "id": "ad943dc8",
            "cell_type": "code",
            "metadata": {},
            "execution_count": null,
            "source": "x.getfield(np.float64)",
            "outputs": [
                {
                    "output_type": "execute_result",
                    "metadata": {},
                    "data": {
                        "text/plain": "array([[1.,  0.],\n       [0.,  2.]])"
                    },
                    "execution_count": null
                }
            ]
        },
        {
            "id": "94f19238",
            "cell_type": "markdown",
            "source": "By choosing an offset of 8 bytes we can select the complex part of the\narray for our view:\n",
            "metadata": {}
        },
        {
            "id": "1f4f4d6f",
            "cell_type": "code",
            "metadata": {},
            "execution_count": null,
            "source": "x.getfield(np.float64, offset=8)",
            "outputs": [
                {
                    "output_type": "execute_result",
                    "metadata": {},
                    "data": {
                        "text/plain": "array([[1.,  0.],\n       [0.,  4.]])"
                    },
                    "execution_count": null
                }
            ]
        }
    ]
}