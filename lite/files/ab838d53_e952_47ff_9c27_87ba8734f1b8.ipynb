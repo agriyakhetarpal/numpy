{
    "nbformat": 4,
    "nbformat_minor": 5,
    "metadata": {
        "kernelspec": {
            "display_name": "Python",
            "language": "python",
            "name": "python"
        },
        "language_info": {
            "name": "python"
        }
    },
    "cells": [
        {
            "id": "b2fdacd1",
            "cell_type": "markdown",
            "source": "<div class='alert alert-warning'>\n\nNumPy's interactive examples are experimental and may not always work as expected, with high load times especially on low-resource platforms, , and the version of NumPy might not be in sync with the one you are browsing the documentation for. If you encounter any issues, please report them on the [NumPy issue tracker](https://github.com/numpy/numpy/issues).\n\n</div>",
            "metadata": {}
        },
        {
            "id": "87b96dc7",
            "cell_type": "code",
            "metadata": {},
            "execution_count": null,
            "source": "import numpy as np\na = np.arange(4).reshape((2,2))\na",
            "outputs": [
                {
                    "output_type": "execute_result",
                    "metadata": {},
                    "data": {
                        "text/plain": "array([[0, 1],\n       [2, 3]])"
                    },
                    "execution_count": null
                }
            ]
        },
        {
            "id": "16b2ca3d",
            "cell_type": "code",
            "metadata": {},
            "execution_count": null,
            "source": "np.max(a)           # Maximum of the flattened array",
            "outputs": [
                {
                    "output_type": "execute_result",
                    "metadata": {},
                    "data": {
                        "text/plain": "3"
                    },
                    "execution_count": null
                }
            ]
        },
        {
            "id": "3ceafb34",
            "cell_type": "code",
            "metadata": {},
            "execution_count": null,
            "source": "np.max(a, axis=0)   # Maxima along the first axis",
            "outputs": [
                {
                    "output_type": "execute_result",
                    "metadata": {},
                    "data": {
                        "text/plain": "array([2, 3])"
                    },
                    "execution_count": null
                }
            ]
        },
        {
            "id": "988bdd00",
            "cell_type": "code",
            "metadata": {},
            "execution_count": null,
            "source": "np.max(a, axis=1)   # Maxima along the second axis",
            "outputs": [
                {
                    "output_type": "execute_result",
                    "metadata": {},
                    "data": {
                        "text/plain": "array([1, 3])"
                    },
                    "execution_count": null
                }
            ]
        },
        {
            "id": "04a4e367",
            "cell_type": "code",
            "metadata": {},
            "execution_count": null,
            "source": "np.max(a, where=[False, True], initial=-1, axis=0)",
            "outputs": [
                {
                    "output_type": "execute_result",
                    "metadata": {},
                    "data": {
                        "text/plain": "array([-1,  3])"
                    },
                    "execution_count": null
                }
            ]
        },
        {
            "id": "bece5776",
            "cell_type": "code",
            "metadata": {},
            "execution_count": null,
            "source": "b = np.arange(5, dtype=float)\nb[2] = np.nan\nnp.max(b)",
            "outputs": [
                {
                    "output_type": "execute_result",
                    "metadata": {},
                    "data": {
                        "text/plain": "np.float64(nan)"
                    },
                    "execution_count": null
                }
            ]
        },
        {
            "id": "764476cd",
            "cell_type": "code",
            "metadata": {},
            "execution_count": null,
            "source": "np.max(b, where=~np.isnan(b), initial=-1)",
            "outputs": [
                {
                    "output_type": "execute_result",
                    "metadata": {},
                    "data": {
                        "text/plain": "4.0"
                    },
                    "execution_count": null
                }
            ]
        },
        {
            "id": "af1c3ced",
            "cell_type": "code",
            "metadata": {},
            "execution_count": null,
            "source": "np.nanmax(b)",
            "outputs": [
                {
                    "output_type": "execute_result",
                    "metadata": {},
                    "data": {
                        "text/plain": "4.0"
                    },
                    "execution_count": null
                }
            ]
        },
        {
            "id": "cdf63bec",
            "cell_type": "markdown",
            "source": "You can use an initial value to compute the maximum of an empty slice, or\nto initialize it to a different value:\n",
            "metadata": {}
        },
        {
            "id": "f56abd5d",
            "cell_type": "code",
            "metadata": {},
            "execution_count": null,
            "source": "np.max([[-50], [10]], axis=-1, initial=0)",
            "outputs": [
                {
                    "output_type": "execute_result",
                    "metadata": {},
                    "data": {
                        "text/plain": "array([ 0, 10])"
                    },
                    "execution_count": null
                }
            ]
        },
        {
            "id": "00fd2d6b",
            "cell_type": "markdown",
            "source": "Notice that the initial value is used as one of the elements for which the\nmaximum is determined, unlike for the default argument Python's max\nfunction, which is only used for empty iterables.\n",
            "metadata": {}
        },
        {
            "id": "469dba10",
            "cell_type": "code",
            "metadata": {},
            "execution_count": null,
            "source": "np.max([5], initial=6)",
            "outputs": [
                {
                    "output_type": "execute_result",
                    "metadata": {},
                    "data": {
                        "text/plain": "6"
                    },
                    "execution_count": null
                }
            ]
        },
        {
            "id": "19ebb55b",
            "cell_type": "code",
            "metadata": {},
            "execution_count": null,
            "source": "max([5], default=6)",
            "outputs": [
                {
                    "output_type": "execute_result",
                    "metadata": {},
                    "data": {
                        "text/plain": "5"
                    },
                    "execution_count": null
                }
            ]
        }
    ]
}