{
    "nbformat": 4,
    "nbformat_minor": 5,
    "metadata": {
        "kernelspec": {
            "display_name": "Python",
            "language": "python",
            "name": "python"
        },
        "language_info": {
            "name": "python"
        }
    },
    "cells": [
        {
            "id": "f77306f0",
            "cell_type": "markdown",
            "source": "<div class='alert alert-warning'>\n\nNumPy's interactive examples are experimental and may not always work as expected, with high load times especially on low-resource platforms, , and the version of NumPy might not be in sync with the one you are browsing the documentation for. If you encounter any issues, please report them on the [NumPy issue tracker](https://github.com/numpy/numpy/issues).\n\n</div>",
            "metadata": {}
        },
        {
            "id": "7606b0a3",
            "cell_type": "markdown",
            "source": "Draw samples from the distribution:\n",
            "metadata": {}
        },
        {
            "id": "427c272e",
            "cell_type": "code",
            "metadata": {},
            "execution_count": null,
            "source": "rng = np.random.default_rng()\nlam, size = 5, 10000\ns = rng.poisson(lam=lam, size=size)",
            "outputs": []
        },
        {
            "id": "4666a98e",
            "cell_type": "markdown",
            "source": "Verify the mean and variance, which should be approximately ``lam``:\n",
            "metadata": {}
        },
        {
            "id": "96f29baa",
            "cell_type": "code",
            "metadata": {},
            "execution_count": null,
            "source": "s.mean(), s.var()",
            "outputs": [
                {
                    "output_type": "execute_result",
                    "metadata": {},
                    "data": {
                        "text/plain": "(4.9917 5.1088311)  # may vary"
                    },
                    "execution_count": null
                }
            ]
        },
        {
            "id": "85f66646",
            "cell_type": "markdown",
            "source": "Display the histogram and probability mass function:\n",
            "metadata": {}
        },
        {
            "id": "c0309ae4",
            "cell_type": "code",
            "metadata": {},
            "execution_count": null,
            "source": "import matplotlib.pyplot as plt\nfrom scipy import stats\nx = np.arange(0, 21)\npmf = stats.poisson.pmf(x, mu=lam)\nplt.hist(s, bins=x, density=True, width=0.5)\nplt.stem(x, pmf, 'C1-')\nplt.show()",
            "outputs": []
        },
        {
            "id": "de625cd4",
            "cell_type": "markdown",
            "source": "Draw each 100 values for lambda 100 and 500:\n",
            "metadata": {}
        },
        {
            "id": "a39a5f18",
            "cell_type": "code",
            "metadata": {},
            "execution_count": null,
            "source": "s = rng.poisson(lam=(100., 500.), size=(100, 2))",
            "outputs": []
        }
    ]
}