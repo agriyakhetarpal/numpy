{
    "nbformat": 4,
    "nbformat_minor": 5,
    "metadata": {
        "kernelspec": {
            "display_name": "Python",
            "language": "python",
            "name": "python"
        },
        "language_info": {
            "name": "python"
        }
    },
    "cells": [
        {
            "id": "8d1b35cb",
            "cell_type": "markdown",
            "source": "<div class='alert alert-warning'>\n\nNumPy's interactive examples are experimental and may not always work as expected, with high load times especially on low-resource platforms, , and the version of NumPy might not be in sync with the one you are browsing the documentation for. If you encounter any issues, please report them on the [NumPy issue tracker](https://github.com/numpy/numpy/issues).\n\n</div>",
            "metadata": {}
        },
        {
            "id": "a1c2c6ee",
            "cell_type": "code",
            "metadata": {},
            "execution_count": null,
            "source": "import numpy as np",
            "outputs": []
        },
        {
            "id": "6f93daf9",
            "cell_type": "code",
            "metadata": {},
            "execution_count": null,
            "source": "p1d = np.poly1d([1, 2, 3])\np = np.polynomial.Polynomial(p1d.coef[::-1])",
            "outputs": []
        },
        {
            "id": "d468fb24",
            "cell_type": "markdown",
            "source": "In addition to the ``coef`` attribute, polynomials from the polynomial\npackage also have ``domain`` and ``window`` attributes.\nThese attributes are most relevant when fitting\npolynomials to data, though it should be noted that polynomials with\ndifferent ``domain`` and ``window`` attributes are not considered equal, and\ncan't be mixed in arithmetic:\n",
            "metadata": {}
        },
        {
            "id": "31a3b789",
            "cell_type": "code",
            "metadata": {},
            "execution_count": null,
            "source": "p1 = np.polynomial.Polynomial([1, 2, 3])\np1",
            "outputs": [
                {
                    "output_type": "execute_result",
                    "metadata": {},
                    "data": {
                        "text/plain": "Polynomial([1., 2., 3.], domain=[-1.,  1.], window=[-1.,  1.], symbol='x')"
                    },
                    "execution_count": null
                }
            ]
        },
        {
            "id": "c7dd0e67",
            "cell_type": "code",
            "metadata": {},
            "execution_count": null,
            "source": "p2 = np.polynomial.Polynomial([1, 2, 3], domain=[-2, 2])\np1 == p2",
            "outputs": [
                {
                    "output_type": "execute_result",
                    "metadata": {},
                    "data": {
                        "text/plain": "False"
                    },
                    "execution_count": null
                }
            ]
        },
        {
            "id": "385e4677",
            "cell_type": "code",
            "metadata": {},
            "execution_count": null,
            "source": "p1 + p2",
            "outputs": [
                {
                    "output_type": "execute_result",
                    "metadata": {},
                    "data": {
                        "text/plain": "Traceback (most recent call last):\n    ...\nTypeError: Domains differ"
                    },
                    "execution_count": null
                }
            ]
        }
    ]
}