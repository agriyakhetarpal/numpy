{
    "nbformat": 4,
    "nbformat_minor": 5,
    "metadata": {
        "kernelspec": {
            "display_name": "Python",
            "language": "python",
            "name": "python"
        },
        "language_info": {
            "name": "python"
        }
    },
    "cells": [
        {
            "id": "3def4a8b",
            "cell_type": "markdown",
            "source": "<div class='alert alert-warning'>\n\nNumPy's interactive examples are experimental and may not always work as expected, with high load times especially on low-resource platforms, , and the version of NumPy might not be in sync with the one you are browsing the documentation for. If you encounter any issues, please report them on the [NumPy issue tracker](https://github.com/numpy/numpy/issues).\n\n</div>",
            "metadata": {}
        },
        {
            "id": "1c4345ca",
            "cell_type": "code",
            "metadata": {},
            "execution_count": null,
            "source": "import numpy as np",
            "outputs": []
        },
        {
            "id": "25d71f25",
            "cell_type": "code",
            "metadata": {},
            "execution_count": null,
            "source": "x1 = np.array(([1., -1.]))\nnp.positive(x1)",
            "outputs": [
                {
                    "output_type": "execute_result",
                    "metadata": {},
                    "data": {
                        "text/plain": "array([ 1., -1.])"
                    },
                    "execution_count": null
                }
            ]
        },
        {
            "id": "22129d19",
            "cell_type": "markdown",
            "source": "The unary ``+`` operator can be used as a shorthand for ``np.positive`` on\nndarrays.\n",
            "metadata": {}
        },
        {
            "id": "595ef416",
            "cell_type": "code",
            "metadata": {},
            "execution_count": null,
            "source": "x1 = np.array(([1., -1.]))\n+x1",
            "outputs": [
                {
                    "output_type": "execute_result",
                    "metadata": {},
                    "data": {
                        "text/plain": "array([ 1., -1.])"
                    },
                    "execution_count": null
                }
            ]
        }
    ]
}