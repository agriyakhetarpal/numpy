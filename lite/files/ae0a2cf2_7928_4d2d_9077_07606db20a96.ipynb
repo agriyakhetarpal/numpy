{
    "nbformat": 4,
    "nbformat_minor": 5,
    "metadata": {
        "kernelspec": {
            "display_name": "Python",
            "language": "python",
            "name": "python"
        },
        "language_info": {
            "name": "python"
        }
    },
    "cells": [
        {
            "id": "1c4fddbd",
            "cell_type": "markdown",
            "source": "<div class='alert alert-warning'>\n\nNumPy's interactive examples are experimental and may not always work as expected, with high load times especially on low-resource platforms, , and the version of NumPy might not be in sync with the one you are browsing the documentation for. If you encounter any issues, please report them on the [NumPy issue tracker](https://github.com/numpy/numpy/issues).\n\n</div>",
            "metadata": {}
        },
        {
            "id": "1e16666d",
            "cell_type": "code",
            "metadata": {},
            "execution_count": null,
            "source": "import numpy as np\nnp.set_printoptions(precision=4)",
            "outputs": []
        },
        {
            "id": "d423bfc9",
            "cell_type": "code",
            "metadata": {},
            "execution_count": null,
            "source": "np.emath.arctanh(0.5)",
            "outputs": [
                {
                    "output_type": "execute_result",
                    "metadata": {},
                    "data": {
                        "text/plain": "0.5493061443340549"
                    },
                    "execution_count": null
                }
            ]
        },
        {
            "id": "f1f01550",
            "cell_type": "code",
            "metadata": {},
            "execution_count": null,
            "source": "from numpy.testing import suppress_warnings\nwith suppress_warnings() as sup:\n    sup.filter(RuntimeWarning)\n    np.emath.arctanh(np.eye(2))",
            "outputs": [
                {
                    "output_type": "execute_result",
                    "metadata": {},
                    "data": {
                        "text/plain": "array([[inf,  0.],\n       [ 0., inf]])"
                    },
                    "execution_count": null
                }
            ]
        },
        {
            "id": "6388b558",
            "cell_type": "code",
            "metadata": {},
            "execution_count": null,
            "source": "np.emath.arctanh([1j])",
            "outputs": [
                {
                    "output_type": "execute_result",
                    "metadata": {},
                    "data": {
                        "text/plain": "array([0.+0.7854j])"
                    },
                    "execution_count": null
                }
            ]
        }
    ]
}