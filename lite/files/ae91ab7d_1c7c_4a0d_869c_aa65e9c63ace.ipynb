{
    "nbformat": 4,
    "nbformat_minor": 5,
    "metadata": {
        "kernelspec": {
            "display_name": "Python",
            "language": "python",
            "name": "python"
        },
        "language_info": {
            "name": "python"
        }
    },
    "cells": [
        {
            "id": "c9359743",
            "cell_type": "markdown",
            "source": "<div class='alert alert-warning'>\n\nNumPy's interactive examples are experimental and may not always work as expected, with high load times especially on low-resource platforms, and the version of NumPy might not be in sync with the one you are browsing the documentation for. If you encounter any issues, please report them on the [NumPy issue tracker](https://github.com/numpy/numpy/issues).\n\n</div>",
            "metadata": {}
        },
        {
            "id": "0be34352",
            "cell_type": "markdown",
            "source": "Basic examples\n",
            "metadata": {}
        },
        {
            "id": "a91d14c8",
            "cell_type": "code",
            "metadata": {},
            "execution_count": null,
            "source": "import numpy as np\nnp.can_cast(np.int32, np.int64)",
            "outputs": [
                {
                    "output_type": "execute_result",
                    "metadata": {},
                    "data": {
                        "text/plain": "True"
                    },
                    "execution_count": null
                }
            ]
        },
        {
            "id": "bea305d1",
            "cell_type": "code",
            "metadata": {},
            "execution_count": null,
            "source": "np.can_cast(np.float64, complex)",
            "outputs": [
                {
                    "output_type": "execute_result",
                    "metadata": {},
                    "data": {
                        "text/plain": "True"
                    },
                    "execution_count": null
                }
            ]
        },
        {
            "id": "6ae4106c",
            "cell_type": "code",
            "metadata": {},
            "execution_count": null,
            "source": "np.can_cast(complex, float)",
            "outputs": [
                {
                    "output_type": "execute_result",
                    "metadata": {},
                    "data": {
                        "text/plain": "False"
                    },
                    "execution_count": null
                }
            ]
        },
        {
            "id": "3c638775",
            "cell_type": "code",
            "metadata": {},
            "execution_count": null,
            "source": "np.can_cast('i8', 'f8')",
            "outputs": [
                {
                    "output_type": "execute_result",
                    "metadata": {},
                    "data": {
                        "text/plain": "True"
                    },
                    "execution_count": null
                }
            ]
        },
        {
            "id": "c6df8d0d",
            "cell_type": "code",
            "metadata": {},
            "execution_count": null,
            "source": "np.can_cast('i8', 'f4')",
            "outputs": [
                {
                    "output_type": "execute_result",
                    "metadata": {},
                    "data": {
                        "text/plain": "False"
                    },
                    "execution_count": null
                }
            ]
        },
        {
            "id": "d4126bf5",
            "cell_type": "code",
            "metadata": {},
            "execution_count": null,
            "source": "np.can_cast('i4', 'S4')",
            "outputs": [
                {
                    "output_type": "execute_result",
                    "metadata": {},
                    "data": {
                        "text/plain": "False"
                    },
                    "execution_count": null
                }
            ]
        }
    ]
}