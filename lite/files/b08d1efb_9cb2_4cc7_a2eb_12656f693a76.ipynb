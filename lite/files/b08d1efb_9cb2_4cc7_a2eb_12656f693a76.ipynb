{
    "nbformat": 4,
    "nbformat_minor": 5,
    "metadata": {
        "kernelspec": {
            "display_name": "Python",
            "language": "python",
            "name": "python"
        },
        "language_info": {
            "name": "python"
        }
    },
    "cells": [
        {
            "id": "0f4bea5e",
            "cell_type": "markdown",
            "source": "<div class='alert alert-warning'>\n\nNumPy's interactive examples are experimental and may not always work as expected, with high load times especially on low-resource platforms, , and the version of NumPy might not be in sync with the one you are browsing the documentation for. If you encounter any issues, please report them on the [NumPy issue tracker](https://github.com/numpy/numpy/issues).\n\n</div>",
            "metadata": {}
        },
        {
            "id": "ca82e44f",
            "cell_type": "markdown",
            "source": "Create a polynomial object for ``1 + 7*x + 4*x**2``:\n",
            "metadata": {}
        },
        {
            "id": "4dea7afc",
            "cell_type": "code",
            "metadata": {},
            "execution_count": null,
            "source": "poly = np.polynomial.Polynomial([1, 7, 4])\nprint(poly)",
            "outputs": [
                {
                    "output_type": "execute_result",
                    "metadata": {},
                    "data": {
                        "text/plain": "1.0 + 7.0·x + 4.0·x²"
                    },
                    "execution_count": null
                }
            ]
        },
        {
            "id": "c638f49e",
            "cell_type": "code",
            "metadata": {},
            "execution_count": null,
            "source": "poly.degree()",
            "outputs": [
                {
                    "output_type": "execute_result",
                    "metadata": {},
                    "data": {
                        "text/plain": "2"
                    },
                    "execution_count": null
                }
            ]
        },
        {
            "id": "7ec466ac",
            "cell_type": "markdown",
            "source": "Note that this method does not check for non-zero coefficients.\nYou must trim the polynomial to remove any trailing zeroes:\n",
            "metadata": {}
        },
        {
            "id": "e5e7431f",
            "cell_type": "code",
            "metadata": {},
            "execution_count": null,
            "source": "poly = np.polynomial.Polynomial([1, 7, 0])\nprint(poly)",
            "outputs": [
                {
                    "output_type": "execute_result",
                    "metadata": {},
                    "data": {
                        "text/plain": "1.0 + 7.0·x + 0.0·x²"
                    },
                    "execution_count": null
                }
            ]
        },
        {
            "id": "d004c0b2",
            "cell_type": "code",
            "metadata": {},
            "execution_count": null,
            "source": "poly.degree()",
            "outputs": [
                {
                    "output_type": "execute_result",
                    "metadata": {},
                    "data": {
                        "text/plain": "2"
                    },
                    "execution_count": null
                }
            ]
        },
        {
            "id": "a7eafad1",
            "cell_type": "code",
            "metadata": {},
            "execution_count": null,
            "source": "poly.trim().degree()",
            "outputs": [
                {
                    "output_type": "execute_result",
                    "metadata": {},
                    "data": {
                        "text/plain": "1"
                    },
                    "execution_count": null
                }
            ]
        }
    ]
}