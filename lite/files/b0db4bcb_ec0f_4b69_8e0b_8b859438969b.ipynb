{
    "nbformat": 4,
    "nbformat_minor": 5,
    "metadata": {
        "kernelspec": {
            "display_name": "Python",
            "language": "python",
            "name": "python"
        },
        "language_info": {
            "name": "python"
        }
    },
    "cells": [
        {
            "id": "108b3ee3",
            "cell_type": "markdown",
            "source": "<div class='alert alert-warning'>\n\nNumPy's interactive examples are experimental and may not always work as expected, with high load times especially on low-resource platforms, and the version of NumPy might not be in sync with the one you are browsing the documentation for. If you encounter any issues, please report them on the [NumPy issue tracker](https://github.com/numpy/numpy/issues).\n\n</div>",
            "metadata": {}
        },
        {
            "id": "3937da65",
            "cell_type": "markdown",
            "source": "Throw a dice 20 times:\n",
            "metadata": {}
        },
        {
            "id": "8442ec9c",
            "cell_type": "code",
            "metadata": {},
            "execution_count": null,
            "source": "np.random.multinomial(20, [1/6.]*6, size=1)",
            "outputs": [
                {
                    "output_type": "execute_result",
                    "metadata": {},
                    "data": {
                        "text/plain": "array([[4, 1, 7, 5, 2, 1]]) # random"
                    },
                    "execution_count": null
                }
            ]
        },
        {
            "id": "7acee214",
            "cell_type": "markdown",
            "source": "It landed 4 times on 1, once on 2, etc.\n\nNow, throw the dice 20 times, and 20 times again:\n",
            "metadata": {}
        },
        {
            "id": "40224295",
            "cell_type": "code",
            "metadata": {},
            "execution_count": null,
            "source": "np.random.multinomial(20, [1/6.]*6, size=2)",
            "outputs": [
                {
                    "output_type": "execute_result",
                    "metadata": {},
                    "data": {
                        "text/plain": "array([[3, 4, 3, 3, 4, 3], # random\n       [2, 4, 3, 4, 0, 7]])"
                    },
                    "execution_count": null
                }
            ]
        },
        {
            "id": "ba2da632",
            "cell_type": "markdown",
            "source": "For the first run, we threw 3 times 1, 4 times 2, etc.  For the second,\nwe threw 2 times 1, 4 times 2, etc.\n\nA loaded die is more likely to land on number 6:\n",
            "metadata": {}
        },
        {
            "id": "233e0ab5",
            "cell_type": "code",
            "metadata": {},
            "execution_count": null,
            "source": "np.random.multinomial(100, [1/7.]*5 + [2/7.])",
            "outputs": [
                {
                    "output_type": "execute_result",
                    "metadata": {},
                    "data": {
                        "text/plain": "array([11, 16, 14, 17, 16, 26]) # random"
                    },
                    "execution_count": null
                }
            ]
        },
        {
            "id": "aaaa7cd1",
            "cell_type": "markdown",
            "source": "The probability inputs should be normalized. As an implementation\ndetail, the value of the last entry is ignored and assumed to take\nup any leftover probability mass, but this should not be relied on.\nA biased coin which has twice as much weight on one side as on the\nother should be sampled like so:\n",
            "metadata": {}
        },
        {
            "id": "6f84e7c1",
            "cell_type": "code",
            "metadata": {},
            "execution_count": null,
            "source": "np.random.multinomial(100, [1.0 / 3, 2.0 / 3])  # RIGHT",
            "outputs": [
                {
                    "output_type": "execute_result",
                    "metadata": {},
                    "data": {
                        "text/plain": "array([38, 62]) # random"
                    },
                    "execution_count": null
                }
            ]
        },
        {
            "id": "8b0f0986",
            "cell_type": "markdown",
            "source": "not like:\n",
            "metadata": {}
        },
        {
            "id": "5bf842ae",
            "cell_type": "code",
            "metadata": {},
            "execution_count": null,
            "source": "np.random.multinomial(100, [1.0, 2.0])  # WRONG",
            "outputs": [
                {
                    "output_type": "execute_result",
                    "metadata": {},
                    "data": {
                        "text/plain": "Traceback (most recent call last):\nValueError: pvals < 0, pvals > 1 or pvals contains NaNs"
                    },
                    "execution_count": null
                }
            ]
        }
    ]
}