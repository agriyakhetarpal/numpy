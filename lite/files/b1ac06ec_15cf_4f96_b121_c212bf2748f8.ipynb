{
    "nbformat": 4,
    "nbformat_minor": 5,
    "metadata": {
        "kernelspec": {
            "display_name": "Python",
            "language": "python",
            "name": "python"
        },
        "language_info": {
            "name": "python"
        }
    },
    "cells": [
        {
            "id": "fc807206",
            "cell_type": "markdown",
            "source": "<div class='alert alert-warning'>\n\nNumPy's interactive examples are experimental and may not always work as expected, with high load times especially on low-resource platforms, and the version of NumPy might not be in sync with the one you are browsing the documentation for. If you encounter any issues, please report them on the [NumPy issue tracker](https://github.com/numpy/numpy/issues).\n\n</div>",
            "metadata": {}
        },
        {
            "id": "3b26e61f",
            "cell_type": "code",
            "metadata": {},
            "execution_count": null,
            "source": "a = np.array([1, 2, 3, 4, 5, 6])\na",
            "outputs": [
                {
                    "output_type": "execute_result",
                    "metadata": {},
                    "data": {
                        "text/plain": "array([1, 2, 3, 4, 5, 6])"
                    },
                    "execution_count": null
                }
            ]
        },
        {
            "id": "4bdd58ac",
            "cell_type": "code",
            "metadata": {},
            "execution_count": null,
            "source": "np.cumulative_sum(a)",
            "outputs": [
                {
                    "output_type": "execute_result",
                    "metadata": {},
                    "data": {
                        "text/plain": "array([ 1,  3,  6, 10, 15, 21])"
                    },
                    "execution_count": null
                }
            ]
        },
        {
            "id": "b3f281d5",
            "cell_type": "code",
            "metadata": {},
            "execution_count": null,
            "source": "np.cumulative_sum(a, dtype=float)  # specifies type of output value(s)",
            "outputs": [
                {
                    "output_type": "execute_result",
                    "metadata": {},
                    "data": {
                        "text/plain": "array([  1.,   3.,   6.,  10.,  15.,  21.])"
                    },
                    "execution_count": null
                }
            ]
        },
        {
            "id": "90d1f721",
            "cell_type": "code",
            "metadata": {},
            "execution_count": null,
            "source": "b = np.array([[1, 2, 3], [4, 5, 6]])\nnp.cumulative_sum(b,axis=0)  # sum over rows for each of the 3 columns",
            "outputs": [
                {
                    "output_type": "execute_result",
                    "metadata": {},
                    "data": {
                        "text/plain": "array([[1, 2, 3],\n       [5, 7, 9]])"
                    },
                    "execution_count": null
                }
            ]
        },
        {
            "id": "b97d53e2",
            "cell_type": "code",
            "metadata": {},
            "execution_count": null,
            "source": "np.cumulative_sum(b,axis=1)  # sum over columns for each of the 2 rows",
            "outputs": [
                {
                    "output_type": "execute_result",
                    "metadata": {},
                    "data": {
                        "text/plain": "array([[ 1,  3,  6],\n       [ 4,  9, 15]])"
                    },
                    "execution_count": null
                }
            ]
        },
        {
            "id": "91acd691",
            "cell_type": "markdown",
            "source": "``cumulative_sum(c)[-1]`` may not be equal to ``sum(c)``\n",
            "metadata": {}
        },
        {
            "id": "a6bc3e87",
            "cell_type": "code",
            "metadata": {},
            "execution_count": null,
            "source": "c = np.array([1, 2e-9, 3e-9] * 1000000)\nnp.cumulative_sum(c)[-1]",
            "outputs": [
                {
                    "output_type": "execute_result",
                    "metadata": {},
                    "data": {
                        "text/plain": "1000000.0050045159"
                    },
                    "execution_count": null
                }
            ]
        },
        {
            "id": "b4144e68",
            "cell_type": "code",
            "metadata": {},
            "execution_count": null,
            "source": "c.sum()",
            "outputs": [
                {
                    "output_type": "execute_result",
                    "metadata": {},
                    "data": {
                        "text/plain": "1000000.0050000029"
                    },
                    "execution_count": null
                }
            ]
        }
    ]
}