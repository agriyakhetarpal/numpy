{
    "nbformat": 4,
    "nbformat_minor": 5,
    "metadata": {
        "kernelspec": {
            "display_name": "Python",
            "language": "python",
            "name": "python"
        },
        "language_info": {
            "name": "python"
        }
    },
    "cells": [
        {
            "id": "081c43dc",
            "cell_type": "markdown",
            "source": "<div class='alert alert-warning'>\n\nNumPy's interactive examples are experimental and may not always work as expected, with high load times especially on low-resource platforms, and the version of NumPy might not be in sync with the one you are browsing the documentation for. If you encounter any issues, please report them on the [NumPy issue tracker](https://github.com/numpy/numpy/issues).\n\n</div>",
            "metadata": {}
        },
        {
            "id": "5353abd1",
            "cell_type": "code",
            "metadata": {},
            "execution_count": null,
            "source": "import numpy as np\nfrom numpy import linalg as LA\na = np.array([[1, -2j], [2j, 5]])\na",
            "outputs": [
                {
                    "output_type": "execute_result",
                    "metadata": {},
                    "data": {
                        "text/plain": "array([[ 1.+0.j, -0.-2.j],\n       [ 0.+2.j,  5.+0.j]])"
                    },
                    "execution_count": null
                }
            ]
        },
        {
            "id": "5d128299",
            "cell_type": "code",
            "metadata": {},
            "execution_count": null,
            "source": "eigenvalues, eigenvectors = LA.eigh(a)\neigenvalues",
            "outputs": [
                {
                    "output_type": "execute_result",
                    "metadata": {},
                    "data": {
                        "text/plain": "array([0.17157288, 5.82842712])"
                    },
                    "execution_count": null
                }
            ]
        },
        {
            "id": "613fd1a1",
            "cell_type": "code",
            "metadata": {},
            "execution_count": null,
            "source": "eigenvectors",
            "outputs": [
                {
                    "output_type": "execute_result",
                    "metadata": {},
                    "data": {
                        "text/plain": "array([[-0.92387953+0.j        , -0.38268343+0.j        ], # may vary\n       [ 0.        +0.38268343j,  0.        -0.92387953j]])"
                    },
                    "execution_count": null
                }
            ]
        },
        {
            "id": "aad8f17d",
            "cell_type": "code",
            "metadata": {},
            "execution_count": null,
            "source": "(np.dot(a, eigenvectors[:, 0]) -\neigenvalues[0] * eigenvectors[:, 0])  # verify 1st eigenval/vec pair",
            "outputs": [
                {
                    "output_type": "execute_result",
                    "metadata": {},
                    "data": {
                        "text/plain": "array([5.55111512e-17+0.0000000e+00j, 0.00000000e+00+1.2490009e-16j])"
                    },
                    "execution_count": null
                }
            ]
        },
        {
            "id": "d73ec01c",
            "cell_type": "code",
            "metadata": {},
            "execution_count": null,
            "source": "(np.dot(a, eigenvectors[:, 1]) -\neigenvalues[1] * eigenvectors[:, 1])  # verify 2nd eigenval/vec pair",
            "outputs": [
                {
                    "output_type": "execute_result",
                    "metadata": {},
                    "data": {
                        "text/plain": "array([0.+0.j, 0.+0.j])"
                    },
                    "execution_count": null
                }
            ]
        },
        {
            "id": "b0449fae",
            "cell_type": "code",
            "metadata": {},
            "execution_count": null,
            "source": "A = np.matrix(a) # what happens if input is a matrix object\nA",
            "outputs": [
                {
                    "output_type": "execute_result",
                    "metadata": {},
                    "data": {
                        "text/plain": "matrix([[ 1.+0.j, -0.-2.j],\n        [ 0.+2.j,  5.+0.j]])"
                    },
                    "execution_count": null
                }
            ]
        },
        {
            "id": "19eac1f5",
            "cell_type": "code",
            "metadata": {},
            "execution_count": null,
            "source": "eigenvalues, eigenvectors = LA.eigh(A)\neigenvalues",
            "outputs": [
                {
                    "output_type": "execute_result",
                    "metadata": {},
                    "data": {
                        "text/plain": "array([0.17157288, 5.82842712])"
                    },
                    "execution_count": null
                }
            ]
        },
        {
            "id": "3e7aded0",
            "cell_type": "code",
            "metadata": {},
            "execution_count": null,
            "source": "eigenvectors",
            "outputs": [
                {
                    "output_type": "execute_result",
                    "metadata": {},
                    "data": {
                        "text/plain": "matrix([[-0.92387953+0.j        , -0.38268343+0.j        ], # may vary\n        [ 0.        +0.38268343j,  0.        -0.92387953j]])"
                    },
                    "execution_count": null
                }
            ]
        },
        {
            "id": "261b1ef2",
            "cell_type": "code",
            "metadata": {},
            "execution_count": null,
            "source": "# demonstrate the treatment of the imaginary part of the diagonal\na = np.array([[5+2j, 9-2j], [0+2j, 2-1j]])\na",
            "outputs": [
                {
                    "output_type": "execute_result",
                    "metadata": {},
                    "data": {
                        "text/plain": "array([[5.+2.j, 9.-2.j],\n       [0.+2.j, 2.-1.j]])"
                    },
                    "execution_count": null
                }
            ]
        },
        {
            "id": "055ccc71",
            "cell_type": "code",
            "metadata": {},
            "execution_count": null,
            "source": "# with UPLO='L' this is numerically equivalent to using LA.eig() with:\nb = np.array([[5.+0.j, 0.-2.j], [0.+2.j, 2.-0.j]])\nb",
            "outputs": [
                {
                    "output_type": "execute_result",
                    "metadata": {},
                    "data": {
                        "text/plain": "array([[5.+0.j, 0.-2.j],\n       [0.+2.j, 2.+0.j]])"
                    },
                    "execution_count": null
                }
            ]
        },
        {
            "id": "4e98d3a1",
            "cell_type": "code",
            "metadata": {},
            "execution_count": null,
            "source": "wa, va = LA.eigh(a)\nwb, vb = LA.eig(b)\nwa",
            "outputs": [
                {
                    "output_type": "execute_result",
                    "metadata": {},
                    "data": {
                        "text/plain": "array([1., 6.])"
                    },
                    "execution_count": null
                }
            ]
        },
        {
            "id": "b5b41b1a",
            "cell_type": "code",
            "metadata": {},
            "execution_count": null,
            "source": "wb",
            "outputs": [
                {
                    "output_type": "execute_result",
                    "metadata": {},
                    "data": {
                        "text/plain": "array([6.+0.j, 1.+0.j])"
                    },
                    "execution_count": null
                }
            ]
        },
        {
            "id": "7059e955",
            "cell_type": "code",
            "metadata": {},
            "execution_count": null,
            "source": "va",
            "outputs": [
                {
                    "output_type": "execute_result",
                    "metadata": {},
                    "data": {
                        "text/plain": "array([[-0.4472136 +0.j        , -0.89442719+0.j        ], # may vary\n       [ 0.        +0.89442719j,  0.        -0.4472136j ]])"
                    },
                    "execution_count": null
                }
            ]
        },
        {
            "id": "be56aefd",
            "cell_type": "code",
            "metadata": {},
            "execution_count": null,
            "source": "vb",
            "outputs": [
                {
                    "output_type": "execute_result",
                    "metadata": {},
                    "data": {
                        "text/plain": "array([[ 0.89442719+0.j       , -0.        +0.4472136j],\n       [-0.        +0.4472136j,  0.89442719+0.j       ]])"
                    },
                    "execution_count": null
                }
            ]
        }
    ]
}