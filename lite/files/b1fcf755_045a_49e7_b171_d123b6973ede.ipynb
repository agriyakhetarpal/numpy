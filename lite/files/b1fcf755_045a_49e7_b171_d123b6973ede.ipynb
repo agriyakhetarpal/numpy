{
    "nbformat": 4,
    "nbformat_minor": 5,
    "metadata": {
        "kernelspec": {
            "display_name": "Python",
            "language": "python",
            "name": "python"
        },
        "language_info": {
            "name": "python"
        }
    },
    "cells": [
        {
            "id": "7a725295",
            "cell_type": "markdown",
            "source": "<div class='alert alert-warning'>\n\nNumPy's interactive examples are experimental and may not always work as expected, with high load times especially on low-resource platforms, and the version of NumPy might not be in sync with the one you are browsing the documentation for. If you encounter any issues, please report them on the [NumPy issue tracker](https://github.com/numpy/numpy/issues).\n\n</div>",
            "metadata": {}
        },
        {
            "id": "edca6704",
            "cell_type": "code",
            "metadata": {},
            "execution_count": null,
            "source": "import numpy as np\nrng = np.random.default_rng()",
            "outputs": []
        },
        {
            "id": "b5bc9b58",
            "cell_type": "markdown",
            "source": "Generate one random float uniformly distributed over the range [0, 1)\n",
            "metadata": {}
        },
        {
            "id": "dc1a15d6",
            "cell_type": "code",
            "metadata": {},
            "execution_count": null,
            "source": "rng.random()  #doctest: +SKIP",
            "outputs": [
                {
                    "output_type": "execute_result",
                    "metadata": {},
                    "data": {
                        "text/plain": "0.06369197489564249  # may vary"
                    },
                    "execution_count": null
                }
            ]
        },
        {
            "id": "d9fc3546",
            "cell_type": "markdown",
            "source": "Generate an array of 10 numbers according to a unit Gaussian distribution\n",
            "metadata": {}
        },
        {
            "id": "918a16d1",
            "cell_type": "code",
            "metadata": {},
            "execution_count": null,
            "source": "rng.standard_normal(10)  #doctest: +SKIP",
            "outputs": [
                {
                    "output_type": "execute_result",
                    "metadata": {},
                    "data": {
                        "text/plain": "array([-0.31018314, -1.8922078 , -0.3628523 , -0.63526532,  0.43181166,  # may vary\n        0.51640373,  1.25693945,  0.07779185,  0.84090247, -2.13406828])"
                    },
                    "execution_count": null
                }
            ]
        },
        {
            "id": "a2641279",
            "cell_type": "markdown",
            "source": "Generate an array of 5 integers uniformly over the range [0, 10)\n",
            "metadata": {}
        },
        {
            "id": "b1942c61",
            "cell_type": "code",
            "metadata": {},
            "execution_count": null,
            "source": "rng.integers(low=0, high=10, size=5)  #doctest: +SKIP",
            "outputs": [
                {
                    "output_type": "execute_result",
                    "metadata": {},
                    "data": {
                        "text/plain": "array([8, 7, 6, 2, 0])  # may vary"
                    },
                    "execution_count": null
                }
            ]
        }
    ]
}