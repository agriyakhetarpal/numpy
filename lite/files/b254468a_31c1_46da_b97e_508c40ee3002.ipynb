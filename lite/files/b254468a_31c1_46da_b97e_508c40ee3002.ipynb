{
    "nbformat": 4,
    "nbformat_minor": 5,
    "metadata": {
        "kernelspec": {
            "display_name": "Python",
            "language": "python",
            "name": "python"
        },
        "language_info": {
            "name": "python"
        }
    },
    "cells": [
        {
            "id": "cdd132c2",
            "cell_type": "markdown",
            "source": "<div class='alert alert-warning'>\n\nNumPy's interactive examples are experimental and may not always work as expected, with high load times especially on low-resource platforms, and the version of NumPy might not be in sync with the one you are browsing the documentation for. If you encounter any issues, please report them on the [NumPy issue tracker](https://github.com/numpy/numpy/issues).\n\n</div>",
            "metadata": {}
        },
        {
            "id": "794a88a1",
            "cell_type": "code",
            "metadata": {},
            "execution_count": null,
            "source": "import numpy as np\ndt = np.dtype(float, metadata={\"key\": \"value\"})\ndt.metadata[\"key\"]",
            "outputs": [
                {
                    "output_type": "execute_result",
                    "metadata": {},
                    "data": {
                        "text/plain": "'value'"
                    },
                    "execution_count": null
                }
            ]
        },
        {
            "id": "cabe7a67",
            "cell_type": "code",
            "metadata": {},
            "execution_count": null,
            "source": "arr = np.array([1, 2, 3], dtype=dt)\narr.dtype.metadata",
            "outputs": [
                {
                    "output_type": "execute_result",
                    "metadata": {},
                    "data": {
                        "text/plain": "mappingproxy({'key': 'value'})"
                    },
                    "execution_count": null
                }
            ]
        },
        {
            "id": "17442701",
            "cell_type": "markdown",
            "source": "Adding arrays with identical datatypes currently preserves the metadata:\n",
            "metadata": {}
        },
        {
            "id": "e50465d2",
            "cell_type": "code",
            "metadata": {},
            "execution_count": null,
            "source": "(arr + arr).dtype.metadata",
            "outputs": [
                {
                    "output_type": "execute_result",
                    "metadata": {},
                    "data": {
                        "text/plain": "mappingproxy({'key': 'value'})"
                    },
                    "execution_count": null
                }
            ]
        },
        {
            "id": "97fed000",
            "cell_type": "markdown",
            "source": "If the arrays have different dtype metadata, the first one wins:\n",
            "metadata": {}
        },
        {
            "id": "9db379e1",
            "cell_type": "code",
            "metadata": {},
            "execution_count": null,
            "source": "dt2 = np.dtype(float, metadata={\"key2\": \"value2\"})\narr2 = np.array([3, 2, 1], dtype=dt2)\nprint((arr + arr2).dtype.metadata)",
            "outputs": [
                {
                    "output_type": "execute_result",
                    "metadata": {},
                    "data": {
                        "text/plain": "{'key': 'value'}"
                    },
                    "execution_count": null
                }
            ]
        }
    ]
}