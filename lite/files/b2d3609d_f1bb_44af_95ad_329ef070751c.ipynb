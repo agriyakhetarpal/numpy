{
    "nbformat": 4,
    "nbformat_minor": 5,
    "metadata": {
        "kernelspec": {
            "display_name": "Python",
            "language": "python",
            "name": "python"
        },
        "language_info": {
            "name": "python"
        }
    },
    "cells": [
        {
            "id": "8a12c754",
            "cell_type": "markdown",
            "source": "<div class='alert alert-warning'>\n\nNumPy's interactive examples are experimental and may not always work as expected, with high load times especially on low-resource platforms, and the version of NumPy might not be in sync with the one you are browsing the documentation for. If you encounter any issues, please report them on the [NumPy issue tracker](https://github.com/numpy/numpy/issues).\n\n</div>",
            "metadata": {}
        },
        {
            "id": "db427fa9",
            "cell_type": "markdown",
            "source": "The defining property of the antiderivative:\n",
            "metadata": {}
        },
        {
            "id": "7f3c4747",
            "cell_type": "code",
            "metadata": {},
            "execution_count": null,
            "source": "import numpy as np",
            "outputs": []
        },
        {
            "id": "eef83bab",
            "cell_type": "code",
            "metadata": {},
            "execution_count": null,
            "source": "p = np.poly1d([1,1,1])\nP = np.polyint(p)\nP",
            "outputs": [
                {
                    "output_type": "execute_result",
                    "metadata": {},
                    "data": {
                        "text/plain": " poly1d([ 0.33333333,  0.5       ,  1.        ,  0.        ]) # may vary"
                    },
                    "execution_count": null
                }
            ]
        },
        {
            "id": "08d68a32",
            "cell_type": "code",
            "metadata": {},
            "execution_count": null,
            "source": "np.polyder(P) == p",
            "outputs": [
                {
                    "output_type": "execute_result",
                    "metadata": {},
                    "data": {
                        "text/plain": "True"
                    },
                    "execution_count": null
                }
            ]
        },
        {
            "id": "ed836b75",
            "cell_type": "markdown",
            "source": "The integration constants default to zero, but can be specified:\n",
            "metadata": {}
        },
        {
            "id": "f9a7af56",
            "cell_type": "code",
            "metadata": {},
            "execution_count": null,
            "source": "P = np.polyint(p, 3)\nP(0)",
            "outputs": [
                {
                    "output_type": "execute_result",
                    "metadata": {},
                    "data": {
                        "text/plain": "0.0"
                    },
                    "execution_count": null
                }
            ]
        },
        {
            "id": "5db39c88",
            "cell_type": "code",
            "metadata": {},
            "execution_count": null,
            "source": "np.polyder(P)(0)",
            "outputs": [
                {
                    "output_type": "execute_result",
                    "metadata": {},
                    "data": {
                        "text/plain": "0.0"
                    },
                    "execution_count": null
                }
            ]
        },
        {
            "id": "2914c50d",
            "cell_type": "code",
            "metadata": {},
            "execution_count": null,
            "source": "np.polyder(P, 2)(0)",
            "outputs": [
                {
                    "output_type": "execute_result",
                    "metadata": {},
                    "data": {
                        "text/plain": "0.0"
                    },
                    "execution_count": null
                }
            ]
        },
        {
            "id": "c9c81c31",
            "cell_type": "code",
            "metadata": {},
            "execution_count": null,
            "source": "P = np.polyint(p, 3, k=[6,5,3])\nP",
            "outputs": [
                {
                    "output_type": "execute_result",
                    "metadata": {},
                    "data": {
                        "text/plain": "poly1d([ 0.01666667,  0.04166667,  0.16666667,  3. ,  5. ,  3. ]) # may vary"
                    },
                    "execution_count": null
                }
            ]
        },
        {
            "id": "e2582064",
            "cell_type": "markdown",
            "source": "Note that 3 = 6 / 2!, and that the constants are given in the order of\nintegrations. Constant of the highest-order polynomial term comes first:\n",
            "metadata": {}
        },
        {
            "id": "949fafbe",
            "cell_type": "code",
            "metadata": {},
            "execution_count": null,
            "source": "np.polyder(P, 2)(0)",
            "outputs": [
                {
                    "output_type": "execute_result",
                    "metadata": {},
                    "data": {
                        "text/plain": "6.0"
                    },
                    "execution_count": null
                }
            ]
        },
        {
            "id": "f9e0cbdd",
            "cell_type": "code",
            "metadata": {},
            "execution_count": null,
            "source": "np.polyder(P, 1)(0)",
            "outputs": [
                {
                    "output_type": "execute_result",
                    "metadata": {},
                    "data": {
                        "text/plain": "5.0"
                    },
                    "execution_count": null
                }
            ]
        },
        {
            "id": "b7f58692",
            "cell_type": "code",
            "metadata": {},
            "execution_count": null,
            "source": "P(0)",
            "outputs": [
                {
                    "output_type": "execute_result",
                    "metadata": {},
                    "data": {
                        "text/plain": "3.0"
                    },
                    "execution_count": null
                }
            ]
        }
    ]
}