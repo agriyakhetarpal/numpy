{
    "nbformat": 4,
    "nbformat_minor": 5,
    "metadata": {
        "kernelspec": {
            "display_name": "Python",
            "language": "python",
            "name": "python"
        },
        "language_info": {
            "name": "python"
        }
    },
    "cells": [
        {
            "id": "8aa5bdff",
            "cell_type": "markdown",
            "source": "<div class='alert alert-warning'>\n\nNumPy's interactive examples are experimental and may not always work as expected, with high load times especially on low-resource platforms, and the version of NumPy might not be in sync with the one you are browsing the documentation for. If you encounter any issues, please report them on the [NumPy issue tracker](https://github.com/numpy/numpy/issues).\n\n</div>",
            "metadata": {}
        },
        {
            "id": "59ad57d3",
            "cell_type": "code",
            "metadata": {},
            "execution_count": null,
            "source": "import numpy as np",
            "outputs": []
        },
        {
            "id": "b29c4f32",
            "cell_type": "markdown",
            "source": "Store data to disk, and load it again:\n",
            "metadata": {}
        },
        {
            "id": "e98d4f1e",
            "cell_type": "code",
            "metadata": {},
            "execution_count": null,
            "source": "np.save('/tmp/123', np.array([[1, 2, 3], [4, 5, 6]]))\nnp.load('/tmp/123.npy')",
            "outputs": [
                {
                    "output_type": "execute_result",
                    "metadata": {},
                    "data": {
                        "text/plain": "array([[1, 2, 3],\n       [4, 5, 6]])"
                    },
                    "execution_count": null
                }
            ]
        },
        {
            "id": "e0dfcaed",
            "cell_type": "markdown",
            "source": "Store compressed data to disk, and load it again:\n",
            "metadata": {}
        },
        {
            "id": "af045b8a",
            "cell_type": "code",
            "metadata": {},
            "execution_count": null,
            "source": "a=np.array([[1, 2, 3], [4, 5, 6]])\nb=np.array([1, 2])\nnp.savez('/tmp/123.npz', a=a, b=b)\ndata = np.load('/tmp/123.npz')\ndata['a']",
            "outputs": [
                {
                    "output_type": "execute_result",
                    "metadata": {},
                    "data": {
                        "text/plain": "array([[1, 2, 3],\n       [4, 5, 6]])"
                    },
                    "execution_count": null
                }
            ]
        },
        {
            "id": "54e97816",
            "cell_type": "code",
            "metadata": {},
            "execution_count": null,
            "source": "data['b']",
            "outputs": [
                {
                    "output_type": "execute_result",
                    "metadata": {},
                    "data": {
                        "text/plain": "array([1, 2])"
                    },
                    "execution_count": null
                }
            ]
        },
        {
            "id": "27ea6827",
            "cell_type": "code",
            "metadata": {},
            "execution_count": null,
            "source": "data.close()",
            "outputs": []
        },
        {
            "id": "e54bf9f6",
            "cell_type": "markdown",
            "source": "Mem-map the stored array, and then access the second row\ndirectly from disk:\n",
            "metadata": {}
        },
        {
            "id": "b12aa360",
            "cell_type": "code",
            "metadata": {},
            "execution_count": null,
            "source": "X = np.load('/tmp/123.npy', mmap_mode='r')\nX[1, :]",
            "outputs": [
                {
                    "output_type": "execute_result",
                    "metadata": {},
                    "data": {
                        "text/plain": "memmap([4, 5, 6])"
                    },
                    "execution_count": null
                }
            ]
        }
    ]
}