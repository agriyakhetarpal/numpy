{
    "nbformat": 4,
    "nbformat_minor": 5,
    "metadata": {
        "kernelspec": {
            "display_name": "Python",
            "language": "python",
            "name": "python"
        },
        "language_info": {
            "name": "python"
        }
    },
    "cells": [
        {
            "id": "0912340c",
            "cell_type": "markdown",
            "source": "<div class='alert alert-warning'>\n\nNumPy's interactive examples are experimental and may not always work as expected, with high load times especially on low-resource platforms, and the version of NumPy might not be in sync with the one you are browsing the documentation for. If you encounter any issues, please report them on the [NumPy issue tracker](https://github.com/numpy/numpy/issues).\n\n</div>",
            "metadata": {}
        },
        {
            "id": "9a9a6604",
            "cell_type": "code",
            "metadata": {},
            "execution_count": null,
            "source": "import numpy as np\nnp.fft.fft([0, 1, 0, 0])",
            "outputs": [
                {
                    "output_type": "execute_result",
                    "metadata": {},
                    "data": {
                        "text/plain": "array([ 1.+0.j,  0.-1.j, -1.+0.j,  0.+1.j]) # may vary"
                    },
                    "execution_count": null
                }
            ]
        },
        {
            "id": "2eddd1c9",
            "cell_type": "code",
            "metadata": {},
            "execution_count": null,
            "source": "np.fft.rfft([0, 1, 0, 0])",
            "outputs": [
                {
                    "output_type": "execute_result",
                    "metadata": {},
                    "data": {
                        "text/plain": "array([ 1.+0.j,  0.-1.j, -1.+0.j]) # may vary"
                    },
                    "execution_count": null
                }
            ]
        },
        {
            "id": "3f9fce90",
            "cell_type": "markdown",
            "source": "Notice how the final element of the `fft` output is the complex conjugate\nof the second element, for real input. For `rfft`, this symmetry is\nexploited to compute only the non-negative frequency terms.",
            "metadata": {}
        }
    ]
}