{
    "nbformat": 4,
    "nbformat_minor": 5,
    "metadata": {
        "kernelspec": {
            "display_name": "Python",
            "language": "python",
            "name": "python"
        },
        "language_info": {
            "name": "python"
        }
    },
    "cells": [
        {
            "id": "47267b64",
            "cell_type": "markdown",
            "source": "<div class='alert alert-warning'>\n\nNumPy's interactive examples are experimental and may not always work as expected, with high load times especially on low-resource platforms, , and the version of NumPy might not be in sync with the one you are browsing the documentation for. If you encounter any issues, please report them on the [NumPy issue tracker](https://github.com/numpy/numpy/issues).\n\n</div>",
            "metadata": {}
        },
        {
            "id": "7fe4c92c",
            "cell_type": "code",
            "metadata": {},
            "execution_count": null,
            "source": "import numpy as np",
            "outputs": []
        },
        {
            "id": "b067d36d",
            "cell_type": "markdown",
            "source": "Create an array with negative values masked:\n",
            "metadata": {}
        },
        {
            "id": "30833dd1",
            "cell_type": "code",
            "metadata": {},
            "execution_count": null,
            "source": "import numpy as np\nx = np.array([[11.2, -3.973, 18], [0.801, -1.41, 12], [7, 33, -12]])\nmasked_x = np.ma.masked_array(x, mask=x < 0)\nmasked_x",
            "outputs": [
                {
                    "output_type": "execute_result",
                    "metadata": {},
                    "data": {
                        "text/plain": "masked_array(\n  data=[[11.2, --, 18.0],\n        [0.801, --, 12.0],\n        [7.0, 33.0, --]],\n  mask=[[False,  True, False],\n        [False,  True, False],\n        [False, False,  True]],\n  fill_value=1e+20)"
                    },
                    "execution_count": null
                }
            ]
        },
        {
            "id": "d75e5bf6",
            "cell_type": "markdown",
            "source": "Isolate the main diagonal from the masked array:\n",
            "metadata": {}
        },
        {
            "id": "b65fbdf1",
            "cell_type": "code",
            "metadata": {},
            "execution_count": null,
            "source": "np.ma.diag(masked_x)",
            "outputs": [
                {
                    "output_type": "execute_result",
                    "metadata": {},
                    "data": {
                        "text/plain": "masked_array(data=[11.2, --, --],\n             mask=[False,  True,  True],\n       fill_value=1e+20)"
                    },
                    "execution_count": null
                }
            ]
        },
        {
            "id": "2f768487",
            "cell_type": "markdown",
            "source": "Isolate the first diagonal below the main diagonal:\n",
            "metadata": {}
        },
        {
            "id": "486929ee",
            "cell_type": "code",
            "metadata": {},
            "execution_count": null,
            "source": "np.ma.diag(masked_x, -1)",
            "outputs": [
                {
                    "output_type": "execute_result",
                    "metadata": {},
                    "data": {
                        "text/plain": "masked_array(data=[0.801, 33.0],\n             mask=[False, False],\n       fill_value=1e+20)"
                    },
                    "execution_count": null
                }
            ]
        }
    ]
}