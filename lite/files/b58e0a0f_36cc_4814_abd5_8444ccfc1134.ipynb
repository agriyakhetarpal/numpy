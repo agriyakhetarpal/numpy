{
    "nbformat": 4,
    "nbformat_minor": 5,
    "metadata": {
        "kernelspec": {
            "display_name": "Python",
            "language": "python",
            "name": "python"
        },
        "language_info": {
            "name": "python"
        }
    },
    "cells": [
        {
            "id": "dafb1710",
            "cell_type": "markdown",
            "source": "<div class='alert alert-warning'>\n\nNumPy's interactive examples are experimental and may not always work as expected, with high load times especially on low-resource platforms, and the version of NumPy might not be in sync with the one you are browsing the documentation for. If you encounter any issues, please report them on the [NumPy issue tracker](https://github.com/numpy/numpy/issues).\n\n</div>",
            "metadata": {}
        },
        {
            "id": "5c0cce9c",
            "cell_type": "code",
            "metadata": {},
            "execution_count": null,
            "source": "self.feature_implies(\"SSE3\")",
            "outputs": [
                {
                    "output_type": "execute_result",
                    "metadata": {},
                    "data": {
                        "text/plain": "{'SSE', 'SSE2'}"
                    },
                    "execution_count": null
                }
            ]
        },
        {
            "id": "5963d338",
            "cell_type": "code",
            "metadata": {},
            "execution_count": null,
            "source": "self.feature_implies(\"SSE2\")",
            "outputs": [
                {
                    "output_type": "execute_result",
                    "metadata": {},
                    "data": {
                        "text/plain": "{'SSE'}"
                    },
                    "execution_count": null
                }
            ]
        },
        {
            "id": "8b85ba4f",
            "cell_type": "code",
            "metadata": {},
            "execution_count": null,
            "source": "self.feature_implies(\"SSE2\", keep_origins=True)",
            "outputs": [
                {
                    "output_type": "execute_result",
                    "metadata": {},
                    "data": {
                        "text/plain": "# 'SSE2' found here since 'SSE' and 'SSE2' imply each other\n{'SSE', 'SSE2'}"
                    },
                    "execution_count": null
                }
            ]
        }
    ]
}