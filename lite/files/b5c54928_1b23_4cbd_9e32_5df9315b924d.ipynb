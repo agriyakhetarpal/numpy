{
    "nbformat": 4,
    "nbformat_minor": 5,
    "metadata": {
        "kernelspec": {
            "display_name": "Python",
            "language": "python",
            "name": "python"
        },
        "language_info": {
            "name": "python"
        }
    },
    "cells": [
        {
            "id": "db06e3a8",
            "cell_type": "markdown",
            "source": "<div class='alert alert-warning'>\n\nNumPy's interactive examples are experimental and may not always work as expected, with high load times especially on low-resource platforms, , and the version of NumPy might not be in sync with the one you are browsing the documentation for. If you encounter any issues, please report them on the [NumPy issue tracker](https://github.com/numpy/numpy/issues).\n\n</div>",
            "metadata": {}
        },
        {
            "id": "41459897",
            "cell_type": "code",
            "metadata": {},
            "execution_count": null,
            "source": "import numpy as np\ngrid = np.indices((2, 3))\ngrid.shape",
            "outputs": [
                {
                    "output_type": "execute_result",
                    "metadata": {},
                    "data": {
                        "text/plain": "(2, 2, 3)"
                    },
                    "execution_count": null
                }
            ]
        },
        {
            "id": "27d57cc1",
            "cell_type": "code",
            "metadata": {},
            "execution_count": null,
            "source": "grid[0]        # row indices",
            "outputs": [
                {
                    "output_type": "execute_result",
                    "metadata": {},
                    "data": {
                        "text/plain": "array([[0, 0, 0],\n       [1, 1, 1]])"
                    },
                    "execution_count": null
                }
            ]
        },
        {
            "id": "72b67d85",
            "cell_type": "code",
            "metadata": {},
            "execution_count": null,
            "source": "grid[1]        # column indices",
            "outputs": [
                {
                    "output_type": "execute_result",
                    "metadata": {},
                    "data": {
                        "text/plain": "array([[0, 1, 2],\n       [0, 1, 2]])"
                    },
                    "execution_count": null
                }
            ]
        },
        {
            "id": "b630e9a1",
            "cell_type": "markdown",
            "source": "The indices can be used as an index into an array.\n",
            "metadata": {}
        },
        {
            "id": "e97037ce",
            "cell_type": "code",
            "metadata": {},
            "execution_count": null,
            "source": "x = np.arange(20).reshape(5, 4)\nrow, col = np.indices((2, 3))\nx[row, col]",
            "outputs": [
                {
                    "output_type": "execute_result",
                    "metadata": {},
                    "data": {
                        "text/plain": "array([[0, 1, 2],\n       [4, 5, 6]])"
                    },
                    "execution_count": null
                }
            ]
        },
        {
            "id": "de714cd4",
            "cell_type": "markdown",
            "source": "Note that it would be more straightforward in the above example to\nextract the required elements directly with ``x[:2, :3]``.\n\nIf sparse is set to true, the grid will be returned in a sparse\nrepresentation.\n",
            "metadata": {}
        },
        {
            "id": "68f4a081",
            "cell_type": "code",
            "metadata": {},
            "execution_count": null,
            "source": "i, j = np.indices((2, 3), sparse=True)\ni.shape",
            "outputs": [
                {
                    "output_type": "execute_result",
                    "metadata": {},
                    "data": {
                        "text/plain": "(2, 1)"
                    },
                    "execution_count": null
                }
            ]
        },
        {
            "id": "179284c3",
            "cell_type": "code",
            "metadata": {},
            "execution_count": null,
            "source": "j.shape",
            "outputs": [
                {
                    "output_type": "execute_result",
                    "metadata": {},
                    "data": {
                        "text/plain": "(1, 3)"
                    },
                    "execution_count": null
                }
            ]
        },
        {
            "id": "f787c1c8",
            "cell_type": "code",
            "metadata": {},
            "execution_count": null,
            "source": "i        # row indices",
            "outputs": [
                {
                    "output_type": "execute_result",
                    "metadata": {},
                    "data": {
                        "text/plain": "array([[0],\n       [1]])"
                    },
                    "execution_count": null
                }
            ]
        },
        {
            "id": "55707afc",
            "cell_type": "code",
            "metadata": {},
            "execution_count": null,
            "source": "j        # column indices",
            "outputs": [
                {
                    "output_type": "execute_result",
                    "metadata": {},
                    "data": {
                        "text/plain": "array([[0, 1, 2]])"
                    },
                    "execution_count": null
                }
            ]
        }
    ]
}