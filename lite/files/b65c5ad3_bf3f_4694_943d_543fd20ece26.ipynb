{
    "nbformat": 4,
    "nbformat_minor": 5,
    "metadata": {
        "kernelspec": {
            "display_name": "Python",
            "language": "python",
            "name": "python"
        },
        "language_info": {
            "name": "python"
        }
    },
    "cells": [
        {
            "id": "f9dfe0af",
            "cell_type": "markdown",
            "source": "<div class='alert alert-warning'>\n\nNumPy's interactive examples are experimental and may not always work as expected, with high load times especially on low-resource platforms, and the version of NumPy might not be in sync with the one you are browsing the documentation for. If you encounter any issues, please report them on the [NumPy issue tracker](https://github.com/numpy/numpy/issues).\n\n</div>",
            "metadata": {}
        },
        {
            "id": "302e40f6",
            "cell_type": "code",
            "metadata": {},
            "execution_count": null,
            "source": "import numpy as np\na = np.array([1+2j, 3+4j, 5+6j])\na.real",
            "outputs": [
                {
                    "output_type": "execute_result",
                    "metadata": {},
                    "data": {
                        "text/plain": "array([1.,  3.,  5.])"
                    },
                    "execution_count": null
                }
            ]
        },
        {
            "id": "dde82a13",
            "cell_type": "code",
            "metadata": {},
            "execution_count": null,
            "source": "a.real = 9\na",
            "outputs": [
                {
                    "output_type": "execute_result",
                    "metadata": {},
                    "data": {
                        "text/plain": "array([9.+2.j,  9.+4.j,  9.+6.j])"
                    },
                    "execution_count": null
                }
            ]
        },
        {
            "id": "a9fe91b3",
            "cell_type": "code",
            "metadata": {},
            "execution_count": null,
            "source": "a.real = np.array([9, 8, 7])\na",
            "outputs": [
                {
                    "output_type": "execute_result",
                    "metadata": {},
                    "data": {
                        "text/plain": "array([9.+2.j,  8.+4.j,  7.+6.j])"
                    },
                    "execution_count": null
                }
            ]
        },
        {
            "id": "c0bfe827",
            "cell_type": "code",
            "metadata": {},
            "execution_count": null,
            "source": "np.real(1 + 1j)",
            "outputs": [
                {
                    "output_type": "execute_result",
                    "metadata": {},
                    "data": {
                        "text/plain": "1.0"
                    },
                    "execution_count": null
                }
            ]
        }
    ]
}