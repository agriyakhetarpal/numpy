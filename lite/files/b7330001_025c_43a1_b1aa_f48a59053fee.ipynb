{
    "nbformat": 4,
    "nbformat_minor": 5,
    "metadata": {
        "kernelspec": {
            "display_name": "Python",
            "language": "python",
            "name": "python"
        },
        "language_info": {
            "name": "python"
        }
    },
    "cells": [
        {
            "id": "18f22f88",
            "cell_type": "markdown",
            "source": "<div class='alert alert-warning'>\n\nNumPy's interactive examples are experimental and may not always work as expected, with high load times especially on low-resource platforms, , and the version of NumPy might not be in sync with the one you are browsing the documentation for. If you encounter any issues, please report them on the [NumPy issue tracker](https://github.com/numpy/numpy/issues).\n\n</div>",
            "metadata": {}
        },
        {
            "id": "5de6fc1f",
            "cell_type": "code",
            "metadata": {},
            "execution_count": null,
            "source": "import numpy as np\nx = np.array([[[0], [1], [2]]])\nx.shape",
            "outputs": [
                {
                    "output_type": "execute_result",
                    "metadata": {},
                    "data": {
                        "text/plain": "(1, 3, 1)"
                    },
                    "execution_count": null
                }
            ]
        },
        {
            "id": "f8156f86",
            "cell_type": "code",
            "metadata": {},
            "execution_count": null,
            "source": "np.squeeze(x).shape",
            "outputs": [
                {
                    "output_type": "execute_result",
                    "metadata": {},
                    "data": {
                        "text/plain": "(3,)"
                    },
                    "execution_count": null
                }
            ]
        },
        {
            "id": "a679c597",
            "cell_type": "code",
            "metadata": {},
            "execution_count": null,
            "source": "np.squeeze(x, axis=0).shape",
            "outputs": [
                {
                    "output_type": "execute_result",
                    "metadata": {},
                    "data": {
                        "text/plain": "(3, 1)"
                    },
                    "execution_count": null
                }
            ]
        },
        {
            "id": "35fbd7e8",
            "cell_type": "code",
            "metadata": {},
            "execution_count": null,
            "source": "np.squeeze(x, axis=1).shape\n",
            "outputs": [
                {
                    "output_type": "execute_result",
                    "metadata": {},
                    "data": {
                        "text/plain": "Traceback (most recent call last):\nValueError: cannot select an axis to squeeze out which has size\nnot equal to one"
                    },
                    "execution_count": null
                }
            ]
        },
        {
            "id": "58790ed3",
            "cell_type": "code",
            "metadata": {},
            "execution_count": null,
            "source": "np.squeeze(x, axis=2).shape",
            "outputs": [
                {
                    "output_type": "execute_result",
                    "metadata": {},
                    "data": {
                        "text/plain": "(1, 3)"
                    },
                    "execution_count": null
                }
            ]
        },
        {
            "id": "102b8187",
            "cell_type": "code",
            "metadata": {},
            "execution_count": null,
            "source": "x = np.array([[1234]])\nx.shape",
            "outputs": [
                {
                    "output_type": "execute_result",
                    "metadata": {},
                    "data": {
                        "text/plain": "(1, 1)"
                    },
                    "execution_count": null
                }
            ]
        },
        {
            "id": "6f9a95a3",
            "cell_type": "code",
            "metadata": {},
            "execution_count": null,
            "source": "np.squeeze(x)",
            "outputs": [
                {
                    "output_type": "execute_result",
                    "metadata": {},
                    "data": {
                        "text/plain": "array(1234)  # 0d array"
                    },
                    "execution_count": null
                }
            ]
        },
        {
            "id": "db1f0e9f",
            "cell_type": "code",
            "metadata": {},
            "execution_count": null,
            "source": "np.squeeze(x).shape",
            "outputs": [
                {
                    "output_type": "execute_result",
                    "metadata": {},
                    "data": {
                        "text/plain": "()"
                    },
                    "execution_count": null
                }
            ]
        },
        {
            "id": "fabc2912",
            "cell_type": "code",
            "metadata": {},
            "execution_count": null,
            "source": "np.squeeze(x)[()]",
            "outputs": [
                {
                    "output_type": "execute_result",
                    "metadata": {},
                    "data": {
                        "text/plain": "1234"
                    },
                    "execution_count": null
                }
            ]
        }
    ]
}