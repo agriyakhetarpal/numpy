{
    "nbformat": 4,
    "nbformat_minor": 5,
    "metadata": {
        "kernelspec": {
            "display_name": "Python",
            "language": "python",
            "name": "python"
        },
        "language_info": {
            "name": "python"
        }
    },
    "cells": [
        {
            "id": "2bf870f0",
            "cell_type": "markdown",
            "source": "<div class='alert alert-warning'>\n\nNumPy's interactive examples are experimental and may not always work as expected, with high load times especially on low-resource platforms, and the version of NumPy might not be in sync with the one you are browsing the documentation for. If you encounter any issues, please report them on the [NumPy issue tracker](https://github.com/numpy/numpy/issues).\n\n</div>",
            "metadata": {}
        },
        {
            "id": "9dd97495",
            "cell_type": "code",
            "metadata": {},
            "execution_count": null,
            "source": "from numpy.polynomial import chebyshev as C\nc = (1,2,3)\nC.chebint(c)",
            "outputs": [
                {
                    "output_type": "execute_result",
                    "metadata": {},
                    "data": {
                        "text/plain": "array([ 0.5, -0.5,  0.5,  0.5])"
                    },
                    "execution_count": null
                }
            ]
        },
        {
            "id": "3e6bfcb9",
            "cell_type": "code",
            "metadata": {},
            "execution_count": null,
            "source": "C.chebint(c,3)",
            "outputs": [
                {
                    "output_type": "execute_result",
                    "metadata": {},
                    "data": {
                        "text/plain": "array([ 0.03125   , -0.1875    ,  0.04166667, -0.05208333,  0.01041667, # may vary\n    0.00625   ])"
                    },
                    "execution_count": null
                }
            ]
        },
        {
            "id": "43661592",
            "cell_type": "code",
            "metadata": {},
            "execution_count": null,
            "source": "C.chebint(c, k=3)",
            "outputs": [
                {
                    "output_type": "execute_result",
                    "metadata": {},
                    "data": {
                        "text/plain": "array([ 3.5, -0.5,  0.5,  0.5])"
                    },
                    "execution_count": null
                }
            ]
        },
        {
            "id": "6525efe8",
            "cell_type": "code",
            "metadata": {},
            "execution_count": null,
            "source": "C.chebint(c,lbnd=-2)",
            "outputs": [
                {
                    "output_type": "execute_result",
                    "metadata": {},
                    "data": {
                        "text/plain": "array([ 8.5, -0.5,  0.5,  0.5])"
                    },
                    "execution_count": null
                }
            ]
        },
        {
            "id": "76fb691c",
            "cell_type": "code",
            "metadata": {},
            "execution_count": null,
            "source": "C.chebint(c,scl=-2)",
            "outputs": [
                {
                    "output_type": "execute_result",
                    "metadata": {},
                    "data": {
                        "text/plain": "array([-1.,  1., -1., -1.])"
                    },
                    "execution_count": null
                }
            ]
        }
    ]
}