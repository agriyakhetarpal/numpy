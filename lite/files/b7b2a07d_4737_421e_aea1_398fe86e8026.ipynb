{
    "nbformat": 4,
    "nbformat_minor": 5,
    "metadata": {
        "kernelspec": {
            "display_name": "Python",
            "language": "python",
            "name": "python"
        },
        "language_info": {
            "name": "python"
        }
    },
    "cells": [
        {
            "id": "88e25913",
            "cell_type": "markdown",
            "source": "<div class='alert alert-warning'>\n\nNumPy's interactive examples are experimental and may not always work as expected, with high load times especially on low-resource platforms, , and the version of NumPy might not be in sync with the one you are browsing the documentation for. If you encounter any issues, please report them on the [NumPy issue tracker](https://github.com/numpy/numpy/issues).\n\n</div>",
            "metadata": {}
        },
        {
            "id": "9735498a",
            "cell_type": "code",
            "metadata": {},
            "execution_count": null,
            "source": "import numpy as np\nnp.array_equiv([1, 2], [1, 2])",
            "outputs": [
                {
                    "output_type": "execute_result",
                    "metadata": {},
                    "data": {
                        "text/plain": "True"
                    },
                    "execution_count": null
                }
            ]
        },
        {
            "id": "7d420bd0",
            "cell_type": "code",
            "metadata": {},
            "execution_count": null,
            "source": "np.array_equiv([1, 2], [1, 3])",
            "outputs": [
                {
                    "output_type": "execute_result",
                    "metadata": {},
                    "data": {
                        "text/plain": "False"
                    },
                    "execution_count": null
                }
            ]
        },
        {
            "id": "1f597514",
            "cell_type": "markdown",
            "source": "Showing the shape equivalence:\n",
            "metadata": {}
        },
        {
            "id": "e9c6fc4e",
            "cell_type": "code",
            "metadata": {},
            "execution_count": null,
            "source": "np.array_equiv([1, 2], [[1, 2], [1, 2]])",
            "outputs": [
                {
                    "output_type": "execute_result",
                    "metadata": {},
                    "data": {
                        "text/plain": "True"
                    },
                    "execution_count": null
                }
            ]
        },
        {
            "id": "05e3b1d6",
            "cell_type": "code",
            "metadata": {},
            "execution_count": null,
            "source": "np.array_equiv([1, 2], [[1, 2, 1, 2], [1, 2, 1, 2]])",
            "outputs": [
                {
                    "output_type": "execute_result",
                    "metadata": {},
                    "data": {
                        "text/plain": "False"
                    },
                    "execution_count": null
                }
            ]
        },
        {
            "id": "498f2f1c",
            "cell_type": "code",
            "metadata": {},
            "execution_count": null,
            "source": "np.array_equiv([1, 2], [[1, 2], [1, 3]])",
            "outputs": [
                {
                    "output_type": "execute_result",
                    "metadata": {},
                    "data": {
                        "text/plain": "False"
                    },
                    "execution_count": null
                }
            ]
        }
    ]
}