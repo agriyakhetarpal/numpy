{
    "nbformat": 4,
    "nbformat_minor": 5,
    "metadata": {
        "kernelspec": {
            "display_name": "Python",
            "language": "python",
            "name": "python"
        },
        "language_info": {
            "name": "python"
        }
    },
    "cells": [
        {
            "id": "6341ca77",
            "cell_type": "markdown",
            "source": "<div class='alert alert-warning'>\n\nNumPy's interactive examples are experimental and may not always work as expected, with high load times especially on low-resource platforms, and the version of NumPy might not be in sync with the one you are browsing the documentation for. If you encounter any issues, please report them on the [NumPy issue tracker](https://github.com/numpy/numpy/issues).\n\n</div>",
            "metadata": {}
        },
        {
            "id": "875cb9dd",
            "cell_type": "code",
            "metadata": {},
            "execution_count": null,
            "source": "import numpy as np\nnp.polyadd([1, 2], [9, 5, 4])",
            "outputs": [
                {
                    "output_type": "execute_result",
                    "metadata": {},
                    "data": {
                        "text/plain": "array([9, 6, 6])"
                    },
                    "execution_count": null
                }
            ]
        },
        {
            "id": "05782a76",
            "cell_type": "markdown",
            "source": "Using poly1d objects:\n",
            "metadata": {}
        },
        {
            "id": "b1b22b09",
            "cell_type": "code",
            "metadata": {},
            "execution_count": null,
            "source": "p1 = np.poly1d([1, 2])\np2 = np.poly1d([9, 5, 4])\nprint(p1)",
            "outputs": [
                {
                    "output_type": "execute_result",
                    "metadata": {},
                    "data": {
                        "text/plain": "1 x + 2"
                    },
                    "execution_count": null
                }
            ]
        },
        {
            "id": "6b6e9025",
            "cell_type": "code",
            "metadata": {},
            "execution_count": null,
            "source": "print(p2)",
            "outputs": [
                {
                    "output_type": "execute_result",
                    "metadata": {},
                    "data": {
                        "text/plain": "   2\n9 x + 5 x + 4"
                    },
                    "execution_count": null
                }
            ]
        },
        {
            "id": "31a9709b",
            "cell_type": "code",
            "metadata": {},
            "execution_count": null,
            "source": "print(np.polyadd(p1, p2))",
            "outputs": [
                {
                    "output_type": "execute_result",
                    "metadata": {},
                    "data": {
                        "text/plain": "   2\n9 x + 6 x + 6"
                    },
                    "execution_count": null
                }
            ]
        }
    ]
}