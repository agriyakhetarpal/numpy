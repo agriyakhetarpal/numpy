{
    "nbformat": 4,
    "nbformat_minor": 5,
    "metadata": {
        "kernelspec": {
            "display_name": "Python",
            "language": "python",
            "name": "python"
        },
        "language_info": {
            "name": "python"
        }
    },
    "cells": [
        {
            "id": "e44c2131",
            "cell_type": "markdown",
            "source": "<div class='alert alert-warning'>\n\nNumPy's interactive examples are experimental and may not always work as expected, with high load times especially on low-resource platforms, and the version of NumPy might not be in sync with the one you are browsing the documentation for. If you encounter any issues, please report them on the [NumPy issue tracker](https://github.com/numpy/numpy/issues).\n\n</div>",
            "metadata": {}
        },
        {
            "id": "05a87d54",
            "cell_type": "code",
            "metadata": {},
            "execution_count": null,
            "source": "import numpy as np\nx = np.array([[4, 9, 2, 10],\n              [6, 9, 7, 12]])",
            "outputs": []
        },
        {
            "id": "979271a4",
            "cell_type": "code",
            "metadata": {},
            "execution_count": null,
            "source": "np.ptp(x, axis=1)",
            "outputs": [
                {
                    "output_type": "execute_result",
                    "metadata": {},
                    "data": {
                        "text/plain": "array([8, 6])"
                    },
                    "execution_count": null
                }
            ]
        },
        {
            "id": "4bf75b0d",
            "cell_type": "code",
            "metadata": {},
            "execution_count": null,
            "source": "np.ptp(x, axis=0)",
            "outputs": [
                {
                    "output_type": "execute_result",
                    "metadata": {},
                    "data": {
                        "text/plain": "array([2, 0, 5, 2])"
                    },
                    "execution_count": null
                }
            ]
        },
        {
            "id": "56183d7d",
            "cell_type": "code",
            "metadata": {},
            "execution_count": null,
            "source": "np.ptp(x)",
            "outputs": [
                {
                    "output_type": "execute_result",
                    "metadata": {},
                    "data": {
                        "text/plain": "10"
                    },
                    "execution_count": null
                }
            ]
        },
        {
            "id": "22365c73",
            "cell_type": "markdown",
            "source": "This example shows that a negative value can be returned when\nthe input is an array of signed integers.\n",
            "metadata": {}
        },
        {
            "id": "1172ca79",
            "cell_type": "code",
            "metadata": {},
            "execution_count": null,
            "source": "y = np.array([[1, 127],\n              [0, 127],\n              [-1, 127],\n              [-2, 127]], dtype=np.int8)\nnp.ptp(y, axis=1)",
            "outputs": [
                {
                    "output_type": "execute_result",
                    "metadata": {},
                    "data": {
                        "text/plain": "array([ 126,  127, -128, -127], dtype=int8)"
                    },
                    "execution_count": null
                }
            ]
        },
        {
            "id": "667a63d8",
            "cell_type": "markdown",
            "source": "A work-around is to use the `view()` method to view the result as\nunsigned integers with the same bit width:\n",
            "metadata": {}
        },
        {
            "id": "9bc50149",
            "cell_type": "code",
            "metadata": {},
            "execution_count": null,
            "source": "np.ptp(y, axis=1).view(np.uint8)",
            "outputs": [
                {
                    "output_type": "execute_result",
                    "metadata": {},
                    "data": {
                        "text/plain": "array([126, 127, 128, 129], dtype=uint8)"
                    },
                    "execution_count": null
                }
            ]
        }
    ]
}