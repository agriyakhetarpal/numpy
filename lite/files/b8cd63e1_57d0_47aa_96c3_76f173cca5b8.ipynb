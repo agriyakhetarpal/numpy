{
    "nbformat": 4,
    "nbformat_minor": 5,
    "metadata": {
        "kernelspec": {
            "display_name": "Python",
            "language": "python",
            "name": "python"
        },
        "language_info": {
            "name": "python"
        }
    },
    "cells": [
        {
            "id": "1a5f48bd",
            "cell_type": "markdown",
            "source": "<div class='alert alert-warning'>\n\nNumPy's interactive examples are experimental and may not always work as expected, with high load times especially on low-resource platforms, , and the version of NumPy might not be in sync with the one you are browsing the documentation for. If you encounter any issues, please report them on the [NumPy issue tracker](https://github.com/numpy/numpy/issues).\n\n</div>",
            "metadata": {}
        },
        {
            "id": "21fd24fd",
            "cell_type": "code",
            "metadata": {},
            "execution_count": null,
            "source": "import numpy as np",
            "outputs": []
        },
        {
            "id": "6dfbd4e1",
            "cell_type": "markdown",
            "source": "Data type with fields ``r``, ``g``, ``b``, ``a``, each being\nan 8-bit unsigned integer:\n",
            "metadata": {}
        },
        {
            "id": "726cb0b4",
            "cell_type": "code",
            "metadata": {},
            "execution_count": null,
            "source": "dt = np.dtype({'names': ['r','g','b','a'],\n               'formats': [np.uint8, np.uint8, np.uint8, np.uint8]})",
            "outputs": []
        },
        {
            "id": "92d46623",
            "cell_type": "markdown",
            "source": "Data type with fields ``r`` and ``b`` (with the given titles),\nboth being 8-bit unsigned integers, the first at byte position\n0 from the start of the field and the second at position 2:\n",
            "metadata": {}
        },
        {
            "id": "40353d53",
            "cell_type": "code",
            "metadata": {},
            "execution_count": null,
            "source": "dt = np.dtype({'names': ['r','b'], 'formats': ['u1', 'u1'],\n               'offsets': [0, 2],\n               'titles': ['Red pixel', 'Blue pixel']})",
            "outputs": []
        }
    ]
}