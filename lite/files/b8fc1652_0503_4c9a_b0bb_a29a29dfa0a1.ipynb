{
    "nbformat": 4,
    "nbformat_minor": 5,
    "metadata": {
        "kernelspec": {
            "display_name": "Python",
            "language": "python",
            "name": "python"
        },
        "language_info": {
            "name": "python"
        }
    },
    "cells": [
        {
            "id": "0e700dc8",
            "cell_type": "markdown",
            "source": "<div class='alert alert-warning'>\n\nNumPy's interactive examples are experimental and may not always work as expected, with high load times especially on low-resource platforms, and the version of NumPy might not be in sync with the one you are browsing the documentation for. If you encounter any issues, please report them on the [NumPy issue tracker](https://github.com/numpy/numpy/issues).\n\n</div>",
            "metadata": {}
        },
        {
            "id": "4a357d64",
            "cell_type": "code",
            "metadata": {},
            "execution_count": null,
            "source": "from numpy.polynomial import polynomial as P\nc = (1, 2, 3, 4)\nP.polyder(c)  # (d/dx)(c)",
            "outputs": [
                {
                    "output_type": "execute_result",
                    "metadata": {},
                    "data": {
                        "text/plain": "array([  2.,   6.,  12.])"
                    },
                    "execution_count": null
                }
            ]
        },
        {
            "id": "4d6b02ee",
            "cell_type": "code",
            "metadata": {},
            "execution_count": null,
            "source": "P.polyder(c, 3)  # (d**3/dx**3)(c)",
            "outputs": [
                {
                    "output_type": "execute_result",
                    "metadata": {},
                    "data": {
                        "text/plain": "array([24.])"
                    },
                    "execution_count": null
                }
            ]
        },
        {
            "id": "f0c93aa2",
            "cell_type": "code",
            "metadata": {},
            "execution_count": null,
            "source": "P.polyder(c, scl=-1)  # (d/d(-x))(c)",
            "outputs": [
                {
                    "output_type": "execute_result",
                    "metadata": {},
                    "data": {
                        "text/plain": "array([ -2.,  -6., -12.])"
                    },
                    "execution_count": null
                }
            ]
        },
        {
            "id": "a505b60f",
            "cell_type": "code",
            "metadata": {},
            "execution_count": null,
            "source": "P.polyder(c, 2, -1)  # (d**2/d(-x)**2)(c)",
            "outputs": [
                {
                    "output_type": "execute_result",
                    "metadata": {},
                    "data": {
                        "text/plain": "array([  6.,  24.])"
                    },
                    "execution_count": null
                }
            ]
        }
    ]
}