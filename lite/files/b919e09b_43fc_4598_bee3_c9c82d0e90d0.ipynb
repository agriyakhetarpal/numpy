{
    "nbformat": 4,
    "nbformat_minor": 5,
    "metadata": {
        "kernelspec": {
            "display_name": "Python",
            "language": "python",
            "name": "python"
        },
        "language_info": {
            "name": "python"
        }
    },
    "cells": [
        {
            "id": "020781b0",
            "cell_type": "markdown",
            "source": "<div class='alert alert-warning'>\n\nNumPy's interactive examples are experimental and may not always work as expected, with high load times especially on low-resource platforms, and the version of NumPy might not be in sync with the one you are browsing the documentation for. If you encounter any issues, please report them on the [NumPy issue tracker](https://github.com/numpy/numpy/issues).\n\n</div>",
            "metadata": {}
        },
        {
            "id": "1d7b1c3a",
            "cell_type": "code",
            "metadata": {},
            "execution_count": null,
            "source": "import numpy as np\nA = np.array([1, 256, 8755], dtype=np.int16)\nlist(map(hex, A))",
            "outputs": [
                {
                    "output_type": "execute_result",
                    "metadata": {},
                    "data": {
                        "text/plain": "['0x1', '0x100', '0x2233']"
                    },
                    "execution_count": null
                }
            ]
        },
        {
            "id": "298bca30",
            "cell_type": "code",
            "metadata": {},
            "execution_count": null,
            "source": "A.byteswap(inplace=True)",
            "outputs": [
                {
                    "output_type": "execute_result",
                    "metadata": {},
                    "data": {
                        "text/plain": "array([  256,     1, 13090], dtype=int16)"
                    },
                    "execution_count": null
                }
            ]
        },
        {
            "id": "c97a6c12",
            "cell_type": "code",
            "metadata": {},
            "execution_count": null,
            "source": "list(map(hex, A))",
            "outputs": [
                {
                    "output_type": "execute_result",
                    "metadata": {},
                    "data": {
                        "text/plain": "['0x100', '0x1', '0x3322']"
                    },
                    "execution_count": null
                }
            ]
        },
        {
            "id": "005420cc",
            "cell_type": "markdown",
            "source": "Arrays of byte-strings are not swapped\n",
            "metadata": {}
        },
        {
            "id": "7f499cd7",
            "cell_type": "code",
            "metadata": {},
            "execution_count": null,
            "source": "A = np.array([b'ceg', b'fac'])\nA.byteswap()",
            "outputs": [
                {
                    "output_type": "execute_result",
                    "metadata": {},
                    "data": {
                        "text/plain": "array([b'ceg', b'fac'], dtype='|S3')"
                    },
                    "execution_count": null
                }
            ]
        },
        {
            "id": "4d801303",
            "cell_type": "markdown",
            "source": "``A.view(A.dtype.newbyteorder()).byteswap()`` produces an array with\nthe same values but different representation in memory\n",
            "metadata": {}
        },
        {
            "id": "0367dcb9",
            "cell_type": "code",
            "metadata": {},
            "execution_count": null,
            "source": "A = np.array([1, 2, 3],dtype=np.int64)\nA.view(np.uint8)",
            "outputs": [
                {
                    "output_type": "execute_result",
                    "metadata": {},
                    "data": {
                        "text/plain": "array([1, 0, 0, 0, 0, 0, 0, 0, 2, 0, 0, 0, 0, 0, 0, 0, 3, 0, 0, 0, 0, 0,\n       0, 0], dtype=uint8)"
                    },
                    "execution_count": null
                }
            ]
        },
        {
            "id": "2280158d",
            "cell_type": "code",
            "metadata": {},
            "execution_count": null,
            "source": "A.view(A.dtype.newbyteorder()).byteswap(inplace=True)",
            "outputs": [
                {
                    "output_type": "execute_result",
                    "metadata": {},
                    "data": {
                        "text/plain": "array([1, 2, 3], dtype='>i8')"
                    },
                    "execution_count": null
                }
            ]
        },
        {
            "id": "8dda3df2",
            "cell_type": "code",
            "metadata": {},
            "execution_count": null,
            "source": "A.view(np.uint8)",
            "outputs": [
                {
                    "output_type": "execute_result",
                    "metadata": {},
                    "data": {
                        "text/plain": "array([0, 0, 0, 0, 0, 0, 0, 1, 0, 0, 0, 0, 0, 0, 0, 2, 0, 0, 0, 0, 0, 0,\n       0, 3], dtype=uint8)"
                    },
                    "execution_count": null
                }
            ]
        }
    ]
}