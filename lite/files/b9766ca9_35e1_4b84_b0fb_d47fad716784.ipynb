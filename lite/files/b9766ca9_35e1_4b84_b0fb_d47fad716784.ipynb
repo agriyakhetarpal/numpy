{
    "nbformat": 4,
    "nbformat_minor": 5,
    "metadata": {
        "kernelspec": {
            "display_name": "Python",
            "language": "python",
            "name": "python"
        },
        "language_info": {
            "name": "python"
        }
    },
    "cells": [
        {
            "id": "db93b074",
            "cell_type": "markdown",
            "source": "<div class='alert alert-warning'>\n\nNumPy's interactive examples are experimental and may not always work as expected, with high load times especially on low-resource platforms, and the version of NumPy might not be in sync with the one you are browsing the documentation for. If you encounter any issues, please report them on the [NumPy issue tracker](https://github.com/numpy/numpy/issues).\n\n</div>",
            "metadata": {}
        },
        {
            "id": "6bcc4108",
            "cell_type": "code",
            "metadata": {},
            "execution_count": null,
            "source": "import numpy as np\nfrom numpy import linalg as LA\na = np.array([[1, 0, -1], [0, 1, 0], [1, 0, 1]])\na",
            "outputs": [
                {
                    "output_type": "execute_result",
                    "metadata": {},
                    "data": {
                        "text/plain": "array([[ 1,  0, -1],\n       [ 0,  1,  0],\n       [ 1,  0,  1]])"
                    },
                    "execution_count": null
                }
            ]
        },
        {
            "id": "3a724d76",
            "cell_type": "code",
            "metadata": {},
            "execution_count": null,
            "source": "LA.cond(a)",
            "outputs": [
                {
                    "output_type": "execute_result",
                    "metadata": {},
                    "data": {
                        "text/plain": "1.4142135623730951"
                    },
                    "execution_count": null
                }
            ]
        },
        {
            "id": "cf0d6e97",
            "cell_type": "code",
            "metadata": {},
            "execution_count": null,
            "source": "LA.cond(a, 'fro')",
            "outputs": [
                {
                    "output_type": "execute_result",
                    "metadata": {},
                    "data": {
                        "text/plain": "3.1622776601683795"
                    },
                    "execution_count": null
                }
            ]
        },
        {
            "id": "0a82ecb9",
            "cell_type": "code",
            "metadata": {},
            "execution_count": null,
            "source": "LA.cond(a, np.inf)",
            "outputs": [
                {
                    "output_type": "execute_result",
                    "metadata": {},
                    "data": {
                        "text/plain": "2.0"
                    },
                    "execution_count": null
                }
            ]
        },
        {
            "id": "5e416aa7",
            "cell_type": "code",
            "metadata": {},
            "execution_count": null,
            "source": "LA.cond(a, -np.inf)",
            "outputs": [
                {
                    "output_type": "execute_result",
                    "metadata": {},
                    "data": {
                        "text/plain": "1.0"
                    },
                    "execution_count": null
                }
            ]
        },
        {
            "id": "c2ffeefd",
            "cell_type": "code",
            "metadata": {},
            "execution_count": null,
            "source": "LA.cond(a, 1)",
            "outputs": [
                {
                    "output_type": "execute_result",
                    "metadata": {},
                    "data": {
                        "text/plain": "2.0"
                    },
                    "execution_count": null
                }
            ]
        },
        {
            "id": "463c0361",
            "cell_type": "code",
            "metadata": {},
            "execution_count": null,
            "source": "LA.cond(a, -1)",
            "outputs": [
                {
                    "output_type": "execute_result",
                    "metadata": {},
                    "data": {
                        "text/plain": "1.0"
                    },
                    "execution_count": null
                }
            ]
        },
        {
            "id": "6a7b10b3",
            "cell_type": "code",
            "metadata": {},
            "execution_count": null,
            "source": "LA.cond(a, 2)",
            "outputs": [
                {
                    "output_type": "execute_result",
                    "metadata": {},
                    "data": {
                        "text/plain": "1.4142135623730951"
                    },
                    "execution_count": null
                }
            ]
        },
        {
            "id": "5f331c93",
            "cell_type": "code",
            "metadata": {},
            "execution_count": null,
            "source": "LA.cond(a, -2)",
            "outputs": [
                {
                    "output_type": "execute_result",
                    "metadata": {},
                    "data": {
                        "text/plain": "0.70710678118654746 # may vary"
                    },
                    "execution_count": null
                }
            ]
        },
        {
            "id": "37b0cb1a",
            "cell_type": "code",
            "metadata": {},
            "execution_count": null,
            "source": "(min(LA.svd(a, compute_uv=False)) *\nmin(LA.svd(LA.inv(a), compute_uv=False)))",
            "outputs": [
                {
                    "output_type": "execute_result",
                    "metadata": {},
                    "data": {
                        "text/plain": "0.70710678118654746 # may vary"
                    },
                    "execution_count": null
                }
            ]
        }
    ]
}