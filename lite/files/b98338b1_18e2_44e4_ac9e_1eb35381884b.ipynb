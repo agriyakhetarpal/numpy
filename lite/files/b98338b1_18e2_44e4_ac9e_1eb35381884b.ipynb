{
    "nbformat": 4,
    "nbformat_minor": 5,
    "metadata": {
        "kernelspec": {
            "display_name": "Python",
            "language": "python",
            "name": "python"
        },
        "language_info": {
            "name": "python"
        }
    },
    "cells": [
        {
            "id": "dc37ac3f",
            "cell_type": "markdown",
            "source": "<div class='alert alert-warning'>\n\nNumPy's interactive examples are experimental and may not always work as expected, with high load times especially on low-resource platforms, and the version of NumPy might not be in sync with the one you are browsing the documentation for. If you encounter any issues, please report them on the [NumPy issue tracker](https://github.com/numpy/numpy/issues).\n\n</div>",
            "metadata": {}
        },
        {
            "id": "75b0129b",
            "cell_type": "code",
            "metadata": {},
            "execution_count": null,
            "source": "import numpy as np\nnp.isclose([1e10,1e-7], [1.00001e10,1e-8])",
            "outputs": [
                {
                    "output_type": "execute_result",
                    "metadata": {},
                    "data": {
                        "text/plain": "array([ True, False])"
                    },
                    "execution_count": null
                }
            ]
        },
        {
            "id": "cb90d2be",
            "cell_type": "code",
            "metadata": {},
            "execution_count": null,
            "source": "np.isclose([1e10,1e-8], [1.00001e10,1e-9])",
            "outputs": [
                {
                    "output_type": "execute_result",
                    "metadata": {},
                    "data": {
                        "text/plain": "array([ True, True])"
                    },
                    "execution_count": null
                }
            ]
        },
        {
            "id": "f5def174",
            "cell_type": "code",
            "metadata": {},
            "execution_count": null,
            "source": "np.isclose([1e10,1e-8], [1.0001e10,1e-9])",
            "outputs": [
                {
                    "output_type": "execute_result",
                    "metadata": {},
                    "data": {
                        "text/plain": "array([False,  True])"
                    },
                    "execution_count": null
                }
            ]
        },
        {
            "id": "06e471c3",
            "cell_type": "code",
            "metadata": {},
            "execution_count": null,
            "source": "np.isclose([1.0, np.nan], [1.0, np.nan])",
            "outputs": [
                {
                    "output_type": "execute_result",
                    "metadata": {},
                    "data": {
                        "text/plain": "array([ True, False])"
                    },
                    "execution_count": null
                }
            ]
        },
        {
            "id": "0f37ecf0",
            "cell_type": "code",
            "metadata": {},
            "execution_count": null,
            "source": "np.isclose([1.0, np.nan], [1.0, np.nan], equal_nan=True)",
            "outputs": [
                {
                    "output_type": "execute_result",
                    "metadata": {},
                    "data": {
                        "text/plain": "array([ True, True])"
                    },
                    "execution_count": null
                }
            ]
        },
        {
            "id": "b21478b1",
            "cell_type": "code",
            "metadata": {},
            "execution_count": null,
            "source": "np.isclose([1e-8, 1e-7], [0.0, 0.0])",
            "outputs": [
                {
                    "output_type": "execute_result",
                    "metadata": {},
                    "data": {
                        "text/plain": "array([ True, False])"
                    },
                    "execution_count": null
                }
            ]
        },
        {
            "id": "d6957ad6",
            "cell_type": "code",
            "metadata": {},
            "execution_count": null,
            "source": "np.isclose([1e-100, 1e-7], [0.0, 0.0], atol=0.0)",
            "outputs": [
                {
                    "output_type": "execute_result",
                    "metadata": {},
                    "data": {
                        "text/plain": "array([False, False])"
                    },
                    "execution_count": null
                }
            ]
        },
        {
            "id": "c3adea04",
            "cell_type": "code",
            "metadata": {},
            "execution_count": null,
            "source": "np.isclose([1e-10, 1e-10], [1e-20, 0.0])",
            "outputs": [
                {
                    "output_type": "execute_result",
                    "metadata": {},
                    "data": {
                        "text/plain": "array([ True,  True])"
                    },
                    "execution_count": null
                }
            ]
        },
        {
            "id": "e0d74903",
            "cell_type": "code",
            "metadata": {},
            "execution_count": null,
            "source": "np.isclose([1e-10, 1e-10], [1e-20, 0.999999e-10], atol=0.0)",
            "outputs": [
                {
                    "output_type": "execute_result",
                    "metadata": {},
                    "data": {
                        "text/plain": "array([False,  True])"
                    },
                    "execution_count": null
                }
            ]
        }
    ]
}