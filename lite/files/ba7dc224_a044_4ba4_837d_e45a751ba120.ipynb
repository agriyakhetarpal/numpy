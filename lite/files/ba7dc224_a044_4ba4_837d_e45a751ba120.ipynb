{
    "nbformat": 4,
    "nbformat_minor": 5,
    "metadata": {
        "kernelspec": {
            "display_name": "Python",
            "language": "python",
            "name": "python"
        },
        "language_info": {
            "name": "python"
        }
    },
    "cells": [
        {
            "id": "3bb8b096",
            "cell_type": "markdown",
            "source": "<div class='alert alert-warning'>\n\nNumPy's interactive examples are experimental and may not always work as expected, with high load times especially on low-resource platforms, and the version of NumPy might not be in sync with the one you are browsing the documentation for. If you encounter any issues, please report them on the [NumPy issue tracker](https://github.com/numpy/numpy/issues).\n\n</div>",
            "metadata": {}
        },
        {
            "id": "704b5016",
            "cell_type": "markdown",
            "source": "One dimensional array:\n",
            "metadata": {}
        },
        {
            "id": "1067668f",
            "cell_type": "code",
            "metadata": {},
            "execution_count": null,
            "source": "import numpy as np\nx = np.array([3, 1, 2])\nnp.argsort(x)",
            "outputs": [
                {
                    "output_type": "execute_result",
                    "metadata": {},
                    "data": {
                        "text/plain": "array([1, 2, 0])"
                    },
                    "execution_count": null
                }
            ]
        },
        {
            "id": "869617c1",
            "cell_type": "markdown",
            "source": "Two-dimensional array:\n",
            "metadata": {}
        },
        {
            "id": "6e3ba6de",
            "cell_type": "code",
            "metadata": {},
            "execution_count": null,
            "source": "x = np.array([[0, 3], [2, 2]])\nx",
            "outputs": [
                {
                    "output_type": "execute_result",
                    "metadata": {},
                    "data": {
                        "text/plain": "array([[0, 3],\n       [2, 2]])"
                    },
                    "execution_count": null
                }
            ]
        },
        {
            "id": "44004827",
            "cell_type": "code",
            "metadata": {},
            "execution_count": null,
            "source": "ind = np.argsort(x, axis=0)  # sorts along first axis (down)\nind",
            "outputs": [
                {
                    "output_type": "execute_result",
                    "metadata": {},
                    "data": {
                        "text/plain": "array([[0, 1],\n       [1, 0]])"
                    },
                    "execution_count": null
                }
            ]
        },
        {
            "id": "99374f7d",
            "cell_type": "code",
            "metadata": {},
            "execution_count": null,
            "source": "np.take_along_axis(x, ind, axis=0)  # same as np.sort(x, axis=0)",
            "outputs": [
                {
                    "output_type": "execute_result",
                    "metadata": {},
                    "data": {
                        "text/plain": "array([[0, 2],\n       [2, 3]])"
                    },
                    "execution_count": null
                }
            ]
        },
        {
            "id": "250afb1f",
            "cell_type": "code",
            "metadata": {},
            "execution_count": null,
            "source": "ind = np.argsort(x, axis=1)  # sorts along last axis (across)\nind",
            "outputs": [
                {
                    "output_type": "execute_result",
                    "metadata": {},
                    "data": {
                        "text/plain": "array([[0, 1],\n       [0, 1]])"
                    },
                    "execution_count": null
                }
            ]
        },
        {
            "id": "a4d83163",
            "cell_type": "code",
            "metadata": {},
            "execution_count": null,
            "source": "np.take_along_axis(x, ind, axis=1)  # same as np.sort(x, axis=1)",
            "outputs": [
                {
                    "output_type": "execute_result",
                    "metadata": {},
                    "data": {
                        "text/plain": "array([[0, 3],\n       [2, 2]])"
                    },
                    "execution_count": null
                }
            ]
        },
        {
            "id": "cb9922d7",
            "cell_type": "markdown",
            "source": "Indices of the sorted elements of a N-dimensional array:\n",
            "metadata": {}
        },
        {
            "id": "38c12998",
            "cell_type": "code",
            "metadata": {},
            "execution_count": null,
            "source": "ind = np.unravel_index(np.argsort(x, axis=None), x.shape)\nind",
            "outputs": [
                {
                    "output_type": "execute_result",
                    "metadata": {},
                    "data": {
                        "text/plain": "(array([0, 1, 1, 0]), array([0, 0, 1, 1]))"
                    },
                    "execution_count": null
                }
            ]
        },
        {
            "id": "65623083",
            "cell_type": "code",
            "metadata": {},
            "execution_count": null,
            "source": "x[ind]  # same as np.sort(x, axis=None)",
            "outputs": [
                {
                    "output_type": "execute_result",
                    "metadata": {},
                    "data": {
                        "text/plain": "array([0, 2, 2, 3])"
                    },
                    "execution_count": null
                }
            ]
        },
        {
            "id": "4a0fafc2",
            "cell_type": "markdown",
            "source": "Sorting with keys:\n",
            "metadata": {}
        },
        {
            "id": "7768fd6f",
            "cell_type": "code",
            "metadata": {},
            "execution_count": null,
            "source": "x = np.array([(1, 0), (0, 1)], dtype=[('x', '<i4'), ('y', '<i4')])\nx",
            "outputs": [
                {
                    "output_type": "execute_result",
                    "metadata": {},
                    "data": {
                        "text/plain": "array([(1, 0), (0, 1)],\n      dtype=[('x', '<i4'), ('y', '<i4')])"
                    },
                    "execution_count": null
                }
            ]
        },
        {
            "id": "8991042e",
            "cell_type": "code",
            "metadata": {},
            "execution_count": null,
            "source": "np.argsort(x, order=('x','y'))",
            "outputs": [
                {
                    "output_type": "execute_result",
                    "metadata": {},
                    "data": {
                        "text/plain": "array([1, 0])"
                    },
                    "execution_count": null
                }
            ]
        },
        {
            "id": "157843ec",
            "cell_type": "code",
            "metadata": {},
            "execution_count": null,
            "source": "np.argsort(x, order=('y','x'))",
            "outputs": [
                {
                    "output_type": "execute_result",
                    "metadata": {},
                    "data": {
                        "text/plain": "array([0, 1])"
                    },
                    "execution_count": null
                }
            ]
        }
    ]
}