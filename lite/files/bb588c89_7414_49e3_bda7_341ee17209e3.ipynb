{
    "nbformat": 4,
    "nbformat_minor": 5,
    "metadata": {
        "kernelspec": {
            "display_name": "Python",
            "language": "python",
            "name": "python"
        },
        "language_info": {
            "name": "python"
        }
    },
    "cells": [
        {
            "id": "1fce5c49",
            "cell_type": "markdown",
            "source": "<div class='alert alert-warning'>\n\nNumPy's interactive examples are experimental and may not always work as expected, with high load times especially on low-resource platforms, and the version of NumPy might not be in sync with the one you are browsing the documentation for. If you encounter any issues, please report them on the [NumPy issue tracker](https://github.com/numpy/numpy/issues).\n\n</div>",
            "metadata": {}
        },
        {
            "id": "5af85204",
            "cell_type": "code",
            "metadata": {},
            "execution_count": null,
            "source": "import numpy as np\narr = np.arange(12).reshape((3, 4))\narr",
            "outputs": [
                {
                    "output_type": "execute_result",
                    "metadata": {},
                    "data": {
                        "text/plain": "array([[ 0,  1,  2,  3],\n       [ 4,  5,  6,  7],\n       [ 8,  9, 10, 11]])"
                    },
                    "execution_count": null
                }
            ]
        },
        {
            "id": "2a932cb3",
            "cell_type": "code",
            "metadata": {},
            "execution_count": null,
            "source": "condition = np.mod(arr, 3)==0\ncondition",
            "outputs": [
                {
                    "output_type": "execute_result",
                    "metadata": {},
                    "data": {
                        "text/plain": "array([[ True, False, False,  True],\n       [False, False,  True, False],\n       [False,  True, False, False]])"
                    },
                    "execution_count": null
                }
            ]
        },
        {
            "id": "13cb151a",
            "cell_type": "code",
            "metadata": {},
            "execution_count": null,
            "source": "np.extract(condition, arr)",
            "outputs": [
                {
                    "output_type": "execute_result",
                    "metadata": {},
                    "data": {
                        "text/plain": "array([0, 3, 6, 9])"
                    },
                    "execution_count": null
                }
            ]
        },
        {
            "id": "5bf9ab08",
            "cell_type": "markdown",
            "source": "If `condition` is boolean:\n",
            "metadata": {}
        },
        {
            "id": "06ec807f",
            "cell_type": "code",
            "metadata": {},
            "execution_count": null,
            "source": "arr[condition]",
            "outputs": [
                {
                    "output_type": "execute_result",
                    "metadata": {},
                    "data": {
                        "text/plain": "array([0, 3, 6, 9])"
                    },
                    "execution_count": null
                }
            ]
        }
    ]
}