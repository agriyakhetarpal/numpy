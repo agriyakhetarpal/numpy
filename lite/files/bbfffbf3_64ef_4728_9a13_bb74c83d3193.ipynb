{
    "nbformat": 4,
    "nbformat_minor": 5,
    "metadata": {
        "kernelspec": {
            "display_name": "Python",
            "language": "python",
            "name": "python"
        },
        "language_info": {
            "name": "python"
        }
    },
    "cells": [
        {
            "id": "ee7b184c",
            "cell_type": "markdown",
            "source": "<div class='alert alert-warning'>\n\nNumPy's interactive examples are experimental and may not always work as expected, with high load times especially on low-resource platforms, , and the version of NumPy might not be in sync with the one you are browsing the documentation for. If you encounter any issues, please report them on the [NumPy issue tracker](https://github.com/numpy/numpy/issues).\n\n</div>",
            "metadata": {}
        },
        {
            "id": "ae68e187",
            "cell_type": "markdown",
            "source": "For real, non-negative inputs this works just like `numpy.sqrt`:\n",
            "metadata": {}
        },
        {
            "id": "9033e5d6",
            "cell_type": "code",
            "metadata": {},
            "execution_count": null,
            "source": "import numpy as np",
            "outputs": []
        },
        {
            "id": "e8e5aa64",
            "cell_type": "code",
            "metadata": {},
            "execution_count": null,
            "source": "np.emath.sqrt(1)",
            "outputs": [
                {
                    "output_type": "execute_result",
                    "metadata": {},
                    "data": {
                        "text/plain": "1.0"
                    },
                    "execution_count": null
                }
            ]
        },
        {
            "id": "c3a9e6f1",
            "cell_type": "code",
            "metadata": {},
            "execution_count": null,
            "source": "np.emath.sqrt([1, 4])",
            "outputs": [
                {
                    "output_type": "execute_result",
                    "metadata": {},
                    "data": {
                        "text/plain": "array([1.,  2.])"
                    },
                    "execution_count": null
                }
            ]
        },
        {
            "id": "ef5b583f",
            "cell_type": "markdown",
            "source": "But it automatically handles negative inputs:\n",
            "metadata": {}
        },
        {
            "id": "67f74931",
            "cell_type": "code",
            "metadata": {},
            "execution_count": null,
            "source": "np.emath.sqrt(-1)",
            "outputs": [
                {
                    "output_type": "execute_result",
                    "metadata": {},
                    "data": {
                        "text/plain": "1j"
                    },
                    "execution_count": null
                }
            ]
        },
        {
            "id": "3e3367dd",
            "cell_type": "code",
            "metadata": {},
            "execution_count": null,
            "source": "np.emath.sqrt([-1,4])",
            "outputs": [
                {
                    "output_type": "execute_result",
                    "metadata": {},
                    "data": {
                        "text/plain": "array([0.+1.j, 2.+0.j])"
                    },
                    "execution_count": null
                }
            ]
        },
        {
            "id": "1dbf190d",
            "cell_type": "markdown",
            "source": "Different results are expected because:\nfloating point 0.0 and -0.0 are distinct.\n\nFor more control, explicitly use complex() as follows:\n",
            "metadata": {}
        },
        {
            "id": "ac706700",
            "cell_type": "code",
            "metadata": {},
            "execution_count": null,
            "source": "np.emath.sqrt(complex(-4.0, 0.0))",
            "outputs": [
                {
                    "output_type": "execute_result",
                    "metadata": {},
                    "data": {
                        "text/plain": "2j"
                    },
                    "execution_count": null
                }
            ]
        },
        {
            "id": "6351dd1d",
            "cell_type": "code",
            "metadata": {},
            "execution_count": null,
            "source": "np.emath.sqrt(complex(-4.0, -0.0))",
            "outputs": [
                {
                    "output_type": "execute_result",
                    "metadata": {},
                    "data": {
                        "text/plain": "-2j"
                    },
                    "execution_count": null
                }
            ]
        }
    ]
}