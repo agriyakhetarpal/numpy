{
    "nbformat": 4,
    "nbformat_minor": 5,
    "metadata": {
        "kernelspec": {
            "display_name": "Python",
            "language": "python",
            "name": "python"
        },
        "language_info": {
            "name": "python"
        }
    },
    "cells": [
        {
            "id": "68a77a42",
            "cell_type": "markdown",
            "source": "<div class='alert alert-warning'>\n\nNumPy's interactive examples are experimental and may not always work as expected, with high load times especially on low-resource platforms, , and the version of NumPy might not be in sync with the one you are browsing the documentation for. If you encounter any issues, please report them on the [NumPy issue tracker](https://github.com/numpy/numpy/issues).\n\n</div>",
            "metadata": {}
        },
        {
            "id": "8b70d196",
            "cell_type": "markdown",
            "source": "Convert a list into an array:\n",
            "metadata": {}
        },
        {
            "id": "1747d9aa",
            "cell_type": "code",
            "metadata": {},
            "execution_count": null,
            "source": "a = [1, 2]\nimport numpy as np\nnp.asarray(a)",
            "outputs": [
                {
                    "output_type": "execute_result",
                    "metadata": {},
                    "data": {
                        "text/plain": "array([1, 2])"
                    },
                    "execution_count": null
                }
            ]
        },
        {
            "id": "33d747eb",
            "cell_type": "markdown",
            "source": "Existing arrays are not copied:\n",
            "metadata": {}
        },
        {
            "id": "90342a27",
            "cell_type": "code",
            "metadata": {},
            "execution_count": null,
            "source": "a = np.array([1, 2])\nnp.asarray(a) is a",
            "outputs": [
                {
                    "output_type": "execute_result",
                    "metadata": {},
                    "data": {
                        "text/plain": "True"
                    },
                    "execution_count": null
                }
            ]
        },
        {
            "id": "18af56e1",
            "cell_type": "markdown",
            "source": "If `dtype` is set, array is copied only if dtype does not match:\n",
            "metadata": {}
        },
        {
            "id": "cc4f61d9",
            "cell_type": "code",
            "metadata": {},
            "execution_count": null,
            "source": "a = np.array([1, 2], dtype=np.float32)\nnp.shares_memory(np.asarray(a, dtype=np.float32), a)",
            "outputs": [
                {
                    "output_type": "execute_result",
                    "metadata": {},
                    "data": {
                        "text/plain": "True"
                    },
                    "execution_count": null
                }
            ]
        },
        {
            "id": "47b819c4",
            "cell_type": "code",
            "metadata": {},
            "execution_count": null,
            "source": "np.shares_memory(np.asarray(a, dtype=np.float64), a)",
            "outputs": [
                {
                    "output_type": "execute_result",
                    "metadata": {},
                    "data": {
                        "text/plain": "False"
                    },
                    "execution_count": null
                }
            ]
        },
        {
            "id": "bd1fda9f",
            "cell_type": "markdown",
            "source": "Contrary to `asanyarray`, ndarray subclasses are not passed through:\n",
            "metadata": {}
        },
        {
            "id": "02306694",
            "cell_type": "code",
            "metadata": {},
            "execution_count": null,
            "source": "issubclass(np.recarray, np.ndarray)",
            "outputs": [
                {
                    "output_type": "execute_result",
                    "metadata": {},
                    "data": {
                        "text/plain": "True"
                    },
                    "execution_count": null
                }
            ]
        },
        {
            "id": "2fcd275c",
            "cell_type": "code",
            "metadata": {},
            "execution_count": null,
            "source": "a = np.array([(1., 2), (3., 4)], dtype='f4,i4').view(np.recarray)\nnp.asarray(a) is a",
            "outputs": [
                {
                    "output_type": "execute_result",
                    "metadata": {},
                    "data": {
                        "text/plain": "False"
                    },
                    "execution_count": null
                }
            ]
        },
        {
            "id": "f1242c13",
            "cell_type": "code",
            "metadata": {},
            "execution_count": null,
            "source": "np.asanyarray(a) is a",
            "outputs": [
                {
                    "output_type": "execute_result",
                    "metadata": {},
                    "data": {
                        "text/plain": "True"
                    },
                    "execution_count": null
                }
            ]
        }
    ]
}