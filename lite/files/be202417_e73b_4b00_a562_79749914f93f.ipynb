{
    "nbformat": 4,
    "nbformat_minor": 5,
    "metadata": {
        "kernelspec": {
            "display_name": "Python",
            "language": "python",
            "name": "python"
        },
        "language_info": {
            "name": "python"
        }
    },
    "cells": [
        {
            "id": "e46374a6",
            "cell_type": "markdown",
            "source": "<div class='alert alert-warning'>\n\nNumPy's interactive examples are experimental and may not always work as expected, with high load times especially on low-resource platforms, and the version of NumPy might not be in sync with the one you are browsing the documentation for. If you encounter any issues, please report them on the [NumPy issue tracker](https://github.com/numpy/numpy/issues).\n\n</div>",
            "metadata": {}
        },
        {
            "id": "e45c82bc",
            "cell_type": "code",
            "metadata": {},
            "execution_count": null,
            "source": "import numpy as np\nnp.add.nargs",
            "outputs": [
                {
                    "output_type": "execute_result",
                    "metadata": {},
                    "data": {
                        "text/plain": "3"
                    },
                    "execution_count": null
                }
            ]
        },
        {
            "id": "138b4757",
            "cell_type": "code",
            "metadata": {},
            "execution_count": null,
            "source": "np.multiply.nargs",
            "outputs": [
                {
                    "output_type": "execute_result",
                    "metadata": {},
                    "data": {
                        "text/plain": "3"
                    },
                    "execution_count": null
                }
            ]
        },
        {
            "id": "7c0cd14c",
            "cell_type": "code",
            "metadata": {},
            "execution_count": null,
            "source": "np.power.nargs",
            "outputs": [
                {
                    "output_type": "execute_result",
                    "metadata": {},
                    "data": {
                        "text/plain": "3"
                    },
                    "execution_count": null
                }
            ]
        },
        {
            "id": "ddf27eb9",
            "cell_type": "code",
            "metadata": {},
            "execution_count": null,
            "source": "np.exp.nargs",
            "outputs": [
                {
                    "output_type": "execute_result",
                    "metadata": {},
                    "data": {
                        "text/plain": "2"
                    },
                    "execution_count": null
                }
            ]
        }
    ]
}