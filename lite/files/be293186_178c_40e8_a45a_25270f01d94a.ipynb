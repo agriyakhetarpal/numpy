{
    "nbformat": 4,
    "nbformat_minor": 5,
    "metadata": {
        "kernelspec": {
            "display_name": "Python",
            "language": "python",
            "name": "python"
        },
        "language_info": {
            "name": "python"
        }
    },
    "cells": [
        {
            "id": "70f67f65",
            "cell_type": "markdown",
            "source": "<div class='alert alert-warning'>\n\nNumPy's interactive examples are experimental and may not always work as expected, with high load times especially on low-resource platforms, and the version of NumPy might not be in sync with the one you are browsing the documentation for. If you encounter any issues, please report them on the [NumPy issue tracker](https://github.com/numpy/numpy/issues).\n\n</div>",
            "metadata": {}
        },
        {
            "id": "0fa5b695",
            "cell_type": "code",
            "metadata": {},
            "execution_count": null,
            "source": "import numpy as np\na = np.array([\"a\", \"b\", \"c\"])\nnp.strings.multiply(a, 3)",
            "outputs": [
                {
                    "output_type": "execute_result",
                    "metadata": {},
                    "data": {
                        "text/plain": "array(['aaa', 'bbb', 'ccc'], dtype='<U3')"
                    },
                    "execution_count": null
                }
            ]
        },
        {
            "id": "25335439",
            "cell_type": "code",
            "metadata": {},
            "execution_count": null,
            "source": "i = np.array([1, 2, 3])\nnp.strings.multiply(a, i)",
            "outputs": [
                {
                    "output_type": "execute_result",
                    "metadata": {},
                    "data": {
                        "text/plain": "array(['a', 'bb', 'ccc'], dtype='<U3')"
                    },
                    "execution_count": null
                }
            ]
        },
        {
            "id": "fe76c542",
            "cell_type": "code",
            "metadata": {},
            "execution_count": null,
            "source": "np.strings.multiply(np.array(['a']), i)",
            "outputs": [
                {
                    "output_type": "execute_result",
                    "metadata": {},
                    "data": {
                        "text/plain": "array(['a', 'aa', 'aaa'], dtype='<U3')"
                    },
                    "execution_count": null
                }
            ]
        },
        {
            "id": "83391b12",
            "cell_type": "code",
            "metadata": {},
            "execution_count": null,
            "source": "a = np.array(['a', 'b', 'c', 'd', 'e', 'f']).reshape((2, 3))\nnp.strings.multiply(a, 3)",
            "outputs": [
                {
                    "output_type": "execute_result",
                    "metadata": {},
                    "data": {
                        "text/plain": "array([['aaa', 'bbb', 'ccc'],\n       ['ddd', 'eee', 'fff']], dtype='<U3')"
                    },
                    "execution_count": null
                }
            ]
        },
        {
            "id": "b7ab7c31",
            "cell_type": "code",
            "metadata": {},
            "execution_count": null,
            "source": "np.strings.multiply(a, i)",
            "outputs": [
                {
                    "output_type": "execute_result",
                    "metadata": {},
                    "data": {
                        "text/plain": "array([['a', 'bb', 'ccc'],\n       ['d', 'ee', 'fff']], dtype='<U3')"
                    },
                    "execution_count": null
                }
            ]
        }
    ]
}