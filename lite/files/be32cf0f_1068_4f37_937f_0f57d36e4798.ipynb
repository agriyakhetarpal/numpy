{
    "nbformat": 4,
    "nbformat_minor": 5,
    "metadata": {
        "kernelspec": {
            "display_name": "Python",
            "language": "python",
            "name": "python"
        },
        "language_info": {
            "name": "python"
        }
    },
    "cells": [
        {
            "id": "4ea07d7d",
            "cell_type": "markdown",
            "source": "<div class='alert alert-warning'>\n\nNumPy's interactive examples are experimental and may not always work as expected, with high load times especially on low-resource platforms, , and the version of NumPy might not be in sync with the one you are browsing the documentation for. If you encounter any issues, please report them on the [NumPy issue tracker](https://github.com/numpy/numpy/issues).\n\n</div>",
            "metadata": {}
        },
        {
            "id": "72340684",
            "cell_type": "markdown",
            "source": "Shrinking an array: array is flattened (in the order that the data are\nstored in memory), resized, and reshaped:\n",
            "metadata": {}
        },
        {
            "id": "47cd13fb",
            "cell_type": "code",
            "metadata": {},
            "execution_count": null,
            "source": "import numpy as np",
            "outputs": []
        },
        {
            "id": "d9dcb10a",
            "cell_type": "code",
            "metadata": {},
            "execution_count": null,
            "source": "a = np.array([[0, 1], [2, 3]], order='C')\na.resize((2, 1))\na",
            "outputs": [
                {
                    "output_type": "execute_result",
                    "metadata": {},
                    "data": {
                        "text/plain": "array([[0],\n       [1]])"
                    },
                    "execution_count": null
                }
            ]
        },
        {
            "id": "37ccd80c",
            "cell_type": "code",
            "metadata": {},
            "execution_count": null,
            "source": "a = np.array([[0, 1], [2, 3]], order='F')\na.resize((2, 1))\na",
            "outputs": [
                {
                    "output_type": "execute_result",
                    "metadata": {},
                    "data": {
                        "text/plain": "array([[0],\n       [2]])"
                    },
                    "execution_count": null
                }
            ]
        },
        {
            "id": "b8e8be42",
            "cell_type": "markdown",
            "source": "Enlarging an array: as above, but missing entries are filled with zeros:\n",
            "metadata": {}
        },
        {
            "id": "1c6043f3",
            "cell_type": "code",
            "metadata": {},
            "execution_count": null,
            "source": "b = np.array([[0, 1], [2, 3]])\nb.resize(2, 3) # new_shape parameter doesn't have to be a tuple\nb",
            "outputs": [
                {
                    "output_type": "execute_result",
                    "metadata": {},
                    "data": {
                        "text/plain": "array([[0, 1, 2],\n       [3, 0, 0]])"
                    },
                    "execution_count": null
                }
            ]
        },
        {
            "id": "dd51ee45",
            "cell_type": "markdown",
            "source": "Referencing an array prevents resizing...\n",
            "metadata": {}
        },
        {
            "id": "38d68981",
            "cell_type": "code",
            "metadata": {},
            "execution_count": null,
            "source": "c = a\na.resize((1, 1))\n",
            "outputs": [
                {
                    "output_type": "execute_result",
                    "metadata": {},
                    "data": {
                        "text/plain": "Traceback (most recent call last):\nValueError: cannot resize an array that references or is referenced ..."
                    },
                    "execution_count": null
                }
            ]
        },
        {
            "id": "0ff80c05",
            "cell_type": "markdown",
            "source": "Unless `refcheck` is False:\n",
            "metadata": {}
        },
        {
            "id": "a5713bf6",
            "cell_type": "code",
            "metadata": {},
            "execution_count": null,
            "source": "a.resize((1, 1), refcheck=False)\na",
            "outputs": [
                {
                    "output_type": "execute_result",
                    "metadata": {},
                    "data": {
                        "text/plain": "array([[0]])"
                    },
                    "execution_count": null
                }
            ]
        },
        {
            "id": "a28edfe0",
            "cell_type": "code",
            "metadata": {},
            "execution_count": null,
            "source": "c",
            "outputs": [
                {
                    "output_type": "execute_result",
                    "metadata": {},
                    "data": {
                        "text/plain": "array([[0]])"
                    },
                    "execution_count": null
                }
            ]
        }
    ]
}