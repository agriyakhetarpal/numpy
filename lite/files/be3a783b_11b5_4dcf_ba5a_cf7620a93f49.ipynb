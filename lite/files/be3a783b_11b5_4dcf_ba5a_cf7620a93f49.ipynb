{
    "nbformat": 4,
    "nbformat_minor": 5,
    "metadata": {
        "kernelspec": {
            "display_name": "Python",
            "language": "python",
            "name": "python"
        },
        "language_info": {
            "name": "python"
        }
    },
    "cells": [
        {
            "id": "499171b4",
            "cell_type": "markdown",
            "source": "<div class='alert alert-warning'>\n\nNumPy's interactive examples are experimental and may not always work as expected, with high load times especially on low-resource platforms, and the version of NumPy might not be in sync with the one you are browsing the documentation for. If you encounter any issues, please report them on the [NumPy issue tracker](https://github.com/numpy/numpy/issues).\n\n</div>",
            "metadata": {}
        },
        {
            "id": "ebbc7c94",
            "cell_type": "code",
            "metadata": {},
            "execution_count": null,
            "source": "import numpy as np\nnp.histogram([1, 2, 1], bins=[0, 1, 2, 3])",
            "outputs": [
                {
                    "output_type": "execute_result",
                    "metadata": {},
                    "data": {
                        "text/plain": "(array([0, 2, 1]), array([0, 1, 2, 3]))"
                    },
                    "execution_count": null
                }
            ]
        },
        {
            "id": "aa9d3800",
            "cell_type": "code",
            "metadata": {},
            "execution_count": null,
            "source": "np.histogram(np.arange(4), bins=np.arange(5), density=True)",
            "outputs": [
                {
                    "output_type": "execute_result",
                    "metadata": {},
                    "data": {
                        "text/plain": "(array([0.25, 0.25, 0.25, 0.25]), array([0, 1, 2, 3, 4]))"
                    },
                    "execution_count": null
                }
            ]
        },
        {
            "id": "b26e93ad",
            "cell_type": "code",
            "metadata": {},
            "execution_count": null,
            "source": "np.histogram([[1, 2, 1], [1, 0, 1]], bins=[0,1,2,3])",
            "outputs": [
                {
                    "output_type": "execute_result",
                    "metadata": {},
                    "data": {
                        "text/plain": "(array([1, 4, 1]), array([0, 1, 2, 3]))"
                    },
                    "execution_count": null
                }
            ]
        },
        {
            "id": "bfaec239",
            "cell_type": "code",
            "metadata": {},
            "execution_count": null,
            "source": "a = np.arange(5)\nhist, bin_edges = np.histogram(a, density=True)\nhist",
            "outputs": [
                {
                    "output_type": "execute_result",
                    "metadata": {},
                    "data": {
                        "text/plain": "array([0.5, 0. , 0.5, 0. , 0. , 0.5, 0. , 0.5, 0. , 0.5])"
                    },
                    "execution_count": null
                }
            ]
        },
        {
            "id": "2593981e",
            "cell_type": "code",
            "metadata": {},
            "execution_count": null,
            "source": "hist.sum()",
            "outputs": [
                {
                    "output_type": "execute_result",
                    "metadata": {},
                    "data": {
                        "text/plain": "2.4999999999999996"
                    },
                    "execution_count": null
                }
            ]
        },
        {
            "id": "8ef6f606",
            "cell_type": "code",
            "metadata": {},
            "execution_count": null,
            "source": "np.sum(hist * np.diff(bin_edges))",
            "outputs": [
                {
                    "output_type": "execute_result",
                    "metadata": {},
                    "data": {
                        "text/plain": "1.0"
                    },
                    "execution_count": null
                }
            ]
        },
        {
            "id": "1c75104d",
            "cell_type": "markdown",
            "source": "Automated Bin Selection Methods example, using 2 peak random data\nwith 2000 points.\n\n.. code-block:: python\n\n    import matplotlib.pyplot as plt\n    import numpy as np\n\n    rng = np.random.RandomState(10)  # deterministic random data\n    a = np.hstack((rng.normal(size=1000),\n                   rng.normal(loc=5, scale=2, size=1000)))\n    plt.hist(a, bins='auto')  # arguments are passed to np.histogram\n    plt.title(\"Histogram with 'auto' bins\")\n    plt.show()\n",
            "metadata": {}
        }
    ]
}