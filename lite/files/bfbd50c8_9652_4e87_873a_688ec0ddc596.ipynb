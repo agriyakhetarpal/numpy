{
    "nbformat": 4,
    "nbformat_minor": 5,
    "metadata": {
        "kernelspec": {
            "display_name": "Python",
            "language": "python",
            "name": "python"
        },
        "language_info": {
            "name": "python"
        }
    },
    "cells": [
        {
            "id": "80c4ba99",
            "cell_type": "markdown",
            "source": "<div class='alert alert-warning'>\n\nNumPy's interactive examples are experimental and may not always work as expected, with high load times especially on low-resource platforms, and the version of NumPy might not be in sync with the one you are browsing the documentation for. If you encounter any issues, please report them on the [NumPy issue tracker](https://github.com/numpy/numpy/issues).\n\n</div>",
            "metadata": {}
        },
        {
            "id": "c72b59e8",
            "cell_type": "code",
            "metadata": {},
            "execution_count": null,
            "source": "import numpy as np\na = np.array((0, 0, 0, 1, 2, 3, 0, 2, 1, 0))\nnp.trim_zeros(a)",
            "outputs": [
                {
                    "output_type": "execute_result",
                    "metadata": {},
                    "data": {
                        "text/plain": "array([1, 2, 3, 0, 2, 1])"
                    },
                    "execution_count": null
                }
            ]
        },
        {
            "id": "139d17d7",
            "cell_type": "code",
            "metadata": {},
            "execution_count": null,
            "source": "np.trim_zeros(a, trim='b')",
            "outputs": [
                {
                    "output_type": "execute_result",
                    "metadata": {},
                    "data": {
                        "text/plain": "array([0, 0, 0, ..., 0, 2, 1])"
                    },
                    "execution_count": null
                }
            ]
        },
        {
            "id": "033c34ba",
            "cell_type": "markdown",
            "source": "Multiple dimensions are supported.\n",
            "metadata": {}
        },
        {
            "id": "d6b537e1",
            "cell_type": "code",
            "metadata": {},
            "execution_count": null,
            "source": "b = np.array([[0, 0, 2, 3, 0, 0],\n              [0, 1, 0, 3, 0, 0],\n              [0, 0, 0, 0, 0, 0]])\nnp.trim_zeros(b)",
            "outputs": [
                {
                    "output_type": "execute_result",
                    "metadata": {},
                    "data": {
                        "text/plain": "array([[0, 2, 3],\n       [1, 0, 3]])"
                    },
                    "execution_count": null
                }
            ]
        },
        {
            "id": "89532e44",
            "cell_type": "code",
            "metadata": {},
            "execution_count": null,
            "source": "np.trim_zeros(b, axis=-1)",
            "outputs": [
                {
                    "output_type": "execute_result",
                    "metadata": {},
                    "data": {
                        "text/plain": "array([[0, 2, 3],\n       [1, 0, 3],\n       [0, 0, 0]])"
                    },
                    "execution_count": null
                }
            ]
        },
        {
            "id": "e4cc4ab8",
            "cell_type": "markdown",
            "source": "The input data type is preserved, list/tuple in means list/tuple out.\n",
            "metadata": {}
        },
        {
            "id": "0b0823f6",
            "cell_type": "code",
            "metadata": {},
            "execution_count": null,
            "source": "np.trim_zeros([0, 1, 2, 0])",
            "outputs": [
                {
                    "output_type": "execute_result",
                    "metadata": {},
                    "data": {
                        "text/plain": "[1, 2]"
                    },
                    "execution_count": null
                }
            ]
        }
    ]
}