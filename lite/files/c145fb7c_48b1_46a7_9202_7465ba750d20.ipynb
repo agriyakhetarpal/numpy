{
    "nbformat": 4,
    "nbformat_minor": 5,
    "metadata": {
        "kernelspec": {
            "display_name": "Python",
            "language": "python",
            "name": "python"
        },
        "language_info": {
            "name": "python"
        }
    },
    "cells": [
        {
            "id": "c262e4d7",
            "cell_type": "markdown",
            "source": "<div class='alert alert-warning'>\n\nNumPy's interactive examples are experimental and may not always work as expected, with high load times especially on low-resource platforms, , and the version of NumPy might not be in sync with the one you are browsing the documentation for. If you encounter any issues, please report them on the [NumPy issue tracker](https://github.com/numpy/numpy/issues).\n\n</div>",
            "metadata": {}
        },
        {
            "id": "175614c2",
            "cell_type": "code",
            "metadata": {},
            "execution_count": null,
            "source": "import numpy as np\nnp.repeat(3, 4)",
            "outputs": [
                {
                    "output_type": "execute_result",
                    "metadata": {},
                    "data": {
                        "text/plain": "array([3, 3, 3, 3])"
                    },
                    "execution_count": null
                }
            ]
        },
        {
            "id": "af36bae9",
            "cell_type": "code",
            "metadata": {},
            "execution_count": null,
            "source": "x = np.array([[1,2],[3,4]])\nnp.repeat(x, 2)",
            "outputs": [
                {
                    "output_type": "execute_result",
                    "metadata": {},
                    "data": {
                        "text/plain": "array([1, 1, 2, 2, 3, 3, 4, 4])"
                    },
                    "execution_count": null
                }
            ]
        },
        {
            "id": "68ad742e",
            "cell_type": "code",
            "metadata": {},
            "execution_count": null,
            "source": "np.repeat(x, 3, axis=1)",
            "outputs": [
                {
                    "output_type": "execute_result",
                    "metadata": {},
                    "data": {
                        "text/plain": "array([[1, 1, 1, 2, 2, 2],\n       [3, 3, 3, 4, 4, 4]])"
                    },
                    "execution_count": null
                }
            ]
        },
        {
            "id": "98a0bda1",
            "cell_type": "code",
            "metadata": {},
            "execution_count": null,
            "source": "np.repeat(x, [1, 2], axis=0)",
            "outputs": [
                {
                    "output_type": "execute_result",
                    "metadata": {},
                    "data": {
                        "text/plain": "array([[1, 2],\n       [3, 4],\n       [3, 4]])"
                    },
                    "execution_count": null
                }
            ]
        }
    ]
}