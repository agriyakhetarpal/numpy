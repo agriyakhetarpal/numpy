{
    "nbformat": 4,
    "nbformat_minor": 5,
    "metadata": {
        "kernelspec": {
            "display_name": "Python",
            "language": "python",
            "name": "python"
        },
        "language_info": {
            "name": "python"
        }
    },
    "cells": [
        {
            "id": "49d211ba",
            "cell_type": "markdown",
            "source": "<div class='alert alert-warning'>\n\nNumPy's interactive examples are experimental and may not always work as expected, with high load times especially on low-resource platforms, and the version of NumPy might not be in sync with the one you are browsing the documentation for. If you encounter any issues, please report them on the [NumPy issue tracker](https://github.com/numpy/numpy/issues).\n\n</div>",
            "metadata": {}
        },
        {
            "id": "055f1643",
            "cell_type": "code",
            "metadata": {},
            "execution_count": null,
            "source": "import numpy as np",
            "outputs": []
        },
        {
            "id": "4031c187",
            "cell_type": "markdown",
            "source": "Compute two different sets of indices to access 4x4 arrays, one for the\nupper triangular part starting at the main diagonal, and one starting two\ndiagonals further right:\n",
            "metadata": {}
        },
        {
            "id": "7e5210c4",
            "cell_type": "code",
            "metadata": {},
            "execution_count": null,
            "source": "iu1 = np.triu_indices(4)\niu2 = np.triu_indices(4, 2)",
            "outputs": []
        },
        {
            "id": "c62d6b4d",
            "cell_type": "markdown",
            "source": "Here is how they can be used with a sample array:\n",
            "metadata": {}
        },
        {
            "id": "5b94fb64",
            "cell_type": "code",
            "metadata": {},
            "execution_count": null,
            "source": "a = np.arange(16).reshape(4, 4)\na",
            "outputs": [
                {
                    "output_type": "execute_result",
                    "metadata": {},
                    "data": {
                        "text/plain": "array([[ 0,  1,  2,  3],\n       [ 4,  5,  6,  7],\n       [ 8,  9, 10, 11],\n       [12, 13, 14, 15]])"
                    },
                    "execution_count": null
                }
            ]
        },
        {
            "id": "0eae45ee",
            "cell_type": "markdown",
            "source": "Both for indexing:\n",
            "metadata": {}
        },
        {
            "id": "4c18488d",
            "cell_type": "code",
            "metadata": {},
            "execution_count": null,
            "source": "a[iu1]",
            "outputs": [
                {
                    "output_type": "execute_result",
                    "metadata": {},
                    "data": {
                        "text/plain": "array([ 0,  1,  2, ..., 10, 11, 15])"
                    },
                    "execution_count": null
                }
            ]
        },
        {
            "id": "2d89ee82",
            "cell_type": "markdown",
            "source": "And for assigning values:\n",
            "metadata": {}
        },
        {
            "id": "c5b4cd23",
            "cell_type": "code",
            "metadata": {},
            "execution_count": null,
            "source": "a[iu1] = -1\na",
            "outputs": [
                {
                    "output_type": "execute_result",
                    "metadata": {},
                    "data": {
                        "text/plain": "array([[-1, -1, -1, -1],\n       [ 4, -1, -1, -1],\n       [ 8,  9, -1, -1],\n       [12, 13, 14, -1]])"
                    },
                    "execution_count": null
                }
            ]
        },
        {
            "id": "31f096da",
            "cell_type": "markdown",
            "source": "These cover only a small part of the whole array (two diagonals right\nof the main one):\n",
            "metadata": {}
        },
        {
            "id": "cfb0ae04",
            "cell_type": "code",
            "metadata": {},
            "execution_count": null,
            "source": "a[iu2] = -10\na",
            "outputs": [
                {
                    "output_type": "execute_result",
                    "metadata": {},
                    "data": {
                        "text/plain": "array([[ -1,  -1, -10, -10],\n       [  4,  -1,  -1, -10],\n       [  8,   9,  -1,  -1],\n       [ 12,  13,  14,  -1]])"
                    },
                    "execution_count": null
                }
            ]
        }
    ]
}