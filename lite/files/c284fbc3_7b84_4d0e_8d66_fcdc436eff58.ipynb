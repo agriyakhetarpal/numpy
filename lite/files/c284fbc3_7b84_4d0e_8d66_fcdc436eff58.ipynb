{
    "nbformat": 4,
    "nbformat_minor": 5,
    "metadata": {
        "kernelspec": {
            "display_name": "Python",
            "language": "python",
            "name": "python"
        },
        "language_info": {
            "name": "python"
        }
    },
    "cells": [
        {
            "id": "593af733",
            "cell_type": "markdown",
            "source": "<div class='alert alert-warning'>\n\nNumPy's interactive examples are experimental and may not always work as expected, with high load times especially on low-resource platforms, and the version of NumPy might not be in sync with the one you are browsing the documentation for. If you encounter any issues, please report them on the [NumPy issue tracker](https://github.com/numpy/numpy/issues).\n\n</div>",
            "metadata": {}
        },
        {
            "id": "8f7b4455",
            "cell_type": "code",
            "metadata": {},
            "execution_count": null,
            "source": "import numpy as np",
            "outputs": []
        },
        {
            "id": "9c39ac48",
            "cell_type": "code",
            "metadata": {},
            "execution_count": null,
            "source": "a = np.memmap('newfile.dat', dtype=float, mode='w+', shape=1000)\na[10] = 10.0\na[30] = 30.0\ndel a",
            "outputs": []
        },
        {
            "id": "8d70e2b1",
            "cell_type": "code",
            "metadata": {},
            "execution_count": null,
            "source": "b = np.fromfile('newfile.dat', dtype=float)\nprint(b[10], b[30])",
            "outputs": [
                {
                    "output_type": "execute_result",
                    "metadata": {},
                    "data": {
                        "text/plain": "10.0 30.0"
                    },
                    "execution_count": null
                }
            ]
        },
        {
            "id": "a6a80f18",
            "cell_type": "code",
            "metadata": {},
            "execution_count": null,
            "source": "a = np.memmap('newfile.dat', dtype=float)\nprint(a[10], a[30])",
            "outputs": [
                {
                    "output_type": "execute_result",
                    "metadata": {},
                    "data": {
                        "text/plain": "10.0 30.0"
                    },
                    "execution_count": null
                }
            ]
        }
    ]
}