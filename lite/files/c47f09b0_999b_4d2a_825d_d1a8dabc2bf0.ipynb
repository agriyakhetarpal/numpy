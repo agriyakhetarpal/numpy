{
    "nbformat": 4,
    "nbformat_minor": 5,
    "metadata": {
        "kernelspec": {
            "display_name": "Python",
            "language": "python",
            "name": "python"
        },
        "language_info": {
            "name": "python"
        }
    },
    "cells": [
        {
            "id": "e0f5743b",
            "cell_type": "markdown",
            "source": "<div class='alert alert-warning'>\n\nNumPy's interactive examples are experimental and may not always work as expected, with high load times especially on low-resource platforms, and the version of NumPy might not be in sync with the one you are browsing the documentation for. If you encounter any issues, please report them on the [NumPy issue tracker](https://github.com/numpy/numpy/issues).\n\n</div>",
            "metadata": {}
        },
        {
            "id": "5ca650b9",
            "cell_type": "code",
            "metadata": {},
            "execution_count": null,
            "source": "import numpy as np\nnp.newaxis is None",
            "outputs": [
                {
                    "output_type": "execute_result",
                    "metadata": {},
                    "data": {
                        "text/plain": "True"
                    },
                    "execution_count": null
                }
            ]
        },
        {
            "id": "bb983403",
            "cell_type": "code",
            "metadata": {},
            "execution_count": null,
            "source": "x = np.arange(3)\nx",
            "outputs": [
                {
                    "output_type": "execute_result",
                    "metadata": {},
                    "data": {
                        "text/plain": "array([0, 1, 2])"
                    },
                    "execution_count": null
                }
            ]
        },
        {
            "id": "00a82174",
            "cell_type": "code",
            "metadata": {},
            "execution_count": null,
            "source": "x[:, np.newaxis]",
            "outputs": [
                {
                    "output_type": "execute_result",
                    "metadata": {},
                    "data": {
                        "text/plain": "array([[0],\n[1],\n[2]])"
                    },
                    "execution_count": null
                }
            ]
        },
        {
            "id": "079556b9",
            "cell_type": "code",
            "metadata": {},
            "execution_count": null,
            "source": "x[:, np.newaxis, np.newaxis]",
            "outputs": [
                {
                    "output_type": "execute_result",
                    "metadata": {},
                    "data": {
                        "text/plain": "array([[[0]],\n[[1]],\n[[2]]])"
                    },
                    "execution_count": null
                }
            ]
        },
        {
            "id": "be1af1ef",
            "cell_type": "code",
            "metadata": {},
            "execution_count": null,
            "source": "x[:, np.newaxis] * x",
            "outputs": [
                {
                    "output_type": "execute_result",
                    "metadata": {},
                    "data": {
                        "text/plain": "array([[0, 0, 0],\n    [0, 1, 2],\n    [0, 2, 4]])"
                    },
                    "execution_count": null
                }
            ]
        },
        {
            "id": "684e9255",
            "cell_type": "markdown",
            "source": "Outer product, same as ``outer(x, y)``:\n",
            "metadata": {}
        },
        {
            "id": "0ee1edfd",
            "cell_type": "code",
            "metadata": {},
            "execution_count": null,
            "source": "y = np.arange(3, 6)\nx[:, np.newaxis] * y",
            "outputs": [
                {
                    "output_type": "execute_result",
                    "metadata": {},
                    "data": {
                        "text/plain": "array([[ 0,  0,  0],\n    [ 3,  4,  5],\n    [ 6,  8, 10]])"
                    },
                    "execution_count": null
                }
            ]
        },
        {
            "id": "e6baab20",
            "cell_type": "markdown",
            "source": "``x[np.newaxis, :]`` is equivalent to ``x[np.newaxis]`` and ``x[None]``:\n",
            "metadata": {}
        },
        {
            "id": "27c3f940",
            "cell_type": "code",
            "metadata": {},
            "execution_count": null,
            "source": "x[np.newaxis, :].shape",
            "outputs": [
                {
                    "output_type": "execute_result",
                    "metadata": {},
                    "data": {
                        "text/plain": "(1, 3)"
                    },
                    "execution_count": null
                }
            ]
        },
        {
            "id": "c4af6d53",
            "cell_type": "code",
            "metadata": {},
            "execution_count": null,
            "source": "x[np.newaxis].shape",
            "outputs": [
                {
                    "output_type": "execute_result",
                    "metadata": {},
                    "data": {
                        "text/plain": "(1, 3)"
                    },
                    "execution_count": null
                }
            ]
        },
        {
            "id": "23d81bda",
            "cell_type": "code",
            "metadata": {},
            "execution_count": null,
            "source": "x[None].shape",
            "outputs": [
                {
                    "output_type": "execute_result",
                    "metadata": {},
                    "data": {
                        "text/plain": "(1, 3)"
                    },
                    "execution_count": null
                }
            ]
        },
        {
            "id": "65003ba5",
            "cell_type": "code",
            "metadata": {},
            "execution_count": null,
            "source": "x[:, np.newaxis].shape",
            "outputs": [
                {
                    "output_type": "execute_result",
                    "metadata": {},
                    "data": {
                        "text/plain": "(3, 1)"
                    },
                    "execution_count": null
                }
            ]
        }
    ]
}