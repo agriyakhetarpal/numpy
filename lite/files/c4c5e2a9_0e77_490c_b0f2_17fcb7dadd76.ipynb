{
    "nbformat": 4,
    "nbformat_minor": 5,
    "metadata": {
        "kernelspec": {
            "display_name": "Python",
            "language": "python",
            "name": "python"
        },
        "language_info": {
            "name": "python"
        }
    },
    "cells": [
        {
            "id": "930a069e",
            "cell_type": "markdown",
            "source": "<div class='alert alert-warning'>\n\nNumPy's interactive examples are experimental and may not always work as expected, with high load times especially on low-resource platforms, and the version of NumPy might not be in sync with the one you are browsing the documentation for. If you encounter any issues, please report them on the [NumPy issue tracker](https://github.com/numpy/numpy/issues).\n\n</div>",
            "metadata": {}
        },
        {
            "id": "e1c6b9d2",
            "cell_type": "code",
            "metadata": {},
            "execution_count": null,
            "source": "import numpy as np",
            "outputs": []
        },
        {
            "id": "c01fea5e",
            "cell_type": "markdown",
            "source": "The number 13 is represented by ``00001101``.  Likewise, 17 is\nrepresented by ``00010001``.  The bit-wise AND of 13 and 17 is\ntherefore ``000000001``, or 1:\n",
            "metadata": {}
        },
        {
            "id": "64f08c59",
            "cell_type": "code",
            "metadata": {},
            "execution_count": null,
            "source": "np.bitwise_and(13, 17)",
            "outputs": [
                {
                    "output_type": "execute_result",
                    "metadata": {},
                    "data": {
                        "text/plain": "1"
                    },
                    "execution_count": null
                }
            ]
        },
        {
            "id": "e7f59f2d",
            "cell_type": "code",
            "metadata": {},
            "execution_count": null,
            "source": "np.bitwise_and(14, 13)",
            "outputs": [
                {
                    "output_type": "execute_result",
                    "metadata": {},
                    "data": {
                        "text/plain": "12"
                    },
                    "execution_count": null
                }
            ]
        },
        {
            "id": "89b17a65",
            "cell_type": "code",
            "metadata": {},
            "execution_count": null,
            "source": "np.binary_repr(12)",
            "outputs": [
                {
                    "output_type": "execute_result",
                    "metadata": {},
                    "data": {
                        "text/plain": "'1100'"
                    },
                    "execution_count": null
                }
            ]
        },
        {
            "id": "b68244b6",
            "cell_type": "code",
            "metadata": {},
            "execution_count": null,
            "source": "np.bitwise_and([14,3], 13)",
            "outputs": [
                {
                    "output_type": "execute_result",
                    "metadata": {},
                    "data": {
                        "text/plain": "array([12,  1])"
                    },
                    "execution_count": null
                }
            ]
        },
        {
            "id": "1f922e66",
            "cell_type": "code",
            "metadata": {},
            "execution_count": null,
            "source": "np.bitwise_and([11,7], [4,25])",
            "outputs": [
                {
                    "output_type": "execute_result",
                    "metadata": {},
                    "data": {
                        "text/plain": "array([0, 1])"
                    },
                    "execution_count": null
                }
            ]
        },
        {
            "id": "9e460cc7",
            "cell_type": "code",
            "metadata": {},
            "execution_count": null,
            "source": "np.bitwise_and(np.array([2,5,255]), np.array([3,14,16]))",
            "outputs": [
                {
                    "output_type": "execute_result",
                    "metadata": {},
                    "data": {
                        "text/plain": "array([ 2,  4, 16])"
                    },
                    "execution_count": null
                }
            ]
        },
        {
            "id": "a9b33878",
            "cell_type": "code",
            "metadata": {},
            "execution_count": null,
            "source": "np.bitwise_and([True, True], [False, True])",
            "outputs": [
                {
                    "output_type": "execute_result",
                    "metadata": {},
                    "data": {
                        "text/plain": "array([False,  True])"
                    },
                    "execution_count": null
                }
            ]
        },
        {
            "id": "accf34e5",
            "cell_type": "markdown",
            "source": "The ``&`` operator can be used as a shorthand for ``np.bitwise_and`` on\nndarrays.\n",
            "metadata": {}
        },
        {
            "id": "8ed595fd",
            "cell_type": "code",
            "metadata": {},
            "execution_count": null,
            "source": "x1 = np.array([2, 5, 255])\nx2 = np.array([3, 14, 16])\nx1 & x2",
            "outputs": [
                {
                    "output_type": "execute_result",
                    "metadata": {},
                    "data": {
                        "text/plain": "array([ 2,  4, 16])"
                    },
                    "execution_count": null
                }
            ]
        }
    ]
}