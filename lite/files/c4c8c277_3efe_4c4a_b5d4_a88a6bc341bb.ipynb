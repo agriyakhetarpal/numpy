{
    "nbformat": 4,
    "nbformat_minor": 5,
    "metadata": {
        "kernelspec": {
            "display_name": "Python",
            "language": "python",
            "name": "python"
        },
        "language_info": {
            "name": "python"
        }
    },
    "cells": [
        {
            "id": "818ce676",
            "cell_type": "markdown",
            "source": "<div class='alert alert-warning'>\n\nNumPy's interactive examples are experimental and may not always work as expected, with high load times especially on low-resource platforms, and the version of NumPy might not be in sync with the one you are browsing the documentation for. If you encounter any issues, please report them on the [NumPy issue tracker](https://github.com/numpy/numpy/issues).\n\n</div>",
            "metadata": {}
        },
        {
            "id": "078b967d",
            "cell_type": "code",
            "metadata": {},
            "execution_count": null,
            "source": "a = np.arange(4).reshape(2, 2); a",
            "outputs": [
                {
                    "output_type": "execute_result",
                    "metadata": {},
                    "data": {
                        "text/plain": "array([[0, 1],\n       [2, 3]])"
                    },
                    "execution_count": null
                }
            ]
        },
        {
            "id": "e67c84fb",
            "cell_type": "code",
            "metadata": {},
            "execution_count": null,
            "source": "np.linalg.diagonal(a)",
            "outputs": [
                {
                    "output_type": "execute_result",
                    "metadata": {},
                    "data": {
                        "text/plain": "array([0, 3])"
                    },
                    "execution_count": null
                }
            ]
        },
        {
            "id": "e57d5272",
            "cell_type": "markdown",
            "source": "A 3-D example:\n",
            "metadata": {}
        },
        {
            "id": "494a20b0",
            "cell_type": "code",
            "metadata": {},
            "execution_count": null,
            "source": "a = np.arange(8).reshape(2, 2, 2); a",
            "outputs": [
                {
                    "output_type": "execute_result",
                    "metadata": {},
                    "data": {
                        "text/plain": "array([[[0, 1],\n        [2, 3]],\n       [[4, 5],\n        [6, 7]]])"
                    },
                    "execution_count": null
                }
            ]
        },
        {
            "id": "04be8a45",
            "cell_type": "code",
            "metadata": {},
            "execution_count": null,
            "source": "np.linalg.diagonal(a)",
            "outputs": [
                {
                    "output_type": "execute_result",
                    "metadata": {},
                    "data": {
                        "text/plain": "array([[0, 3],\n       [4, 7]])"
                    },
                    "execution_count": null
                }
            ]
        },
        {
            "id": "23acc891",
            "cell_type": "markdown",
            "source": "Diagonals adjacent to the main diagonal can be obtained by using the\n`offset` argument:\n",
            "metadata": {}
        },
        {
            "id": "2e6f33da",
            "cell_type": "code",
            "metadata": {},
            "execution_count": null,
            "source": "a = np.arange(9).reshape(3, 3)\na",
            "outputs": [
                {
                    "output_type": "execute_result",
                    "metadata": {},
                    "data": {
                        "text/plain": "array([[0, 1, 2],\n       [3, 4, 5],\n       [6, 7, 8]])"
                    },
                    "execution_count": null
                }
            ]
        },
        {
            "id": "3e68df60",
            "cell_type": "code",
            "metadata": {},
            "execution_count": null,
            "source": "np.linalg.diagonal(a, offset=1)  # First superdiagonal",
            "outputs": [
                {
                    "output_type": "execute_result",
                    "metadata": {},
                    "data": {
                        "text/plain": "array([1, 5])"
                    },
                    "execution_count": null
                }
            ]
        },
        {
            "id": "4839b173",
            "cell_type": "code",
            "metadata": {},
            "execution_count": null,
            "source": "np.linalg.diagonal(a, offset=2)  # Second superdiagonal",
            "outputs": [
                {
                    "output_type": "execute_result",
                    "metadata": {},
                    "data": {
                        "text/plain": "array([2])"
                    },
                    "execution_count": null
                }
            ]
        },
        {
            "id": "d7b1f230",
            "cell_type": "code",
            "metadata": {},
            "execution_count": null,
            "source": "np.linalg.diagonal(a, offset=-1)  # First subdiagonal",
            "outputs": [
                {
                    "output_type": "execute_result",
                    "metadata": {},
                    "data": {
                        "text/plain": "array([3, 7])"
                    },
                    "execution_count": null
                }
            ]
        },
        {
            "id": "b20f77f4",
            "cell_type": "code",
            "metadata": {},
            "execution_count": null,
            "source": "np.linalg.diagonal(a, offset=-2)  # Second subdiagonal",
            "outputs": [
                {
                    "output_type": "execute_result",
                    "metadata": {},
                    "data": {
                        "text/plain": "array([6])"
                    },
                    "execution_count": null
                }
            ]
        },
        {
            "id": "93e97a91",
            "cell_type": "markdown",
            "source": "The anti-diagonal can be obtained by reversing the order of elements\nusing either `numpy.flipud` or `numpy.fliplr`.\n",
            "metadata": {}
        },
        {
            "id": "cd4449cb",
            "cell_type": "code",
            "metadata": {},
            "execution_count": null,
            "source": "a = np.arange(9).reshape(3, 3)\na",
            "outputs": [
                {
                    "output_type": "execute_result",
                    "metadata": {},
                    "data": {
                        "text/plain": "array([[0, 1, 2],\n       [3, 4, 5],\n       [6, 7, 8]])"
                    },
                    "execution_count": null
                }
            ]
        },
        {
            "id": "328f69c0",
            "cell_type": "code",
            "metadata": {},
            "execution_count": null,
            "source": "np.linalg.diagonal(np.fliplr(a))  # Horizontal flip",
            "outputs": [
                {
                    "output_type": "execute_result",
                    "metadata": {},
                    "data": {
                        "text/plain": "array([2, 4, 6])"
                    },
                    "execution_count": null
                }
            ]
        },
        {
            "id": "904490cf",
            "cell_type": "code",
            "metadata": {},
            "execution_count": null,
            "source": "np.linalg.diagonal(np.flipud(a))  # Vertical flip",
            "outputs": [
                {
                    "output_type": "execute_result",
                    "metadata": {},
                    "data": {
                        "text/plain": "array([6, 4, 2])"
                    },
                    "execution_count": null
                }
            ]
        },
        {
            "id": "0a9bc72d",
            "cell_type": "markdown",
            "source": "Note that the order in which the diagonal is retrieved varies depending\non the flip function.",
            "metadata": {}
        }
    ]
}