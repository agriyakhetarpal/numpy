{
    "nbformat": 4,
    "nbformat_minor": 5,
    "metadata": {
        "kernelspec": {
            "display_name": "Python",
            "language": "python",
            "name": "python"
        },
        "language_info": {
            "name": "python"
        }
    },
    "cells": [
        {
            "id": "e4421df0",
            "cell_type": "markdown",
            "source": "<div class='alert alert-warning'>\n\nNumPy's interactive examples are experimental and may not always work as expected, with high load times especially on low-resource platforms, , and the version of NumPy might not be in sync with the one you are browsing the documentation for. If you encounter any issues, please report them on the [NumPy issue tracker](https://github.com/numpy/numpy/issues).\n\n</div>",
            "metadata": {}
        },
        {
            "id": "ee112fb9",
            "cell_type": "code",
            "metadata": {},
            "execution_count": null,
            "source": "np.void(5)",
            "outputs": [
                {
                    "output_type": "execute_result",
                    "metadata": {},
                    "data": {
                        "text/plain": "np.void(b'\\x00\\x00\\x00\\x00\\x00')"
                    },
                    "execution_count": null
                }
            ]
        },
        {
            "id": "bf3b3627",
            "cell_type": "code",
            "metadata": {},
            "execution_count": null,
            "source": "np.void(b'abcd')",
            "outputs": [
                {
                    "output_type": "execute_result",
                    "metadata": {},
                    "data": {
                        "text/plain": "np.void(b'\\x61\\x62\\x63\\x64')"
                    },
                    "execution_count": null
                }
            ]
        },
        {
            "id": "aa6ff1ac",
            "cell_type": "code",
            "metadata": {},
            "execution_count": null,
            "source": "np.void((3.2, b'eggs'), dtype=\"d,S5\")",
            "outputs": [
                {
                    "output_type": "execute_result",
                    "metadata": {},
                    "data": {
                        "text/plain": "np.void((3.2, b'eggs'), dtype=[('f0', '<f8'), ('f1', 'S5')])"
                    },
                    "execution_count": null
                }
            ]
        },
        {
            "id": "a7a28199",
            "cell_type": "code",
            "metadata": {},
            "execution_count": null,
            "source": "np.void(3, dtype=[('x', np.int8), ('y', np.int8)])",
            "outputs": [
                {
                    "output_type": "execute_result",
                    "metadata": {},
                    "data": {
                        "text/plain": "np.void((3, 3), dtype=[('x', 'i1'), ('y', 'i1')])"
                    },
                    "execution_count": null
                }
            ]
        },
        {
            "id": "55f39d2e",
            "cell_type": "markdown",
            "source": ":Character code: ``'V'``",
            "metadata": {}
        }
    ]
}