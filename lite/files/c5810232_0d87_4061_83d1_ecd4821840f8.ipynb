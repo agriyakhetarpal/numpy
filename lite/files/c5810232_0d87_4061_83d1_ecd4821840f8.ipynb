{
    "nbformat": 4,
    "nbformat_minor": 5,
    "metadata": {
        "kernelspec": {
            "display_name": "Python",
            "language": "python",
            "name": "python"
        },
        "language_info": {
            "name": "python"
        }
    },
    "cells": [
        {
            "id": "c400c5b8",
            "cell_type": "markdown",
            "source": "<div class='alert alert-warning'>\n\nNumPy's interactive examples are experimental and may not always work as expected, with high load times especially on low-resource platforms, and the version of NumPy might not be in sync with the one you are browsing the documentation for. If you encounter any issues, please report them on the [NumPy issue tracker](https://github.com/numpy/numpy/issues).\n\n</div>",
            "metadata": {}
        },
        {
            "id": "de4cc375",
            "cell_type": "code",
            "metadata": {},
            "execution_count": null,
            "source": "np.char.isspace(list(\"a b c\"))",
            "outputs": [
                {
                    "output_type": "execute_result",
                    "metadata": {},
                    "data": {
                        "text/plain": "array([False,  True, False,  True, False])"
                    },
                    "execution_count": null
                }
            ]
        },
        {
            "id": "de709ee3",
            "cell_type": "code",
            "metadata": {},
            "execution_count": null,
            "source": "np.char.isspace(b'\\x0a \\x0b \\x0c')",
            "outputs": [
                {
                    "output_type": "execute_result",
                    "metadata": {},
                    "data": {
                        "text/plain": "np.True_"
                    },
                    "execution_count": null
                }
            ]
        },
        {
            "id": "38c72c85",
            "cell_type": "code",
            "metadata": {},
            "execution_count": null,
            "source": "np.char.isspace(b'\\x0a \\x0b \\x0c N')",
            "outputs": [
                {
                    "output_type": "execute_result",
                    "metadata": {},
                    "data": {
                        "text/plain": "np.False_"
                    },
                    "execution_count": null
                }
            ]
        }
    ]
}