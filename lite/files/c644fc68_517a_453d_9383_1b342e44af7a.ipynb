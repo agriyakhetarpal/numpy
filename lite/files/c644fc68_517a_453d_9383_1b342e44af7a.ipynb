{
    "nbformat": 4,
    "nbformat_minor": 5,
    "metadata": {
        "kernelspec": {
            "display_name": "Python",
            "language": "python",
            "name": "python"
        },
        "language_info": {
            "name": "python"
        }
    },
    "cells": [
        {
            "id": "10e570b0",
            "cell_type": "markdown",
            "source": "<div class='alert alert-warning'>\n\nNumPy's interactive examples are experimental and may not always work as expected, with high load times especially on low-resource platforms, , and the version of NumPy might not be in sync with the one you are browsing the documentation for. If you encounter any issues, please report them on the [NumPy issue tracker](https://github.com/numpy/numpy/issues).\n\n</div>",
            "metadata": {}
        },
        {
            "id": "1d93df60",
            "cell_type": "markdown",
            "source": "With types:\n",
            "metadata": {}
        },
        {
            "id": "db4022b8",
            "cell_type": "code",
            "metadata": {},
            "execution_count": null,
            "source": "import numpy as np\nii16 = np.iinfo(np.int16)\nii16.min",
            "outputs": [
                {
                    "output_type": "execute_result",
                    "metadata": {},
                    "data": {
                        "text/plain": "-32768"
                    },
                    "execution_count": null
                }
            ]
        },
        {
            "id": "27f74472",
            "cell_type": "code",
            "metadata": {},
            "execution_count": null,
            "source": "ii16.max",
            "outputs": [
                {
                    "output_type": "execute_result",
                    "metadata": {},
                    "data": {
                        "text/plain": "32767"
                    },
                    "execution_count": null
                }
            ]
        },
        {
            "id": "8ce542f1",
            "cell_type": "code",
            "metadata": {},
            "execution_count": null,
            "source": "ii32 = np.iinfo(np.int32)\nii32.min",
            "outputs": [
                {
                    "output_type": "execute_result",
                    "metadata": {},
                    "data": {
                        "text/plain": "-2147483648"
                    },
                    "execution_count": null
                }
            ]
        },
        {
            "id": "ea6c73f2",
            "cell_type": "code",
            "metadata": {},
            "execution_count": null,
            "source": "ii32.max",
            "outputs": [
                {
                    "output_type": "execute_result",
                    "metadata": {},
                    "data": {
                        "text/plain": "2147483647"
                    },
                    "execution_count": null
                }
            ]
        },
        {
            "id": "9df4b366",
            "cell_type": "markdown",
            "source": "With instances:\n",
            "metadata": {}
        },
        {
            "id": "31b2a634",
            "cell_type": "code",
            "metadata": {},
            "execution_count": null,
            "source": "ii32 = np.iinfo(np.int32(10))\nii32.min",
            "outputs": [
                {
                    "output_type": "execute_result",
                    "metadata": {},
                    "data": {
                        "text/plain": "-2147483648"
                    },
                    "execution_count": null
                }
            ]
        },
        {
            "id": "e9568505",
            "cell_type": "code",
            "metadata": {},
            "execution_count": null,
            "source": "ii32.max",
            "outputs": [
                {
                    "output_type": "execute_result",
                    "metadata": {},
                    "data": {
                        "text/plain": "2147483647"
                    },
                    "execution_count": null
                }
            ]
        }
    ]
}