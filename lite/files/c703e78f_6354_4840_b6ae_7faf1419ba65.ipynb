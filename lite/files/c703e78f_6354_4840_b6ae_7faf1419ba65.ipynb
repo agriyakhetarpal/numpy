{
    "nbformat": 4,
    "nbformat_minor": 5,
    "metadata": {
        "kernelspec": {
            "display_name": "Python",
            "language": "python",
            "name": "python"
        },
        "language_info": {
            "name": "python"
        }
    },
    "cells": [
        {
            "id": "dd35d1cb",
            "cell_type": "markdown",
            "source": "<div class='alert alert-warning'>\n\nNumPy's interactive examples are experimental and may not always work as expected, with high load times especially on low-resource platforms, , and the version of NumPy might not be in sync with the one you are browsing the documentation for. If you encounter any issues, please report them on the [NumPy issue tracker](https://github.com/numpy/numpy/issues).\n\n</div>",
            "metadata": {}
        },
        {
            "id": "180a9861",
            "cell_type": "code",
            "metadata": {},
            "execution_count": null,
            "source": "import numpy as np\nimport numpy.ma as ma\na = np.arange(4)\na",
            "outputs": [
                {
                    "output_type": "execute_result",
                    "metadata": {},
                    "data": {
                        "text/plain": "array([0, 1, 2, 3])"
                    },
                    "execution_count": null
                }
            ]
        },
        {
            "id": "75a9d51e",
            "cell_type": "code",
            "metadata": {},
            "execution_count": null,
            "source": "ma.masked_where(a <= 2, a)",
            "outputs": [
                {
                    "output_type": "execute_result",
                    "metadata": {},
                    "data": {
                        "text/plain": "masked_array(data=[--, --, --, 3],\n             mask=[ True,  True,  True, False],\n       fill_value=999999)"
                    },
                    "execution_count": null
                }
            ]
        },
        {
            "id": "366e2382",
            "cell_type": "markdown",
            "source": "Mask array `b` conditional on `a`.\n",
            "metadata": {}
        },
        {
            "id": "971598eb",
            "cell_type": "code",
            "metadata": {},
            "execution_count": null,
            "source": "b = ['a', 'b', 'c', 'd']\nma.masked_where(a == 2, b)",
            "outputs": [
                {
                    "output_type": "execute_result",
                    "metadata": {},
                    "data": {
                        "text/plain": "masked_array(data=['a', 'b', --, 'd'],\n             mask=[False, False,  True, False],\n       fill_value='N/A',\n            dtype='<U1')"
                    },
                    "execution_count": null
                }
            ]
        },
        {
            "id": "7b987d13",
            "cell_type": "markdown",
            "source": "Effect of the `copy` argument.\n",
            "metadata": {}
        },
        {
            "id": "1d07f5d0",
            "cell_type": "code",
            "metadata": {},
            "execution_count": null,
            "source": "c = ma.masked_where(a <= 2, a)\nc",
            "outputs": [
                {
                    "output_type": "execute_result",
                    "metadata": {},
                    "data": {
                        "text/plain": "masked_array(data=[--, --, --, 3],\n             mask=[ True,  True,  True, False],\n       fill_value=999999)"
                    },
                    "execution_count": null
                }
            ]
        },
        {
            "id": "cff284bc",
            "cell_type": "code",
            "metadata": {},
            "execution_count": null,
            "source": "c[0] = 99\nc",
            "outputs": [
                {
                    "output_type": "execute_result",
                    "metadata": {},
                    "data": {
                        "text/plain": "masked_array(data=[99, --, --, 3],\n             mask=[False,  True,  True, False],\n       fill_value=999999)"
                    },
                    "execution_count": null
                }
            ]
        },
        {
            "id": "f8347f31",
            "cell_type": "code",
            "metadata": {},
            "execution_count": null,
            "source": "a",
            "outputs": [
                {
                    "output_type": "execute_result",
                    "metadata": {},
                    "data": {
                        "text/plain": "array([0, 1, 2, 3])"
                    },
                    "execution_count": null
                }
            ]
        },
        {
            "id": "2b500244",
            "cell_type": "code",
            "metadata": {},
            "execution_count": null,
            "source": "c = ma.masked_where(a <= 2, a, copy=False)\nc[0] = 99\nc",
            "outputs": [
                {
                    "output_type": "execute_result",
                    "metadata": {},
                    "data": {
                        "text/plain": "masked_array(data=[99, --, --, 3],\n             mask=[False,  True,  True, False],\n       fill_value=999999)"
                    },
                    "execution_count": null
                }
            ]
        },
        {
            "id": "f5d5bc82",
            "cell_type": "code",
            "metadata": {},
            "execution_count": null,
            "source": "a",
            "outputs": [
                {
                    "output_type": "execute_result",
                    "metadata": {},
                    "data": {
                        "text/plain": "array([99,  1,  2,  3])"
                    },
                    "execution_count": null
                }
            ]
        },
        {
            "id": "6cbd4c14",
            "cell_type": "markdown",
            "source": "When `condition` or `a` contain masked values.\n",
            "metadata": {}
        },
        {
            "id": "ee2fc863",
            "cell_type": "code",
            "metadata": {},
            "execution_count": null,
            "source": "a = np.arange(4)\na = ma.masked_where(a == 2, a)\na",
            "outputs": [
                {
                    "output_type": "execute_result",
                    "metadata": {},
                    "data": {
                        "text/plain": "masked_array(data=[0, 1, --, 3],\n             mask=[False, False,  True, False],\n       fill_value=999999)"
                    },
                    "execution_count": null
                }
            ]
        },
        {
            "id": "e48bc7ce",
            "cell_type": "code",
            "metadata": {},
            "execution_count": null,
            "source": "b = np.arange(4)\nb = ma.masked_where(b == 0, b)\nb",
            "outputs": [
                {
                    "output_type": "execute_result",
                    "metadata": {},
                    "data": {
                        "text/plain": "masked_array(data=[--, 1, 2, 3],\n             mask=[ True, False, False, False],\n       fill_value=999999)"
                    },
                    "execution_count": null
                }
            ]
        },
        {
            "id": "537bffc1",
            "cell_type": "code",
            "metadata": {},
            "execution_count": null,
            "source": "ma.masked_where(a == 3, b)",
            "outputs": [
                {
                    "output_type": "execute_result",
                    "metadata": {},
                    "data": {
                        "text/plain": "masked_array(data=[--, 1, --, --],\n             mask=[ True, False,  True,  True],\n       fill_value=999999)"
                    },
                    "execution_count": null
                }
            ]
        }
    ]
}