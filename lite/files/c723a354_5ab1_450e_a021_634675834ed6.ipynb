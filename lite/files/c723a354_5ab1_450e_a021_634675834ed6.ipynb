{
    "nbformat": 4,
    "nbformat_minor": 5,
    "metadata": {
        "kernelspec": {
            "display_name": "Python",
            "language": "python",
            "name": "python"
        },
        "language_info": {
            "name": "python"
        }
    },
    "cells": [
        {
            "id": "a3299bb5",
            "cell_type": "markdown",
            "source": "<div class='alert alert-warning'>\n\nNumPy's interactive examples are experimental and may not always work as expected, with high load times especially on low-resource platforms, , and the version of NumPy might not be in sync with the one you are browsing the documentation for. If you encounter any issues, please report them on the [NumPy issue tracker](https://github.com/numpy/numpy/issues).\n\n</div>",
            "metadata": {}
        },
        {
            "id": "79a5d1a9",
            "cell_type": "code",
            "metadata": {},
            "execution_count": null,
            "source": "import numpy as np\nimport numpy.ma as ma\na = np.int8()\nma.minimum_fill_value(a)",
            "outputs": [
                {
                    "output_type": "execute_result",
                    "metadata": {},
                    "data": {
                        "text/plain": "127"
                    },
                    "execution_count": null
                }
            ]
        },
        {
            "id": "5ef61ec4",
            "cell_type": "code",
            "metadata": {},
            "execution_count": null,
            "source": "a = np.int32()\nma.minimum_fill_value(a)",
            "outputs": [
                {
                    "output_type": "execute_result",
                    "metadata": {},
                    "data": {
                        "text/plain": "2147483647"
                    },
                    "execution_count": null
                }
            ]
        },
        {
            "id": "7b6224a4",
            "cell_type": "markdown",
            "source": "An array of numeric data can also be passed.\n",
            "metadata": {}
        },
        {
            "id": "af74b2ee",
            "cell_type": "code",
            "metadata": {},
            "execution_count": null,
            "source": "a = np.array([1, 2, 3], dtype=np.int8)\nma.minimum_fill_value(a)",
            "outputs": [
                {
                    "output_type": "execute_result",
                    "metadata": {},
                    "data": {
                        "text/plain": "127"
                    },
                    "execution_count": null
                }
            ]
        },
        {
            "id": "843d24ea",
            "cell_type": "code",
            "metadata": {},
            "execution_count": null,
            "source": "a = np.array([1, 2, 3], dtype=np.float32)\nma.minimum_fill_value(a)",
            "outputs": [
                {
                    "output_type": "execute_result",
                    "metadata": {},
                    "data": {
                        "text/plain": "inf"
                    },
                    "execution_count": null
                }
            ]
        }
    ]
}