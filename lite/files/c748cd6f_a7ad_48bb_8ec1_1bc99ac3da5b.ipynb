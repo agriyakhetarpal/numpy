{
    "nbformat": 4,
    "nbformat_minor": 5,
    "metadata": {
        "kernelspec": {
            "display_name": "Python",
            "language": "python",
            "name": "python"
        },
        "language_info": {
            "name": "python"
        }
    },
    "cells": [
        {
            "id": "03620b9d",
            "cell_type": "markdown",
            "source": "<div class='alert alert-warning'>\n\nNumPy's interactive examples are experimental and may not always work as expected, with high load times especially on low-resource platforms, and the version of NumPy might not be in sync with the one you are browsing the documentation for. If you encounter any issues, please report them on the [NumPy issue tracker](https://github.com/numpy/numpy/issues).\n\n</div>",
            "metadata": {}
        },
        {
            "id": "27e57ae1",
            "cell_type": "markdown",
            "source": "Shrinking an array: array is flattened (in the order that the data are\nstored in memory), resized, and reshaped:\n",
            "metadata": {}
        },
        {
            "id": "1dcb2213",
            "cell_type": "code",
            "metadata": {},
            "execution_count": null,
            "source": "import numpy as np",
            "outputs": []
        },
        {
            "id": "85b6b525",
            "cell_type": "code",
            "metadata": {},
            "execution_count": null,
            "source": "a = np.array([[0, 1], [2, 3]], order='C')\na.resize((2, 1))\na",
            "outputs": [
                {
                    "output_type": "execute_result",
                    "metadata": {},
                    "data": {
                        "text/plain": "array([[0],\n       [1]])"
                    },
                    "execution_count": null
                }
            ]
        },
        {
            "id": "28162d90",
            "cell_type": "code",
            "metadata": {},
            "execution_count": null,
            "source": "a = np.array([[0, 1], [2, 3]], order='F')\na.resize((2, 1))\na",
            "outputs": [
                {
                    "output_type": "execute_result",
                    "metadata": {},
                    "data": {
                        "text/plain": "array([[0],\n       [2]])"
                    },
                    "execution_count": null
                }
            ]
        },
        {
            "id": "9e736744",
            "cell_type": "markdown",
            "source": "Enlarging an array: as above, but missing entries are filled with zeros:\n",
            "metadata": {}
        },
        {
            "id": "3a8b07f8",
            "cell_type": "code",
            "metadata": {},
            "execution_count": null,
            "source": "b = np.array([[0, 1], [2, 3]])\nb.resize(2, 3) # new_shape parameter doesn't have to be a tuple\nb",
            "outputs": [
                {
                    "output_type": "execute_result",
                    "metadata": {},
                    "data": {
                        "text/plain": "array([[0, 1, 2],\n       [3, 0, 0]])"
                    },
                    "execution_count": null
                }
            ]
        },
        {
            "id": "9abac6c9",
            "cell_type": "markdown",
            "source": "Referencing an array prevents resizing...\n",
            "metadata": {}
        },
        {
            "id": "b0c79663",
            "cell_type": "code",
            "metadata": {},
            "execution_count": null,
            "source": "c = a\na.resize((1, 1))\n",
            "outputs": [
                {
                    "output_type": "execute_result",
                    "metadata": {},
                    "data": {
                        "text/plain": "Traceback (most recent call last):\nValueError: cannot resize an array that references or is referenced ..."
                    },
                    "execution_count": null
                }
            ]
        },
        {
            "id": "56819284",
            "cell_type": "markdown",
            "source": "Unless `refcheck` is False:\n",
            "metadata": {}
        },
        {
            "id": "298ec967",
            "cell_type": "code",
            "metadata": {},
            "execution_count": null,
            "source": "a.resize((1, 1), refcheck=False)\na",
            "outputs": [
                {
                    "output_type": "execute_result",
                    "metadata": {},
                    "data": {
                        "text/plain": "array([[0]])"
                    },
                    "execution_count": null
                }
            ]
        },
        {
            "id": "12f8bbcc",
            "cell_type": "code",
            "metadata": {},
            "execution_count": null,
            "source": "c",
            "outputs": [
                {
                    "output_type": "execute_result",
                    "metadata": {},
                    "data": {
                        "text/plain": "array([[0]])"
                    },
                    "execution_count": null
                }
            ]
        }
    ]
}