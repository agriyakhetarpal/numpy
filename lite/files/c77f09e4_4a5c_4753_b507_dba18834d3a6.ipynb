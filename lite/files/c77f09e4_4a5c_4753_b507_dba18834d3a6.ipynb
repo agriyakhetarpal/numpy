{
    "nbformat": 4,
    "nbformat_minor": 5,
    "metadata": {
        "kernelspec": {
            "display_name": "Python",
            "language": "python",
            "name": "python"
        },
        "language_info": {
            "name": "python"
        }
    },
    "cells": [
        {
            "id": "dee2f3e6",
            "cell_type": "markdown",
            "source": "<div class='alert alert-warning'>\n\nNumPy's interactive examples are experimental and may not always work as expected, with high load times especially on low-resource platforms, and the version of NumPy might not be in sync with the one you are browsing the documentation for. If you encounter any issues, please report them on the [NumPy issue tracker](https://github.com/numpy/numpy/issues).\n\n</div>",
            "metadata": {}
        },
        {
            "id": "7feb8d5a",
            "cell_type": "markdown",
            "source": "Convert a list into an array:\n",
            "metadata": {}
        },
        {
            "id": "7ce1be70",
            "cell_type": "code",
            "metadata": {},
            "execution_count": null,
            "source": "a = [1, 2]\nimport numpy as np\nnp.asarray(a)",
            "outputs": [
                {
                    "output_type": "execute_result",
                    "metadata": {},
                    "data": {
                        "text/plain": "array([1, 2])"
                    },
                    "execution_count": null
                }
            ]
        },
        {
            "id": "549486a9",
            "cell_type": "markdown",
            "source": "Existing arrays are not copied:\n",
            "metadata": {}
        },
        {
            "id": "23cd6a47",
            "cell_type": "code",
            "metadata": {},
            "execution_count": null,
            "source": "a = np.array([1, 2])\nnp.asarray(a) is a",
            "outputs": [
                {
                    "output_type": "execute_result",
                    "metadata": {},
                    "data": {
                        "text/plain": "True"
                    },
                    "execution_count": null
                }
            ]
        },
        {
            "id": "54455fa6",
            "cell_type": "markdown",
            "source": "If `dtype` is set, array is copied only if dtype does not match:\n",
            "metadata": {}
        },
        {
            "id": "23e00199",
            "cell_type": "code",
            "metadata": {},
            "execution_count": null,
            "source": "a = np.array([1, 2], dtype=np.float32)\nnp.shares_memory(np.asarray(a, dtype=np.float32), a)",
            "outputs": [
                {
                    "output_type": "execute_result",
                    "metadata": {},
                    "data": {
                        "text/plain": "True"
                    },
                    "execution_count": null
                }
            ]
        },
        {
            "id": "c393769e",
            "cell_type": "code",
            "metadata": {},
            "execution_count": null,
            "source": "np.shares_memory(np.asarray(a, dtype=np.float64), a)",
            "outputs": [
                {
                    "output_type": "execute_result",
                    "metadata": {},
                    "data": {
                        "text/plain": "False"
                    },
                    "execution_count": null
                }
            ]
        },
        {
            "id": "ccb71153",
            "cell_type": "markdown",
            "source": "Contrary to `asanyarray`, ndarray subclasses are not passed through:\n",
            "metadata": {}
        },
        {
            "id": "0759ad2b",
            "cell_type": "code",
            "metadata": {},
            "execution_count": null,
            "source": "issubclass(np.recarray, np.ndarray)",
            "outputs": [
                {
                    "output_type": "execute_result",
                    "metadata": {},
                    "data": {
                        "text/plain": "True"
                    },
                    "execution_count": null
                }
            ]
        },
        {
            "id": "beab386e",
            "cell_type": "code",
            "metadata": {},
            "execution_count": null,
            "source": "a = np.array([(1., 2), (3., 4)], dtype='f4,i4').view(np.recarray)\nnp.asarray(a) is a",
            "outputs": [
                {
                    "output_type": "execute_result",
                    "metadata": {},
                    "data": {
                        "text/plain": "False"
                    },
                    "execution_count": null
                }
            ]
        },
        {
            "id": "20d1d7e7",
            "cell_type": "code",
            "metadata": {},
            "execution_count": null,
            "source": "np.asanyarray(a) is a",
            "outputs": [
                {
                    "output_type": "execute_result",
                    "metadata": {},
                    "data": {
                        "text/plain": "True"
                    },
                    "execution_count": null
                }
            ]
        }
    ]
}