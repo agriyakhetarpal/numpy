{
    "nbformat": 4,
    "nbformat_minor": 5,
    "metadata": {
        "kernelspec": {
            "display_name": "Python",
            "language": "python",
            "name": "python"
        },
        "language_info": {
            "name": "python"
        }
    },
    "cells": [
        {
            "id": "99495b9b",
            "cell_type": "markdown",
            "source": "<div class='alert alert-warning'>\n\nNumPy's interactive examples are experimental and may not always work as expected, with high load times especially on low-resource platforms, , and the version of NumPy might not be in sync with the one you are browsing the documentation for. If you encounter any issues, please report them on the [NumPy issue tracker](https://github.com/numpy/numpy/issues).\n\n</div>",
            "metadata": {}
        },
        {
            "id": "f1cd9e3c",
            "cell_type": "code",
            "metadata": {},
            "execution_count": null,
            "source": "rng = np.random.default_rng()\narr = np.arange(10)\narr",
            "outputs": [
                {
                    "output_type": "execute_result",
                    "metadata": {},
                    "data": {
                        "text/plain": "array([0, 1, 2, 3, 4, 5, 6, 7, 8, 9])"
                    },
                    "execution_count": null
                }
            ]
        },
        {
            "id": "3c173b61",
            "cell_type": "code",
            "metadata": {},
            "execution_count": null,
            "source": "rng.shuffle(arr)\narr",
            "outputs": [
                {
                    "output_type": "execute_result",
                    "metadata": {},
                    "data": {
                        "text/plain": "array([2, 0, 7, 5, 1, 4, 8, 9, 3, 6]) # random"
                    },
                    "execution_count": null
                }
            ]
        },
        {
            "id": "d9fee1f4",
            "cell_type": "code",
            "metadata": {},
            "execution_count": null,
            "source": "arr = np.arange(9).reshape((3, 3))\narr",
            "outputs": [
                {
                    "output_type": "execute_result",
                    "metadata": {},
                    "data": {
                        "text/plain": "array([[0, 1, 2],\n       [3, 4, 5],\n       [6, 7, 8]])"
                    },
                    "execution_count": null
                }
            ]
        },
        {
            "id": "a66dc6c3",
            "cell_type": "code",
            "metadata": {},
            "execution_count": null,
            "source": "rng.shuffle(arr)\narr",
            "outputs": [
                {
                    "output_type": "execute_result",
                    "metadata": {},
                    "data": {
                        "text/plain": "array([[3, 4, 5], # random\n       [6, 7, 8],\n       [0, 1, 2]])"
                    },
                    "execution_count": null
                }
            ]
        },
        {
            "id": "fbf72862",
            "cell_type": "code",
            "metadata": {},
            "execution_count": null,
            "source": "arr = np.arange(9).reshape((3, 3))\narr",
            "outputs": [
                {
                    "output_type": "execute_result",
                    "metadata": {},
                    "data": {
                        "text/plain": "array([[0, 1, 2],\n       [3, 4, 5],\n       [6, 7, 8]])"
                    },
                    "execution_count": null
                }
            ]
        },
        {
            "id": "9bfd40c9",
            "cell_type": "code",
            "metadata": {},
            "execution_count": null,
            "source": "rng.shuffle(arr, axis=1)\narr",
            "outputs": [
                {
                    "output_type": "execute_result",
                    "metadata": {},
                    "data": {
                        "text/plain": "array([[2, 0, 1], # random\n       [5, 3, 4],\n       [8, 6, 7]])"
                    },
                    "execution_count": null
                }
            ]
        }
    ]
}