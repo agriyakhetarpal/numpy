{
    "nbformat": 4,
    "nbformat_minor": 5,
    "metadata": {
        "kernelspec": {
            "display_name": "Python",
            "language": "python",
            "name": "python"
        },
        "language_info": {
            "name": "python"
        }
    },
    "cells": [
        {
            "id": "50cd9f1c",
            "cell_type": "markdown",
            "source": "<div class='alert alert-warning'>\n\nNumPy's interactive examples are experimental and may not always work as expected, with high load times especially on low-resource platforms, and the version of NumPy might not be in sync with the one you are browsing the documentation for. If you encounter any issues, please report them on the [NumPy issue tracker](https://github.com/numpy/numpy/issues).\n\n</div>",
            "metadata": {}
        },
        {
            "id": "2cfb6814",
            "cell_type": "code",
            "metadata": {},
            "execution_count": null,
            "source": "a = np.array([1, 2, 3, 4, 5, 6])\na",
            "outputs": [
                {
                    "output_type": "execute_result",
                    "metadata": {},
                    "data": {
                        "text/plain": "array([1, 2, 3, 4, 5, 6])"
                    },
                    "execution_count": null
                }
            ]
        },
        {
            "id": "7b5db16d",
            "cell_type": "code",
            "metadata": {},
            "execution_count": null,
            "source": "np.cumulative_sum(a)",
            "outputs": [
                {
                    "output_type": "execute_result",
                    "metadata": {},
                    "data": {
                        "text/plain": "array([ 1,  3,  6, 10, 15, 21])"
                    },
                    "execution_count": null
                }
            ]
        },
        {
            "id": "90a7ed37",
            "cell_type": "code",
            "metadata": {},
            "execution_count": null,
            "source": "np.cumulative_sum(a, dtype=float)  # specifies type of output value(s)",
            "outputs": [
                {
                    "output_type": "execute_result",
                    "metadata": {},
                    "data": {
                        "text/plain": "array([  1.,   3.,   6.,  10.,  15.,  21.])"
                    },
                    "execution_count": null
                }
            ]
        },
        {
            "id": "aa0b47ce",
            "cell_type": "code",
            "metadata": {},
            "execution_count": null,
            "source": "b = np.array([[1, 2, 3], [4, 5, 6]])\nnp.cumulative_sum(b,axis=0)  # sum over rows for each of the 3 columns",
            "outputs": [
                {
                    "output_type": "execute_result",
                    "metadata": {},
                    "data": {
                        "text/plain": "array([[1, 2, 3],\n       [5, 7, 9]])"
                    },
                    "execution_count": null
                }
            ]
        },
        {
            "id": "22f0db26",
            "cell_type": "code",
            "metadata": {},
            "execution_count": null,
            "source": "np.cumulative_sum(b,axis=1)  # sum over columns for each of the 2 rows",
            "outputs": [
                {
                    "output_type": "execute_result",
                    "metadata": {},
                    "data": {
                        "text/plain": "array([[ 1,  3,  6],\n       [ 4,  9, 15]])"
                    },
                    "execution_count": null
                }
            ]
        },
        {
            "id": "f7729482",
            "cell_type": "markdown",
            "source": "``cumulative_sum(c)[-1]`` may not be equal to ``sum(c)``\n",
            "metadata": {}
        },
        {
            "id": "dd50e57b",
            "cell_type": "code",
            "metadata": {},
            "execution_count": null,
            "source": "c = np.array([1, 2e-9, 3e-9] * 1000000)\nnp.cumulative_sum(c)[-1]",
            "outputs": [
                {
                    "output_type": "execute_result",
                    "metadata": {},
                    "data": {
                        "text/plain": "1000000.0050045159"
                    },
                    "execution_count": null
                }
            ]
        },
        {
            "id": "25349899",
            "cell_type": "code",
            "metadata": {},
            "execution_count": null,
            "source": "c.sum()",
            "outputs": [
                {
                    "output_type": "execute_result",
                    "metadata": {},
                    "data": {
                        "text/plain": "1000000.0050000029"
                    },
                    "execution_count": null
                }
            ]
        }
    ]
}