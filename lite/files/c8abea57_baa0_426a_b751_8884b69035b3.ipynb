{
    "nbformat": 4,
    "nbformat_minor": 5,
    "metadata": {
        "kernelspec": {
            "display_name": "Python",
            "language": "python",
            "name": "python"
        },
        "language_info": {
            "name": "python"
        }
    },
    "cells": [
        {
            "id": "0a04d469",
            "cell_type": "markdown",
            "source": "<div class='alert alert-warning'>\n\nNumPy's interactive examples are experimental and may not always work as expected, with high load times especially on low-resource platforms, , and the version of NumPy might not be in sync with the one you are browsing the documentation for. If you encounter any issues, please report them on the [NumPy issue tracker](https://github.com/numpy/numpy/issues).\n\n</div>",
            "metadata": {}
        },
        {
            "id": "5ff816a2",
            "cell_type": "code",
            "metadata": {},
            "execution_count": null,
            "source": "import numpy as np\nx = np.array(\"Numpy is nice!\")\nnp.strings.split(x, \" \")  # doctest: +SKIP",
            "outputs": [
                {
                    "output_type": "execute_result",
                    "metadata": {},
                    "data": {
                        "text/plain": "array(list(['Numpy', 'is', 'nice!']), dtype=object)  # doctest: +SKIP"
                    },
                    "execution_count": null
                }
            ]
        },
        {
            "id": "6b2c7ffb",
            "cell_type": "code",
            "metadata": {},
            "execution_count": null,
            "source": "np.strings.split(x, \" \", 1)  # doctest: +SKIP",
            "outputs": [
                {
                    "output_type": "execute_result",
                    "metadata": {},
                    "data": {
                        "text/plain": "array(list(['Numpy', 'is nice!']), dtype=object)  # doctest: +SKIP"
                    },
                    "execution_count": null
                }
            ]
        }
    ]
}