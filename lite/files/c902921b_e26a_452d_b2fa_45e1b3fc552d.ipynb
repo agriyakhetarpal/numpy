{
    "nbformat": 4,
    "nbformat_minor": 5,
    "metadata": {
        "kernelspec": {
            "display_name": "Python",
            "language": "python",
            "name": "python"
        },
        "language_info": {
            "name": "python"
        }
    },
    "cells": [
        {
            "id": "11d8d586",
            "cell_type": "markdown",
            "source": "<div class='alert alert-warning'>\n\nNumPy's interactive examples are experimental and may not always work as expected, with high load times especially on low-resource platforms, and the version of NumPy might not be in sync with the one you are browsing the documentation for. If you encounter any issues, please report them on the [NumPy issue tracker](https://github.com/numpy/numpy/issues).\n\n</div>",
            "metadata": {}
        },
        {
            "id": "6b80c3f5",
            "cell_type": "code",
            "metadata": {},
            "execution_count": null,
            "source": "import numpy as np",
            "outputs": []
        },
        {
            "id": "68171f74",
            "cell_type": "code",
            "metadata": {},
            "execution_count": null,
            "source": "np.datetime64('2009-01-01') - np.datetime64('2008-01-01')",
            "outputs": [
                {
                    "output_type": "execute_result",
                    "metadata": {},
                    "data": {
                        "text/plain": "np.timedelta64(366,'D')"
                    },
                    "execution_count": null
                }
            ]
        },
        {
            "id": "b1303981",
            "cell_type": "code",
            "metadata": {},
            "execution_count": null,
            "source": "np.datetime64('2009') + np.timedelta64(20, 'D')",
            "outputs": [
                {
                    "output_type": "execute_result",
                    "metadata": {},
                    "data": {
                        "text/plain": "np.datetime64('2009-01-21')"
                    },
                    "execution_count": null
                }
            ]
        },
        {
            "id": "1d544b5c",
            "cell_type": "code",
            "metadata": {},
            "execution_count": null,
            "source": "np.datetime64('2011-06-15T00:00') + np.timedelta64(12, 'h')",
            "outputs": [
                {
                    "output_type": "execute_result",
                    "metadata": {},
                    "data": {
                        "text/plain": "np.datetime64('2011-06-15T12:00')"
                    },
                    "execution_count": null
                }
            ]
        },
        {
            "id": "97a4e49d",
            "cell_type": "code",
            "metadata": {},
            "execution_count": null,
            "source": "np.timedelta64(1,'W') / np.timedelta64(1,'D')",
            "outputs": [
                {
                    "output_type": "execute_result",
                    "metadata": {},
                    "data": {
                        "text/plain": "7.0"
                    },
                    "execution_count": null
                }
            ]
        },
        {
            "id": "cc35061a",
            "cell_type": "code",
            "metadata": {},
            "execution_count": null,
            "source": "np.timedelta64(1,'W') % np.timedelta64(10,'D')",
            "outputs": [
                {
                    "output_type": "execute_result",
                    "metadata": {},
                    "data": {
                        "text/plain": "np.timedelta64(7,'D')"
                    },
                    "execution_count": null
                }
            ]
        },
        {
            "id": "122e12a4",
            "cell_type": "code",
            "metadata": {},
            "execution_count": null,
            "source": "np.datetime64('nat') - np.datetime64('2009-01-01')",
            "outputs": [
                {
                    "output_type": "execute_result",
                    "metadata": {},
                    "data": {
                        "text/plain": "np.timedelta64('NaT','D')"
                    },
                    "execution_count": null
                }
            ]
        },
        {
            "id": "2b60d66f",
            "cell_type": "code",
            "metadata": {},
            "execution_count": null,
            "source": "np.datetime64('2009-01-01') + np.timedelta64('nat')",
            "outputs": [
                {
                    "output_type": "execute_result",
                    "metadata": {},
                    "data": {
                        "text/plain": "np.datetime64('NaT')"
                    },
                    "execution_count": null
                }
            ]
        }
    ]
}