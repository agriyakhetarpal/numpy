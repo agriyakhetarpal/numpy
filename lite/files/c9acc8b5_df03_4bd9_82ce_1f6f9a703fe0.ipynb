{
    "nbformat": 4,
    "nbformat_minor": 5,
    "metadata": {
        "kernelspec": {
            "display_name": "Python",
            "language": "python",
            "name": "python"
        },
        "language_info": {
            "name": "python"
        }
    },
    "cells": [
        {
            "id": "bd7b5724",
            "cell_type": "markdown",
            "source": "<div class='alert alert-warning'>\n\nNumPy's interactive examples are experimental and may not always work as expected, with high load times especially on low-resource platforms, , and the version of NumPy might not be in sync with the one you are browsing the documentation for. If you encounter any issues, please report them on the [NumPy issue tracker](https://github.com/numpy/numpy/issues).\n\n</div>",
            "metadata": {}
        },
        {
            "id": "f8745409",
            "cell_type": "code",
            "metadata": {},
            "execution_count": null,
            "source": "import numpy as np\nx = np.array([(1, 2)], dtype=[('a', np.int8), ('b', np.int8)])",
            "outputs": []
        },
        {
            "id": "55097744",
            "cell_type": "markdown",
            "source": "Viewing array data using a different type and dtype:\n",
            "metadata": {}
        },
        {
            "id": "d7503ad4",
            "cell_type": "code",
            "metadata": {},
            "execution_count": null,
            "source": "y = x.view(dtype=np.int16, type=np.matrix)\ny",
            "outputs": [
                {
                    "output_type": "execute_result",
                    "metadata": {},
                    "data": {
                        "text/plain": "matrix([[513]], dtype=int16)"
                    },
                    "execution_count": null
                }
            ]
        },
        {
            "id": "7d114058",
            "cell_type": "code",
            "metadata": {},
            "execution_count": null,
            "source": "print(type(y))",
            "outputs": [
                {
                    "output_type": "execute_result",
                    "metadata": {},
                    "data": {
                        "text/plain": "<class 'numpy.matrix'>"
                    },
                    "execution_count": null
                }
            ]
        },
        {
            "id": "4802ba7d",
            "cell_type": "markdown",
            "source": "Creating a view on a structured array so it can be used in calculations\n",
            "metadata": {}
        },
        {
            "id": "a9061af3",
            "cell_type": "code",
            "metadata": {},
            "execution_count": null,
            "source": "x = np.array([(1, 2),(3,4)], dtype=[('a', np.int8), ('b', np.int8)])\nxv = x.view(dtype=np.int8).reshape(-1,2)\nxv",
            "outputs": [
                {
                    "output_type": "execute_result",
                    "metadata": {},
                    "data": {
                        "text/plain": "array([[1, 2],\n       [3, 4]], dtype=int8)"
                    },
                    "execution_count": null
                }
            ]
        },
        {
            "id": "38c66aa1",
            "cell_type": "code",
            "metadata": {},
            "execution_count": null,
            "source": "xv.mean(0)",
            "outputs": [
                {
                    "output_type": "execute_result",
                    "metadata": {},
                    "data": {
                        "text/plain": "array([2.,  3.])"
                    },
                    "execution_count": null
                }
            ]
        },
        {
            "id": "f14d3ba9",
            "cell_type": "markdown",
            "source": "Making changes to the view changes the underlying array\n",
            "metadata": {}
        },
        {
            "id": "067932d1",
            "cell_type": "code",
            "metadata": {},
            "execution_count": null,
            "source": "xv[0,1] = 20\nx",
            "outputs": [
                {
                    "output_type": "execute_result",
                    "metadata": {},
                    "data": {
                        "text/plain": "array([(1, 20), (3,  4)], dtype=[('a', 'i1'), ('b', 'i1')])"
                    },
                    "execution_count": null
                }
            ]
        },
        {
            "id": "ae596eb0",
            "cell_type": "markdown",
            "source": "Using a view to convert an array to a recarray:\n",
            "metadata": {}
        },
        {
            "id": "2e4d6455",
            "cell_type": "code",
            "metadata": {},
            "execution_count": null,
            "source": "z = x.view(np.recarray)\nz.a",
            "outputs": [
                {
                    "output_type": "execute_result",
                    "metadata": {},
                    "data": {
                        "text/plain": "array([1, 3], dtype=int8)"
                    },
                    "execution_count": null
                }
            ]
        },
        {
            "id": "bcbf9657",
            "cell_type": "markdown",
            "source": "Views share data:\n",
            "metadata": {}
        },
        {
            "id": "f039dab5",
            "cell_type": "code",
            "metadata": {},
            "execution_count": null,
            "source": "x[0] = (9, 10)\nz[0]",
            "outputs": [
                {
                    "output_type": "execute_result",
                    "metadata": {},
                    "data": {
                        "text/plain": "np.record((9, 10), dtype=[('a', 'i1'), ('b', 'i1')])"
                    },
                    "execution_count": null
                }
            ]
        },
        {
            "id": "a312f3b0",
            "cell_type": "markdown",
            "source": "Views that change the dtype size (bytes per entry) should normally be\navoided on arrays defined by slices, transposes, fortran-ordering, etc.:\n",
            "metadata": {}
        },
        {
            "id": "eb5c144f",
            "cell_type": "code",
            "metadata": {},
            "execution_count": null,
            "source": "x = np.array([[1, 2, 3], [4, 5, 6]], dtype=np.int16)\ny = x[:, ::2]\ny",
            "outputs": [
                {
                    "output_type": "execute_result",
                    "metadata": {},
                    "data": {
                        "text/plain": "array([[1, 3],\n       [4, 6]], dtype=int16)"
                    },
                    "execution_count": null
                }
            ]
        },
        {
            "id": "cf291578",
            "cell_type": "code",
            "metadata": {},
            "execution_count": null,
            "source": "y.view(dtype=[('width', np.int16), ('length', np.int16)])",
            "outputs": [
                {
                    "output_type": "execute_result",
                    "metadata": {},
                    "data": {
                        "text/plain": "Traceback (most recent call last):\n    ...\nValueError: To change to a dtype of a different size, the last axis must be contiguous"
                    },
                    "execution_count": null
                }
            ]
        },
        {
            "id": "91c59583",
            "cell_type": "code",
            "metadata": {},
            "execution_count": null,
            "source": "z = y.copy()\nz.view(dtype=[('width', np.int16), ('length', np.int16)])",
            "outputs": [
                {
                    "output_type": "execute_result",
                    "metadata": {},
                    "data": {
                        "text/plain": "array([[(1, 3)],\n       [(4, 6)]], dtype=[('width', '<i2'), ('length', '<i2')])"
                    },
                    "execution_count": null
                }
            ]
        },
        {
            "id": "4f652762",
            "cell_type": "markdown",
            "source": "However, views that change dtype are totally fine for arrays with a\ncontiguous last axis, even if the rest of the axes are not C-contiguous:\n",
            "metadata": {}
        },
        {
            "id": "f3b0a07e",
            "cell_type": "code",
            "metadata": {},
            "execution_count": null,
            "source": "x = np.arange(2 * 3 * 4, dtype=np.int8).reshape(2, 3, 4)\nx.transpose(1, 0, 2).view(np.int16)",
            "outputs": [
                {
                    "output_type": "execute_result",
                    "metadata": {},
                    "data": {
                        "text/plain": "array([[[ 256,  770],\n        [3340, 3854]],\n<BLANKLINE>\n       [[1284, 1798],\n        [4368, 4882]],\n<BLANKLINE>\n       [[2312, 2826],\n        [5396, 5910]]], dtype=int16)"
                    },
                    "execution_count": null
                }
            ]
        }
    ]
}