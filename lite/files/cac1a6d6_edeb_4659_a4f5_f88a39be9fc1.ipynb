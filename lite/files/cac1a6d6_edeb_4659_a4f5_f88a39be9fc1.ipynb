{
    "nbformat": 4,
    "nbformat_minor": 5,
    "metadata": {
        "kernelspec": {
            "display_name": "Python",
            "language": "python",
            "name": "python"
        },
        "language_info": {
            "name": "python"
        }
    },
    "cells": [
        {
            "id": "ca9b1bdf",
            "cell_type": "markdown",
            "source": "<div class='alert alert-warning'>\n\nNumPy's interactive examples are experimental and may not always work as expected, with high load times especially on low-resource platforms, and the version of NumPy might not be in sync with the one you are browsing the documentation for. If you encounter any issues, please report them on the [NumPy issue tracker](https://github.com/numpy/numpy/issues).\n\n</div>",
            "metadata": {}
        },
        {
            "id": "0a2416cc",
            "cell_type": "code",
            "metadata": {},
            "execution_count": null,
            "source": "import numpy as np",
            "outputs": []
        },
        {
            "id": "b7457ab5",
            "cell_type": "markdown",
            "source": "Consider two variables, $x_0$ and $x_1$, which\ncorrelate perfectly, but in opposite directions:\n",
            "metadata": {}
        },
        {
            "id": "2bd18f78",
            "cell_type": "code",
            "metadata": {},
            "execution_count": null,
            "source": "x = np.array([[0, 2], [1, 1], [2, 0]]).T\nx",
            "outputs": [
                {
                    "output_type": "execute_result",
                    "metadata": {},
                    "data": {
                        "text/plain": "array([[0, 1, 2],\n       [2, 1, 0]])"
                    },
                    "execution_count": null
                }
            ]
        },
        {
            "id": "179a12a9",
            "cell_type": "markdown",
            "source": "Note how $x_0$ increases while $x_1$ decreases. The covariance\nmatrix shows this clearly:\n",
            "metadata": {}
        },
        {
            "id": "152e53c1",
            "cell_type": "code",
            "metadata": {},
            "execution_count": null,
            "source": "np.cov(x)",
            "outputs": [
                {
                    "output_type": "execute_result",
                    "metadata": {},
                    "data": {
                        "text/plain": "array([[ 1., -1.],\n       [-1.,  1.]])"
                    },
                    "execution_count": null
                }
            ]
        },
        {
            "id": "1fe87127",
            "cell_type": "markdown",
            "source": "Note that element $C_{0,1}$, which shows the correlation between\n$x_0$ and $x_1$, is negative.\n\nFurther, note how `x` and `y` are combined:\n",
            "metadata": {}
        },
        {
            "id": "55c205bc",
            "cell_type": "code",
            "metadata": {},
            "execution_count": null,
            "source": "x = [-2.1, -1,  4.3]\ny = [3,  1.1,  0.12]\nX = np.stack((x, y), axis=0)\nnp.cov(X)",
            "outputs": [
                {
                    "output_type": "execute_result",
                    "metadata": {},
                    "data": {
                        "text/plain": "array([[11.71      , -4.286     ], # may vary\n       [-4.286     ,  2.144133]])"
                    },
                    "execution_count": null
                }
            ]
        },
        {
            "id": "e64e46dc",
            "cell_type": "code",
            "metadata": {},
            "execution_count": null,
            "source": "np.cov(x, y)",
            "outputs": [
                {
                    "output_type": "execute_result",
                    "metadata": {},
                    "data": {
                        "text/plain": "array([[11.71      , -4.286     ], # may vary\n       [-4.286     ,  2.144133]])"
                    },
                    "execution_count": null
                }
            ]
        },
        {
            "id": "23039dbd",
            "cell_type": "code",
            "metadata": {},
            "execution_count": null,
            "source": "np.cov(x)",
            "outputs": [
                {
                    "output_type": "execute_result",
                    "metadata": {},
                    "data": {
                        "text/plain": "array(11.71)"
                    },
                    "execution_count": null
                }
            ]
        }
    ]
}