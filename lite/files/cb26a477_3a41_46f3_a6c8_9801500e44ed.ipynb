{
    "nbformat": 4,
    "nbformat_minor": 5,
    "metadata": {
        "kernelspec": {
            "display_name": "Python",
            "language": "python",
            "name": "python"
        },
        "language_info": {
            "name": "python"
        }
    },
    "cells": [
        {
            "id": "3adf204d",
            "cell_type": "markdown",
            "source": "<div class='alert alert-warning'>\n\nNumPy's interactive examples are experimental and may not always work as expected, with high load times especially on low-resource platforms, and the version of NumPy might not be in sync with the one you are browsing the documentation for. If you encounter any issues, please report them on the [NumPy issue tracker](https://github.com/numpy/numpy/issues).\n\n</div>",
            "metadata": {}
        },
        {
            "id": "b017512f",
            "cell_type": "code",
            "metadata": {},
            "execution_count": null,
            "source": "import numpy as np\nx = ma.array([[1, 2], [3, 4]], mask=[[0, 1], [1, 0]])\nx[~x.mask]",
            "outputs": [
                {
                    "output_type": "execute_result",
                    "metadata": {},
                    "data": {
                        "text/plain": "masked_array(data=[1, 4],\n               mask=[False, False],\n         fill_value=999999)"
                    },
                    "execution_count": null
                }
            ]
        },
        {
            "id": "62ed5d88",
            "cell_type": "markdown",
            "source": "Another way to retrieve the valid data is to use the :meth:`compressed`\nmethod, which returns a one-dimensional :class:`~numpy.ndarray` (or one of its\nsubclasses, depending on the value of the :attr:`~MaskedArray.baseclass`\nattribute):\n",
            "metadata": {}
        },
        {
            "id": "103747c5",
            "cell_type": "code",
            "metadata": {},
            "execution_count": null,
            "source": "x.compressed()",
            "outputs": [
                {
                    "output_type": "execute_result",
                    "metadata": {},
                    "data": {
                        "text/plain": "array([1, 4])"
                    },
                    "execution_count": null
                }
            ]
        },
        {
            "id": "93eaf826",
            "cell_type": "markdown",
            "source": "Note that the output of :meth:`compressed` is always 1D.",
            "metadata": {}
        }
    ]
}