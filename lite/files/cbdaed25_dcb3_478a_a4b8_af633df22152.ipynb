{
    "nbformat": 4,
    "nbformat_minor": 5,
    "metadata": {
        "kernelspec": {
            "display_name": "Python",
            "language": "python",
            "name": "python"
        },
        "language_info": {
            "name": "python"
        }
    },
    "cells": [
        {
            "id": "5df1adc8",
            "cell_type": "markdown",
            "source": "<div class='alert alert-warning'>\n\nNumPy's interactive examples are experimental and may not always work as expected, with high load times especially on low-resource platforms, and the version of NumPy might not be in sync with the one you are browsing the documentation for. If you encounter any issues, please report them on the [NumPy issue tracker](https://github.com/numpy/numpy/issues).\n\n</div>",
            "metadata": {}
        },
        {
            "id": "b22e3593",
            "cell_type": "code",
            "metadata": {},
            "execution_count": null,
            "source": "import numpy as np",
            "outputs": []
        },
        {
            "id": "10d26e67",
            "cell_type": "markdown",
            "source": "The ``mask`` can be initialized with an array of boolean values\nwith the same shape as ``data``.\n",
            "metadata": {}
        },
        {
            "id": "99ca3888",
            "cell_type": "code",
            "metadata": {},
            "execution_count": null,
            "source": "data = np.arange(6).reshape((2, 3))\nnp.ma.MaskedArray(data, mask=[[False, True, False],\n                              [False, False, True]])",
            "outputs": [
                {
                    "output_type": "execute_result",
                    "metadata": {},
                    "data": {
                        "text/plain": "masked_array(\n  data=[[0, --, 2],\n        [3, 4, --]],\n  mask=[[False,  True, False],\n        [False, False,  True]],\n  fill_value=999999)"
                    },
                    "execution_count": null
                }
            ]
        },
        {
            "id": "cf67654a",
            "cell_type": "markdown",
            "source": "Alternatively, the ``mask`` can be initialized to homogeneous boolean\narray with the same shape as ``data`` by passing in a scalar\nboolean value:\n",
            "metadata": {}
        },
        {
            "id": "63764b74",
            "cell_type": "code",
            "metadata": {},
            "execution_count": null,
            "source": "np.ma.MaskedArray(data, mask=False)",
            "outputs": [
                {
                    "output_type": "execute_result",
                    "metadata": {},
                    "data": {
                        "text/plain": "masked_array(\n  data=[[0, 1, 2],\n        [3, 4, 5]],\n  mask=[[False, False, False],\n        [False, False, False]],\n  fill_value=999999)"
                    },
                    "execution_count": null
                }
            ]
        },
        {
            "id": "9cb4028b",
            "cell_type": "code",
            "metadata": {},
            "execution_count": null,
            "source": "np.ma.MaskedArray(data, mask=True)",
            "outputs": [
                {
                    "output_type": "execute_result",
                    "metadata": {},
                    "data": {
                        "text/plain": "masked_array(\n  data=[[--, --, --],\n        [--, --, --]],\n  mask=[[ True,  True,  True],\n        [ True,  True,  True]],\n  fill_value=999999,\n  dtype=int64)"
                    },
                    "execution_count": null
                }
            ]
        },
        {
            "id": "20afedd3",
            "cell_type": "markdown",
            "source": ".. note\n```\nThe recommended practice for initializing ``mask`` with a scalar\nboolean value is to use ``True``/``False`` rather than\n``np.True_``/``np.False_``. The reason is :attr:`nomask`\nis represented internally as ``np.False_``.\n\n>>> np.False_ is np.ma.nomask\nTrue\n```",
            "metadata": {}
        }
    ]
}