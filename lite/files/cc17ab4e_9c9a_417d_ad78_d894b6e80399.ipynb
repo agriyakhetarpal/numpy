{
    "nbformat": 4,
    "nbformat_minor": 5,
    "metadata": {
        "kernelspec": {
            "display_name": "Python",
            "language": "python",
            "name": "python"
        },
        "language_info": {
            "name": "python"
        }
    },
    "cells": [
        {
            "id": "3bef38b3",
            "cell_type": "markdown",
            "source": "<div class='alert alert-warning'>\n\nNumPy's interactive examples are experimental and may not always work as expected, with high load times especially on low-resource platforms, and the version of NumPy might not be in sync with the one you are browsing the documentation for. If you encounter any issues, please report them on the [NumPy issue tracker](https://github.com/numpy/numpy/issues).\n\n</div>",
            "metadata": {}
        },
        {
            "id": "9dc085d5",
            "cell_type": "code",
            "metadata": {},
            "execution_count": null,
            "source": "import numpy as np\nnp.atleast_3d(3.0)",
            "outputs": [
                {
                    "output_type": "execute_result",
                    "metadata": {},
                    "data": {
                        "text/plain": "array([[[3.]]])"
                    },
                    "execution_count": null
                }
            ]
        },
        {
            "id": "4485d7d0",
            "cell_type": "code",
            "metadata": {},
            "execution_count": null,
            "source": "x = np.arange(3.0)\nnp.atleast_3d(x).shape",
            "outputs": [
                {
                    "output_type": "execute_result",
                    "metadata": {},
                    "data": {
                        "text/plain": "(1, 3, 1)"
                    },
                    "execution_count": null
                }
            ]
        },
        {
            "id": "91c00acd",
            "cell_type": "code",
            "metadata": {},
            "execution_count": null,
            "source": "x = np.arange(12.0).reshape(4,3)\nnp.atleast_3d(x).shape",
            "outputs": [
                {
                    "output_type": "execute_result",
                    "metadata": {},
                    "data": {
                        "text/plain": "(4, 3, 1)"
                    },
                    "execution_count": null
                }
            ]
        },
        {
            "id": "d197f0d3",
            "cell_type": "code",
            "metadata": {},
            "execution_count": null,
            "source": "np.atleast_3d(x).base is x.base  # x is a reshape, so not base itself",
            "outputs": [
                {
                    "output_type": "execute_result",
                    "metadata": {},
                    "data": {
                        "text/plain": "True"
                    },
                    "execution_count": null
                }
            ]
        },
        {
            "id": "d649e709",
            "cell_type": "code",
            "metadata": {},
            "execution_count": null,
            "source": "for arr in np.atleast_3d([1, 2], [[1, 2]], [[[1, 2]]]):\n    print(arr, arr.shape) # doctest: +SKIP\n",
            "outputs": [
                {
                    "output_type": "execute_result",
                    "metadata": {},
                    "data": {
                        "text/plain": "[[[1]\n  [2]]] (1, 2, 1)\n[[[1]\n  [2]]] (1, 2, 1)\n[[[1 2]]] (1, 1, 2)"
                    },
                    "execution_count": null
                }
            ]
        }
    ]
}