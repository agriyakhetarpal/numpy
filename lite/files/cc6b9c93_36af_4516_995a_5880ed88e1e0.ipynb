{
    "nbformat": 4,
    "nbformat_minor": 5,
    "metadata": {
        "kernelspec": {
            "display_name": "Python",
            "language": "python",
            "name": "python"
        },
        "language_info": {
            "name": "python"
        }
    },
    "cells": [
        {
            "id": "95abf3ab",
            "cell_type": "markdown",
            "source": "<div class='alert alert-warning'>\n\nNumPy's interactive examples are experimental and may not always work as expected, with high load times especially on low-resource platforms, and the version of NumPy might not be in sync with the one you are browsing the documentation for. If you encounter any issues, please report them on the [NumPy issue tracker](https://github.com/numpy/numpy/issues).\n\n</div>",
            "metadata": {}
        },
        {
            "id": "d8acd907",
            "cell_type": "code",
            "metadata": {},
            "execution_count": null,
            "source": "import numpy as np",
            "outputs": []
        },
        {
            "id": "4b0e2f05",
            "cell_type": "code",
            "metadata": {},
            "execution_count": null,
            "source": "a = np.timedelta64(1, 'Y')",
            "outputs": []
        },
        {
            "id": "d5bbe624",
            "cell_type": "code",
            "metadata": {},
            "execution_count": null,
            "source": "np.timedelta64(a, 'M')",
            "outputs": [
                {
                    "output_type": "execute_result",
                    "metadata": {},
                    "data": {
                        "text/plain": "numpy.timedelta64(12,'M')"
                    },
                    "execution_count": null
                }
            ]
        },
        {
            "id": "680398f8",
            "cell_type": "code",
            "metadata": {},
            "execution_count": null,
            "source": "np.timedelta64(a, 'D')",
            "outputs": [
                {
                    "output_type": "execute_result",
                    "metadata": {},
                    "data": {
                        "text/plain": "Traceback (most recent call last):\n  File \"<stdin>\", line 1, in <module>\nTypeError: Cannot cast NumPy timedelta64 scalar from metadata [Y] to [D] according to the rule 'same_kind'"
                    },
                    "execution_count": null
                }
            ]
        }
    ]
}