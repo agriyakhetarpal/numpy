{
    "nbformat": 4,
    "nbformat_minor": 5,
    "metadata": {
        "kernelspec": {
            "display_name": "Python",
            "language": "python",
            "name": "python"
        },
        "language_info": {
            "name": "python"
        }
    },
    "cells": [
        {
            "id": "af6a6898",
            "cell_type": "markdown",
            "source": "<div class='alert alert-warning'>\n\nNumPy's interactive examples are experimental and may not always work as expected, with high load times especially on low-resource platforms, and the version of NumPy might not be in sync with the one you are browsing the documentation for. If you encounter any issues, please report them on the [NumPy issue tracker](https://github.com/numpy/numpy/issues).\n\n</div>",
            "metadata": {}
        },
        {
            "id": "74e147fe",
            "cell_type": "code",
            "metadata": {},
            "execution_count": null,
            "source": "import numpy as np\nfrom tempfile import TemporaryFile\noutfile = TemporaryFile()\nx = np.arange(10)\ny = np.sin(x)\nnp.savez(outfile, x=x, y=y)\n_ = outfile.seek(0)",
            "outputs": []
        },
        {
            "id": "9aa16b67",
            "cell_type": "code",
            "metadata": {},
            "execution_count": null,
            "source": "npz = np.load(outfile)\nisinstance(npz, np.lib.npyio.NpzFile)",
            "outputs": [
                {
                    "output_type": "execute_result",
                    "metadata": {},
                    "data": {
                        "text/plain": "True"
                    },
                    "execution_count": null
                }
            ]
        },
        {
            "id": "94381296",
            "cell_type": "code",
            "metadata": {},
            "execution_count": null,
            "source": "npz",
            "outputs": [
                {
                    "output_type": "execute_result",
                    "metadata": {},
                    "data": {
                        "text/plain": "NpzFile 'object' with keys: x, y"
                    },
                    "execution_count": null
                }
            ]
        },
        {
            "id": "4ed1fb35",
            "cell_type": "code",
            "metadata": {},
            "execution_count": null,
            "source": "sorted(npz.files)",
            "outputs": [
                {
                    "output_type": "execute_result",
                    "metadata": {},
                    "data": {
                        "text/plain": "['x', 'y']"
                    },
                    "execution_count": null
                }
            ]
        },
        {
            "id": "2a679cc2",
            "cell_type": "code",
            "metadata": {},
            "execution_count": null,
            "source": "npz['x']  # getitem access",
            "outputs": [
                {
                    "output_type": "execute_result",
                    "metadata": {},
                    "data": {
                        "text/plain": "array([0, 1, 2, 3, 4, 5, 6, 7, 8, 9])"
                    },
                    "execution_count": null
                }
            ]
        },
        {
            "id": "d2dad67a",
            "cell_type": "code",
            "metadata": {},
            "execution_count": null,
            "source": "npz.f.x  # attribute lookup",
            "outputs": [
                {
                    "output_type": "execute_result",
                    "metadata": {},
                    "data": {
                        "text/plain": "array([0, 1, 2, 3, 4, 5, 6, 7, 8, 9])"
                    },
                    "execution_count": null
                }
            ]
        }
    ]
}