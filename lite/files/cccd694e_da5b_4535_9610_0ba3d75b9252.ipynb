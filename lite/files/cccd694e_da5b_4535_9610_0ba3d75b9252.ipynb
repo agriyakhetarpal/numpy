{
    "nbformat": 4,
    "nbformat_minor": 5,
    "metadata": {
        "kernelspec": {
            "display_name": "Python",
            "language": "python",
            "name": "python"
        },
        "language_info": {
            "name": "python"
        }
    },
    "cells": [
        {
            "id": "ba55f9c8",
            "cell_type": "markdown",
            "source": "<div class='alert alert-warning'>\n\nNumPy's interactive examples are experimental and may not always work as expected, with high load times especially on low-resource platforms, and the version of NumPy might not be in sync with the one you are browsing the documentation for. If you encounter any issues, please report them on the [NumPy issue tracker](https://github.com/numpy/numpy/issues).\n\n</div>",
            "metadata": {}
        },
        {
            "id": "ff247b9d",
            "cell_type": "code",
            "metadata": {},
            "execution_count": null,
            "source": "import numpy as np",
            "outputs": []
        },
        {
            "id": "7c39fea1",
            "cell_type": "markdown",
            "source": "We expect the arccos of 1 to be 0, and of -1 to be pi:\n",
            "metadata": {}
        },
        {
            "id": "ac1e9e65",
            "cell_type": "code",
            "metadata": {},
            "execution_count": null,
            "source": "np.arccos([1, -1])",
            "outputs": [
                {
                    "output_type": "execute_result",
                    "metadata": {},
                    "data": {
                        "text/plain": "array([ 0.        ,  3.14159265])"
                    },
                    "execution_count": null
                }
            ]
        },
        {
            "id": "d1e5a069",
            "cell_type": "markdown",
            "source": "Plot arccos:\n",
            "metadata": {}
        },
        {
            "id": "73f76b7a",
            "cell_type": "code",
            "metadata": {},
            "execution_count": null,
            "source": "import matplotlib.pyplot as plt\nx = np.linspace(-1, 1, num=100)\nplt.plot(x, np.arccos(x))\nplt.axis('tight')\nplt.show()",
            "outputs": []
        }
    ]
}