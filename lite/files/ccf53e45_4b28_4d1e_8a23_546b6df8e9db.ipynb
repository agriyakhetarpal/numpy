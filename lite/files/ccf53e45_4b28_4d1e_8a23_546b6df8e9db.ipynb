{
    "nbformat": 4,
    "nbformat_minor": 5,
    "metadata": {
        "kernelspec": {
            "display_name": "Python",
            "language": "python",
            "name": "python"
        },
        "language_info": {
            "name": "python"
        }
    },
    "cells": [
        {
            "id": "9746a920",
            "cell_type": "markdown",
            "source": "<div class='alert alert-warning'>\n\nNumPy's interactive examples are experimental and may not always work as expected, with high load times especially on low-resource platforms, and the version of NumPy might not be in sync with the one you are browsing the documentation for. If you encounter any issues, please report them on the [NumPy issue tracker](https://github.com/numpy/numpy/issues).\n\n</div>",
            "metadata": {}
        },
        {
            "id": "2e80c7b6",
            "cell_type": "code",
            "metadata": {},
            "execution_count": null,
            "source": "import numpy as np\nimport numpy.ma as ma\na = np.arange(5)\na",
            "outputs": [
                {
                    "output_type": "execute_result",
                    "metadata": {},
                    "data": {
                        "text/plain": "array([0, 1, 2, 3, 4])"
                    },
                    "execution_count": null
                }
            ]
        },
        {
            "id": "8f39f49d",
            "cell_type": "code",
            "metadata": {},
            "execution_count": null,
            "source": "a = ma.masked_where(a < 3, a)\na",
            "outputs": [
                {
                    "output_type": "execute_result",
                    "metadata": {},
                    "data": {
                        "text/plain": "masked_array(data=[--, --, --, 3, 4],\n             mask=[ True,  True,  True, False, False],\n       fill_value=999999)"
                    },
                    "execution_count": null
                }
            ]
        },
        {
            "id": "5822b670",
            "cell_type": "code",
            "metadata": {},
            "execution_count": null,
            "source": "ma.set_fill_value(a, -999)\na",
            "outputs": [
                {
                    "output_type": "execute_result",
                    "metadata": {},
                    "data": {
                        "text/plain": "masked_array(data=[--, --, --, 3, 4],\n             mask=[ True,  True,  True, False, False],\n       fill_value=-999)"
                    },
                    "execution_count": null
                }
            ]
        },
        {
            "id": "aad4b357",
            "cell_type": "markdown",
            "source": "Nothing happens if `a` is not a masked array.\n",
            "metadata": {}
        },
        {
            "id": "2d5612f5",
            "cell_type": "code",
            "metadata": {},
            "execution_count": null,
            "source": "a = list(range(5))\na",
            "outputs": [
                {
                    "output_type": "execute_result",
                    "metadata": {},
                    "data": {
                        "text/plain": "[0, 1, 2, 3, 4]"
                    },
                    "execution_count": null
                }
            ]
        },
        {
            "id": "64351c0e",
            "cell_type": "code",
            "metadata": {},
            "execution_count": null,
            "source": "ma.set_fill_value(a, 100)\na",
            "outputs": [
                {
                    "output_type": "execute_result",
                    "metadata": {},
                    "data": {
                        "text/plain": "[0, 1, 2, 3, 4]"
                    },
                    "execution_count": null
                }
            ]
        },
        {
            "id": "59bd4115",
            "cell_type": "code",
            "metadata": {},
            "execution_count": null,
            "source": "a = np.arange(5)\na",
            "outputs": [
                {
                    "output_type": "execute_result",
                    "metadata": {},
                    "data": {
                        "text/plain": "array([0, 1, 2, 3, 4])"
                    },
                    "execution_count": null
                }
            ]
        },
        {
            "id": "89efd936",
            "cell_type": "code",
            "metadata": {},
            "execution_count": null,
            "source": "ma.set_fill_value(a, 100)\na",
            "outputs": [
                {
                    "output_type": "execute_result",
                    "metadata": {},
                    "data": {
                        "text/plain": "array([0, 1, 2, 3, 4])"
                    },
                    "execution_count": null
                }
            ]
        }
    ]
}