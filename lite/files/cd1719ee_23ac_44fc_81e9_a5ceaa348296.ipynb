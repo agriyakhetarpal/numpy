{
    "nbformat": 4,
    "nbformat_minor": 5,
    "metadata": {
        "kernelspec": {
            "display_name": "Python",
            "language": "python",
            "name": "python"
        },
        "language_info": {
            "name": "python"
        }
    },
    "cells": [
        {
            "id": "221f246d",
            "cell_type": "markdown",
            "source": "<div class='alert alert-warning'>\n\nNumPy's interactive examples are experimental and may not always work as expected, with high load times especially on low-resource platforms, and the version of NumPy might not be in sync with the one you are browsing the documentation for. If you encounter any issues, please report them on the [NumPy issue tracker](https://github.com/numpy/numpy/issues).\n\n</div>",
            "metadata": {}
        },
        {
            "id": "404847a4",
            "cell_type": "code",
            "metadata": {},
            "execution_count": null,
            "source": "import numpy as np",
            "outputs": []
        },
        {
            "id": "35689a9e",
            "cell_type": "markdown",
            "source": "For this sample array\n",
            "metadata": {}
        },
        {
            "id": "59636e1a",
            "cell_type": "code",
            "metadata": {},
            "execution_count": null,
            "source": "a = np.array([[10, 30, 20], [60, 40, 50]])",
            "outputs": []
        },
        {
            "id": "8fd76e58",
            "cell_type": "markdown",
            "source": "We can replace the maximum values with:\n",
            "metadata": {}
        },
        {
            "id": "699dae61",
            "cell_type": "code",
            "metadata": {},
            "execution_count": null,
            "source": "ai = np.argmax(a, axis=1, keepdims=True)\nai",
            "outputs": [
                {
                    "output_type": "execute_result",
                    "metadata": {},
                    "data": {
                        "text/plain": "array([[1],\n       [0]])"
                    },
                    "execution_count": null
                }
            ]
        },
        {
            "id": "a1063528",
            "cell_type": "code",
            "metadata": {},
            "execution_count": null,
            "source": "np.put_along_axis(a, ai, 99, axis=1)\na",
            "outputs": [
                {
                    "output_type": "execute_result",
                    "metadata": {},
                    "data": {
                        "text/plain": "array([[10, 99, 20],\n       [99, 40, 50]])"
                    },
                    "execution_count": null
                }
            ]
        }
    ]
}