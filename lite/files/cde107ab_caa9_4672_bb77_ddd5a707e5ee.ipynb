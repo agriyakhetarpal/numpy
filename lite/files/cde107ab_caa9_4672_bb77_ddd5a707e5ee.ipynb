{
    "nbformat": 4,
    "nbformat_minor": 5,
    "metadata": {
        "kernelspec": {
            "display_name": "Python",
            "language": "python",
            "name": "python"
        },
        "language_info": {
            "name": "python"
        }
    },
    "cells": [
        {
            "id": "3515e071",
            "cell_type": "markdown",
            "source": "<div class='alert alert-warning'>\n\nNumPy's interactive examples are experimental and may not always work as expected, with high load times especially on low-resource platforms, and the version of NumPy might not be in sync with the one you are browsing the documentation for. If you encounter any issues, please report them on the [NumPy issue tracker](https://github.com/numpy/numpy/issues).\n\n</div>",
            "metadata": {}
        },
        {
            "id": "00fb185d",
            "cell_type": "markdown",
            "source": "1-D array examples:\n",
            "metadata": {}
        },
        {
            "id": "c23ade56",
            "cell_type": "code",
            "metadata": {},
            "execution_count": null,
            "source": "import numpy as np\nnp.add.accumulate([2, 3, 5])",
            "outputs": [
                {
                    "output_type": "execute_result",
                    "metadata": {},
                    "data": {
                        "text/plain": "array([ 2,  5, 10])"
                    },
                    "execution_count": null
                }
            ]
        },
        {
            "id": "bbf16d51",
            "cell_type": "code",
            "metadata": {},
            "execution_count": null,
            "source": "np.multiply.accumulate([2, 3, 5])",
            "outputs": [
                {
                    "output_type": "execute_result",
                    "metadata": {},
                    "data": {
                        "text/plain": "array([ 2,  6, 30])"
                    },
                    "execution_count": null
                }
            ]
        },
        {
            "id": "36fd831b",
            "cell_type": "markdown",
            "source": "2-D array examples:\n",
            "metadata": {}
        },
        {
            "id": "0bd5769c",
            "cell_type": "code",
            "metadata": {},
            "execution_count": null,
            "source": "I = np.eye(2)\nI",
            "outputs": [
                {
                    "output_type": "execute_result",
                    "metadata": {},
                    "data": {
                        "text/plain": "array([[1.,  0.],\n       [0.,  1.]])"
                    },
                    "execution_count": null
                }
            ]
        },
        {
            "id": "603b695f",
            "cell_type": "markdown",
            "source": "Accumulate along axis 0 (rows), down columns:\n",
            "metadata": {}
        },
        {
            "id": "24b63f88",
            "cell_type": "code",
            "metadata": {},
            "execution_count": null,
            "source": "np.add.accumulate(I, 0)",
            "outputs": [
                {
                    "output_type": "execute_result",
                    "metadata": {},
                    "data": {
                        "text/plain": "array([[1.,  0.],\n       [1.,  1.]])"
                    },
                    "execution_count": null
                }
            ]
        },
        {
            "id": "a6a1ece0",
            "cell_type": "code",
            "metadata": {},
            "execution_count": null,
            "source": "np.add.accumulate(I) # no axis specified = axis zero",
            "outputs": [
                {
                    "output_type": "execute_result",
                    "metadata": {},
                    "data": {
                        "text/plain": "array([[1.,  0.],\n       [1.,  1.]])"
                    },
                    "execution_count": null
                }
            ]
        },
        {
            "id": "dbf03cf8",
            "cell_type": "markdown",
            "source": "Accumulate along axis 1 (columns), through rows:\n",
            "metadata": {}
        },
        {
            "id": "4417ac4b",
            "cell_type": "code",
            "metadata": {},
            "execution_count": null,
            "source": "np.add.accumulate(I, 1)",
            "outputs": [
                {
                    "output_type": "execute_result",
                    "metadata": {},
                    "data": {
                        "text/plain": "array([[1.,  1.],\n       [0.,  1.]])"
                    },
                    "execution_count": null
                }
            ]
        }
    ]
}