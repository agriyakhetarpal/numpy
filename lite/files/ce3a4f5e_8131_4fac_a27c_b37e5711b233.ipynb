{
    "nbformat": 4,
    "nbformat_minor": 5,
    "metadata": {
        "kernelspec": {
            "display_name": "Python",
            "language": "python",
            "name": "python"
        },
        "language_info": {
            "name": "python"
        }
    },
    "cells": [
        {
            "id": "69743443",
            "cell_type": "markdown",
            "source": "<div class='alert alert-warning'>\n\nNumPy's interactive examples are experimental and may not always work as expected, with high load times especially on low-resource platforms, and the version of NumPy might not be in sync with the one you are browsing the documentation for. If you encounter any issues, please report them on the [NumPy issue tracker](https://github.com/numpy/numpy/issues).\n\n</div>",
            "metadata": {}
        },
        {
            "id": "45fa45ed",
            "cell_type": "code",
            "metadata": {},
            "execution_count": null,
            "source": "import numpy as np\nfrom numpy.lib import recfunctions as rfn\nrfn.get_names(np.empty((1,), dtype=[('A', int)]).dtype)",
            "outputs": [
                {
                    "output_type": "execute_result",
                    "metadata": {},
                    "data": {
                        "text/plain": "('A',)"
                    },
                    "execution_count": null
                }
            ]
        },
        {
            "id": "dd461cfa",
            "cell_type": "code",
            "metadata": {},
            "execution_count": null,
            "source": "rfn.get_names(np.empty((1,), dtype=[('A',int), ('B', float)]).dtype)",
            "outputs": [
                {
                    "output_type": "execute_result",
                    "metadata": {},
                    "data": {
                        "text/plain": "('A', 'B')"
                    },
                    "execution_count": null
                }
            ]
        },
        {
            "id": "059713a3",
            "cell_type": "code",
            "metadata": {},
            "execution_count": null,
            "source": "adtype = np.dtype([('a', int), ('b', [('ba', int), ('bb', int)])])\nrfn.get_names(adtype)",
            "outputs": [
                {
                    "output_type": "execute_result",
                    "metadata": {},
                    "data": {
                        "text/plain": "('a', ('b', ('ba', 'bb')))"
                    },
                    "execution_count": null
                }
            ]
        }
    ]
}