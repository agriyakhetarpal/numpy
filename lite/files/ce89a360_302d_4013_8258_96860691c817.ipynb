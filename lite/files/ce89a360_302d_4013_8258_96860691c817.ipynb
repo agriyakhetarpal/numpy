{
    "nbformat": 4,
    "nbformat_minor": 5,
    "metadata": {
        "kernelspec": {
            "display_name": "Python",
            "language": "python",
            "name": "python"
        },
        "language_info": {
            "name": "python"
        }
    },
    "cells": [
        {
            "id": "a8924467",
            "cell_type": "markdown",
            "source": "<div class='alert alert-warning'>\n\nNumPy's interactive examples are experimental and may not always work as expected, with high load times especially on low-resource platforms, and the version of NumPy might not be in sync with the one you are browsing the documentation for. If you encounter any issues, please report them on the [NumPy issue tracker](https://github.com/numpy/numpy/issues).\n\n</div>",
            "metadata": {}
        },
        {
            "id": "e36393f6",
            "cell_type": "code",
            "metadata": {},
            "execution_count": null,
            "source": "import numpy as np\na = np.arange(4).reshape((2,2))\na",
            "outputs": [
                {
                    "output_type": "execute_result",
                    "metadata": {},
                    "data": {
                        "text/plain": "array([[0, 1],\n       [2, 3]])"
                    },
                    "execution_count": null
                }
            ]
        },
        {
            "id": "d36f755f",
            "cell_type": "code",
            "metadata": {},
            "execution_count": null,
            "source": "np.max(a)           # Maximum of the flattened array",
            "outputs": [
                {
                    "output_type": "execute_result",
                    "metadata": {},
                    "data": {
                        "text/plain": "3"
                    },
                    "execution_count": null
                }
            ]
        },
        {
            "id": "98f92b75",
            "cell_type": "code",
            "metadata": {},
            "execution_count": null,
            "source": "np.max(a, axis=0)   # Maxima along the first axis",
            "outputs": [
                {
                    "output_type": "execute_result",
                    "metadata": {},
                    "data": {
                        "text/plain": "array([2, 3])"
                    },
                    "execution_count": null
                }
            ]
        },
        {
            "id": "d3b7c9bd",
            "cell_type": "code",
            "metadata": {},
            "execution_count": null,
            "source": "np.max(a, axis=1)   # Maxima along the second axis",
            "outputs": [
                {
                    "output_type": "execute_result",
                    "metadata": {},
                    "data": {
                        "text/plain": "array([1, 3])"
                    },
                    "execution_count": null
                }
            ]
        },
        {
            "id": "e291cd2b",
            "cell_type": "code",
            "metadata": {},
            "execution_count": null,
            "source": "np.max(a, where=[False, True], initial=-1, axis=0)",
            "outputs": [
                {
                    "output_type": "execute_result",
                    "metadata": {},
                    "data": {
                        "text/plain": "array([-1,  3])"
                    },
                    "execution_count": null
                }
            ]
        },
        {
            "id": "890d6d99",
            "cell_type": "code",
            "metadata": {},
            "execution_count": null,
            "source": "b = np.arange(5, dtype=float)\nb[2] = np.nan\nnp.max(b)",
            "outputs": [
                {
                    "output_type": "execute_result",
                    "metadata": {},
                    "data": {
                        "text/plain": "np.float64(nan)"
                    },
                    "execution_count": null
                }
            ]
        },
        {
            "id": "6d946c2f",
            "cell_type": "code",
            "metadata": {},
            "execution_count": null,
            "source": "np.max(b, where=~np.isnan(b), initial=-1)",
            "outputs": [
                {
                    "output_type": "execute_result",
                    "metadata": {},
                    "data": {
                        "text/plain": "4.0"
                    },
                    "execution_count": null
                }
            ]
        },
        {
            "id": "5a195110",
            "cell_type": "code",
            "metadata": {},
            "execution_count": null,
            "source": "np.nanmax(b)",
            "outputs": [
                {
                    "output_type": "execute_result",
                    "metadata": {},
                    "data": {
                        "text/plain": "4.0"
                    },
                    "execution_count": null
                }
            ]
        },
        {
            "id": "92a1fb57",
            "cell_type": "markdown",
            "source": "You can use an initial value to compute the maximum of an empty slice, or\nto initialize it to a different value:\n",
            "metadata": {}
        },
        {
            "id": "cf6e93b9",
            "cell_type": "code",
            "metadata": {},
            "execution_count": null,
            "source": "np.max([[-50], [10]], axis=-1, initial=0)",
            "outputs": [
                {
                    "output_type": "execute_result",
                    "metadata": {},
                    "data": {
                        "text/plain": "array([ 0, 10])"
                    },
                    "execution_count": null
                }
            ]
        },
        {
            "id": "6c83a9b7",
            "cell_type": "markdown",
            "source": "Notice that the initial value is used as one of the elements for which the\nmaximum is determined, unlike for the default argument Python's max\nfunction, which is only used for empty iterables.\n",
            "metadata": {}
        },
        {
            "id": "d26ba7b7",
            "cell_type": "code",
            "metadata": {},
            "execution_count": null,
            "source": "np.max([5], initial=6)",
            "outputs": [
                {
                    "output_type": "execute_result",
                    "metadata": {},
                    "data": {
                        "text/plain": "6"
                    },
                    "execution_count": null
                }
            ]
        },
        {
            "id": "35d0bbd1",
            "cell_type": "code",
            "metadata": {},
            "execution_count": null,
            "source": "max([5], default=6)",
            "outputs": [
                {
                    "output_type": "execute_result",
                    "metadata": {},
                    "data": {
                        "text/plain": "5"
                    },
                    "execution_count": null
                }
            ]
        }
    ]
}