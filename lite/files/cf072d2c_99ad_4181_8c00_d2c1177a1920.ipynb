{
    "nbformat": 4,
    "nbformat_minor": 5,
    "metadata": {
        "kernelspec": {
            "display_name": "Python",
            "language": "python",
            "name": "python"
        },
        "language_info": {
            "name": "python"
        }
    },
    "cells": [
        {
            "id": "eb05f414",
            "cell_type": "markdown",
            "source": "<div class='alert alert-warning'>\n\nNumPy's interactive examples are experimental and may not always work as expected, with high load times especially on low-resource platforms, , and the version of NumPy might not be in sync with the one you are browsing the documentation for. If you encounter any issues, please report them on the [NumPy issue tracker](https://github.com/numpy/numpy/issues).\n\n</div>",
            "metadata": {}
        },
        {
            "id": "adc37662",
            "cell_type": "code",
            "metadata": {},
            "execution_count": null,
            "source": "self.feature_untied([\"SSE2\", \"SSE3\", \"SSE41\"])",
            "outputs": [
                {
                    "output_type": "execute_result",
                    "metadata": {},
                    "data": {
                        "text/plain": "[\"SSE2\", \"SSE3\", \"SSE41\"]\n# assume AVX2 and FMA3 implies each other"
                    },
                    "execution_count": null
                }
            ]
        },
        {
            "id": "6c7b5507",
            "cell_type": "code",
            "metadata": {},
            "execution_count": null,
            "source": "self.feature_untied([\"SSE2\", \"SSE3\", \"SSE41\", \"FMA3\", \"AVX2\"])",
            "outputs": [
                {
                    "output_type": "execute_result",
                    "metadata": {},
                    "data": {
                        "text/plain": "[\"SSE2\", \"SSE3\", \"SSE41\", \"AVX2\"]"
                    },
                    "execution_count": null
                }
            ]
        }
    ]
}