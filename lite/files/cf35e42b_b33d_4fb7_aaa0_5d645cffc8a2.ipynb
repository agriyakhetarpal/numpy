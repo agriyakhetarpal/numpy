{
    "nbformat": 4,
    "nbformat_minor": 5,
    "metadata": {
        "kernelspec": {
            "display_name": "Python",
            "language": "python",
            "name": "python"
        },
        "language_info": {
            "name": "python"
        }
    },
    "cells": [
        {
            "id": "06ac5724",
            "cell_type": "markdown",
            "source": "<div class='alert alert-warning'>\n\nNumPy's interactive examples are experimental and may not always work as expected, with high load times especially on low-resource platforms, and the version of NumPy might not be in sync with the one you are browsing the documentation for. If you encounter any issues, please report them on the [NumPy issue tracker](https://github.com/numpy/numpy/issues).\n\n</div>",
            "metadata": {}
        },
        {
            "id": "e3534174",
            "cell_type": "code",
            "metadata": {},
            "execution_count": null,
            "source": "import numpy as np\nx = np.array([1, 2, 3, 4])\nx.shape",
            "outputs": [
                {
                    "output_type": "execute_result",
                    "metadata": {},
                    "data": {
                        "text/plain": "(4,)"
                    },
                    "execution_count": null
                }
            ]
        },
        {
            "id": "311dc5d5",
            "cell_type": "code",
            "metadata": {},
            "execution_count": null,
            "source": "y = np.zeros((2, 3, 4))\ny.shape",
            "outputs": [
                {
                    "output_type": "execute_result",
                    "metadata": {},
                    "data": {
                        "text/plain": "(2, 3, 4)"
                    },
                    "execution_count": null
                }
            ]
        },
        {
            "id": "03050db6",
            "cell_type": "code",
            "metadata": {},
            "execution_count": null,
            "source": "y.shape = (3, 8)\ny",
            "outputs": [
                {
                    "output_type": "execute_result",
                    "metadata": {},
                    "data": {
                        "text/plain": "array([[ 0.,  0.,  0.,  0.,  0.,  0.,  0.,  0.],\n       [ 0.,  0.,  0.,  0.,  0.,  0.,  0.,  0.],\n       [ 0.,  0.,  0.,  0.,  0.,  0.,  0.,  0.]])"
                    },
                    "execution_count": null
                }
            ]
        },
        {
            "id": "51dbbe62",
            "cell_type": "code",
            "metadata": {},
            "execution_count": null,
            "source": "y.shape = (3, 6)",
            "outputs": [
                {
                    "output_type": "execute_result",
                    "metadata": {},
                    "data": {
                        "text/plain": "Traceback (most recent call last):\n  File \"<stdin>\", line 1, in <module>\nValueError: cannot reshape array of size 24 into shape (3,6)"
                    },
                    "execution_count": null
                }
            ]
        },
        {
            "id": "f074caaa",
            "cell_type": "code",
            "metadata": {},
            "execution_count": null,
            "source": "np.zeros((4,2))[::2].shape = (-1,)",
            "outputs": [
                {
                    "output_type": "execute_result",
                    "metadata": {},
                    "data": {
                        "text/plain": "Traceback (most recent call last):\n  File \"<stdin>\", line 1, in <module>\nAttributeError: Incompatible shape for in-place modification. Use\n`.reshape()` to make a copy with the desired shape."
                    },
                    "execution_count": null
                }
            ]
        }
    ]
}