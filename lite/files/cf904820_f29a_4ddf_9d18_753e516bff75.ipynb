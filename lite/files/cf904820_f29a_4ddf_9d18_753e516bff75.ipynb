{
    "nbformat": 4,
    "nbformat_minor": 5,
    "metadata": {
        "kernelspec": {
            "display_name": "Python",
            "language": "python",
            "name": "python"
        },
        "language_info": {
            "name": "python"
        }
    },
    "cells": [
        {
            "id": "d13f2a8f",
            "cell_type": "markdown",
            "source": "<div class='alert alert-warning'>\n\nNumPy's interactive examples are experimental and may not always work as expected, with high load times especially on low-resource platforms, , and the version of NumPy might not be in sync with the one you are browsing the documentation for. If you encounter any issues, please report them on the [NumPy issue tracker](https://github.com/numpy/numpy/issues).\n\n</div>",
            "metadata": {}
        },
        {
            "id": "47ed7efb",
            "cell_type": "markdown",
            "source": "The first assert does not raise an exception:\n",
            "metadata": {}
        },
        {
            "id": "48b24eb5",
            "cell_type": "code",
            "metadata": {},
            "execution_count": null,
            "source": "np.testing.assert_array_equal([1.0,2.33333,np.nan],\n                              [np.exp(0),2.33333, np.nan])",
            "outputs": []
        },
        {
            "id": "1d4fb88a",
            "cell_type": "markdown",
            "source": "Assert fails with numerical imprecision with floats:\n",
            "metadata": {}
        },
        {
            "id": "3f897cd3",
            "cell_type": "code",
            "metadata": {},
            "execution_count": null,
            "source": "np.testing.assert_array_equal([1.0,np.pi,np.nan],\n                              [1, np.sqrt(np.pi)**2, np.nan])",
            "outputs": [
                {
                    "output_type": "execute_result",
                    "metadata": {},
                    "data": {
                        "text/plain": "Traceback (most recent call last):\n    ...\nAssertionError:\nArrays are not equal\n<BLANKLINE>\nMismatched elements: 1 / 3 (33.3%)\nMax absolute difference among violations: 4.4408921e-16\nMax relative difference among violations: 1.41357986e-16\n ACTUAL: array([1.      , 3.141593,      nan])\n DESIRED: array([1.      , 3.141593,      nan])"
                    },
                    "execution_count": null
                }
            ]
        },
        {
            "id": "4d6e5cbb",
            "cell_type": "markdown",
            "source": "Use `assert_allclose` or one of the nulp (number of floating point values)\nfunctions for these cases instead:\n",
            "metadata": {}
        },
        {
            "id": "f188261a",
            "cell_type": "code",
            "metadata": {},
            "execution_count": null,
            "source": "np.testing.assert_allclose([1.0,np.pi,np.nan],\n                           [1, np.sqrt(np.pi)**2, np.nan],\n                           rtol=1e-10, atol=0)",
            "outputs": []
        },
        {
            "id": "4fb0244c",
            "cell_type": "markdown",
            "source": "As mentioned in the Notes section, `assert_array_equal` has special\nhandling for scalars. Here the test checks that each value in `x` is 3:\n",
            "metadata": {}
        },
        {
            "id": "985f9ef6",
            "cell_type": "code",
            "metadata": {},
            "execution_count": null,
            "source": "x = np.full((2, 5), fill_value=3)\nnp.testing.assert_array_equal(x, 3)",
            "outputs": []
        },
        {
            "id": "c9a1a74d",
            "cell_type": "markdown",
            "source": "Use `strict` to raise an AssertionError when comparing a scalar with an\narray:\n",
            "metadata": {}
        },
        {
            "id": "3fd2590d",
            "cell_type": "code",
            "metadata": {},
            "execution_count": null,
            "source": "np.testing.assert_array_equal(x, 3, strict=True)",
            "outputs": [
                {
                    "output_type": "execute_result",
                    "metadata": {},
                    "data": {
                        "text/plain": "Traceback (most recent call last):\n    ...\nAssertionError:\nArrays are not equal\n<BLANKLINE>\n(shapes (2, 5), () mismatch)\n ACTUAL: array([[3, 3, 3, 3, 3],\n       [3, 3, 3, 3, 3]])\n DESIRED: array(3)"
                    },
                    "execution_count": null
                }
            ]
        },
        {
            "id": "523cf9ac",
            "cell_type": "markdown",
            "source": "The `strict` parameter also ensures that the array data types match:\n",
            "metadata": {}
        },
        {
            "id": "1484dd98",
            "cell_type": "code",
            "metadata": {},
            "execution_count": null,
            "source": "x = np.array([2, 2, 2])\ny = np.array([2., 2., 2.], dtype=np.float32)\nnp.testing.assert_array_equal(x, y, strict=True)",
            "outputs": [
                {
                    "output_type": "execute_result",
                    "metadata": {},
                    "data": {
                        "text/plain": "Traceback (most recent call last):\n    ...\nAssertionError:\nArrays are not equal\n<BLANKLINE>\n(dtypes int64, float32 mismatch)\n ACTUAL: array([2, 2, 2])\n DESIRED: array([2., 2., 2.], dtype=float32)"
                    },
                    "execution_count": null
                }
            ]
        }
    ]
}