{
    "nbformat": 4,
    "nbformat_minor": 5,
    "metadata": {
        "kernelspec": {
            "display_name": "Python",
            "language": "python",
            "name": "python"
        },
        "language_info": {
            "name": "python"
        }
    },
    "cells": [
        {
            "id": "54661e4d",
            "cell_type": "markdown",
            "source": "<div class='alert alert-warning'>\n\nNumPy's interactive examples are experimental and may not always work as expected, with high load times especially on low-resource platforms, , and the version of NumPy might not be in sync with the one you are browsing the documentation for. If you encounter any issues, please report them on the [NumPy issue tracker](https://github.com/numpy/numpy/issues).\n\n</div>",
            "metadata": {}
        },
        {
            "id": "19967fc3",
            "cell_type": "code",
            "metadata": {},
            "execution_count": null,
            "source": "import numpy as np",
            "outputs": []
        },
        {
            "id": "bde07a8c",
            "cell_type": "markdown",
            "source": "The 2-D pseudo-Vandermonde matrix of degree ``[1, 2]`` and sample\npoints ``x = [-1, 2]`` and ``y = [1, 3]`` is as follows:\n",
            "metadata": {}
        },
        {
            "id": "c9331c48",
            "cell_type": "code",
            "metadata": {},
            "execution_count": null,
            "source": "from numpy.polynomial import polynomial as P\nx = np.array([-1, 2])\ny = np.array([1, 3])\nm, n = 1, 2\ndeg = np.array([m, n])\nV = P.polyvander2d(x=x, y=y, deg=deg)\nV",
            "outputs": [
                {
                    "output_type": "execute_result",
                    "metadata": {},
                    "data": {
                        "text/plain": "array([[ 1.,  1.,  1., -1., -1., -1.],\n       [ 1.,  3.,  9.,  2.,  6., 18.]])"
                    },
                    "execution_count": null
                }
            ]
        },
        {
            "id": "b67ff527",
            "cell_type": "markdown",
            "source": "We can verify the columns for any ``0 <= i <= m`` and ``0 <= j <= n``:\n",
            "metadata": {}
        },
        {
            "id": "1bae2dd8",
            "cell_type": "code",
            "metadata": {},
            "execution_count": null,
            "source": "i, j = 0, 1\nV[:, (deg[1]+1)*i + j] == x**i * y**j",
            "outputs": [
                {
                    "output_type": "execute_result",
                    "metadata": {},
                    "data": {
                        "text/plain": "array([ True,  True])"
                    },
                    "execution_count": null
                }
            ]
        },
        {
            "id": "ac22910a",
            "cell_type": "markdown",
            "source": "The (1D) Vandermonde matrix of sample points ``x`` and degree ``m`` is a\nspecial case of the (2D) pseudo-Vandermonde matrix with ``y`` points all\nzero and degree ``[m, 0]``.\n",
            "metadata": {}
        },
        {
            "id": "687afc85",
            "cell_type": "code",
            "metadata": {},
            "execution_count": null,
            "source": "P.polyvander2d(x=x, y=0*x, deg=(m, 0)) == P.polyvander(x=x, deg=m)",
            "outputs": [
                {
                    "output_type": "execute_result",
                    "metadata": {},
                    "data": {
                        "text/plain": "array([[ True,  True],\n       [ True,  True]])"
                    },
                    "execution_count": null
                }
            ]
        }
    ]
}