{
    "nbformat": 4,
    "nbformat_minor": 5,
    "metadata": {
        "kernelspec": {
            "display_name": "Python",
            "language": "python",
            "name": "python"
        },
        "language_info": {
            "name": "python"
        }
    },
    "cells": [
        {
            "id": "4796b3bd",
            "cell_type": "markdown",
            "source": "<div class='alert alert-warning'>\n\nNumPy's interactive examples are experimental and may not always work as expected, with high load times especially on low-resource platforms, , and the version of NumPy might not be in sync with the one you are browsing the documentation for. If you encounter any issues, please report them on the [NumPy issue tracker](https://github.com/numpy/numpy/issues).\n\n</div>",
            "metadata": {}
        },
        {
            "id": "1d19661b",
            "cell_type": "code",
            "metadata": {},
            "execution_count": null,
            "source": "import numpy as np\ndef myfunc(a, b):\n    \"Return a-b if a>b, otherwise return a+b\"\n    if a > b:\n        return a - b\n    else:\n        return a + b",
            "outputs": []
        },
        {
            "id": "c80c09a3",
            "cell_type": "code",
            "metadata": {},
            "execution_count": null,
            "source": "vfunc = np.vectorize(myfunc)\nvfunc([1, 2, 3, 4], 2)",
            "outputs": [
                {
                    "output_type": "execute_result",
                    "metadata": {},
                    "data": {
                        "text/plain": "array([3, 4, 1, 2])"
                    },
                    "execution_count": null
                }
            ]
        },
        {
            "id": "0a3462c3",
            "cell_type": "markdown",
            "source": "The docstring is taken from the input function to `vectorize` unless it\nis specified:\n",
            "metadata": {}
        },
        {
            "id": "75339823",
            "cell_type": "code",
            "metadata": {},
            "execution_count": null,
            "source": "vfunc.__doc__",
            "outputs": [
                {
                    "output_type": "execute_result",
                    "metadata": {},
                    "data": {
                        "text/plain": "'Return a-b if a>b, otherwise return a+b'"
                    },
                    "execution_count": null
                }
            ]
        },
        {
            "id": "03c9331d",
            "cell_type": "code",
            "metadata": {},
            "execution_count": null,
            "source": "vfunc = np.vectorize(myfunc, doc='Vectorized `myfunc`')\nvfunc.__doc__",
            "outputs": [
                {
                    "output_type": "execute_result",
                    "metadata": {},
                    "data": {
                        "text/plain": "'Vectorized `myfunc`'"
                    },
                    "execution_count": null
                }
            ]
        },
        {
            "id": "c0c919e8",
            "cell_type": "markdown",
            "source": "The output type is determined by evaluating the first element of the input,\nunless it is specified:\n",
            "metadata": {}
        },
        {
            "id": "3f2b96d2",
            "cell_type": "code",
            "metadata": {},
            "execution_count": null,
            "source": "out = vfunc([1, 2, 3, 4], 2)\ntype(out[0])",
            "outputs": [
                {
                    "output_type": "execute_result",
                    "metadata": {},
                    "data": {
                        "text/plain": "<class 'numpy.int64'>"
                    },
                    "execution_count": null
                }
            ]
        },
        {
            "id": "4480a701",
            "cell_type": "code",
            "metadata": {},
            "execution_count": null,
            "source": "vfunc = np.vectorize(myfunc, otypes=[float])\nout = vfunc([1, 2, 3, 4], 2)\ntype(out[0])",
            "outputs": [
                {
                    "output_type": "execute_result",
                    "metadata": {},
                    "data": {
                        "text/plain": "<class 'numpy.float64'>"
                    },
                    "execution_count": null
                }
            ]
        },
        {
            "id": "3608883b",
            "cell_type": "markdown",
            "source": "The `excluded` argument can be used to prevent vectorizing over certain\narguments.  This can be useful for array-like arguments of a fixed length\nsuch as the coefficients for a polynomial as in `polyval`:\n",
            "metadata": {}
        },
        {
            "id": "e9758760",
            "cell_type": "code",
            "metadata": {},
            "execution_count": null,
            "source": "def mypolyval(p, x):\n    _p = list(p)\n    res = _p.pop(0)\n    while _p:\n        res = res*x + _p.pop(0)\n    return res\nvpolyval = np.vectorize(mypolyval, excluded=['p'])\nvpolyval(p=[1, 2, 3], x=[0, 1])",
            "outputs": [
                {
                    "output_type": "execute_result",
                    "metadata": {},
                    "data": {
                        "text/plain": "array([3, 6])"
                    },
                    "execution_count": null
                }
            ]
        },
        {
            "id": "53cb5f09",
            "cell_type": "markdown",
            "source": "Positional arguments may also be excluded by specifying their position:\n",
            "metadata": {}
        },
        {
            "id": "9d10ade6",
            "cell_type": "code",
            "metadata": {},
            "execution_count": null,
            "source": "vpolyval.excluded.add(0)\nvpolyval([1, 2, 3], x=[0, 1])",
            "outputs": [
                {
                    "output_type": "execute_result",
                    "metadata": {},
                    "data": {
                        "text/plain": "array([3, 6])"
                    },
                    "execution_count": null
                }
            ]
        },
        {
            "id": "438e31ee",
            "cell_type": "markdown",
            "source": "The `signature` argument allows for vectorizing functions that act on\nnon-scalar arrays of fixed length. For example, you can use it for a\nvectorized calculation of Pearson correlation coefficient and its p-value:\n",
            "metadata": {}
        },
        {
            "id": "6f63166f",
            "cell_type": "code",
            "metadata": {},
            "execution_count": null,
            "source": "import scipy.stats\npearsonr = np.vectorize(scipy.stats.pearsonr,\n                signature='(n),(n)->(),()')\npearsonr([[0, 1, 2, 3]], [[1, 2, 3, 4], [4, 3, 2, 1]])",
            "outputs": [
                {
                    "output_type": "execute_result",
                    "metadata": {},
                    "data": {
                        "text/plain": "(array([ 1., -1.]), array([ 0.,  0.]))"
                    },
                    "execution_count": null
                }
            ]
        },
        {
            "id": "978df318",
            "cell_type": "markdown",
            "source": "Or for a vectorized convolution:\n",
            "metadata": {}
        },
        {
            "id": "f185a0e7",
            "cell_type": "code",
            "metadata": {},
            "execution_count": null,
            "source": "convolve = np.vectorize(np.convolve, signature='(n),(m)->(k)')\nconvolve(np.eye(4), [1, 2, 1])",
            "outputs": [
                {
                    "output_type": "execute_result",
                    "metadata": {},
                    "data": {
                        "text/plain": "array([[1., 2., 1., 0., 0., 0.],\n       [0., 1., 2., 1., 0., 0.],\n       [0., 0., 1., 2., 1., 0.],\n       [0., 0., 0., 1., 2., 1.]])"
                    },
                    "execution_count": null
                }
            ]
        },
        {
            "id": "f26b9626",
            "cell_type": "markdown",
            "source": "Decorator syntax is supported.  The decorator can be called as\na function to provide keyword arguments:\n",
            "metadata": {}
        },
        {
            "id": "752bfc1a",
            "cell_type": "code",
            "metadata": {},
            "execution_count": null,
            "source": "@np.vectorize\ndef identity(x):\n    return x\n\nidentity([0, 1, 2])",
            "outputs": [
                {
                    "output_type": "execute_result",
                    "metadata": {},
                    "data": {
                        "text/plain": "array([0, 1, 2])"
                    },
                    "execution_count": null
                }
            ]
        },
        {
            "id": "c5c6ac12",
            "cell_type": "code",
            "metadata": {},
            "execution_count": null,
            "source": "@np.vectorize(otypes=[float])\ndef as_float(x):\n    return x\n\nas_float([0, 1, 2])",
            "outputs": [
                {
                    "output_type": "execute_result",
                    "metadata": {},
                    "data": {
                        "text/plain": "array([0., 1., 2.])"
                    },
                    "execution_count": null
                }
            ]
        }
    ]
}