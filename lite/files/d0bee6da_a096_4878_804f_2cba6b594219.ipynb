{
    "nbformat": 4,
    "nbformat_minor": 5,
    "metadata": {
        "kernelspec": {
            "display_name": "Python",
            "language": "python",
            "name": "python"
        },
        "language_info": {
            "name": "python"
        }
    },
    "cells": [
        {
            "id": "74d4cb46",
            "cell_type": "markdown",
            "source": "<div class='alert alert-warning'>\n\nNumPy's interactive examples are experimental and may not always work as expected, with high load times especially on low-resource platforms, and the version of NumPy might not be in sync with the one you are browsing the documentation for. If you encounter any issues, please report them on the [NumPy issue tracker](https://github.com/numpy/numpy/issues).\n\n</div>",
            "metadata": {}
        },
        {
            "id": "9b08d97c",
            "cell_type": "markdown",
            "source": "One dimensional array:\n",
            "metadata": {}
        },
        {
            "id": "3a2b69b5",
            "cell_type": "code",
            "metadata": {},
            "execution_count": null,
            "source": "import numpy as np\nx = np.array([3, 4, 2, 1])\nx[np.argpartition(x, 3)]",
            "outputs": [
                {
                    "output_type": "execute_result",
                    "metadata": {},
                    "data": {
                        "text/plain": "array([2, 1, 3, 4]) # may vary"
                    },
                    "execution_count": null
                }
            ]
        },
        {
            "id": "718d6808",
            "cell_type": "code",
            "metadata": {},
            "execution_count": null,
            "source": "x[np.argpartition(x, (1, 3))]",
            "outputs": [
                {
                    "output_type": "execute_result",
                    "metadata": {},
                    "data": {
                        "text/plain": "array([1, 2, 3, 4]) # may vary"
                    },
                    "execution_count": null
                }
            ]
        },
        {
            "id": "e7a2a037",
            "cell_type": "code",
            "metadata": {},
            "execution_count": null,
            "source": "x = [3, 4, 2, 1]\nnp.array(x)[np.argpartition(x, 3)]",
            "outputs": [
                {
                    "output_type": "execute_result",
                    "metadata": {},
                    "data": {
                        "text/plain": "array([2, 1, 3, 4]) # may vary"
                    },
                    "execution_count": null
                }
            ]
        },
        {
            "id": "23f68a8f",
            "cell_type": "markdown",
            "source": "Multi-dimensional array:\n",
            "metadata": {}
        },
        {
            "id": "7a939647",
            "cell_type": "code",
            "metadata": {},
            "execution_count": null,
            "source": "x = np.array([[3, 4, 2], [1, 3, 1]])\nindex_array = np.argpartition(x, kth=1, axis=-1)\n# below is the same as np.partition(x, kth=1)\nnp.take_along_axis(x, index_array, axis=-1)",
            "outputs": [
                {
                    "output_type": "execute_result",
                    "metadata": {},
                    "data": {
                        "text/plain": "array([[2, 3, 4],\n       [1, 1, 3]])"
                    },
                    "execution_count": null
                }
            ]
        }
    ]
}