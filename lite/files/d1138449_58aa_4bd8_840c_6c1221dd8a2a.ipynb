{
    "nbformat": 4,
    "nbformat_minor": 5,
    "metadata": {
        "kernelspec": {
            "display_name": "Python",
            "language": "python",
            "name": "python"
        },
        "language_info": {
            "name": "python"
        }
    },
    "cells": [
        {
            "id": "158096df",
            "cell_type": "markdown",
            "source": "<div class='alert alert-warning'>\n\nNumPy's interactive examples are experimental and may not always work as expected, with high load times especially on low-resource platforms, and the version of NumPy might not be in sync with the one you are browsing the documentation for. If you encounter any issues, please report them on the [NumPy issue tracker](https://github.com/numpy/numpy/issues).\n\n</div>",
            "metadata": {}
        },
        {
            "id": "2c0f0297",
            "cell_type": "code",
            "metadata": {},
            "execution_count": null,
            "source": "import numpy as np\nimport numpy.ma as ma\na = np.arange(4)\na",
            "outputs": [
                {
                    "output_type": "execute_result",
                    "metadata": {},
                    "data": {
                        "text/plain": "array([0, 1, 2, 3])"
                    },
                    "execution_count": null
                }
            ]
        },
        {
            "id": "6bd9a6f8",
            "cell_type": "code",
            "metadata": {},
            "execution_count": null,
            "source": "ma.masked_where(a <= 2, a)",
            "outputs": [
                {
                    "output_type": "execute_result",
                    "metadata": {},
                    "data": {
                        "text/plain": "masked_array(data=[--, --, --, 3],\n             mask=[ True,  True,  True, False],\n       fill_value=999999)"
                    },
                    "execution_count": null
                }
            ]
        },
        {
            "id": "a7be6ffe",
            "cell_type": "markdown",
            "source": "Mask array `b` conditional on `a`.\n",
            "metadata": {}
        },
        {
            "id": "e8f3e16d",
            "cell_type": "code",
            "metadata": {},
            "execution_count": null,
            "source": "b = ['a', 'b', 'c', 'd']\nma.masked_where(a == 2, b)",
            "outputs": [
                {
                    "output_type": "execute_result",
                    "metadata": {},
                    "data": {
                        "text/plain": "masked_array(data=['a', 'b', --, 'd'],\n             mask=[False, False,  True, False],\n       fill_value='N/A',\n            dtype='<U1')"
                    },
                    "execution_count": null
                }
            ]
        },
        {
            "id": "14ad03f3",
            "cell_type": "markdown",
            "source": "Effect of the `copy` argument.\n",
            "metadata": {}
        },
        {
            "id": "faf2d7ec",
            "cell_type": "code",
            "metadata": {},
            "execution_count": null,
            "source": "c = ma.masked_where(a <= 2, a)\nc",
            "outputs": [
                {
                    "output_type": "execute_result",
                    "metadata": {},
                    "data": {
                        "text/plain": "masked_array(data=[--, --, --, 3],\n             mask=[ True,  True,  True, False],\n       fill_value=999999)"
                    },
                    "execution_count": null
                }
            ]
        },
        {
            "id": "d80ef57d",
            "cell_type": "code",
            "metadata": {},
            "execution_count": null,
            "source": "c[0] = 99\nc",
            "outputs": [
                {
                    "output_type": "execute_result",
                    "metadata": {},
                    "data": {
                        "text/plain": "masked_array(data=[99, --, --, 3],\n             mask=[False,  True,  True, False],\n       fill_value=999999)"
                    },
                    "execution_count": null
                }
            ]
        },
        {
            "id": "dad8bafe",
            "cell_type": "code",
            "metadata": {},
            "execution_count": null,
            "source": "a",
            "outputs": [
                {
                    "output_type": "execute_result",
                    "metadata": {},
                    "data": {
                        "text/plain": "array([0, 1, 2, 3])"
                    },
                    "execution_count": null
                }
            ]
        },
        {
            "id": "6f6363a0",
            "cell_type": "code",
            "metadata": {},
            "execution_count": null,
            "source": "c = ma.masked_where(a <= 2, a, copy=False)\nc[0] = 99\nc",
            "outputs": [
                {
                    "output_type": "execute_result",
                    "metadata": {},
                    "data": {
                        "text/plain": "masked_array(data=[99, --, --, 3],\n             mask=[False,  True,  True, False],\n       fill_value=999999)"
                    },
                    "execution_count": null
                }
            ]
        },
        {
            "id": "46578b4e",
            "cell_type": "code",
            "metadata": {},
            "execution_count": null,
            "source": "a",
            "outputs": [
                {
                    "output_type": "execute_result",
                    "metadata": {},
                    "data": {
                        "text/plain": "array([99,  1,  2,  3])"
                    },
                    "execution_count": null
                }
            ]
        },
        {
            "id": "339523a3",
            "cell_type": "markdown",
            "source": "When `condition` or `a` contain masked values.\n",
            "metadata": {}
        },
        {
            "id": "a44940a3",
            "cell_type": "code",
            "metadata": {},
            "execution_count": null,
            "source": "a = np.arange(4)\na = ma.masked_where(a == 2, a)\na",
            "outputs": [
                {
                    "output_type": "execute_result",
                    "metadata": {},
                    "data": {
                        "text/plain": "masked_array(data=[0, 1, --, 3],\n             mask=[False, False,  True, False],\n       fill_value=999999)"
                    },
                    "execution_count": null
                }
            ]
        },
        {
            "id": "af2ede82",
            "cell_type": "code",
            "metadata": {},
            "execution_count": null,
            "source": "b = np.arange(4)\nb = ma.masked_where(b == 0, b)\nb",
            "outputs": [
                {
                    "output_type": "execute_result",
                    "metadata": {},
                    "data": {
                        "text/plain": "masked_array(data=[--, 1, 2, 3],\n             mask=[ True, False, False, False],\n       fill_value=999999)"
                    },
                    "execution_count": null
                }
            ]
        },
        {
            "id": "0836a6a4",
            "cell_type": "code",
            "metadata": {},
            "execution_count": null,
            "source": "ma.masked_where(a == 3, b)",
            "outputs": [
                {
                    "output_type": "execute_result",
                    "metadata": {},
                    "data": {
                        "text/plain": "masked_array(data=[--, 1, --, --],\n             mask=[ True, False,  True,  True],\n       fill_value=999999)"
                    },
                    "execution_count": null
                }
            ]
        }
    ]
}