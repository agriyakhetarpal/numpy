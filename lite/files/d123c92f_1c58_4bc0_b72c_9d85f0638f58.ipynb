{
    "nbformat": 4,
    "nbformat_minor": 5,
    "metadata": {
        "kernelspec": {
            "display_name": "Python",
            "language": "python",
            "name": "python"
        },
        "language_info": {
            "name": "python"
        }
    },
    "cells": [
        {
            "id": "bfb974ca",
            "cell_type": "markdown",
            "source": "<div class='alert alert-warning'>\n\nNumPy's interactive examples are experimental and may not always work as expected, with high load times especially on low-resource platforms, , and the version of NumPy might not be in sync with the one you are browsing the documentation for. If you encounter any issues, please report them on the [NumPy issue tracker](https://github.com/numpy/numpy/issues).\n\n</div>",
            "metadata": {}
        },
        {
            "id": "ffb8e27a",
            "cell_type": "code",
            "metadata": {},
            "execution_count": null,
            "source": "import numpy as np\na = np.array([[10, 7, 4], [3, 2, 1]])\na",
            "outputs": [
                {
                    "output_type": "execute_result",
                    "metadata": {},
                    "data": {
                        "text/plain": "array([[10,  7,  4],\n       [ 3,  2,  1]])"
                    },
                    "execution_count": null
                }
            ]
        },
        {
            "id": "7b01a91a",
            "cell_type": "code",
            "metadata": {},
            "execution_count": null,
            "source": "np.quantile(a, 0.5)",
            "outputs": [
                {
                    "output_type": "execute_result",
                    "metadata": {},
                    "data": {
                        "text/plain": "3.5"
                    },
                    "execution_count": null
                }
            ]
        },
        {
            "id": "5cc698f9",
            "cell_type": "code",
            "metadata": {},
            "execution_count": null,
            "source": "np.quantile(a, 0.5, axis=0)",
            "outputs": [
                {
                    "output_type": "execute_result",
                    "metadata": {},
                    "data": {
                        "text/plain": "array([6.5, 4.5, 2.5])"
                    },
                    "execution_count": null
                }
            ]
        },
        {
            "id": "1b7f5ff3",
            "cell_type": "code",
            "metadata": {},
            "execution_count": null,
            "source": "np.quantile(a, 0.5, axis=1)",
            "outputs": [
                {
                    "output_type": "execute_result",
                    "metadata": {},
                    "data": {
                        "text/plain": "array([7.,  2.])"
                    },
                    "execution_count": null
                }
            ]
        },
        {
            "id": "bac2008a",
            "cell_type": "code",
            "metadata": {},
            "execution_count": null,
            "source": "np.quantile(a, 0.5, axis=1, keepdims=True)",
            "outputs": [
                {
                    "output_type": "execute_result",
                    "metadata": {},
                    "data": {
                        "text/plain": "array([[7.],\n       [2.]])"
                    },
                    "execution_count": null
                }
            ]
        },
        {
            "id": "2f9ca719",
            "cell_type": "code",
            "metadata": {},
            "execution_count": null,
            "source": "m = np.quantile(a, 0.5, axis=0)\nout = np.zeros_like(m)\nnp.quantile(a, 0.5, axis=0, out=out)",
            "outputs": [
                {
                    "output_type": "execute_result",
                    "metadata": {},
                    "data": {
                        "text/plain": "array([6.5, 4.5, 2.5])"
                    },
                    "execution_count": null
                }
            ]
        },
        {
            "id": "70d7ab3b",
            "cell_type": "code",
            "metadata": {},
            "execution_count": null,
            "source": "m",
            "outputs": [
                {
                    "output_type": "execute_result",
                    "metadata": {},
                    "data": {
                        "text/plain": "array([6.5, 4.5, 2.5])"
                    },
                    "execution_count": null
                }
            ]
        },
        {
            "id": "3ca24a3a",
            "cell_type": "code",
            "metadata": {},
            "execution_count": null,
            "source": "b = a.copy()\nnp.quantile(b, 0.5, axis=1, overwrite_input=True)",
            "outputs": [
                {
                    "output_type": "execute_result",
                    "metadata": {},
                    "data": {
                        "text/plain": "array([7.,  2.])"
                    },
                    "execution_count": null
                }
            ]
        },
        {
            "id": "22c5028f",
            "cell_type": "code",
            "metadata": {},
            "execution_count": null,
            "source": "assert not np.all(a == b)",
            "outputs": []
        },
        {
            "id": "68e0eb06",
            "cell_type": "markdown",
            "source": "See also `numpy.percentile` for a visualization of most methods.",
            "metadata": {}
        }
    ]
}