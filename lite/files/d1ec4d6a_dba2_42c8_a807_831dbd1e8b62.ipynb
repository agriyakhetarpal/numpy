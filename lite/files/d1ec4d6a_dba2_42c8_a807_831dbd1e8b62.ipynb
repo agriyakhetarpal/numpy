{
    "nbformat": 4,
    "nbformat_minor": 5,
    "metadata": {
        "kernelspec": {
            "display_name": "Python",
            "language": "python",
            "name": "python"
        },
        "language_info": {
            "name": "python"
        }
    },
    "cells": [
        {
            "id": "c7c9c1ab",
            "cell_type": "markdown",
            "source": "<div class='alert alert-warning'>\n\nNumPy's interactive examples are experimental and may not always work as expected, with high load times especially on low-resource platforms, and the version of NumPy might not be in sync with the one you are browsing the documentation for. If you encounter any issues, please report them on the [NumPy issue tracker](https://github.com/numpy/numpy/issues).\n\n</div>",
            "metadata": {}
        },
        {
            "id": "ae019706",
            "cell_type": "code",
            "metadata": {},
            "execution_count": null,
            "source": "import numpy as np\na = np.array([\"Computer Science\"])\nnp.strings.rfind(a, \"Science\", start=0, end=None)",
            "outputs": [
                {
                    "output_type": "execute_result",
                    "metadata": {},
                    "data": {
                        "text/plain": "array([9])"
                    },
                    "execution_count": null
                }
            ]
        },
        {
            "id": "ac18a6fe",
            "cell_type": "code",
            "metadata": {},
            "execution_count": null,
            "source": "np.strings.rfind(a, \"Science\", start=0, end=8)",
            "outputs": [
                {
                    "output_type": "execute_result",
                    "metadata": {},
                    "data": {
                        "text/plain": "array([-1])"
                    },
                    "execution_count": null
                }
            ]
        },
        {
            "id": "0e236b60",
            "cell_type": "code",
            "metadata": {},
            "execution_count": null,
            "source": "b = np.array([\"Computer Science\", \"Science\"])\nnp.strings.rfind(b, \"Science\", start=0, end=None)",
            "outputs": [
                {
                    "output_type": "execute_result",
                    "metadata": {},
                    "data": {
                        "text/plain": "array([9, 0])"
                    },
                    "execution_count": null
                }
            ]
        }
    ]
}