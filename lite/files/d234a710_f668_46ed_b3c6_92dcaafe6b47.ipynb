{
    "nbformat": 4,
    "nbformat_minor": 5,
    "metadata": {
        "kernelspec": {
            "display_name": "Python",
            "language": "python",
            "name": "python"
        },
        "language_info": {
            "name": "python"
        }
    },
    "cells": [
        {
            "id": "a9521f89",
            "cell_type": "markdown",
            "source": "<div class='alert alert-warning'>\n\nNumPy's interactive examples are experimental and may not always work as expected, with high load times especially on low-resource platforms, and the version of NumPy might not be in sync with the one you are browsing the documentation for. If you encounter any issues, please report them on the [NumPy issue tracker](https://github.com/numpy/numpy/issues).\n\n</div>",
            "metadata": {}
        },
        {
            "id": "4d9ddf34",
            "cell_type": "code",
            "metadata": {},
            "execution_count": null,
            "source": "import numpy as np",
            "outputs": []
        },
        {
            "id": "0a3e9cb6",
            "cell_type": "code",
            "metadata": {},
            "execution_count": null,
            "source": "a = np.array([-1.7, -1.5, -0.2, 0.2, 1.5, 1.7, 2.0])\nnp.ceil(a)",
            "outputs": [
                {
                    "output_type": "execute_result",
                    "metadata": {},
                    "data": {
                        "text/plain": "array([-1., -1., -0.,  1.,  2.,  2.,  2.])"
                    },
                    "execution_count": null
                }
            ]
        }
    ]
}