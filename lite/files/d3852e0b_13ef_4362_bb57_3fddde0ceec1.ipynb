{
    "nbformat": 4,
    "nbformat_minor": 5,
    "metadata": {
        "kernelspec": {
            "display_name": "Python",
            "language": "python",
            "name": "python"
        },
        "language_info": {
            "name": "python"
        }
    },
    "cells": [
        {
            "id": "e4e9dcef",
            "cell_type": "markdown",
            "source": "<div class='alert alert-warning'>\n\nNumPy's interactive examples are experimental and may not always work as expected, with high load times especially on low-resource platforms, and the version of NumPy might not be in sync with the one you are browsing the documentation for. If you encounter any issues, please report them on the [NumPy issue tracker](https://github.com/numpy/numpy/issues).\n\n</div>",
            "metadata": {}
        },
        {
            "id": "5e9e9129",
            "cell_type": "code",
            "metadata": {},
            "execution_count": null,
            "source": "a = np.arange(3 * 4 * 5 * 6).reshape(3, 4, 5, 6)\na_itor = np.lib.Arrayterator(a, 2)",
            "outputs": []
        },
        {
            "id": "8804aaeb",
            "cell_type": "code",
            "metadata": {},
            "execution_count": null,
            "source": "for subarr in a_itor.flat:\n    if not subarr:\n        print(subarr, type(subarr))\n",
            "outputs": [
                {
                    "output_type": "execute_result",
                    "metadata": {},
                    "data": {
                        "text/plain": "0 <class 'numpy.int64'>"
                    },
                    "execution_count": null
                }
            ]
        }
    ]
}