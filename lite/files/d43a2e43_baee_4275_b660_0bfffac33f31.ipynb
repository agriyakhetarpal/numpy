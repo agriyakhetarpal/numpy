{
    "nbformat": 4,
    "nbformat_minor": 5,
    "metadata": {
        "kernelspec": {
            "display_name": "Python",
            "language": "python",
            "name": "python"
        },
        "language_info": {
            "name": "python"
        }
    },
    "cells": [
        {
            "id": "e2e6d9d6",
            "cell_type": "markdown",
            "source": "<div class='alert alert-warning'>\n\nNumPy's interactive examples are experimental and may not always work as expected, with high load times especially on low-resource platforms, , and the version of NumPy might not be in sync with the one you are browsing the documentation for. If you encounter any issues, please report them on the [NumPy issue tracker](https://github.com/numpy/numpy/issues).\n\n</div>",
            "metadata": {}
        },
        {
            "id": "42a752e9",
            "cell_type": "code",
            "metadata": {},
            "execution_count": null,
            "source": "import numpy as np\nnp.geterrcall()  # we did not yet set a handler, returns None",
            "outputs": []
        },
        {
            "id": "b5e852db",
            "cell_type": "code",
            "metadata": {},
            "execution_count": null,
            "source": "orig_settings = np.seterr(all='call')\ndef err_handler(type, flag):\n    print(\"Floating point error (%s), with flag %s\" % (type, flag))\nold_handler = np.seterrcall(err_handler)\nnp.array([1, 2, 3]) / 0.0",
            "outputs": [
                {
                    "output_type": "execute_result",
                    "metadata": {},
                    "data": {
                        "text/plain": "Floating point error (divide by zero), with flag 1\narray([inf, inf, inf])"
                    },
                    "execution_count": null
                }
            ]
        },
        {
            "id": "340c6965",
            "cell_type": "code",
            "metadata": {},
            "execution_count": null,
            "source": "cur_handler = np.geterrcall()\ncur_handler is err_handler",
            "outputs": [
                {
                    "output_type": "execute_result",
                    "metadata": {},
                    "data": {
                        "text/plain": "True"
                    },
                    "execution_count": null
                }
            ]
        },
        {
            "id": "d1dfb00c",
            "cell_type": "code",
            "metadata": {},
            "execution_count": null,
            "source": "old_settings = np.seterr(**orig_settings)  # restore original\nold_handler = np.seterrcall(None)  # restore original",
            "outputs": []
        }
    ]
}