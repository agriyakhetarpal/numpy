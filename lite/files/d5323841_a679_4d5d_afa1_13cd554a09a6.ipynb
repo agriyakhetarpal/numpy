{
    "nbformat": 4,
    "nbformat_minor": 5,
    "metadata": {
        "kernelspec": {
            "display_name": "Python",
            "language": "python",
            "name": "python"
        },
        "language_info": {
            "name": "python"
        }
    },
    "cells": [
        {
            "id": "6b722e41",
            "cell_type": "markdown",
            "source": "<div class='alert alert-warning'>\n\nNumPy's interactive examples are experimental and may not always work as expected, with high load times especially on low-resource platforms, and the version of NumPy might not be in sync with the one you are browsing the documentation for. If you encounter any issues, please report them on the [NumPy issue tracker](https://github.com/numpy/numpy/issues).\n\n</div>",
            "metadata": {}
        },
        {
            "id": "72c5d424",
            "cell_type": "markdown",
            "source": "Data-type with fields ``big`` (big-endian 32-bit integer) and\n``little`` (little-endian 32-bit integer):\n",
            "metadata": {}
        },
        {
            "id": "d513caef",
            "cell_type": "code",
            "metadata": {},
            "execution_count": null,
            "source": "import numpy as np",
            "outputs": []
        },
        {
            "id": "eed5fa94",
            "cell_type": "code",
            "metadata": {},
            "execution_count": null,
            "source": "dt = np.dtype([('big', '>i4'), ('little', '<i4')])",
            "outputs": []
        },
        {
            "id": "f054cc04",
            "cell_type": "markdown",
            "source": "Data-type with fields ``R``, ``G``, ``B``, ``A``, each being an\nunsigned 8-bit integer:\n",
            "metadata": {}
        },
        {
            "id": "3e9b4f00",
            "cell_type": "code",
            "metadata": {},
            "execution_count": null,
            "source": "dt = np.dtype([('R','u1'), ('G','u1'), ('B','u1'), ('A','u1')])",
            "outputs": []
        }
    ]
}