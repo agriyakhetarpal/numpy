{
    "nbformat": 4,
    "nbformat_minor": 5,
    "metadata": {
        "kernelspec": {
            "display_name": "Python",
            "language": "python",
            "name": "python"
        },
        "language_info": {
            "name": "python"
        }
    },
    "cells": [
        {
            "id": "ed746474",
            "cell_type": "markdown",
            "source": "<div class='alert alert-warning'>\n\nNumPy's interactive examples are experimental and may not always work as expected, with high load times especially on low-resource platforms, and the version of NumPy might not be in sync with the one you are browsing the documentation for. If you encounter any issues, please report them on the [NumPy issue tracker](https://github.com/numpy/numpy/issues).\n\n</div>",
            "metadata": {}
        },
        {
            "id": "97a78829",
            "cell_type": "code",
            "metadata": {},
            "execution_count": null,
            "source": "import numpy as np\norig_settings = np.seterr(all='ignore')  # seterr to known value\nnp.int16(32000) * np.int16(3)",
            "outputs": [
                {
                    "output_type": "execute_result",
                    "metadata": {},
                    "data": {
                        "text/plain": "np.int16(30464)"
                    },
                    "execution_count": null
                }
            ]
        },
        {
            "id": "647ff377",
            "cell_type": "code",
            "metadata": {},
            "execution_count": null,
            "source": "np.seterr(over='raise')",
            "outputs": [
                {
                    "output_type": "execute_result",
                    "metadata": {},
                    "data": {
                        "text/plain": "{'divide': 'ignore', 'over': 'ignore', 'under': 'ignore', 'invalid': 'ignore'}"
                    },
                    "execution_count": null
                }
            ]
        },
        {
            "id": "38238c19",
            "cell_type": "code",
            "metadata": {},
            "execution_count": null,
            "source": "old_settings = np.seterr(all='warn', over='raise')\nnp.int16(32000) * np.int16(3)",
            "outputs": [
                {
                    "output_type": "execute_result",
                    "metadata": {},
                    "data": {
                        "text/plain": "Traceback (most recent call last):\n  File \"<stdin>\", line 1, in <module>\nFloatingPointError: overflow encountered in scalar multiply"
                    },
                    "execution_count": null
                }
            ]
        },
        {
            "id": "04b56574",
            "cell_type": "code",
            "metadata": {},
            "execution_count": null,
            "source": "old_settings = np.seterr(all='print')\nnp.geterr()",
            "outputs": [
                {
                    "output_type": "execute_result",
                    "metadata": {},
                    "data": {
                        "text/plain": "{'divide': 'print', 'over': 'print', 'under': 'print', 'invalid': 'print'}"
                    },
                    "execution_count": null
                }
            ]
        },
        {
            "id": "9cb701da",
            "cell_type": "code",
            "metadata": {},
            "execution_count": null,
            "source": "np.int16(32000) * np.int16(3)",
            "outputs": [
                {
                    "output_type": "execute_result",
                    "metadata": {},
                    "data": {
                        "text/plain": "np.int16(30464)"
                    },
                    "execution_count": null
                }
            ]
        },
        {
            "id": "b7434538",
            "cell_type": "code",
            "metadata": {},
            "execution_count": null,
            "source": "np.seterr(**orig_settings)  # restore original",
            "outputs": [
                {
                    "output_type": "execute_result",
                    "metadata": {},
                    "data": {
                        "text/plain": "{'divide': 'print', 'over': 'print', 'under': 'print', 'invalid': 'print'}"
                    },
                    "execution_count": null
                }
            ]
        }
    ]
}