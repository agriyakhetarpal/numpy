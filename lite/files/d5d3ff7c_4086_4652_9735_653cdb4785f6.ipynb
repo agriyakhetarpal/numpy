{
    "nbformat": 4,
    "nbformat_minor": 5,
    "metadata": {
        "kernelspec": {
            "display_name": "Python",
            "language": "python",
            "name": "python"
        },
        "language_info": {
            "name": "python"
        }
    },
    "cells": [
        {
            "id": "21fefa8d",
            "cell_type": "markdown",
            "source": "<div class='alert alert-warning'>\n\nNumPy's interactive examples are experimental and may not always work as expected, with high load times especially on low-resource platforms, and the version of NumPy might not be in sync with the one you are browsing the documentation for. If you encounter any issues, please report them on the [NumPy issue tracker](https://github.com/numpy/numpy/issues).\n\n</div>",
            "metadata": {}
        },
        {
            "id": "696f912a",
            "cell_type": "code",
            "metadata": {},
            "execution_count": null,
            "source": "import numpy as np\nnp.hypot(3*np.ones((3, 3)), 4*np.ones((3, 3)))",
            "outputs": [
                {
                    "output_type": "execute_result",
                    "metadata": {},
                    "data": {
                        "text/plain": "array([[ 5.,  5.,  5.],\n       [ 5.,  5.,  5.],\n       [ 5.,  5.,  5.]])"
                    },
                    "execution_count": null
                }
            ]
        },
        {
            "id": "56b4cab3",
            "cell_type": "markdown",
            "source": "Example showing broadcast of scalar_like argument:\n",
            "metadata": {}
        },
        {
            "id": "74051a1f",
            "cell_type": "code",
            "metadata": {},
            "execution_count": null,
            "source": "np.hypot(3*np.ones((3, 3)), [4])",
            "outputs": [
                {
                    "output_type": "execute_result",
                    "metadata": {},
                    "data": {
                        "text/plain": "array([[ 5.,  5.,  5.],\n       [ 5.,  5.,  5.],\n       [ 5.,  5.,  5.]])"
                    },
                    "execution_count": null
                }
            ]
        }
    ]
}