{
    "nbformat": 4,
    "nbformat_minor": 5,
    "metadata": {
        "kernelspec": {
            "display_name": "Python",
            "language": "python",
            "name": "python"
        },
        "language_info": {
            "name": "python"
        }
    },
    "cells": [
        {
            "id": "97ca686e",
            "cell_type": "markdown",
            "source": "<div class='alert alert-warning'>\n\nNumPy's interactive examples are experimental and may not always work as expected, with high load times especially on low-resource platforms, , and the version of NumPy might not be in sync with the one you are browsing the documentation for. If you encounter any issues, please report them on the [NumPy issue tracker](https://github.com/numpy/numpy/issues).\n\n</div>",
            "metadata": {}
        },
        {
            "id": "2de4403e",
            "cell_type": "markdown",
            "source": "One dimensional array:\n",
            "metadata": {}
        },
        {
            "id": "7c8aae72",
            "cell_type": "code",
            "metadata": {},
            "execution_count": null,
            "source": "import numpy as np\nx = np.array([3, 1, 2])\nnp.argsort(x)",
            "outputs": [
                {
                    "output_type": "execute_result",
                    "metadata": {},
                    "data": {
                        "text/plain": "array([1, 2, 0])"
                    },
                    "execution_count": null
                }
            ]
        },
        {
            "id": "7e49177f",
            "cell_type": "markdown",
            "source": "Two-dimensional array:\n",
            "metadata": {}
        },
        {
            "id": "170aa82b",
            "cell_type": "code",
            "metadata": {},
            "execution_count": null,
            "source": "x = np.array([[0, 3], [2, 2]])\nx",
            "outputs": [
                {
                    "output_type": "execute_result",
                    "metadata": {},
                    "data": {
                        "text/plain": "array([[0, 3],\n       [2, 2]])"
                    },
                    "execution_count": null
                }
            ]
        },
        {
            "id": "382de522",
            "cell_type": "code",
            "metadata": {},
            "execution_count": null,
            "source": "ind = np.argsort(x, axis=0)  # sorts along first axis (down)\nind",
            "outputs": [
                {
                    "output_type": "execute_result",
                    "metadata": {},
                    "data": {
                        "text/plain": "array([[0, 1],\n       [1, 0]])"
                    },
                    "execution_count": null
                }
            ]
        },
        {
            "id": "08044c86",
            "cell_type": "code",
            "metadata": {},
            "execution_count": null,
            "source": "np.take_along_axis(x, ind, axis=0)  # same as np.sort(x, axis=0)",
            "outputs": [
                {
                    "output_type": "execute_result",
                    "metadata": {},
                    "data": {
                        "text/plain": "array([[0, 2],\n       [2, 3]])"
                    },
                    "execution_count": null
                }
            ]
        },
        {
            "id": "d9d5c5e7",
            "cell_type": "code",
            "metadata": {},
            "execution_count": null,
            "source": "ind = np.argsort(x, axis=1)  # sorts along last axis (across)\nind",
            "outputs": [
                {
                    "output_type": "execute_result",
                    "metadata": {},
                    "data": {
                        "text/plain": "array([[0, 1],\n       [0, 1]])"
                    },
                    "execution_count": null
                }
            ]
        },
        {
            "id": "435847c0",
            "cell_type": "code",
            "metadata": {},
            "execution_count": null,
            "source": "np.take_along_axis(x, ind, axis=1)  # same as np.sort(x, axis=1)",
            "outputs": [
                {
                    "output_type": "execute_result",
                    "metadata": {},
                    "data": {
                        "text/plain": "array([[0, 3],\n       [2, 2]])"
                    },
                    "execution_count": null
                }
            ]
        },
        {
            "id": "874f8633",
            "cell_type": "markdown",
            "source": "Indices of the sorted elements of a N-dimensional array:\n",
            "metadata": {}
        },
        {
            "id": "db4ad125",
            "cell_type": "code",
            "metadata": {},
            "execution_count": null,
            "source": "ind = np.unravel_index(np.argsort(x, axis=None), x.shape)\nind",
            "outputs": [
                {
                    "output_type": "execute_result",
                    "metadata": {},
                    "data": {
                        "text/plain": "(array([0, 1, 1, 0]), array([0, 0, 1, 1]))"
                    },
                    "execution_count": null
                }
            ]
        },
        {
            "id": "782cf79b",
            "cell_type": "code",
            "metadata": {},
            "execution_count": null,
            "source": "x[ind]  # same as np.sort(x, axis=None)",
            "outputs": [
                {
                    "output_type": "execute_result",
                    "metadata": {},
                    "data": {
                        "text/plain": "array([0, 2, 2, 3])"
                    },
                    "execution_count": null
                }
            ]
        },
        {
            "id": "0bda4317",
            "cell_type": "markdown",
            "source": "Sorting with keys:\n",
            "metadata": {}
        },
        {
            "id": "6875ebb6",
            "cell_type": "code",
            "metadata": {},
            "execution_count": null,
            "source": "x = np.array([(1, 0), (0, 1)], dtype=[('x', '<i4'), ('y', '<i4')])\nx",
            "outputs": [
                {
                    "output_type": "execute_result",
                    "metadata": {},
                    "data": {
                        "text/plain": "array([(1, 0), (0, 1)],\n      dtype=[('x', '<i4'), ('y', '<i4')])"
                    },
                    "execution_count": null
                }
            ]
        },
        {
            "id": "433a49de",
            "cell_type": "code",
            "metadata": {},
            "execution_count": null,
            "source": "np.argsort(x, order=('x','y'))",
            "outputs": [
                {
                    "output_type": "execute_result",
                    "metadata": {},
                    "data": {
                        "text/plain": "array([1, 0])"
                    },
                    "execution_count": null
                }
            ]
        },
        {
            "id": "87ffb758",
            "cell_type": "code",
            "metadata": {},
            "execution_count": null,
            "source": "np.argsort(x, order=('y','x'))",
            "outputs": [
                {
                    "output_type": "execute_result",
                    "metadata": {},
                    "data": {
                        "text/plain": "array([0, 1])"
                    },
                    "execution_count": null
                }
            ]
        }
    ]
}