{
    "nbformat": 4,
    "nbformat_minor": 5,
    "metadata": {
        "kernelspec": {
            "display_name": "Python",
            "language": "python",
            "name": "python"
        },
        "language_info": {
            "name": "python"
        }
    },
    "cells": [
        {
            "id": "fc04a857",
            "cell_type": "markdown",
            "source": "<div class='alert alert-warning'>\n\nNumPy's interactive examples are experimental and may not always work as expected, with high load times especially on low-resource platforms, , and the version of NumPy might not be in sync with the one you are browsing the documentation for. If you encounter any issues, please report them on the [NumPy issue tracker](https://github.com/numpy/numpy/issues).\n\n</div>",
            "metadata": {}
        },
        {
            "id": "a5140e7a",
            "cell_type": "code",
            "metadata": {},
            "execution_count": null,
            "source": "import numpy as np\nimport numpy.ma as ma\ndtype = np.dtype({'names':['foo', 'bar'],\n                  'formats':[np.float32, np.int64]})\ndtype",
            "outputs": [
                {
                    "output_type": "execute_result",
                    "metadata": {},
                    "data": {
                        "text/plain": "dtype([('foo', '<f4'), ('bar', '<i8')])"
                    },
                    "execution_count": null
                }
            ]
        },
        {
            "id": "190b5020",
            "cell_type": "code",
            "metadata": {},
            "execution_count": null,
            "source": "ma.make_mask_descr(dtype)",
            "outputs": [
                {
                    "output_type": "execute_result",
                    "metadata": {},
                    "data": {
                        "text/plain": "dtype([('foo', '|b1'), ('bar', '|b1')])"
                    },
                    "execution_count": null
                }
            ]
        },
        {
            "id": "8fa5b812",
            "cell_type": "code",
            "metadata": {},
            "execution_count": null,
            "source": "ma.make_mask_descr(np.float32)",
            "outputs": [
                {
                    "output_type": "execute_result",
                    "metadata": {},
                    "data": {
                        "text/plain": "dtype('bool')"
                    },
                    "execution_count": null
                }
            ]
        }
    ]
}