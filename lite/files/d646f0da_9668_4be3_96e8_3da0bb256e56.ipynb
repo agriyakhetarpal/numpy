{
    "nbformat": 4,
    "nbformat_minor": 5,
    "metadata": {
        "kernelspec": {
            "display_name": "Python",
            "language": "python",
            "name": "python"
        },
        "language_info": {
            "name": "python"
        }
    },
    "cells": [
        {
            "id": "9d361dce",
            "cell_type": "markdown",
            "source": "<div class='alert alert-warning'>\n\nNumPy's interactive examples are experimental and may not always work as expected, with high load times especially on low-resource platforms, , and the version of NumPy might not be in sync with the one you are browsing the documentation for. If you encounter any issues, please report them on the [NumPy issue tracker](https://github.com/numpy/numpy/issues).\n\n</div>",
            "metadata": {}
        },
        {
            "id": "a11d6e93",
            "cell_type": "markdown",
            "source": "Throw a dice 20 times:\n",
            "metadata": {}
        },
        {
            "id": "44ef5e05",
            "cell_type": "code",
            "metadata": {},
            "execution_count": null,
            "source": "rng = np.random.default_rng()\nrng.multinomial(20, [1/6.]*6, size=1)",
            "outputs": [
                {
                    "output_type": "execute_result",
                    "metadata": {},
                    "data": {
                        "text/plain": "array([[4, 1, 7, 5, 2, 1]])  # random"
                    },
                    "execution_count": null
                }
            ]
        },
        {
            "id": "b493d7f2",
            "cell_type": "markdown",
            "source": "It landed 4 times on 1, once on 2, etc.\n\nNow, throw the dice 20 times, and 20 times again:\n",
            "metadata": {}
        },
        {
            "id": "3f59b72c",
            "cell_type": "code",
            "metadata": {},
            "execution_count": null,
            "source": "rng.multinomial(20, [1/6.]*6, size=2)",
            "outputs": [
                {
                    "output_type": "execute_result",
                    "metadata": {},
                    "data": {
                        "text/plain": "array([[3, 4, 3, 3, 4, 3],\n       [2, 4, 3, 4, 0, 7]])  # random"
                    },
                    "execution_count": null
                }
            ]
        },
        {
            "id": "f75eb5b5",
            "cell_type": "markdown",
            "source": "For the first run, we threw 3 times 1, 4 times 2, etc.  For the second,\nwe threw 2 times 1, 4 times 2, etc.\n\nNow, do one experiment throwing the dice 10 time, and 10 times again,\nand another throwing the dice 20 times, and 20 times again:\n",
            "metadata": {}
        },
        {
            "id": "f2ad6259",
            "cell_type": "code",
            "metadata": {},
            "execution_count": null,
            "source": "rng.multinomial([[10], [20]], [1/6.]*6, size=(2, 2))",
            "outputs": [
                {
                    "output_type": "execute_result",
                    "metadata": {},
                    "data": {
                        "text/plain": "array([[[2, 4, 0, 1, 2, 1],\n        [1, 3, 0, 3, 1, 2]],\n       [[1, 4, 4, 4, 4, 3],\n        [3, 3, 2, 5, 5, 2]]])  # random"
                    },
                    "execution_count": null
                }
            ]
        },
        {
            "id": "0fb23c01",
            "cell_type": "markdown",
            "source": "The first array shows the outcomes of throwing the dice 10 times, and\nthe second shows the outcomes from throwing the dice 20 times.\n\nA loaded die is more likely to land on number 6:\n",
            "metadata": {}
        },
        {
            "id": "44ab40c4",
            "cell_type": "code",
            "metadata": {},
            "execution_count": null,
            "source": "rng.multinomial(100, [1/7.]*5 + [2/7.])",
            "outputs": [
                {
                    "output_type": "execute_result",
                    "metadata": {},
                    "data": {
                        "text/plain": "array([11, 16, 14, 17, 16, 26])  # random"
                    },
                    "execution_count": null
                }
            ]
        },
        {
            "id": "ed259bcf",
            "cell_type": "markdown",
            "source": "Simulate 10 throws of a 4-sided die and 20 throws of a 6-sided die\n",
            "metadata": {}
        },
        {
            "id": "a96418d3",
            "cell_type": "code",
            "metadata": {},
            "execution_count": null,
            "source": "rng.multinomial([10, 20],[[1/4]*4 + [0]*2, [1/6]*6])",
            "outputs": [
                {
                    "output_type": "execute_result",
                    "metadata": {},
                    "data": {
                        "text/plain": "array([[2, 1, 4, 3, 0, 0],\n       [3, 3, 3, 6, 1, 4]], dtype=int64)  # random"
                    },
                    "execution_count": null
                }
            ]
        },
        {
            "id": "d059a922",
            "cell_type": "markdown",
            "source": "Generate categorical random variates from two categories where the\nfirst has 3 outcomes and the second has 2.\n",
            "metadata": {}
        },
        {
            "id": "0341585a",
            "cell_type": "code",
            "metadata": {},
            "execution_count": null,
            "source": "rng.multinomial(1, [[.1, .5, .4 ], [.3, .7, .0]])",
            "outputs": [
                {
                    "output_type": "execute_result",
                    "metadata": {},
                    "data": {
                        "text/plain": "array([[0, 0, 1],\n       [0, 1, 0]], dtype=int64)  # random"
                    },
                    "execution_count": null
                }
            ]
        },
        {
            "id": "86cd10d2",
            "cell_type": "markdown",
            "source": "``argmax(axis=-1)`` is then used to return the categories.\n",
            "metadata": {}
        },
        {
            "id": "61df4202",
            "cell_type": "code",
            "metadata": {},
            "execution_count": null,
            "source": "pvals = [[.1, .5, .4 ], [.3, .7, .0]]\nrvs = rng.multinomial(1, pvals, size=(4,2))\nrvs.argmax(axis=-1)",
            "outputs": [
                {
                    "output_type": "execute_result",
                    "metadata": {},
                    "data": {
                        "text/plain": "array([[0, 1],\n       [2, 0],\n       [2, 1],\n       [2, 0]], dtype=int64)  # random"
                    },
                    "execution_count": null
                }
            ]
        },
        {
            "id": "205f549c",
            "cell_type": "markdown",
            "source": "The same output dimension can be produced using broadcasting.\n",
            "metadata": {}
        },
        {
            "id": "769fcd8c",
            "cell_type": "code",
            "metadata": {},
            "execution_count": null,
            "source": "rvs = rng.multinomial([[1]] * 4, pvals)\nrvs.argmax(axis=-1)",
            "outputs": [
                {
                    "output_type": "execute_result",
                    "metadata": {},
                    "data": {
                        "text/plain": "array([[0, 1],\n       [2, 0],\n       [2, 1],\n       [2, 0]], dtype=int64)  # random"
                    },
                    "execution_count": null
                }
            ]
        },
        {
            "id": "11cec26d",
            "cell_type": "markdown",
            "source": "The probability inputs should be normalized. As an implementation\ndetail, the value of the last entry is ignored and assumed to take\nup any leftover probability mass, but this should not be relied on.\nA biased coin which has twice as much weight on one side as on the\nother should be sampled like so:\n",
            "metadata": {}
        },
        {
            "id": "06806c41",
            "cell_type": "code",
            "metadata": {},
            "execution_count": null,
            "source": "rng.multinomial(100, [1.0 / 3, 2.0 / 3])  # RIGHT",
            "outputs": [
                {
                    "output_type": "execute_result",
                    "metadata": {},
                    "data": {
                        "text/plain": "array([38, 62])  # random"
                    },
                    "execution_count": null
                }
            ]
        },
        {
            "id": "60335752",
            "cell_type": "markdown",
            "source": "not like:\n",
            "metadata": {}
        },
        {
            "id": "d642bea9",
            "cell_type": "code",
            "metadata": {},
            "execution_count": null,
            "source": "rng.multinomial(100, [1.0, 2.0])  # WRONG",
            "outputs": [
                {
                    "output_type": "execute_result",
                    "metadata": {},
                    "data": {
                        "text/plain": "Traceback (most recent call last):\nValueError: pvals < 0, pvals > 1 or pvals contains NaNs"
                    },
                    "execution_count": null
                }
            ]
        }
    ]
}