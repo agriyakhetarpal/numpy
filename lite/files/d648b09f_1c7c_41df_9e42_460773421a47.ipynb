{
    "nbformat": 4,
    "nbformat_minor": 5,
    "metadata": {
        "kernelspec": {
            "display_name": "Python",
            "language": "python",
            "name": "python"
        },
        "language_info": {
            "name": "python"
        }
    },
    "cells": [
        {
            "id": "0d9dc6ea",
            "cell_type": "markdown",
            "source": "<div class='alert alert-warning'>\n\nNumPy's interactive examples are experimental and may not always work as expected, with high load times especially on low-resource platforms, and the version of NumPy might not be in sync with the one you are browsing the documentation for. If you encounter any issues, please report them on the [NumPy issue tracker](https://github.com/numpy/numpy/issues).\n\n</div>",
            "metadata": {}
        },
        {
            "id": "7460ef96",
            "cell_type": "markdown",
            "source": ".. math:: \\frac{3x^2 + 5x + 2}{2x + 1} = 1.5x + 1.75, remainder 0.25\n",
            "metadata": {}
        },
        {
            "id": "81e88f42",
            "cell_type": "code",
            "metadata": {},
            "execution_count": null,
            "source": "import numpy as np",
            "outputs": []
        },
        {
            "id": "3dd0edf2",
            "cell_type": "code",
            "metadata": {},
            "execution_count": null,
            "source": "x = np.array([3.0, 5.0, 2.0])\ny = np.array([2.0, 1.0])\nnp.polydiv(x, y)",
            "outputs": [
                {
                    "output_type": "execute_result",
                    "metadata": {},
                    "data": {
                        "text/plain": "(array([1.5 , 1.75]), array([0.25]))"
                    },
                    "execution_count": null
                }
            ]
        }
    ]
}