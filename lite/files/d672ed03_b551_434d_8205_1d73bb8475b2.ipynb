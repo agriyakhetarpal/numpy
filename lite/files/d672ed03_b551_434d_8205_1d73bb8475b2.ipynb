{
    "nbformat": 4,
    "nbformat_minor": 5,
    "metadata": {
        "kernelspec": {
            "display_name": "Python",
            "language": "python",
            "name": "python"
        },
        "language_info": {
            "name": "python"
        }
    },
    "cells": [
        {
            "id": "063e04a8",
            "cell_type": "markdown",
            "source": "<div class='alert alert-warning'>\n\nNumPy's interactive examples are experimental and may not always work as expected, with high load times especially on low-resource platforms, and the version of NumPy might not be in sync with the one you are browsing the documentation for. If you encounter any issues, please report them on the [NumPy issue tracker](https://github.com/numpy/numpy/issues).\n\n</div>",
            "metadata": {}
        },
        {
            "id": "829c29b1",
            "cell_type": "code",
            "metadata": {},
            "execution_count": null,
            "source": "import numpy as np\na = np.arange(10)\na",
            "outputs": [
                {
                    "output_type": "execute_result",
                    "metadata": {},
                    "data": {
                        "text/plain": "array([0, 1, 2, 3, 4, 5, 6, 7, 8, 9])"
                    },
                    "execution_count": null
                }
            ]
        },
        {
            "id": "07f68edf",
            "cell_type": "code",
            "metadata": {},
            "execution_count": null,
            "source": "np.clip(a, 1, 8)",
            "outputs": [
                {
                    "output_type": "execute_result",
                    "metadata": {},
                    "data": {
                        "text/plain": "array([1, 1, 2, 3, 4, 5, 6, 7, 8, 8])"
                    },
                    "execution_count": null
                }
            ]
        },
        {
            "id": "846c9aa4",
            "cell_type": "code",
            "metadata": {},
            "execution_count": null,
            "source": "np.clip(a, 8, 1)",
            "outputs": [
                {
                    "output_type": "execute_result",
                    "metadata": {},
                    "data": {
                        "text/plain": "array([1, 1, 1, 1, 1, 1, 1, 1, 1, 1])"
                    },
                    "execution_count": null
                }
            ]
        },
        {
            "id": "f8f8e1f6",
            "cell_type": "code",
            "metadata": {},
            "execution_count": null,
            "source": "np.clip(a, 3, 6, out=a)",
            "outputs": [
                {
                    "output_type": "execute_result",
                    "metadata": {},
                    "data": {
                        "text/plain": "array([3, 3, 3, 3, 4, 5, 6, 6, 6, 6])"
                    },
                    "execution_count": null
                }
            ]
        },
        {
            "id": "dd9c9c63",
            "cell_type": "code",
            "metadata": {},
            "execution_count": null,
            "source": "a",
            "outputs": [
                {
                    "output_type": "execute_result",
                    "metadata": {},
                    "data": {
                        "text/plain": "array([3, 3, 3, 3, 4, 5, 6, 6, 6, 6])"
                    },
                    "execution_count": null
                }
            ]
        },
        {
            "id": "1f2dc497",
            "cell_type": "code",
            "metadata": {},
            "execution_count": null,
            "source": "a = np.arange(10)\na",
            "outputs": [
                {
                    "output_type": "execute_result",
                    "metadata": {},
                    "data": {
                        "text/plain": "array([0, 1, 2, 3, 4, 5, 6, 7, 8, 9])"
                    },
                    "execution_count": null
                }
            ]
        },
        {
            "id": "925cee8a",
            "cell_type": "code",
            "metadata": {},
            "execution_count": null,
            "source": "np.clip(a, [3, 4, 1, 1, 1, 4, 4, 4, 4, 4], 8)",
            "outputs": [
                {
                    "output_type": "execute_result",
                    "metadata": {},
                    "data": {
                        "text/plain": "array([3, 4, 2, 3, 4, 5, 6, 7, 8, 8])"
                    },
                    "execution_count": null
                }
            ]
        }
    ]
}