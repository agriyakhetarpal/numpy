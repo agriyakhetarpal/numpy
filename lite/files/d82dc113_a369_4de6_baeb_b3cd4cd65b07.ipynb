{
    "nbformat": 4,
    "nbformat_minor": 5,
    "metadata": {
        "kernelspec": {
            "display_name": "Python",
            "language": "python",
            "name": "python"
        },
        "language_info": {
            "name": "python"
        }
    },
    "cells": [
        {
            "id": "1a5b72c3",
            "cell_type": "markdown",
            "source": "<div class='alert alert-warning'>\n\nNumPy's interactive examples are experimental and may not always work as expected, with high load times especially on low-resource platforms, , and the version of NumPy might not be in sync with the one you are browsing the documentation for. If you encounter any issues, please report them on the [NumPy issue tracker](https://github.com/numpy/numpy/issues).\n\n</div>",
            "metadata": {}
        },
        {
            "id": "48c663f7",
            "cell_type": "code",
            "metadata": {},
            "execution_count": null,
            "source": "import numpy as np\nnp.lcm(12, 20)",
            "outputs": [
                {
                    "output_type": "execute_result",
                    "metadata": {},
                    "data": {
                        "text/plain": "60"
                    },
                    "execution_count": null
                }
            ]
        },
        {
            "id": "efaf9168",
            "cell_type": "code",
            "metadata": {},
            "execution_count": null,
            "source": "np.lcm.reduce([3, 12, 20])",
            "outputs": [
                {
                    "output_type": "execute_result",
                    "metadata": {},
                    "data": {
                        "text/plain": "60"
                    },
                    "execution_count": null
                }
            ]
        },
        {
            "id": "cf599a96",
            "cell_type": "code",
            "metadata": {},
            "execution_count": null,
            "source": "np.lcm.reduce([40, 12, 20])",
            "outputs": [
                {
                    "output_type": "execute_result",
                    "metadata": {},
                    "data": {
                        "text/plain": "120"
                    },
                    "execution_count": null
                }
            ]
        },
        {
            "id": "af1e2998",
            "cell_type": "code",
            "metadata": {},
            "execution_count": null,
            "source": "np.lcm(np.arange(6), 20)",
            "outputs": [
                {
                    "output_type": "execute_result",
                    "metadata": {},
                    "data": {
                        "text/plain": "array([ 0, 20, 20, 60, 20, 20])"
                    },
                    "execution_count": null
                }
            ]
        }
    ]
}