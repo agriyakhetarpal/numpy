{
    "nbformat": 4,
    "nbformat_minor": 5,
    "metadata": {
        "kernelspec": {
            "display_name": "Python",
            "language": "python",
            "name": "python"
        },
        "language_info": {
            "name": "python"
        }
    },
    "cells": [
        {
            "id": "a9f6517e",
            "cell_type": "markdown",
            "source": "<div class='alert alert-warning'>\n\nNumPy's interactive examples are experimental and may not always work as expected, with high load times especially on low-resource platforms, and the version of NumPy might not be in sync with the one you are browsing the documentation for. If you encounter any issues, please report them on the [NumPy issue tracker](https://github.com/numpy/numpy/issues).\n\n</div>",
            "metadata": {}
        },
        {
            "id": "647c8fe3",
            "cell_type": "markdown",
            "source": "Starting with a C-contiguous array:\n",
            "metadata": {}
        },
        {
            "id": "e10f0cb0",
            "cell_type": "code",
            "metadata": {},
            "execution_count": null,
            "source": "import numpy as np\nx = np.ones((2, 3), order='C')\nx.flags['C_CONTIGUOUS']",
            "outputs": [
                {
                    "output_type": "execute_result",
                    "metadata": {},
                    "data": {
                        "text/plain": "True"
                    },
                    "execution_count": null
                }
            ]
        },
        {
            "id": "6effcd36",
            "cell_type": "markdown",
            "source": "Calling ``asfortranarray`` makes a Fortran-contiguous copy:\n",
            "metadata": {}
        },
        {
            "id": "4d4d0d3e",
            "cell_type": "code",
            "metadata": {},
            "execution_count": null,
            "source": "y = np.asfortranarray(x)\ny.flags['F_CONTIGUOUS']",
            "outputs": [
                {
                    "output_type": "execute_result",
                    "metadata": {},
                    "data": {
                        "text/plain": "True"
                    },
                    "execution_count": null
                }
            ]
        },
        {
            "id": "b09bdc1c",
            "cell_type": "code",
            "metadata": {},
            "execution_count": null,
            "source": "np.may_share_memory(x, y)",
            "outputs": [
                {
                    "output_type": "execute_result",
                    "metadata": {},
                    "data": {
                        "text/plain": "False"
                    },
                    "execution_count": null
                }
            ]
        },
        {
            "id": "946c3cb6",
            "cell_type": "markdown",
            "source": "Now, starting with a Fortran-contiguous array:\n",
            "metadata": {}
        },
        {
            "id": "ad564f3f",
            "cell_type": "code",
            "metadata": {},
            "execution_count": null,
            "source": "x = np.ones((2, 3), order='F')\nx.flags['F_CONTIGUOUS']",
            "outputs": [
                {
                    "output_type": "execute_result",
                    "metadata": {},
                    "data": {
                        "text/plain": "True"
                    },
                    "execution_count": null
                }
            ]
        },
        {
            "id": "5004d773",
            "cell_type": "markdown",
            "source": "Then, calling ``asfortranarray`` returns the same object:\n",
            "metadata": {}
        },
        {
            "id": "b383f33e",
            "cell_type": "code",
            "metadata": {},
            "execution_count": null,
            "source": "y = np.asfortranarray(x)\nx is y",
            "outputs": [
                {
                    "output_type": "execute_result",
                    "metadata": {},
                    "data": {
                        "text/plain": "True"
                    },
                    "execution_count": null
                }
            ]
        },
        {
            "id": "23fba6b0",
            "cell_type": "markdown",
            "source": "Note: This function returns an array with at least one-dimension (1-d)\nso it will not preserve 0-d arrays.",
            "metadata": {}
        }
    ]
}