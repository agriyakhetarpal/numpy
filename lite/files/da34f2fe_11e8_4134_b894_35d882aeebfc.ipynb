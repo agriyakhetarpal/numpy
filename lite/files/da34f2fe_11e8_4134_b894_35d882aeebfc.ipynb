{
    "nbformat": 4,
    "nbformat_minor": 5,
    "metadata": {
        "kernelspec": {
            "display_name": "Python",
            "language": "python",
            "name": "python"
        },
        "language_info": {
            "name": "python"
        }
    },
    "cells": [
        {
            "id": "9e2631d1",
            "cell_type": "markdown",
            "source": "<div class='alert alert-warning'>\n\nNumPy's interactive examples are experimental and may not always work as expected, with high load times especially on low-resource platforms, , and the version of NumPy might not be in sync with the one you are browsing the documentation for. If you encounter any issues, please report them on the [NumPy issue tracker](https://github.com/numpy/numpy/issues).\n\n</div>",
            "metadata": {}
        },
        {
            "id": "5fd9ced7",
            "cell_type": "markdown",
            "source": "Create an array with two fields, ``x`` and ``y``:\n",
            "metadata": {}
        },
        {
            "id": "24bf2b1e",
            "cell_type": "code",
            "metadata": {},
            "execution_count": null,
            "source": "import numpy as np\nx = np.array([(1.0, 2), (3.0, 4)], dtype=[('x', '<f8'), ('y', '<i8')])\nx",
            "outputs": [
                {
                    "output_type": "execute_result",
                    "metadata": {},
                    "data": {
                        "text/plain": "array([(1., 2), (3., 4)], dtype=[('x', '<f8'), ('y', '<i8')])"
                    },
                    "execution_count": null
                }
            ]
        },
        {
            "id": "e4939e6d",
            "cell_type": "code",
            "metadata": {},
            "execution_count": null,
            "source": "x['x']",
            "outputs": [
                {
                    "output_type": "execute_result",
                    "metadata": {},
                    "data": {
                        "text/plain": "array([1., 3.])"
                    },
                    "execution_count": null
                }
            ]
        },
        {
            "id": "3e1705ce",
            "cell_type": "markdown",
            "source": "View the array as a record array:\n",
            "metadata": {}
        },
        {
            "id": "08aa7cc2",
            "cell_type": "code",
            "metadata": {},
            "execution_count": null,
            "source": "x = x.view(np.recarray)",
            "outputs": []
        },
        {
            "id": "89736c59",
            "cell_type": "code",
            "metadata": {},
            "execution_count": null,
            "source": "x.x",
            "outputs": [
                {
                    "output_type": "execute_result",
                    "metadata": {},
                    "data": {
                        "text/plain": "array([1., 3.])"
                    },
                    "execution_count": null
                }
            ]
        },
        {
            "id": "1ecc4d70",
            "cell_type": "code",
            "metadata": {},
            "execution_count": null,
            "source": "x.y",
            "outputs": [
                {
                    "output_type": "execute_result",
                    "metadata": {},
                    "data": {
                        "text/plain": "array([2, 4])"
                    },
                    "execution_count": null
                }
            ]
        },
        {
            "id": "356b3588",
            "cell_type": "markdown",
            "source": "Create a new, empty record array:\n",
            "metadata": {}
        },
        {
            "id": "cf1d7535",
            "cell_type": "code",
            "metadata": {},
            "execution_count": null,
            "source": "np.recarray((2,),\ndtype=[('x', int), ('y', float), ('z', int)]) #doctest: +SKIP",
            "outputs": [
                {
                    "output_type": "execute_result",
                    "metadata": {},
                    "data": {
                        "text/plain": "rec.array([(-1073741821, 1.2249118382103472e-301, 24547520),\n       (3471280, 1.2134086255804012e-316, 0)],\n      dtype=[('x', '<i4'), ('y', '<f8'), ('z', '<i4')])"
                    },
                    "execution_count": null
                }
            ]
        }
    ]
}