{
    "nbformat": 4,
    "nbformat_minor": 5,
    "metadata": {
        "kernelspec": {
            "display_name": "Python",
            "language": "python",
            "name": "python"
        },
        "language_info": {
            "name": "python"
        }
    },
    "cells": [
        {
            "id": "003f3e1a",
            "cell_type": "markdown",
            "source": "<div class='alert alert-warning'>\n\nNumPy's interactive examples are experimental and may not always work as expected, with high load times especially on low-resource platforms, and the version of NumPy might not be in sync with the one you are browsing the documentation for. If you encounter any issues, please report them on the [NumPy issue tracker](https://github.com/numpy/numpy/issues).\n\n</div>",
            "metadata": {}
        },
        {
            "id": "6fb2d2d4",
            "cell_type": "markdown",
            "source": "Taking an example cited in Wikipedia, this distribution can be used if\none wanted to cut strings (each of initial length 1.0) into K pieces\nwith different lengths, where each piece had, on average, a designated\naverage length, but allowing some variation in the relative sizes of\nthe pieces.\n",
            "metadata": {}
        },
        {
            "id": "a22fd209",
            "cell_type": "code",
            "metadata": {},
            "execution_count": null,
            "source": "s = np.random.dirichlet((10, 5, 3), 20).transpose()",
            "outputs": []
        },
        {
            "id": "f71a42e5",
            "cell_type": "code",
            "metadata": {},
            "execution_count": null,
            "source": "import matplotlib.pyplot as plt\nplt.barh(range(20), s[0])\nplt.barh(range(20), s[1], left=s[0], color='g')\nplt.barh(range(20), s[2], left=s[0]+s[1], color='r')\nplt.title(\"Lengths of Strings\")",
            "outputs": []
        }
    ]
}