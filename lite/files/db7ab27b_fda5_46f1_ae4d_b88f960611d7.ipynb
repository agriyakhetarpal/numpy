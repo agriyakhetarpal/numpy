{
    "nbformat": 4,
    "nbformat_minor": 5,
    "metadata": {
        "kernelspec": {
            "display_name": "Python",
            "language": "python",
            "name": "python"
        },
        "language_info": {
            "name": "python"
        }
    },
    "cells": [
        {
            "id": "0c912360",
            "cell_type": "markdown",
            "source": "<div class='alert alert-warning'>\n\nNumPy's interactive examples are experimental and may not always work as expected, with high load times especially on low-resource platforms, and the version of NumPy might not be in sync with the one you are browsing the documentation for. If you encounter any issues, please report them on the [NumPy issue tracker](https://github.com/numpy/numpy/issues).\n\n</div>",
            "metadata": {}
        },
        {
            "id": "09bfb67a",
            "cell_type": "code",
            "metadata": {},
            "execution_count": null,
            "source": "import numpy as np\nolderr = np.seterr(all='ignore')  # Set error handling to known state.",
            "outputs": []
        },
        {
            "id": "f77c2b32",
            "cell_type": "code",
            "metadata": {},
            "execution_count": null,
            "source": "np.arange(3) / 0.",
            "outputs": [
                {
                    "output_type": "execute_result",
                    "metadata": {},
                    "data": {
                        "text/plain": "array([nan, inf, inf])"
                    },
                    "execution_count": null
                }
            ]
        },
        {
            "id": "073818f4",
            "cell_type": "code",
            "metadata": {},
            "execution_count": null,
            "source": "with np.errstate(divide='ignore'):\n    np.arange(3) / 0.",
            "outputs": [
                {
                    "output_type": "execute_result",
                    "metadata": {},
                    "data": {
                        "text/plain": "array([nan, inf, inf])"
                    },
                    "execution_count": null
                }
            ]
        },
        {
            "id": "b6743dc6",
            "cell_type": "code",
            "metadata": {},
            "execution_count": null,
            "source": "np.sqrt(-1)",
            "outputs": [
                {
                    "output_type": "execute_result",
                    "metadata": {},
                    "data": {
                        "text/plain": "np.float64(nan)"
                    },
                    "execution_count": null
                }
            ]
        },
        {
            "id": "85a2c7b3",
            "cell_type": "code",
            "metadata": {},
            "execution_count": null,
            "source": "with np.errstate(invalid='raise'):\n    np.sqrt(-1)",
            "outputs": [
                {
                    "output_type": "execute_result",
                    "metadata": {},
                    "data": {
                        "text/plain": "Traceback (most recent call last):\n  File \"<stdin>\", line 2, in <module>\nFloatingPointError: invalid value encountered in sqrt"
                    },
                    "execution_count": null
                }
            ]
        },
        {
            "id": "2fd819a5",
            "cell_type": "markdown",
            "source": "Outside the context the error handling behavior has not changed:\n",
            "metadata": {}
        },
        {
            "id": "a6ec89a6",
            "cell_type": "code",
            "metadata": {},
            "execution_count": null,
            "source": "np.geterr()",
            "outputs": [
                {
                    "output_type": "execute_result",
                    "metadata": {},
                    "data": {
                        "text/plain": "{'divide': 'ignore', 'over': 'ignore', 'under': 'ignore', 'invalid': 'ignore'}"
                    },
                    "execution_count": null
                }
            ]
        },
        {
            "id": "0acbe96d",
            "cell_type": "code",
            "metadata": {},
            "execution_count": null,
            "source": "olderr = np.seterr(**olderr)  # restore original state",
            "outputs": []
        }
    ]
}