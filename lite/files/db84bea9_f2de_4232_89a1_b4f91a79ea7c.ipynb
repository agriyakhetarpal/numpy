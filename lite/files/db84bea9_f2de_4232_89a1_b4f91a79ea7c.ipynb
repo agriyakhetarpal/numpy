{
    "nbformat": 4,
    "nbformat_minor": 5,
    "metadata": {
        "kernelspec": {
            "display_name": "Python",
            "language": "python",
            "name": "python"
        },
        "language_info": {
            "name": "python"
        }
    },
    "cells": [
        {
            "id": "ca4ba44e",
            "cell_type": "markdown",
            "source": "<div class='alert alert-warning'>\n\nNumPy's interactive examples are experimental and may not always work as expected, with high load times especially on low-resource platforms, and the version of NumPy might not be in sync with the one you are browsing the documentation for. If you encounter any issues, please report them on the [NumPy issue tracker](https://github.com/numpy/numpy/issues).\n\n</div>",
            "metadata": {}
        },
        {
            "id": "3c907ecd",
            "cell_type": "code",
            "metadata": {},
            "execution_count": null,
            "source": "import numpy as np\ngrid = np.indices((2, 3))\ngrid.shape",
            "outputs": [
                {
                    "output_type": "execute_result",
                    "metadata": {},
                    "data": {
                        "text/plain": "(2, 2, 3)"
                    },
                    "execution_count": null
                }
            ]
        },
        {
            "id": "352001e1",
            "cell_type": "code",
            "metadata": {},
            "execution_count": null,
            "source": "grid[0]        # row indices",
            "outputs": [
                {
                    "output_type": "execute_result",
                    "metadata": {},
                    "data": {
                        "text/plain": "array([[0, 0, 0],\n       [1, 1, 1]])"
                    },
                    "execution_count": null
                }
            ]
        },
        {
            "id": "16938e3f",
            "cell_type": "code",
            "metadata": {},
            "execution_count": null,
            "source": "grid[1]        # column indices",
            "outputs": [
                {
                    "output_type": "execute_result",
                    "metadata": {},
                    "data": {
                        "text/plain": "array([[0, 1, 2],\n       [0, 1, 2]])"
                    },
                    "execution_count": null
                }
            ]
        },
        {
            "id": "99b507ff",
            "cell_type": "markdown",
            "source": "The indices can be used as an index into an array.\n",
            "metadata": {}
        },
        {
            "id": "29879bf9",
            "cell_type": "code",
            "metadata": {},
            "execution_count": null,
            "source": "x = np.arange(20).reshape(5, 4)\nrow, col = np.indices((2, 3))\nx[row, col]",
            "outputs": [
                {
                    "output_type": "execute_result",
                    "metadata": {},
                    "data": {
                        "text/plain": "array([[0, 1, 2],\n       [4, 5, 6]])"
                    },
                    "execution_count": null
                }
            ]
        },
        {
            "id": "f0aeb928",
            "cell_type": "markdown",
            "source": "Note that it would be more straightforward in the above example to\nextract the required elements directly with ``x[:2, :3]``.\n\nIf sparse is set to true, the grid will be returned in a sparse\nrepresentation.\n",
            "metadata": {}
        },
        {
            "id": "05d0b944",
            "cell_type": "code",
            "metadata": {},
            "execution_count": null,
            "source": "i, j = np.indices((2, 3), sparse=True)\ni.shape",
            "outputs": [
                {
                    "output_type": "execute_result",
                    "metadata": {},
                    "data": {
                        "text/plain": "(2, 1)"
                    },
                    "execution_count": null
                }
            ]
        },
        {
            "id": "44ca125e",
            "cell_type": "code",
            "metadata": {},
            "execution_count": null,
            "source": "j.shape",
            "outputs": [
                {
                    "output_type": "execute_result",
                    "metadata": {},
                    "data": {
                        "text/plain": "(1, 3)"
                    },
                    "execution_count": null
                }
            ]
        },
        {
            "id": "c89e7ec0",
            "cell_type": "code",
            "metadata": {},
            "execution_count": null,
            "source": "i        # row indices",
            "outputs": [
                {
                    "output_type": "execute_result",
                    "metadata": {},
                    "data": {
                        "text/plain": "array([[0],\n       [1]])"
                    },
                    "execution_count": null
                }
            ]
        },
        {
            "id": "854993e2",
            "cell_type": "code",
            "metadata": {},
            "execution_count": null,
            "source": "j        # column indices",
            "outputs": [
                {
                    "output_type": "execute_result",
                    "metadata": {},
                    "data": {
                        "text/plain": "array([[0, 1, 2]])"
                    },
                    "execution_count": null
                }
            ]
        }
    ]
}