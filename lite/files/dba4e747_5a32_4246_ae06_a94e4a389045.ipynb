{
    "nbformat": 4,
    "nbformat_minor": 5,
    "metadata": {
        "kernelspec": {
            "display_name": "Python",
            "language": "python",
            "name": "python"
        },
        "language_info": {
            "name": "python"
        }
    },
    "cells": [
        {
            "id": "13383d4f",
            "cell_type": "markdown",
            "source": "<div class='alert alert-warning'>\n\nNumPy's interactive examples are experimental and may not always work as expected, with high load times especially on low-resource platforms, and the version of NumPy might not be in sync with the one you are browsing the documentation for. If you encounter any issues, please report them on the [NumPy issue tracker](https://github.com/numpy/numpy/issues).\n\n</div>",
            "metadata": {}
        },
        {
            "id": "e180e751",
            "cell_type": "code",
            "metadata": {},
            "execution_count": null,
            "source": "a = np.arange(4).reshape(2, 2); a",
            "outputs": [
                {
                    "output_type": "execute_result",
                    "metadata": {},
                    "data": {
                        "text/plain": "array([[0, 1],\n       [2, 3]])"
                    },
                    "execution_count": null
                }
            ]
        },
        {
            "id": "cecd4044",
            "cell_type": "code",
            "metadata": {},
            "execution_count": null,
            "source": "np.linalg.diagonal(a)",
            "outputs": [
                {
                    "output_type": "execute_result",
                    "metadata": {},
                    "data": {
                        "text/plain": "array([0, 3])"
                    },
                    "execution_count": null
                }
            ]
        },
        {
            "id": "f1c591b2",
            "cell_type": "markdown",
            "source": "A 3-D example:\n",
            "metadata": {}
        },
        {
            "id": "77e8ae4c",
            "cell_type": "code",
            "metadata": {},
            "execution_count": null,
            "source": "a = np.arange(8).reshape(2, 2, 2); a",
            "outputs": [
                {
                    "output_type": "execute_result",
                    "metadata": {},
                    "data": {
                        "text/plain": "array([[[0, 1],\n        [2, 3]],\n       [[4, 5],\n        [6, 7]]])"
                    },
                    "execution_count": null
                }
            ]
        },
        {
            "id": "b46b26f7",
            "cell_type": "code",
            "metadata": {},
            "execution_count": null,
            "source": "np.linalg.diagonal(a)",
            "outputs": [
                {
                    "output_type": "execute_result",
                    "metadata": {},
                    "data": {
                        "text/plain": "array([[0, 3],\n       [4, 7]])"
                    },
                    "execution_count": null
                }
            ]
        },
        {
            "id": "0c9b8aa4",
            "cell_type": "markdown",
            "source": "Diagonals adjacent to the main diagonal can be obtained by using the\n`offset` argument:\n",
            "metadata": {}
        },
        {
            "id": "25455de9",
            "cell_type": "code",
            "metadata": {},
            "execution_count": null,
            "source": "a = np.arange(9).reshape(3, 3)\na",
            "outputs": [
                {
                    "output_type": "execute_result",
                    "metadata": {},
                    "data": {
                        "text/plain": "array([[0, 1, 2],\n       [3, 4, 5],\n       [6, 7, 8]])"
                    },
                    "execution_count": null
                }
            ]
        },
        {
            "id": "c75bf18b",
            "cell_type": "code",
            "metadata": {},
            "execution_count": null,
            "source": "np.linalg.diagonal(a, offset=1)  # First superdiagonal",
            "outputs": [
                {
                    "output_type": "execute_result",
                    "metadata": {},
                    "data": {
                        "text/plain": "array([1, 5])"
                    },
                    "execution_count": null
                }
            ]
        },
        {
            "id": "c18250d4",
            "cell_type": "code",
            "metadata": {},
            "execution_count": null,
            "source": "np.linalg.diagonal(a, offset=2)  # Second superdiagonal",
            "outputs": [
                {
                    "output_type": "execute_result",
                    "metadata": {},
                    "data": {
                        "text/plain": "array([2])"
                    },
                    "execution_count": null
                }
            ]
        },
        {
            "id": "448e3191",
            "cell_type": "code",
            "metadata": {},
            "execution_count": null,
            "source": "np.linalg.diagonal(a, offset=-1)  # First subdiagonal",
            "outputs": [
                {
                    "output_type": "execute_result",
                    "metadata": {},
                    "data": {
                        "text/plain": "array([3, 7])"
                    },
                    "execution_count": null
                }
            ]
        },
        {
            "id": "aec68a96",
            "cell_type": "code",
            "metadata": {},
            "execution_count": null,
            "source": "np.linalg.diagonal(a, offset=-2)  # Second subdiagonal",
            "outputs": [
                {
                    "output_type": "execute_result",
                    "metadata": {},
                    "data": {
                        "text/plain": "array([6])"
                    },
                    "execution_count": null
                }
            ]
        },
        {
            "id": "02b3b945",
            "cell_type": "markdown",
            "source": "The anti-diagonal can be obtained by reversing the order of elements\nusing either `numpy.flipud` or `numpy.fliplr`.\n",
            "metadata": {}
        },
        {
            "id": "ba3c42ae",
            "cell_type": "code",
            "metadata": {},
            "execution_count": null,
            "source": "a = np.arange(9).reshape(3, 3)\na",
            "outputs": [
                {
                    "output_type": "execute_result",
                    "metadata": {},
                    "data": {
                        "text/plain": "array([[0, 1, 2],\n       [3, 4, 5],\n       [6, 7, 8]])"
                    },
                    "execution_count": null
                }
            ]
        },
        {
            "id": "18b90925",
            "cell_type": "code",
            "metadata": {},
            "execution_count": null,
            "source": "np.linalg.diagonal(np.fliplr(a))  # Horizontal flip",
            "outputs": [
                {
                    "output_type": "execute_result",
                    "metadata": {},
                    "data": {
                        "text/plain": "array([2, 4, 6])"
                    },
                    "execution_count": null
                }
            ]
        },
        {
            "id": "60edf97d",
            "cell_type": "code",
            "metadata": {},
            "execution_count": null,
            "source": "np.linalg.diagonal(np.flipud(a))  # Vertical flip",
            "outputs": [
                {
                    "output_type": "execute_result",
                    "metadata": {},
                    "data": {
                        "text/plain": "array([6, 4, 2])"
                    },
                    "execution_count": null
                }
            ]
        },
        {
            "id": "23197a4f",
            "cell_type": "markdown",
            "source": "Note that the order in which the diagonal is retrieved varies depending\non the flip function.",
            "metadata": {}
        }
    ]
}