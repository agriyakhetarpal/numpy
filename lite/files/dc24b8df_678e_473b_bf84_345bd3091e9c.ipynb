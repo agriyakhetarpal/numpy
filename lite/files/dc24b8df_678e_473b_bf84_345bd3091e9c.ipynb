{
    "nbformat": 4,
    "nbformat_minor": 5,
    "metadata": {
        "kernelspec": {
            "display_name": "Python",
            "language": "python",
            "name": "python"
        },
        "language_info": {
            "name": "python"
        }
    },
    "cells": [
        {
            "id": "001a8463",
            "cell_type": "markdown",
            "source": "<div class='alert alert-warning'>\n\nNumPy's interactive examples are experimental and may not always work as expected, with high load times especially on low-resource platforms, and the version of NumPy might not be in sync with the one you are browsing the documentation for. If you encounter any issues, please report them on the [NumPy issue tracker](https://github.com/numpy/numpy/issues).\n\n</div>",
            "metadata": {}
        },
        {
            "id": "a99fc440",
            "cell_type": "code",
            "metadata": {},
            "execution_count": null,
            "source": "import numpy as np\nimport warnings\nx = np.array([0.0, 1.0, 2.0, 3.0,  4.0,  5.0])\ny = np.array([0.0, 0.8, 0.9, 0.1, -0.8, -1.0])\nz = np.polyfit(x, y, 3)\nz",
            "outputs": [
                {
                    "output_type": "execute_result",
                    "metadata": {},
                    "data": {
                        "text/plain": "array([ 0.08703704, -0.81349206,  1.69312169, -0.03968254]) # may vary"
                    },
                    "execution_count": null
                }
            ]
        },
        {
            "id": "8bca82b9",
            "cell_type": "markdown",
            "source": "It is convenient to use `poly1d` objects for dealing with polynomials:\n",
            "metadata": {}
        },
        {
            "id": "ff06bb88",
            "cell_type": "code",
            "metadata": {},
            "execution_count": null,
            "source": "p = np.poly1d(z)\np(0.5)",
            "outputs": [
                {
                    "output_type": "execute_result",
                    "metadata": {},
                    "data": {
                        "text/plain": "0.6143849206349179 # may vary"
                    },
                    "execution_count": null
                }
            ]
        },
        {
            "id": "e9f106e2",
            "cell_type": "code",
            "metadata": {},
            "execution_count": null,
            "source": "p(3.5)",
            "outputs": [
                {
                    "output_type": "execute_result",
                    "metadata": {},
                    "data": {
                        "text/plain": "-0.34732142857143039 # may vary"
                    },
                    "execution_count": null
                }
            ]
        },
        {
            "id": "6f7bc827",
            "cell_type": "code",
            "metadata": {},
            "execution_count": null,
            "source": "p(10)",
            "outputs": [
                {
                    "output_type": "execute_result",
                    "metadata": {},
                    "data": {
                        "text/plain": "22.579365079365115 # may vary"
                    },
                    "execution_count": null
                }
            ]
        },
        {
            "id": "34cfd203",
            "cell_type": "markdown",
            "source": "High-order polynomials may oscillate wildly:\n",
            "metadata": {}
        },
        {
            "id": "9da0e80e",
            "cell_type": "code",
            "metadata": {},
            "execution_count": null,
            "source": "with warnings.catch_warnings():\n    warnings.simplefilter('ignore', np.exceptions.RankWarning)\n    p30 = np.poly1d(np.polyfit(x, y, 30))\n\np30(4)",
            "outputs": [
                {
                    "output_type": "execute_result",
                    "metadata": {},
                    "data": {
                        "text/plain": "-0.80000000000000204 # may vary"
                    },
                    "execution_count": null
                }
            ]
        },
        {
            "id": "097cda90",
            "cell_type": "code",
            "metadata": {},
            "execution_count": null,
            "source": "p30(5)",
            "outputs": [
                {
                    "output_type": "execute_result",
                    "metadata": {},
                    "data": {
                        "text/plain": "-0.99999999999999445 # may vary"
                    },
                    "execution_count": null
                }
            ]
        },
        {
            "id": "f516b1f3",
            "cell_type": "code",
            "metadata": {},
            "execution_count": null,
            "source": "p30(4.5)",
            "outputs": [
                {
                    "output_type": "execute_result",
                    "metadata": {},
                    "data": {
                        "text/plain": "-0.10547061179440398 # may vary"
                    },
                    "execution_count": null
                }
            ]
        },
        {
            "id": "b5454b5c",
            "cell_type": "markdown",
            "source": "Illustration:\n",
            "metadata": {}
        },
        {
            "id": "a1065b80",
            "cell_type": "code",
            "metadata": {},
            "execution_count": null,
            "source": "import matplotlib.pyplot as plt\nxp = np.linspace(-2, 6, 100)\n_ = plt.plot(x, y, '.', xp, p(xp), '-', xp, p30(xp), '--')\nplt.ylim(-2,2)",
            "outputs": [
                {
                    "output_type": "execute_result",
                    "metadata": {},
                    "data": {
                        "text/plain": "(-2, 2)"
                    },
                    "execution_count": null
                }
            ]
        },
        {
            "id": "7e7103a4",
            "cell_type": "code",
            "metadata": {},
            "execution_count": null,
            "source": "plt.show()",
            "outputs": []
        }
    ]
}