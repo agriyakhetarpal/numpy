{
    "nbformat": 4,
    "nbformat_minor": 5,
    "metadata": {
        "kernelspec": {
            "display_name": "Python",
            "language": "python",
            "name": "python"
        },
        "language_info": {
            "name": "python"
        }
    },
    "cells": [
        {
            "id": "d698e8f9",
            "cell_type": "markdown",
            "source": "<div class='alert alert-warning'>\n\nNumPy's interactive examples are experimental and may not always work as expected, with high load times especially on low-resource platforms, , and the version of NumPy might not be in sync with the one you are browsing the documentation for. If you encounter any issues, please report them on the [NumPy issue tracker](https://github.com/numpy/numpy/issues).\n\n</div>",
            "metadata": {}
        },
        {
            "id": "2de2b22c",
            "cell_type": "markdown",
            "source": "the first assert does not raise an exception\n",
            "metadata": {}
        },
        {
            "id": "14799026",
            "cell_type": "code",
            "metadata": {},
            "execution_count": null,
            "source": "np.testing.assert_array_almost_equal([1.0,2.333,np.nan],\n                                     [1.0,2.333,np.nan])",
            "outputs": []
        },
        {
            "id": "75c53ca3",
            "cell_type": "code",
            "metadata": {},
            "execution_count": null,
            "source": "np.testing.assert_array_almost_equal([1.0,2.33333,np.nan],\n                                     [1.0,2.33339,np.nan], decimal=5)",
            "outputs": [
                {
                    "output_type": "execute_result",
                    "metadata": {},
                    "data": {
                        "text/plain": "Traceback (most recent call last):\n    ...\nAssertionError:\nArrays are not almost equal to 5 decimals\n<BLANKLINE>\nMismatched elements: 1 / 3 (33.3%)\nMax absolute difference among violations: 6.e-05\nMax relative difference among violations: 2.57136612e-05\n ACTUAL: array([1.     , 2.33333,     nan])\n DESIRED: array([1.     , 2.33339,     nan])"
                    },
                    "execution_count": null
                }
            ]
        },
        {
            "id": "9d2fcfdb",
            "cell_type": "code",
            "metadata": {},
            "execution_count": null,
            "source": "np.testing.assert_array_almost_equal([1.0,2.33333,np.nan],\n                                     [1.0,2.33333, 5], decimal=5)",
            "outputs": [
                {
                    "output_type": "execute_result",
                    "metadata": {},
                    "data": {
                        "text/plain": "Traceback (most recent call last):\n    ...\nAssertionError:\nArrays are not almost equal to 5 decimals\n<BLANKLINE>\nnan location mismatch:\n ACTUAL: array([1.     , 2.33333,     nan])\n DESIRED: array([1.     , 2.33333, 5.     ])"
                    },
                    "execution_count": null
                }
            ]
        }
    ]
}