{
    "nbformat": 4,
    "nbformat_minor": 5,
    "metadata": {
        "kernelspec": {
            "display_name": "Python",
            "language": "python",
            "name": "python"
        },
        "language_info": {
            "name": "python"
        }
    },
    "cells": [
        {
            "id": "77aeedac",
            "cell_type": "markdown",
            "source": "<div class='alert alert-warning'>\n\nNumPy's interactive examples are experimental and may not always work as expected, with high load times especially on low-resource platforms, and the version of NumPy might not be in sync with the one you are browsing the documentation for. If you encounter any issues, please report them on the [NumPy issue tracker](https://github.com/numpy/numpy/issues).\n\n</div>",
            "metadata": {}
        },
        {
            "id": "b9be6f10",
            "cell_type": "code",
            "metadata": {},
            "execution_count": null,
            "source": "import numpy as np\na = np.array([[10, 7, 4], [3, 2, 1]])\na",
            "outputs": [
                {
                    "output_type": "execute_result",
                    "metadata": {},
                    "data": {
                        "text/plain": "array([[10,  7,  4],\n       [ 3,  2,  1]])"
                    },
                    "execution_count": null
                }
            ]
        },
        {
            "id": "01940a11",
            "cell_type": "code",
            "metadata": {},
            "execution_count": null,
            "source": "np.median(a)",
            "outputs": [
                {
                    "output_type": "execute_result",
                    "metadata": {},
                    "data": {
                        "text/plain": "np.float64(3.5)"
                    },
                    "execution_count": null
                }
            ]
        },
        {
            "id": "0847eaf0",
            "cell_type": "code",
            "metadata": {},
            "execution_count": null,
            "source": "np.median(a, axis=0)",
            "outputs": [
                {
                    "output_type": "execute_result",
                    "metadata": {},
                    "data": {
                        "text/plain": "array([6.5, 4.5, 2.5])"
                    },
                    "execution_count": null
                }
            ]
        },
        {
            "id": "9ddb4abf",
            "cell_type": "code",
            "metadata": {},
            "execution_count": null,
            "source": "np.median(a, axis=1)",
            "outputs": [
                {
                    "output_type": "execute_result",
                    "metadata": {},
                    "data": {
                        "text/plain": "array([7.,  2.])"
                    },
                    "execution_count": null
                }
            ]
        },
        {
            "id": "1bf74578",
            "cell_type": "code",
            "metadata": {},
            "execution_count": null,
            "source": "np.median(a, axis=(0, 1))",
            "outputs": [
                {
                    "output_type": "execute_result",
                    "metadata": {},
                    "data": {
                        "text/plain": "np.float64(3.5)"
                    },
                    "execution_count": null
                }
            ]
        },
        {
            "id": "11321200",
            "cell_type": "code",
            "metadata": {},
            "execution_count": null,
            "source": "m = np.median(a, axis=0)\nout = np.zeros_like(m)\nnp.median(a, axis=0, out=m)",
            "outputs": [
                {
                    "output_type": "execute_result",
                    "metadata": {},
                    "data": {
                        "text/plain": "array([6.5,  4.5,  2.5])"
                    },
                    "execution_count": null
                }
            ]
        },
        {
            "id": "430e56cd",
            "cell_type": "code",
            "metadata": {},
            "execution_count": null,
            "source": "m",
            "outputs": [
                {
                    "output_type": "execute_result",
                    "metadata": {},
                    "data": {
                        "text/plain": "array([6.5,  4.5,  2.5])"
                    },
                    "execution_count": null
                }
            ]
        },
        {
            "id": "1de6e958",
            "cell_type": "code",
            "metadata": {},
            "execution_count": null,
            "source": "b = a.copy()\nnp.median(b, axis=1, overwrite_input=True)",
            "outputs": [
                {
                    "output_type": "execute_result",
                    "metadata": {},
                    "data": {
                        "text/plain": "array([7.,  2.])"
                    },
                    "execution_count": null
                }
            ]
        },
        {
            "id": "ff710305",
            "cell_type": "code",
            "metadata": {},
            "execution_count": null,
            "source": "assert not np.all(a==b)\nb = a.copy()\nnp.median(b, axis=None, overwrite_input=True)",
            "outputs": [
                {
                    "output_type": "execute_result",
                    "metadata": {},
                    "data": {
                        "text/plain": "np.float64(3.5)"
                    },
                    "execution_count": null
                }
            ]
        },
        {
            "id": "87642fdc",
            "cell_type": "code",
            "metadata": {},
            "execution_count": null,
            "source": "assert not np.all(a==b)",
            "outputs": []
        }
    ]
}