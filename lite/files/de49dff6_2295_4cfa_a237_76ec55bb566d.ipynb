{
    "nbformat": 4,
    "nbformat_minor": 5,
    "metadata": {
        "kernelspec": {
            "display_name": "Python",
            "language": "python",
            "name": "python"
        },
        "language_info": {
            "name": "python"
        }
    },
    "cells": [
        {
            "id": "e4826eff",
            "cell_type": "markdown",
            "source": "<div class='alert alert-warning'>\n\nNumPy's interactive examples are experimental and may not always work as expected, with high load times especially on low-resource platforms, , and the version of NumPy might not be in sync with the one you are browsing the documentation for. If you encounter any issues, please report them on the [NumPy issue tracker](https://github.com/numpy/numpy/issues).\n\n</div>",
            "metadata": {}
        },
        {
            "id": "bdbc013d",
            "cell_type": "markdown",
            "source": "For 2-D arrays it is the matrix product:\n",
            "metadata": {}
        },
        {
            "id": "7b0becc7",
            "cell_type": "code",
            "metadata": {},
            "execution_count": null,
            "source": "import numpy as np\na = np.array([[1, 0],\n              [0, 1]])\nb = np.array([[4, 1],\n              [2, 2]])\nnp.matmul(a, b)",
            "outputs": [
                {
                    "output_type": "execute_result",
                    "metadata": {},
                    "data": {
                        "text/plain": "array([[4, 1],\n       [2, 2]])"
                    },
                    "execution_count": null
                }
            ]
        },
        {
            "id": "7e16a5a6",
            "cell_type": "markdown",
            "source": "For 2-D mixed with 1-D, the result is the usual.\n",
            "metadata": {}
        },
        {
            "id": "673b1f40",
            "cell_type": "code",
            "metadata": {},
            "execution_count": null,
            "source": "a = np.array([[1, 0],\n              [0, 1]])\nb = np.array([1, 2])\nnp.matmul(a, b)",
            "outputs": [
                {
                    "output_type": "execute_result",
                    "metadata": {},
                    "data": {
                        "text/plain": "array([1, 2])"
                    },
                    "execution_count": null
                }
            ]
        },
        {
            "id": "14b0eced",
            "cell_type": "code",
            "metadata": {},
            "execution_count": null,
            "source": "np.matmul(b, a)",
            "outputs": [
                {
                    "output_type": "execute_result",
                    "metadata": {},
                    "data": {
                        "text/plain": "array([1, 2])"
                    },
                    "execution_count": null
                }
            ]
        },
        {
            "id": "2a789945",
            "cell_type": "markdown",
            "source": "Broadcasting is conventional for stacks of arrays\n",
            "metadata": {}
        },
        {
            "id": "f7a2b4bf",
            "cell_type": "code",
            "metadata": {},
            "execution_count": null,
            "source": "a = np.arange(2 * 2 * 4).reshape((2, 2, 4))\nb = np.arange(2 * 2 * 4).reshape((2, 4, 2))\nnp.matmul(a,b).shape",
            "outputs": [
                {
                    "output_type": "execute_result",
                    "metadata": {},
                    "data": {
                        "text/plain": "(2, 2, 2)"
                    },
                    "execution_count": null
                }
            ]
        },
        {
            "id": "9437a87d",
            "cell_type": "code",
            "metadata": {},
            "execution_count": null,
            "source": "np.matmul(a, b)[0, 1, 1]",
            "outputs": [
                {
                    "output_type": "execute_result",
                    "metadata": {},
                    "data": {
                        "text/plain": "98"
                    },
                    "execution_count": null
                }
            ]
        },
        {
            "id": "42e8ddf2",
            "cell_type": "code",
            "metadata": {},
            "execution_count": null,
            "source": "sum(a[0, 1, :] * b[0 , :, 1])",
            "outputs": [
                {
                    "output_type": "execute_result",
                    "metadata": {},
                    "data": {
                        "text/plain": "98"
                    },
                    "execution_count": null
                }
            ]
        },
        {
            "id": "0e64bef3",
            "cell_type": "markdown",
            "source": "Vector, vector returns the scalar inner product, but neither argument\nis complex-conjugated:\n",
            "metadata": {}
        },
        {
            "id": "c7cbd148",
            "cell_type": "code",
            "metadata": {},
            "execution_count": null,
            "source": "np.matmul([2j, 3j], [2j, 3j])",
            "outputs": [
                {
                    "output_type": "execute_result",
                    "metadata": {},
                    "data": {
                        "text/plain": "(-13+0j)"
                    },
                    "execution_count": null
                }
            ]
        },
        {
            "id": "f273bc32",
            "cell_type": "markdown",
            "source": "Scalar multiplication raises an error.\n",
            "metadata": {}
        },
        {
            "id": "4256d6a1",
            "cell_type": "code",
            "metadata": {},
            "execution_count": null,
            "source": "np.matmul([1,2], 3)\n",
            "outputs": [
                {
                    "output_type": "execute_result",
                    "metadata": {},
                    "data": {
                        "text/plain": "Traceback (most recent call last):\nValueError: matmul: Input operand 1 does not have enough dimensions ..."
                    },
                    "execution_count": null
                }
            ]
        },
        {
            "id": "abdba8bd",
            "cell_type": "markdown",
            "source": "The ``@`` operator can be used as a shorthand for ``np.matmul`` on\nndarrays.\n",
            "metadata": {}
        },
        {
            "id": "f198685d",
            "cell_type": "code",
            "metadata": {},
            "execution_count": null,
            "source": "x1 = np.array([2j, 3j])\nx2 = np.array([2j, 3j])\nx1 @ x2",
            "outputs": [
                {
                    "output_type": "execute_result",
                    "metadata": {},
                    "data": {
                        "text/plain": "(-13+0j)"
                    },
                    "execution_count": null
                }
            ]
        },
        {
            "id": "007868c3",
            "cell_type": "markdown",
            "source": ".. versionadded:: 1.10.0",
            "metadata": {}
        }
    ]
}