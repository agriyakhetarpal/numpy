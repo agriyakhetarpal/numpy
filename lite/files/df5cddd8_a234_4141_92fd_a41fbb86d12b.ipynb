{
    "nbformat": 4,
    "nbformat_minor": 5,
    "metadata": {
        "kernelspec": {
            "display_name": "Python",
            "language": "python",
            "name": "python"
        },
        "language_info": {
            "name": "python"
        }
    },
    "cells": [
        {
            "id": "d469b142",
            "cell_type": "markdown",
            "source": "<div class='alert alert-warning'>\n\nNumPy's interactive examples are experimental and may not always work as expected, with high load times especially on low-resource platforms, , and the version of NumPy might not be in sync with the one you are browsing the documentation for. If you encounter any issues, please report them on the [NumPy issue tracker](https://github.com/numpy/numpy/issues).\n\n</div>",
            "metadata": {}
        },
        {
            "id": "1b2d5e91",
            "cell_type": "code",
            "metadata": {},
            "execution_count": null,
            "source": "import numpy as np\nnp.isneginf(-np.inf)",
            "outputs": [
                {
                    "output_type": "execute_result",
                    "metadata": {},
                    "data": {
                        "text/plain": "True"
                    },
                    "execution_count": null
                }
            ]
        },
        {
            "id": "9a5fa72a",
            "cell_type": "code",
            "metadata": {},
            "execution_count": null,
            "source": "np.isneginf(np.inf)",
            "outputs": [
                {
                    "output_type": "execute_result",
                    "metadata": {},
                    "data": {
                        "text/plain": "False"
                    },
                    "execution_count": null
                }
            ]
        },
        {
            "id": "b19ac749",
            "cell_type": "code",
            "metadata": {},
            "execution_count": null,
            "source": "np.isneginf([-np.inf, 0., np.inf])",
            "outputs": [
                {
                    "output_type": "execute_result",
                    "metadata": {},
                    "data": {
                        "text/plain": "array([ True, False, False])"
                    },
                    "execution_count": null
                }
            ]
        },
        {
            "id": "282bf9f6",
            "cell_type": "code",
            "metadata": {},
            "execution_count": null,
            "source": "x = np.array([-np.inf, 0., np.inf])\ny = np.array([2, 2, 2])\nnp.isneginf(x, y)",
            "outputs": [
                {
                    "output_type": "execute_result",
                    "metadata": {},
                    "data": {
                        "text/plain": "array([1, 0, 0])"
                    },
                    "execution_count": null
                }
            ]
        },
        {
            "id": "a834fe18",
            "cell_type": "code",
            "metadata": {},
            "execution_count": null,
            "source": "y",
            "outputs": [
                {
                    "output_type": "execute_result",
                    "metadata": {},
                    "data": {
                        "text/plain": "array([1, 0, 0])"
                    },
                    "execution_count": null
                }
            ]
        }
    ]
}