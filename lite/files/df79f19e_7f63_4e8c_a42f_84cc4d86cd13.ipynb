{
    "nbformat": 4,
    "nbformat_minor": 5,
    "metadata": {
        "kernelspec": {
            "display_name": "Python",
            "language": "python",
            "name": "python"
        },
        "language_info": {
            "name": "python"
        }
    },
    "cells": [
        {
            "id": "b5927101",
            "cell_type": "markdown",
            "source": "<div class='alert alert-warning'>\n\nNumPy's interactive examples are experimental and may not always work as expected, with high load times especially on low-resource platforms, and the version of NumPy might not be in sync with the one you are browsing the documentation for. If you encounter any issues, please report them on the [NumPy issue tracker](https://github.com/numpy/numpy/issues).\n\n</div>",
            "metadata": {}
        },
        {
            "id": "4ab4422f",
            "cell_type": "markdown",
            "source": "`issubdtype` can be used to check the type of arrays:\n",
            "metadata": {}
        },
        {
            "id": "f97e1ae4",
            "cell_type": "code",
            "metadata": {},
            "execution_count": null,
            "source": "ints = np.array([1, 2, 3], dtype=np.int32)\nnp.issubdtype(ints.dtype, np.integer)",
            "outputs": [
                {
                    "output_type": "execute_result",
                    "metadata": {},
                    "data": {
                        "text/plain": "True"
                    },
                    "execution_count": null
                }
            ]
        },
        {
            "id": "adecbb3f",
            "cell_type": "code",
            "metadata": {},
            "execution_count": null,
            "source": "np.issubdtype(ints.dtype, np.floating)",
            "outputs": [
                {
                    "output_type": "execute_result",
                    "metadata": {},
                    "data": {
                        "text/plain": "False"
                    },
                    "execution_count": null
                }
            ]
        },
        {
            "id": "8b1bd0bf",
            "cell_type": "code",
            "metadata": {},
            "execution_count": null,
            "source": "floats = np.array([1, 2, 3], dtype=np.float32)\nnp.issubdtype(floats.dtype, np.integer)",
            "outputs": [
                {
                    "output_type": "execute_result",
                    "metadata": {},
                    "data": {
                        "text/plain": "False"
                    },
                    "execution_count": null
                }
            ]
        },
        {
            "id": "c09fb514",
            "cell_type": "code",
            "metadata": {},
            "execution_count": null,
            "source": "np.issubdtype(floats.dtype, np.floating)",
            "outputs": [
                {
                    "output_type": "execute_result",
                    "metadata": {},
                    "data": {
                        "text/plain": "True"
                    },
                    "execution_count": null
                }
            ]
        },
        {
            "id": "ebc89e38",
            "cell_type": "markdown",
            "source": "Similar types of different sizes are not subdtypes of each other:\n",
            "metadata": {}
        },
        {
            "id": "2a397804",
            "cell_type": "code",
            "metadata": {},
            "execution_count": null,
            "source": "np.issubdtype(np.float64, np.float32)",
            "outputs": [
                {
                    "output_type": "execute_result",
                    "metadata": {},
                    "data": {
                        "text/plain": "False"
                    },
                    "execution_count": null
                }
            ]
        },
        {
            "id": "0d713cef",
            "cell_type": "code",
            "metadata": {},
            "execution_count": null,
            "source": "np.issubdtype(np.float32, np.float64)",
            "outputs": [
                {
                    "output_type": "execute_result",
                    "metadata": {},
                    "data": {
                        "text/plain": "False"
                    },
                    "execution_count": null
                }
            ]
        },
        {
            "id": "e660e268",
            "cell_type": "markdown",
            "source": "but both are subtypes of `floating`:\n",
            "metadata": {}
        },
        {
            "id": "235238eb",
            "cell_type": "code",
            "metadata": {},
            "execution_count": null,
            "source": "np.issubdtype(np.float64, np.floating)",
            "outputs": [
                {
                    "output_type": "execute_result",
                    "metadata": {},
                    "data": {
                        "text/plain": "True"
                    },
                    "execution_count": null
                }
            ]
        },
        {
            "id": "2d2b2153",
            "cell_type": "code",
            "metadata": {},
            "execution_count": null,
            "source": "np.issubdtype(np.float32, np.floating)",
            "outputs": [
                {
                    "output_type": "execute_result",
                    "metadata": {},
                    "data": {
                        "text/plain": "True"
                    },
                    "execution_count": null
                }
            ]
        },
        {
            "id": "da253c4b",
            "cell_type": "markdown",
            "source": "For convenience, dtype-like objects are allowed too:\n",
            "metadata": {}
        },
        {
            "id": "da22b4b3",
            "cell_type": "code",
            "metadata": {},
            "execution_count": null,
            "source": "np.issubdtype('S1', np.bytes_)",
            "outputs": [
                {
                    "output_type": "execute_result",
                    "metadata": {},
                    "data": {
                        "text/plain": "True"
                    },
                    "execution_count": null
                }
            ]
        },
        {
            "id": "a9845695",
            "cell_type": "code",
            "metadata": {},
            "execution_count": null,
            "source": "np.issubdtype('i4', np.signedinteger)",
            "outputs": [
                {
                    "output_type": "execute_result",
                    "metadata": {},
                    "data": {
                        "text/plain": "True"
                    },
                    "execution_count": null
                }
            ]
        }
    ]
}