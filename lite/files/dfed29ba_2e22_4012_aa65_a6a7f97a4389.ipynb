{
    "nbformat": 4,
    "nbformat_minor": 5,
    "metadata": {
        "kernelspec": {
            "display_name": "Python",
            "language": "python",
            "name": "python"
        },
        "language_info": {
            "name": "python"
        }
    },
    "cells": [
        {
            "id": "e4a69849",
            "cell_type": "markdown",
            "source": "<div class='alert alert-warning'>\n\nNumPy's interactive examples are experimental and may not always work as expected, with high load times especially on low-resource platforms, and the version of NumPy might not be in sync with the one you are browsing the documentation for. If you encounter any issues, please report them on the [NumPy issue tracker](https://github.com/numpy/numpy/issues).\n\n</div>",
            "metadata": {}
        },
        {
            "id": "06d62ec2",
            "cell_type": "markdown",
            "source": "Convert a list into an array:\n",
            "metadata": {}
        },
        {
            "id": "9c6fc704",
            "cell_type": "code",
            "metadata": {},
            "execution_count": null,
            "source": "a = [1, 2]\nimport numpy as np\nnp.asarray(a)",
            "outputs": [
                {
                    "output_type": "execute_result",
                    "metadata": {},
                    "data": {
                        "text/plain": "array([1, 2])"
                    },
                    "execution_count": null
                }
            ]
        },
        {
            "id": "dfac8c04",
            "cell_type": "markdown",
            "source": "Existing arrays are not copied:\n",
            "metadata": {}
        },
        {
            "id": "daca6733",
            "cell_type": "code",
            "metadata": {},
            "execution_count": null,
            "source": "a = np.array([1, 2])\nnp.asarray(a) is a",
            "outputs": [
                {
                    "output_type": "execute_result",
                    "metadata": {},
                    "data": {
                        "text/plain": "True"
                    },
                    "execution_count": null
                }
            ]
        },
        {
            "id": "1c196361",
            "cell_type": "markdown",
            "source": "If `dtype` is set, array is copied only if dtype does not match:\n",
            "metadata": {}
        },
        {
            "id": "5b0e8735",
            "cell_type": "code",
            "metadata": {},
            "execution_count": null,
            "source": "a = np.array([1, 2], dtype=np.float32)\nnp.shares_memory(np.asarray(a, dtype=np.float32), a)",
            "outputs": [
                {
                    "output_type": "execute_result",
                    "metadata": {},
                    "data": {
                        "text/plain": "True"
                    },
                    "execution_count": null
                }
            ]
        },
        {
            "id": "9a668589",
            "cell_type": "code",
            "metadata": {},
            "execution_count": null,
            "source": "np.shares_memory(np.asarray(a, dtype=np.float64), a)",
            "outputs": [
                {
                    "output_type": "execute_result",
                    "metadata": {},
                    "data": {
                        "text/plain": "False"
                    },
                    "execution_count": null
                }
            ]
        },
        {
            "id": "b23d4c60",
            "cell_type": "markdown",
            "source": "Contrary to `asanyarray`, ndarray subclasses are not passed through:\n",
            "metadata": {}
        },
        {
            "id": "44f3103a",
            "cell_type": "code",
            "metadata": {},
            "execution_count": null,
            "source": "issubclass(np.recarray, np.ndarray)",
            "outputs": [
                {
                    "output_type": "execute_result",
                    "metadata": {},
                    "data": {
                        "text/plain": "True"
                    },
                    "execution_count": null
                }
            ]
        },
        {
            "id": "77a0bdb9",
            "cell_type": "code",
            "metadata": {},
            "execution_count": null,
            "source": "a = np.array([(1., 2), (3., 4)], dtype='f4,i4').view(np.recarray)\nnp.asarray(a) is a",
            "outputs": [
                {
                    "output_type": "execute_result",
                    "metadata": {},
                    "data": {
                        "text/plain": "False"
                    },
                    "execution_count": null
                }
            ]
        },
        {
            "id": "346207cd",
            "cell_type": "code",
            "metadata": {},
            "execution_count": null,
            "source": "np.asanyarray(a) is a",
            "outputs": [
                {
                    "output_type": "execute_result",
                    "metadata": {},
                    "data": {
                        "text/plain": "True"
                    },
                    "execution_count": null
                }
            ]
        }
    ]
}