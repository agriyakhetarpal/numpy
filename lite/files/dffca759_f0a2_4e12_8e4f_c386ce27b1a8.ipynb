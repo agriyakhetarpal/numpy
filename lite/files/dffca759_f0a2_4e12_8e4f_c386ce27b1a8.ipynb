{
    "nbformat": 4,
    "nbformat_minor": 5,
    "metadata": {
        "kernelspec": {
            "display_name": "Python",
            "language": "python",
            "name": "python"
        },
        "language_info": {
            "name": "python"
        }
    },
    "cells": [
        {
            "id": "3cb9db8c",
            "cell_type": "markdown",
            "source": "<div class='alert alert-warning'>\n\nNumPy's interactive examples are experimental and may not always work as expected, with high load times especially on low-resource platforms, , and the version of NumPy might not be in sync with the one you are browsing the documentation for. If you encounter any issues, please report them on the [NumPy issue tracker](https://github.com/numpy/numpy/issues).\n\n</div>",
            "metadata": {}
        },
        {
            "id": "c4cc3126",
            "cell_type": "markdown",
            "source": "The command ``f2py -m scalar scalar.f`` can be executed from Python as\nfollows.\n\n.. literalinclude:: ../../source/f2py/code/results/run_main_session.dat\n    :language: python",
            "metadata": {}
        }
    ]
}