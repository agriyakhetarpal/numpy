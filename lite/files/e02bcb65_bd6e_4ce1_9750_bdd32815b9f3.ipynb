{
    "nbformat": 4,
    "nbformat_minor": 5,
    "metadata": {
        "kernelspec": {
            "display_name": "Python",
            "language": "python",
            "name": "python"
        },
        "language_info": {
            "name": "python"
        }
    },
    "cells": [
        {
            "id": "030af76a",
            "cell_type": "markdown",
            "source": "<div class='alert alert-warning'>\n\nNumPy's interactive examples are experimental and may not always work as expected, with high load times especially on low-resource platforms, , and the version of NumPy might not be in sync with the one you are browsing the documentation for. If you encounter any issues, please report them on the [NumPy issue tracker](https://github.com/numpy/numpy/issues).\n\n</div>",
            "metadata": {}
        },
        {
            "id": "70a2c241",
            "cell_type": "code",
            "metadata": {},
            "execution_count": null,
            "source": "import numpy as np",
            "outputs": []
        },
        {
            "id": "1301bc8b",
            "cell_type": "markdown",
            "source": "For this sample array\n",
            "metadata": {}
        },
        {
            "id": "47686fa2",
            "cell_type": "code",
            "metadata": {},
            "execution_count": null,
            "source": "a = np.array([[10, 30, 20], [60, 40, 50]])",
            "outputs": []
        },
        {
            "id": "08a2112d",
            "cell_type": "markdown",
            "source": "We can sort either by using sort directly, or argsort and this function\n",
            "metadata": {}
        },
        {
            "id": "f3958280",
            "cell_type": "code",
            "metadata": {},
            "execution_count": null,
            "source": "np.sort(a, axis=1)",
            "outputs": [
                {
                    "output_type": "execute_result",
                    "metadata": {},
                    "data": {
                        "text/plain": "array([[10, 20, 30],\n       [40, 50, 60]])"
                    },
                    "execution_count": null
                }
            ]
        },
        {
            "id": "aa6d8f1d",
            "cell_type": "code",
            "metadata": {},
            "execution_count": null,
            "source": "ai = np.argsort(a, axis=1)\nai",
            "outputs": [
                {
                    "output_type": "execute_result",
                    "metadata": {},
                    "data": {
                        "text/plain": "array([[0, 2, 1],\n       [1, 2, 0]])"
                    },
                    "execution_count": null
                }
            ]
        },
        {
            "id": "c514cda9",
            "cell_type": "code",
            "metadata": {},
            "execution_count": null,
            "source": "np.take_along_axis(a, ai, axis=1)",
            "outputs": [
                {
                    "output_type": "execute_result",
                    "metadata": {},
                    "data": {
                        "text/plain": "array([[10, 20, 30],\n       [40, 50, 60]])"
                    },
                    "execution_count": null
                }
            ]
        },
        {
            "id": "090fbcaa",
            "cell_type": "markdown",
            "source": "The same works for max and min, if you maintain the trivial dimension\nwith ``keepdims``:\n",
            "metadata": {}
        },
        {
            "id": "02ce3d02",
            "cell_type": "code",
            "metadata": {},
            "execution_count": null,
            "source": "np.max(a, axis=1, keepdims=True)",
            "outputs": [
                {
                    "output_type": "execute_result",
                    "metadata": {},
                    "data": {
                        "text/plain": "array([[30],\n       [60]])"
                    },
                    "execution_count": null
                }
            ]
        },
        {
            "id": "afc9aeb0",
            "cell_type": "code",
            "metadata": {},
            "execution_count": null,
            "source": "ai = np.argmax(a, axis=1, keepdims=True)\nai",
            "outputs": [
                {
                    "output_type": "execute_result",
                    "metadata": {},
                    "data": {
                        "text/plain": "array([[1],\n       [0]])"
                    },
                    "execution_count": null
                }
            ]
        },
        {
            "id": "fa518724",
            "cell_type": "code",
            "metadata": {},
            "execution_count": null,
            "source": "np.take_along_axis(a, ai, axis=1)",
            "outputs": [
                {
                    "output_type": "execute_result",
                    "metadata": {},
                    "data": {
                        "text/plain": "array([[30],\n       [60]])"
                    },
                    "execution_count": null
                }
            ]
        },
        {
            "id": "026ef47f",
            "cell_type": "markdown",
            "source": "If we want to get the max and min at the same time, we can stack the\nindices first\n",
            "metadata": {}
        },
        {
            "id": "0f770d6a",
            "cell_type": "code",
            "metadata": {},
            "execution_count": null,
            "source": "ai_min = np.argmin(a, axis=1, keepdims=True)\nai_max = np.argmax(a, axis=1, keepdims=True)\nai = np.concatenate([ai_min, ai_max], axis=1)\nai",
            "outputs": [
                {
                    "output_type": "execute_result",
                    "metadata": {},
                    "data": {
                        "text/plain": "array([[0, 1],\n       [1, 0]])"
                    },
                    "execution_count": null
                }
            ]
        },
        {
            "id": "526e4392",
            "cell_type": "code",
            "metadata": {},
            "execution_count": null,
            "source": "np.take_along_axis(a, ai, axis=1)",
            "outputs": [
                {
                    "output_type": "execute_result",
                    "metadata": {},
                    "data": {
                        "text/plain": "array([[10, 30],\n       [40, 60]])"
                    },
                    "execution_count": null
                }
            ]
        }
    ]
}