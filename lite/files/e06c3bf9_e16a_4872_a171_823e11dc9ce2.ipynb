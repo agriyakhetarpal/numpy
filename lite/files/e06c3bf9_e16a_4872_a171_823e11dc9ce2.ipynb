{
    "nbformat": 4,
    "nbformat_minor": 5,
    "metadata": {
        "kernelspec": {
            "display_name": "Python",
            "language": "python",
            "name": "python"
        },
        "language_info": {
            "name": "python"
        }
    },
    "cells": [
        {
            "id": "9d5ad880",
            "cell_type": "markdown",
            "source": "<div class='alert alert-warning'>\n\nNumPy's interactive examples are experimental and may not always work as expected, with high load times especially on low-resource platforms, and the version of NumPy might not be in sync with the one you are browsing the documentation for. If you encounter any issues, please report them on the [NumPy issue tracker](https://github.com/numpy/numpy/issues).\n\n</div>",
            "metadata": {}
        },
        {
            "id": "2f3522a5",
            "cell_type": "code",
            "metadata": {},
            "execution_count": null,
            "source": "import numpy as np",
            "outputs": []
        },
        {
            "id": "f645c665",
            "cell_type": "markdown",
            "source": "Convert a list into an array. If all elements are finite, then\n``asarray_chkfinite`` is identical to ``asarray``.\n",
            "metadata": {}
        },
        {
            "id": "b19df525",
            "cell_type": "code",
            "metadata": {},
            "execution_count": null,
            "source": "a = [1, 2]\nnp.asarray_chkfinite(a, dtype=float)",
            "outputs": [
                {
                    "output_type": "execute_result",
                    "metadata": {},
                    "data": {
                        "text/plain": "array([1., 2.])"
                    },
                    "execution_count": null
                }
            ]
        },
        {
            "id": "94459b59",
            "cell_type": "markdown",
            "source": "Raises ValueError if array_like contains Nans or Infs.\n",
            "metadata": {}
        },
        {
            "id": "916cf0d7",
            "cell_type": "code",
            "metadata": {},
            "execution_count": null,
            "source": "a = [1, 2, np.inf]\ntry:\n    np.asarray_chkfinite(a)\nexcept ValueError:\n    print('ValueError')\n",
            "outputs": [
                {
                    "output_type": "execute_result",
                    "metadata": {},
                    "data": {
                        "text/plain": "ValueError"
                    },
                    "execution_count": null
                }
            ]
        }
    ]
}