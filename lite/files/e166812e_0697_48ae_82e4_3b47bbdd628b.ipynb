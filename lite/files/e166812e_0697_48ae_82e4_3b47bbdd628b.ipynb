{
    "nbformat": 4,
    "nbformat_minor": 5,
    "metadata": {
        "kernelspec": {
            "display_name": "Python",
            "language": "python",
            "name": "python"
        },
        "language_info": {
            "name": "python"
        }
    },
    "cells": [
        {
            "id": "55f7ba50",
            "cell_type": "markdown",
            "source": "<div class='alert alert-warning'>\n\nNumPy's interactive examples are experimental and may not always work as expected, with high load times especially on low-resource platforms, and the version of NumPy might not be in sync with the one you are browsing the documentation for. If you encounter any issues, please report them on the [NumPy issue tracker](https://github.com/numpy/numpy/issues).\n\n</div>",
            "metadata": {}
        },
        {
            "id": "2c9eb0c7",
            "cell_type": "code",
            "metadata": {},
            "execution_count": null,
            "source": "import numpy as np",
            "outputs": []
        },
        {
            "id": "32bc3262",
            "cell_type": "markdown",
            "source": "Create a 4 by 4 array.\n",
            "metadata": {}
        },
        {
            "id": "7d763a33",
            "cell_type": "code",
            "metadata": {},
            "execution_count": null,
            "source": "a = np.arange(16).reshape(4, 4)\na",
            "outputs": [
                {
                    "output_type": "execute_result",
                    "metadata": {},
                    "data": {
                        "text/plain": "array([[ 0,  1,  2,  3],\n       [ 4,  5,  6,  7],\n       [ 8,  9, 10, 11],\n       [12, 13, 14, 15]])"
                    },
                    "execution_count": null
                }
            ]
        },
        {
            "id": "66249b6f",
            "cell_type": "markdown",
            "source": "Get the indices of the diagonal elements.\n",
            "metadata": {}
        },
        {
            "id": "ff5b92db",
            "cell_type": "code",
            "metadata": {},
            "execution_count": null,
            "source": "di = np.diag_indices_from(a)\ndi",
            "outputs": [
                {
                    "output_type": "execute_result",
                    "metadata": {},
                    "data": {
                        "text/plain": "(array([0, 1, 2, 3]), array([0, 1, 2, 3]))"
                    },
                    "execution_count": null
                }
            ]
        },
        {
            "id": "36192e66",
            "cell_type": "code",
            "metadata": {},
            "execution_count": null,
            "source": "a[di]",
            "outputs": [
                {
                    "output_type": "execute_result",
                    "metadata": {},
                    "data": {
                        "text/plain": "array([ 0,  5, 10, 15])"
                    },
                    "execution_count": null
                }
            ]
        },
        {
            "id": "322e8821",
            "cell_type": "markdown",
            "source": "This is simply syntactic sugar for diag_indices.\n",
            "metadata": {}
        },
        {
            "id": "c8a1bdfa",
            "cell_type": "code",
            "metadata": {},
            "execution_count": null,
            "source": "np.diag_indices(a.shape[0])",
            "outputs": [
                {
                    "output_type": "execute_result",
                    "metadata": {},
                    "data": {
                        "text/plain": "(array([0, 1, 2, 3]), array([0, 1, 2, 3]))"
                    },
                    "execution_count": null
                }
            ]
        }
    ]
}