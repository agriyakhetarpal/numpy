{
    "nbformat": 4,
    "nbformat_minor": 5,
    "metadata": {
        "kernelspec": {
            "display_name": "Python",
            "language": "python",
            "name": "python"
        },
        "language_info": {
            "name": "python"
        }
    },
    "cells": [
        {
            "id": "9b0ba177",
            "cell_type": "markdown",
            "source": "<div class='alert alert-warning'>\n\nNumPy's interactive examples are experimental and may not always work as expected, with high load times especially on low-resource platforms, and the version of NumPy might not be in sync with the one you are browsing the documentation for. If you encounter any issues, please report them on the [NumPy issue tracker](https://github.com/numpy/numpy/issues).\n\n</div>",
            "metadata": {}
        },
        {
            "id": "ad2b4652",
            "cell_type": "code",
            "metadata": {},
            "execution_count": null,
            "source": "colors = [16, 8, 4]\nseed = 4861946401452\ngen = np.random.Generator(np.random.PCG64(seed))\ngen.multivariate_hypergeometric(colors, 6)",
            "outputs": [
                {
                    "output_type": "execute_result",
                    "metadata": {},
                    "data": {
                        "text/plain": "array([5, 0, 1])"
                    },
                    "execution_count": null
                }
            ]
        },
        {
            "id": "df4c5fc5",
            "cell_type": "code",
            "metadata": {},
            "execution_count": null,
            "source": "gen.multivariate_hypergeometric(colors, 6, size=3)",
            "outputs": [
                {
                    "output_type": "execute_result",
                    "metadata": {},
                    "data": {
                        "text/plain": "array([[5, 0, 1],\n       [2, 2, 2],\n       [3, 3, 0]])"
                    },
                    "execution_count": null
                }
            ]
        },
        {
            "id": "0df4b5cc",
            "cell_type": "code",
            "metadata": {},
            "execution_count": null,
            "source": "gen.multivariate_hypergeometric(colors, 6, size=(2, 2))",
            "outputs": [
                {
                    "output_type": "execute_result",
                    "metadata": {},
                    "data": {
                        "text/plain": "array([[[3, 2, 1],\n        [3, 2, 1]],\n       [[4, 1, 1],\n        [3, 2, 1]]])"
                    },
                    "execution_count": null
                }
            ]
        }
    ]
}