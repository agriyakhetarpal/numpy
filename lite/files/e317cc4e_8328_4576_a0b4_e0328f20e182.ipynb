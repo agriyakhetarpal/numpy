{
    "nbformat": 4,
    "nbformat_minor": 5,
    "metadata": {
        "kernelspec": {
            "display_name": "Python",
            "language": "python",
            "name": "python"
        },
        "language_info": {
            "name": "python"
        }
    },
    "cells": [
        {
            "id": "f146d61f",
            "cell_type": "markdown",
            "source": "<div class='alert alert-warning'>\n\nNumPy's interactive examples are experimental and may not always work as expected, with high load times especially on low-resource platforms, and the version of NumPy might not be in sync with the one you are browsing the documentation for. If you encounter any issues, please report them on the [NumPy issue tracker](https://github.com/numpy/numpy/issues).\n\n</div>",
            "metadata": {}
        },
        {
            "id": "fb657aa4",
            "cell_type": "markdown",
            "source": "Vector cross-product.\n",
            "metadata": {}
        },
        {
            "id": "ddc7375e",
            "cell_type": "code",
            "metadata": {},
            "execution_count": null,
            "source": "import numpy as np\nx = [1, 2, 3]\ny = [4, 5, 6]\nnp.cross(x, y)",
            "outputs": [
                {
                    "output_type": "execute_result",
                    "metadata": {},
                    "data": {
                        "text/plain": "array([-3,  6, -3])"
                    },
                    "execution_count": null
                }
            ]
        },
        {
            "id": "fcefeb4f",
            "cell_type": "markdown",
            "source": "One vector with dimension 2.\n",
            "metadata": {}
        },
        {
            "id": "ff20e69c",
            "cell_type": "code",
            "metadata": {},
            "execution_count": null,
            "source": "x = [1, 2]\ny = [4, 5, 6]\nnp.cross(x, y)",
            "outputs": [
                {
                    "output_type": "execute_result",
                    "metadata": {},
                    "data": {
                        "text/plain": "array([12, -6, -3])"
                    },
                    "execution_count": null
                }
            ]
        },
        {
            "id": "b65c85ed",
            "cell_type": "markdown",
            "source": "Equivalently:\n",
            "metadata": {}
        },
        {
            "id": "f265279d",
            "cell_type": "code",
            "metadata": {},
            "execution_count": null,
            "source": "x = [1, 2, 0]\ny = [4, 5, 6]\nnp.cross(x, y)",
            "outputs": [
                {
                    "output_type": "execute_result",
                    "metadata": {},
                    "data": {
                        "text/plain": "array([12, -6, -3])"
                    },
                    "execution_count": null
                }
            ]
        },
        {
            "id": "e5ea5dbe",
            "cell_type": "markdown",
            "source": "Both vectors with dimension 2.\n",
            "metadata": {}
        },
        {
            "id": "ac5ec423",
            "cell_type": "code",
            "metadata": {},
            "execution_count": null,
            "source": "x = [1,2]\ny = [4,5]\nnp.cross(x, y)",
            "outputs": [
                {
                    "output_type": "execute_result",
                    "metadata": {},
                    "data": {
                        "text/plain": "array(-3)"
                    },
                    "execution_count": null
                }
            ]
        },
        {
            "id": "52d308e9",
            "cell_type": "markdown",
            "source": "Multiple vector cross-products. Note that the direction of the cross\nproduct vector is defined by the *right-hand rule*.\n",
            "metadata": {}
        },
        {
            "id": "8d1f1782",
            "cell_type": "code",
            "metadata": {},
            "execution_count": null,
            "source": "x = np.array([[1,2,3], [4,5,6]])\ny = np.array([[4,5,6], [1,2,3]])\nnp.cross(x, y)",
            "outputs": [
                {
                    "output_type": "execute_result",
                    "metadata": {},
                    "data": {
                        "text/plain": "array([[-3,  6, -3],\n       [ 3, -6,  3]])"
                    },
                    "execution_count": null
                }
            ]
        },
        {
            "id": "198c2ece",
            "cell_type": "markdown",
            "source": "The orientation of `c` can be changed using the `axisc` keyword.\n",
            "metadata": {}
        },
        {
            "id": "51eca7ed",
            "cell_type": "code",
            "metadata": {},
            "execution_count": null,
            "source": "np.cross(x, y, axisc=0)",
            "outputs": [
                {
                    "output_type": "execute_result",
                    "metadata": {},
                    "data": {
                        "text/plain": "array([[-3,  3],\n       [ 6, -6],\n       [-3,  3]])"
                    },
                    "execution_count": null
                }
            ]
        },
        {
            "id": "e0b72f90",
            "cell_type": "markdown",
            "source": "Change the vector definition of `x` and `y` using `axisa` and `axisb`.\n",
            "metadata": {}
        },
        {
            "id": "650ae26a",
            "cell_type": "code",
            "metadata": {},
            "execution_count": null,
            "source": "x = np.array([[1,2,3], [4,5,6], [7, 8, 9]])\ny = np.array([[7, 8, 9], [4,5,6], [1,2,3]])\nnp.cross(x, y)",
            "outputs": [
                {
                    "output_type": "execute_result",
                    "metadata": {},
                    "data": {
                        "text/plain": "array([[ -6,  12,  -6],\n       [  0,   0,   0],\n       [  6, -12,   6]])"
                    },
                    "execution_count": null
                }
            ]
        },
        {
            "id": "3f7213f9",
            "cell_type": "code",
            "metadata": {},
            "execution_count": null,
            "source": "np.cross(x, y, axisa=0, axisb=0)",
            "outputs": [
                {
                    "output_type": "execute_result",
                    "metadata": {},
                    "data": {
                        "text/plain": "array([[-24,  48, -24],\n       [-30,  60, -30],\n       [-36,  72, -36]])"
                    },
                    "execution_count": null
                }
            ]
        }
    ]
}