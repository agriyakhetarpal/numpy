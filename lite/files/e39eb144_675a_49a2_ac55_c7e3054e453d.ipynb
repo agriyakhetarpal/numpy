{
    "nbformat": 4,
    "nbformat_minor": 5,
    "metadata": {
        "kernelspec": {
            "display_name": "Python",
            "language": "python",
            "name": "python"
        },
        "language_info": {
            "name": "python"
        }
    },
    "cells": [
        {
            "id": "e224f29b",
            "cell_type": "markdown",
            "source": "<div class='alert alert-warning'>\n\nNumPy's interactive examples are experimental and may not always work as expected, with high load times especially on low-resource platforms, and the version of NumPy might not be in sync with the one you are browsing the documentation for. If you encounter any issues, please report them on the [NumPy issue tracker](https://github.com/numpy/numpy/issues).\n\n</div>",
            "metadata": {}
        },
        {
            "id": "741f9618",
            "cell_type": "code",
            "metadata": {},
            "execution_count": null,
            "source": "np.linalg.trace(np.eye(3))",
            "outputs": [
                {
                    "output_type": "execute_result",
                    "metadata": {},
                    "data": {
                        "text/plain": "3.0"
                    },
                    "execution_count": null
                }
            ]
        },
        {
            "id": "0e81ed7f",
            "cell_type": "code",
            "metadata": {},
            "execution_count": null,
            "source": "a = np.arange(8).reshape((2, 2, 2))\nnp.linalg.trace(a)",
            "outputs": [
                {
                    "output_type": "execute_result",
                    "metadata": {},
                    "data": {
                        "text/plain": "array([3, 11])"
                    },
                    "execution_count": null
                }
            ]
        },
        {
            "id": "39ad8a84",
            "cell_type": "markdown",
            "source": "Trace is computed with the last two axes as the 2-d sub-arrays.\nThis behavior differs from :py:func:`numpy.trace` which uses the first two\naxes by default.\n",
            "metadata": {}
        },
        {
            "id": "92d0fe7e",
            "cell_type": "code",
            "metadata": {},
            "execution_count": null,
            "source": "a = np.arange(24).reshape((3, 2, 2, 2))\nnp.linalg.trace(a).shape",
            "outputs": [
                {
                    "output_type": "execute_result",
                    "metadata": {},
                    "data": {
                        "text/plain": "(3, 2)"
                    },
                    "execution_count": null
                }
            ]
        },
        {
            "id": "81d85acc",
            "cell_type": "markdown",
            "source": "Traces adjacent to the main diagonal can be obtained by using the\n`offset` argument:\n",
            "metadata": {}
        },
        {
            "id": "06a2ba25",
            "cell_type": "code",
            "metadata": {},
            "execution_count": null,
            "source": "a = np.arange(9).reshape((3, 3)); a",
            "outputs": [
                {
                    "output_type": "execute_result",
                    "metadata": {},
                    "data": {
                        "text/plain": "array([[0, 1, 2],\n       [3, 4, 5],\n       [6, 7, 8]])"
                    },
                    "execution_count": null
                }
            ]
        },
        {
            "id": "0d34af4e",
            "cell_type": "code",
            "metadata": {},
            "execution_count": null,
            "source": "np.linalg.trace(a, offset=1)  # First superdiagonal",
            "outputs": [
                {
                    "output_type": "execute_result",
                    "metadata": {},
                    "data": {
                        "text/plain": "6"
                    },
                    "execution_count": null
                }
            ]
        },
        {
            "id": "51d9149f",
            "cell_type": "code",
            "metadata": {},
            "execution_count": null,
            "source": "np.linalg.trace(a, offset=2)  # Second superdiagonal",
            "outputs": [
                {
                    "output_type": "execute_result",
                    "metadata": {},
                    "data": {
                        "text/plain": "2"
                    },
                    "execution_count": null
                }
            ]
        },
        {
            "id": "ec9e3b44",
            "cell_type": "code",
            "metadata": {},
            "execution_count": null,
            "source": "np.linalg.trace(a, offset=-1)  # First subdiagonal",
            "outputs": [
                {
                    "output_type": "execute_result",
                    "metadata": {},
                    "data": {
                        "text/plain": "10"
                    },
                    "execution_count": null
                }
            ]
        },
        {
            "id": "e1978985",
            "cell_type": "code",
            "metadata": {},
            "execution_count": null,
            "source": "np.linalg.trace(a, offset=-2)  # Second subdiagonal",
            "outputs": [
                {
                    "output_type": "execute_result",
                    "metadata": {},
                    "data": {
                        "text/plain": "6"
                    },
                    "execution_count": null
                }
            ]
        }
    ]
}