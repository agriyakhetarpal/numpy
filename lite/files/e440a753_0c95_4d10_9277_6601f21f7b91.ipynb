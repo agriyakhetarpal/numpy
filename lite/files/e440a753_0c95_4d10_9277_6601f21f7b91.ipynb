{
    "nbformat": 4,
    "nbformat_minor": 5,
    "metadata": {
        "kernelspec": {
            "display_name": "Python",
            "language": "python",
            "name": "python"
        },
        "language_info": {
            "name": "python"
        }
    },
    "cells": [
        {
            "id": "3261fac1",
            "cell_type": "markdown",
            "source": "<div class='alert alert-warning'>\n\nNumPy's interactive examples are experimental and may not always work as expected, with high load times especially on low-resource platforms, and the version of NumPy might not be in sync with the one you are browsing the documentation for. If you encounter any issues, please report them on the [NumPy issue tracker](https://github.com/numpy/numpy/issues).\n\n</div>",
            "metadata": {}
        },
        {
            "id": "654e54b8",
            "cell_type": "code",
            "metadata": {},
            "execution_count": null,
            "source": "import numpy as np\ndata = np.arange(12, dtype='float32')\ndata.resize((3,4))",
            "outputs": []
        },
        {
            "id": "e9a9f2b5",
            "cell_type": "markdown",
            "source": "This example uses a temporary file so that doctest doesn't write\nfiles to your directory. You would use a 'normal' filename.\n",
            "metadata": {}
        },
        {
            "id": "efefbc11",
            "cell_type": "code",
            "metadata": {},
            "execution_count": null,
            "source": "from tempfile import mkdtemp\nimport os.path as path\nfilename = path.join(mkdtemp(), 'newfile.dat')",
            "outputs": []
        },
        {
            "id": "6cb06524",
            "cell_type": "markdown",
            "source": "Create a memmap with dtype and shape that matches our data:\n",
            "metadata": {}
        },
        {
            "id": "d4ced10c",
            "cell_type": "code",
            "metadata": {},
            "execution_count": null,
            "source": "fp = np.memmap(filename, dtype='float32', mode='w+', shape=(3,4))\nfp",
            "outputs": [
                {
                    "output_type": "execute_result",
                    "metadata": {},
                    "data": {
                        "text/plain": "memmap([[0., 0., 0., 0.],\n        [0., 0., 0., 0.],\n        [0., 0., 0., 0.]], dtype=float32)"
                    },
                    "execution_count": null
                }
            ]
        },
        {
            "id": "af4ac3ee",
            "cell_type": "markdown",
            "source": "Write data to memmap array:\n",
            "metadata": {}
        },
        {
            "id": "a7a8a50a",
            "cell_type": "code",
            "metadata": {},
            "execution_count": null,
            "source": "fp[:] = data[:]\nfp",
            "outputs": [
                {
                    "output_type": "execute_result",
                    "metadata": {},
                    "data": {
                        "text/plain": "memmap([[  0.,   1.,   2.,   3.],\n        [  4.,   5.,   6.,   7.],\n        [  8.,   9.,  10.,  11.]], dtype=float32)"
                    },
                    "execution_count": null
                }
            ]
        },
        {
            "id": "6f4aa4d3",
            "cell_type": "code",
            "metadata": {},
            "execution_count": null,
            "source": "fp.filename == path.abspath(filename)",
            "outputs": [
                {
                    "output_type": "execute_result",
                    "metadata": {},
                    "data": {
                        "text/plain": "True"
                    },
                    "execution_count": null
                }
            ]
        },
        {
            "id": "b2bc48bd",
            "cell_type": "markdown",
            "source": "Flushes memory changes to disk in order to read them back\n",
            "metadata": {}
        },
        {
            "id": "a19cfb55",
            "cell_type": "code",
            "metadata": {},
            "execution_count": null,
            "source": "fp.flush()",
            "outputs": []
        },
        {
            "id": "aa21296a",
            "cell_type": "markdown",
            "source": "Load the memmap and verify data was stored:\n",
            "metadata": {}
        },
        {
            "id": "229f71f8",
            "cell_type": "code",
            "metadata": {},
            "execution_count": null,
            "source": "newfp = np.memmap(filename, dtype='float32', mode='r', shape=(3,4))\nnewfp",
            "outputs": [
                {
                    "output_type": "execute_result",
                    "metadata": {},
                    "data": {
                        "text/plain": "memmap([[  0.,   1.,   2.,   3.],\n        [  4.,   5.,   6.,   7.],\n        [  8.,   9.,  10.,  11.]], dtype=float32)"
                    },
                    "execution_count": null
                }
            ]
        },
        {
            "id": "dfdd8d78",
            "cell_type": "markdown",
            "source": "Read-only memmap:\n",
            "metadata": {}
        },
        {
            "id": "160edce5",
            "cell_type": "code",
            "metadata": {},
            "execution_count": null,
            "source": "fpr = np.memmap(filename, dtype='float32', mode='r', shape=(3,4))\nfpr.flags.writeable",
            "outputs": [
                {
                    "output_type": "execute_result",
                    "metadata": {},
                    "data": {
                        "text/plain": "False"
                    },
                    "execution_count": null
                }
            ]
        },
        {
            "id": "f30197fb",
            "cell_type": "markdown",
            "source": "Copy-on-write memmap:\n",
            "metadata": {}
        },
        {
            "id": "43d99434",
            "cell_type": "code",
            "metadata": {},
            "execution_count": null,
            "source": "fpc = np.memmap(filename, dtype='float32', mode='c', shape=(3,4))\nfpc.flags.writeable",
            "outputs": [
                {
                    "output_type": "execute_result",
                    "metadata": {},
                    "data": {
                        "text/plain": "True"
                    },
                    "execution_count": null
                }
            ]
        },
        {
            "id": "04f194c0",
            "cell_type": "markdown",
            "source": "It's possible to assign to copy-on-write array, but values are only\nwritten into the memory copy of the array, and not written to disk:\n",
            "metadata": {}
        },
        {
            "id": "dbaebe5e",
            "cell_type": "code",
            "metadata": {},
            "execution_count": null,
            "source": "fpc",
            "outputs": [
                {
                    "output_type": "execute_result",
                    "metadata": {},
                    "data": {
                        "text/plain": "memmap([[  0.,   1.,   2.,   3.],\n        [  4.,   5.,   6.,   7.],\n        [  8.,   9.,  10.,  11.]], dtype=float32)"
                    },
                    "execution_count": null
                }
            ]
        },
        {
            "id": "e30e22ff",
            "cell_type": "code",
            "metadata": {},
            "execution_count": null,
            "source": "fpc[0,:] = 0\nfpc",
            "outputs": [
                {
                    "output_type": "execute_result",
                    "metadata": {},
                    "data": {
                        "text/plain": "memmap([[  0.,   0.,   0.,   0.],\n        [  4.,   5.,   6.,   7.],\n        [  8.,   9.,  10.,  11.]], dtype=float32)"
                    },
                    "execution_count": null
                }
            ]
        },
        {
            "id": "260fcbbc",
            "cell_type": "markdown",
            "source": "File on disk is unchanged:\n",
            "metadata": {}
        },
        {
            "id": "16859db7",
            "cell_type": "code",
            "metadata": {},
            "execution_count": null,
            "source": "fpr",
            "outputs": [
                {
                    "output_type": "execute_result",
                    "metadata": {},
                    "data": {
                        "text/plain": "memmap([[  0.,   1.,   2.,   3.],\n        [  4.,   5.,   6.,   7.],\n        [  8.,   9.,  10.,  11.]], dtype=float32)"
                    },
                    "execution_count": null
                }
            ]
        },
        {
            "id": "8072a742",
            "cell_type": "markdown",
            "source": "Offset into a memmap:\n",
            "metadata": {}
        },
        {
            "id": "11f22462",
            "cell_type": "code",
            "metadata": {},
            "execution_count": null,
            "source": "fpo = np.memmap(filename, dtype='float32', mode='r', offset=16)\nfpo",
            "outputs": [
                {
                    "output_type": "execute_result",
                    "metadata": {},
                    "data": {
                        "text/plain": "memmap([  4.,   5.,   6.,   7.,   8.,   9.,  10.,  11.], dtype=float32)"
                    },
                    "execution_count": null
                }
            ]
        }
    ]
}