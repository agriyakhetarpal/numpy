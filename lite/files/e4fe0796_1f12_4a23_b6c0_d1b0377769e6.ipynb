{
    "nbformat": 4,
    "nbformat_minor": 5,
    "metadata": {
        "kernelspec": {
            "display_name": "Python",
            "language": "python",
            "name": "python"
        },
        "language_info": {
            "name": "python"
        }
    },
    "cells": [
        {
            "id": "daff4f49",
            "cell_type": "markdown",
            "source": "<div class='alert alert-warning'>\n\nNumPy's interactive examples are experimental and may not always work as expected, with high load times especially on low-resource platforms, and the version of NumPy might not be in sync with the one you are browsing the documentation for. If you encounter any issues, please report them on the [NumPy issue tracker](https://github.com/numpy/numpy/issues).\n\n</div>",
            "metadata": {}
        },
        {
            "id": "a7441f5f",
            "cell_type": "code",
            "metadata": {},
            "execution_count": null,
            "source": "m = np.matrix('[1, 2; 3, 4]'); m",
            "outputs": [
                {
                    "output_type": "execute_result",
                    "metadata": {},
                    "data": {
                        "text/plain": "matrix([[1, 2],\n        [3, 4]])"
                    },
                    "execution_count": null
                }
            ]
        },
        {
            "id": "459d1764",
            "cell_type": "code",
            "metadata": {},
            "execution_count": null,
            "source": "m.getI()",
            "outputs": [
                {
                    "output_type": "execute_result",
                    "metadata": {},
                    "data": {
                        "text/plain": "matrix([[-2. ,  1. ],\n        [ 1.5, -0.5]])"
                    },
                    "execution_count": null
                }
            ]
        },
        {
            "id": "cf97f05d",
            "cell_type": "code",
            "metadata": {},
            "execution_count": null,
            "source": "m.getI() * m",
            "outputs": [
                {
                    "output_type": "execute_result",
                    "metadata": {},
                    "data": {
                        "text/plain": "matrix([[ 1.,  0.], # may vary\n        [ 0.,  1.]])"
                    },
                    "execution_count": null
                }
            ]
        }
    ]
}