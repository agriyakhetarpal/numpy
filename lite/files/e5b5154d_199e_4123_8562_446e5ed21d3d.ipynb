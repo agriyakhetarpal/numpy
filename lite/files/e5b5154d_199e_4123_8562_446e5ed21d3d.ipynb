{
    "nbformat": 4,
    "nbformat_minor": 5,
    "metadata": {
        "kernelspec": {
            "display_name": "Python",
            "language": "python",
            "name": "python"
        },
        "language_info": {
            "name": "python"
        }
    },
    "cells": [
        {
            "id": "d6f7d225",
            "cell_type": "markdown",
            "source": "<div class='alert alert-warning'>\n\nNumPy's interactive examples are experimental and may not always work as expected, with high load times especially on low-resource platforms, and the version of NumPy might not be in sync with the one you are browsing the documentation for. If you encounter any issues, please report them on the [NumPy issue tracker](https://github.com/numpy/numpy/issues).\n\n</div>",
            "metadata": {}
        },
        {
            "id": "2b431f6d",
            "cell_type": "code",
            "metadata": {},
            "execution_count": null,
            "source": "import numpy as np\nrng = np.random.default_rng()\na = rng.normal(size=(9, 6)) + 1j*rng.normal(size=(9, 6))\nb = rng.normal(size=(2, 7, 8, 3)) + 1j*rng.normal(size=(2, 7, 8, 3))",
            "outputs": []
        },
        {
            "id": "401aa8f8",
            "cell_type": "markdown",
            "source": "Reconstruction based on full SVD, 2D case:\n",
            "metadata": {}
        },
        {
            "id": "384d33e4",
            "cell_type": "code",
            "metadata": {},
            "execution_count": null,
            "source": "U, S, Vh = np.linalg.svd(a, full_matrices=True)\nU.shape, S.shape, Vh.shape",
            "outputs": [
                {
                    "output_type": "execute_result",
                    "metadata": {},
                    "data": {
                        "text/plain": "((9, 9), (6,), (6, 6))"
                    },
                    "execution_count": null
                }
            ]
        },
        {
            "id": "d7e7a5c9",
            "cell_type": "code",
            "metadata": {},
            "execution_count": null,
            "source": "np.allclose(a, np.dot(U[:, :6] * S, Vh))",
            "outputs": [
                {
                    "output_type": "execute_result",
                    "metadata": {},
                    "data": {
                        "text/plain": "True"
                    },
                    "execution_count": null
                }
            ]
        },
        {
            "id": "3ecb8914",
            "cell_type": "code",
            "metadata": {},
            "execution_count": null,
            "source": "smat = np.zeros((9, 6), dtype=complex)\nsmat[:6, :6] = np.diag(S)\nnp.allclose(a, np.dot(U, np.dot(smat, Vh)))",
            "outputs": [
                {
                    "output_type": "execute_result",
                    "metadata": {},
                    "data": {
                        "text/plain": "True"
                    },
                    "execution_count": null
                }
            ]
        },
        {
            "id": "7cbe25b9",
            "cell_type": "markdown",
            "source": "Reconstruction based on reduced SVD, 2D case:\n",
            "metadata": {}
        },
        {
            "id": "9dd87db5",
            "cell_type": "code",
            "metadata": {},
            "execution_count": null,
            "source": "U, S, Vh = np.linalg.svd(a, full_matrices=False)\nU.shape, S.shape, Vh.shape",
            "outputs": [
                {
                    "output_type": "execute_result",
                    "metadata": {},
                    "data": {
                        "text/plain": "((9, 6), (6,), (6, 6))"
                    },
                    "execution_count": null
                }
            ]
        },
        {
            "id": "ccec2d00",
            "cell_type": "code",
            "metadata": {},
            "execution_count": null,
            "source": "np.allclose(a, np.dot(U * S, Vh))",
            "outputs": [
                {
                    "output_type": "execute_result",
                    "metadata": {},
                    "data": {
                        "text/plain": "True"
                    },
                    "execution_count": null
                }
            ]
        },
        {
            "id": "b082fe6e",
            "cell_type": "code",
            "metadata": {},
            "execution_count": null,
            "source": "smat = np.diag(S)\nnp.allclose(a, np.dot(U, np.dot(smat, Vh)))",
            "outputs": [
                {
                    "output_type": "execute_result",
                    "metadata": {},
                    "data": {
                        "text/plain": "True"
                    },
                    "execution_count": null
                }
            ]
        },
        {
            "id": "8fda3cf7",
            "cell_type": "markdown",
            "source": "Reconstruction based on full SVD, 4D case:\n",
            "metadata": {}
        },
        {
            "id": "7b33cb43",
            "cell_type": "code",
            "metadata": {},
            "execution_count": null,
            "source": "U, S, Vh = np.linalg.svd(b, full_matrices=True)\nU.shape, S.shape, Vh.shape",
            "outputs": [
                {
                    "output_type": "execute_result",
                    "metadata": {},
                    "data": {
                        "text/plain": "((2, 7, 8, 8), (2, 7, 3), (2, 7, 3, 3))"
                    },
                    "execution_count": null
                }
            ]
        },
        {
            "id": "c07e6e71",
            "cell_type": "code",
            "metadata": {},
            "execution_count": null,
            "source": "np.allclose(b, np.matmul(U[..., :3] * S[..., None, :], Vh))",
            "outputs": [
                {
                    "output_type": "execute_result",
                    "metadata": {},
                    "data": {
                        "text/plain": "True"
                    },
                    "execution_count": null
                }
            ]
        },
        {
            "id": "8b07b2a2",
            "cell_type": "code",
            "metadata": {},
            "execution_count": null,
            "source": "np.allclose(b, np.matmul(U[..., :3], S[..., None] * Vh))",
            "outputs": [
                {
                    "output_type": "execute_result",
                    "metadata": {},
                    "data": {
                        "text/plain": "True"
                    },
                    "execution_count": null
                }
            ]
        },
        {
            "id": "8510ef13",
            "cell_type": "markdown",
            "source": "Reconstruction based on reduced SVD, 4D case:\n",
            "metadata": {}
        },
        {
            "id": "61921102",
            "cell_type": "code",
            "metadata": {},
            "execution_count": null,
            "source": "U, S, Vh = np.linalg.svd(b, full_matrices=False)\nU.shape, S.shape, Vh.shape",
            "outputs": [
                {
                    "output_type": "execute_result",
                    "metadata": {},
                    "data": {
                        "text/plain": "((2, 7, 8, 3), (2, 7, 3), (2, 7, 3, 3))"
                    },
                    "execution_count": null
                }
            ]
        },
        {
            "id": "1432d738",
            "cell_type": "code",
            "metadata": {},
            "execution_count": null,
            "source": "np.allclose(b, np.matmul(U * S[..., None, :], Vh))",
            "outputs": [
                {
                    "output_type": "execute_result",
                    "metadata": {},
                    "data": {
                        "text/plain": "True"
                    },
                    "execution_count": null
                }
            ]
        },
        {
            "id": "0773135d",
            "cell_type": "code",
            "metadata": {},
            "execution_count": null,
            "source": "np.allclose(b, np.matmul(U, S[..., None] * Vh))",
            "outputs": [
                {
                    "output_type": "execute_result",
                    "metadata": {},
                    "data": {
                        "text/plain": "True"
                    },
                    "execution_count": null
                }
            ]
        }
    ]
}