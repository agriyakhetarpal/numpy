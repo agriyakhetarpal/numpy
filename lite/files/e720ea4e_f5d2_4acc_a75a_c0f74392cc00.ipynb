{
    "nbformat": 4,
    "nbformat_minor": 5,
    "metadata": {
        "kernelspec": {
            "display_name": "Python",
            "language": "python",
            "name": "python"
        },
        "language_info": {
            "name": "python"
        }
    },
    "cells": [
        {
            "id": "3616fbe0",
            "cell_type": "markdown",
            "source": "<div class='alert alert-warning'>\n\nNumPy's interactive examples are experimental and may not always work as expected, with high load times especially on low-resource platforms, , and the version of NumPy might not be in sync with the one you are browsing the documentation for. If you encounter any issues, please report them on the [NumPy issue tracker](https://github.com/numpy/numpy/issues).\n\n</div>",
            "metadata": {}
        },
        {
            "id": "6f70b79b",
            "cell_type": "code",
            "metadata": {},
            "execution_count": null,
            "source": "import numpy as np",
            "outputs": []
        },
        {
            "id": "449e8b5c",
            "cell_type": "markdown",
            "source": "The number 13 is represented by ``00001101``. Likewise, 17 is\nrepresented by ``00010001``.  The bit-wise XOR of 13 and 17 is\ntherefore ``00011100``, or 28:\n",
            "metadata": {}
        },
        {
            "id": "62d5ebb1",
            "cell_type": "code",
            "metadata": {},
            "execution_count": null,
            "source": "np.bitwise_xor(13, 17)",
            "outputs": [
                {
                    "output_type": "execute_result",
                    "metadata": {},
                    "data": {
                        "text/plain": "28"
                    },
                    "execution_count": null
                }
            ]
        },
        {
            "id": "a961122d",
            "cell_type": "code",
            "metadata": {},
            "execution_count": null,
            "source": "np.binary_repr(28)",
            "outputs": [
                {
                    "output_type": "execute_result",
                    "metadata": {},
                    "data": {
                        "text/plain": "'11100'"
                    },
                    "execution_count": null
                }
            ]
        },
        {
            "id": "1f83876c",
            "cell_type": "code",
            "metadata": {},
            "execution_count": null,
            "source": "np.bitwise_xor(31, 5)",
            "outputs": [
                {
                    "output_type": "execute_result",
                    "metadata": {},
                    "data": {
                        "text/plain": "26"
                    },
                    "execution_count": null
                }
            ]
        },
        {
            "id": "987523a5",
            "cell_type": "code",
            "metadata": {},
            "execution_count": null,
            "source": "np.bitwise_xor([31,3], 5)",
            "outputs": [
                {
                    "output_type": "execute_result",
                    "metadata": {},
                    "data": {
                        "text/plain": "array([26,  6])"
                    },
                    "execution_count": null
                }
            ]
        },
        {
            "id": "ff3ec9ee",
            "cell_type": "code",
            "metadata": {},
            "execution_count": null,
            "source": "np.bitwise_xor([31,3], [5,6])",
            "outputs": [
                {
                    "output_type": "execute_result",
                    "metadata": {},
                    "data": {
                        "text/plain": "array([26,  5])"
                    },
                    "execution_count": null
                }
            ]
        },
        {
            "id": "9bcca81c",
            "cell_type": "code",
            "metadata": {},
            "execution_count": null,
            "source": "np.bitwise_xor([True, True], [False, True])",
            "outputs": [
                {
                    "output_type": "execute_result",
                    "metadata": {},
                    "data": {
                        "text/plain": "array([ True, False])"
                    },
                    "execution_count": null
                }
            ]
        },
        {
            "id": "7339630d",
            "cell_type": "markdown",
            "source": "The ``^`` operator can be used as a shorthand for ``np.bitwise_xor`` on\nndarrays.\n",
            "metadata": {}
        },
        {
            "id": "d0407c99",
            "cell_type": "code",
            "metadata": {},
            "execution_count": null,
            "source": "x1 = np.array([True, True])\nx2 = np.array([False, True])\nx1 ^ x2",
            "outputs": [
                {
                    "output_type": "execute_result",
                    "metadata": {},
                    "data": {
                        "text/plain": "array([ True, False])"
                    },
                    "execution_count": null
                }
            ]
        }
    ]
}