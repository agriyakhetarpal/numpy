{
    "nbformat": 4,
    "nbformat_minor": 5,
    "metadata": {
        "kernelspec": {
            "display_name": "Python",
            "language": "python",
            "name": "python"
        },
        "language_info": {
            "name": "python"
        }
    },
    "cells": [
        {
            "id": "e8259599",
            "cell_type": "markdown",
            "source": "<div class='alert alert-warning'>\n\nNumPy's interactive examples are experimental and may not always work as expected, with high load times especially on low-resource platforms, and the version of NumPy might not be in sync with the one you are browsing the documentation for. If you encounter any issues, please report them on the [NumPy issue tracker](https://github.com/numpy/numpy/issues).\n\n</div>",
            "metadata": {}
        },
        {
            "id": "f0b0fb30",
            "cell_type": "markdown",
            "source": "For real, non-negative inputs this works just like `numpy.sqrt`:\n",
            "metadata": {}
        },
        {
            "id": "037db292",
            "cell_type": "code",
            "metadata": {},
            "execution_count": null,
            "source": "import numpy as np",
            "outputs": []
        },
        {
            "id": "29110992",
            "cell_type": "code",
            "metadata": {},
            "execution_count": null,
            "source": "np.emath.sqrt(1)",
            "outputs": [
                {
                    "output_type": "execute_result",
                    "metadata": {},
                    "data": {
                        "text/plain": "1.0"
                    },
                    "execution_count": null
                }
            ]
        },
        {
            "id": "22fb31e9",
            "cell_type": "code",
            "metadata": {},
            "execution_count": null,
            "source": "np.emath.sqrt([1, 4])",
            "outputs": [
                {
                    "output_type": "execute_result",
                    "metadata": {},
                    "data": {
                        "text/plain": "array([1.,  2.])"
                    },
                    "execution_count": null
                }
            ]
        },
        {
            "id": "996e7bf0",
            "cell_type": "markdown",
            "source": "But it automatically handles negative inputs:\n",
            "metadata": {}
        },
        {
            "id": "6891b3c6",
            "cell_type": "code",
            "metadata": {},
            "execution_count": null,
            "source": "np.emath.sqrt(-1)",
            "outputs": [
                {
                    "output_type": "execute_result",
                    "metadata": {},
                    "data": {
                        "text/plain": "1j"
                    },
                    "execution_count": null
                }
            ]
        },
        {
            "id": "ddb5bf9f",
            "cell_type": "code",
            "metadata": {},
            "execution_count": null,
            "source": "np.emath.sqrt([-1,4])",
            "outputs": [
                {
                    "output_type": "execute_result",
                    "metadata": {},
                    "data": {
                        "text/plain": "array([0.+1.j, 2.+0.j])"
                    },
                    "execution_count": null
                }
            ]
        },
        {
            "id": "3aa72b13",
            "cell_type": "markdown",
            "source": "Different results are expected because:\nfloating point 0.0 and -0.0 are distinct.\n\nFor more control, explicitly use complex() as follows:\n",
            "metadata": {}
        },
        {
            "id": "ee7885f4",
            "cell_type": "code",
            "metadata": {},
            "execution_count": null,
            "source": "np.emath.sqrt(complex(-4.0, 0.0))",
            "outputs": [
                {
                    "output_type": "execute_result",
                    "metadata": {},
                    "data": {
                        "text/plain": "2j"
                    },
                    "execution_count": null
                }
            ]
        },
        {
            "id": "1c4ac214",
            "cell_type": "code",
            "metadata": {},
            "execution_count": null,
            "source": "np.emath.sqrt(complex(-4.0, -0.0))",
            "outputs": [
                {
                    "output_type": "execute_result",
                    "metadata": {},
                    "data": {
                        "text/plain": "-2j"
                    },
                    "execution_count": null
                }
            ]
        }
    ]
}