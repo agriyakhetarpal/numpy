{
    "nbformat": 4,
    "nbformat_minor": 5,
    "metadata": {
        "kernelspec": {
            "display_name": "Python",
            "language": "python",
            "name": "python"
        },
        "language_info": {
            "name": "python"
        }
    },
    "cells": [
        {
            "id": "94fe99a5",
            "cell_type": "markdown",
            "source": "<div class='alert alert-warning'>\n\nNumPy's interactive examples are experimental and may not always work as expected, with high load times especially on low-resource platforms, , and the version of NumPy might not be in sync with the one you are browsing the documentation for. If you encounter any issues, please report them on the [NumPy issue tracker](https://github.com/numpy/numpy/issues).\n\n</div>",
            "metadata": {}
        },
        {
            "id": "bc80ed00",
            "cell_type": "code",
            "metadata": {},
            "execution_count": null,
            "source": "import numpy as np\na = np.arange(6).reshape(2,3) + 10\na",
            "outputs": [
                {
                    "output_type": "execute_result",
                    "metadata": {},
                    "data": {
                        "text/plain": "array([[10, 11, 12],\n       [13, 14, 15]])"
                    },
                    "execution_count": null
                }
            ]
        },
        {
            "id": "667326f3",
            "cell_type": "code",
            "metadata": {},
            "execution_count": null,
            "source": "np.argmax(a)",
            "outputs": [
                {
                    "output_type": "execute_result",
                    "metadata": {},
                    "data": {
                        "text/plain": "5"
                    },
                    "execution_count": null
                }
            ]
        },
        {
            "id": "58ddd584",
            "cell_type": "code",
            "metadata": {},
            "execution_count": null,
            "source": "np.argmax(a, axis=0)",
            "outputs": [
                {
                    "output_type": "execute_result",
                    "metadata": {},
                    "data": {
                        "text/plain": "array([1, 1, 1])"
                    },
                    "execution_count": null
                }
            ]
        },
        {
            "id": "4048129c",
            "cell_type": "code",
            "metadata": {},
            "execution_count": null,
            "source": "np.argmax(a, axis=1)",
            "outputs": [
                {
                    "output_type": "execute_result",
                    "metadata": {},
                    "data": {
                        "text/plain": "array([2, 2])"
                    },
                    "execution_count": null
                }
            ]
        },
        {
            "id": "b6e28e1f",
            "cell_type": "markdown",
            "source": "Indexes of the maximal elements of a N-dimensional array:\n",
            "metadata": {}
        },
        {
            "id": "936850de",
            "cell_type": "code",
            "metadata": {},
            "execution_count": null,
            "source": "ind = np.unravel_index(np.argmax(a, axis=None), a.shape)\nind",
            "outputs": [
                {
                    "output_type": "execute_result",
                    "metadata": {},
                    "data": {
                        "text/plain": "(1, 2)"
                    },
                    "execution_count": null
                }
            ]
        },
        {
            "id": "1245bbbe",
            "cell_type": "code",
            "metadata": {},
            "execution_count": null,
            "source": "a[ind]",
            "outputs": [
                {
                    "output_type": "execute_result",
                    "metadata": {},
                    "data": {
                        "text/plain": "15"
                    },
                    "execution_count": null
                }
            ]
        },
        {
            "id": "9da43337",
            "cell_type": "code",
            "metadata": {},
            "execution_count": null,
            "source": "b = np.arange(6)\nb[1] = 5\nb",
            "outputs": [
                {
                    "output_type": "execute_result",
                    "metadata": {},
                    "data": {
                        "text/plain": "array([0, 5, 2, 3, 4, 5])"
                    },
                    "execution_count": null
                }
            ]
        },
        {
            "id": "1b223b6e",
            "cell_type": "code",
            "metadata": {},
            "execution_count": null,
            "source": "np.argmax(b)  # Only the first occurrence is returned.",
            "outputs": [
                {
                    "output_type": "execute_result",
                    "metadata": {},
                    "data": {
                        "text/plain": "1"
                    },
                    "execution_count": null
                }
            ]
        },
        {
            "id": "9a803d53",
            "cell_type": "code",
            "metadata": {},
            "execution_count": null,
            "source": "x = np.array([[4,2,3], [1,0,3]])\nindex_array = np.argmax(x, axis=-1)\n# Same as np.amax(x, axis=-1, keepdims=True)\nnp.take_along_axis(x, np.expand_dims(index_array, axis=-1), axis=-1)",
            "outputs": [
                {
                    "output_type": "execute_result",
                    "metadata": {},
                    "data": {
                        "text/plain": "array([[4],\n       [3]])"
                    },
                    "execution_count": null
                }
            ]
        },
        {
            "id": "342722b4",
            "cell_type": "code",
            "metadata": {},
            "execution_count": null,
            "source": "# Same as np.amax(x, axis=-1)\nnp.take_along_axis(x, np.expand_dims(index_array, axis=-1),\n    axis=-1).squeeze(axis=-1)",
            "outputs": [
                {
                    "output_type": "execute_result",
                    "metadata": {},
                    "data": {
                        "text/plain": "array([4, 3])"
                    },
                    "execution_count": null
                }
            ]
        },
        {
            "id": "8e1a1d48",
            "cell_type": "markdown",
            "source": "Setting `keepdims` to `True`,\n",
            "metadata": {}
        },
        {
            "id": "90443cc4",
            "cell_type": "code",
            "metadata": {},
            "execution_count": null,
            "source": "x = np.arange(24).reshape((2, 3, 4))\nres = np.argmax(x, axis=1, keepdims=True)\nres.shape",
            "outputs": [
                {
                    "output_type": "execute_result",
                    "metadata": {},
                    "data": {
                        "text/plain": "(2, 1, 4)"
                    },
                    "execution_count": null
                }
            ]
        }
    ]
}