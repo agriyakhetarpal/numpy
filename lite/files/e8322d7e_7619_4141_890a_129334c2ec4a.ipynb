{
    "nbformat": 4,
    "nbformat_minor": 5,
    "metadata": {
        "kernelspec": {
            "display_name": "Python",
            "language": "python",
            "name": "python"
        },
        "language_info": {
            "name": "python"
        }
    },
    "cells": [
        {
            "id": "1537aea9",
            "cell_type": "markdown",
            "source": "<div class='alert alert-warning'>\n\nNumPy's interactive examples are experimental and may not always work as expected, with high load times especially on low-resource platforms, and the version of NumPy might not be in sync with the one you are browsing the documentation for. If you encounter any issues, please report them on the [NumPy issue tracker](https://github.com/numpy/numpy/issues).\n\n</div>",
            "metadata": {}
        },
        {
            "id": "c8c5bfe3",
            "cell_type": "code",
            "metadata": {},
            "execution_count": null,
            "source": "import numpy as np\nnp.unique([1, 1, 2, 2, 3, 3])",
            "outputs": [
                {
                    "output_type": "execute_result",
                    "metadata": {},
                    "data": {
                        "text/plain": "array([1, 2, 3])"
                    },
                    "execution_count": null
                }
            ]
        },
        {
            "id": "f5d77e0d",
            "cell_type": "code",
            "metadata": {},
            "execution_count": null,
            "source": "a = np.array([[1, 1], [2, 3]])\nnp.unique(a)",
            "outputs": [
                {
                    "output_type": "execute_result",
                    "metadata": {},
                    "data": {
                        "text/plain": "array([1, 2, 3])"
                    },
                    "execution_count": null
                }
            ]
        },
        {
            "id": "7b2a148d",
            "cell_type": "markdown",
            "source": "Return the unique rows of a 2D array\n",
            "metadata": {}
        },
        {
            "id": "76979239",
            "cell_type": "code",
            "metadata": {},
            "execution_count": null,
            "source": "a = np.array([[1, 0, 0], [1, 0, 0], [2, 3, 4]])\nnp.unique(a, axis=0)",
            "outputs": [
                {
                    "output_type": "execute_result",
                    "metadata": {},
                    "data": {
                        "text/plain": "array([[1, 0, 0], [2, 3, 4]])"
                    },
                    "execution_count": null
                }
            ]
        },
        {
            "id": "f0337cfb",
            "cell_type": "markdown",
            "source": "Return the indices of the original array that give the unique values:\n",
            "metadata": {}
        },
        {
            "id": "73e1a0bc",
            "cell_type": "code",
            "metadata": {},
            "execution_count": null,
            "source": "a = np.array(['a', 'b', 'b', 'c', 'a'])\nu, indices = np.unique(a, return_index=True)\nu",
            "outputs": [
                {
                    "output_type": "execute_result",
                    "metadata": {},
                    "data": {
                        "text/plain": "array(['a', 'b', 'c'], dtype='<U1')"
                    },
                    "execution_count": null
                }
            ]
        },
        {
            "id": "f69c4009",
            "cell_type": "code",
            "metadata": {},
            "execution_count": null,
            "source": "indices",
            "outputs": [
                {
                    "output_type": "execute_result",
                    "metadata": {},
                    "data": {
                        "text/plain": "array([0, 1, 3])"
                    },
                    "execution_count": null
                }
            ]
        },
        {
            "id": "32844cd4",
            "cell_type": "code",
            "metadata": {},
            "execution_count": null,
            "source": "a[indices]",
            "outputs": [
                {
                    "output_type": "execute_result",
                    "metadata": {},
                    "data": {
                        "text/plain": "array(['a', 'b', 'c'], dtype='<U1')"
                    },
                    "execution_count": null
                }
            ]
        },
        {
            "id": "9987a7e1",
            "cell_type": "markdown",
            "source": "Reconstruct the input array from the unique values and inverse:\n",
            "metadata": {}
        },
        {
            "id": "7505e2c4",
            "cell_type": "code",
            "metadata": {},
            "execution_count": null,
            "source": "a = np.array([1, 2, 6, 4, 2, 3, 2])\nu, indices = np.unique(a, return_inverse=True)\nu",
            "outputs": [
                {
                    "output_type": "execute_result",
                    "metadata": {},
                    "data": {
                        "text/plain": "array([1, 2, 3, 4, 6])"
                    },
                    "execution_count": null
                }
            ]
        },
        {
            "id": "85297c30",
            "cell_type": "code",
            "metadata": {},
            "execution_count": null,
            "source": "indices",
            "outputs": [
                {
                    "output_type": "execute_result",
                    "metadata": {},
                    "data": {
                        "text/plain": "array([0, 1, 4, 3, 1, 2, 1])"
                    },
                    "execution_count": null
                }
            ]
        },
        {
            "id": "89081150",
            "cell_type": "code",
            "metadata": {},
            "execution_count": null,
            "source": "u[indices]",
            "outputs": [
                {
                    "output_type": "execute_result",
                    "metadata": {},
                    "data": {
                        "text/plain": "array([1, 2, 6, 4, 2, 3, 2])"
                    },
                    "execution_count": null
                }
            ]
        },
        {
            "id": "acd48725",
            "cell_type": "markdown",
            "source": "Reconstruct the input values from the unique values and counts:\n",
            "metadata": {}
        },
        {
            "id": "9c6ab77e",
            "cell_type": "code",
            "metadata": {},
            "execution_count": null,
            "source": "a = np.array([1, 2, 6, 4, 2, 3, 2])\nvalues, counts = np.unique(a, return_counts=True)\nvalues",
            "outputs": [
                {
                    "output_type": "execute_result",
                    "metadata": {},
                    "data": {
                        "text/plain": "array([1, 2, 3, 4, 6])"
                    },
                    "execution_count": null
                }
            ]
        },
        {
            "id": "9d6d092c",
            "cell_type": "code",
            "metadata": {},
            "execution_count": null,
            "source": "counts",
            "outputs": [
                {
                    "output_type": "execute_result",
                    "metadata": {},
                    "data": {
                        "text/plain": "array([1, 3, 1, 1, 1])"
                    },
                    "execution_count": null
                }
            ]
        },
        {
            "id": "568499dc",
            "cell_type": "code",
            "metadata": {},
            "execution_count": null,
            "source": "np.repeat(values, counts)",
            "outputs": [
                {
                    "output_type": "execute_result",
                    "metadata": {},
                    "data": {
                        "text/plain": "array([1, 2, 2, 2, 3, 4, 6])    # original order not preserved"
                    },
                    "execution_count": null
                }
            ]
        }
    ]
}