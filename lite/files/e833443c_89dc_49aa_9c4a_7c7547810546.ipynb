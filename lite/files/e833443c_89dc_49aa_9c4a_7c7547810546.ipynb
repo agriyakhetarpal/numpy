{
    "nbformat": 4,
    "nbformat_minor": 5,
    "metadata": {
        "kernelspec": {
            "display_name": "Python",
            "language": "python",
            "name": "python"
        },
        "language_info": {
            "name": "python"
        }
    },
    "cells": [
        {
            "id": "bc8cc861",
            "cell_type": "markdown",
            "source": "<div class='alert alert-warning'>\n\nNumPy's interactive examples are experimental and may not always work as expected, with high load times especially on low-resource platforms, and the version of NumPy might not be in sync with the one you are browsing the documentation for. If you encounter any issues, please report them on the [NumPy issue tracker](https://github.com/numpy/numpy/issues).\n\n</div>",
            "metadata": {}
        },
        {
            "id": "9a02e1fa",
            "cell_type": "code",
            "metadata": {},
            "execution_count": null,
            "source": "import numpy as np",
            "outputs": []
        },
        {
            "id": "dac8c1e6",
            "cell_type": "code",
            "metadata": {},
            "execution_count": null,
            "source": "(\n  np.datetime64(\"2021-01-01 12:56:23.423\")\n  - np.datetime64(\"2001-01-01\")\n) / np.timedelta64(1, \"s\")",
            "outputs": [
                {
                    "output_type": "execute_result",
                    "metadata": {},
                    "data": {
                        "text/plain": "631198583.423"
                    },
                    "execution_count": null
                }
            ]
        },
        {
            "id": "30ab3d49",
            "cell_type": "markdown",
            "source": "However, the correct answer is `631198588.423` SI seconds, because there were\n5 leap seconds between 2001 and 2021.",
            "metadata": {}
        }
    ]
}