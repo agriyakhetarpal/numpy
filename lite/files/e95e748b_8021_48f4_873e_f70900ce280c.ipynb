{
    "nbformat": 4,
    "nbformat_minor": 5,
    "metadata": {
        "kernelspec": {
            "display_name": "Python",
            "language": "python",
            "name": "python"
        },
        "language_info": {
            "name": "python"
        }
    },
    "cells": [
        {
            "id": "a47e4f50",
            "cell_type": "markdown",
            "source": "<div class='alert alert-warning'>\n\nNumPy's interactive examples are experimental and may not always work as expected, with high load times especially on low-resource platforms, and the version of NumPy might not be in sync with the one you are browsing the documentation for. If you encounter any issues, please report them on the [NumPy issue tracker](https://github.com/numpy/numpy/issues).\n\n</div>",
            "metadata": {}
        },
        {
            "id": "cf9a4933",
            "cell_type": "code",
            "metadata": {},
            "execution_count": null,
            "source": "import numpy as np\nnp.binary_repr(10)",
            "outputs": [
                {
                    "output_type": "execute_result",
                    "metadata": {},
                    "data": {
                        "text/plain": "'1010'"
                    },
                    "execution_count": null
                }
            ]
        },
        {
            "id": "01e827bd",
            "cell_type": "code",
            "metadata": {},
            "execution_count": null,
            "source": "np.right_shift(10, 1)",
            "outputs": [
                {
                    "output_type": "execute_result",
                    "metadata": {},
                    "data": {
                        "text/plain": "5"
                    },
                    "execution_count": null
                }
            ]
        },
        {
            "id": "e4675d88",
            "cell_type": "code",
            "metadata": {},
            "execution_count": null,
            "source": "np.binary_repr(5)",
            "outputs": [
                {
                    "output_type": "execute_result",
                    "metadata": {},
                    "data": {
                        "text/plain": "'101'"
                    },
                    "execution_count": null
                }
            ]
        },
        {
            "id": "ccba0632",
            "cell_type": "code",
            "metadata": {},
            "execution_count": null,
            "source": "np.right_shift(10, [1,2,3])",
            "outputs": [
                {
                    "output_type": "execute_result",
                    "metadata": {},
                    "data": {
                        "text/plain": "array([5, 2, 1])"
                    },
                    "execution_count": null
                }
            ]
        },
        {
            "id": "329b5de5",
            "cell_type": "markdown",
            "source": "The ``>>`` operator can be used as a shorthand for ``np.right_shift`` on\nndarrays.\n",
            "metadata": {}
        },
        {
            "id": "6c478959",
            "cell_type": "code",
            "metadata": {},
            "execution_count": null,
            "source": "x1 = 10\nx2 = np.array([1,2,3])\nx1 >> x2",
            "outputs": [
                {
                    "output_type": "execute_result",
                    "metadata": {},
                    "data": {
                        "text/plain": "array([5, 2, 1])"
                    },
                    "execution_count": null
                }
            ]
        }
    ]
}