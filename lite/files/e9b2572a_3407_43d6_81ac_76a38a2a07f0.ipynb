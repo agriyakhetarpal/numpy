{
    "nbformat": 4,
    "nbformat_minor": 5,
    "metadata": {
        "kernelspec": {
            "display_name": "Python",
            "language": "python",
            "name": "python"
        },
        "language_info": {
            "name": "python"
        }
    },
    "cells": [
        {
            "id": "dc02f096",
            "cell_type": "markdown",
            "source": "<div class='alert alert-warning'>\n\nNumPy's interactive examples are experimental and may not always work as expected, with high load times especially on low-resource platforms, , and the version of NumPy might not be in sync with the one you are browsing the documentation for. If you encounter any issues, please report them on the [NumPy issue tracker](https://github.com/numpy/numpy/issues).\n\n</div>",
            "metadata": {}
        },
        {
            "id": "5ac3386d",
            "cell_type": "code",
            "metadata": {},
            "execution_count": null,
            "source": "import numpy as np",
            "outputs": []
        },
        {
            "id": "79a3991d",
            "cell_type": "code",
            "metadata": {},
            "execution_count": null,
            "source": "x1 = np.array(([1., -1.]))\nnp.positive(x1)",
            "outputs": [
                {
                    "output_type": "execute_result",
                    "metadata": {},
                    "data": {
                        "text/plain": "array([ 1., -1.])"
                    },
                    "execution_count": null
                }
            ]
        },
        {
            "id": "db291f1c",
            "cell_type": "markdown",
            "source": "The unary ``+`` operator can be used as a shorthand for ``np.positive`` on\nndarrays.\n",
            "metadata": {}
        },
        {
            "id": "52a8b35f",
            "cell_type": "code",
            "metadata": {},
            "execution_count": null,
            "source": "x1 = np.array(([1., -1.]))\n+x1",
            "outputs": [
                {
                    "output_type": "execute_result",
                    "metadata": {},
                    "data": {
                        "text/plain": "array([ 1., -1.])"
                    },
                    "execution_count": null
                }
            ]
        }
    ]
}