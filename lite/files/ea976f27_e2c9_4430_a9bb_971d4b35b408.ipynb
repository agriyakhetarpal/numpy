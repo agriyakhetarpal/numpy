{
    "nbformat": 4,
    "nbformat_minor": 5,
    "metadata": {
        "kernelspec": {
            "display_name": "Python",
            "language": "python",
            "name": "python"
        },
        "language_info": {
            "name": "python"
        }
    },
    "cells": [
        {
            "id": "dca4f416",
            "cell_type": "markdown",
            "source": "<div class='alert alert-warning'>\n\nNumPy's interactive examples are experimental and may not always work as expected, with high load times especially on low-resource platforms, and the version of NumPy might not be in sync with the one you are browsing the documentation for. If you encounter any issues, please report them on the [NumPy issue tracker](https://github.com/numpy/numpy/issues).\n\n</div>",
            "metadata": {}
        },
        {
            "id": "6c19359e",
            "cell_type": "code",
            "metadata": {},
            "execution_count": null,
            "source": "import numpy as np\nf = np.array([1, 2, 4, 7, 11, 16])\nnp.gradient(f)",
            "outputs": [
                {
                    "output_type": "execute_result",
                    "metadata": {},
                    "data": {
                        "text/plain": "array([1. , 1.5, 2.5, 3.5, 4.5, 5. ])"
                    },
                    "execution_count": null
                }
            ]
        },
        {
            "id": "d2fa12f1",
            "cell_type": "code",
            "metadata": {},
            "execution_count": null,
            "source": "np.gradient(f, 2)",
            "outputs": [
                {
                    "output_type": "execute_result",
                    "metadata": {},
                    "data": {
                        "text/plain": "array([0.5 ,  0.75,  1.25,  1.75,  2.25,  2.5 ])"
                    },
                    "execution_count": null
                }
            ]
        },
        {
            "id": "5bbd014f",
            "cell_type": "markdown",
            "source": "Spacing can be also specified with an array that represents the coordinates\nof the values F along the dimensions.\nFor instance a uniform spacing:\n",
            "metadata": {}
        },
        {
            "id": "e883257c",
            "cell_type": "code",
            "metadata": {},
            "execution_count": null,
            "source": "x = np.arange(f.size)\nnp.gradient(f, x)",
            "outputs": [
                {
                    "output_type": "execute_result",
                    "metadata": {},
                    "data": {
                        "text/plain": "array([1. ,  1.5,  2.5,  3.5,  4.5,  5. ])"
                    },
                    "execution_count": null
                }
            ]
        },
        {
            "id": "a067a9f1",
            "cell_type": "markdown",
            "source": "Or a non uniform one:\n",
            "metadata": {}
        },
        {
            "id": "146449d2",
            "cell_type": "code",
            "metadata": {},
            "execution_count": null,
            "source": "x = np.array([0., 1., 1.5, 3.5, 4., 6.])\nnp.gradient(f, x)",
            "outputs": [
                {
                    "output_type": "execute_result",
                    "metadata": {},
                    "data": {
                        "text/plain": "array([1. ,  3. ,  3.5,  6.7,  6.9,  2.5])"
                    },
                    "execution_count": null
                }
            ]
        },
        {
            "id": "45727edf",
            "cell_type": "markdown",
            "source": "For two dimensional arrays, the return will be two arrays ordered by\naxis. In this example the first array stands for the gradient in\nrows and the second one in columns direction:\n",
            "metadata": {}
        },
        {
            "id": "8b49b3b8",
            "cell_type": "code",
            "metadata": {},
            "execution_count": null,
            "source": "np.gradient(np.array([[1, 2, 6], [3, 4, 5]]))",
            "outputs": [
                {
                    "output_type": "execute_result",
                    "metadata": {},
                    "data": {
                        "text/plain": "(array([[ 2.,  2., -1.],\n        [ 2.,  2., -1.]]),\n array([[1. , 2.5, 4. ],\n        [1. , 1. , 1. ]]))"
                    },
                    "execution_count": null
                }
            ]
        },
        {
            "id": "9aebc621",
            "cell_type": "markdown",
            "source": "In this example the spacing is also specified:\nuniform for axis=0 and non uniform for axis=1\n",
            "metadata": {}
        },
        {
            "id": "1a2c3432",
            "cell_type": "code",
            "metadata": {},
            "execution_count": null,
            "source": "dx = 2.\ny = [1., 1.5, 3.5]\nnp.gradient(np.array([[1, 2, 6], [3, 4, 5]]), dx, y)",
            "outputs": [
                {
                    "output_type": "execute_result",
                    "metadata": {},
                    "data": {
                        "text/plain": "(array([[ 1. ,  1. , -0.5],\n        [ 1. ,  1. , -0.5]]),\n array([[2. , 2. , 2. ],\n        [2. , 1.7, 0.5]]))"
                    },
                    "execution_count": null
                }
            ]
        },
        {
            "id": "a3ca87bb",
            "cell_type": "markdown",
            "source": "It is possible to specify how boundaries are treated using `edge_order`\n",
            "metadata": {}
        },
        {
            "id": "001b774d",
            "cell_type": "code",
            "metadata": {},
            "execution_count": null,
            "source": "x = np.array([0, 1, 2, 3, 4])\nf = x**2\nnp.gradient(f, edge_order=1)",
            "outputs": [
                {
                    "output_type": "execute_result",
                    "metadata": {},
                    "data": {
                        "text/plain": "array([1.,  2.,  4.,  6.,  7.])"
                    },
                    "execution_count": null
                }
            ]
        },
        {
            "id": "dd152292",
            "cell_type": "code",
            "metadata": {},
            "execution_count": null,
            "source": "np.gradient(f, edge_order=2)",
            "outputs": [
                {
                    "output_type": "execute_result",
                    "metadata": {},
                    "data": {
                        "text/plain": "array([0., 2., 4., 6., 8.])"
                    },
                    "execution_count": null
                }
            ]
        },
        {
            "id": "f4a17079",
            "cell_type": "markdown",
            "source": "The `axis` keyword can be used to specify a subset of axes of which the\ngradient is calculated\n",
            "metadata": {}
        },
        {
            "id": "b457605b",
            "cell_type": "code",
            "metadata": {},
            "execution_count": null,
            "source": "np.gradient(np.array([[1, 2, 6], [3, 4, 5]]), axis=0)",
            "outputs": [
                {
                    "output_type": "execute_result",
                    "metadata": {},
                    "data": {
                        "text/plain": "array([[ 2.,  2., -1.],\n       [ 2.,  2., -1.]])"
                    },
                    "execution_count": null
                }
            ]
        },
        {
            "id": "d0d4d625",
            "cell_type": "markdown",
            "source": "The `varargs` argument defines the spacing between sample points in the\ninput array. It can take two forms:\n\n1. An array, specifying coordinates, which may be unevenly spaced:\n",
            "metadata": {}
        },
        {
            "id": "64bb96fb",
            "cell_type": "code",
            "metadata": {},
            "execution_count": null,
            "source": "x = np.array([0., 2., 3., 6., 8.])\ny = x ** 2\nnp.gradient(y, x, edge_order=2)",
            "outputs": [
                {
                    "output_type": "execute_result",
                    "metadata": {},
                    "data": {
                        "text/plain": "array([ 0.,  4.,  6., 12., 16.])"
                    },
                    "execution_count": null
                }
            ]
        },
        {
            "id": "f964219e",
            "cell_type": "markdown",
            "source": "2. A scalar, representing the fixed sample distance:\n",
            "metadata": {}
        },
        {
            "id": "cd447e45",
            "cell_type": "code",
            "metadata": {},
            "execution_count": null,
            "source": "dx = 2\nx = np.array([0., 2., 4., 6., 8.])\ny = x ** 2\nnp.gradient(y, dx, edge_order=2)",
            "outputs": [
                {
                    "output_type": "execute_result",
                    "metadata": {},
                    "data": {
                        "text/plain": "array([ 0.,  4.,  8., 12., 16.])"
                    },
                    "execution_count": null
                }
            ]
        },
        {
            "id": "88dd3c1e",
            "cell_type": "markdown",
            "source": "It's possible to provide different data for spacing along each dimension.\nThe number of arguments must match the number of dimensions in the input\ndata.\n",
            "metadata": {}
        },
        {
            "id": "4df9a8d5",
            "cell_type": "code",
            "metadata": {},
            "execution_count": null,
            "source": "dx = 2\ndy = 3\nx = np.arange(0, 6, dx)\ny = np.arange(0, 9, dy)\nxs, ys = np.meshgrid(x, y)\nzs = xs + 2 * ys\nnp.gradient(zs, dy, dx)  # Passing two scalars",
            "outputs": [
                {
                    "output_type": "execute_result",
                    "metadata": {},
                    "data": {
                        "text/plain": "(array([[2., 2., 2.],\n        [2., 2., 2.],\n        [2., 2., 2.]]),\n array([[1., 1., 1.],\n        [1., 1., 1.],\n        [1., 1., 1.]]))"
                    },
                    "execution_count": null
                }
            ]
        },
        {
            "id": "3315f271",
            "cell_type": "markdown",
            "source": "Mixing scalars and arrays is also allowed:\n",
            "metadata": {}
        },
        {
            "id": "67035c81",
            "cell_type": "code",
            "metadata": {},
            "execution_count": null,
            "source": "np.gradient(zs, y, dx)  # Passing one array and one scalar",
            "outputs": [
                {
                    "output_type": "execute_result",
                    "metadata": {},
                    "data": {
                        "text/plain": "(array([[2., 2., 2.],\n        [2., 2., 2.],\n        [2., 2., 2.]]),\n array([[1., 1., 1.],\n        [1., 1., 1.],\n        [1., 1., 1.]]))"
                    },
                    "execution_count": null
                }
            ]
        }
    ]
}