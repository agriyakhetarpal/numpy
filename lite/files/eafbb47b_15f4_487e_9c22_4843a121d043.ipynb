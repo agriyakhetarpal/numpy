{
    "nbformat": 4,
    "nbformat_minor": 5,
    "metadata": {
        "kernelspec": {
            "display_name": "Python",
            "language": "python",
            "name": "python"
        },
        "language_info": {
            "name": "python"
        }
    },
    "cells": [
        {
            "id": "08eb3df3",
            "cell_type": "markdown",
            "source": "<div class='alert alert-warning'>\n\nNumPy's interactive examples are experimental and may not always work as expected, with high load times especially on low-resource platforms, and the version of NumPy might not be in sync with the one you are browsing the documentation for. If you encounter any issues, please report them on the [NumPy issue tracker](https://github.com/numpy/numpy/issues).\n\n</div>",
            "metadata": {}
        },
        {
            "id": "eb96f797",
            "cell_type": "code",
            "metadata": {},
            "execution_count": null,
            "source": "from numpy.polynomial.polynomial import polyvalfromroots\npolyvalfromroots(1, [1, 2, 3])",
            "outputs": [
                {
                    "output_type": "execute_result",
                    "metadata": {},
                    "data": {
                        "text/plain": "0.0"
                    },
                    "execution_count": null
                }
            ]
        },
        {
            "id": "6d905d29",
            "cell_type": "code",
            "metadata": {},
            "execution_count": null,
            "source": "a = np.arange(4).reshape(2, 2)\na",
            "outputs": [
                {
                    "output_type": "execute_result",
                    "metadata": {},
                    "data": {
                        "text/plain": "array([[0, 1],\n       [2, 3]])"
                    },
                    "execution_count": null
                }
            ]
        },
        {
            "id": "6be1c857",
            "cell_type": "code",
            "metadata": {},
            "execution_count": null,
            "source": "polyvalfromroots(a, [-1, 0, 1])",
            "outputs": [
                {
                    "output_type": "execute_result",
                    "metadata": {},
                    "data": {
                        "text/plain": "array([[-0.,   0.],\n       [ 6.,  24.]])"
                    },
                    "execution_count": null
                }
            ]
        },
        {
            "id": "bfb14534",
            "cell_type": "code",
            "metadata": {},
            "execution_count": null,
            "source": "r = np.arange(-2, 2).reshape(2,2)  # multidimensional coefficients\nr # each column of r defines one polynomial",
            "outputs": [
                {
                    "output_type": "execute_result",
                    "metadata": {},
                    "data": {
                        "text/plain": "array([[-2, -1],\n       [ 0,  1]])"
                    },
                    "execution_count": null
                }
            ]
        },
        {
            "id": "6e98ed33",
            "cell_type": "code",
            "metadata": {},
            "execution_count": null,
            "source": "b = [-2, 1]\npolyvalfromroots(b, r, tensor=True)",
            "outputs": [
                {
                    "output_type": "execute_result",
                    "metadata": {},
                    "data": {
                        "text/plain": "array([[-0.,  3.],\n       [ 3., 0.]])"
                    },
                    "execution_count": null
                }
            ]
        },
        {
            "id": "ade3e1d2",
            "cell_type": "code",
            "metadata": {},
            "execution_count": null,
            "source": "polyvalfromroots(b, r, tensor=False)",
            "outputs": [
                {
                    "output_type": "execute_result",
                    "metadata": {},
                    "data": {
                        "text/plain": "array([-0.,  0.])"
                    },
                    "execution_count": null
                }
            ]
        }
    ]
}