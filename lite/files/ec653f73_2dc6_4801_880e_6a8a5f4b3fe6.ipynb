{
    "nbformat": 4,
    "nbformat_minor": 5,
    "metadata": {
        "kernelspec": {
            "display_name": "Python",
            "language": "python",
            "name": "python"
        },
        "language_info": {
            "name": "python"
        }
    },
    "cells": [
        {
            "id": "e3003341",
            "cell_type": "markdown",
            "source": "<div class='alert alert-warning'>\n\nNumPy's interactive examples are experimental and may not always work as expected, with high load times especially on low-resource platforms, and the version of NumPy might not be in sync with the one you are browsing the documentation for. If you encounter any issues, please report them on the [NumPy issue tracker](https://github.com/numpy/numpy/issues).\n\n</div>",
            "metadata": {}
        },
        {
            "id": "86c8484d",
            "cell_type": "markdown",
            "source": "The derivative of the polynomial $x^3 + x^2 + x^1 + 1$ is:\n",
            "metadata": {}
        },
        {
            "id": "56e4b6ec",
            "cell_type": "code",
            "metadata": {},
            "execution_count": null,
            "source": "import numpy as np",
            "outputs": []
        },
        {
            "id": "b5dd0cf2",
            "cell_type": "code",
            "metadata": {},
            "execution_count": null,
            "source": "p = np.poly1d([1,1,1,1])\np2 = np.polyder(p)\np2",
            "outputs": [
                {
                    "output_type": "execute_result",
                    "metadata": {},
                    "data": {
                        "text/plain": "poly1d([3, 2, 1])"
                    },
                    "execution_count": null
                }
            ]
        },
        {
            "id": "ab30fbfe",
            "cell_type": "markdown",
            "source": "which evaluates to:\n",
            "metadata": {}
        },
        {
            "id": "fb98d313",
            "cell_type": "code",
            "metadata": {},
            "execution_count": null,
            "source": "p2(2.)",
            "outputs": [
                {
                    "output_type": "execute_result",
                    "metadata": {},
                    "data": {
                        "text/plain": "17.0"
                    },
                    "execution_count": null
                }
            ]
        },
        {
            "id": "886a38ff",
            "cell_type": "markdown",
            "source": "We can verify this, approximating the derivative with\n``(f(x + h) - f(x))/h``:\n",
            "metadata": {}
        },
        {
            "id": "aef3b689",
            "cell_type": "code",
            "metadata": {},
            "execution_count": null,
            "source": "(p(2. + 0.001) - p(2.)) / 0.001",
            "outputs": [
                {
                    "output_type": "execute_result",
                    "metadata": {},
                    "data": {
                        "text/plain": "17.007000999997857"
                    },
                    "execution_count": null
                }
            ]
        },
        {
            "id": "2b0ad47f",
            "cell_type": "markdown",
            "source": "The fourth-order derivative of a 3rd-order polynomial is zero:\n",
            "metadata": {}
        },
        {
            "id": "93d979d0",
            "cell_type": "code",
            "metadata": {},
            "execution_count": null,
            "source": "np.polyder(p, 2)",
            "outputs": [
                {
                    "output_type": "execute_result",
                    "metadata": {},
                    "data": {
                        "text/plain": "poly1d([6, 2])"
                    },
                    "execution_count": null
                }
            ]
        },
        {
            "id": "a8046146",
            "cell_type": "code",
            "metadata": {},
            "execution_count": null,
            "source": "np.polyder(p, 3)",
            "outputs": [
                {
                    "output_type": "execute_result",
                    "metadata": {},
                    "data": {
                        "text/plain": "poly1d([6])"
                    },
                    "execution_count": null
                }
            ]
        },
        {
            "id": "fe04864d",
            "cell_type": "code",
            "metadata": {},
            "execution_count": null,
            "source": "np.polyder(p, 4)",
            "outputs": [
                {
                    "output_type": "execute_result",
                    "metadata": {},
                    "data": {
                        "text/plain": "poly1d([0])"
                    },
                    "execution_count": null
                }
            ]
        }
    ]
}