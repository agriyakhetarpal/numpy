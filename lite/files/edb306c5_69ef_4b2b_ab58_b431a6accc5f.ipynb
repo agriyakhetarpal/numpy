{
    "nbformat": 4,
    "nbformat_minor": 5,
    "metadata": {
        "kernelspec": {
            "display_name": "Python",
            "language": "python",
            "name": "python"
        },
        "language_info": {
            "name": "python"
        }
    },
    "cells": [
        {
            "id": "914f1edd",
            "cell_type": "markdown",
            "source": "<div class='alert alert-warning'>\n\nNumPy's interactive examples are experimental and may not always work as expected, with high load times especially on low-resource platforms, and the version of NumPy might not be in sync with the one you are browsing the documentation for. If you encounter any issues, please report them on the [NumPy issue tracker](https://github.com/numpy/numpy/issues).\n\n</div>",
            "metadata": {}
        },
        {
            "id": "317f81dd",
            "cell_type": "code",
            "metadata": {},
            "execution_count": null,
            "source": "import numpy as np\nimport warnings\nx = np.array([0.0, 1.0, 2.0, 3.0,  4.0,  5.0])\ny = np.array([0.0, 0.8, 0.9, 0.1, -0.8, -1.0])\nz = np.polyfit(x, y, 3)\nz",
            "outputs": [
                {
                    "output_type": "execute_result",
                    "metadata": {},
                    "data": {
                        "text/plain": "array([ 0.08703704, -0.81349206,  1.69312169, -0.03968254]) # may vary"
                    },
                    "execution_count": null
                }
            ]
        },
        {
            "id": "db4016e3",
            "cell_type": "markdown",
            "source": "It is convenient to use `poly1d` objects for dealing with polynomials:\n",
            "metadata": {}
        },
        {
            "id": "05e0f267",
            "cell_type": "code",
            "metadata": {},
            "execution_count": null,
            "source": "p = np.poly1d(z)\np(0.5)",
            "outputs": [
                {
                    "output_type": "execute_result",
                    "metadata": {},
                    "data": {
                        "text/plain": "0.6143849206349179 # may vary"
                    },
                    "execution_count": null
                }
            ]
        },
        {
            "id": "f6f9bc57",
            "cell_type": "code",
            "metadata": {},
            "execution_count": null,
            "source": "p(3.5)",
            "outputs": [
                {
                    "output_type": "execute_result",
                    "metadata": {},
                    "data": {
                        "text/plain": "-0.34732142857143039 # may vary"
                    },
                    "execution_count": null
                }
            ]
        },
        {
            "id": "8617e686",
            "cell_type": "code",
            "metadata": {},
            "execution_count": null,
            "source": "p(10)",
            "outputs": [
                {
                    "output_type": "execute_result",
                    "metadata": {},
                    "data": {
                        "text/plain": "22.579365079365115 # may vary"
                    },
                    "execution_count": null
                }
            ]
        },
        {
            "id": "6eb21fcb",
            "cell_type": "markdown",
            "source": "High-order polynomials may oscillate wildly:\n",
            "metadata": {}
        },
        {
            "id": "75100c11",
            "cell_type": "code",
            "metadata": {},
            "execution_count": null,
            "source": "with warnings.catch_warnings():\n    warnings.simplefilter('ignore', np.exceptions.RankWarning)\n    p30 = np.poly1d(np.polyfit(x, y, 30))\n\np30(4)",
            "outputs": [
                {
                    "output_type": "execute_result",
                    "metadata": {},
                    "data": {
                        "text/plain": "-0.80000000000000204 # may vary"
                    },
                    "execution_count": null
                }
            ]
        },
        {
            "id": "cc099c5c",
            "cell_type": "code",
            "metadata": {},
            "execution_count": null,
            "source": "p30(5)",
            "outputs": [
                {
                    "output_type": "execute_result",
                    "metadata": {},
                    "data": {
                        "text/plain": "-0.99999999999999445 # may vary"
                    },
                    "execution_count": null
                }
            ]
        },
        {
            "id": "393bfa8a",
            "cell_type": "code",
            "metadata": {},
            "execution_count": null,
            "source": "p30(4.5)",
            "outputs": [
                {
                    "output_type": "execute_result",
                    "metadata": {},
                    "data": {
                        "text/plain": "-0.10547061179440398 # may vary"
                    },
                    "execution_count": null
                }
            ]
        },
        {
            "id": "b03f92ab",
            "cell_type": "markdown",
            "source": "Illustration:\n",
            "metadata": {}
        },
        {
            "id": "cd107175",
            "cell_type": "code",
            "metadata": {},
            "execution_count": null,
            "source": "import matplotlib.pyplot as plt\nxp = np.linspace(-2, 6, 100)\n_ = plt.plot(x, y, '.', xp, p(xp), '-', xp, p30(xp), '--')\nplt.ylim(-2,2)",
            "outputs": [
                {
                    "output_type": "execute_result",
                    "metadata": {},
                    "data": {
                        "text/plain": "(-2, 2)"
                    },
                    "execution_count": null
                }
            ]
        },
        {
            "id": "910d3e8c",
            "cell_type": "code",
            "metadata": {},
            "execution_count": null,
            "source": "plt.show()",
            "outputs": []
        }
    ]
}