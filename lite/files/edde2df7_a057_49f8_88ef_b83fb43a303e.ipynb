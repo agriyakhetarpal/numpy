{
    "nbformat": 4,
    "nbformat_minor": 5,
    "metadata": {
        "kernelspec": {
            "display_name": "Python",
            "language": "python",
            "name": "python"
        },
        "language_info": {
            "name": "python"
        }
    },
    "cells": [
        {
            "id": "f650d4e8",
            "cell_type": "markdown",
            "source": "<div class='alert alert-warning'>\n\nNumPy's interactive examples are experimental and may not always work as expected, with high load times especially on low-resource platforms, and the version of NumPy might not be in sync with the one you are browsing the documentation for. If you encounter any issues, please report them on the [NumPy issue tracker](https://github.com/numpy/numpy/issues).\n\n</div>",
            "metadata": {}
        },
        {
            "id": "55e751ce",
            "cell_type": "markdown",
            "source": "A 2-dimensional array of size 2 x 3, composed of 4-byte integer\nelements:\n",
            "metadata": {}
        },
        {
            "id": "6a56b797",
            "cell_type": "code",
            "metadata": {},
            "execution_count": null,
            "source": "import numpy as np",
            "outputs": []
        },
        {
            "id": "58bf4bcf",
            "cell_type": "code",
            "metadata": {},
            "execution_count": null,
            "source": "x = np.array([[1, 2, 3], [4, 5, 6]], np.int32)\ntype(x)",
            "outputs": [
                {
                    "output_type": "execute_result",
                    "metadata": {},
                    "data": {
                        "text/plain": "<class 'numpy.ndarray'>"
                    },
                    "execution_count": null
                }
            ]
        },
        {
            "id": "a9c911c7",
            "cell_type": "code",
            "metadata": {},
            "execution_count": null,
            "source": "x.shape",
            "outputs": [
                {
                    "output_type": "execute_result",
                    "metadata": {},
                    "data": {
                        "text/plain": "(2, 3)"
                    },
                    "execution_count": null
                }
            ]
        },
        {
            "id": "42cfd0f4",
            "cell_type": "code",
            "metadata": {},
            "execution_count": null,
            "source": "x.dtype",
            "outputs": [
                {
                    "output_type": "execute_result",
                    "metadata": {},
                    "data": {
                        "text/plain": "dtype('int32')"
                    },
                    "execution_count": null
                }
            ]
        },
        {
            "id": "8180d006",
            "cell_type": "markdown",
            "source": "The array can be indexed using Python container-like syntax:\n",
            "metadata": {}
        },
        {
            "id": "4a3484e4",
            "cell_type": "code",
            "metadata": {},
            "execution_count": null,
            "source": "# The element of x in the *second* row, *third* column, namely, 6.\nx[1, 2]",
            "outputs": [
                {
                    "output_type": "execute_result",
                    "metadata": {},
                    "data": {
                        "text/plain": "   6"
                    },
                    "execution_count": null
                }
            ]
        },
        {
            "id": "40e430ad",
            "cell_type": "markdown",
            "source": "For example :ref:`slicing <arrays.indexing>` can produce views of\nthe array:\n",
            "metadata": {}
        },
        {
            "id": "82202029",
            "cell_type": "code",
            "metadata": {},
            "execution_count": null,
            "source": "y = x[:,1]\ny",
            "outputs": [
                {
                    "output_type": "execute_result",
                    "metadata": {},
                    "data": {
                        "text/plain": "array([2, 5], dtype=int32)"
                    },
                    "execution_count": null
                }
            ]
        },
        {
            "id": "2e2605a9",
            "cell_type": "code",
            "metadata": {},
            "execution_count": null,
            "source": "y[0] = 9 # this also changes the corresponding element in x\ny",
            "outputs": [
                {
                    "output_type": "execute_result",
                    "metadata": {},
                    "data": {
                        "text/plain": "array([9, 5], dtype=int32)"
                    },
                    "execution_count": null
                }
            ]
        },
        {
            "id": "7fd36be3",
            "cell_type": "code",
            "metadata": {},
            "execution_count": null,
            "source": "x",
            "outputs": [
                {
                    "output_type": "execute_result",
                    "metadata": {},
                    "data": {
                        "text/plain": "array([[1, 9, 3],\n       [4, 5, 6]], dtype=int32)"
                    },
                    "execution_count": null
                }
            ]
        }
    ]
}