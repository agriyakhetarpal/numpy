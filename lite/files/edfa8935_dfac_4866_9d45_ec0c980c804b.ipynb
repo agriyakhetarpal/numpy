{
    "nbformat": 4,
    "nbformat_minor": 5,
    "metadata": {
        "kernelspec": {
            "display_name": "Python",
            "language": "python",
            "name": "python"
        },
        "language_info": {
            "name": "python"
        }
    },
    "cells": [
        {
            "id": "24b395ff",
            "cell_type": "markdown",
            "source": "<div class='alert alert-warning'>\n\nNumPy's interactive examples are experimental and may not always work as expected, with high load times especially on low-resource platforms, , and the version of NumPy might not be in sync with the one you are browsing the documentation for. If you encounter any issues, please report them on the [NumPy issue tracker](https://github.com/numpy/numpy/issues).\n\n</div>",
            "metadata": {}
        },
        {
            "id": "333fd280",
            "cell_type": "code",
            "metadata": {},
            "execution_count": null,
            "source": "import numpy as np\nx = np.array([[3, 0, 0], [0, 4, 0], [5, 6, 0]])\nx",
            "outputs": [
                {
                    "output_type": "execute_result",
                    "metadata": {},
                    "data": {
                        "text/plain": "array([[3, 0, 0],\n       [0, 4, 0],\n       [5, 6, 0]])"
                    },
                    "execution_count": null
                }
            ]
        },
        {
            "id": "d3a29ef4",
            "cell_type": "code",
            "metadata": {},
            "execution_count": null,
            "source": "np.nonzero(x)",
            "outputs": [
                {
                    "output_type": "execute_result",
                    "metadata": {},
                    "data": {
                        "text/plain": "(array([0, 1, 2, 2]), array([0, 1, 0, 1]))"
                    },
                    "execution_count": null
                }
            ]
        },
        {
            "id": "b2f45055",
            "cell_type": "code",
            "metadata": {},
            "execution_count": null,
            "source": "x[np.nonzero(x)]",
            "outputs": [
                {
                    "output_type": "execute_result",
                    "metadata": {},
                    "data": {
                        "text/plain": "array([3, 4, 5, 6])"
                    },
                    "execution_count": null
                }
            ]
        },
        {
            "id": "2199fb98",
            "cell_type": "code",
            "metadata": {},
            "execution_count": null,
            "source": "np.transpose(np.nonzero(x))",
            "outputs": [
                {
                    "output_type": "execute_result",
                    "metadata": {},
                    "data": {
                        "text/plain": "array([[0, 0],\n       [1, 1],\n       [2, 0],\n       [2, 1]])"
                    },
                    "execution_count": null
                }
            ]
        },
        {
            "id": "282a96af",
            "cell_type": "markdown",
            "source": "A common use for ``nonzero`` is to find the indices of an array, where\na condition is True.  Given an array `a`, the condition `a` > 3 is a\nboolean array and since False is interpreted as 0, np.nonzero(a > 3)\nyields the indices of the `a` where the condition is true.\n",
            "metadata": {}
        },
        {
            "id": "1a3de644",
            "cell_type": "code",
            "metadata": {},
            "execution_count": null,
            "source": "a = np.array([[1, 2, 3], [4, 5, 6], [7, 8, 9]])\na > 3",
            "outputs": [
                {
                    "output_type": "execute_result",
                    "metadata": {},
                    "data": {
                        "text/plain": "array([[False, False, False],\n       [ True,  True,  True],\n       [ True,  True,  True]])"
                    },
                    "execution_count": null
                }
            ]
        },
        {
            "id": "c7ccdc25",
            "cell_type": "code",
            "metadata": {},
            "execution_count": null,
            "source": "np.nonzero(a > 3)",
            "outputs": [
                {
                    "output_type": "execute_result",
                    "metadata": {},
                    "data": {
                        "text/plain": "(array([1, 1, 1, 2, 2, 2]), array([0, 1, 2, 0, 1, 2]))"
                    },
                    "execution_count": null
                }
            ]
        },
        {
            "id": "d466cc73",
            "cell_type": "markdown",
            "source": "Using this result to index `a` is equivalent to using the mask directly:\n",
            "metadata": {}
        },
        {
            "id": "495b954f",
            "cell_type": "code",
            "metadata": {},
            "execution_count": null,
            "source": "a[np.nonzero(a > 3)]",
            "outputs": [
                {
                    "output_type": "execute_result",
                    "metadata": {},
                    "data": {
                        "text/plain": "array([4, 5, 6, 7, 8, 9])"
                    },
                    "execution_count": null
                }
            ]
        },
        {
            "id": "2fa2a702",
            "cell_type": "code",
            "metadata": {},
            "execution_count": null,
            "source": "a[a > 3]  # prefer this spelling",
            "outputs": [
                {
                    "output_type": "execute_result",
                    "metadata": {},
                    "data": {
                        "text/plain": "array([4, 5, 6, 7, 8, 9])"
                    },
                    "execution_count": null
                }
            ]
        },
        {
            "id": "74492e37",
            "cell_type": "markdown",
            "source": "``nonzero`` can also be called as a method of the array.\n",
            "metadata": {}
        },
        {
            "id": "78ce4001",
            "cell_type": "code",
            "metadata": {},
            "execution_count": null,
            "source": "(a > 3).nonzero()",
            "outputs": [
                {
                    "output_type": "execute_result",
                    "metadata": {},
                    "data": {
                        "text/plain": "(array([1, 1, 1, 2, 2, 2]), array([0, 1, 2, 0, 1, 2]))"
                    },
                    "execution_count": null
                }
            ]
        }
    ]
}