{
    "nbformat": 4,
    "nbformat_minor": 5,
    "metadata": {
        "kernelspec": {
            "display_name": "Python",
            "language": "python",
            "name": "python"
        },
        "language_info": {
            "name": "python"
        }
    },
    "cells": [
        {
            "id": "a09f7936",
            "cell_type": "markdown",
            "source": "<div class='alert alert-warning'>\n\nNumPy's interactive examples are experimental and may not always work as expected, with high load times especially on low-resource platforms, and the version of NumPy might not be in sync with the one you are browsing the documentation for. If you encounter any issues, please report them on the [NumPy issue tracker](https://github.com/numpy/numpy/issues).\n\n</div>",
            "metadata": {}
        },
        {
            "id": "df08e5a9",
            "cell_type": "markdown",
            "source": "Draw values from the distribution and plot the histogram\n",
            "metadata": {}
        },
        {
            "id": "c3c66f6b",
            "cell_type": "code",
            "metadata": {},
            "execution_count": null,
            "source": "rng = np.random.default_rng()\nimport matplotlib.pyplot as plt\nvalues = plt.hist(rng.noncentral_chisquare(3, 20, 100000),\n                  bins=200, density=True)\nplt.show()",
            "outputs": []
        },
        {
            "id": "b8072e5d",
            "cell_type": "markdown",
            "source": "Draw values from a noncentral chisquare with very small noncentrality,\nand compare to a chisquare.\n",
            "metadata": {}
        },
        {
            "id": "7431aae2",
            "cell_type": "code",
            "metadata": {},
            "execution_count": null,
            "source": "plt.figure()\nvalues = plt.hist(rng.noncentral_chisquare(3, .0000001, 100000),\n                  bins=np.arange(0., 25, .1), density=True)\nvalues2 = plt.hist(rng.chisquare(3, 100000),\n                   bins=np.arange(0., 25, .1), density=True)\nplt.plot(values[1][0:-1], values[0]-values2[0], 'ob')\nplt.show()",
            "outputs": []
        },
        {
            "id": "999e83f9",
            "cell_type": "markdown",
            "source": "Demonstrate how large values of non-centrality lead to a more symmetric\ndistribution.\n",
            "metadata": {}
        },
        {
            "id": "fd8e8f06",
            "cell_type": "code",
            "metadata": {},
            "execution_count": null,
            "source": "plt.figure()\nvalues = plt.hist(rng.noncentral_chisquare(3, 20, 100000),\n                  bins=200, density=True)\nplt.show()",
            "outputs": []
        }
    ]
}