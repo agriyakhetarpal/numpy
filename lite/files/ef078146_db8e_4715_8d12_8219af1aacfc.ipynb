{
    "nbformat": 4,
    "nbformat_minor": 5,
    "metadata": {
        "kernelspec": {
            "display_name": "Python",
            "language": "python",
            "name": "python"
        },
        "language_info": {
            "name": "python"
        }
    },
    "cells": [
        {
            "id": "8a9b7e7f",
            "cell_type": "markdown",
            "source": "<div class='alert alert-warning'>\n\nNumPy's interactive examples are experimental and may not always work as expected, with high load times especially on low-resource platforms, and the version of NumPy might not be in sync with the one you are browsing the documentation for. If you encounter any issues, please report them on the [NumPy issue tracker](https://github.com/numpy/numpy/issues).\n\n</div>",
            "metadata": {}
        },
        {
            "id": "c02540f7",
            "cell_type": "markdown",
            "source": "A 2-dimensional array of size 2 x 3, composed of 4-byte integer\nelements:\n",
            "metadata": {}
        },
        {
            "id": "817c7e5a",
            "cell_type": "code",
            "metadata": {},
            "execution_count": null,
            "source": "import numpy as np",
            "outputs": []
        },
        {
            "id": "7b4a3c59",
            "cell_type": "code",
            "metadata": {},
            "execution_count": null,
            "source": "x = np.array([[1, 2, 3], [4, 5, 6]], np.int32)\ntype(x)",
            "outputs": [
                {
                    "output_type": "execute_result",
                    "metadata": {},
                    "data": {
                        "text/plain": "<class 'numpy.ndarray'>"
                    },
                    "execution_count": null
                }
            ]
        },
        {
            "id": "2745d617",
            "cell_type": "code",
            "metadata": {},
            "execution_count": null,
            "source": "x.shape",
            "outputs": [
                {
                    "output_type": "execute_result",
                    "metadata": {},
                    "data": {
                        "text/plain": "(2, 3)"
                    },
                    "execution_count": null
                }
            ]
        },
        {
            "id": "ea29ad06",
            "cell_type": "code",
            "metadata": {},
            "execution_count": null,
            "source": "x.dtype",
            "outputs": [
                {
                    "output_type": "execute_result",
                    "metadata": {},
                    "data": {
                        "text/plain": "dtype('int32')"
                    },
                    "execution_count": null
                }
            ]
        },
        {
            "id": "c3e1cd3b",
            "cell_type": "markdown",
            "source": "The array can be indexed using Python container-like syntax:\n",
            "metadata": {}
        },
        {
            "id": "e485cf09",
            "cell_type": "code",
            "metadata": {},
            "execution_count": null,
            "source": "# The element of x in the *second* row, *third* column, namely, 6.\nx[1, 2]",
            "outputs": [
                {
                    "output_type": "execute_result",
                    "metadata": {},
                    "data": {
                        "text/plain": "   6"
                    },
                    "execution_count": null
                }
            ]
        },
        {
            "id": "6c32855b",
            "cell_type": "markdown",
            "source": "For example :ref:`slicing <arrays.indexing>` can produce views of\nthe array:\n",
            "metadata": {}
        },
        {
            "id": "a8f4bea4",
            "cell_type": "code",
            "metadata": {},
            "execution_count": null,
            "source": "y = x[:,1]\ny",
            "outputs": [
                {
                    "output_type": "execute_result",
                    "metadata": {},
                    "data": {
                        "text/plain": "array([2, 5], dtype=int32)"
                    },
                    "execution_count": null
                }
            ]
        },
        {
            "id": "cd75a2ae",
            "cell_type": "code",
            "metadata": {},
            "execution_count": null,
            "source": "y[0] = 9 # this also changes the corresponding element in x\ny",
            "outputs": [
                {
                    "output_type": "execute_result",
                    "metadata": {},
                    "data": {
                        "text/plain": "array([9, 5], dtype=int32)"
                    },
                    "execution_count": null
                }
            ]
        },
        {
            "id": "480bc878",
            "cell_type": "code",
            "metadata": {},
            "execution_count": null,
            "source": "x",
            "outputs": [
                {
                    "output_type": "execute_result",
                    "metadata": {},
                    "data": {
                        "text/plain": "array([[1, 9, 3],\n       [4, 5, 6]], dtype=int32)"
                    },
                    "execution_count": null
                }
            ]
        }
    ]
}