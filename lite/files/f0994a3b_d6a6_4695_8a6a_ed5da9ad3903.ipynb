{
    "nbformat": 4,
    "nbformat_minor": 5,
    "metadata": {
        "kernelspec": {
            "display_name": "Python",
            "language": "python",
            "name": "python"
        },
        "language_info": {
            "name": "python"
        }
    },
    "cells": [
        {
            "id": "f6b1d360",
            "cell_type": "markdown",
            "source": "<div class='alert alert-warning'>\n\nNumPy's interactive examples are experimental and may not always work as expected, with high load times especially on low-resource platforms, and the version of NumPy might not be in sync with the one you are browsing the documentation for. If you encounter any issues, please report them on the [NumPy issue tracker](https://github.com/numpy/numpy/issues).\n\n</div>",
            "metadata": {}
        },
        {
            "id": "5f98406b",
            "cell_type": "code",
            "metadata": {},
            "execution_count": null,
            "source": "import numpy as np\na = np.arange(6).reshape(3, 2)\na",
            "outputs": [
                {
                    "output_type": "execute_result",
                    "metadata": {},
                    "data": {
                        "text/plain": "array([[0, 1],\n       [2, 3],\n       [4, 5]])"
                    },
                    "execution_count": null
                }
            ]
        },
        {
            "id": "34cea1af",
            "cell_type": "code",
            "metadata": {},
            "execution_count": null,
            "source": "np.insert(a, 1, 6)",
            "outputs": [
                {
                    "output_type": "execute_result",
                    "metadata": {},
                    "data": {
                        "text/plain": "array([0, 6, 1, 2, 3, 4, 5])"
                    },
                    "execution_count": null
                }
            ]
        },
        {
            "id": "225098cb",
            "cell_type": "code",
            "metadata": {},
            "execution_count": null,
            "source": "np.insert(a, 1, 6, axis=1)",
            "outputs": [
                {
                    "output_type": "execute_result",
                    "metadata": {},
                    "data": {
                        "text/plain": "array([[0, 6, 1],\n       [2, 6, 3],\n       [4, 6, 5]])"
                    },
                    "execution_count": null
                }
            ]
        },
        {
            "id": "9aa620eb",
            "cell_type": "markdown",
            "source": "Difference between sequence and scalars,\nshowing how ``obj=[1]`` behaves different from ``obj=1``:\n",
            "metadata": {}
        },
        {
            "id": "484dfbd9",
            "cell_type": "code",
            "metadata": {},
            "execution_count": null,
            "source": "np.insert(a, [1], [[7],[8],[9]], axis=1)",
            "outputs": [
                {
                    "output_type": "execute_result",
                    "metadata": {},
                    "data": {
                        "text/plain": "array([[0, 7, 1],\n       [2, 8, 3],\n       [4, 9, 5]])"
                    },
                    "execution_count": null
                }
            ]
        },
        {
            "id": "e1169dc3",
            "cell_type": "code",
            "metadata": {},
            "execution_count": null,
            "source": "np.insert(a, 1, [[7],[8],[9]], axis=1)",
            "outputs": [
                {
                    "output_type": "execute_result",
                    "metadata": {},
                    "data": {
                        "text/plain": "array([[0, 7, 8, 9, 1],\n       [2, 7, 8, 9, 3],\n       [4, 7, 8, 9, 5]])"
                    },
                    "execution_count": null
                }
            ]
        },
        {
            "id": "233bc9c3",
            "cell_type": "code",
            "metadata": {},
            "execution_count": null,
            "source": "np.array_equal(np.insert(a, 1, [7, 8, 9], axis=1),\n               np.insert(a, [1], [[7],[8],[9]], axis=1))",
            "outputs": [
                {
                    "output_type": "execute_result",
                    "metadata": {},
                    "data": {
                        "text/plain": "True"
                    },
                    "execution_count": null
                }
            ]
        },
        {
            "id": "3085bd68",
            "cell_type": "code",
            "metadata": {},
            "execution_count": null,
            "source": "b = a.flatten()\nb",
            "outputs": [
                {
                    "output_type": "execute_result",
                    "metadata": {},
                    "data": {
                        "text/plain": "array([0, 1, 2, 3, 4, 5])"
                    },
                    "execution_count": null
                }
            ]
        },
        {
            "id": "b6ed4148",
            "cell_type": "code",
            "metadata": {},
            "execution_count": null,
            "source": "np.insert(b, [2, 2], [6, 7])",
            "outputs": [
                {
                    "output_type": "execute_result",
                    "metadata": {},
                    "data": {
                        "text/plain": "array([0, 1, 6, 7, 2, 3, 4, 5])"
                    },
                    "execution_count": null
                }
            ]
        },
        {
            "id": "09796d6c",
            "cell_type": "code",
            "metadata": {},
            "execution_count": null,
            "source": "np.insert(b, slice(2, 4), [7, 8])",
            "outputs": [
                {
                    "output_type": "execute_result",
                    "metadata": {},
                    "data": {
                        "text/plain": "array([0, 1, 7, 2, 8, 3, 4, 5])"
                    },
                    "execution_count": null
                }
            ]
        },
        {
            "id": "98708c7e",
            "cell_type": "code",
            "metadata": {},
            "execution_count": null,
            "source": "np.insert(b, [2, 2], [7.13, False]) # type casting",
            "outputs": [
                {
                    "output_type": "execute_result",
                    "metadata": {},
                    "data": {
                        "text/plain": "array([0, 1, 7, 0, 2, 3, 4, 5])"
                    },
                    "execution_count": null
                }
            ]
        },
        {
            "id": "63d8eead",
            "cell_type": "code",
            "metadata": {},
            "execution_count": null,
            "source": "x = np.arange(8).reshape(2, 4)\nidx = (1, 3)\nnp.insert(x, idx, 999, axis=1)",
            "outputs": [
                {
                    "output_type": "execute_result",
                    "metadata": {},
                    "data": {
                        "text/plain": "array([[  0, 999,   1,   2, 999,   3],\n       [  4, 999,   5,   6, 999,   7]])"
                    },
                    "execution_count": null
                }
            ]
        }
    ]
}