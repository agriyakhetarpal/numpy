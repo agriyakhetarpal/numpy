{
    "nbformat": 4,
    "nbformat_minor": 5,
    "metadata": {
        "kernelspec": {
            "display_name": "Python",
            "language": "python",
            "name": "python"
        },
        "language_info": {
            "name": "python"
        }
    },
    "cells": [
        {
            "id": "acc61b9b",
            "cell_type": "markdown",
            "source": "<div class='alert alert-warning'>\n\nNumPy's interactive examples are experimental and may not always work as expected, with high load times especially on low-resource platforms, , and the version of NumPy might not be in sync with the one you are browsing the documentation for. If you encounter any issues, please report them on the [NumPy issue tracker](https://github.com/numpy/numpy/issues).\n\n</div>",
            "metadata": {}
        },
        {
            "id": "6d25cb51",
            "cell_type": "code",
            "metadata": {},
            "execution_count": null,
            "source": "x = np.matrix(np.arange(12).reshape((3,4))); x",
            "outputs": [
                {
                    "output_type": "execute_result",
                    "metadata": {},
                    "data": {
                        "text/plain": "matrix([[ 0,  1,  2,  3],\n        [ 4,  5,  6,  7],\n        [ 8,  9, 10, 11]])"
                    },
                    "execution_count": null
                }
            ]
        },
        {
            "id": "19d85351",
            "cell_type": "code",
            "metadata": {},
            "execution_count": null,
            "source": "y = x[0]; y",
            "outputs": [
                {
                    "output_type": "execute_result",
                    "metadata": {},
                    "data": {
                        "text/plain": "matrix([[0, 1, 2, 3]])"
                    },
                    "execution_count": null
                }
            ]
        },
        {
            "id": "71b10c74",
            "cell_type": "code",
            "metadata": {},
            "execution_count": null,
            "source": "(x == y)",
            "outputs": [
                {
                    "output_type": "execute_result",
                    "metadata": {},
                    "data": {
                        "text/plain": "matrix([[ True,  True,  True,  True],\n        [False, False, False, False],\n        [False, False, False, False]])"
                    },
                    "execution_count": null
                }
            ]
        },
        {
            "id": "5044ca18",
            "cell_type": "code",
            "metadata": {},
            "execution_count": null,
            "source": "(x == y).all()",
            "outputs": [
                {
                    "output_type": "execute_result",
                    "metadata": {},
                    "data": {
                        "text/plain": "False"
                    },
                    "execution_count": null
                }
            ]
        },
        {
            "id": "cb811374",
            "cell_type": "code",
            "metadata": {},
            "execution_count": null,
            "source": "(x == y).all(0)",
            "outputs": [
                {
                    "output_type": "execute_result",
                    "metadata": {},
                    "data": {
                        "text/plain": "matrix([[False, False, False, False]])"
                    },
                    "execution_count": null
                }
            ]
        },
        {
            "id": "4e49dd76",
            "cell_type": "code",
            "metadata": {},
            "execution_count": null,
            "source": "(x == y).all(1)",
            "outputs": [
                {
                    "output_type": "execute_result",
                    "metadata": {},
                    "data": {
                        "text/plain": "matrix([[ True],\n        [False],\n        [False]])"
                    },
                    "execution_count": null
                }
            ]
        }
    ]
}