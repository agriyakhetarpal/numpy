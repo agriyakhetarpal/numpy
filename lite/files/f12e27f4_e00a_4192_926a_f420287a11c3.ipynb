{
    "nbformat": 4,
    "nbformat_minor": 5,
    "metadata": {
        "kernelspec": {
            "display_name": "Python",
            "language": "python",
            "name": "python"
        },
        "language_info": {
            "name": "python"
        }
    },
    "cells": [
        {
            "id": "74e2eee4",
            "cell_type": "markdown",
            "source": "<div class='alert alert-warning'>\n\nNumPy's interactive examples are experimental and may not always work as expected, with high load times especially on low-resource platforms, , and the version of NumPy might not be in sync with the one you are browsing the documentation for. If you encounter any issues, please report them on the [NumPy issue tracker](https://github.com/numpy/numpy/issues).\n\n</div>",
            "metadata": {}
        },
        {
            "id": "6c2ec051",
            "cell_type": "markdown",
            "source": "As an illustration, let's consider the following dataset:\n",
            "metadata": {}
        },
        {
            "id": "d5aef797",
            "cell_type": "code",
            "metadata": {},
            "execution_count": null,
            "source": "import numpy as np\nimport numpy.ma as ma\nx = np.array([1, 2, 3, -1, 5])",
            "outputs": []
        },
        {
            "id": "89e4883a",
            "cell_type": "markdown",
            "source": "We wish to mark the fourth entry as invalid. The easiest is to create a masked\narray\n```\n\n```",
            "metadata": {}
        },
        {
            "id": "21b02ff8",
            "cell_type": "code",
            "metadata": {},
            "execution_count": null,
            "source": "mx = ma.masked_array(x, mask=[0, 0, 0, 1, 0])",
            "outputs": []
        },
        {
            "id": "aaeb5af8",
            "cell_type": "markdown",
            "source": "We can now compute the mean of the dataset, without taking the invalid data\ninto account:\n",
            "metadata": {}
        },
        {
            "id": "6e7701f1",
            "cell_type": "code",
            "metadata": {},
            "execution_count": null,
            "source": "mx.mean()",
            "outputs": [
                {
                    "output_type": "execute_result",
                    "metadata": {},
                    "data": {
                        "text/plain": "2.75"
                    },
                    "execution_count": null
                }
            ]
        }
    ]
}