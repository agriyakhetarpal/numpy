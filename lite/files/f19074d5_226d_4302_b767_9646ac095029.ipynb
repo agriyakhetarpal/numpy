{
    "nbformat": 4,
    "nbformat_minor": 5,
    "metadata": {
        "kernelspec": {
            "display_name": "Python",
            "language": "python",
            "name": "python"
        },
        "language_info": {
            "name": "python"
        }
    },
    "cells": [
        {
            "id": "169d81f6",
            "cell_type": "markdown",
            "source": "<div class='alert alert-warning'>\n\nNumPy's interactive examples are experimental and may not always work as expected, with high load times especially on low-resource platforms, and the version of NumPy might not be in sync with the one you are browsing the documentation for. If you encounter any issues, please report them on the [NumPy issue tracker](https://github.com/numpy/numpy/issues).\n\n</div>",
            "metadata": {}
        },
        {
            "id": "2ce61652",
            "cell_type": "code",
            "metadata": {},
            "execution_count": null,
            "source": "import numpy as np\nfrom numpy.linalg import matrix_power\ni = np.array([[0, 1], [-1, 0]]) # matrix equiv. of the imaginary unit\nmatrix_power(i, 3) # should = -i",
            "outputs": [
                {
                    "output_type": "execute_result",
                    "metadata": {},
                    "data": {
                        "text/plain": "array([[ 0, -1],\n       [ 1,  0]])"
                    },
                    "execution_count": null
                }
            ]
        },
        {
            "id": "fb46dfc8",
            "cell_type": "code",
            "metadata": {},
            "execution_count": null,
            "source": "matrix_power(i, 0)",
            "outputs": [
                {
                    "output_type": "execute_result",
                    "metadata": {},
                    "data": {
                        "text/plain": "array([[1, 0],\n       [0, 1]])"
                    },
                    "execution_count": null
                }
            ]
        },
        {
            "id": "4509c062",
            "cell_type": "code",
            "metadata": {},
            "execution_count": null,
            "source": "matrix_power(i, -3) # should = 1/(-i) = i, but w/ f.p. elements",
            "outputs": [
                {
                    "output_type": "execute_result",
                    "metadata": {},
                    "data": {
                        "text/plain": "array([[ 0.,  1.],\n       [-1.,  0.]])"
                    },
                    "execution_count": null
                }
            ]
        },
        {
            "id": "2bdfc91e",
            "cell_type": "markdown",
            "source": "Somewhat more sophisticated example\n",
            "metadata": {}
        },
        {
            "id": "cc27d3da",
            "cell_type": "code",
            "metadata": {},
            "execution_count": null,
            "source": "q = np.zeros((4, 4))\nq[0:2, 0:2] = -i\nq[2:4, 2:4] = i\nq # one of the three quaternion units not equal to 1",
            "outputs": [
                {
                    "output_type": "execute_result",
                    "metadata": {},
                    "data": {
                        "text/plain": "array([[ 0., -1.,  0.,  0.],\n       [ 1.,  0.,  0.,  0.],\n       [ 0.,  0.,  0.,  1.],\n       [ 0.,  0., -1.,  0.]])"
                    },
                    "execution_count": null
                }
            ]
        },
        {
            "id": "e61290f7",
            "cell_type": "code",
            "metadata": {},
            "execution_count": null,
            "source": "matrix_power(q, 2) # = -np.eye(4)",
            "outputs": [
                {
                    "output_type": "execute_result",
                    "metadata": {},
                    "data": {
                        "text/plain": "array([[-1.,  0.,  0.,  0.],\n       [ 0., -1.,  0.,  0.],\n       [ 0.,  0., -1.,  0.],\n       [ 0.,  0.,  0., -1.]])"
                    },
                    "execution_count": null
                }
            ]
        }
    ]
}