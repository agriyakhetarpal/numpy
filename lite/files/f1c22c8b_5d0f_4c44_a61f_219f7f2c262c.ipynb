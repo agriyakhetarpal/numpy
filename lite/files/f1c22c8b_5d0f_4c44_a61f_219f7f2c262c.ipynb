{
    "nbformat": 4,
    "nbformat_minor": 5,
    "metadata": {
        "kernelspec": {
            "display_name": "Python",
            "language": "python",
            "name": "python"
        },
        "language_info": {
            "name": "python"
        }
    },
    "cells": [
        {
            "id": "b4da6c90",
            "cell_type": "markdown",
            "source": "<div class='alert alert-warning'>\n\nNumPy's interactive examples are experimental and may not always work as expected, with high load times especially on low-resource platforms, and the version of NumPy might not be in sync with the one you are browsing the documentation for. If you encounter any issues, please report them on the [NumPy issue tracker](https://github.com/numpy/numpy/issues).\n\n</div>",
            "metadata": {}
        },
        {
            "id": "5c1cfa2a",
            "cell_type": "markdown",
            "source": "`issubdtype` can be used to check the type of arrays:\n",
            "metadata": {}
        },
        {
            "id": "559bc463",
            "cell_type": "code",
            "metadata": {},
            "execution_count": null,
            "source": "ints = np.array([1, 2, 3], dtype=np.int32)\nnp.issubdtype(ints.dtype, np.integer)",
            "outputs": [
                {
                    "output_type": "execute_result",
                    "metadata": {},
                    "data": {
                        "text/plain": "True"
                    },
                    "execution_count": null
                }
            ]
        },
        {
            "id": "b6fc674f",
            "cell_type": "code",
            "metadata": {},
            "execution_count": null,
            "source": "np.issubdtype(ints.dtype, np.floating)",
            "outputs": [
                {
                    "output_type": "execute_result",
                    "metadata": {},
                    "data": {
                        "text/plain": "False"
                    },
                    "execution_count": null
                }
            ]
        },
        {
            "id": "df706576",
            "cell_type": "code",
            "metadata": {},
            "execution_count": null,
            "source": "floats = np.array([1, 2, 3], dtype=np.float32)\nnp.issubdtype(floats.dtype, np.integer)",
            "outputs": [
                {
                    "output_type": "execute_result",
                    "metadata": {},
                    "data": {
                        "text/plain": "False"
                    },
                    "execution_count": null
                }
            ]
        },
        {
            "id": "181b5f0e",
            "cell_type": "code",
            "metadata": {},
            "execution_count": null,
            "source": "np.issubdtype(floats.dtype, np.floating)",
            "outputs": [
                {
                    "output_type": "execute_result",
                    "metadata": {},
                    "data": {
                        "text/plain": "True"
                    },
                    "execution_count": null
                }
            ]
        },
        {
            "id": "28a61eb6",
            "cell_type": "markdown",
            "source": "Similar types of different sizes are not subdtypes of each other:\n",
            "metadata": {}
        },
        {
            "id": "35923799",
            "cell_type": "code",
            "metadata": {},
            "execution_count": null,
            "source": "np.issubdtype(np.float64, np.float32)",
            "outputs": [
                {
                    "output_type": "execute_result",
                    "metadata": {},
                    "data": {
                        "text/plain": "False"
                    },
                    "execution_count": null
                }
            ]
        },
        {
            "id": "3808a4fb",
            "cell_type": "code",
            "metadata": {},
            "execution_count": null,
            "source": "np.issubdtype(np.float32, np.float64)",
            "outputs": [
                {
                    "output_type": "execute_result",
                    "metadata": {},
                    "data": {
                        "text/plain": "False"
                    },
                    "execution_count": null
                }
            ]
        },
        {
            "id": "ce4b743f",
            "cell_type": "markdown",
            "source": "but both are subtypes of `floating`:\n",
            "metadata": {}
        },
        {
            "id": "ba0db266",
            "cell_type": "code",
            "metadata": {},
            "execution_count": null,
            "source": "np.issubdtype(np.float64, np.floating)",
            "outputs": [
                {
                    "output_type": "execute_result",
                    "metadata": {},
                    "data": {
                        "text/plain": "True"
                    },
                    "execution_count": null
                }
            ]
        },
        {
            "id": "e3e70913",
            "cell_type": "code",
            "metadata": {},
            "execution_count": null,
            "source": "np.issubdtype(np.float32, np.floating)",
            "outputs": [
                {
                    "output_type": "execute_result",
                    "metadata": {},
                    "data": {
                        "text/plain": "True"
                    },
                    "execution_count": null
                }
            ]
        },
        {
            "id": "3bffcf9b",
            "cell_type": "markdown",
            "source": "For convenience, dtype-like objects are allowed too:\n",
            "metadata": {}
        },
        {
            "id": "59778f84",
            "cell_type": "code",
            "metadata": {},
            "execution_count": null,
            "source": "np.issubdtype('S1', np.bytes_)",
            "outputs": [
                {
                    "output_type": "execute_result",
                    "metadata": {},
                    "data": {
                        "text/plain": "True"
                    },
                    "execution_count": null
                }
            ]
        },
        {
            "id": "4c33f78a",
            "cell_type": "code",
            "metadata": {},
            "execution_count": null,
            "source": "np.issubdtype('i4', np.signedinteger)",
            "outputs": [
                {
                    "output_type": "execute_result",
                    "metadata": {},
                    "data": {
                        "text/plain": "True"
                    },
                    "execution_count": null
                }
            ]
        }
    ]
}