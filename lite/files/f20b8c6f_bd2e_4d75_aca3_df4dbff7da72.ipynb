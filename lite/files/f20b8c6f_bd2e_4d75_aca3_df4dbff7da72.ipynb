{
    "nbformat": 4,
    "nbformat_minor": 5,
    "metadata": {
        "kernelspec": {
            "display_name": "Python",
            "language": "python",
            "name": "python"
        },
        "language_info": {
            "name": "python"
        }
    },
    "cells": [
        {
            "id": "e90561a4",
            "cell_type": "markdown",
            "source": "<div class='alert alert-warning'>\n\nNumPy's interactive examples are experimental and may not always work as expected, with high load times especially on low-resource platforms, and the version of NumPy might not be in sync with the one you are browsing the documentation for. If you encounter any issues, please report them on the [NumPy issue tracker](https://github.com/numpy/numpy/issues).\n\n</div>",
            "metadata": {}
        },
        {
            "id": "24b2366f",
            "cell_type": "code",
            "metadata": {},
            "execution_count": null,
            "source": "import numpy as np\nimport numpy.ma as ma\na = ma.masked_equal([[1,2],[3,4]], 2)\na",
            "outputs": [
                {
                    "output_type": "execute_result",
                    "metadata": {},
                    "data": {
                        "text/plain": "masked_array(\n  data=[[1, --],\n        [3, 4]],\n  mask=[[False,  True],\n        [False, False]],\n  fill_value=2)"
                    },
                    "execution_count": null
                }
            ]
        },
        {
            "id": "d13c3bd0",
            "cell_type": "code",
            "metadata": {},
            "execution_count": null,
            "source": "ma.getmask(a)",
            "outputs": [
                {
                    "output_type": "execute_result",
                    "metadata": {},
                    "data": {
                        "text/plain": "array([[False,  True],\n       [False, False]])"
                    },
                    "execution_count": null
                }
            ]
        },
        {
            "id": "484c1419",
            "cell_type": "markdown",
            "source": "Equivalently use the `MaskedArray` `mask` attribute.\n",
            "metadata": {}
        },
        {
            "id": "af03bba7",
            "cell_type": "code",
            "metadata": {},
            "execution_count": null,
            "source": "a.mask",
            "outputs": [
                {
                    "output_type": "execute_result",
                    "metadata": {},
                    "data": {
                        "text/plain": "array([[False,  True],\n       [False, False]])"
                    },
                    "execution_count": null
                }
            ]
        },
        {
            "id": "82234323",
            "cell_type": "markdown",
            "source": "Result when mask == `nomask`\n",
            "metadata": {}
        },
        {
            "id": "75df7a06",
            "cell_type": "code",
            "metadata": {},
            "execution_count": null,
            "source": "b = ma.masked_array([[1,2],[3,4]])\nb",
            "outputs": [
                {
                    "output_type": "execute_result",
                    "metadata": {},
                    "data": {
                        "text/plain": "masked_array(\n  data=[[1, 2],\n        [3, 4]],\n  mask=False,\n  fill_value=999999)"
                    },
                    "execution_count": null
                }
            ]
        },
        {
            "id": "878accfb",
            "cell_type": "code",
            "metadata": {},
            "execution_count": null,
            "source": "ma.nomask",
            "outputs": [
                {
                    "output_type": "execute_result",
                    "metadata": {},
                    "data": {
                        "text/plain": "False"
                    },
                    "execution_count": null
                }
            ]
        },
        {
            "id": "06bd63ea",
            "cell_type": "code",
            "metadata": {},
            "execution_count": null,
            "source": "ma.getmask(b) == ma.nomask",
            "outputs": [
                {
                    "output_type": "execute_result",
                    "metadata": {},
                    "data": {
                        "text/plain": "True"
                    },
                    "execution_count": null
                }
            ]
        },
        {
            "id": "365f5949",
            "cell_type": "code",
            "metadata": {},
            "execution_count": null,
            "source": "b.mask == ma.nomask",
            "outputs": [
                {
                    "output_type": "execute_result",
                    "metadata": {},
                    "data": {
                        "text/plain": "True"
                    },
                    "execution_count": null
                }
            ]
        }
    ]
}