{
    "nbformat": 4,
    "nbformat_minor": 5,
    "metadata": {
        "kernelspec": {
            "display_name": "Python",
            "language": "python",
            "name": "python"
        },
        "language_info": {
            "name": "python"
        }
    },
    "cells": [
        {
            "id": "f2988e72",
            "cell_type": "markdown",
            "source": "<div class='alert alert-warning'>\n\nNumPy's interactive examples are experimental and may not always work as expected, with high load times especially on low-resource platforms, , and the version of NumPy might not be in sync with the one you are browsing the documentation for. If you encounter any issues, please report them on the [NumPy issue tracker](https://github.com/numpy/numpy/issues).\n\n</div>",
            "metadata": {}
        },
        {
            "id": "63f03264",
            "cell_type": "code",
            "metadata": {},
            "execution_count": null,
            "source": "import numpy as np\nnp.correlate([1, 2, 3], [0, 1, 0.5])",
            "outputs": [
                {
                    "output_type": "execute_result",
                    "metadata": {},
                    "data": {
                        "text/plain": "array([3.5])"
                    },
                    "execution_count": null
                }
            ]
        },
        {
            "id": "398e52c3",
            "cell_type": "code",
            "metadata": {},
            "execution_count": null,
            "source": "np.correlate([1, 2, 3], [0, 1, 0.5], \"same\")",
            "outputs": [
                {
                    "output_type": "execute_result",
                    "metadata": {},
                    "data": {
                        "text/plain": "array([2. ,  3.5,  3. ])"
                    },
                    "execution_count": null
                }
            ]
        },
        {
            "id": "d172324c",
            "cell_type": "code",
            "metadata": {},
            "execution_count": null,
            "source": "np.correlate([1, 2, 3], [0, 1, 0.5], \"full\")",
            "outputs": [
                {
                    "output_type": "execute_result",
                    "metadata": {},
                    "data": {
                        "text/plain": "array([0.5,  2. ,  3.5,  3. ,  0. ])"
                    },
                    "execution_count": null
                }
            ]
        },
        {
            "id": "ca2f66c2",
            "cell_type": "markdown",
            "source": "Using complex sequences:\n",
            "metadata": {}
        },
        {
            "id": "928f1d9d",
            "cell_type": "code",
            "metadata": {},
            "execution_count": null,
            "source": "np.correlate([1+1j, 2, 3-1j], [0, 1, 0.5j], 'full')",
            "outputs": [
                {
                    "output_type": "execute_result",
                    "metadata": {},
                    "data": {
                        "text/plain": "array([ 0.5-0.5j,  1.0+0.j ,  1.5-1.5j,  3.0-1.j ,  0.0+0.j ])"
                    },
                    "execution_count": null
                }
            ]
        },
        {
            "id": "e5b1bf76",
            "cell_type": "markdown",
            "source": "Note that you get the time reversed, complex conjugated result\n($\\overline{c_{-k}}$) when the two input sequences a and v change\nplaces:\n",
            "metadata": {}
        },
        {
            "id": "7506c3e6",
            "cell_type": "code",
            "metadata": {},
            "execution_count": null,
            "source": "np.correlate([0, 1, 0.5j], [1+1j, 2, 3-1j], 'full')",
            "outputs": [
                {
                    "output_type": "execute_result",
                    "metadata": {},
                    "data": {
                        "text/plain": "array([ 0.0+0.j ,  3.0+1.j ,  1.5+1.5j,  1.0+0.j ,  0.5+0.5j])"
                    },
                    "execution_count": null
                }
            ]
        }
    ]
}