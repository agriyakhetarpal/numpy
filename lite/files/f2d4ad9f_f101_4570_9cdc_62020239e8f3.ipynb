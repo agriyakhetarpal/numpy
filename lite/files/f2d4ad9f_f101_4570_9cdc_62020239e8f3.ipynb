{
    "nbformat": 4,
    "nbformat_minor": 5,
    "metadata": {
        "kernelspec": {
            "display_name": "Python",
            "language": "python",
            "name": "python"
        },
        "language_info": {
            "name": "python"
        }
    },
    "cells": [
        {
            "id": "b0bec917",
            "cell_type": "markdown",
            "source": "<div class='alert alert-warning'>\n\nNumPy's interactive examples are experimental and may not always work as expected, with high load times especially on low-resource platforms, and the version of NumPy might not be in sync with the one you are browsing the documentation for. If you encounter any issues, please report them on the [NumPy issue tracker](https://github.com/numpy/numpy/issues).\n\n</div>",
            "metadata": {}
        },
        {
            "id": "3d7b9913",
            "cell_type": "code",
            "metadata": {},
            "execution_count": null,
            "source": "import numpy as np\ndata = np.arange(1, 5)\ndata",
            "outputs": [
                {
                    "output_type": "execute_result",
                    "metadata": {},
                    "data": {
                        "text/plain": "array([1, 2, 3, 4])"
                    },
                    "execution_count": null
                }
            ]
        },
        {
            "id": "2a559df4",
            "cell_type": "code",
            "metadata": {},
            "execution_count": null,
            "source": "np.average(data)",
            "outputs": [
                {
                    "output_type": "execute_result",
                    "metadata": {},
                    "data": {
                        "text/plain": "2.5"
                    },
                    "execution_count": null
                }
            ]
        },
        {
            "id": "f698f53e",
            "cell_type": "code",
            "metadata": {},
            "execution_count": null,
            "source": "np.average(np.arange(1, 11), weights=np.arange(10, 0, -1))",
            "outputs": [
                {
                    "output_type": "execute_result",
                    "metadata": {},
                    "data": {
                        "text/plain": "4.0"
                    },
                    "execution_count": null
                }
            ]
        },
        {
            "id": "e63c650f",
            "cell_type": "code",
            "metadata": {},
            "execution_count": null,
            "source": "data = np.arange(6).reshape((3, 2))\ndata",
            "outputs": [
                {
                    "output_type": "execute_result",
                    "metadata": {},
                    "data": {
                        "text/plain": "array([[0, 1],\n       [2, 3],\n       [4, 5]])"
                    },
                    "execution_count": null
                }
            ]
        },
        {
            "id": "dffa7436",
            "cell_type": "code",
            "metadata": {},
            "execution_count": null,
            "source": "np.average(data, axis=1, weights=[1./4, 3./4])",
            "outputs": [
                {
                    "output_type": "execute_result",
                    "metadata": {},
                    "data": {
                        "text/plain": "array([0.75, 2.75, 4.75])"
                    },
                    "execution_count": null
                }
            ]
        },
        {
            "id": "4a29a348",
            "cell_type": "code",
            "metadata": {},
            "execution_count": null,
            "source": "np.average(data, weights=[1./4, 3./4])",
            "outputs": [
                {
                    "output_type": "execute_result",
                    "metadata": {},
                    "data": {
                        "text/plain": "Traceback (most recent call last):\n    ...\nTypeError: Axis must be specified when shapes of a and weights differ."
                    },
                    "execution_count": null
                }
            ]
        },
        {
            "id": "4de2dc39",
            "cell_type": "markdown",
            "source": "With ``keepdims=True``, the following result has shape (3, 1).\n",
            "metadata": {}
        },
        {
            "id": "7e58d064",
            "cell_type": "code",
            "metadata": {},
            "execution_count": null,
            "source": "np.average(data, axis=1, keepdims=True)",
            "outputs": [
                {
                    "output_type": "execute_result",
                    "metadata": {},
                    "data": {
                        "text/plain": "array([[0.5],\n       [2.5],\n       [4.5]])"
                    },
                    "execution_count": null
                }
            ]
        },
        {
            "id": "49e1b5ee",
            "cell_type": "code",
            "metadata": {},
            "execution_count": null,
            "source": "data = np.arange(8).reshape((2, 2, 2))\ndata",
            "outputs": [
                {
                    "output_type": "execute_result",
                    "metadata": {},
                    "data": {
                        "text/plain": "array([[[0, 1],\n        [2, 3]],\n       [[4, 5],\n        [6, 7]]])"
                    },
                    "execution_count": null
                }
            ]
        },
        {
            "id": "2bf27803",
            "cell_type": "code",
            "metadata": {},
            "execution_count": null,
            "source": "np.average(data, axis=(0, 1), weights=[[1./4, 3./4], [1., 1./2]])",
            "outputs": [
                {
                    "output_type": "execute_result",
                    "metadata": {},
                    "data": {
                        "text/plain": "array([3.4, 4.4])"
                    },
                    "execution_count": null
                }
            ]
        },
        {
            "id": "dd8020c6",
            "cell_type": "code",
            "metadata": {},
            "execution_count": null,
            "source": "np.average(data, axis=0, weights=[[1./4, 3./4], [1., 1./2]])",
            "outputs": [
                {
                    "output_type": "execute_result",
                    "metadata": {},
                    "data": {
                        "text/plain": "Traceback (most recent call last):\n    ...\nValueError: Shape of weights must be consistent\nwith shape of a along specified axis."
                    },
                    "execution_count": null
                }
            ]
        }
    ]
}