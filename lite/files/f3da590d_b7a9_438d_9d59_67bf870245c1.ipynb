{
    "nbformat": 4,
    "nbformat_minor": 5,
    "metadata": {
        "kernelspec": {
            "display_name": "Python",
            "language": "python",
            "name": "python"
        },
        "language_info": {
            "name": "python"
        }
    },
    "cells": [
        {
            "id": "3da5b6a5",
            "cell_type": "markdown",
            "source": "<div class='alert alert-warning'>\n\nNumPy's interactive examples are experimental and may not always work as expected, with high load times especially on low-resource platforms, , and the version of NumPy might not be in sync with the one you are browsing the documentation for. If you encounter any issues, please report them on the [NumPy issue tracker](https://github.com/numpy/numpy/issues).\n\n</div>",
            "metadata": {}
        },
        {
            "id": "3392f9ae",
            "cell_type": "code",
            "metadata": {},
            "execution_count": null,
            "source": "import numpy as np\nx = np.arange(-2, 3)\nx",
            "outputs": [
                {
                    "output_type": "execute_result",
                    "metadata": {},
                    "data": {
                        "text/plain": "array([-2, -1,  0,  1,  2])"
                    },
                    "execution_count": null
                }
            ]
        },
        {
            "id": "75768ddf",
            "cell_type": "code",
            "metadata": {},
            "execution_count": null,
            "source": "np.flatnonzero(x)",
            "outputs": [
                {
                    "output_type": "execute_result",
                    "metadata": {},
                    "data": {
                        "text/plain": "array([0, 1, 3, 4])"
                    },
                    "execution_count": null
                }
            ]
        },
        {
            "id": "0000f417",
            "cell_type": "markdown",
            "source": "Use the indices of the non-zero elements as an index array to extract\nthese elements:\n",
            "metadata": {}
        },
        {
            "id": "6ee0d7e3",
            "cell_type": "code",
            "metadata": {},
            "execution_count": null,
            "source": "x.ravel()[np.flatnonzero(x)]",
            "outputs": [
                {
                    "output_type": "execute_result",
                    "metadata": {},
                    "data": {
                        "text/plain": "array([-2, -1,  1,  2])"
                    },
                    "execution_count": null
                }
            ]
        }
    ]
}