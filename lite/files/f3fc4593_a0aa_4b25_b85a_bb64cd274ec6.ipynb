{
    "nbformat": 4,
    "nbformat_minor": 5,
    "metadata": {
        "kernelspec": {
            "display_name": "Python",
            "language": "python",
            "name": "python"
        },
        "language_info": {
            "name": "python"
        }
    },
    "cells": [
        {
            "id": "370d8e75",
            "cell_type": "markdown",
            "source": "<div class='alert alert-warning'>\n\nNumPy's interactive examples are experimental and may not always work as expected, with high load times especially on low-resource platforms, , and the version of NumPy might not be in sync with the one you are browsing the documentation for. If you encounter any issues, please report them on the [NumPy issue tracker](https://github.com/numpy/numpy/issues).\n\n</div>",
            "metadata": {}
        },
        {
            "id": "cc325307",
            "cell_type": "code",
            "metadata": {},
            "execution_count": null,
            "source": "import numpy as np",
            "outputs": []
        },
        {
            "id": "9d72d0ea",
            "cell_type": "code",
            "metadata": {},
            "execution_count": null,
            "source": "x = np.array([('Sarah', (8.0, 7.0)), ('John', (6.0, 7.0))], dtype=dt)\nx[1]",
            "outputs": [
                {
                    "output_type": "execute_result",
                    "metadata": {},
                    "data": {
                        "text/plain": "('John', [6., 7.])"
                    },
                    "execution_count": null
                }
            ]
        },
        {
            "id": "be533871",
            "cell_type": "code",
            "metadata": {},
            "execution_count": null,
            "source": "x[1]['grades']",
            "outputs": [
                {
                    "output_type": "execute_result",
                    "metadata": {},
                    "data": {
                        "text/plain": "array([6.,  7.])"
                    },
                    "execution_count": null
                }
            ]
        },
        {
            "id": "f57a7657",
            "cell_type": "code",
            "metadata": {},
            "execution_count": null,
            "source": "type(x[1])",
            "outputs": [
                {
                    "output_type": "execute_result",
                    "metadata": {},
                    "data": {
                        "text/plain": "<class 'numpy.void'>"
                    },
                    "execution_count": null
                }
            ]
        },
        {
            "id": "4a51ede3",
            "cell_type": "code",
            "metadata": {},
            "execution_count": null,
            "source": "type(x[1]['grades'])",
            "outputs": [
                {
                    "output_type": "execute_result",
                    "metadata": {},
                    "data": {
                        "text/plain": "<class 'numpy.ndarray'>"
                    },
                    "execution_count": null
                }
            ]
        }
    ]
}