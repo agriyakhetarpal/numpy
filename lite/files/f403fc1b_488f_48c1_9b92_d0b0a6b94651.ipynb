{
    "nbformat": 4,
    "nbformat_minor": 5,
    "metadata": {
        "kernelspec": {
            "display_name": "Python",
            "language": "python",
            "name": "python"
        },
        "language_info": {
            "name": "python"
        }
    },
    "cells": [
        {
            "id": "ecc1f331",
            "cell_type": "markdown",
            "source": "<div class='alert alert-warning'>\n\nNumPy's interactive examples are experimental and may not always work as expected, with high load times especially on low-resource platforms, and the version of NumPy might not be in sync with the one you are browsing the documentation for. If you encounter any issues, please report them on the [NumPy issue tracker](https://github.com/numpy/numpy/issues).\n\n</div>",
            "metadata": {}
        },
        {
            "id": "9c022a86",
            "cell_type": "markdown",
            "source": "Create ctypes object from inferred int ``np.array``:\n",
            "metadata": {}
        },
        {
            "id": "da7e9eb9",
            "cell_type": "code",
            "metadata": {},
            "execution_count": null,
            "source": "inferred_int_array = np.array([1, 2, 3])\nc_int_array = np.ctypeslib.as_ctypes(inferred_int_array)\ntype(c_int_array)",
            "outputs": [
                {
                    "output_type": "execute_result",
                    "metadata": {},
                    "data": {
                        "text/plain": "<class 'c_long_Array_3'>"
                    },
                    "execution_count": null
                }
            ]
        },
        {
            "id": "6b6f9305",
            "cell_type": "code",
            "metadata": {},
            "execution_count": null,
            "source": "c_int_array[:]",
            "outputs": [
                {
                    "output_type": "execute_result",
                    "metadata": {},
                    "data": {
                        "text/plain": "[1, 2, 3]"
                    },
                    "execution_count": null
                }
            ]
        },
        {
            "id": "ad9afe45",
            "cell_type": "markdown",
            "source": "Create ctypes object from explicit 8 bit unsigned int ``np.array`` :\n",
            "metadata": {}
        },
        {
            "id": "7901533e",
            "cell_type": "code",
            "metadata": {},
            "execution_count": null,
            "source": "exp_int_array = np.array([1, 2, 3], dtype=np.uint8)\nc_int_array = np.ctypeslib.as_ctypes(exp_int_array)\ntype(c_int_array)",
            "outputs": [
                {
                    "output_type": "execute_result",
                    "metadata": {},
                    "data": {
                        "text/plain": "<class 'c_ubyte_Array_3'>"
                    },
                    "execution_count": null
                }
            ]
        },
        {
            "id": "91dd3939",
            "cell_type": "code",
            "metadata": {},
            "execution_count": null,
            "source": "c_int_array[:]",
            "outputs": [
                {
                    "output_type": "execute_result",
                    "metadata": {},
                    "data": {
                        "text/plain": "[1, 2, 3]"
                    },
                    "execution_count": null
                }
            ]
        }
    ]
}