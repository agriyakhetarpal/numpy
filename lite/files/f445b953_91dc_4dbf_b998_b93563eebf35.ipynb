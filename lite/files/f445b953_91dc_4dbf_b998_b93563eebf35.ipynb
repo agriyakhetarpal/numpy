{
    "nbformat": 4,
    "nbformat_minor": 5,
    "metadata": {
        "kernelspec": {
            "display_name": "Python",
            "language": "python",
            "name": "python"
        },
        "language_info": {
            "name": "python"
        }
    },
    "cells": [
        {
            "id": "33aad7e6",
            "cell_type": "markdown",
            "source": "<div class='alert alert-warning'>\n\nNumPy's interactive examples are experimental and may not always work as expected, with high load times especially on low-resource platforms, , and the version of NumPy might not be in sync with the one you are browsing the documentation for. If you encounter any issues, please report them on the [NumPy issue tracker](https://github.com/numpy/numpy/issues).\n\n</div>",
            "metadata": {}
        },
        {
            "id": "f1cf4b3d",
            "cell_type": "markdown",
            "source": "By default, calculate the product of all elements:\n",
            "metadata": {}
        },
        {
            "id": "91e46789",
            "cell_type": "code",
            "metadata": {},
            "execution_count": null,
            "source": "import numpy as np\nnp.prod([1.,2.])",
            "outputs": [
                {
                    "output_type": "execute_result",
                    "metadata": {},
                    "data": {
                        "text/plain": "2.0"
                    },
                    "execution_count": null
                }
            ]
        },
        {
            "id": "1bb965af",
            "cell_type": "markdown",
            "source": "Even when the input array is two-dimensional:\n",
            "metadata": {}
        },
        {
            "id": "5e4e41ec",
            "cell_type": "code",
            "metadata": {},
            "execution_count": null,
            "source": "a = np.array([[1., 2.], [3., 4.]])\nnp.prod(a)",
            "outputs": [
                {
                    "output_type": "execute_result",
                    "metadata": {},
                    "data": {
                        "text/plain": "24.0"
                    },
                    "execution_count": null
                }
            ]
        },
        {
            "id": "7d1de3c9",
            "cell_type": "markdown",
            "source": "But we can also specify the axis over which to multiply:\n",
            "metadata": {}
        },
        {
            "id": "dd9ed23e",
            "cell_type": "code",
            "metadata": {},
            "execution_count": null,
            "source": "np.prod(a, axis=1)",
            "outputs": [
                {
                    "output_type": "execute_result",
                    "metadata": {},
                    "data": {
                        "text/plain": "array([  2.,  12.])"
                    },
                    "execution_count": null
                }
            ]
        },
        {
            "id": "b0c4ebd9",
            "cell_type": "code",
            "metadata": {},
            "execution_count": null,
            "source": "np.prod(a, axis=0)",
            "outputs": [
                {
                    "output_type": "execute_result",
                    "metadata": {},
                    "data": {
                        "text/plain": "array([3., 8.])"
                    },
                    "execution_count": null
                }
            ]
        },
        {
            "id": "06da0ae3",
            "cell_type": "markdown",
            "source": "Or select specific elements to include:\n",
            "metadata": {}
        },
        {
            "id": "a81c0e9d",
            "cell_type": "code",
            "metadata": {},
            "execution_count": null,
            "source": "np.prod([1., np.nan, 3.], where=[True, False, True])",
            "outputs": [
                {
                    "output_type": "execute_result",
                    "metadata": {},
                    "data": {
                        "text/plain": "3.0"
                    },
                    "execution_count": null
                }
            ]
        },
        {
            "id": "45b3a788",
            "cell_type": "markdown",
            "source": "If the type of `x` is unsigned, then the output type is\nthe unsigned platform integer:\n",
            "metadata": {}
        },
        {
            "id": "69ec5a27",
            "cell_type": "code",
            "metadata": {},
            "execution_count": null,
            "source": "x = np.array([1, 2, 3], dtype=np.uint8)\nnp.prod(x).dtype == np.uint",
            "outputs": [
                {
                    "output_type": "execute_result",
                    "metadata": {},
                    "data": {
                        "text/plain": "True"
                    },
                    "execution_count": null
                }
            ]
        },
        {
            "id": "e3d2d379",
            "cell_type": "markdown",
            "source": "If `x` is of a signed integer type, then the output type\nis the default platform integer:\n",
            "metadata": {}
        },
        {
            "id": "a6dffb1d",
            "cell_type": "code",
            "metadata": {},
            "execution_count": null,
            "source": "x = np.array([1, 2, 3], dtype=np.int8)\nnp.prod(x).dtype == int",
            "outputs": [
                {
                    "output_type": "execute_result",
                    "metadata": {},
                    "data": {
                        "text/plain": "True"
                    },
                    "execution_count": null
                }
            ]
        },
        {
            "id": "4034b139",
            "cell_type": "markdown",
            "source": "You can also start the product with a value other than one:\n",
            "metadata": {}
        },
        {
            "id": "fe7ede92",
            "cell_type": "code",
            "metadata": {},
            "execution_count": null,
            "source": "np.prod([1, 2], initial=5)",
            "outputs": [
                {
                    "output_type": "execute_result",
                    "metadata": {},
                    "data": {
                        "text/plain": "10"
                    },
                    "execution_count": null
                }
            ]
        }
    ]
}