{
    "nbformat": 4,
    "nbformat_minor": 5,
    "metadata": {
        "kernelspec": {
            "display_name": "Python",
            "language": "python",
            "name": "python"
        },
        "language_info": {
            "name": "python"
        }
    },
    "cells": [
        {
            "id": "34318704",
            "cell_type": "markdown",
            "source": "<div class='alert alert-warning'>\n\nNumPy's interactive examples are experimental and may not always work as expected, with high load times especially on low-resource platforms, , and the version of NumPy might not be in sync with the one you are browsing the documentation for. If you encounter any issues, please report them on the [NumPy issue tracker](https://github.com/numpy/numpy/issues).\n\n</div>",
            "metadata": {}
        },
        {
            "id": "b7dd11a9",
            "cell_type": "code",
            "metadata": {},
            "execution_count": null,
            "source": "import numpy as np\nx = np.arange(10)\nnp.roll(x, 2)",
            "outputs": [
                {
                    "output_type": "execute_result",
                    "metadata": {},
                    "data": {
                        "text/plain": "array([8, 9, 0, 1, 2, 3, 4, 5, 6, 7])"
                    },
                    "execution_count": null
                }
            ]
        },
        {
            "id": "cf3b952e",
            "cell_type": "code",
            "metadata": {},
            "execution_count": null,
            "source": "np.roll(x, -2)",
            "outputs": [
                {
                    "output_type": "execute_result",
                    "metadata": {},
                    "data": {
                        "text/plain": "array([2, 3, 4, 5, 6, 7, 8, 9, 0, 1])"
                    },
                    "execution_count": null
                }
            ]
        },
        {
            "id": "63c536af",
            "cell_type": "code",
            "metadata": {},
            "execution_count": null,
            "source": "x2 = np.reshape(x, (2, 5))\nx2",
            "outputs": [
                {
                    "output_type": "execute_result",
                    "metadata": {},
                    "data": {
                        "text/plain": "array([[0, 1, 2, 3, 4],\n       [5, 6, 7, 8, 9]])"
                    },
                    "execution_count": null
                }
            ]
        },
        {
            "id": "eaf93379",
            "cell_type": "code",
            "metadata": {},
            "execution_count": null,
            "source": "np.roll(x2, 1)",
            "outputs": [
                {
                    "output_type": "execute_result",
                    "metadata": {},
                    "data": {
                        "text/plain": "array([[9, 0, 1, 2, 3],\n       [4, 5, 6, 7, 8]])"
                    },
                    "execution_count": null
                }
            ]
        },
        {
            "id": "756fa8e3",
            "cell_type": "code",
            "metadata": {},
            "execution_count": null,
            "source": "np.roll(x2, -1)",
            "outputs": [
                {
                    "output_type": "execute_result",
                    "metadata": {},
                    "data": {
                        "text/plain": "array([[1, 2, 3, 4, 5],\n       [6, 7, 8, 9, 0]])"
                    },
                    "execution_count": null
                }
            ]
        },
        {
            "id": "d716119d",
            "cell_type": "code",
            "metadata": {},
            "execution_count": null,
            "source": "np.roll(x2, 1, axis=0)",
            "outputs": [
                {
                    "output_type": "execute_result",
                    "metadata": {},
                    "data": {
                        "text/plain": "array([[5, 6, 7, 8, 9],\n       [0, 1, 2, 3, 4]])"
                    },
                    "execution_count": null
                }
            ]
        },
        {
            "id": "558ae814",
            "cell_type": "code",
            "metadata": {},
            "execution_count": null,
            "source": "np.roll(x2, -1, axis=0)",
            "outputs": [
                {
                    "output_type": "execute_result",
                    "metadata": {},
                    "data": {
                        "text/plain": "array([[5, 6, 7, 8, 9],\n       [0, 1, 2, 3, 4]])"
                    },
                    "execution_count": null
                }
            ]
        },
        {
            "id": "12c49d14",
            "cell_type": "code",
            "metadata": {},
            "execution_count": null,
            "source": "np.roll(x2, 1, axis=1)",
            "outputs": [
                {
                    "output_type": "execute_result",
                    "metadata": {},
                    "data": {
                        "text/plain": "array([[4, 0, 1, 2, 3],\n       [9, 5, 6, 7, 8]])"
                    },
                    "execution_count": null
                }
            ]
        },
        {
            "id": "24db5146",
            "cell_type": "code",
            "metadata": {},
            "execution_count": null,
            "source": "np.roll(x2, -1, axis=1)",
            "outputs": [
                {
                    "output_type": "execute_result",
                    "metadata": {},
                    "data": {
                        "text/plain": "array([[1, 2, 3, 4, 0],\n       [6, 7, 8, 9, 5]])"
                    },
                    "execution_count": null
                }
            ]
        },
        {
            "id": "cd5899d0",
            "cell_type": "code",
            "metadata": {},
            "execution_count": null,
            "source": "np.roll(x2, (1, 1), axis=(1, 0))",
            "outputs": [
                {
                    "output_type": "execute_result",
                    "metadata": {},
                    "data": {
                        "text/plain": "array([[9, 5, 6, 7, 8],\n       [4, 0, 1, 2, 3]])"
                    },
                    "execution_count": null
                }
            ]
        },
        {
            "id": "c7c108a2",
            "cell_type": "code",
            "metadata": {},
            "execution_count": null,
            "source": "np.roll(x2, (2, 1), axis=(1, 0))",
            "outputs": [
                {
                    "output_type": "execute_result",
                    "metadata": {},
                    "data": {
                        "text/plain": "array([[8, 9, 5, 6, 7],\n       [3, 4, 0, 1, 2]])"
                    },
                    "execution_count": null
                }
            ]
        }
    ]
}