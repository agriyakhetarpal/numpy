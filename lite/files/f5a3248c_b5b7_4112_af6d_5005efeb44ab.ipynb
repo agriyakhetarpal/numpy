{
    "nbformat": 4,
    "nbformat_minor": 5,
    "metadata": {
        "kernelspec": {
            "display_name": "Python",
            "language": "python",
            "name": "python"
        },
        "language_info": {
            "name": "python"
        }
    },
    "cells": [
        {
            "id": "5228c403",
            "cell_type": "markdown",
            "source": "<div class='alert alert-warning'>\n\nNumPy's interactive examples are experimental and may not always work as expected, with high load times especially on low-resource platforms, and the version of NumPy might not be in sync with the one you are browsing the documentation for. If you encounter any issues, please report them on the [NumPy issue tracker](https://github.com/numpy/numpy/issues).\n\n</div>",
            "metadata": {}
        },
        {
            "id": "5b90de9f",
            "cell_type": "code",
            "metadata": {},
            "execution_count": null,
            "source": "c = np.matrix([[1], [2]])\nc",
            "outputs": [
                {
                    "output_type": "execute_result",
                    "metadata": {},
                    "data": {
                        "text/plain": "matrix([[1],\n        [2]])"
                    },
                    "execution_count": null
                }
            ]
        },
        {
            "id": "73614273",
            "cell_type": "code",
            "metadata": {},
            "execution_count": null,
            "source": "c.squeeze()",
            "outputs": [
                {
                    "output_type": "execute_result",
                    "metadata": {},
                    "data": {
                        "text/plain": "matrix([[1, 2]])"
                    },
                    "execution_count": null
                }
            ]
        },
        {
            "id": "a47b8353",
            "cell_type": "code",
            "metadata": {},
            "execution_count": null,
            "source": "r = c.T\nr",
            "outputs": [
                {
                    "output_type": "execute_result",
                    "metadata": {},
                    "data": {
                        "text/plain": "matrix([[1, 2]])"
                    },
                    "execution_count": null
                }
            ]
        },
        {
            "id": "c03acb68",
            "cell_type": "code",
            "metadata": {},
            "execution_count": null,
            "source": "r.squeeze()",
            "outputs": [
                {
                    "output_type": "execute_result",
                    "metadata": {},
                    "data": {
                        "text/plain": "matrix([[1, 2]])"
                    },
                    "execution_count": null
                }
            ]
        },
        {
            "id": "b68c1a34",
            "cell_type": "code",
            "metadata": {},
            "execution_count": null,
            "source": "m = np.matrix([[1, 2], [3, 4]])\nm.squeeze()",
            "outputs": [
                {
                    "output_type": "execute_result",
                    "metadata": {},
                    "data": {
                        "text/plain": "matrix([[1, 2],\n        [3, 4]])"
                    },
                    "execution_count": null
                }
            ]
        }
    ]
}