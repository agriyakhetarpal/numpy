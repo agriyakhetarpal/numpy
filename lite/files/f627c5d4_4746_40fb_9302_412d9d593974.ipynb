{
    "nbformat": 4,
    "nbformat_minor": 5,
    "metadata": {
        "kernelspec": {
            "display_name": "Python",
            "language": "python",
            "name": "python"
        },
        "language_info": {
            "name": "python"
        }
    },
    "cells": [
        {
            "id": "d1360f34",
            "cell_type": "markdown",
            "source": "<div class='alert alert-warning'>\n\nNumPy's interactive examples are experimental and may not always work as expected, with high load times especially on low-resource platforms, and the version of NumPy might not be in sync with the one you are browsing the documentation for. If you encounter any issues, please report them on the [NumPy issue tracker](https://github.com/numpy/numpy/issues).\n\n</div>",
            "metadata": {}
        },
        {
            "id": "fb2beeeb",
            "cell_type": "markdown",
            "source": "By default, calculate the product of all elements:\n",
            "metadata": {}
        },
        {
            "id": "8a2886ce",
            "cell_type": "code",
            "metadata": {},
            "execution_count": null,
            "source": "import numpy as np\nnp.prod([1.,2.])",
            "outputs": [
                {
                    "output_type": "execute_result",
                    "metadata": {},
                    "data": {
                        "text/plain": "2.0"
                    },
                    "execution_count": null
                }
            ]
        },
        {
            "id": "134740d3",
            "cell_type": "markdown",
            "source": "Even when the input array is two-dimensional:\n",
            "metadata": {}
        },
        {
            "id": "e012eab6",
            "cell_type": "code",
            "metadata": {},
            "execution_count": null,
            "source": "a = np.array([[1., 2.], [3., 4.]])\nnp.prod(a)",
            "outputs": [
                {
                    "output_type": "execute_result",
                    "metadata": {},
                    "data": {
                        "text/plain": "24.0"
                    },
                    "execution_count": null
                }
            ]
        },
        {
            "id": "2944d51c",
            "cell_type": "markdown",
            "source": "But we can also specify the axis over which to multiply:\n",
            "metadata": {}
        },
        {
            "id": "21e29a4a",
            "cell_type": "code",
            "metadata": {},
            "execution_count": null,
            "source": "np.prod(a, axis=1)",
            "outputs": [
                {
                    "output_type": "execute_result",
                    "metadata": {},
                    "data": {
                        "text/plain": "array([  2.,  12.])"
                    },
                    "execution_count": null
                }
            ]
        },
        {
            "id": "9688a7e0",
            "cell_type": "code",
            "metadata": {},
            "execution_count": null,
            "source": "np.prod(a, axis=0)",
            "outputs": [
                {
                    "output_type": "execute_result",
                    "metadata": {},
                    "data": {
                        "text/plain": "array([3., 8.])"
                    },
                    "execution_count": null
                }
            ]
        },
        {
            "id": "cfa65698",
            "cell_type": "markdown",
            "source": "Or select specific elements to include:\n",
            "metadata": {}
        },
        {
            "id": "125c6e5c",
            "cell_type": "code",
            "metadata": {},
            "execution_count": null,
            "source": "np.prod([1., np.nan, 3.], where=[True, False, True])",
            "outputs": [
                {
                    "output_type": "execute_result",
                    "metadata": {},
                    "data": {
                        "text/plain": "3.0"
                    },
                    "execution_count": null
                }
            ]
        },
        {
            "id": "6d7dd609",
            "cell_type": "markdown",
            "source": "If the type of `x` is unsigned, then the output type is\nthe unsigned platform integer:\n",
            "metadata": {}
        },
        {
            "id": "496e5d4f",
            "cell_type": "code",
            "metadata": {},
            "execution_count": null,
            "source": "x = np.array([1, 2, 3], dtype=np.uint8)\nnp.prod(x).dtype == np.uint",
            "outputs": [
                {
                    "output_type": "execute_result",
                    "metadata": {},
                    "data": {
                        "text/plain": "True"
                    },
                    "execution_count": null
                }
            ]
        },
        {
            "id": "6ccc28c4",
            "cell_type": "markdown",
            "source": "If `x` is of a signed integer type, then the output type\nis the default platform integer:\n",
            "metadata": {}
        },
        {
            "id": "727975d4",
            "cell_type": "code",
            "metadata": {},
            "execution_count": null,
            "source": "x = np.array([1, 2, 3], dtype=np.int8)\nnp.prod(x).dtype == int",
            "outputs": [
                {
                    "output_type": "execute_result",
                    "metadata": {},
                    "data": {
                        "text/plain": "True"
                    },
                    "execution_count": null
                }
            ]
        },
        {
            "id": "fc6b0d64",
            "cell_type": "markdown",
            "source": "You can also start the product with a value other than one:\n",
            "metadata": {}
        },
        {
            "id": "dff244b3",
            "cell_type": "code",
            "metadata": {},
            "execution_count": null,
            "source": "np.prod([1, 2], initial=5)",
            "outputs": [
                {
                    "output_type": "execute_result",
                    "metadata": {},
                    "data": {
                        "text/plain": "10"
                    },
                    "execution_count": null
                }
            ]
        }
    ]
}