{
    "nbformat": 4,
    "nbformat_minor": 5,
    "metadata": {
        "kernelspec": {
            "display_name": "Python",
            "language": "python",
            "name": "python"
        },
        "language_info": {
            "name": "python"
        }
    },
    "cells": [
        {
            "id": "b7eb1f6d",
            "cell_type": "markdown",
            "source": "<div class='alert alert-warning'>\n\nNumPy's interactive examples are experimental and may not always work as expected, with high load times especially on low-resource platforms, and the version of NumPy might not be in sync with the one you are browsing the documentation for. If you encounter any issues, please report them on the [NumPy issue tracker](https://github.com/numpy/numpy/issues).\n\n</div>",
            "metadata": {}
        },
        {
            "id": "4fcaa94e",
            "cell_type": "code",
            "metadata": {},
            "execution_count": null,
            "source": "import numpy as np\nnp.array([1, 2, 3])",
            "outputs": [
                {
                    "output_type": "execute_result",
                    "metadata": {},
                    "data": {
                        "text/plain": "array([1, 2, 3])"
                    },
                    "execution_count": null
                }
            ]
        },
        {
            "id": "d4133ab7",
            "cell_type": "markdown",
            "source": "Upcasting:\n",
            "metadata": {}
        },
        {
            "id": "807a34e4",
            "cell_type": "code",
            "metadata": {},
            "execution_count": null,
            "source": "np.array([1, 2, 3.0])",
            "outputs": [
                {
                    "output_type": "execute_result",
                    "metadata": {},
                    "data": {
                        "text/plain": "array([ 1.,  2.,  3.])"
                    },
                    "execution_count": null
                }
            ]
        },
        {
            "id": "4f3dbda5",
            "cell_type": "markdown",
            "source": "More than one dimension:\n",
            "metadata": {}
        },
        {
            "id": "99a52d17",
            "cell_type": "code",
            "metadata": {},
            "execution_count": null,
            "source": "np.array([[1, 2], [3, 4]])",
            "outputs": [
                {
                    "output_type": "execute_result",
                    "metadata": {},
                    "data": {
                        "text/plain": "array([[1, 2],\n       [3, 4]])"
                    },
                    "execution_count": null
                }
            ]
        },
        {
            "id": "217fb4e4",
            "cell_type": "markdown",
            "source": "Minimum dimensions 2:\n",
            "metadata": {}
        },
        {
            "id": "1e797119",
            "cell_type": "code",
            "metadata": {},
            "execution_count": null,
            "source": "np.array([1, 2, 3], ndmin=2)",
            "outputs": [
                {
                    "output_type": "execute_result",
                    "metadata": {},
                    "data": {
                        "text/plain": "array([[1, 2, 3]])"
                    },
                    "execution_count": null
                }
            ]
        },
        {
            "id": "47989914",
            "cell_type": "markdown",
            "source": "Type provided:\n",
            "metadata": {}
        },
        {
            "id": "179f529a",
            "cell_type": "code",
            "metadata": {},
            "execution_count": null,
            "source": "np.array([1, 2, 3], dtype=complex)",
            "outputs": [
                {
                    "output_type": "execute_result",
                    "metadata": {},
                    "data": {
                        "text/plain": "array([ 1.+0.j,  2.+0.j,  3.+0.j])"
                    },
                    "execution_count": null
                }
            ]
        },
        {
            "id": "7df2ed2c",
            "cell_type": "markdown",
            "source": "Data-type consisting of more than one element:\n",
            "metadata": {}
        },
        {
            "id": "b0bd5423",
            "cell_type": "code",
            "metadata": {},
            "execution_count": null,
            "source": "x = np.array([(1,2),(3,4)],dtype=[('a','<i4'),('b','<i4')])\nx['a']",
            "outputs": [
                {
                    "output_type": "execute_result",
                    "metadata": {},
                    "data": {
                        "text/plain": "array([1, 3], dtype=int32)"
                    },
                    "execution_count": null
                }
            ]
        },
        {
            "id": "1fcf8a8b",
            "cell_type": "markdown",
            "source": "Creating an array from sub-classes:\n",
            "metadata": {}
        },
        {
            "id": "bbd6f61b",
            "cell_type": "code",
            "metadata": {},
            "execution_count": null,
            "source": "np.array(np.asmatrix('1 2; 3 4'))",
            "outputs": [
                {
                    "output_type": "execute_result",
                    "metadata": {},
                    "data": {
                        "text/plain": "array([[1, 2],\n       [3, 4]])"
                    },
                    "execution_count": null
                }
            ]
        },
        {
            "id": "cfcde668",
            "cell_type": "code",
            "metadata": {},
            "execution_count": null,
            "source": "np.array(np.asmatrix('1 2; 3 4'), subok=True)",
            "outputs": [
                {
                    "output_type": "execute_result",
                    "metadata": {},
                    "data": {
                        "text/plain": "matrix([[1, 2],\n        [3, 4]])"
                    },
                    "execution_count": null
                }
            ]
        }
    ]
}