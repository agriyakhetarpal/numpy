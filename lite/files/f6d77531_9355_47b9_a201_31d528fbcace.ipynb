{
    "nbformat": 4,
    "nbformat_minor": 5,
    "metadata": {
        "kernelspec": {
            "display_name": "Python",
            "language": "python",
            "name": "python"
        },
        "language_info": {
            "name": "python"
        }
    },
    "cells": [
        {
            "id": "d861b525",
            "cell_type": "markdown",
            "source": "<div class='alert alert-warning'>\n\nNumPy's interactive examples are experimental and may not always work as expected, with high load times especially on low-resource platforms, , and the version of NumPy might not be in sync with the one you are browsing the documentation for. If you encounter any issues, please report them on the [NumPy issue tracker](https://github.com/numpy/numpy/issues).\n\n</div>",
            "metadata": {}
        },
        {
            "id": "2e43076c",
            "cell_type": "code",
            "metadata": {},
            "execution_count": null,
            "source": "import numpy as np",
            "outputs": []
        },
        {
            "id": "dd1d11f5",
            "cell_type": "markdown",
            "source": "Given a sequence of a polynomial's zeros:\n",
            "metadata": {}
        },
        {
            "id": "2bb8ab2a",
            "cell_type": "code",
            "metadata": {},
            "execution_count": null,
            "source": "np.poly((0, 0, 0)) # Multiple root example",
            "outputs": [
                {
                    "output_type": "execute_result",
                    "metadata": {},
                    "data": {
                        "text/plain": "array([1., 0., 0., 0.])"
                    },
                    "execution_count": null
                }
            ]
        },
        {
            "id": "d4532342",
            "cell_type": "markdown",
            "source": "The line above represents z**3 + 0*z**2 + 0*z + 0.\n",
            "metadata": {}
        },
        {
            "id": "711cc100",
            "cell_type": "code",
            "metadata": {},
            "execution_count": null,
            "source": "np.poly((-1./2, 0, 1./2))",
            "outputs": [
                {
                    "output_type": "execute_result",
                    "metadata": {},
                    "data": {
                        "text/plain": "array([ 1.  ,  0.  , -0.25,  0.  ])"
                    },
                    "execution_count": null
                }
            ]
        },
        {
            "id": "f6a82f7f",
            "cell_type": "markdown",
            "source": "The line above represents z**3 - z/4\n",
            "metadata": {}
        },
        {
            "id": "06d3aff1",
            "cell_type": "code",
            "metadata": {},
            "execution_count": null,
            "source": "np.poly((np.random.random(1)[0], 0, np.random.random(1)[0]))",
            "outputs": [
                {
                    "output_type": "execute_result",
                    "metadata": {},
                    "data": {
                        "text/plain": "array([ 1.        , -0.77086955,  0.08618131,  0.        ]) # random"
                    },
                    "execution_count": null
                }
            ]
        },
        {
            "id": "6776a8d0",
            "cell_type": "markdown",
            "source": "Given a square array object:\n",
            "metadata": {}
        },
        {
            "id": "04631d94",
            "cell_type": "code",
            "metadata": {},
            "execution_count": null,
            "source": "P = np.array([[0, 1./3], [-1./2, 0]])\nnp.poly(P)",
            "outputs": [
                {
                    "output_type": "execute_result",
                    "metadata": {},
                    "data": {
                        "text/plain": "array([1.        , 0.        , 0.16666667])"
                    },
                    "execution_count": null
                }
            ]
        },
        {
            "id": "6c0bb285",
            "cell_type": "markdown",
            "source": "Note how in all cases the leading coefficient is always 1.",
            "metadata": {}
        }
    ]
}