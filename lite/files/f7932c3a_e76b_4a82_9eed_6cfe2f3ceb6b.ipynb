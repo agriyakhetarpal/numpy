{
    "nbformat": 4,
    "nbformat_minor": 5,
    "metadata": {
        "kernelspec": {
            "display_name": "Python",
            "language": "python",
            "name": "python"
        },
        "language_info": {
            "name": "python"
        }
    },
    "cells": [
        {
            "id": "c280af6d",
            "cell_type": "markdown",
            "source": "<div class='alert alert-warning'>\n\nNumPy's interactive examples are experimental and may not always work as expected, with high load times especially on low-resource platforms, , and the version of NumPy might not be in sync with the one you are browsing the documentation for. If you encounter any issues, please report them on the [NumPy issue tracker](https://github.com/numpy/numpy/issues).\n\n</div>",
            "metadata": {}
        },
        {
            "id": "2799b0b3",
            "cell_type": "code",
            "metadata": {},
            "execution_count": null,
            "source": "import numpy as np",
            "outputs": []
        },
        {
            "id": "3f866daf",
            "cell_type": "code",
            "metadata": {},
            "execution_count": null,
            "source": "np.get_printoptions()",
            "outputs": [
                {
                    "output_type": "execute_result",
                    "metadata": {},
                    "data": {
                        "text/plain": "{'edgeitems': 3, 'threshold': 1000, ..., 'override_repr': None}"
                    },
                    "execution_count": null
                }
            ]
        },
        {
            "id": "8e35486a",
            "cell_type": "code",
            "metadata": {},
            "execution_count": null,
            "source": "np.get_printoptions()['linewidth']",
            "outputs": [
                {
                    "output_type": "execute_result",
                    "metadata": {},
                    "data": {
                        "text/plain": "75"
                    },
                    "execution_count": null
                }
            ]
        },
        {
            "id": "e7dfd731",
            "cell_type": "code",
            "metadata": {},
            "execution_count": null,
            "source": "np.set_printoptions(linewidth=100)\nnp.get_printoptions()['linewidth']",
            "outputs": [
                {
                    "output_type": "execute_result",
                    "metadata": {},
                    "data": {
                        "text/plain": "100"
                    },
                    "execution_count": null
                }
            ]
        }
    ]
}