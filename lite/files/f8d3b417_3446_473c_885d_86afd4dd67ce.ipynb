{
    "nbformat": 4,
    "nbformat_minor": 5,
    "metadata": {
        "kernelspec": {
            "display_name": "Python",
            "language": "python",
            "name": "python"
        },
        "language_info": {
            "name": "python"
        }
    },
    "cells": [
        {
            "id": "62b45704",
            "cell_type": "markdown",
            "source": "<div class='alert alert-warning'>\n\nNumPy's interactive examples are experimental and may not always work as expected, with high load times especially on low-resource platforms, , and the version of NumPy might not be in sync with the one you are browsing the documentation for. If you encounter any issues, please report them on the [NumPy issue tracker](https://github.com/numpy/numpy/issues).\n\n</div>",
            "metadata": {}
        },
        {
            "id": "3fa0bbb1",
            "cell_type": "code",
            "metadata": {},
            "execution_count": null,
            "source": "a = np.arange(25).reshape(5,5)\nb = np.arange(5)\nc = np.arange(6).reshape(2,3)",
            "outputs": []
        },
        {
            "id": "12c477ad",
            "cell_type": "markdown",
            "source": "Trace of a matrix:\n",
            "metadata": {}
        },
        {
            "id": "d586380c",
            "cell_type": "code",
            "metadata": {},
            "execution_count": null,
            "source": "np.einsum('ii', a)",
            "outputs": [
                {
                    "output_type": "execute_result",
                    "metadata": {},
                    "data": {
                        "text/plain": "60"
                    },
                    "execution_count": null
                }
            ]
        },
        {
            "id": "c907440f",
            "cell_type": "code",
            "metadata": {},
            "execution_count": null,
            "source": "np.einsum(a, [0,0])",
            "outputs": [
                {
                    "output_type": "execute_result",
                    "metadata": {},
                    "data": {
                        "text/plain": "60"
                    },
                    "execution_count": null
                }
            ]
        },
        {
            "id": "8651666a",
            "cell_type": "code",
            "metadata": {},
            "execution_count": null,
            "source": "np.trace(a)",
            "outputs": [
                {
                    "output_type": "execute_result",
                    "metadata": {},
                    "data": {
                        "text/plain": "60"
                    },
                    "execution_count": null
                }
            ]
        },
        {
            "id": "5c26ee92",
            "cell_type": "markdown",
            "source": "Extract the diagonal (requires explicit form):\n",
            "metadata": {}
        },
        {
            "id": "f2933d38",
            "cell_type": "code",
            "metadata": {},
            "execution_count": null,
            "source": "np.einsum('ii->i', a)",
            "outputs": [
                {
                    "output_type": "execute_result",
                    "metadata": {},
                    "data": {
                        "text/plain": "array([ 0,  6, 12, 18, 24])"
                    },
                    "execution_count": null
                }
            ]
        },
        {
            "id": "6a43da50",
            "cell_type": "code",
            "metadata": {},
            "execution_count": null,
            "source": "np.einsum(a, [0,0], [0])",
            "outputs": [
                {
                    "output_type": "execute_result",
                    "metadata": {},
                    "data": {
                        "text/plain": "array([ 0,  6, 12, 18, 24])"
                    },
                    "execution_count": null
                }
            ]
        },
        {
            "id": "cba85916",
            "cell_type": "code",
            "metadata": {},
            "execution_count": null,
            "source": "np.diag(a)",
            "outputs": [
                {
                    "output_type": "execute_result",
                    "metadata": {},
                    "data": {
                        "text/plain": "array([ 0,  6, 12, 18, 24])"
                    },
                    "execution_count": null
                }
            ]
        },
        {
            "id": "59268fe9",
            "cell_type": "markdown",
            "source": "Sum over an axis (requires explicit form):\n",
            "metadata": {}
        },
        {
            "id": "1ba2824b",
            "cell_type": "code",
            "metadata": {},
            "execution_count": null,
            "source": "np.einsum('ij->i', a)",
            "outputs": [
                {
                    "output_type": "execute_result",
                    "metadata": {},
                    "data": {
                        "text/plain": "array([ 10,  35,  60,  85, 110])"
                    },
                    "execution_count": null
                }
            ]
        },
        {
            "id": "fa5ae3fd",
            "cell_type": "code",
            "metadata": {},
            "execution_count": null,
            "source": "np.einsum(a, [0,1], [0])",
            "outputs": [
                {
                    "output_type": "execute_result",
                    "metadata": {},
                    "data": {
                        "text/plain": "array([ 10,  35,  60,  85, 110])"
                    },
                    "execution_count": null
                }
            ]
        },
        {
            "id": "71492cec",
            "cell_type": "code",
            "metadata": {},
            "execution_count": null,
            "source": "np.sum(a, axis=1)",
            "outputs": [
                {
                    "output_type": "execute_result",
                    "metadata": {},
                    "data": {
                        "text/plain": "array([ 10,  35,  60,  85, 110])"
                    },
                    "execution_count": null
                }
            ]
        },
        {
            "id": "873db8c9",
            "cell_type": "markdown",
            "source": "For higher dimensional arrays summing a single axis can be done\nwith ellipsis:\n",
            "metadata": {}
        },
        {
            "id": "eef7f6f2",
            "cell_type": "code",
            "metadata": {},
            "execution_count": null,
            "source": "np.einsum('...j->...', a)",
            "outputs": [
                {
                    "output_type": "execute_result",
                    "metadata": {},
                    "data": {
                        "text/plain": "array([ 10,  35,  60,  85, 110])"
                    },
                    "execution_count": null
                }
            ]
        },
        {
            "id": "b601cc49",
            "cell_type": "code",
            "metadata": {},
            "execution_count": null,
            "source": "np.einsum(a, [Ellipsis,1], [Ellipsis])",
            "outputs": [
                {
                    "output_type": "execute_result",
                    "metadata": {},
                    "data": {
                        "text/plain": "array([ 10,  35,  60,  85, 110])"
                    },
                    "execution_count": null
                }
            ]
        },
        {
            "id": "5508dfe8",
            "cell_type": "markdown",
            "source": "Compute a matrix transpose, or reorder any number of axes:\n",
            "metadata": {}
        },
        {
            "id": "d3b27a32",
            "cell_type": "code",
            "metadata": {},
            "execution_count": null,
            "source": "np.einsum('ji', c)",
            "outputs": [
                {
                    "output_type": "execute_result",
                    "metadata": {},
                    "data": {
                        "text/plain": "array([[0, 3],\n       [1, 4],\n       [2, 5]])"
                    },
                    "execution_count": null
                }
            ]
        },
        {
            "id": "70b51169",
            "cell_type": "code",
            "metadata": {},
            "execution_count": null,
            "source": "np.einsum('ij->ji', c)",
            "outputs": [
                {
                    "output_type": "execute_result",
                    "metadata": {},
                    "data": {
                        "text/plain": "array([[0, 3],\n       [1, 4],\n       [2, 5]])"
                    },
                    "execution_count": null
                }
            ]
        },
        {
            "id": "c8eb7595",
            "cell_type": "code",
            "metadata": {},
            "execution_count": null,
            "source": "np.einsum(c, [1,0])",
            "outputs": [
                {
                    "output_type": "execute_result",
                    "metadata": {},
                    "data": {
                        "text/plain": "array([[0, 3],\n       [1, 4],\n       [2, 5]])"
                    },
                    "execution_count": null
                }
            ]
        },
        {
            "id": "05614c0e",
            "cell_type": "code",
            "metadata": {},
            "execution_count": null,
            "source": "np.transpose(c)",
            "outputs": [
                {
                    "output_type": "execute_result",
                    "metadata": {},
                    "data": {
                        "text/plain": "array([[0, 3],\n       [1, 4],\n       [2, 5]])"
                    },
                    "execution_count": null
                }
            ]
        },
        {
            "id": "f3f69733",
            "cell_type": "markdown",
            "source": "Vector inner products:\n",
            "metadata": {}
        },
        {
            "id": "8bf3f10a",
            "cell_type": "code",
            "metadata": {},
            "execution_count": null,
            "source": "np.einsum('i,i', b, b)",
            "outputs": [
                {
                    "output_type": "execute_result",
                    "metadata": {},
                    "data": {
                        "text/plain": "30"
                    },
                    "execution_count": null
                }
            ]
        },
        {
            "id": "b1d2f9cc",
            "cell_type": "code",
            "metadata": {},
            "execution_count": null,
            "source": "np.einsum(b, [0], b, [0])",
            "outputs": [
                {
                    "output_type": "execute_result",
                    "metadata": {},
                    "data": {
                        "text/plain": "30"
                    },
                    "execution_count": null
                }
            ]
        },
        {
            "id": "3e3793e8",
            "cell_type": "code",
            "metadata": {},
            "execution_count": null,
            "source": "np.inner(b,b)",
            "outputs": [
                {
                    "output_type": "execute_result",
                    "metadata": {},
                    "data": {
                        "text/plain": "30"
                    },
                    "execution_count": null
                }
            ]
        },
        {
            "id": "a0d4c1a5",
            "cell_type": "markdown",
            "source": "Matrix vector multiplication:\n",
            "metadata": {}
        },
        {
            "id": "46594525",
            "cell_type": "code",
            "metadata": {},
            "execution_count": null,
            "source": "np.einsum('ij,j', a, b)",
            "outputs": [
                {
                    "output_type": "execute_result",
                    "metadata": {},
                    "data": {
                        "text/plain": "array([ 30,  80, 130, 180, 230])"
                    },
                    "execution_count": null
                }
            ]
        },
        {
            "id": "317be941",
            "cell_type": "code",
            "metadata": {},
            "execution_count": null,
            "source": "np.einsum(a, [0,1], b, [1])",
            "outputs": [
                {
                    "output_type": "execute_result",
                    "metadata": {},
                    "data": {
                        "text/plain": "array([ 30,  80, 130, 180, 230])"
                    },
                    "execution_count": null
                }
            ]
        },
        {
            "id": "d095b2f3",
            "cell_type": "code",
            "metadata": {},
            "execution_count": null,
            "source": "np.dot(a, b)",
            "outputs": [
                {
                    "output_type": "execute_result",
                    "metadata": {},
                    "data": {
                        "text/plain": "array([ 30,  80, 130, 180, 230])"
                    },
                    "execution_count": null
                }
            ]
        },
        {
            "id": "d7b25560",
            "cell_type": "code",
            "metadata": {},
            "execution_count": null,
            "source": "np.einsum('...j,j', a, b)",
            "outputs": [
                {
                    "output_type": "execute_result",
                    "metadata": {},
                    "data": {
                        "text/plain": "array([ 30,  80, 130, 180, 230])"
                    },
                    "execution_count": null
                }
            ]
        },
        {
            "id": "4b16f778",
            "cell_type": "markdown",
            "source": "Broadcasting and scalar multiplication:\n",
            "metadata": {}
        },
        {
            "id": "3ac11433",
            "cell_type": "code",
            "metadata": {},
            "execution_count": null,
            "source": "np.einsum('..., ...', 3, c)",
            "outputs": [
                {
                    "output_type": "execute_result",
                    "metadata": {},
                    "data": {
                        "text/plain": "array([[ 0,  3,  6],\n       [ 9, 12, 15]])"
                    },
                    "execution_count": null
                }
            ]
        },
        {
            "id": "6a03f8ba",
            "cell_type": "code",
            "metadata": {},
            "execution_count": null,
            "source": "np.einsum(',ij', 3, c)",
            "outputs": [
                {
                    "output_type": "execute_result",
                    "metadata": {},
                    "data": {
                        "text/plain": "array([[ 0,  3,  6],\n       [ 9, 12, 15]])"
                    },
                    "execution_count": null
                }
            ]
        },
        {
            "id": "bf3ab55f",
            "cell_type": "code",
            "metadata": {},
            "execution_count": null,
            "source": "np.einsum(3, [Ellipsis], c, [Ellipsis])",
            "outputs": [
                {
                    "output_type": "execute_result",
                    "metadata": {},
                    "data": {
                        "text/plain": "array([[ 0,  3,  6],\n       [ 9, 12, 15]])"
                    },
                    "execution_count": null
                }
            ]
        },
        {
            "id": "bbb0d8de",
            "cell_type": "code",
            "metadata": {},
            "execution_count": null,
            "source": "np.multiply(3, c)",
            "outputs": [
                {
                    "output_type": "execute_result",
                    "metadata": {},
                    "data": {
                        "text/plain": "array([[ 0,  3,  6],\n       [ 9, 12, 15]])"
                    },
                    "execution_count": null
                }
            ]
        },
        {
            "id": "532536e7",
            "cell_type": "markdown",
            "source": "Vector outer product:\n",
            "metadata": {}
        },
        {
            "id": "4e421c22",
            "cell_type": "code",
            "metadata": {},
            "execution_count": null,
            "source": "np.einsum('i,j', np.arange(2)+1, b)",
            "outputs": [
                {
                    "output_type": "execute_result",
                    "metadata": {},
                    "data": {
                        "text/plain": "array([[0, 1, 2, 3, 4],\n       [0, 2, 4, 6, 8]])"
                    },
                    "execution_count": null
                }
            ]
        },
        {
            "id": "3aa08c64",
            "cell_type": "code",
            "metadata": {},
            "execution_count": null,
            "source": "np.einsum(np.arange(2)+1, [0], b, [1])",
            "outputs": [
                {
                    "output_type": "execute_result",
                    "metadata": {},
                    "data": {
                        "text/plain": "array([[0, 1, 2, 3, 4],\n       [0, 2, 4, 6, 8]])"
                    },
                    "execution_count": null
                }
            ]
        },
        {
            "id": "941c9b28",
            "cell_type": "code",
            "metadata": {},
            "execution_count": null,
            "source": "np.outer(np.arange(2)+1, b)",
            "outputs": [
                {
                    "output_type": "execute_result",
                    "metadata": {},
                    "data": {
                        "text/plain": "array([[0, 1, 2, 3, 4],\n       [0, 2, 4, 6, 8]])"
                    },
                    "execution_count": null
                }
            ]
        },
        {
            "id": "ab2ce2ef",
            "cell_type": "markdown",
            "source": "Tensor contraction:\n",
            "metadata": {}
        },
        {
            "id": "3399bf87",
            "cell_type": "code",
            "metadata": {},
            "execution_count": null,
            "source": "a = np.arange(60.).reshape(3,4,5)\nb = np.arange(24.).reshape(4,3,2)\nnp.einsum('ijk,jil->kl', a, b)",
            "outputs": [
                {
                    "output_type": "execute_result",
                    "metadata": {},
                    "data": {
                        "text/plain": "array([[4400., 4730.],\n       [4532., 4874.],\n       [4664., 5018.],\n       [4796., 5162.],\n       [4928., 5306.]])"
                    },
                    "execution_count": null
                }
            ]
        },
        {
            "id": "6de9689d",
            "cell_type": "code",
            "metadata": {},
            "execution_count": null,
            "source": "np.einsum(a, [0,1,2], b, [1,0,3], [2,3])",
            "outputs": [
                {
                    "output_type": "execute_result",
                    "metadata": {},
                    "data": {
                        "text/plain": "array([[4400., 4730.],\n       [4532., 4874.],\n       [4664., 5018.],\n       [4796., 5162.],\n       [4928., 5306.]])"
                    },
                    "execution_count": null
                }
            ]
        },
        {
            "id": "a9dbafbb",
            "cell_type": "code",
            "metadata": {},
            "execution_count": null,
            "source": "np.tensordot(a,b, axes=([1,0],[0,1]))",
            "outputs": [
                {
                    "output_type": "execute_result",
                    "metadata": {},
                    "data": {
                        "text/plain": "array([[4400., 4730.],\n       [4532., 4874.],\n       [4664., 5018.],\n       [4796., 5162.],\n       [4928., 5306.]])"
                    },
                    "execution_count": null
                }
            ]
        },
        {
            "id": "478ed661",
            "cell_type": "markdown",
            "source": "Writeable returned arrays (since version 1.10.0):\n",
            "metadata": {}
        },
        {
            "id": "40c07a8b",
            "cell_type": "code",
            "metadata": {},
            "execution_count": null,
            "source": "a = np.zeros((3, 3))\nnp.einsum('ii->i', a)[:] = 1\na",
            "outputs": [
                {
                    "output_type": "execute_result",
                    "metadata": {},
                    "data": {
                        "text/plain": "array([[1., 0., 0.],\n       [0., 1., 0.],\n       [0., 0., 1.]])"
                    },
                    "execution_count": null
                }
            ]
        },
        {
            "id": "c72e9aa9",
            "cell_type": "markdown",
            "source": "Example of ellipsis use:\n",
            "metadata": {}
        },
        {
            "id": "5ac5d647",
            "cell_type": "code",
            "metadata": {},
            "execution_count": null,
            "source": "a = np.arange(6).reshape((3,2))\nb = np.arange(12).reshape((4,3))\nnp.einsum('ki,jk->ij', a, b)",
            "outputs": [
                {
                    "output_type": "execute_result",
                    "metadata": {},
                    "data": {
                        "text/plain": "array([[10, 28, 46, 64],\n       [13, 40, 67, 94]])"
                    },
                    "execution_count": null
                }
            ]
        },
        {
            "id": "7bd94671",
            "cell_type": "code",
            "metadata": {},
            "execution_count": null,
            "source": "np.einsum('ki,...k->i...', a, b)",
            "outputs": [
                {
                    "output_type": "execute_result",
                    "metadata": {},
                    "data": {
                        "text/plain": "array([[10, 28, 46, 64],\n       [13, 40, 67, 94]])"
                    },
                    "execution_count": null
                }
            ]
        },
        {
            "id": "c38cecf4",
            "cell_type": "code",
            "metadata": {},
            "execution_count": null,
            "source": "np.einsum('k...,jk', a, b)",
            "outputs": [
                {
                    "output_type": "execute_result",
                    "metadata": {},
                    "data": {
                        "text/plain": "array([[10, 28, 46, 64],\n       [13, 40, 67, 94]])"
                    },
                    "execution_count": null
                }
            ]
        },
        {
            "id": "a3262c7f",
            "cell_type": "markdown",
            "source": "Chained array operations. For more complicated contractions, speed ups\nmight be achieved by repeatedly computing a 'greedy' path or pre-computing\nthe 'optimal' path and repeatedly applying it, using an `einsum_path`\ninsertion (since version 1.12.0). Performance improvements can be\nparticularly significant with larger arrays:\n",
            "metadata": {}
        },
        {
            "id": "660a2679",
            "cell_type": "code",
            "metadata": {},
            "execution_count": null,
            "source": "a = np.ones(64).reshape(2,4,8)",
            "outputs": []
        },
        {
            "id": "77eb2801",
            "cell_type": "markdown",
            "source": "Basic `einsum`: ~1520ms  (benchmarked on 3.1GHz Intel i5.)\n",
            "metadata": {}
        },
        {
            "id": "85f1e525",
            "cell_type": "code",
            "metadata": {},
            "execution_count": null,
            "source": "for iteration in range(500):\n    _ = np.einsum('ijk,ilm,njm,nlk,abc->',a,a,a,a,a)",
            "outputs": []
        },
        {
            "id": "352c86b9",
            "cell_type": "markdown",
            "source": "Sub-optimal `einsum` (due to repeated path calculation time): ~330ms\n",
            "metadata": {}
        },
        {
            "id": "8f2f8545",
            "cell_type": "code",
            "metadata": {},
            "execution_count": null,
            "source": "for iteration in range(500):\n    _ = np.einsum('ijk,ilm,njm,nlk,abc->',a,a,a,a,a,\n        optimize='optimal')",
            "outputs": []
        },
        {
            "id": "469ac970",
            "cell_type": "markdown",
            "source": "Greedy `einsum` (faster optimal path approximation): ~160ms\n",
            "metadata": {}
        },
        {
            "id": "001c3061",
            "cell_type": "code",
            "metadata": {},
            "execution_count": null,
            "source": "for iteration in range(500):\n    _ = np.einsum('ijk,ilm,njm,nlk,abc->',a,a,a,a,a, optimize='greedy')",
            "outputs": []
        },
        {
            "id": "b9533d7f",
            "cell_type": "markdown",
            "source": "Optimal `einsum` (best usage pattern in some use cases): ~110ms\n",
            "metadata": {}
        },
        {
            "id": "583b49f1",
            "cell_type": "code",
            "metadata": {},
            "execution_count": null,
            "source": "path = np.einsum_path('ijk,ilm,njm,nlk,abc->',a,a,a,a,a, \n    optimize='optimal')[0]\nfor iteration in range(500):\n    _ = np.einsum('ijk,ilm,njm,nlk,abc->',a,a,a,a,a, optimize=path)",
            "outputs": []
        }
    ]
}