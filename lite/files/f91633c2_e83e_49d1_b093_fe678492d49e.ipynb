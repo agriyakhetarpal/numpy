{
    "nbformat": 4,
    "nbformat_minor": 5,
    "metadata": {
        "kernelspec": {
            "display_name": "Python",
            "language": "python",
            "name": "python"
        },
        "language_info": {
            "name": "python"
        }
    },
    "cells": [
        {
            "id": "ce0bcebe",
            "cell_type": "markdown",
            "source": "<div class='alert alert-warning'>\n\nNumPy's interactive examples are experimental and may not always work as expected, with high load times especially on low-resource platforms, and the version of NumPy might not be in sync with the one you are browsing the documentation for. If you encounter any issues, please report them on the [NumPy issue tracker](https://github.com/numpy/numpy/issues).\n\n</div>",
            "metadata": {}
        },
        {
            "id": "8862894c",
            "cell_type": "code",
            "metadata": {},
            "execution_count": null,
            "source": "import numpy as np\nfrom numpy import linalg as LA",
            "outputs": []
        },
        {
            "id": "e9829f2e",
            "cell_type": "markdown",
            "source": "(Almost) trivial example with real eigenvalues and eigenvectors.\n",
            "metadata": {}
        },
        {
            "id": "3c03ba24",
            "cell_type": "code",
            "metadata": {},
            "execution_count": null,
            "source": "eigenvalues, eigenvectors = LA.eig(np.diag((1, 2, 3)))\neigenvalues",
            "outputs": [
                {
                    "output_type": "execute_result",
                    "metadata": {},
                    "data": {
                        "text/plain": "array([1., 2., 3.])"
                    },
                    "execution_count": null
                }
            ]
        },
        {
            "id": "18ee0bda",
            "cell_type": "code",
            "metadata": {},
            "execution_count": null,
            "source": "eigenvectors",
            "outputs": [
                {
                    "output_type": "execute_result",
                    "metadata": {},
                    "data": {
                        "text/plain": "array([[1., 0., 0.],\n       [0., 1., 0.],\n       [0., 0., 1.]])"
                    },
                    "execution_count": null
                }
            ]
        },
        {
            "id": "8c795ded",
            "cell_type": "markdown",
            "source": "Real matrix possessing complex eigenvalues and eigenvectors;\nnote that the eigenvalues are complex conjugates of each other.\n",
            "metadata": {}
        },
        {
            "id": "e192286f",
            "cell_type": "code",
            "metadata": {},
            "execution_count": null,
            "source": "eigenvalues, eigenvectors = LA.eig(np.array([[1, -1], [1, 1]]))\neigenvalues",
            "outputs": [
                {
                    "output_type": "execute_result",
                    "metadata": {},
                    "data": {
                        "text/plain": "array([1.+1.j, 1.-1.j])"
                    },
                    "execution_count": null
                }
            ]
        },
        {
            "id": "81f8a4de",
            "cell_type": "code",
            "metadata": {},
            "execution_count": null,
            "source": "eigenvectors",
            "outputs": [
                {
                    "output_type": "execute_result",
                    "metadata": {},
                    "data": {
                        "text/plain": "array([[0.70710678+0.j        , 0.70710678-0.j        ],\n       [0.        -0.70710678j, 0.        +0.70710678j]])"
                    },
                    "execution_count": null
                }
            ]
        },
        {
            "id": "f6d83ad9",
            "cell_type": "markdown",
            "source": "Complex-valued matrix with real eigenvalues (but complex-valued\neigenvectors); note that ``a.conj().T == a``, i.e., `a` is Hermitian.\n",
            "metadata": {}
        },
        {
            "id": "3e100d9d",
            "cell_type": "code",
            "metadata": {},
            "execution_count": null,
            "source": "a = np.array([[1, 1j], [-1j, 1]])\neigenvalues, eigenvectors = LA.eig(a)\neigenvalues",
            "outputs": [
                {
                    "output_type": "execute_result",
                    "metadata": {},
                    "data": {
                        "text/plain": "array([2.+0.j, 0.+0.j])"
                    },
                    "execution_count": null
                }
            ]
        },
        {
            "id": "0d1c258a",
            "cell_type": "code",
            "metadata": {},
            "execution_count": null,
            "source": "eigenvectors",
            "outputs": [
                {
                    "output_type": "execute_result",
                    "metadata": {},
                    "data": {
                        "text/plain": "array([[ 0.        +0.70710678j,  0.70710678+0.j        ], # may vary\n       [ 0.70710678+0.j        , -0.        +0.70710678j]])"
                    },
                    "execution_count": null
                }
            ]
        },
        {
            "id": "0fc703ce",
            "cell_type": "markdown",
            "source": "Be careful about round-off error!\n",
            "metadata": {}
        },
        {
            "id": "d781d038",
            "cell_type": "code",
            "metadata": {},
            "execution_count": null,
            "source": "a = np.array([[1 + 1e-9, 0], [0, 1 - 1e-9]])\n# Theor. eigenvalues are 1 +/- 1e-9\neigenvalues, eigenvectors = LA.eig(a)\neigenvalues",
            "outputs": [
                {
                    "output_type": "execute_result",
                    "metadata": {},
                    "data": {
                        "text/plain": "array([1., 1.])"
                    },
                    "execution_count": null
                }
            ]
        },
        {
            "id": "7899eeb8",
            "cell_type": "code",
            "metadata": {},
            "execution_count": null,
            "source": "eigenvectors",
            "outputs": [
                {
                    "output_type": "execute_result",
                    "metadata": {},
                    "data": {
                        "text/plain": "array([[1., 0.],\n       [0., 1.]])"
                    },
                    "execution_count": null
                }
            ]
        }
    ]
}