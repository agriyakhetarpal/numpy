{
    "nbformat": 4,
    "nbformat_minor": 5,
    "metadata": {
        "kernelspec": {
            "display_name": "Python",
            "language": "python",
            "name": "python"
        },
        "language_info": {
            "name": "python"
        }
    },
    "cells": [
        {
            "id": "9aead85f",
            "cell_type": "markdown",
            "source": "<div class='alert alert-warning'>\n\nNumPy's interactive examples are experimental and may not always work as expected, with high load times especially on low-resource platforms, and the version of NumPy might not be in sync with the one you are browsing the documentation for. If you encounter any issues, please report them on the [NumPy issue tracker](https://github.com/numpy/numpy/issues).\n\n</div>",
            "metadata": {}
        },
        {
            "id": "a38b9a3d",
            "cell_type": "markdown",
            "source": "One dimensional array:\n",
            "metadata": {}
        },
        {
            "id": "d7daeb17",
            "cell_type": "code",
            "metadata": {},
            "execution_count": null,
            "source": "import numpy as np\nx = np.array([3, 4, 2, 1])\nx[np.argpartition(x, 3)]",
            "outputs": [
                {
                    "output_type": "execute_result",
                    "metadata": {},
                    "data": {
                        "text/plain": "array([2, 1, 3, 4]) # may vary"
                    },
                    "execution_count": null
                }
            ]
        },
        {
            "id": "0c57ed40",
            "cell_type": "code",
            "metadata": {},
            "execution_count": null,
            "source": "x[np.argpartition(x, (1, 3))]",
            "outputs": [
                {
                    "output_type": "execute_result",
                    "metadata": {},
                    "data": {
                        "text/plain": "array([1, 2, 3, 4]) # may vary"
                    },
                    "execution_count": null
                }
            ]
        },
        {
            "id": "a28a28f7",
            "cell_type": "code",
            "metadata": {},
            "execution_count": null,
            "source": "x = [3, 4, 2, 1]\nnp.array(x)[np.argpartition(x, 3)]",
            "outputs": [
                {
                    "output_type": "execute_result",
                    "metadata": {},
                    "data": {
                        "text/plain": "array([2, 1, 3, 4]) # may vary"
                    },
                    "execution_count": null
                }
            ]
        },
        {
            "id": "8a348912",
            "cell_type": "markdown",
            "source": "Multi-dimensional array:\n",
            "metadata": {}
        },
        {
            "id": "3865ec37",
            "cell_type": "code",
            "metadata": {},
            "execution_count": null,
            "source": "x = np.array([[3, 4, 2], [1, 3, 1]])\nindex_array = np.argpartition(x, kth=1, axis=-1)\n# below is the same as np.partition(x, kth=1)\nnp.take_along_axis(x, index_array, axis=-1)",
            "outputs": [
                {
                    "output_type": "execute_result",
                    "metadata": {},
                    "data": {
                        "text/plain": "array([[2, 3, 4],\n       [1, 1, 3]])"
                    },
                    "execution_count": null
                }
            ]
        }
    ]
}