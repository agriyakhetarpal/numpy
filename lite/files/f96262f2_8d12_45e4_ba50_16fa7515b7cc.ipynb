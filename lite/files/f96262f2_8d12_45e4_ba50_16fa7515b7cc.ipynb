{
    "nbformat": 4,
    "nbformat_minor": 5,
    "metadata": {
        "kernelspec": {
            "display_name": "Python",
            "language": "python",
            "name": "python"
        },
        "language_info": {
            "name": "python"
        }
    },
    "cells": [
        {
            "id": "8ec45662",
            "cell_type": "markdown",
            "source": "<div class='alert alert-warning'>\n\nNumPy's interactive examples are experimental and may not always work as expected, with high load times especially on low-resource platforms, and the version of NumPy might not be in sync with the one you are browsing the documentation for. If you encounter any issues, please report them on the [NumPy issue tracker](https://github.com/numpy/numpy/issues).\n\n</div>",
            "metadata": {}
        },
        {
            "id": "6e7209f1",
            "cell_type": "code",
            "metadata": {},
            "execution_count": null,
            "source": "import numpy as np",
            "outputs": []
        },
        {
            "id": "e174f6a0",
            "cell_type": "markdown",
            "source": "Cube each element in a list.\n",
            "metadata": {}
        },
        {
            "id": "16d14471",
            "cell_type": "code",
            "metadata": {},
            "execution_count": null,
            "source": "x1 = range(6)\nx1",
            "outputs": [
                {
                    "output_type": "execute_result",
                    "metadata": {},
                    "data": {
                        "text/plain": "[0, 1, 2, 3, 4, 5]"
                    },
                    "execution_count": null
                }
            ]
        },
        {
            "id": "a1f94381",
            "cell_type": "code",
            "metadata": {},
            "execution_count": null,
            "source": "np.float_power(x1, 3)",
            "outputs": [
                {
                    "output_type": "execute_result",
                    "metadata": {},
                    "data": {
                        "text/plain": "array([   0.,    1.,    8.,   27.,   64.,  125.])"
                    },
                    "execution_count": null
                }
            ]
        },
        {
            "id": "59062afe",
            "cell_type": "markdown",
            "source": "Raise the bases to different exponents.\n",
            "metadata": {}
        },
        {
            "id": "9ce9e4c9",
            "cell_type": "code",
            "metadata": {},
            "execution_count": null,
            "source": "x2 = [1.0, 2.0, 3.0, 3.0, 2.0, 1.0]\nnp.float_power(x1, x2)",
            "outputs": [
                {
                    "output_type": "execute_result",
                    "metadata": {},
                    "data": {
                        "text/plain": "array([  0.,   1.,   8.,  27.,  16.,   5.])"
                    },
                    "execution_count": null
                }
            ]
        },
        {
            "id": "86575a72",
            "cell_type": "markdown",
            "source": "The effect of broadcasting.\n",
            "metadata": {}
        },
        {
            "id": "7c6474a1",
            "cell_type": "code",
            "metadata": {},
            "execution_count": null,
            "source": "x2 = np.array([[1, 2, 3, 3, 2, 1], [1, 2, 3, 3, 2, 1]])\nx2",
            "outputs": [
                {
                    "output_type": "execute_result",
                    "metadata": {},
                    "data": {
                        "text/plain": "array([[1, 2, 3, 3, 2, 1],\n       [1, 2, 3, 3, 2, 1]])"
                    },
                    "execution_count": null
                }
            ]
        },
        {
            "id": "000aae53",
            "cell_type": "code",
            "metadata": {},
            "execution_count": null,
            "source": "np.float_power(x1, x2)",
            "outputs": [
                {
                    "output_type": "execute_result",
                    "metadata": {},
                    "data": {
                        "text/plain": "array([[  0.,   1.,   8.,  27.,  16.,   5.],\n       [  0.,   1.,   8.,  27.,  16.,   5.]])"
                    },
                    "execution_count": null
                }
            ]
        },
        {
            "id": "893e7f27",
            "cell_type": "markdown",
            "source": "Negative values raised to a non-integral value will result in ``nan``\n(and a warning will be generated).\n",
            "metadata": {}
        },
        {
            "id": "09638f65",
            "cell_type": "code",
            "metadata": {},
            "execution_count": null,
            "source": "x3 = np.array([-1, -4])\nwith np.errstate(invalid='ignore'):\n    p = np.float_power(x3, 1.5)\n\np",
            "outputs": [
                {
                    "output_type": "execute_result",
                    "metadata": {},
                    "data": {
                        "text/plain": "array([nan, nan])"
                    },
                    "execution_count": null
                }
            ]
        },
        {
            "id": "8a65ab07",
            "cell_type": "markdown",
            "source": "To get complex results, give the argument ``dtype=complex``.\n",
            "metadata": {}
        },
        {
            "id": "15921ef3",
            "cell_type": "code",
            "metadata": {},
            "execution_count": null,
            "source": "np.float_power(x3, 1.5, dtype=complex)",
            "outputs": [
                {
                    "output_type": "execute_result",
                    "metadata": {},
                    "data": {
                        "text/plain": "array([-1.83697020e-16-1.j, -1.46957616e-15-8.j])"
                    },
                    "execution_count": null
                }
            ]
        }
    ]
}