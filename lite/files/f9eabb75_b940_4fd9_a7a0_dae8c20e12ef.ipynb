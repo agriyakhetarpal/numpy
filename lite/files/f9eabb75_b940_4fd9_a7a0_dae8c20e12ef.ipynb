{
    "nbformat": 4,
    "nbformat_minor": 5,
    "metadata": {
        "kernelspec": {
            "display_name": "Python",
            "language": "python",
            "name": "python"
        },
        "language_info": {
            "name": "python"
        }
    },
    "cells": [
        {
            "id": "84440735",
            "cell_type": "markdown",
            "source": "<div class='alert alert-warning'>\n\nNumPy's interactive examples are experimental and may not always work as expected, with high load times especially on low-resource platforms, and the version of NumPy might not be in sync with the one you are browsing the documentation for. If you encounter any issues, please report them on the [NumPy issue tracker](https://github.com/numpy/numpy/issues).\n\n</div>",
            "metadata": {}
        },
        {
            "id": "ad75e0da",
            "cell_type": "code",
            "metadata": {},
            "execution_count": null,
            "source": "import numpy as np",
            "outputs": []
        },
        {
            "id": "0ff9ca93",
            "cell_type": "code",
            "metadata": {},
            "execution_count": null,
            "source": "np.datetime64('2009-01-01') - np.datetime64('2008-01-01')",
            "outputs": [
                {
                    "output_type": "execute_result",
                    "metadata": {},
                    "data": {
                        "text/plain": "np.timedelta64(366,'D')"
                    },
                    "execution_count": null
                }
            ]
        },
        {
            "id": "29c2ab20",
            "cell_type": "code",
            "metadata": {},
            "execution_count": null,
            "source": "np.datetime64('2009') + np.timedelta64(20, 'D')",
            "outputs": [
                {
                    "output_type": "execute_result",
                    "metadata": {},
                    "data": {
                        "text/plain": "np.datetime64('2009-01-21')"
                    },
                    "execution_count": null
                }
            ]
        },
        {
            "id": "0272962a",
            "cell_type": "code",
            "metadata": {},
            "execution_count": null,
            "source": "np.datetime64('2011-06-15T00:00') + np.timedelta64(12, 'h')",
            "outputs": [
                {
                    "output_type": "execute_result",
                    "metadata": {},
                    "data": {
                        "text/plain": "np.datetime64('2011-06-15T12:00')"
                    },
                    "execution_count": null
                }
            ]
        },
        {
            "id": "4fb4dd89",
            "cell_type": "code",
            "metadata": {},
            "execution_count": null,
            "source": "np.timedelta64(1,'W') / np.timedelta64(1,'D')",
            "outputs": [
                {
                    "output_type": "execute_result",
                    "metadata": {},
                    "data": {
                        "text/plain": "7.0"
                    },
                    "execution_count": null
                }
            ]
        },
        {
            "id": "048e0e57",
            "cell_type": "code",
            "metadata": {},
            "execution_count": null,
            "source": "np.timedelta64(1,'W') % np.timedelta64(10,'D')",
            "outputs": [
                {
                    "output_type": "execute_result",
                    "metadata": {},
                    "data": {
                        "text/plain": "np.timedelta64(7,'D')"
                    },
                    "execution_count": null
                }
            ]
        },
        {
            "id": "d0dfdde6",
            "cell_type": "code",
            "metadata": {},
            "execution_count": null,
            "source": "np.datetime64('nat') - np.datetime64('2009-01-01')",
            "outputs": [
                {
                    "output_type": "execute_result",
                    "metadata": {},
                    "data": {
                        "text/plain": "np.timedelta64('NaT','D')"
                    },
                    "execution_count": null
                }
            ]
        },
        {
            "id": "39d42b5c",
            "cell_type": "code",
            "metadata": {},
            "execution_count": null,
            "source": "np.datetime64('2009-01-01') + np.timedelta64('nat')",
            "outputs": [
                {
                    "output_type": "execute_result",
                    "metadata": {},
                    "data": {
                        "text/plain": "np.datetime64('NaT')"
                    },
                    "execution_count": null
                }
            ]
        }
    ]
}