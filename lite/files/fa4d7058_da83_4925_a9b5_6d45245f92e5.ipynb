{
    "nbformat": 4,
    "nbformat_minor": 5,
    "metadata": {
        "kernelspec": {
            "display_name": "Python",
            "language": "python",
            "name": "python"
        },
        "language_info": {
            "name": "python"
        }
    },
    "cells": [
        {
            "id": "3a5d571c",
            "cell_type": "markdown",
            "source": "<div class='alert alert-warning'>\n\nNumPy's interactive examples are experimental and may not always work as expected, with high load times especially on low-resource platforms, and the version of NumPy might not be in sync with the one you are browsing the documentation for. If you encounter any issues, please report them on the [NumPy issue tracker](https://github.com/numpy/numpy/issues).\n\n</div>",
            "metadata": {}
        },
        {
            "id": "f01dd2b2",
            "cell_type": "markdown",
            "source": "We set the printing precision so the example can be auto-tested:\n",
            "metadata": {}
        },
        {
            "id": "a8e8f926",
            "cell_type": "code",
            "metadata": {},
            "execution_count": null,
            "source": "np.set_printoptions(precision=4)",
            "outputs": []
        },
        {
            "id": "bfb4bfce",
            "cell_type": "code",
            "metadata": {},
            "execution_count": null,
            "source": "np.emath.log2(8)",
            "outputs": [
                {
                    "output_type": "execute_result",
                    "metadata": {},
                    "data": {
                        "text/plain": "3.0"
                    },
                    "execution_count": null
                }
            ]
        },
        {
            "id": "7b88836a",
            "cell_type": "code",
            "metadata": {},
            "execution_count": null,
            "source": "np.emath.log2([-4, -8, 8])",
            "outputs": [
                {
                    "output_type": "execute_result",
                    "metadata": {},
                    "data": {
                        "text/plain": "array([2.+4.5324j, 3.+4.5324j, 3.+0.j    ])"
                    },
                    "execution_count": null
                }
            ]
        }
    ]
}