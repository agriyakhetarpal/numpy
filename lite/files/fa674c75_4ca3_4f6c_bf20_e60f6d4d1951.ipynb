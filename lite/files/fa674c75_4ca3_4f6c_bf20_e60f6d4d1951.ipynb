{
    "nbformat": 4,
    "nbformat_minor": 5,
    "metadata": {
        "kernelspec": {
            "display_name": "Python",
            "language": "python",
            "name": "python"
        },
        "language_info": {
            "name": "python"
        }
    },
    "cells": [
        {
            "id": "d91f585a",
            "cell_type": "markdown",
            "source": "<div class='alert alert-warning'>\n\nNumPy's interactive examples are experimental and may not always work as expected, with high load times especially on low-resource platforms, , and the version of NumPy might not be in sync with the one you are browsing the documentation for. If you encounter any issues, please report them on the [NumPy issue tracker](https://github.com/numpy/numpy/issues).\n\n</div>",
            "metadata": {}
        },
        {
            "id": "b81fe573",
            "cell_type": "code",
            "metadata": {},
            "execution_count": null,
            "source": "import sys\nsys_is_le = sys.byteorder == 'little'\nnative_code = '<' if sys_is_le else '>'\nswapped_code = '>' if sys_is_le else '<'\nimport numpy as np\nnative_dt = np.dtype(native_code+'i2')\nswapped_dt = np.dtype(swapped_code+'i2')\nnative_dt.newbyteorder('S') == swapped_dt",
            "outputs": [
                {
                    "output_type": "execute_result",
                    "metadata": {},
                    "data": {
                        "text/plain": "True"
                    },
                    "execution_count": null
                }
            ]
        },
        {
            "id": "7cbce38e",
            "cell_type": "code",
            "metadata": {},
            "execution_count": null,
            "source": "native_dt.newbyteorder() == swapped_dt",
            "outputs": [
                {
                    "output_type": "execute_result",
                    "metadata": {},
                    "data": {
                        "text/plain": "True"
                    },
                    "execution_count": null
                }
            ]
        },
        {
            "id": "93b1d4d1",
            "cell_type": "code",
            "metadata": {},
            "execution_count": null,
            "source": "native_dt == swapped_dt.newbyteorder('S')",
            "outputs": [
                {
                    "output_type": "execute_result",
                    "metadata": {},
                    "data": {
                        "text/plain": "True"
                    },
                    "execution_count": null
                }
            ]
        },
        {
            "id": "2b6eacc1",
            "cell_type": "code",
            "metadata": {},
            "execution_count": null,
            "source": "native_dt == swapped_dt.newbyteorder('=')",
            "outputs": [
                {
                    "output_type": "execute_result",
                    "metadata": {},
                    "data": {
                        "text/plain": "True"
                    },
                    "execution_count": null
                }
            ]
        },
        {
            "id": "b52176f1",
            "cell_type": "code",
            "metadata": {},
            "execution_count": null,
            "source": "native_dt == swapped_dt.newbyteorder('N')",
            "outputs": [
                {
                    "output_type": "execute_result",
                    "metadata": {},
                    "data": {
                        "text/plain": "True"
                    },
                    "execution_count": null
                }
            ]
        },
        {
            "id": "06939851",
            "cell_type": "code",
            "metadata": {},
            "execution_count": null,
            "source": "native_dt == native_dt.newbyteorder('|')",
            "outputs": [
                {
                    "output_type": "execute_result",
                    "metadata": {},
                    "data": {
                        "text/plain": "True"
                    },
                    "execution_count": null
                }
            ]
        },
        {
            "id": "1c7fc60e",
            "cell_type": "code",
            "metadata": {},
            "execution_count": null,
            "source": "np.dtype('<i2') == native_dt.newbyteorder('<')",
            "outputs": [
                {
                    "output_type": "execute_result",
                    "metadata": {},
                    "data": {
                        "text/plain": "True"
                    },
                    "execution_count": null
                }
            ]
        },
        {
            "id": "a1626638",
            "cell_type": "code",
            "metadata": {},
            "execution_count": null,
            "source": "np.dtype('<i2') == native_dt.newbyteorder('L')",
            "outputs": [
                {
                    "output_type": "execute_result",
                    "metadata": {},
                    "data": {
                        "text/plain": "True"
                    },
                    "execution_count": null
                }
            ]
        },
        {
            "id": "d3602285",
            "cell_type": "code",
            "metadata": {},
            "execution_count": null,
            "source": "np.dtype('>i2') == native_dt.newbyteorder('>')",
            "outputs": [
                {
                    "output_type": "execute_result",
                    "metadata": {},
                    "data": {
                        "text/plain": "True"
                    },
                    "execution_count": null
                }
            ]
        },
        {
            "id": "ba0c1795",
            "cell_type": "code",
            "metadata": {},
            "execution_count": null,
            "source": "np.dtype('>i2') == native_dt.newbyteorder('B')",
            "outputs": [
                {
                    "output_type": "execute_result",
                    "metadata": {},
                    "data": {
                        "text/plain": "True"
                    },
                    "execution_count": null
                }
            ]
        }
    ]
}