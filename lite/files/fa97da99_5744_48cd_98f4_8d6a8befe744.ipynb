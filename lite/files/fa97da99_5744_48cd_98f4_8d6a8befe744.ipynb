{
    "nbformat": 4,
    "nbformat_minor": 5,
    "metadata": {
        "kernelspec": {
            "display_name": "Python",
            "language": "python",
            "name": "python"
        },
        "language_info": {
            "name": "python"
        }
    },
    "cells": [
        {
            "id": "2805c8dd",
            "cell_type": "markdown",
            "source": "<div class='alert alert-warning'>\n\nNumPy's interactive examples are experimental and may not always work as expected, with high load times especially on low-resource platforms, , and the version of NumPy might not be in sync with the one you are browsing the documentation for. If you encounter any issues, please report them on the [NumPy issue tracker](https://github.com/numpy/numpy/issues).\n\n</div>",
            "metadata": {}
        },
        {
            "id": "ee36aa33",
            "cell_type": "code",
            "metadata": {},
            "execution_count": null,
            "source": "import numpy as np\nfrom numpy.polynomial import polyutils as pu\na = np.arange(4)\npu.as_series(a)",
            "outputs": [
                {
                    "output_type": "execute_result",
                    "metadata": {},
                    "data": {
                        "text/plain": "[array([0.]), array([1.]), array([2.]), array([3.])]"
                    },
                    "execution_count": null
                }
            ]
        },
        {
            "id": "71f6f20f",
            "cell_type": "code",
            "metadata": {},
            "execution_count": null,
            "source": "b = np.arange(6).reshape((2,3))\npu.as_series(b)",
            "outputs": [
                {
                    "output_type": "execute_result",
                    "metadata": {},
                    "data": {
                        "text/plain": "[array([0., 1., 2.]), array([3., 4., 5.])]"
                    },
                    "execution_count": null
                }
            ]
        },
        {
            "id": "1a468449",
            "cell_type": "code",
            "metadata": {},
            "execution_count": null,
            "source": "pu.as_series((1, np.arange(3), np.arange(2, dtype=np.float16)))",
            "outputs": [
                {
                    "output_type": "execute_result",
                    "metadata": {},
                    "data": {
                        "text/plain": "[array([1.]), array([0., 1., 2.]), array([0., 1.])]"
                    },
                    "execution_count": null
                }
            ]
        },
        {
            "id": "695f41c7",
            "cell_type": "code",
            "metadata": {},
            "execution_count": null,
            "source": "pu.as_series([2, [1.1, 0.]])",
            "outputs": [
                {
                    "output_type": "execute_result",
                    "metadata": {},
                    "data": {
                        "text/plain": "[array([2.]), array([1.1])]"
                    },
                    "execution_count": null
                }
            ]
        },
        {
            "id": "c6dcd794",
            "cell_type": "code",
            "metadata": {},
            "execution_count": null,
            "source": "pu.as_series([2, [1.1, 0.]], trim=False)",
            "outputs": [
                {
                    "output_type": "execute_result",
                    "metadata": {},
                    "data": {
                        "text/plain": "[array([2.]), array([1.1, 0. ])]"
                    },
                    "execution_count": null
                }
            ]
        }
    ]
}