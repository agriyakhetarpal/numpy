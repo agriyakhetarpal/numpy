{
    "nbformat": 4,
    "nbformat_minor": 5,
    "metadata": {
        "kernelspec": {
            "display_name": "Python",
            "language": "python",
            "name": "python"
        },
        "language_info": {
            "name": "python"
        }
    },
    "cells": [
        {
            "id": "d37b053d",
            "cell_type": "markdown",
            "source": "<div class='alert alert-warning'>\n\nNumPy's interactive examples are experimental and may not always work as expected, with high load times especially on low-resource platforms, , and the version of NumPy might not be in sync with the one you are browsing the documentation for. If you encounter any issues, please report them on the [NumPy issue tracker](https://github.com/numpy/numpy/issues).\n\n</div>",
            "metadata": {}
        },
        {
            "id": "bed8c263",
            "cell_type": "markdown",
            "source": "Draw samples from the distribution:\n",
            "metadata": {}
        },
        {
            "id": "c1354bfc",
            "cell_type": "code",
            "metadata": {},
            "execution_count": null,
            "source": "a = 3.\nrng = np.random.default_rng()\ns = rng.pareto(a, 10000)",
            "outputs": []
        },
        {
            "id": "aef7658c",
            "cell_type": "markdown",
            "source": "Display the histogram of the samples, along with the probability\ndensity function:\n",
            "metadata": {}
        },
        {
            "id": "35804b82",
            "cell_type": "code",
            "metadata": {},
            "execution_count": null,
            "source": "import matplotlib.pyplot as plt\nx = np.linspace(0, 3, 50)\npdf = a / (x+1)**(a+1)\nplt.hist(s, bins=x, density=True, label='histogram')\nplt.plot(x, pdf, linewidth=2, color='r', label='pdf')\nplt.xlim(x.min(), x.max())\nplt.legend()\nplt.show()",
            "outputs": []
        }
    ]
}