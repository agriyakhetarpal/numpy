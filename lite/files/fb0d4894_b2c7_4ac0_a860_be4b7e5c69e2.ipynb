{
    "nbformat": 4,
    "nbformat_minor": 5,
    "metadata": {
        "kernelspec": {
            "display_name": "Python",
            "language": "python",
            "name": "python"
        },
        "language_info": {
            "name": "python"
        }
    },
    "cells": [
        {
            "id": "5352cacd",
            "cell_type": "markdown",
            "source": "<div class='alert alert-warning'>\n\nNumPy's interactive examples are experimental and may not always work as expected, with high load times especially on low-resource platforms, and the version of NumPy might not be in sync with the one you are browsing the documentation for. If you encounter any issues, please report them on the [NumPy issue tracker](https://github.com/numpy/numpy/issues).\n\n</div>",
            "metadata": {}
        },
        {
            "id": "62be4b44",
            "cell_type": "code",
            "metadata": {},
            "execution_count": null,
            "source": "import numpy as np\nnp.minimum([2, 3, 4], [1, 5, 2])",
            "outputs": [
                {
                    "output_type": "execute_result",
                    "metadata": {},
                    "data": {
                        "text/plain": "array([1, 3, 2])"
                    },
                    "execution_count": null
                }
            ]
        },
        {
            "id": "56e78f0c",
            "cell_type": "code",
            "metadata": {},
            "execution_count": null,
            "source": "np.minimum(np.eye(2), [0.5, 2]) # broadcasting",
            "outputs": [
                {
                    "output_type": "execute_result",
                    "metadata": {},
                    "data": {
                        "text/plain": "array([[ 0.5,  0. ],\n       [ 0. ,  1. ]])"
                    },
                    "execution_count": null
                }
            ]
        },
        {
            "id": "690dcdeb",
            "cell_type": "code",
            "metadata": {},
            "execution_count": null,
            "source": "np.minimum([np.nan, 0, np.nan],[0, np.nan, np.nan])",
            "outputs": [
                {
                    "output_type": "execute_result",
                    "metadata": {},
                    "data": {
                        "text/plain": "array([nan, nan, nan])"
                    },
                    "execution_count": null
                }
            ]
        },
        {
            "id": "ce3d5a3a",
            "cell_type": "code",
            "metadata": {},
            "execution_count": null,
            "source": "np.minimum(-np.inf, 1)",
            "outputs": [
                {
                    "output_type": "execute_result",
                    "metadata": {},
                    "data": {
                        "text/plain": "-inf"
                    },
                    "execution_count": null
                }
            ]
        }
    ]
}