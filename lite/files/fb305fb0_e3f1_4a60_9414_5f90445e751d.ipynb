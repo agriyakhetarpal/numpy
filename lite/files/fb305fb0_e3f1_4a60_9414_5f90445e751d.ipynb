{
    "nbformat": 4,
    "nbformat_minor": 5,
    "metadata": {
        "kernelspec": {
            "display_name": "Python",
            "language": "python",
            "name": "python"
        },
        "language_info": {
            "name": "python"
        }
    },
    "cells": [
        {
            "id": "18f90007",
            "cell_type": "markdown",
            "source": "<div class='alert alert-warning'>\n\nNumPy's interactive examples are experimental and may not always work as expected, with high load times especially on low-resource platforms, and the version of NumPy might not be in sync with the one you are browsing the documentation for. If you encounter any issues, please report them on the [NumPy issue tracker](https://github.com/numpy/numpy/issues).\n\n</div>",
            "metadata": {}
        },
        {
            "id": "9878e887",
            "cell_type": "code",
            "metadata": {},
            "execution_count": null,
            "source": "import numpy as np",
            "outputs": []
        },
        {
            "id": "ad2d76f6",
            "cell_type": "code",
            "metadata": {},
            "execution_count": null,
            "source": "np.isscalar(3.1)",
            "outputs": [
                {
                    "output_type": "execute_result",
                    "metadata": {},
                    "data": {
                        "text/plain": "True"
                    },
                    "execution_count": null
                }
            ]
        },
        {
            "id": "08f47697",
            "cell_type": "code",
            "metadata": {},
            "execution_count": null,
            "source": "np.isscalar(np.array(3.1))",
            "outputs": [
                {
                    "output_type": "execute_result",
                    "metadata": {},
                    "data": {
                        "text/plain": "False"
                    },
                    "execution_count": null
                }
            ]
        },
        {
            "id": "97847f14",
            "cell_type": "code",
            "metadata": {},
            "execution_count": null,
            "source": "np.isscalar([3.1])",
            "outputs": [
                {
                    "output_type": "execute_result",
                    "metadata": {},
                    "data": {
                        "text/plain": "False"
                    },
                    "execution_count": null
                }
            ]
        },
        {
            "id": "016cb91e",
            "cell_type": "code",
            "metadata": {},
            "execution_count": null,
            "source": "np.isscalar(False)",
            "outputs": [
                {
                    "output_type": "execute_result",
                    "metadata": {},
                    "data": {
                        "text/plain": "True"
                    },
                    "execution_count": null
                }
            ]
        },
        {
            "id": "e0c2b962",
            "cell_type": "code",
            "metadata": {},
            "execution_count": null,
            "source": "np.isscalar('numpy')",
            "outputs": [
                {
                    "output_type": "execute_result",
                    "metadata": {},
                    "data": {
                        "text/plain": "True"
                    },
                    "execution_count": null
                }
            ]
        },
        {
            "id": "24617885",
            "cell_type": "markdown",
            "source": "NumPy supports PEP 3141 numbers:\n",
            "metadata": {}
        },
        {
            "id": "60e785c8",
            "cell_type": "code",
            "metadata": {},
            "execution_count": null,
            "source": "from fractions import Fraction\nnp.isscalar(Fraction(5, 17))",
            "outputs": [
                {
                    "output_type": "execute_result",
                    "metadata": {},
                    "data": {
                        "text/plain": "True"
                    },
                    "execution_count": null
                }
            ]
        },
        {
            "id": "9a8dd24b",
            "cell_type": "code",
            "metadata": {},
            "execution_count": null,
            "source": "from numbers import Number\nnp.isscalar(Number())",
            "outputs": [
                {
                    "output_type": "execute_result",
                    "metadata": {},
                    "data": {
                        "text/plain": "True"
                    },
                    "execution_count": null
                }
            ]
        }
    ]
}