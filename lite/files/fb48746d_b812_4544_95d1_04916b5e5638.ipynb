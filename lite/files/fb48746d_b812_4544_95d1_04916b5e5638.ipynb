{
    "nbformat": 4,
    "nbformat_minor": 5,
    "metadata": {
        "kernelspec": {
            "display_name": "Python",
            "language": "python",
            "name": "python"
        },
        "language_info": {
            "name": "python"
        }
    },
    "cells": [
        {
            "id": "93536c42",
            "cell_type": "markdown",
            "source": "<div class='alert alert-warning'>\n\nNumPy's interactive examples are experimental and may not always work as expected, with high load times especially on low-resource platforms, and the version of NumPy might not be in sync with the one you are browsing the documentation for. If you encounter any issues, please report them on the [NumPy issue tracker](https://github.com/numpy/numpy/issues).\n\n</div>",
            "metadata": {}
        },
        {
            "id": "c078617d",
            "cell_type": "code",
            "metadata": {},
            "execution_count": null,
            "source": "import numpy as np\nimport numpy.ma as ma\nm = [True, False, True, True]\nma.make_mask(m)",
            "outputs": [
                {
                    "output_type": "execute_result",
                    "metadata": {},
                    "data": {
                        "text/plain": "array([ True, False,  True,  True])"
                    },
                    "execution_count": null
                }
            ]
        },
        {
            "id": "a74c29aa",
            "cell_type": "code",
            "metadata": {},
            "execution_count": null,
            "source": "m = [1, 0, 1, 1]\nma.make_mask(m)",
            "outputs": [
                {
                    "output_type": "execute_result",
                    "metadata": {},
                    "data": {
                        "text/plain": "array([ True, False,  True,  True])"
                    },
                    "execution_count": null
                }
            ]
        },
        {
            "id": "46fa2de5",
            "cell_type": "code",
            "metadata": {},
            "execution_count": null,
            "source": "m = [1, 0, 2, -3]\nma.make_mask(m)",
            "outputs": [
                {
                    "output_type": "execute_result",
                    "metadata": {},
                    "data": {
                        "text/plain": "array([ True, False,  True,  True])"
                    },
                    "execution_count": null
                }
            ]
        },
        {
            "id": "902ec2e3",
            "cell_type": "markdown",
            "source": "Effect of the `shrink` parameter.\n",
            "metadata": {}
        },
        {
            "id": "8af4cbb8",
            "cell_type": "code",
            "metadata": {},
            "execution_count": null,
            "source": "m = np.zeros(4)\nm",
            "outputs": [
                {
                    "output_type": "execute_result",
                    "metadata": {},
                    "data": {
                        "text/plain": "array([0., 0., 0., 0.])"
                    },
                    "execution_count": null
                }
            ]
        },
        {
            "id": "52e3caf3",
            "cell_type": "code",
            "metadata": {},
            "execution_count": null,
            "source": "ma.make_mask(m)",
            "outputs": [
                {
                    "output_type": "execute_result",
                    "metadata": {},
                    "data": {
                        "text/plain": "False"
                    },
                    "execution_count": null
                }
            ]
        },
        {
            "id": "2a4927ba",
            "cell_type": "code",
            "metadata": {},
            "execution_count": null,
            "source": "ma.make_mask(m, shrink=False)",
            "outputs": [
                {
                    "output_type": "execute_result",
                    "metadata": {},
                    "data": {
                        "text/plain": "array([False, False, False, False])"
                    },
                    "execution_count": null
                }
            ]
        },
        {
            "id": "80e626da",
            "cell_type": "markdown",
            "source": "Using a flexible `dtype`.\n",
            "metadata": {}
        },
        {
            "id": "6fda720e",
            "cell_type": "code",
            "metadata": {},
            "execution_count": null,
            "source": "m = [1, 0, 1, 1]\nn = [0, 1, 0, 0]\narr = []\nfor man, mouse in zip(m, n):\n    arr.append((man, mouse))\narr",
            "outputs": [
                {
                    "output_type": "execute_result",
                    "metadata": {},
                    "data": {
                        "text/plain": "[(1, 0), (0, 1), (1, 0), (1, 0)]"
                    },
                    "execution_count": null
                }
            ]
        },
        {
            "id": "1669a2c4",
            "cell_type": "code",
            "metadata": {},
            "execution_count": null,
            "source": "dtype = np.dtype({'names':['man', 'mouse'],\n                  'formats':[np.int64, np.int64]})\narr = np.array(arr, dtype=dtype)\narr",
            "outputs": [
                {
                    "output_type": "execute_result",
                    "metadata": {},
                    "data": {
                        "text/plain": "array([(1, 0), (0, 1), (1, 0), (1, 0)],\n      dtype=[('man', '<i8'), ('mouse', '<i8')])"
                    },
                    "execution_count": null
                }
            ]
        },
        {
            "id": "71b08bf3",
            "cell_type": "code",
            "metadata": {},
            "execution_count": null,
            "source": "ma.make_mask(arr, dtype=dtype)",
            "outputs": [
                {
                    "output_type": "execute_result",
                    "metadata": {},
                    "data": {
                        "text/plain": "array([(True, False), (False, True), (True, False), (True, False)],\n      dtype=[('man', '|b1'), ('mouse', '|b1')])"
                    },
                    "execution_count": null
                }
            ]
        }
    ]
}