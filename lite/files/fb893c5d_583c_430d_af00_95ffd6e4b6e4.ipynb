{
    "nbformat": 4,
    "nbformat_minor": 5,
    "metadata": {
        "kernelspec": {
            "display_name": "Python",
            "language": "python",
            "name": "python"
        },
        "language_info": {
            "name": "python"
        }
    },
    "cells": [
        {
            "id": "bad6af1e",
            "cell_type": "markdown",
            "source": "<div class='alert alert-warning'>\n\nNumPy's interactive examples are experimental and may not always work as expected, with high load times especially on low-resource platforms, and the version of NumPy might not be in sync with the one you are browsing the documentation for. If you encounter any issues, please report them on the [NumPy issue tracker](https://github.com/numpy/numpy/issues).\n\n</div>",
            "metadata": {}
        },
        {
            "id": "6e2be0e5",
            "cell_type": "markdown",
            "source": "A simple ISO date:\n",
            "metadata": {}
        },
        {
            "id": "0efcb833",
            "cell_type": "code",
            "metadata": {},
            "execution_count": null,
            "source": "import numpy as np",
            "outputs": []
        },
        {
            "id": "897ed8f9",
            "cell_type": "code",
            "metadata": {},
            "execution_count": null,
            "source": "np.datetime64('2005-02-25')",
            "outputs": [
                {
                    "output_type": "execute_result",
                    "metadata": {},
                    "data": {
                        "text/plain": "np.datetime64('2005-02-25')"
                    },
                    "execution_count": null
                }
            ]
        },
        {
            "id": "4cd904b7",
            "cell_type": "markdown",
            "source": "From an integer and a date unit, 1 year since the UNIX epoch:\n",
            "metadata": {}
        },
        {
            "id": "01e12381",
            "cell_type": "code",
            "metadata": {},
            "execution_count": null,
            "source": "np.datetime64(1, 'Y')",
            "outputs": [
                {
                    "output_type": "execute_result",
                    "metadata": {},
                    "data": {
                        "text/plain": "np.datetime64('1971')"
                    },
                    "execution_count": null
                }
            ]
        },
        {
            "id": "c73cd850",
            "cell_type": "markdown",
            "source": "Using months for the unit:\n",
            "metadata": {}
        },
        {
            "id": "4ff4a1ad",
            "cell_type": "code",
            "metadata": {},
            "execution_count": null,
            "source": "np.datetime64('2005-02')",
            "outputs": [
                {
                    "output_type": "execute_result",
                    "metadata": {},
                    "data": {
                        "text/plain": "np.datetime64('2005-02')"
                    },
                    "execution_count": null
                }
            ]
        },
        {
            "id": "78337f5e",
            "cell_type": "markdown",
            "source": "Specifying just the month, but forcing a 'days' unit:\n",
            "metadata": {}
        },
        {
            "id": "58610f45",
            "cell_type": "code",
            "metadata": {},
            "execution_count": null,
            "source": "np.datetime64('2005-02', 'D')",
            "outputs": [
                {
                    "output_type": "execute_result",
                    "metadata": {},
                    "data": {
                        "text/plain": "np.datetime64('2005-02-01')"
                    },
                    "execution_count": null
                }
            ]
        },
        {
            "id": "1086c9ed",
            "cell_type": "markdown",
            "source": "From a date and time:\n",
            "metadata": {}
        },
        {
            "id": "c8ffe6c7",
            "cell_type": "code",
            "metadata": {},
            "execution_count": null,
            "source": "np.datetime64('2005-02-25T03:30')",
            "outputs": [
                {
                    "output_type": "execute_result",
                    "metadata": {},
                    "data": {
                        "text/plain": "np.datetime64('2005-02-25T03:30')"
                    },
                    "execution_count": null
                }
            ]
        },
        {
            "id": "450d2a98",
            "cell_type": "markdown",
            "source": "NAT (not a time):\n",
            "metadata": {}
        },
        {
            "id": "162668df",
            "cell_type": "code",
            "metadata": {},
            "execution_count": null,
            "source": "np.datetime64('nat')",
            "outputs": [
                {
                    "output_type": "execute_result",
                    "metadata": {},
                    "data": {
                        "text/plain": "np.datetime64('NaT')"
                    },
                    "execution_count": null
                }
            ]
        }
    ]
}