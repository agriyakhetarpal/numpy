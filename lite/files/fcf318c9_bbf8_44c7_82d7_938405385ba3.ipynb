{
    "nbformat": 4,
    "nbformat_minor": 5,
    "metadata": {
        "kernelspec": {
            "display_name": "Python",
            "language": "python",
            "name": "python"
        },
        "language_info": {
            "name": "python"
        }
    },
    "cells": [
        {
            "id": "12ef0d57",
            "cell_type": "markdown",
            "source": "<div class='alert alert-warning'>\n\nNumPy's interactive examples are experimental and may not always work as expected, with high load times especially on low-resource platforms, and the version of NumPy might not be in sync with the one you are browsing the documentation for. If you encounter any issues, please report them on the [NumPy issue tracker](https://github.com/numpy/numpy/issues).\n\n</div>",
            "metadata": {}
        },
        {
            "id": "703e4cdf",
            "cell_type": "code",
            "metadata": {},
            "execution_count": null,
            "source": "import numpy as np",
            "outputs": []
        },
        {
            "id": "d7075804",
            "cell_type": "markdown",
            "source": "Consider two variables, $x_0$ and $x_1$, which\ncorrelate perfectly, but in opposite directions:\n",
            "metadata": {}
        },
        {
            "id": "3379401f",
            "cell_type": "code",
            "metadata": {},
            "execution_count": null,
            "source": "x = np.array([[0, 2], [1, 1], [2, 0]]).T\nx",
            "outputs": [
                {
                    "output_type": "execute_result",
                    "metadata": {},
                    "data": {
                        "text/plain": "array([[0, 1, 2],\n       [2, 1, 0]])"
                    },
                    "execution_count": null
                }
            ]
        },
        {
            "id": "cb704969",
            "cell_type": "markdown",
            "source": "Note how $x_0$ increases while $x_1$ decreases. The covariance\nmatrix shows this clearly:\n",
            "metadata": {}
        },
        {
            "id": "9545c212",
            "cell_type": "code",
            "metadata": {},
            "execution_count": null,
            "source": "np.cov(x)",
            "outputs": [
                {
                    "output_type": "execute_result",
                    "metadata": {},
                    "data": {
                        "text/plain": "array([[ 1., -1.],\n       [-1.,  1.]])"
                    },
                    "execution_count": null
                }
            ]
        },
        {
            "id": "6506ed7b",
            "cell_type": "markdown",
            "source": "Note that element $C_{0,1}$, which shows the correlation between\n$x_0$ and $x_1$, is negative.\n\nFurther, note how `x` and `y` are combined:\n",
            "metadata": {}
        },
        {
            "id": "7841c12e",
            "cell_type": "code",
            "metadata": {},
            "execution_count": null,
            "source": "x = [-2.1, -1,  4.3]\ny = [3,  1.1,  0.12]\nX = np.stack((x, y), axis=0)\nnp.cov(X)",
            "outputs": [
                {
                    "output_type": "execute_result",
                    "metadata": {},
                    "data": {
                        "text/plain": "array([[11.71      , -4.286     ], # may vary\n       [-4.286     ,  2.144133]])"
                    },
                    "execution_count": null
                }
            ]
        },
        {
            "id": "c96da86a",
            "cell_type": "code",
            "metadata": {},
            "execution_count": null,
            "source": "np.cov(x, y)",
            "outputs": [
                {
                    "output_type": "execute_result",
                    "metadata": {},
                    "data": {
                        "text/plain": "array([[11.71      , -4.286     ], # may vary\n       [-4.286     ,  2.144133]])"
                    },
                    "execution_count": null
                }
            ]
        },
        {
            "id": "5d0c8647",
            "cell_type": "code",
            "metadata": {},
            "execution_count": null,
            "source": "np.cov(x)",
            "outputs": [
                {
                    "output_type": "execute_result",
                    "metadata": {},
                    "data": {
                        "text/plain": "array(11.71)"
                    },
                    "execution_count": null
                }
            ]
        }
    ]
}