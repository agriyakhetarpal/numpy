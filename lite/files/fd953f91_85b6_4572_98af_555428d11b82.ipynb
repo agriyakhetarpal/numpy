{
    "nbformat": 4,
    "nbformat_minor": 5,
    "metadata": {
        "kernelspec": {
            "display_name": "Python",
            "language": "python",
            "name": "python"
        },
        "language_info": {
            "name": "python"
        }
    },
    "cells": [
        {
            "id": "132e5273",
            "cell_type": "markdown",
            "source": "<div class='alert alert-warning'>\n\nNumPy's interactive examples are experimental and may not always work as expected, with high load times especially on low-resource platforms, and the version of NumPy might not be in sync with the one you are browsing the documentation for. If you encounter any issues, please report them on the [NumPy issue tracker](https://github.com/numpy/numpy/issues).\n\n</div>",
            "metadata": {}
        },
        {
            "id": "cde0a00b",
            "cell_type": "code",
            "metadata": {},
            "execution_count": null,
            "source": "np.random.randint(2, size=10)",
            "outputs": [
                {
                    "output_type": "execute_result",
                    "metadata": {},
                    "data": {
                        "text/plain": "array([1, 0, 0, 0, 1, 1, 0, 0, 1, 0]) # random"
                    },
                    "execution_count": null
                }
            ]
        },
        {
            "id": "f5e2e0d3",
            "cell_type": "code",
            "metadata": {},
            "execution_count": null,
            "source": "np.random.randint(1, size=10)",
            "outputs": [
                {
                    "output_type": "execute_result",
                    "metadata": {},
                    "data": {
                        "text/plain": "array([0, 0, 0, 0, 0, 0, 0, 0, 0, 0])"
                    },
                    "execution_count": null
                }
            ]
        },
        {
            "id": "5b4064c1",
            "cell_type": "markdown",
            "source": "Generate a 2 x 4 array of ints between 0 and 4, inclusive:\n",
            "metadata": {}
        },
        {
            "id": "23615f00",
            "cell_type": "code",
            "metadata": {},
            "execution_count": null,
            "source": "np.random.randint(5, size=(2, 4))",
            "outputs": [
                {
                    "output_type": "execute_result",
                    "metadata": {},
                    "data": {
                        "text/plain": "array([[4, 0, 2, 1], # random\n       [3, 2, 2, 0]])"
                    },
                    "execution_count": null
                }
            ]
        },
        {
            "id": "d7326487",
            "cell_type": "markdown",
            "source": "Generate a 1 x 3 array with 3 different upper bounds\n",
            "metadata": {}
        },
        {
            "id": "09c2d9c1",
            "cell_type": "code",
            "metadata": {},
            "execution_count": null,
            "source": "np.random.randint(1, [3, 5, 10])",
            "outputs": [
                {
                    "output_type": "execute_result",
                    "metadata": {},
                    "data": {
                        "text/plain": "array([2, 2, 9]) # random"
                    },
                    "execution_count": null
                }
            ]
        },
        {
            "id": "de7c748b",
            "cell_type": "markdown",
            "source": "Generate a 1 by 3 array with 3 different lower bounds\n",
            "metadata": {}
        },
        {
            "id": "36bf89ba",
            "cell_type": "code",
            "metadata": {},
            "execution_count": null,
            "source": "np.random.randint([1, 5, 7], 10)",
            "outputs": [
                {
                    "output_type": "execute_result",
                    "metadata": {},
                    "data": {
                        "text/plain": "array([9, 8, 7]) # random"
                    },
                    "execution_count": null
                }
            ]
        },
        {
            "id": "972bc01c",
            "cell_type": "markdown",
            "source": "Generate a 2 by 4 array using broadcasting with dtype of uint8\n",
            "metadata": {}
        },
        {
            "id": "da4faf32",
            "cell_type": "code",
            "metadata": {},
            "execution_count": null,
            "source": "np.random.randint([1, 3, 5, 7], [[10], [20]], dtype=np.uint8)",
            "outputs": [
                {
                    "output_type": "execute_result",
                    "metadata": {},
                    "data": {
                        "text/plain": "array([[ 8,  6,  9,  7], # random\n       [ 1, 16,  9, 12]], dtype=uint8)"
                    },
                    "execution_count": null
                }
            ]
        }
    ]
}